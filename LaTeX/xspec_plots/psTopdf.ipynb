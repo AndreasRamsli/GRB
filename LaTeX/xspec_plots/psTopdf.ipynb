{
 "cells": [
  {
   "cell_type": "code",
   "execution_count": 2,
   "id": "744bf653-d6b5-4a0e-9493-b1da9d9f60fc",
   "metadata": {},
   "outputs": [],
   "source": [
    "import os\n",
    "import subprocess"
   ]
  },
  {
   "cell_type": "code",
   "execution_count": 4,
   "id": "2ef5ed48-6118-425d-9933-84a1e67526e0",
   "metadata": {},
   "outputs": [
    {
     "name": "stdout",
     "output_type": "stream",
     "text": [
      "Conversion complete!\n"
     ]
    }
   ],
   "source": [
    "grb = '181222B'\n",
    "folder_path = '/Users/andreas/phys/master/GRB/LaTeX/xspec_plots/'+grb\n",
    "# Iterate through all files in the folder\n",
    "for filename in os.listdir(folder_path):\n",
    "    # Check if the file has a .ps extension\n",
    "    if filename.endswith('.ps'):\n",
    "        # Create the output .pdf file name\n",
    "        pdf_filename = os.path.splitext(filename)[0] + '.pdf'\n",
    "        \n",
    "        # Create the full paths for input and output files\n",
    "        input_file = os.path.join(folder_path, filename)\n",
    "        output_file = os.path.join(folder_path, pdf_filename)\n",
    "\n",
    "        # Run the ps2pdf command to convert the .ps file to .pdf\n",
    "        subprocess.run(['ps2pdf', input_file, output_file], check=True)\n",
    "\n",
    "print(\"Conversion complete!\")"
   ]
  }
 ],
 "metadata": {
  "kernelspec": {
   "display_name": "GRBs",
   "language": "python",
   "name": "grbs"
  },
  "language_info": {
   "codemirror_mode": {
    "name": "ipython",
    "version": 3
   },
   "file_extension": ".py",
   "mimetype": "text/x-python",
   "name": "python",
   "nbconvert_exporter": "python",
   "pygments_lexer": "ipython3",
   "version": "3.10.8"
  }
 },
 "nbformat": 4,
 "nbformat_minor": 5
}
