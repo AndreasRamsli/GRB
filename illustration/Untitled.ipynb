{
 "cells": [
  {
   "cell_type": "code",
   "execution_count": 5,
   "id": "7f3c40cf-d61b-4159-acbc-4a065c748d1d",
   "metadata": {},
   "outputs": [
    {
     "ename": "ModuleNotFoundError",
     "evalue": "No module named 'graphviz'",
     "output_type": "error",
     "traceback": [
      "\u001b[0;31m---------------------------------------------------------------------------\u001b[0m",
      "\u001b[0;31mModuleNotFoundError\u001b[0m                       Traceback (most recent call last)",
      "Cell \u001b[0;32mIn[5], line 1\u001b[0m\n\u001b[0;32m----> 1\u001b[0m \u001b[38;5;28;01mimport\u001b[39;00m \u001b[38;5;21;01mgraphviz\u001b[39;00m\n",
      "\u001b[0;31mModuleNotFoundError\u001b[0m: No module named 'graphviz'"
     ]
    }
   ],
   "source": [
    "import graphviz"
   ]
  },
  {
   "cell_type": "code",
   "execution_count": 6,
   "id": "fd8c3dba-62be-4a75-b4e1-5e3c8968a634",
   "metadata": {},
   "outputs": [
    {
     "data": {
      "text/plain": [
       "'grb_flowchart.png'"
      ]
     },
     "execution_count": 6,
     "metadata": {},
     "output_type": "execute_result"
    }
   ],
   "source": [
    "from graphviz import Digraph\n",
    "\n",
    "# Create a new directed graph\n",
    "grb_flowchart = Digraph(\"GRB_Detection_and_Data_Sources\", format=\"png\")\n",
    "grb_flowchart.attr('graph', rankdir='TB', size='8,5', pad='0.5', bgcolor='white')\n",
    "\n",
    "# Add nodes for the central circle (GRB Detection) and data sources\n",
    "grb_flowchart.node(\"A\", \"GRB Detection\\nand Location\", shape='ellipse', style='filled', fillcolor='white', fontcolor='black', fontsize='12')\n",
    "grb_flowchart.node(\"B\", \"IPN\", shape='box', style='filled', fillcolor='white', fontcolor='black', fontsize='12')\n",
    "grb_flowchart.node(\"C\", \"GRBweb\", shape='box', style='filled', fillcolor='white', fontcolor='black', fontsize='12')\n",
    "grb_flowchart.node(\"D\", \"GCN Archive\", shape='box', style='filled', fillcolor='white', fontcolor='black', fontsize='12')\n",
    "grb_flowchart.node(\"E\", \"ASIM Data\", shape='box', style='filled', fillcolor='white', fontcolor='black', fontsize='12')\n",
    "grb_flowchart.node(\"F\", \"Konus-WIND Data\", shape='box', style='filled', fillcolor='white', fontcolor='black', fontsize='12')\n",
    "grb_flowchart.node(\"G\", \"Fermi/GBM Data\", shape='box', style='filled', fillcolor='white', fontcolor='black', fontsize='12')\n",
    "\n",
    "# Connect each data source node to the central GRB detection node\n",
    "grb_flowchart.edges([\"BA\", \"CA\", \"DA\", \"EA\", \"FA\", \"GA\"])\n",
    "\n",
    "# Save and render the flowchart\n",
    "grb_flowchart.render(\"grb_flowchart\", view=True)"
   ]
  }
 ],
 "metadata": {
  "kernelspec": {
   "display_name": "Python 3 (ipykernel)",
   "language": "python",
   "name": "python3"
  },
  "language_info": {
   "codemirror_mode": {
    "name": "ipython",
    "version": 3
   },
   "file_extension": ".py",
   "mimetype": "text/x-python",
   "name": "python",
   "nbconvert_exporter": "python",
   "pygments_lexer": "ipython3",
   "version": "3.10.8"
  }
 },
 "nbformat": 4,
 "nbformat_minor": 5
}
