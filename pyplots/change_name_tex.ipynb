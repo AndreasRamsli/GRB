{
 "cells": [
  {
   "cell_type": "code",
   "execution_count": 8,
   "id": "19f6f0a9-55b3-4c1c-ac32-5d168558c70d",
   "metadata": {},
   "outputs": [],
   "source": [
    "import os\n",
    "import numpy as np\n"
   ]
  },
  {
   "cell_type": "code",
   "execution_count": 6,
   "id": "238db240-4f61-4bf4-ad70-802c853f1ead",
   "metadata": {},
   "outputs": [],
   "source": [
    "path = \"LED/\""
   ]
  },
  {
   "cell_type": "code",
   "execution_count": 2,
   "id": "1edf1e9b-8d0d-41e0-9238-43bf0ca0e1a3",
   "metadata": {},
   "outputs": [],
   "source": [
    "def change_name(path,flag):\n",
    "    for f in os.listdir(path):\n",
    "        f_strip = f.replace(\" \", \"\")\n",
    "        f_flag = f_strip.replace(\".\",\"_%s.\" %(flag)) \n",
    "        os.rename(path+f,path+f_flag)\n",
    "    return None"
   ]
  },
  {
   "cell_type": "code",
   "execution_count": 7,
   "id": "42a4184a-0b6a-4c48-8875-59fd17ee35ce",
   "metadata": {},
   "outputs": [],
   "source": [
    "change_name(path,\"LED\")"
   ]
  }
 ],
 "metadata": {
  "kernelspec": {
   "display_name": "TF",
   "language": "python",
   "name": "tf"
  },
  "language_info": {
   "codemirror_mode": {
    "name": "ipython",
    "version": 3
   },
   "file_extension": ".py",
   "mimetype": "text/x-python",
   "name": "python",
   "nbconvert_exporter": "python",
   "pygments_lexer": "ipython3",
   "version": "3.8.10"
  }
 },
 "nbformat": 4,
 "nbformat_minor": 5
}
