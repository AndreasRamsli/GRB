{
 "cells": [
  {
   "cell_type": "code",
   "execution_count": 17,
   "id": "ad8dd521-706d-4624-8714-4eeb401c81fd",
   "metadata": {},
   "outputs": [],
   "source": [
    "import os \n",
    "path = \"/Home/siv30/wad005/Downloads/\""
   ]
  },
  {
   "cell_type": "code",
   "execution_count": 18,
   "id": "49c3b88d-8e7e-4c23-97a9-a35062abfcf9",
   "metadata": {},
   "outputs": [],
   "source": [
    "#Will convert all files in path\n",
    "def convert_eps_files_to_pdf_files(path):\n",
    "    for f in os.listdir(path):\n",
    "        command = \"epstopdf %s%s\" % (path,f)\n",
    "        print(command)\n",
    "        os.system(command)\n",
    "    return None"
   ]
  },
  {
   "cell_type": "code",
   "execution_count": 19,
   "id": "19fdcee8-b308-4ec4-8a1b-b7815cfb7ab3",
   "metadata": {},
   "outputs": [
    {
     "name": "stdout",
     "output_type": "stream",
     "text": [
      "epstopdf /Home/siv30/wad005/Downloads/$RECYCLE.BIN\n",
      "epstopdf /Home/siv30/wad005/Downloads/kw20181222_72694_2ms.eps\n"
     ]
    },
    {
     "name": "stderr",
     "output_type": "stream",
     "text": [
      "epstopdf ($Id: epstopdf.pl 48681 2018-09-16 23:03:58Z karl $) 2.28\n",
      "!!! Error: Cannot open /Home/siv30/wad005/Downloads/.BIN: No such file or directory\n"
     ]
    }
   ],
   "source": [
    "convert_eps_files_to_pdf_files(path)"
   ]
  },
  {
   "cell_type": "code",
   "execution_count": 6,
   "id": "fa35bb26-49cc-461c-b1f4-97013f2c3b57",
   "metadata": {},
   "outputs": [],
   "source": [
    "def crop_pdfs(path):\n",
    "    for f in os.listdir(path):\n",
    "        command = \"pdfcrop --margins \" + '\"1 1 1 1\"' + \" \" + '\"%s%s\"' % (path,f) + \" \" + '\"%s%s\"' % (path,f)\n",
    "        os.system(command)\n",
    "    return None"
   ]
  },
  {
   "cell_type": "code",
   "execution_count": 20,
   "id": "6ef7a05e-d74f-4b18-9a92-3934503c1ded",
   "metadata": {},
   "outputs": [
    {
     "name": "stdout",
     "output_type": "stream",
     "text": [
      "PDFCROP 1.38, 2012/11/02 - Copyright (c) 2002-2012 by Heiko Oberdiek.\n",
      "==> 1 page written on `/Home/siv30/wad005/Downloads/kw20181222_72694_2ms.pdf'.\n",
      "PDFCROP 1.38, 2012/11/02 - Copyright (c) 2002-2012 by Heiko Oberdiek.\n",
      "PDFCROP 1.38, 2012/11/02 - Copyright (c) 2002-2012 by Heiko Oberdiek.\n"
     ]
    },
    {
     "name": "stderr",
     "output_type": "stream",
     "text": [
      "!!! Error: Input file `/Home/siv30/wad005/Downloads/.BIN' not found!\n",
      "!!! Error: Cannot find PDF header of `/Home/siv30/wad005/Downloads/kw20181222_72694_2ms.eps'!\n"
     ]
    }
   ],
   "source": [
    "crop_pdfs(\"/Home/siv30/wad005/Downloads/\")"
   ]
  },
  {
   "cell_type": "code",
   "execution_count": null,
   "id": "2781ecc0-43dc-4e56-98fb-13a1611f260e",
   "metadata": {},
   "outputs": [],
   "source": []
  },
  {
   "cell_type": "code",
   "execution_count": null,
   "id": "707b8053-95b6-4f8f-affc-50ec81a954a9",
   "metadata": {},
   "outputs": [],
   "source": []
  }
 ],
 "metadata": {
  "kernelspec": {
   "display_name": "TF",
   "language": "python",
   "name": "tf"
  },
  "language_info": {
   "codemirror_mode": {
    "name": "ipython",
    "version": 3
   },
   "file_extension": ".py",
   "mimetype": "text/x-python",
   "name": "python",
   "nbconvert_exporter": "python",
   "pygments_lexer": "ipython3",
   "version": "3.8.10"
  }
 },
 "nbformat": 4,
 "nbformat_minor": 5
}
