{
 "cells": [
  {
   "cell_type": "code",
   "execution_count": 1,
   "id": "19f6f0a9-55b3-4c1c-ac32-5d168558c70d",
   "metadata": {},
   "outputs": [],
   "source": [
    "import os\n",
    "import numpy as np"
   ]
  },
  {
   "cell_type": "code",
   "execution_count": 2,
   "id": "1edf1e9b-8d0d-41e0-9238-43bf0ca0e1a3",
   "metadata": {},
   "outputs": [],
   "source": [
    "path = \"test/\"\n",
    "def change_name(path):\n",
    "    for file in os.listdir(path):\n",
    "        command = \"mv\" + \" \" + \"%s%s\" %()\n",
    "        print(file)\n",
    "        os.\n",
    "    return None"
   ]
  },
  {
   "cell_type": "code",
   "execution_count": 3,
   "id": "42a4184a-0b6a-4c48-8875-59fd17ee35ce",
   "metadata": {},
   "outputs": [
    {
     "name": "stdout",
     "output_type": "stream",
     "text": [
      "GRB 180807.pdf\n",
      "GRB 181103.pdf\n",
      "GRB 180720.pdf\n"
     ]
    }
   ],
   "source": [
    "change_name(path)"
   ]
  },
  {
   "cell_type": "code",
   "execution_count": null,
   "id": "d09acbd8-fe86-492a-bc4e-fa786d3ebc35",
   "metadata": {},
   "outputs": [],
   "source": []
  },
  {
   "cell_type": "code",
   "execution_count": null,
   "id": "51dbd956-b588-4837-be95-7fd73ede4992",
   "metadata": {},
   "outputs": [],
   "source": []
  }
 ],
 "metadata": {
  "kernelspec": {
   "display_name": "Python 3.9 (tensorflow)",
   "language": "python",
   "name": "tensorflow"
  },
  "language_info": {
   "codemirror_mode": {
    "name": "ipython",
    "version": 3
   },
   "file_extension": ".py",
   "mimetype": "text/x-python",
   "name": "python",
   "nbconvert_exporter": "python",
   "pygments_lexer": "ipython3",
   "version": "3.9.12"
  }
 },
 "nbformat": 4,
 "nbformat_minor": 5
}
