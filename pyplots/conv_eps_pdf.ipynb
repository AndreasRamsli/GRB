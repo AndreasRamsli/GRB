{
 "cells": [
  {
   "cell_type": "code",
   "execution_count": null,
   "id": "ad8dd521-706d-4624-8714-4eeb401c81fd",
   "metadata": {},
   "outputs": [],
   "source": [
    "import os \n",
    "GRB_data_path = \"/Users/andreas/phys/master/GRB/xspec/GRB_data\" #root dir"
   ]
  },
  {
   "cell_type": "code",
   "execution_count": 1,
   "id": "7103d586-c7f5-433a-abeb-b98d10ac27ad",
   "metadata": {},
   "outputs": [
    {
     "name": "stdout",
     "output_type": "stream",
     "text": [
      "epstopdf /Users/andreas/phys/master/GRB/xspec/GRB_data/GRB201227A/GRB201227A.eps --outfile=/Users/andreas/phys/master/GRB/xspec/GRB_data/GRB201227A/GRB201227A.pdf\n",
      "epstopdf /Users/andreas/phys/master/GRB/xspec/GRB_data/GRB200716C/GRB200716C.eps --outfile=/Users/andreas/phys/master/GRB/xspec/GRB_data/GRB200716C/GRB200716C.pdf\n",
      "epstopdf /Users/andreas/phys/master/GRB/xspec/GRB_data/GRB200521A/GRB200521A.eps --outfile=/Users/andreas/phys/master/GRB/xspec/GRB_data/GRB200521A/GRB200521A.pdf\n",
      "epstopdf /Users/andreas/phys/master/GRB/xspec/GRB_data/GRB210619B/Interval2/GRB210619B_int2.eps --outfile=/Users/andreas/phys/master/GRB/xspec/GRB_data/GRB210619B/Interval2/GRB210619B_int2.pdf\n",
      "epstopdf /Users/andreas/phys/master/GRB/xspec/GRB_data/GRB210619B/Interval1/GRB210619B_int1.eps --outfile=/Users/andreas/phys/master/GRB/xspec/GRB_data/GRB210619B/Interval1/GRB210619B_int1.pdf\n",
      "epstopdf /Users/andreas/phys/master/GRB/xspec/GRB_data/GRB190606A/GRB190606A.eps --outfile=/Users/andreas/phys/master/GRB/xspec/GRB_data/GRB190606A/GRB190606A.pdf\n",
      "epstopdf /Users/andreas/phys/master/GRB/xspec/GRB_data/GRB190206A/GRB190206A.eps --outfile=/Users/andreas/phys/master/GRB/xspec/GRB_data/GRB190206A/GRB190206A.pdf\n",
      "epstopdf /Users/andreas/phys/master/GRB/xspec/GRB_data/GRB190305A/GRB190305A.eps --outfile=/Users/andreas/phys/master/GRB/xspec/GRB_data/GRB190305A/GRB190305A.pdf\n",
      "epstopdf /Users/andreas/phys/master/GRB/xspec/GRB_data/GRB181222B/Interval2/GRB181222B_int2.eps --outfile=/Users/andreas/phys/master/GRB/xspec/GRB_data/GRB181222B/Interval2/GRB181222B_int2.pdf\n",
      "epstopdf /Users/andreas/phys/master/GRB/xspec/GRB_data/GRB181222B/Interval1/GRB181222B_int1.eps --outfile=/Users/andreas/phys/master/GRB/xspec/GRB_data/GRB181222B/Interval1/GRB181222B_int1.pdf\n",
      "epstopdf /Users/andreas/phys/master/GRB/xspec/GRB_data/GRB211211A/i_1/GRB211211A_int1.eps --outfile=/Users/andreas/phys/master/GRB/xspec/GRB_data/GRB211211A/i_1/GRB211211A_int1.pdf\n",
      "PDFCROP 1.40, 2020/06/06 - Copyright (c) 2002-2020 by Heiko Oberdiek, Oberdiek Package Support Group.\n",
      "==> 1 page written on `/Users/andreas/phys/master/GRB/xspec/GRB_data/GRB201227A/GRB201227A.pdf'.\n",
      "PDFCROP 1.40, 2020/06/06 - Copyright (c) 2002-2020 by Heiko Oberdiek, Oberdiek Package Support Group.\n",
      "==> 1 page written on `/Users/andreas/phys/master/GRB/xspec/GRB_data/GRB200716C/GRB200716C.pdf'.\n",
      "PDFCROP 1.40, 2020/06/06 - Copyright (c) 2002-2020 by Heiko Oberdiek, Oberdiek Package Support Group.\n",
      "==> 1 page written on `/Users/andreas/phys/master/GRB/xspec/GRB_data/GRB200521A/GRB200521A.pdf'.\n",
      "PDFCROP 1.40, 2020/06/06 - Copyright (c) 2002-2020 by Heiko Oberdiek, Oberdiek Package Support Group.\n",
      "==> 1 page written on `/Users/andreas/phys/master/GRB/xspec/GRB_data/GRB210619B/Interval2/GRB210619B_int2.pdf'.\n",
      "PDFCROP 1.40, 2020/06/06 - Copyright (c) 2002-2020 by Heiko Oberdiek, Oberdiek Package Support Group.\n",
      "==> 1 page written on `/Users/andreas/phys/master/GRB/xspec/GRB_data/GRB210619B/Interval1/GRB210619B_int1.pdf'.\n",
      "PDFCROP 1.40, 2020/06/06 - Copyright (c) 2002-2020 by Heiko Oberdiek, Oberdiek Package Support Group.\n",
      "==> 1 page written on `/Users/andreas/phys/master/GRB/xspec/GRB_data/GRB190606A/GRB190606A.pdf'.\n",
      "PDFCROP 1.40, 2020/06/06 - Copyright (c) 2002-2020 by Heiko Oberdiek, Oberdiek Package Support Group.\n",
      "==> 1 page written on `/Users/andreas/phys/master/GRB/xspec/GRB_data/GRB190206A/GRB190206A.pdf'.\n",
      "PDFCROP 1.40, 2020/06/06 - Copyright (c) 2002-2020 by Heiko Oberdiek, Oberdiek Package Support Group.\n",
      "==> 1 page written on `/Users/andreas/phys/master/GRB/xspec/GRB_data/GRB190305A/GRB190305A.pdf'.\n",
      "PDFCROP 1.40, 2020/06/06 - Copyright (c) 2002-2020 by Heiko Oberdiek, Oberdiek Package Support Group.\n",
      "==> 1 page written on `/Users/andreas/phys/master/GRB/xspec/GRB_data/GRB181222B/Interval2/GRB181222B_int2.pdf'.\n",
      "PDFCROP 1.40, 2020/06/06 - Copyright (c) 2002-2020 by Heiko Oberdiek, Oberdiek Package Support Group.\n",
      "==> 1 page written on `/Users/andreas/phys/master/GRB/xspec/GRB_data/GRB181222B/Interval1/GRB181222B_int1.pdf'.\n",
      "PDFCROP 1.40, 2020/06/06 - Copyright (c) 2002-2020 by Heiko Oberdiek, Oberdiek Package Support Group.\n",
      "==> 1 page written on `/Users/andreas/phys/master/GRB/xspec/GRB_data/GRB211211A/GRB211211A_LC.pdf'.\n",
      "PDFCROP 1.40, 2020/06/06 - Copyright (c) 2002-2020 by Heiko Oberdiek, Oberdiek Package Support Group.\n",
      "==> 1 page written on `/Users/andreas/phys/master/GRB/xspec/GRB_data/GRB211211A/i_1/GRB211211A_int1.pdf'.\n"
     ]
    }
   ],
   "source": [
    "import os\n",
    "\n",
    "GRB_data_path = \"/Users/andreas/phys/master/GRB/xspec/GRB_data\" #root dir\n",
    "\n",
    "def convert_eps_files_to_pdf_files(root_path):\n",
    "    for dirpath, dirnames, filenames in os.walk(root_path):\n",
    "        for f in filenames:\n",
    "            if f.endswith('.eps'):\n",
    "                full_path = os.path.join(dirpath, f)\n",
    "                output_file = full_path.replace('.eps', '.pdf')\n",
    "                command = f\"epstopdf {full_path} --outfile={output_file}\"\n",
    "                print(command)\n",
    "                os.system(command)\n",
    "\n",
    "def crop_pdfs(root_path):\n",
    "    for dirpath, dirnames, filenames in os.walk(root_path):\n",
    "        for f in filenames:\n",
    "            if f.endswith('.pdf'):\n",
    "                full_path = os.path.join(dirpath, f)\n",
    "                command = f\"pdfcrop --margins '1 1 1 1' {full_path} {full_path}\"\n",
    "                os.system(command)\n",
    "\n",
    "# Call the functions\n",
    "convert_eps_files_to_pdf_files(GRB_data_path)\n",
    "crop_pdfs(GRB_data_path)\n"
   ]
  },
  {
   "cell_type": "code",
   "execution_count": 2,
   "id": "707b8053-95b6-4f8f-affc-50ec81a954a9",
   "metadata": {},
   "outputs": [
    {
     "data": {
      "text/plain": [
       "'Moved .pdf and .eps files to /Users/andreas/phys/master/GRB/xspec/GRB_data/plots'"
      ]
     },
     "execution_count": 2,
     "metadata": {},
     "output_type": "execute_result"
    }
   ],
   "source": [
    "import os\n",
    "import shutil\n",
    "\n",
    "def move_files_to_plots_folder():\n",
    "    # Source directory where the files are located\n",
    "    source_dir = \"/Users/andreas/phys/master/GRB/xspec/GRB_data\"\n",
    "    \n",
    "    # Target directory where the files will be moved\n",
    "    target_dir = \"/Users/andreas/phys/master/GRB/xspec/GRB_data/plots\"\n",
    "    \n",
    "    # Ensure that the target directory exists\n",
    "    if not os.path.exists(target_dir):\n",
    "        os.makedirs(target_dir)\n",
    "    \n",
    "    # Walk through the source directory\n",
    "    for dirpath, dirnames, filenames in os.walk(source_dir):\n",
    "        for filename in filenames:\n",
    "            if filename.endswith(\".pdf\") or filename.endswith(\".eps\"):\n",
    "                # Construct the full file path\n",
    "                file_path = os.path.join(dirpath, filename)\n",
    "                # Move the file to the target directory\n",
    "                shutil.move(file_path, os.path.join(target_dir, filename))\n",
    "\n",
    "    return f\"Moved .pdf and .eps files to {target_dir}\"\n",
    "\n",
    "# Execute the function\n",
    "move_files_to_plots_folder()"
   ]
  }
 ],
 "metadata": {
  "kernelspec": {
   "display_name": "GRBs",
   "language": "python",
   "name": "grbs"
  },
  "language_info": {
   "codemirror_mode": {
    "name": "ipython",
    "version": 3
   },
   "file_extension": ".py",
   "mimetype": "text/x-python",
   "name": "python",
   "nbconvert_exporter": "python",
   "pygments_lexer": "ipython3",
   "version": "3.10.8"
  }
 },
 "nbformat": 4,
 "nbformat_minor": 5
}
