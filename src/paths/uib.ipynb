{
 "cells": [
  {
   "cell_type": "code",
   "execution_count": 2,
   "id": "375b1e16-ee8f-4202-a512-2a2f1f12a705",
   "metadata": {},
   "outputs": [
    {
     "name": "stdout",
     "output_type": "stream",
     "text": [
      "\n",
      "all UiB paths loaded\n"
     ]
    }
   ],
   "source": [
    "#paths for working on UiB machine\n",
    "import sys\n",
    "#read_matlab_file \n",
    "sys.path.insert(0, '/Home/siv30/wad005/useful_py_functions') #UiB\n",
    "%run /Home/siv30/wad005/useful_py_functions/matplotlib_custom_style_and_macros.py\n",
    "\n",
    "path_HED = \"/Home/siv30/wad005/master/GRB/MATLAB/output/file_mat_TGF/\"              #UiB\n",
    "path_LED = \"/Home/siv30/wad005/master/GRB/MATLAB/CZT_calibration/file_mat_CZT_TGF/\" #UiB\n",
    "path_out = \"/Home/siv30/wad005/master/GRB/pyplots/HED/\"\n",
    "\n",
    "#convert_erg\n",
    "path_coef = \"/Home/siv30/wad005/master/GRB/ASIM/COEFS/BGO/\"\n",
    "\n",
    "#safety_time\n",
    "path_ST = \"/Home/siv30/wad005/master/GRB/safety_time/safety_time.csv\"\n",
    "\n",
    "#LC_rebin\n",
    "\n",
    "#XSPEC\n",
    "bin_edges_path = \"/Home/siv30/wad005/master/GRB/spectral_analysis/\"\n",
    "kw_lc_path = \"/Home/siv30/wad005/master/GRB/kw_lc/\"\n",
    "\n",
    "#GBM\n",
    "path_FERMI_dir = '/Home/siv30/wad005/master/GRB_local/FERMI_data/'\n",
    "\n",
    "#DRM\n",
    "drm_path = '/Home/siv30/wad005/master/HED_DRM/data/'\n",
    "print(\"all UiB paths loaded\")"
   ]
  }
 ],
 "metadata": {
  "kernelspec": {
   "display_name": "base",
   "language": "python",
   "name": "base"
  },
  "language_info": {
   "codemirror_mode": {
    "name": "ipython",
    "version": 3
   },
   "file_extension": ".py",
   "mimetype": "text/x-python",
   "name": "python",
   "nbconvert_exporter": "python",
   "pygments_lexer": "ipython3",
   "version": "3.9.13"
  }
 },
 "nbformat": 4,
 "nbformat_minor": 5
}
