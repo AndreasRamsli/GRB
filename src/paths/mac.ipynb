{
 "cells": [
  {
   "cell_type": "code",
   "execution_count": 3,
   "id": "a9199894-fe96-4d14-b78e-2256998168ef",
   "metadata": {},
   "outputs": [],
   "source": [
    "#paths for working on Mac \n",
    "import sys\n",
    "#read_matlab_file\n",
    "sys.path.insert(0, \"/Users/andreas/fun/useful_py_func/\") \n",
    "path_HED = \"/Users/andreas/phys/master/GRB/MATLAB/output/file_mat_TGF/\"               \n",
    "path_LED = \"/Users/andreas/phys/master/GRB/MATLAB/CZT_calibration/file_mat_CZT_TGF/\"  \n",
    "path_out_HED = '/Users/andreas/phys/master/GRB/pyplots/HED/'\n",
    "path_out_LED = '/Users/andreas/phys/master/GRB/pyplots/LED/'\n",
    "\n",
    "#convert_erg\n",
    "path_coef = \"/Users/andreas/phys/master/GRB/ASIM/COEFS/BGO/\"\n",
    "\n",
    "#safety_time\n",
    "path_ST = \"/Users/andreas/phys/master/GRB/safety_time/safety_time.csv\"\n",
    "\n",
    "\n",
    "#LC_rebind\n",
    "\n",
    "\n",
    "\n",
    "\n",
    "\n",
    "\n"
   ]
  }
 ],
 "metadata": {
  "kernelspec": {
   "display_name": "base",
   "language": "python",
   "name": "base"
  },
  "language_info": {
   "codemirror_mode": {
    "name": "ipython",
    "version": 3
   },
   "file_extension": ".py",
   "mimetype": "text/x-python",
   "name": "python",
   "nbconvert_exporter": "python",
   "pygments_lexer": "ipython3",
   "version": "3.9.13"
  }
 },
 "nbformat": 4,
 "nbformat_minor": 5
}
