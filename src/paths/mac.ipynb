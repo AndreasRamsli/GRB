{
 "cells": [
  {
   "cell_type": "code",
   "execution_count": 1,
   "id": "a9199894-fe96-4d14-b78e-2256998168ef",
   "metadata": {},
   "outputs": [
    {
     "name": "stdout",
     "output_type": "stream",
     "text": [
      "All MAC paths are set!\n"
     ]
    }
   ],
   "source": [
    "#paths for working on Mac \n",
    "import sys\n",
    "#read_matlab_file\n",
    "sys.path.insert(0, \"/Users/andreas/fun/useful_py_func/\") \n",
    "path_HED = \"/Users/andreas/phys/master/GRB/MATLAB/output/file_mat_TGF/\"               \n",
    "path_LED = \"/Users/andreas/phys/master/GRB/MATLAB/CZT_calibration/file_mat_CZT_TGF/\"  \n",
    "path_out_HED = '/Users/andreas/phys/master/GRB/pyplots/HED/'\n",
    "path_out_LED = '/Users/andreas/phys/master/GRB/pyplots/LED/'\n",
    "\n",
    "#convert_erg\n",
    "path_coef = \"/Users/andreas/phys/master/GRB/ASIM/COEFS/BGO/\"\n",
    "\n",
    "#safety_time\n",
    "path_ST = \"/Users/andreas/phys/master/GRB/safety_time/safety_time.csv\"\n",
    "\n",
    "\n",
    "#LC_rebind\n",
    "\n",
    "\n",
    "#XPEC\n",
    "path_keV_hist = \"/Users/andreas/phys/master/GRB/spectral_analysis/keV_histograms/\"\n",
    "bin_edges_path = \"/Users/andreas/phys/master/GRB/spectral_analysis/\"\n",
    "kw_lc_path = \"/Users/andreas/phys/master/GRB/kw_lc/\"\n",
    "\n",
    "\n",
    "#FERMI\n",
    "path_FERMI_dir='/Users/andreas/phys/master/FERMI/data/'\n",
    "\n",
    "\n",
    "\n",
    "print(\"All MAC paths are set!\")\n",
    "\n",
    "\n"
   ]
  }
 ],
 "metadata": {
  "kernelspec": {
   "display_name": "base",
   "language": "python",
   "name": "base"
  },
  "language_info": {
   "codemirror_mode": {
    "name": "ipython",
    "version": 3
   },
   "file_extension": ".py",
   "mimetype": "text/x-python",
   "name": "python",
   "nbconvert_exporter": "python",
   "pygments_lexer": "ipython3",
   "version": "3.9.7"
  }
 },
 "nbformat": 4,
 "nbformat_minor": 5
}
