{
 "cells": [
  {
   "cell_type": "markdown",
   "id": "689eed9e-9def-4895-bf55-8db31fb0ec3c",
   "metadata": {},
   "source": [
    "# imports"
   ]
  },
  {
   "cell_type": "code",
   "execution_count": 15,
   "id": "22eadbbe-59e8-43be-94b1-34f599719efb",
   "metadata": {},
   "outputs": [
    {
     "name": "stdout",
     "output_type": "stream",
     "text": [
      "read_matlab_file.ipynb loaded successfully!\n",
      "read_matlab_file.ipynb loaded successfully!\n",
      "convert_erg.ipynb loaded successfully!\n"
     ]
    }
   ],
   "source": [
    "%run read_matlab_file.ipynb\n",
    "%run convert_erg.ipynb\n",
    "pd.set_option(\"display.max_rows\", 1000, \"display.max_columns\", 1000)"
   ]
  },
  {
   "cell_type": "markdown",
   "id": "57aa029c-f775-40b3-b06b-a5eea051d0f0",
   "metadata": {},
   "source": [
    "# TODO\n",
    "\n",
    "-Make the correct estimation of safety time from keV array\n",
    "\n",
    "-BUG: Should sort the df first by adr, and then tus. THEN implement the safety time criteria for the same detector! dumbass...\n",
    "\n",
    "-Another criteria for safety time: check must be for the same adress (detector)\n"
   ]
  },
  {
   "cell_type": "markdown",
   "id": "23944cc5-9dfa-4c3b-ab30-156ceb93255e",
   "metadata": {},
   "source": [
    "# Notes\n",
    "Pandas syntax:\n",
    "\n",
    "-iloc retrives the chronological index \n",
    "\n",
    "-loc retrives the label index "
   ]
  },
  {
   "cell_type": "markdown",
   "id": "16e363fd-afc4-4b51-8f95-86bef98f8b36",
   "metadata": {},
   "source": [
    "# Satety time DF"
   ]
  },
  {
   "cell_type": "code",
   "execution_count": 2,
   "id": "9cd63d40-ecbc-4649-9663-ef715a2ecf26",
   "metadata": {},
   "outputs": [
    {
     "data": {
      "text/html": [
       "<div>\n",
       "<style scoped>\n",
       "    .dataframe tbody tr th:only-of-type {\n",
       "        vertical-align: middle;\n",
       "    }\n",
       "\n",
       "    .dataframe tbody tr th {\n",
       "        vertical-align: top;\n",
       "    }\n",
       "\n",
       "    .dataframe thead th {\n",
       "        text-align: right;\n",
       "    }\n",
       "</style>\n",
       "<table border=\"1\" class=\"dataframe\">\n",
       "  <thead>\n",
       "    <tr style=\"text-align: right;\">\n",
       "      <th></th>\n",
       "      <th>adr</th>\n",
       "      <th>dau</th>\n",
       "      <th>det</th>\n",
       "      <th>E0_kev</th>\n",
       "      <th>minimum_dt_us</th>\n",
       "    </tr>\n",
       "  </thead>\n",
       "  <tbody>\n",
       "    <tr>\n",
       "      <th>0</th>\n",
       "      <td>1</td>\n",
       "      <td>1</td>\n",
       "      <td>1</td>\n",
       "      <td>400</td>\n",
       "      <td>0</td>\n",
       "    </tr>\n",
       "    <tr>\n",
       "      <th>1</th>\n",
       "      <td>1</td>\n",
       "      <td>1</td>\n",
       "      <td>1</td>\n",
       "      <td>500</td>\n",
       "      <td>1</td>\n",
       "    </tr>\n",
       "    <tr>\n",
       "      <th>2</th>\n",
       "      <td>1</td>\n",
       "      <td>1</td>\n",
       "      <td>1</td>\n",
       "      <td>1000</td>\n",
       "      <td>3</td>\n",
       "    </tr>\n",
       "    <tr>\n",
       "      <th>3</th>\n",
       "      <td>1</td>\n",
       "      <td>1</td>\n",
       "      <td>1</td>\n",
       "      <td>2500</td>\n",
       "      <td>11</td>\n",
       "    </tr>\n",
       "    <tr>\n",
       "      <th>4</th>\n",
       "      <td>1</td>\n",
       "      <td>1</td>\n",
       "      <td>1</td>\n",
       "      <td>3000</td>\n",
       "      <td>13</td>\n",
       "    </tr>\n",
       "  </tbody>\n",
       "</table>\n",
       "</div>"
      ],
      "text/plain": [
       "   adr  dau  det  E0_kev  minimum_dt_us\n",
       "0    1    1    1     400              0\n",
       "1    1    1    1     500              1\n",
       "2    1    1    1    1000              3\n",
       "3    1    1    1    2500             11\n",
       "4    1    1    1    3000             13"
      ]
     },
     "execution_count": 2,
     "metadata": {},
     "output_type": "execute_result"
    }
   ],
   "source": [
    "st_df = pd.read_csv(path_ST)\n",
    "st_df = st_df.rename(columns={\"pmt\":\"det\"})\n",
    "st_df.head()"
   ]
  },
  {
   "cell_type": "markdown",
   "id": "8d474c69-0ddb-47e2-973c-327eb58f4c3b",
   "metadata": {},
   "source": [
    "# cutting df"
   ]
  },
  {
   "cell_type": "code",
   "execution_count": 3,
   "id": "3f5cdf2b-3562-4da1-9062-b766d5ff88c5",
   "metadata": {},
   "outputs": [],
   "source": [
    "#Cutting indecies: there is always 23 rows for each detector\n",
    "#for i in np.arange(0,275,23):\n",
    "#    print(i-1)"
   ]
  },
  {
   "cell_type": "code",
   "execution_count": 4,
   "id": "c95be994-c6ed-4433-ba18-ea5a3bbe9188",
   "metadata": {},
   "outputs": [],
   "source": [
    "adr_1_df = st_df.truncate(after=22)\n",
    "adr_2_df = st_df.truncate(before=23,after=45)\n",
    "adr_3_df = st_df.truncate(before=46,after=68)\n",
    "adr_4_df = st_df.truncate(before=69,after=91)\n",
    "adr_5_df = st_df.truncate(before=92,after=114)\n",
    "adr_6_df = st_df.truncate(before=115,after=137)\n",
    "adr_7_df = st_df.truncate(before=138,after=160)\n",
    "adr_8_df = st_df.truncate(before=161,after=183)\n",
    "adr_9_df = st_df.truncate(before=184,after=206)\n",
    "adr_10_df = st_df.truncate(before=207,after=229)\n",
    "adr_11_df = st_df.truncate(before=230,after=252)\n",
    "adr_12_df = st_df.truncate(before=253)\n",
    "\n",
    "adr_df_list = [adr_1_df,adr_2_df, adr_3_df,adr_4_df,  adr_5_df,adr_6_df,  adr_7_df,adr_8_df,  adr_9_df,adr_10_df,  adr_11_df,adr_12_df] #validated ok!"
   ]
  },
  {
   "cell_type": "markdown",
   "id": "4fb98b32-978b-4aa5-8ecf-2ba6dc09eeb5",
   "metadata": {},
   "source": [
    "# Interpolation of safety time as a function energy of for all the detectors"
   ]
  },
  {
   "cell_type": "markdown",
   "id": "2afa842c-710d-46ac-b9b9-0bdd8f7e105a",
   "metadata": {},
   "source": [
    "#Creating 6x2 subplots for all the safety time estimates for all the detectors\n",
    "fig, (axs1,axs2,axs3,axs4,axs5,axs6) = plt.subplots(6,2,figsize=(12,15))\n",
    "axs_list = [axs1,axs2,axs3,axs4,axs5,axs6]\n",
    "for i,axs in enumerate(axs_list):\n",
    "    first_idx = i*2\n",
    "    sec_idx = i*2 +1\n",
    "    \n",
    "    dt_0 = adr_df_list[first_idx][\"minimum_dt_us\"].values\n",
    "    keV_0 = adr_df_list[first_idx][\"E0_kev\"].values\n",
    "    f_0 = interpolate.interp1d(dt_0, keV_0) #fill_value=\"extrapolate\"  --> specifying what happens if one specifies an input value that is out of bounds used for general function\n",
    "    dt_0_new = np.arange(min(dt_0),max(dt_0),0.01)\n",
    "    keV_0_new = f_0(dt_0_new)\n",
    "\n",
    "    axs[0].plot(dt_0, keV_0,'r+',label=\"Data point\")\n",
    "    axs[0].plot(dt_0_new, keV_0_new, '--',label=\"Interpolation\")\n",
    "    axs[0].set_yscale('log')\n",
    "    axs[0].set_title(\"Adr {}\".format(str(first_idx + 1)), fontweight='bold')\n",
    "    axs[0].set_xlabel('Safety time [us]')\n",
    "    axs[0].set_ylabel('Energy [keV]')\n",
    "    axs[0].legend()\n",
    "    \n",
    "    dt_1 = adr_df_list[sec_idx][\"minimum_dt_us\"].values\n",
    "    keV_1 = adr_df_list[sec_idx][\"E0_kev\"].values\n",
    "    f_1 = interpolate.interp1d(dt_1, keV_1) #fill_value=\"extrapolate\"  --> specifying what happens if one specifies an input value that is out of bounds used for general function\n",
    "    dt_1_new = np.arange(min(dt_1),max(dt_1),0.01)\n",
    "    keV_1_new = f_1(dt_1_new)\n",
    "    \n",
    "    axs[1].plot(dt_1, keV_1, 'r+',label=\"Data point\")\n",
    "    axs[1].plot(dt_1_new, keV_1_new, '--',label=\"Interpolation\")\n",
    "    axs[1].set_yscale('log')\n",
    "    axs[1].set_title(\"Adr {}\".format(str(sec_idx + 1)), fontweight='bold')\n",
    "    axs[1].set_xlabel('Safety time [us]')\n",
    "    axs[1].set_ylabel('Energy [keV]')\n",
    "    axs[1].legend()\n",
    "    \n",
    "fig.tight_layout()\n",
    "plt.show()"
   ]
  },
  {
   "cell_type": "markdown",
   "id": "8914e251-3052-496e-866c-e2d3fedf6ab0",
   "metadata": {},
   "source": [
    "dt_arr = adr_df_list[0][\"minimum_dt_us\"].values\n",
    "keV_arr = adr_df_list[0][\"E0_kev\"].values\n",
    "f = interpolate.interp1d(keV_arr,dt_arr,fill_value=\"extrapolate\",bounds_error=False) #fill_value=\"extrapolate\"  --> specifying what happens if one specifies an input value that is out of bounds used for general function\n",
    "keV_new = np.arange(min(keV_arr),max(keV_arr),0.01)\n",
    "dt_new = f(keV_new)\n",
    "plt.plot(keV_arr,dt_arr, 'r+', keV_new, dt_new,'--') #, keV_new,dt_new,'-'\n",
    "plt.xscale('log')\n",
    "plt.xlabel('[keV]')\n",
    "plt.ylabel(\"[us]\")\n",
    "plt.title(\"Safety time as a function of energy\")\n",
    "plt.show()"
   ]
  },
  {
   "cell_type": "markdown",
   "id": "4e7ee076-47f8-4115-97ab-d0ba4b6792c5",
   "metadata": {},
   "source": [
    "# Getter functions for estimating safety time"
   ]
  },
  {
   "cell_type": "code",
   "execution_count": 16,
   "id": "9b6b0a09-360b-417c-bfd1-1d434f8dc6a9",
   "metadata": {},
   "outputs": [],
   "source": [
    "def est_st(adr=None,keV=None):\n",
    "    \"\"\"Estimating safetytime for a given adr to detector\n",
    "    and a given keV from energy channel\"\"\"\n",
    "    if keV<=400:\n",
    "        return 0\n",
    "    else:\n",
    "        dt_arr = adr_df_list[adr-1][\"minimum_dt_us\"].values\n",
    "        keV_arr = adr_df_list[adr-1][\"E0_kev\"].values\n",
    "        f = interp1d(keV_arr,dt_arr,fill_value=\"extrapolate\",bounds_error=False) #fill_value=\"extrapolate\"  --> specifying what happens if one specifies an input value that is out of bounds used for general function\n",
    "        sf = f(keV)\n",
    "        return float(sf)"
   ]
  },
  {
   "cell_type": "code",
   "execution_count": 6,
   "id": "0e163c13-acd0-4207-b6db-2945c2c86e4a",
   "metadata": {},
   "outputs": [],
   "source": [
    "def get_st(df):\n",
    "    st_temp = []\n",
    "    adr_arr = df[\"adr\"].to_numpy()\n",
    "    keV_arr = df[\"keV\"].to_numpy()\n",
    "    \n",
    "    for i,keV in enumerate(keV_arr):\n",
    "         st_temp.append(est_st(adr_arr[i],keV))\n",
    "    return st_temp"
   ]
  },
  {
   "cell_type": "code",
   "execution_count": 7,
   "id": "35a28551-08cf-4e7a-8183-26bbe708e36f",
   "metadata": {},
   "outputs": [],
   "source": [
    "def get_dt(df):\n",
    "    dt_temp = []\n",
    "    adr_arr = df[\"adr\"].to_numpy()\n",
    "    tus_arr = df[\"tus\"].to_numpy()\n",
    "    \n",
    "    for i,tus in enumerate(tus_arr):\n",
    "        if i == 0:\n",
    "            dt_temp.append(None) #at the start of the array. No dt to next because its the last one\n",
    "        elif adr_arr[i] != adr_arr[i-1]:\n",
    "            dt_temp.append(None) #No prev trigger at border\n",
    "        else:\n",
    "            dt_temp.append(np.abs(tus-tus_arr[i-1])) #appending the dt \n",
    "    return dt_temp"
   ]
  },
  {
   "cell_type": "code",
   "execution_count": 17,
   "id": "3f74c82f-f347-465b-ac95-609e6031de01",
   "metadata": {},
   "outputs": [],
   "source": [
    "def get_flag(df):\n",
    "    \"\"\"Improvement!\n",
    "    Have located where the st criteria first have been set.\n",
    "    But now: flag the following events that have triggered BEFORE the safety time have lapsed.\n",
    "    \n",
    "    ITS THE TRIGGERS AFTER A HIGH ENERGY READING THAT NEEDS TO BE FLAGGED\n",
    "    \n",
    "    FUNCTION SHOULD ALSO FLAG FAST EVENTS. automatically flag them. if typ=1 >>flag elif dt<st >>flag\n",
    "    \n",
    "    \"\"\"\n",
    "    st_arr = df[\"st\"].to_numpy()\n",
    "    dt_arr = df[\"dt\"].to_numpy()\n",
    "    typ_arr = df[\"typ\"].to_numpy()\n",
    "\n",
    "    flag = []\n",
    "    i = 0\n",
    "    while i < len(st_arr):\n",
    "        if dt_arr[i] >= st_arr[i-1]:\n",
    "            if typ_arr[i] == 3:\n",
    "                flag.append(True) #flagging valleys and overflow events\n",
    "                i+=1\n",
    "            else:\n",
    "                flag.append(False)\n",
    "                i+=1\n",
    "        elif dt_arr[i] <= st_arr[i-1]:\n",
    "            st = st_arr[i-1]\n",
    "            diff = dt_arr[i]\n",
    "            flags = 0\n",
    "            i += 1\n",
    "            while diff < st:\n",
    "                diff += dt_arr[i]\n",
    "                flags += 1\n",
    "                i +=1\n",
    "            flag.extend(flags*[True])\n",
    "            i -= 1\n",
    "        else:\n",
    "            flag.append(False)\n",
    "            i += 1\n",
    "            \n",
    "    if len(flag) == len(st_arr):\n",
    "        return flag\n",
    "    else:\n",
    "        print(\"the shape of the flag array is not correct\")\n",
    "        "
   ]
  },
  {
   "cell_type": "markdown",
   "id": "ae5c11f4-e4ff-4007-8a06-b9d53f2e5097",
   "metadata": {},
   "source": [
    "# Debugg"
   ]
  },
  {
   "cell_type": "markdown",
   "id": "6a782c85-ca22-464d-b63b-e85e2fa53adc",
   "metadata": {},
   "source": [
    "df_A = pd.read_csv(\"/Home/siv30/wad005/master/GRB/safety_time/HED_GRB200415_inc_valley_ST.csv\",sep=\",\") #UIB\n",
    "#df_A = pd.read_csv(\"/Users/andreas/phys/master/GRB/safety_time/new_safety_time.csv\",sep=\",\")\n",
    "df_A = df_A.rename(columns={\"kev\":\"keV\"}) \n",
    "print(df_A.shape)\n",
    "df_A.head()"
   ]
  },
  {
   "cell_type": "markdown",
   "id": "25b586d0-3d45-4faa-a430-b5f888c75082",
   "metadata": {},
   "source": [
    "df_A = pd.read_csv(\"/Home/siv30/wad005/master/GRB/safety_time/HED_GRB200415_inc_valley_ST.csv\",sep=\",\") #UIB\n",
    "#df_A = pd.read_csv(\"/Users/andreas/phys/master//GRB/safety_time/new_safety_time.csv\",sep=\",\")\n",
    "df_A = df_A.rename(columns={\"kev\":\"keV\"}) \n",
    "df_A = df_A.sort_values(by=['adr','tus'])\n",
    "print(df_A.shape)\n",
    "\n",
    "st_list = get_st(df_A)\n",
    "df_A[\"st\"] = st_list\n",
    "dt_list = get_dt(df_A)\n",
    "df_A[\"dt\"] = dt_list\n",
    "flag_list = get_flag(df_A)\n",
    "\n",
    "df_A[\"flag\"] = flag_list\n",
    "\n",
    "#df_A = df_A.iloc[3768:3778]\n",
    "df_A = df_A.drop(columns=[\"cal_abc\"])\n",
    "#df_A = df_A.set_index(np.arange(0,len(df_A[\"st\"])))"
   ]
  },
  {
   "cell_type": "code",
   "execution_count": 9,
   "id": "808a9dc8-7bb5-4e8b-b6ce-786f10982083",
   "metadata": {},
   "outputs": [],
   "source": [
    "#VD = np.nonzero(df_A[\"remove_VD\"].to_numpy())[0]\n",
    "#len(VD) #two type three events have not been flagged"
   ]
  },
  {
   "cell_type": "code",
   "execution_count": 10,
   "id": "f7e16fb3-b615-4c87-8b35-c7f0854accdf",
   "metadata": {},
   "outputs": [],
   "source": [
    "#f = np.nonzero(df_A[\"flag\"].to_numpy())[0]\n",
    "#len(f) #flagged those two type 3 events"
   ]
  },
  {
   "cell_type": "code",
   "execution_count": 11,
   "id": "5bab7531-8ce9-41fa-9365-8fe02f7a8a00",
   "metadata": {},
   "outputs": [],
   "source": [
    "#np.all(VD==f)"
   ]
  },
  {
   "cell_type": "code",
   "execution_count": 12,
   "id": "db8655ae-bb51-4362-a724-d8cebfa3985d",
   "metadata": {},
   "outputs": [],
   "source": [
    "#should be 71 valleys and overflow events in df_A"
   ]
  },
  {
   "cell_type": "code",
   "execution_count": 13,
   "id": "0b771b14-6fe0-4c28-a952-e82969d877d0",
   "metadata": {},
   "outputs": [],
   "source": [
    "#df_A.iloc[[1072,1073,4472,4473]]"
   ]
  },
  {
   "cell_type": "code",
   "execution_count": 14,
   "id": "30e9f806-6db4-4ad5-bb81-7165053bb928",
   "metadata": {},
   "outputs": [
    {
     "name": "stdout",
     "output_type": "stream",
     "text": [
      "safety_time.ipynb loaded successfully!\n"
     ]
    }
   ],
   "source": [
    "print(\"safety_time.ipynb loaded successfully!\")"
   ]
  }
 ],
 "metadata": {
  "kernelspec": {
   "display_name": "Python 3 (ipykernel)",
   "language": "python",
   "name": "python3"
  },
  "language_info": {
   "codemirror_mode": {
    "name": "ipython",
    "version": 3
   },
   "file_extension": ".py",
   "mimetype": "text/x-python",
   "name": "python",
   "nbconvert_exporter": "python",
   "pygments_lexer": "ipython3",
   "version": "3.9.7"
  }
 },
 "nbformat": 4,
 "nbformat_minor": 5
}
