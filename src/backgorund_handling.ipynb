{
 "cells": [
  {
   "cell_type": "code",
   "execution_count": 1,
   "id": "630a6da7-dce4-4995-aba9-6247155b3059",
   "metadata": {},
   "outputs": [
    {
     "name": "stdout",
     "output_type": "stream",
     "text": [
      "\n",
      "All MAC paths are set!\n"
     ]
    },
    {
     "name": "stderr",
     "output_type": "stream",
     "text": [
      "/Users/andreas/fun/useful_py_func/matplotlib_custom_style_and_macros.py:128: MatplotlibDeprecationWarning: Support for setting an rcParam that expects a str value to a non-str value is deprecated since 3.5 and support will be removed two minor releases later.\n",
      "  rcParams['lines.marker'] = None\n"
     ]
    }
   ],
   "source": [
    "import numpy as np\n",
    "import matplotlib.pyplot as plt\n",
    "import pandas as pd\n",
    "from datetime import datetime,timedelta\n",
    "\n",
    "%run /Users/andreas/phys/master/GRB/src/paths/mac.ipynb"
   ]
  },
  {
   "cell_type": "markdown",
   "id": "37eb7bd7-2433-4727-95c2-64d3a79c69e0",
   "metadata": {},
   "source": [
    "# Loading trigger times"
   ]
  },
  {
   "cell_type": "code",
   "execution_count": 2,
   "id": "03b4e4d1-87d4-41f9-a32f-54109c8c0ed5",
   "metadata": {},
   "outputs": [],
   "source": [
    "df_trigtimes = pd.read_csv('trigger_times.txt',sep=' ')\n",
    "df_trigtimes.drop(columns='Unnamed: 6',axis=0,inplace=True)"
   ]
  },
  {
   "cell_type": "code",
   "execution_count": 3,
   "id": "8d767a91-ec84-41b5-9046-b13a7b4d7248",
   "metadata": {},
   "outputs": [
    {
     "data": {
      "text/html": [
       "<div>\n",
       "<style scoped>\n",
       "    .dataframe tbody tr th:only-of-type {\n",
       "        vertical-align: middle;\n",
       "    }\n",
       "\n",
       "    .dataframe tbody tr th {\n",
       "        vertical-align: top;\n",
       "    }\n",
       "\n",
       "    .dataframe thead th {\n",
       "        text-align: right;\n",
       "    }\n",
       "</style>\n",
       "<table border=\"1\" class=\"dataframe\">\n",
       "  <thead>\n",
       "    <tr style=\"text-align: right;\">\n",
       "      <th></th>\n",
       "      <th>year</th>\n",
       "      <th>month</th>\n",
       "      <th>day</th>\n",
       "      <th>hour</th>\n",
       "      <th>minute</th>\n",
       "      <th>second</th>\n",
       "    </tr>\n",
       "  </thead>\n",
       "  <tbody>\n",
       "    <tr>\n",
       "      <th>0</th>\n",
       "      <td>2018</td>\n",
       "      <td>6</td>\n",
       "      <td>1</td>\n",
       "      <td>5</td>\n",
       "      <td>10</td>\n",
       "      <td>4.3</td>\n",
       "    </tr>\n",
       "    <tr>\n",
       "      <th>1</th>\n",
       "      <td>2018</td>\n",
       "      <td>6</td>\n",
       "      <td>1</td>\n",
       "      <td>5</td>\n",
       "      <td>12</td>\n",
       "      <td>2.8</td>\n",
       "    </tr>\n",
       "    <tr>\n",
       "      <th>2</th>\n",
       "      <td>2018</td>\n",
       "      <td>6</td>\n",
       "      <td>1</td>\n",
       "      <td>5</td>\n",
       "      <td>15</td>\n",
       "      <td>53.1</td>\n",
       "    </tr>\n",
       "    <tr>\n",
       "      <th>3</th>\n",
       "      <td>2018</td>\n",
       "      <td>6</td>\n",
       "      <td>1</td>\n",
       "      <td>5</td>\n",
       "      <td>16</td>\n",
       "      <td>35.4</td>\n",
       "    </tr>\n",
       "    <tr>\n",
       "      <th>4</th>\n",
       "      <td>2018</td>\n",
       "      <td>6</td>\n",
       "      <td>1</td>\n",
       "      <td>9</td>\n",
       "      <td>54</td>\n",
       "      <td>34.9</td>\n",
       "    </tr>\n",
       "    <tr>\n",
       "      <th>...</th>\n",
       "      <td>...</td>\n",
       "      <td>...</td>\n",
       "      <td>...</td>\n",
       "      <td>...</td>\n",
       "      <td>...</td>\n",
       "      <td>...</td>\n",
       "    </tr>\n",
       "    <tr>\n",
       "      <th>692439</th>\n",
       "      <td>2022</td>\n",
       "      <td>11</td>\n",
       "      <td>1</td>\n",
       "      <td>23</td>\n",
       "      <td>30</td>\n",
       "      <td>26.7</td>\n",
       "    </tr>\n",
       "    <tr>\n",
       "      <th>692440</th>\n",
       "      <td>2022</td>\n",
       "      <td>11</td>\n",
       "      <td>1</td>\n",
       "      <td>23</td>\n",
       "      <td>36</td>\n",
       "      <td>15.8</td>\n",
       "    </tr>\n",
       "    <tr>\n",
       "      <th>692441</th>\n",
       "      <td>2022</td>\n",
       "      <td>11</td>\n",
       "      <td>1</td>\n",
       "      <td>23</td>\n",
       "      <td>44</td>\n",
       "      <td>45.8</td>\n",
       "    </tr>\n",
       "    <tr>\n",
       "      <th>692442</th>\n",
       "      <td>2022</td>\n",
       "      <td>11</td>\n",
       "      <td>1</td>\n",
       "      <td>23</td>\n",
       "      <td>46</td>\n",
       "      <td>58.5</td>\n",
       "    </tr>\n",
       "    <tr>\n",
       "      <th>692443</th>\n",
       "      <td>2022</td>\n",
       "      <td>11</td>\n",
       "      <td>1</td>\n",
       "      <td>23</td>\n",
       "      <td>49</td>\n",
       "      <td>57.6</td>\n",
       "    </tr>\n",
       "  </tbody>\n",
       "</table>\n",
       "<p>692444 rows × 6 columns</p>\n",
       "</div>"
      ],
      "text/plain": [
       "        year  month  day  hour  minute  second\n",
       "0       2018      6    1     5      10     4.3\n",
       "1       2018      6    1     5      12     2.8\n",
       "2       2018      6    1     5      15    53.1\n",
       "3       2018      6    1     5      16    35.4\n",
       "4       2018      6    1     9      54    34.9\n",
       "...      ...    ...  ...   ...     ...     ...\n",
       "692439  2022     11    1    23      30    26.7\n",
       "692440  2022     11    1    23      36    15.8\n",
       "692441  2022     11    1    23      44    45.8\n",
       "692442  2022     11    1    23      46    58.5\n",
       "692443  2022     11    1    23      49    57.6\n",
       "\n",
       "[692444 rows x 6 columns]"
      ]
     },
     "execution_count": 3,
     "metadata": {},
     "output_type": "execute_result"
    }
   ],
   "source": [
    "df_trigtimes"
   ]
  },
  {
   "cell_type": "code",
   "execution_count": 4,
   "id": "3caaf1be-3aed-41b8-8f27-72ff0c5446e3",
   "metadata": {},
   "outputs": [],
   "source": [
    "#Creating datetime object from all rows, then computing timedelta for the relevant entries based on search criteria"
   ]
  },
  {
   "cell_type": "code",
   "execution_count": 5,
   "id": "399da3e1-5924-4c78-85ca-201a4a428f57",
   "metadata": {},
   "outputs": [
    {
     "name": "stdout",
     "output_type": "stream",
     "text": [
      "All arr lengths match:  True\n"
     ]
    }
   ],
   "source": [
    "datetime_trig = []\n",
    "year,month,day,hour,minute,second = df_trigtimes['year'].to_numpy(dtype=str),df_trigtimes['month'].to_numpy(dtype=str), df_trigtimes['day'].to_numpy(dtype=str),df_trigtimes['hour'].to_numpy(dtype=str),df_trigtimes['minute'].to_numpy(dtype=str),df_trigtimes['second'].to_numpy(dtype=str)\n",
    "\n",
    "for i in np.arange(0,len(year)):\n",
    "    try:\n",
    "        dt_obj = datetime.strptime(year[i]+'/'+month[i]+'/'+day[i]+' '+hour[i]+':'+minute[i]+':'+second[i],'%Y/%m/%d %H:%M:%S.%f')\n",
    "        datetime_trig.append(dt_obj)\n",
    "    except ValueError:\n",
    "        if second[i] == '60.0':\n",
    "            second[i] = '59.999'\n",
    "            dt_obj = datetime.strptime(year[i]+'/'+month[i]+'/'+day[i]+' '+hour[i]+':'+minute[i]+':'+second[i],'%Y/%m/%d %H:%M:%S.%f')\n",
    "            datetime_trig.append(dt_obj)\n",
    "print('All arr lengths match: ',len(year)==len(month)==len(day)==len(hour)==len(minute)==len(second)==len(datetime_trig))"
   ]
  },
  {
   "cell_type": "code",
   "execution_count": 6,
   "id": "d4df9eea-f854-46db-9221-b8e7af793d2b",
   "metadata": {},
   "outputs": [],
   "source": [
    "#not optimal to compute the timedelta for all 600k rows, but there is only a handful of candidates we need to do it for...\n",
    "#approx 2 min for whole df to compute...\n",
    "# 982x faster to only compute for the relevant DAY"
   ]
  },
  {
   "cell_type": "code",
   "execution_count": 7,
   "id": "72f33868-a594-4a6a-ace9-29a68c450b63",
   "metadata": {},
   "outputs": [],
   "source": [
    "ASIM_trig_str = '2019/03/05 13:05:19.816'\n",
    "ASIM_trig_dt = datetime.strptime(ASIM_trig_str,'%Y/%m/%d %H:%M:%S.%f')"
   ]
  },
  {
   "cell_type": "code",
   "execution_count": 62,
   "id": "d67ca1e6-a4f5-418a-b31f-e33708f6bdca",
   "metadata": {},
   "outputs": [],
   "source": [
    "def find_bg_match(ASIM_trig_dt=None,datetime_trig=None,time_limit=120.0):\n",
    "    '''ASIM_trig_dt <datetime> trigger time for ASIM\n",
    "    datetime_trig <np.arr> contains datetime objects for trigger data\n",
    "    time_limit <float> limit for the difference between ASIM_trig_dt & datetime_trig. Default 120 s\n",
    "    \n",
    "    return <np.array>,<np.array> first array contains time difference and second array is index for trigger in datetime_trig\n",
    "    '''\n",
    "    \n",
    "    trig_day = []\n",
    "    index_trig_day = []\n",
    "\n",
    "    for i,dt in enumerate(datetime_trig):\n",
    "        if dt.year == ASIM_trig_dt.year and dt.month==ASIM_trig_dt.month and dt.day == ASIM_trig_dt.day:\n",
    "            diff_day = timedelta.total_seconds(datetime_trig[i]-ASIM_trig_dt)\n",
    "            trig_day.append(diff_day)\n",
    "            index_trig_day.append(i)\n",
    "        else:\n",
    "            continue\n",
    "    trig_day = np.array(trig_day)\n",
    "    mask_close = np.where(np.abs(trig_day)<=time_limit)[0]\n",
    "    print(trig_day[mask_close])\n",
    "    \n",
    "    return trig_day[mask_close],index_trig_day[mask_close[0]:mask_close[-1]+1]\n",
    "    "
   ]
  },
  {
   "cell_type": "code",
   "execution_count": 63,
   "id": "04b5c938-eefa-49ad-a775-87e4ab4a8296",
   "metadata": {},
   "outputs": [
    {
     "name": "stdout",
     "output_type": "stream",
     "text": [
      "[-91.216   0.284  81.584]\n"
     ]
    }
   ],
   "source": [
    "time_offset, idxs = find_bg_match(ASIM_trig_dt=ASIM_trig_dt,datetime_trig=datetime_trig,time_limit=120.0)"
   ]
  },
  {
   "cell_type": "code",
   "execution_count": 64,
   "id": "01c09b48-8234-49c2-9357-2c5398517824",
   "metadata": {},
   "outputs": [
    {
     "data": {
      "text/html": [
       "<div>\n",
       "<style scoped>\n",
       "    .dataframe tbody tr th:only-of-type {\n",
       "        vertical-align: middle;\n",
       "    }\n",
       "\n",
       "    .dataframe tbody tr th {\n",
       "        vertical-align: top;\n",
       "    }\n",
       "\n",
       "    .dataframe thead th {\n",
       "        text-align: right;\n",
       "    }\n",
       "</style>\n",
       "<table border=\"1\" class=\"dataframe\">\n",
       "  <thead>\n",
       "    <tr style=\"text-align: right;\">\n",
       "      <th></th>\n",
       "      <th>year</th>\n",
       "      <th>month</th>\n",
       "      <th>day</th>\n",
       "      <th>hour</th>\n",
       "      <th>minute</th>\n",
       "      <th>second</th>\n",
       "    </tr>\n",
       "  </thead>\n",
       "  <tbody>\n",
       "    <tr>\n",
       "      <th>157172</th>\n",
       "      <td>2019</td>\n",
       "      <td>3</td>\n",
       "      <td>5</td>\n",
       "      <td>13</td>\n",
       "      <td>3</td>\n",
       "      <td>48.6</td>\n",
       "    </tr>\n",
       "    <tr>\n",
       "      <th>157173</th>\n",
       "      <td>2019</td>\n",
       "      <td>3</td>\n",
       "      <td>5</td>\n",
       "      <td>13</td>\n",
       "      <td>5</td>\n",
       "      <td>20.1</td>\n",
       "    </tr>\n",
       "    <tr>\n",
       "      <th>157174</th>\n",
       "      <td>2019</td>\n",
       "      <td>3</td>\n",
       "      <td>5</td>\n",
       "      <td>13</td>\n",
       "      <td>6</td>\n",
       "      <td>41.4</td>\n",
       "    </tr>\n",
       "  </tbody>\n",
       "</table>\n",
       "</div>"
      ],
      "text/plain": [
       "        year  month  day  hour  minute  second\n",
       "157172  2019      3    5    13       3    48.6\n",
       "157173  2019      3    5    13       5    20.1\n",
       "157174  2019      3    5    13       6    41.4"
      ]
     },
     "execution_count": 64,
     "metadata": {},
     "output_type": "execute_result"
    }
   ],
   "source": [
    "df_trigtimes.iloc[idxs] #~ 1.5 min before trigger"
   ]
  },
  {
   "cell_type": "code",
   "execution_count": 34,
   "id": "57504b50-6f38-47ce-8561-21a57c4f274d",
   "metadata": {},
   "outputs": [],
   "source": [
    "#get data for this trigger using read_matlab_file\n",
    "\n",
    "#problem accessing the relevant cdf file.. old script works for unzipped files, while now all the cdf\n",
    "#cdf files have been .gz zipped\n",
    "\n",
    "#can improve the script be unzipping, but then; where to store the files? -->temp folder on the server\n",
    "#or stored locally\n",
    "\n",
    "#ask David tomorrow if he have a good script for reading the files and generating a matlab file\n",
    "#containing the data"
   ]
  }
 ],
 "metadata": {
  "kernelspec": {
   "display_name": "base",
   "language": "python",
   "name": "base"
  },
  "language_info": {
   "codemirror_mode": {
    "name": "ipython",
    "version": 3
   },
   "file_extension": ".py",
   "mimetype": "text/x-python",
   "name": "python",
   "nbconvert_exporter": "python",
   "pygments_lexer": "ipython3",
   "version": "3.9.13"
  },
  "toc": {
   "base_numbering": 1,
   "nav_menu": {},
   "number_sections": true,
   "sideBar": true,
   "skip_h1_title": false,
   "title_cell": "Table of Contents",
   "title_sidebar": "Contents",
   "toc_cell": false,
   "toc_position": {},
   "toc_section_display": true,
   "toc_window_display": false
  },
  "varInspector": {
   "cols": {
    "lenName": 16,
    "lenType": 16,
    "lenVar": 40
   },
   "kernels_config": {
    "python": {
     "delete_cmd_postfix": "",
     "delete_cmd_prefix": "del ",
     "library": "var_list.py",
     "varRefreshCmd": "print(var_dic_list())"
    },
    "r": {
     "delete_cmd_postfix": ") ",
     "delete_cmd_prefix": "rm(",
     "library": "var_list.r",
     "varRefreshCmd": "cat(var_dic_list()) "
    }
   },
   "types_to_exclude": [
    "module",
    "function",
    "builtin_function_or_method",
    "instance",
    "_Feature"
   ],
   "window_display": false
  }
 },
 "nbformat": 4,
 "nbformat_minor": 5
}
