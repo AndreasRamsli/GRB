{
 "cells": [
  {
   "cell_type": "code",
   "execution_count": 1,
   "id": "630a6da7-dce4-4995-aba9-6247155b3059",
   "metadata": {},
   "outputs": [
    {
     "name": "stdout",
     "output_type": "stream",
     "text": [
      "\n",
      "all UiB paths loaded\n"
     ]
    },
    {
     "name": "stderr",
     "output_type": "stream",
     "text": [
      "/Home/siv30/wad005/useful_py_functions/matplotlib_custom_style_and_macros.py:128: MatplotlibDeprecationWarning: Support for setting an rcParam that expects a str value to a non-str value is deprecated since 3.5 and support will be removed two minor releases later.\n",
      "  rcParams['lines.marker'] = None\n"
     ]
    }
   ],
   "source": [
    "import numpy as np\n",
    "import matplotlib.pyplot as plt\n",
    "import pandas as pd\n",
    "from datetime import datetime,timedelta\n",
    "\n",
    "import os\n",
    "path = os.getcwd()\n",
    "if path[1:5] == \"Home\":\n",
    "    %run /Home/siv30/wad005/master/GRB/src/paths/uib.ipynb\n",
    "else:\n",
    "    %run /Users/andreas/phys/master/GRB/src/paths/mac.ipynb"
   ]
  },
  {
   "cell_type": "markdown",
   "id": "c4c7120b-387b-44e2-932b-615a6b58a447",
   "metadata": {},
   "source": [
    "# NOTES\n",
    "    -List of the triggers that we need to extract the bg data for:\n",
    "        [GRB180720B, GRB181222B, GRB190305A, GRB210619B, GRB211211A]\n",
    "        \n",
    "    - Could the bg be the problem of the normalization constant?"
   ]
  },
  {
   "cell_type": "markdown",
   "id": "37eb7bd7-2433-4727-95c2-64d3a79c69e0",
   "metadata": {},
   "source": [
    "# Loading trigger times"
   ]
  },
  {
   "cell_type": "code",
   "execution_count": 18,
   "id": "03b4e4d1-87d4-41f9-a32f-54109c8c0ed5",
   "metadata": {},
   "outputs": [
    {
     "name": "stdout",
     "output_type": "stream",
     "text": [
      "All arr lengths match:  True\n"
     ]
    }
   ],
   "source": [
    "df_bg = pd.read_csv('trigger_times.txt',sep=' ')\n",
    "df_bg.drop(columns='Unnamed: 6',axis=0,inplace=True)\n",
    "bg_triggers = []\n",
    "year,month,day,hour,minute,second = df_bg['year'].to_numpy(dtype=str),df_bg['month'].to_numpy(dtype=str), df_bg['day'].to_numpy(dtype=str),df_bg['hour'].to_numpy(dtype=str),df_bg['minute'].to_numpy(dtype=str),df_bg['second'].to_numpy(dtype=str)\n",
    "\n",
    "for i in np.arange(0,len(year)):\n",
    "    try:\n",
    "        dt_obj = datetime.strptime(year[i]+'/'+month[i]+'/'+day[i]+' '+hour[i]+':'+minute[i]+':'+second[i],'%Y/%m/%d %H:%M:%S.%f')\n",
    "        bg_triggers.append(dt_obj)\n",
    "    except ValueError:\n",
    "        if second[i] == '60.0':\n",
    "            second[i] = '59.999'\n",
    "            dt_obj = datetime.strptime(year[i]+'/'+month[i]+'/'+day[i]+' '+hour[i]+':'+minute[i]+':'+second[i],'%Y/%m/%d %H:%M:%S.%f')\n",
    "            bg_triggers.append(dt_obj)\n",
    "print('All arr lengths match: ',len(year)==len(month)==len(day)==len(hour)==len(minute)==len(second)==len(bg_triggers))"
   ]
  },
  {
   "cell_type": "code",
   "execution_count": 19,
   "id": "8d767a91-ec84-41b5-9046-b13a7b4d7248",
   "metadata": {},
   "outputs": [
    {
     "data": {
      "text/html": [
       "<div>\n",
       "<style scoped>\n",
       "    .dataframe tbody tr th:only-of-type {\n",
       "        vertical-align: middle;\n",
       "    }\n",
       "\n",
       "    .dataframe tbody tr th {\n",
       "        vertical-align: top;\n",
       "    }\n",
       "\n",
       "    .dataframe thead th {\n",
       "        text-align: right;\n",
       "    }\n",
       "</style>\n",
       "<table border=\"1\" class=\"dataframe\">\n",
       "  <thead>\n",
       "    <tr style=\"text-align: right;\">\n",
       "      <th></th>\n",
       "      <th>year</th>\n",
       "      <th>month</th>\n",
       "      <th>day</th>\n",
       "      <th>hour</th>\n",
       "      <th>minute</th>\n",
       "      <th>second</th>\n",
       "    </tr>\n",
       "  </thead>\n",
       "  <tbody>\n",
       "    <tr>\n",
       "      <th>0</th>\n",
       "      <td>2018</td>\n",
       "      <td>6</td>\n",
       "      <td>1</td>\n",
       "      <td>5</td>\n",
       "      <td>10</td>\n",
       "      <td>4.3</td>\n",
       "    </tr>\n",
       "    <tr>\n",
       "      <th>1</th>\n",
       "      <td>2018</td>\n",
       "      <td>6</td>\n",
       "      <td>1</td>\n",
       "      <td>5</td>\n",
       "      <td>12</td>\n",
       "      <td>2.8</td>\n",
       "    </tr>\n",
       "    <tr>\n",
       "      <th>2</th>\n",
       "      <td>2018</td>\n",
       "      <td>6</td>\n",
       "      <td>1</td>\n",
       "      <td>5</td>\n",
       "      <td>15</td>\n",
       "      <td>53.1</td>\n",
       "    </tr>\n",
       "    <tr>\n",
       "      <th>3</th>\n",
       "      <td>2018</td>\n",
       "      <td>6</td>\n",
       "      <td>1</td>\n",
       "      <td>5</td>\n",
       "      <td>16</td>\n",
       "      <td>35.4</td>\n",
       "    </tr>\n",
       "    <tr>\n",
       "      <th>4</th>\n",
       "      <td>2018</td>\n",
       "      <td>6</td>\n",
       "      <td>1</td>\n",
       "      <td>9</td>\n",
       "      <td>54</td>\n",
       "      <td>34.9</td>\n",
       "    </tr>\n",
       "    <tr>\n",
       "      <th>...</th>\n",
       "      <td>...</td>\n",
       "      <td>...</td>\n",
       "      <td>...</td>\n",
       "      <td>...</td>\n",
       "      <td>...</td>\n",
       "      <td>...</td>\n",
       "    </tr>\n",
       "    <tr>\n",
       "      <th>692439</th>\n",
       "      <td>2022</td>\n",
       "      <td>11</td>\n",
       "      <td>1</td>\n",
       "      <td>23</td>\n",
       "      <td>30</td>\n",
       "      <td>26.7</td>\n",
       "    </tr>\n",
       "    <tr>\n",
       "      <th>692440</th>\n",
       "      <td>2022</td>\n",
       "      <td>11</td>\n",
       "      <td>1</td>\n",
       "      <td>23</td>\n",
       "      <td>36</td>\n",
       "      <td>15.8</td>\n",
       "    </tr>\n",
       "    <tr>\n",
       "      <th>692441</th>\n",
       "      <td>2022</td>\n",
       "      <td>11</td>\n",
       "      <td>1</td>\n",
       "      <td>23</td>\n",
       "      <td>44</td>\n",
       "      <td>45.8</td>\n",
       "    </tr>\n",
       "    <tr>\n",
       "      <th>692442</th>\n",
       "      <td>2022</td>\n",
       "      <td>11</td>\n",
       "      <td>1</td>\n",
       "      <td>23</td>\n",
       "      <td>46</td>\n",
       "      <td>58.5</td>\n",
       "    </tr>\n",
       "    <tr>\n",
       "      <th>692443</th>\n",
       "      <td>2022</td>\n",
       "      <td>11</td>\n",
       "      <td>1</td>\n",
       "      <td>23</td>\n",
       "      <td>49</td>\n",
       "      <td>57.6</td>\n",
       "    </tr>\n",
       "  </tbody>\n",
       "</table>\n",
       "<p>692444 rows × 6 columns</p>\n",
       "</div>"
      ],
      "text/plain": [
       "        year  month  day  hour  minute  second\n",
       "0       2018      6    1     5      10     4.3\n",
       "1       2018      6    1     5      12     2.8\n",
       "2       2018      6    1     5      15    53.1\n",
       "3       2018      6    1     5      16    35.4\n",
       "4       2018      6    1     9      54    34.9\n",
       "...      ...    ...  ...   ...     ...     ...\n",
       "692439  2022     11    1    23      30    26.7\n",
       "692440  2022     11    1    23      36    15.8\n",
       "692441  2022     11    1    23      44    45.8\n",
       "692442  2022     11    1    23      46    58.5\n",
       "692443  2022     11    1    23      49    57.6\n",
       "\n",
       "[692444 rows x 6 columns]"
      ]
     },
     "execution_count": 19,
     "metadata": {},
     "output_type": "execute_result"
    }
   ],
   "source": [
    "df_trigtimes"
   ]
  },
  {
   "cell_type": "code",
   "execution_count": 4,
   "id": "3caaf1be-3aed-41b8-8f27-72ff0c5446e3",
   "metadata": {},
   "outputs": [],
   "source": [
    "#Creating datetime object from all rows, then computing timedelta for the relevant entries based on search criteria"
   ]
  },
  {
   "cell_type": "code",
   "execution_count": 6,
   "id": "d4df9eea-f854-46db-9221-b8e7af793d2b",
   "metadata": {},
   "outputs": [],
   "source": [
    "#not optimal to compute the timedelta for all 600k rows, but there is only a handful of candidates we need to do it for...\n",
    "#approx 2 min for whole df to compute...\n",
    "# 982x faster to only compute for the relevant DAY"
   ]
  },
  {
   "cell_type": "code",
   "execution_count": 12,
   "id": "72f33868-a594-4a6a-ace9-29a68c450b63",
   "metadata": {},
   "outputs": [],
   "source": [
    "ASIM_trig_str = '2019-03-05 13:05:19.816'\n",
    "ASIM_trig_dt = datetime.strptime(ASIM_trig_str,'%Y-%m-%d %H:%M:%S.%f')"
   ]
  },
  {
   "cell_type": "markdown",
   "id": "bfcfbb02-fd7c-439b-bb12-51df7d9f7ccb",
   "metadata": {},
   "source": [
    "## Convert string/datetime"
   ]
  },
  {
   "cell_type": "code",
   "execution_count": 2,
   "id": "b4990720-01d0-4e19-8055-ffcd9f685af3",
   "metadata": {},
   "outputs": [],
   "source": [
    "def convert_str_datetime(dt_string=None):\n",
    "    dt_obj = datetime.strptime(dt_string,'%Y-%m-%d %H:%M:%S.%f')\n",
    "    return dt_obj"
   ]
  },
  {
   "cell_type": "markdown",
   "id": "555db980-851a-41e0-8cce-29f4cd6e7025",
   "metadata": {},
   "source": [
    "## find background match"
   ]
  },
  {
   "cell_type": "code",
   "execution_count": 37,
   "id": "d67ca1e6-a4f5-418a-b31f-e33708f6bdca",
   "metadata": {},
   "outputs": [],
   "source": [
    "def find_bg_match(ASIM_trig_dt=None,bg_triggers=None, time_limit=120.0):\n",
    "    '''ASIM_trig_dt <datetime> trigger time for ASIM\n",
    "    bg_triggers <np.arr> contains datetime objects for trigger data for background\n",
    "    time_limit <float> limit for the difference between ASIM_trig_dt & datetime_trig. Default 120 s\n",
    "    \n",
    "    return <np.array>,<np.array> first array contains time difference and second array is index for trigger in datetime_trig\n",
    "    '''\n",
    "\n",
    "    trig_day = []\n",
    "    index_trig_day = []\n",
    "\n",
    "    for i,dt in enumerate(bg_triggers):\n",
    "        if dt.year == ASIM_trig_dt.year and dt.month==ASIM_trig_dt.month and dt.day == ASIM_trig_dt.day:\n",
    "            diff_day = timedelta.total_seconds(bg_triggers[i]-ASIM_trig_dt)\n",
    "            trig_day.append(diff_day)\n",
    "            index_trig_day.append(i)\n",
    "        else:\n",
    "            continue\n",
    "    trig_day = np.array(trig_day)\n",
    "    mask_close = np.where(np.abs(trig_day)<=time_limit)[0]\n",
    "    \n",
    "    return trig_day[mask_close], index_trig_day[mask_close[0]:mask_close[-1]+1]\n",
    "    "
   ]
  },
  {
   "cell_type": "markdown",
   "id": "5c9be26d-65a2-43a3-9d94-bcde563c0fbd",
   "metadata": {},
   "source": [
    "## List of trigger times \n",
    "    [GRB180720B, GRB181222B, GRB190305A, GRB210619B, GRB211211A]\n",
    "    \n",
    "    Looks like we have to go hunting for bg after the burst for several of the triggers"
   ]
  },
  {
   "cell_type": "code",
   "execution_count": 6,
   "id": "8ff1e0f1-1c59-4630-94cc-1a1cbe1df6d8",
   "metadata": {},
   "outputs": [],
   "source": [
    "T0_180720,T0_181222,T0_190305,T0_210619, T0_211211 = '2018-07-20 14:21:47.389', '2018-12-22 20:11:36.576','2019-03-05 13:05:19.816','2021-06-19 23:59:24.915', '2021-12-11 13:10:01.323'\n",
    "T0_arr = [T0_180720,T0_181222,T0_190305,T0_210619, T0_211211]"
   ]
  },
  {
   "cell_type": "code",
   "execution_count": 25,
   "id": "4d3af6cc-301e-4939-befc-a21d8b075e6e",
   "metadata": {},
   "outputs": [
    {
     "name": "stdout",
     "output_type": "stream",
     "text": [
      "2018-07-20 14:21:47.389000 [ 0.311  3.011  8.211  9.911 21.611]\n",
      "2018-12-22 20:11:36.576000 [0.924]\n",
      "2019-03-05 13:05:19.816000 [-91.216   0.284  81.584]\n",
      "2021-06-19 23:59:24.915000 [ 0.585  1.585  2.585  3.585  8.985  9.985 11.185 12.185 13.285 14.885]\n",
      "2021-12-11 13:10:01.323000 [7.7000e-02 1.0770e+00 4.2770e+00 5.2770e+00 1.4777e+01 1.6077e+01\n",
      " 1.7677e+01 1.8977e+01 8.0777e+01]\n"
     ]
    }
   ],
   "source": [
    "i,offset = [],[]\n",
    "for t0 in T0_arr:\n",
    "    t0_obj = convert_str_datetime(t0)\n",
    "    time_offset, idxs =  find_bg_match(ASIM_trig_dt=t0_obj,bg_triggers=bg_triggers)\n",
    "    print(t0_obj, time_offset)\n",
    "    offset.append(time_offset)\n",
    "    i.append(idxs)"
   ]
  },
  {
   "cell_type": "code",
   "execution_count": 35,
   "id": "01c09b48-8234-49c2-9357-2c5398517824",
   "metadata": {},
   "outputs": [
    {
     "name": "stdout",
     "output_type": "stream",
     "text": [
      "       year  month  day  hour  minute  second\n",
      "17642  2018      7   20    14      21    47.7\n",
      "17643  2018      7   20    14      21    50.4\n",
      "17644  2018      7   20    14      21    55.6\n",
      "17645  2018      7   20    14      21    57.3\n",
      "17646  2018      7   20    14      22     9.0\n",
      "        year  month  day  hour  minute  second\n",
      "111933  2018     12   22    20      11    37.5\n",
      "        year  month  day  hour  minute  second\n",
      "157172  2019      3    5    13       3    48.6\n",
      "157173  2019      3    5    13       5    20.1\n",
      "157174  2019      3    5    13       6    41.4\n",
      "        year  month  day  hour  minute  second\n",
      "362535  2021      6   19    23      59    25.5\n",
      "362536  2021      6   19    23      59    26.5\n",
      "362537  2021      6   19    23      59    27.5\n",
      "362538  2021      6   19    23      59    28.5\n",
      "362539  2021      6   19    23      59    33.9\n",
      "362540  2021      6   19    23      59    34.9\n",
      "362541  2021      6   19    23      59    36.1\n",
      "362542  2021      6   19    23      59    37.1\n",
      "362543  2021      6   19    23      59    38.2\n",
      "362544  2021      6   19    23      59    39.8\n",
      "        year  month  day  hour  minute  second\n",
      "438668  2021     12   11    13      10     1.4\n",
      "438669  2021     12   11    13      10     2.4\n",
      "438670  2021     12   11    13      10     5.6\n",
      "438671  2021     12   11    13      10     6.6\n",
      "438672  2021     12   11    13      10    16.1\n",
      "438673  2021     12   11    13      10    17.4\n",
      "438674  2021     12   11    13      10    19.0\n",
      "438675  2021     12   11    13      10    20.3\n",
      "438676  2021     12   11    13      11    22.1\n"
     ]
    }
   ],
   "source": [
    "for ii in i:\n",
    "    print(df_trigtimes.iloc[ii]) #~ 1.5 min before trigger"
   ]
  },
  {
   "cell_type": "code",
   "execution_count": 38,
   "id": "9e72676a-a25e-457b-8090-46f430312b6d",
   "metadata": {},
   "outputs": [
    {
     "data": {
      "text/html": [
       "<div>\n",
       "<style scoped>\n",
       "    .dataframe tbody tr th:only-of-type {\n",
       "        vertical-align: middle;\n",
       "    }\n",
       "\n",
       "    .dataframe tbody tr th {\n",
       "        vertical-align: top;\n",
       "    }\n",
       "\n",
       "    .dataframe thead th {\n",
       "        text-align: right;\n",
       "    }\n",
       "</style>\n",
       "<table border=\"1\" class=\"dataframe\">\n",
       "  <thead>\n",
       "    <tr style=\"text-align: right;\">\n",
       "      <th></th>\n",
       "      <th>year</th>\n",
       "      <th>month</th>\n",
       "      <th>day</th>\n",
       "      <th>hour</th>\n",
       "      <th>minute</th>\n",
       "      <th>second</th>\n",
       "    </tr>\n",
       "  </thead>\n",
       "  <tbody>\n",
       "    <tr>\n",
       "      <th>438665</th>\n",
       "      <td>2021</td>\n",
       "      <td>12</td>\n",
       "      <td>11</td>\n",
       "      <td>12</td>\n",
       "      <td>38</td>\n",
       "      <td>25.6</td>\n",
       "    </tr>\n",
       "    <tr>\n",
       "      <th>438666</th>\n",
       "      <td>2021</td>\n",
       "      <td>12</td>\n",
       "      <td>11</td>\n",
       "      <td>12</td>\n",
       "      <td>44</td>\n",
       "      <td>45.9</td>\n",
       "    </tr>\n",
       "    <tr>\n",
       "      <th>438667</th>\n",
       "      <td>2021</td>\n",
       "      <td>12</td>\n",
       "      <td>11</td>\n",
       "      <td>12</td>\n",
       "      <td>50</td>\n",
       "      <td>0.4</td>\n",
       "    </tr>\n",
       "    <tr>\n",
       "      <th>438668</th>\n",
       "      <td>2021</td>\n",
       "      <td>12</td>\n",
       "      <td>11</td>\n",
       "      <td>13</td>\n",
       "      <td>10</td>\n",
       "      <td>1.4</td>\n",
       "    </tr>\n",
       "    <tr>\n",
       "      <th>438669</th>\n",
       "      <td>2021</td>\n",
       "      <td>12</td>\n",
       "      <td>11</td>\n",
       "      <td>13</td>\n",
       "      <td>10</td>\n",
       "      <td>2.4</td>\n",
       "    </tr>\n",
       "    <tr>\n",
       "      <th>438670</th>\n",
       "      <td>2021</td>\n",
       "      <td>12</td>\n",
       "      <td>11</td>\n",
       "      <td>13</td>\n",
       "      <td>10</td>\n",
       "      <td>5.6</td>\n",
       "    </tr>\n",
       "  </tbody>\n",
       "</table>\n",
       "</div>"
      ],
      "text/plain": [
       "        year  month  day  hour  minute  second\n",
       "438665  2021     12   11    12      38    25.6\n",
       "438666  2021     12   11    12      44    45.9\n",
       "438667  2021     12   11    12      50     0.4\n",
       "438668  2021     12   11    13      10     1.4\n",
       "438669  2021     12   11    13      10     2.4\n",
       "438670  2021     12   11    13      10     5.6"
      ]
     },
     "execution_count": 38,
     "metadata": {},
     "output_type": "execute_result"
    }
   ],
   "source": [
    "df_bg.iloc[438668-3:438668+3]"
   ]
  },
  {
   "cell_type": "code",
   "execution_count": 36,
   "id": "5c56954a-6e47-489b-8125-fca9453caaec",
   "metadata": {},
   "outputs": [
    {
     "name": "stdout",
     "output_type": "stream",
     "text": [
      "-1200.923\n"
     ]
    },
    {
     "ename": "IndexError",
     "evalue": "index 0 is out of bounds for axis 0 with size 0",
     "output_type": "error",
     "traceback": [
      "\u001b[0;31m---------------------------------------------------------------------------\u001b[0m",
      "\u001b[0;31mIndexError\u001b[0m                                Traceback (most recent call last)",
      "Input \u001b[0;32mIn [36]\u001b[0m, in \u001b[0;36m<cell line: 1>\u001b[0;34m()\u001b[0m\n\u001b[0;32m----> 1\u001b[0m \u001b[43mfind_bg_match\u001b[49m\u001b[43m(\u001b[49m\u001b[43mASIM_trig_dt\u001b[49m\u001b[38;5;241;43m=\u001b[39;49m\u001b[43mconvert_str_datetime\u001b[49m\u001b[43m(\u001b[49m\u001b[43mT0_211211\u001b[49m\u001b[43m)\u001b[49m\u001b[43m,\u001b[49m\u001b[43mbg_triggers\u001b[49m\u001b[38;5;241;43m=\u001b[39;49m\u001b[43mbg_triggers\u001b[49m\u001b[43m[\u001b[49m\u001b[38;5;241;43m438667\u001b[39;49m\u001b[43m:\u001b[49m\u001b[38;5;241;43m-\u001b[39;49m\u001b[38;5;241;43m2\u001b[39;49m\u001b[43m:\u001b[49m\u001b[38;5;241;43m438667\u001b[39;49m\u001b[38;5;241;43m+\u001b[39;49m\u001b[38;5;241;43m2\u001b[39;49m\u001b[43m]\u001b[49m\u001b[43m)\u001b[49m\n",
      "Input \u001b[0;32mIn [34]\u001b[0m, in \u001b[0;36mfind_bg_match\u001b[0;34m(ASIM_trig_dt, bg_triggers, time_limit)\u001b[0m\n\u001b[1;32m     20\u001b[0m trig_day \u001b[38;5;241m=\u001b[39m np\u001b[38;5;241m.\u001b[39marray(trig_day)\n\u001b[1;32m     21\u001b[0m mask_close \u001b[38;5;241m=\u001b[39m np\u001b[38;5;241m.\u001b[39mwhere(np\u001b[38;5;241m.\u001b[39mabs(trig_day)\u001b[38;5;241m<\u001b[39m\u001b[38;5;241m=\u001b[39mtime_limit)[\u001b[38;5;241m0\u001b[39m]\n\u001b[0;32m---> 23\u001b[0m \u001b[38;5;28;01mreturn\u001b[39;00m trig_day[mask_close], index_trig_day[\u001b[43mmask_close\u001b[49m\u001b[43m[\u001b[49m\u001b[38;5;241;43m0\u001b[39;49m\u001b[43m]\u001b[49m:mask_close[\u001b[38;5;241m-\u001b[39m\u001b[38;5;241m1\u001b[39m]\u001b[38;5;241m+\u001b[39m\u001b[38;5;241m1\u001b[39m]\n",
      "\u001b[0;31mIndexError\u001b[0m: index 0 is out of bounds for axis 0 with size 0"
     ]
    }
   ],
   "source": [
    "find_bg_match(ASIM_trig_dt=convert_str_datetime(T0_211211),bg_triggers=bg_triggers[438667:-2:438667+2])"
   ]
  },
  {
   "cell_type": "code",
   "execution_count": null,
   "id": "9fbe8d5a-e517-405c-a08f-cd36740739f2",
   "metadata": {},
   "outputs": [],
   "source": []
  },
  {
   "cell_type": "code",
   "execution_count": null,
   "id": "291c213b-3923-4450-9778-92b0aa17365b",
   "metadata": {},
   "outputs": [],
   "source": []
  },
  {
   "cell_type": "code",
   "execution_count": 34,
   "id": "57504b50-6f38-47ce-8561-21a57c4f274d",
   "metadata": {},
   "outputs": [],
   "source": [
    "#get data for this trigger using read_matlab_file\n",
    "\n",
    "#problem accessing the relevant cdf file.. old script works for unzipped files, while now all the cdf\n",
    "#cdf files have been .gz zipped\n",
    "\n",
    "#can improve the script be unzipping, but then; where to store the files? -->temp folder on the server\n",
    "#or stored locally\n",
    "\n",
    "#ask David tomorrow if he have a good script for reading the files and generating a matlab file\n",
    "#containing the data"
   ]
  }
 ],
 "metadata": {
  "kernelspec": {
   "display_name": "base",
   "language": "python",
   "name": "base"
  },
  "language_info": {
   "codemirror_mode": {
    "name": "ipython",
    "version": 3
   },
   "file_extension": ".py",
   "mimetype": "text/x-python",
   "name": "python",
   "nbconvert_exporter": "python",
   "pygments_lexer": "ipython3",
   "version": "3.9.13"
  },
  "toc": {
   "base_numbering": 1,
   "nav_menu": {},
   "number_sections": true,
   "sideBar": true,
   "skip_h1_title": false,
   "title_cell": "Table of Contents",
   "title_sidebar": "Contents",
   "toc_cell": false,
   "toc_position": {},
   "toc_section_display": true,
   "toc_window_display": false
  },
  "varInspector": {
   "cols": {
    "lenName": 16,
    "lenType": 16,
    "lenVar": 40
   },
   "kernels_config": {
    "python": {
     "delete_cmd_postfix": "",
     "delete_cmd_prefix": "del ",
     "library": "var_list.py",
     "varRefreshCmd": "print(var_dic_list())"
    },
    "r": {
     "delete_cmd_postfix": ") ",
     "delete_cmd_prefix": "rm(",
     "library": "var_list.r",
     "varRefreshCmd": "cat(var_dic_list()) "
    }
   },
   "types_to_exclude": [
    "module",
    "function",
    "builtin_function_or_method",
    "instance",
    "_Feature"
   ],
   "window_display": false
  }
 },
 "nbformat": 4,
 "nbformat_minor": 5
}
