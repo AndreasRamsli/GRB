{
 "cells": [
  {
   "cell_type": "code",
   "execution_count": 245,
   "id": "aca5b86c-2ea7-4796-b2f6-82200ac13ee1",
   "metadata": {},
   "outputs": [
    {
     "name": "stdout",
     "output_type": "stream",
     "text": [
      "\n",
      "all UiB paths loaded\n",
      "\n",
      "all UiB paths loaded\n",
      "read_matlab_file.ipynb loaded successfully!\n"
     ]
    },
    {
     "name": "stderr",
     "output_type": "stream",
     "text": [
      "/Home/siv30/wad005/useful_py_functions/matplotlib_custom_style_and_macros.py:128: MatplotlibDeprecationWarning: Support for setting an rcParam that expects a str value to a non-str value is deprecated since 3.5 and support will be removed two minor releases later.\n",
      "  rcParams['lines.marker'] = None\n",
      "/Home/siv30/wad005/useful_py_functions/matplotlib_custom_style_and_macros.py:128: MatplotlibDeprecationWarning: Support for setting an rcParam that expects a str value to a non-str value is deprecated since 3.5 and support will be removed two minor releases later.\n",
      "  rcParams['lines.marker'] = None\n"
     ]
    }
   ],
   "source": [
    "import numpy as np\n",
    "import matplotlib.pyplot as plt\n",
    "from scipy import io\n",
    "from datetime import datetime,timedelta\n",
    "import pandas as pd\n",
    "import os\n",
    "path = os.getcwd()\n",
    "\n",
    "if path[1:5] == \"Home\":\n",
    "    %run /Home/siv30/wad005/master/GRB/src/paths/uib.ipynb\n",
    "    %run /Home/siv30/wad005/master/GRB/src/read_matlab_file.ipynb\n",
    "else:\n",
    "    %run /Users/andreas/phys/master/GRB/src/paths/mac.ipynb # Mac paths\n",
    "    %run /Users/andreas/phys/master/GRB/src/read_matlab_file.ipynb"
   ]
  },
  {
   "cell_type": "code",
   "execution_count": 8,
   "id": "9f59c7d5-7446-467f-82f8-09722b5904f9",
   "metadata": {},
   "outputs": [],
   "source": [
    "path_m = '/Home/siv30/wad005/master/GRB/MATLAB/david_sarria/'"
   ]
  },
  {
   "cell_type": "code",
   "execution_count": 188,
   "id": "71aed26c-11a2-41bd-b8df-faba902cb84b",
   "metadata": {},
   "outputs": [],
   "source": [
    "def harvest_data(fn=None,T0=None):\n",
    "    data = scipy.io.loadmat(path_m+fn)['out_data']\n",
    "    df = pd.DataFrame(data=data)\n",
    "    df.rename(columns={0:'year',1:'month',2:'day',3:'hour',4:'minute',5:'second',6:'energy_ch',7:'dau',8:'det'},inplace=True)\n",
    "    df = df.convert_dtypes()\n",
    "    dt_column = pd.to_datetime(df[['year', 'month', 'day', 'hour', 'minute', 'second']].astype(dtype=str))\n",
    "    df['datetime'] = dt_column\n",
    "    T0 = datetime.fromisoformat(T0)\n",
    "    tus = df['datetime']-T0\n",
    "    df['tus'] = tus\n",
    "    df['tus'] = df['tus'].dt.total_seconds()\n",
    "    df.sort_values(by='tus',inplace=True)\n",
    "    return df"
   ]
  },
  {
   "cell_type": "code",
   "execution_count": null,
   "id": "bc3f0883-fabe-4603-8444-9a2184bc5859",
   "metadata": {},
   "outputs": [],
   "source": []
  },
  {
   "cell_type": "code",
   "execution_count": null,
   "id": "147d6c32-1d2d-4ad2-887d-a51ece30f8f5",
   "metadata": {},
   "outputs": [],
   "source": []
  },
  {
   "cell_type": "code",
   "execution_count": null,
   "id": "4b9fa99f-c1ae-4b0a-9154-74e6a4097a92",
   "metadata": {},
   "outputs": [],
   "source": []
  }
 ],
 "metadata": {
  "kernelspec": {
   "display_name": "base",
   "language": "python",
   "name": "base"
  },
  "language_info": {
   "codemirror_mode": {
    "name": "ipython",
    "version": 3
   },
   "file_extension": ".py",
   "mimetype": "text/x-python",
   "name": "python",
   "nbconvert_exporter": "python",
   "pygments_lexer": "ipython3",
   "version": "3.9.7"
  }
 },
 "nbformat": 4,
 "nbformat_minor": 5
}
