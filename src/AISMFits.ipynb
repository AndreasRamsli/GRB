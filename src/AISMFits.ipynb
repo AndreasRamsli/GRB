{
 "cells": [
  {
   "cell_type": "markdown",
   "id": "600c396d-6740-4893-8786-e410a92d9efa",
   "metadata": {},
   "source": [
    "## imports"
   ]
  },
  {
   "cell_type": "code",
   "execution_count": 7,
   "id": "a95c1c76-e0fc-4158-8298-bfa63ee05799",
   "metadata": {},
   "outputs": [],
   "source": [
    "from astropy.io import fits\n",
    "import numpy as np\n",
    "import matplotlib.pyplot as plt\n",
    "import pandas as pd\n",
    "from astropy.table import Table\n",
    "#see guide to create fits files: https://pyfits.readthedocs.io/en/latest/#creating-a-new-fits-file\n",
    "#Should I write this as a function or as a program?\n",
    "#If i write it as a function it can be imported into any python script\n",
    "#if i write it as a program it could run more smoothly, but is very rigid compared to the function implementation"
   ]
  },
  {
   "cell_type": "markdown",
   "id": "aeabc762-5012-457f-af80-0414e301d357",
   "metadata": {},
   "source": [
    "## Reading Example fits file\n",
    "    -opening ASIM pha file and check out headers and how the data is structured\n",
    "    - load the data into arrays or tables (dunno which type of object the data will be in)"
   ]
  },
  {
   "cell_type": "code",
   "execution_count": null,
   "id": "2202cb52-27da-4b36-8698-1f37205863e3",
   "metadata": {},
   "outputs": [],
   "source": []
  },
  {
   "cell_type": "code",
   "execution_count": null,
   "id": "a0ca0688-d9db-4136-8488-39d343247a4c",
   "metadata": {},
   "outputs": [],
   "source": []
  },
  {
   "cell_type": "markdown",
   "id": "0a5d1460-0c8c-487b-b738-5a116af24713",
   "metadata": {},
   "source": [
    "## Writing example data into a new fits file\n",
    "    -load the data retrieved above into a new fits file"
   ]
  },
  {
   "cell_type": "code",
   "execution_count": null,
   "id": "457ca07e-80c1-47fc-825e-3911f641c7f5",
   "metadata": {},
   "outputs": [],
   "source": []
  },
  {
   "cell_type": "code",
   "execution_count": null,
   "id": "785bd17b-9c2e-42e5-8a96-c3266da38ec5",
   "metadata": {},
   "outputs": [],
   "source": []
  }
 ],
 "metadata": {
  "kernelspec": {
   "display_name": "GRB",
   "language": "python",
   "name": "fermi_gbm"
  },
  "language_info": {
   "codemirror_mode": {
    "name": "ipython",
    "version": 3
   },
   "file_extension": ".py",
   "mimetype": "text/x-python",
   "name": "python",
   "nbconvert_exporter": "python",
   "pygments_lexer": "ipython3",
   "version": "3.7.0"
  }
 },
 "nbformat": 4,
 "nbformat_minor": 5
}
