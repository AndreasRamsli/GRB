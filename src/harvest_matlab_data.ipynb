{
 "cells": [
  {
   "cell_type": "code",
   "execution_count": 1,
   "id": "aca5b86c-2ea7-4796-b2f6-82200ac13ee1",
   "metadata": {},
   "outputs": [
    {
     "name": "stderr",
     "output_type": "stream",
     "text": [
      "/Users/andreas/fun/useful_py_func/matplotlib_custom_style_and_macros.py:128: MatplotlibDeprecationWarning: Support for setting an rcParam that expects a str value to a non-str value is deprecated since 3.5 and support will be removed two minor releases later.\n",
      "  rcParams['lines.marker'] = None\n",
      "/Users/andreas/fun/useful_py_func/matplotlib_custom_style_and_macros.py:128: MatplotlibDeprecationWarning: Support for setting an rcParam that expects a str value to a non-str value is deprecated since 3.5 and support will be removed two minor releases later.\n",
      "  rcParams['lines.marker'] = None\n"
     ]
    },
    {
     "name": "stdout",
     "output_type": "stream",
     "text": [
      "\n",
      "All MAC paths are set!\n",
      "\n",
      "All MAC paths are set!\n",
      "read_matlab_file.ipynb loaded successfully!\n"
     ]
    }
   ],
   "source": [
    "import numpy as np\n",
    "import matplotlib.pyplot as plt\n",
    "from scipy import io\n",
    "from datetime import datetime,timedelta\n",
    "import pandas as pd\n",
    "import os\n",
    "path = os.getcwd()\n",
    "\n",
    "if path[1:5] == \"Home\":\n",
    "    %run /Home/siv30/wad005/master/GRB/src/paths/uib.ipynb\n",
    "    %run /Home/siv30/wad005/master/GRB/src/read_matlab_file.ipynb\n",
    "    path_m = '/Home/siv30/wad005/master/GRB/MATLAB/david_sarria/'\n",
    "else:\n",
    "    %run /Users/andreas/phys/master/GRB/src/paths/mac.ipynb # Mac paths\n",
    "    %run /Users/andreas/phys/master/GRB/src/read_matlab_file.ipynb\n",
    "    path_m = '/Users/andreas/phys/master/GRB/MATLAB/david_sarria/'"
   ]
  },
  {
   "cell_type": "code",
   "execution_count": 1,
   "id": "71aed26c-11a2-41bd-b8df-faba902cb84b",
   "metadata": {},
   "outputs": [],
   "source": [
    "def harvest_data(fn=None,T0=None):\n",
    "    data = scipy.io.loadmat(path_m+fn)['out_data']\n",
    "    df = pd.DataFrame(data=data)\n",
    "    df.rename(columns={0:'year',1:'month',2:'day',3:'hour',4:'minute',5:'second',6:'erg',7:'dau',8:'det'},inplace=True)\n",
    "    df = df.convert_dtypes()\n",
    "    dt_column = pd.to_datetime(df[['year', 'month', 'day', 'hour', 'minute', 'second']].astype(dtype=str))\n",
    "    df['datetime'] = dt_column\n",
    "    T0 = datetime.fromisoformat(T0)\n",
    "    tus = df['datetime']-T0\n",
    "    df['tus'] = tus\n",
    "    df['tus'] = df['tus'].dt.total_seconds()\n",
    "    df['dau'] = df['dau'].to_numpy()+1 #index starting now at 1\n",
    "    df['det'] = df['det'].to_numpy()+1 #index starting now at 1\n",
    "    df = make_adr(df)\n",
    "    \n",
    "    df.sort_values(by=['adr','tus'],inplace=True,ignore_index=True)\n",
    "    print('dau/det starting from index 1')\n",
    "    print('tus array given in seconds')\n",
    "    \n",
    "    tus,erg,dau,det = df['tus'].to_numpy(),df['erg'].to_numpy(),df['dau'].to_numpy(),df['det'].to_numpy()\n",
    "    keV,abc = convert_erg(erg,dau,det,T0)\n",
    "    df['keV'] = keV\n",
    "    df['tus'] = df['tus'].to_numpy()*1e6\n",
    "\n",
    "    st,dt = get_st(df),get_dt(df)\n",
    "    df['st']=st\n",
    "    df['dt']=dt\n",
    "\n",
    "    flag = get_flag(df)\n",
    "    df['flag']=flag\n",
    "    print('safety time: ',np.round((len(np.where(flag==True)[0])/len(flag))*100,3), '% removed')\n",
    "    df.drop(labels=np.where(flag==True)[0],inplace=True)\n",
    "    df.sort_values(by='tus',inplace=True,ignore_index=True)\n",
    "    df['tus'] = df['tus'].to_numpy()/1e6\n",
    "    print('tus given in seconds')\n",
    "    return df"
   ]
  },
  {
   "cell_type": "code",
   "execution_count": 4,
   "id": "2de8ff57-eb54-421b-ab28-563f34142250",
   "metadata": {},
   "outputs": [],
   "source": [
    "def make_adr(df):\n",
    "    dau,det = df['dau'].to_numpy(dtype=np.int16),df['det'].to_numpy(dtype=np.int16)\n",
    "    adr=[]\n",
    "    for i in np.arange(0,len(dau)):\n",
    "        adr.append((dau[i]-1)*3+det[i])\n",
    "    adr = np.array(adr)\n",
    "    df['adr'] = adr\n",
    "    return df"
   ]
  },
  {
   "cell_type": "code",
   "execution_count": null,
   "id": "d22f452b-edb9-487e-88af-1563eb6f2255",
   "metadata": {},
   "outputs": [],
   "source": []
  }
 ],
 "metadata": {
  "kernelspec": {
   "display_name": "base",
   "language": "python",
   "name": "base"
  },
  "language_info": {
   "codemirror_mode": {
    "name": "ipython",
    "version": 3
   },
   "file_extension": ".py",
   "mimetype": "text/x-python",
   "name": "python",
   "nbconvert_exporter": "python",
   "pygments_lexer": "ipython3",
   "version": "3.9.7"
  }
 },
 "nbformat": 4,
 "nbformat_minor": 5
}
