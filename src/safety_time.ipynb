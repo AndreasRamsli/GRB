{
 "cells": [
  {
   "cell_type": "markdown",
   "id": "689eed9e-9def-4895-bf55-8db31fb0ec3c",
   "metadata": {},
   "source": [
    "# imports"
   ]
  },
  {
   "cell_type": "code",
   "execution_count": 8,
   "id": "79c090d3-c053-4b37-92be-11b21507405d",
   "metadata": {},
   "outputs": [
    {
     "name": "stdout",
     "output_type": "stream",
     "text": [
      "\n",
      "All MAC paths are set!\n",
      "read_matlab_file.ipynb loaded successfully!\n",
      "\n",
      "All MAC paths are set!\n",
      "read_matlab_file.ipynb loaded successfully!\n",
      "convert_erg.ipynb loaded successfully!\n"
     ]
    }
   ],
   "source": [
    "import os\n",
    "import matplotlib.pyplot as plt\n",
    "%matplotlib inline\n",
    "path = os.getcwd()\n",
    "\n",
    "if path[1:5] == \"Home\":\n",
    "    %run /Home/siv30/wad005/master/GRB/src/read_matlab_file.ipynb\n",
    "    %run /Home/siv30/wad005/master/GRB/src/convert_erg.ipynb\n",
    "else:\n",
    "    %run /Users/andreas/phys/master/GRB/src/read_matlab_file.ipynb\n",
    "    %run /Users/andreas/phys/master/GRB/src/convert_erg.ipynb"
   ]
  },
  {
   "cell_type": "markdown",
   "id": "23944cc5-9dfa-4c3b-ab30-156ceb93255e",
   "metadata": {},
   "source": [
    "# Notes\n",
    "    Pandas syntax:\n",
    "\n",
    "    -iloc retrives the chronological index \n",
    "    -loc retrives the label index "
   ]
  },
  {
   "cell_type": "markdown",
   "id": "16e363fd-afc4-4b51-8f95-86bef98f8b36",
   "metadata": {},
   "source": [
    "# Satety time DF"
   ]
  },
  {
   "cell_type": "code",
   "execution_count": 2,
   "id": "9cd63d40-ecbc-4649-9663-ef715a2ecf26",
   "metadata": {},
   "outputs": [
    {
     "data": {
      "text/html": [
       "<div>\n",
       "<style scoped>\n",
       "    .dataframe tbody tr th:only-of-type {\n",
       "        vertical-align: middle;\n",
       "    }\n",
       "\n",
       "    .dataframe tbody tr th {\n",
       "        vertical-align: top;\n",
       "    }\n",
       "\n",
       "    .dataframe thead th {\n",
       "        text-align: right;\n",
       "    }\n",
       "</style>\n",
       "<table border=\"1\" class=\"dataframe\">\n",
       "  <thead>\n",
       "    <tr style=\"text-align: right;\">\n",
       "      <th></th>\n",
       "      <th>adr</th>\n",
       "      <th>dau</th>\n",
       "      <th>det</th>\n",
       "      <th>E0_kev</th>\n",
       "      <th>minimum_dt_us</th>\n",
       "    </tr>\n",
       "  </thead>\n",
       "  <tbody>\n",
       "    <tr>\n",
       "      <th>0</th>\n",
       "      <td>1</td>\n",
       "      <td>1</td>\n",
       "      <td>1</td>\n",
       "      <td>400</td>\n",
       "      <td>0</td>\n",
       "    </tr>\n",
       "    <tr>\n",
       "      <th>1</th>\n",
       "      <td>1</td>\n",
       "      <td>1</td>\n",
       "      <td>1</td>\n",
       "      <td>500</td>\n",
       "      <td>1</td>\n",
       "    </tr>\n",
       "    <tr>\n",
       "      <th>2</th>\n",
       "      <td>1</td>\n",
       "      <td>1</td>\n",
       "      <td>1</td>\n",
       "      <td>1000</td>\n",
       "      <td>3</td>\n",
       "    </tr>\n",
       "    <tr>\n",
       "      <th>3</th>\n",
       "      <td>1</td>\n",
       "      <td>1</td>\n",
       "      <td>1</td>\n",
       "      <td>2500</td>\n",
       "      <td>11</td>\n",
       "    </tr>\n",
       "    <tr>\n",
       "      <th>4</th>\n",
       "      <td>1</td>\n",
       "      <td>1</td>\n",
       "      <td>1</td>\n",
       "      <td>3000</td>\n",
       "      <td>13</td>\n",
       "    </tr>\n",
       "  </tbody>\n",
       "</table>\n",
       "</div>"
      ],
      "text/plain": [
       "   adr  dau  det  E0_kev  minimum_dt_us\n",
       "0    1    1    1     400              0\n",
       "1    1    1    1     500              1\n",
       "2    1    1    1    1000              3\n",
       "3    1    1    1    2500             11\n",
       "4    1    1    1    3000             13"
      ]
     },
     "execution_count": 2,
     "metadata": {},
     "output_type": "execute_result"
    }
   ],
   "source": [
    "st_df = pd.read_csv(path_ST)\n",
    "st_df = st_df.rename(columns={\"pmt\":\"det\"})\n",
    "st_df.head()"
   ]
  },
  {
   "cell_type": "markdown",
   "id": "8d474c69-0ddb-47e2-973c-327eb58f4c3b",
   "metadata": {},
   "source": [
    "# cutting df"
   ]
  },
  {
   "cell_type": "code",
   "execution_count": 3,
   "id": "c95be994-c6ed-4433-ba18-ea5a3bbe9188",
   "metadata": {},
   "outputs": [],
   "source": [
    "adr_1_df = st_df.truncate(after=22)\n",
    "adr_2_df = st_df.truncate(before=23,after=45)\n",
    "adr_3_df = st_df.truncate(before=46,after=68)\n",
    "adr_4_df = st_df.truncate(before=69,after=91)\n",
    "adr_5_df = st_df.truncate(before=92,after=114)\n",
    "adr_6_df = st_df.truncate(before=115,after=137)\n",
    "adr_7_df = st_df.truncate(before=138,after=160)\n",
    "adr_8_df = st_df.truncate(before=161,after=183)\n",
    "adr_9_df = st_df.truncate(before=184,after=206)\n",
    "adr_10_df = st_df.truncate(before=207,after=229)\n",
    "adr_11_df = st_df.truncate(before=230,after=252)\n",
    "adr_12_df = st_df.truncate(before=253)\n",
    "\n",
    "adr_df_list = [adr_1_df,adr_2_df, adr_3_df,adr_4_df,  adr_5_df,adr_6_df,  adr_7_df,adr_8_df,  adr_9_df,adr_10_df,  adr_11_df,adr_12_df] #validated ok!"
   ]
  },
  {
   "cell_type": "markdown",
   "id": "4e7ee076-47f8-4115-97ab-d0ba4b6792c5",
   "metadata": {},
   "source": [
    "# Getter functions for estimating safety time"
   ]
  },
  {
   "cell_type": "code",
   "execution_count": 4,
   "id": "9b6b0a09-360b-417c-bfd1-1d434f8dc6a9",
   "metadata": {},
   "outputs": [],
   "source": [
    "def est_st(adr=None,keV=None):\n",
    "    \"\"\"Estimating safetytime for a given adr to detector\n",
    "    and a given keV from energy channel\"\"\"\n",
    "    if keV<=400:\n",
    "        return 0\n",
    "    else:\n",
    "        dt_arr = adr_df_list[adr-1][\"minimum_dt_us\"].values\n",
    "        keV_arr = adr_df_list[adr-1][\"E0_kev\"].values\n",
    "        f = interp1d(keV_arr,dt_arr,fill_value=\"extrapolate\",bounds_error=False) #fill_value=\"extrapolate\"  --> specifying what happens if one specifies an input value that is out of bounds used for general function\n",
    "        sf = f(keV)\n",
    "        return np.float32(sf)"
   ]
  },
  {
   "cell_type": "code",
   "execution_count": 5,
   "id": "0e163c13-acd0-4207-b6db-2945c2c86e4a",
   "metadata": {},
   "outputs": [],
   "source": [
    "def get_st(df):\n",
    "    '''\n",
    "    st retured in microseconds\n",
    "    \n",
    "    '''\n",
    "    adr_arr = df[\"adr\"].to_numpy()\n",
    "    keV_arr = df[\"keV\"].to_numpy()\n",
    "    \n",
    "    return np.array([est_st(adr, keV) for adr, keV in zip(adr_arr, keV_arr)])"
   ]
  },
  {
   "cell_type": "code",
   "execution_count": 6,
   "id": "35a28551-08cf-4e7a-8183-26bbe708e36f",
   "metadata": {},
   "outputs": [],
   "source": [
    "def get_dt(df):\n",
    "    '''\n",
    "    df['tus'] must be given in microseconds\n",
    "    '''\n",
    "    adr_arr = df[\"adr\"].to_numpy()\n",
    "    tus_arr = df[\"tus\"].to_numpy()\n",
    "    dt_temp = [0] + [np.abs(tus_arr[i] - tus_arr[i-1]) if adr_arr[i] == adr_arr[i-1] else 0 for i in range(1, len(tus_arr))]\n",
    "    return dt_temp"
   ]
  },
  {
   "cell_type": "markdown",
   "id": "136f3b18-2fac-486b-a7be-b0acd6e06cd4",
   "metadata": {},
   "source": [
    "def get_dt(df):\n",
    "    '''\n",
    "    df['tus'] must be given in microseconds\n",
    "    '''\n",
    "    dt_temp = []\n",
    "    adr_arr = df[\"adr\"].to_numpy()\n",
    "    tus_arr = df[\"tus\"].to_numpy()\n",
    "    \n",
    "    for i,tus in enumerate(tus_arr):\n",
    "        if i == 0:\n",
    "            dt_temp.append(0) #at the start of the array. No dt to next because its the last one\n",
    "        elif adr_arr[i] != adr_arr[i-1]:\n",
    "            dt_temp.append(0) #No prev trigger at border\n",
    "        else:\n",
    "            dt_temp.append(np.abs(tus-tus_arr[i-1])) #appending the dt \n",
    "    return dt_temp"
   ]
  },
  {
   "cell_type": "code",
   "execution_count": 2,
   "id": "3f74c82f-f347-465b-ac95-609e6031de01",
   "metadata": {},
   "outputs": [],
   "source": [
    "def get_flag(df):\n",
    "    '''\n",
    "    df['tus'] must be given in microseconds\n",
    "    returns: np.array(flag)\n",
    "    '''\n",
    "    df = df.sort_values(by=['adr','tus'])\n",
    "    st,dt = df['st'].to_numpy(dtype=np.float64),df['dt'].to_numpy(dtype=np.float64)\n",
    "    flag = [None]*len(st)\n",
    "    for i,(s,d) in enumerate(zip(st,dt[1:])): #need to make the i skip n interations due to the while loop\n",
    "        if s>d:\n",
    "            flag[i] = True\n",
    "            scount = s-d\n",
    "            while scount>0:\n",
    "                i += 1\n",
    "                if i+1 < len(dt):\n",
    "                    scount -= dt[i+1] # 2 comes from: +1 is from the zip and +1 from the next\n",
    "                    if scount>0:\n",
    "                        flag[i] = True\n",
    "                    else:\n",
    "                        flag[i] = False\n",
    "                else:\n",
    "                    flag[i] = True\n",
    "                    break\n",
    "        else:\n",
    "            if flag[i] == None:\n",
    "                flag[i] = False\n",
    "\n",
    "    flag.insert(0,False)\n",
    "    flag.pop(-1)\n",
    "    return(np.array(flag))"
   ]
  },
  {
   "cell_type": "markdown",
   "id": "eaa850df-504e-4c00-921f-34556ac7841b",
   "metadata": {},
   "source": [
    "# Interpolation of safety time as a function energy of for all the detectors"
   ]
  },
  {
   "cell_type": "markdown",
   "id": "0f574cd4-d571-4939-b3c1-d56ebba5e64b",
   "metadata": {},
   "source": [
    "#Creating 6x2 subplots for all the safety time estimates for all the detectors\n",
    "fig, (axs1,axs2,axs3,axs4,axs5,axs6) = plt.subplots(6,2,figsize=(12,15))\n",
    "axs_list = [axs1,axs2,axs3,axs4,axs5,axs6]\n",
    "for i,axs in enumerate(axs_list):\n",
    "    first_idx = i*2\n",
    "    sec_idx = i*2 +1\n",
    "    \n",
    "    dt_0 = adr_df_list[first_idx][\"minimum_dt_us\"].values\n",
    "    keV_0 = adr_df_list[first_idx][\"E0_kev\"].values\n",
    "    f_0 = interp1d(dt_0, keV_0) #fill_value=\"extrapolate\"  --> specifying what happens if one specifies an input value that is out of bounds used for general function\n",
    "    dt_0_new = np.arange(min(dt_0),max(dt_0),0.01)\n",
    "    keV_0_new = f_0(dt_0_new)\n",
    "\n",
    "    axs[0].plot(dt_0, keV_0,'r+',label=\"Data point\")\n",
    "    axs[0].plot(dt_0_new, keV_0_new, '--',label=\"Interpolation\")\n",
    "    axs[0].set_yscale('log')\n",
    "    axs[0].set_title(\"Adr {}\".format(str(first_idx + 1)), fontweight='bold')\n",
    "    axs[0].set_xlabel('Safety time [us]')\n",
    "    axs[0].set_ylabel('Energy [keV]')\n",
    "    axs[0].legend()\n",
    "    \n",
    "    dt_1 = adr_df_list[sec_idx][\"minimum_dt_us\"].values\n",
    "    keV_1 = adr_df_list[sec_idx][\"E0_kev\"].values\n",
    "    f_1 = interp1d(dt_1, keV_1) #fill_value=\"extrapolate\"  --> specifying what happens if one specifies an input value that is out of bounds used for general function\n",
    "    dt_1_new = np.arange(min(dt_1),max(dt_1),0.01)\n",
    "    keV_1_new = f_1(dt_1_new)\n",
    "    \n",
    "    axs[1].plot(dt_1, keV_1, 'r+',label=\"Data point\")\n",
    "    axs[1].plot(dt_1_new, keV_1_new, '--',label=\"Interpolation\")\n",
    "    axs[1].set_yscale('log')\n",
    "    axs[1].set_title(\"Adr {}\".format(str(sec_idx + 1)), fontweight='bold')\n",
    "    axs[1].set_xlabel('Safety time [us]')\n",
    "    axs[1].set_ylabel('Energy [keV]')\n",
    "    axs[1].legend()\n",
    "    \n",
    "fig.tight_layout(pad=2.5)\n",
    "fig.suptitle(\"Energy vs Safety Time\", fontweight='bold',fontsize=20)\n",
    "\n",
    "#plt.savefig(\"/Users/andreas/phys/master/GRB/pyplots/safetytime/ST_detectors.png\",format=\"png\",dpi=300)\n",
    "plt.show()"
   ]
  },
  {
   "cell_type": "markdown",
   "id": "9e8c5843-1b60-4d88-858c-e752069eed52",
   "metadata": {},
   "source": [
    "dt_arr = adr_df_list[0][\"minimum_dt_us\"].values\n",
    "keV_arr = adr_df_list[0][\"E0_kev\"].values\n",
    "f = interp1d(keV_arr,dt_arr,fill_value=\"extrapolate\",bounds_error=False) #fill_value=\"extrapolate\"  --> specifying what happens if one specifies an input value that is out of bounds used for general function\n",
    "keV_new = np.arange(min(keV_arr),max(keV_arr),0.01)\n",
    "dt_new = f(keV_new)\n",
    "plt.plot(keV_arr,dt_arr, 'r+', keV_new, dt_new,'--') #, keV_new,dt_new,'-'\n",
    "plt.xscale('log')\n",
    "plt.xlabel('$keV$')\n",
    "plt.ylabel(u\"\\u03BCs\")\n",
    "plt.title(\"Adr 1, Safety time\")\n",
    "#plt.savefig(\"/Users/andreas/phys/master/GRB/pyplots/safetytime/ST_energy.png\",format=\"png\")\n",
    "plt.show()"
   ]
  },
  {
   "cell_type": "code",
   "execution_count": 16,
   "id": "30e9f806-6db4-4ad5-bb81-7165053bb928",
   "metadata": {},
   "outputs": [
    {
     "name": "stdout",
     "output_type": "stream",
     "text": [
      "safety_time.ipynb loaded successfully!\n"
     ]
    }
   ],
   "source": [
    "print(\"safety_time.ipynb loaded successfully!\")"
   ]
  }
 ],
 "metadata": {
  "kernelspec": {
   "display_name": "base",
   "language": "python",
   "name": "base"
  },
  "language_info": {
   "codemirror_mode": {
    "name": "ipython",
    "version": 3
   },
   "file_extension": ".py",
   "mimetype": "text/x-python",
   "name": "python",
   "nbconvert_exporter": "python",
   "pygments_lexer": "ipython3",
   "version": "3.9.7"
  }
 },
 "nbformat": 4,
 "nbformat_minor": 5
}
