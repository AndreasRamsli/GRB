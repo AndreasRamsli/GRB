{
 "cells": [
  {
   "cell_type": "code",
   "execution_count": 20,
   "id": "476af711-42e2-43d8-9d75-44294e5009af",
   "metadata": {},
   "outputs": [],
   "source": [
    "# Define the speed of light in meters per second\n",
    "SPEED_OF_LIGHT = 299792458\n",
    "\n",
    "# Define the conversion factor from keV to joules\n",
    "KEV_TO_JOULES = 1.602176634e-16\n",
    "\n",
    "# Define the Planck constant in joules per second\n",
    "PLANCK_CONSTANT = 6.62607015e-34\n",
    "\n",
    "# Define the function that converts keV to Hz\n",
    "def kev_to_hz(kev):\n",
    "  # Convert the keV value to joules\n",
    "    energy = kev * KEV_TO_JOULES\n",
    "  \n",
    "  # Calculate the frequency in Hz\n",
    "    frequency = energy / PLANCK_CONSTANT\n",
    "  \n",
    "  # Return the result\n",
    "    return frequency"
   ]
  },
  {
   "cell_type": "code",
   "execution_count": 21,
   "id": "179b5daf-a045-4cc0-bf74-959b7bb8560c",
   "metadata": {},
   "outputs": [
    {
     "name": "stdout",
     "output_type": "stream",
     "text": [
      "1.0482708761210746e+16 MHz\n"
     ]
    }
   ],
   "source": [
    "# Test the function with a sample value of 100 keV\n",
    "print(kev_to_hz(43353)/1e6,'MHz')"
   ]
  }
 ],
 "metadata": {
  "kernelspec": {
   "display_name": "base",
   "language": "python",
   "name": "base"
  },
  "language_info": {
   "codemirror_mode": {
    "name": "ipython",
    "version": 3
   },
   "file_extension": ".py",
   "mimetype": "text/x-python",
   "name": "python",
   "nbconvert_exporter": "python",
   "pygments_lexer": "ipython3",
   "version": "3.9.13"
  }
 },
 "nbformat": 4,
 "nbformat_minor": 5
}
