{
 "cells": [
  {
   "cell_type": "markdown",
   "id": "50db5d22-2a55-40e1-b485-4f85b57043e4",
   "metadata": {},
   "source": [
    "# imports"
   ]
  },
  {
   "cell_type": "code",
   "execution_count": 1,
   "id": "8b99d9bf-0bf5-4aa3-99d4-28ba8524e374",
   "metadata": {},
   "outputs": [
    {
     "name": "stdout",
     "output_type": "stream",
     "text": [
      "read_matlab_file.ipynb loaded successfully!\n",
      "read_matlab_file.ipynb loaded successfully!\n",
      "convert_erg.ipynb loaded successfully!\n",
      "read_matlab_file.ipynb loaded successfully!\n",
      "read_matlab_file.ipynb loaded successfully!\n",
      "convert_erg.ipynb loaded successfully!\n",
      "safety_time.ipynb loaded successfully!\n"
     ]
    }
   ],
   "source": [
    "%run read_matlab_file.ipynb\n",
    "%run convert_erg.ipynb\n",
    "%run safety_time.ipynb"
   ]
  },
  {
   "cell_type": "markdown",
   "id": "72562ed0-57c1-476f-8199-317134ac4190",
   "metadata": {},
   "source": [
    "# implementation blueprint\n",
    "\n",
    "    -Problem: Fucked up the pltmacro. Might be caused by the \"TkAgg\" backend.\n",
    "    Solution: The pltmacro file is imported correctly but when one is generating plots from another notebook the rcParams in TkAgg backend kicks in.\n",
    "    \n",
    "    \n",
    "    \n",
    "    GENERAL IMPLEMENTATION STEPS\n",
    "    ----------------------------    \n",
    "    \n",
    "    \n",
    "    DATA HANDLING\n",
    "    -------------\n",
    "    1. Subtract absolute time correction from T0 and tus array\n",
    "    2. importing calibration coef and coverting to keV\n",
    "    3. creating dataframe containing data\n",
    "    4. sorting by adr and then tus\n",
    "    5. estimating dt between i and i-1 (after sorting by adr and tus)\n",
    "    6. calculating safety time based on keV and dt\n",
    "    7. flagging events that have dt <= st AND typ > 1 events.\n",
    "\n",
    "    LC PRODUCTION\n",
    "    -----------------\n",
    "    1. creating LC containing complete photon list. DONE\n",
    "    2. filtering photon list based on relevant energy interval. HED [350-1500 kev], LED [80-350 kev]. DONE\n",
    "    3. remove flagged events from the filtered photon list\n",
    "    4. calculate background for the relevant energy bands \n",
    "    5. plotting LC where background is subtracted\n",
    "    \n",
    "    \n",
    "    final step. plot LC of the flagged events only. The ratio between the flagged events / number of counts in each bin is a measure of the dead time. (deadtime relative to binsize) \n",
    "    \n",
    "    \n",
    "    "
   ]
  },
  {
   "cell_type": "markdown",
   "id": "5125a7b0-72e6-4b61-8967-71ff031d7376",
   "metadata": {},
   "source": [
    "# Notes\n",
    "    --final plots should be done in the current notebook\n",
    "\n",
    "    - be careful of using is True or is not True. There are two types of booleans: np.bool_ or native python bool\n",
    "    USE: == or !=\n",
    "    \n",
    "    - a lot of energies are converted to keV = 351.4519739\n",
    "    \n",
    "    - Flagging all type 3 events or using the algorithm to find it? 116 vs 114\n",
    "    \n",
    "    -flagg all type 3 events manually?"
   ]
  },
  {
   "cell_type": "markdown",
   "id": "2ccd7f92-5b60-4e38-be60-d6b3dd8ab239",
   "metadata": {},
   "source": [
    "# complete df"
   ]
  },
  {
   "cell_type": "code",
   "execution_count": 2,
   "id": "df270f0b-73eb-4f49-9c53-defe21d5e507",
   "metadata": {},
   "outputs": [],
   "source": [
    "def complete_df(grb_id):\n",
    "    if len(trig_dict_HED[grb_id])>1:\n",
    "        return print(\"long grb, handle later\")\n",
    "    else:\n",
    "        tus, erg, typ, adr, dau, det, T0 = read_matlab_file_with_BGO_data(trig_dict_HED[grb_id][0])\n",
    "        keV,cal_abc = convert_erg(erg, dau, det, T0)\n",
    "        print(\"erg converted to keV\")\n",
    "        df = create_df(tus,erg,typ,adr,dau,det,keV,cal_abc)\n",
    "        df = df.sort_values(by=['adr','tus']) #important to sort first by the adr then tus --> Handling the triggers in each detector seperate\n",
    "        print(\"df sorted by adr and tus\")\n",
    "        #Creating columns for st, dt and flag\n",
    "        st_list = get_st(df)\n",
    "        df[\"st\"] = st_list\n",
    "        \n",
    "        dt_list = get_dt(df)\n",
    "        df[\"dt\"] = dt_list\n",
    "        \n",
    "        flag = get_flag(df) #should also flag fast events!\n",
    "        df[\"flag\"] = flag\n",
    "        \n",
    "        print(\"safety time events flagged and type = 3 events flagged. \" + \"Found \" + str(sum(df[\"flag\"].to_numpy())) + \" flags\")\n",
    "        return df,T0"
   ]
  },
  {
   "cell_type": "code",
   "execution_count": 13,
   "id": "16994c1b-baaf-4921-a5e6-3ecfda70a791",
   "metadata": {},
   "outputs": [
    {
     "name": "stdout",
     "output_type": "stream",
     "text": [
      "Absolute time correction subtracted from tus array and T0\n",
      "erg converted to keV\n",
      "df sorted by adr and tus\n",
      "safety time events flagged and type = 3 events flagged. Found 474 flags\n",
      "(24774, 11)\n"
     ]
    },
    {
     "data": {
      "text/html": [
       "<div>\n",
       "<style scoped>\n",
       "    .dataframe tbody tr th:only-of-type {\n",
       "        vertical-align: middle;\n",
       "    }\n",
       "\n",
       "    .dataframe tbody tr th {\n",
       "        vertical-align: top;\n",
       "    }\n",
       "\n",
       "    .dataframe thead th {\n",
       "        text-align: right;\n",
       "    }\n",
       "</style>\n",
       "<table border=\"1\" class=\"dataframe\">\n",
       "  <thead>\n",
       "    <tr style=\"text-align: right;\">\n",
       "      <th></th>\n",
       "      <th>tus</th>\n",
       "      <th>erg</th>\n",
       "      <th>typ</th>\n",
       "      <th>adr</th>\n",
       "      <th>dau</th>\n",
       "      <th>det</th>\n",
       "      <th>keV</th>\n",
       "      <th>cal_abc</th>\n",
       "      <th>st</th>\n",
       "      <th>dt</th>\n",
       "      <th>flag</th>\n",
       "    </tr>\n",
       "  </thead>\n",
       "  <tbody>\n",
       "    <tr>\n",
       "      <th>16</th>\n",
       "      <td>-491943.976667</td>\n",
       "      <td>299</td>\n",
       "      <td>0</td>\n",
       "      <td>1</td>\n",
       "      <td>1</td>\n",
       "      <td>1</td>\n",
       "      <td>2998.481096</td>\n",
       "      <td>0.004946, 8.3696, 53.79335</td>\n",
       "      <td>12.993924</td>\n",
       "      <td>NaN</td>\n",
       "      <td>False</td>\n",
       "    </tr>\n",
       "    <tr>\n",
       "      <th>17</th>\n",
       "      <td>-491803.948889</td>\n",
       "      <td>1815</td>\n",
       "      <td>0</td>\n",
       "      <td>1</td>\n",
       "      <td>1</td>\n",
       "      <td>1</td>\n",
       "      <td>31537.854200</td>\n",
       "      <td>0.004946, 8.3696, 53.79335</td>\n",
       "      <td>25.615142</td>\n",
       "      <td>140.027778</td>\n",
       "      <td>False</td>\n",
       "    </tr>\n",
       "    <tr>\n",
       "      <th>19</th>\n",
       "      <td>-491737.948889</td>\n",
       "      <td>260</td>\n",
       "      <td>0</td>\n",
       "      <td>1</td>\n",
       "      <td>1</td>\n",
       "      <td>1</td>\n",
       "      <td>2564.238950</td>\n",
       "      <td>0.004946, 8.3696, 53.79335</td>\n",
       "      <td>11.256956</td>\n",
       "      <td>66.000000</td>\n",
       "      <td>False</td>\n",
       "    </tr>\n",
       "    <tr>\n",
       "      <th>54</th>\n",
       "      <td>-488456.782222</td>\n",
       "      <td>1057</td>\n",
       "      <td>0</td>\n",
       "      <td>1</td>\n",
       "      <td>1</td>\n",
       "      <td>1</td>\n",
       "      <td>14426.374104</td>\n",
       "      <td>0.004946, 8.3696, 53.79335</td>\n",
       "      <td>21.000000</td>\n",
       "      <td>3281.166667</td>\n",
       "      <td>False</td>\n",
       "    </tr>\n",
       "    <tr>\n",
       "      <th>85</th>\n",
       "      <td>-485219.698889</td>\n",
       "      <td>37</td>\n",
       "      <td>0</td>\n",
       "      <td>1</td>\n",
       "      <td>1</td>\n",
       "      <td>1</td>\n",
       "      <td>370.239624</td>\n",
       "      <td>0.004946, 8.3696, 53.79335</td>\n",
       "      <td>0.000000</td>\n",
       "      <td>3237.083333</td>\n",
       "      <td>False</td>\n",
       "    </tr>\n",
       "  </tbody>\n",
       "</table>\n",
       "</div>"
      ],
      "text/plain": [
       "              tus   erg  typ  adr  dau  det           keV  \\\n",
       "16 -491943.976667   299    0    1    1    1   2998.481096   \n",
       "17 -491803.948889  1815    0    1    1    1  31537.854200   \n",
       "19 -491737.948889   260    0    1    1    1   2564.238950   \n",
       "54 -488456.782222  1057    0    1    1    1  14426.374104   \n",
       "85 -485219.698889    37    0    1    1    1    370.239624   \n",
       "\n",
       "                       cal_abc         st           dt   flag  \n",
       "16  0.004946, 8.3696, 53.79335  12.993924          NaN  False  \n",
       "17  0.004946, 8.3696, 53.79335  25.615142   140.027778  False  \n",
       "19  0.004946, 8.3696, 53.79335  11.256956    66.000000  False  \n",
       "54  0.004946, 8.3696, 53.79335  21.000000  3281.166667  False  \n",
       "85  0.004946, 8.3696, 53.79335   0.000000  3237.083333  False  "
      ]
     },
     "execution_count": 13,
     "metadata": {},
     "output_type": "execute_result"
    }
   ],
   "source": [
    "df,T0 = complete_df(\"GRB190206\")\n",
    "print(df.shape)\n",
    "df.head()"
   ]
  },
  {
   "cell_type": "markdown",
   "id": "b8dd0d7b-1de7-4f3b-98c8-3a7f0959e649",
   "metadata": {},
   "source": [
    "# filtering energy interval and removing flagged events"
   ]
  },
  {
   "cell_type": "code",
   "execution_count": 4,
   "id": "2b973400-3888-4a09-862e-04206d8f457c",
   "metadata": {},
   "outputs": [],
   "source": [
    "# df is soreted by adr and then tus\n",
    "\n",
    "def filter_by_energy_interval(df,lower_bound,upper_bound):\n",
    "    \"\"\"lower and upper bound given in keV\n",
    "    IMPROVEMENT: maybe just return the flagged tus here insted of indexing them in the df\n",
    "    \n",
    "    return: tus: photon trigger list filtered by energy interval\n",
    "            kev: array of keV's \n",
    "            flagged: array containing the indecies in the df that are in the energy interval and have been flagged\"\"\"\n",
    "    \n",
    "    tus_arr = df[\"tus\"].to_numpy()\n",
    "    kev_arr = df[\"keV\"].to_numpy()\n",
    "    flag_arr = df[\"flag\"].to_numpy()\n",
    "    \n",
    "    \n",
    "    tus_temp, kev_temp, flagged_temp = [],[],[]\n",
    "    print(\"selecting kev interval. Removing flagged events.\")\n",
    "    for i,kev in enumerate(kev_arr):\n",
    "        if lower_bound <= kev <= upper_bound:\n",
    "            if flag_arr[i] == False:\n",
    "                kev_temp.append(kev)\n",
    "                tus_temp.append(tus_arr[i])\n",
    "            else:\n",
    "                flagged_temp.append(tus_arr[i])\n",
    "\n",
    "    print(\"found {} out of {} flagged triggers on the given keV interval\".format(len(flagged_temp), sum(df[\"flag\"])))\n",
    "    return np.array(tus_temp), np.array(kev_temp), np.array(flagged_temp)\n",
    "    "
   ]
  },
  {
   "cell_type": "markdown",
   "id": "62b377d4-2156-4597-92b7-fb6a05063038",
   "metadata": {},
   "source": [
    "# background estimation"
   ]
  },
  {
   "cell_type": "code",
   "execution_count": 22,
   "id": "086f9479-a975-4899-a7c9-0e4663233578",
   "metadata": {},
   "outputs": [],
   "source": [
    "def estimate_background(tus,start=None,end=None,binsize=None):\n",
    "    \"\"\"Estimates background for a given tus array on a given ms interval.\n",
    "    Using histograms for estimation. \n",
    "    -Constant fit: sum(bin counts)/length(bins)\n",
    "    -Binsize given in ms. USING BINS ESTIMATED FROM TUS FOR ALL OTHER LC'S!\n",
    "    -indexing of the bins hist[start_idx, end_idx) >> up to but not including the end_idx bin\n",
    "    \"\"\"\n",
    " \n",
    "    \n",
    "    if binsize == None:\n",
    "        return print(\"binsize need to be specified\")\n",
    "    \n",
    "    hist = np.histogram(tus/1e3,bins=np.arange(\n",
    "            min(tus/1e3), max(tus/1e3) + binsize, binsize)) #binning in ms not us\n",
    "    \n",
    "    hist_bg = hist[0]\n",
    "    edges = hist[1] #array of position the hist bin start\n",
    "    \n",
    "    if start==\"start\" or start==None:\n",
    "        start_idx = 0\n",
    "    else:\n",
    "        start_idx = find_nearest(edges,start)\n",
    "        \n",
    "    if end == None:\n",
    "        return print(\"end index need to be specified\")\n",
    "    else:\n",
    "        end_idx = find_nearest(edges,end)\n",
    "        bg = round(sum(hist_bg[start_idx:end_idx])/len(hist_bg[start_idx:end_idx]))\n",
    "        print(\"bg avg on interval:\", bg)\n",
    "        #bg = 220\n",
    "        hist_no_bg = hist_bg - bg #subtracting background all bins.\n",
    "        \n",
    "    return hist_bg, hist_no_bg, edges, bg"
   ]
  },
  {
   "cell_type": "code",
   "execution_count": 6,
   "id": "1c3904f6-9eb3-475e-82de-1a2f7f37b3bf",
   "metadata": {},
   "outputs": [],
   "source": [
    "def estimate_dead_time(tus_filt_hist=None,tus_flagged_hist=None):\n",
    "    '''defined as the the ratio between the counts in the filtered (or the normal array) / removed bins\n",
    "    generating the ratio between the normal and filtered hists\n",
    "    \n",
    "    \n",
    "    NOTE: binning based on the TUS_FILT array.\n",
    "    \n",
    "    estimate the ratio between the number of flagged events vs filtered counts in each bin. \n",
    "    how to estimate dead time? \n",
    "    \n",
    "    return the ratio pr bin as an array'''\n",
    "    \n",
    "    dead_time_temp =[]\n",
    "    \n",
    "    for i,n in enumerate(tus_flagged_hist):\n",
    "        if tus_filt_hist[i]==0:\n",
    "            dead_time_temp.append(0)\n",
    "        else:\n",
    "            fraq = np.round(n/tus_filt_hist[i],5)\n",
    "            dead_time_temp.append(fraq)\n",
    "        \n",
    "    return np.array(dead_time_temp)\n",
    "    "
   ]
  },
  {
   "cell_type": "markdown",
   "id": "91411ee7-1c68-4688-9e76-d18aab3b4eb7",
   "metadata": {},
   "source": [
    "# main filter "
   ]
  },
  {
   "cell_type": "code",
   "execution_count": 23,
   "id": "c03d93dc-9c39-407a-a41c-c7e0f0a3cedf",
   "metadata": {},
   "outputs": [],
   "source": [
    "#change name to main()\n",
    "def main_filter(grb_id=None, lower_bound=None, upper_bound=None, start=None, end=None, binsize=None):\n",
    "    '''Need plots for original image, filtered energy range with background marked, filtered with background removed\n",
    "    \n",
    "    returns: filtered histogram, edges and background\n",
    "\n",
    "    '''\n",
    "    #data handling\n",
    "    df,T0 = complete_df(grb_id)\n",
    "    \n",
    "    #regular tus array\n",
    "    tus = df[\"tus\"].to_numpy()\n",
    "    org_hist, org_edges = np.histogram(tus/1e3,bins=np.arange(min(tus/1e3), max(tus/1e3) + binsize, binsize))\n",
    "    \n",
    "    #filtered arrays\n",
    "    tus_filt, kev_filt, tus_flagged = filter_by_energy_interval(df,lower_bound,upper_bound)\n",
    "    \n",
    "    #histogram binning\n",
    "    hist_bg, hist_no_bg, edges, bg = estimate_background(tus_filt,start=start,end=end,binsize=binsize)\n",
    "    flagged_hist, flagged_edges = np.histogram(tus_flagged/1e3,bins=np.arange(min(tus/1e3), max(tus/1e3) + binsize, binsize))\n",
    "    \n",
    "    #deadtime \n",
    "    #dead_time = estimate_dead_time(tus_filt_hist=hist_no_bg,tus_flagged_hist=flagged_hist)\n",
    "    \n",
    "    return org_hist, hist_bg, hist_no_bg, flagged_hist, org_edges, bg, binsize\n",
    "    "
   ]
  },
  {
   "cell_type": "code",
   "execution_count": 24,
   "id": "e7a78f54-37d9-44ff-a0e7-2dc321e5d754",
   "metadata": {},
   "outputs": [
    {
     "name": "stdout",
     "output_type": "stream",
     "text": [
      "Absolute time correction subtracted from tus array and T0\n",
      "erg converted to keV\n",
      "df sorted by adr and tus\n",
      "safety time events flagged and type = 3 events flagged. Found 303 flags\n",
      "selecting kev interval. Removing flagged events.\n",
      "found 101 out of 303 flagged triggers on the given keV interval\n",
      "bg avg on interval: 6\n"
     ]
    }
   ],
   "source": [
    "org_hist, hist, hist_no_bg, flagged_hist, org_edges, bg, binsize = main_filter(grb_id=\"GRB200415\",lower_bound=350,upper_bound=1500,start=-750,end=-20,binsize=2)"
   ]
  },
  {
   "cell_type": "markdown",
   "id": "59f0f273-0410-4701-9152-2e0674f03420",
   "metadata": {},
   "source": [
    "# plotting functions"
   ]
  },
  {
   "cell_type": "code",
   "execution_count": 50,
   "id": "534cbef0-fa41-44be-a116-fda32f86c742",
   "metadata": {},
   "outputs": [],
   "source": [
    "def LC_plots(org_hist, hist, hist_no_bg, flagged_hist, edges, bg, binsize):\n",
    "     # Producing LC\n",
    "    #to silence an axis for odd number of plots: ax[-1, -1].axis('off')\n",
    "    fig, (ax1,ax2) = plt.subplots(2,2,sharey=True,figsize=(16,10))\n",
    "    \n",
    "\n",
    "    ax1[0].bar(x=edges[:-1], height=org_hist, width=binsize, edgecolor=\"black\",align='edge',color=\"black\",label=\"Full photon list\")\n",
    "    \n",
    "    ax1[1].bar(x=edges[:-1], height=hist, width=binsize, edgecolor= \"black\",align='edge', color=\"black\", label=\"Energy range {}-{} keV\".format(lower_bound,upper_bound))\n",
    "\n",
    "    ax1[1].axhline(bg,c=\"r\",label=\"Background: {} counts/bin \\n Background interval [{},{}] ms\".format(bg,start,end))\n",
    "    \n",
    "    ax2[0].bar(edges[:-1], hist_no_bg ,width=binsize, edgecolor=\"black\", align='edge',color=\"black\", label=\"Background subtracted. \\n Filter: {}-{} keV\".format(lower_bound,upper_bound))\n",
    "\n",
    "    ax2[1].bar(x=edges[:-1], height=flagged_hist, width=binsize, edgecolor=\"black\", align='edge',color=\"black\", label=\"flagged events\")\n",
    "    \n",
    "    #setting X/Y labels and legends\n",
    "    for i in np.arange(0,2):\n",
    "            ax1[i].set_xlabel(\"T-T0 [ms], binsize = {} ms\".format((binsize)))\n",
    "            ax1[i].set_ylabel(\"Counts/ {} ms\".format((binsize)))\n",
    "            ax1[i].legend()\n",
    "    for i in np.arange(0,2):\n",
    "            ax2[i].set_xlabel(\"T-T0 [ms], binsize = {} ms\".format((binsize)))\n",
    "            ax2[i].set_ylabel(\"Counts/ {} ms\".format((binsize)))\n",
    "            ax2[i].legend()\n",
    "    \n",
    "    #setting titles for figure and subfigures\n",
    "    date_id = datetime.strftime(T0,format='%y%m%d') #Correct format for title of plot: GRBYYMMDD\n",
    "    time_id = datetime.strftime(T0,format='%H:%M:%S.%f')[0:12]\n",
    "    grb_id_title = \"GRB \" + date_id\n",
    "    plt.suptitle(grb_id_title + \" , \" + \"T0 = \" + time_id)\n",
    "    ax1[0].set_title(\"Complete photon array\")\n",
    "    ax1[1].set_title(\"Filtered by energy interval with background\")\n",
    "    ax2[0].set_title(\"Filtered by energy interval without background\")\n",
    "    ax2[1].set_title(\"Flagged events on energy interval\")\n",
    "                                                \n",
    "    plt.tight_layout()\n",
    "    plt.show()"
   ]
  },
  {
   "cell_type": "code",
   "execution_count": 53,
   "id": "afbc8059-28ef-4196-ade5-170b6e23c9fc",
   "metadata": {},
   "outputs": [
    {
     "name": "stdout",
     "output_type": "stream",
     "text": [
      "Absolute time correction subtracted from tus array and T0\n",
      "erg converted to keV\n",
      "df sorted by adr and tus\n",
      "safety time events flagged and type = 3 events flagged. Found 474 flags\n",
      "selecting kev interval. Removing flagged events.\n",
      "found 141 out of 474 flagged triggers on the given keV interval\n",
      "bg avg on interval: 10\n"
     ]
    }
   ],
   "source": [
    "org_hist, hist, hist_no_bg, flagged_hist, org_edges, bg, binsize = main_filter(grb_id=\"GRB190206\",lower_bound=350,upper_bound=1500,start=-750,end=-20,binsize=2)"
   ]
  },
  {
   "cell_type": "code",
   "execution_count": 51,
   "id": "b7c9709f-7d01-4a3f-ae8e-b5c99675cda3",
   "metadata": {},
   "outputs": [
    {
     "data": {
      "image/png": "[encoded data removed]",
      "text/plain": [
       "<Figure size 1152x720 with 4 Axes>"
      ]
     },
     "metadata": {},
     "output_type": "display_data"
    }
   ],
   "source": [
    "LC_plots(org_hist, hist, hist_no_bg, flagged_hist, org_edges, bg, binsize)"
   ]
  },
  {
   "cell_type": "code",
   "execution_count": 9,
   "id": "eb8ba18b-30c3-427e-8354-3ea10c2bc1f6",
   "metadata": {},
   "outputs": [
    {
     "name": "stdout",
     "output_type": "stream",
     "text": [
      "Absolute time correction subtracted from tus array and T0\n",
      "erg converted to keV\n",
      "df sorted by adr and tus\n",
      "safety time events flagged and type = 3 events flagged. Found 303 flags\n",
      "selecting kev interval. Removing flagged events.\n",
      "found 101 out of 303 flagged triggers on the given keV interval\n",
      "bg avg on interval: 6\n"
     ]
    }
   ],
   "source": [
    "df,T0 = complete_df(grb_id=\"GRB200415\")\n",
    "start=-750\n",
    "end=-20\n",
    "lower_bound=350\n",
    "upper_bound=1500\n",
    "binsize=2\n",
    "    \n",
    "#regular tus array\n",
    "tus = df[\"tus\"].to_numpy()\n",
    "\n",
    "#filtered arrays\n",
    "#changed flagged_idx to tus_flagged\n",
    "tus_filt, kev_filt, tus_flagged = filter_by_energy_interval(df,lower_bound,upper_bound)\n",
    "\n",
    "\n",
    "#histogram binning\n",
    "hist, hist_bg, edges, bg = estimate_background(tus_filt,start=start,end=end,binsize=binsize)\n",
    "flagged_hist,flagged_edges = np.histogram(tus_flagged/1e3,bins=np.arange(\n",
    "        min(tus_flagged/1e3), max(tus_flagged/1e3) + binsize, binsize))\n",
    "\n",
    "\n",
    "dead_time = estimate_dead_time(tus_filt_hist=hist_bg,tus_flagged_hist=flagged_hist)\n"
   ]
  },
  {
   "cell_type": "code",
   "execution_count": 52,
   "id": "b893aadf-40c2-4b77-ae2d-d48d91740efa",
   "metadata": {},
   "outputs": [],
   "source": [
    "# we assume the dead time is negligible. We dont have a good model for estimating the dead time yet."
   ]
  }
 ],
 "metadata": {
  "kernelspec": {
   "display_name": "base",
   "language": "python",
   "name": "base"
  },
  "language_info": {
   "codemirror_mode": {
    "name": "ipython",
    "version": 3
   },
   "file_extension": ".py",
   "mimetype": "text/x-python",
   "name": "python",
   "nbconvert_exporter": "python",
   "pygments_lexer": "ipython3",
   "version": "3.9.7"
  }
 },
 "nbformat": 4,
 "nbformat_minor": 5
}
