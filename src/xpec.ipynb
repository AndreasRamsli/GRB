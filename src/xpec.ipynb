{
 "cells": [
  {
   "cell_type": "markdown",
   "id": "cd5ab503-d1fd-4757-9242-72a450e190b0",
   "metadata": {},
   "source": [
    "# imports"
   ]
  },
  {
   "cell_type": "code",
   "execution_count": 1,
   "id": "e9d3557a-87d2-4379-ad97-1ad298a1a1b9",
   "metadata": {},
   "outputs": [],
   "source": [
    "import astropy as ap\n",
    "from stingray import Lightcurve, CrossCorrelation"
   ]
  },
  {
   "cell_type": "code",
   "execution_count": 2,
   "id": "d0ef8f8b-840d-4b61-8dbc-f25c9cbd67fa",
   "metadata": {},
   "outputs": [
    {
     "name": "stdout",
     "output_type": "stream",
     "text": [
      "all UiB paths loaded\n",
      "read_matlab_file.ipynb loaded successfully!\n",
      "all UiB paths loaded\n",
      "read_matlab_file.ipynb loaded successfully!\n",
      "all UiB paths loaded\n",
      "read_matlab_file.ipynb loaded successfully!\n",
      "convert_erg.ipynb loaded successfully!\n",
      "all UiB paths loaded\n",
      "read_matlab_file.ipynb loaded successfully!\n",
      "all UiB paths loaded\n",
      "read_matlab_file.ipynb loaded successfully!\n",
      "convert_erg.ipynb loaded successfully!\n",
      "safety_time.ipynb loaded successfully!\n",
      "LC_calibration loaded successfully!\n"
     ]
    }
   ],
   "source": [
    "%run read_matlab_file.ipynb\n",
    "%run LC_calibration.ipynb"
   ]
  },
  {
   "cell_type": "markdown",
   "id": "b22d7b6f-dbbc-480f-b319-05137ddb3f16",
   "metadata": {},
   "source": [
    "# XPEC data preperation\n",
    "\n",
    "### TODO\n",
    "    - Extract the bins from the txt file. DONE\n",
    "    \n",
    "    - Bin the keV into the predefined bins. DONE\n",
    "    \n",
    "    - Implement function for T0 & tus correction (ToF). DONE\n",
    "        --> COMMENT: still 300ms error after calibrating GRB190206\n",
    "        \n",
    "    -Do all the steps above for GRB200415A and cross check results. DONE\n",
    "    \n",
    "    - Implement function for cutting the tus & keV array at time interval given by Anastasia or GCN report \n",
    "        ---> NEXT UP\n",
    " \n",
    "    - make sure the T0 are correctly clibrated. Send complete list to Andrey for validation\n",
    "    \n",
    "    \n",
    "### Notes\n",
    "    -Assuming \n",
    "    -bins_keV are the right most edges! \n",
    "    -Anders have filtered for keV >=500 \n",
    "    -Implementation is ok. Proceed to wrapping a function around it.\n",
    "    --> have a shift variable as input (have to do with lining up the LC from the different spacecrafts)\n",
    "    \n",
    "    \n",
    "### Problems\n",
    "    -GRB200415: Problem lining up the T0 from my data to the data that Anders used to histogram the data for 0.8ms <=tus <= 3.2ms\n",
    "    Since the data is shifted a small amount the number of counts in the bins don't match up correctly.\n",
    "    --> Absolute time correction is neccecary, but this value might be different from the one Anders used.\n",
    "    -->Error of 4151.099 ... us (4.1 ms) from df_A and my df.\n",
    " \n",
    "    \n",
    "    -GRB200415: The binning does not produce the same bin counts in Ander´s df_A and the df_check\n",
    "    --> Because of filtering for keV's >= 500\n",
    "    \n",
    "    "
   ]
  },
  {
   "cell_type": "code",
   "execution_count": 3,
   "id": "1161d279-4169-4a01-8ef0-840dd728082f",
   "metadata": {},
   "outputs": [],
   "source": [
    "#time of flight from KW to ASIM. Given in seconds\n",
    "ToF = {\"GRB180720\":-4.2377,\"GRB181222\":2.8716, \"GRB190206\":4.9225, \"GRB190305\":3.4460,\n",
    "      \"GRB190606\":4.0316,\"GRB200415\":4.1840,\"GRB200521\":-0.6226,\"GRB200716\":3.0155,\n",
    "      \"GRB201227\":0.7142, \"GRB210424\":-0.5033, \"GRB210619\":-2.6183}"
   ]
  },
  {
   "cell_type": "code",
   "execution_count": 4,
   "id": "58bcca0c-68fc-46be-97d7-166f3366a345",
   "metadata": {},
   "outputs": [],
   "source": [
    "def ToF_correction(grb_id=None):\n",
    "    ToF_us = ToF[grb_id]*1e6\n",
    "    df,T0 = complete_df(grb_id=grb_id)\n",
    "    df[\"tus\"], T0_calibrated = df[\"tus\"] - ToF_us, T0 - timedelta(microseconds=ToF_us) #calibrating \n",
    "    return df,T0,T0_calibrated"
   ]
  },
  {
   "cell_type": "markdown",
   "id": "46da9cbb-656d-482e-b55c-569214dec09a",
   "metadata": {},
   "source": [
    "# bin control"
   ]
  },
  {
   "cell_type": "code",
   "execution_count": 5,
   "id": "30f37097-2bed-4757-afec-cde4f88cdba4",
   "metadata": {},
   "outputs": [
    {
     "data": {
      "text/html": [
       "<div>\n",
       "<style scoped>\n",
       "    .dataframe tbody tr th:only-of-type {\n",
       "        vertical-align: middle;\n",
       "    }\n",
       "\n",
       "    .dataframe tbody tr th {\n",
       "        vertical-align: top;\n",
       "    }\n",
       "\n",
       "    .dataframe thead th {\n",
       "        text-align: right;\n",
       "    }\n",
       "</style>\n",
       "<table border=\"1\" class=\"dataframe\">\n",
       "  <thead>\n",
       "    <tr style=\"text-align: right;\">\n",
       "      <th></th>\n",
       "      <th>energy_bin_start_keV</th>\n",
       "      <th>energy_bin_stop_keV</th>\n",
       "    </tr>\n",
       "  </thead>\n",
       "  <tbody>\n",
       "    <tr>\n",
       "      <th>0</th>\n",
       "      <td>10.00000</td>\n",
       "      <td>12.58925</td>\n",
       "    </tr>\n",
       "    <tr>\n",
       "      <th>1</th>\n",
       "      <td>12.58925</td>\n",
       "      <td>15.84893</td>\n",
       "    </tr>\n",
       "    <tr>\n",
       "      <th>2</th>\n",
       "      <td>15.84893</td>\n",
       "      <td>19.95262</td>\n",
       "    </tr>\n",
       "    <tr>\n",
       "      <th>3</th>\n",
       "      <td>19.95262</td>\n",
       "      <td>25.11886</td>\n",
       "    </tr>\n",
       "    <tr>\n",
       "      <th>4</th>\n",
       "      <td>25.11886</td>\n",
       "      <td>31.62278</td>\n",
       "    </tr>\n",
       "  </tbody>\n",
       "</table>\n",
       "</div>"
      ],
      "text/plain": [
       "   energy_bin_start_keV  energy_bin_stop_keV\n",
       "0              10.00000             12.58925\n",
       "1              12.58925             15.84893\n",
       "2              15.84893             19.95262\n",
       "3              19.95262             25.11886\n",
       "4              25.11886             31.62278"
      ]
     },
     "execution_count": 5,
     "metadata": {},
     "output_type": "execute_result"
    }
   ],
   "source": [
    "df_bin = pd.read_csv(bin_edges_path + \"HED_binedges.txt\")\n",
    "df_bin.head()"
   ]
  },
  {
   "cell_type": "code",
   "execution_count": 6,
   "id": "acd203c1-2e27-49e2-b5c3-9cd729957223",
   "metadata": {},
   "outputs": [
    {
     "data": {
      "image/png": "[encoded data removed]",
      "text/plain": [
       "<Figure size 1500x300 with 2 Axes>"
      ]
     },
     "metadata": {},
     "output_type": "display_data"
    }
   ],
   "source": [
    "fig,(ax1,ax2) = plt.subplots(1,2,figsize=(15,3))\n",
    "\n",
    "ax1.plot((df_bin[\"energy_bin_start_keV\"]))\n",
    "ax2.plot(np.log(df_bin[\"energy_bin_start_keV\"]))\n",
    "ax1.set_xlabel(\"bin number\")\n",
    "ax1.set_ylabel(\"keV bin\")\n",
    "ax2.set_xlabel(\"bin number\")\n",
    "ax2.set_ylabel(\"ln(keV)\")\n",
    "plt.show()"
   ]
  },
  {
   "cell_type": "code",
   "execution_count": 7,
   "id": "b2205f23-5fdc-4479-85ca-dd5a9710e0f7",
   "metadata": {},
   "outputs": [
    {
     "name": "stdout",
     "output_type": "stream",
     "text": [
      "41\n"
     ]
    },
    {
     "data": {
      "text/plain": [
       "array([1.000000e+01, 1.258925e+01, 1.584893e+01, 1.995262e+01,\n",
       "       2.511886e+01, 3.162278e+01, 3.981072e+01, 5.011872e+01,\n",
       "       6.309573e+01, 7.943282e+01, 1.000000e+02, 1.258925e+02,\n",
       "       1.584893e+02, 1.995262e+02, 2.511886e+02, 3.162278e+02,\n",
       "       3.981072e+02, 5.011872e+02, 6.309573e+02, 7.943282e+02,\n",
       "       1.000000e+03, 1.258925e+03, 1.584893e+03, 1.995262e+03,\n",
       "       2.511886e+03, 3.162278e+03, 3.981072e+03, 5.011872e+03,\n",
       "       6.309573e+03, 7.943282e+03, 1.000000e+04, 1.258925e+04,\n",
       "       1.584893e+04, 1.995262e+04, 2.511886e+04, 3.162278e+04,\n",
       "       3.981072e+04, 5.011872e+04, 6.309573e+04, 7.943282e+04,\n",
       "       1.000000e+05])"
      ]
     },
     "execution_count": 7,
     "metadata": {},
     "output_type": "execute_result"
    }
   ],
   "source": [
    "start = df_bin[\"energy_bin_start_keV\"].to_numpy()\n",
    "#start = np.append(0,start)\n",
    "end = df_bin[\"energy_bin_stop_keV\"].to_numpy()\n",
    "bins_keV=np.append(start,end[-1])\n",
    "print(len(bins_keV))\n",
    "bins_keV"
   ]
  },
  {
   "cell_type": "code",
   "execution_count": 8,
   "id": "c5503a4c-80ae-4f8d-b0be-a71baec8ac25",
   "metadata": {},
   "outputs": [
    {
     "name": "stdout",
     "output_type": "stream",
     "text": [
      "Num hist counts totoal:  300.0\n",
      "bins_keV are the right most edge\n"
     ]
    },
    {
     "data": {
      "text/html": [
       "<div>\n",
       "<style scoped>\n",
       "    .dataframe tbody tr th:only-of-type {\n",
       "        vertical-align: middle;\n",
       "    }\n",
       "\n",
       "    .dataframe tbody tr th {\n",
       "        vertical-align: top;\n",
       "    }\n",
       "\n",
       "    .dataframe thead th {\n",
       "        text-align: right;\n",
       "    }\n",
       "</style>\n",
       "<table border=\"1\" class=\"dataframe\">\n",
       "  <thead>\n",
       "    <tr style=\"text-align: right;\">\n",
       "      <th></th>\n",
       "      <th>bins_keV</th>\n",
       "      <th>counts</th>\n",
       "      <th>poisson_error_counts</th>\n",
       "      <th>duration_seconds</th>\n",
       "    </tr>\n",
       "  </thead>\n",
       "  <tbody>\n",
       "    <tr>\n",
       "      <th>36</th>\n",
       "      <td>39810.72</td>\n",
       "      <td>1.0</td>\n",
       "      <td>1.0</td>\n",
       "      <td>0.0024</td>\n",
       "    </tr>\n",
       "    <tr>\n",
       "      <th>37</th>\n",
       "      <td>50118.72</td>\n",
       "      <td>0.0</td>\n",
       "      <td>0.0</td>\n",
       "      <td>0.0024</td>\n",
       "    </tr>\n",
       "    <tr>\n",
       "      <th>38</th>\n",
       "      <td>63095.73</td>\n",
       "      <td>0.0</td>\n",
       "      <td>0.0</td>\n",
       "      <td>0.0024</td>\n",
       "    </tr>\n",
       "    <tr>\n",
       "      <th>39</th>\n",
       "      <td>79432.82</td>\n",
       "      <td>0.0</td>\n",
       "      <td>0.0</td>\n",
       "      <td>0.0024</td>\n",
       "    </tr>\n",
       "    <tr>\n",
       "      <th>40</th>\n",
       "      <td>100000.00</td>\n",
       "      <td>0.0</td>\n",
       "      <td>0.0</td>\n",
       "      <td>0.0024</td>\n",
       "    </tr>\n",
       "  </tbody>\n",
       "</table>\n",
       "</div>"
      ],
      "text/plain": [
       "     bins_keV  counts  poisson_error_counts  duration_seconds\n",
       "36   39810.72     1.0                   1.0            0.0024\n",
       "37   50118.72     0.0                   0.0            0.0024\n",
       "38   63095.73     0.0                   0.0            0.0024\n",
       "39   79432.82     0.0                   0.0            0.0024\n",
       "40  100000.00     0.0                   0.0            0.0024"
      ]
     },
     "execution_count": 8,
     "metadata": {},
     "output_type": "execute_result"
    }
   ],
   "source": [
    "df_hist_check = pd.read_csv(bin_edges_path + \"HED_(0.8 ms to 3.2 ms).txt\")\n",
    "print(\"Num hist counts totoal: \", sum(df_hist_check[\"counts\"].to_numpy()[1:]))\n",
    "print(\"bins_keV are the right most edge\")\n",
    "\n",
    "df_hist_check.tail()"
   ]
  },
  {
   "cell_type": "markdown",
   "id": "4feab460-e6f7-4056-b3ff-206674ae9b3b",
   "metadata": {},
   "source": [
    "# keV bin function"
   ]
  },
  {
   "cell_type": "code",
   "execution_count": 10,
   "id": "c2388ab7-920e-46e6-818d-7a96b98ccce1",
   "metadata": {},
   "outputs": [],
   "source": [
    "def keV_hist(df=None,t_start=None,time_interval=None,duration=None,keV_interval=None,keV_bins=None):\n",
    "    '''\n",
    "    NOTE: working with ms resolution for the tus array\n",
    "    \n",
    "    input: df <pd.dataframe> complete dataframe with no flagged events\n",
    "    time_interval <tuple> start and end (ms) of the time interval for the keV binning.\n",
    "    keV_interval <tuple> default is None. Meaning the whole spectrum\n",
    "    duration <float> defaul is None. Must be provided in ms \n",
    "    \n",
    "    return: <pd.dataframe> with the bin_counts and bin_edges as a dataframe\n",
    "    '''\n",
    "    df.sort_values(by=['tus'],inplace=True) #first sorting by tus in increasing order\n",
    "    \n",
    "    \n",
    "    #tus handling-------------------------------------------\n",
    "    tus_arr = df[\"tus\"].to_numpy()\n",
    "    tus_arr = tus_arr/1e3 #converting to ms resolution\n",
    "\n",
    "    \n",
    "    #if t_start==None:\n",
    "    #    tus_start,tus_end = min(tus_arr),max(tus_arr)\n",
    "    #    idx_start, idx_end = find_nearest(tus_arr,tus_start), find_nearest(tus_arr,tus_end)+1 #including the last trigger\n",
    "    if time_interval != None:\n",
    "        idx_start, idx_end = find_nearest(tus_arr,time_interval[0]), find_nearest(tus_arr,time_interval[1])+1\n",
    "    else:\n",
    "        if duration==None:\n",
    "            return print(\"duration must be specified in ms\")\n",
    "        else:\n",
    "            tus_start,tus_end = t_start,t_start+duration #selecting the interval\n",
    "            idx_start, idx_end = find_nearest(tus_arr,tus_start), find_nearest(tus_arr,tus_end)+1 #including the nearest trigger\n",
    "    \n",
    "\n",
    "    tus_arr = tus_arr[idx_start:idx_end] #selecting the interval for tus\n",
    "    \n",
    "    #keV handling-------------------------------------------\n",
    "    keV_arr = df[\"keV\"].to_numpy()\n",
    "    keV_arr = keV_arr[idx_start:idx_end] #selecting keV's on the given tus interval\n",
    "    \n",
    "    if keV_interval==None:\n",
    "         keV_lower,keV_upper = 0,1e5 #selecting artificially high bounds\n",
    "    else: \n",
    "        keV_lower,keV_upper = keV_interval[0],keV_interval[1] #selecting the bounds for the keV's\n",
    "\n",
    "    ii = []\n",
    "    for i,keV in enumerate(keV_arr): #finding\n",
    "        if keV_lower<=keV<=keV_upper:\n",
    "            ii.append(i)\n",
    "            \n",
    "    tus_keV_bound = tus_arr[ii]\n",
    "    keV_bound = keV_arr[ii]\n",
    "    \n",
    "    #histogramming-----------------------------------------\n",
    "    hist_keV,edges_keV = np.histogram(keV_bound,bins=keV_bins)\n",
    "    \n",
    "    poisson_arr = np.sqrt(hist_keV) #handle this one. might be some negative numbers in it?\n",
    "    if hist_keV[0] == 0:\n",
    "        hist_keV = np.append(-9999.0,hist_keV)\n",
    "        poisson_arr = np.append(-9999.0,poisson_arr)\n",
    "    duration_arr = np.append(-9999.0,(([duration/1e3])*(len(hist_keV)-1)))\n",
    "    df_keV = pd.DataFrame({\"bins_keV\":edges_keV, \"counts\":hist_keV, \n",
    "                           \"poisson_error_counts\":poisson_arr, \"duration_seconds\":duration_arr}) #ERROR different lengths!\n",
    "    print(\"Energies binned!\")\n",
    "    return df_keV"
   ]
  },
  {
   "cell_type": "markdown",
   "id": "63a87857-beca-44ba-b850-7d7d0419b5bd",
   "metadata": {},
   "source": [
    "# Exporting all keV histograms"
   ]
  },
  {
   "cell_type": "code",
   "execution_count": null,
   "id": "e373687f-2e8c-4ca4-ab3e-c70cb326ebf7",
   "metadata": {},
   "outputs": [],
   "source": [
    "df,T0 = complete_df(grb_id=\"GRB190206\",remove_flag=True)\n",
    "\n",
    "tus = df[\"tus\"].to_numpy()\n",
    "start,end = find_nearest(tus/1e3,297),find_nearest(tus/1e3,361)"
   ]
  },
  {
   "cell_type": "code",
   "execution_count": null,
   "id": "ecb3ee5b-2f1c-43f0-a1a5-8a06fa791b12",
   "metadata": {},
   "outputs": [],
   "source": [
    "start_bg,end_bg = find_nearest(tus/1e3,-500),find_nearest(tus/1e3,200)\n",
    "start_bg,end_bg"
   ]
  },
  {
   "cell_type": "code",
   "execution_count": null,
   "id": "3a912238-127a-4cfb-a62e-fbfb37f3d038",
   "metadata": {},
   "outputs": [],
   "source": [
    "pd.set_option('display.float_format', '{:.6E}'.format)"
   ]
  },
  {
   "cell_type": "code",
   "execution_count": null,
   "id": "6af3cf9d-aea9-4c00-86fc-cd1630815494",
   "metadata": {},
   "outputs": [],
   "source": [
    "df_keV = keV_hist(df=df,time_interval=(297.0,361.0),keV_bins=bins_keV,duration=64.0)"
   ]
  },
  {
   "cell_type": "code",
   "execution_count": null,
   "id": "f7fe0f42-cce1-49b5-a9ce-913bc6441f12",
   "metadata": {},
   "outputs": [],
   "source": [
    "df_keV_bg = keV_hist(df=df,time_interval=(-600.0,200.0),keV_bins=bins_keV,duration=64.0)"
   ]
  },
  {
   "cell_type": "markdown",
   "id": "268b8469-97a3-4b6e-9935-a56a43598de7",
   "metadata": {},
   "source": [
    "np.savetxt(r'/Users/andreas/phys/master/GRB/spectral_analysis/GRB190206A_keV_histogram.txt\"',df_keV.values, delimiter=',', \n",
    "           header='bins_keV,counts,poisson_error_counts,duration_seconds', fmt='%.6E')"
   ]
  },
  {
   "cell_type": "markdown",
   "id": "256ae3dd-1f40-46b5-9b82-0594979decad",
   "metadata": {},
   "source": [
    "np.savetxt(r'/Users/andreas/phys/master/GRB/spectral_analysis/GRB190206A_keV_hist_background (-600 ms to 200 ms).txt\"',df_keV_bg.values, delimiter=',', \n",
    "           header='bins_keV,counts,poisson_error_counts,duration_seconds', fmt='%.6E')"
   ]
  },
  {
   "cell_type": "markdown",
   "id": "3a9976f5-9266-4559-85b5-d6e2261b1b8a",
   "metadata": {},
   "source": [
    "## bring KW data into ASIM referance frame with ToF and time lagg=27 ms\n",
    "\n",
    "### TODO: \n",
    "    -Round cal_abc to .7 position\n",
    "    -Subtract/add ToF from the bins\n",
    "    -subtract/add time lagg to kw data\n",
    "    -plot the histograms together for the selected time interval\n",
    "\n",
    "    -Prepare the new data file for GRB201227\n"
   ]
  },
  {
   "cell_type": "code",
   "execution_count": 11,
   "id": "7622c44b-feee-439f-9214-231e07f3d18b",
   "metadata": {},
   "outputs": [
    {
     "data": {
      "text/plain": [
       "(32, 32, 32)"
      ]
     },
     "execution_count": 11,
     "metadata": {},
     "output_type": "execute_result"
    }
   ],
   "source": [
    "kw_grb190206_2ms = kw_lc_path + \"GRB190206A_2ms.txt\"\n",
    "kw_df = pd.read_csv(kw_grb190206_2ms,sep='\\s+')\n",
    "\n",
    "G1,G2,G3 = kw_df[\"G1\"], kw_df[\"G2\"], kw_df[\"G3\"]\n",
    "\n",
    "kw_bin_left = kw_df[\"Ti\"].to_numpy()#+ToF[\"GRB190206\"]\n",
    "kw_bin_right = kw_df[\"Tf\"].to_numpy()#+ToF[\"GRB190206\"]\n",
    "\n",
    "kw_bin_left = np.append(kw_bin_left,kw_bin_right[-1])\n",
    "\n",
    "\n",
    "kw_start = find_nearest(kw_bin_left,0)\n",
    "kw_end = find_nearest(kw_bin_left,0)+ int(64/2) #64ms interval\n",
    "\n",
    "kw_bin_left = kw_bin_left[kw_start:kw_end]\n",
    "G1,G2,G3 = G1[kw_start:kw_end],G2[kw_start:kw_end],G3[kw_start:kw_end]\n",
    "\n",
    "\n",
    "binwidth=np.append(np.round(np.diff(kw_bin_left),3),0.002) #binwidths differentiated and rounded. Added the last bin width\n",
    "len(G1),len(kw_bin_left),len(binwidth)"
   ]
  },
  {
   "cell_type": "code",
   "execution_count": 12,
   "id": "108840d4-b3a6-46ba-ae89-96f490d563cb",
   "metadata": {},
   "outputs": [
    {
     "data": {
      "image/png": "[encoded data removed]",
      "text/plain": [
       "<Figure size 800x500 with 1 Axes>"
      ]
     },
     "metadata": {},
     "output_type": "display_data"
    }
   ],
   "source": [
    "plt.bar(x=kw_bin_left,height=G3,width=binwidth,align=\"edge\",edgecolor=\"black\",label=\"KW\")\n",
    "plt.legend()\n",
    "plt.show()"
   ]
  },
  {
   "cell_type": "markdown",
   "id": "9528e684-38b4-4f15-8587-7591bcbcd7f1",
   "metadata": {},
   "source": [
    "### ASIM"
   ]
  },
  {
   "cell_type": "code",
   "execution_count": null,
   "id": "7601bc77-8d55-433a-8379-a737aa4da938",
   "metadata": {},
   "outputs": [],
   "source": [
    "df,T0 = complete_df(grb_id=\"GRB190206\",remove_flag=True)\n",
    "df.sort_values(by=['tus'],inplace=True)\n",
    "tus = df[\"tus\"].to_numpy()\n",
    "tus = tus/1e3\n",
    "opt_cut_asim = 293\n",
    "A_start,A_end = find_nearest(tus,opt_cut_asim),find_nearest(tus,opt_cut_asim+64)\n",
    "tus_cut = tus[A_start:A_end]\n",
    "print(T0)\n",
    "A_hist,A_edges = np.histogram(tus_cut,bins=np.arange(min(tus_cut), max(tus_cut) + 2, 2))"
   ]
  },
  {
   "cell_type": "code",
   "execution_count": null,
   "id": "3bedf7e9-499e-42fb-a809-a9caa73da5a2",
   "metadata": {},
   "outputs": [],
   "source": [
    "plt.bar(x=np.arange(0,len(kw_bin_left)),height=(G3+G2),width=1,align=\"edge\",edgecolor=\"black\",label=\"KW G3 + G2\",alpha=0.7)\n",
    "#plt.bar(x=np.arange(0,len(kw_bin_left)),height=G2,width=1,align=\"edge\",edgecolor=\"black\",label=\"KW G2\",alpha=0.3)\n",
    "#plt.bar(x=np.arange(0,len(kw_bin_left)),height=G1,width=1,align=\"edge\",edgecolor=\"black\",label=\"KW G1\",alpha=0.2)\n",
    "\n",
    "plt.bar(x=np.arange(0,len(A_edges)-1), height=A_hist,width=1,align=\"edge\",edgecolor=\"black\",label=\"ASIM\",alpha=0.5)\n",
    "plt.xlabel(\"bin number [64 ms window, 2ms bins]\")\n",
    "plt.ylabel(\"counts/ 2ms\")\n",
    "plt.legend()\n",
    "plt.title(\"KW plotted from T0_KW and ASIM plotted from T0_ASIM + {}ms\".format(opt_cut_asim))\n",
    "plt.show()"
   ]
  },
  {
   "cell_type": "code",
   "execution_count": null,
   "id": "349e654b-f418-4f39-8a39-3e6fc9936fb9",
   "metadata": {},
   "outputs": [],
   "source": [
    "df,T0 = complete_df(grb_id=\"GRB190206\",remove_flag=True)\n",
    "df.head()"
   ]
  },
  {
   "cell_type": "code",
   "execution_count": null,
   "id": "ed69c99b-a634-4667-974b-444931071176",
   "metadata": {},
   "outputs": [],
   "source": [
    "df,T0 = complete_df(grb_id=\"GRB190206\",remove_flag=True)\n",
    "\n",
    "df.sort_values(by=['tus'],inplace=True)\n",
    "tus = df[\"tus\"].to_numpy()\n",
    "plot_HED(tus_arr=tus,binsize=2,T0=T0)"
   ]
  },
  {
   "cell_type": "code",
   "execution_count": null,
   "id": "d2c0a89c-357e-4759-8eef-5eb653109863",
   "metadata": {},
   "outputs": [],
   "source": [
    "T0_KW = \"03:49:23.926\"\n",
    "T0_KW_dt = datetime.strptime(T0_KW,\"%H:%M:%S.%f\")\n",
    "T0_KW_dt + timedelta(seconds=ToF[\"GRB190206\"])\n",
    "T0_KW_dt"
   ]
  },
  {
   "cell_type": "code",
   "execution_count": null,
   "id": "1a4c9821-8abc-408b-a615-d7a29e27865d",
   "metadata": {},
   "outputs": [],
   "source": []
  },
  {
   "cell_type": "code",
   "execution_count": null,
   "id": "57b4d1cc-28d9-41d1-98ae-70e11862f8e1",
   "metadata": {},
   "outputs": [],
   "source": []
  },
  {
   "cell_type": "code",
   "execution_count": null,
   "id": "7fce1ccf-72d0-4634-b16f-d509791df936",
   "metadata": {},
   "outputs": [],
   "source": []
  },
  {
   "cell_type": "code",
   "execution_count": null,
   "id": "04295c8f-1d68-4ba4-9415-0c530086adfd",
   "metadata": {},
   "outputs": [],
   "source": [
    "# export keV histogram for GRB190206A in the same format as example by Anders, Duration is 64 ms \n",
    "# lag = -27.\n",
    "\n",
    "\n",
    "#build spectra for main event on this interval\n",
    "time_interval = 297,297+64 #ms\n",
    "\n",
    "\n",
    "#interval for background:\n",
    "bg_interval = -0.9,-0.2\n"
   ]
  },
  {
   "cell_type": "code",
   "execution_count": null,
   "id": "917ed002-2376-4472-a7c7-882df97de705",
   "metadata": {},
   "outputs": [],
   "source": [
    "#for grb_id in selected_grb_id:\n",
    "#    df,T0 = complete_df(grb_id=grb_id,remove_flag=True,flag_cut=\"HED\")\n",
    "#    df_keV = keV_hist(df=df,keV_bins=bins_keV)\n",
    "#    print(\"Exporting csv\")\n",
    "#    df_keV.to_csv(path_keV_hist + grb_id,index=False)"
   ]
  },
  {
   "cell_type": "code",
   "execution_count": null,
   "id": "ce6cd266-8b52-4f73-a4ef-4c34fcfd5272",
   "metadata": {},
   "outputs": [],
   "source": [
    "#bins_keV\n"
   ]
  },
  {
   "cell_type": "markdown",
   "id": "086152d1-3a36-4c32-ab4f-22ffbf902f17",
   "metadata": {},
   "source": [
    "from astropy.table import Table\n",
    "df = pd.read_csv(\"/Users/andreas/phys/master/GRB/spectral_analysis/keV_histograms/GRB180720\")\n",
    "t = Table.from_pandas(df)\n",
    "t.write('GRB180720_new.fits')"
   ]
  },
  {
   "cell_type": "markdown",
   "id": "2d1aa266-baf8-4907-9d80-6defe6fa60a3",
   "metadata": {},
   "source": [
    "# GRB201227"
   ]
  },
  {
   "cell_type": "code",
   "execution_count": null,
   "id": "0ffae485-6548-4f3a-b02b-f1bcde3a8cc8",
   "metadata": {},
   "outputs": [],
   "source": [
    "plot_HED(grb_id=\"GRB201227\",binsize=4)"
   ]
  },
  {
   "cell_type": "markdown",
   "id": "3404721c-02ee-41c9-ac2e-4c17949e3b1f",
   "metadata": {},
   "source": [
    "## TODO\n",
    "    -This GRB also have FERMI GBM data. Learn how to import that data\n",
    "    -CUT TIME FOR ASIM: T0 + 534ms\n",
    "    -Generate a new txt file with the same parameter columns as GRB190206\n",
    "    "
   ]
  },
  {
   "cell_type": "markdown",
   "id": "0e4dbf84-b25a-4994-a807-6c43023f6325",
   "metadata": {},
   "source": [
    "## ASIM import and preparation"
   ]
  },
  {
   "cell_type": "code",
   "execution_count": null,
   "id": "48224a15-1176-42e3-8eea-804e462f88f9",
   "metadata": {},
   "outputs": [],
   "source": [
    "df_GRB201227, T0_GRB201227 = complete_df(grb_id=\"GRB201227\",remove_flag=True)\n",
    "print(T0_GRB201227)\n",
    "df_GRB201227.sort_values(by=[\"tus\"],inplace=True)\n",
    "df_GRB201227.head()\n"
   ]
  },
  {
   "cell_type": "code",
   "execution_count": null,
   "id": "5b88cd8d-397f-4c63-99fc-09fa6ee1d663",
   "metadata": {},
   "outputs": [],
   "source": [
    "# TODO: wrap this into a function for calculating the time lag between ASIM and KW \n",
    "\n",
    "\n",
    "tus_GRB201227 = df_GRB201227[\"tus\"].to_numpy()\n",
    "tus_GRB201227 = tus_GRB201227/1e3 - cc  #working in ms\n",
    "tus_GRB201227 = tus_GRB201227/1e3 #working in seconds\n",
    "\n",
    "#assuming KW spectra is build from T0_KW --> that will be around T0_ASIM + 525ms ish\n",
    "#assuming 64ms window aswell\n",
    "\n",
    "opt_cut_GRB201227 = -0.1\n",
    "start_GRB201227 = find_nearest(tus_GRB201227,opt_cut_GRB201227)\n",
    "end_GRB201227 = find_nearest(tus_GRB201227,opt_cut_GRB201227+0.2)\n",
    "hist_GRB201227, edges_GRB201227 = np.histogram(tus_GRB201227[start_GRB201227:end_GRB201227],\n",
    "                                               bins=np.arange(min(tus_GRB201227[start_GRB201227:end_GRB201227]),max(tus_GRB201227[start_GRB201227:end_GRB201227])+0.002,0.002))\n",
    "width_GRB201227 = np.round(np.diff(edges_GRB201227),3)\n",
    "#print(len(hist_GRB201227),len(edges_GRB201227),len(width_GRB201227))\n",
    "\n",
    "kw_GRB201227_2m = kw_lc_path + \"GRB201227A_2ms.txt\"\n",
    "kw_GRB201227_df = pd.read_csv(kw_GRB201227_2m,sep='\\s+')\n",
    "\n",
    "G1,G2,G3 = kw_GRB201227_df[\"G1\"].to_numpy(), kw_GRB201227_df[\"G2\"].to_numpy(), kw_GRB201227_df[\"G3\"].to_numpy()\n",
    "\n",
    "kw_bin_left = kw_GRB201227_df[\"Ti\"].to_numpy()#+ToF[\"GRB190206\"]\n",
    "kw_bin_right = kw_GRB201227_df[\"Tf\"].to_numpy()#+ToF[\"GRB190206\"]\n",
    "\n",
    "kw_bins = np.append(kw_bin_left,kw_bin_right[-1])\n",
    "\n",
    "kw_start =find_nearest(kw_bins,-0.1)\n",
    "kw_end = find_nearest(kw_bins,0.1)\n",
    "\n",
    "kw_use_bins = kw_bin_left[kw_start:kw_end]\n",
    "G1,G2,G3 = G1[kw_start:kw_end],G2[kw_start:kw_end],G3[kw_start:kw_end]\n",
    "kw_bin_width = np.append(np.round(np.diff(kw_use_bins),3),0.002)\n",
    "\n",
    "#print(np.all(np.round(np.diff(kw_use_bins),3) ==0.002)) #binwidths differentiated and rounded. Added the last bin width\n",
    "#print(len(G1),len(kw_use_bins),len(kw_bin_width))"
   ]
  },
  {
   "cell_type": "code",
   "execution_count": null,
   "id": "366df819-2620-48b6-8ac0-df2f566dae1a",
   "metadata": {},
   "outputs": [],
   "source": [
    "cc = 534"
   ]
  },
  {
   "cell_type": "code",
   "execution_count": null,
   "id": "a4efefd6-ecca-442b-ad88-54f96b6dfa63",
   "metadata": {},
   "outputs": [],
   "source": [
    "from dateutil import parser\n",
    "str_t0KW = '2020-12-27T15:14:06.705'\n",
    "str_t0ASIM = '2020-12-27T15:14:06.853'\n",
    "T0KW = parser.parse(str_t0KW) \n",
    "T0ASIM = parser.parse(str_t0ASIM)\n"
   ]
  },
  {
   "cell_type": "code",
   "execution_count": null,
   "id": "abc4fc2a-88f1-41ee-ae58-1d323aae4eb9",
   "metadata": {},
   "outputs": [],
   "source": [
    "T0ASIM - timedelta(seconds=ToF[\"GRB201227\"])"
   ]
  },
  {
   "cell_type": "code",
   "execution_count": null,
   "id": "0c2a8da1-25a9-4d93-8bec-c040bfc7d315",
   "metadata": {},
   "outputs": [],
   "source": [
    "lc1 = Lightcurve(time=kw_use_bins,counts=G3/max(G3),skip_checks=True)\n",
    "lc2 = Lightcurve(time=edges_GRB201227[:-1],counts=hist_GRB201227/max(hist_GRB201227),skip_checks=True)"
   ]
  },
  {
   "cell_type": "code",
   "execution_count": null,
   "id": "093983b8-a54a-4210-a8e6-2ae7fefc8e5b",
   "metadata": {},
   "outputs": [],
   "source": [
    "lc1.plot()\n",
    "lc2.plot()"
   ]
  },
  {
   "cell_type": "code",
   "execution_count": null,
   "id": "6e1c51d9-7f82-4f0d-bb6c-623b5821ffbd",
   "metadata": {},
   "outputs": [],
   "source": [
    "CC = CrossCorrelation(lc1=lc1,lc2=lc2,mode=\"full\")\n",
    "CC.plot()"
   ]
  },
  {
   "cell_type": "code",
   "execution_count": null,
   "id": "55663c8f-3bc5-4fb7-a1d6-998ed71f4390",
   "metadata": {},
   "outputs": [],
   "source": [
    "round(CC.cal_timeshift(dt=2)[0],3)*1e3 #ms because i initially cut it as 500 ms"
   ]
  },
  {
   "cell_type": "markdown",
   "id": "f8a93644-5040-4bac-90bd-76d52ef9dd46",
   "metadata": {},
   "source": [
    "## Extracting the data for GRB201227"
   ]
  },
  {
   "cell_type": "code",
   "execution_count": null,
   "id": "9f926cc6-b5af-44bc-ac98-4ac829362466",
   "metadata": {},
   "outputs": [],
   "source": [
    "df_GRB201227.head()"
   ]
  },
  {
   "cell_type": "code",
   "execution_count": null,
   "id": "46e64eb9-7e17-4908-9699-d6e13fbbc5e4",
   "metadata": {},
   "outputs": [],
   "source": [
    "df_keV_GRB201227 = keV_hist(df=df_GRB201227,t_start=534,duration=64,keV_bins=bins_keV)"
   ]
  },
  {
   "cell_type": "code",
   "execution_count": null,
   "id": "2f6e6b11-7dbe-4247-a50f-65d868165958",
   "metadata": {},
   "outputs": [],
   "source": [
    "df_keV_GRB201227_bg = keV_hist(df=df_GRB201227,time_interval=(-150,475),duration=625,keV_bins=bins_keV)"
   ]
  },
  {
   "cell_type": "code",
   "execution_count": null,
   "id": "29537998-7a65-45ed-b880-d52e002a8e05",
   "metadata": {},
   "outputs": [],
   "source": [
    "pd.set_option('display.float_format', '{:.6E}'.format)"
   ]
  },
  {
   "cell_type": "code",
   "execution_count": null,
   "id": "9d4d111b-ea8a-42f0-8d23-b392f8fe2adb",
   "metadata": {},
   "outputs": [],
   "source": [
    "df_keV_GRB201227_bg"
   ]
  },
  {
   "cell_type": "markdown",
   "id": "2a3d8399-c430-4aa9-b6d1-7494dc45dbc2",
   "metadata": {},
   "source": [
    "np.savetxt(r'/Users/andreas/phys/master/GRB/spectral_analysis/GRB201227A_keV_histogram.txt',df_keV_GRB201227.values, delimiter=',', \n",
    "           header='bins_keV,counts,poisson_error_counts,duration_seconds', fmt='%.6E')"
   ]
  }
 ],
 "metadata": {
  "kernelspec": {
   "display_name": "base",
   "language": "python",
   "name": "base"
  },
  "language_info": {
   "codemirror_mode": {
    "name": "ipython",
    "version": 3
   },
   "file_extension": ".py",
   "mimetype": "text/x-python",
   "name": "python",
   "nbconvert_exporter": "python",
   "pygments_lexer": "ipython3",
   "version": "3.9.7"
  }
 },
 "nbformat": 4,
 "nbformat_minor": 5
}
