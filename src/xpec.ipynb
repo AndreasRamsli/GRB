{
 "cells": [
  {
   "cell_type": "markdown",
   "id": "cd5ab503-d1fd-4757-9242-72a450e190b0",
   "metadata": {},
   "source": [
    "# imports"
   ]
  },
  {
   "cell_type": "code",
   "execution_count": 1,
   "id": "d0ef8f8b-840d-4b61-8dbc-f25c9cbd67fa",
   "metadata": {},
   "outputs": [
    {
     "name": "stdout",
     "output_type": "stream",
     "text": [
      "read_matlab_file.ipynb loaded successfully!\n",
      "read_matlab_file.ipynb loaded successfully!\n",
      "read_matlab_file.ipynb loaded successfully!\n",
      "convert_erg.ipynb loaded successfully!\n",
      "read_matlab_file.ipynb loaded successfully!\n",
      "read_matlab_file.ipynb loaded successfully!\n",
      "convert_erg.ipynb loaded successfully!\n",
      "(14610, 9)\n",
      "(14610, 9)\n",
      "safety_time.ipynb loaded successfully!\n",
      "187 valleys removed\n",
      "erg converted to keV\n",
      "df sorted by adr and tus\n",
      "safety time events flagged. Found 287 flags\n",
      "(24587, 11)\n",
      "116 valleys removed\n",
      "erg converted to keV\n",
      "df sorted by adr and tus\n",
      "safety time events flagged. Found 187 flags\n",
      "(14494, 11)\n",
      "(187, 11)\n",
      "LC_calibration loaded successfully!\n"
     ]
    }
   ],
   "source": [
    "%run read_matlab_file.ipynb\n",
    "%run LC_calibration.ipynb"
   ]
  },
  {
   "cell_type": "markdown",
   "id": "b22d7b6f-dbbc-480f-b319-05137ddb3f16",
   "metadata": {},
   "source": [
    "# XPEC data preperation\n",
    "\n",
    "### TODO\n",
    "    - Extract the bins from the txt file. DONE\n",
    "    \n",
    "    - Bin the keV into the predefined bins. DONE\n",
    "    \n",
    "    - Implement function for T0 & tus correction (ToF). DONE\n",
    "        --> COMMENT: still 300ms error after calibrating GRB190206\n",
    "        \n",
    "    -Do all the steps above for GRB200415A and cross check results. DONE\n",
    "    \n",
    "    - Implement function for cutting the tus & keV array at time interval given by Anastasia or GCN report \n",
    "        ---> NEXT UP\n",
    " \n",
    "    - make sure the T0 are correctly clibrated. Send complete list to Andrey for validation\n",
    "    \n",
    "    \n",
    "### Notes\n",
    "    -Assuming \n",
    "    -bins_keV are the right most edges! \n",
    "    -Anders have filtered for keV >=500 \n",
    "    -Implementation is ok. Proceed to wrapping a function around it.\n",
    "    --> have a shift variable as input (have to do with lining up the LC from the different spacecrafts)\n",
    "    \n",
    "    \n",
    "### Problems\n",
    "    -GRB200415: Problem lining up the T0 from my data to the data that Anders used to histogram the data for 0.8ms <=tus <= 3.2ms\n",
    "    Since the data is shifted a small amount the number of counts in the bins don't match up correctly.\n",
    "    --> Absolute time correction is neccecary, but this value might be different from the one Anders used.\n",
    "    -->Error of 4151.099 ... us (4.1 ms) from df_A and my df.\n",
    " \n",
    "    \n",
    "    -GRB200415: The binning does not produce the same bin counts in Ander´s df_A and the df_check\n",
    "    --> Because of filtering for keV's >= 500\n",
    "    \n",
    "    "
   ]
  },
  {
   "cell_type": "code",
   "execution_count": 2,
   "id": "1161d279-4169-4a01-8ef0-840dd728082f",
   "metadata": {},
   "outputs": [],
   "source": [
    "#time of flight from KW to ASIM. Given in seconds\n",
    "ToF = {\"GRB180720\":-4.2377,\"GRB181222\":2.8716, \"GRB190206\":4.9225, \"GRB190305\":3.4460,\n",
    "      \"GRB190606\":4.0316,\"GRB200415\":4.1840,\"GRB200521\":-0.6226,\"GRB200716\":3.0155,\n",
    "      \"GRB201227\":0.7142, \"GRB210424\":-0.5033, \"GRB210619\":-2.6183}"
   ]
  },
  {
   "cell_type": "code",
   "execution_count": null,
   "id": "5a973f9c-2d68-46b2-8b5c-c0e8a8b1deeb",
   "metadata": {},
   "outputs": [],
   "source": []
  },
  {
   "cell_type": "code",
   "execution_count": 3,
   "id": "58bcca0c-68fc-46be-97d7-166f3366a345",
   "metadata": {},
   "outputs": [],
   "source": [
    "def ToF_correction(grb_id=None):\n",
    "    ToF_us = ToF[grb_id]*1e6\n",
    "    df,T0 = complete_df(grb_id=grb_id)\n",
    "    df[\"tus\"], T0_calibrated = df[\"tus\"] - ToF_us, T0 - timedelta(microseconds=ToF_us) #calibrating \n",
    "    return df,T0,T0_calibrated"
   ]
  },
  {
   "cell_type": "code",
   "execution_count": 4,
   "id": "aad73377-cd2b-4afa-8c52-a7814476edf5",
   "metadata": {},
   "outputs": [
    {
     "name": "stdout",
     "output_type": "stream",
     "text": [
      "116 valleys removed\n",
      "erg converted to keV\n",
      "df sorted by adr and tus\n",
      "safety time events flagged. Found 187 flags\n"
     ]
    }
   ],
   "source": [
    "df,T0 = complete_df(grb_id=\"GRB200415\")"
   ]
  },
  {
   "cell_type": "code",
   "execution_count": 5,
   "id": "2d7fd6d9-adea-4d5d-b9b9-5c38e17c6f5a",
   "metadata": {},
   "outputs": [
    {
     "name": "stdout",
     "output_type": "stream",
     "text": [
      "2020-04-15 08:48:05.561000\n",
      "2020-04-15 08:48:00.638500\n"
     ]
    }
   ],
   "source": [
    "print(T0)\n",
    "T1 = T0 - timedelta(microseconds=4.9225*1e6)\n",
    "print(T1)"
   ]
  },
  {
   "cell_type": "markdown",
   "id": "46da9cbb-656d-482e-b55c-569214dec09a",
   "metadata": {},
   "source": [
    "# bin control"
   ]
  },
  {
   "cell_type": "code",
   "execution_count": 6,
   "id": "aab14bbf-5500-4061-b5b4-5be76f4fd279",
   "metadata": {},
   "outputs": [],
   "source": [
    "df_bin = pd.read_csv(\"/Users/andreas/phys/master/GRB/spectral_analysis/HED_binedges.txt\")"
   ]
  },
  {
   "cell_type": "code",
   "execution_count": 99,
   "id": "30f37097-2bed-4757-afec-cde4f88cdba4",
   "metadata": {},
   "outputs": [
    {
     "data": {
      "text/html": [
       "<div>\n",
       "<style scoped>\n",
       "    .dataframe tbody tr th:only-of-type {\n",
       "        vertical-align: middle;\n",
       "    }\n",
       "\n",
       "    .dataframe tbody tr th {\n",
       "        vertical-align: top;\n",
       "    }\n",
       "\n",
       "    .dataframe thead th {\n",
       "        text-align: right;\n",
       "    }\n",
       "</style>\n",
       "<table border=\"1\" class=\"dataframe\">\n",
       "  <thead>\n",
       "    <tr style=\"text-align: right;\">\n",
       "      <th></th>\n",
       "      <th>energy_bin_start_keV</th>\n",
       "      <th>energy_bin_stop_keV</th>\n",
       "    </tr>\n",
       "  </thead>\n",
       "  <tbody>\n",
       "    <tr>\n",
       "      <th>0</th>\n",
       "      <td>10.00000</td>\n",
       "      <td>12.58925</td>\n",
       "    </tr>\n",
       "    <tr>\n",
       "      <th>1</th>\n",
       "      <td>12.58925</td>\n",
       "      <td>15.84893</td>\n",
       "    </tr>\n",
       "    <tr>\n",
       "      <th>2</th>\n",
       "      <td>15.84893</td>\n",
       "      <td>19.95262</td>\n",
       "    </tr>\n",
       "    <tr>\n",
       "      <th>3</th>\n",
       "      <td>19.95262</td>\n",
       "      <td>25.11886</td>\n",
       "    </tr>\n",
       "    <tr>\n",
       "      <th>4</th>\n",
       "      <td>25.11886</td>\n",
       "      <td>31.62278</td>\n",
       "    </tr>\n",
       "  </tbody>\n",
       "</table>\n",
       "</div>"
      ],
      "text/plain": [
       "   energy_bin_start_keV  energy_bin_stop_keV\n",
       "0              10.00000             12.58925\n",
       "1              12.58925             15.84893\n",
       "2              15.84893             19.95262\n",
       "3              19.95262             25.11886\n",
       "4              25.11886             31.62278"
      ]
     },
     "execution_count": 99,
     "metadata": {},
     "output_type": "execute_result"
    }
   ],
   "source": [
    "df_bin.head()"
   ]
  },
  {
   "cell_type": "code",
   "execution_count": 8,
   "id": "acd203c1-2e27-49e2-b5c3-9cd729957223",
   "metadata": {},
   "outputs": [
    {
     "data": {
      "image/png": "[encoded data removed]",
      "text/plain": [
       "<Figure size 1500x300 with 2 Axes>"
      ]
     },
     "metadata": {},
     "output_type": "display_data"
    }
   ],
   "source": [
    "fig,(ax1,ax2) = plt.subplots(1,2,figsize=(15,3))\n",
    "\n",
    "ax1.plot((df_bin[\"energy_bin_start_keV\"]))\n",
    "ax2.plot(np.log(df_bin[\"energy_bin_start_keV\"]))\n",
    "ax1.set_xlabel(\"bin number\")\n",
    "ax1.set_ylabel(\"keV bin\")\n",
    "ax2.set_xlabel(\"bin number\")\n",
    "ax2.set_ylabel(\"ln(keV)\")\n",
    "plt.show()"
   ]
  },
  {
   "cell_type": "code",
   "execution_count": 100,
   "id": "b2205f23-5fdc-4479-85ca-dd5a9710e0f7",
   "metadata": {},
   "outputs": [
    {
     "name": "stdout",
     "output_type": "stream",
     "text": [
      "41\n"
     ]
    },
    {
     "data": {
      "text/plain": [
       "array([1.000000e+01, 1.258925e+01, 1.584893e+01, 1.995262e+01,\n",
       "       2.511886e+01, 3.162278e+01, 3.981072e+01, 5.011872e+01,\n",
       "       6.309573e+01, 7.943282e+01, 1.000000e+02, 1.258925e+02,\n",
       "       1.584893e+02, 1.995262e+02, 2.511886e+02, 3.162278e+02,\n",
       "       3.981072e+02, 5.011872e+02, 6.309573e+02, 7.943282e+02,\n",
       "       1.000000e+03, 1.258925e+03, 1.584893e+03, 1.995262e+03,\n",
       "       2.511886e+03, 3.162278e+03, 3.981072e+03, 5.011872e+03,\n",
       "       6.309573e+03, 7.943282e+03, 1.000000e+04, 1.258925e+04,\n",
       "       1.584893e+04, 1.995262e+04, 2.511886e+04, 3.162278e+04,\n",
       "       3.981072e+04, 5.011872e+04, 6.309573e+04, 7.943282e+04,\n",
       "       1.000000e+05])"
      ]
     },
     "execution_count": 100,
     "metadata": {},
     "output_type": "execute_result"
    }
   ],
   "source": [
    "start = df_bin[\"energy_bin_start_keV\"].to_numpy()\n",
    "#start = np.append(0,start)\n",
    "end = df_bin[\"energy_bin_stop_keV\"].to_numpy()\n",
    "bins=np.append(start,end[-1])\n",
    "print(len(bins))\n",
    "bins"
   ]
  },
  {
   "cell_type": "code",
   "execution_count": null,
   "id": "818094a1-a3a2-4660-b46a-45f041f6d370",
   "metadata": {},
   "outputs": [],
   "source": []
  },
  {
   "cell_type": "code",
   "execution_count": 101,
   "id": "c5503a4c-80ae-4f8d-b0be-a71baec8ac25",
   "metadata": {},
   "outputs": [
    {
     "name": "stdout",
     "output_type": "stream",
     "text": [
      "Num hist counts totoal:  300.0\n",
      "bins_keV are the right most edge\n"
     ]
    },
    {
     "data": {
      "text/html": [
       "<div>\n",
       "<style scoped>\n",
       "    .dataframe tbody tr th:only-of-type {\n",
       "        vertical-align: middle;\n",
       "    }\n",
       "\n",
       "    .dataframe tbody tr th {\n",
       "        vertical-align: top;\n",
       "    }\n",
       "\n",
       "    .dataframe thead th {\n",
       "        text-align: right;\n",
       "    }\n",
       "</style>\n",
       "<table border=\"1\" class=\"dataframe\">\n",
       "  <thead>\n",
       "    <tr style=\"text-align: right;\">\n",
       "      <th></th>\n",
       "      <th>bins_keV</th>\n",
       "      <th>counts</th>\n",
       "      <th>poisson_error_counts</th>\n",
       "      <th>duration_seconds</th>\n",
       "    </tr>\n",
       "  </thead>\n",
       "  <tbody>\n",
       "    <tr>\n",
       "      <th>0</th>\n",
       "      <td>10.00000</td>\n",
       "      <td>-9999.0</td>\n",
       "      <td>-9999.0</td>\n",
       "      <td>-9999.0000</td>\n",
       "    </tr>\n",
       "    <tr>\n",
       "      <th>1</th>\n",
       "      <td>12.58925</td>\n",
       "      <td>0.0</td>\n",
       "      <td>0.0</td>\n",
       "      <td>0.0024</td>\n",
       "    </tr>\n",
       "    <tr>\n",
       "      <th>2</th>\n",
       "      <td>15.84893</td>\n",
       "      <td>0.0</td>\n",
       "      <td>0.0</td>\n",
       "      <td>0.0024</td>\n",
       "    </tr>\n",
       "    <tr>\n",
       "      <th>3</th>\n",
       "      <td>19.95262</td>\n",
       "      <td>0.0</td>\n",
       "      <td>0.0</td>\n",
       "      <td>0.0024</td>\n",
       "    </tr>\n",
       "    <tr>\n",
       "      <th>4</th>\n",
       "      <td>25.11886</td>\n",
       "      <td>0.0</td>\n",
       "      <td>0.0</td>\n",
       "      <td>0.0024</td>\n",
       "    </tr>\n",
       "  </tbody>\n",
       "</table>\n",
       "</div>"
      ],
      "text/plain": [
       "   bins_keV  counts  poisson_error_counts  duration_seconds\n",
       "0  10.00000 -9999.0               -9999.0        -9999.0000\n",
       "1  12.58925     0.0                   0.0            0.0024\n",
       "2  15.84893     0.0                   0.0            0.0024\n",
       "3  19.95262     0.0                   0.0            0.0024\n",
       "4  25.11886     0.0                   0.0            0.0024"
      ]
     },
     "execution_count": 101,
     "metadata": {},
     "output_type": "execute_result"
    }
   ],
   "source": [
    "df_hist_check = pd.read_csv(\"/Users/andreas/phys/master/GRB/spectral_analysis/HED_(0.8 ms to 3.2 ms).txt\")\n",
    "print(\"Num hist counts totoal: \", sum(df_hist_check[\"counts\"].to_numpy()[1:]))\n",
    "print(\"bins_keV are the right most edge\")\n",
    "\n",
    "df_hist_check.head()"
   ]
  },
  {
   "cell_type": "markdown",
   "id": "4feab460-e6f7-4056-b3ff-206674ae9b3b",
   "metadata": {},
   "source": [
    "# keV bin function"
   ]
  },
  {
   "cell_type": "code",
   "execution_count": null,
   "id": "1a5bce03-0f73-4253-b83a-8552454d4ea7",
   "metadata": {},
   "outputs": [],
   "source": [
    "def keV_bin(df=None,time_interval=None,keV_interval=None,keV_bins=None):\n",
    "    '''\n",
    "    NOTE: working with ms resolution for the tus array\n",
    "    \n",
    "    input: df <pd.dataframe> complete dataframe with no flagged events\n",
    "    time_interval <tuple> start and end (ms) of the time interval for the keV binning.\n",
    "    keV_interval <tuple> default is None. Meaning the whole spectrum\n",
    "    \n",
    "    return: <pd.dataframe> with the bin_counts and bin_edges as a dataframe\n",
    "    '''\n",
    "    df.sort_values(by=['tus'],inplace=True) #first sorting by tus in increasing order\n",
    "    \n",
    "    \n",
    "    #tus handling-------------------------------------------\n",
    "    tus_arr = df[\"tus\"].to_numpy()\n",
    "    tus_arr = tus/1e3 #converting to ms resolution\n",
    "    \n",
    "    if time_interval==None:\n",
    "        tus_start,tus_end = min(tus_arr),max(tus_arr)\n",
    "        \n",
    "    tus_start,tus_end = time_interval[0],time_interval[1] #selecting the interval\n",
    "    idx_start = find_nearest(tus_arr,tus_start) #starting index\n",
    "    idx_end = find_nearest(tus_arr,tus_end) + 1 #ending index. Adding one index for including that count\n",
    "\n",
    "    tus_arr = tus_arr[start:end] #selecting the interval for tus\n",
    "    \n",
    "    \n",
    "    #keV handling-------------------------------------------\n",
    "    \n",
    "    keV_arr = df[\"keV\"].to_numpy()\n",
    "    if keV_interval==None:\n",
    "         keV_lower,keV_upper = 0,1e16 #selecting artificially high bounds\n",
    "    else: \n",
    "        keV_lower,keV_upper = keV_interval[0],keV_interval[1] #selecting the bounds for the keV's\n",
    "    keV_arr = keV_arr[start:end] #selecting keV's on the given tus interval\n",
    "\n",
    "    ii = []\n",
    "    for i,k in enumerate(keV_arr): #finding\n",
    "        if k<=400:\n",
    "            ii.append(i)\n",
    "\n",
    "    tus_flag = tus[ii]\n",
    "    kev_flag = keV_A[ii]\n",
    "\n",
    "    \n",
    "    \n",
    "    \n",
    "    \n",
    "    \n",
    "    "
   ]
  },
  {
   "cell_type": "code",
   "execution_count": null,
   "id": "212644dc-9c54-4025-9cc9-0c023b1bef06",
   "metadata": {},
   "outputs": [],
   "source": []
  },
  {
   "cell_type": "code",
   "execution_count": null,
   "id": "cd1d2de1-60b8-4f62-aa6b-ce8db21192eb",
   "metadata": {},
   "outputs": [],
   "source": []
  },
  {
   "cell_type": "code",
   "execution_count": null,
   "id": "ff4d33a9-0814-4303-a2e2-0f4c19e01bf5",
   "metadata": {},
   "outputs": [],
   "source": []
  },
  {
   "cell_type": "code",
   "execution_count": null,
   "id": "b9862e53-6017-4bdd-88b4-d97c808c690a",
   "metadata": {},
   "outputs": [],
   "source": []
  },
  {
   "cell_type": "markdown",
   "id": "02e73840-bc24-420d-b8b7-606da49933d0",
   "metadata": {},
   "source": [
    "# handling dataframes"
   ]
  },
  {
   "cell_type": "code",
   "execution_count": 97,
   "id": "bcde7de9-652d-4c33-935c-ea4e22ecccd2",
   "metadata": {},
   "outputs": [],
   "source": [
    "\n",
    "df_A = pd.read_csv(\"/Users/andreas/phys/master//GRB/safety_time/new_safety_time.csv\",sep=\",\")\n",
    "df_A = df_A.rename(columns={\"kev\":\"keV\"}) \n",
    "df_A = df_A.sort_values(by=['tus'])\n",
    "\n",
    "flag_label = []\n",
    "for i,row in df_A.iterrows():\n",
    "    if row[\"remove_VD\"]==True:\n",
    "        flag_label.append(i)\n",
    "    elif row[\"typ\"] == 3:\n",
    "        flag_label.append(i)\n",
    "        \n",
    "df_A.drop(labels=flag_label,inplace=True)"
   ]
  },
  {
   "cell_type": "code",
   "execution_count": 98,
   "id": "a91a819f-054b-4bf7-a061-36691634cb07",
   "metadata": {},
   "outputs": [
    {
     "name": "stdout",
     "output_type": "stream",
     "text": [
      "6523 7227\n",
      "704\n",
      "33\n"
     ]
    },
    {
     "data": {
      "image/png": "[encoded data removed]",
      "text/plain": [
       "<Figure size 1600x900 with 1 Axes>"
      ]
     },
     "metadata": {},
     "output_type": "display_data"
    }
   ],
   "source": [
    "tus = df_A[\"tus\"].to_numpy()\n",
    "tus = tus/1e3\n",
    "\n",
    "idx_start_A = find_nearest(tus,0.8)\n",
    "idx_end_A = find_nearest(tus,3.2)\n",
    "\n",
    "start = find_nearest(tus,-2)\n",
    "end = find_nearest(tus,10)\n",
    "print(start,end)\n",
    "\n",
    "tus = tus[start:end]\n",
    "\n",
    "keV_A = df_A[\"keV\"].to_numpy()\n",
    "keV_A = keV_A[idx_start_A:idx_end_A]\n",
    "ii = []\n",
    "for i,k in enumerate(keV_A):\n",
    "    if k<=400:\n",
    "        ii.append(i)\n",
    "        \n",
    "tus_flag = tus[ii]\n",
    "kev_flag = keV_A[ii]\n",
    "\n",
    "fig, ax = plt.subplots(1,1,figsize=(16,9))\n",
    "\n",
    "ax.hist(tus,np.arange(min(tus),max(tus)+0.05,0.05))\n",
    "ax.scatter(x=tus_flag,y=[0]*len(tus_flag),marker=\"+\",c=\"r\")\n",
    "plt.show()"
   ]
  },
  {
   "cell_type": "code",
   "execution_count": 95,
   "id": "8c686d85-a118-418d-b723-110f3e20665c",
   "metadata": {},
   "outputs": [
    {
     "data": {
      "text/plain": [
       "array([1.000000e+01, 1.258925e+01, 1.584893e+01, 1.995262e+01,\n",
       "       2.511886e+01, 3.162278e+01, 3.981072e+01, 5.011872e+01,\n",
       "       6.309573e+01, 7.943282e+01, 1.000000e+02, 1.258925e+02,\n",
       "       1.584893e+02, 1.995262e+02, 2.511886e+02, 3.162278e+02,\n",
       "       3.981072e+02, 5.011872e+02, 6.309573e+02, 7.943282e+02,\n",
       "       1.000000e+03, 1.258925e+03, 1.584893e+03, 1.995262e+03,\n",
       "       2.511886e+03, 3.162278e+03, 3.981072e+03, 5.011872e+03,\n",
       "       6.309573e+03, 7.943282e+03, 1.000000e+04, 1.258925e+04,\n",
       "       1.584893e+04, 1.995262e+04, 2.511886e+04, 3.162278e+04,\n",
       "       3.981072e+04, 5.011872e+04, 6.309573e+04, 7.943282e+04,\n",
       "       1.000000e+05])"
      ]
     },
     "execution_count": 95,
     "metadata": {},
     "output_type": "execute_result"
    }
   ],
   "source": [
    "bins"
   ]
  },
  {
   "cell_type": "code",
   "execution_count": 94,
   "id": "fcb3caf8-ad7c-428e-a103-1cb8004a780e",
   "metadata": {},
   "outputs": [
    {
     "data": {
      "text/html": [
       "<div>\n",
       "<style scoped>\n",
       "    .dataframe tbody tr th:only-of-type {\n",
       "        vertical-align: middle;\n",
       "    }\n",
       "\n",
       "    .dataframe tbody tr th {\n",
       "        vertical-align: top;\n",
       "    }\n",
       "\n",
       "    .dataframe thead th {\n",
       "        text-align: right;\n",
       "    }\n",
       "</style>\n",
       "<table border=\"1\" class=\"dataframe\">\n",
       "  <thead>\n",
       "    <tr style=\"text-align: right;\">\n",
       "      <th></th>\n",
       "      <th>check counts</th>\n",
       "      <th>counts</th>\n",
       "      <th>check bins</th>\n",
       "      <th>edges</th>\n",
       "    </tr>\n",
       "  </thead>\n",
       "  <tbody>\n",
       "    <tr>\n",
       "      <th>0</th>\n",
       "      <td>-9999.0</td>\n",
       "      <td>-9999</td>\n",
       "      <td>10.00000</td>\n",
       "      <td>10.00000</td>\n",
       "    </tr>\n",
       "    <tr>\n",
       "      <th>1</th>\n",
       "      <td>0.0</td>\n",
       "      <td>0</td>\n",
       "      <td>12.58925</td>\n",
       "      <td>12.58925</td>\n",
       "    </tr>\n",
       "    <tr>\n",
       "      <th>2</th>\n",
       "      <td>0.0</td>\n",
       "      <td>0</td>\n",
       "      <td>15.84893</td>\n",
       "      <td>15.84893</td>\n",
       "    </tr>\n",
       "    <tr>\n",
       "      <th>3</th>\n",
       "      <td>0.0</td>\n",
       "      <td>0</td>\n",
       "      <td>19.95262</td>\n",
       "      <td>19.95262</td>\n",
       "    </tr>\n",
       "    <tr>\n",
       "      <th>4</th>\n",
       "      <td>0.0</td>\n",
       "      <td>0</td>\n",
       "      <td>25.11886</td>\n",
       "      <td>25.11886</td>\n",
       "    </tr>\n",
       "    <tr>\n",
       "      <th>5</th>\n",
       "      <td>0.0</td>\n",
       "      <td>0</td>\n",
       "      <td>31.62278</td>\n",
       "      <td>31.62278</td>\n",
       "    </tr>\n",
       "    <tr>\n",
       "      <th>6</th>\n",
       "      <td>0.0</td>\n",
       "      <td>0</td>\n",
       "      <td>39.81072</td>\n",
       "      <td>39.81072</td>\n",
       "    </tr>\n",
       "    <tr>\n",
       "      <th>7</th>\n",
       "      <td>0.0</td>\n",
       "      <td>0</td>\n",
       "      <td>50.11872</td>\n",
       "      <td>50.11872</td>\n",
       "    </tr>\n",
       "    <tr>\n",
       "      <th>8</th>\n",
       "      <td>0.0</td>\n",
       "      <td>0</td>\n",
       "      <td>63.09573</td>\n",
       "      <td>63.09573</td>\n",
       "    </tr>\n",
       "    <tr>\n",
       "      <th>9</th>\n",
       "      <td>0.0</td>\n",
       "      <td>0</td>\n",
       "      <td>79.43282</td>\n",
       "      <td>79.43282</td>\n",
       "    </tr>\n",
       "    <tr>\n",
       "      <th>10</th>\n",
       "      <td>0.0</td>\n",
       "      <td>0</td>\n",
       "      <td>100.00000</td>\n",
       "      <td>100.00000</td>\n",
       "    </tr>\n",
       "    <tr>\n",
       "      <th>11</th>\n",
       "      <td>0.0</td>\n",
       "      <td>0</td>\n",
       "      <td>125.89250</td>\n",
       "      <td>125.89250</td>\n",
       "    </tr>\n",
       "    <tr>\n",
       "      <th>12</th>\n",
       "      <td>0.0</td>\n",
       "      <td>0</td>\n",
       "      <td>158.48930</td>\n",
       "      <td>158.48930</td>\n",
       "    </tr>\n",
       "    <tr>\n",
       "      <th>13</th>\n",
       "      <td>0.0</td>\n",
       "      <td>0</td>\n",
       "      <td>199.52620</td>\n",
       "      <td>199.52620</td>\n",
       "    </tr>\n",
       "    <tr>\n",
       "      <th>14</th>\n",
       "      <td>0.0</td>\n",
       "      <td>0</td>\n",
       "      <td>251.18860</td>\n",
       "      <td>251.18860</td>\n",
       "    </tr>\n",
       "    <tr>\n",
       "      <th>15</th>\n",
       "      <td>0.0</td>\n",
       "      <td>12</td>\n",
       "      <td>316.22780</td>\n",
       "      <td>316.22780</td>\n",
       "    </tr>\n",
       "    <tr>\n",
       "      <th>16</th>\n",
       "      <td>0.0</td>\n",
       "      <td>21</td>\n",
       "      <td>398.10720</td>\n",
       "      <td>398.10720</td>\n",
       "    </tr>\n",
       "    <tr>\n",
       "      <th>17</th>\n",
       "      <td>66.0</td>\n",
       "      <td>69</td>\n",
       "      <td>501.18720</td>\n",
       "      <td>501.18720</td>\n",
       "    </tr>\n",
       "    <tr>\n",
       "      <th>18</th>\n",
       "      <td>63.0</td>\n",
       "      <td>55</td>\n",
       "      <td>630.95730</td>\n",
       "      <td>630.95730</td>\n",
       "    </tr>\n",
       "    <tr>\n",
       "      <th>19</th>\n",
       "      <td>47.0</td>\n",
       "      <td>46</td>\n",
       "      <td>794.32820</td>\n",
       "      <td>794.32820</td>\n",
       "    </tr>\n",
       "    <tr>\n",
       "      <th>20</th>\n",
       "      <td>32.0</td>\n",
       "      <td>33</td>\n",
       "      <td>1000.00000</td>\n",
       "      <td>1000.00000</td>\n",
       "    </tr>\n",
       "    <tr>\n",
       "      <th>21</th>\n",
       "      <td>31.0</td>\n",
       "      <td>30</td>\n",
       "      <td>1258.92500</td>\n",
       "      <td>1258.92500</td>\n",
       "    </tr>\n",
       "    <tr>\n",
       "      <th>22</th>\n",
       "      <td>22.0</td>\n",
       "      <td>21</td>\n",
       "      <td>1584.89300</td>\n",
       "      <td>1584.89300</td>\n",
       "    </tr>\n",
       "    <tr>\n",
       "      <th>23</th>\n",
       "      <td>9.0</td>\n",
       "      <td>10</td>\n",
       "      <td>1995.26200</td>\n",
       "      <td>1995.26200</td>\n",
       "    </tr>\n",
       "    <tr>\n",
       "      <th>24</th>\n",
       "      <td>11.0</td>\n",
       "      <td>10</td>\n",
       "      <td>2511.88600</td>\n",
       "      <td>2511.88600</td>\n",
       "    </tr>\n",
       "    <tr>\n",
       "      <th>25</th>\n",
       "      <td>3.0</td>\n",
       "      <td>4</td>\n",
       "      <td>3162.27800</td>\n",
       "      <td>3162.27800</td>\n",
       "    </tr>\n",
       "    <tr>\n",
       "      <th>26</th>\n",
       "      <td>6.0</td>\n",
       "      <td>6</td>\n",
       "      <td>3981.07200</td>\n",
       "      <td>3981.07200</td>\n",
       "    </tr>\n",
       "    <tr>\n",
       "      <th>27</th>\n",
       "      <td>1.0</td>\n",
       "      <td>1</td>\n",
       "      <td>5011.87200</td>\n",
       "      <td>5011.87200</td>\n",
       "    </tr>\n",
       "    <tr>\n",
       "      <th>28</th>\n",
       "      <td>1.0</td>\n",
       "      <td>1</td>\n",
       "      <td>6309.57300</td>\n",
       "      <td>6309.57300</td>\n",
       "    </tr>\n",
       "    <tr>\n",
       "      <th>29</th>\n",
       "      <td>0.0</td>\n",
       "      <td>0</td>\n",
       "      <td>7943.28200</td>\n",
       "      <td>7943.28200</td>\n",
       "    </tr>\n",
       "    <tr>\n",
       "      <th>30</th>\n",
       "      <td>1.0</td>\n",
       "      <td>1</td>\n",
       "      <td>10000.00000</td>\n",
       "      <td>10000.00000</td>\n",
       "    </tr>\n",
       "    <tr>\n",
       "      <th>31</th>\n",
       "      <td>0.0</td>\n",
       "      <td>0</td>\n",
       "      <td>12589.25000</td>\n",
       "      <td>12589.25000</td>\n",
       "    </tr>\n",
       "    <tr>\n",
       "      <th>32</th>\n",
       "      <td>0.0</td>\n",
       "      <td>0</td>\n",
       "      <td>15848.93000</td>\n",
       "      <td>15848.93000</td>\n",
       "    </tr>\n",
       "    <tr>\n",
       "      <th>33</th>\n",
       "      <td>1.0</td>\n",
       "      <td>1</td>\n",
       "      <td>19952.62000</td>\n",
       "      <td>19952.62000</td>\n",
       "    </tr>\n",
       "    <tr>\n",
       "      <th>34</th>\n",
       "      <td>2.0</td>\n",
       "      <td>2</td>\n",
       "      <td>25118.86000</td>\n",
       "      <td>25118.86000</td>\n",
       "    </tr>\n",
       "    <tr>\n",
       "      <th>35</th>\n",
       "      <td>3.0</td>\n",
       "      <td>3</td>\n",
       "      <td>31622.78000</td>\n",
       "      <td>31622.78000</td>\n",
       "    </tr>\n",
       "    <tr>\n",
       "      <th>36</th>\n",
       "      <td>1.0</td>\n",
       "      <td>1</td>\n",
       "      <td>39810.72000</td>\n",
       "      <td>39810.72000</td>\n",
       "    </tr>\n",
       "    <tr>\n",
       "      <th>37</th>\n",
       "      <td>0.0</td>\n",
       "      <td>0</td>\n",
       "      <td>50118.72000</td>\n",
       "      <td>50118.72000</td>\n",
       "    </tr>\n",
       "    <tr>\n",
       "      <th>38</th>\n",
       "      <td>0.0</td>\n",
       "      <td>0</td>\n",
       "      <td>63095.73000</td>\n",
       "      <td>63095.73000</td>\n",
       "    </tr>\n",
       "    <tr>\n",
       "      <th>39</th>\n",
       "      <td>0.0</td>\n",
       "      <td>0</td>\n",
       "      <td>79432.82000</td>\n",
       "      <td>79432.82000</td>\n",
       "    </tr>\n",
       "    <tr>\n",
       "      <th>40</th>\n",
       "      <td>0.0</td>\n",
       "      <td>0</td>\n",
       "      <td>100000.00000</td>\n",
       "      <td>100000.00000</td>\n",
       "    </tr>\n",
       "  </tbody>\n",
       "</table>\n",
       "</div>"
      ],
      "text/plain": [
       "    check counts  counts    check bins         edges\n",
       "0        -9999.0   -9999      10.00000      10.00000\n",
       "1            0.0       0      12.58925      12.58925\n",
       "2            0.0       0      15.84893      15.84893\n",
       "3            0.0       0      19.95262      19.95262\n",
       "4            0.0       0      25.11886      25.11886\n",
       "5            0.0       0      31.62278      31.62278\n",
       "6            0.0       0      39.81072      39.81072\n",
       "7            0.0       0      50.11872      50.11872\n",
       "8            0.0       0      63.09573      63.09573\n",
       "9            0.0       0      79.43282      79.43282\n",
       "10           0.0       0     100.00000     100.00000\n",
       "11           0.0       0     125.89250     125.89250\n",
       "12           0.0       0     158.48930     158.48930\n",
       "13           0.0       0     199.52620     199.52620\n",
       "14           0.0       0     251.18860     251.18860\n",
       "15           0.0      12     316.22780     316.22780\n",
       "16           0.0      21     398.10720     398.10720\n",
       "17          66.0      69     501.18720     501.18720\n",
       "18          63.0      55     630.95730     630.95730\n",
       "19          47.0      46     794.32820     794.32820\n",
       "20          32.0      33    1000.00000    1000.00000\n",
       "21          31.0      30    1258.92500    1258.92500\n",
       "22          22.0      21    1584.89300    1584.89300\n",
       "23           9.0      10    1995.26200    1995.26200\n",
       "24          11.0      10    2511.88600    2511.88600\n",
       "25           3.0       4    3162.27800    3162.27800\n",
       "26           6.0       6    3981.07200    3981.07200\n",
       "27           1.0       1    5011.87200    5011.87200\n",
       "28           1.0       1    6309.57300    6309.57300\n",
       "29           0.0       0    7943.28200    7943.28200\n",
       "30           1.0       1   10000.00000   10000.00000\n",
       "31           0.0       0   12589.25000   12589.25000\n",
       "32           0.0       0   15848.93000   15848.93000\n",
       "33           1.0       1   19952.62000   19952.62000\n",
       "34           2.0       2   25118.86000   25118.86000\n",
       "35           3.0       3   31622.78000   31622.78000\n",
       "36           1.0       1   39810.72000   39810.72000\n",
       "37           0.0       0   50118.72000   50118.72000\n",
       "38           0.0       0   63095.73000   63095.73000\n",
       "39           0.0       0   79432.82000   79432.82000\n",
       "40           0.0       0  100000.00000  100000.00000"
      ]
     },
     "execution_count": 94,
     "metadata": {},
     "output_type": "execute_result"
    }
   ],
   "source": [
    "hist,edges = np.histogram(keV_A,bins)\n",
    "hist = np.append(-9999,hist)\n",
    "df_hist_A = pd.DataFrame({\"check counts\":df_hist_check['counts'], \"counts\":hist,\"check bins\":df_hist_check['bins_keV'],\"edges\":edges})\n",
    "df_hist_A"
   ]
  },
  {
   "cell_type": "code",
   "execution_count": null,
   "id": "c07d58f7-4b61-426b-9afc-fa4b6d9071f6",
   "metadata": {},
   "outputs": [],
   "source": []
  },
  {
   "cell_type": "code",
   "execution_count": null,
   "id": "24c014d4-1edf-4133-a7dc-fb2cce651e77",
   "metadata": {},
   "outputs": [],
   "source": []
  },
  {
   "cell_type": "code",
   "execution_count": null,
   "id": "cb81951b-d1c5-4912-904e-54d417fc9161",
   "metadata": {},
   "outputs": [],
   "source": []
  },
  {
   "cell_type": "code",
   "execution_count": 29,
   "id": "bd415118-eb27-4f2c-92ae-75adfbf2a7aa",
   "metadata": {},
   "outputs": [
    {
     "name": "stdout",
     "output_type": "stream",
     "text": [
      "116 valleys removed\n",
      "erg converted to keV\n",
      "df sorted by adr and tus\n",
      "safety time events flagged. Found 187 flags\n"
     ]
    }
   ],
   "source": [
    "df,T0 = complete_df(grb_id=\"GRB200415\")\n",
    "df.sort_values(by=[\"tus\"],inplace=True)\n",
    "tus = df[\"tus\"].to_numpy()\n",
    "tus = tus/1e3-28.5\n"
   ]
  },
  {
   "cell_type": "code",
   "execution_count": 30,
   "id": "03a2e3d4-a5e0-4b6e-bb2f-8eea2516d22d",
   "metadata": {},
   "outputs": [
    {
     "name": "stdout",
     "output_type": "stream",
     "text": [
      "6588 7327\n",
      "739\n"
     ]
    },
    {
     "data": {
      "image/png": "[encoded data removed]",
      "text/plain": [
       "<Figure size 1600x900 with 1 Axes>"
      ]
     },
     "metadata": {},
     "output_type": "display_data"
    }
   ],
   "source": [
    "\n",
    "start = find_nearest(tus,-2)\n",
    "end = find_nearest(tus,10)\n",
    "print(start,end)\n",
    "\n",
    "tus = tus[start:end]\n",
    "print(len(tus))\n",
    "\n",
    "fig, ax = plt.subplots(1,1,figsize=(16,9))\n",
    "\n",
    "ax.hist(tus,np.arange(min(tus),max(tus)+0.05,0.05))\n",
    "plt.show()"
   ]
  },
  {
   "cell_type": "code",
   "execution_count": null,
   "id": "5e5524dc-0773-4c66-a9aa-2abc35489a19",
   "metadata": {},
   "outputs": [],
   "source": [
    "#df_A = pd.read_csv(\"/Home/siv30/wad005/master/GRB/safety_time/HED_GRB200415_inc_valley_ST.csv\",sep=\",\") #UIB\n",
    "df_A = pd.read_csv(\"/Users/andreas/phys/master//GRB/safety_time/new_safety_time.csv\",sep=\",\")\n",
    "df_A = df_A.rename(columns={\"kev\":\"keV\"}) \n",
    "df_A = df_A.sort_values(by=['adr','tus'])\n",
    "print(df_A.shape)\n",
    "\n",
    "st_list = get_st(df_A)\n",
    "df_A[\"st\"] = st_list\n",
    "dt_list = get_dt(df_A)\n",
    "df_A[\"dt\"] = dt_list\n",
    "flag_list = get_flag(df_A)\n",
    "df_A[\"flag\"] = flag_list\n",
    "df_A = df_A.drop(columns=[\"cal_abc\"])\n",
    "\n",
    "\n",
    "#dropping flags\n",
    "labels_A=[]\n",
    "for index,row in df_A.iterrows():\n",
    "    if row[\"flag\"] == True:\n",
    "        labels_A.append(index)\n",
    "df_A.drop(labels=labels_A,inplace=True)\n",
    "\n",
    "\n",
    "print(df_A.shape)\n",
    "df_A.sort_values(by=['tus'],inplace=True)\n",
    "tus_A,keV_A = df_A['tus'].to_numpy(), df_A[\"keV\"].to_numpy()\n",
    "\n",
    "\n",
    "idx = []\n",
    "for i,tus in enumerate(tus_A):\n",
    "    if 0.8<=tus/1e3<=3.2:\n",
    "        idx.append(i)\n",
    "            \n",
    "tus_A = tus_A[idx]\n",
    "keV_A = keV_A[idx]\n",
    "print(len(tus_A),len(keV_A))\n",
    "\n",
    "df_A = df_A.iloc[idx]\n",
    "df_A.head()"
   ]
  },
  {
   "cell_type": "code",
   "execution_count": null,
   "id": "d911515d-b976-4575-83c9-f3ccb7741241",
   "metadata": {},
   "outputs": [],
   "source": [
    "#check if there are any valleys\n",
    "#--> no valleys in df_A\n",
    "typ = df_A[\"typ\"].to_numpy()\n",
    "if 3 in typ:\n",
    "    print(True)\n",
    "else:\n",
    "    print(False)"
   ]
  },
  {
   "cell_type": "code",
   "execution_count": null,
   "id": "c0f53625-d48b-496b-bf64-fe58a263c493",
   "metadata": {},
   "outputs": [],
   "source": [
    "hist_A, edges_A = np.histogram(keV_A,bins)\n",
    "\n",
    "if hist_A[0] == 0:\n",
    "    hist_A[0] = -9999\n",
    "    \n",
    "df_hist_check[\"bin_counts_A\"] = hist_A\n",
    "df_hist_check[\"edges_A\"] = edges_A\n",
    "\n",
    "df_hist_check[['bins_keV',\"counts\",\"edges_A\",\"bin_counts_A\"]]\n"
   ]
  },
  {
   "cell_type": "code",
   "execution_count": null,
   "id": "2e9f435f-ee69-4be9-8c05-173a96d23b87",
   "metadata": {},
   "outputs": [],
   "source": []
  },
  {
   "cell_type": "markdown",
   "id": "2d05bf03-1cba-45bb-a219-68c077d4fd90",
   "metadata": {},
   "source": [
    "df,T0 = complete_df(grb_id=\"GRB200415\")\n",
    "print(df.shape)\n",
    "\n",
    "labels=[]\n",
    "for index,row in df.iterrows():\n",
    "    if row[\"flag\"] == True:\n",
    "        labels.append(index)\n",
    "df.drop(labels=labels,inplace=True)\n",
    "\n",
    "\n",
    "df.sort_values(by=['tus'],inplace=True)\n",
    "print(\"first tus \", df[\"tus\"].to_numpy()[0])\n",
    "df = df.drop(columns=[\"cal_abc\"])\n",
    "print(df.shape)\n",
    "df[\"tus\"] = df[\"tus\"].to_numpy()+4151.099999999977\n",
    "\n",
    "tus_test = df[\"tus\"].to_numpy()\n",
    "keV_test = df[\"keV\"].to_numpy()\n",
    "\n",
    "idx_test = []\n",
    "for i,tus in enumerate(tus_test):\n",
    "    if 0.8<=tus/1e3<=3.2:\n",
    "        idx_test.append(i)\n",
    "            \n",
    "tus_test = tus_test[idx_test]\n",
    "keV_test = keV_test[idx_test]\n",
    "print(len(tus_test),len(keV_test))\n",
    "df = df.iloc[idx_test]"
   ]
  },
  {
   "cell_type": "code",
   "execution_count": null,
   "id": "c1ab8f31-7588-4a3d-af5e-86a08449c0e8",
   "metadata": {},
   "outputs": [],
   "source": [
    "#Need to find the appropriate cut for the peak of GRB200415\n",
    "\n",
    "df,T0 = complete_df(grb_id=\"GRB200415\")"
   ]
  },
  {
   "cell_type": "code",
   "execution_count": null,
   "id": "254dc01b-7c91-46fd-af20-5e23a3ea6da7",
   "metadata": {},
   "outputs": [],
   "source": []
  },
  {
   "cell_type": "code",
   "execution_count": null,
   "id": "d68efeca-c9b2-4516-8baf-98aa9726b5c8",
   "metadata": {},
   "outputs": [],
   "source": [
    "tus = df[\"tus\"].to_numpy()/1e3\n",
    "\n",
    "\n",
    "\n",
    "plt.hist(tus,bins=np.arange(min(tus), max(tus)+2,2),histtype='step')\n",
    "plt.show()"
   ]
  },
  {
   "cell_type": "markdown",
   "id": "7389f67c-2ce3-45ea-850f-f5e7a9359ced",
   "metadata": {},
   "source": [
    "# binning keV\n",
    "    -Binning the keV array for 0.8 <= tus <= 3.2 "
   ]
  },
  {
   "cell_type": "code",
   "execution_count": null,
   "id": "387b58f6-d81e-4660-97dc-4179ac87e3d2",
   "metadata": {},
   "outputs": [],
   "source": [
    "-1.84+(3.2-0.8)"
   ]
  },
  {
   "cell_type": "code",
   "execution_count": null,
   "id": "ca4e5daa-0345-439e-afb5-b2eb60829c5b",
   "metadata": {},
   "outputs": [],
   "source": [
    "-1.95+2.4"
   ]
  },
  {
   "cell_type": "code",
   "execution_count": null,
   "id": "2bcfe0b9-2afa-4833-86b7-9fd4aa89355c",
   "metadata": {},
   "outputs": [],
   "source": [
    "df,T0 = complete_df(grb_id=\"GRB200415\")\n",
    "\n",
    "label_tus=[]\n",
    "for label,row in df.iterrows():\n",
    "    tus = row[\"tus\"]/1e3\n",
    "    if -1.84<=tus<=0.56: #between\n",
    "        if row[\"flag\"] == False:\n",
    "            label_tus.append(label)\n",
    "        \n",
    "df_tus = df.iloc[label_tus]"
   ]
  },
  {
   "cell_type": "code",
   "execution_count": null,
   "id": "5591c5b8-7785-4fdc-8998-d77c3a2d7dd3",
   "metadata": {},
   "outputs": [],
   "source": [
    "keV = df_tus[\"keV\"].to_numpy()\n",
    "\n",
    "hist,edges = np.histogram(keV,bins)\n",
    "df_keV = pd.DataFrame({\"bin_keV\":hist,\"edges\":edges[1:]})"
   ]
  },
  {
   "cell_type": "code",
   "execution_count": null,
   "id": "87b89f82-436c-4174-98a0-5bee8615e2f3",
   "metadata": {},
   "outputs": [],
   "source": []
  },
  {
   "cell_type": "code",
   "execution_count": null,
   "id": "f1d666a1-5383-446e-acc2-cf9ef02d0ce7",
   "metadata": {},
   "outputs": [],
   "source": [
    "#function for handling\n",
    "\n",
    "#input time shift=cons, start=tus, end=tus"
   ]
  },
  {
   "cell_type": "code",
   "execution_count": null,
   "id": "01822da2-cef6-45cd-8d2a-4d1059553ce3",
   "metadata": {},
   "outputs": [],
   "source": []
  },
  {
   "cell_type": "code",
   "execution_count": null,
   "id": "5fd4e39b-3306-4393-9e56-823046ccd822",
   "metadata": {},
   "outputs": [],
   "source": []
  },
  {
   "cell_type": "code",
   "execution_count": null,
   "id": "42e02baf-7bbd-476a-b1e5-6dd60b370bfa",
   "metadata": {},
   "outputs": [],
   "source": []
  }
 ],
 "metadata": {
  "kernelspec": {
   "display_name": "base",
   "language": "python",
   "name": "base"
  },
  "language_info": {
   "codemirror_mode": {
    "name": "ipython",
    "version": 3
   },
   "file_extension": ".py",
   "mimetype": "text/x-python",
   "name": "python",
   "nbconvert_exporter": "python",
   "pygments_lexer": "ipython3",
   "version": "3.9.13"
  }
 },
 "nbformat": 4,
 "nbformat_minor": 5
}
