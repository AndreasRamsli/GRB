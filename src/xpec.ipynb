{
 "cells": [
  {
   "cell_type": "markdown",
   "id": "cd5ab503-d1fd-4757-9242-72a450e190b0",
   "metadata": {},
   "source": [
    "# imports"
   ]
  },
  {
   "cell_type": "code",
   "execution_count": 19,
   "id": "d0ef8f8b-840d-4b61-8dbc-f25c9cbd67fa",
   "metadata": {},
   "outputs": [
    {
     "name": "stdout",
     "output_type": "stream",
     "text": [
      "All MAC paths are set!\n",
      "read_matlab_file.ipynb loaded successfully!\n",
      "All MAC paths are set!\n",
      "read_matlab_file.ipynb loaded successfully!\n",
      "All MAC paths are set!\n",
      "read_matlab_file.ipynb loaded successfully!\n",
      "convert_erg.ipynb loaded successfully!\n",
      "All MAC paths are set!\n",
      "read_matlab_file.ipynb loaded successfully!\n",
      "All MAC paths are set!\n",
      "read_matlab_file.ipynb loaded successfully!\n",
      "convert_erg.ipynb loaded successfully!\n",
      "safety_time.ipynb loaded successfully!\n",
      "LC_calibration loaded successfully!\n"
     ]
    }
   ],
   "source": [
    "%run read_matlab_file.ipynb\n",
    "%run LC_calibration.ipynb"
   ]
  },
  {
   "cell_type": "markdown",
   "id": "b22d7b6f-dbbc-480f-b319-05137ddb3f16",
   "metadata": {},
   "source": [
    "# XPEC data preperation\n",
    "\n",
    "### TODO\n",
    "    - Extract the bins from the txt file. DONE\n",
    "    \n",
    "    - Bin the keV into the predefined bins. DONE\n",
    "    \n",
    "    - Implement function for T0 & tus correction (ToF). DONE\n",
    "        --> COMMENT: still 300ms error after calibrating GRB190206\n",
    "        \n",
    "    -Do all the steps above for GRB200415A and cross check results. DONE\n",
    "    \n",
    "    - Implement function for cutting the tus & keV array at time interval given by Anastasia or GCN report \n",
    "        ---> NEXT UP\n",
    " \n",
    "    - make sure the T0 are correctly clibrated. Send complete list to Andrey for validation\n",
    "    \n",
    "    \n",
    "### Notes\n",
    "    -Assuming \n",
    "    -bins_keV are the right most edges! \n",
    "    -Anders have filtered for keV >=500 \n",
    "    -Implementation is ok. Proceed to wrapping a function around it.\n",
    "    --> have a shift variable as input (have to do with lining up the LC from the different spacecrafts)\n",
    "    \n",
    "    \n",
    "### Problems\n",
    "    -GRB200415: Problem lining up the T0 from my data to the data that Anders used to histogram the data for 0.8ms <=tus <= 3.2ms\n",
    "    Since the data is shifted a small amount the number of counts in the bins don't match up correctly.\n",
    "    --> Absolute time correction is neccecary, but this value might be different from the one Anders used.\n",
    "    -->Error of 4151.099 ... us (4.1 ms) from df_A and my df.\n",
    " \n",
    "    \n",
    "    -GRB200415: The binning does not produce the same bin counts in Ander´s df_A and the df_check\n",
    "    --> Because of filtering for keV's >= 500\n",
    "    \n",
    "    "
   ]
  },
  {
   "cell_type": "code",
   "execution_count": 2,
   "id": "1161d279-4169-4a01-8ef0-840dd728082f",
   "metadata": {},
   "outputs": [],
   "source": [
    "#time of flight from KW to ASIM. Given in seconds\n",
    "ToF = {\"GRB180720\":-4.2377,\"GRB181222\":2.8716, \"GRB190206\":4.9225, \"GRB190305\":3.4460,\n",
    "      \"GRB190606\":4.0316,\"GRB200415\":4.1840,\"GRB200521\":-0.6226,\"GRB200716\":3.0155,\n",
    "      \"GRB201227\":0.7142, \"GRB210424\":-0.5033, \"GRB210619\":-2.6183}"
   ]
  },
  {
   "cell_type": "code",
   "execution_count": 3,
   "id": "58bcca0c-68fc-46be-97d7-166f3366a345",
   "metadata": {},
   "outputs": [],
   "source": [
    "def ToF_correction(grb_id=None):\n",
    "    ToF_us = ToF[grb_id]*1e6\n",
    "    df,T0 = complete_df(grb_id=grb_id)\n",
    "    df[\"tus\"], T0_calibrated = df[\"tus\"] - ToF_us, T0 - timedelta(microseconds=ToF_us) #calibrating \n",
    "    return df,T0,T0_calibrated"
   ]
  },
  {
   "cell_type": "markdown",
   "id": "46da9cbb-656d-482e-b55c-569214dec09a",
   "metadata": {},
   "source": [
    "# bin control"
   ]
  },
  {
   "cell_type": "code",
   "execution_count": 4,
   "id": "30f37097-2bed-4757-afec-cde4f88cdba4",
   "metadata": {},
   "outputs": [
    {
     "data": {
      "text/html": [
       "<div>\n",
       "<style scoped>\n",
       "    .dataframe tbody tr th:only-of-type {\n",
       "        vertical-align: middle;\n",
       "    }\n",
       "\n",
       "    .dataframe tbody tr th {\n",
       "        vertical-align: top;\n",
       "    }\n",
       "\n",
       "    .dataframe thead th {\n",
       "        text-align: right;\n",
       "    }\n",
       "</style>\n",
       "<table border=\"1\" class=\"dataframe\">\n",
       "  <thead>\n",
       "    <tr style=\"text-align: right;\">\n",
       "      <th></th>\n",
       "      <th>energy_bin_start_keV</th>\n",
       "      <th>energy_bin_stop_keV</th>\n",
       "    </tr>\n",
       "  </thead>\n",
       "  <tbody>\n",
       "    <tr>\n",
       "      <th>0</th>\n",
       "      <td>10.00000</td>\n",
       "      <td>12.58925</td>\n",
       "    </tr>\n",
       "    <tr>\n",
       "      <th>1</th>\n",
       "      <td>12.58925</td>\n",
       "      <td>15.84893</td>\n",
       "    </tr>\n",
       "    <tr>\n",
       "      <th>2</th>\n",
       "      <td>15.84893</td>\n",
       "      <td>19.95262</td>\n",
       "    </tr>\n",
       "    <tr>\n",
       "      <th>3</th>\n",
       "      <td>19.95262</td>\n",
       "      <td>25.11886</td>\n",
       "    </tr>\n",
       "    <tr>\n",
       "      <th>4</th>\n",
       "      <td>25.11886</td>\n",
       "      <td>31.62278</td>\n",
       "    </tr>\n",
       "  </tbody>\n",
       "</table>\n",
       "</div>"
      ],
      "text/plain": [
       "   energy_bin_start_keV  energy_bin_stop_keV\n",
       "0              10.00000             12.58925\n",
       "1              12.58925             15.84893\n",
       "2              15.84893             19.95262\n",
       "3              19.95262             25.11886\n",
       "4              25.11886             31.62278"
      ]
     },
     "execution_count": 4,
     "metadata": {},
     "output_type": "execute_result"
    }
   ],
   "source": [
    "df_bin = pd.read_csv(\"/Users/andreas/phys/master/GRB/spectral_analysis/HED_binedges.txt\")\n",
    "df_bin.head()"
   ]
  },
  {
   "cell_type": "code",
   "execution_count": 5,
   "id": "acd203c1-2e27-49e2-b5c3-9cd729957223",
   "metadata": {},
   "outputs": [
    {
     "data": {
      "image/png": "[encoded data removed]",
      "text/plain": [
       "<Figure size 1500x300 with 2 Axes>"
      ]
     },
     "metadata": {},
     "output_type": "display_data"
    }
   ],
   "source": [
    "fig,(ax1,ax2) = plt.subplots(1,2,figsize=(15,3))\n",
    "\n",
    "ax1.plot((df_bin[\"energy_bin_start_keV\"]))\n",
    "ax2.plot(np.log(df_bin[\"energy_bin_start_keV\"]))\n",
    "ax1.set_xlabel(\"bin number\")\n",
    "ax1.set_ylabel(\"keV bin\")\n",
    "ax2.set_xlabel(\"bin number\")\n",
    "ax2.set_ylabel(\"ln(keV)\")\n",
    "plt.show()"
   ]
  },
  {
   "cell_type": "code",
   "execution_count": 6,
   "id": "b2205f23-5fdc-4479-85ca-dd5a9710e0f7",
   "metadata": {},
   "outputs": [
    {
     "name": "stdout",
     "output_type": "stream",
     "text": [
      "41\n"
     ]
    },
    {
     "data": {
      "text/plain": [
       "array([1.000000e+01, 1.258925e+01, 1.584893e+01, 1.995262e+01,\n",
       "       2.511886e+01, 3.162278e+01, 3.981072e+01, 5.011872e+01,\n",
       "       6.309573e+01, 7.943282e+01, 1.000000e+02, 1.258925e+02,\n",
       "       1.584893e+02, 1.995262e+02, 2.511886e+02, 3.162278e+02,\n",
       "       3.981072e+02, 5.011872e+02, 6.309573e+02, 7.943282e+02,\n",
       "       1.000000e+03, 1.258925e+03, 1.584893e+03, 1.995262e+03,\n",
       "       2.511886e+03, 3.162278e+03, 3.981072e+03, 5.011872e+03,\n",
       "       6.309573e+03, 7.943282e+03, 1.000000e+04, 1.258925e+04,\n",
       "       1.584893e+04, 1.995262e+04, 2.511886e+04, 3.162278e+04,\n",
       "       3.981072e+04, 5.011872e+04, 6.309573e+04, 7.943282e+04,\n",
       "       1.000000e+05])"
      ]
     },
     "execution_count": 6,
     "metadata": {},
     "output_type": "execute_result"
    }
   ],
   "source": [
    "start = df_bin[\"energy_bin_start_keV\"].to_numpy()\n",
    "#start = np.append(0,start)\n",
    "end = df_bin[\"energy_bin_stop_keV\"].to_numpy()\n",
    "bins_keV=np.append(start,end[-1])\n",
    "print(len(bins_keV))\n",
    "bins_keV"
   ]
  },
  {
   "cell_type": "code",
   "execution_count": 7,
   "id": "c5503a4c-80ae-4f8d-b0be-a71baec8ac25",
   "metadata": {},
   "outputs": [
    {
     "name": "stdout",
     "output_type": "stream",
     "text": [
      "Num hist counts totoal:  300.0\n",
      "bins_keV are the right most edge\n"
     ]
    },
    {
     "data": {
      "text/html": [
       "<div>\n",
       "<style scoped>\n",
       "    .dataframe tbody tr th:only-of-type {\n",
       "        vertical-align: middle;\n",
       "    }\n",
       "\n",
       "    .dataframe tbody tr th {\n",
       "        vertical-align: top;\n",
       "    }\n",
       "\n",
       "    .dataframe thead th {\n",
       "        text-align: right;\n",
       "    }\n",
       "</style>\n",
       "<table border=\"1\" class=\"dataframe\">\n",
       "  <thead>\n",
       "    <tr style=\"text-align: right;\">\n",
       "      <th></th>\n",
       "      <th>bins_keV</th>\n",
       "      <th>counts</th>\n",
       "      <th>poisson_error_counts</th>\n",
       "      <th>duration_seconds</th>\n",
       "    </tr>\n",
       "  </thead>\n",
       "  <tbody>\n",
       "    <tr>\n",
       "      <th>0</th>\n",
       "      <td>10.00000</td>\n",
       "      <td>-9999.0</td>\n",
       "      <td>-9999.0</td>\n",
       "      <td>-9999.0000</td>\n",
       "    </tr>\n",
       "    <tr>\n",
       "      <th>1</th>\n",
       "      <td>12.58925</td>\n",
       "      <td>0.0</td>\n",
       "      <td>0.0</td>\n",
       "      <td>0.0024</td>\n",
       "    </tr>\n",
       "    <tr>\n",
       "      <th>2</th>\n",
       "      <td>15.84893</td>\n",
       "      <td>0.0</td>\n",
       "      <td>0.0</td>\n",
       "      <td>0.0024</td>\n",
       "    </tr>\n",
       "    <tr>\n",
       "      <th>3</th>\n",
       "      <td>19.95262</td>\n",
       "      <td>0.0</td>\n",
       "      <td>0.0</td>\n",
       "      <td>0.0024</td>\n",
       "    </tr>\n",
       "    <tr>\n",
       "      <th>4</th>\n",
       "      <td>25.11886</td>\n",
       "      <td>0.0</td>\n",
       "      <td>0.0</td>\n",
       "      <td>0.0024</td>\n",
       "    </tr>\n",
       "  </tbody>\n",
       "</table>\n",
       "</div>"
      ],
      "text/plain": [
       "   bins_keV  counts  poisson_error_counts  duration_seconds\n",
       "0  10.00000 -9999.0               -9999.0        -9999.0000\n",
       "1  12.58925     0.0                   0.0            0.0024\n",
       "2  15.84893     0.0                   0.0            0.0024\n",
       "3  19.95262     0.0                   0.0            0.0024\n",
       "4  25.11886     0.0                   0.0            0.0024"
      ]
     },
     "execution_count": 7,
     "metadata": {},
     "output_type": "execute_result"
    }
   ],
   "source": [
    "df_hist_check = pd.read_csv(\"/Users/andreas/phys/master/GRB/spectral_analysis/HED_(0.8 ms to 3.2 ms).txt\")\n",
    "print(\"Num hist counts totoal: \", sum(df_hist_check[\"counts\"].to_numpy()[1:]))\n",
    "print(\"bins_keV are the right most edge\")\n",
    "\n",
    "df_hist_check.head()"
   ]
  },
  {
   "cell_type": "markdown",
   "id": "4feab460-e6f7-4056-b3ff-206674ae9b3b",
   "metadata": {},
   "source": [
    "# keV bin function"
   ]
  },
  {
   "cell_type": "code",
   "execution_count": 103,
   "id": "1a5bce03-0f73-4253-b83a-8552454d4ea7",
   "metadata": {},
   "outputs": [],
   "source": [
    "def keV_hist(df=None,time_interval=None,keV_interval=None,keV_bins=None,duration=None):\n",
    "    '''\n",
    "    NOTE: working with ms resolution for the tus array\n",
    "    \n",
    "    input: df <pd.dataframe> complete dataframe with no flagged events\n",
    "    time_interval <tuple> start and end (ms) of the time interval for the keV binning.\n",
    "    keV_interval <tuple> default is None. Meaning the whole spectrum\n",
    "    duration <float> defaul is None. Must be provided in ms \n",
    "    \n",
    "    return: <pd.dataframe> with the bin_counts and bin_edges as a dataframe\n",
    "    '''\n",
    "    df.sort_values(by=['tus'],inplace=True) #first sorting by tus in increasing order\n",
    "    \n",
    "    \n",
    "    #tus handling-------------------------------------------\n",
    "    tus_arr = df[\"tus\"].to_numpy()\n",
    "    tus_arr = tus_arr/1e3 #converting to ms resolution\n",
    "\n",
    "    \n",
    "    if time_interval==None:\n",
    "        tus_start,tus_end = min(tus_arr),max(tus_arr)\n",
    "        idx_start, idx_end = find_nearest(tus_arr,tus_start), find_nearest(tus_arr,tus_end)+1 #including the last trigger\n",
    "    else:\n",
    "        tus_start,tus_end = time_interval[0],time_interval[1] #selecting the interval\n",
    "        idx_start, idx_end = find_nearest(tus_arr,tus_start), find_nearest(tus_arr,tus_end)+1 #including the nearest trigger\n",
    "\n",
    "    tus_arr = tus_arr[idx_start:idx_end] #selecting the interval for tus\n",
    "    \n",
    "    #keV handling-------------------------------------------\n",
    "    keV_arr = df[\"keV\"].to_numpy()\n",
    "    keV_arr = keV_arr[idx_start:idx_end] #selecting keV's on the given tus interval\n",
    "    \n",
    "    if keV_interval==None:\n",
    "         keV_lower,keV_upper = 0,1e16 #selecting artificially high bounds\n",
    "    else: \n",
    "        keV_lower,keV_upper = keV_interval[0],keV_interval[1] #selecting the bounds for the keV's\n",
    "\n",
    "    ii = []\n",
    "    for i,keV in enumerate(keV_arr): #finding\n",
    "        if keV_lower<=keV<=keV_upper:\n",
    "            ii.append(i)\n",
    "            \n",
    "    tus_keV_bound = tus_arr[ii]\n",
    "    keV_bound = keV_arr[ii]\n",
    "    \n",
    "    #histogramming-----------------------------------------\n",
    "    hist_keV,edges_keV = np.histogram(keV_bound,bins=keV_bins)\n",
    "    \n",
    "    poisson_arr = np.sqrt(hist_keV) #handle this one. might be some negative numbers in it?\n",
    "    if hist_keV[0] == 0:\n",
    "        hist_keV = np.append(-9999.0,hist_keV)\n",
    "        poisson_arr = np.append(-9999.0,poisson_arr)\n",
    "    duration_arr = np.append(-9999.0,(([duration/1e3])*(len(hist_keV)-1)))\n",
    "    df_keV = pd.DataFrame({\"bins_keV\":edges_keV, \"counts\":hist_keV, \n",
    "                           \"poisson_error_counts\":poisson_arr, \"duration_seconds\":duration_arr}) #ERROR different lengths!\n",
    "    print(\"Energies binned!\")\n",
    "    return df_keV"
   ]
  },
  {
   "cell_type": "code",
   "execution_count": 77,
   "id": "6089d935-bd50-47e5-83a8-44d2290ac52a",
   "metadata": {},
   "outputs": [
    {
     "data": {
      "text/plain": [
       "array([-9999.,    64.,    64.,    64.,    64.,    64.,    64.,    64.,\n",
       "          64.,    64.,    64.,    64.,    64.,    64.,    64.,    64.,\n",
       "          64.,    64.,    64.,    64.,    64.,    64.,    64.,    64.,\n",
       "          64.,    64.,    64.,    64.,    64.,    64.,    64.,    64.,\n",
       "          64.,    64.,    64.,    64.,    64.,    64.,    64.,    64.,\n",
       "          64.])"
      ]
     },
     "execution_count": 77,
     "metadata": {},
     "output_type": "execute_result"
    }
   ],
   "source": [
    "duration_arr = np.append(-9999.0,np.array([64]*(41-1)))\n",
    "duration_arr"
   ]
  },
  {
   "cell_type": "markdown",
   "id": "63a87857-beca-44ba-b850-7d7d0419b5bd",
   "metadata": {},
   "source": [
    "# Exporting all keV histograms"
   ]
  },
  {
   "cell_type": "code",
   "execution_count": 116,
   "id": "e373687f-2e8c-4ca4-ab3e-c70cb326ebf7",
   "metadata": {},
   "outputs": [
    {
     "name": "stdout",
     "output_type": "stream",
     "text": [
      "Creating df for short GRB\n",
      "Absolute time correction subtracted from T0\n",
      "187 valleys removed\n",
      "erg converted to keV\n",
      "df sorted by adr and tus\n",
      "safety time events flagged. Found 287 flags\n",
      "Removed 287 flags from df\n"
     ]
    },
    {
     "data": {
      "text/plain": [
       "24300"
      ]
     },
     "execution_count": 116,
     "metadata": {},
     "output_type": "execute_result"
    }
   ],
   "source": [
    "df,T0 = complete_df(grb_id=\"GRB190206\",remove_flag=True)\n",
    "df.sort_values(by=['tus'],inplace=True)\n",
    "tus = df[\"tus\"].to_numpy()\n",
    "len(tus)"
   ]
  },
  {
   "cell_type": "code",
   "execution_count": 63,
   "id": "d1be2370-8cd6-4b0e-bcf7-d4d7c6c94ed4",
   "metadata": {},
   "outputs": [
    {
     "data": {
      "text/plain": [
       "(10972, 13835)"
      ]
     },
     "execution_count": 63,
     "metadata": {},
     "output_type": "execute_result"
    }
   ],
   "source": [
    "start,end = find_nearest(tus/1e3,297),find_nearest(tus/1e3,361)\n",
    "start,end"
   ]
  },
  {
   "cell_type": "code",
   "execution_count": 64,
   "id": "ecb3ee5b-2f1c-43f0-a1a5-8a06fa791b12",
   "metadata": {},
   "outputs": [
    {
     "data": {
      "text/plain": [
       "(2258, 9841)"
      ]
     },
     "execution_count": 64,
     "metadata": {},
     "output_type": "execute_result"
    }
   ],
   "source": [
    "start_bg,end_bg = find_nearest(tus/1e3,-500),find_nearest(tus/1e3,200)\n",
    "start_bg,end_bg"
   ]
  },
  {
   "cell_type": "code",
   "execution_count": 100,
   "id": "3a912238-127a-4cfb-a62e-fbfb37f3d038",
   "metadata": {},
   "outputs": [],
   "source": [
    "pd.set_option('display.float_format', '{:.6E}'.format)"
   ]
  },
  {
   "cell_type": "code",
   "execution_count": 104,
   "id": "6af3cf9d-aea9-4c00-86fc-cd1630815494",
   "metadata": {},
   "outputs": [
    {
     "name": "stdout",
     "output_type": "stream",
     "text": [
      "Energies binned!\n"
     ]
    }
   ],
   "source": [
    "df_keV = keV_hist(df=df,time_interval=(297.0,361.0),keV_bins=bins_keV,duration=64.0)"
   ]
  },
  {
   "cell_type": "code",
   "execution_count": 117,
   "id": "f7fe0f42-cce1-49b5-a9ce-913bc6441f12",
   "metadata": {},
   "outputs": [
    {
     "name": "stdout",
     "output_type": "stream",
     "text": [
      "Energies binned!\n"
     ]
    }
   ],
   "source": [
    "df_keV_bg = keV_hist(df=df,time_interval=(-600.0,200.0),keV_bins=bins_keV,duration=64.0)"
   ]
  },
  {
   "cell_type": "code",
   "execution_count": 115,
   "id": "abd42b50-e6b3-4f23-9970-cac347e8eeab",
   "metadata": {},
   "outputs": [],
   "source": [
    "np.savetxt(r'/Users/andreas/phys/master/GRB/spectral_analysis/GRB190206A_keV_histogram.txt\"',df_keV.values, delimiter=',', \n",
    "           header='bins_keV,counts,poisson_error_counts,duration_seconds', fmt='%.6E')"
   ]
  },
  {
   "cell_type": "code",
   "execution_count": 119,
   "id": "f6ca3249-8c39-4ecf-8ae5-443f5bf1a39e",
   "metadata": {},
   "outputs": [],
   "source": [
    "np.savetxt(r'/Users/andreas/phys/master/GRB/spectral_analysis/GRB190206A_keV_hist_background (-600 ms to 200 ms).txt\"',df_keV_bg.values, delimiter=',', \n",
    "           header='bins_keV,counts,poisson_error_counts,duration_seconds', fmt='%.6E')"
   ]
  },
  {
   "cell_type": "code",
   "execution_count": 120,
   "id": "202b5bf6-cb95-4612-a8a2-8ce202851456",
   "metadata": {},
   "outputs": [
    {
     "data": {
      "text/html": [
       "<div>\n",
       "<style scoped>\n",
       "    .dataframe tbody tr th:only-of-type {\n",
       "        vertical-align: middle;\n",
       "    }\n",
       "\n",
       "    .dataframe tbody tr th {\n",
       "        vertical-align: top;\n",
       "    }\n",
       "\n",
       "    .dataframe thead th {\n",
       "        text-align: right;\n",
       "    }\n",
       "</style>\n",
       "<table border=\"1\" class=\"dataframe\">\n",
       "  <thead>\n",
       "    <tr style=\"text-align: right;\">\n",
       "      <th></th>\n",
       "      <th>bins_keV</th>\n",
       "      <th>counts</th>\n",
       "      <th>poisson_error_counts</th>\n",
       "      <th>duration_seconds</th>\n",
       "    </tr>\n",
       "  </thead>\n",
       "  <tbody>\n",
       "    <tr>\n",
       "      <th>0</th>\n",
       "      <td>1.000000E+01</td>\n",
       "      <td>-9.999000E+03</td>\n",
       "      <td>-9.999000E+03</td>\n",
       "      <td>-9.999000E+03</td>\n",
       "    </tr>\n",
       "    <tr>\n",
       "      <th>1</th>\n",
       "      <td>1.258925E+01</td>\n",
       "      <td>0.000000E+00</td>\n",
       "      <td>0.000000E+00</td>\n",
       "      <td>6.400000E-02</td>\n",
       "    </tr>\n",
       "    <tr>\n",
       "      <th>2</th>\n",
       "      <td>1.584893E+01</td>\n",
       "      <td>0.000000E+00</td>\n",
       "      <td>0.000000E+00</td>\n",
       "      <td>6.400000E-02</td>\n",
       "    </tr>\n",
       "    <tr>\n",
       "      <th>3</th>\n",
       "      <td>1.995262E+01</td>\n",
       "      <td>0.000000E+00</td>\n",
       "      <td>0.000000E+00</td>\n",
       "      <td>6.400000E-02</td>\n",
       "    </tr>\n",
       "    <tr>\n",
       "      <th>4</th>\n",
       "      <td>2.511886E+01</td>\n",
       "      <td>0.000000E+00</td>\n",
       "      <td>0.000000E+00</td>\n",
       "      <td>6.400000E-02</td>\n",
       "    </tr>\n",
       "    <tr>\n",
       "      <th>5</th>\n",
       "      <td>3.162278E+01</td>\n",
       "      <td>0.000000E+00</td>\n",
       "      <td>0.000000E+00</td>\n",
       "      <td>6.400000E-02</td>\n",
       "    </tr>\n",
       "    <tr>\n",
       "      <th>6</th>\n",
       "      <td>3.981072E+01</td>\n",
       "      <td>0.000000E+00</td>\n",
       "      <td>0.000000E+00</td>\n",
       "      <td>6.400000E-02</td>\n",
       "    </tr>\n",
       "    <tr>\n",
       "      <th>7</th>\n",
       "      <td>5.011872E+01</td>\n",
       "      <td>0.000000E+00</td>\n",
       "      <td>0.000000E+00</td>\n",
       "      <td>6.400000E-02</td>\n",
       "    </tr>\n",
       "    <tr>\n",
       "      <th>8</th>\n",
       "      <td>6.309573E+01</td>\n",
       "      <td>0.000000E+00</td>\n",
       "      <td>0.000000E+00</td>\n",
       "      <td>6.400000E-02</td>\n",
       "    </tr>\n",
       "    <tr>\n",
       "      <th>9</th>\n",
       "      <td>7.943282E+01</td>\n",
       "      <td>0.000000E+00</td>\n",
       "      <td>0.000000E+00</td>\n",
       "      <td>6.400000E-02</td>\n",
       "    </tr>\n",
       "    <tr>\n",
       "      <th>10</th>\n",
       "      <td>1.000000E+02</td>\n",
       "      <td>0.000000E+00</td>\n",
       "      <td>0.000000E+00</td>\n",
       "      <td>6.400000E-02</td>\n",
       "    </tr>\n",
       "    <tr>\n",
       "      <th>11</th>\n",
       "      <td>1.258925E+02</td>\n",
       "      <td>0.000000E+00</td>\n",
       "      <td>0.000000E+00</td>\n",
       "      <td>6.400000E-02</td>\n",
       "    </tr>\n",
       "    <tr>\n",
       "      <th>12</th>\n",
       "      <td>1.584893E+02</td>\n",
       "      <td>0.000000E+00</td>\n",
       "      <td>0.000000E+00</td>\n",
       "      <td>6.400000E-02</td>\n",
       "    </tr>\n",
       "    <tr>\n",
       "      <th>13</th>\n",
       "      <td>1.995262E+02</td>\n",
       "      <td>0.000000E+00</td>\n",
       "      <td>0.000000E+00</td>\n",
       "      <td>6.400000E-02</td>\n",
       "    </tr>\n",
       "    <tr>\n",
       "      <th>14</th>\n",
       "      <td>2.511886E+02</td>\n",
       "      <td>3.200000E+01</td>\n",
       "      <td>5.656854E+00</td>\n",
       "      <td>6.400000E-02</td>\n",
       "    </tr>\n",
       "    <tr>\n",
       "      <th>15</th>\n",
       "      <td>3.162278E+02</td>\n",
       "      <td>1.060000E+02</td>\n",
       "      <td>1.029563E+01</td>\n",
       "      <td>6.400000E-02</td>\n",
       "    </tr>\n",
       "    <tr>\n",
       "      <th>16</th>\n",
       "      <td>3.981072E+02</td>\n",
       "      <td>3.030000E+02</td>\n",
       "      <td>1.740690E+01</td>\n",
       "      <td>6.400000E-02</td>\n",
       "    </tr>\n",
       "    <tr>\n",
       "      <th>17</th>\n",
       "      <td>5.011872E+02</td>\n",
       "      <td>5.010000E+02</td>\n",
       "      <td>2.238303E+01</td>\n",
       "      <td>6.400000E-02</td>\n",
       "    </tr>\n",
       "    <tr>\n",
       "      <th>18</th>\n",
       "      <td>6.309573E+02</td>\n",
       "      <td>4.080000E+02</td>\n",
       "      <td>2.019901E+01</td>\n",
       "      <td>6.400000E-02</td>\n",
       "    </tr>\n",
       "    <tr>\n",
       "      <th>19</th>\n",
       "      <td>7.943282E+02</td>\n",
       "      <td>3.230000E+02</td>\n",
       "      <td>1.797220E+01</td>\n",
       "      <td>6.400000E-02</td>\n",
       "    </tr>\n",
       "    <tr>\n",
       "      <th>20</th>\n",
       "      <td>1.000000E+03</td>\n",
       "      <td>2.830000E+02</td>\n",
       "      <td>1.682260E+01</td>\n",
       "      <td>6.400000E-02</td>\n",
       "    </tr>\n",
       "    <tr>\n",
       "      <th>21</th>\n",
       "      <td>1.258925E+03</td>\n",
       "      <td>2.030000E+02</td>\n",
       "      <td>1.424781E+01</td>\n",
       "      <td>6.400000E-02</td>\n",
       "    </tr>\n",
       "    <tr>\n",
       "      <th>22</th>\n",
       "      <td>1.584893E+03</td>\n",
       "      <td>1.400000E+02</td>\n",
       "      <td>1.183216E+01</td>\n",
       "      <td>6.400000E-02</td>\n",
       "    </tr>\n",
       "    <tr>\n",
       "      <th>23</th>\n",
       "      <td>1.995262E+03</td>\n",
       "      <td>1.030000E+02</td>\n",
       "      <td>1.014889E+01</td>\n",
       "      <td>6.400000E-02</td>\n",
       "    </tr>\n",
       "    <tr>\n",
       "      <th>24</th>\n",
       "      <td>2.511886E+03</td>\n",
       "      <td>7.500000E+01</td>\n",
       "      <td>8.660254E+00</td>\n",
       "      <td>6.400000E-02</td>\n",
       "    </tr>\n",
       "    <tr>\n",
       "      <th>25</th>\n",
       "      <td>3.162278E+03</td>\n",
       "      <td>6.300000E+01</td>\n",
       "      <td>7.937254E+00</td>\n",
       "      <td>6.400000E-02</td>\n",
       "    </tr>\n",
       "    <tr>\n",
       "      <th>26</th>\n",
       "      <td>3.981072E+03</td>\n",
       "      <td>4.100000E+01</td>\n",
       "      <td>6.403124E+00</td>\n",
       "      <td>6.400000E-02</td>\n",
       "    </tr>\n",
       "    <tr>\n",
       "      <th>27</th>\n",
       "      <td>5.011872E+03</td>\n",
       "      <td>2.000000E+01</td>\n",
       "      <td>4.472136E+00</td>\n",
       "      <td>6.400000E-02</td>\n",
       "    </tr>\n",
       "    <tr>\n",
       "      <th>28</th>\n",
       "      <td>6.309573E+03</td>\n",
       "      <td>1.000000E+01</td>\n",
       "      <td>3.162278E+00</td>\n",
       "      <td>6.400000E-02</td>\n",
       "    </tr>\n",
       "    <tr>\n",
       "      <th>29</th>\n",
       "      <td>7.943282E+03</td>\n",
       "      <td>1.700000E+01</td>\n",
       "      <td>4.123106E+00</td>\n",
       "      <td>6.400000E-02</td>\n",
       "    </tr>\n",
       "    <tr>\n",
       "      <th>30</th>\n",
       "      <td>1.000000E+04</td>\n",
       "      <td>1.000000E+01</td>\n",
       "      <td>3.162278E+00</td>\n",
       "      <td>6.400000E-02</td>\n",
       "    </tr>\n",
       "    <tr>\n",
       "      <th>31</th>\n",
       "      <td>1.258925E+04</td>\n",
       "      <td>1.600000E+01</td>\n",
       "      <td>4.000000E+00</td>\n",
       "      <td>6.400000E-02</td>\n",
       "    </tr>\n",
       "    <tr>\n",
       "      <th>32</th>\n",
       "      <td>1.584893E+04</td>\n",
       "      <td>9.000000E+00</td>\n",
       "      <td>3.000000E+00</td>\n",
       "      <td>6.400000E-02</td>\n",
       "    </tr>\n",
       "    <tr>\n",
       "      <th>33</th>\n",
       "      <td>1.995262E+04</td>\n",
       "      <td>1.400000E+01</td>\n",
       "      <td>3.741657E+00</td>\n",
       "      <td>6.400000E-02</td>\n",
       "    </tr>\n",
       "    <tr>\n",
       "      <th>34</th>\n",
       "      <td>2.511886E+04</td>\n",
       "      <td>2.000000E+01</td>\n",
       "      <td>4.472136E+00</td>\n",
       "      <td>6.400000E-02</td>\n",
       "    </tr>\n",
       "    <tr>\n",
       "      <th>35</th>\n",
       "      <td>3.162278E+04</td>\n",
       "      <td>1.080000E+02</td>\n",
       "      <td>1.039230E+01</td>\n",
       "      <td>6.400000E-02</td>\n",
       "    </tr>\n",
       "    <tr>\n",
       "      <th>36</th>\n",
       "      <td>3.981072E+04</td>\n",
       "      <td>5.900000E+01</td>\n",
       "      <td>7.681146E+00</td>\n",
       "      <td>6.400000E-02</td>\n",
       "    </tr>\n",
       "    <tr>\n",
       "      <th>37</th>\n",
       "      <td>5.011872E+04</td>\n",
       "      <td>0.000000E+00</td>\n",
       "      <td>0.000000E+00</td>\n",
       "      <td>6.400000E-02</td>\n",
       "    </tr>\n",
       "    <tr>\n",
       "      <th>38</th>\n",
       "      <td>6.309573E+04</td>\n",
       "      <td>0.000000E+00</td>\n",
       "      <td>0.000000E+00</td>\n",
       "      <td>6.400000E-02</td>\n",
       "    </tr>\n",
       "    <tr>\n",
       "      <th>39</th>\n",
       "      <td>7.943282E+04</td>\n",
       "      <td>0.000000E+00</td>\n",
       "      <td>0.000000E+00</td>\n",
       "      <td>6.400000E-02</td>\n",
       "    </tr>\n",
       "    <tr>\n",
       "      <th>40</th>\n",
       "      <td>1.000000E+05</td>\n",
       "      <td>0.000000E+00</td>\n",
       "      <td>0.000000E+00</td>\n",
       "      <td>6.400000E-02</td>\n",
       "    </tr>\n",
       "  </tbody>\n",
       "</table>\n",
       "</div>"
      ],
      "text/plain": [
       "       bins_keV        counts  poisson_error_counts  duration_seconds\n",
       "0  1.000000E+01 -9.999000E+03         -9.999000E+03     -9.999000E+03\n",
       "1  1.258925E+01  0.000000E+00          0.000000E+00      6.400000E-02\n",
       "2  1.584893E+01  0.000000E+00          0.000000E+00      6.400000E-02\n",
       "3  1.995262E+01  0.000000E+00          0.000000E+00      6.400000E-02\n",
       "4  2.511886E+01  0.000000E+00          0.000000E+00      6.400000E-02\n",
       "5  3.162278E+01  0.000000E+00          0.000000E+00      6.400000E-02\n",
       "6  3.981072E+01  0.000000E+00          0.000000E+00      6.400000E-02\n",
       "7  5.011872E+01  0.000000E+00          0.000000E+00      6.400000E-02\n",
       "8  6.309573E+01  0.000000E+00          0.000000E+00      6.400000E-02\n",
       "9  7.943282E+01  0.000000E+00          0.000000E+00      6.400000E-02\n",
       "10 1.000000E+02  0.000000E+00          0.000000E+00      6.400000E-02\n",
       "11 1.258925E+02  0.000000E+00          0.000000E+00      6.400000E-02\n",
       "12 1.584893E+02  0.000000E+00          0.000000E+00      6.400000E-02\n",
       "13 1.995262E+02  0.000000E+00          0.000000E+00      6.400000E-02\n",
       "14 2.511886E+02  3.200000E+01          5.656854E+00      6.400000E-02\n",
       "15 3.162278E+02  1.060000E+02          1.029563E+01      6.400000E-02\n",
       "16 3.981072E+02  3.030000E+02          1.740690E+01      6.400000E-02\n",
       "17 5.011872E+02  5.010000E+02          2.238303E+01      6.400000E-02\n",
       "18 6.309573E+02  4.080000E+02          2.019901E+01      6.400000E-02\n",
       "19 7.943282E+02  3.230000E+02          1.797220E+01      6.400000E-02\n",
       "20 1.000000E+03  2.830000E+02          1.682260E+01      6.400000E-02\n",
       "21 1.258925E+03  2.030000E+02          1.424781E+01      6.400000E-02\n",
       "22 1.584893E+03  1.400000E+02          1.183216E+01      6.400000E-02\n",
       "23 1.995262E+03  1.030000E+02          1.014889E+01      6.400000E-02\n",
       "24 2.511886E+03  7.500000E+01          8.660254E+00      6.400000E-02\n",
       "25 3.162278E+03  6.300000E+01          7.937254E+00      6.400000E-02\n",
       "26 3.981072E+03  4.100000E+01          6.403124E+00      6.400000E-02\n",
       "27 5.011872E+03  2.000000E+01          4.472136E+00      6.400000E-02\n",
       "28 6.309573E+03  1.000000E+01          3.162278E+00      6.400000E-02\n",
       "29 7.943282E+03  1.700000E+01          4.123106E+00      6.400000E-02\n",
       "30 1.000000E+04  1.000000E+01          3.162278E+00      6.400000E-02\n",
       "31 1.258925E+04  1.600000E+01          4.000000E+00      6.400000E-02\n",
       "32 1.584893E+04  9.000000E+00          3.000000E+00      6.400000E-02\n",
       "33 1.995262E+04  1.400000E+01          3.741657E+00      6.400000E-02\n",
       "34 2.511886E+04  2.000000E+01          4.472136E+00      6.400000E-02\n",
       "35 3.162278E+04  1.080000E+02          1.039230E+01      6.400000E-02\n",
       "36 3.981072E+04  5.900000E+01          7.681146E+00      6.400000E-02\n",
       "37 5.011872E+04  0.000000E+00          0.000000E+00      6.400000E-02\n",
       "38 6.309573E+04  0.000000E+00          0.000000E+00      6.400000E-02\n",
       "39 7.943282E+04  0.000000E+00          0.000000E+00      6.400000E-02\n",
       "40 1.000000E+05  0.000000E+00          0.000000E+00      6.400000E-02"
      ]
     },
     "execution_count": 120,
     "metadata": {},
     "output_type": "execute_result"
    }
   ],
   "source": [
    "plt.hist(df[\"keV\"].to_numpy()[start])"
   ]
  },
  {
   "cell_type": "code",
   "execution_count": null,
   "id": "e098f6ab-0a32-45cf-ac89-886ee9133935",
   "metadata": {},
   "outputs": [],
   "source": []
  },
  {
   "cell_type": "code",
   "execution_count": 58,
   "id": "823376f4-392b-4842-834d-9403c89ad3bb",
   "metadata": {},
   "outputs": [
    {
     "name": "stdout",
     "output_type": "stream",
     "text": [
      "tus array OK ...\n"
     ]
    },
    {
     "data": {
      "image/png": "[encoded data removed]",
      "text/plain": [
       "<Figure size 1600x900 with 1 Axes>"
      ]
     },
     "metadata": {},
     "output_type": "display_data"
    }
   ],
   "source": [
    "plot_HED(tus_arr=tus,T0=T0,binsize=2)"
   ]
  },
  {
   "cell_type": "code",
   "execution_count": 57,
   "id": "db647eb6-af97-4e31-a08a-951c61c3c953",
   "metadata": {},
   "outputs": [
    {
     "name": "stdout",
     "output_type": "stream",
     "text": [
      "tus array OK ...\n"
     ]
    },
    {
     "data": {
      "image/png": "[encoded data removed]",
      "text/plain": [
       "<Figure size 1600x900 with 1 Axes>"
      ]
     },
     "metadata": {},
     "output_type": "display_data"
    }
   ],
   "source": [
    "plot_HED(tus_arr=tus[start:end],T0=T0,binsize=2)"
   ]
  },
  {
   "cell_type": "code",
   "execution_count": null,
   "id": "acba8886-3442-4590-a82c-ddd91fb8f259",
   "metadata": {},
   "outputs": [],
   "source": []
  },
  {
   "cell_type": "code",
   "execution_count": null,
   "id": "04295c8f-1d68-4ba4-9415-0c530086adfd",
   "metadata": {},
   "outputs": [],
   "source": [
    "# export keV histogram for GRB190206A in the same format as example by Anders, Duration is 64 ms \n",
    "# lag = -27.\n",
    "\n",
    "\n",
    "#build spectra for main event on this interval\n",
    "time_interval = 297,297+64 #ms\n",
    "\n",
    "\n",
    "#interval for background:\n",
    "bg_interval = -0.9,-0.2\n"
   ]
  },
  {
   "cell_type": "code",
   "execution_count": 21,
   "id": "917ed002-2376-4472-a7c7-882df97de705",
   "metadata": {},
   "outputs": [
    {
     "name": "stdout",
     "output_type": "stream",
     "text": [
      "Creating df for long GRB\n",
      "Absolute time correction subtracted from T0\n",
      "37 valleys removed\n",
      "Absolute time correction subtracted from T0\n",
      "29 valleys removed\n",
      "Absolute time correction subtracted from T0\n",
      "23 valleys removed\n",
      "Absolute time correction subtracted from T0\n",
      "27 valleys removed\n",
      "Absolute time correction subtracted from T0\n",
      "21 valleys removed\n",
      "subseq not found in next array ... keeping whole array\n",
      "subseq not found in next array ... keeping whole array\n",
      "found one cutting index ... \n",
      "subseq not found in next array ... keeping whole array\n",
      "GRB concatenated ...\n",
      "erg converted to keV\n",
      "df sorted by adr and tus\n",
      "safety time events flagged. Found 256 flags\n",
      "Removed 256 flags from df\n",
      "Energies binned!\n",
      "Exporting csv\n",
      "Creating df for short GRB\n",
      "Absolute time correction subtracted from T0\n",
      "197 valleys removed\n",
      "erg converted to keV\n",
      "df sorted by adr and tus\n",
      "safety time events flagged. Found 326 flags\n",
      "Removed 326 flags from df\n",
      "Energies binned!\n",
      "Exporting csv\n",
      "Creating df for short GRB\n",
      "Absolute time correction subtracted from T0\n",
      "187 valleys removed\n",
      "erg converted to keV\n",
      "df sorted by adr and tus\n",
      "safety time events flagged. Found 287 flags\n",
      "Removed 287 flags from df\n",
      "Energies binned!\n",
      "Exporting csv\n",
      "Creating df for short GRB\n",
      "Absolute time correction subtracted from T0\n",
      "36 valleys removed\n",
      "erg converted to keV\n",
      "df sorted by adr and tus\n",
      "safety time events flagged. Found 54 flags\n",
      "Removed 54 flags from df\n",
      "Energies binned!\n",
      "Exporting csv\n",
      "Creating df for short GRB\n",
      "Absolute time correction subtracted from T0\n",
      "100 valleys removed\n",
      "erg converted to keV\n",
      "df sorted by adr and tus\n",
      "safety time events flagged. Found 136 flags\n",
      "Removed 136 flags from df\n",
      "Energies binned!\n",
      "Exporting csv\n",
      "Creating df for short GRB\n",
      "Absolute time correction subtracted from T0\n",
      "116 valleys removed\n",
      "erg converted to keV\n",
      "df sorted by adr and tus\n",
      "safety time events flagged. Found 187 flags\n",
      "Removed 187 flags from df\n",
      "Energies binned!\n",
      "Exporting csv\n",
      "Creating df for short GRB\n",
      "Absolute time correction subtracted from T0\n",
      "30 valleys removed\n",
      "erg converted to keV\n",
      "df sorted by adr and tus\n",
      "safety time events flagged. Found 36 flags\n",
      "Removed 36 flags from df\n",
      "Energies binned!\n",
      "Exporting csv\n",
      "Creating df for short GRB\n",
      "Absolute time correction subtracted from T0\n",
      "78 valleys removed\n",
      "erg converted to keV\n",
      "df sorted by adr and tus\n",
      "safety time events flagged. Found 95 flags\n",
      "Removed 95 flags from df\n",
      "Energies binned!\n",
      "Exporting csv\n",
      "Creating df for short GRB\n",
      "Absolute time correction subtracted from T0\n",
      "35 valleys removed\n",
      "erg converted to keV\n",
      "df sorted by adr and tus\n",
      "safety time events flagged. Found 42 flags\n",
      "Removed 42 flags from df\n",
      "Energies binned!\n",
      "Exporting csv\n",
      "Creating df for short GRB\n",
      "Absolute time correction subtracted from T0\n",
      "52 valleys removed\n",
      "erg converted to keV\n",
      "df sorted by adr and tus\n",
      "safety time events flagged. Found 68 flags\n",
      "Removed 68 flags from df\n",
      "Energies binned!\n",
      "Exporting csv\n",
      "Creating df for long GRB\n",
      "Absolute time correction subtracted from T0\n",
      "75 valleys removed\n",
      "Absolute time correction subtracted from T0\n",
      "76 valleys removed\n",
      "Absolute time correction subtracted from T0\n",
      "59 valleys removed\n",
      "Absolute time correction subtracted from T0\n",
      "59 valleys removed\n",
      "Absolute time correction subtracted from T0\n",
      "75 valleys removed\n",
      "Absolute time correction subtracted from T0\n",
      "65 valleys removed\n",
      "Absolute time correction subtracted from T0\n",
      "75 valleys removed\n",
      "Absolute time correction subtracted from T0\n",
      "56 valleys removed\n",
      "Absolute time correction subtracted from T0\n",
      "49 valleys removed\n",
      "Absolute time correction subtracted from T0\n",
      "75 valleys removed\n",
      "found one cutting index ... \n",
      "found one cutting index ... \n",
      "found one cutting index ... \n",
      "subseq not found in next array ... keeping whole array\n",
      "found one cutting index ... \n",
      "found one cutting index ... \n",
      "found one cutting index ... \n",
      "found one cutting index ... \n",
      "found one cutting index ... \n",
      "GRB concatenated ...\n",
      "erg converted to keV\n",
      "df sorted by adr and tus\n",
      "safety time events flagged. Found 630 flags\n",
      "Removed 630 flags from df\n",
      "Energies binned!\n",
      "Exporting csv\n",
      "Creating df for long GRB\n",
      "Absolute time correction subtracted from T0\n",
      "103 valleys removed\n",
      "Absolute time correction subtracted from T0\n",
      "97 valleys removed\n",
      "Absolute time correction subtracted from T0\n",
      "102 valleys removed\n",
      "Absolute time correction subtracted from T0\n",
      "120 valleys removed\n",
      "Absolute time correction subtracted from T0\n",
      "96 valleys removed\n",
      "Absolute time correction subtracted from T0\n",
      "125 valleys removed\n",
      "Absolute time correction subtracted from T0\n",
      "95 valleys removed\n",
      "Absolute time correction subtracted from T0\n",
      "91 valleys removed\n",
      "found one cutting index ... \n",
      "subseq not found in next array ... keeping whole array\n",
      "found one cutting index ... \n",
      "subseq not found in next array ... keeping whole array\n",
      "found one cutting index ... \n",
      "found one cutting index ... \n",
      "found one cutting index ... \n",
      "GRB concatenated ...\n",
      "erg converted to keV\n",
      "df sorted by adr and tus\n",
      "safety time events flagged. Found 887 flags\n",
      "Removed 887 flags from df\n",
      "Energies binned!\n",
      "Exporting csv\n"
     ]
    }
   ],
   "source": [
    "for grb_id in selected_grb_id:\n",
    "    df,T0 = complete_df(grb_id=grb_id,remove_flag=True,flag_cut=\"HED\")\n",
    "    df_keV = keV_hist(df=df,keV_bins=bins_keV)\n",
    "    print(\"Exporting csv\")\n",
    "    df_keV.to_csv(path_keV_hist + grb_id,index=False)"
   ]
  },
  {
   "cell_type": "code",
   "execution_count": 17,
   "id": "ce6cd266-8b52-4f73-a4ef-4c34fcfd5272",
   "metadata": {},
   "outputs": [
    {
     "data": {
      "text/plain": [
       "array([1.000000e+01, 1.258925e+01, 1.584893e+01, 1.995262e+01,\n",
       "       2.511886e+01, 3.162278e+01, 3.981072e+01, 5.011872e+01,\n",
       "       6.309573e+01, 7.943282e+01, 1.000000e+02, 1.258925e+02,\n",
       "       1.584893e+02, 1.995262e+02, 2.511886e+02, 3.162278e+02,\n",
       "       3.981072e+02, 5.011872e+02, 6.309573e+02, 7.943282e+02,\n",
       "       1.000000e+03, 1.258925e+03, 1.584893e+03, 1.995262e+03,\n",
       "       2.511886e+03, 3.162278e+03, 3.981072e+03, 5.011872e+03,\n",
       "       6.309573e+03, 7.943282e+03, 1.000000e+04, 1.258925e+04,\n",
       "       1.584893e+04, 1.995262e+04, 2.511886e+04, 3.162278e+04,\n",
       "       3.981072e+04, 5.011872e+04, 6.309573e+04, 7.943282e+04,\n",
       "       1.000000e+05])"
      ]
     },
     "execution_count": 17,
     "metadata": {},
     "output_type": "execute_result"
    }
   ],
   "source": [
    "bins_keV\n"
   ]
  },
  {
   "cell_type": "markdown",
   "id": "086152d1-3a36-4c32-ab4f-22ffbf902f17",
   "metadata": {},
   "source": [
    "from astropy.table import Table\n",
    "df = pd.read_csv(\"/Users/andreas/phys/master/GRB/spectral_analysis/keV_histograms/GRB180720\")\n",
    "t = Table.from_pandas(df)\n",
    "t.write('GRB180720_new.fits')"
   ]
  },
  {
   "cell_type": "code",
   "execution_count": null,
   "id": "5b6a5b98-4106-4128-ba53-5d0d8cebccf8",
   "metadata": {},
   "outputs": [],
   "source": []
  }
 ],
 "metadata": {
  "kernelspec": {
   "display_name": "base",
   "language": "python",
   "name": "base"
  },
  "language_info": {
   "codemirror_mode": {
    "name": "ipython",
    "version": 3
   },
   "file_extension": ".py",
   "mimetype": "text/x-python",
   "name": "python",
   "nbconvert_exporter": "python",
   "pygments_lexer": "ipython3",
   "version": "3.9.13"
  }
 },
 "nbformat": 4,
 "nbformat_minor": 5
}
