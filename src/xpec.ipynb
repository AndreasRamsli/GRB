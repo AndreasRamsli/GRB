{
 "cells": [
  {
   "cell_type": "markdown",
   "id": "cd5ab503-d1fd-4757-9242-72a450e190b0",
   "metadata": {},
   "source": [
    "# imports"
   ]
  },
  {
   "cell_type": "code",
   "execution_count": 3,
   "id": "d0ef8f8b-840d-4b61-8dbc-f25c9cbd67fa",
   "metadata": {},
   "outputs": [
    {
     "name": "stdout",
     "output_type": "stream",
     "text": [
      "read_matlab_file.ipynb loaded successfully!\n",
      "read_matlab_file.ipynb loaded successfully!\n",
      "read_matlab_file.ipynb loaded successfully!\n",
      "convert_erg.ipynb loaded successfully!\n",
      "read_matlab_file.ipynb loaded successfully!\n",
      "read_matlab_file.ipynb loaded successfully!\n",
      "convert_erg.ipynb loaded successfully!\n",
      "(14610, 9)\n",
      "(14610, 9)\n",
      "safety_time.ipynb loaded successfully!\n",
      "LC_calibration loaded successfully!\n"
     ]
    }
   ],
   "source": [
    "%run read_matlab_file.ipynb\n",
    "%run LC_calibration.ipynb"
   ]
  },
  {
   "cell_type": "markdown",
   "id": "b22d7b6f-dbbc-480f-b319-05137ddb3f16",
   "metadata": {},
   "source": [
    "# XPEC data preperation\n",
    "\n",
    "### TODO\n",
    "    - Extract the bins from the txt file. DONE\n",
    "    \n",
    "    - Bin the keV into the predefined bins. DONE\n",
    "    \n",
    "    - Implement function for T0 & tus correction (ToF). DONE\n",
    "        --> COMMENT: still 300ms error after calibrating GRB190206\n",
    "        \n",
    "    -Do all the steps above for GRB200415A and cross check results. DONE\n",
    "    \n",
    "    - Implement function for cutting the tus & keV array at time interval given by Anastasia or GCN report \n",
    "        ---> NEXT UP\n",
    " \n",
    "    - make sure the T0 are correctly clibrated. Send complete list to Andrey for validation\n",
    "    \n",
    "    \n",
    "### Notes\n",
    "    -Assuming \n",
    "    -bins_keV are the right most edges! \n",
    "    -Anders have filtered for keV >=500 \n",
    "    -Implementation is ok. Proceed to wrapping a function around it.\n",
    "    --> have a shift variable as input (have to do with lining up the LC from the different spacecrafts)\n",
    "    \n",
    "    \n",
    "### Problems\n",
    "    -GRB200415: Problem lining up the T0 from my data to the data that Anders used to histogram the data for 0.8ms <=tus <= 3.2ms\n",
    "    Since the data is shifted a small amount the number of counts in the bins don't match up correctly.\n",
    "    --> Absolute time correction is neccecary, but this value might be different from the one Anders used.\n",
    "    -->Error of 4151.099 ... us (4.1 ms) from df_A and my df.\n",
    " \n",
    "    \n",
    "    -GRB200415: The binning does not produce the same bin counts in Ander´s df_A and the df_check\n",
    "    --> Because of filtering for keV's >= 500\n",
    "    \n",
    "    "
   ]
  },
  {
   "cell_type": "code",
   "execution_count": null,
   "id": "1161d279-4169-4a01-8ef0-840dd728082f",
   "metadata": {},
   "outputs": [],
   "source": [
    "#time of flight from KW to ASIM. Given in seconds\n",
    "ToF = {\"GRB180720\":-4.2377,\"GRB181222\":2.8716, \"GRB190206\":4.9225, \"GRB190305\":3.4460,\n",
    "      \"GRB190606\":4.0316,\"GRB200415\":4.1840,\"GRB200521\":-0.6226,\"GRB200716\":3.0155,\n",
    "      \"GRB201227\":0.7142, \"GRB210424\":-0.5033, \"GRB210619\":-2.6183}"
   ]
  },
  {
   "cell_type": "code",
   "execution_count": null,
   "id": "58bcca0c-68fc-46be-97d7-166f3366a345",
   "metadata": {},
   "outputs": [],
   "source": [
    "def ToF_correction(grb_id=None):\n",
    "    ToF_us = ToF[grb_id]*1e6\n",
    "    df,T0 = complete_df(grb_id=grb_id)\n",
    "    df[\"tus\"], T0_calibrated = df[\"tus\"] - ToF_us, T0 - timedelta(microseconds=ToF_us) #calibrating \n",
    "    return df,T0,T0_calibrated"
   ]
  },
  {
   "cell_type": "code",
   "execution_count": null,
   "id": "aad73377-cd2b-4afa-8c52-a7814476edf5",
   "metadata": {},
   "outputs": [],
   "source": [
    "df,T0 = complete_df(grb_id=\"GRB200415\")"
   ]
  },
  {
   "cell_type": "code",
   "execution_count": null,
   "id": "2d7fd6d9-adea-4d5d-b9b9-5c38e17c6f5a",
   "metadata": {},
   "outputs": [],
   "source": [
    "print(T0)\n",
    "T1 = T0 - timedelta(microseconds=4.9225*1e6)\n",
    "print(T1)"
   ]
  },
  {
   "cell_type": "markdown",
   "id": "46da9cbb-656d-482e-b55c-569214dec09a",
   "metadata": {},
   "source": [
    "# bin control"
   ]
  },
  {
   "cell_type": "code",
   "execution_count": null,
   "id": "30f37097-2bed-4757-afec-cde4f88cdba4",
   "metadata": {},
   "outputs": [],
   "source": [
    "df_bin = pd.read_csv(\"/Users/andreas/phys/master/GRB/spectral_analysis/HED_binedges.txt\")\n",
    "df_bin.head()"
   ]
  },
  {
   "cell_type": "code",
   "execution_count": null,
   "id": "acd203c1-2e27-49e2-b5c3-9cd729957223",
   "metadata": {},
   "outputs": [],
   "source": [
    "fig,(ax1,ax2) = plt.subplots(1,2,figsize=(15,3))\n",
    "\n",
    "ax1.plot((df_bin[\"energy_bin_start_keV\"]))\n",
    "ax2.plot(np.log(df_bin[\"energy_bin_start_keV\"]))\n",
    "ax1.set_xlabel(\"bin number\")\n",
    "ax1.set_ylabel(\"keV bin\")\n",
    "ax2.set_xlabel(\"bin number\")\n",
    "ax2.set_ylabel(\"ln(keV)\")\n",
    "plt.show()"
   ]
  },
  {
   "cell_type": "code",
   "execution_count": null,
   "id": "b2205f23-5fdc-4479-85ca-dd5a9710e0f7",
   "metadata": {},
   "outputs": [],
   "source": [
    "start = df_bin[\"energy_bin_start_keV\"].to_numpy()\n",
    "#start = np.append(0,start)\n",
    "end = df_bin[\"energy_bin_stop_keV\"].to_numpy()\n",
    "bins=np.append(start,end[-1])\n",
    "print(len(bins))\n",
    "bins"
   ]
  },
  {
   "cell_type": "code",
   "execution_count": null,
   "id": "818094a1-a3a2-4660-b46a-45f041f6d370",
   "metadata": {},
   "outputs": [],
   "source": []
  },
  {
   "cell_type": "code",
   "execution_count": null,
   "id": "c5503a4c-80ae-4f8d-b0be-a71baec8ac25",
   "metadata": {},
   "outputs": [],
   "source": [
    "df_hist_check = pd.read_csv(\"/Users/andreas/phys/master/GRB/spectral_analysis/HED_(0.8 ms to 3.2 ms).txt\")\n",
    "print(\"Num hist counts totoal: \", sum(df_hist_check[\"counts\"].to_numpy()[1:]))\n",
    "print(\"bins_keV are the right most edge\")\n",
    "\n",
    "df_hist_check.head()"
   ]
  },
  {
   "cell_type": "markdown",
   "id": "4feab460-e6f7-4056-b3ff-206674ae9b3b",
   "metadata": {},
   "source": [
    "# keV bin function"
   ]
  },
  {
   "cell_type": "code",
   "execution_count": null,
   "id": "aeca2e18-7e47-4c95-b22a-5576c56c838d",
   "metadata": {},
   "outputs": [],
   "source": [
    "#TODO: add the swp and ipynb temp files to gitignore"
   ]
  },
  {
   "cell_type": "code",
   "execution_count": null,
   "id": "1a5bce03-0f73-4253-b83a-8552454d4ea7",
   "metadata": {},
   "outputs": [],
   "source": [
    "def keV_bin(df=None,time_interval=None,keV_interval=None,keV_bins=None):\n",
    "    '''\n",
    "    NOTE: working with ms resolution for the tus array\n",
    "    \n",
    "    input: df <pd.dataframe> complete dataframe with no flagged events\n",
    "    time_interval <tuple> start and end (ms) of the time interval for the keV binning.\n",
    "    keV_interval <tuple> default is None. Meaning the whole spectrum\n",
    "    \n",
    "    return: <pd.dataframe> with the bin_counts and bin_edges as a dataframe\n",
    "    '''\n",
    "    df.sort_values(by=['tus'],inplace=True) #first sorting by tus in increasing order\n",
    "    \n",
    "    \n",
    "    #tus handling-------------------------------------------\n",
    "    tus_arr = df[\"tus\"].to_numpy()\n",
    "    tus_arr = tus/1e3 #converting to ms resolution\n",
    "    \n",
    "    if time_interval==None:\n",
    "        tus_start,tus_end = min(tus_arr),max(tus_arr)\n",
    "        idx_start, idx_end = find_nearest(tus_arr,tus_start), find_nearest(tus_arr,tus_end)+1 #including the last trigger\n",
    "    else:\n",
    "        tus_start,tus_end = time_interval[0],time_interval[1] #selecting the interval\n",
    "        idx_start, idx_end = find_nearest(tus_arr,tus_start), find_nearest(tus_arr,tus_end)+1 #including the nearest trigger\n",
    "\n",
    "    tus_arr = tus_arr[idx_start:idx_end] #selecting the interval for tus\n",
    "    \n",
    "    \n",
    "    #keV handling-------------------------------------------\n",
    "    keV_arr = df[\"keV\"].to_numpy()\n",
    "    keV_arr = keV_arr[idx_start:idx_end] #selecting keV's on the given tus interval\n",
    "    \n",
    "    if keV_interval==None:\n",
    "         keV_lower,keV_upper = 0,1e16 #selecting artificially high bounds\n",
    "    else: \n",
    "        keV_lower,keV_upper = keV_interval[0],keV_interval[1] #selecting the bounds for the keV's\n",
    "\n",
    "    ii = []\n",
    "    for i,keV in enumerate(keV_arr): #finding\n",
    "        if keV_lower<=keV<=keV_upper:\n",
    "            ii.append(i)\n",
    "            \n",
    "    tus_keV_bound = tus_arr[ii]\n",
    "    keV_bound = keV_arr[ii]\n",
    "    \n",
    "    #histogramming-----------------------------------------\n",
    "    hist_keV,edges_keV = np.histogram(keV_bound,bins=keV_bins)\n",
    "    \n",
    "    poisson_arr = np.sqrt(hist_keV) #handle this one. might be some negative numbers in it?\n",
    "    if hist_keV[0] == 0:\n",
    "        hist_keV[0] = -9999\n",
    "        poisson_arr[0] = -9999\n",
    "        edges_keV = np.append(0,edges_keV)\n",
    "        \n",
    "    poisson_arr = np.sqrt(hist_keV)\n",
    "    \n",
    "    \n",
    "    df_keV = pd.DataFrame({\"keV right bin edge\":edges_keV[1:], \"keV bin count\":hist_keV, \"Poission error\":poisson_arr}) #ERROR different lengths!\n",
    "    return df_keV"
   ]
  },
  {
   "cell_type": "code",
   "execution_count": null,
   "id": "ff4d33a9-0814-4303-a2e2-0f4c19e01bf5",
   "metadata": {},
   "outputs": [],
   "source": [
    "keV_df = keV_bin(df=df_A,time_interval=(0.8,3.2), keV_interval=None,keV_bins=bins)"
   ]
  },
  {
   "cell_type": "code",
   "execution_count": null,
   "id": "0103c3bd-0399-4cf3-ba95-f8271523b779",
   "metadata": {},
   "outputs": [],
   "source": []
  },
  {
   "cell_type": "code",
   "execution_count": null,
   "id": "ebd130ec-8f24-4e7e-a47e-95d0e9cc1198",
   "metadata": {},
   "outputs": [],
   "source": []
  },
  {
   "cell_type": "code",
   "execution_count": null,
   "id": "b9862e53-6017-4bdd-88b4-d97c808c690a",
   "metadata": {},
   "outputs": [],
   "source": [
    "hist,edges = np.histogram(keV_A,bins)\n",
    "hist = np.append(-9999,hist)\n",
    "df_hist_A = pd.DataFrame({\"check counts\":df_hist_check['counts'], \"counts\":hist,\"check bins\":df_hist_check['bins_keV'],\"edges\":edges})\n",
    "df_hist_A"
   ]
  },
  {
   "cell_type": "markdown",
   "id": "02e73840-bc24-420d-b8b7-606da49933d0",
   "metadata": {},
   "source": [
    "# handling dataframes"
   ]
  },
  {
   "cell_type": "code",
   "execution_count": null,
   "id": "bcde7de9-652d-4c33-935c-ea4e22ecccd2",
   "metadata": {},
   "outputs": [],
   "source": [
    "\n",
    "df_A = pd.read_csv(\"/Users/andreas/phys/master//GRB/safety_time/new_safety_time.csv\",sep=\",\")\n",
    "df_A = df_A.rename(columns={\"kev\":\"keV\"}) \n",
    "df_A = df_A.sort_values(by=['tus'])\n",
    "\n",
    "flag_label = []\n",
    "for i,row in df_A.iterrows():\n",
    "    if row[\"remove_VD\"]==True:\n",
    "        flag_label.append(i)\n",
    "    elif row[\"typ\"] == 3:\n",
    "        flag_label.append(i)\n",
    "        \n",
    "df_A.drop(labels=flag_label,inplace=True)"
   ]
  },
  {
   "cell_type": "code",
   "execution_count": null,
   "id": "a91a819f-054b-4bf7-a061-36691634cb07",
   "metadata": {},
   "outputs": [],
   "source": [
    "tus = df_A[\"tus\"].to_numpy()\n",
    "tus = tus/1e3\n",
    "\n",
    "idx_start_A = find_nearest(tus,0.8)\n",
    "idx_end_A = find_nearest(tus,3.2)\n",
    "\n",
    "start = find_nearest(tus,-2)\n",
    "end = find_nearest(tus,10)\n",
    "print(start,end)\n",
    "\n",
    "tus = tus[start:end]\n",
    "\n",
    "keV_A = df_A[\"keV\"].to_numpy()\n",
    "keV_A = keV_A[idx_start_A:idx_end_A]\n",
    "ii = []\n",
    "for i,k in enumerate(keV_A):\n",
    "    if k<=400:\n",
    "        ii.append(i)\n",
    "        \n",
    "tus_flag = tus[ii]\n",
    "kev_flag = keV_A[ii]\n",
    "\n",
    "fig, ax = plt.subplots(1,1,figsize=(16,9))\n",
    "\n",
    "ax.hist(tus,np.arange(min(tus),max(tus)+0.05,0.05))\n",
    "ax.scatter(x=tus_flag,y=[0]*len(tus_flag),marker=\"+\",c=\"r\")\n",
    "plt.show()"
   ]
  },
  {
   "cell_type": "code",
   "execution_count": null,
   "id": "8c686d85-a118-418d-b723-110f3e20665c",
   "metadata": {},
   "outputs": [],
   "source": [
    "bins"
   ]
  },
  {
   "cell_type": "code",
   "execution_count": null,
   "id": "fcb3caf8-ad7c-428e-a103-1cb8004a780e",
   "metadata": {},
   "outputs": [],
   "source": [
    "hist,edges = np.histogram(keV_A,bins)\n",
    "hist = np.append(-9999,hist)\n",
    "df_hist_A = pd.DataFrame({\"check counts\":df_hist_check['counts'], \"counts\":hist,\"check bins\":df_hist_check['bins_keV'],\"edges\":edges})\n",
    "df_hist_A"
   ]
  },
  {
   "cell_type": "code",
   "execution_count": null,
   "id": "c07d58f7-4b61-426b-9afc-fa4b6d9071f6",
   "metadata": {},
   "outputs": [],
   "source": []
  },
  {
   "cell_type": "code",
   "execution_count": null,
   "id": "24c014d4-1edf-4133-a7dc-fb2cce651e77",
   "metadata": {},
   "outputs": [],
   "source": []
  },
  {
   "cell_type": "code",
   "execution_count": null,
   "id": "cb81951b-d1c5-4912-904e-54d417fc9161",
   "metadata": {},
   "outputs": [],
   "source": []
  },
  {
   "cell_type": "code",
   "execution_count": null,
   "id": "bd415118-eb27-4f2c-92ae-75adfbf2a7aa",
   "metadata": {},
   "outputs": [],
   "source": [
    "df,T0 = complete_df(grb_id=\"GRB200415\")\n",
    "df.sort_values(by=[\"tus\"],inplace=True)\n",
    "tus = df[\"tus\"].to_numpy()\n",
    "tus = tus/1e3-28.5\n"
   ]
  },
  {
   "cell_type": "code",
   "execution_count": null,
   "id": "03a2e3d4-a5e0-4b6e-bb2f-8eea2516d22d",
   "metadata": {},
   "outputs": [],
   "source": [
    "\n",
    "start = find_nearest(tus,-2)\n",
    "end = find_nearest(tus,10)\n",
    "print(start,end)\n",
    "\n",
    "tus = tus[start:end]\n",
    "print(len(tus))\n",
    "\n",
    "fig, ax = plt.subplots(1,1,figsize=(16,9))\n",
    "\n",
    "ax.hist(tus,np.arange(min(tus),max(tus)+0.05,0.05))\n",
    "plt.show()"
   ]
  },
  {
   "cell_type": "code",
   "execution_count": null,
   "id": "5e5524dc-0773-4c66-a9aa-2abc35489a19",
   "metadata": {},
   "outputs": [],
   "source": [
    "#df_A = pd.read_csv(\"/Home/siv30/wad005/master/GRB/safety_time/HED_GRB200415_inc_valley_ST.csv\",sep=\",\") #UIB\n",
    "df_A = pd.read_csv(\"/Users/andreas/phys/master//GRB/safety_time/new_safety_time.csv\",sep=\",\")\n",
    "df_A = df_A.rename(columns={\"kev\":\"keV\"}) \n",
    "df_A = df_A.sort_values(by=['adr','tus'])\n",
    "print(df_A.shape)\n",
    "\n",
    "st_list = get_st(df_A)\n",
    "df_A[\"st\"] = st_list\n",
    "dt_list = get_dt(df_A)\n",
    "df_A[\"dt\"] = dt_list\n",
    "flag_list = get_flag(df_A)\n",
    "df_A[\"flag\"] = flag_list\n",
    "df_A = df_A.drop(columns=[\"cal_abc\"])\n",
    "\n",
    "\n",
    "#dropping flags\n",
    "labels_A=[]\n",
    "for index,row in df_A.iterrows():\n",
    "    if row[\"flag\"] == True:\n",
    "        labels_A.append(index)\n",
    "df_A.drop(labels=labels_A,inplace=True)\n",
    "\n",
    "\n",
    "print(df_A.shape)\n",
    "df_A.sort_values(by=['tus'],inplace=True)\n",
    "tus_A,keV_A = df_A['tus'].to_numpy(), df_A[\"keV\"].to_numpy()\n",
    "\n",
    "\n",
    "idx = []\n",
    "for i,tus in enumerate(tus_A):\n",
    "    if 0.8<=tus/1e3<=3.2:\n",
    "        idx.append(i)\n",
    "            \n",
    "tus_A = tus_A[idx]\n",
    "keV_A = keV_A[idx]\n",
    "print(len(tus_A),len(keV_A))\n",
    "\n",
    "df_A = df_A.iloc[idx]\n",
    "df_A.head()"
   ]
  },
  {
   "cell_type": "code",
   "execution_count": null,
   "id": "d911515d-b976-4575-83c9-f3ccb7741241",
   "metadata": {},
   "outputs": [],
   "source": [
    "#check if there are any valleys\n",
    "#--> no valleys in df_A\n",
    "typ = df_A[\"typ\"].to_numpy()\n",
    "if 3 in typ:\n",
    "    print(True)\n",
    "else:\n",
    "    print(False)"
   ]
  },
  {
   "cell_type": "code",
   "execution_count": null,
   "id": "c0f53625-d48b-496b-bf64-fe58a263c493",
   "metadata": {},
   "outputs": [],
   "source": [
    "hist_A, edges_A = np.histogram(keV_A,bins)\n",
    "\n",
    "if hist_A[0] == 0:\n",
    "    hist_A[0] = -9999\n",
    "    \n",
    "df_hist_check[\"bin_counts_A\"] = hist_A\n",
    "df_hist_check[\"edges_A\"] = edges_A\n",
    "\n",
    "df_hist_check[['bins_keV',\"counts\",\"edges_A\",\"bin_counts_A\"]]\n"
   ]
  },
  {
   "cell_type": "code",
   "execution_count": null,
   "id": "2e9f435f-ee69-4be9-8c05-173a96d23b87",
   "metadata": {},
   "outputs": [],
   "source": []
  },
  {
   "cell_type": "markdown",
   "id": "2d05bf03-1cba-45bb-a219-68c077d4fd90",
   "metadata": {},
   "source": [
    "df,T0 = complete_df(grb_id=\"GRB200415\")\n",
    "print(df.shape)\n",
    "\n",
    "labels=[]\n",
    "for index,row in df.iterrows():\n",
    "    if row[\"flag\"] == True:\n",
    "        labels.append(index)\n",
    "df.drop(labels=labels,inplace=True)\n",
    "\n",
    "\n",
    "df.sort_values(by=['tus'],inplace=True)\n",
    "print(\"first tus \", df[\"tus\"].to_numpy()[0])\n",
    "df = df.drop(columns=[\"cal_abc\"])\n",
    "print(df.shape)\n",
    "df[\"tus\"] = df[\"tus\"].to_numpy()+4151.099999999977\n",
    "\n",
    "tus_test = df[\"tus\"].to_numpy()\n",
    "keV_test = df[\"keV\"].to_numpy()\n",
    "\n",
    "idx_test = []\n",
    "for i,tus in enumerate(tus_test):\n",
    "    if 0.8<=tus/1e3<=3.2:\n",
    "        idx_test.append(i)\n",
    "            \n",
    "tus_test = tus_test[idx_test]\n",
    "keV_test = keV_test[idx_test]\n",
    "print(len(tus_test),len(keV_test))\n",
    "df = df.iloc[idx_test]"
   ]
  },
  {
   "cell_type": "code",
   "execution_count": null,
   "id": "c1ab8f31-7588-4a3d-af5e-86a08449c0e8",
   "metadata": {},
   "outputs": [],
   "source": [
    "#Need to find the appropriate cut for the peak of GRB200415\n",
    "\n",
    "df,T0 = complete_df(grb_id=\"GRB200415\")"
   ]
  },
  {
   "cell_type": "code",
   "execution_count": null,
   "id": "254dc01b-7c91-46fd-af20-5e23a3ea6da7",
   "metadata": {},
   "outputs": [],
   "source": []
  },
  {
   "cell_type": "code",
   "execution_count": null,
   "id": "d68efeca-c9b2-4516-8baf-98aa9726b5c8",
   "metadata": {},
   "outputs": [],
   "source": [
    "tus = df[\"tus\"].to_numpy()/1e3\n",
    "\n",
    "\n",
    "\n",
    "plt.hist(tus,bins=np.arange(min(tus), max(tus)+2,2),histtype='step')\n",
    "plt.show()"
   ]
  },
  {
   "cell_type": "markdown",
   "id": "7389f67c-2ce3-45ea-850f-f5e7a9359ced",
   "metadata": {},
   "source": [
    "# binning keV\n",
    "    -Binning the keV array for 0.8 <= tus <= 3.2 "
   ]
  },
  {
   "cell_type": "code",
   "execution_count": null,
   "id": "387b58f6-d81e-4660-97dc-4179ac87e3d2",
   "metadata": {},
   "outputs": [],
   "source": [
    "-1.84+(3.2-0.8)"
   ]
  },
  {
   "cell_type": "code",
   "execution_count": null,
   "id": "ca4e5daa-0345-439e-afb5-b2eb60829c5b",
   "metadata": {},
   "outputs": [],
   "source": [
    "-1.95+2.4"
   ]
  },
  {
   "cell_type": "code",
   "execution_count": null,
   "id": "2bcfe0b9-2afa-4833-86b7-9fd4aa89355c",
   "metadata": {},
   "outputs": [],
   "source": [
    "df,T0 = complete_df(grb_id=\"GRB200415\")\n",
    "\n",
    "label_tus=[]\n",
    "for label,row in df.iterrows():\n",
    "    tus = row[\"tus\"]/1e3\n",
    "    if -1.84<=tus<=0.56: #between\n",
    "        if row[\"flag\"] == False:\n",
    "            label_tus.append(label)\n",
    "        \n",
    "df_tus = df.iloc[label_tus]"
   ]
  },
  {
   "cell_type": "code",
   "execution_count": null,
   "id": "5591c5b8-7785-4fdc-8998-d77c3a2d7dd3",
   "metadata": {},
   "outputs": [],
   "source": [
    "keV = df_tus[\"keV\"].to_numpy()\n",
    "\n",
    "hist,edges = np.histogram(keV,bins)\n",
    "df_keV = pd.DataFrame({\"bin_keV\":hist,\"edges\":edges[1:]})"
   ]
  },
  {
   "cell_type": "code",
   "execution_count": null,
   "id": "87b89f82-436c-4174-98a0-5bee8615e2f3",
   "metadata": {},
   "outputs": [],
   "source": []
  },
  {
   "cell_type": "code",
   "execution_count": null,
   "id": "f1d666a1-5383-446e-acc2-cf9ef02d0ce7",
   "metadata": {},
   "outputs": [],
   "source": [
    "#function for handling\n",
    "\n",
    "#input time shift=cons, start=tus, end=tus"
   ]
  },
  {
   "cell_type": "code",
   "execution_count": null,
   "id": "01822da2-cef6-45cd-8d2a-4d1059553ce3",
   "metadata": {},
   "outputs": [],
   "source": []
  },
  {
   "cell_type": "code",
   "execution_count": null,
   "id": "5fd4e39b-3306-4393-9e56-823046ccd822",
   "metadata": {},
   "outputs": [],
   "source": []
  },
  {
   "cell_type": "code",
   "execution_count": null,
   "id": "42e02baf-7bbd-476a-b1e5-6dd60b370bfa",
   "metadata": {},
   "outputs": [],
   "source": []
  }
 ],
 "metadata": {
  "kernelspec": {
   "display_name": "base",
   "language": "python",
   "name": "base"
  },
  "language_info": {
   "codemirror_mode": {
    "name": "ipython",
    "version": 3
   },
   "file_extension": ".py",
   "mimetype": "text/x-python",
   "name": "python",
   "nbconvert_exporter": "python",
   "pygments_lexer": "ipython3",
   "version": "3.9.13"
  }
 },
 "nbformat": 4,
 "nbformat_minor": 5
}
