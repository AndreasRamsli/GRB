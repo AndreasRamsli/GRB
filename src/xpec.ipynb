{
 "cells": [
  {
   "cell_type": "markdown",
   "id": "cd5ab503-d1fd-4757-9242-72a450e190b0",
   "metadata": {},
   "source": [
    "# imports"
   ]
  },
  {
   "cell_type": "code",
   "execution_count": 3,
   "id": "d0ef8f8b-840d-4b61-8dbc-f25c9cbd67fa",
   "metadata": {},
   "outputs": [
    {
     "name": "stdout",
     "output_type": "stream",
     "text": [
      "read_matlab_file.ipynb loaded successfully!\n"
     ]
    }
   ],
   "source": [
    "%run read_matlab_file.ipynb"
   ]
  },
  {
   "cell_type": "markdown",
   "id": "b22d7b6f-dbbc-480f-b319-05137ddb3f16",
   "metadata": {},
   "source": [
    "# XPEC data preperation\n",
    "\n",
    "### TODO\n",
    "    - Extract the bins from the txt file\n",
    "    - Implement function for T0 correction (ToF)\n",
    "    - Implement function for cutting the tus & keV array at time interval given by Anastasia or GCN report \n",
    "    - Bin the keV into the predefined bins\n",
    "    \n",
    "    -Do all the steps above for GRB200415A and cross check results"
   ]
  },
  {
   "cell_type": "code",
   "execution_count": 12,
   "id": "1161d279-4169-4a01-8ef0-840dd728082f",
   "metadata": {},
   "outputs": [],
   "source": [
    "#time of flight from KW to ASIM\n",
    "ToF = {\"GRB180720\":-4.2377,\"GRB181222\":2.8716, \"GRB190206\":4.9225, \"GRB190305\":3.4460,\n",
    "      \"GRB190606\":4.0316,\"GRB200415\":4.1840,\"GRB200521\":-0.6226,\"GRB200716\":3.0155,\n",
    "      \"GRB201227\":0.7142, \"GRB210424\":-0.5033, \"GRB210619\":-2.6183}"
   ]
  },
  {
   "cell_type": "code",
   "execution_count": null,
   "id": "58bcca0c-68fc-46be-97d7-166f3366a345",
   "metadata": {},
   "outputs": [],
   "source": [
    "def ToF_correction()"
   ]
  },
  {
   "cell_type": "code",
   "execution_count": null,
   "id": "aad73377-cd2b-4afa-8c52-a7814476edf5",
   "metadata": {},
   "outputs": [],
   "source": []
  },
  {
   "cell_type": "code",
   "execution_count": null,
   "id": "2d7fd6d9-adea-4d5d-b9b9-5c38e17c6f5a",
   "metadata": {},
   "outputs": [],
   "source": []
  },
  {
   "cell_type": "code",
   "execution_count": null,
   "id": "aab14bbf-5500-4061-b5b4-5be76f4fd279",
   "metadata": {},
   "outputs": [],
   "source": []
  },
  {
   "cell_type": "code",
   "execution_count": null,
   "id": "acd203c1-2e27-49e2-b5c3-9cd729957223",
   "metadata": {},
   "outputs": [],
   "source": []
  },
  {
   "cell_type": "code",
   "execution_count": null,
   "id": "b2205f23-5fdc-4479-85ca-dd5a9710e0f7",
   "metadata": {},
   "outputs": [],
   "source": []
  },
  {
   "cell_type": "code",
   "execution_count": null,
   "id": "68c15a7a-59a9-4d18-8058-14b4ee4d55d8",
   "metadata": {},
   "outputs": [],
   "source": []
  },
  {
   "cell_type": "code",
   "execution_count": null,
   "id": "71302f4d-3bd5-4c93-88a4-3798369c03a8",
   "metadata": {},
   "outputs": [],
   "source": []
  },
  {
   "cell_type": "code",
   "execution_count": null,
   "id": "df6332d3-a05f-4e66-9187-5059f3650cad",
   "metadata": {},
   "outputs": [],
   "source": []
  },
  {
   "cell_type": "code",
   "execution_count": null,
   "id": "c5503a4c-80ae-4f8d-b0be-a71baec8ac25",
   "metadata": {},
   "outputs": [],
   "source": []
  },
  {
   "cell_type": "code",
   "execution_count": null,
   "id": "5e5524dc-0773-4c66-a9aa-2abc35489a19",
   "metadata": {},
   "outputs": [],
   "source": []
  },
  {
   "cell_type": "code",
   "execution_count": null,
   "id": "bf01b753-ecda-4194-8253-c2254b0176c8",
   "metadata": {},
   "outputs": [],
   "source": []
  },
  {
   "cell_type": "code",
   "execution_count": null,
   "id": "861e6e96-7ce6-43ba-adb5-c2333d328e6b",
   "metadata": {},
   "outputs": [],
   "source": []
  }
 ],
 "metadata": {
  "kernelspec": {
   "display_name": "base",
   "language": "python",
   "name": "base"
  },
  "language_info": {
   "codemirror_mode": {
    "name": "ipython",
    "version": 3
   },
   "file_extension": ".py",
   "mimetype": "text/x-python",
   "name": "python",
   "nbconvert_exporter": "python",
   "pygments_lexer": "ipython3",
   "version": "3.9.7"
  }
 },
 "nbformat": 4,
 "nbformat_minor": 5
}
