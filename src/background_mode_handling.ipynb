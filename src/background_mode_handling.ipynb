{
 "cells": [
  {
   "cell_type": "markdown",
   "id": "a0fb2d69-31ac-4011-aa77-9668c8a84516",
   "metadata": {},
   "source": [
    "# imports & notebooks"
   ]
  },
  {
   "cell_type": "code",
   "execution_count": 189,
   "id": "a1d1eb39-396c-4839-8b32-ded6bdd72c57",
   "metadata": {},
   "outputs": [],
   "source": [
    "import numpy as np\n",
    "import pandas as pd\n",
    "from datetime import datetime,timedelta\n",
    "import matplotlib.pyplot as plt\n",
    "import scipy.io\n",
    "from scipy.interpolate import interp1d\n",
    "import os\n",
    "import glob\n",
    "import sys\n",
    "import h5py\n",
    "import matplotlib_custom_style_and_macros as pltmacro"
   ]
  },
  {
   "cell_type": "code",
   "execution_count": 190,
   "id": "06aac481-8538-4722-abb8-095d0bcf5f8f",
   "metadata": {},
   "outputs": [
    {
     "name": "stdout",
     "output_type": "stream",
     "text": [
      "\n",
      "All MAC paths are set!\n"
     ]
    },
    {
     "name": "stderr",
     "output_type": "stream",
     "text": [
      "/Users/andreas/fun/useful_py_func/matplotlib_custom_style_and_macros.py:128: MatplotlibDeprecationWarning: Support for setting an rcParam that expects a str value to a non-str value is deprecated since 3.5 and support will be removed two minor releases later.\n",
      "  rcParams['lines.marker'] = None\n"
     ]
    },
    {
     "data": {
      "text/plain": [
       "<Figure size 800x500 with 0 Axes>"
      ]
     },
     "metadata": {},
     "output_type": "display_data"
    },
    {
     "name": "stdout",
     "output_type": "stream",
     "text": [
      "read_matlab_file.ipynb loaded successfully!\n",
      "convert_erg.ipynb loaded successfully!\n",
      "\n",
      "All MAC paths are set!\n"
     ]
    },
    {
     "name": "stderr",
     "output_type": "stream",
     "text": [
      "/Users/andreas/fun/useful_py_func/matplotlib_custom_style_and_macros.py:128: MatplotlibDeprecationWarning: Support for setting an rcParam that expects a str value to a non-str value is deprecated since 3.5 and support will be removed two minor releases later.\n",
      "  rcParams['lines.marker'] = None\n"
     ]
    }
   ],
   "source": [
    "path = os.getcwd()\n",
    "if path[1:5] == \"Home\":\n",
    "    %run /Home/siv30/wad005/master/GRB/src/convert_erg.ipynb #UiB paths\n",
    "    %run /Home/siv30/wad005/master/GRB/src/paths/uib.ipynb\n",
    "else:\n",
    "    %run /Users/andreas/phys/master/GRB/src/convert_erg.ipynb # Mac paths\n",
    "    %run /Users/andreas/phys/master/GRB/src/paths/mac.ipynb"
   ]
  },
  {
   "cell_type": "markdown",
   "id": "17deece1-8634-4d6d-b8f4-78a0946a33db",
   "metadata": {},
   "source": [
    "# Extracting bg data for GRB190206A\n",
    "    doy: 37\n",
    "    trigtime: 2019-02-06  03:49:28.230"
   ]
  },
  {
   "cell_type": "markdown",
   "id": "aabc7f01-8d38-4af3-b949-e75e34b49452",
   "metadata": {},
   "source": [
    "### Importing matlab file"
   ]
  },
  {
   "cell_type": "code",
   "execution_count": 188,
   "id": "a6689def-ac7a-4578-b8c0-b774966c59a7",
   "metadata": {},
   "outputs": [
    {
     "data": {
      "text/plain": [
       "\"fname = 'all_bgo_calibration_data_OBBA_2018_239_only.mat'\\ndata = load(fname);\\ndatetimes = data.out_data_tmp.times;\\nregular_times = string(datetimes);\\ndata.out_data_tmp.times = cellstr(regular_times);\\noutput = data.out_data_tmp;\""
      ]
     },
     "execution_count": 188,
     "metadata": {},
     "output_type": "execute_result"
    }
   ],
   "source": [
    "#matlab script for converting datetime objects to strings\n",
    "\"\"\"fname = 'all_bgo_calibration_data_OBBA_2018_239_only.mat'\n",
    "data = load(fname);\n",
    "datetimes = data.out_data_tmp.times;\n",
    "regular_times = string(datetimes);\n",
    "data.out_data_tmp.times = cellstr(regular_times);\n",
    "output = data.out_data_tmp;\"\"\""
   ]
  },
  {
   "cell_type": "code",
   "execution_count": 193,
   "id": "0b9680cc-ee0a-4213-b352-c2405a476e99",
   "metadata": {},
   "outputs": [
    {
     "data": {
      "text/plain": [
       "dict_keys(['__header__', '__version__', '__globals__', 'output'])"
      ]
     },
     "execution_count": 193,
     "metadata": {},
     "output_type": "execute_result"
    }
   ],
   "source": [
    "data_path = '/Users/andreas/phys/master/hed_bgo_acc_background_for_grb/data/' #'/Home/siv30/wad005/master/hed_bgo_acc_background_for_grb/data/'\n",
    "fname = 'output.mat' #HDF5 format>>use scipy.io\n",
    "#fname = 'all_bgo_calibration_data_OBBA_2019_37_only.mat'\n",
    "#f = h5py.File(fname,'r')\n",
    "f = scipy.io.loadmat(fname,appendmat=False, simplify_cells=True) #not working for mat73 files\n",
    "#data = f['out_data_tmp'].get('times')\n",
    "f.keys()"
   ]
  },
  {
   "cell_type": "code",
   "execution_count": 4,
   "id": "7c9ab444-9691-4a2a-b27b-f8c8f7621daf",
   "metadata": {},
   "outputs": [],
   "source": [
    "#problem: The string containing the datetime is converted to matlabOpaque\n",
    "#solution: convert datetimes to cellstr array>> loading works fine"
   ]
  },
  {
   "cell_type": "code",
   "execution_count": 194,
   "id": "fcbf1287-9585-42dc-b810-4c7ad63c81ac",
   "metadata": {},
   "outputs": [],
   "source": [
    "d = f['output']\n",
    "times = np.array(d['times'],dtype=str)\n",
    "dau_1_det_1 = d['spec_bgo_dau_1_ch_1'] #uint16"
   ]
  },
  {
   "cell_type": "code",
   "execution_count": 195,
   "id": "cb41af92-e9fe-40d7-8f37-1c697458c353",
   "metadata": {},
   "outputs": [
    {
     "data": {
      "text/plain": [
       "((262,), (1024, 262))"
      ]
     },
     "execution_count": 195,
     "metadata": {},
     "output_type": "execute_result"
    }
   ],
   "source": [
    "times.shape,dau_1_det_1.shape #cols in dau_det is for the selected time interval"
   ]
  },
  {
   "cell_type": "code",
   "execution_count": 196,
   "id": "ec562422-4e02-47e2-8ae0-2b90c41056f2",
   "metadata": {},
   "outputs": [
    {
     "data": {
      "text/plain": [
       "array(['2019-Feb-06 03:19:17.961773', '2019-Feb-06 03:25:36.962156',\n",
       "       '2019-Feb-06 03:30:38.982460'], dtype='<U27')"
      ]
     },
     "execution_count": 196,
     "metadata": {},
     "output_type": "execute_result"
    }
   ],
   "source": [
    "# T0 =  2019-02-06  03:49:28.230 \n",
    "times[27:30]\n",
    "#selecting col 29 for bkg estimation"
   ]
  },
  {
   "cell_type": "code",
   "execution_count": 197,
   "id": "d1a34f88-7b0a-4d6f-907b-c29a041c9d47",
   "metadata": {},
   "outputs": [
    {
     "name": "stdout",
     "output_type": "stream",
     "text": [
      "1024\n"
     ]
    }
   ],
   "source": [
    "counts_chan = dau_1_det_1[:,27] #27th column\n",
    "print(len(counts_chan)) #ok!"
   ]
  },
  {
   "cell_type": "code",
   "execution_count": 198,
   "id": "a72a19ab-7586-45b5-8681-98a5e75a10b7",
   "metadata": {},
   "outputs": [
    {
     "name": "stdout",
     "output_type": "stream",
     "text": [
      "1572.01857 [s] ~30 min before burst\n",
      "459.6 km/min * 30 min = 13,788 km in 30 min\n",
      "Have not calculated the change in latitude\n"
     ]
    }
   ],
   "source": [
    "T0_start = datetime.strptime(times[27],'%Y-%b-%d %H:%M:%S.%f')\n",
    "T0_end = datetime.strptime(times[30],'%Y-%b-%d %H:%M:%S.%f')\n",
    "exposure = (T0_end-T0_start).total_seconds()\n",
    "print(exposure,'[s] ~30 min before burst')\n",
    "print('459.6 km/min * 30 min = 13,788 km in 30 min')\n",
    "print('Have not calculated the change in latitude')"
   ]
  },
  {
   "cell_type": "markdown",
   "id": "f30951a9-d80a-42ed-96d9-72c8cd0d56b0",
   "metadata": {},
   "source": [
    "# Calibration coefs"
   ]
  },
  {
   "cell_type": "code",
   "execution_count": 199,
   "id": "b6c010a9-633b-423f-8299-ca04901247f8",
   "metadata": {},
   "outputs": [
    {
     "data": {
      "text/plain": [
       "{'a': 0.004946, 'b': 8.3696, 'c': 53.79335}"
      ]
     },
     "execution_count": 199,
     "metadata": {},
     "output_type": "execute_result"
    }
   ],
   "source": [
    "coefs = get_coefs(T0_start)\n",
    "coefs['dau_1_det_1']"
   ]
  },
  {
   "cell_type": "markdown",
   "id": "480d5daa-6971-43be-9976-d6c4d81c8a13",
   "metadata": {},
   "source": [
    "# Notes\n",
    "    -Already have the data in spectrum; meaning counts per energy channel. Channel ranging from 1-1024 (compressed from 4096).\n",
    "    So the channels have been grouped by 4. \n",
    "    \n",
    "    - Have to find the calibration coefs (a,b,c) and compute the 2. degree approx. of the keV bin.\n",
    "    \n",
    "    - Guessing one have to limit the bins from 10keV- 10MeV\n",
    "    \n",
    "    - Then interpolate the counts in each bin to get a Pn(x) of n-th degree, and then compute the background estimation for all\n",
    "    the bins.\n",
    "    ---------------------------------------------------------------\n",
    "    -TODO: Group the bins by the bins used in xspec_bins (log)\n",
    "    \n",
    "    - Proper bkg estimation\n",
    "        >> HED: 4 DAUs (Detector Assembly Units) and three channels for each DAU. One channel consists of one BGO crystal and one PMT.\n",
    "        >> Need to sum up all the counts from all the DAUs and channels into one joint array to get a proper estimate of the background.\n",
    "        >> Important to sum up along the energy channels --> create a matrix / df to do this\n",
    "        \n",
    "        Get an estimate for counts per second from this data & the bkg spectrum I have from keV_hist function\n",
    "        \n",
    "    "
   ]
  },
  {
   "cell_type": "markdown",
   "id": "c5b6dbec-0dc5-4f14-b852-bff2598e3154",
   "metadata": {},
   "source": [
    "# spectrum plot"
   ]
  },
  {
   "cell_type": "code",
   "execution_count": 12,
   "id": "3931423a-5622-462f-8fc9-9937a36d27c4",
   "metadata": {},
   "outputs": [
    {
     "data": {
      "text/plain": [
       "False"
      ]
     },
     "execution_count": 12,
     "metadata": {},
     "output_type": "execute_result"
    }
   ],
   "source": [
    "np.all(counts_chan==0) #zeros... ?\n",
    "#Have to use col=27 >> first non-zero col before burst"
   ]
  },
  {
   "cell_type": "code",
   "execution_count": 200,
   "id": "659fcfbc-a119-4a38-9721-648aa3731ee6",
   "metadata": {},
   "outputs": [
    {
     "data": {
      "image/png": "[encoded data removed]",
      "text/plain": [
       "<Figure size 800x500 with 1 Axes>"
      ]
     },
     "metadata": {},
     "output_type": "display_data"
    }
   ],
   "source": [
    "#%matplotlib inline\n",
    "plt.plot(counts_chan)\n",
    "plt.show()"
   ]
  },
  {
   "cell_type": "code",
   "execution_count": 203,
   "id": "2e78e463-8ae6-4590-99c3-e577fa68fcf5",
   "metadata": {},
   "outputs": [
    {
     "data": {
      "text/plain": [
       "(array([ 0,  1,  2,  3,  4,  5,  6,  7,  8,  9, 10]),\n",
       " array([   5,    0,    0,    0,    0, 3408, 4071, 3934, 3556, 3141, 2900],\n",
       "       dtype=uint16))"
      ]
     },
     "execution_count": 203,
     "metadata": {},
     "output_type": "execute_result"
    }
   ],
   "source": [
    "bins = np.arange(1,1025)\n",
    "#bins = (bins**2)*coefs['dau_1_det_1']['a'] + bins*coefs['dau_1_det_1']['b'] + coefs['dau_1_det_1']['c']\n",
    "bins_new = np.insert(bins,0,values=0)\n",
    "bins_new[:11],counts_chan[:11]"
   ]
  },
  {
   "cell_type": "code",
   "execution_count": 202,
   "id": "b6b9dcbd-d229-4c45-bee8-da5f42c028c0",
   "metadata": {},
   "outputs": [
    {
     "data": {
      "image/png": "[encoded data removed]",
      "text/plain": [
       "<Figure size 800x500 with 1 Axes>"
      ]
     },
     "metadata": {},
     "output_type": "display_data"
    }
   ],
   "source": [
    "plt.step(x=bins_new[:-1],y=counts_chan,where='pre')\n",
    "plt.yscale('log')\n",
    "plt.xscale('log')\n",
    "#plt.xlim(left=0,right=150)\n",
    "#plt.ylim(bottom=0,top=10)"
   ]
  },
  {
   "cell_type": "markdown",
   "id": "dc51db0c-4f77-411f-af7c-5d1aa0248a70",
   "metadata": {},
   "source": [
    "# Remake of spectrum plot\n",
    "    -just to make sure Im importing and plotting correctly"
   ]
  },
  {
   "cell_type": "code",
   "execution_count": 204,
   "id": "b03dd5a6-0a61-462b-b85b-3bec60d046eb",
   "metadata": {},
   "outputs": [],
   "source": [
    "T0_example = '2018-Aug-27 20:02:53.586117' \n",
    "# DAU_1_CH_1\n",
    "# DOY = 239"
   ]
  },
  {
   "cell_type": "code",
   "execution_count": 205,
   "id": "9d1c1d13-fede-4044-96f5-f00efccee09d",
   "metadata": {},
   "outputs": [
    {
     "data": {
      "text/plain": [
       "dict_keys(['__header__', '__version__', '__globals__', 'output'])"
      ]
     },
     "execution_count": 205,
     "metadata": {},
     "output_type": "execute_result"
    }
   ],
   "source": [
    "#data_path = '/Users/andreas/phys/master/hed_bgo_acc_background_for_grb/data/' #'/Home/siv30/wad005/master/hed_bgo_acc_background_for_grb/data/'\n",
    "fname = 'output_180827.mat' #HDF5 format>>use scipy.io\n",
    "f = scipy.io.loadmat(fname,appendmat=False, simplify_cells=True) #not working for mat73 files\n",
    "f.keys()"
   ]
  },
  {
   "cell_type": "code",
   "execution_count": 206,
   "id": "bbed888f-15cd-4954-b185-4b40bd27123e",
   "metadata": {},
   "outputs": [
    {
     "name": "stdout",
     "output_type": "stream",
     "text": [
      "199\n"
     ]
    },
    {
     "data": {
      "text/plain": [
       "'2018-Aug-27 20:02:53.586117'"
      ]
     },
     "execution_count": 206,
     "metadata": {},
     "output_type": "execute_result"
    }
   ],
   "source": [
    "times_example = f['output']['times']\n",
    "if T0_example in times_example:\n",
    "    i = list(times_example).index(T0_example)\n",
    "    print(i)\n",
    "times_example[i]"
   ]
  },
  {
   "cell_type": "code",
   "execution_count": 207,
   "id": "fc2cb16d-9aa9-423d-8386-9feb8c59b527",
   "metadata": {},
   "outputs": [
    {
     "data": {
      "image/png": "[encoded data removed]",
      "text/plain": [
       "<Figure size 800x500 with 1 Axes>"
      ]
     },
     "metadata": {},
     "output_type": "display_data"
    }
   ],
   "source": [
    "dau_1_det_1_counts = f['output']['spec_bgo_dau_1_ch_1'][:,i]\n",
    "plt.plot(np.arange(1,1025),dau_1_det_1_counts)\n",
    "plt.yscale('log')\n",
    "plt.xscale('log')\n",
    "plt.grid(which=\"both\")\n",
    "plt.xlabel('energy channel')\n",
    "plt.ylabel('counts per bin')\n",
    "plt.title('example DAU 1 CH 1 // ' + T0_example)\n",
    "plt.show()"
   ]
  },
  {
   "cell_type": "markdown",
   "id": "71ad2674-0ca3-4be0-8a84-e0cf89b501fc",
   "metadata": {},
   "source": [
    "# Function for importing all DAU's and CH's"
   ]
  },
  {
   "cell_type": "code",
   "execution_count": 208,
   "id": "419806fb-142e-4dd9-8871-dda52fb20da6",
   "metadata": {},
   "outputs": [],
   "source": [
    "def import_all(fname=None, time_index=None):\n",
    "    '''fname <str>: full filename (indluding .mat extention) for the matlab file\n",
    "    time_index <int>: index for extracting spectra. This must be checked beforehand\n",
    "    return <df>: DataFrame with [energy_channel, DAU_n_CH_n] matrix.'''\n",
    "    f = scipy.io.loadmat(fname,appendmat=False, simplify_cells=True)\n",
    "    \n",
    "    dau_1_det_1_counts = np.array(f['output']['spec_bgo_dau_1_ch_1'][:,time_index])\n",
    "    dau_1_det_2_counts = np.array(f['output']['spec_bgo_dau_1_ch_2'][:,time_index])\n",
    "    dau_1_det_3_counts = np.array(f['output']['spec_bgo_dau_1_ch_3'][:,time_index])\n",
    "    dau_2_det_1_counts = np.array(f['output']['spec_bgo_dau_2_ch_1'][:,time_index])\n",
    "    dau_2_det_2_counts = np.array(f['output']['spec_bgo_dau_2_ch_2'][:,time_index])\n",
    "    dau_2_det_3_counts = np.array(f['output']['spec_bgo_dau_2_ch_3'][:,time_index])\n",
    "    dau_3_det_1_counts = np.array(f['output']['spec_bgo_dau_3_ch_1'][:,time_index])\n",
    "    dau_3_det_2_counts = np.array(f['output']['spec_bgo_dau_3_ch_2'][:,time_index])\n",
    "    dau_3_det_3_counts = np.array(f['output']['spec_bgo_dau_3_ch_3'][:,time_index])\n",
    "    dau_4_det_1_counts = np.array(f['output']['spec_bgo_dau_4_ch_1'][:,time_index])\n",
    "    dau_4_det_2_counts = np.array(f['output']['spec_bgo_dau_4_ch_2'][:,time_index])\n",
    "    dau_4_det_3_counts = np.array(f['output']['spec_bgo_dau_4_ch_3'][:,time_index])\n",
    "\n",
    "    channels_dict = {'dau_1_det_1':dau_1_det_1_counts,'dau_1_det_2':dau_1_det_2_counts, 'dau_1_det_3': dau_1_det_3_counts,\n",
    "                'dau_2_det_1':dau_2_det_1_counts,'dau_2_det_2': dau_2_det_2_counts,'dau_2_det_3': dau_2_det_3_counts,\n",
    "                'dau_3_det_1':dau_3_det_1_counts,'dau_3_det_2':dau_3_det_2_counts,'dau_3_det_3':dau_3_det_3_counts,\n",
    "                'dau_4_det_1':dau_4_det_1_counts,'dau_4_det_2':dau_4_det_2_counts,'dau_4_det_3':dau_4_det_3_counts}\n",
    "    df = pd.DataFrame(channels_dict)\n",
    "    df['total'] = df.sum(axis=1)\n",
    "    return df\n",
    "    "
   ]
  },
  {
   "cell_type": "code",
   "execution_count": 209,
   "id": "2d48dfc5-415b-40be-b6a6-1a96b56abdf3",
   "metadata": {},
   "outputs": [],
   "source": [
    "df = import_all(fname=fname,time_index=199)"
   ]
  },
  {
   "cell_type": "code",
   "execution_count": 210,
   "id": "6402c136-15b1-4307-a8bb-9f166c2020aa",
   "metadata": {},
   "outputs": [
    {
     "data": {
      "text/html": [
       "<div>\n",
       "<style scoped>\n",
       "    .dataframe tbody tr th:only-of-type {\n",
       "        vertical-align: middle;\n",
       "    }\n",
       "\n",
       "    .dataframe tbody tr th {\n",
       "        vertical-align: top;\n",
       "    }\n",
       "\n",
       "    .dataframe thead th {\n",
       "        text-align: right;\n",
       "    }\n",
       "</style>\n",
       "<table border=\"1\" class=\"dataframe\">\n",
       "  <thead>\n",
       "    <tr style=\"text-align: right;\">\n",
       "      <th></th>\n",
       "      <th>dau_1_det_1</th>\n",
       "      <th>dau_1_det_2</th>\n",
       "      <th>dau_1_det_3</th>\n",
       "      <th>dau_2_det_1</th>\n",
       "      <th>dau_2_det_2</th>\n",
       "      <th>dau_2_det_3</th>\n",
       "      <th>dau_3_det_1</th>\n",
       "      <th>dau_3_det_2</th>\n",
       "      <th>dau_3_det_3</th>\n",
       "      <th>dau_4_det_1</th>\n",
       "      <th>dau_4_det_2</th>\n",
       "      <th>dau_4_det_3</th>\n",
       "      <th>total</th>\n",
       "    </tr>\n",
       "  </thead>\n",
       "  <tbody>\n",
       "    <tr>\n",
       "      <th>0</th>\n",
       "      <td>2</td>\n",
       "      <td>0</td>\n",
       "      <td>6</td>\n",
       "      <td>4</td>\n",
       "      <td>4</td>\n",
       "      <td>0</td>\n",
       "      <td>13</td>\n",
       "      <td>5</td>\n",
       "      <td>9</td>\n",
       "      <td>4</td>\n",
       "      <td>6</td>\n",
       "      <td>1</td>\n",
       "      <td>54</td>\n",
       "    </tr>\n",
       "    <tr>\n",
       "      <th>1</th>\n",
       "      <td>0</td>\n",
       "      <td>0</td>\n",
       "      <td>0</td>\n",
       "      <td>0</td>\n",
       "      <td>0</td>\n",
       "      <td>0</td>\n",
       "      <td>0</td>\n",
       "      <td>0</td>\n",
       "      <td>0</td>\n",
       "      <td>0</td>\n",
       "      <td>0</td>\n",
       "      <td>0</td>\n",
       "      <td>0</td>\n",
       "    </tr>\n",
       "    <tr>\n",
       "      <th>2</th>\n",
       "      <td>0</td>\n",
       "      <td>0</td>\n",
       "      <td>0</td>\n",
       "      <td>0</td>\n",
       "      <td>0</td>\n",
       "      <td>0</td>\n",
       "      <td>0</td>\n",
       "      <td>0</td>\n",
       "      <td>0</td>\n",
       "      <td>0</td>\n",
       "      <td>0</td>\n",
       "      <td>0</td>\n",
       "      <td>0</td>\n",
       "    </tr>\n",
       "    <tr>\n",
       "      <th>3</th>\n",
       "      <td>0</td>\n",
       "      <td>0</td>\n",
       "      <td>0</td>\n",
       "      <td>0</td>\n",
       "      <td>0</td>\n",
       "      <td>0</td>\n",
       "      <td>0</td>\n",
       "      <td>0</td>\n",
       "      <td>0</td>\n",
       "      <td>0</td>\n",
       "      <td>0</td>\n",
       "      <td>0</td>\n",
       "      <td>0</td>\n",
       "    </tr>\n",
       "    <tr>\n",
       "      <th>4</th>\n",
       "      <td>0</td>\n",
       "      <td>0</td>\n",
       "      <td>0</td>\n",
       "      <td>0</td>\n",
       "      <td>0</td>\n",
       "      <td>0</td>\n",
       "      <td>12230</td>\n",
       "      <td>14957</td>\n",
       "      <td>10503</td>\n",
       "      <td>0</td>\n",
       "      <td>0</td>\n",
       "      <td>0</td>\n",
       "      <td>37690</td>\n",
       "    </tr>\n",
       "    <tr>\n",
       "      <th>...</th>\n",
       "      <td>...</td>\n",
       "      <td>...</td>\n",
       "      <td>...</td>\n",
       "      <td>...</td>\n",
       "      <td>...</td>\n",
       "      <td>...</td>\n",
       "      <td>...</td>\n",
       "      <td>...</td>\n",
       "      <td>...</td>\n",
       "      <td>...</td>\n",
       "      <td>...</td>\n",
       "      <td>...</td>\n",
       "      <td>...</td>\n",
       "    </tr>\n",
       "    <tr>\n",
       "      <th>1019</th>\n",
       "      <td>0</td>\n",
       "      <td>0</td>\n",
       "      <td>0</td>\n",
       "      <td>0</td>\n",
       "      <td>0</td>\n",
       "      <td>0</td>\n",
       "      <td>0</td>\n",
       "      <td>0</td>\n",
       "      <td>0</td>\n",
       "      <td>0</td>\n",
       "      <td>0</td>\n",
       "      <td>0</td>\n",
       "      <td>0</td>\n",
       "    </tr>\n",
       "    <tr>\n",
       "      <th>1020</th>\n",
       "      <td>0</td>\n",
       "      <td>0</td>\n",
       "      <td>0</td>\n",
       "      <td>0</td>\n",
       "      <td>0</td>\n",
       "      <td>0</td>\n",
       "      <td>0</td>\n",
       "      <td>0</td>\n",
       "      <td>0</td>\n",
       "      <td>0</td>\n",
       "      <td>0</td>\n",
       "      <td>0</td>\n",
       "      <td>0</td>\n",
       "    </tr>\n",
       "    <tr>\n",
       "      <th>1021</th>\n",
       "      <td>0</td>\n",
       "      <td>0</td>\n",
       "      <td>0</td>\n",
       "      <td>0</td>\n",
       "      <td>0</td>\n",
       "      <td>0</td>\n",
       "      <td>0</td>\n",
       "      <td>0</td>\n",
       "      <td>0</td>\n",
       "      <td>0</td>\n",
       "      <td>0</td>\n",
       "      <td>0</td>\n",
       "      <td>0</td>\n",
       "    </tr>\n",
       "    <tr>\n",
       "      <th>1022</th>\n",
       "      <td>0</td>\n",
       "      <td>0</td>\n",
       "      <td>0</td>\n",
       "      <td>0</td>\n",
       "      <td>0</td>\n",
       "      <td>0</td>\n",
       "      <td>0</td>\n",
       "      <td>0</td>\n",
       "      <td>0</td>\n",
       "      <td>0</td>\n",
       "      <td>0</td>\n",
       "      <td>0</td>\n",
       "      <td>0</td>\n",
       "    </tr>\n",
       "    <tr>\n",
       "      <th>1023</th>\n",
       "      <td>0</td>\n",
       "      <td>0</td>\n",
       "      <td>0</td>\n",
       "      <td>0</td>\n",
       "      <td>0</td>\n",
       "      <td>0</td>\n",
       "      <td>0</td>\n",
       "      <td>0</td>\n",
       "      <td>0</td>\n",
       "      <td>0</td>\n",
       "      <td>0</td>\n",
       "      <td>0</td>\n",
       "      <td>0</td>\n",
       "    </tr>\n",
       "  </tbody>\n",
       "</table>\n",
       "<p>1024 rows × 13 columns</p>\n",
       "</div>"
      ],
      "text/plain": [
       "      dau_1_det_1  dau_1_det_2  dau_1_det_3  dau_2_det_1  dau_2_det_2  \\\n",
       "0               2            0            6            4            4   \n",
       "1               0            0            0            0            0   \n",
       "2               0            0            0            0            0   \n",
       "3               0            0            0            0            0   \n",
       "4               0            0            0            0            0   \n",
       "...           ...          ...          ...          ...          ...   \n",
       "1019            0            0            0            0            0   \n",
       "1020            0            0            0            0            0   \n",
       "1021            0            0            0            0            0   \n",
       "1022            0            0            0            0            0   \n",
       "1023            0            0            0            0            0   \n",
       "\n",
       "      dau_2_det_3  dau_3_det_1  dau_3_det_2  dau_3_det_3  dau_4_det_1  \\\n",
       "0               0           13            5            9            4   \n",
       "1               0            0            0            0            0   \n",
       "2               0            0            0            0            0   \n",
       "3               0            0            0            0            0   \n",
       "4               0        12230        14957        10503            0   \n",
       "...           ...          ...          ...          ...          ...   \n",
       "1019            0            0            0            0            0   \n",
       "1020            0            0            0            0            0   \n",
       "1021            0            0            0            0            0   \n",
       "1022            0            0            0            0            0   \n",
       "1023            0            0            0            0            0   \n",
       "\n",
       "      dau_4_det_2  dau_4_det_3  total  \n",
       "0               6            1     54  \n",
       "1               0            0      0  \n",
       "2               0            0      0  \n",
       "3               0            0      0  \n",
       "4               0            0  37690  \n",
       "...           ...          ...    ...  \n",
       "1019            0            0      0  \n",
       "1020            0            0      0  \n",
       "1021            0            0      0  \n",
       "1022            0            0      0  \n",
       "1023            0            0      0  \n",
       "\n",
       "[1024 rows x 13 columns]"
      ]
     },
     "execution_count": 210,
     "metadata": {},
     "output_type": "execute_result"
    }
   ],
   "source": [
    "df"
   ]
  },
  {
   "cell_type": "code",
   "execution_count": 219,
   "id": "a5f522df-a4c3-4d9c-af15-75e79402ba2d",
   "metadata": {},
   "outputs": [
    {
     "data": {
      "text/plain": [
       "(array([ 1,  2,  3,  4,  5,  6,  7,  8,  9, 10, 11]),\n",
       " array([   54,     0,     0,     0, 37690, 59466, 53936, 43151, 67502,\n",
       "        63214, 61729]))"
      ]
     },
     "execution_count": 219,
     "metadata": {},
     "output_type": "execute_result"
    }
   ],
   "source": [
    "np.arange(1,1025)[:11], df['total'].values[:11]"
   ]
  },
  {
   "cell_type": "code",
   "execution_count": null,
   "id": "286523c9-dd31-4a8f-bd6e-2444547db441",
   "metadata": {},
   "outputs": [],
   "source": [
    "#problem: why isn't the left bin edge showing? \n",
    "#seems like 'post' is where the bins are supposted to be placed"
   ]
  },
  {
   "cell_type": "code",
   "execution_count": 217,
   "id": "9a70609f-bd3a-477c-9e51-558259c21e9d",
   "metadata": {},
   "outputs": [
    {
     "data": {
      "image/png": "[encoded data removed]",
      "text/plain": [
       "<Figure size 800x500 with 1 Axes>"
      ]
     },
     "metadata": {},
     "output_type": "display_data"
    }
   ],
   "source": [
    "plt.step(x=np.arange(1,1025),y=df['total'].values,where='post')\n",
    "plt.yscale('log')\n",
    "#plt.xscale('log')\n",
    "plt.grid(which=\"both\")\n",
    "plt.xlim(left=0,right=10)\n",
    "plt.xlabel('energy channel')\n",
    "plt.ylabel('total counts per bin')\n",
    "plt.title('example Total Spectrum // ' + T0_example)\n",
    "plt.show()"
   ]
  },
  {
   "cell_type": "code",
   "execution_count": 72,
   "id": "1f086add-54f1-4477-9e28-9508c22eb228",
   "metadata": {},
   "outputs": [
    {
     "data": {
      "text/plain": [
       "(1024, 1024)"
      ]
     },
     "execution_count": 72,
     "metadata": {},
     "output_type": "execute_result"
    }
   ],
   "source": [
    "len(df['total'].values), len(np.arange(1,1025))"
   ]
  },
  {
   "cell_type": "code",
   "execution_count": 73,
   "id": "915c241e-9933-4010-8dca-455002edf4b9",
   "metadata": {},
   "outputs": [
    {
     "data": {
      "text/plain": [
       "array([   0,    1,    2, ..., 1022, 1023, 1024])"
      ]
     },
     "execution_count": 73,
     "metadata": {},
     "output_type": "execute_result"
    }
   ],
   "source": [
    "np.arange(0,1025)"
   ]
  },
  {
   "cell_type": "code",
   "execution_count": 74,
   "id": "15fa75ac-a140-4e08-87a9-ad84de7909cc",
   "metadata": {},
   "outputs": [
    {
     "data": {
      "image/png": "[encoded data removed]",
      "text/plain": [
       "<Figure size 800x500 with 1 Axes>"
      ]
     },
     "metadata": {},
     "output_type": "display_data"
    }
   ],
   "source": [
    "plt.stairs(values=df['total'].values,edges=np.arange(0,1025)) #energy channel 0-->1 % last bin: 1023-->1024\n",
    "plt.yscale('log')\n",
    "plt.xscale('log')\n",
    "plt.grid(which=\"both\")\n",
    "plt.xlabel('energy channel')\n",
    "plt.ylabel('total counts per bin')\n",
    "plt.title('example Total Spectrum // ' + T0_example)\n",
    "plt.show()"
   ]
  },
  {
   "cell_type": "code",
   "execution_count": 75,
   "id": "21f4793d-45e2-4647-86db-059f331be7ad",
   "metadata": {},
   "outputs": [
    {
     "data": {
      "text/html": [
       "<div>\n",
       "<style scoped>\n",
       "    .dataframe tbody tr th:only-of-type {\n",
       "        vertical-align: middle;\n",
       "    }\n",
       "\n",
       "    .dataframe tbody tr th {\n",
       "        vertical-align: top;\n",
       "    }\n",
       "\n",
       "    .dataframe thead th {\n",
       "        text-align: right;\n",
       "    }\n",
       "</style>\n",
       "<table border=\"1\" class=\"dataframe\">\n",
       "  <thead>\n",
       "    <tr style=\"text-align: right;\">\n",
       "      <th></th>\n",
       "      <th>dau_1_det_1</th>\n",
       "      <th>dau_1_det_2</th>\n",
       "      <th>dau_1_det_3</th>\n",
       "      <th>dau_2_det_1</th>\n",
       "      <th>dau_2_det_2</th>\n",
       "      <th>dau_2_det_3</th>\n",
       "      <th>dau_3_det_1</th>\n",
       "      <th>dau_3_det_2</th>\n",
       "      <th>dau_3_det_3</th>\n",
       "      <th>dau_4_det_1</th>\n",
       "      <th>dau_4_det_2</th>\n",
       "      <th>dau_4_det_3</th>\n",
       "      <th>total</th>\n",
       "    </tr>\n",
       "  </thead>\n",
       "  <tbody>\n",
       "    <tr>\n",
       "      <th>0</th>\n",
       "      <td>2</td>\n",
       "      <td>0</td>\n",
       "      <td>6</td>\n",
       "      <td>4</td>\n",
       "      <td>4</td>\n",
       "      <td>0</td>\n",
       "      <td>13</td>\n",
       "      <td>5</td>\n",
       "      <td>9</td>\n",
       "      <td>4</td>\n",
       "      <td>6</td>\n",
       "      <td>1</td>\n",
       "      <td>54</td>\n",
       "    </tr>\n",
       "    <tr>\n",
       "      <th>1</th>\n",
       "      <td>0</td>\n",
       "      <td>0</td>\n",
       "      <td>0</td>\n",
       "      <td>0</td>\n",
       "      <td>0</td>\n",
       "      <td>0</td>\n",
       "      <td>0</td>\n",
       "      <td>0</td>\n",
       "      <td>0</td>\n",
       "      <td>0</td>\n",
       "      <td>0</td>\n",
       "      <td>0</td>\n",
       "      <td>0</td>\n",
       "    </tr>\n",
       "    <tr>\n",
       "      <th>2</th>\n",
       "      <td>0</td>\n",
       "      <td>0</td>\n",
       "      <td>0</td>\n",
       "      <td>0</td>\n",
       "      <td>0</td>\n",
       "      <td>0</td>\n",
       "      <td>0</td>\n",
       "      <td>0</td>\n",
       "      <td>0</td>\n",
       "      <td>0</td>\n",
       "      <td>0</td>\n",
       "      <td>0</td>\n",
       "      <td>0</td>\n",
       "    </tr>\n",
       "    <tr>\n",
       "      <th>3</th>\n",
       "      <td>0</td>\n",
       "      <td>0</td>\n",
       "      <td>0</td>\n",
       "      <td>0</td>\n",
       "      <td>0</td>\n",
       "      <td>0</td>\n",
       "      <td>0</td>\n",
       "      <td>0</td>\n",
       "      <td>0</td>\n",
       "      <td>0</td>\n",
       "      <td>0</td>\n",
       "      <td>0</td>\n",
       "      <td>0</td>\n",
       "    </tr>\n",
       "    <tr>\n",
       "      <th>4</th>\n",
       "      <td>0</td>\n",
       "      <td>0</td>\n",
       "      <td>0</td>\n",
       "      <td>0</td>\n",
       "      <td>0</td>\n",
       "      <td>0</td>\n",
       "      <td>12230</td>\n",
       "      <td>14957</td>\n",
       "      <td>10503</td>\n",
       "      <td>0</td>\n",
       "      <td>0</td>\n",
       "      <td>0</td>\n",
       "      <td>37690</td>\n",
       "    </tr>\n",
       "    <tr>\n",
       "      <th>...</th>\n",
       "      <td>...</td>\n",
       "      <td>...</td>\n",
       "      <td>...</td>\n",
       "      <td>...</td>\n",
       "      <td>...</td>\n",
       "      <td>...</td>\n",
       "      <td>...</td>\n",
       "      <td>...</td>\n",
       "      <td>...</td>\n",
       "      <td>...</td>\n",
       "      <td>...</td>\n",
       "      <td>...</td>\n",
       "      <td>...</td>\n",
       "    </tr>\n",
       "    <tr>\n",
       "      <th>1019</th>\n",
       "      <td>0</td>\n",
       "      <td>0</td>\n",
       "      <td>0</td>\n",
       "      <td>0</td>\n",
       "      <td>0</td>\n",
       "      <td>0</td>\n",
       "      <td>0</td>\n",
       "      <td>0</td>\n",
       "      <td>0</td>\n",
       "      <td>0</td>\n",
       "      <td>0</td>\n",
       "      <td>0</td>\n",
       "      <td>0</td>\n",
       "    </tr>\n",
       "    <tr>\n",
       "      <th>1020</th>\n",
       "      <td>0</td>\n",
       "      <td>0</td>\n",
       "      <td>0</td>\n",
       "      <td>0</td>\n",
       "      <td>0</td>\n",
       "      <td>0</td>\n",
       "      <td>0</td>\n",
       "      <td>0</td>\n",
       "      <td>0</td>\n",
       "      <td>0</td>\n",
       "      <td>0</td>\n",
       "      <td>0</td>\n",
       "      <td>0</td>\n",
       "    </tr>\n",
       "    <tr>\n",
       "      <th>1021</th>\n",
       "      <td>0</td>\n",
       "      <td>0</td>\n",
       "      <td>0</td>\n",
       "      <td>0</td>\n",
       "      <td>0</td>\n",
       "      <td>0</td>\n",
       "      <td>0</td>\n",
       "      <td>0</td>\n",
       "      <td>0</td>\n",
       "      <td>0</td>\n",
       "      <td>0</td>\n",
       "      <td>0</td>\n",
       "      <td>0</td>\n",
       "    </tr>\n",
       "    <tr>\n",
       "      <th>1022</th>\n",
       "      <td>0</td>\n",
       "      <td>0</td>\n",
       "      <td>0</td>\n",
       "      <td>0</td>\n",
       "      <td>0</td>\n",
       "      <td>0</td>\n",
       "      <td>0</td>\n",
       "      <td>0</td>\n",
       "      <td>0</td>\n",
       "      <td>0</td>\n",
       "      <td>0</td>\n",
       "      <td>0</td>\n",
       "      <td>0</td>\n",
       "    </tr>\n",
       "    <tr>\n",
       "      <th>1023</th>\n",
       "      <td>0</td>\n",
       "      <td>0</td>\n",
       "      <td>0</td>\n",
       "      <td>0</td>\n",
       "      <td>0</td>\n",
       "      <td>0</td>\n",
       "      <td>0</td>\n",
       "      <td>0</td>\n",
       "      <td>0</td>\n",
       "      <td>0</td>\n",
       "      <td>0</td>\n",
       "      <td>0</td>\n",
       "      <td>0</td>\n",
       "    </tr>\n",
       "  </tbody>\n",
       "</table>\n",
       "<p>1024 rows × 13 columns</p>\n",
       "</div>"
      ],
      "text/plain": [
       "      dau_1_det_1  dau_1_det_2  dau_1_det_3  dau_2_det_1  dau_2_det_2  \\\n",
       "0               2            0            6            4            4   \n",
       "1               0            0            0            0            0   \n",
       "2               0            0            0            0            0   \n",
       "3               0            0            0            0            0   \n",
       "4               0            0            0            0            0   \n",
       "...           ...          ...          ...          ...          ...   \n",
       "1019            0            0            0            0            0   \n",
       "1020            0            0            0            0            0   \n",
       "1021            0            0            0            0            0   \n",
       "1022            0            0            0            0            0   \n",
       "1023            0            0            0            0            0   \n",
       "\n",
       "      dau_2_det_3  dau_3_det_1  dau_3_det_2  dau_3_det_3  dau_4_det_1  \\\n",
       "0               0           13            5            9            4   \n",
       "1               0            0            0            0            0   \n",
       "2               0            0            0            0            0   \n",
       "3               0            0            0            0            0   \n",
       "4               0        12230        14957        10503            0   \n",
       "...           ...          ...          ...          ...          ...   \n",
       "1019            0            0            0            0            0   \n",
       "1020            0            0            0            0            0   \n",
       "1021            0            0            0            0            0   \n",
       "1022            0            0            0            0            0   \n",
       "1023            0            0            0            0            0   \n",
       "\n",
       "      dau_4_det_2  dau_4_det_3  total  \n",
       "0               6            1     54  \n",
       "1               0            0      0  \n",
       "2               0            0      0  \n",
       "3               0            0      0  \n",
       "4               0            0  37690  \n",
       "...           ...          ...    ...  \n",
       "1019            0            0      0  \n",
       "1020            0            0      0  \n",
       "1021            0            0      0  \n",
       "1022            0            0      0  \n",
       "1023            0            0      0  \n",
       "\n",
       "[1024 rows x 13 columns]"
      ]
     },
     "execution_count": 75,
     "metadata": {},
     "output_type": "execute_result"
    }
   ],
   "source": [
    "df"
   ]
  },
  {
   "cell_type": "markdown",
   "id": "d1dcc8c7-e47a-43c1-a1bf-0308afb413f3",
   "metadata": {},
   "source": [
    "# Grouping energy channels into log bins"
   ]
  },
  {
   "cell_type": "code",
   "execution_count": 79,
   "id": "9d97ecb5-fcb7-4656-aac3-4237dc02eb45",
   "metadata": {},
   "outputs": [],
   "source": [
    "HED_bin = pd.read_csv(bin_edges_path + \"HED_binedges.txt\")\n",
    "log_bin_lo,log_bin_hi = HED_bin[\"energy_bin_start_keV\"].to_numpy(),HED_bin[\"energy_bin_stop_keV\"].to_numpy()\n",
    "log_bins = np.append(log_bin_lo,log_bin_hi[-1])"
   ]
  },
  {
   "cell_type": "code",
   "execution_count": 82,
   "id": "1fe33155-27d6-4987-911b-23226b1d6131",
   "metadata": {},
   "outputs": [
    {
     "name": "stdout",
     "output_type": "stream",
     "text": [
      "len:  41\n",
      "[1.000000e+01 1.258925e+01 1.584893e+01 1.995262e+01 2.511886e+01\n",
      " 3.162278e+01 3.981072e+01 5.011872e+01 6.309573e+01 7.943282e+01\n",
      " 1.000000e+02 1.258925e+02 1.584893e+02 1.995262e+02 2.511886e+02\n",
      " 3.162278e+02 3.981072e+02 5.011872e+02 6.309573e+02 7.943282e+02\n",
      " 1.000000e+03 1.258925e+03 1.584893e+03 1.995262e+03 2.511886e+03\n",
      " 3.162278e+03 3.981072e+03 5.011872e+03 6.309573e+03 7.943282e+03\n",
      " 1.000000e+04 1.258925e+04 1.584893e+04 1.995262e+04 2.511886e+04\n",
      " 3.162278e+04 3.981072e+04 5.011872e+04 6.309573e+04 7.943282e+04\n",
      " 1.000000e+05]\n"
     ]
    }
   ],
   "source": [
    "print('len: ',len(log_bins))\n",
    "print(log_bins)"
   ]
  },
  {
   "cell_type": "code",
   "execution_count": 83,
   "id": "bb72932b-c27a-4d66-945a-05ce9d4e3af1",
   "metadata": {},
   "outputs": [],
   "source": [
    "# 1) calibrating the energy channels into keV for binning\n",
    "# 2) binning the energy channels into the log_bins"
   ]
  },
  {
   "cell_type": "code",
   "execution_count": null,
   "id": "f2814ba3-b149-4077-afba-dc869963f3e5",
   "metadata": {},
   "outputs": [],
   "source": []
  },
  {
   "cell_type": "code",
   "execution_count": null,
   "id": "dbc6c207-0f32-451e-a407-aec03fa5c7ef",
   "metadata": {},
   "outputs": [],
   "source": []
  },
  {
   "cell_type": "code",
   "execution_count": null,
   "id": "83177ca0-339f-43f9-8d17-f17310484c01",
   "metadata": {},
   "outputs": [],
   "source": []
  },
  {
   "cell_type": "code",
   "execution_count": null,
   "id": "00b799cf-a039-47b4-a420-0a096adda074",
   "metadata": {},
   "outputs": [],
   "source": []
  },
  {
   "cell_type": "code",
   "execution_count": null,
   "id": "6c3b5f65-d419-4c98-987a-9632f8173937",
   "metadata": {},
   "outputs": [],
   "source": []
  }
 ],
 "metadata": {
  "kernelspec": {
   "display_name": "base",
   "language": "python",
   "name": "base"
  },
  "language_info": {
   "codemirror_mode": {
    "name": "ipython",
    "version": 3
   },
   "file_extension": ".py",
   "mimetype": "text/x-python",
   "name": "python",
   "nbconvert_exporter": "python",
   "pygments_lexer": "ipython3",
   "version": "3.9.13"
  }
 },
 "nbformat": 4,
 "nbformat_minor": 5
}
