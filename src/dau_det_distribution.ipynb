{
 "cells": [
  {
   "cell_type": "code",
   "execution_count": 1,
   "id": "4f00f5ed-3fbc-4c50-9368-6e0ba434a196",
   "metadata": {},
   "outputs": [],
   "source": [
    "#script for finding the distribution of which DAU / DET the triggers fall into"
   ]
  },
  {
   "cell_type": "code",
   "execution_count": 2,
   "id": "359fc0be-dfec-450c-bcbf-77b7836e4bf7",
   "metadata": {},
   "outputs": [
    {
     "name": "stdout",
     "output_type": "stream",
     "text": [
      "\n",
      "all UiB paths loaded\n",
      "\n",
      "all UiB paths loaded\n",
      "read_matlab_file.ipynb loaded successfully!\n",
      "\n",
      "all UiB paths loaded\n",
      "read_matlab_file.ipynb loaded successfully!\n",
      "\n",
      "all UiB paths loaded\n",
      "\n",
      "all UiB paths loaded\n",
      "read_matlab_file.ipynb loaded successfully!\n",
      "\n",
      "all UiB paths loaded\n",
      "read_matlab_file.ipynb loaded successfully!\n",
      "\n",
      "all UiB paths loaded\n",
      "read_matlab_file.ipynb loaded successfully!\n",
      "convert_erg.ipynb loaded successfully!\n",
      "\n",
      "all UiB paths loaded\n",
      "read_matlab_file.ipynb loaded successfully!\n",
      "\n",
      "all UiB paths loaded\n",
      "read_matlab_file.ipynb loaded successfully!\n",
      "convert_erg.ipynb loaded successfully!\n",
      "safety_time.ipynb loaded successfully!\n",
      "LC_calibration loaded successfully!\n"
     ]
    }
   ],
   "source": [
    "import os\n",
    "import numpy as np\n",
    "import matplotlib\n",
    "import matplotlib as mpl\n",
    "import matplotlib.pyplot as plt\n",
    "path = os.getcwd()\n",
    "if path[1:5] == 'Home':\n",
    "    %run /Home/siv30/wad005/master/GRB/src/harvest_matlab_data.ipynb\n",
    "    %run /Home/siv30/wad005/master/GRB/src/read_matlab_file.ipynb\n",
    "    %run /Home/siv30/wad005/master/GRB/src/ASIMXspec.ipynb\n",
    "else:\n",
    "    %run /Users/andreas/phys/master/GRB/src/harvest_matlab_data.ipynb\n",
    "    %run /Users/andreas/phys/master/GRB/src/read_matlab_file.ipynb\n",
    "    %run /Users/andreas/phys/master/GRB/src/ASIMXspec.ipynb\n",
    "\n",
    "%matplotlib inline"
   ]
  },
  {
   "cell_type": "markdown",
   "id": "9c971519-f104-4aa7-9131-f7b3c5f52811",
   "metadata": {},
   "source": [
    "# HEAT MAP"
   ]
  },
  {
   "cell_type": "code",
   "execution_count": 3,
   "id": "42bf3665-a4c1-4f10-8405-e000c7a9a491",
   "metadata": {},
   "outputs": [],
   "source": [
    "def heatmap(data, row_labels, col_labels, ax=None,\n",
    "            cbar_kw=None, cbarlabel=\"\", **kwargs):\n",
    "    \"\"\"\n",
    "    Create a heatmap from a numpy array and two lists of labels.\n",
    "\n",
    "    Parameters\n",
    "    ----------\n",
    "    data\n",
    "        A 2D numpy array of shape (M, N).\n",
    "    row_labels\n",
    "        A list or array of length M with the labels for the rows.\n",
    "    col_labels\n",
    "        A list or array of length N with the labels for the columns.\n",
    "    ax\n",
    "        A `matplotlib.axes.Axes` instance to which the heatmap is plotted.  If\n",
    "        not provided, use current axes or create a new one.  Optional.\n",
    "    cbar_kw\n",
    "        A dictionary with arguments to `matplotlib.Figure.colorbar`.  Optional.\n",
    "    cbarlabel\n",
    "        The label for the colorbar.  Optional.\n",
    "    **kwargs\n",
    "        All other arguments are forwarded to `imshow`.\n",
    "    \"\"\"\n",
    "\n",
    "    if ax is None:\n",
    "        ax = plt.gca()\n",
    "\n",
    "    if cbar_kw is None:\n",
    "        cbar_kw = {}\n",
    "\n",
    "    # Plot the heatmap\n",
    "    im = ax.imshow(data, **kwargs)\n",
    "\n",
    "    # Create colorbar\n",
    "    cbar = ax.figure.colorbar(im, ax=ax, **cbar_kw)\n",
    "    cbar.ax.set_ylabel(cbarlabel, rotation=-90, va=\"bottom\")\n",
    "\n",
    "    # Show all ticks and label them with the respective list entries.\n",
    "    ax.set_xticks(np.arange(data.shape[1]), labels=col_labels)\n",
    "    ax.set_yticks(np.arange(data.shape[0]), labels=row_labels)\n",
    "\n",
    "    # Let the horizontal axes labeling appear on top.\n",
    "    ax.tick_params(top=True, bottom=False,\n",
    "                   labeltop=True, labelbottom=False)\n",
    "\n",
    "    # Rotate the tick labels and set their alignment.\n",
    "    plt.setp(ax.get_xticklabels(), rotation=-30, ha=\"right\",\n",
    "             rotation_mode=\"anchor\")\n",
    "\n",
    "    # Turn spines off and create white grid.\n",
    "    ax.spines[:].set_visible(False)\n",
    "\n",
    "    ax.set_xticks(np.arange(data.shape[1]+1)-.5, minor=True)\n",
    "    ax.set_yticks(np.arange(data.shape[0]+1)-.5, minor=True)\n",
    "    ax.grid(which=\"minor\", color=\"w\", linestyle='-', linewidth=3)\n",
    "    ax.tick_params(which=\"minor\", bottom=False, left=False)\n",
    "\n",
    "    return im, cbar"
   ]
  },
  {
   "cell_type": "markdown",
   "id": "29e89e43-1dc2-484f-9193-5994ef41c38b",
   "metadata": {},
   "source": [
    "# distribution"
   ]
  },
  {
   "cell_type": "code",
   "execution_count": 39,
   "id": "5e0ea3a9-6846-4ea7-ab0e-3072df39f51d",
   "metadata": {},
   "outputs": [],
   "source": [
    "def get_dist(tus=None,adr=None,keV=None):\n",
    "    total_energy_deposited = {'adr 1':0,'adr 2':0,'adr 3':0,'adr 4':0,'adr 5':0,'adr 6':0,'adr 7':0,'adr 8':0,'adr 9':0,'adr 10':0,'adr 11':0,'adr 12':0}\n",
    "    #i_start,i_end = (find_nearest(tus,time_interval[0]),find_nearest(tus,time_interval[1])+1)\n",
    "    for i in np.arange(0,len(tus)):\n",
    "        total_energy_deposited[f'adr {adr[i]}'] += np.round(keV[i],3)\n",
    "    return total_energy_deposited\n",
    "\n",
    "def get_counts(df=None,t_start=None,t_end=None):\n",
    "    '''df['tus'] given in us\n",
    "    t_start & t_end given in us\n",
    "    '''\n",
    "    \n",
    "    df.sort_values(by='tus',inplace=True)\n",
    "    tus = df['tus'].to_numpy()\n",
    "    keV = df['keV'].to_numpy()\n",
    "    adr= df['adr'].to_numpy()\n",
    "    dau= df['dau'].to_numpy(),\n",
    "    det = df['det'].to_numpy()\n",
    "\n",
    "    i,j = find_nearest(tus,t_start),find_nearest(tus,t_end)\n",
    "    dist = get_dist(tus=tus[i:j],adr=adr[i:j],keV=keV[i:j])\n",
    "    return np.fromiter(dist.values(),float).reshape(4,3)/1e3\n",
    "\n",
    "\n",
    "def plot_dist(integraded_counts=None,t_start=None,t_end=None):\n",
    "    dau_labels, det_labels = ['dau 1','dau 2','dau 3', 'dau 4'], ['det 1','det 2','det 3']\n",
    "    fig, ax = plt.subplots(figsize=(12,12))\n",
    "    im, cbar = heatmap(integraded_counts, row_labels=dau_labels, col_labels=det_labels,# ax=ax,\n",
    "                       cmap=\"hot\", cbarlabel=f\"MeV   Exposure {np.round(t_end,3)-np.round(t_start,3)} s\")\n",
    "    #each tile should show have the total amount of keV which is absorbed in the detector given a specific time or bin\n",
    "    for i in range(len(dau_labels)):\n",
    "        for j in range(len(det_labels)):\n",
    "            text = ax.text(j, i, np.round(integraded_counts[i, j],2),\n",
    "                           ha=\"center\", va=\"center\", color=\"black\",fontsize='xx-large',weight='demibold')\n",
    "    plt.show()"
   ]
  },
  {
   "cell_type": "code",
   "execution_count": 43,
   "id": "febcd508-f9fb-4bb3-8531-310e4d3ae98c",
   "metadata": {},
   "outputs": [],
   "source": [
    "def static_heat(fn=None,T0=None,t_obs_start=None,t_obs_end=None,t_start=None,t_end=None,tlagg=None):\n",
    "    '''\n",
    "    inputs:\n",
    "    --------\n",
    "    fn<str>: must be in path\n",
    "    T0<str>: datetime as string. must be iso format\n",
    "    t_obs_start <float> given in seconds. cutting the LC at the right time\n",
    "    t_obs_end <float> given in seconds. cutting the LC at the right time\n",
    "    t_start <float> given in seconds. spectrum accumulation\n",
    "    t_end <float> given in seconds. spectrum accumulation\n",
    "    tlagg <float> given in seconds. shifting LC\n",
    "    return <None> plt.show() executed.\n",
    "    '''\n",
    "    \n",
    "    T0 = datetime.fromisoformat(T0) + timedelta(seconds=tlagg)\n",
    "    df = harvest_data(fn=fn,T0=datetime.isoformat(T0))\n",
    "    df.sort_values(by='tus',inplace=True,ignore_index=True)\n",
    "    i_df_start,i_df_end = find_nearest(df['tus'].to_numpy(),t_obs_start),find_nearest(df['tus'].to_numpy(),t_obs_end)\n",
    "    df = df.truncate(before=i_df_start,after=i_df_end-1)\n",
    "    \n",
    "    #converting energy channel to keV\n",
    "    df.sort_values(by=['adr','tus'],inplace=True,ignore_index=True) #sorting because we need the keV and adr list\n",
    "    keV,cal_abc = convert_erg(df['erg'].to_numpy(),df['dau'].to_numpy(),df['det'].to_numpy(),T0)\n",
    "    print(round(min(keV),2),' keV' ,round(max(keV)/1e3,2),' MeV ')\n",
    "    df['keV'] = keV\n",
    "    \n",
    "    #handling safety time\n",
    "    df['tus'] = df['tus']*1e6\n",
    "    st,dt = get_st(df),get_dt(df)\n",
    "    df['st']=st\n",
    "    df['dt']=dt\n",
    "\n",
    "    flag = get_flag(df)\n",
    "    df['flag']=flag\n",
    "    print('safety time: ',np.round((len(np.where(flag==True)[0])/len(flag))*100,3), '% removed')\n",
    "    df.drop(labels=np.where(flag==True)[0],inplace=True)\n",
    "    df = df.sort_values(by='tus')\n",
    "    \n",
    "    df.sort_values(by='tus',inplace=True,ignore_index=True)\n",
    "    df['tus'] = df['tus'].to_numpy() + tlagg\n",
    "    tus = df['tus'].to_numpy()\n",
    "    \n",
    "\n",
    "    l,k=find_nearest(tus,t_start*1e6),find_nearest(tus,t_end*1e6)\n",
    "    print('counts on interval: ', len(tus[l:k]))\n",
    "    integraded_counts = get_counts(df,t_start*1e6,t_end*1e6)\n",
    "    plot_dist(integraded_counts,t_start,t_end)\n",
    "    plot_HED(tus_arr=tus[l:],binsize=16,T0=T0)\n",
    "    return df"
   ]
  },
  {
   "cell_type": "code",
   "execution_count": null,
   "id": "867edf39-bd07-465f-9eae-34e6ee88485d",
   "metadata": {},
   "outputs": [],
   "source": []
  },
  {
   "cell_type": "code",
   "execution_count": 41,
   "id": "dc3c11d8-f711-4522-acac-949fe32497a0",
   "metadata": {},
   "outputs": [
    {
     "name": "stdout",
     "output_type": "stream",
     "text": [
      "dau/det starting from index 1\n",
      "tus array given in seconds\n",
      "df sorted by tus\n",
      "225.58489600000001  keV 43.65  MeV \n",
      "safety time:  0.153 % removed\n",
      "counts on interval:  7170\n"
     ]
    },
    {
     "data": {
      "image/png": "[encoded data removed]",
      "text/plain": [
       "<Figure size 864x864 with 2 Axes>"
      ]
     },
     "metadata": {
      "needs_background": "light"
     },
     "output_type": "display_data"
    },
    {
     "name": "stdout",
     "output_type": "stream",
     "text": [
      "tus array OK ...\n"
     ]
    },
    {
     "data": {
      "image/png": "[encoded data removed]",
      "text/plain": [
       "<Figure size 1152x648 with 1 Axes>"
      ]
     },
     "metadata": {
      "needs_background": "light"
     },
     "output_type": "display_data"
    }
   ],
   "source": [
    "#static_heat(fn='2019_3_5_13_3_48',T0='2019-03-05T13:05:19.816',t_obs_start=-92,t_obs_end=-90,t_start=-92, t_end=-90,tlagg=0.0)"
   ]
  },
  {
   "cell_type": "markdown",
   "id": "1b716973-3cc1-43fc-adc2-23948b08f205",
   "metadata": {},
   "source": [
    "# TODO:\n",
    "    fix the interval for GRB190206. very little data on the back tail"
   ]
  },
  {
   "cell_type": "code",
   "execution_count": 8,
   "id": "49296d43-f568-4b9d-b05a-ffcd01f943bc",
   "metadata": {},
   "outputs": [],
   "source": [
    "#df = static_main(fn='2019_2_6_3_49_28',T0='2019-02-06T03:49:28.443',t_obs_start=-2,t_obs_end=2,t_start=0.00,t_end=0.064,tlagg=0.293)"
   ]
  },
  {
   "cell_type": "markdown",
   "id": "583108ba-d2ec-49c1-9309-d12c0eadfb76",
   "metadata": {},
   "source": [
    "## dynamic dist plot\n",
    "    pass in the tus array to get the distribution for the give i,j index range\n",
    "    for each ~20ms use the function get_counts for time rannge"
   ]
  },
  {
   "cell_type": "markdown",
   "id": "26e6dbb2-78b5-4470-b85a-b18a0c5a44da",
   "metadata": {},
   "source": [
    "dt = 0.032 #typically ms\n",
    "bins_animation = np.arange(tus[0],tus[-1]+dt,dt)\n",
    "bin_lo = bins_animation[:-1]\n",
    "bin_hi = bins_animation[1:]\n",
    "\n",
    "tus = df['tus'].to_numpy()\n",
    "i = find_nearest(tus,-2)\n",
    "tus = tus[i:]\n",
    "\n",
    "keV = df['keV'].to_numpy()[i:]\n",
    "adr = df['adr'].to_numpy()[i:]\n",
    "dau = df['dau'].to_numpy()[i:]\n",
    "det = df['det'].to_numpy()[i:]\n",
    "\n",
    "counts_in_bin = []\n",
    "for i in np.arange(0,len(bin_lo)):\n",
    "    start,end =find_nearest(tus,bin_lo[i]),find_nearest(tus,bin_hi[i])\n",
    "    dist = get_dist(tus=tus[start:end],adr=adr[start:end],keV=keV[start:end])\n",
    "    counts = np.fromiter(dist.values(),float).reshape(4,3)/1e3\n",
    "    print('Max MeV', np.max(counts))\n",
    "    counts_in_bin.append(counts)"
   ]
  },
  {
   "cell_type": "code",
   "execution_count": 9,
   "id": "ff8b68fe-bd0d-4c68-980a-d6f290b42579",
   "metadata": {},
   "outputs": [],
   "source": [
    "#run some kind of categoring algorithm on the generated dataset"
   ]
  },
  {
   "cell_type": "code",
   "execution_count": 10,
   "id": "e1c30a3e-9629-42f0-91a7-9d4949c1533d",
   "metadata": {},
   "outputs": [],
   "source": [
    "#run a machine learning algorithm for detecting a burst\n",
    "#how is the dynamic for the distribution between the GRB's?\n",
    "#is there a pattern?\n",
    "\n",
    "\n",
    "#get statistics of which detector triggered the most, which detector absorbed the most energy -and the least"
   ]
  },
  {
   "cell_type": "code",
   "execution_count": 11,
   "id": "b81b3cee-b59e-4c27-9bd5-c5d4d36ab8c2",
   "metadata": {},
   "outputs": [],
   "source": [
    "#for c in counts_in_bin:\n",
    "#plot_dist(c)"
   ]
  },
  {
   "cell_type": "code",
   "execution_count": null,
   "id": "c5b977ad-c358-4647-9ebb-64278d2f0a2f",
   "metadata": {},
   "outputs": [],
   "source": []
  },
  {
   "cell_type": "markdown",
   "id": "04cfbb8b-ea14-4fa0-83f6-5b594191777f",
   "metadata": {},
   "source": [
    "## Animation\n",
    "    Showing how the energy in distributed over the 4 detector units"
   ]
  },
  {
   "cell_type": "markdown",
   "id": "1b7acfa4-e28a-42c3-9e2e-795409a35bf4",
   "metadata": {},
   "source": [
    "def annotate_heatmap(im, data=None, valfmt=\"{x:.2f}\",\n",
    "                     textcolors=(\"black\", \"white\"),\n",
    "                     threshold=None, **textkw):\n",
    "    \"\"\"\n",
    "    A function to annotate a heatmap.\n",
    "\n",
    "    Parameters\n",
    "    ----------\n",
    "    im\n",
    "        The AxesImage to be labeled.\n",
    "    data\n",
    "        Data used to annotate.  If None, the image's data is used.  Optional.\n",
    "    valfmt\n",
    "        The format of the annotations inside the heatmap.  This should either\n",
    "        use the string format method, e.g. \"$ {x:.2f}\", or be a\n",
    "        `matplotlib.ticker.Formatter`.  Optional.\n",
    "    textcolors\n",
    "        A pair of colors.  The first is used for values below a threshold,\n",
    "        the second for those above.  Optional.\n",
    "    threshold\n",
    "        Value in data units according to which the colors from textcolors are\n",
    "        applied.  If None (the default) uses the middle of the colormap as\n",
    "        separation.  Optional.\n",
    "    **kwargs\n",
    "        All other arguments are forwarded to each call to `text` used to create\n",
    "        the text labels.\n",
    "        \n",
    "    **retrived from https://matplotlib.org/stable/gallery/images_contours_and_fields/image_annotated_heatmap.html\n",
    "    \"\"\"\n",
    "\n",
    "    if not isinstance(data, (list, np.ndarray)):\n",
    "        data = im.get_array()\n",
    "\n",
    "    # Normalize the threshold to the images color range.\n",
    "    if threshold is not None:\n",
    "        threshold = im.norm(threshold)\n",
    "    else:\n",
    "        threshold = im.norm(data.max())/2.\n",
    "\n",
    "    # Set default alignment to center, but allow it to be\n",
    "    # overwritten by textkw.\n",
    "    kw = dict(horizontalalignment=\"center\",\n",
    "              verticalalignment=\"center\")\n",
    "    kw.update(textkw)\n",
    "\n",
    "    # Get the formatter in case a string is supplied\n",
    "    if isinstance(valfmt, str):\n",
    "        valfmt = matplotlib.ticker.StrMethodFormatter(valfmt)\n",
    "\n",
    "    # Loop over the data and create a `Text` for each \"pixel\".\n",
    "    # Change the text's color depending on the data.\n",
    "    texts = []\n",
    "    for i in range(data.shape[0]):\n",
    "        for j in range(data.shape[1]):\n",
    "            kw.update(color=textcolors[int(im.norm(data[i, j]) > threshold)])\n",
    "            text = im.axes.text(j, i, valfmt(data[i, j], None), **kw)\n",
    "            texts.append(text)\n",
    "\n",
    "    return texts"
   ]
  },
  {
   "cell_type": "code",
   "execution_count": null,
   "id": "f0481510-0b3a-4eed-81e9-495c68efc7e4",
   "metadata": {},
   "outputs": [],
   "source": []
  },
  {
   "cell_type": "code",
   "execution_count": null,
   "id": "ce07cc47-78d8-4d95-8607-af85fecd87b1",
   "metadata": {},
   "outputs": [],
   "source": []
  },
  {
   "cell_type": "code",
   "execution_count": null,
   "id": "7c3d0ad5-71c8-41bc-94e5-e53361904cfe",
   "metadata": {},
   "outputs": [],
   "source": []
  },
  {
   "cell_type": "code",
   "execution_count": null,
   "id": "b9e27536-022e-453d-946d-acca5d78d18b",
   "metadata": {},
   "outputs": [],
   "source": []
  },
  {
   "cell_type": "code",
   "execution_count": null,
   "id": "86e025b6-efa3-48b9-b51c-40ca48270828",
   "metadata": {},
   "outputs": [],
   "source": []
  }
 ],
 "metadata": {
  "kernelspec": {
   "display_name": "base",
   "language": "python",
   "name": "base"
  },
  "language_info": {
   "codemirror_mode": {
    "name": "ipython",
    "version": 3
   },
   "file_extension": ".py",
   "mimetype": "text/x-python",
   "name": "python",
   "nbconvert_exporter": "python",
   "pygments_lexer": "ipython3",
   "version": "3.9.7"
  }
 },
 "nbformat": 4,
 "nbformat_minor": 5
}
