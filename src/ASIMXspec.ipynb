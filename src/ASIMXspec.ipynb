{
 "cells": [
  {
   "cell_type": "markdown",
   "id": "cd5ab503-d1fd-4757-9242-72a450e190b0",
   "metadata": {},
   "source": [
    "# imports"
   ]
  },
  {
   "cell_type": "code",
   "execution_count": null,
   "id": "79c3bcb1-3294-407b-9c6b-66c4fe4b2dce",
   "metadata": {},
   "outputs": [],
   "source": [
    "import os\n",
    "path = os.getcwd()\n",
    "if path[1:5] == \"Home\":\n",
    "    %run /Home/siv30/wad005/master/GRB/src/paths/uib.ipynb\n",
    "    %run /Home/siv30/wad005/master/GRB/src/read_matlab_file.ipynb\n",
    "    %run /Home/siv30/wad005/master/GRB/src/LC_calibration.ipynb\n",
    "else: \n",
    "    %run /Users/andreas/phys/master/GRB/src/paths/mac.ipynb\n",
    "    %run /Users/andreas/phys/master/GRB/src/read_matlab_file.ipynb\n",
    "    %run /Users/andreas/phys/master/GRB/src/LC_calibration.ipynb\n",
    "\n"
   ]
  },
  {
   "cell_type": "code",
   "execution_count": 8,
   "id": "e9d3557a-87d2-4379-ad97-1ad298a1a1b9",
   "metadata": {},
   "outputs": [
    {
     "name": "stderr",
     "output_type": "stream",
     "text": [
      "/Users/andreas/miniforge3/lib/python3.9/site-packages/stingray/utils.py:25: UserWarning: pyfftw not installed. Using standard scipy fft\n",
      "  warnings.warn(\"pyfftw not installed. Using standard scipy fft\")\n"
     ]
    }
   ],
   "source": [
    "import astropy as ap\n",
    "from stingray import Lightcurve as LC\n",
    "from stingray import CrossCorrelation\n",
    "from dateutil import parser"
   ]
  },
  {
   "cell_type": "markdown",
   "id": "f5599eff-3d24-4602-9ac3-313aeeb604b4",
   "metadata": {},
   "source": [
    "### General steps to prepare data for xspec\n",
    "    1) get complete_df with flags removed\n",
    "    2) shift tus array in dataframe by tshift provided by cross_corrolate(). NOTE: Shift tus_ASIM first manually to around T0. Then CC\n",
    "    3) use keV_bin() for binning of the energies\n",
    "    4) change format of dataframe with this command: pd.set_option('display.float_format', '{:.6E}'.format)\n",
    "    5) export to txt file with command: np.savetxt(r'/Users/andreas/phys/master/GRB/spectral_analysis/GRB190206A_keV_histogram.txt\"',df_keV.values, delimiter=',', header='bins_keV,counts,poisson_error_counts,duration_seconds', fmt='%.6E')\n",
    "\n"
   ]
  },
  {
   "cell_type": "markdown",
   "id": "b22d7b6f-dbbc-480f-b319-05137ddb3f16",
   "metadata": {},
   "source": [
    "\n",
    "\n",
    "## TODO\n",
    "    -Make this notebook contain only functions so that this notebook can be runned for all ASIM_xspecExtraction notebooks!\n",
    "    \n",
    "    -Stingray seems to be a good API for creating EventList object and writing that to a pha and bak file for ASIM\n",
    "    -Need left most edges in bins_keV for EventList.from_list()\n",
    "    \n",
    "\n",
    "\n",
    "## Notes\n",
    "    -Assuming \n",
    "    -bins_keV are the right most edges! \n",
    "    -Anders have filtered for keV >=500 \n",
    "    -Implementation is ok. Proceed to wrapping a function around it.\n",
    "    --> have a shift variable as input (have to do with lining up the LC from the different spacecrafts)\n",
    "    \n",
    "    \n",
    "## Problems\n",
    "\n",
    "    "
   ]
  },
  {
   "cell_type": "markdown",
   "id": "77f51588-0717-433b-86f3-2f9fb324d96e",
   "metadata": {},
   "source": [
    "# ToF"
   ]
  },
  {
   "cell_type": "code",
   "execution_count": null,
   "id": "1161d279-4169-4a01-8ef0-840dd728082f",
   "metadata": {},
   "outputs": [],
   "source": [
    "#time of flight from KW to ASIM. Given in seconds\n",
    "ToF = {\"GRB180720\":-4.2377,\"GRB181222\":2.8716, \"GRB190206\":4.9225, \"GRB190305\":3.4460,\n",
    "      \"GRB190606\":4.0316,\"GRB200415\":4.1840,\"GRB200521\":-0.6226,\"GRB200716\":3.0155,\n",
    "      \"GRB201227\":0.7142, \"GRB210424\":-0.5033, \"GRB210619\":-2.6183}"
   ]
  },
  {
   "cell_type": "code",
   "execution_count": null,
   "id": "58bcca0c-68fc-46be-97d7-166f3366a345",
   "metadata": {},
   "outputs": [],
   "source": [
    "def ToF_correction(grb_id=None):\n",
    "    ToF_us = ToF[grb_id]*1e6\n",
    "    df,T0 = complete_df(grb_id=grb_id)\n",
    "    df[\"tus\"], T0_calibrated = df[\"tus\"] - ToF_us, T0 - timedelta(microseconds=ToF_us) #calibrating \n",
    "    return df,T0,T0_calibrated"
   ]
  },
  {
   "cell_type": "markdown",
   "id": "06777cef-f969-4bf3-8b96-b77396f55f11",
   "metadata": {},
   "source": [
    "# Functions for prepping ASIM data for XSPEC"
   ]
  },
  {
   "cell_type": "markdown",
   "id": "46da9cbb-656d-482e-b55c-569214dec09a",
   "metadata": {},
   "source": [
    "### bin control"
   ]
  },
  {
   "cell_type": "code",
   "execution_count": null,
   "id": "30f37097-2bed-4757-afec-cde4f88cdba4",
   "metadata": {},
   "outputs": [],
   "source": [
    "df_bin = pd.read_csv(bin_edges_path + \"HED_binedges.txt\")\n",
    "#df_bin.head()"
   ]
  },
  {
   "cell_type": "markdown",
   "id": "364e9e86-2eb2-44c0-a478-dfb3c7a6b8cf",
   "metadata": {},
   "source": [
    "fig,(ax1,ax2) = plt.subplots(1,2,figsize=(15,3))\n",
    "\n",
    "ax1.plot((df_bin[\"energy_bin_start_keV\"]))\n",
    "ax2.plot(np.log(df_bin[\"energy_bin_start_keV\"]))\n",
    "ax1.set_xlabel(\"bin number\")\n",
    "ax1.set_ylabel(\"keV bin\")\n",
    "ax2.set_xlabel(\"bin number\")\n",
    "ax2.set_ylabel(\"ln(keV)\")\n",
    "plt.show()"
   ]
  },
  {
   "cell_type": "markdown",
   "id": "25b94cf6-c6dd-4199-9468-75793d8c92c5",
   "metadata": {},
   "source": [
    "start = df_bin[\"energy_bin_start_keV\"].to_numpy()\n",
    "#start = np.append(0,start)\n",
    "end = df_bin[\"energy_bin_stop_keV\"].to_numpy()\n",
    "bins_keV=np.append(start,end[-1])\n",
    "print(len(bins_keV))\n",
    "bins_keV"
   ]
  },
  {
   "cell_type": "markdown",
   "id": "556731ae-bfa0-426d-b1f0-4524041d76d0",
   "metadata": {},
   "source": [
    "df_hist_check = pd.read_csv(bin_edges_path + \"HED_(0.8 ms to 3.2 ms).txt\")\n",
    "print(\"Num hist counts totoal: \", sum(df_hist_check[\"counts\"].to_numpy()[1:]))\n",
    "print(\"bins_keV are the right most edge\")\n",
    "\n",
    "df_hist_check.tail()"
   ]
  },
  {
   "cell_type": "markdown",
   "id": "4feab460-e6f7-4056-b3ff-206674ae9b3b",
   "metadata": {},
   "source": [
    "### keV bin function"
   ]
  },
  {
   "cell_type": "code",
   "execution_count": 2,
   "id": "c2388ab7-920e-46e6-818d-7a96b98ccce1",
   "metadata": {},
   "outputs": [],
   "source": [
    "def keV_hist(df=None,time_interval=None,keV_interval=None,keV_bins=None,check_LC=False,convert_seconds=False):\n",
    "    '''\n",
    "    \n",
    "    NOTE: working with [s] resolution for the tus array in dataframe. using float32 --> 4 sig figures for keV\n",
    "    LED detector sensitive from 20-400 keV\n",
    "    HED detector sensitive from 200 to >20MeV\n",
    "    \n",
    "    input: \n",
    "    ---------------------------------------\n",
    "    note: All times are relative to T0 in the df\n",
    "    \n",
    "    df <pd.dataframe>: complete dataframe with no flagged events\n",
    "    t_start <float>: (optional). Given in [s]. If specified, duration must also be set.\n",
    "    time_interval <tuple>:  start and end [s] of the time interval for the keV binning.\n",
    "    keV_interval <tuple> default is None. Meaning the whole spectrum\n",
    "    keV_bins <np.array> (optional): bins for keV histogram. standard log bins used if None\n",
    "    convert_seconds <bool>: default True. tus /= 1e6\n",
    "    return: <pd.dataframe> with the bin_counts and bin_edges as a dataframe\n",
    "    '''\n",
    "    df.sort_values(by=['tus'],inplace=True) #first sorting by tus in increasing order\n",
    "    \n",
    "    \n",
    "    #tus handling-------------------------------------------\n",
    "    tus_arr = df[\"tus\"].to_numpy()\n",
    "    if convert_seconds == True:\n",
    "        tus_arr = tus_arr/1e6 #converting to seconds\n",
    "        \n",
    "    if time_interval == 'max':\n",
    "        idx_start,idx_end = 0,-1 \n",
    "    elif type(time_interval) == tuple:\n",
    "        idx_start, idx_end = find_nearest(tus_arr,time_interval[0]), find_nearest(tus_arr,time_interval[1])+1\n",
    "    else:\n",
    "        return(print('Time interval must be specified'))\n",
    "\n",
    "    tus_arr = tus_arr[idx_start:idx_end] #selecting the interval for tus\n",
    "    \n",
    "    #keV handling-------------------------------------------\n",
    "    keV_arr = df[\"keV\"].to_numpy(dtype=np.float32)\n",
    "    keV_arr = keV_arr[idx_start:idx_end] #selecting keV's on the given tus interval\n",
    "    \n",
    "    if keV_interval==None:\n",
    "         return print(\"keV bounds must be specified\")\n",
    "    elif keV_interval == \"max\":\n",
    "        keV_lower, keV_upper = 1e1, 1e5\n",
    "        print(\"Computing whole spectrum (10-1e5 keV)\")\n",
    "    else: \n",
    "        keV_lower,keV_upper = keV_interval[0],keV_interval[1] #selecting the bounds for the keV's\n",
    "\n",
    "    ii = []\n",
    "    for i,keV in enumerate(keV_arr): #finding\n",
    "        if keV_lower<=keV<=keV_upper:\n",
    "            ii.append(i)\n",
    "    \n",
    "    #Selecting the triggers that are within the time & energy bounds\n",
    "    tus_keV_bound = tus_arr[ii]\n",
    "    keV_bound = keV_arr[ii]\n",
    "    print(\"n triggers in time interval \",len(keV_arr))\n",
    "    print(\"n triggers are within bounds \", len(ii))\n",
    "    \n",
    "    #histogramming-----------------------------------------\n",
    "    #Just using the left bins + the last upper for binning\n",
    "    if keV_bins == None:\n",
    "        df_bin = pd.read_csv(bin_edges_path + \"HED_binedges.txt\")\n",
    "        print(\"keV bins are set for HED\")\n",
    "        keV_bin_start = df_bin[\"energy_bin_start_keV\"].to_numpy()\n",
    "        #start = np.append(0,start)\n",
    "        keV_bin_end = df_bin[\"energy_bin_stop_keV\"].to_numpy()\n",
    "        keV_bins = np.append(keV_bin_start,keV_bin_end[-1]) #just appending the last bin\n",
    "\n",
    "    \n",
    "    hist_keV, edges_keV = np.histogram(keV_bound,bins=keV_bins)\n",
    "    \n",
    "    \n",
    "    #Check this block of code for errors!\n",
    "    poisson_arr = np.sqrt(hist_keV) #handle this one. might be some negative numbers in it?\n",
    "    if hist_keV[0] == 0:\n",
    "        hist_keV = np.append(0,hist_keV)\n",
    "        poisson_arr = np.append(0,poisson_arr)\n",
    "    df_keV = pd.DataFrame({\"bins_keV\":edges_keV, \"counts\":hist_keV, \n",
    "                           \"poisson_error_counts\":poisson_arr}) #ERROR different lengths!\n",
    "    print(\"Energies binned!\")\n",
    "    \n",
    "    if check_LC != False:\n",
    "        return df_keV, tus_keV_bound\n",
    "    else:\n",
    "        return df_keV"
   ]
  },
  {
   "cell_type": "markdown",
   "id": "45d4aca1-423b-4386-81cd-1cab7eb7b7ed",
   "metadata": {},
   "source": [
    "### Cross Corrolate function"
   ]
  },
  {
   "cell_type": "code",
   "execution_count": null,
   "id": "e564040e-1635-44f5-9e14-266f2417b7e6",
   "metadata": {},
   "outputs": [],
   "source": [
    "def shiftTus(tus=None, tlagg=None):\n",
    "    \"\"\" Shift tus by adding tlagg to tus-array\n",
    "    input:\n",
    "    tus <np.array> must be given in us!\n",
    "    tlagg <float> must be gievn in us!\n",
    "    \n",
    "    return:\n",
    "    tusShift <np.array> given in us \"\"\"\n",
    "    \n",
    "    tusShift = tus + tlagg\n",
    "    return tusShift"
   ]
  },
  {
   "cell_type": "markdown",
   "id": "3edfbfc2-1642-4c34-86a7-0f3f096c6212",
   "metadata": {},
   "source": [
    "### General steps to prepare data for xspec\n",
    "    1) get complete_df with flags removed\n",
    "    2) shift tus array in dataframe by tshift provided by cross_corrolate(). NOTE: ADDED to tus_ASIM\n",
    "    3) use keV_bin() for binning of the energies\n",
    "    4) change format of dataframe with this command: pd.set_option('display.float_format', '{:.6E}'.format)\n",
    "    5) export to txt file with command: np.savetxt(r'/Users/andreas/phys/master/GRB/spectral_analysis/GRB190206A_keV_histogram.txt\"',df_keV.values, delimiter=',', header='bins_keV,counts,poisson_error_counts,duration_seconds', fmt='%.6E')\n",
    "\n"
   ]
  },
  {
   "cell_type": "markdown",
   "id": "086152d1-3a36-4c32-ab4f-22ffbf902f17",
   "metadata": {},
   "source": [
    "from astropy.table import Table\n",
    "df = pd.read_csv(\"/Users/andreas/phys/master/GRB/spectral_analysis/keV_histograms/GRB180720\")\n",
    "t = Table.from_pandas(df)\n",
    "t.write('GRB180720_new.fits')"
   ]
  }
 ],
 "metadata": {
  "kernelspec": {
   "display_name": "base",
   "language": "python",
   "name": "base"
  },
  "language_info": {
   "codemirror_mode": {
    "name": "ipython",
    "version": 3
   },
   "file_extension": ".py",
   "mimetype": "text/x-python",
   "name": "python",
   "nbconvert_exporter": "python",
   "pygments_lexer": "ipython3",
   "version": "3.9.13"
  }
 },
 "nbformat": 4,
 "nbformat_minor": 5
}
