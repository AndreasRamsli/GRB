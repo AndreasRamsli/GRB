{
 "cells": [
  {
   "cell_type": "markdown",
   "id": "cd5ab503-d1fd-4757-9242-72a450e190b0",
   "metadata": {},
   "source": [
    "# imports"
   ]
  },
  {
   "cell_type": "code",
   "execution_count": null,
   "id": "79c3bcb1-3294-407b-9c6b-66c4fe4b2dce",
   "metadata": {},
   "outputs": [],
   "source": [
    "import os\n",
    "path = os.getcwd()\n",
    "if path[1:5] == \"Home\":\n",
    "    %run /Home/siv30/wad005/master/GRB/src/paths/uib.ipynb\n",
    "    %run /Home/siv30/wad005/master/GRB/src/read_matlab_file.ipynb\n",
    "    %run /Home/siv30/wad005/master/GRB/src/LC_calibration.ipynb\n",
    "else: \n",
    "    %run /Users/andreas/phys/master/GRB/src/paths/mac.ipynb\n",
    "    %run /Users/andreas/phys/master/GRB/src/read_matlab_file.ipynb\n",
    "    %run /Users/andreas/phys/master/GRB/src/LC_calibration.ipynb\n",
    "\n"
   ]
  },
  {
   "cell_type": "code",
   "execution_count": 8,
   "id": "e9d3557a-87d2-4379-ad97-1ad298a1a1b9",
   "metadata": {},
   "outputs": [
    {
     "name": "stderr",
     "output_type": "stream",
     "text": [
      "/Users/andreas/miniforge3/lib/python3.9/site-packages/stingray/utils.py:25: UserWarning: pyfftw not installed. Using standard scipy fft\n",
      "  warnings.warn(\"pyfftw not installed. Using standard scipy fft\")\n"
     ]
    }
   ],
   "source": [
    "import astropy as ap\n",
    "from stingray import Lightcurve as LC\n",
    "from stingray import CrossCorrelation\n",
    "from dateutil import parser"
   ]
  },
  {
   "cell_type": "markdown",
   "id": "f5599eff-3d24-4602-9ac3-313aeeb604b4",
   "metadata": {},
   "source": [
    "### General steps to prepare data for xspec\n",
    "    1) get complete_df with flags removed\n",
    "    2) shift tus array in dataframe by tshift provided by cross_corrolate(). NOTE: Shift tus_ASIM first manually to around T0. Then CC\n",
    "    3) use keV_bin() for binning of the energies\n",
    "    4) change format of dataframe with this command: pd.set_option('display.float_format', '{:.6E}'.format)\n",
    "    5) export to txt file with command: np.savetxt(r'/Users/andreas/phys/master/GRB/spectral_analysis/GRB190206A_keV_histogram.txt\"',df_keV.values, delimiter=',', header='bins_keV,counts,poisson_error_counts,duration_seconds', fmt='%.6E')\n",
    "\n"
   ]
  },
  {
   "cell_type": "markdown",
   "id": "b22d7b6f-dbbc-480f-b319-05137ddb3f16",
   "metadata": {},
   "source": [
    "\n",
    "\n",
    "## TODO\n",
    "    -Make this notebook contain only functions so that this notebook can be runned for all ASIM_xspecExtraction notebooks!\n",
    "    \n",
    "    -Stingray seems to be a good API for creating EventList object and writing that to a pha and bak file for ASIM\n",
    "    -Need left most edges in bins_keV for EventList.from_list()\n",
    "    \n",
    "\n",
    "\n",
    "## Notes\n",
    "    -Assuming \n",
    "    -bins_keV are the right most edges! \n",
    "    -Anders have filtered for keV >=500 \n",
    "    -Implementation is ok. Proceed to wrapping a function around it.\n",
    "    --> have a shift variable as input (have to do with lining up the LC from the different spacecrafts)\n",
    "    \n",
    "    \n",
    "## Problems\n",
    "\n",
    "    "
   ]
  },
  {
   "cell_type": "markdown",
   "id": "77f51588-0717-433b-86f3-2f9fb324d96e",
   "metadata": {},
   "source": [
    "# ToF"
   ]
  },
  {
   "cell_type": "code",
   "execution_count": null,
   "id": "1161d279-4169-4a01-8ef0-840dd728082f",
   "metadata": {},
   "outputs": [],
   "source": [
    "#time of flight from KW to ASIM. Given in seconds\n",
    "ToF = {\"GRB180720\":-4.2377,\"GRB181222\":2.8716, \"GRB190206\":4.9225, \"GRB190305\":3.4460,\n",
    "      \"GRB190606\":4.0316,\"GRB200415\":4.1840,\"GRB200521\":-0.6226,\"GRB200716\":3.0155,\n",
    "      \"GRB201227\":0.7142, \"GRB210424\":-0.5033, \"GRB210619\":-2.6183}"
   ]
  },
  {
   "cell_type": "code",
   "execution_count": null,
   "id": "58bcca0c-68fc-46be-97d7-166f3366a345",
   "metadata": {},
   "outputs": [],
   "source": [
    "def ToF_correction(grb_id=None):\n",
    "    ToF_us = ToF[grb_id]*1e6\n",
    "    df,T0 = complete_df(grb_id=grb_id)\n",
    "    df[\"tus\"], T0_calibrated = df[\"tus\"] - ToF_us, T0 - timedelta(microseconds=ToF_us) #calibrating \n",
    "    return df,T0,T0_calibrated"
   ]
  },
  {
   "cell_type": "markdown",
   "id": "06777cef-f969-4bf3-8b96-b77396f55f11",
   "metadata": {},
   "source": [
    "# Functions for prepping ASIM data for XSPEC"
   ]
  },
  {
   "cell_type": "markdown",
   "id": "46da9cbb-656d-482e-b55c-569214dec09a",
   "metadata": {},
   "source": [
    "### bin control"
   ]
  },
  {
   "cell_type": "code",
   "execution_count": null,
   "id": "30f37097-2bed-4757-afec-cde4f88cdba4",
   "metadata": {},
   "outputs": [],
   "source": [
    "df_bin = pd.read_csv(bin_edges_path + \"HED_binedges.txt\")\n",
    "#df_bin.head()"
   ]
  },
  {
   "cell_type": "markdown",
   "id": "364e9e86-2eb2-44c0-a478-dfb3c7a6b8cf",
   "metadata": {},
   "source": [
    "fig,(ax1,ax2) = plt.subplots(1,2,figsize=(15,3))\n",
    "\n",
    "ax1.plot((df_bin[\"energy_bin_start_keV\"]))\n",
    "ax2.plot(np.log(df_bin[\"energy_bin_start_keV\"]))\n",
    "ax1.set_xlabel(\"bin number\")\n",
    "ax1.set_ylabel(\"keV bin\")\n",
    "ax2.set_xlabel(\"bin number\")\n",
    "ax2.set_ylabel(\"ln(keV)\")\n",
    "plt.show()"
   ]
  },
  {
   "cell_type": "markdown",
   "id": "25b94cf6-c6dd-4199-9468-75793d8c92c5",
   "metadata": {},
   "source": [
    "start = df_bin[\"energy_bin_start_keV\"].to_numpy()\n",
    "#start = np.append(0,start)\n",
    "end = df_bin[\"energy_bin_stop_keV\"].to_numpy()\n",
    "bins_keV=np.append(start,end[-1])\n",
    "print(len(bins_keV))\n",
    "bins_keV"
   ]
  },
  {
   "cell_type": "markdown",
   "id": "556731ae-bfa0-426d-b1f0-4524041d76d0",
   "metadata": {},
   "source": [
    "df_hist_check = pd.read_csv(bin_edges_path + \"HED_(0.8 ms to 3.2 ms).txt\")\n",
    "print(\"Num hist counts totoal: \", sum(df_hist_check[\"counts\"].to_numpy()[1:]))\n",
    "print(\"bins_keV are the right most edge\")\n",
    "\n",
    "df_hist_check.tail()"
   ]
  },
  {
   "cell_type": "markdown",
   "id": "4feab460-e6f7-4056-b3ff-206674ae9b3b",
   "metadata": {},
   "source": [
    "### keV bin function"
   ]
  },
  {
   "cell_type": "code",
   "execution_count": 1,
   "id": "c2388ab7-920e-46e6-818d-7a96b98ccce1",
   "metadata": {},
   "outputs": [],
   "source": [
    "def keV_hist(df=None, time_interval=None, keV_interval=None, convert_seconds=False):\n",
    "    '''\n",
    "    input: \n",
    "    df <pd.dataframe>: complete dataframe with no flagged events\n",
    "    t_start <float>: (optional). Given in [s]. If specified, duration must also be set.\n",
    "    time_interval <tuple>:  start and end [s] of the time interval for the keV binning.\n",
    "    keV_interval <tuple> default is None. Meaning the whole spectrum\n",
    "    keV_bins <np.array> (optional): bins for keV histogram. standard log bins used if None\n",
    "    convert_seconds <bool>: default False. If yes then tus /= 1e6\n",
    "    return: <pd.dataframe> with the bin_counts and bin_edges as a dataframe\n",
    "    '''\n",
    "    df = df.sort_values(by='tus')\n",
    "    if \"tus\" and \"keV\" not in df.columns:\n",
    "        raise KeyError(\"tus and/or keV not present in df\")\n",
    "    \n",
    "    tus_arr = df[\"tus\"].to_numpy(dtype=np.float64)\n",
    "    kev_arr = df[\"keV\"].to_numpy(dtype=np.float64)\n",
    "    print(f'initial len keV/tus: {len(kev_arr),len(tus_arr)}')\n",
    "    if convert_seconds == True:\n",
    "        tus_arr = tus_arr / 1e6\n",
    "\n",
    "    if time_interval == 'max':\n",
    "        tus_arr = tus_arr\n",
    "        kev_arr = kev_arr\n",
    "    elif isinstance(time_interval, tuple):\n",
    "        idx_start, idx_end = np.searchsorted(tus_arr,time_interval[0]),np.searchsorted(tus_arr,time_interval[1])\n",
    "        tus_arr = tus_arr[idx_start:idx_end]\n",
    "        kev_arr = kev_arr[idx_start:idx_end]\n",
    "    else:\n",
    "        raise ValueError('Time interval must be specified')\n",
    "        \n",
    "    print(f'Start/Stop tus interval: {tus_arr[0],tus_arr[-1]}')\n",
    "    print(f'len keV/tus: {len(kev_arr)}, {len(tus_arr)}')\n",
    "    \n",
    "    keV_bins = np.round(np.append(np.logspace(1, 5, num=40, endpoint=False),1e5),5)\n",
    "    \n",
    "    hist_keV, edges_keV = np.histogram(kev_arr,bins=keV_bins)\n",
    "    print(f'mean keV: {np.mean(hist_keV)}')\n",
    "    \n",
    "        # Ensure that the length of the hist_keV and edges_keV arrays are the same\n",
    "    if len(hist_keV) == len(edges_keV[:-1]):\n",
    "        # Calculate the poisson array\n",
    "        poisson_arr = np.round(np.sqrt(hist_keV),5)\n",
    "\n",
    "        # Handle the case where the first element of the hist_keV array is 0\n",
    "        if hist_keV[0] == 0:\n",
    "            hist_keV = np.append(0,hist_keV)\n",
    "            poisson_arr = np.append(0,poisson_arr)\n",
    "\n",
    "        # Ensure that both arrays are the same length\n",
    "        if len(hist_keV) == len(poisson_arr):\n",
    "            # Create the DataFrame \n",
    "            \n",
    "            df_keV = pd.DataFrame({\"bins_keV\":edges_keV, \"counts\":hist_keV, \n",
    "                               \"poisson_error_counts\":poisson_arr})\n",
    "            print(\"Energies binned!\")\n",
    "        else:\n",
    "            print(\"Error: hist_keV and poisson_arr have different lengths!\")\n",
    "    else:\n",
    "        print(\"Error: hist_keV and edges_keV have different lengths!\")\n",
    "    \n",
    "    return df_keV"
   ]
  },
  {
   "cell_type": "markdown",
   "id": "45d4aca1-423b-4386-81cd-1cab7eb7b7ed",
   "metadata": {},
   "source": [
    "### Cross Corrolate function"
   ]
  },
  {
   "cell_type": "code",
   "execution_count": null,
   "id": "e564040e-1635-44f5-9e14-266f2417b7e6",
   "metadata": {},
   "outputs": [],
   "source": [
    "def shiftTus(tus=None, tlagg=None):\n",
    "    \"\"\" Shift tus by adding tlagg to tus-array\n",
    "    input:\n",
    "    tus <np.array> must be given in us!\n",
    "    tlagg <float> must be gievn in us!\n",
    "    \n",
    "    return:\n",
    "    tusShift <np.array> given in us \"\"\"\n",
    "    \n",
    "    tusShift = tus + tlagg\n",
    "    return tusShift"
   ]
  },
  {
   "cell_type": "markdown",
   "id": "3edfbfc2-1642-4c34-86a7-0f3f096c6212",
   "metadata": {},
   "source": [
    "### General steps to prepare data for xspec\n",
    "    1) get complete_df with flags removed\n",
    "    2) shift tus array in dataframe by tshift provided by cross_corrolate(). NOTE: ADDED to tus_ASIM\n",
    "    3) use keV_bin() for binning of the energies\n",
    "    4) change format of dataframe with this command: pd.set_option('display.float_format', '{:.6E}'.format)\n",
    "    5) export to txt file with command: np.savetxt(r'/Users/andreas/phys/master/GRB/spectral_analysis/GRB190206A_keV_histogram.txt\"',df_keV.values, delimiter=',', header='bins_keV,counts,poisson_error_counts,duration_seconds', fmt='%.6E')\n",
    "\n"
   ]
  },
  {
   "cell_type": "markdown",
   "id": "086152d1-3a36-4c32-ab4f-22ffbf902f17",
   "metadata": {},
   "source": [
    "from astropy.table import Table\n",
    "df = pd.read_csv(\"/Users/andreas/phys/master/GRB/spectral_analysis/keV_histograms/GRB180720\")\n",
    "t = Table.from_pandas(df)\n",
    "t.write('GRB180720_new.fits')"
   ]
  }
 ],
 "metadata": {
  "kernelspec": {
   "display_name": "base",
   "language": "python",
   "name": "base"
  },
  "language_info": {
   "codemirror_mode": {
    "name": "ipython",
    "version": 3
   },
   "file_extension": ".py",
   "mimetype": "text/x-python",
   "name": "python",
   "nbconvert_exporter": "python",
   "pygments_lexer": "ipython3",
   "version": "3.9.13"
  }
 },
 "nbformat": 4,
 "nbformat_minor": 5
}
