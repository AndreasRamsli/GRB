{
 "cells": [
  {
   "cell_type": "markdown",
   "id": "cd5ab503-d1fd-4757-9242-72a450e190b0",
   "metadata": {},
   "source": [
    "# imports"
   ]
  },
  {
   "cell_type": "code",
   "execution_count": null,
   "id": "72d0941f-32a1-44e5-bdb9-8764b8a29022",
   "metadata": {},
   "outputs": [],
   "source": [
    "# UiB paths\n",
    "%run /Home/siv30/wad005/master/GRB/src/paths/uib.ipynb\n",
    "\n",
    "%run /Home/siv30/wad005/master/GRB/src/read_matlab_file.ipynb\n",
    "%run /Home/siv30/wad005/master/GRB/src/LC_calibration.ipynb"
   ]
  },
  {
   "cell_type": "markdown",
   "id": "7e2ee84b-39e3-4c15-b7fd-a4dcb34f003a",
   "metadata": {},
   "source": [
    "# Mac paths\n",
    "%run /Users/andreas/phys/master/GRB/src/read_matlab_file.ipynb\n",
    "%run /Users/andreas/phys/master/GRB/src/LC_calibration.ipynb"
   ]
  },
  {
   "cell_type": "code",
   "execution_count": 41,
   "id": "e9d3557a-87d2-4379-ad97-1ad298a1a1b9",
   "metadata": {},
   "outputs": [],
   "source": [
    "import astropy as ap\n",
    "from stingray import Lightcurve as LC\n",
    "from stingray import CrossCorrelation\n",
    "from dateutil import parser"
   ]
  },
  {
   "cell_type": "markdown",
   "id": "f5599eff-3d24-4602-9ac3-313aeeb604b4",
   "metadata": {},
   "source": [
    "### General steps to prepare data for xspec\n",
    "    1) get complete_df with flags removed\n",
    "    2) shift tus array in dataframe by tshift provided by cross_corrolate(). NOTE: Shift tus_ASIM first manually to around T0. Then CC\n",
    "    3) use keV_bin() for binning of the energies\n",
    "    4) change format of dataframe with this command: pd.set_option('display.float_format', '{:.6E}'.format)\n",
    "    5) export to txt file with command: np.savetxt(r'/Users/andreas/phys/master/GRB/spectral_analysis/GRB190206A_keV_histogram.txt\"',df_keV.values, delimiter=',', header='bins_keV,counts,poisson_error_counts,duration_seconds', fmt='%.6E')\n",
    "\n"
   ]
  },
  {
   "cell_type": "markdown",
   "id": "b22d7b6f-dbbc-480f-b319-05137ddb3f16",
   "metadata": {},
   "source": [
    "\n",
    "\n",
    "## TODO\n",
    "    -Make this notebook contain only functions so that this notebook can be runned for all ASIM_xspecExtraction notebooks!\n",
    "    \n",
    "    -Stingray seems to be a good API for creating EventList object and writing that to a pha and bak file for ASIM\n",
    "    -Need left most edges in bins_keV for EventList.from_list()\n",
    "    \n",
    "\n",
    "\n",
    "## Notes\n",
    "    -Assuming \n",
    "    -bins_keV are the right most edges! \n",
    "    -Anders have filtered for keV >=500 \n",
    "    -Implementation is ok. Proceed to wrapping a function around it.\n",
    "    --> have a shift variable as input (have to do with lining up the LC from the different spacecrafts)\n",
    "    \n",
    "    \n",
    "## Problems\n",
    "\n",
    "    "
   ]
  },
  {
   "cell_type": "markdown",
   "id": "77f51588-0717-433b-86f3-2f9fb324d96e",
   "metadata": {},
   "source": [
    "# ToF"
   ]
  },
  {
   "cell_type": "code",
   "execution_count": 3,
   "id": "1161d279-4169-4a01-8ef0-840dd728082f",
   "metadata": {},
   "outputs": [],
   "source": [
    "#time of flight from KW to ASIM. Given in seconds\n",
    "ToF = {\"GRB180720\":-4.2377,\"GRB181222\":2.8716, \"GRB190206\":4.9225, \"GRB190305\":3.4460,\n",
    "      \"GRB190606\":4.0316,\"GRB200415\":4.1840,\"GRB200521\":-0.6226,\"GRB200716\":3.0155,\n",
    "      \"GRB201227\":0.7142, \"GRB210424\":-0.5033, \"GRB210619\":-2.6183}"
   ]
  },
  {
   "cell_type": "code",
   "execution_count": 4,
   "id": "58bcca0c-68fc-46be-97d7-166f3366a345",
   "metadata": {},
   "outputs": [],
   "source": [
    "def ToF_correction(grb_id=None):\n",
    "    ToF_us = ToF[grb_id]*1e6\n",
    "    df,T0 = complete_df(grb_id=grb_id)\n",
    "    df[\"tus\"], T0_calibrated = df[\"tus\"] - ToF_us, T0 - timedelta(microseconds=ToF_us) #calibrating \n",
    "    return df,T0,T0_calibrated"
   ]
  },
  {
   "cell_type": "markdown",
   "id": "06777cef-f969-4bf3-8b96-b77396f55f11",
   "metadata": {},
   "source": [
    "# Functions for prepping ASIM data for XSPEC"
   ]
  },
  {
   "cell_type": "markdown",
   "id": "46da9cbb-656d-482e-b55c-569214dec09a",
   "metadata": {},
   "source": [
    "### bin control"
   ]
  },
  {
   "cell_type": "code",
   "execution_count": 6,
   "id": "30f37097-2bed-4757-afec-cde4f88cdba4",
   "metadata": {},
   "outputs": [
    {
     "ename": "NameError",
     "evalue": "name 'bin_edges_path' is not defined",
     "output_type": "error",
     "traceback": [
      "\u001b[0;31m---------------------------------------------------------------------------\u001b[0m",
      "\u001b[0;31mNameError\u001b[0m                                 Traceback (most recent call last)",
      "\u001b[0;32m/var/folders/q_/b8y8kqjd57q3wqvw3vyz1mrw0000gn/T/ipykernel_45250/109661420.py\u001b[0m in \u001b[0;36m<module>\u001b[0;34m\u001b[0m\n\u001b[0;32m----> 1\u001b[0;31m \u001b[0mdf_bin\u001b[0m \u001b[0;34m=\u001b[0m \u001b[0mpd\u001b[0m\u001b[0;34m.\u001b[0m\u001b[0mread_csv\u001b[0m\u001b[0;34m(\u001b[0m\u001b[0mbin_edges_path\u001b[0m \u001b[0;34m+\u001b[0m \u001b[0;34m\"HED_binedges.txt\"\u001b[0m\u001b[0;34m)\u001b[0m\u001b[0;34m\u001b[0m\u001b[0m\n\u001b[0m\u001b[1;32m      2\u001b[0m \u001b[0;31m#df_bin.head()\u001b[0m\u001b[0;34m\u001b[0m\u001b[0;34m\u001b[0m\u001b[0m\n",
      "\u001b[0;31mNameError\u001b[0m: name 'bin_edges_path' is not defined"
     ]
    }
   ],
   "source": [
    "df_bin = pd.read_csv(bin_edges_path + \"HED_binedges.txt\")\n",
    "#df_bin.head()"
   ]
  },
  {
   "cell_type": "markdown",
   "id": "364e9e86-2eb2-44c0-a478-dfb3c7a6b8cf",
   "metadata": {},
   "source": [
    "fig,(ax1,ax2) = plt.subplots(1,2,figsize=(15,3))\n",
    "\n",
    "ax1.plot((df_bin[\"energy_bin_start_keV\"]))\n",
    "ax2.plot(np.log(df_bin[\"energy_bin_start_keV\"]))\n",
    "ax1.set_xlabel(\"bin number\")\n",
    "ax1.set_ylabel(\"keV bin\")\n",
    "ax2.set_xlabel(\"bin number\")\n",
    "ax2.set_ylabel(\"ln(keV)\")\n",
    "plt.show()"
   ]
  },
  {
   "cell_type": "markdown",
   "id": "25b94cf6-c6dd-4199-9468-75793d8c92c5",
   "metadata": {},
   "source": [
    "start = df_bin[\"energy_bin_start_keV\"].to_numpy()\n",
    "#start = np.append(0,start)\n",
    "end = df_bin[\"energy_bin_stop_keV\"].to_numpy()\n",
    "bins_keV=np.append(start,end[-1])\n",
    "print(len(bins_keV))\n",
    "bins_keV"
   ]
  },
  {
   "cell_type": "markdown",
   "id": "556731ae-bfa0-426d-b1f0-4524041d76d0",
   "metadata": {},
   "source": [
    "df_hist_check = pd.read_csv(bin_edges_path + \"HED_(0.8 ms to 3.2 ms).txt\")\n",
    "print(\"Num hist counts totoal: \", sum(df_hist_check[\"counts\"].to_numpy()[1:]))\n",
    "print(\"bins_keV are the right most edge\")\n",
    "\n",
    "df_hist_check.tail()"
   ]
  },
  {
   "cell_type": "markdown",
   "id": "4feab460-e6f7-4056-b3ff-206674ae9b3b",
   "metadata": {},
   "source": [
    "### keV bin function"
   ]
  },
  {
   "cell_type": "code",
   "execution_count": 5,
   "id": "c2388ab7-920e-46e6-818d-7a96b98ccce1",
   "metadata": {},
   "outputs": [],
   "source": [
    "def keV_hist(df=None,t_start=None, duration=None, time_interval=None,keV_interval=None,keV_bins=None):\n",
    "    '''\n",
    "    TODO: Make sure this function is working correctly. Critical for validity of ASIM data\n",
    "    \n",
    "    \n",
    "    \n",
    "    NOTE: working with ms resolution for the tus array. using float32 --> 4 sig figures for keV\n",
    "    LED detector sensitive from 20-400 keV\n",
    "    HED detector sensitive from 200 to >20MeV\n",
    "    \n",
    "    input: \n",
    "    ---------------------------------------\n",
    "    note: All times are relative to T0 in the df\n",
    "    \n",
    "    df <pd.dataframe>: complete dataframe with no flagged events\n",
    "    t_start <float>: (optional). Given in s. If specified, duration must also be set.'\n",
    "    duration <float>: Must be provided in (s). Could be computed from time_interval\n",
    "    time_interval <tuple>:  start and end (s) of the time interval for the keV binning.\n",
    "    keV_interval <tuple> default is None. Meaning the whole spectrum\n",
    "    keV_bins <np.array> (optional): bins for keV histogram. standard log bins used if None\n",
    "    \n",
    "    return: <pd.dataframe> with the bin_counts and bin_edges as a dataframe\n",
    "    '''\n",
    "    df.sort_values(by=['tus'],inplace=True) #first sorting by tus in increasing order\n",
    "    \n",
    "    \n",
    "    #tus handling-------------------------------------------\n",
    "    tus_arr = df[\"tus\"].to_numpy()\n",
    "    tus_arr = tus_arr/1e6 #converting to seconds\n",
    "\n",
    "    \n",
    "    #if t_start==None:\n",
    "    #    tus_start,tus_end = min(tus_arr),max(tus_arr)\n",
    "    #    idx_start, idx_end = find_nearest(tus_arr,tus_start), find_nearest(tus_arr,tus_end)+1 #including the last trigger\n",
    "    if time_interval != None:\n",
    "        idx_start, idx_end = find_nearest(tus_arr,time_interval[0]), find_nearest(tus_arr,time_interval[1])+1\n",
    "        if duration == None:\n",
    "            duration = (time_interval[1]-time_interval[0]) #converting back to seconds because we need that in the dataframe\n",
    "            print(\"duration not given. Computed duration is :\", np.round(duration,3), \" s\")\n",
    "    else:\n",
    "        if duration==None and t_start!=None:\n",
    "            return print(\"duration must be specified if time interval is not set\")\n",
    "        else:\n",
    "            tus_start,tus_end = t_start,t_start+duration #selecting the interval\n",
    "            idx_start, idx_end = find_nearest(tus_arr,tus_start), find_nearest(tus_arr,tus_end)+1 #including the nearest trigger\n",
    "    \n",
    "\n",
    "    tus_arr = tus_arr[idx_start:idx_end] #selecting the interval for tus\n",
    "    \n",
    "    #keV handling-------------------------------------------\n",
    "    keV_arr = df[\"keV\"].to_numpy(dtype=np.float32)\n",
    "    keV_arr = keV_arr[idx_start:idx_end] #selecting keV's on the given tus interval\n",
    "    \n",
    "    if keV_interval==None:\n",
    "         return print(\"keV bounds must be specified\")\n",
    "    elif keV_interval == \"max\":\n",
    "        keV_lower, keV_upper = 1e1, 1e5\n",
    "        print(\"Computing whole spectrum (10-1e5 keV)\")\n",
    "    else: \n",
    "        keV_lower,keV_upper = keV_interval[0],keV_interval[1] #selecting the bounds for the keV's\n",
    "\n",
    "    ii = []\n",
    "    for i,keV in enumerate(keV_arr): #finding\n",
    "        if keV_lower<=keV<=keV_upper:\n",
    "            ii.append(i)\n",
    "    \n",
    "    #Selecting the triggers that are within the time & energy bounds\n",
    "    tus_keV_bound = tus_arr[ii]\n",
    "    keV_bound = keV_arr[ii]\n",
    "    print(\"n triggers in time interval \",len(keV_arr))\n",
    "    print(\"n triggers are within bounds \", len(ii))\n",
    "    \n",
    "    #histogramming-----------------------------------------\n",
    "    #Just using the left bins + the last upper for binning\n",
    "    if keV_bins == None:\n",
    "        df_bin = pd.read_csv(bin_edges_path + \"HED_binedges.txt\")\n",
    "        print(\"keV bins are set for HED\")\n",
    "        keV_bin_start = df_bin[\"energy_bin_start_keV\"].to_numpy()\n",
    "        #start = np.append(0,start)\n",
    "        keV_bin_end = df_bin[\"energy_bin_stop_keV\"].to_numpy()\n",
    "        keV_bins = np.append(keV_bin_start,keV_bin_end[-1]) #just appending the last bin\n",
    "\n",
    "    \n",
    "    hist_keV, edges_keV = np.histogram(keV_bound,bins=keV_bins)\n",
    "    \n",
    "    \n",
    "    #Check this block of code for errors!\n",
    "    poisson_arr = np.sqrt(hist_keV) #handle this one. might be some negative numbers in it?\n",
    "    if hist_keV[0] == 0:\n",
    "        hist_keV = np.append(-9999.0,hist_keV)\n",
    "        poisson_arr = np.append(-9999.0,poisson_arr)\n",
    "    duration_arr = np.append(-9999.0,(([np.round(duration,3)])*(len(hist_keV)-1))) #should not be hardcoded like this ??\n",
    "    df_keV = pd.DataFrame({\"bins_keV\":edges_keV, \"counts\":hist_keV, \n",
    "                           \"poisson_error_counts\":poisson_arr, \"duration_seconds\":duration_arr}) #ERROR different lengths!\n",
    "    print(\"Energies binned!\")\n",
    "    return df_keV"
   ]
  },
  {
   "cell_type": "markdown",
   "id": "45d4aca1-423b-4386-81cd-1cab7eb7b7ed",
   "metadata": {},
   "source": [
    "### Cross Corrolate function"
   ]
  },
  {
   "cell_type": "code",
   "execution_count": 16,
   "id": "5b88cd8d-397f-4c63-99fc-09fa6ee1d663",
   "metadata": {},
   "outputs": [],
   "source": [
    "#notes: KW bins are given in seconds --> Converting tus_ASIM to seconds \n",
    "# CC function: input lc1 is the one that needs to be shifted, and input lc2 is the referance\n",
    "#   The CC function corolates based on the index of the arrays, NOT the timestamps in the photon list\n",
    "    \n",
    "def cross_corrolate(tus_ASIM=None, kw_filename=None, binsize=None, plotting=False):\n",
    "    \"\"\"\n",
    "    TODO: implement detector_range parameter, float16 for KW and float32 for ASIM\n",
    "    \n",
    "    \n",
    "    IMPORTANT: Make sure tus_ASIM contains the event!\n",
    "    cross corrolation function between ASIM and KW. Function will itself bin the photon array and return the desired t_shift lag to shift the data into KW or ASIM ref frame.\n",
    "    Subtract t_shift from KW lc to bring it into the ASIM ref frame.\n",
    "    Add t_shift to ASIM lc to bring it into KW ref frame.\n",
    "    \n",
    "    Best to use 16ms KW file for cross corrolation. This is because the 2ms binning window is short ~ 1 s\n",
    "    Note: Only the bins specified by binsize will be used in KW data\n",
    "    \n",
    "    input:\n",
    "    --------------------------------------\n",
    "    tus_ASIM <np.array>: tus array\n",
    "    kw_filename <str>: filename.\n",
    "    binsize <float>: given in seconds\n",
    "    \n",
    "    plotting <bool>: Plot lc and CC \n",
    "    return:\n",
    "    --------------------------------------\n",
    "    t_shift <float>: given in us. Rounded to 6 sig figures \"\"\"\n",
    "    \n",
    "\n",
    "    #KW handling------------------------------------------------------------------------------\n",
    "    if str(int(binsize*1e3)) != kw_filename[kw_filename.find('_')+1:-6]:\n",
    "        return print('filename and binsize is not correct')\n",
    "    \n",
    "    kw_file = kw_lc_path + kw_filename\n",
    "    kw_df = pd.read_csv(kw_file,sep='\\s+')\n",
    "    kw_bin_lo,kw_bin_hi,G2,G3= kw_df[\"Ti\"].to_numpy(dtype=np.float16), kw_df[\"Tf\"].to_numpy(dtype=np.float16), kw_df[\"G2\"].to_numpy(dtype=np.float16), kw_df[\"G3\"].to_numpy(dtype=np.float16)\n",
    "    \n",
    "    kw_dt = np.round(np.diff(kw_bin_lo),3)\n",
    "    i_stop_kw = np.where(kw_dt>binsize)[0][0]\n",
    "    \n",
    "    kw_bin_lo, kw_bin_hi, G2, G3 = kw_bin_lo[:i_stop_kw], kw_bin_hi[:i_stop_kw], G2[:i_stop_kw], G3[:i_stop_kw]\n",
    "    kwCounts = G2+G3\n",
    "    kw_lc = LC(time=kw_bin_lo + binsize/2, counts=kwCounts, skip_checks=True,dt=binsize)\n",
    "    check_alignment = [np.all(np.round(kw_lc.bin_lo,3) == kw_bin_lo),\n",
    "                       np.all(np.round(kw_lc.bin_hi,3) == kw_bin_hi), \n",
    "                       np.all(np.round(kw_lc.counts,3) == G2+G3)]\n",
    "    \n",
    "    for i, bool_ in enumerate(check_alignment):\n",
    "        if bool_ == False:\n",
    "            print(i)\n",
    "            if i == 0:\n",
    "                 print(\"bin_lo not aligned\")\n",
    "            elif i == 1:\n",
    "                 print(\"bin_hi not aligned\")\n",
    "            elif i == 2:\n",
    "                 print(\"counts not aligned\")\n",
    "                    \n",
    "    #ASIM handling ---------------------------\n",
    "    tus_ASIM = tus_ASIM/1e6 #converting to seconds\n",
    "    asim_lc = LC.make_lightcurve(toa=tus_ASIM,dt = binsize)\n",
    "    \n",
    "    # CC and tshift --------------------------\n",
    "    #The first Lightcurve passed is the channel of interest or interest band,\n",
    "    #and the second Lightcurve passed is the reference band.\n",
    "    CC = CrossCorrelation(asim_lc,kw_lc,mode=\"full\")\n",
    "    tlagg = np.round(CC.cal_timeshift(dt=binsize)[0],6)*1e6\n",
    "    asim_lc_shifted = asim_lc.shift(CC.time_shift) #t_shift is added to lightcurve. Checked in source code\n",
    "    \n",
    "    #Plotting ---------------------------------\n",
    "    if plotting == True:\n",
    "        kw_lc.plot(title=\"KW lc\")\n",
    "        asim_lc.plot(title=\"ASIM lc\")\n",
    "        asim_lc_shifted.plot(title=\"ASIM lc shifted\")\n",
    "        CC.plot(labels = ['Time Lags (seconds)','Correlation'])\n",
    "\n",
    "    print(\"tshift (s) \", tlagg/1e6, \" tshift returned as us\")\n",
    "\n",
    "    return tlagg"
   ]
  },
  {
   "cell_type": "code",
   "execution_count": 7,
   "id": "e564040e-1635-44f5-9e14-266f2417b7e6",
   "metadata": {},
   "outputs": [],
   "source": [
    "def shiftTus(tus=None, tlagg=None):\n",
    "    \"\"\" Shift tus by adding tlagg to tus-array\n",
    "    input:\n",
    "    tus <np.array> must be given in us!\n",
    "    tlagg <float> must be gievn in us!\n",
    "    \n",
    "    return:\n",
    "    tusShift <np.array> given in us \"\"\"\n",
    "    \n",
    "    tusShift = tus + tlagg\n",
    "    return tusShift"
   ]
  },
  {
   "cell_type": "markdown",
   "id": "3edfbfc2-1642-4c34-86a7-0f3f096c6212",
   "metadata": {},
   "source": [
    "### General steps to prepare data for xspec\n",
    "    1) get complete_df with flags removed\n",
    "    2) shift tus array in dataframe by tshift provided by cross_corrolate(). NOTE: ADDED to tus_ASIM\n",
    "    3) use keV_bin() for binning of the energies\n",
    "    4) change format of dataframe with this command: pd.set_option('display.float_format', '{:.6E}'.format)\n",
    "    5) export to txt file with command: np.savetxt(r'/Users/andreas/phys/master/GRB/spectral_analysis/GRB190206A_keV_histogram.txt\"',df_keV.values, delimiter=',', header='bins_keV,counts,poisson_error_counts,duration_seconds', fmt='%.6E')\n",
    "\n"
   ]
  },
  {
   "cell_type": "markdown",
   "id": "086152d1-3a36-4c32-ab4f-22ffbf902f17",
   "metadata": {},
   "source": [
    "from astropy.table import Table\n",
    "df = pd.read_csv(\"/Users/andreas/phys/master/GRB/spectral_analysis/keV_histograms/GRB180720\")\n",
    "t = Table.from_pandas(df)\n",
    "t.write('GRB180720_new.fits')"
   ]
  },
  {
   "cell_type": "markdown",
   "id": "0e4dbf84-b25a-4994-a807-6c43023f6325",
   "metadata": {},
   "source": [
    "# Exporting ASIM data"
   ]
  },
  {
   "cell_type": "markdown",
   "id": "3a899564-d77a-4203-98b8-110e472d79de",
   "metadata": {},
   "source": [
    "### GRB210619B"
   ]
  },
  {
   "cell_type": "markdown",
   "id": "fdfc0893-d6af-4064-850c-5fd6bb2e9338",
   "metadata": {},
   "source": [
    "df_ASIM, T0_ASIM = complete_df(grb_id=\"GRB210619\",remove_flag=True)\n",
    "print(T0_ASIM)\n",
    "df_ASIM.sort_values(by=[\"tus\"],inplace=True)\n",
    "df_ASIM.head()"
   ]
  },
  {
   "cell_type": "markdown",
   "id": "0107b4d8-030c-4f15-8bb5-9d983d524350",
   "metadata": {},
   "source": [
    "tus_A = df_ASIM[\"tus\"].to_numpy()\n",
    "binsize = 0.016 # 2 ms binsize\n",
    "kw_filename = 'GRB210619B_16ms.txt'\n",
    "\n",
    "#-448000.0 us tshift for 16ms bin\n",
    "#-730000 us tshift for 2ms binning. Problem: KW lc is only 1 s long for 2ms binning"
   ]
  },
  {
   "cell_type": "markdown",
   "id": "d623e7d2-4e06-493e-85c9-d2c4c7262fbb",
   "metadata": {},
   "source": [
    "tshift = cross_corrolate(tus_ASIM=tus_A,binsize=binsize,kw_filename=kw_filename)"
   ]
  },
  {
   "cell_type": "markdown",
   "id": "f0351c7d-e6a9-4056-b3b6-c48cb3248aa4",
   "metadata": {},
   "source": [
    "tus_shift = tus_A + tshift\n",
    "df_ASIM[\"tus\"] = tus_shift\n",
    "df_ASIM.head()"
   ]
  },
  {
   "cell_type": "markdown",
   "id": "8fff9372-c4af-4a4b-bca6-d365b328a675",
   "metadata": {},
   "source": [
    "df_ASIM, T0_ASIM = complete_df(grb_id=\"GRB210619\",remove_flag=True)\n",
    "keV_df = keV_hist(df=df_ASIM,time_interval=(1.0*1e3,1.7*1e3),duration=0.7,keV_interval=\"max\")"
   ]
  },
  {
   "cell_type": "markdown",
   "id": "97ed3b68-8047-4fa7-9203-3909ebc754c8",
   "metadata": {},
   "source": [
    "pd.set_option('display.float_format', '{:.6E}'.format)\n",
    "keV_df"
   ]
  },
  {
   "cell_type": "code",
   "execution_count": null,
   "id": "5dcc326a-064f-477b-9855-e5cec6bb66bd",
   "metadata": {},
   "outputs": [],
   "source": []
  },
  {
   "cell_type": "code",
   "execution_count": null,
   "id": "6f426ad5-9a9a-4031-bad4-c1a29ca33bea",
   "metadata": {},
   "outputs": [],
   "source": []
  },
  {
   "cell_type": "code",
   "execution_count": null,
   "id": "89b2ce1b-0864-4c86-9bca-6210e84bae12",
   "metadata": {},
   "outputs": [],
   "source": []
  },
  {
   "cell_type": "code",
   "execution_count": null,
   "id": "5af5b249-9a50-4b16-867f-68817d4b8f9a",
   "metadata": {},
   "outputs": [],
   "source": []
  },
  {
   "cell_type": "code",
   "execution_count": null,
   "id": "9101a5e6-08fe-44d8-99f0-f1dd1acd95e5",
   "metadata": {},
   "outputs": [],
   "source": []
  },
  {
   "cell_type": "code",
   "execution_count": null,
   "id": "80bd57ab-2f08-4f9f-90a2-39164ffa0058",
   "metadata": {},
   "outputs": [],
   "source": []
  },
  {
   "cell_type": "code",
   "execution_count": null,
   "id": "b35e4e67-695a-4685-8f78-e5c62fe906c9",
   "metadata": {},
   "outputs": [],
   "source": []
  }
 ],
 "metadata": {
  "kernelspec": {
   "display_name": "base",
   "language": "python",
   "name": "base"
  },
  "language_info": {
   "codemirror_mode": {
    "name": "ipython",
    "version": 3
   },
   "file_extension": ".py",
   "mimetype": "text/x-python",
   "name": "python",
   "nbconvert_exporter": "python",
   "pygments_lexer": "ipython3",
   "version": "3.9.7"
  }
 },
 "nbformat": 4,
 "nbformat_minor": 5
}
