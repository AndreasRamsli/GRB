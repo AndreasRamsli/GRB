{
 "cells": [
  {
   "cell_type": "code",
   "execution_count": 1,
   "id": "9ab8e455-36dd-43f2-89bf-6632a1e73f7c",
   "metadata": {},
   "outputs": [],
   "source": [
    "# UiB path\n",
    "#%run /Home/siv30/wad005/master/GRB/src/read_matlab_file.ipynb"
   ]
  },
  {
   "cell_type": "code",
   "execution_count": 2,
   "id": "7d919c66-fdc9-4861-9ae9-fb254616199f",
   "metadata": {},
   "outputs": [
    {
     "name": "stdout",
     "output_type": "stream",
     "text": [
      "All MAC paths are set!\n",
      "read_matlab_file.ipynb loaded successfully!\n"
     ]
    }
   ],
   "source": [
    "# Mac paths\n",
    "%run /Users/andreas/phys/master/GRB/src/read_matlab_file.ipynb"
   ]
  },
  {
   "cell_type": "markdown",
   "id": "badfb998-3e89-48f2-bbee-2a9b7125754f",
   "metadata": {},
   "source": [
    "# TODO\n",
    "-Make sure the right coefs are used. NOT CORRECT. Solution: sorted the list\n",
    "\n",
    "-Make sure erg is calibrated properly\n",
    "\n",
    "-Make a dataframe containing the same information as AL have produced"
   ]
  },
  {
   "cell_type": "code",
   "execution_count": 2,
   "id": "9da3b735-a818-4dee-84fa-ee7b75c3e98c",
   "metadata": {},
   "outputs": [],
   "source": [
    "coef_filenames = glob.glob(path_coef + \"*.txt\")\n",
    "coef_filenames.sort()"
   ]
  },
  {
   "cell_type": "code",
   "execution_count": 3,
   "id": "bcfdcef5-4057-48ca-8a17-b268e747e186",
   "metadata": {},
   "outputs": [],
   "source": [
    "dfs_list = []\n",
    "for i in np.arange(0,len(coef_filenames)):\n",
    "    df = pd.read_csv(coef_filenames[i],delim_whitespace=True)\n",
    "    #joining date and time \n",
    "    dt_list = []\n",
    "    date_arr = df[\"DATE\"].values\n",
    "    time_arr = df[\"TIME\"].values\n",
    "    for i in np.arange(0,len(date_arr)):\n",
    "        dt_str = date_arr[i]+ \" \" + time_arr[i]\n",
    "        dt = datetime.strptime(dt_str, \"%d-%b-%Y %H:%M:%S\")\n",
    "        dt_list.append(dt)\n",
    "    df[\"datetime\"] = dt_list\n",
    "    df = df.drop(columns=[\"DATE\",\"TIME\"])\n",
    "    dfs_list.append(df)"
   ]
  },
  {
   "cell_type": "code",
   "execution_count": 4,
   "id": "50c62f4a-59b2-4950-a143-b2aab1e7948a",
   "metadata": {},
   "outputs": [],
   "source": [
    "dfs_coefs = {\"dau_1_det_1\":dfs_list[0],\"dau_1_det_2\":dfs_list[1],\"dau_1_det_3\":dfs_list[2],\"dau_2_det_1\":dfs_list[3],\n",
    "      \"dau_2_det_2\":dfs_list[4],\"dau_2_det_3\":dfs_list[5],\"dau_3_det_1\":dfs_list[6],\"dau_3_det_2\":dfs_list[7],\n",
    "      \"dau_3_det_3\":dfs_list[8],\"dau_4_det_1\":dfs_list[9],\"dau_4_det_2\":dfs_list[10],\"dau_4_det_3\":dfs_list[11]}"
   ]
  },
  {
   "cell_type": "code",
   "execution_count": 5,
   "id": "4a925235-8c62-49ab-8211-72265c837227",
   "metadata": {},
   "outputs": [],
   "source": [
    "dau_det_list = []\n",
    "for i in np.arange(1,5):\n",
    "        for j in np.arange(1,4):\n",
    "            dau_det_list.append(\"dau_{}_det_{}\".format(i,j))"
   ]
  },
  {
   "cell_type": "code",
   "execution_count": 6,
   "id": "f86026cb-8c84-436a-9adb-11bdd6c0238d",
   "metadata": {},
   "outputs": [],
   "source": [
    "def get_coefs(T0):\n",
    "    \"\"\"Input only T0 for the GRB event.\n",
    "    Function will return a, b, c for all 12 detectors\"\"\"\n",
    "    dau_det_coefs = {}\n",
    "    \n",
    "    for i in np.arange(1,5): #generating the output dict containing the coefs\n",
    "        for j in np.arange(1,4):\n",
    "            dau_det_coefs[\"dau_{}_det_{}\".format(i,j)] = None\n",
    "            \n",
    "    #Need to check that is choosing a time that is lower. \n",
    "    #Example: finding time that is closest. That time is greater than the provided (wrong). \n",
    "    #--> should therefore choose the previous index\n",
    "    \n",
    "    #>> Solution: use method=\"pad\" to use the previous index if no excact max\n",
    "    for dau_det in dau_det_list:\n",
    "        row = dfs_coefs[dau_det].iloc[dfs_coefs[dau_det].set_index('datetime').index.get_indexer([T0], method='pad')]\n",
    "        dau_det_coefs[dau_det] = {\"a\":row[\"a\"].values[0], \"b\": row[\"b\"].values[0], \"c\":row[\"c\"].values[0]}\n",
    "    return dau_det_coefs"
   ]
  },
  {
   "cell_type": "code",
   "execution_count": 7,
   "id": "23f4f783-08c7-4e8c-b7d1-ec67cffd0e71",
   "metadata": {},
   "outputs": [],
   "source": [
    "def convert_erg(erg,dau,det,T0):\n",
    "    \"\"\"should specify the T0 for the event\"\"\"\n",
    "    \n",
    "    \"\"\"keV = (A*CHANNEL^2) + (B*CHANNEL) + C\"\"\"\n",
    "    keV_list = []\n",
    "    cal_abc = []\n",
    "    dau_det_coefs = get_coefs(T0)\n",
    "    for i in np.arange(0,len(erg)):\n",
    "        dau_val = dau[i]\n",
    "        det_val = det[i]\n",
    "        erg_val = erg[i]\n",
    "        \n",
    "\n",
    "        a = dau_det_coefs[\"dau_{}_det_{}\".format(dau_val,det_val)][\"a\"]\n",
    "        b = dau_det_coefs[\"dau_{}_det_{}\".format(dau_val,det_val)][\"b\"]\n",
    "        c = dau_det_coefs[\"dau_{}_det_{}\".format(dau_val,det_val)][\"c\"]\n",
    "        cal_abc.append([a,b,c])\n",
    "        \n",
    "        keV = a*erg_val**2 + b*erg_val + c\n",
    "        keV_list.append(keV)\n",
    "        \n",
    "    return np.array(keV_list), np.array(cal_abc)"
   ]
  },
  {
   "cell_type": "code",
   "execution_count": 10,
   "id": "b234c5ff-4394-41b3-9a96-fb9d81043f7f",
   "metadata": {},
   "outputs": [],
   "source": [
    "def create_df(tus,erg,typ,adr,dau,det,keV,cal_abc):\n",
    "\n",
    "    for arr in [tus,erg,dau,det,keV,cal_abc]:\n",
    "        if len(arr) != len(tus):\n",
    "            return print(\"length of arrays is not equal\")\n",
    "        else:\n",
    "            continue\n",
    "    df = pd.DataFrame({\"tus\":tus,\"erg\":erg,\"typ\":typ,\"adr\":adr,\"dau\":dau,\"det\":det,\"keV\":keV, \"a\":cal_abc[:,0], \"b\":cal_abc[:,1],\"c\":cal_abc[:,2]})\n",
    "    cols = ['a', 'b','c']\n",
    "    df['cal_abc'] = df[cols].apply(lambda row: ', '.join(row.values.astype(str)), axis=1)\n",
    "    df = df.drop(columns=cols)\n",
    "    return df"
   ]
  },
  {
   "cell_type": "code",
   "execution_count": 11,
   "id": "3276b8d4-74ae-4158-b0c9-907c564b0a3f",
   "metadata": {},
   "outputs": [],
   "source": [
    "def export_df(df,path=None):\n",
    "    df = df.sort_values(by=['adr','tus'])\n",
    "    df.to_csv(path_or_buf=path,index=False)\n",
    "    return None"
   ]
  },
  {
   "cell_type": "code",
   "execution_count": 12,
   "id": "acb331cf-8f94-4aac-9037-6fea3dd1230e",
   "metadata": {},
   "outputs": [],
   "source": [
    "#export_df(df,path=\"/Users/andreas/phys/master/GRB/calibration/GRB_150420_better.csv\")"
   ]
  },
  {
   "cell_type": "code",
   "execution_count": 14,
   "id": "8ebc2a7d-4151-4e02-a080-bdcc9f0e6050",
   "metadata": {},
   "outputs": [
    {
     "name": "stdout",
     "output_type": "stream",
     "text": [
      "convert_erg.ipynb loaded successfully!\n"
     ]
    }
   ],
   "source": [
    "print(\"convert_erg.ipynb loaded successfully!\")"
   ]
  }
 ],
 "metadata": {
  "kernelspec": {
   "display_name": "base",
   "language": "python",
   "name": "base"
  },
  "language_info": {
   "codemirror_mode": {
    "name": "ipython",
    "version": 3
   },
   "file_extension": ".py",
   "mimetype": "text/x-python",
   "name": "python",
   "nbconvert_exporter": "python",
   "pygments_lexer": "ipython3",
   "version": "3.9.13"
  }
 },
 "nbformat": 4,
 "nbformat_minor": 5
}
