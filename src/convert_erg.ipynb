{
 "cells": [
  {
   "cell_type": "code",
   "execution_count": 1,
   "id": "7d919c66-fdc9-4861-9ae9-fb254616199f",
   "metadata": {},
   "outputs": [
    {
     "name": "stdout",
     "output_type": "stream",
     "text": [
      "\n",
      "all UiB paths loaded\n",
      "read_matlab_file.ipynb loaded successfully!\n"
     ]
    }
   ],
   "source": [
    "import os\n",
    "path = os.getcwd()\n",
    "\n",
    "if path[1:5] == \"Home\":\n",
    "    %run /Home/siv30/wad005/master/GRB/src/read_matlab_file.ipynb #UiB paths\n",
    "    path_coef = '/Home/siv30/wad005/master/GRB/ASIM/COEFS/BGO/'\n",
    "else:\n",
    "    %run /Users/andreas/phys/master/GRB/src/read_matlab_file.ipynb # Mac paths\n",
    "    path_coef = '/Users/andreas/phys/master/GRB/ASIM/COEFS/BGO/'"
   ]
  },
  {
   "cell_type": "code",
   "execution_count": 8,
   "id": "a9d20b92-ac2d-4ed7-949a-b8b202a6f517",
   "metadata": {},
   "outputs": [],
   "source": [
    "import os\n",
    "import pandas as pd\n",
    "from datetime import datetime\n",
    "\n",
    "dfs_coefs = {}\n",
    "dau_det_list = []\n",
    "\n",
    "coef_filenames = glob.glob(os.path.join(path_coef, \"*.txt\"))\n",
    "coef_filenames.sort()\n",
    "\n",
    "for i in np.arange(1,5):\n",
    "    for j in np.arange(1,4):\n",
    "        # construct filename\n",
    "        filename = os.path.join(path_coef, f\"calibration_coefficients_dau_{i}_det_{j}.txt\")\n",
    "        \n",
    "        # check if file exists\n",
    "        if not os.path.isfile(filename):\n",
    "            print(f\"{filename} not found, skipping\")\n",
    "            continue\n",
    "        \n",
    "        # read csv file\n",
    "        df = pd.read_csv(filename, delim_whitespace=True, skiprows=[0])\n",
    "        \n",
    "        # check if date and time columns exist\n",
    "        if \"DATE\" not in df.columns or \"TIME\" not in df.columns:\n",
    "            print(f\"{filename} does not contain DATE and TIME columns, skipping\")\n",
    "            continue\n",
    "        \n",
    "        # join date and time\n",
    "        df[\"datetime\"] = df.apply(lambda row: datetime.strptime(row[\"DATE\"] + \" \" + row[\"TIME\"], \"%d-%b-%Y %H:%M:%S\"), axis=1)\n",
    "        \n",
    "        # drop date and time columns\n",
    "        df = df.drop(columns=[\"DATE\",\"TIME\"])\n",
    "        \n",
    "        # add dataframe to dictionary\n",
    "        key = f\"dau_{i}_det_{j}\"\n",
    "        dfs_coefs[key] = df\n",
    "        dau_det_list.append(key)\n",
    "\n",
    "def get_coefs(T0):\n",
    "    \"\"\"\n",
    "    param: T0 <datetime>\n",
    "    return day_det_coefs <dict> containing a,b,c coefs for all 12 detectors\"\"\"\n",
    "    \n",
    "    if not isinstance(T0, datetime):\n",
    "        return None\n",
    "    \n",
    "    dau_det_coefs = {}\n",
    "    \n",
    "    for i in np.arange(1,5): #generating the output dict containing the coefs\n",
    "        for j in np.arange(1,4):\n",
    "            dau_det_coefs[\"dau_{}_det_{}\".format(i,j)] = None\n",
    "\n",
    "    for dau_det in dau_det_list:\n",
    "        df = dfs_coefs[dau_det]\n",
    "        idx = (df['datetime'] - T0).abs().idxmin()  # find index of closest datetime\n",
    "        row = df.loc[idx]\n",
    "        dau_det_coefs[dau_det] = {\"a\":row[\"a\"], \"b\": row[\"b\"], \"c\":row[\"c\"]}\n",
    "    return dau_det_coefs\n",
    "\n",
    "\n",
    "\n",
    "def convert_erg(erg, dau, det, T0):\n",
    "    \"\"\"\n",
    "    Convert energy values from erg to keV using calibration coefficients\n",
    "    for each detector.\n",
    "    \"\"\"\n",
    "    keV_list = []\n",
    "    cal_abc = []\n",
    "    dau_det_coefs = get_coefs(T0)\n",
    "    \n",
    "    for i in range(len(erg)):\n",
    "        dau_val = dau[i]\n",
    "        det_val = det[i]\n",
    "        erg_val = erg[i]\n",
    "        \n",
    "        # Retrieve calibration coefficients\n",
    "        a = dau_det_coefs[\"dau_{}_det_{}\".format(dau_val, det_val)][\"a\"]\n",
    "        b = dau_det_coefs[\"dau_{}_det_{}\".format(dau_val, det_val)][\"b\"]\n",
    "        c = dau_det_coefs[\"dau_{}_det_{}\".format(dau_val, det_val)][\"c\"]\n",
    "        \n",
    "        # Store calibration coefficients for each detector\n",
    "        cal_abc.append([a, b, c])\n",
    "        \n",
    "        # Convert energy from erg to keV\n",
    "        keV = round(a * erg_val ** 2 + b * erg_val + c, 4)\n",
    "        keV_list.append(keV)\n",
    "        \n",
    "    return np.array(keV_list), np.array(cal_abc)\n"
   ]
  },
  {
   "cell_type": "code",
   "execution_count": 4,
   "id": "8ebc2a7d-4151-4e02-a080-bdcc9f0e6050",
   "metadata": {},
   "outputs": [
    {
     "name": "stdout",
     "output_type": "stream",
     "text": [
      "convert_erg.ipynb loaded successfully!\n"
     ]
    }
   ],
   "source": [
    "print(\"convert_erg.ipynb loaded successfully!\")"
   ]
  }
 ],
 "metadata": {
  "kernelspec": {
   "display_name": "base",
   "language": "python",
   "name": "base"
  },
  "language_info": {
   "codemirror_mode": {
    "name": "ipython",
    "version": 3
   },
   "file_extension": ".py",
   "mimetype": "text/x-python",
   "name": "python",
   "nbconvert_exporter": "python",
   "pygments_lexer": "ipython3",
   "version": "3.9.7"
  }
 },
 "nbformat": 4,
 "nbformat_minor": 5
}
