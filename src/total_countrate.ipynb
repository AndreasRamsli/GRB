{
 "cells": [
  {
   "cell_type": "code",
   "execution_count": 2,
   "id": "b58be528-2466-470d-889d-d953d35200e3",
   "metadata": {},
   "outputs": [
    {
     "ename": "Exception",
     "evalue": "Cannot load CDF C library; checked . Try 'os.environ[\"CDF_LIB\"] = library_directory' before import.",
     "output_type": "error",
     "traceback": [
      "\u001b[0;31m---------------------------------------------------------------------------\u001b[0m",
      "\u001b[0;31mException\u001b[0m                                 Traceback (most recent call last)",
      "Input \u001b[0;32mIn [2]\u001b[0m, in \u001b[0;36m<cell line: 1>\u001b[0;34m()\u001b[0m\n\u001b[0;32m----> 1\u001b[0m \u001b[38;5;28;01mfrom\u001b[39;00m \u001b[38;5;21;01mspacepy\u001b[39;00m \u001b[38;5;28;01mimport\u001b[39;00m pycdf\n",
      "File \u001b[0;32m~/anaconda3/lib/python3.9/site-packages/spacepy/pycdf/__init__.py:1339\u001b[0m, in \u001b[0;36m<module>\u001b[0;34m\u001b[0m\n\u001b[1;32m   1337\u001b[0m _libpath, _library \u001b[38;5;241m=\u001b[39m Library\u001b[38;5;241m.\u001b[39m_find_lib()\n\u001b[1;32m   1338\u001b[0m \u001b[38;5;28;01mif\u001b[39;00m _library \u001b[38;5;129;01mis\u001b[39;00m \u001b[38;5;28;01mNone\u001b[39;00m:\n\u001b[0;32m-> 1339\u001b[0m     \u001b[38;5;28;01mraise\u001b[39;00m \u001b[38;5;167;01mException\u001b[39;00m((\u001b[38;5;124m'\u001b[39m\u001b[38;5;124mCannot load CDF C library; checked \u001b[39m\u001b[38;5;132;01m{0}\u001b[39;00m\u001b[38;5;124m. \u001b[39m\u001b[38;5;124m'\u001b[39m\n\u001b[1;32m   1340\u001b[0m                      \u001b[38;5;124m'\u001b[39m\u001b[38;5;124mTry \u001b[39m\u001b[38;5;130;01m\\'\u001b[39;00m\u001b[38;5;124mos.environ[\u001b[39m\u001b[38;5;124m\"\u001b[39m\u001b[38;5;124mCDF_LIB\u001b[39m\u001b[38;5;124m\"\u001b[39m\u001b[38;5;124m] = library_directory\u001b[39m\u001b[38;5;130;01m\\'\u001b[39;00m\u001b[38;5;124m \u001b[39m\u001b[38;5;124m'\u001b[39m\n\u001b[1;32m   1341\u001b[0m                      \u001b[38;5;124m'\u001b[39m\u001b[38;5;124mbefore import.\u001b[39m\u001b[38;5;124m'\u001b[39m)\u001b[38;5;241m.\u001b[39mformat(\u001b[38;5;124m'\u001b[39m\u001b[38;5;124m, \u001b[39m\u001b[38;5;124m'\u001b[39m\u001b[38;5;241m.\u001b[39mjoin(_libpath)))\n\u001b[1;32m   1342\u001b[0m \u001b[38;5;28;01mfrom\u001b[39;00m \u001b[38;5;21;01m.\u001b[39;00m \u001b[38;5;28;01mimport\u001b[39;00m const\n\u001b[1;32m   1343\u001b[0m lib \u001b[38;5;241m=\u001b[39m Library(_libpath, _library)\n",
      "\u001b[0;31mException\u001b[0m: Cannot load CDF C library; checked . Try 'os.environ[\"CDF_LIB\"] = library_directory' before import."
     ]
    }
   ],
   "source": [
    "from spacepy import pycdf"
   ]
  }
 ],
 "metadata": {
  "kernelspec": {
   "display_name": "base",
   "language": "python",
   "name": "base"
  },
  "language_info": {
   "codemirror_mode": {
    "name": "ipython",
    "version": 3
   },
   "file_extension": ".py",
   "mimetype": "text/x-python",
   "name": "python",
   "nbconvert_exporter": "python",
   "pygments_lexer": "ipython3",
   "version": "3.9.7"
  }
 },
 "nbformat": 4,
 "nbformat_minor": 5
}
