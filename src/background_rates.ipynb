{
 "cells": [
  {
   "cell_type": "code",
   "execution_count": 31,
   "id": "17908f28-d0f6-403c-baf9-1d11a96b6422",
   "metadata": {},
   "outputs": [
    {
     "name": "stdout",
     "output_type": "stream",
     "text": [
      "\n",
      "All MAC paths are set!\n",
      "\n",
      "All MAC paths are set!\n",
      "read_matlab_file.ipynb loaded successfully!\n",
      "\n",
      "All MAC paths are set!\n",
      "read_matlab_file.ipynb loaded successfully!\n",
      "convert_erg.ipynb loaded successfully!\n",
      "\n",
      "All MAC paths are set!\n",
      "read_matlab_file.ipynb loaded successfully!\n",
      "\n",
      "All MAC paths are set!\n",
      "read_matlab_file.ipynb loaded successfully!\n",
      "convert_erg.ipynb loaded successfully!\n",
      "safety_time.ipynb loaded successfully!\n"
     ]
    }
   ],
   "source": [
    "import os\n",
    "import numpy as np\n",
    "from datetime import datetime\n",
    "path = os.getcwd()\n",
    "if path[1:5] == \"Home\":\n",
    "    %run /Home/siv30/wad005/master/GRB/src/harvest_matlab_data.ipynb\n",
    "    %run /Home/siv30/wad005/master/GRB/src/convert_erg.ipynb\n",
    "    %run /Home/siv30/wad005/master/GRB/src/safety_time.ipynb\n",
    "else:\n",
    "    %run /Users/andreas/phys/master/GRB/src/harvest_matlab_data.ipynb\n",
    "    %run /Users/andreas/phys/master/GRB/src/convert_erg.ipynb\n",
    "    %run /Users/andreas/phys/master/GRB/src/safety_time.ipynb"
   ]
  },
  {
   "cell_type": "code",
   "execution_count": 59,
   "id": "8f4e2141-0392-4ef9-b5d1-9e82b4925c28",
   "metadata": {},
   "outputs": [],
   "source": [
    "def get_count_rate(fn=None, T0=None, bkg_end= -2.0):\n",
    "    '''\n",
    "    fn <str> name of *.mat\n",
    "    T0 <str> trigger time in iso format \n",
    "    bkg_end <float> where bkg spectrum end in [s] assuming the bkg is before burst\n",
    "    '''\n",
    "    \n",
    "    T0 = datetime.fromisoformat(T0)\n",
    "    print(T0)\n",
    "    print('bkg ends at: ',bkg_end, 's')\n",
    "    df = harvest_data(fn=fn,T0=T0.isoformat())\n",
    "    i_bkg_end = find_nearest(df['tus'].to_numpy(),bkg_end)\n",
    "    df_bkg = df.truncate(after=i_bkg_end-1)\n",
    "\n",
    "    tus,erg,dau,det = df_bkg['tus'].to_numpy(),df_bkg['erg'].to_numpy(),df_bkg['dau'].to_numpy(),df_bkg['det'].to_numpy()\n",
    "    keV,abc = convert_erg(erg,dau,det,T0)\n",
    "    df_bkg['keV'] = keV\n",
    "    df_bkg = df_bkg.sort_values(by=['adr','tus'],ignore_index=True)\n",
    "    df_bkg['tus'] = df_bkg['tus']*1e6\n",
    "\n",
    "    st,dt = get_st(df_bkg),get_dt(df_bkg)\n",
    "    df_bkg['st']=st\n",
    "    df_bkg['dt']=dt\n",
    "\n",
    "    flag = get_flag(df_bkg)\n",
    "    df_bkg['flag']=flag\n",
    "    print('safety time: ',np.round((len(np.where(flag==True)[0])/len(flag))*100,3), '% removed')\n",
    "    df_bkg.drop(labels=np.where(flag==True)[0],inplace=True)\n",
    "    df_bkg = df_bkg.sort_values(by='tus')\n",
    "\n",
    "    tus = df_bkg['tus'].to_numpy(dtype=np.float64)\n",
    "    exposure = (tus[-1]-tus[0])/1e6 #seconds\n",
    "    count_rate =len(tus)/exposure\n",
    "    print('background count rate: ',np.round(count_rate,3), ' counts/s')\n",
    "    return count_rate"
   ]
  },
  {
   "cell_type": "code",
   "execution_count": null,
   "id": "5da0d4e2-1420-4208-a930-bde63e8fd9b8",
   "metadata": {},
   "outputs": [],
   "source": []
  },
  {
   "cell_type": "code",
   "execution_count": 60,
   "id": "04dd2442-0391-4bba-a88d-19afc8551666",
   "metadata": {},
   "outputs": [
    {
     "name": "stdout",
     "output_type": "stream",
     "text": [
      "2019-03-05 13:05:19.816000\n",
      "bkg ends at:  -2.0 s\n",
      "dau/det starting from index 1\n",
      "tus array given in seconds\n",
      "df sorted by tus\n",
      "safety time:  0.154 % removed\n",
      "background count rate:  4194.389  counts/s\n"
     ]
    }
   ],
   "source": [
    "cr = get_count_rate(fn='2019_3_5_13_3_48',T0='2019-03-05T13:05:19.816')"
   ]
  }
 ],
 "metadata": {
  "kernelspec": {
   "display_name": "base",
   "language": "python",
   "name": "base"
  },
  "language_info": {
   "codemirror_mode": {
    "name": "ipython",
    "version": 3
   },
   "file_extension": ".py",
   "mimetype": "text/x-python",
   "name": "python",
   "nbconvert_exporter": "python",
   "pygments_lexer": "ipython3",
   "version": "3.9.13"
  }
 },
 "nbformat": 4,
 "nbformat_minor": 5
}
