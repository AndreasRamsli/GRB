{
 "cells": [
  {
   "cell_type": "code",
   "execution_count": null,
   "id": "9bec9d96-b5e5-4f6c-af52-71bff7b368ba",
   "metadata": {},
   "outputs": [],
   "source": [
    "import apexpy as ap\n",
    "import datetime\n",
    "\n",
    "Lat = 48.665\n",
    "Lon = -104.735\n",
    "Height = 400 # altitude in km\n",
    "print(Lat,Lon)\n",
    "my_dt = datetime.datetime(2021, 3, 19, 3, 54, 22)\n",
    "A = ap.Apex(date=my_dt)\n",
    "# geo to apex, scalar input\n",
    "mlat, mlon = A.convert(Lat, Lon, 'geo', 'apex', height=Height)\n",
    "print(mlat,mlon)\n",
    "# geo to MLT\n",
    "mlat, mlt = A.convert(Lat, Lon, 'geo', 'mlt', datetime=my_dt, height=Height)\n",
    "print(mlat,mlt)\n",
    "\n",
    "# test run\n",
    "# 48.665 -104.735\n",
    "# 57.76136016845703 -38.177406311035156\n",
    "# 57.76136016845703 20.371661885579428\n"
   ]
  }
 ],
 "metadata": {
  "kernelspec": {
   "display_name": "base",
   "language": "python",
   "name": "base"
  },
  "language_info": {
   "codemirror_mode": {
    "name": "ipython",
    "version": 3
   },
   "file_extension": ".py",
   "mimetype": "text/x-python",
   "name": "python",
   "nbconvert_exporter": "python",
   "pygments_lexer": "ipython3",
   "version": "3.9.7"
  }
 },
 "nbformat": 4,
 "nbformat_minor": 5
}
