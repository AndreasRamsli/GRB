{
 "cells": [
  {
   "cell_type": "code",
   "execution_count": 30,
   "id": "fe18f381-ed1e-4b43-b75b-fad17dc1ecc8",
   "metadata": {},
   "outputs": [],
   "source": [
    "import apexpy as ap\n",
    "from datetime import datetime\n",
    "import numpy as np"
   ]
  },
  {
   "cell_type": "code",
   "execution_count": 37,
   "id": "1ed9ca30-4e07-4621-925e-ca45d4ab9546",
   "metadata": {},
   "outputs": [],
   "source": [
    "#create dictionary for the GRB's containing lon,lat,height and T0\n",
    "#from dict, convert from geo to apex, then geo to mlat,mlt (magnetic latitude -and longitude)\n",
    "\n",
    "d = {'GRB180720':[19.646,105.226,403.5,'2018-07-20T14:21:47.389'],\n",
    "     'GRB181222':[-34.591,-7.559,413.69,'2018-12-22T20:11:36.576'],\n",
    "     'GRB190206':[35.715,149.173,407.58,'2019-02-06T03:49:28.525'],\n",
    "     'GRB190305':[-51.772,84.887,429.04,'2019-03-05T13:05:19.816'],\n",
    "     'GRB190606':[-22.314,2.778,424.53,'2019-06-06T01:55:07.318'],\n",
    "     'GRB200415':[37.812,136.225,420.88,'2020-04-15T08:48:05.528'],\n",
    "     'GRB200521':[-49.539,-25.451,435.36,'2020-05-21T12:16:39.818'],\n",
    "     'GRB200716':[-39.436,-88.367,431.88,'2020-07-16T22:57:40.634'],\n",
    "     'GRB201227':[-42.943,114.359,433.84,'2020-12-27T15:14:06.853'],\n",
    "     'GRB210424':[-21.355,144.45,424.88,'2021-04-24T08:01:54.997'],\n",
    "     'GRB210619':[-33.466,59.682,432.16,'2021-06-19T23:59:24.915'],\n",
    "     'GRB211211':[-38.614,141.956,430.77,'2021-12-11T13:10:01.323']\n",
    "}"
   ]
  },
  {
   "cell_type": "code",
   "execution_count": 27,
   "id": "e4b82750-478e-4dea-8dd6-33e77a757367",
   "metadata": {},
   "outputs": [],
   "source": [
    "def get_mlat(l):\n",
    "    lat,lon,height,T0 = l[0],l[1],l[2],datetime.fromisoformat(l[3])\n",
    "    print(T0)\n",
    "    A = ap.Apex(date=T0)\n",
    "    mlat, mlon = A.convert(lat, lon, 'geo', 'apex', height=height)\n",
    "    # geo to MLT\n",
    "    #print(mlat,mlon)\n",
    "    mlat, mlt = A.convert(lat, lon, 'geo', 'mlt', datetime=T0, height=height)\n",
    "    print(np.round(mlat,3))\n",
    "    "
   ]
  },
  {
   "cell_type": "code",
   "execution_count": 33,
   "id": "778d8452-3a94-4920-821f-d683df8037b7",
   "metadata": {},
   "outputs": [
    {
     "name": "stdout",
     "output_type": "stream",
     "text": [
      "2019-03-05 13:05:19.816000\n",
      "-63.788\n"
     ]
    }
   ],
   "source": [
    "get_mlat(d['GRB190305'])"
   ]
  },
  {
   "cell_type": "code",
   "execution_count": 35,
   "id": "af46193a-94cd-4f6a-8c3c-eda636293b43",
   "metadata": {},
   "outputs": [
    {
     "name": "stdout",
     "output_type": "stream",
     "text": [
      "2018-07-20 14:21:47.389000\n",
      "19.443\n",
      "2018-12-22 20:11:36.576000\n",
      "-41.875\n",
      "2019-02-06 03:49:28.525000\n",
      "31.676\n",
      "2019-03-05 13:05:19.816000\n",
      "-63.788\n",
      "2019-06-06 01:55:07.318000\n",
      "-35.235\n",
      "2020-04-15 08:48:05.528000\n",
      "34.031\n",
      "2020-05-21 12:16:39.818000\n",
      "-46.804\n",
      "2020-07-16 22:57:40.634000\n",
      "-30.786\n",
      "2020-12-27 15:14:06.853000\n",
      "-56.683\n",
      "2021-04-24 08:01:54.997000\n",
      "-33.377\n",
      "2021-06-19 23:59:24.915000\n",
      "-44.348\n",
      "2021-12-11 13:10:01.323000\n",
      "-50.786\n"
     ]
    }
   ],
   "source": [
    "for key,value in d.items():\n",
    "    get_mlat(value)"
   ]
  }
 ],
 "metadata": {
  "kernelspec": {
   "display_name": "base",
   "language": "python",
   "name": "base"
  },
  "language_info": {
   "codemirror_mode": {
    "name": "ipython",
    "version": 3
   },
   "file_extension": ".py",
   "mimetype": "text/x-python",
   "name": "python",
   "nbconvert_exporter": "python",
   "pygments_lexer": "ipython3",
   "version": "3.9.7"
  }
 },
 "nbformat": 4,
 "nbformat_minor": 5
}
