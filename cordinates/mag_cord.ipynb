{
 "cells": [
  {
   "cell_type": "code",
   "execution_count": 5,
   "id": "fe18f381-ed1e-4b43-b75b-fad17dc1ecc8",
   "metadata": {},
   "outputs": [],
   "source": [
    "import apexpy as ap\n",
    "from datetime import datetime,timedelta\n",
    "import numpy as np"
   ]
  },
  {
   "cell_type": "code",
   "execution_count": 7,
   "id": "1ed9ca30-4e07-4621-925e-ca45d4ab9546",
   "metadata": {},
   "outputs": [],
   "source": [
    "#create dictionary for the GRB's containing lon,lat,height and T0\n",
    "#from dict, convert from geo to apex, then geo to mlat,mlt (magnetic latitude -and longitude)\n",
    "\n",
    "\n",
    "#entries in d--> 0:lat, 1:lon, 2:height,3:T0, 4:[tshift bkg starts]\n",
    "#only a handful of burst I have extracted data from\n",
    "d = {#'GRB180720':[19.646,105.226,403.5,'2018-07-20T14:21:47.389'],[],\n",
    "     'GRB181222':[-26.731,-16.339,410.16,'2018-12-22T20:11:36.576',[-175]],\n",
    "     'GRB190206':[40.886,157.113,409.05,'2019-02-06T03:49:28.525',[130]],\n",
    "     'GRB190305':[-48.956,58.298,427.95,'2019-03-05T13:05:19.816',[-276.695]],\n",
    "     'GRB190606':[-22.218,2.693,424.5,'2019-06-06T01:55:06.950',[-1]],\n",
    "     #'GRB200415':[37.812,136.225,420.88,'2020-04-15T08:48:05.528',[]],\n",
    "     'GRB200521':[-47.147,-34.313,434.51,'2020-05-21T12:16:39.818',[-103.675]],\n",
    "     'GRB200716':[-40.8,-90.667,432.46,'2020-07-16T22:57:40.634',[-35.798]],\n",
    "     'GRB201227':[-49.059,97.247,436.17,'2020-12-27T15:14:06.853',[-216.22]],\n",
    "     #'GRB210424':[-21.355,144.45,424.88,'2021-04-24T08:01:54.997',[]],\n",
    "     #'GRB210619':[-33.466,59.682,432.16,'2021-06-19T23:59:24.915',[]],\n",
    "     'GRB211211':[-39.278,143.0,430.99,'2021-12-11T13:10:01.323',[17]]\n",
    "}\n",
    "#have to shift almost every T0 by tshift. Bkg is happening before or after T0"
   ]
  },
  {
   "cell_type": "code",
   "execution_count": 3,
   "id": "e4b82750-478e-4dea-8dd6-33e77a757367",
   "metadata": {},
   "outputs": [],
   "source": [
    "def get_mlat(l):\n",
    "    lat,lon,height,T0 = l[0],l[1],l[2],datetime.fromisoformat(l[3])\n",
    "    tshift = l[4]\n",
    "    print('T0: ',T0)\n",
    "    for s in tshift:\n",
    "        A = ap.Apex(date=T0+timedelta(seconds=s))\n",
    "        #mlat, mlon = A.convert(lat, lon, 'geo', 'apex', height=height)\n",
    "        # geo to MLT\n",
    "        print('shifted T0 (bkg): ',T0+timedelta(seconds=s))\n",
    "        mlat, mlt = A.convert(lat, lon, 'geo', 'mlt', datetime=T0+timedelta(seconds=s), height=height)\n",
    "        print(f'mag lat for tshift --> bkg_time: {np.round(s,2)} [s],  mlat: ',np.round(mlat,3))\n"
   ]
  },
  {
   "cell_type": "code",
   "execution_count": 8,
   "id": "778d8452-3a94-4920-821f-d683df8037b7",
   "metadata": {},
   "outputs": [
    {
     "name": "stdout",
     "output_type": "stream",
     "text": [
      "T0:  2019-03-05 13:05:19.816000\n",
      "shifted T0 (bkg):  2019-03-05 13:00:43.121000\n",
      "mag lat for tshift --> bkg_time: -276.7 [s],  mlat:  -57.266\n"
     ]
    }
   ],
   "source": [
    "get_mlat(d['GRB190305'])"
   ]
  },
  {
   "cell_type": "markdown",
   "id": "88a77e42-bba0-494f-90ab-f038fac75c4a",
   "metadata": {},
   "source": [
    "for key,value in d.items():\n",
    "    get_mlat(value)"
   ]
  }
 ],
 "metadata": {
  "kernelspec": {
   "display_name": "base",
   "language": "python",
   "name": "base"
  },
  "language_info": {
   "codemirror_mode": {
    "name": "ipython",
    "version": 3
   },
   "file_extension": ".py",
   "mimetype": "text/x-python",
   "name": "python",
   "nbconvert_exporter": "python",
   "pygments_lexer": "ipython3",
   "version": "3.9.7"
  }
 },
 "nbformat": 4,
 "nbformat_minor": 5
}
