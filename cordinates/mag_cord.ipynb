{
 "cells": [
  {
   "cell_type": "code",
   "execution_count": 1,
   "id": "fe18f381-ed1e-4b43-b75b-fad17dc1ecc8",
   "metadata": {},
   "outputs": [],
   "source": [
    "import apexpy as ap\n",
    "from datetime import datetime,timedelta\n",
    "import numpy as np"
   ]
  },
  {
   "cell_type": "code",
   "execution_count": 37,
   "id": "1ed9ca30-4e07-4621-925e-ca45d4ab9546",
   "metadata": {},
   "outputs": [],
   "source": [
    "#create dictionary for the GRB's containing lon,lat,height and T0\n",
    "#from dict, convert from geo to apex, then geo to mlat,mlt (magnetic latitude -and longitude)\n",
    "\n",
    "\n",
    "#entries in d--> 0:lat, 1:lon, 2:height,3:T0, 4:[tshift bkg starts]\n",
    "#only a handful of burst I have extracted data from\n",
    "d = {#'GRB180720':[19.646,105.226,403.5,'2018-07-20T14:21:47.389'],[],\n",
    "     #'GRB181222':[-34.591,-7.559,413.69,'2018-12-22T20:11:36.576'],[],\n",
    "     'GRB190206':[40.886,157.113,409.05,'2019-02-06T03:49:28.525',[130]],\n",
    "     'GRB190305':[-51.582,75.732,429.04,'2019-03-05T13:05:19.816',[-92]],\n",
    "     'GRB190606':[-22.218,2.693,424.5,'2019-06-06T01:55:06.950',[-1]],\n",
    "     #'GRB200415':[37.812,136.225,420.88,'2020-04-15T08:48:05.528',[]],\n",
    "     'GRB200521':[-47.147,-34.313,434.51,'2020-05-21T12:16:39.818',[-103.675]],\n",
    "     #'GRB200716':[-39.436,-88.367,431.88,'2020-07-16T22:57:40.634',[]],\n",
    "     'GRB201227':[-49.059,97.247,436.17,'2020-12-27T15:14:06.853',[-216.22]],\n",
    "     #'GRB210424':[-21.355,144.45,424.88,'2021-04-24T08:01:54.997',[]],\n",
    "     #'GRB210619':[-33.466,59.682,432.16,'2021-06-19T23:59:24.915',[]],\n",
    "     'GRB211211':[-41.604,147.01,431.77,'2021-12-11T13:10:01.323',[79.67]]\n",
    "}\n",
    "#have to shift almost every T0 by tshift. Bkg is happening before or after T0"
   ]
  },
  {
   "cell_type": "code",
   "execution_count": 30,
   "id": "e4b82750-478e-4dea-8dd6-33e77a757367",
   "metadata": {},
   "outputs": [],
   "source": [
    "def get_mlat(l):\n",
    "    lat,lon,height,T0 = l[0],l[1],l[2],datetime.fromisoformat(l[3])\n",
    "    tshift = l[4]\n",
    "    print('OG T0: ',T0)\n",
    "    for s in tshift:\n",
    "        A = ap.Apex(date=T0+timedelta(seconds=s))\n",
    "        #mlat, mlon = A.convert(lat, lon, 'geo', 'apex', height=height)\n",
    "        # geo to MLT\n",
    "        print('shifted T0 (bkg): ',T0+timedelta(seconds=s))\n",
    "        mlat, mlt = A.convert(lat, lon, 'geo', 'mlt', datetime=T0+timedelta(seconds=s), height=height)\n",
    "        print(f'mag lat for tshift = {np.round(s,2)}',np.round(mlat,3))\n"
   ]
  },
  {
   "cell_type": "code",
   "execution_count": 38,
   "id": "778d8452-3a94-4920-821f-d683df8037b7",
   "metadata": {},
   "outputs": [
    {
     "name": "stdout",
     "output_type": "stream",
     "text": [
      "OG T0:  2020-05-21 12:16:39.818000\n",
      "shifted T0 (bkg):  2020-05-21 12:14:56.143000\n",
      "mag lat for tshift = -103.68 -43.394\n"
     ]
    }
   ],
   "source": [
    "get_mlat(d['GRB200521'])"
   ]
  },
  {
   "cell_type": "code",
   "execution_count": 7,
   "id": "af46193a-94cd-4f6a-8c3c-eda636293b43",
   "metadata": {},
   "outputs": [
    {
     "ename": "NameError",
     "evalue": "name 'datetime' is not defined",
     "output_type": "error",
     "traceback": [
      "\u001b[0;31m---------------------------------------------------------------------------\u001b[0m",
      "\u001b[0;31mNameError\u001b[0m                                 Traceback (most recent call last)",
      "Cell \u001b[0;32mIn [7], line 2\u001b[0m\n\u001b[1;32m      1\u001b[0m \u001b[38;5;28;01mfor\u001b[39;00m key,value \u001b[38;5;129;01min\u001b[39;00m d\u001b[38;5;241m.\u001b[39mitems():\n\u001b[0;32m----> 2\u001b[0m     get_mlat(value)\n",
      "Cell \u001b[0;32mIn [6], line 2\u001b[0m, in \u001b[0;36mget_mlat\u001b[0;34m(l)\u001b[0m\n\u001b[1;32m      1\u001b[0m \u001b[38;5;28;01mdef\u001b[39;00m \u001b[38;5;21mget_mlat\u001b[39m(l):\n\u001b[0;32m----> 2\u001b[0m     lat,lon,height,T0 \u001b[38;5;241m=\u001b[39m l[\u001b[38;5;241m0\u001b[39m],l[\u001b[38;5;241m1\u001b[39m],l[\u001b[38;5;241m2\u001b[39m],\u001b[43mdatetime\u001b[49m\u001b[38;5;241m.\u001b[39mfromisoformat(l[\u001b[38;5;241m3\u001b[39m])\n\u001b[1;32m      3\u001b[0m     tshift \u001b[38;5;241m=\u001b[39m l[\u001b[38;5;241m4\u001b[39m]\n\u001b[1;32m      4\u001b[0m     \u001b[38;5;28mprint\u001b[39m(T0)\n",
      "\u001b[0;31mNameError\u001b[0m: name 'datetime' is not defined"
     ]
    }
   ],
   "source": [
    "for key,value in d.items():\n",
    "    get_mlat(value)"
   ]
  }
 ],
 "metadata": {
  "kernelspec": {
   "display_name": "base",
   "language": "python",
   "name": "base"
  },
  "language_info": {
   "codemirror_mode": {
    "name": "ipython",
    "version": 3
   },
   "file_extension": ".py",
   "mimetype": "text/x-python",
   "name": "python",
   "nbconvert_exporter": "python",
   "pygments_lexer": "ipython3",
   "version": "3.9.7"
  }
 },
 "nbformat": 4,
 "nbformat_minor": 5
}
