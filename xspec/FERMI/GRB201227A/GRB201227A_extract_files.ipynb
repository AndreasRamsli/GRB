{
 "cells": [
  {
   "cell_type": "markdown",
   "id": "631cc92a-225b-49d4-82b2-c34cb8c39a41",
   "metadata": {},
   "source": [
    "# Imports"
   ]
  },
  {
   "cell_type": "code",
   "execution_count": 1,
   "id": "6dc4c668-176d-4a3a-9c9c-82acbd405af7",
   "metadata": {},
   "outputs": [
    {
     "name": "stdout",
     "output_type": "stream",
     "text": [
      "All MAC paths are set!\n",
      "All MAC paths are set!\n",
      "read_matlab_file.ipynb loaded successfully!\n",
      "All MAC paths are set!\n",
      "read_matlab_file.ipynb loaded successfully!\n",
      "All MAC paths are set!\n",
      "read_matlab_file.ipynb loaded successfully!\n",
      "convert_erg.ipynb loaded successfully!\n",
      "All MAC paths are set!\n",
      "read_matlab_file.ipynb loaded successfully!\n",
      "All MAC paths are set!\n",
      "read_matlab_file.ipynb loaded successfully!\n",
      "convert_erg.ipynb loaded successfully!\n",
      "safety_time.ipynb loaded successfully!\n",
      "LC_calibration loaded successfully!\n",
      "All MAC paths are set!\n",
      "All MAC paths are set!\n",
      "read_matlab_file.ipynb loaded successfully!\n"
     ]
    },
    {
     "name": "stderr",
     "output_type": "stream",
     "text": [
      "/Users/andreas/phys/master/FERMI/venv/lib/python3.7/site-packages/stingray/largememory.py:26: UserWarning: Large Datasets may not be processed efficiently due to computational constraints\n",
      "  \"Large Datasets may not be processed efficiently due to \"\n"
     ]
    },
    {
     "name": "stdout",
     "output_type": "stream",
     "text": [
      "FERMI functions loaded successfully!\n"
     ]
    },
    {
     "name": "stderr",
     "output_type": "stream",
     "text": [
      "/Users/andreas/phys/master/FERMI/venv/lib/python3.7/site-packages/gbm/plot/lal_post_subs.py:184: UserWarning: Basemap not installed. Some functionality not available.\n",
      "  warnings.warn('Basemap not installed. Some functionality not available.')\n"
     ]
    }
   ],
   "source": [
    "# MAC paths\n",
    "%run /Users/andreas/phys/master/GRB/src/paths/mac.ipynb\n",
    "%run /Users/andreas/phys/master/GRB/src/read_matlab_file.ipynb\n",
    "%run /Users/andreas/phys/master/GRB/src/LC_calibration.ipynb\n",
    "%run /Users/andreas/phys/master/GRB/xspec/FERMI/fermi_functions.ipynb"
   ]
  },
  {
   "cell_type": "markdown",
   "id": "75835b78-8f38-4b22-a58f-8c068a167f6c",
   "metadata": {},
   "source": [
    "# UiB paths\n",
    "%run /Home/siv30/wad005/master/GRB/src/paths/uib.ipynb\n",
    "%run /Home/siv30/wad005/master/GRB/src/read_matlab_file.ipynb\n",
    "%run /Home/siv30/wad005/master/GRB/src/LC_calibration.ipynb"
   ]
  },
  {
   "cell_type": "code",
   "execution_count": 2,
   "id": "cda6e550-7774-480c-adab-6acaebab187e",
   "metadata": {},
   "outputs": [],
   "source": [
    "import numpy as np\n",
    "import pandas as pd\n",
    "import matplotlib.pyplot as plt\n",
    "import os, re, sys\n",
    "\n",
    "from astropy.io import fits, ascii\n",
    "from astropy.time import Time\n",
    "from stingray import Lightcurve as LC\n",
    "from stingray import CrossCorrelation\n",
    "from dateutil import parser\n",
    "\n",
    "from gbm.data import TTE,RSP,Trigdat\n",
    "from gbm.binning.unbinned import bin_by_time\n",
    "from gbm.plot import Lightcurve, Spectrum\n",
    "from gbm.background import BackgroundFitter\n",
    "from gbm.background.binned import Polynomial #working in ctime for example\n",
    "from gbm.data.primitives import EventList\n",
    "#%matplotlib inline"
   ]
  },
  {
   "cell_type": "markdown",
   "id": "052ef692-9a26-42c0-8b23-1ce800077967",
   "metadata": {},
   "source": [
    "CSPEC: data with a course time resulution --- with a good spectral resolution \n",
    "\n",
    "CTIME: they have course spectral resulution (8 channels) but a hight time resolution"
   ]
  },
  {
   "cell_type": "markdown",
   "id": "12f11926-343c-49ce-b737-1c6130b7442e",
   "metadata": {},
   "source": [
    "# Notes on the GRB"
   ]
  },
  {
   "cell_type": "markdown",
   "id": "6b97914f-c36f-4687-ad8e-d43a4c33dd88",
   "metadata": {},
   "source": [
    "    GRB: Possible NS (magnetar) - BH merger\n",
    "    >> See paper: chrome-extension://efaidnbmnnnibpcajpcglclefindmkaj/https://arxiv.org/pdf/2205.05031.pdf\n",
    "    >> pre-cursor could be explained by the strong magnetic field creating a barrier and halting radius for accretion\n",
    "    \n",
    "    Angles: Which angles to use? From FERMI or SWIFT-XRT?\n",
    "    >> Angle seperation above 60 deg for both BGO detectors\n",
    "    \n",
    "    ToF: Missing ToF from KW to ASIM.\n",
    "    >> Ask Anastasia from this\n",
    "    \n",
    "    LC: Very long GRB that last for T0+80s.\n",
    "    >> Main event last for around T0+12.5s (in na2 detector)\n",
    "    \n",
    "    XSPEC: Uncertanty problem solved by grouping channels!\n",
    "    >> but still hard to produce a good fit\n",
    "    >> Aible to produce a good fit for the second (main) peak. 1.2 fit statistics\n",
    "    >> Trying now to fit the two main peaks.\n",
    "    \n",
    "    \n",
    "    >>In the circular the GBM team fitted this burst with a Band-function with E-peak on the interval: T0-1.264 s to T0+54.033"
   ]
  },
  {
   "cell_type": "markdown",
   "id": "5358cf1c-4fd7-43ed-81a5-03168fcf73ec",
   "metadata": {},
   "source": [
    "# TODO\n",
    "    -Cross corrolate FERMI/KW lc and bring FERMI lc into KW ref frame. (Had to read the stingray docs properly to understand that LC-input 1 is the interesting one and LC-input 2 is the referance. I actually had it the wrong way around. DONE\n",
    "        -KW lc have 2ms bin up to 0.512 s after T0\n",
    "        -Problem when creating the lightcurve object for KW --> KW are already binned! SOLVED\n",
    "    \n",
    "    -Change RA-DEC_OBJ parameters in the PHA file\n",
    "    \n",
    "    -Extract spectra from T0+0.0 to T0+0.064s in the KW ref frame"
   ]
  },
  {
   "cell_type": "markdown",
   "id": "a725c0c0-6ae5-43a4-9a8f-a8b71b5926f8",
   "metadata": {},
   "source": [
    "# Paths"
   ]
  },
  {
   "cell_type": "code",
   "execution_count": 3,
   "id": "c9ba1365-e545-4d0f-b5cd-4cf9252e4773",
   "metadata": {},
   "outputs": [
    {
     "name": "stdout",
     "output_type": "stream",
     "text": [
      "/Users/andreas/phys/master/FERMI/data//bn201227635/\n"
     ]
    }
   ],
   "source": [
    "GRB_id = \"GRB201227A\"\n",
    "bn='bn201227635' #what is this? GRB id for Fermi\n",
    "data_dir = path_FERMI_dir + \"/\" + bn +\"/\" #setting path to data dir\n",
    "unit='all' #which units to use. which filenames to open\n",
    "print(data_dir)"
   ]
  },
  {
   "cell_type": "markdown",
   "id": "44730674-5e0f-49c1-8bf6-042d551b821a",
   "metadata": {},
   "source": [
    "# Find the angle of the GRB wrt the GBM units"
   ]
  },
  {
   "cell_type": "code",
   "execution_count": 4,
   "id": "8b80b279-fe05-444a-9a8f-9e5169e205fa",
   "metadata": {},
   "outputs": [
    {
     "name": "stdout",
     "output_type": "stream",
     "text": [
      "glg_trigdat_all_bn201227635_v01.fit\n",
      "630774852.414564\n",
      "['n4', 'n8']\n"
     ]
    }
   ],
   "source": [
    "fn_trigdat = data_dir+'glg_trigdat_'+unit+'_'+bn+'_v01.fit' #check of its a different v01.fit\n",
    "trigdat = Trigdat.open(fn_trigdat)\n",
    "print(trigdat)\n",
    "print(trigdat.trigtime)\n",
    "\n",
    "# Once extracted, it has the full capabilities of the [```Ctime```](./PhaiiData.ipynb) class.  You can also retrieve the sum of the detectors:\n",
    "# the triggered detectors\n",
    "trig_dets = trigdat.triggered_detectors\n",
    "print(trig_dets)"
   ]
  },
  {
   "cell_type": "code",
   "execution_count": 5,
   "id": "87eb2b5f-7499-43a1-b173-6bf05f900c69",
   "metadata": {},
   "outputs": [],
   "source": [
    "grb_ra, grb_dec = 170.121,-73.613 #wrong ra,dec in pha file??  106.1833, -77.117"
   ]
  },
  {
   "cell_type": "code",
   "execution_count": 6,
   "id": "896ddd78-0d72-4bcc-bf24-f21098cd31d9",
   "metadata": {},
   "outputs": [
    {
     "name": "stdout",
     "output_type": "stream",
     "text": [
      "n4 45.002\n",
      "n8 67.702\n",
      "b0 72.906\n",
      "n5 75.347\n",
      "n3 91.187\n",
      "nb 104.305\n",
      "b1 107.094\n",
      "n7 107.96\n",
      "n2 113.344\n",
      "n6 124.796\n",
      "n1 132.295\n",
      "na 134.225\n",
      "n0 138.508\n",
      "n9 165.202\n"
     ]
    }
   ],
   "source": [
    "all_dets=np.array(['n0','n1','n2','n3','n4','n5','n6','n7','n8','n9','na','nb','b0','b1'])\n",
    "point_dets = np.zeros(shape=(all_dets.size,2))\n",
    "for i in range(all_dets.size):\n",
    "    point_dets[i,:] = trigdat.detector_pointing(all_dets[i], trigdat.trigtime)\n",
    "\n",
    "#Q: Finding out where each detector is pointing and storing in a 14x2 matrix?\n",
    "# ra, dec?\n",
    "\n",
    "# Calculate the angular separation for all detectors\n",
    "from astropy.coordinates.angle_utilities import angular_separation\n",
    "\n",
    "ang_sep = np.zeros(all_dets.size)\n",
    "for i in range(all_dets.size):\n",
    "    ang_sep[i] = np.rad2deg(angular_separation(np.deg2rad(point_dets[i,0]),np.deg2rad(point_dets[i,1]),np.deg2rad(grb_ra),np.deg2rad(grb_dec)))\n",
    "    \n",
    "#Q: finding anugalar seperation in degrees from where each detector is pointing and the location of the burst?\n",
    "#-->storting in ang_sep 14x1 matrix\n",
    "\n",
    "# Calculate the angular separation for all detectors\n",
    "from astropy.coordinates.angle_utilities import angular_separation\n",
    "\n",
    "ang_sep = np.zeros(all_dets.size)\n",
    "for i in range(all_dets.size):\n",
    "    ang_sep[i] = np.rad2deg(angular_separation(np.deg2rad(point_dets[i,0]),np.deg2rad(point_dets[i,1]),np.deg2rad(grb_ra),np.deg2rad(grb_dec)))\n",
    "    \n",
    "#Q: finding anugalar seperation in degrees from where each detector is pointing and the location of the burst?\n",
    "#-->storting in ang_sep 14x1 matrix\n",
    "\n",
    "# Print dets with increasing angular separation from the GRB position\n",
    "idx_sort_angsep = np.argsort(ang_sep) #sorting in increasing order\n",
    "for i in idx_sort_angsep:\n",
    "    print(all_dets[i],round(ang_sep[i],3))\n",
    "    \n",
    "#print(all_dets[idx_sort_angsep]) #sorting\n",
    "#print(ang_sep[idx_sort_angsep]) #sorting\n",
    "# Best illuminated units: n7, n6\n",
    "\n",
    "#The detectors nearest to the burst are listed first. If the degree is more than 60 deg, be careful to use the response function\n"
   ]
  },
  {
   "cell_type": "markdown",
   "id": "3071a9c8-721f-4c3f-b389-01ea1e273ad8",
   "metadata": {},
   "source": [
    "# Find temporal offset between GBM trigger time and others"
   ]
  },
  {
   "cell_type": "markdown",
   "id": "734d9c19-96ee-4415-a8e5-08566d00619e",
   "metadata": {},
   "source": [
    "from gbm.time import Met\n",
    "import datetime\n",
    "\n",
    "# Convert from MET to UTC\n",
    "t0METgbm = Met(trigdat.trigtime) #middle european time?\n",
    "print(t0METgbm)\n",
    "print(tshift)\n",
    "print(t0METgbm-tshift)\n",
    "\n",
    "\n",
    "ToF_Fermi_ASIM = -0.0008 #light travel time in seconds\n",
    "ToF_KW_ASIM = 0.7142 \n",
    "str_t0KW = '2020-12-27T15:14:06.705' #T0 for KW\n",
    "t0METKW = t0METgbm.from_iso(str_t0KW) #Converting T0 KW to T0 met\n",
    "\n",
    "#Q: Why are we adding both ToF? Double check this\n",
    "t0MET = t0METKW.add(ToF_KW_ASIM+ToF_Fermi_ASIM)  # To add seconds\n",
    "tshift = t0MET - t0METgbm\n",
    "print(tshift) #shift between KW trigger and GBM trigger is <4ms \n",
    "print(t0METgbm-tshift)\n"
   ]
  },
  {
   "cell_type": "markdown",
   "id": "d9e95060-1fad-4d0d-a4a8-28fb15ad6334",
   "metadata": {},
   "source": [
    "#  Extract data from selected unit(s)+"
   ]
  },
  {
   "cell_type": "code",
   "execution_count": 7,
   "id": "20cebcdb-8312-4ac9-9443-976164448a4c",
   "metadata": {},
   "outputs": [
    {
     "name": "stdout",
     "output_type": "stream",
     "text": [
      "b0\n"
     ]
    }
   ],
   "source": [
    "unit = all_dets[idx_sort_angsep][2] #for selecting the detector that are have the lowest incident angle to the GRB\n",
    "#unit = trig_dets[0] #unit of the first trigger detector. What unit is this?\n",
    "print(unit)\n",
    "\n",
    "# Read TTE of selected unit\n",
    "#Q: what is TTE? Time-Tagged Event. Assuming its that same as the tus array in ASIM data\n",
    "fn_tte = data_dir+'glg_tte_'+unit+'_'+bn+'_v00.fit'\n",
    "\n",
    "# Filename of RSP for the selected unit\n",
    "# Q: getting the filename for the response matirx? \n",
    "fn_rsp = data_dir+'glg_cspec_'+unit+'_'+bn+'_v03.rsp2' #make sure version is correct. (ls *.rsp2) use cspec because it have the same number of energy channels"
   ]
  },
  {
   "cell_type": "code",
   "execution_count": 8,
   "id": "d13f815b-85a2-4705-a29a-f8af9e51fb60",
   "metadata": {},
   "outputs": [],
   "source": [
    "# open a TTE file\n",
    "tte = TTE.open(fn_tte)\n",
    "# bin to 2.048 s resolution, reference time is trigger time (coarse resolution to accurately model the bkg)\n",
    "bint = 0.002 # 2ms binning\n",
    "#phaii = tte.to_phaii(bin_by_time, bint, time_ref=0.0)\n",
    "\n",
    "#bin_by_time is defined in imports. now have the spectra for each bin \n",
    "phaii = tte.to_phaii(bin_by_time, bint) #puls height amplitude of second type ii. i: sum along columns, ii: for all channels\n",
    "\n",
    "erange = (8, 1e3) #usually advised lower range. Standard passband\n",
    "lc_data = phaii.to_lightcurve(energy_range=erange) #lightcurve binned by the given bint?\n",
    "lcplot = Lightcurve(data=lc_data)\n",
    "lcplot.xlim = (-0.512,.512)"
   ]
  },
  {
   "cell_type": "markdown",
   "id": "5393747d-0006-48bf-92a9-ddaf9cf764ef",
   "metadata": {},
   "source": [
    "### Cross Corrolate KW and FERMI lc"
   ]
  },
  {
   "cell_type": "code",
   "execution_count": 9,
   "id": "a12d2125-ebcb-40a6-8a7e-99abf1329f5a",
   "metadata": {},
   "outputs": [
    {
     "name": "stdout",
     "output_type": "stream",
     "text": [
      "tlagg (s)  0.005  rounded to ms\n"
     ]
    }
   ],
   "source": [
    "tlagg = crossCorrolate(tus_F = tte.data.time, kw_filename=\"GRB201227A_2ms.txt\",binsize=0.002,detector_range=\"high\")\n",
    "#tshift (s)  first:-0.006, second:-0.007007,  last iteration: -0.005 (with G2 & G3 in KW data)"
   ]
  },
  {
   "cell_type": "code",
   "execution_count": 10,
   "id": "98145201-7979-487a-98fa-4ac80b759d2a",
   "metadata": {},
   "outputs": [
    {
     "data": {
      "text/plain": [
       "630774852.414564"
      ]
     },
     "execution_count": 10,
     "metadata": {},
     "output_type": "execute_result"
    }
   ],
   "source": [
    "tte.trigtime"
   ]
  },
  {
   "cell_type": "code",
   "execution_count": 11,
   "id": "8c29c7e1-689c-43b4-ab3c-c610bb6daea1",
   "metadata": {},
   "outputs": [],
   "source": [
    "shiftedTTE = shiftTTE(tte=tte.data.time,tlagg=tlagg)"
   ]
  },
  {
   "cell_type": "code",
   "execution_count": 12,
   "id": "c9bb6126-eff6-4a8b-9898-5a142a1ec50f",
   "metadata": {},
   "outputs": [],
   "source": [
    "newTTEObj = createNewTTE(oldTTEObj=tte,shiftedTTE=shiftedTTE,tlagg=tlagg,binsize=0.002,unit=unit,obj=GRB_id,grb_ra=grb_ra,grb_dec=grb_dec)"
   ]
  },
  {
   "cell_type": "code",
   "execution_count": 13,
   "id": "e921b6c6-59ca-470a-b80e-51e40cd0bfd7",
   "metadata": {},
   "outputs": [],
   "source": [
    "phaii = newTTEObj.to_phaii(bin_by_time,dt=0.002)"
   ]
  },
  {
   "cell_type": "code",
   "execution_count": 14,
   "id": "3960e955-f79e-4fa6-9c60-a618ff03c58d",
   "metadata": {},
   "outputs": [
    {
     "data": {
      "image/png": "[encoded data removed]",
      "text/plain": [
       "<Figure size 770x470 with 1 Axes>"
      ]
     },
     "metadata": {},
     "output_type": "display_data"
    },
    {
     "data": {
      "image/png": "[encoded data removed]",
      "text/plain": [
       "<Figure size 770x470 with 1 Axes>"
      ]
     },
     "metadata": {},
     "output_type": "display_data"
    }
   ],
   "source": [
    "lc_data= phaii.to_lightcurve(time_range=(-0.05,0.1),energy_range=(150,1360))\n",
    "lcplot = Lightcurve(data=lc_data)"
   ]
  },
  {
   "cell_type": "code",
   "execution_count": 15,
   "id": "4abdafcc-613e-4405-b3f0-36ca37a944ec",
   "metadata": {},
   "outputs": [
    {
     "data": {
      "text/plain": [
       "array([-137.22289193, -137.22193003, -137.22132004, ...,  477.18703603,\n",
       "        477.18709206,  477.18769001])"
      ]
     },
     "execution_count": 15,
     "metadata": {},
     "output_type": "execute_result"
    }
   ],
   "source": [
    "newTTEObj.data.time"
   ]
  },
  {
   "cell_type": "code",
   "execution_count": 19,
   "id": "f78b2d9f-bf03-4d38-97d6-04425e7ca854",
   "metadata": {},
   "outputs": [
    {
     "data": {
      "image/png": "[encoded data removed]",
      "text/plain": [
       "<Figure size 770x470 with 1 Axes>"
      ]
     },
     "metadata": {},
     "output_type": "display_data"
    }
   ],
   "source": [
    "phaii_old = tte.to_phaii(bin_by_time,dt=0.002)\n",
    "lc_data_old= phaii_old.to_lightcurve(time_range=(-0.2,0.3),energy_range=(150,1360))\n",
    "lcplot = Lightcurve(data=lc_data_old)"
   ]
  },
  {
   "cell_type": "code",
   "execution_count": 23,
   "id": "24bd3f60-2299-43ba-b34c-cce6ee23657f",
   "metadata": {},
   "outputs": [
    {
     "data": {
      "text/plain": [
       "array([ 1.,  4.,  3.,  1.,  4.,  2.,  3.,  1.,  3.,  5.,  2.,  3.,  3.,\n",
       "        0.,  2.,  2.,  2.,  0.,  2.,  2.,  4.,  4.,  0.,  2.,  2.,  1.,\n",
       "        1.,  3.,  2.,  2.,  5.,  2.,  4.,  2.,  3.,  6.,  4.,  2.,  2.,\n",
       "        2.,  1.,  2.,  3.,  3.,  5.,  0.,  3.,  1.,  1.,  2.,  3.,  1.,\n",
       "        1.,  2.,  2.,  4.,  8.,  3.,  4.,  2.,  3.,  2.,  0.,  1.,  2.,\n",
       "        1.,  0.,  5.,  3.,  3.,  1.,  3.,  4.,  5.,  1.,  2.,  1.,  4.,\n",
       "        6.,  3.,  7.,  1.,  1.,  4.,  1.,  2.,  2.,  3.,  4.,  4.,  5.,\n",
       "        2.,  4.,  2.,  2.,  3.,  5.,  9., 12., 16., 31., 30., 51., 42.,\n",
       "       48., 24., 27., 36., 44., 34., 52., 37., 33., 44., 43., 39., 34.,\n",
       "       37., 32., 25., 22., 19., 14., 13., 12., 18., 11.,  8.,  8.,  8.,\n",
       "        6.,  8.,  2.,  2.,  3.,  3.,  2.,  4.,  1.,  3.,  2.,  1.,  1.,\n",
       "        2.,  0.,  5.,  4.,  0.,  2.,  0.,  1.,  1.,  3.,  2.,  2.,  1.,\n",
       "        5.,  0.,  2.,  1.,  1.,  1.,  2.,  3.,  3.,  0.,  6.,  1.,  4.,\n",
       "        2.,  3.,  1.,  4.,  5.,  2.,  0.,  1.,  2.,  4.,  3.,  3.,  1.,\n",
       "        4.,  3.,  2.,  1.,  2.,  3.,  1.,  3.,  4.,  5.,  2.,  2.,  1.,\n",
       "        1.,  1.,  4.,  0.,  0.,  1.,  2.,  2.,  6.,  2.,  3.,  4.,  3.,\n",
       "        2.,  2.,  3.,  4.,  0.,  1.,  2.,  3.,  6.,  3.,  2.,  3.,  0.,\n",
       "        5.,  5.,  1.,  0.,  1.,  2.,  4.,  3.,  0.,  3.,  2.,  2.,  1.,\n",
       "        2.,  0.,  2.,  1.,  2.,  1.,  3.,  2.,  4.,  3.,  5.,  2.,  2.,\n",
       "        2.,  1.,  1.,  3.])"
      ]
     },
     "execution_count": 23,
     "metadata": {},
     "output_type": "execute_result"
    }
   ],
   "source": [
    "lc_data_old"
   ]
  },
  {
   "cell_type": "code",
   "execution_count": 18,
   "id": "5a2bddc2-760d-4d44-a1af-c7f5add51bc5",
   "metadata": {},
   "outputs": [
    {
     "ename": "NameError",
     "evalue": "name 'asdfa' is not defined",
     "output_type": "error",
     "traceback": [
      "\u001b[0;31m---------------------------------------------------------------------------\u001b[0m",
      "\u001b[0;31mNameError\u001b[0m                                 Traceback (most recent call last)",
      "\u001b[0;32m/var/folders/q_/b8y8kqjd57q3wqvw3vyz1mrw0000gn/T/ipykernel_45477/1248218275.py\u001b[0m in \u001b[0;36m<module>\u001b[0;34m\u001b[0m\n\u001b[0;32m----> 1\u001b[0;31m \u001b[0masdfa\u001b[0m\u001b[0;34m\u001b[0m\u001b[0m\n\u001b[0m",
      "\u001b[0;31mNameError\u001b[0m: name 'asdfa' is not defined"
     ]
    }
   ],
   "source": [
    "asdfa"
   ]
  },
  {
   "cell_type": "code",
   "execution_count": null,
   "id": "716a1862-7182-40a4-b67e-3f2776707fba",
   "metadata": {},
   "outputs": [],
   "source": [
    "# TODO\n",
    "\n",
    "#Have created a phaii file now (Time/Energy) file\n",
    "#next:  Pass in more information into the phaii file xDONE\n",
    "        #-can use the same script from now on the get the pha/bak/rsp files.\n",
    "#Q: Do one have to change the rsp file since we changed the tte? Dont think so. Could have a look at the rsp file"
   ]
  },
  {
   "cell_type": "code",
   "execution_count": null,
   "id": "9eacb36b-0748-4722-b276-74c0cfd2b5da",
   "metadata": {},
   "outputs": [],
   "source": [
    "phaii.trigtime"
   ]
  },
  {
   "cell_type": "code",
   "execution_count": null,
   "id": "07a5f972-b489-4afe-a03c-d7323183e30c",
   "metadata": {},
   "outputs": [],
   "source": [
    "#calculate what the trigtime is in MET for FERMI in the KW ref frame based on the CC tshift"
   ]
  },
  {
   "cell_type": "code",
   "execution_count": null,
   "id": "34550b79-c608-42bd-ac7a-4d1add3af9ab",
   "metadata": {},
   "outputs": [],
   "source": [
    "phaii = tte.to_phaii(bin_by_time,0.002)"
   ]
  },
  {
   "cell_type": "code",
   "execution_count": null,
   "id": "7efbed12-ec7f-4756-a8a7-dbd59e651590",
   "metadata": {},
   "outputs": [],
   "source": [
    "erange=(150,4e4)"
   ]
  },
  {
   "cell_type": "code",
   "execution_count": null,
   "id": "f0a1ef6b-98a0-4399-9ae7-4d4c1a8c29d3",
   "metadata": {},
   "outputs": [],
   "source": [
    "# Fit background\n",
    "bkgd_times = [(-100, -25), (50,100)] # where to extract the background\n",
    "backfitter = BackgroundFitter.from_phaii(phaii, Polynomial, time_ranges=bkgd_times)\n",
    "backfitter.fit(order=2) #increase order to 2 when you have a large interval "
   ]
  },
  {
   "cell_type": "code",
   "execution_count": null,
   "id": "37234af1-6da8-487e-8947-41953291111b",
   "metadata": {},
   "outputs": [],
   "source": [
    "bkgd = backfitter.interpolate_bins(phaii.data.tstart, phaii.data.tstop)\n",
    "#type(bkgd)\n",
    "lc_bkgd = bkgd.integrate_energy(*erange)\n",
    "lcplot = Lightcurve(data=lc_data, background=lc_bkgd)\n",
    "# zoom in to 5 seconds before to 20 s after the trigger time\n",
    "view_range = (-0.05,0.05)\n",
    "lcplot.xlim = view_range"
   ]
  },
  {
   "cell_type": "code",
   "execution_count": null,
   "id": "f475db57-aed6-4866-847d-b44643bb7bf2",
   "metadata": {},
   "outputs": [],
   "source": [
    "# Ok, the fit is done, but how do we know if it is a good fit?  You can return the fit statistic and degrees-of-freedom (DoF) for each energy channel fit, and try to figure out if it's a good fit based on that (Note: not always the best way to go).\n",
    "backfitter.statistic/backfitter.dof"
   ]
  },
  {
   "cell_type": "code",
   "execution_count": null,
   "id": "a2bc516d-0b10-43e2-8671-9f8779fe0cb8",
   "metadata": {},
   "outputs": [],
   "source": [
    "# Define normalised residuals and test their compatibility with a standardized normal distribution\n",
    "isel = np.where( ((lc_data.centroids>bkgd_times[0][0]) & (lc_data.centroids<bkgd_times[0][1])) | ((lc_data.centroids>bkgd_times[1][0]) & (lc_data.centroids<bkgd_times[1][1])) )[0]\n",
    "isel_bkg = np.where( ((lc_bkgd.time_centroids>bkgd_times[0][0]) & (lc_bkgd.time_centroids<bkgd_times[0][1])) | ((lc_bkgd.time_centroids>bkgd_times[1][0]) & (lc_bkgd.time_centroids<bkgd_times[1][1])) )[0]"
   ]
  },
  {
   "cell_type": "code",
   "execution_count": null,
   "id": "6bdb3a0f-0f75-4bc5-9aa1-8694cb3d4bf3",
   "metadata": {},
   "outputs": [],
   "source": [
    "if np.all(isel == isel_bkg):\n",
    "    norm_res = (lc_data.counts[isel]-lc_bkgd.counts[isel_bkg])/np.sqrt(lc_bkgd.counts[isel_bkg])\n",
    "    print(\"Normalised residuals: mean= {:.3g}  std= {:.3g}\".format(norm_res.mean(),norm_res.std()))\n",
    "   # QQ plot to test normality\n",
    "    import pylab \n",
    "    import scipy.stats as stats\n",
    "    plt.cla()\n",
    "    stats.probplot(norm_res, dist=\"norm\",plot=pylab)\n",
    "    from scipy.stats import normaltest\n",
    "    print(normaltest(norm_res))\n",
    "\n",
    "#mu=0 std= 1 good, make sure the red line is not far frow the blue scatter plots"
   ]
  },
  {
   "cell_type": "code",
   "execution_count": null,
   "id": "0dab4b9d-09b4-4df8-9f88-086a2f9fb495",
   "metadata": {},
   "outputs": [],
   "source": [
    "# Now, we need to define a time interval of interest.  It could be a single bin, or it could be multiple bins.  Let's select the brightest two bins in this view.\n",
    "# our lightcurve source selection\n",
    "\n",
    "src_time = (0,0.064) #64 ms exposure time (same as KW)\n",
    "src_lc = phaii.to_lightcurve(time_range=src_time, energy_range=erange)\n",
    "\n",
    "lcplot = Lightcurve(data=lc_data, background=lc_bkgd)\n",
    "lcplot.add_selection(src_lc)\n",
    "lcplot.xlim = view_range"
   ]
  },
  {
   "cell_type": "code",
   "execution_count": null,
   "id": "4411bd8f-1919-4fc0-9563-65965e49cc9c",
   "metadata": {},
   "outputs": [],
   "source": [
    "# The orange shading indicates the time bins you've selected as source signal.  You can also make a plot of the count spectrum during the selection  to see what the background model looks like in comparison to the data:\n",
    "# the observed count spectrum during the source selection\n",
    "spec_data = tte.to_spectrum(time_range=src_time)\n",
    "#spec_data = phaii.to_spectrum(time_range=src_time)\n",
    "# the background model integrated over the source selection time\n",
    "spec_bkgd = bkgd.integrate_time(*src_time)\n",
    "# and the energy range selection that was made\n",
    "#spec_selection = phaii.to_spectrum(time_range=src_time, energy_range=erange)\n",
    "specplot = Spectrum(data=spec_data, background=spec_bkgd)\n",
    "#specplot.add_selection(spec_selection)"
   ]
  },
  {
   "cell_type": "markdown",
   "id": "c442da2d-8eb5-405a-bc16-1d6f6bf91403",
   "metadata": {},
   "source": [
    "# Extract the corresponding PHA from source and bkg files\n",
    "pha = tte.to_pha(time_ranges=src_time)\n",
    "# the background spectrum\n",
    "bak = bkgd.to_bak(time_range=src_time)"
   ]
  },
  {
   "cell_type": "markdown",
   "id": "49ca7b09-494f-40a6-b51f-05be5a1a20f5",
   "metadata": {},
   "source": [
    "# Extract the corresponding PHA from source and bkg files\n",
    "pha = tte.to_pha(time_ranges=(0,0.064)) #src_time\n",
    "# the background spectrum\n",
    "#bak = bkgd.to_bak(time_range=src_time)"
   ]
  },
  {
   "cell_type": "markdown",
   "id": "2d12d311-e52b-410e-8caa-837e90d4466b",
   "metadata": {},
   "source": [
    "# So now you have a PHA and BAK object which can be written as fully-formed FITS files using the `.write()` methods:\n",
    "# ```python\n",
    "fn_spectral = GRB_id + \"_\" + unit\n",
    "bak.write('./', filename=fn_spectral+'.bak')\n",
    "pha.write('./', filename=fn_spectral+'.pha', backfile=fn_spectral+'.bak')\n",
    "\n",
    "# Read RSP function\n",
    "rsp = RSP.open(fn_rsp)\n",
    "# and interpolate response files to get DRMs at center of the source window\n",
    "rsp_interp = rsp.interpolate(pha.tcent) #tcent central time of spectrum. interpolating the rsp at the time we specified\n",
    "\n",
    "# Write response file\n",
    "rsp_interp.write('./', filename=fn_spectral+'.rsp')\n",
    "\n",
    "# It's advisable to set the RESPFILE keyword properly in the PHA file:\n",
    "print(\"fparkey \" + str(fn_spectral)+ \".rsp \" + str(fn_spectral) + \".pha+2 RESPFILE\")"
   ]
  },
  {
   "cell_type": "markdown",
   "id": "ae5d4889-04ca-4efb-8986-a6faaabf3d3e",
   "metadata": {},
   "source": [
    "# Time intervals for spectra"
   ]
  },
  {
   "cell_type": "code",
   "execution_count": null,
   "id": "dfeea89d-d964-4557-9c49-ee47de74dc26",
   "metadata": {},
   "outputs": [],
   "source": [
    "# Add time shift due to GBM vs. KW reference times\n",
    "\n",
    "#fn_spec_times = '/home/guidorzi/ASIM/KW_LCs/GRB201227A_sp.txt'\n",
    "#spec_times = np.loadtxt(fn_spec_times, unpack=True) + tshift\n"
   ]
  }
 ],
 "metadata": {
  "kernelspec": {
   "display_name": "FERMI_GBM",
   "language": "python",
   "name": "fermi_gbm"
  },
  "language_info": {
   "codemirror_mode": {
    "name": "ipython",
    "version": 3
   },
   "file_extension": ".py",
   "mimetype": "text/x-python",
   "name": "python",
   "nbconvert_exporter": "python",
   "pygments_lexer": "ipython3",
   "version": "3.7.0"
  }
 },
 "nbformat": 4,
 "nbformat_minor": 5
}
