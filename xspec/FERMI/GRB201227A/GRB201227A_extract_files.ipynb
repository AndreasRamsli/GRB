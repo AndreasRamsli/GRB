{
 "cells": [
  {
   "cell_type": "markdown",
   "id": "631cc92a-225b-49d4-82b2-c34cb8c39a41",
   "metadata": {},
   "source": [
    "# Imports"
   ]
  },
  {
   "cell_type": "code",
   "execution_count": 1,
   "id": "6dc4c668-176d-4a3a-9c9c-82acbd405af7",
   "metadata": {},
   "outputs": [
    {
     "name": "stdout",
     "output_type": "stream",
     "text": [
      "All MAC paths are set!\n",
      "All MAC paths are set!\n",
      "read_matlab_file.ipynb loaded successfully!\n",
      "All MAC paths are set!\n",
      "read_matlab_file.ipynb loaded successfully!\n",
      "All MAC paths are set!\n",
      "read_matlab_file.ipynb loaded successfully!\n",
      "convert_erg.ipynb loaded successfully!\n",
      "All MAC paths are set!\n",
      "read_matlab_file.ipynb loaded successfully!\n",
      "All MAC paths are set!\n",
      "read_matlab_file.ipynb loaded successfully!\n",
      "convert_erg.ipynb loaded successfully!\n",
      "safety_time.ipynb loaded successfully!\n",
      "LC_calibration loaded successfully!\n"
     ]
    }
   ],
   "source": [
    "# MAC paths\n",
    "%run /Users/andreas/phys/master/GRB/src/paths/mac.ipynb\n",
    "%run /Users/andreas/phys/master/GRB/src/read_matlab_file.ipynb\n",
    "%run /Users/andreas/phys/master/GRB/src/LC_calibration.ipynb\n"
   ]
  },
  {
   "cell_type": "markdown",
   "id": "75835b78-8f38-4b22-a58f-8c068a167f6c",
   "metadata": {},
   "source": [
    "# UiB paths\n",
    "%run /Home/siv30/wad005/master/GRB/src/paths/uib.ipynb\n",
    "%run /Home/siv30/wad005/master/GRB/src/read_matlab_file.ipynb\n",
    "%run /Home/siv30/wad005/master/GRB/src/LC_calibration.ipynb"
   ]
  },
  {
   "cell_type": "code",
   "execution_count": 71,
   "id": "cda6e550-7774-480c-adab-6acaebab187e",
   "metadata": {},
   "outputs": [],
   "source": [
    "import numpy as np\n",
    "import pandas as pd\n",
    "import matplotlib.pyplot as plt\n",
    "import os, re, sys\n",
    "\n",
    "from astropy.io import fits, ascii\n",
    "from astropy.time import Time\n",
    "from stingray import Lightcurve as LC\n",
    "from stingray import CrossCorrelation\n",
    "from dateutil import parser\n",
    "\n",
    "from gbm.data import TTE,RSP,Trigdat\n",
    "from gbm.binning.unbinned import bin_by_time\n",
    "from gbm.plot import Lightcurve, Spectrum\n",
    "from gbm.background import BackgroundFitter\n",
    "from gbm.background.binned import Polynomial #working in ctime for example\n",
    "from gbm.data.primitives import EventList\n",
    "#%matplotlib inline"
   ]
  },
  {
   "cell_type": "markdown",
   "id": "052ef692-9a26-42c0-8b23-1ce800077967",
   "metadata": {},
   "source": [
    "CSPEC: data with a course time resulution --- with a good spectral resolution \n",
    "\n",
    "CTIME: they have course spectral resulution (8 channels) but a hight time resolution"
   ]
  },
  {
   "cell_type": "markdown",
   "id": "12f11926-343c-49ce-b737-1c6130b7442e",
   "metadata": {},
   "source": [
    "# Notes on the GRB"
   ]
  },
  {
   "cell_type": "markdown",
   "id": "6b97914f-c36f-4687-ad8e-d43a4c33dd88",
   "metadata": {},
   "source": [
    "    GRB: Possible NS (magnetar) - BH merger\n",
    "    >> See paper: chrome-extension://efaidnbmnnnibpcajpcglclefindmkaj/https://arxiv.org/pdf/2205.05031.pdf\n",
    "    >> pre-cursor could be explained by the strong magnetic field creating a barrier and halting radius for accretion\n",
    "    \n",
    "    Angles: Which angles to use? From FERMI or SWIFT-XRT?\n",
    "    >> Angle seperation above 60 deg for both BGO detectors\n",
    "    \n",
    "    ToF: Missing ToF from KW to ASIM.\n",
    "    >> Ask Anastasia from this\n",
    "    \n",
    "    LC: Very long GRB that last for T0+80s.\n",
    "    >> Main event last for around T0+12.5s (in na2 detector)\n",
    "    \n",
    "    XSPEC: Uncertanty problem solved by grouping channels!\n",
    "    >> but still hard to produce a good fit\n",
    "    >> Aible to produce a good fit for the second (main) peak. 1.2 fit statistics\n",
    "    >> Trying now to fit the two main peaks.\n",
    "    \n",
    "    \n",
    "    >>In the circular the GBM team fitted this burst with a Band-function with E-peak on the interval: T0-1.264 s to T0+54.033"
   ]
  },
  {
   "cell_type": "markdown",
   "id": "5358cf1c-4fd7-43ed-81a5-03168fcf73ec",
   "metadata": {},
   "source": [
    "# TODO\n",
    "    -Cross corrolate FERMI/KW lc and bring FERMI lc into KW ref frame DONE\n",
    "        -KW lc have 2ms bin up to 0.512 s after T0\n",
    "        -Problem when creating the lightcurve object for KW --> KW are already binned! SOLVED\n",
    "    \n",
    "    -Change RA-DEC_OBJ parameters in the PHA file\n",
    "    \n",
    "    -Extract spectra from T0+0.0 to T0+0.064s in the KW ref frame"
   ]
  },
  {
   "cell_type": "markdown",
   "id": "a725c0c0-6ae5-43a4-9a8f-a8b71b5926f8",
   "metadata": {},
   "source": [
    "# Paths"
   ]
  },
  {
   "cell_type": "code",
   "execution_count": 3,
   "id": "c9ba1365-e545-4d0f-b5cd-4cf9252e4773",
   "metadata": {},
   "outputs": [
    {
     "name": "stdout",
     "output_type": "stream",
     "text": [
      "/Users/andreas/phys/master/FERMI/data//bn201227635/\n"
     ]
    }
   ],
   "source": [
    "GRB_id = \"GRB201227A\"\n",
    "bn='bn201227635' #what is this? GRB id for Fermi\n",
    "data_dir = path_FERMI_dir + \"/\" + bn +\"/\" #setting path to data dir\n",
    "unit='all' #which units to use. which filenames to open\n",
    "print(data_dir)"
   ]
  },
  {
   "cell_type": "markdown",
   "id": "44730674-5e0f-49c1-8bf6-042d551b821a",
   "metadata": {},
   "source": [
    "# Find the angle of the GRB wrt the GBM units"
   ]
  },
  {
   "cell_type": "code",
   "execution_count": 4,
   "id": "8b80b279-fe05-444a-9a8f-9e5169e205fa",
   "metadata": {},
   "outputs": [
    {
     "name": "stdout",
     "output_type": "stream",
     "text": [
      "glg_trigdat_all_bn201227635_v01.fit\n",
      "630774852.414564\n",
      "['n4', 'n8']\n"
     ]
    }
   ],
   "source": [
    "fn_trigdat = data_dir+'glg_trigdat_'+unit+'_'+bn+'_v01.fit' #check of its a different v01.fit\n",
    "trigdat = Trigdat.open(fn_trigdat)\n",
    "print(trigdat)\n",
    "print(trigdat.trigtime)\n",
    "\n",
    "# Once extracted, it has the full capabilities of the [```Ctime```](./PhaiiData.ipynb) class.  You can also retrieve the sum of the detectors:\n",
    "# the triggered detectors\n",
    "trig_dets = trigdat.triggered_detectors\n",
    "print(trig_dets)"
   ]
  },
  {
   "cell_type": "code",
   "execution_count": 5,
   "id": "87eb2b5f-7499-43a1-b173-6bf05f900c69",
   "metadata": {},
   "outputs": [],
   "source": [
    "grb_ra, grb_dec = 170.121,-73.613 #wrong ra,dec in pha file??  106.1833, -77.117"
   ]
  },
  {
   "cell_type": "code",
   "execution_count": 6,
   "id": "896ddd78-0d72-4bcc-bf24-f21098cd31d9",
   "metadata": {},
   "outputs": [
    {
     "name": "stdout",
     "output_type": "stream",
     "text": [
      "n4 45.002\n",
      "n8 67.702\n",
      "b0 72.906\n",
      "n5 75.347\n",
      "n3 91.187\n",
      "nb 104.305\n",
      "b1 107.094\n",
      "n7 107.96\n",
      "n2 113.344\n",
      "n6 124.796\n",
      "n1 132.295\n",
      "na 134.225\n",
      "n0 138.508\n",
      "n9 165.202\n"
     ]
    }
   ],
   "source": [
    "all_dets=np.array(['n0','n1','n2','n3','n4','n5','n6','n7','n8','n9','na','nb','b0','b1'])\n",
    "point_dets = np.zeros(shape=(all_dets.size,2))\n",
    "for i in range(all_dets.size):\n",
    "    point_dets[i,:] = trigdat.detector_pointing(all_dets[i], trigdat.trigtime)\n",
    "\n",
    "#Q: Finding out where each detector is pointing and storing in a 14x2 matrix?\n",
    "# ra, dec?\n",
    "\n",
    "# Calculate the angular separation for all detectors\n",
    "from astropy.coordinates.angle_utilities import angular_separation\n",
    "\n",
    "ang_sep = np.zeros(all_dets.size)\n",
    "for i in range(all_dets.size):\n",
    "    ang_sep[i] = np.rad2deg(angular_separation(np.deg2rad(point_dets[i,0]),np.deg2rad(point_dets[i,1]),np.deg2rad(grb_ra),np.deg2rad(grb_dec)))\n",
    "    \n",
    "#Q: finding anugalar seperation in degrees from where each detector is pointing and the location of the burst?\n",
    "#-->storting in ang_sep 14x1 matrix\n",
    "\n",
    "# Calculate the angular separation for all detectors\n",
    "from astropy.coordinates.angle_utilities import angular_separation\n",
    "\n",
    "ang_sep = np.zeros(all_dets.size)\n",
    "for i in range(all_dets.size):\n",
    "    ang_sep[i] = np.rad2deg(angular_separation(np.deg2rad(point_dets[i,0]),np.deg2rad(point_dets[i,1]),np.deg2rad(grb_ra),np.deg2rad(grb_dec)))\n",
    "    \n",
    "#Q: finding anugalar seperation in degrees from where each detector is pointing and the location of the burst?\n",
    "#-->storting in ang_sep 14x1 matrix\n",
    "\n",
    "# Print dets with increasing angular separation from the GRB position\n",
    "idx_sort_angsep = np.argsort(ang_sep) #sorting in increasing order\n",
    "for i in idx_sort_angsep:\n",
    "    print(all_dets[i],round(ang_sep[i],3))\n",
    "    \n",
    "#print(all_dets[idx_sort_angsep]) #sorting\n",
    "#print(ang_sep[idx_sort_angsep]) #sorting\n",
    "# Best illuminated units: n7, n6\n",
    "\n",
    "#The detectors nearest to the burst are listed first. If the degree is more than 60 deg, be careful to use the response function\n"
   ]
  },
  {
   "cell_type": "markdown",
   "id": "3071a9c8-721f-4c3f-b389-01ea1e273ad8",
   "metadata": {},
   "source": [
    "# Find temporal offset between GBM trigger time and others"
   ]
  },
  {
   "cell_type": "code",
   "execution_count": 289,
   "id": "7953aae8-dff7-4af5-9bb2-bc943647bbe5",
   "metadata": {},
   "outputs": [
    {
     "name": "stdout",
     "output_type": "stream",
     "text": [
      "<Met seconds = 630774852.414564>\n",
      "-0.005\n",
      "<Met seconds = 630774852.419564>\n",
      "0.00383603572845459\n",
      "<Met seconds = 630774852.410728>\n"
     ]
    }
   ],
   "source": [
    "from gbm.time import Met\n",
    "import datetime\n",
    "\n",
    "# Convert from MET to UTC\n",
    "t0METgbm = Met(trigdat.trigtime) #middle european time?\n",
    "print(t0METgbm)\n",
    "print(tshift)\n",
    "print(t0METgbm-tshift)\n",
    "\n",
    "\n",
    "ToF_Fermi_ASIM = -0.0008 #light travel time in seconds\n",
    "ToF_KW_ASIM = 0.7142 \n",
    "str_t0KW = '2020-12-27T15:14:06.705' #T0 for KW\n",
    "t0METKW = t0METgbm.from_iso(str_t0KW) #Converting T0 KW to T0 met\n",
    "\n",
    "#Q: Why are we adding both ToF? Double check this\n",
    "t0MET = t0METKW.add(ToF_KW_ASIM+ToF_Fermi_ASIM)  # To add seconds\n",
    "tshift = t0MET - t0METgbm\n",
    "print(tshift) #shift between KW trigger and GBM trigger is <4ms \n",
    "print(t0METgbm-tshift)\n"
   ]
  },
  {
   "cell_type": "markdown",
   "id": "d9e95060-1fad-4d0d-a4a8-28fb15ad6334",
   "metadata": {},
   "source": [
    "#  Extract data from selected unit(s)+"
   ]
  },
  {
   "cell_type": "code",
   "execution_count": 7,
   "id": "20cebcdb-8312-4ac9-9443-976164448a4c",
   "metadata": {},
   "outputs": [
    {
     "name": "stdout",
     "output_type": "stream",
     "text": [
      "b0\n"
     ]
    }
   ],
   "source": [
    "unit = all_dets[idx_sort_angsep][2] #for selecting the detector that are have the lowest incident angle to the GRB\n",
    "#unit = trig_dets[0] #unit of the first trigger detector. What unit is this?\n",
    "print(unit)\n",
    "\n",
    "# Read TTE of selected unit\n",
    "#Q: what is TTE? Time-Tagged Event. Assuming its that same as the tus array in ASIM data\n",
    "fn_tte = data_dir+'glg_tte_'+unit+'_'+bn+'_v00.fit'\n",
    "\n",
    "# Filename of RSP for the selected unit\n",
    "# Q: getting the filename for the response matirx? \n",
    "fn_rsp = data_dir+'glg_cspec_'+unit+'_'+bn+'_v03.rsp2' #make sure version is correct. (ls *.rsp2) use cspec because it have the same number of energy channels"
   ]
  },
  {
   "cell_type": "code",
   "execution_count": 106,
   "id": "d13f815b-85a2-4705-a29a-f8af9e51fb60",
   "metadata": {},
   "outputs": [
    {
     "data": {
      "image/png": "[encoded data removed]",
      "text/plain": [
       "<Figure size 770x470 with 1 Axes>"
      ]
     },
     "metadata": {},
     "output_type": "display_data"
    }
   ],
   "source": [
    "# open a TTE file\n",
    "tte = TTE.open(fn_tte)\n",
    "# bin to 2.048 s resolution, reference time is trigger time (coarse resolution to accurately model the bkg)\n",
    "bint = 0.002 # 2ms binning\n",
    "#phaii = tte.to_phaii(bin_by_time, bint, time_ref=0.0)\n",
    "\n",
    "#bin_by_time is defined in imports. now have the spectra for each bin \n",
    "phaii = tte.to_phaii(bin_by_time, bint) #puls height amplitude of second type ii. i: sum along columns, ii: for all channels\n",
    "\n",
    "erange = (8, 1e3) #usually advised lower range. Standard passband\n",
    "lc_data = phaii.to_lightcurve(energy_range=erange) #lightcurve binned by the given bint?\n",
    "lcplot = Lightcurve(data=lc_data)\n",
    "lcplot.xlim = (-0.512,.512)"
   ]
  },
  {
   "cell_type": "markdown",
   "id": "5393747d-0006-48bf-92a9-ddaf9cf764ef",
   "metadata": {},
   "source": [
    "### Cross Corrolate KW and FERMI lc"
   ]
  },
  {
   "cell_type": "code",
   "execution_count": 227,
   "id": "7e8888e3-5fb7-4c3b-9551-519369318381",
   "metadata": {},
   "outputs": [],
   "source": [
    "def crossCorrolate(tus_F=None, kw_filename=None, binsize=None, detector_range=None, plotting=False):\n",
    "    \"\"\"\n",
    "    cross corrolation function between FERMI and KW. Function will itself bin the photon array and return the desired t_shift lag to shift the data into KW ref frame.\n",
    "    \n",
    "    Add t_shift to FERMI lc to bring it into KW ref frame.\n",
    "    \n",
    "    Note:   Only the bins equal to binsize will be used in KW data. \n",
    "            tus_F converted to float32 and KW data converted to float16 for memory saving. \n",
    "            --> KW data only accurate down to 1 ms\n",
    "    \n",
    "    input:\n",
    "    --------------------------------------\n",
    "    tus_F <np.array>: tus array given in seconds. Converted to float32.\n",
    "    kw_filename <str>: filename.\n",
    "    binsize <float>: given in seconds\n",
    "    detector_range <str>: \"high\" or \"low\". High assumes BGO. Corrolates best with G2 (mid) + G3 (high). Low assumes NaI. Corrolates best with G1(low) + G2(mid)\n",
    "    plotting <bool>\n",
    "    \n",
    "    return:\n",
    "    --------------------------------------\n",
    "    t_shift <float>: given in seconds. Rounded to 6 sig figures\n",
    "    if value is positive the FERMI lc must be shiftet right from T0_FERMI and T0 slides to the left\n",
    "    elif value is negative the FERMI lc must be shifted left og T0_FERMI and T0 slides to the right\n",
    "    \n",
    "    t_shift must be added to fermi tte to match the T0´s\n",
    "    \"\"\"\n",
    "    \n",
    "\n",
    "    \n",
    "    #KW handling------------------------------------------------------------------------------\n",
    "    if str(int(binsize*1e3)) != kw_filename[kw_filename.find('_')+1:-6]:\n",
    "        return print('filename and binsize is not correct')\n",
    "    \n",
    "    kw_file = kw_lc_path + kw_filename\n",
    "    kw_df = pd.read_csv(kw_file,sep='\\s+')\n",
    "    kw_bin_lo, kw_bin_hi= kw_df[\"Ti\"].to_numpy(dtype=np.float16), kw_df[\"Tf\"].to_numpy(dtype=np.float16)\n",
    "    \n",
    "    kw_dt = np.round(np.diff(kw_bin_lo),3)\n",
    "    i_stop_kw = np.where(kw_dt>binsize)[0][0]\n",
    "    \n",
    "    kw_bin_lo, kw_bin_hi = kw_bin_lo[:i_stop_kw], kw_bin_hi[:i_stop_kw]\n",
    "    \n",
    "    if detector_range == \"high\":\n",
    "        G2, G3 = kw_df[\"G2\"].to_numpy(dtype=np.float16)[:i_stop_kw], kw_df[\"G3\"].to_numpy(dtype=np.float16)[:i_stop_kw]\n",
    "        kw_counts = G2 + G3\n",
    "    elif detector_range == \"low\":\n",
    "        G1, G2 = kw_df[\"G1\"].to_numpy()[:i_stop_kw], kw_df[\"G2\"].to_numpy()[:i_stop_kw]\n",
    "        kw_counts = G1 + G1\n",
    "    else:\n",
    "        return print(\"detector_range not set. For NaI choose 'low' and BGO choose 'high'\")\n",
    "        \n",
    "    kw_lc = LC(time=kw_bin_lo + binsize/2, counts=kw_counts,skip_checks=True,dt=binsize)\n",
    "    check_alignment = [np.all(np.round(kw_lc.bin_lo,3) == np.round(kw_bin_lo,3)),\n",
    "                       np.all(np.round(kw_lc.bin_hi,3) == np.round(kw_bin_hi,3)), \n",
    "                       np.all(np.round(kw_lc.counts,3) == np.round(kw_counts,3)) ]\n",
    "\n",
    "    for i, bool_ in enumerate(check_alignment):\n",
    "        if bool_ == False:\n",
    "            print(i)\n",
    "            if i == 0:\n",
    "                 print(\"bin_lo not aligned\")\n",
    "            elif i == 1:\n",
    "                 print(\"bin_hi not aligned\")\n",
    "            elif i == 2:\n",
    "                 print(\"counts not aligned\")\n",
    "                    \n",
    "    #FERMI handling-------------------------\n",
    "    tus_F = np.float32(tus_F)\n",
    "    kw_first_t, kw_last_t = find_nearest(tus_F,kw_bin_lo[0]), find_nearest(tus_F,kw_bin_hi[-1])\n",
    "    tus_F = tus_F[kw_first_t:kw_last_t]    \n",
    "    fermi_lc = LC.make_lightcurve(tus_F, dt=binsize)\n",
    "    c,t = fermi_lc.counts, fermi_lc.time\n",
    "\n",
    "    \n",
    "    # Cross corrolating and shifting Fermi\n",
    "    CC = CrossCorrelation(kw_lc,fermi_lc,mode=\"full\")\n",
    "    t_shift = np.round(CC.cal_timeshift(dt=binsize)[0],3)\n",
    "    fermi_lc_shifted = fermi_lc.shift(t_shift) #CC.time_shift\n",
    "    \n",
    "    #Plotting -----------------------------\n",
    "    if plotting == True:\n",
    "        kw_lc.plot(title=\"KW lc\")\n",
    "        fermi_lc.plot(title=\"FERMI lc\")\n",
    "        fermi_lc_shifted.plot(title=\"FERMI lc shifted\")\n",
    "        CC.plot(labels = ['Time Lags (seconds)','Correlation'])\n",
    "    \n",
    "    print(\"tshift (s) \", t_shift, \" rounded to ms\")\n",
    "    return t_shift"
   ]
  },
  {
   "cell_type": "code",
   "execution_count": 226,
   "id": "b61b8e8a-2aed-4ea3-8749-ff7b666de768",
   "metadata": {},
   "outputs": [],
   "source": [
    "def shiftTTE(tte=None,tshift=None):\n",
    "    \"\"\" Shift the fermi tte by a tshift\n",
    "    input---------------\n",
    "    tte <np.array>: List of photon arrival times\n",
    "    tshift <float>: value to shift the tte by\n",
    "    \n",
    "    return----------\n",
    "    shifted_tte <np.array>: tte shifted by tshift\n",
    "    \"\"\"\n",
    "    shiftedTTE = tte + tshift\n",
    "    return shiftedTTE"
   ]
  },
  {
   "cell_type": "code",
   "execution_count": 269,
   "id": "5694e263-0047-4517-b0e6-fe4030d42d35",
   "metadata": {},
   "outputs": [],
   "source": [
    "def createNewTTE(oldTTEObj=None, shiftedTTE=None, binsize=None,unit=None, obj=None, grb_ra=None, grb_dec=None):\n",
    "    \"\"\"\n",
    "    Function preserves all the channels and the whole time range\n",
    "    \n",
    "    Create an EventList object from lists of times, channels, \n",
    "    and the channel bounds. The list of times and channels must be the \n",
    "    same length, and the list of channel boundaries are used to map the\n",
    "    PHA index number in `pha_list` to energy channels.\n",
    "\n",
    "    input------------\n",
    "    oldTTeObj <>\n",
    "    shiftedTTE <np.array>\n",
    "    binsize <float> : given in seconds\n",
    "    unit <str>: which detector is used\n",
    "    obj <str> which GRB is observed\n",
    "    ra_obj <float>\n",
    "    dec_obj <float>\n",
    "                             \n",
    "    \"\"\"\n",
    "    \n",
    "    \n",
    "    #TODO have to convert it to a pha object first\n",
    "    #\n",
    "    phaii = oldTTEObj.to_phaii(bin_by_time,dt=binsize)\n",
    "    spectrum = phaii.to_spectrum()\n",
    "    newTTEdata = EventList.from_lists(times_list = shiftedTTE, pha_list=oldTTEObj.data.pha,\n",
    "                                      chan_lo=spectrum.lo_edges, chan_hi=spectrum.hi_edges)\n",
    "    \n",
    "    gti = [(shiftedTTE[0],shiftedTTE[-1])]\n",
    "    \n",
    "    newTTEObj = TTE.from_data(data=newTTEdata,gti=gti,detector=unit,object=obj, ra_obj=grb_ra, dec_obj=grb_dec)\n",
    "    return newTTEObj\n",
    "    "
   ]
  },
  {
   "cell_type": "code",
   "execution_count": 228,
   "id": "57b7f727-ac68-40c0-abd0-3d8b159a081d",
   "metadata": {},
   "outputs": [
    {
     "name": "stdout",
     "output_type": "stream",
     "text": [
      "tshift (s)  -0.005  rounded to ms\n"
     ]
    }
   ],
   "source": [
    "tshift = cross_corrolate(tus_F = tte.data.time, kw_filename=\"GRB201227A_2ms.txt\",binsize=0.002,detector_range=\"high\")\n",
    "#tshift (s)  first:-0.006, second:-0.007007,  last iteration: -0.005 (with G2 & G3 in KW data)"
   ]
  },
  {
   "cell_type": "code",
   "execution_count": 229,
   "id": "8b842f14-351d-4aea-9560-3e1b2a8d9ca4",
   "metadata": {},
   "outputs": [],
   "source": [
    "shiftedTTE = shiftTTE(tte=tte.data.time, tshift=tshift)"
   ]
  },
  {
   "cell_type": "code",
   "execution_count": 270,
   "id": "818cb4e6-6bf0-464e-a172-7eb50d2c15de",
   "metadata": {},
   "outputs": [],
   "source": [
    "newTTE = createNewTTE(oldTTEObj=tte,shiftedTTE=shiftedTTE,binsize=0.002,unit=unit,\n",
    "                        obj = GRB_id, grb_ra=grb_ra, grb_dec=grb_dec)"
   ]
  },
  {
   "cell_type": "code",
   "execution_count": 276,
   "id": "e921b6c6-59ca-470a-b80e-51e40cd0bfd7",
   "metadata": {},
   "outputs": [
    {
     "name": "stderr",
     "output_type": "stream",
     "text": [
      "/Users/andreas/phys/master/FERMI/venv/lib/python3.7/site-packages/gbm/time.py:115: UserWarning: Time before GBM mission epoch\n",
      "  warnings.warn(\"Time before GBM mission epoch\")\n"
     ]
    },
    {
     "data": {
      "text/plain": [
       "gbm.data.phaii.Cspec"
      ]
     },
     "execution_count": 276,
     "metadata": {},
     "output_type": "execute_result"
    }
   ],
   "source": [
    "phaii = newTTE.to_phaii(bin_by_time,dt=0.002)\n",
    "type(phaii)"
   ]
  },
  {
   "cell_type": "code",
   "execution_count": 280,
   "id": "3960e955-f79e-4fa6-9c60-a618ff03c58d",
   "metadata": {},
   "outputs": [
    {
     "data": {
      "image/png": "[encoded data removed]",
      "text/plain": [
       "<Figure size 770x470 with 1 Axes>"
      ]
     },
     "metadata": {},
     "output_type": "display_data"
    }
   ],
   "source": [
    "lc_data= phaii.to_lightcurve(time_range=(-0.4,0.4))\n",
    "lcplot = Lightcurve(data=lc_data)"
   ]
  },
  {
   "cell_type": "code",
   "execution_count": null,
   "id": "716a1862-7182-40a4-b67e-3f2776707fba",
   "metadata": {},
   "outputs": [],
   "source": [
    "# TODO\n",
    "\n",
    "#Have created a phaii file now (Time/Energy) file\n",
    "#next:  Pass in more information into the phaii file\n",
    "        #-can use the same script from now on the get the pha/bak/rsp files.\n",
    "#Q: Do one have to change the rsp file since we changed the tte? Dont think so. Could have a look at the rsp file"
   ]
  },
  {
   "cell_type": "code",
   "execution_count": 282,
   "id": "9eacb36b-0748-4722-b276-74c0cfd2b5da",
   "metadata": {},
   "outputs": [
    {
     "data": {
      "text/plain": [
       "0.0"
      ]
     },
     "execution_count": 282,
     "metadata": {},
     "output_type": "execute_result"
    }
   ],
   "source": [
    "phaii.trigtime"
   ]
  },
  {
   "cell_type": "code",
   "execution_count": null,
   "id": "07a5f972-b489-4afe-a03c-d7323183e30c",
   "metadata": {},
   "outputs": [],
   "source": [
    "#"
   ]
  },
  {
   "cell_type": "code",
   "execution_count": null,
   "id": "34550b79-c608-42bd-ac7a-4d1add3af9ab",
   "metadata": {},
   "outputs": [],
   "source": []
  },
  {
   "cell_type": "code",
   "execution_count": null,
   "id": "a090821b-bf48-4484-b16c-eca40dba31c4",
   "metadata": {},
   "outputs": [],
   "source": []
  },
  {
   "cell_type": "code",
   "execution_count": null,
   "id": "86283b7f-3f6b-48ee-bd20-4529e51dce43",
   "metadata": {},
   "outputs": [],
   "source": []
  },
  {
   "cell_type": "code",
   "execution_count": null,
   "id": "a55f440b-eedc-4852-9068-8bd58a3b51a6",
   "metadata": {},
   "outputs": [],
   "source": []
  },
  {
   "cell_type": "code",
   "execution_count": null,
   "id": "bc029502-6662-46f5-b8c5-ba3cfb0f6cc2",
   "metadata": {},
   "outputs": [],
   "source": []
  },
  {
   "cell_type": "code",
   "execution_count": 9,
   "id": "f0a1ef6b-98a0-4399-9ae7-4d4c1a8c29d3",
   "metadata": {},
   "outputs": [],
   "source": [
    "# Fit background\n",
    "bkgd_times = [(-100, -25), (50,100)] # where to extract the background\n",
    "backfitter = BackgroundFitter.from_phaii(phaii, Polynomial, time_ranges=bkgd_times)\n",
    "backfitter.fit(order=2) #increase order to 2 when you have a large interval "
   ]
  },
  {
   "cell_type": "code",
   "execution_count": 10,
   "id": "37234af1-6da8-487e-8947-41953291111b",
   "metadata": {},
   "outputs": [
    {
     "data": {
      "image/png": "[encoded data removed]",
      "text/plain": [
       "<Figure size 770x470 with 1 Axes>"
      ]
     },
     "metadata": {
      "needs_background": "light"
     },
     "output_type": "display_data"
    }
   ],
   "source": [
    "bkgd = backfitter.interpolate_bins(phaii.data.tstart, phaii.data.tstop)\n",
    "#type(bkgd)\n",
    "lc_bkgd = bkgd.integrate_energy(*erange)\n",
    "lcplot = Lightcurve(data=lc_data, background=lc_bkgd)\n",
    "# zoom in to 5 seconds before to 20 s after the trigger time\n",
    "view_range = (-0.2,0.3)\n",
    "lcplot.xlim = view_range"
   ]
  },
  {
   "cell_type": "code",
   "execution_count": 11,
   "id": "f475db57-aed6-4866-847d-b44643bb7bf2",
   "metadata": {},
   "outputs": [
    {
     "data": {
      "text/plain": [
       "array([334.07354467,  75.80737805,  64.92180753,  49.95658674,\n",
       "        32.30604334,  25.4604312 ,  18.15443184,  11.85339581,\n",
       "        10.39398024,   9.54101357,   9.74094431,   9.65085159,\n",
       "        10.17586692,  10.38619785,   9.65736195,  11.11510811,\n",
       "        11.59517806,  12.25725563,  13.70722604,  15.19731371,\n",
       "        13.3589575 ,  13.42475899,  14.84040932,  17.45232424,\n",
       "        21.23913022,  25.63048821,  31.51904632,  35.79168276,\n",
       "        38.68740463,  39.10574559,  41.01243597,  42.56592607,\n",
       "        43.671823  ,  40.39329145,  42.48972442,  43.97910482,\n",
       "        49.88555621,  45.49029092,  39.99759947,  39.45383899,\n",
       "        37.04519882,  45.8915622 ,  58.82142769,  60.3652009 ,\n",
       "        64.73002119,  63.79637406,  64.674123  ,  67.21351918,\n",
       "        75.55747193,  71.25791749,  75.65596999,  83.22626001,\n",
       "        81.37213717,  85.52274318,  89.2358102 ,  89.589813  ,\n",
       "        98.61891666,  97.3170586 , 105.70872873, 104.60465765,\n",
       "       104.03999383, 104.94154475, 106.43909741, 102.94863251,\n",
       "       100.77212527, 110.13598213, 103.50613075,  99.89137748,\n",
       "        85.48423011,  74.23724569,  77.58409191,  92.17127287,\n",
       "       114.86294386, 145.88964213, 149.5494399 , 154.39220877,\n",
       "       146.25668546, 153.2864037 , 154.01825378, 174.9090879 ,\n",
       "       165.48265446, 160.47018242, 186.54161491, 165.22273724,\n",
       "       197.83060763, 203.13931451, 229.74276108, 262.60045703,\n",
       "       273.5758407 , 276.08437166, 279.87046637, 289.02040529,\n",
       "       318.23732923, 318.04583759, 296.83775278, 377.39130719,\n",
       "       393.51305396, 299.97408446, 313.98223722, 375.02886031,\n",
       "       359.88235984, 324.05063342, 273.6305627 , 247.29949497,\n",
       "       260.92924762, 297.26364901, 323.33540382, 434.37477917,\n",
       "       415.32849569, 390.35153066, 332.64454083, 383.98785922,\n",
       "       309.23853018, 363.96415595, 364.25723458, 413.51629855,\n",
       "       386.78973635, 386.52648488, 412.08061434, 379.50697925,\n",
       "       454.82379401, 401.69113407, 387.1173078 , 458.23787927,\n",
       "       483.04914109, 246.06435215,  12.48470466,  14.91078115])"
      ]
     },
     "execution_count": 11,
     "metadata": {},
     "output_type": "execute_result"
    }
   ],
   "source": [
    "# Ok, the fit is done, but how do we know if it is a good fit?  You can return the fit statistic and degrees-of-freedom (DoF) for each energy channel fit, and try to figure out if it's a good fit based on that (Note: not always the best way to go).\n",
    "backfitter.statistic/backfitter.dof"
   ]
  },
  {
   "cell_type": "code",
   "execution_count": 12,
   "id": "a2bc516d-0b10-43e2-8671-9f8779fe0cb8",
   "metadata": {},
   "outputs": [],
   "source": [
    "# Define normalised residuals and test their compatibility with a standardized normal distribution\n",
    "isel = np.where( ((lc_data.centroids>bkgd_times[0][0]) & (lc_data.centroids<bkgd_times[0][1])) | ((lc_data.centroids>bkgd_times[1][0]) & (lc_data.centroids<bkgd_times[1][1])) )[0]\n",
    "isel_bkg = np.where( ((lc_bkgd.time_centroids>bkgd_times[0][0]) & (lc_bkgd.time_centroids<bkgd_times[0][1])) | ((lc_bkgd.time_centroids>bkgd_times[1][0]) & (lc_bkgd.time_centroids<bkgd_times[1][1])) )[0]"
   ]
  },
  {
   "cell_type": "code",
   "execution_count": 13,
   "id": "6bdb3a0f-0f75-4bc5-9aa1-8694cb3d4bf3",
   "metadata": {},
   "outputs": [
    {
     "name": "stdout",
     "output_type": "stream",
     "text": [
      "Normalised residuals: mean= 0.00106  std= 0.998\n",
      "NormaltestResult(statistic=3473.9387668400304, pvalue=0.0)\n"
     ]
    },
    {
     "data": {
      "image/png": "[encoded data removed]",
      "text/plain": [
       "<Figure size 432x288 with 1 Axes>"
      ]
     },
     "metadata": {
      "needs_background": "light"
     },
     "output_type": "display_data"
    }
   ],
   "source": [
    "if np.all(isel == isel_bkg):\n",
    "    norm_res = (lc_data.counts[isel]-lc_bkgd.counts[isel_bkg])/np.sqrt(lc_bkgd.counts[isel_bkg])\n",
    "    print(\"Normalised residuals: mean= {:.3g}  std= {:.3g}\".format(norm_res.mean(),norm_res.std()))\n",
    "   # QQ plot to test normality\n",
    "    import pylab \n",
    "    import scipy.stats as stats\n",
    "    plt.cla()\n",
    "    stats.probplot(norm_res, dist=\"norm\",plot=pylab)\n",
    "    from scipy.stats import normaltest\n",
    "    print(normaltest(norm_res))\n",
    "\n",
    "#mu=0 std= 1 good, make sure the red line is not far frow the blue scatter plots"
   ]
  },
  {
   "cell_type": "code",
   "execution_count": 242,
   "id": "0dab4b9d-09b4-4df8-9f88-086a2f9fb495",
   "metadata": {},
   "outputs": [
    {
     "ename": "NameError",
     "evalue": "name 'lc_bkgd' is not defined",
     "output_type": "error",
     "traceback": [
      "\u001b[0;31m---------------------------------------------------------------------------\u001b[0m",
      "\u001b[0;31mNameError\u001b[0m                                 Traceback (most recent call last)",
      "\u001b[0;32m/var/folders/q_/b8y8kqjd57q3wqvw3vyz1mrw0000gn/T/ipykernel_36304/1391077320.py\u001b[0m in \u001b[0;36m<module>\u001b[0;34m\u001b[0m\n\u001b[1;32m      5\u001b[0m \u001b[0msrc_lc\u001b[0m \u001b[0;34m=\u001b[0m \u001b[0mphaii\u001b[0m\u001b[0;34m.\u001b[0m\u001b[0mto_lightcurve\u001b[0m\u001b[0;34m(\u001b[0m\u001b[0mtime_range\u001b[0m\u001b[0;34m=\u001b[0m\u001b[0msrc_time\u001b[0m\u001b[0;34m,\u001b[0m \u001b[0menergy_range\u001b[0m\u001b[0;34m=\u001b[0m\u001b[0merange\u001b[0m\u001b[0;34m)\u001b[0m\u001b[0;34m\u001b[0m\u001b[0m\n\u001b[1;32m      6\u001b[0m \u001b[0;34m\u001b[0m\u001b[0m\n\u001b[0;32m----> 7\u001b[0;31m \u001b[0mlcplot\u001b[0m \u001b[0;34m=\u001b[0m \u001b[0mLightcurve\u001b[0m\u001b[0;34m(\u001b[0m\u001b[0mdata\u001b[0m\u001b[0;34m=\u001b[0m\u001b[0mlc_data\u001b[0m\u001b[0;34m,\u001b[0m \u001b[0mbackground\u001b[0m\u001b[0;34m=\u001b[0m\u001b[0mlc_bkgd\u001b[0m\u001b[0;34m)\u001b[0m\u001b[0;34m\u001b[0m\u001b[0m\n\u001b[0m\u001b[1;32m      8\u001b[0m \u001b[0mlcplot\u001b[0m\u001b[0;34m.\u001b[0m\u001b[0madd_selection\u001b[0m\u001b[0;34m(\u001b[0m\u001b[0msrc_lc\u001b[0m\u001b[0;34m)\u001b[0m\u001b[0;34m\u001b[0m\u001b[0m\n\u001b[1;32m      9\u001b[0m \u001b[0mlcplot\u001b[0m\u001b[0;34m.\u001b[0m\u001b[0mxlim\u001b[0m \u001b[0;34m=\u001b[0m \u001b[0mview_range\u001b[0m\u001b[0;34m\u001b[0m\u001b[0m\n",
      "\u001b[0;31mNameError\u001b[0m: name 'lc_bkgd' is not defined"
     ]
    }
   ],
   "source": [
    "# Now, we need to define a time interval of interest.  It could be a single bin, or it could be multiple bins.  Let's select the brightest two bins in this view.\n",
    "# our lightcurve source selection\n",
    "\n",
    "src_time = (0,0.064) #64 ms exposure time (same as KW)\n",
    "src_lc = phaii.to_lightcurve(time_range=src_time, energy_range=erange)\n",
    "\n",
    "lcplot = Lightcurve(data=lc_data, background=lc_bkgd)\n",
    "lcplot.add_selection(src_lc)\n",
    "lcplot.xlim = view_range"
   ]
  },
  {
   "cell_type": "code",
   "execution_count": 15,
   "id": "4411bd8f-1919-4fc0-9563-65965e49cc9c",
   "metadata": {},
   "outputs": [
    {
     "data": {
      "image/png": "[encoded data removed]",
      "text/plain": [
       "<Figure size 770x470 with 1 Axes>"
      ]
     },
     "metadata": {
      "needs_background": "light"
     },
     "output_type": "display_data"
    }
   ],
   "source": [
    "# The orange shading indicates the time bins you've selected as source signal.  You can also make a plot of the count spectrum during the selection  to see what the background model looks like in comparison to the data:\n",
    "# the observed count spectrum during the source selection\n",
    "spec_data = tte.to_spectrum(time_range=src_time)\n",
    "#spec_data = phaii.to_spectrum(time_range=src_time)\n",
    "# the background model integrated over the source selection time\n",
    "spec_bkgd = bkgd.integrate_time(*src_time)\n",
    "# and the energy range selection that was made\n",
    "#spec_selection = phaii.to_spectrum(time_range=src_time, energy_range=erange)\n",
    "specplot = Spectrum(data=spec_data, background=spec_bkgd)\n",
    "#specplot.add_selection(spec_selection)"
   ]
  },
  {
   "cell_type": "code",
   "execution_count": 244,
   "id": "2a2b39e1-b18f-4aee-bbe2-a6eaccb7e64f",
   "metadata": {},
   "outputs": [],
   "source": [
    "# Extract the corresponding PHA from source and bkg files\n",
    "pha = tte.to_pha(time_ranges=src_time)\n",
    "# the background spectrum\n",
    "bak = bkgd.to_bak(time_range=src_time)"
   ]
  },
  {
   "cell_type": "code",
   "execution_count": 246,
   "id": "c0201f35-8afb-4d75-b1f2-259e2614fd95",
   "metadata": {},
   "outputs": [],
   "source": [
    "# Extract the corresponding PHA from source and bkg files\n",
    "pha = tte.to_pha(time_ranges=(0,0.064)) #src_time\n",
    "# the background spectrum\n",
    "#bak = bkgd.to_bak(time_range=src_time)"
   ]
  },
  {
   "cell_type": "code",
   "execution_count": 247,
   "id": "dee43b32-21a0-4e65-b1b0-043e93bf9ef0",
   "metadata": {},
   "outputs": [
    {
     "data": {
      "text/plain": [
       "gbm.data.pha.PHA"
      ]
     },
     "execution_count": 247,
     "metadata": {},
     "output_type": "execute_result"
    }
   ],
   "source": [
    "type(pha.data.)"
   ]
  },
  {
   "cell_type": "code",
   "execution_count": 17,
   "id": "3839f364-099b-469c-8fe3-be54586d318e",
   "metadata": {},
   "outputs": [
    {
     "name": "stdout",
     "output_type": "stream",
     "text": [
      "fparkey GRB201227A_n4.rsp GRB201227A_n4.pha+2 RESPFILE\n"
     ]
    }
   ],
   "source": [
    "# So now you have a PHA and BAK object which can be written as fully-formed FITS files using the `.write()` methods:\n",
    "# ```python\n",
    "fn_spectral = GRB_id + \"_\" + unit\n",
    "bak.write('./', filename=fn_spectral+'.bak')\n",
    "pha.write('./', filename=fn_spectral+'.pha', backfile=fn_spectral+'.bak')\n",
    "\n",
    "# Read RSP function\n",
    "rsp = RSP.open(fn_rsp)\n",
    "# and interpolate response files to get DRMs at center of the source window\n",
    "rsp_interp = rsp.interpolate(pha.tcent) #tcent central time of spectrum. interpolating the rsp at the time we specified\n",
    "\n",
    "# Write response file\n",
    "rsp_interp.write('./', filename=fn_spectral+'.rsp')\n",
    "\n",
    "# It's advisable to set the RESPFILE keyword properly in the PHA file:\n",
    "print(\"fparkey \" + str(fn_spectral)+ \".rsp \" + str(fn_spectral) + \".pha+2 RESPFILE\")"
   ]
  },
  {
   "cell_type": "markdown",
   "id": "ae5d4889-04ca-4efb-8986-a6faaabf3d3e",
   "metadata": {},
   "source": [
    "# Time intervals for spectra"
   ]
  },
  {
   "cell_type": "code",
   "execution_count": 18,
   "id": "dfeea89d-d964-4557-9c49-ee47de74dc26",
   "metadata": {},
   "outputs": [],
   "source": [
    "# Add time shift due to GBM vs. KW reference times\n",
    "\n",
    "#fn_spec_times = '/home/guidorzi/ASIM/KW_LCs/GRB201227A_sp.txt'\n",
    "#spec_times = np.loadtxt(fn_spec_times, unpack=True) + tshift\n"
   ]
  }
 ],
 "metadata": {
  "kernelspec": {
   "display_name": "FERMI_GBM",
   "language": "python",
   "name": "fermi_gbm"
  },
  "language_info": {
   "codemirror_mode": {
    "name": "ipython",
    "version": 3
   },
   "file_extension": ".py",
   "mimetype": "text/x-python",
   "name": "python",
   "nbconvert_exporter": "python",
   "pygments_lexer": "ipython3",
   "version": "3.7.0"
  }
 },
 "nbformat": 4,
 "nbformat_minor": 5
}
