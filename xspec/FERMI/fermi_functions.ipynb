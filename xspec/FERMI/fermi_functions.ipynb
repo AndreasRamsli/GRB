{
 "cells": [
  {
   "cell_type": "code",
   "execution_count": 1,
   "id": "571c330d-1648-4320-9eef-c91272ccc056",
   "metadata": {},
   "outputs": [
    {
     "name": "stdout",
     "output_type": "stream",
     "text": [
      "all UiB paths loaded\n",
      "All MAC paths are set!\n",
      "read_matlab_file.ipynb loaded successfully!\n"
     ]
    }
   ],
   "source": [
    "# UIB paths\n",
    "import os\n",
    "path = os.getcwd()\n",
    "\n",
    "if path[1:5] == \"Home\":\n",
    "    %run /Home/siv30/wad005/master/GRB/src/paths/uib.ipynb\n",
    "    %run /Home/siv30/wad005/master/GRB/src/read_matlab_file.ipynb\n",
    "else:\n",
    "    %run /Users/andreas/phys/master/GRB/src/paths/uib.ipynb\n",
    "    %run /Users/andreas/phys/master/GRB/src/read_matlab_file.ipynb"
   ]
  },
  {
   "cell_type": "code",
   "execution_count": 1,
   "id": "1b596770-e522-458b-83fd-bdc45b3ac009",
   "metadata": {},
   "outputs": [
    {
     "name": "stderr",
     "output_type": "stream",
     "text": [
      "/Users/andreas/phys/master/FERMI/venv/lib/python3.7/site-packages/stingray/largememory.py:26: UserWarning: Large Datasets may not be processed efficiently due to computational constraints\n",
      "  \"Large Datasets may not be processed efficiently due to \"\n",
      "/Users/andreas/phys/master/FERMI/venv/lib/python3.7/site-packages/gbm/plot/lal_post_subs.py:184: UserWarning: Basemap not installed. Some functionality not available.\n",
      "  warnings.warn('Basemap not installed. Some functionality not available.')\n"
     ]
    }
   ],
   "source": [
    "import numpy as np\n",
    "import pandas as pd\n",
    "import matplotlib.pyplot as plt\n",
    "import os, re, sys\n",
    "\n",
    "from astropy.io import fits, ascii\n",
    "from astropy.time import Time\n",
    "from stingray import Lightcurve as LC\n",
    "from stingray import CrossCorrelation\n",
    "from dateutil import parser\n",
    "\n",
    "import gbm\n",
    "from gbm.data import TTE,RSP,Trigdat\n",
    "from gbm.data.primitives import EventList\n",
    "from gbm.binning.unbinned import bin_by_time\n",
    "from gbm.plot import Lightcurve, Spectrum\n",
    "from gbm.background import BackgroundFitter\n",
    "from gbm.background.binned import Polynomial #working in ctime for example"
   ]
  },
  {
   "cell_type": "markdown",
   "id": "2b85466d-8026-44e2-8d19-d855bdf9fa1a",
   "metadata": {},
   "source": [
    "# Notes\n",
    "    - gbm.data.pha.PHA (pha) class is for count spectra\n",
    "    - gbm.data.phaii.PHAII (phaii) class is for time history and spectra.\n",
    "        can get spectra by calling this funcs: phaii.to_spectrum()\n",
    "        \n",
    "    - Cross corrolation is done with a ms resolution"
   ]
  },
  {
   "cell_type": "code",
   "execution_count": null,
   "id": "8595c55a-e556-49d2-a397-288e40c1bc27",
   "metadata": {},
   "outputs": [],
   "source": [
    "def crossCorrolate(tus_F=None, kw_filename=None, binsize=None, detector=None, plotting=False):\n",
    "    \"\"\"\n",
    "    TODO: change input from tus_F to tte. Then create a phaii object with energy_range specified from detector_range variable --> lc_data, then LC object with bin_lo +binsize/2 and counts\n",
    "    \n",
    "    \n",
    "    \n",
    "    cross corrolation function between FERMI and KW. Function will itself bin the photon array and return the desired time lag to shift the data into KW ref frame.\n",
    "    \n",
    "    Add t_shift to FERMI lc to bring it into KW ref frame.\n",
    "    \n",
    "    Note:   Only the bins equal to binsize will be used in KW data. \n",
    "            tus_F converted to float32 and KW data converted to float16 for memory saving. \n",
    "            --> KW data only accurate down to 1 ms\n",
    "    \n",
    "    input:\n",
    "    --------------------------------------\n",
    "    tus_F <np.array>: tus array given in seconds. Converted to float32.\n",
    "    kw_filename <str>: filename.\n",
    "    binsize <float>: given in seconds\n",
    "    detector_range <str>: \"high\" or \"low\". High assumes BGO. Corrolates best with G2 (mid) + G3 (high). Low assumes NaI. Corrolates best with G1(low) + G2(mid)\n",
    "    plotting <bool>\n",
    "    \n",
    "    return:\n",
    "    --------------------------------------\n",
    "    tlagg <float>: given in seconds. Rounded to 6 sig figures\n",
    "    if value is positive the FERMI lc must be shiftet right from T0_FERMI and T0 slides to the left\n",
    "    elif value is negative the FERMI lc must be shifted left og T0_FERMI and T0 slides to the right\n",
    "    \n",
    "    t_shift must be added to fermi tte to match the T0 to KW\n",
    "    \"\"\"\n",
    "    \n",
    "    \n",
    "\n",
    "    \n",
    "    #KW handling------------------------------------------------------------------------------\n",
    "    if str(int(binsize*1e3)) != kw_filename[kw_filename.find('_')+1:-6]:\n",
    "        return print('filename and binsize is not correct')\n",
    "    \n",
    "    kw_file = kw_lc_path + kw_filename\n",
    "    kw_df = pd.read_csv(kw_file,sep='\\s+')\n",
    "    kw_bin_lo, kw_bin_hi = kw_df[\"Ti\"].to_numpy(dtype=np.float32), kw_df[\"Tf\"].to_numpy(dtype=np.float32)\n",
    "\n",
    "    kw_dt = np.round(np.diff((kw_bin_lo)),3)\n",
    "    i_stop_kw = np.where(kw_dt>2*binsize)[0][0] #floating point error throwing off\n",
    "\n",
    "    kw_bin_lo, kw_bin_hi = kw_bin_lo[:i_stop_kw], kw_bin_hi[:i_stop_kw]\n",
    "\n",
    "    if detector == \"BGO\":\n",
    "        G2, G3 = kw_df[\"G2\"].to_numpy(dtype=np.float16)[:i_stop_kw], kw_df[\"G3\"].to_numpy(dtype=np.float16)[:i_stop_kw]\n",
    "        kw_counts = G2 + G3\n",
    "    elif detector == \"NaI\":\n",
    "        G1, G2, G3 = kw_df[\"G1\"].to_numpy(dtype=np.float16)[:i_stop_kw], kw_df[\"G2\"].to_numpy(dtype=np.float16)[:i_stop_kw], kw_df[\"G3\"].to_numpy(dtype=np.float16)[:i_stop_kw]\n",
    "        kw_counts = G1 + G2 + G3\n",
    "    else:\n",
    "        print(\"detector not set. For NaI choose 'low' and BGO choose 'high'\")\n",
    "\n",
    "    kw_lc = LC(time=kw_bin_lo + binsize/2, counts=kw_counts,skip_checks=True,dt=binsize)\n",
    "                    \n",
    "    #FERMI handling-------------------------\n",
    "    tus_F = np.float64(tus_F)\n",
    "    kw_first_t, kw_last_t = find_nearest(tus_F,kw_bin_lo[0]), find_nearest(tus_F,kw_bin_hi[-1])\n",
    "    tus_F = tus_F[kw_first_t:kw_last_t]    \n",
    "    fermi_lc = LC.make_lightcurve(tus_F, dt=binsize)\n",
    "    \n",
    "    # Cross corrolating and shifting Fermi\n",
    "    #The first Lightcurve passed is the channel of interest or interest band,\n",
    "    #and the second Lightcurve passed is the reference band.\n",
    "    \n",
    "    CC = CrossCorrelation(kw_lc,fermi_lc,mode=\"full\")\n",
    "    tlagg = np.round(CC.time_shift,6)\n",
    "    fermi_lc_shifted = fermi_lc.shift(tlagg) #CC.time_shift\n",
    "    \n",
    "    #Plotting -----------------------------\n",
    "    if plotting == True:\n",
    "        kw_lc.plot(title=\"KW lc\",axis=(-0.1,0.1,0,70))\n",
    "        fermi_lc_shifted.plot(title=\"FERMI lc shifted\",axis=(-0.1,0.1,0,70))\n",
    "        fermi_lc.plot(title=\"FERMI lc\",axis=(-0.1,0.1,0,70))\n",
    "        CC.plot(labels = ['Time Lags (seconds)','Correlation'])\n",
    "\n",
    "    print(\"tlagg (s) \", tlagg, \" rounded to .6f\")\n",
    "    return tlagg,fermi_lc_shifted,kw_lc,CC"
   ]
  },
  {
   "cell_type": "code",
   "execution_count": 2,
   "id": "bc1298aa-75e0-4574-9a48-8d231b658afe",
   "metadata": {},
   "outputs": [],
   "source": [
    "def createNewTTE(oldTTEObj=None, tlagg=None, binsize=None,unit=None, obj=None, grb_ra=None, grb_dec=None):\n",
    "    \"\"\"\n",
    "    Function preserves all the channels and the whole time range\n",
    "    \n",
    "    Create an EventList object from lists of times, channels, \n",
    "    and the channel bounds. The list of times and channels must be the \n",
    "    same length, and the list of channel boundaries are used to map the\n",
    "    PHA index number in `pha_list` to energy channels.\n",
    "\n",
    "    input------------\n",
    "    oldTTeObj <TTE> \n",
    "    shiftedTTE <np.array>\n",
    "    tlagg <float>: used to shift the trigtime\n",
    "    binsize <float> : given in seconds. Need to convert spectrum to phaii object\n",
    "    unit <str>: which detector is used\n",
    "    obj <str> which GRB is observed\n",
    "    grb_ra <float>\n",
    "    grb_dec <float>\n",
    "                             \n",
    "    \"\"\"\n",
    "    phaii = oldTTEObj.to_phaii(bin_by_time,dt=binsize)\n",
    "    spectrum = phaii.to_spectrum()\n",
    "    newTTEdata = EventList.from_lists(times_list = oldTTEObj.data.times +tlagg, pha_list=oldTTEObj.data.pha,\n",
    "                                      chan_lo=spectrum.lo_edges, chan_hi=spectrum.hi_edges)\n",
    "    \n",
    "    gti = [(shiftedTTE[0],shiftedTTE[-1])]\n",
    "    newTrigtime = tte.trigtime + tlagg\n",
    "    \n",
    "    newTTEObj = TTE.from_data(data=newTTEdata,gti=gti,trigtime=newTrigtime, \n",
    "                              detector=unit,object=obj, ra_obj=grb_ra, dec_obj=grb_dec)\n",
    "    print(\"new TTE object created\")\n",
    "    return newTTEObj\n",
    "    "
   ]
  },
  {
   "cell_type": "code",
   "execution_count": null,
   "id": "e07bbb97-d58d-43e1-b6c2-9bd7a5f824f3",
   "metadata": {},
   "outputs": [],
   "source": [
    "def shiftTTE(tte=None,tlagg=None):\n",
    "    \"\"\" Shift the fermi tte by a tshift\n",
    "    input---------------\n",
    "    tte <np.array>: List of photon arrival times\n",
    "    tshift <float>: value to shift the tte by\n",
    "    \n",
    "    return----------\n",
    "    shifted_tte <np.array>: tte shifted by tshift\n",
    "    \"\"\"\n",
    "    shiftedTTE = tte + tlagg\n",
    "    print(\"tte shifted by {}\".format(tlagg))\n",
    "    return shiftedTTE"
   ]
  },
  {
   "cell_type": "code",
   "execution_count": null,
   "id": "e58c5cfb-615b-46c7-96e6-43875c97ed56",
   "metadata": {},
   "outputs": [],
   "source": [
    "print(\"FERMI functions loaded successfully!\")"
   ]
  }
 ],
 "metadata": {
  "kernelspec": {
   "display_name": "GRB",
   "language": "python",
   "name": "fermi_gbm"
  },
  "language_info": {
   "codemirror_mode": {
    "name": "ipython",
    "version": 3
   },
   "file_extension": ".py",
   "mimetype": "text/x-python",
   "name": "python",
   "nbconvert_exporter": "python",
   "pygments_lexer": "ipython3",
   "version": "3.7.0"
  }
 },
 "nbformat": 4,
 "nbformat_minor": 5
}
