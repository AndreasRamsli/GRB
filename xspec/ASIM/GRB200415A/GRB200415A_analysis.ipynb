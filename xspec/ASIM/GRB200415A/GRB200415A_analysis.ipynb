{
 "cells": [
  {
   "cell_type": "code",
   "execution_count": 323,
   "id": "90bd8485-99a7-4c13-a2b5-0fbf497a1cb2",
   "metadata": {
    "scrolled": true,
    "tags": []
   },
   "outputs": [
    {
     "name": "stdout",
     "output_type": "stream",
     "text": [
      "\n",
      "all UiB paths loaded\n"
     ]
    },
    {
     "data": {
      "text/plain": [
       "<Figure size 800x500 with 0 Axes>"
      ]
     },
     "metadata": {},
     "output_type": "display_data"
    },
    {
     "name": "stdout",
     "output_type": "stream",
     "text": [
      "\n",
      "all UiB paths loaded\n",
      "read_matlab_file.ipynb loaded successfully!\n",
      "\n",
      "all UiB paths loaded\n",
      "\n",
      "all UiB paths loaded\n",
      "read_matlab_file.ipynb loaded successfully!\n",
      "\n",
      "all UiB paths loaded\n",
      "read_matlab_file.ipynb loaded successfully!\n",
      "convert_erg.ipynb loaded successfully!\n",
      "\n",
      "all UiB paths loaded\n",
      "read_matlab_file.ipynb loaded successfully!\n",
      "\n",
      "all UiB paths loaded\n",
      "read_matlab_file.ipynb loaded successfully!\n",
      "convert_erg.ipynb loaded successfully!\n",
      "safety_time.ipynb loaded successfully!\n",
      "\n",
      "all UiB paths loaded\n",
      "\n",
      "all UiB paths loaded\n",
      "read_matlab_file.ipynb loaded successfully!\n",
      "\n",
      "all UiB paths loaded\n",
      "read_matlab_file.ipynb loaded successfully!\n",
      "\n",
      "all UiB paths loaded\n",
      "\n",
      "all UiB paths loaded\n",
      "read_matlab_file.ipynb loaded successfully!\n",
      "\n",
      "all UiB paths loaded\n",
      "read_matlab_file.ipynb loaded successfully!\n",
      "\n",
      "all UiB paths loaded\n",
      "read_matlab_file.ipynb loaded successfully!\n",
      "convert_erg.ipynb loaded successfully!\n",
      "\n",
      "all UiB paths loaded\n",
      "read_matlab_file.ipynb loaded successfully!\n",
      "\n",
      "all UiB paths loaded\n",
      "read_matlab_file.ipynb loaded successfully!\n",
      "convert_erg.ipynb loaded successfully!\n",
      "safety_time.ipynb loaded successfully!\n",
      "LC_calibration loaded successfully!\n",
      "\n",
      "all UiB paths loaded\n",
      "\n",
      "all UiB paths loaded\n",
      "read_matlab_file.ipynb loaded successfully!\n",
      "\n",
      "all UiB paths loaded\n",
      "read_matlab_file.ipynb loaded successfully!\n",
      "\n",
      "all UiB paths loaded\n",
      "read_matlab_file.ipynb loaded successfully!\n",
      "convert_erg.ipynb loaded successfully!\n",
      "\n",
      "all UiB paths loaded\n",
      "read_matlab_file.ipynb loaded successfully!\n",
      "\n",
      "all UiB paths loaded\n",
      "read_matlab_file.ipynb loaded successfully!\n",
      "convert_erg.ipynb loaded successfully!\n",
      "safety_time.ipynb loaded successfully!\n",
      "LC_calibration loaded successfully!\n"
     ]
    }
   ],
   "source": [
    "import os\n",
    "path = os.getcwd()\n",
    "%matplotlib inline\n",
    "\n",
    "if path[1:5] == 'Home':\n",
    "    %run /Home/siv30/wad005/master/GRB/src/harvest_matlab_data.ipynb\n",
    "    %run /Home/siv30/wad005/master/GRB/src/background_rates.ipynb\n",
    "    %run /Home/siv30/wad005/master/GRB/src/dau_det_distribution.ipynb\n",
    "    %run /Home/siv30/wad005/master/GRB/src/ASIMXspec.ipynb\n",
    "    %run /Home/siv30/wad005/master/GRB/xspec/ASIM/ASIMFits/BAK/ASIMbak.ipynb\n",
    "    %run /Home/siv30/wad005/master/GRB/xspec/ASIM/ASIMFits/PHA/ASIMpha.ipynb\n",
    "    %run /Home/siv30/wad005/master/GRB/xspec/ASIM/ASIMFits/RSP/ASIMrsp.ipynb\n",
    "    %run /Home/siv30/wad005/master/GRB/xspec/ASIM/ASIMFits/RSP/find_closest_DRM.ipynb\n",
    "else:\n",
    "    %run /Users/andreas/phys/master/GRB/src/harvest_matlab_data.ipynb\n",
    "    %run /Users/andreas/phys/master/GRB/src/background_rates.ipynb\n",
    "    %run /Users/andreas/phys/master/GRB/src/dau_det_distribution.ipynb\n",
    "    %run /Users/andreas/phys/master/GRB/src/ASIMXspec.ipynb\n",
    "    %run /Users/andreas/phys/master/GRB/xspec/ASIM/ASIMFits/BAK/ASIMbak.ipynb\n",
    "    %run /Users/andreas/phys/master/GRB/xspec/ASIM/ASIMFits/PHA/ASIMpha.ipynb\n",
    "    %run /Users/andreas/phys//master/GRB/xspec/ASIM/ASIMFits/RSP/ASIMrsp.ipynb\n",
    "    %run /Users/andreas/phys//master/GRB/xspec/ASIM/ASIMFits/RSP/find_closest_DRM.ipynb"
   ]
  },
  {
   "cell_type": "code",
   "execution_count": 324,
   "id": "c7871362-bf32-46fd-9e31-3f042c6ee30a",
   "metadata": {},
   "outputs": [
    {
     "name": "stdout",
     "output_type": "stream",
     "text": [
      "dau/det starting from index 1\n",
      "tus array given in seconds\n",
      "safety time:  0.35 % removed\n",
      "tus given in seconds\n"
     ]
    }
   ],
   "source": [
    "df_harvest = harvest_data(fn='2020_4_15_8_48_5',T0='2020-04-15T08:48:05.528')\n",
    "T0=datetime.fromisoformat('2020-04-15T08:48:05.528')"
   ]
  },
  {
   "cell_type": "code",
   "execution_count": null,
   "id": "bc8652e4-6db2-48b8-822b-4228af803b4f",
   "metadata": {},
   "outputs": [],
   "source": []
  },
  {
   "cell_type": "code",
   "execution_count": null,
   "id": "dd94bc25-294e-40da-938e-f84fd419b641",
   "metadata": {},
   "outputs": [],
   "source": []
  },
  {
   "cell_type": "code",
   "execution_count": null,
   "id": "4ffd9c8a-f600-4376-964e-413d4f0ce209",
   "metadata": {},
   "outputs": [],
   "source": []
  },
  {
   "cell_type": "code",
   "execution_count": null,
   "id": "49ac6165-439b-4945-accf-de25255daa6e",
   "metadata": {},
   "outputs": [],
   "source": []
  },
  {
   "cell_type": "code",
   "execution_count": null,
   "id": "8b6521b5-3aa2-4673-ab6e-b028c42dbb4e",
   "metadata": {},
   "outputs": [],
   "source": []
  },
  {
   "cell_type": "code",
   "execution_count": null,
   "id": "02772920-244a-41b9-acb0-2becf135a809",
   "metadata": {},
   "outputs": [],
   "source": []
  },
  {
   "cell_type": "code",
   "execution_count": null,
   "id": "4c1b05a7-0ac8-49a4-ad23-5b2924fa037f",
   "metadata": {},
   "outputs": [],
   "source": []
  },
  {
   "cell_type": "code",
   "execution_count": null,
   "id": "0352b6fe-ed31-4608-b207-085fd8e72041",
   "metadata": {},
   "outputs": [],
   "source": []
  },
  {
   "cell_type": "code",
   "execution_count": null,
   "id": "e07857aa-9273-4746-822e-681f291a7585",
   "metadata": {},
   "outputs": [],
   "source": []
  }
 ],
 "metadata": {
  "kernelspec": {
   "display_name": "base",
   "language": "python",
   "name": "base"
  },
  "language_info": {
   "codemirror_mode": {
    "name": "ipython",
    "version": 3
   },
   "file_extension": ".py",
   "mimetype": "text/x-python",
   "name": "python",
   "nbconvert_exporter": "python",
   "pygments_lexer": "ipython3",
   "version": "3.9.7"
  }
 },
 "nbformat": 4,
 "nbformat_minor": 5
}
