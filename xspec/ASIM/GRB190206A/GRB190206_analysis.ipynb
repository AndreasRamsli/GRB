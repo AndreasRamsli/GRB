{
 "cells": [
  {
   "cell_type": "code",
   "execution_count": 5,
   "id": "66fafb02-f252-4902-bf72-987ead44bc1b",
   "metadata": {},
   "outputs": [
    {
     "name": "stdout",
     "output_type": "stream",
     "text": [
      "\n",
      "all UiB paths loaded\n"
     ]
    },
    {
     "data": {
      "text/plain": [
       "<Figure size 800x500 with 0 Axes>"
      ]
     },
     "metadata": {},
     "output_type": "display_data"
    },
    {
     "name": "stdout",
     "output_type": "stream",
     "text": [
      "\n",
      "all UiB paths loaded\n",
      "read_matlab_file.ipynb loaded successfully!\n",
      "\n",
      "all UiB paths loaded\n",
      "\n",
      "all UiB paths loaded\n",
      "read_matlab_file.ipynb loaded successfully!\n",
      "\n",
      "all UiB paths loaded\n",
      "read_matlab_file.ipynb loaded successfully!\n",
      "convert_erg.ipynb loaded successfully!\n",
      "\n",
      "all UiB paths loaded\n",
      "read_matlab_file.ipynb loaded successfully!\n",
      "\n",
      "all UiB paths loaded\n",
      "read_matlab_file.ipynb loaded successfully!\n",
      "convert_erg.ipynb loaded successfully!\n",
      "safety_time.ipynb loaded successfully!\n",
      "\n",
      "all UiB paths loaded\n",
      "\n",
      "all UiB paths loaded\n",
      "read_matlab_file.ipynb loaded successfully!\n",
      "\n",
      "all UiB paths loaded\n",
      "read_matlab_file.ipynb loaded successfully!\n",
      "\n",
      "all UiB paths loaded\n",
      "\n",
      "all UiB paths loaded\n",
      "read_matlab_file.ipynb loaded successfully!\n",
      "\n",
      "all UiB paths loaded\n",
      "read_matlab_file.ipynb loaded successfully!\n",
      "\n",
      "all UiB paths loaded\n",
      "read_matlab_file.ipynb loaded successfully!\n",
      "convert_erg.ipynb loaded successfully!\n",
      "\n",
      "all UiB paths loaded\n",
      "read_matlab_file.ipynb loaded successfully!\n",
      "\n",
      "all UiB paths loaded\n",
      "read_matlab_file.ipynb loaded successfully!\n",
      "convert_erg.ipynb loaded successfully!\n",
      "safety_time.ipynb loaded successfully!\n",
      "LC_calibration loaded successfully!\n"
     ]
    }
   ],
   "source": [
    "import os\n",
    "path = os.getcwd()\n",
    "\n",
    "if path[1:5] == 'Home':\n",
    "    %run /Home/siv30/wad005/master/GRB/src/harvest_matlab_data.ipynb\n",
    "    %run /Home/siv30/wad005/master/GRB/src/background_rates.ipynb\n",
    "    %run /Home/siv30/wad005/master/GRB/src/dau_det_distribution.ipynb\n",
    "\n",
    "else:\n",
    "    %run /Users/andreas/phys/master/GRB/src/harvest_matlab_data.ipynb\n",
    "    %run /Users/andreas/phys/master/GRB/src/background_rates.ipynb\n",
    "    %run /Users/andreas/phys/master/GRB/src/dau_det_distribution.ipynb"
   ]
  },
  {
   "cell_type": "code",
   "execution_count": 6,
   "id": "237ea3e3-8b7e-490c-bf71-cf2089287950",
   "metadata": {},
   "outputs": [
    {
     "name": "stdout",
     "output_type": "stream",
     "text": [
      "2019-02-06 03:49:28.525000\n",
      "bkg starts and ends at:  130 132 s\n",
      "dau/det starting from index 1\n",
      "tus array given in seconds\n",
      "df sorted by tus\n",
      "tus array given in us\n",
      "safety time:  0.307 % removed\n",
      "background count rate:  10758.816  counts/s\n",
      "returning count_rate and background df (sorted by tus (us) and st removed)\n"
     ]
    }
   ],
   "source": [
    "cr,df = get_count_rate(fn='2019_2_6_3_49_28',T0='2019-02-06T03:49:28.525',bkg_start=130,bkg_end=132)"
   ]
  },
  {
   "cell_type": "code",
   "execution_count": 7,
   "id": "95a69cf5-470c-4d57-ad24-7d4952e815a8",
   "metadata": {},
   "outputs": [
    {
     "data": {
      "text/html": [
       "<div>\n",
       "<style scoped>\n",
       "    .dataframe tbody tr th:only-of-type {\n",
       "        vertical-align: middle;\n",
       "    }\n",
       "\n",
       "    .dataframe tbody tr th {\n",
       "        vertical-align: top;\n",
       "    }\n",
       "\n",
       "    .dataframe thead th {\n",
       "        text-align: right;\n",
       "    }\n",
       "</style>\n",
       "<table border=\"1\" class=\"dataframe\">\n",
       "  <thead>\n",
       "    <tr style=\"text-align: right;\">\n",
       "      <th></th>\n",
       "      <th>year</th>\n",
       "      <th>month</th>\n",
       "      <th>day</th>\n",
       "      <th>hour</th>\n",
       "      <th>minute</th>\n",
       "      <th>second</th>\n",
       "      <th>erg</th>\n",
       "      <th>dau</th>\n",
       "      <th>det</th>\n",
       "      <th>datetime</th>\n",
       "      <th>tus</th>\n",
       "      <th>adr</th>\n",
       "      <th>keV</th>\n",
       "      <th>st</th>\n",
       "      <th>dt</th>\n",
       "      <th>flag</th>\n",
       "    </tr>\n",
       "  </thead>\n",
       "  <tbody>\n",
       "    <tr>\n",
       "      <th>0</th>\n",
       "      <td>2019</td>\n",
       "      <td>2</td>\n",
       "      <td>6</td>\n",
       "      <td>3</td>\n",
       "      <td>51</td>\n",
       "      <td>38.622353</td>\n",
       "      <td>93</td>\n",
       "      <td>1</td>\n",
       "      <td>1</td>\n",
       "      <td>2019-02-06 03:51:38.622353472</td>\n",
       "      <td>1.300974e+08</td>\n",
       "      <td>1</td>\n",
       "      <td>874.944104</td>\n",
       "      <td>2.499776</td>\n",
       "      <td>0.000</td>\n",
       "      <td>False</td>\n",
       "    </tr>\n",
       "    <tr>\n",
       "      <th>12210</th>\n",
       "      <td>2019</td>\n",
       "      <td>2</td>\n",
       "      <td>6</td>\n",
       "      <td>3</td>\n",
       "      <td>51</td>\n",
       "      <td>38.622511</td>\n",
       "      <td>1654</td>\n",
       "      <td>3</td>\n",
       "      <td>2</td>\n",
       "      <td>2019-02-06 03:51:38.622510667</td>\n",
       "      <td>1.300975e+08</td>\n",
       "      <td>8</td>\n",
       "      <td>31454.881400</td>\n",
       "      <td>20.745858</td>\n",
       "      <td>0.000</td>\n",
       "      <td>False</td>\n",
       "    </tr>\n",
       "    <tr>\n",
       "      <th>10512</th>\n",
       "      <td>2019</td>\n",
       "      <td>2</td>\n",
       "      <td>6</td>\n",
       "      <td>3</td>\n",
       "      <td>51</td>\n",
       "      <td>38.622511</td>\n",
       "      <td>1617</td>\n",
       "      <td>3</td>\n",
       "      <td>1</td>\n",
       "      <td>2019-02-06 03:51:38.622510694</td>\n",
       "      <td>1.300975e+08</td>\n",
       "      <td>7</td>\n",
       "      <td>30270.354849</td>\n",
       "      <td>19.216284</td>\n",
       "      <td>0.000</td>\n",
       "      <td>False</td>\n",
       "    </tr>\n",
       "    <tr>\n",
       "      <th>8950</th>\n",
       "      <td>2019</td>\n",
       "      <td>2</td>\n",
       "      <td>6</td>\n",
       "      <td>3</td>\n",
       "      <td>51</td>\n",
       "      <td>38.622511</td>\n",
       "      <td>105</td>\n",
       "      <td>2</td>\n",
       "      <td>3</td>\n",
       "      <td>2019-02-06 03:51:38.622510778</td>\n",
       "      <td>1.300975e+08</td>\n",
       "      <td>6</td>\n",
       "      <td>1008.719990</td>\n",
       "      <td>6.029067</td>\n",
       "      <td>0.000</td>\n",
       "      <td>False</td>\n",
       "    </tr>\n",
       "    <tr>\n",
       "      <th>18886</th>\n",
       "      <td>2019</td>\n",
       "      <td>2</td>\n",
       "      <td>6</td>\n",
       "      <td>3</td>\n",
       "      <td>51</td>\n",
       "      <td>38.622511</td>\n",
       "      <td>242</td>\n",
       "      <td>4</td>\n",
       "      <td>3</td>\n",
       "      <td>2019-02-06 03:51:38.622510806</td>\n",
       "      <td>1.300975e+08</td>\n",
       "      <td>12</td>\n",
       "      <td>3055.030700</td>\n",
       "      <td>7.220123</td>\n",
       "      <td>0.000</td>\n",
       "      <td>False</td>\n",
       "    </tr>\n",
       "    <tr>\n",
       "      <th>...</th>\n",
       "      <td>...</td>\n",
       "      <td>...</td>\n",
       "      <td>...</td>\n",
       "      <td>...</td>\n",
       "      <td>...</td>\n",
       "      <td>...</td>\n",
       "      <td>...</td>\n",
       "      <td>...</td>\n",
       "      <td>...</td>\n",
       "      <td>...</td>\n",
       "      <td>...</td>\n",
       "      <td>...</td>\n",
       "      <td>...</td>\n",
       "      <td>...</td>\n",
       "      <td>...</td>\n",
       "      <td>...</td>\n",
       "    </tr>\n",
       "    <tr>\n",
       "      <th>12209</th>\n",
       "      <td>2019</td>\n",
       "      <td>2</td>\n",
       "      <td>6</td>\n",
       "      <td>3</td>\n",
       "      <td>51</td>\n",
       "      <td>40.524306</td>\n",
       "      <td>1636</td>\n",
       "      <td>3</td>\n",
       "      <td>1</td>\n",
       "      <td>2019-02-06 03:51:40.524305722</td>\n",
       "      <td>1.319993e+08</td>\n",
       "      <td>7</td>\n",
       "      <td>30573.472926</td>\n",
       "      <td>19.458778</td>\n",
       "      <td>316.722</td>\n",
       "      <td>False</td>\n",
       "    </tr>\n",
       "    <tr>\n",
       "      <th>5551</th>\n",
       "      <td>2019</td>\n",
       "      <td>2</td>\n",
       "      <td>6</td>\n",
       "      <td>3</td>\n",
       "      <td>51</td>\n",
       "      <td>40.524306</td>\n",
       "      <td>258</td>\n",
       "      <td>1</td>\n",
       "      <td>3</td>\n",
       "      <td>2019-02-06 03:51:40.524305861</td>\n",
       "      <td>1.319993e+08</td>\n",
       "      <td>3</td>\n",
       "      <td>2750.421400</td>\n",
       "      <td>9.003371</td>\n",
       "      <td>316.833</td>\n",
       "      <td>False</td>\n",
       "    </tr>\n",
       "    <tr>\n",
       "      <th>20531</th>\n",
       "      <td>2019</td>\n",
       "      <td>2</td>\n",
       "      <td>6</td>\n",
       "      <td>3</td>\n",
       "      <td>51</td>\n",
       "      <td>40.524306</td>\n",
       "      <td>1175</td>\n",
       "      <td>4</td>\n",
       "      <td>3</td>\n",
       "      <td>2019-02-06 03:51:40.524305861</td>\n",
       "      <td>1.319993e+08</td>\n",
       "      <td>12</td>\n",
       "      <td>17784.068450</td>\n",
       "      <td>22.113627</td>\n",
       "      <td>850.917</td>\n",
       "      <td>False</td>\n",
       "    </tr>\n",
       "    <tr>\n",
       "      <th>7378</th>\n",
       "      <td>2019</td>\n",
       "      <td>2</td>\n",
       "      <td>6</td>\n",
       "      <td>3</td>\n",
       "      <td>51</td>\n",
       "      <td>40.524855</td>\n",
       "      <td>135</td>\n",
       "      <td>2</td>\n",
       "      <td>1</td>\n",
       "      <td>2019-02-06 03:51:40.524855417</td>\n",
       "      <td>1.319999e+08</td>\n",
       "      <td>4</td>\n",
       "      <td>933.756225</td>\n",
       "      <td>6.337562</td>\n",
       "      <td>866.250</td>\n",
       "      <td>False</td>\n",
       "    </tr>\n",
       "    <tr>\n",
       "      <th>15647</th>\n",
       "      <td>2019</td>\n",
       "      <td>2</td>\n",
       "      <td>6</td>\n",
       "      <td>3</td>\n",
       "      <td>51</td>\n",
       "      <td>40.524886</td>\n",
       "      <td>38</td>\n",
       "      <td>3</td>\n",
       "      <td>3</td>\n",
       "      <td>2019-02-06 03:51:40.524886250</td>\n",
       "      <td>1.319999e+08</td>\n",
       "      <td>9</td>\n",
       "      <td>852.783198</td>\n",
       "      <td>0.705566</td>\n",
       "      <td>897.056</td>\n",
       "      <td>False</td>\n",
       "    </tr>\n",
       "  </tbody>\n",
       "</table>\n",
       "<p>20469 rows × 16 columns</p>\n",
       "</div>"
      ],
      "text/plain": [
       "       year  month  day  hour  minute     second   erg dau det  \\\n",
       "0      2019      2    6     3      51  38.622353    93   1   1   \n",
       "12210  2019      2    6     3      51  38.622511  1654   3   2   \n",
       "10512  2019      2    6     3      51  38.622511  1617   3   1   \n",
       "8950   2019      2    6     3      51  38.622511   105   2   3   \n",
       "18886  2019      2    6     3      51  38.622511   242   4   3   \n",
       "...     ...    ...  ...   ...     ...        ...   ...  ..  ..   \n",
       "12209  2019      2    6     3      51  40.524306  1636   3   1   \n",
       "5551   2019      2    6     3      51  40.524306   258   1   3   \n",
       "20531  2019      2    6     3      51  40.524306  1175   4   3   \n",
       "7378   2019      2    6     3      51  40.524855   135   2   1   \n",
       "15647  2019      2    6     3      51  40.524886    38   3   3   \n",
       "\n",
       "                           datetime           tus  adr           keV  \\\n",
       "0     2019-02-06 03:51:38.622353472  1.300974e+08    1    874.944104   \n",
       "12210 2019-02-06 03:51:38.622510667  1.300975e+08    8  31454.881400   \n",
       "10512 2019-02-06 03:51:38.622510694  1.300975e+08    7  30270.354849   \n",
       "8950  2019-02-06 03:51:38.622510778  1.300975e+08    6   1008.719990   \n",
       "18886 2019-02-06 03:51:38.622510806  1.300975e+08   12   3055.030700   \n",
       "...                             ...           ...  ...           ...   \n",
       "12209 2019-02-06 03:51:40.524305722  1.319993e+08    7  30573.472926   \n",
       "5551  2019-02-06 03:51:40.524305861  1.319993e+08    3   2750.421400   \n",
       "20531 2019-02-06 03:51:40.524305861  1.319993e+08   12  17784.068450   \n",
       "7378  2019-02-06 03:51:40.524855417  1.319999e+08    4    933.756225   \n",
       "15647 2019-02-06 03:51:40.524886250  1.319999e+08    9    852.783198   \n",
       "\n",
       "              st       dt   flag  \n",
       "0       2.499776    0.000  False  \n",
       "12210  20.745858    0.000  False  \n",
       "10512  19.216284    0.000  False  \n",
       "8950    6.029067    0.000  False  \n",
       "18886   7.220123    0.000  False  \n",
       "...          ...      ...    ...  \n",
       "12209  19.458778  316.722  False  \n",
       "5551    9.003371  316.833  False  \n",
       "20531  22.113627  850.917  False  \n",
       "7378    6.337562  866.250  False  \n",
       "15647   0.705566  897.056  False  \n",
       "\n",
       "[20469 rows x 16 columns]"
      ]
     },
     "execution_count": 7,
     "metadata": {},
     "output_type": "execute_result"
    }
   ],
   "source": [
    "df"
   ]
  },
  {
   "cell_type": "code",
   "execution_count": 8,
   "id": "420ec0d3-36fc-4752-994e-8add36864b33",
   "metadata": {},
   "outputs": [
    {
     "name": "stdout",
     "output_type": "stream",
     "text": [
      "tus array OK ...\n"
     ]
    },
    {
     "data": {
      "image/png": "[encoded data removed]",
      "text/plain": [
       "<Figure size 1152x648 with 1 Axes>"
      ]
     },
     "metadata": {
      "needs_background": "light"
     },
     "output_type": "display_data"
    }
   ],
   "source": [
    "plot_HED(tus_arr = df['tus'].to_numpy(),T0 = datetime.fromisoformat('2019-02-06T03:49:28.525'))"
   ]
  },
  {
   "cell_type": "code",
   "execution_count": 9,
   "id": "8d6b05c1-6e69-44e4-afe2-362b57e012b2",
   "metadata": {},
   "outputs": [
    {
     "name": "stdout",
     "output_type": "stream",
     "text": [
      "dau/det starting from index 1\n",
      "tus array given in seconds\n",
      "df sorted by tus\n",
      "231.73613600000002  keV 43.3  MeV \n",
      "safety time:  0.307 % removed\n",
      "counts on interval:  20468\n"
     ]
    },
    {
     "data": {
      "image/png": "[encoded data removed]",
      "text/plain": [
       "<Figure size 864x864 with 2 Axes>"
      ]
     },
     "metadata": {
      "needs_background": "light"
     },
     "output_type": "display_data"
    },
    {
     "name": "stdout",
     "output_type": "stream",
     "text": [
      "tus array OK ...\n"
     ]
    },
    {
     "data": {
      "image/png": "[encoded data removed]",
      "text/plain": [
       "<Figure size 1152x648 with 1 Axes>"
      ]
     },
     "metadata": {
      "needs_background": "light"
     },
     "output_type": "display_data"
    }
   ],
   "source": [
    "#check if the same df is returned here as with count_rate function\n",
    "df_heat = static_heat(fn='2019_2_6_3_49_28',T0='2019-02-06T03:49:28.525',t_obs_start=130,t_obs_end=132,t_start=130, t_end=132,tlagg=0.0)"
   ]
  },
  {
   "cell_type": "code",
   "execution_count": 10,
   "id": "73778549-04b1-4795-86cf-26d65ee7fc5d",
   "metadata": {},
   "outputs": [
    {
     "data": {
      "text/plain": [
       "0"
      ]
     },
     "execution_count": 10,
     "metadata": {},
     "output_type": "execute_result"
    }
   ],
   "source": [
    "len(df_heat['tus'].to_numpy())-len(df['tus'].to_numpy())"
   ]
  },
  {
   "cell_type": "code",
   "execution_count": null,
   "id": "da364281-f90f-49d2-a9d6-d56a5f17f73a",
   "metadata": {},
   "outputs": [],
   "source": []
  }
 ],
 "metadata": {
  "kernelspec": {
   "display_name": "base",
   "language": "python",
   "name": "base"
  },
  "language_info": {
   "codemirror_mode": {
    "name": "ipython",
    "version": 3
   },
   "file_extension": ".py",
   "mimetype": "text/x-python",
   "name": "python",
   "nbconvert_exporter": "python",
   "pygments_lexer": "ipython3",
   "version": "3.9.7"
  }
 },
 "nbformat": 4,
 "nbformat_minor": 5
}
