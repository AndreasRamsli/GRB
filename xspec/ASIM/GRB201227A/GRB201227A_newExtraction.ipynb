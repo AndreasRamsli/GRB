{
 "cells": [
  {
   "cell_type": "markdown",
   "id": "9e53bfdd-5d82-4c11-ab1c-659d64c08cf5",
   "metadata": {},
   "source": [
    "# imports"
   ]
  },
  {
   "cell_type": "code",
   "execution_count": null,
   "id": "60e01b40-73d7-48b0-846d-e08ee7b7c7d4",
   "metadata": {},
   "outputs": [],
   "source": [
    "import os\n",
    "path = os.getcwd()\n",
    "\n",
    "if path[1:5] == 'Home':\n",
    "    %run /Home/siv30/wad005/master/GRB/src/harvest_matlab_data.ipynb\n",
    "    #%run /Home/siv30/wad005/master/GRB/src/dau_det_distribution.ipynb\n",
    "    %run /Home/siv30/wad005/master/GRB/src/ASIMXspec.ipynb\n",
    "    %run /Home/siv30/wad005/master/GRB/xspec/ASIM/ASIMFits/BAK/ASIMbak.ipynb\n",
    "    %run /Home/siv30/wad005/master/GRB/xspec/ASIM/ASIMFits/PHA/ASIMpha.ipynb\n",
    "    %run /Home/siv30/wad005/master/GRB/xspec/ASIM/ASIMFits/RSP/ASIMrsp.ipynb\n",
    "    %run /Home/siv30/wad005/master/GRB/xspec/ASIM/ASIMFits/RSP/find_closest_DRM.ipynb\n",
    "    %run /Home/siv30/wad005/useful_py_functions/matplotlib_custom_style_and_macros.py\n",
    "    mat_path = '/Home/siv30/wad005/master/GRB/MATLAB/andrey_mezentsev/'\n",
    "else:\n",
    "    %run /Users/andreas/phys/master/GRB/src/harvest_matlab_data.ipynb\n",
    "    #%run /Users/andreas/phys/master/GRB/src/dau_det_distribution.ipynb\n",
    "    %run /Users/andreas/phys/master/GRB/src/ASIMXspec.ipynb\n",
    "    %run /Users/andreas/phys/master/GRB/xspec/ASIM/ASIMFits/BAK/ASIMbak.ipynb\n",
    "    %run /Users/andreas/phys/master/GRB/xspec/ASIM/ASIMFits/PHA/ASIMpha.ipynb\n",
    "    %run /Users/andreas/phys/master/GRB/xspec/ASIM/ASIMFits/RSP/ASIMrsp.ipynb\n",
    "    %run /Users/andreas/phys/master/GRB/xspec/ASIM/ASIMFits/RSP/find_closest_DRM.ipynb\n",
    "    mat_path = '/Users/andreas/phys/master/GRB/MATLAB/andrey_mezentsev/'\n",
    "    \n",
    "from stingray import Lightcurve as LC\n",
    "from stingray import CrossCorrelation as CC\n",
    "import numpy as np\n",
    "import matplotlib.pyplot as plt\n",
    "import os, re, sys\n",
    "from astropy.io import fits, ascii\n",
    "from astropy.time import Time\n",
    "import scipy.io\n",
    "import pandas as pd\n",
    "\n",
    "from gbm.data import TTE,RSP,Trigdat\n",
    "from gbm.binning.unbinned import bin_by_time\n",
    "from gbm.plot import Lightcurve, Spectrum\n",
    "from gbm.background import BackgroundFitter\n",
    "from gbm.background.binned import Polynomial #working in ctime for example"
   ]
  },
  {
   "cell_type": "code",
   "execution_count": 4,
   "id": "48298e9c-7622-443b-96aa-161b5501fbd8",
   "metadata": {},
   "outputs": [
    {
     "data": {
      "image/png": "[encoded data removed]",
      "text/plain": [
       "<Figure size 800x500 with 1 Axes>"
      ]
     },
     "metadata": {},
     "output_type": "display_data"
    }
   ],
   "source": [
    "df_asim = pd.read_csv(mat_path+'GRB201227A.csv')\n",
    "#working with [s]\n",
    "\n",
    "tlagg_approx = -0.531\n",
    "df_asim['tus'] /= 1e6\n",
    "df_asim['tus'] += tlagg\n",
    "tus = df_asim['tus'].to_numpy(dtype=np.float64)\n",
    "binsize = 0.002 #16ms\n",
    "bins = np.arange(min(tus),max(tus)+binsize,binsize)\n",
    "plt.hist(tus,bins=bins)\n",
    "#plt.vlines(x=-0.0293,ymin=0,ymax=50,color='r')\n",
    "plt.show()"
   ]
  },
  {
   "cell_type": "code",
   "execution_count": 5,
   "id": "0cb648a3-e2f0-4ace-983e-3ffab342df17",
   "metadata": {},
   "outputs": [
    {
     "data": {
      "text/html": [
       "<div>\n",
       "<style scoped>\n",
       "    .dataframe tbody tr th:only-of-type {\n",
       "        vertical-align: middle;\n",
       "    }\n",
       "\n",
       "    .dataframe tbody tr th {\n",
       "        vertical-align: top;\n",
       "    }\n",
       "\n",
       "    .dataframe thead th {\n",
       "        text-align: right;\n",
       "    }\n",
       "</style>\n",
       "<table border=\"1\" class=\"dataframe\">\n",
       "  <thead>\n",
       "    <tr style=\"text-align: right;\">\n",
       "      <th></th>\n",
       "      <th>tus</th>\n",
       "      <th>dau</th>\n",
       "      <th>det</th>\n",
       "      <th>typ</th>\n",
       "      <th>erg</th>\n",
       "      <th>adr</th>\n",
       "    </tr>\n",
       "  </thead>\n",
       "  <tbody>\n",
       "    <tr>\n",
       "      <th>0</th>\n",
       "      <td>-0.996780</td>\n",
       "      <td>1</td>\n",
       "      <td>1</td>\n",
       "      <td>0</td>\n",
       "      <td>502</td>\n",
       "      <td>1</td>\n",
       "    </tr>\n",
       "    <tr>\n",
       "      <th>1</th>\n",
       "      <td>-0.993412</td>\n",
       "      <td>1</td>\n",
       "      <td>1</td>\n",
       "      <td>0</td>\n",
       "      <td>234</td>\n",
       "      <td>1</td>\n",
       "    </tr>\n",
       "    <tr>\n",
       "      <th>2</th>\n",
       "      <td>-0.990720</td>\n",
       "      <td>1</td>\n",
       "      <td>1</td>\n",
       "      <td>0</td>\n",
       "      <td>35</td>\n",
       "      <td>1</td>\n",
       "    </tr>\n",
       "    <tr>\n",
       "      <th>3</th>\n",
       "      <td>-0.987858</td>\n",
       "      <td>1</td>\n",
       "      <td>1</td>\n",
       "      <td>0</td>\n",
       "      <td>118</td>\n",
       "      <td>1</td>\n",
       "    </tr>\n",
       "    <tr>\n",
       "      <th>4</th>\n",
       "      <td>-0.987400</td>\n",
       "      <td>1</td>\n",
       "      <td>1</td>\n",
       "      <td>0</td>\n",
       "      <td>243</td>\n",
       "      <td>1</td>\n",
       "    </tr>\n",
       "  </tbody>\n",
       "</table>\n",
       "</div>"
      ],
      "text/plain": [
       "        tus  dau  det  typ  erg  adr\n",
       "0 -0.996780    1    1    0  502    1\n",
       "1 -0.993412    1    1    0  234    1\n",
       "2 -0.990720    1    1    0   35    1\n",
       "3 -0.987858    1    1    0  118    1\n",
       "4 -0.987400    1    1    0  243    1"
      ]
     },
     "execution_count": 5,
     "metadata": {},
     "output_type": "execute_result"
    }
   ],
   "source": [
    "T0 = datetime.fromisoformat('2018-12-22T15:14:07.002390') + timedelta(seconds=tlagg_approx)#cottected_datetime_level1\n",
    "df_asim = make_adr(df_asim)\n",
    "df_asim.sort_values(by=['adr','tus'],inplace=True,ignore_index=True)\n",
    "df_asim.drop(df_asim[df_asim['typ']==3].index, inplace = True) #removed valleys\n",
    "df_asim.head()"
   ]
  },
  {
   "cell_type": "code",
   "execution_count": 6,
   "id": "5101cb3d-c536-4d93-afe2-b2ef99a43bc0",
   "metadata": {},
   "outputs": [
    {
     "name": "stdout",
     "output_type": "stream",
     "text": [
      "Safety time:  0.018 % removed\n",
      "sorted by tus (s)\n"
     ]
    }
   ],
   "source": [
    "#converting to us\n",
    "df_asim['tus'] *= 1e6\n",
    "tus,erg,dau,det = df_asim['tus'].to_numpy(dtype=np.float64),df_asim['erg'].to_numpy(),df_asim['dau'].to_numpy(),df_asim['det'].to_numpy()\n",
    "keV,abc = convert_erg(erg,dau,det,T0)\n",
    "df_asim['keV'] = keV\n",
    "\n",
    "\n",
    "st,dt = get_st(df_asim),get_dt(df_asim) #st returned in us\n",
    "df_asim['st']=st\n",
    "df_asim['dt']=dt\n",
    "\n",
    "flag = get_flag(df_asim)\n",
    "df_asim['flag'] = flag\n",
    "df_asim.drop(df_asim[get_flag(df_asim)].index,inplace=True)\n",
    "df_asim.sort_values(by='tus',inplace=True,ignore_index=True)\n",
    "df_asim['tus'] /= 1e6\n",
    "print('Safety time: ',np.round((len(np.where(flag==True))/len(tus))*100,3), '% removed')\n",
    "print('sorted by tus (s)')"
   ]
  },
  {
   "cell_type": "code",
   "execution_count": 7,
   "id": "96433d5a-6e29-4423-897c-e1b249bbbb2c",
   "metadata": {},
   "outputs": [
    {
     "data": {
      "text/html": [
       "<div>\n",
       "<style scoped>\n",
       "    .dataframe tbody tr th:only-of-type {\n",
       "        vertical-align: middle;\n",
       "    }\n",
       "\n",
       "    .dataframe tbody tr th {\n",
       "        vertical-align: top;\n",
       "    }\n",
       "\n",
       "    .dataframe thead th {\n",
       "        text-align: right;\n",
       "    }\n",
       "</style>\n",
       "<table border=\"1\" class=\"dataframe\">\n",
       "  <thead>\n",
       "    <tr style=\"text-align: right;\">\n",
       "      <th></th>\n",
       "      <th>tus</th>\n",
       "      <th>dau</th>\n",
       "      <th>det</th>\n",
       "      <th>typ</th>\n",
       "      <th>erg</th>\n",
       "      <th>adr</th>\n",
       "      <th>keV</th>\n",
       "      <th>st</th>\n",
       "      <th>dt</th>\n",
       "      <th>flag</th>\n",
       "    </tr>\n",
       "  </thead>\n",
       "  <tbody>\n",
       "    <tr>\n",
       "      <th>0</th>\n",
       "      <td>-1.000611</td>\n",
       "      <td>1</td>\n",
       "      <td>2</td>\n",
       "      <td>0</td>\n",
       "      <td>27</td>\n",
       "      <td>2</td>\n",
       "      <td>500.4355</td>\n",
       "      <td>1.000871</td>\n",
       "      <td>0.0</td>\n",
       "      <td>False</td>\n",
       "    </tr>\n",
       "    <tr>\n",
       "      <th>1</th>\n",
       "      <td>-0.999945</td>\n",
       "      <td>3</td>\n",
       "      <td>2</td>\n",
       "      <td>0</td>\n",
       "      <td>167</td>\n",
       "      <td>8</td>\n",
       "      <td>4161.3776</td>\n",
       "      <td>3.000000</td>\n",
       "      <td>666.0</td>\n",
       "      <td>False</td>\n",
       "    </tr>\n",
       "    <tr>\n",
       "      <th>2</th>\n",
       "      <td>-0.996780</td>\n",
       "      <td>1</td>\n",
       "      <td>3</td>\n",
       "      <td>0</td>\n",
       "      <td>234</td>\n",
       "      <td>3</td>\n",
       "      <td>2456.0959</td>\n",
       "      <td>6.941461</td>\n",
       "      <td>3441.0</td>\n",
       "      <td>False</td>\n",
       "    </tr>\n",
       "    <tr>\n",
       "      <th>3</th>\n",
       "      <td>-0.996780</td>\n",
       "      <td>1</td>\n",
       "      <td>1</td>\n",
       "      <td>0</td>\n",
       "      <td>502</td>\n",
       "      <td>1</td>\n",
       "      <td>5634.7238</td>\n",
       "      <td>19.000000</td>\n",
       "      <td>0.0</td>\n",
       "      <td>False</td>\n",
       "    </tr>\n",
       "    <tr>\n",
       "      <th>4</th>\n",
       "      <td>-0.993929</td>\n",
       "      <td>1</td>\n",
       "      <td>2</td>\n",
       "      <td>0</td>\n",
       "      <td>39</td>\n",
       "      <td>2</td>\n",
       "      <td>721.1096</td>\n",
       "      <td>1.442219</td>\n",
       "      <td>6682.0</td>\n",
       "      <td>False</td>\n",
       "    </tr>\n",
       "    <tr>\n",
       "      <th>...</th>\n",
       "      <td>...</td>\n",
       "      <td>...</td>\n",
       "      <td>...</td>\n",
       "      <td>...</td>\n",
       "      <td>...</td>\n",
       "      <td>...</td>\n",
       "      <td>...</td>\n",
       "      <td>...</td>\n",
       "      <td>...</td>\n",
       "      <td>...</td>\n",
       "    </tr>\n",
       "    <tr>\n",
       "      <th>5597</th>\n",
       "      <td>1.007537</td>\n",
       "      <td>2</td>\n",
       "      <td>1</td>\n",
       "      <td>0</td>\n",
       "      <td>265</td>\n",
       "      <td>4</td>\n",
       "      <td>1925.2217</td>\n",
       "      <td>11.934516</td>\n",
       "      <td>5344.0</td>\n",
       "      <td>False</td>\n",
       "    </tr>\n",
       "    <tr>\n",
       "      <th>5598</th>\n",
       "      <td>1.008134</td>\n",
       "      <td>2</td>\n",
       "      <td>2</td>\n",
       "      <td>0</td>\n",
       "      <td>1690</td>\n",
       "      <td>5</td>\n",
       "      <td>31617.0975</td>\n",
       "      <td>23.646839</td>\n",
       "      <td>5087.0</td>\n",
       "      <td>False</td>\n",
       "    </tr>\n",
       "    <tr>\n",
       "      <th>5599</th>\n",
       "      <td>1.008134</td>\n",
       "      <td>1</td>\n",
       "      <td>3</td>\n",
       "      <td>0</td>\n",
       "      <td>263</td>\n",
       "      <td>3</td>\n",
       "      <td>2781.4463</td>\n",
       "      <td>9.251571</td>\n",
       "      <td>4019.0</td>\n",
       "      <td>False</td>\n",
       "    </tr>\n",
       "    <tr>\n",
       "      <th>5600</th>\n",
       "      <td>1.008223</td>\n",
       "      <td>2</td>\n",
       "      <td>3</td>\n",
       "      <td>0</td>\n",
       "      <td>91</td>\n",
       "      <td>6</td>\n",
       "      <td>861.5759</td>\n",
       "      <td>4.615759</td>\n",
       "      <td>3709.0</td>\n",
       "      <td>False</td>\n",
       "    </tr>\n",
       "    <tr>\n",
       "      <th>5601</th>\n",
       "      <td>1.008352</td>\n",
       "      <td>3</td>\n",
       "      <td>2</td>\n",
       "      <td>0</td>\n",
       "      <td>29</td>\n",
       "      <td>8</td>\n",
       "      <td>719.2237</td>\n",
       "      <td>0.438447</td>\n",
       "      <td>3129.0</td>\n",
       "      <td>False</td>\n",
       "    </tr>\n",
       "  </tbody>\n",
       "</table>\n",
       "<p>5602 rows × 10 columns</p>\n",
       "</div>"
      ],
      "text/plain": [
       "           tus  dau  det  typ   erg  adr         keV         st      dt   flag\n",
       "0    -1.000611    1    2    0    27    2    500.4355   1.000871     0.0  False\n",
       "1    -0.999945    3    2    0   167    8   4161.3776   3.000000   666.0  False\n",
       "2    -0.996780    1    3    0   234    3   2456.0959   6.941461  3441.0  False\n",
       "3    -0.996780    1    1    0   502    1   5634.7238  19.000000     0.0  False\n",
       "4    -0.993929    1    2    0    39    2    721.1096   1.442219  6682.0  False\n",
       "...        ...  ...  ...  ...   ...  ...         ...        ...     ...    ...\n",
       "5597  1.007537    2    1    0   265    4   1925.2217  11.934516  5344.0  False\n",
       "5598  1.008134    2    2    0  1690    5  31617.0975  23.646839  5087.0  False\n",
       "5599  1.008134    1    3    0   263    3   2781.4463   9.251571  4019.0  False\n",
       "5600  1.008223    2    3    0    91    6    861.5759   4.615759  3709.0  False\n",
       "5601  1.008352    3    2    0    29    8    719.2237   0.438447  3129.0  False\n",
       "\n",
       "[5602 rows x 10 columns]"
      ]
     },
     "execution_count": 7,
     "metadata": {},
     "output_type": "execute_result"
    }
   ],
   "source": [
    "df_asim"
   ]
  },
  {
   "cell_type": "markdown",
   "id": "d8bf34dc-5191-4674-a82c-0e84dfb9df9e",
   "metadata": {},
   "source": [
    "# CC"
   ]
  },
  {
   "cell_type": "code",
   "execution_count": 8,
   "id": "3c946492-2414-4c2d-9089-95b2cd50a493",
   "metadata": {},
   "outputs": [
    {
     "data": {
      "image/png": "[encoded data removed]",
      "text/plain": [
       "<Figure size 800x500 with 1 Axes>"
      ]
     },
     "metadata": {},
     "output_type": "display_data"
    }
   ],
   "source": [
    "kw_filename = \"GRB201227A_2ms.txt\"\n",
    "kw_file = kw_lc_path + kw_filename\n",
    "binsize=0.002\n",
    "\n",
    "kw_df = pd.read_csv(kw_file,sep='\\s+')\n",
    "kw_bin_lo,kw_bin_hi,G1,G2,G3= kw_df[\"Ti\"].to_numpy(dtype=np.float16), kw_df[\"Tf\"].to_numpy(dtype=np.float16),kw_df[\"G1\"].to_numpy(dtype=np.float16), kw_df[\"G2\"].to_numpy(dtype=np.float16), kw_df[\"G3\"].to_numpy(dtype=np.float16)\n",
    "\n",
    "kw_dt = np.round(np.diff(kw_bin_lo),3)\n",
    "i_stop_kw = np.where(kw_dt>2*binsize)[0][0]\n",
    "\n",
    "kw_bin_lo, kw_bin_hi, G1, G2, G3 = kw_bin_lo[:i_stop_kw], kw_bin_hi[:i_stop_kw], G1[:i_stop_kw],G2[:i_stop_kw], G3[:i_stop_kw]\n",
    "kwCounts = G3\n",
    "\n",
    "bins = np.append(kw_bin_lo,kw_bin_hi[-1]) #standard bins\n",
    "\n",
    "kw_lc = LC(time=np.round(kw_bin_lo + binsize/2,3), counts=kwCounts, skip_checks=True,dt=binsize)\n",
    "kw_lc.plot()"
   ]
  },
  {
   "cell_type": "code",
   "execution_count": 9,
   "id": "d8f8604d-5de8-497e-be77-727a80b31306",
   "metadata": {},
   "outputs": [
    {
     "data": {
      "image/png": "[encoded data removed]",
      "text/plain": [
       "<Figure size 800x500 with 1 Axes>"
      ]
     },
     "metadata": {},
     "output_type": "display_data"
    }
   ],
   "source": [
    "tus_asim = df_asim['tus'].to_numpy()\n",
    "\n",
    "asim_counts, asim_edges = np.histogram(tus_asim, bins=bins)\n",
    "j_a_stop = np.searchsorted(asim_edges,-0.10)\n",
    "asim_counts = np.maximum(asim_counts - np.mean(asim_counts[:j_a_stop]), 0) #removing bkg from ASIM\n",
    "\n",
    "plt.step(x=asim_edges[:-1], y=asim_counts/max(asim_counts), where='pre', label='ASIM ex. bkg',c='r')\n",
    "plt.step(x=bins[:-1],y=G3/max(G3),where='pre',label='KW ex. bkg',c='black')\n",
    "plt.vlines(x=-0.1,ymin=0,ymax=1.1,color='blue',label='bkg stop')\n",
    "plt.ylim(bottom=0)\n",
    "plt.legend()\n",
    "plt.title(\"GRB201227A tlagg applied to ASIM\")\n",
    "plt.show() #evident that the asim lc must be shifted by ~ -0.6s"
   ]
  },
  {
   "cell_type": "code",
   "execution_count": 10,
   "id": "8fb48b26-76eb-480a-925a-845d9a0817b2",
   "metadata": {},
   "outputs": [
    {
     "data": {
      "text/plain": [
       "True"
      ]
     },
     "execution_count": 10,
     "metadata": {},
     "output_type": "execute_result"
    }
   ],
   "source": [
    "asim_lc = LC(time=asim_edges.astype(np.float32)[:-1]+binsize/2,counts=asim_counts.astype(np.int32),skip_checks=True)\n",
    "kw_lc = LC(time=bins.astype(np.float32)[:-1]+binsize/2,counts=G3.astype(np.int32),skip_checks=True)\n",
    "np.all(asim_lc.bin_lo == kw_lc.bin_lo)"
   ]
  },
  {
   "cell_type": "code",
   "execution_count": 29,
   "id": "8d1b8edb-17a8-47ce-8ac4-2f211af0aa8a",
   "metadata": {},
   "outputs": [
    {
     "data": {
      "text/plain": [
       "'/Users/andreas/phys/master/GRB/xspec/ASIM/GRB181222B'"
      ]
     },
     "execution_count": 29,
     "metadata": {},
     "output_type": "execute_result"
    }
   ],
   "source": [
    "import os\n",
    "os.getcwd()"
   ]
  },
  {
   "cell_type": "code",
   "execution_count": 12,
   "id": "f0e4ac78-9f99-4a20-8ec2-c138824b38da",
   "metadata": {},
   "outputs": [
    {
     "name": "stdout",
     "output_type": "stream",
     "text": [
      "tlagg_asim: -0.532953125\n"
     ]
    }
   ],
   "source": [
    "CC_kw_asim = CC(kw_lc,asim_lc,mode='full',norm='variance')\n",
    "tlagg = CC_kw_asim.time_shift + tlagg_approx\n",
    "print(f'tlagg_asim: {tlagg}')\n",
    "#CC_kw_asim.plot(save=True,filename='GRB201227A_CC_KW_ASIM.pdf')\n",
    "plt.show()"
   ]
  },
  {
   "cell_type": "code",
   "execution_count": 29,
   "id": "ca58094a-66e1-47a3-868d-d8a6a13059b6",
   "metadata": {},
   "outputs": [
    {
     "data": {
      "text/plain": [
       "-0.532953125"
      ]
     },
     "execution_count": 29,
     "metadata": {},
     "output_type": "execute_result"
    }
   ],
   "source": [
    "tlagg"
   ]
  },
  {
   "cell_type": "markdown",
   "id": "f1d68dd4-7024-4d87-8ca9-8f2f6a0def36",
   "metadata": {},
   "source": [
    "## Update to df_asim"
   ]
  },
  {
   "cell_type": "code",
   "execution_count": 67,
   "id": "1bdc3e1b-1f80-4011-ab78-39828c08ec7b",
   "metadata": {},
   "outputs": [
    {
     "name": "stdout",
     "output_type": "stream",
     "text": [
      "Safety time:  0.018 % removed\n",
      "sorted by tus (s)\n"
     ]
    },
    {
     "data": {
      "image/png": "[encoded data removed]",
      "text/plain": [
       "<Figure size 800x500 with 1 Axes>"
      ]
     },
     "metadata": {},
     "output_type": "display_data"
    }
   ],
   "source": [
    "df_asim = pd.read_csv(mat_path+'GRB201227A.csv')\n",
    "df_asim['tus'] /= 1e6\n",
    "df_asim['tus'] += tlagg\n",
    "tus = df_asim['tus'].to_numpy(dtype=np.float64)\n",
    "binsize = 0.002 #16ms\n",
    "\n",
    "T0 = datetime.fromisoformat('2020-12-27T15:14:07.002390') + timedelta(seconds=tlagg)#cottected_datetime_level1\n",
    "df_asim = make_adr(df_asim)\n",
    "df_asim.sort_values(by=['adr','tus'],inplace=True,ignore_index=True)\n",
    "df_asim.drop(df_asim[df_asim['typ']==3].index, inplace = True) #removed valleys\n",
    "\n",
    "#erg --> keV\n",
    "df_asim['tus'] *= 1e6\n",
    "tus,erg,dau,det = df_asim['tus'].to_numpy(dtype=np.float64),df_asim['erg'].to_numpy(),df_asim['dau'].to_numpy(),df_asim['det'].to_numpy()\n",
    "keV,abc = convert_erg(erg,dau,det,T0)\n",
    "df_asim['keV'] = keV\n",
    "st,dt = get_st(df_asim),get_dt(df_asim) #st returned in us\n",
    "df_asim['st']=st\n",
    "df_asim['dt']=dt\n",
    "\n",
    "flag = get_flag(df_asim)\n",
    "df_asim['flag'] = flag\n",
    "df_asim.drop(df_asim[get_flag(df_asim)].index,inplace=True)\n",
    "df_asim.sort_values(by='tus',inplace=True,ignore_index=True)\n",
    "df_asim['tus'] /= 1e6\n",
    "tus = df_asim['tus'].to_numpy(dtype=np.float64)\n",
    "df_asim.reset_index(inplace=True)\n",
    "\n",
    "print('Safety time: ',np.round((len(np.where(flag==True))/len(tus))*100,3), '% removed')\n",
    "print('sorted by tus (s)')\n",
    "\n",
    "\n",
    "asim_counts,asim_edges = np.histogram(tus,bins=bins)\n",
    "plt.step(asim_edges[:-1],asim_counts,c='red',where='post',label='HED')\n",
    "plt.step(bins[:-1],G3+G2,c='black',where='post',label='KW G3+G2')\n",
    "plt.vlines(x=[0,0.064],ymin=0,ymax=60,color='blue',label='Spectra')\n",
    "plt.ylim(bottom=0)\n",
    "plt.legend()\n",
    "plt.title(\"GRB201227A ASIM LC\")\n",
    "plt.show()"
   ]
  },
  {
   "cell_type": "code",
   "execution_count": 68,
   "id": "da58ab72-c5f4-48ce-a1d1-f60c54b84f62",
   "metadata": {},
   "outputs": [],
   "source": [
    "bak_interval = [(-0.95, -0.05), (0.1, 0.95)]\n",
    "burst_interval = (0.00, 0.064)\n",
    "df_bkg = df_asim[(tus >= bak_interval[0][0]) & (tus <= bak_interval[0][1]) | (tus >= bak_interval[1][0]) & (tus <= bak_interval[1][1])]\n",
    "df_burst = df_asim[(tus >= burst_interval[0]) & (tus <= burst_interval[1])]"
   ]
  },
  {
   "cell_type": "code",
   "execution_count": 69,
   "id": "5c757420-9b23-4f78-bae4-2bb93b56d8fb",
   "metadata": {},
   "outputs": [
    {
     "data": {
      "image/png": "[encoded data removed]",
      "text/plain": [
       "<Figure size 1200x600 with 2 Axes>"
      ]
     },
     "metadata": {},
     "output_type": "display_data"
    }
   ],
   "source": [
    "tus_bkg, tus_burst = df_bkg['tus'].to_numpy(), df_burst['tus'].to_numpy()\n",
    "\n",
    "fig, (ax1, ax2) = plt.subplots(1, 2,sharey=True,figsize=(12, 6))\n",
    "fig.suptitle('GRB201227A: Bg lc and burst lc')\n",
    "ax1.hist(tus_bkg,bins=np.arange(min(tus_bkg),max(tus_bkg)+binsize,binsize),label='bkg',color='black')\n",
    "ax2.hist(tus_burst,bins=np.arange(min(tus_burst),max(tus_burst)+binsize,binsize),label='burst',color='black')\n",
    "#ax2.vlines(x=[0.128,0.256],ymin=0,ymax=500,color='red',label='sp3_4')\n",
    "#ax2.vlines(x=[0,0.512],ymin=0,ymax=500,color='blue',label='sp1_5')\n",
    "ax1.set_xlabel(\"time since burst trigger\")\n",
    "ax1.legend()\n",
    "ax2.legend()\n",
    "plt.show()"
   ]
  },
  {
   "cell_type": "code",
   "execution_count": 70,
   "id": "5348ace0-7fe5-4a60-b28e-a6e6d09c8d5f",
   "metadata": {},
   "outputs": [
    {
     "name": "stdout",
     "output_type": "stream",
     "text": [
      "initial len keV/tus: (531, 531)\n",
      "Start/Stop tus interval: (9.687499999999628e-05, 0.06319387499999995)\n",
      "len keV/tus: 531, 531\n",
      "mean keV: 13.275\n",
      "Energies binned!\n"
     ]
    }
   ],
   "source": [
    "keV_burst = keV_hist(df=df_burst,time_interval='max',keV_interval='max')"
   ]
  },
  {
   "cell_type": "code",
   "execution_count": 71,
   "id": "a6cebf44-1bd5-48f2-809f-6f02ad85112c",
   "metadata": {},
   "outputs": [
    {
     "name": "stdout",
     "output_type": "stream",
     "text": [
      "initial len keV/tus: (4453, 4453)\n",
      "Start/Stop tus interval: (-0.949411125, 0.949737875)\n",
      "len keV/tus: 4453, 4453\n",
      "mean keV: 111.275\n",
      "Energies binned!\n"
     ]
    }
   ],
   "source": [
    "keV_bkg = keV_hist(df=df_bkg,time_interval='max',keV_interval='max')"
   ]
  },
  {
   "cell_type": "markdown",
   "id": "01ef7ee0-82c8-4736-b83d-c4f1e5e39e76",
   "metadata": {},
   "source": [
    "# FITS"
   ]
  },
  {
   "cell_type": "markdown",
   "id": "47fe1556-6d56-4327-a0dd-f6ca07b9affb",
   "metadata": {},
   "source": [
    "### PHA"
   ]
  },
  {
   "cell_type": "code",
   "execution_count": 86,
   "id": "c8568aa6-c45e-457c-9d38-bcaff1dee65c",
   "metadata": {},
   "outputs": [
    {
     "data": {
      "text/plain": [
       "0.06309699999999996"
      ]
     },
     "execution_count": 86,
     "metadata": {},
     "output_type": "execute_result"
    }
   ],
   "source": [
    "df_burst['tus'].to_numpy()[-1]-df_burst['tus'].to_numpy()[0]"
   ]
  },
  {
   "cell_type": "code",
   "execution_count": 88,
   "id": "a4c1862e-402e-4772-a117-1be35401b1bc",
   "metadata": {},
   "outputs": [
    {
     "name": "stdout",
     "output_type": "stream",
     "text": [
      "40 40 40 40\n",
      "2020-12-27 15:14:06.469437\n"
     ]
    }
   ],
   "source": [
    "bin_lo = keV_burst['bins_keV'].to_numpy()[:-1]\n",
    "bin_hi = keV_burst['bins_keV'].to_numpy()[1:]\n",
    "counts = keV_burst['counts'].to_numpy()[1:]\n",
    "err = keV_burst['poisson_error_counts'].to_numpy()[1:]\n",
    "print(len(bin_lo),len(bin_hi),len(counts),len(err))\n",
    "print(T0)"
   ]
  },
  {
   "cell_type": "code",
   "execution_count": 90,
   "id": "3597a78f-78b1-483e-a396-f128e424c034",
   "metadata": {},
   "outputs": [],
   "source": [
    "PHA_dict = {\n",
    "'USER': ['Andreas Ramsli','Username of creator of this fits file'], #<str>\n",
    "'T0TIME':['2020-12-27 20:11:36.602679','Trigger time UT format=YYYY-MM-DDThh:mm:ss.fff'], #<str> \n",
    "'TSTART': [0.00,'[s] Start time of spectrum accumulation'], #<float> [s] Start time of spectrum accumulation relative to T0TIME\n",
    "'TSTOP': [0.064,'End time of spectrum accumulation'], #<float> [s]\n",
    "'EXPOSURE': [0.0631,'[s] Integration time in seconds for the PHA data'], #<float> \n",
    "'OBJECT': ['GRB201227A','Name of the observed object'], #<str> \n",
    "'RA_OBJ': [170.121,'[deg] RA of source'], #<float> \n",
    "'DEC_OBJ':  [-73.613,'[deg] Dec of source'], #<float>\n",
    "'BACKFILE': ['HED_GRB201227A.bak','Background FITS file'], #<str> ('example.bak')\n",
    "'RESPFILE': ['HED_GRB201227A.rsp','Response FITS file'], #<str> ('example.rsp')\n",
    "'FILENAME': ['HED_GRB201227A.pha','PHA filename'] #<str>  ('example.pha')\n",
    "}\n",
    "generatePHA(PHA_dict=PHA_dict, counts=counts, stat_err=err, bin_lo=bin_lo, bin_hi=bin_hi)"
   ]
  },
  {
   "cell_type": "markdown",
   "id": "e54b0c93-5701-4320-9faa-7eb3d49e849c",
   "metadata": {},
   "source": [
    "### BAK"
   ]
  },
  {
   "cell_type": "code",
   "execution_count": 103,
   "id": "4e4c01ea-342a-40bc-8cb6-b2424cee64a0",
   "metadata": {},
   "outputs": [
    {
     "name": "stdout",
     "output_type": "stream",
     "text": [
      "40 40 40 40\n",
      "2020-12-27 15:14:06.469437\n"
     ]
    }
   ],
   "source": [
    "bin_lo = keV_bkg['bins_keV'].to_numpy()[:-1]\n",
    "bin_hi = keV_bkg['bins_keV'].to_numpy()[1:]\n",
    "counts_bkg = keV_bkg['counts'].to_numpy()[1:]\n",
    "err_bkg = keV_bkg['poisson_error_counts'].to_numpy()[1:]\n",
    "print(len(bin_lo),len(bin_hi),len(counts_bkg),len(err_bkg))\n",
    "print(T0)"
   ]
  },
  {
   "cell_type": "code",
   "execution_count": 76,
   "id": "c93fe138-3ddb-409e-8125-24a968dc268d",
   "metadata": {},
   "outputs": [
    {
     "data": {
      "text/plain": [
       "[(-0.95, -0.05), (0.1, 0.95)]"
      ]
     },
     "execution_count": 76,
     "metadata": {},
     "output_type": "execute_result"
    }
   ],
   "source": [
    "bak_interval"
   ]
  },
  {
   "cell_type": "code",
   "execution_count": 77,
   "id": "ceda48d2-2b1f-46c1-a297-8b69c10995ac",
   "metadata": {},
   "outputs": [
    {
     "data": {
      "text/plain": [
       "1.75"
      ]
     },
     "execution_count": 77,
     "metadata": {},
     "output_type": "execute_result"
    }
   ],
   "source": [
    "0.9+0.85"
   ]
  },
  {
   "cell_type": "code",
   "execution_count": 102,
   "id": "90ccd5d2-1e97-4b6a-9a8d-841c14abae97",
   "metadata": {},
   "outputs": [
    {
     "name": "stdout",
     "output_type": "stream",
     "text": [
      "1.748737\n"
     ]
    }
   ],
   "source": [
    "tus_bkg = df_bkg['tus'].to_numpy()\n",
    "print(tus_bkg[np.searchsorted(tus_bkg,0)-1]-tus_bkg[0] + (tus_bkg[-1]-tus_bkg[np.searchsorted(tus_bkg,0)]))"
   ]
  },
  {
   "cell_type": "code",
   "execution_count": 105,
   "id": "d5312c0a-d8a4-440a-b8ec-bbad50dec346",
   "metadata": {},
   "outputs": [],
   "source": [
    "bak_dict = {\n",
    "    'USER': ['Andreas Ramsli','Username of creator of this fits file'], #<str>\n",
    "    'T0TIME':['2020-12-27 15:14:06.469','Trigger time UT format=YYYY-MM-DDThh:mm:ss.fff'], #<str> \n",
    "    'TSTART': [-0.9,'[s] Start time of first background accumulation interval'], #<float> [s] Start time of spectrum accumulation relative to T0TIME\n",
    "    'TSTOP': [0.95,'End time of second background interval accumulation'], #<float> [s]\n",
    "    'EXPOSURE': [1.748737,'[s] Integration time in seconds for the PHA data'], #<float> \n",
    "    'OBJECT': ['GRB201227A','Name of the observed object'], #<str> \n",
    "    'RA_OBJ': [170.121,'[deg] RA of source'], #<float> \n",
    "    'DEC_OBJ':  [-73.613,'[deg] Dec of source'], #<float>\n",
    "    'FILENAME': ['HED_GRB201227A.bak','Backgorund filename'] #<str>  ('example.bak')\n",
    "}\n",
    "generateBAK(BAK_dict=bak_dict,bin_lo=bin_lo,bin_hi=bin_hi,bakCounts=counts_bkg,stat_err=err_bkg)"
   ]
  },
  {
   "cell_type": "markdown",
   "id": "33cb84fc-719d-42c0-99ec-7801bc9f0fe9",
   "metadata": {},
   "source": [
    "### RSP"
   ]
  },
  {
   "cell_type": "code",
   "execution_count": 109,
   "id": "b746583d-f845-4609-a812-fd38945205cb",
   "metadata": {},
   "outputs": [
    {
     "name": "stdout",
     "output_type": "stream",
     "text": [
      "HED_drm_mats_75.00_-45.00.txt\n"
     ]
    }
   ],
   "source": [
    "rsp_dict = {\n",
    "    'USER': ['Andreas Ramsli','Username of creator of this fits file'], #<str>\n",
    "    'T0TIME':['2020-12-27 15:14:06.469','Trigger time UT format=YYYY-MM-DDThh:mm:ss.fff'], #<str> \n",
    "    'TSTART': [0.00,'[s] Start time of spectrum accumulation'], #<float> [s] Start time of spectrum accumulation relative to T0TIME\n",
    "    'TSTOP': [0.064,'End time of spectrum accumulation'], #<float> [s]\n",
    "    'EXPOSURE': [0.0631,'[s] Integration time in seconds for the PHA data'], #<float> \n",
    "    'OBJECT': ['GRB201227A','Name of the observed object'], #<str> \n",
    "    'RA_OBJ': [170.121,'[deg] RA of source'], #<float> \n",
    "    'DEC_OBJ':  [-73.613,'[deg] Dec of source'], #<float>\n",
    "    'FILENAME': ['HED_GRB201227A.rsp','RSP filename'] #<str>  ('example.bak')\n",
    "}\n",
    "\n",
    "theta,phi = 77.318, -50.463\n",
    "\n",
    "drm_fn=find_DRM_file(dir_path='/Users/andreas/phys/master/HED_DRM/',theta=theta,phi=phi)\n",
    "print(drm_fn)\n",
    "generateRSP(RSP_dict=rsp_dict, \n",
    "            DRM_fname=drm_fn, \n",
    "            bin_lo=bin_lo,\n",
    "            bin_hi=bin_hi,\n",
    "            theta=theta,\n",
    "            phi=phi)"
   ]
  },
  {
   "cell_type": "code",
   "execution_count": 110,
   "id": "1a5ce5da-89fc-4c5b-9152-805e0216f898",
   "metadata": {},
   "outputs": [
    {
     "data": {
      "text/html": [
       "<div>\n",
       "<style scoped>\n",
       "    .dataframe tbody tr th:only-of-type {\n",
       "        vertical-align: middle;\n",
       "    }\n",
       "\n",
       "    .dataframe tbody tr th {\n",
       "        vertical-align: top;\n",
       "    }\n",
       "\n",
       "    .dataframe thead th {\n",
       "        text-align: right;\n",
       "    }\n",
       "</style>\n",
       "<table border=\"1\" class=\"dataframe\">\n",
       "  <thead>\n",
       "    <tr style=\"text-align: right;\">\n",
       "      <th></th>\n",
       "      <th>bins_keV</th>\n",
       "      <th>counts</th>\n",
       "      <th>poisson_error_counts</th>\n",
       "    </tr>\n",
       "  </thead>\n",
       "  <tbody>\n",
       "    <tr>\n",
       "      <th>0</th>\n",
       "      <td>10.00000</td>\n",
       "      <td>0</td>\n",
       "      <td>0.00000</td>\n",
       "    </tr>\n",
       "    <tr>\n",
       "      <th>1</th>\n",
       "      <td>12.58925</td>\n",
       "      <td>0</td>\n",
       "      <td>0.00000</td>\n",
       "    </tr>\n",
       "    <tr>\n",
       "      <th>2</th>\n",
       "      <td>15.84893</td>\n",
       "      <td>0</td>\n",
       "      <td>0.00000</td>\n",
       "    </tr>\n",
       "    <tr>\n",
       "      <th>3</th>\n",
       "      <td>19.95262</td>\n",
       "      <td>0</td>\n",
       "      <td>0.00000</td>\n",
       "    </tr>\n",
       "    <tr>\n",
       "      <th>4</th>\n",
       "      <td>25.11886</td>\n",
       "      <td>0</td>\n",
       "      <td>0.00000</td>\n",
       "    </tr>\n",
       "    <tr>\n",
       "      <th>5</th>\n",
       "      <td>31.62278</td>\n",
       "      <td>0</td>\n",
       "      <td>0.00000</td>\n",
       "    </tr>\n",
       "    <tr>\n",
       "      <th>6</th>\n",
       "      <td>39.81072</td>\n",
       "      <td>0</td>\n",
       "      <td>0.00000</td>\n",
       "    </tr>\n",
       "    <tr>\n",
       "      <th>7</th>\n",
       "      <td>50.11872</td>\n",
       "      <td>0</td>\n",
       "      <td>0.00000</td>\n",
       "    </tr>\n",
       "    <tr>\n",
       "      <th>8</th>\n",
       "      <td>63.09573</td>\n",
       "      <td>0</td>\n",
       "      <td>0.00000</td>\n",
       "    </tr>\n",
       "    <tr>\n",
       "      <th>9</th>\n",
       "      <td>79.43282</td>\n",
       "      <td>0</td>\n",
       "      <td>0.00000</td>\n",
       "    </tr>\n",
       "    <tr>\n",
       "      <th>10</th>\n",
       "      <td>100.00000</td>\n",
       "      <td>0</td>\n",
       "      <td>0.00000</td>\n",
       "    </tr>\n",
       "    <tr>\n",
       "      <th>11</th>\n",
       "      <td>125.89254</td>\n",
       "      <td>0</td>\n",
       "      <td>0.00000</td>\n",
       "    </tr>\n",
       "    <tr>\n",
       "      <th>12</th>\n",
       "      <td>158.48932</td>\n",
       "      <td>0</td>\n",
       "      <td>0.00000</td>\n",
       "    </tr>\n",
       "    <tr>\n",
       "      <th>13</th>\n",
       "      <td>199.52623</td>\n",
       "      <td>0</td>\n",
       "      <td>0.00000</td>\n",
       "    </tr>\n",
       "    <tr>\n",
       "      <th>14</th>\n",
       "      <td>251.18864</td>\n",
       "      <td>1</td>\n",
       "      <td>1.00000</td>\n",
       "    </tr>\n",
       "    <tr>\n",
       "      <th>15</th>\n",
       "      <td>316.22777</td>\n",
       "      <td>23</td>\n",
       "      <td>4.79583</td>\n",
       "    </tr>\n",
       "    <tr>\n",
       "      <th>16</th>\n",
       "      <td>398.10717</td>\n",
       "      <td>35</td>\n",
       "      <td>5.91608</td>\n",
       "    </tr>\n",
       "    <tr>\n",
       "      <th>17</th>\n",
       "      <td>501.18723</td>\n",
       "      <td>101</td>\n",
       "      <td>10.04988</td>\n",
       "    </tr>\n",
       "    <tr>\n",
       "      <th>18</th>\n",
       "      <td>630.95734</td>\n",
       "      <td>83</td>\n",
       "      <td>9.11043</td>\n",
       "    </tr>\n",
       "    <tr>\n",
       "      <th>19</th>\n",
       "      <td>794.32823</td>\n",
       "      <td>73</td>\n",
       "      <td>8.54400</td>\n",
       "    </tr>\n",
       "    <tr>\n",
       "      <th>20</th>\n",
       "      <td>1000.00000</td>\n",
       "      <td>53</td>\n",
       "      <td>7.28011</td>\n",
       "    </tr>\n",
       "    <tr>\n",
       "      <th>21</th>\n",
       "      <td>1258.92541</td>\n",
       "      <td>49</td>\n",
       "      <td>7.00000</td>\n",
       "    </tr>\n",
       "    <tr>\n",
       "      <th>22</th>\n",
       "      <td>1584.89319</td>\n",
       "      <td>33</td>\n",
       "      <td>5.74456</td>\n",
       "    </tr>\n",
       "    <tr>\n",
       "      <th>23</th>\n",
       "      <td>1995.26231</td>\n",
       "      <td>16</td>\n",
       "      <td>4.00000</td>\n",
       "    </tr>\n",
       "    <tr>\n",
       "      <th>24</th>\n",
       "      <td>2511.88643</td>\n",
       "      <td>14</td>\n",
       "      <td>3.74166</td>\n",
       "    </tr>\n",
       "    <tr>\n",
       "      <th>25</th>\n",
       "      <td>3162.27766</td>\n",
       "      <td>8</td>\n",
       "      <td>2.82843</td>\n",
       "    </tr>\n",
       "    <tr>\n",
       "      <th>26</th>\n",
       "      <td>3981.07171</td>\n",
       "      <td>8</td>\n",
       "      <td>2.82843</td>\n",
       "    </tr>\n",
       "    <tr>\n",
       "      <th>27</th>\n",
       "      <td>5011.87234</td>\n",
       "      <td>3</td>\n",
       "      <td>1.73205</td>\n",
       "    </tr>\n",
       "    <tr>\n",
       "      <th>28</th>\n",
       "      <td>6309.57344</td>\n",
       "      <td>6</td>\n",
       "      <td>2.44949</td>\n",
       "    </tr>\n",
       "    <tr>\n",
       "      <th>29</th>\n",
       "      <td>7943.28235</td>\n",
       "      <td>3</td>\n",
       "      <td>1.73205</td>\n",
       "    </tr>\n",
       "    <tr>\n",
       "      <th>30</th>\n",
       "      <td>10000.00000</td>\n",
       "      <td>0</td>\n",
       "      <td>0.00000</td>\n",
       "    </tr>\n",
       "    <tr>\n",
       "      <th>31</th>\n",
       "      <td>12589.25412</td>\n",
       "      <td>4</td>\n",
       "      <td>2.00000</td>\n",
       "    </tr>\n",
       "    <tr>\n",
       "      <th>32</th>\n",
       "      <td>15848.93192</td>\n",
       "      <td>3</td>\n",
       "      <td>1.73205</td>\n",
       "    </tr>\n",
       "    <tr>\n",
       "      <th>33</th>\n",
       "      <td>19952.62315</td>\n",
       "      <td>2</td>\n",
       "      <td>1.41421</td>\n",
       "    </tr>\n",
       "    <tr>\n",
       "      <th>34</th>\n",
       "      <td>25118.86432</td>\n",
       "      <td>1</td>\n",
       "      <td>1.00000</td>\n",
       "    </tr>\n",
       "    <tr>\n",
       "      <th>35</th>\n",
       "      <td>31622.77660</td>\n",
       "      <td>9</td>\n",
       "      <td>3.00000</td>\n",
       "    </tr>\n",
       "    <tr>\n",
       "      <th>36</th>\n",
       "      <td>39810.71706</td>\n",
       "      <td>3</td>\n",
       "      <td>1.73205</td>\n",
       "    </tr>\n",
       "    <tr>\n",
       "      <th>37</th>\n",
       "      <td>50118.72336</td>\n",
       "      <td>0</td>\n",
       "      <td>0.00000</td>\n",
       "    </tr>\n",
       "    <tr>\n",
       "      <th>38</th>\n",
       "      <td>63095.73445</td>\n",
       "      <td>0</td>\n",
       "      <td>0.00000</td>\n",
       "    </tr>\n",
       "    <tr>\n",
       "      <th>39</th>\n",
       "      <td>79432.82347</td>\n",
       "      <td>0</td>\n",
       "      <td>0.00000</td>\n",
       "    </tr>\n",
       "    <tr>\n",
       "      <th>40</th>\n",
       "      <td>100000.00000</td>\n",
       "      <td>0</td>\n",
       "      <td>0.00000</td>\n",
       "    </tr>\n",
       "  </tbody>\n",
       "</table>\n",
       "</div>"
      ],
      "text/plain": [
       "        bins_keV  counts  poisson_error_counts\n",
       "0       10.00000       0               0.00000\n",
       "1       12.58925       0               0.00000\n",
       "2       15.84893       0               0.00000\n",
       "3       19.95262       0               0.00000\n",
       "4       25.11886       0               0.00000\n",
       "5       31.62278       0               0.00000\n",
       "6       39.81072       0               0.00000\n",
       "7       50.11872       0               0.00000\n",
       "8       63.09573       0               0.00000\n",
       "9       79.43282       0               0.00000\n",
       "10     100.00000       0               0.00000\n",
       "11     125.89254       0               0.00000\n",
       "12     158.48932       0               0.00000\n",
       "13     199.52623       0               0.00000\n",
       "14     251.18864       1               1.00000\n",
       "15     316.22777      23               4.79583\n",
       "16     398.10717      35               5.91608\n",
       "17     501.18723     101              10.04988\n",
       "18     630.95734      83               9.11043\n",
       "19     794.32823      73               8.54400\n",
       "20    1000.00000      53               7.28011\n",
       "21    1258.92541      49               7.00000\n",
       "22    1584.89319      33               5.74456\n",
       "23    1995.26231      16               4.00000\n",
       "24    2511.88643      14               3.74166\n",
       "25    3162.27766       8               2.82843\n",
       "26    3981.07171       8               2.82843\n",
       "27    5011.87234       3               1.73205\n",
       "28    6309.57344       6               2.44949\n",
       "29    7943.28235       3               1.73205\n",
       "30   10000.00000       0               0.00000\n",
       "31   12589.25412       4               2.00000\n",
       "32   15848.93192       3               1.73205\n",
       "33   19952.62315       2               1.41421\n",
       "34   25118.86432       1               1.00000\n",
       "35   31622.77660       9               3.00000\n",
       "36   39810.71706       3               1.73205\n",
       "37   50118.72336       0               0.00000\n",
       "38   63095.73445       0               0.00000\n",
       "39   79432.82347       0               0.00000\n",
       "40  100000.00000       0               0.00000"
      ]
     },
     "execution_count": 110,
     "metadata": {},
     "output_type": "execute_result"
    }
   ],
   "source": [
    "keV_burst"
   ]
  },
  {
   "cell_type": "code",
   "execution_count": null,
   "id": "4974aa27-3957-4cde-b9a9-ad1898ac9f52",
   "metadata": {},
   "outputs": [],
   "source": []
  },
  {
   "cell_type": "code",
   "execution_count": null,
   "id": "f3c20571-883b-41d5-a3fd-2d6607acd5c6",
   "metadata": {},
   "outputs": [],
   "source": []
  }
 ],
 "metadata": {
  "kernelspec": {
   "display_name": "GRBs",
   "language": "python",
   "name": "grbs"
  },
  "language_info": {
   "codemirror_mode": {
    "name": "ipython",
    "version": 3
   },
   "file_extension": ".py",
   "mimetype": "text/x-python",
   "name": "python",
   "nbconvert_exporter": "python",
   "pygments_lexer": "ipython3",
   "version": "3.10.8"
  }
 },
 "nbformat": 4,
 "nbformat_minor": 5
}
