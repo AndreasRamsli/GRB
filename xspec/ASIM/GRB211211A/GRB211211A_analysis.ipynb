{
 "cells": [
  {
   "cell_type": "code",
   "execution_count": 3,
   "id": "15ced7a9-af91-4f2c-9e11-6823aa8a3378",
   "metadata": {},
   "outputs": [
    {
     "name": "stdout",
     "output_type": "stream",
     "text": [
      "\n",
      "all UiB paths loaded\n",
      "\n",
      "all UiB paths loaded\n",
      "read_matlab_file.ipynb loaded successfully!\n",
      "\n",
      "all UiB paths loaded\n",
      "\n",
      "all UiB paths loaded\n",
      "read_matlab_file.ipynb loaded successfully!\n",
      "\n",
      "all UiB paths loaded\n",
      "read_matlab_file.ipynb loaded successfully!\n",
      "convert_erg.ipynb loaded successfully!\n",
      "\n",
      "all UiB paths loaded\n",
      "read_matlab_file.ipynb loaded successfully!\n",
      "\n",
      "all UiB paths loaded\n",
      "read_matlab_file.ipynb loaded successfully!\n",
      "convert_erg.ipynb loaded successfully!\n",
      "safety_time.ipynb loaded successfully!\n",
      "\n",
      "all UiB paths loaded\n",
      "\n",
      "all UiB paths loaded\n",
      "read_matlab_file.ipynb loaded successfully!\n",
      "\n",
      "all UiB paths loaded\n",
      "read_matlab_file.ipynb loaded successfully!\n",
      "\n",
      "all UiB paths loaded\n",
      "\n",
      "all UiB paths loaded\n",
      "read_matlab_file.ipynb loaded successfully!\n",
      "\n",
      "all UiB paths loaded\n",
      "read_matlab_file.ipynb loaded successfully!\n",
      "\n",
      "all UiB paths loaded\n",
      "read_matlab_file.ipynb loaded successfully!\n",
      "convert_erg.ipynb loaded successfully!\n",
      "\n",
      "all UiB paths loaded\n",
      "read_matlab_file.ipynb loaded successfully!\n",
      "\n",
      "all UiB paths loaded\n",
      "read_matlab_file.ipynb loaded successfully!\n",
      "convert_erg.ipynb loaded successfully!\n",
      "safety_time.ipynb loaded successfully!\n",
      "LC_calibration loaded successfully!\n"
     ]
    }
   ],
   "source": [
    "import os\n",
    "path = os.getcwd()\n",
    "\n",
    "if path[1:5] == 'Home':\n",
    "    %run /Home/siv30/wad005/master/GRB/src/harvest_matlab_data.ipynb\n",
    "    %run /Home/siv30/wad005/master/GRB/src/background_rates.ipynb\n",
    "    %run /Home/siv30/wad005/master/GRB/src/dau_det_distribution.ipynb\n",
    "\n",
    "else:\n",
    "    %run /Users/andreas/phys/master/GRB/src/harvest_matlab_data.ipynb\n",
    "    %run /Users/andreas/phys/master/GRB/src/background_rates.ipynb\n",
    "    %run /Users/andreas/phys/master/GRB/src/dau_det_distribution.ipynb"
   ]
  },
  {
   "cell_type": "code",
   "execution_count": 4,
   "id": "764167ae-973f-451e-8a24-e292663886d2",
   "metadata": {},
   "outputs": [],
   "source": [
    "def harvest_data(fn=None,T0=None):\n",
    "    data = scipy.io.loadmat(path_m+fn)['out_data']\n",
    "    df = pd.DataFrame(data=data)\n",
    "    df.rename(columns={0:'year',1:'month',2:'day',3:'hour',4:'minute',5:'second',6:'erg',7:'dau',8:'det'},inplace=True)\n",
    "    df = df.convert_dtypes()\n",
    "    dt_column = pd.to_datetime(df[['year', 'month', 'day', 'hour', 'minute', 'second']].astype(dtype=str))\n",
    "    df['datetime'] = dt_column\n",
    "    T0 = datetime.fromisoformat(T0)\n",
    "    tus = df['datetime']-T0\n",
    "    df['tus'] = tus\n",
    "    df['tus'] = df['tus'].dt.total_seconds()\n",
    "    df['dau'] = df['dau'].to_numpy()+1 #index starting now at 1\n",
    "    df['det'] = df['det'].to_numpy()+1 #index starting now at 1\n",
    "    df = make_adr(df)\n",
    "    \n",
    "    df.sort_values(by=['adr','tus'],inplace=True,ignore_index=True)\n",
    "    print('dau/det starting from index 1')\n",
    "    print('tus array given in seconds')\n",
    "    return df\n",
    "    \n",
    "    tus,erg,dau,det = df['tus'].to_numpy(),df['erg'].to_numpy(),df['dau'].to_numpy(),df['det'].to_numpy()\n",
    "    keV,abc = convert_erg(erg,dau,det,T0)\n",
    "    df['keV'] = keV\n",
    "    df['tus'] = df['tus'].to_numpy()*1e6\n",
    "\n",
    "    st,dt = get_st(df),get_dt(df)\n",
    "    df['st']=st\n",
    "    df['dt']=dt\n",
    "\n",
    "    flag = get_flag(df)\n",
    "    df['flag']=flag\n",
    "    print('safety time: ',np.round((len(np.where(flag==True)[0])/len(flag))*100,3), '% removed')\n",
    "    df.drop(labels=np.where(flag==True)[0],inplace=True)\n",
    "    df.sort_values(by='tus',inplace=True,ignore_index=True)\n",
    "    df['tus'] = df['tus'].to_numpy()/1e6\n",
    "    print('tus given in seconds')\n",
    "    "
   ]
  },
  {
   "cell_type": "code",
   "execution_count": 12,
   "id": "dd74618a-5a9d-45ae-b91e-f45b0fb9c879",
   "metadata": {},
   "outputs": [
    {
     "name": "stdout",
     "output_type": "stream",
     "text": [
      "dau/det starting from index 1\n",
      "tus array given in seconds\n"
     ]
    }
   ],
   "source": [
    "df = harvest_data(fn='2021_12_11_13_10_1',T0='2021-12-11T13:10:01.323')\n",
    "df.sort_values(by='tus',inplace=True,ignore_index=True)"
   ]
  },
  {
   "cell_type": "code",
   "execution_count": 13,
   "id": "77c84694-8c5c-4ea6-b608-14a70bff8ca2",
   "metadata": {},
   "outputs": [
    {
     "name": "stdout",
     "output_type": "stream",
     "text": [
      "tus array OK ...\n"
     ]
    },
    {
     "data": {
      "image/png": "[encoded data removed]",
      "text/plain": [
       "<Figure size 1152x648 with 1 Axes>"
      ]
     },
     "metadata": {
      "needs_background": "light"
     },
     "output_type": "display_data"
    }
   ],
   "source": [
    "plot_HED(tus_arr=df['tus'].to_numpy()*1e6,binsize=64,T0=datetime.fromisoformat('2021-12-11T13:10:01.323'))"
   ]
  },
  {
   "cell_type": "code",
   "execution_count": 30,
   "id": "9a1ef6b7-30a1-41ab-b7f3-dd07ff86e474",
   "metadata": {},
   "outputs": [
    {
     "name": "stdout",
     "output_type": "stream",
     "text": [
      "102755\n"
     ]
    }
   ],
   "source": [
    "tus = df['tus'].to_numpy()\n",
    "i_bkg_start = find_nearest(tus,17)\n",
    "print(i_bkg_start)"
   ]
  },
  {
   "cell_type": "code",
   "execution_count": 31,
   "id": "e73429e3-4ba8-4b5d-8c86-017b3c9c98df",
   "metadata": {},
   "outputs": [
    {
     "data": {
      "text/html": [
       "<div>\n",
       "<style scoped>\n",
       "    .dataframe tbody tr th:only-of-type {\n",
       "        vertical-align: middle;\n",
       "    }\n",
       "\n",
       "    .dataframe tbody tr th {\n",
       "        vertical-align: top;\n",
       "    }\n",
       "\n",
       "    .dataframe thead th {\n",
       "        text-align: right;\n",
       "    }\n",
       "</style>\n",
       "<table border=\"1\" class=\"dataframe\">\n",
       "  <thead>\n",
       "    <tr style=\"text-align: right;\">\n",
       "      <th></th>\n",
       "      <th>year</th>\n",
       "      <th>month</th>\n",
       "      <th>day</th>\n",
       "      <th>hour</th>\n",
       "      <th>minute</th>\n",
       "      <th>second</th>\n",
       "      <th>erg</th>\n",
       "      <th>dau</th>\n",
       "      <th>det</th>\n",
       "      <th>datetime</th>\n",
       "      <th>tus</th>\n",
       "      <th>adr</th>\n",
       "    </tr>\n",
       "  </thead>\n",
       "  <tbody>\n",
       "    <tr>\n",
       "      <th>102755</th>\n",
       "      <td>2021</td>\n",
       "      <td>12</td>\n",
       "      <td>11</td>\n",
       "      <td>13</td>\n",
       "      <td>10</td>\n",
       "      <td>18.323156</td>\n",
       "      <td>147</td>\n",
       "      <td>4</td>\n",
       "      <td>1</td>\n",
       "      <td>2021-12-11 13:10:18.323155944</td>\n",
       "      <td>17.000156</td>\n",
       "      <td>10</td>\n",
       "    </tr>\n",
       "    <tr>\n",
       "      <th>102756</th>\n",
       "      <td>2021</td>\n",
       "      <td>12</td>\n",
       "      <td>11</td>\n",
       "      <td>13</td>\n",
       "      <td>10</td>\n",
       "      <td>18.323202</td>\n",
       "      <td>406</td>\n",
       "      <td>2</td>\n",
       "      <td>2</td>\n",
       "      <td>2021-12-11 13:10:18.323202194</td>\n",
       "      <td>17.000202</td>\n",
       "      <td>5</td>\n",
       "    </tr>\n",
       "    <tr>\n",
       "      <th>102757</th>\n",
       "      <td>2021</td>\n",
       "      <td>12</td>\n",
       "      <td>11</td>\n",
       "      <td>13</td>\n",
       "      <td>10</td>\n",
       "      <td>18.323996</td>\n",
       "      <td>114</td>\n",
       "      <td>2</td>\n",
       "      <td>1</td>\n",
       "      <td>2021-12-11 13:10:18.323996167</td>\n",
       "      <td>17.000996</td>\n",
       "      <td>4</td>\n",
       "    </tr>\n",
       "    <tr>\n",
       "      <th>102758</th>\n",
       "      <td>2021</td>\n",
       "      <td>12</td>\n",
       "      <td>11</td>\n",
       "      <td>13</td>\n",
       "      <td>10</td>\n",
       "      <td>18.324331</td>\n",
       "      <td>284</td>\n",
       "      <td>2</td>\n",
       "      <td>3</td>\n",
       "      <td>2021-12-11 13:10:18.324330583</td>\n",
       "      <td>17.001331</td>\n",
       "      <td>6</td>\n",
       "    </tr>\n",
       "    <tr>\n",
       "      <th>102759</th>\n",
       "      <td>2021</td>\n",
       "      <td>12</td>\n",
       "      <td>11</td>\n",
       "      <td>13</td>\n",
       "      <td>10</td>\n",
       "      <td>18.324571</td>\n",
       "      <td>54</td>\n",
       "      <td>1</td>\n",
       "      <td>1</td>\n",
       "      <td>2021-12-11 13:10:18.324571222</td>\n",
       "      <td>17.001571</td>\n",
       "      <td>1</td>\n",
       "    </tr>\n",
       "    <tr>\n",
       "      <th>...</th>\n",
       "      <td>...</td>\n",
       "      <td>...</td>\n",
       "      <td>...</td>\n",
       "      <td>...</td>\n",
       "      <td>...</td>\n",
       "      <td>...</td>\n",
       "      <td>...</td>\n",
       "      <td>...</td>\n",
       "      <td>...</td>\n",
       "      <td>...</td>\n",
       "      <td>...</td>\n",
       "      <td>...</td>\n",
       "    </tr>\n",
       "    <tr>\n",
       "      <th>122708</th>\n",
       "      <td>2021</td>\n",
       "      <td>12</td>\n",
       "      <td>11</td>\n",
       "      <td>13</td>\n",
       "      <td>10</td>\n",
       "      <td>21.232175</td>\n",
       "      <td>58</td>\n",
       "      <td>4</td>\n",
       "      <td>2</td>\n",
       "      <td>2021-12-11 13:10:21.232175250</td>\n",
       "      <td>19.909175</td>\n",
       "      <td>11</td>\n",
       "    </tr>\n",
       "    <tr>\n",
       "      <th>122709</th>\n",
       "      <td>2021</td>\n",
       "      <td>12</td>\n",
       "      <td>11</td>\n",
       "      <td>13</td>\n",
       "      <td>10</td>\n",
       "      <td>21.232336</td>\n",
       "      <td>53</td>\n",
       "      <td>1</td>\n",
       "      <td>1</td>\n",
       "      <td>2021-12-11 13:10:21.232336389</td>\n",
       "      <td>19.909336</td>\n",
       "      <td>1</td>\n",
       "    </tr>\n",
       "    <tr>\n",
       "      <th>122710</th>\n",
       "      <td>2021</td>\n",
       "      <td>12</td>\n",
       "      <td>11</td>\n",
       "      <td>13</td>\n",
       "      <td>10</td>\n",
       "      <td>21.232338</td>\n",
       "      <td>1601</td>\n",
       "      <td>4</td>\n",
       "      <td>2</td>\n",
       "      <td>2021-12-11 13:10:21.232338139</td>\n",
       "      <td>19.909338</td>\n",
       "      <td>11</td>\n",
       "    </tr>\n",
       "    <tr>\n",
       "      <th>122711</th>\n",
       "      <td>2021</td>\n",
       "      <td>12</td>\n",
       "      <td>11</td>\n",
       "      <td>13</td>\n",
       "      <td>10</td>\n",
       "      <td>21.232338</td>\n",
       "      <td>336</td>\n",
       "      <td>4</td>\n",
       "      <td>3</td>\n",
       "      <td>2021-12-11 13:10:21.232338278</td>\n",
       "      <td>19.909338</td>\n",
       "      <td>12</td>\n",
       "    </tr>\n",
       "    <tr>\n",
       "      <th>122712</th>\n",
       "      <td>2021</td>\n",
       "      <td>12</td>\n",
       "      <td>11</td>\n",
       "      <td>13</td>\n",
       "      <td>10</td>\n",
       "      <td>21.232641</td>\n",
       "      <td>85</td>\n",
       "      <td>3</td>\n",
       "      <td>1</td>\n",
       "      <td>2021-12-11 13:10:21.232640667</td>\n",
       "      <td>19.909641</td>\n",
       "      <td>7</td>\n",
       "    </tr>\n",
       "  </tbody>\n",
       "</table>\n",
       "<p>19958 rows × 12 columns</p>\n",
       "</div>"
      ],
      "text/plain": [
       "        year  month  day  hour  minute     second   erg dau det  \\\n",
       "102755  2021     12   11    13      10  18.323156   147   4   1   \n",
       "102756  2021     12   11    13      10  18.323202   406   2   2   \n",
       "102757  2021     12   11    13      10  18.323996   114   2   1   \n",
       "102758  2021     12   11    13      10  18.324331   284   2   3   \n",
       "102759  2021     12   11    13      10  18.324571    54   1   1   \n",
       "...      ...    ...  ...   ...     ...        ...   ...  ..  ..   \n",
       "122708  2021     12   11    13      10  21.232175    58   4   2   \n",
       "122709  2021     12   11    13      10  21.232336    53   1   1   \n",
       "122710  2021     12   11    13      10  21.232338  1601   4   2   \n",
       "122711  2021     12   11    13      10  21.232338   336   4   3   \n",
       "122712  2021     12   11    13      10  21.232641    85   3   1   \n",
       "\n",
       "                            datetime        tus  adr  \n",
       "102755 2021-12-11 13:10:18.323155944  17.000156   10  \n",
       "102756 2021-12-11 13:10:18.323202194  17.000202    5  \n",
       "102757 2021-12-11 13:10:18.323996167  17.000996    4  \n",
       "102758 2021-12-11 13:10:18.324330583  17.001331    6  \n",
       "102759 2021-12-11 13:10:18.324571222  17.001571    1  \n",
       "...                              ...        ...  ...  \n",
       "122708 2021-12-11 13:10:21.232175250  19.909175   11  \n",
       "122709 2021-12-11 13:10:21.232336389  19.909336    1  \n",
       "122710 2021-12-11 13:10:21.232338139  19.909338   11  \n",
       "122711 2021-12-11 13:10:21.232338278  19.909338   12  \n",
       "122712 2021-12-11 13:10:21.232640667  19.909641    7  \n",
       "\n",
       "[19958 rows x 12 columns]"
      ]
     },
     "execution_count": 31,
     "metadata": {},
     "output_type": "execute_result"
    }
   ],
   "source": [
    "df_bkg = df.truncate(before=i_bkg_start,after=122713-1)\n",
    "df_bkg"
   ]
  },
  {
   "cell_type": "code",
   "execution_count": 32,
   "id": "01e4cc89-c553-4d41-88c0-697c23183cca",
   "metadata": {},
   "outputs": [
    {
     "name": "stdout",
     "output_type": "stream",
     "text": [
      "tus array OK ...\n"
     ]
    },
    {
     "data": {
      "image/png": "[encoded data removed]",
      "text/plain": [
       "<Figure size 1152x648 with 1 Axes>"
      ]
     },
     "metadata": {
      "needs_background": "light"
     },
     "output_type": "display_data"
    }
   ],
   "source": [
    "plot_HED(tus_arr=df_bkg['tus'].to_numpy()*1e6,binsize=32,T0=datetime.fromisoformat('2021-12-11T13:10:01.323'))"
   ]
  },
  {
   "cell_type": "code",
   "execution_count": 36,
   "id": "f0d8c8c1-3495-42da-b0e1-a165b40357ae",
   "metadata": {},
   "outputs": [
    {
     "name": "stdout",
     "output_type": "stream",
     "text": [
      "cr:  6859.633887137611\n",
      "exposure:  2.909484723000002\n"
     ]
    }
   ],
   "source": [
    "tus_bkg = df_bkg['tus'].to_numpy()\n",
    "print('cr: ',len(tus_bkg)/(tus_bkg[-1]-tus_bkg[0]))\n",
    "print('exposure: ',tus_bkg[-1]-tus_bkg[0])"
   ]
  },
  {
   "cell_type": "code",
   "execution_count": 37,
   "id": "64b42f22-f99a-4812-95c9-fc439253a91e",
   "metadata": {},
   "outputs": [],
   "source": [
    "#cr depends heavily on selected timerange. from T0+17s to T0+20s is compliant with expected total count rate"
   ]
  },
  {
   "cell_type": "code",
   "execution_count": null,
   "id": "c447c252-4a2b-4bb1-9b80-97264a3bbc3e",
   "metadata": {},
   "outputs": [],
   "source": []
  }
 ],
 "metadata": {
  "kernelspec": {
   "display_name": "base",
   "language": "python",
   "name": "base"
  },
  "language_info": {
   "codemirror_mode": {
    "name": "ipython",
    "version": 3
   },
   "file_extension": ".py",
   "mimetype": "text/x-python",
   "name": "python",
   "nbconvert_exporter": "python",
   "pygments_lexer": "ipython3",
   "version": "3.9.7"
  }
 },
 "nbformat": 4,
 "nbformat_minor": 5
}
