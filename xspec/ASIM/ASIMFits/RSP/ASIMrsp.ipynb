{
 "cells": [
  {
   "cell_type": "code",
   "execution_count": 40,
   "id": "e059703c-94f2-43f3-8774-eedda387d8a5",
   "metadata": {},
   "outputs": [],
   "source": [
    "from astropy.io import fits\n",
    "import numpy as np\n",
    "from datetime import datetime,timedelta\n",
    "import pandas as pd"
   ]
  },
  {
   "cell_type": "code",
   "execution_count": 205,
   "id": "2665617a-7ce4-4f6f-85bc-c01018fe2901",
   "metadata": {},
   "outputs": [],
   "source": [
    "#fits.getheader('exHED.fits',2)"
   ]
  },
  {
   "cell_type": "code",
   "execution_count": 206,
   "id": "58ed7337-3251-4d18-b360-41ffab5fc711",
   "metadata": {},
   "outputs": [],
   "source": [
    "#fits.getheader('exGBM.rsp',2)"
   ]
  },
  {
   "cell_type": "code",
   "execution_count": 6,
   "id": "4f887453-08e9-43d4-956f-d3070ebf7557",
   "metadata": {},
   "outputs": [],
   "source": [
    "#The table is the main job for the response fits file.\n",
    "#Seems to be 6 columns, where the last contains the response matrix for the channel"
   ]
  },
  {
   "cell_type": "code",
   "execution_count": 24,
   "id": "20a2c8f9-65e2-4dab-8759-0891534776e4",
   "metadata": {},
   "outputs": [
    {
     "name": "stdout",
     "output_type": "stream",
     "text": [
      "Filename: exHED.fits\n",
      "No.    Name      Ver    Type      Cards   Dimensions   Format\n",
      "  0  PRIMARY       1 PrimaryHDU       4   ()      \n",
      "  1  EBOUNDS       1 BinTableHDU     30   40R x 3C   [I, E, E]   \n",
      "  2  SPECRESP MATRIX    1 BinTableHDU     43   40R x 6C   [E, E, I, I, I, 40D]   \n"
     ]
    }
   ],
   "source": [
    "#having a look at the matrix to see how it is structured\n",
    "HDUlist = fits.open(\"exHED.fits\")\n",
    "HDUlist.info()\n",
    "rspTable = HDUlist[2].data\n",
    "\n"
   ]
  },
  {
   "cell_type": "code",
   "execution_count": 34,
   "id": "3d557313-b5dc-4ba2-b000-3305b3ee44fe",
   "metadata": {},
   "outputs": [
    {
     "data": {
      "text/plain": [
       "(40,)"
      ]
     },
     "execution_count": 34,
     "metadata": {},
     "output_type": "execute_result"
    }
   ],
   "source": [
    "rspTable.shape\n",
    "#one matrix for each channel, each matrix have 6 entries, where the first 5 entries are:     , and last is respone (?)"
   ]
  },
  {
   "cell_type": "code",
   "execution_count": 38,
   "id": "cdf2b7aa-5884-4708-8eca-7a31bc985d15",
   "metadata": {},
   "outputs": [],
   "source": [
    "#check the local rsp file and check if it have the same shape\n",
    "#Theta, phi angles for GRB201227A: 77.318, -50.463 \n",
    "#Should use this DRM file: 'HED_drm_mats_75.00_-45.00.txt'\n",
    "#Using first MATLAB to see how one should read the file"
   ]
  },
  {
   "cell_type": "code",
   "execution_count": 136,
   "id": "aa735f5c-6bbc-4f51-a662-8b1b02a3aea9",
   "metadata": {},
   "outputs": [
    {
     "data": {
      "text/plain": [
       "'Each column corresponds to a given primary energy bin. Each row in  a  file  corresponds  to  a  given  bin  of  deposited  energy.\\nPrimary  and  deposited  bins  are  identical. The  entries  in  the  column  are  therefore  the  spectrum  of  deposited  energies \\nproduced by primaries with energies in the given bin chosen, measured in cm2. '"
      ]
     },
     "execution_count": 136,
     "metadata": {},
     "output_type": "execute_result"
    }
   ],
   "source": [
    "HED_DRM = pd.read_csv('HED_drm_mats_75.00_-45.00.txt',sep=' ',header=None)\n",
    "HED_DRM = HED_DRM.T #transposing to get the correct format\n",
    "'''Each column corresponds to a given primary energy bin. Each row in  a  file  corresponds  to  a  given  bin  of  deposited  energy.\n",
    "Primary  and  deposited  bins  are  identical. The  entries  in  the  column  are  therefore  the  spectrum  of  deposited  energies \n",
    "produced by primaries with energies in the given bin chosen, measured in cm2. '''"
   ]
  },
  {
   "cell_type": "code",
   "execution_count": 192,
   "id": "cce39844-28c7-485d-8c1f-382d57efa895",
   "metadata": {},
   "outputs": [],
   "source": [
    "HED_bins = np.array([1.000000e+01, 1.258925e+01, 1.584893e+01, 1.995262e+01,\n",
    "       2.511886e+01, 3.162278e+01, 3.981072e+01, 5.011872e+01,\n",
    "       6.309573e+01, 7.943282e+01, 1.000000e+02, 1.258925e+02,\n",
    "       1.584893e+02, 1.995262e+02, 2.511886e+02, 3.162278e+02,\n",
    "       3.981072e+02, 5.011872e+02, 6.309573e+02, 7.943282e+02,\n",
    "       1.000000e+03, 1.258925e+03, 1.584893e+03, 1.995262e+03,\n",
    "       2.511886e+03, 3.162278e+03, 3.981072e+03, 5.011872e+03,\n",
    "       6.309573e+03, 7.943282e+03, 1.000000e+04, 1.258925e+04,\n",
    "       1.584893e+04, 1.995262e+04, 2.511886e+04, 3.162278e+04,\n",
    "       3.981072e+04, 5.011872e+04, 6.309573e+04, 7.943282e+04,1.000000e+05],\n",
    "      dtype=np.float32)"
   ]
  },
  {
   "cell_type": "code",
   "execution_count": 131,
   "id": "7b8e185e-2414-436b-97e0-bef880200e79",
   "metadata": {},
   "outputs": [],
   "source": [
    "HED_primary_energy = np.zeros((40,1))\n",
    "HED_primary_energy[31] = 1000\n",
    "HED_deposited_spectrum = HED_DRM @ HED_primary_energy"
   ]
  },
  {
   "cell_type": "code",
   "execution_count": 118,
   "id": "7c1301ec-1974-40d5-9796-d3ccef319700",
   "metadata": {},
   "outputs": [],
   "source": [
    "import matplotlib.pyplot as plt"
   ]
  },
  {
   "cell_type": "code",
   "execution_count": 134,
   "id": "25234562-df1a-4ca8-bee2-65c8ce1fd472",
   "metadata": {},
   "outputs": [
    {
     "data": {
      "image/png": "[encoded data removed]",
      "text/plain": [
       "<Figure size 640x480 with 1 Axes>"
      ]
     },
     "metadata": {},
     "output_type": "display_data"
    }
   ],
   "source": [
    "plt.step(HED_bins[:-1],HED_deposited_spectrum)\n",
    "plt.xscale('log')\n",
    "#Reproduced same plot as in ASIM paper (DRM is not transposed to reproduced)"
   ]
  },
  {
   "cell_type": "code",
   "execution_count": 141,
   "id": "84b4a0f8-6c1c-4de9-9654-6fafd8f7a75a",
   "metadata": {},
   "outputs": [
    {
     "data": {
      "text/plain": [
       "array([ True,  True,  True,  True,  True,  True,  True,  True,  True,\n",
       "        True,  True,  True,  True,  True,  True,  True,  True,  True,\n",
       "        True,  True,  True,  True,  True,  True,  True,  True,  True,\n",
       "        True,  True,  True,  True,  True,  True,  True,  True,  True,\n",
       "        True,  True,  True,  True])"
      ]
     },
     "execution_count": 141,
     "metadata": {},
     "output_type": "execute_result"
    }
   ],
   "source": [
    "np.float32(rspTable[6][5])==HED_ERM.iloc[6].to_numpy(dtype=np.float32)"
   ]
  },
  {
   "cell_type": "code",
   "execution_count": 145,
   "id": "bf2ef0b9-c739-49aa-876b-33754663368f",
   "metadata": {},
   "outputs": [
    {
     "data": {
      "text/plain": [
       "array([ 0.12789588,  0.17808309,  0.24771944,  0.34143072,  0.47671932,\n",
       "        0.71798176,  1.2124249 ,  2.2104917 ,  3.8683167 ,  5.850536  ,\n",
       "        7.973527  , 10.4346075 , 13.551825  , 16.818989  , 18.748724  ,\n",
       "       21.020905  , 34.613316  , 38.257706  , 14.997535  , 12.745531  ,\n",
       "       11.016634  ,  9.418727  ,  9.181949  ,  8.618106  ,  8.103785  ,\n",
       "        8.558346  , 10.14876   , 13.09377   , 20.449888  , 49.091724  ,\n",
       "       83.02383   ,  0.7008155 ,  0.        ,  0.        ,  0.        ,\n",
       "        0.        ,  0.        ,  0.        ,  0.        ,  0.        ],\n",
       "      dtype=float32)"
      ]
     },
     "execution_count": 145,
     "metadata": {},
     "output_type": "execute_result"
    }
   ],
   "source": [
    "HED_ERM.iloc[30].to_numpy(dtype=np.float32) #where i denotes the channel used"
   ]
  },
  {
   "cell_type": "code",
   "execution_count": 152,
   "id": "1351fd6a-1d99-484a-99c8-7c63729acd5f",
   "metadata": {},
   "outputs": [
    {
     "data": {
      "text/plain": [
       "<memory at 0x7fdcf0c9f708>"
      ]
     },
     "execution_count": 152,
     "metadata": {},
     "output_type": "execute_result"
    }
   ],
   "source": [
    "rspTable.data"
   ]
  },
  {
   "cell_type": "code",
   "execution_count": 163,
   "id": "b2aa69b3-dac0-4a61-a3a2-1d5e169a141f",
   "metadata": {},
   "outputs": [],
   "source": [
    "DRM = HED_DRM.to_numpy(dtype=np.float32) #we have our DRM in correct format"
   ]
  },
  {
   "cell_type": "code",
   "execution_count": 172,
   "id": "f63f45c0-f261-4b92-a2c0-1dab79194053",
   "metadata": {},
   "outputs": [],
   "source": [
    "#Strange that the rows in N_GRP,F_CHAN,N_CHAN are all the same (?)\n",
    "#now we assign the columns:('ENERG_LO', '>f4'), ('ENERG_HI', '>f4'),('N_GRP', '>i2'),('F_CHAN', '>i2'),('N_CHAN', '>i2'), ('MATRIX', '>f8"
   ]
  },
  {
   "cell_type": "code",
   "execution_count": 173,
   "id": "4dbc2a43-1530-4354-b227-8079f1963423",
   "metadata": {},
   "outputs": [],
   "source": [
    "#set in HDR: EXTNAME = SPECRESP MATRIX"
   ]
  },
  {
   "cell_type": "code",
   "execution_count": 175,
   "id": "6ea2ebe8-2a81-4492-86ab-8b7f31547573",
   "metadata": {},
   "outputs": [
    {
     "data": {
      "text/plain": [
       "XTENSION= 'BINTABLE'           /Binary table written by MWRFITS v1.4            \n",
       "BITPIX  =                    8 /Required value                                  \n",
       "NAXIS   =                    2 /Required value                                  \n",
       "NAXIS1  =                  334 /Number of bytes per row                         \n",
       "NAXIS2  =                   40 /Number of rows                                  \n",
       "PCOUNT  =                    0 /Normally 0 (no varying arrays)                  \n",
       "GCOUNT  =                    1 /Required value                                  \n",
       "TFIELDS =                    6 /Number of columns in table                      \n",
       "EXTNAME = 'SPECRESP MATRIX'    /Extension name                                  \n",
       "TELESCOP= 'ASIM'               / Telescope or mission name                      \n",
       "INSTRUME= 'MXGS'               / Instrument name                                \n",
       "DATE    = '11-06-2020'         / Creation date                                  \n",
       "ONTIME  =         1.0000000000 / Total number of detector channels available    \n",
       "TSTART  =            106.50000 / DOY observation start time                     \n",
       "TSTART  =            107.09800 / DOY observation stop time                      \n",
       "TUNIT1  = 'keV'                 / Unit for this column                          \n",
       "TUNIT2  = 'keV'                 / Unit for this column                          \n",
       "TUNIT6  = 'cm**2'               / Unit for this column                          \n",
       "HDUCLASS= 'OGIP'               / Required for RMF                               \n",
       "HDUVERS = '1.3.0'              /                                                \n",
       "HDUCLAS1= 'RESPONSE'           / Typically found in RMF files                   \n",
       "HDUCLAS2= 'RSP_MATRIX'         / From CAL/GEN/92-002                            \n",
       "DETCHANS=                   40 / Total number of detector channels available    \n",
       "NUMBINS =                   40 / Number of true energy bins of the MATRIX       \n",
       "FILTER  = 'none'               / Not applicable for MXGS                        \n",
       "RMFVERSN=                    1 / Needed to pass CHKRMF                          \n",
       "CHANTYPE= 'PI'                 / No corrections have been applied               \n",
       "EXTVER  =                    1 / Version number of this extension               \n",
       "RSPVERSN= '2020mm'             / Modified by Martino Marisaldi                  \n",
       "DETNAM  = 'HED'     / Detector name                                             \n",
       "CCNM0001= 'SPECRESP MATRIX'    /                                                \n",
       "TFORM1  = 'E       '           /                                                \n",
       "TFORM2  = 'E       '           /                                                \n",
       "TFORM3  = 'I       '           /                                                \n",
       "TFORM4  = 'I       '           /                                                \n",
       "TFORM5  = 'I       '           /                                                \n",
       "TFORM6  = '40D     '           /                                                \n",
       "TTYPE1  = 'ENERG_LO '          /                                                \n",
       "TTYPE2  = 'ENERG_HI '          /                                                \n",
       "TTYPE3  = 'N_GRP   '           /                                                \n",
       "TTYPE4  = 'F_CHAN  '           /                                                \n",
       "TTYPE5  = 'N_CHAN  '           /                                                \n",
       "TTYPE6  = 'MATRIX  '           /                                                "
      ]
     },
     "execution_count": 175,
     "metadata": {},
     "output_type": "execute_result"
    }
   ],
   "source": [
    "fits.getheader('exHED.fits',2)"
   ]
  },
  {
   "cell_type": "code",
   "execution_count": 209,
   "id": "f07c9756-d009-4f9a-bdf5-93f2fd0d5a93",
   "metadata": {},
   "outputs": [],
   "source": [
    "from datetime import datetime,timedelta\n",
    "import numpy as np\n",
    "from astropy.io import fits\n",
    "import pandas as pd\n",
    "\n",
    "#needed inputs into HDR:\n",
    "#the items in the dict is 'KEY', ['VALUE', 'COMMENT']\n",
    "RSP_dict = {\n",
    "'USER': ['Andreas Ramsli','Username of creator of this fits file'], #<str>\n",
    "'T0TIME':['2020-12-27T15:14:06.854','Trigger time UT format=YYYY-MM-DDThh:mm:ss.fff'], #<str> \n",
    "'TSTART': [0.0,'[s] Start time of spectrum accumulation'], #<float> [s] Start time of spectrum accumulation relative to T0TIME\n",
    "'TSTOP': [0.064,'End time of spectrum accumulation'], #<float> [s]\n",
    "'EXPOSURE': [0.064,'[s] Integration time in seconds for the PHA data'], #<float> \n",
    "'OBJECT': ['GRB201227A','Name of the observed object'], #<str> \n",
    "'RA_OBJ': [170.121,'[deg] RA of source'], #<float> \n",
    "'DEC_OBJ':  [-73.613,'[deg] Dec of source'], #<float>\n",
    "'FILENAME': ['example.rsp','RSP filename'] #<str>  ('example.pha')\n",
    "}\n",
    "#More keys can be declated. Set generatePHA(see_template=True) to view avalible keys,values & comments from the template HDR's\n",
    "#TODO: Check the inputs: Might need only the full path to the file. Must be the right theta phi angles!\n",
    "\n",
    "def generateRSP(RSP_dict=None, DRM_fname=None, bin_lo=None, bin_hi=None, see_headers=False):\n",
    "    \"\"\"\n",
    "    function for generating PHA file for ASIM data.\n",
    "    RSP_dict <dict>, dictionary containing keywords and values for headers. Possible to set new keywords,values and comments by declaring them\n",
    "    as 'KEY': ['VALUE','COMMENT'] in the RSP_dict.\n",
    "    \n",
    "    bin_lo: <np.array>, array containing the E_MIN boundaries for the channels\n",
    "    bin_hi: <np.array>, array containing the E_MAX boundaries for the channels\n",
    "    DRM_fname: <str>, Full path to the HED_DRM. Important to get the right theta/phi angles.\n",
    "    stat_err: <np.array>, array containing the poission error <float> for each count\n",
    "    \n",
    "    RSP_dict: <dict>, key: <str>, value: <str,float,int>. Dictionary for setting value in the headers (Primary, Spectrum & Ebounds).\n",
    "    Comments must be changed in the 'type'DictHDR.\n",
    "    \n",
    "    see_headers: <bool>, wheter to print the template HDR's. If true nothing will be returned\n",
    "    \"\"\"\n",
    "    \n",
    "    'none'\n",
    "    \n",
    "    #Creating template for PRIMARY,SPECTRUM & EBOUNDS HDR\n",
    "    #change the relevant keywords\n",
    "    #----------------------------------------------------------------\n",
    "    primaryDictHDR = {'SIMPLE': [True, 'conforms to FITS standard'],\n",
    "    'BITPIX': [8, 'array data type'],\n",
    "    'NAXIS': [0, 'number of array dimensions'],\n",
    "    'EXTEND': [True, ''],\n",
    "    'CREATOR': ['ASIM Fits v1.0.0', 'Program name. Written by Andreas Ramsli'],\n",
    "    'FILETYPE': ['SPECTRUM', 'Name for this type of FITS file'],\n",
    "    'TELESCOP': ['ASIM', 'Name of mission/satellite'],\n",
    "    'INSTRUME': ['MXGS: HED', 'Specific instrument used for observation'],\n",
    "    'ORIGIN': ['University of Bergen', 'Name of institution making file'],\n",
    "    'DATE': ['none','file creation date [YYYY-MM-DDThh:mm:ss UT]'],\n",
    "    'TSTART': ['none', '[s] TSTART given relative to T0'],\n",
    "    'TSTOP': ['none', '[s] TSTOP given relative to T0'],\n",
    "    'EXPOSURE': ['none', '[s] Integration time in seconds for the PHA data'],\n",
    "    'FILENAME': ['none', 'Name of this file'],\n",
    "    'OBJECT': ['none', 'Burst name in standard format, GRB yymmdd'],\n",
    "    'RADECSYS': ['FK5', 'Stellar reference frame'],\n",
    "    'EQUINOX': [2000.0, 'Equinox for RA and Dec'],\n",
    "    'RA_OBJ': ['none', '[deg] Calculated RA of source'],\n",
    "    'DEC_OBJ': ['none', '[deg] Calculated Dec of source'],\n",
    "    'T0TIME': ['none', 'Trigger time given as YYYY-MM-DDThh:mm:ss.fff'],\n",
    "    'USER':['none','Username of creator of this fits file'],\n",
    "    'BACKFILE': ['none', 'Background FITS file'],\n",
    "    'RESPFILE': ['none', 'redistribution matrix filename'],}\n",
    "\n",
    "    rspDictHDR = {'XTENSION': ['BINTABLE', 'binary table extension'],\n",
    "    'BITPIX': [8, 'array data type'],\n",
    "    'NAXIS': [2, 'number of array dimensions'],\n",
    "    'NAXIS1': [334, 'length of dimension 1'],\n",
    "    'NAXIS2': [40, 'length of dimension 2'],\n",
    "    'PCOUNT': [0, 'number of group parameters'],\n",
    "    'GCOUNT': [1, 'number of groups'],\n",
    "    'TFIELDS': [6, 'number of table fields'],\n",
    "    'ANCRFILE': ['none', 'ancillary response'],\n",
    "    'AREASCAL': [1.0, 'Area scaling factor, no field AREASCAL'],\n",
    "    'BACKFILE': ['none', 'Background FITS file'],\n",
    "    'BACKSCAL': [1.0, 'Background scale factor, no field BACKSCAL'],\n",
    "    'CHANTYPE': ['PI', 'channel type [PHA, PI etc]'], #check this!\n",
    "    'CORRFILE': ['none', 'Correlation FITS file'],\n",
    "    'CORRSCAL': [0.0, 'Correlation scale factor'],\n",
    "    'CREATOR': ['ASIM fits v1.0.0','Program name and version. By Andreas Ramsli'],\n",
    "    'DATAMODE': ['PH', 'Datamode'],\n",
    "    'DATE': ['none', 'File creation date [UT]'],\n",
    "    'DATE_END': ['none', 'Date observations ended (yyyy-mm-dd)'],\n",
    "    'DATE_OBS': ['none', 'Date observations were made [yyyy-mm-dd]'],\n",
    "    'DETCHANS': [40, 'Total number of detector channels available'],\n",
    "    'EQUINOX': [2000.0, 'Equinox of celestial coord system'],\n",
    "    'EXPOSURE': ['none', '[s] Integration time in seconds for the PHA data'],\n",
    "    'EXTNAME': ['SPECRESP MATRIX', 'Extension name'],\n",
    "    'FILTER': ['none', 'Instrument filter in use'],\n",
    "    'HDUCLAS1': ['RESPONSE', 'response dataset'],\n",
    "    'HDUCLAS2': ['RSP_MATRIX', 'indicating the data stored [TOTAL: gross PHA sp'],\n",
    "    'HDUCLAS4': ['TYPE:I', 'indicating whether this is a type I or II exten'],\n",
    "    'HDUCLASS': ['OGIP', 'format conforms to OGIP standard'],\n",
    "    'HDUVERS': ['1.3.0', 'Version of format [OGIP memo OGIP-92-007]'],\n",
    "    'HUDCLAS3': ['COUNT', 'indicating further the data stored'],\n",
    "    'INSTRUME': ['MXGS: HED', 'Instrument name'],\n",
    "    'OBJECT': ['none', 'Name of observed object'],\n",
    "    'ORIGIN': ['Univeristy of Bergen','Name of institution making the fits file'],\n",
    "    'POISSERR': [False, 'Set to false since stat_err is used'],\n",
    "    'QUALITY': [0, 'no data quality information specified'],\n",
    "    'GROUPING': [0, 'No special grouping applied'],\n",
    "    'RADECSYS': ['FK5', 'coord frame used for EQUINOX'],\n",
    "    'SYS_ERR': [0, 'no systematic error specified'],\n",
    "    'TELESCOP': ['ASIM', 'Telescope or mission name'],\n",
    "    'TIME_END': ['none', 'Time observations were made (hh:mm:ss)'],\n",
    "    'TIME_OBS': ['none', 'Time observations were made (hh:mm:ss)'],\n",
    "    'TLMAX1': [40, 'Highest legal channel number'],\n",
    "    'TLMIN1': [1, 'Lowest legal channel number'],\n",
    "    'T0TIME': ['none', 'Trigger time UT (YYYY-MM-DDThh:mm:ss.fff)'],\n",
    "    'TSTART': ['none', '[s] Start time of spectrum accumulation relativ'],\n",
    "    'TSTOP': ['none', '[s] End time of spectrum accumulation relative'],\n",
    "    'COMMENT': ['TSTART/STOP is given relative to the trigger time (T0TIME)', ''],\n",
    "    'USER': ['none', 'Username of creator of this fits file'],\n",
    "    'XFLT0001': ['none', 'XSPEC selection filter description'],\n",
    "    'TTYPE1': ['ENERG_LO', 'Left bin edge'],\n",
    "    'TFORM1': ['1E', ''],\n",
    "    'TTYPE2': ['ENERG_HI', 'Right bin edge'], \n",
    "    'TFORM2': ['1E', ''],\n",
    "    'TTYPE3': ['N_GRP', ''], \n",
    "    'TFORM3': ['1I', ''],\n",
    "    'TTYPE4': ['F_CHAN',''],\n",
    "    'TFORM4': ['1I',''],\n",
    "    'TTYPE5': ['N_CHAN',''],\n",
    "    'TFORM5': ['1I',''],\n",
    "    'TTYPE6': ['MATRIX', 'Detector response matrix'],\n",
    "    'TFORM6': ['40D',''],\n",
    "    'TUNIT1': ['keV', 'Unit for this column'],\n",
    "    'TUNIT2': ['keV', 'Unit for this column'],\n",
    "    'TUNIT6': ['cm**2', 'Unit for this column'],\n",
    "    'RA_OBJ': ['none', '[deg] Calculated RA of source'],\n",
    "    'DEC_OBJ': ['none', '[deg] Calculated Dec of source']}\n",
    "\n",
    "    eboundsDictHDR = {'XTENSION': ['BINTABLE', 'binary table extension'],\n",
    "    'BITPIX': [8, 'Required value'],\n",
    "    'NAXIS': [2, 'Required value'],\n",
    "    'NAXIS1': [10, 'Number of bytes per row'],\n",
    "    'NAXIS2': [40, 'Number of rows'],\n",
    "    'PCOUNT': [0, 'Normally 0 [no varying arrays]'],\n",
    "    'GCOUNT': [1, 'Required value'],\n",
    "    'TFIELDS': [3, 'Number of columns in table'],\n",
    "    'EXTNAME': ['EBOUNDS', 'Extension name'],\n",
    "    'TELESCOP': ['ASIM', 'Telescope or mission name'],\n",
    "    'INSTRUME': ['MXGS: HED', 'Instrument name'],\n",
    "    'DATE': ['none', 'Creation date'],\n",
    "    'DETCHANS': [40, 'Total number of detector channels available'],\n",
    "    'CHANTYPE': ['PHA', 'Channel type'],\n",
    "    'TUNIT2': ['keV', 'Unit for this column'],\n",
    "    'TUNIT3': ['keV', 'Unit for this column'],\n",
    "    'TLMIN1': [1, 'Lowest legal channel number'],\n",
    "    'TLMAX': [40, 'Highest legal channel number'],\n",
    "    'EXTVER': [1, 'Version number of this extensio'],\n",
    "    'HDUCLASS': ['OGIP', 'Required for RMF'],\n",
    "    'HDUVERS': ['1.3.0', 'version of the file format'],\n",
    "    'HDUCLAS1': ['RESPONSE', 'Typically found in RMF files'],\n",
    "    'HDUCLAS2': ['EBOUNDS', 'Boundaries of energybins'],\n",
    "    'TFORM1': ['I', ''],\n",
    "    'TFORM2': ['E', ''],\n",
    "    'TFORM3': ['E', ''],\n",
    "    'TTYPE1': ['CHANNEL', ''],\n",
    "    'TTYPE2': ['E_MIN', '[keV] minimum energy of channel n'],\n",
    "    'TTYPE3': ['E_MAX', '[keV] max energy of channel n']} \n",
    "    \n",
    "    \n",
    "    #Setting KEYWORDS in dict based on input\n",
    "    #--------------------------------------------------------------------------------\n",
    "    for key in RSP_dict.keys():\n",
    "        try:\n",
    "            primaryDictHDR[key][0] = RSP_dict[key]\n",
    "            rspDictHDR[key][0] = RSP_dict[key]\n",
    "            eboundsDictHDR[key][0] = RSP_dict[key]\n",
    "        except KeyError: #creating new keys if they are not in the template dict\n",
    "            if len(RSP_dict[key])<=1 or len(RSP_dict[key])>2:\n",
    "                return(print(\"Value and comment must be set for the keyword '{}' as a list\".format(key)))\n",
    "            else:\n",
    "                primaryDictHDR[key] = [RSP_dict[key][0],RSP_dict[key][1]]\n",
    "                rspDictHDR[key] = [RSP_dict[key][0],RSP_dict[key][1]]\n",
    "                eboundsDictHDR[key] =[RSP_dict[key][0],RSP_dict[key][1]]\n",
    "                \n",
    "    file_creation_date = datetime.isoformat(datetime.utcnow()) #setting file creation date to UTC now\n",
    "    primaryDictHDR['DATE'][0], rspDictHDR['DATE'][0], eboundsDictHDR['DATE'][0] = file_creation_date,file_creation_date,file_creation_date\n",
    "    \n",
    "    #calculating the DATE_OBS,DATE_END,TIME_OBS,TIME_END from input\n",
    "    try:\n",
    "        T0TIME = datetime.fromisoformat(RSP_dict['T0TIME'][0])\n",
    "        OBS_START = T0TIME + timedelta(seconds=RSP_dict['TSTART'][0])\n",
    "        OBS_END = T0TIME + timedelta(seconds=RSP_dict['TSTOP'][0])\n",
    "        \n",
    "        rspDictHDR['DATE_OBS'][0] = OBS_START.strftime('%Y-%m-%d')\n",
    "        rspDictHDR['TIME_OBS'][0] = OBS_START.strftime('%H:%M:%S')\n",
    "        rspDictHDR['DATE_END'][0] = OBS_END.strftime('%Y-%m-%d')\n",
    "        rspDictHDR['TIME_END'][0] = OBS_END.strftime('%H:%M:%S')\n",
    "        \n",
    "    except KeyError:\n",
    "        return(print('Something wrong with KEY. Check that T0TIME is set in input_dict'))\n",
    "    \n",
    "    \n",
    "    \n",
    "    #Setting headers\n",
    "    #----------------------------------------------------------------------------------\n",
    "    primaryHDR,DRM_hdr, eboundsHDR = fits.Header(),fits.Header(),fits.Header()\n",
    "    \n",
    "    \n",
    "    for row in primaryDictHDR.items():\n",
    "        primaryHDR[row[0]] = row[1][0],row[1][1]\n",
    "    for row in rspDictHDR.items():\n",
    "        DRM_hdr[row[0]] = row[1][0],row[1][1]\n",
    "    for row in eboundsDictHDR.items():\n",
    "        eboundsHDR[row[0]] = row[1][0],row[1][1]\n",
    "        \n",
    "    if see_headers==True:\n",
    "        print(\"PrimaryHDR: \\n\", primaryHDR.cards)\n",
    "        print(\"DRM_hdr: \\n\",DRM_hdr.cards)\n",
    "        print(\"EboundsHDR: \\n\",eboundsHDR.cards)\n",
    "    else:\n",
    "        primaryHDU = fits.PrimaryHDU(header=primaryHDR) #PrimaryHDU\n",
    "        \n",
    "        HED_DRM = pd.read_csv(DRM_fname, sep=' ',header=None).T.to_numpy(dtype=np.float32) #Getting DRM from DRM_fname\n",
    "       \n",
    "        DRM_shape = np.shape(HED_DRM)\n",
    "        \n",
    "        if not np.all([DRM_shape[0],len(bin_lo),len(bin_hi)]) == True:\n",
    "            return(print('Length of input arrays are not the same. Check shape of DRM = (40,40)'))\n",
    "        \n",
    "        #Creating table for SPECTRUM HDU file\n",
    "        #------------------------------------\n",
    "        eboundMinColumn = fits.Column(name=DRM_hdr.cards['TTYPE1'][1],format=DRM_hdr.cards['TFORM1'][1], array=bin_lo)\n",
    "        eboundMaxColumn = fits.Column(name=DRM_hdr.cards['TTYPE2'][1],format=DRM_hdr.cards['TFORM2'][1], array=bin_hi)\n",
    "        #Do we actually need the N_GRP, F_CHAN, N_CHAN columns?\n",
    "        ngrpColumn = fits.Column(name=DRM_hdr.cards['TTYPE3'][1],format=DRM_hdr.cards['TFORM3'][1], array=np.array([1]*DRM_shape[0]))\n",
    "        fchanColumn = fits.Column(name=DRM_hdr.cards['TTYPE4'][1],format=DRM_hdr.cards['TFORM4'][1], array=np.array([1]*DRM_shape[0]))\n",
    "        nchanColumn = fits.Column(name=DRM_hdr.cards['TTYPE5'][1],format=DRM_hdr.cards['TFORM5'][1], \n",
    "                                  array=np.array([DRM_shape[0]]*DRM_shape[0])) #this is the length of the rows. might be written better\n",
    "        \n",
    "        drmColumn = fits.Column(name=DRM_hdr.cards['TTYPE6'][1],format=DRM_hdr.cards['TFORM6'][1], array=HED_DRM)\n",
    "        \n",
    "        drmTableHDU = fits.BinTableHDU.from_columns(columns=[eboundMinColumn,eboundMaxColumn,ngrpColumn,fchanColumn,nchanColumn,drmColumn],header=DRM_hdr) \n",
    "          \n",
    "        \n",
    "        #Creating table for EBOUNDS HDU file\n",
    "        #-----------------------------------\n",
    "        channelColumn = fits.Column(name=eboundsHDR.cards['TTYPE1'][1],format=eboundsHDR.cards['TFORM1'][1], array=np.arange(1,len(bin_lo)+1))\n",
    "        eboundsTableHDU = fits.BinTableHDU.from_columns(columns=[channelColumn,eboundMinColumn,eboundMaxColumn],header=eboundsHDR) \n",
    "        \n",
    "        \n",
    "        \n",
    "        \n",
    "        HDUL = fits.HDUList([primaryHDU,drmTableHDU,eboundsTableHDU])\n",
    "        try:\n",
    "            HDUL.writeto(primaryHDR.cards['FILENAME'][1],checksum=True)\n",
    "        except KeyError:\n",
    "            print(\"FILENAME keyword must be set in input dict\")"
   ]
  },
  {
   "cell_type": "code",
   "execution_count": 208,
   "id": "3ff9d180-9a75-4c6d-9160-ee55b79879cc",
   "metadata": {},
   "outputs": [],
   "source": [
    "generateRSP(RSP_dict=RSP_dict,DRM_fname='HED_drm_mats_75.00_-45.00.txt',bin_lo=HED_bins[:-1],bin_hi=HED_bins[1:],see_headers=False)"
   ]
  },
  {
   "cell_type": "code",
   "execution_count": null,
   "id": "43d2399e-5041-4f0e-a3d3-841c0d09de85",
   "metadata": {},
   "outputs": [],
   "source": [
    "#fverify, GRB1902... burst again"
   ]
  }
 ],
 "metadata": {
  "kernelspec": {
   "display_name": "GRB",
   "language": "python",
   "name": "fermi_gbm"
  },
  "language_info": {
   "codemirror_mode": {
    "name": "ipython",
    "version": 3
   },
   "file_extension": ".py",
   "mimetype": "text/x-python",
   "name": "python",
   "nbconvert_exporter": "python",
   "pygments_lexer": "ipython3",
   "version": "3.7.0"
  }
 },
 "nbformat": 4,
 "nbformat_minor": 5
}
