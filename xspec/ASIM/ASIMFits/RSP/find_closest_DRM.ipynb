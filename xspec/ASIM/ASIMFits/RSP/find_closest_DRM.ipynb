{
 "cells": [
  {
   "cell_type": "markdown",
   "id": "07f6d822-865e-42d8-a545-0d6aebfb429e",
   "metadata": {},
   "source": [
    "Script for finding the closes DRM file in dir based on theta,phi angles"
   ]
  },
  {
   "cell_type": "code",
   "execution_count": 5,
   "id": "86e73cdf-0519-43c3-b3fc-77e861d8e220",
   "metadata": {},
   "outputs": [],
   "source": [
    "import numpy as np\n",
    "import os"
   ]
  },
  {
   "cell_type": "code",
   "execution_count": 18,
   "id": "fed65f3e-48e6-4435-80fa-7883fb5f8683",
   "metadata": {},
   "outputs": [],
   "source": [
    "dir_path = '/Users/andreas/phys/master/HED_DRM/'\n",
    "theta = float(15)\n",
    "phi = float(150.89)"
   ]
  },
  {
   "cell_type": "code",
   "execution_count": 4,
   "id": "2bd8e7d3-7751-4307-bce6-700fc664b4ef",
   "metadata": {},
   "outputs": [],
   "source": [
    "#open the dir and import all the filenames\n",
    "#search based on the number of int's before the point (1, 10, 100)\n",
    "#limit the search based on len above\n",
    "#cut the fname string based on the input above\n",
    "#use abs() to find the closest theta, phi angle"
   ]
  },
  {
   "cell_type": "code",
   "execution_count": 134,
   "id": "9453c358-f063-44a5-893e-db057374f240",
   "metadata": {},
   "outputs": [],
   "source": [
    "def find_nearest(array, value):\n",
    "    array = np.asarray(array)\n",
    "    idx = (np.abs(array - value)).argmin()\n",
    "    return idx"
   ]
  },
  {
   "cell_type": "code",
   "execution_count": 187,
   "id": "275f469e-61a0-4d2e-932f-4400316eb9fc",
   "metadata": {},
   "outputs": [],
   "source": [
    "def get_items(v):\n",
    "    return (v[0],v[1])"
   ]
  },
  {
   "cell_type": "code",
   "execution_count": 208,
   "id": "cafd9ea1-8235-4780-9a0f-d55a21e57d8a",
   "metadata": {},
   "outputs": [],
   "source": [
    "def find_DRM_file(dir_path=None,theta=None,phi=None):\n",
    "    files = os.listdir(dir_path)\n",
    "    files.sort()\n",
    "    if files[0] == '.DS_Store':\n",
    "        del files[0]\n",
    "    try:\n",
    "        theta, phi = round(float(theta),2),round(float(phi),2)\n",
    "    except ValueError:\n",
    "        print(\"Theta or phi not a float\")\n",
    "        theta,phi = round(float(input(\"theta=\"))),round(float(input(\"Phi=\")))\n",
    "    \n",
    "    theta_angles = []\n",
    "    phi_angles =[]\n",
    "    \n",
    "    for s in files:\n",
    "        ss = s.replace(\".txt\",\"\")\n",
    "        sss = ss.replace(\"HED_drm_mats_\",\"\")\n",
    "        angles = sss.split(\"_\")\n",
    "        theta_angles.append(angles[0])\n",
    "        phi_angles.append(angles[1])\n",
    "\n",
    "    theta_angles = np.float16(np.array(theta_angles))\n",
    "    phi_angles = np.float16(np.array(phi_angles))\n",
    "\n",
    "    angles = []\n",
    "    for i in np.arange(0,len(theta_angles)):\n",
    "        angles.append([theta_angles[i],phi_angles[i]])\n",
    "    angles.sort(key=get_items)\n",
    "    \n",
    "    theta_sort,phi_sort = [],[]\n",
    "    for tup in angles:\n",
    "        theta_sort.append(tup[0])\n",
    "        phi_sort.append(tup[1])\n",
    "        \n",
    "    i = find_nearest(theta_sort,theta)\n",
    "    j = find_nearest(phi_sort[i:i+25],phi)\n",
    "    closest_theta,closest_phi = theta_sort[i+j],phi_sort[i+j] #closes angle in list\n",
    "    \n",
    "    for f in files:    \n",
    "        if f\"_{closest_theta}0_{closest_phi}0\" in f:\n",
    "            return f\n",
    "    print(\"No match found\")"
   ]
  },
  {
   "cell_type": "code",
   "execution_count": 219,
   "id": "9133d1d7-7124-4b24-97c8-903df30d1b53",
   "metadata": {},
   "outputs": [
    {
     "data": {
      "text/plain": [
       "'HED_drm_mats_105.00_-30.00.txt'"
      ]
     },
     "execution_count": 219,
     "metadata": {},
     "output_type": "execute_result"
    }
   ],
   "source": [
    "find_DRM_file(dir_path='/Users/andreas/phys/master/HED_DRM/',theta=110.882,phi=-36.976)"
   ]
  }
 ],
 "metadata": {
  "kernelspec": {
   "display_name": "base",
   "language": "python",
   "name": "base"
  },
  "language_info": {
   "codemirror_mode": {
    "name": "ipython",
    "version": 3
   },
   "file_extension": ".py",
   "mimetype": "text/x-python",
   "name": "python",
   "nbconvert_exporter": "python",
   "pygments_lexer": "ipython3",
   "version": "3.9.13"
  }
 },
 "nbformat": 4,
 "nbformat_minor": 5
}
