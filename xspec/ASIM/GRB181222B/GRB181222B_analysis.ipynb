{
 "cells": [
  {
   "cell_type": "code",
   "execution_count": null,
   "id": "d8e35dd1-2d6f-4586-976b-318d104c1836",
   "metadata": {},
   "outputs": [],
   "source": [
    "import os\n",
    "path = os.getcwd()\n",
    "\n",
    "if path[1:5] == 'Home':\n",
    "    %run /Home/siv30/wad005/master/GRB/src/harvest_matlab_data.ipynb\n",
    "    #%run /Home/siv30/wad005/master/GRB/src/dau_det_distribution.ipynb\n",
    "    %run /Home/siv30/wad005/master/GRB/src/ASIMXspec.ipynb\n",
    "    %run /Home/siv30/wad005/master/GRB/xspec/ASIM/ASIMFits/BAK/ASIMbak.ipynb\n",
    "    %run /Home/siv30/wad005/master/GRB/xspec/ASIM/ASIMFits/PHA/ASIMpha.ipynb\n",
    "    %run /Home/siv30/wad005/master/GRB/xspec/ASIM/ASIMFits/RSP/ASIMrsp.ipynb\n",
    "    %run /Home/siv30/wad005/master/GRB/xspec/ASIM/ASIMFits/RSP/find_closest_DRM.ipynb\n",
    "    %run /Home/siv30/wad005/useful_py_functions/matplotlib_custom_style_and_macros.py\n",
    "    mat_path = '/Home/siv30/wad005/master/GRB/MATLAB/andrey_mezentsev/'\n",
    "else:\n",
    "    %run /Users/andreas/phys/master/GRB/src/harvest_matlab_data.ipynb\n",
    "    #%run /Users/andreas/phys/master/GRB/src/dau_det_distribution.ipynb\n",
    "    %run /Users/andreas/phys/master/GRB/src/ASIMXspec.ipynb\n",
    "    %run /Users/andreas/phys/master/GRB/xspec/ASIM/ASIMFits/BAK/ASIMbak.ipynb\n",
    "    %run /Users/andreas/phys/master/GRB/xspec/ASIM/ASIMFits/PHA/ASIMpha.ipynb\n",
    "    %run /Users/andreas/phys/master/GRB/xspec/ASIM/ASIMFits/RSP/ASIMrsp.ipynb\n",
    "    %run /Users/andreas/phys/master/GRB/xspec/ASIM/ASIMFits/RSP/find_closest_DRM.ipynb\n",
    "    mat_path = '/Users/andreas/phys/master/GRB/MATLAB/andrey_mezentsev/'\n",
    "    \n",
    "from stingray import Lightcurve as LC\n",
    "from stingray import CrossCorrelation as CC\n",
    "import numpy as np\n",
    "import matplotlib.pyplot as plt\n",
    "import os, re, sys\n",
    "from astropy.io import fits, ascii\n",
    "from astropy.time import Time\n",
    "import scipy.io\n",
    "import pandas as pd\n",
    "\n",
    "from gbm.data import TTE,RSP,Trigdat\n",
    "from gbm.binning.unbinned import bin_by_time\n",
    "from gbm.plot import Lightcurve, Spectrum\n",
    "from gbm.background import BackgroundFitter\n",
    "from gbm.background.binned import Polynomial #working in ctime for example\n",
    "%matplotlib inline\n"
   ]
  },
  {
   "cell_type": "code",
   "execution_count": 83,
   "id": "2528053a-57ce-4470-a183-a540f929ad2c",
   "metadata": {},
   "outputs": [],
   "source": [
    "df = pd.read_csv(mat_path+'GRB181222B.csv')"
   ]
  },
  {
   "cell_type": "code",
   "execution_count": 84,
   "id": "a718338a-656c-4d2f-825a-24ee7a6e1383",
   "metadata": {},
   "outputs": [
    {
     "data": {
      "image/png": "[encoded data removed]",
      "text/plain": [
       "<Figure size 432x288 with 1 Axes>"
      ]
     },
     "metadata": {
      "needs_background": "light"
     },
     "output_type": "display_data"
    }
   ],
   "source": [
    "tus = df['tus'].to_numpy(dtype=np.float64)\n",
    "binsize = 10e3 #us\n",
    "bins = np.arange(min(tus),max(tus)+binsize,binsize)\n",
    "plt.hist(tus,bins=bins)\n",
    "plt.show()"
   ]
  },
  {
   "cell_type": "code",
   "execution_count": 85,
   "id": "6f6b26c1-f3f8-4d1f-aa38-285c8ad12b16",
   "metadata": {},
   "outputs": [],
   "source": [
    "#check that the correct calibration coefs are used, and they are close to the neighbours"
   ]
  },
  {
   "cell_type": "code",
   "execution_count": null,
   "id": "83975ac0-8fbd-451c-8c38-3b89537bec39",
   "metadata": {},
   "outputs": [],
   "source": []
  },
  {
   "cell_type": "code",
   "execution_count": null,
   "id": "455f3e5c-5687-4a5f-9012-4eff5c1efa4c",
   "metadata": {},
   "outputs": [],
   "source": []
  },
  {
   "cell_type": "code",
   "execution_count": null,
   "id": "9a92f458-66ab-4ad6-b634-7586d9216268",
   "metadata": {},
   "outputs": [],
   "source": []
  },
  {
   "cell_type": "code",
   "execution_count": null,
   "id": "16a327c8-f273-48fe-bfea-6c115ebc322e",
   "metadata": {},
   "outputs": [],
   "source": []
  },
  {
   "cell_type": "code",
   "execution_count": null,
   "id": "8d5c3003-7a56-4dc7-ac42-0a6bc6a4c508",
   "metadata": {},
   "outputs": [],
   "source": []
  },
  {
   "cell_type": "code",
   "execution_count": null,
   "id": "75466515-4714-4651-8436-1e27b8641679",
   "metadata": {},
   "outputs": [],
   "source": []
  },
  {
   "cell_type": "code",
   "execution_count": null,
   "id": "266f33df-f43f-4d98-8ed9-1af48c4b6922",
   "metadata": {},
   "outputs": [],
   "source": []
  },
  {
   "cell_type": "code",
   "execution_count": null,
   "id": "0b93ae67-bc49-4b59-9cc8-82947c8e0893",
   "metadata": {},
   "outputs": [],
   "source": []
  },
  {
   "cell_type": "code",
   "execution_count": null,
   "id": "a58d974a-af36-4617-9a3b-c43cb6baa46d",
   "metadata": {},
   "outputs": [],
   "source": []
  },
  {
   "cell_type": "code",
   "execution_count": null,
   "id": "9d91546b-3aec-40ff-b771-3e19ef1ec7c5",
   "metadata": {},
   "outputs": [],
   "source": []
  },
  {
   "cell_type": "code",
   "execution_count": null,
   "id": "cf528bf1-63a4-46db-9990-6987ec7084ca",
   "metadata": {},
   "outputs": [],
   "source": []
  },
  {
   "cell_type": "code",
   "execution_count": null,
   "id": "684ea1c4-0545-42c2-ac29-9bf70eb294a1",
   "metadata": {},
   "outputs": [],
   "source": []
  }
 ],
 "metadata": {
  "kernelspec": {
   "display_name": "base",
   "language": "python",
   "name": "base"
  },
  "language_info": {
   "codemirror_mode": {
    "name": "ipython",
    "version": 3
   },
   "file_extension": ".py",
   "mimetype": "text/x-python",
   "name": "python",
   "nbconvert_exporter": "python",
   "pygments_lexer": "ipython3",
   "version": "3.9.7"
  }
 },
 "nbformat": 4,
 "nbformat_minor": 5
}
