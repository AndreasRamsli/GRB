{
 "cells": [
  {
   "cell_type": "code",
   "execution_count": 30,
   "id": "00e1716b-fe67-42e4-a6aa-334fae74f353",
   "metadata": {},
   "outputs": [
    {
     "name": "stdout",
     "output_type": "stream",
     "text": [
      "\n",
      "all UiB paths loaded\n",
      "\n",
      "all UiB paths loaded\n",
      "read_matlab_file.ipynb loaded successfully!\n",
      "\n",
      "all UiB paths loaded\n",
      "\n",
      "all UiB paths loaded\n",
      "read_matlab_file.ipynb loaded successfully!\n",
      "\n",
      "all UiB paths loaded\n",
      "read_matlab_file.ipynb loaded successfully!\n",
      "convert_erg.ipynb loaded successfully!\n",
      "\n",
      "all UiB paths loaded\n",
      "read_matlab_file.ipynb loaded successfully!\n",
      "\n",
      "all UiB paths loaded\n",
      "read_matlab_file.ipynb loaded successfully!\n",
      "convert_erg.ipynb loaded successfully!\n",
      "safety_time.ipynb loaded successfully!\n",
      "\n",
      "all UiB paths loaded\n",
      "\n",
      "all UiB paths loaded\n",
      "read_matlab_file.ipynb loaded successfully!\n",
      "\n",
      "all UiB paths loaded\n",
      "read_matlab_file.ipynb loaded successfully!\n",
      "\n",
      "all UiB paths loaded\n",
      "\n",
      "all UiB paths loaded\n",
      "read_matlab_file.ipynb loaded successfully!\n",
      "\n",
      "all UiB paths loaded\n",
      "read_matlab_file.ipynb loaded successfully!\n",
      "\n",
      "all UiB paths loaded\n",
      "read_matlab_file.ipynb loaded successfully!\n",
      "convert_erg.ipynb loaded successfully!\n",
      "\n",
      "all UiB paths loaded\n",
      "read_matlab_file.ipynb loaded successfully!\n",
      "\n",
      "all UiB paths loaded\n",
      "read_matlab_file.ipynb loaded successfully!\n",
      "convert_erg.ipynb loaded successfully!\n",
      "safety_time.ipynb loaded successfully!\n",
      "LC_calibration loaded successfully!\n"
     ]
    }
   ],
   "source": [
    "import os\n",
    "path = os.getcwd()\n",
    "\n",
    "if path[1:5] == 'Home':\n",
    "    %run /Home/siv30/wad005/master/GRB/src/harvest_matlab_data.ipynb\n",
    "    %run /Home/siv30/wad005/master/GRB/src/background_rates.ipynb\n",
    "    %run /Home/siv30/wad005/master/GRB/src/dau_det_distribution.ipynb\n",
    "else:\n",
    "    %run /Users/andreas/phys/master/GRB/src/harvest_matlab_data.ipynb\n",
    "    %run /Users/andreas/phys/master/GRB/src/background_rates.ipynb\n",
    "    %run /Users/andreas/phys/master/GRB/src/dau_det_distribution.ipynb"
   ]
  },
  {
   "cell_type": "code",
   "execution_count": 34,
   "id": "d21c5e52-7c1a-45f4-bcc0-0fa82070513c",
   "metadata": {},
   "outputs": [
    {
     "name": "stdout",
     "output_type": "stream",
     "text": [
      "dau/det starting from index 1\n",
      "tus array given in seconds\n"
     ]
    }
   ],
   "source": [
    "df_harvest = harvest_data(fn='2018_7_20_14_21_47',T0='2018-07-20T14:21:47.389')"
   ]
  },
  {
   "cell_type": "code",
   "execution_count": 37,
   "id": "4fa2ed2f-8d54-4d6b-878a-44b6f9094a54",
   "metadata": {},
   "outputs": [
    {
     "name": "stdout",
     "output_type": "stream",
     "text": [
      "tus array OK ...\n"
     ]
    },
    {
     "data": {
      "image/png": "[encoded data removed]",
      "text/plain": [
       "<Figure size 1152x648 with 1 Axes>"
      ]
     },
     "metadata": {
      "needs_background": "light"
     },
     "output_type": "display_data"
    }
   ],
   "source": [
    "#can't estimate the background on this. have to use accumulated spectra\n",
    "plot_HED(tus_arr=df_harvest['tus'].to_numpy(),binsize=64,T0=datetime.fromisoformat('2018-07-20T14:21:47.389'))"
   ]
  },
  {
   "cell_type": "code",
   "execution_count": 33,
   "id": "718ec8a8-63ce-46e8-985e-2fa94bdecabe",
   "metadata": {},
   "outputs": [
    {
     "data": {
      "text/plain": [
       "\"\\n    flag = get_flag(df)\\n    df['flag']=flag\\n    print('safety time: ',np.round((len(np.where(flag==True)[0])/len(flag))*100,3), '% removed')\\n    df.drop(labels=np.where(flag==True)[0],inplace=True)\\n    df.sort_values(by='tus',inplace=True,ignore_index=True)\\n    df['tus'] = df['tus'].to_numpy()/1e6\\n    print('tus given in seconds')\\n    return df \""
      ]
     },
     "execution_count": 33,
     "metadata": {},
     "output_type": "execute_result"
    }
   ],
   "source": [
    "def harvest_data(fn=None,T0=None):\n",
    "    data = scipy.io.loadmat(path_m+fn)['out_data']\n",
    "    df = pd.DataFrame(data=data)\n",
    "    df.rename(columns={0:'year',1:'month',2:'day',3:'hour',4:'minute',5:'second',6:'erg',7:'dau',8:'det'},inplace=True)\n",
    "    df = df.convert_dtypes()\n",
    "    dt_column = pd.to_datetime(df[['year', 'month', 'day', 'hour', 'minute', 'second']].astype(dtype=str))\n",
    "    df['datetime'] = dt_column\n",
    "    T0 = datetime.fromisoformat(T0)\n",
    "    tus = df['datetime']-T0\n",
    "    df['tus'] = tus\n",
    "    df['tus'] = df['tus'].dt.total_seconds()\n",
    "    df['dau'] = df['dau'].to_numpy()+1 #index starting now at 1\n",
    "    df['det'] = df['det'].to_numpy()+1 #index starting now at 1\n",
    "    df = make_adr(df)\n",
    "    \n",
    "    df.sort_values(by=['adr','tus'],inplace=True,ignore_index=True)\n",
    "    print('dau/det starting from index 1')\n",
    "    print('tus array given in seconds')\n",
    "    \n",
    "    tus,erg,dau,det = df['tus'].to_numpy(),df['erg'].to_numpy(),df['dau'].to_numpy(),df['det'].to_numpy()\n",
    "    keV,abc = convert_erg(erg,dau,det,T0)\n",
    "    df['keV'] = keV\n",
    "    df['tus'] = df['tus'].to_numpy()*1e6\n",
    "\n",
    "    st,dt = get_st(df),get_dt(df)\n",
    "    df['st']=st\n",
    "    df['dt']=dt\n",
    "    return df\n",
    "'''\n",
    "    flag = get_flag(df)\n",
    "    df['flag']=flag\n",
    "    print('safety time: ',np.round((len(np.where(flag==True)[0])/len(flag))*100,3), '% removed')\n",
    "    df.drop(labels=np.where(flag==True)[0],inplace=True)\n",
    "    df.sort_values(by='tus',inplace=True,ignore_index=True)\n",
    "    df['tus'] = df['tus'].to_numpy()/1e6\n",
    "    print('tus given in seconds')\n",
    "    return df '''"
   ]
  },
  {
   "cell_type": "code",
   "execution_count": null,
   "id": "a05e95f9-12c6-404f-a826-dc18bafe227d",
   "metadata": {},
   "outputs": [],
   "source": []
  },
  {
   "cell_type": "code",
   "execution_count": null,
   "id": "bf0b2a83-482c-4e96-a8a4-56ff56f91221",
   "metadata": {},
   "outputs": [],
   "source": []
  },
  {
   "cell_type": "code",
   "execution_count": null,
   "id": "59d29f3f-5174-467d-8dcf-bd941b8321eb",
   "metadata": {},
   "outputs": [],
   "source": []
  },
  {
   "cell_type": "code",
   "execution_count": null,
   "id": "4e8f58e3-359f-4733-b9ef-41ed56ba4b5d",
   "metadata": {},
   "outputs": [],
   "source": []
  }
 ],
 "metadata": {
  "kernelspec": {
   "display_name": "base",
   "language": "python",
   "name": "base"
  },
  "language_info": {
   "codemirror_mode": {
    "name": "ipython",
    "version": 3
   },
   "file_extension": ".py",
   "mimetype": "text/x-python",
   "name": "python",
   "nbconvert_exporter": "python",
   "pygments_lexer": "ipython3",
   "version": "3.9.7"
  }
 },
 "nbformat": 4,
 "nbformat_minor": 5
}
