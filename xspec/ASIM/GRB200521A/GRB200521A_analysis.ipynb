{
 "cells": [
  {
   "cell_type": "markdown",
   "id": "4df1ed71-30d9-4eae-b6a7-039f21aa1230",
   "metadata": {},
   "source": [
    "# imports"
   ]
  },
  {
   "cell_type": "code",
   "execution_count": null,
   "id": "72d05762-dd1a-40c1-94ce-dc03c7540365",
   "metadata": {},
   "outputs": [],
   "source": [
    "import os\n",
    "path = os.getcwd()\n",
    "\n",
    "if path[1:5] == 'Home':\n",
    "    %run /Home/siv30/wad005/master/GRB/src/harvest_matlab_data.ipynb\n",
    "    %run /Home/siv30/wad005/master/GRB/src/background_rates.ipynb\n",
    "    %run /Home/siv30/wad005/master/GRB/src/dau_det_distribution.ipynb\n",
    "    %run /Home/siv30/wad005/master/GRB/src/ASIMXspec.ipynb\n",
    "    %run /Home/siv30/wad005/master/GRB/xspec/ASIM/ASIMFits/BAK/ASIMbak.ipynb\n",
    "    %run /Home/siv30/wad005/master/GRB/xspec/ASIM/ASIMFits/PHA/ASIMpha.ipynb\n",
    "    %run /Home/siv30/wad005/master/GRB/xspec/ASIM/ASIMFits/RSP/ASIMrsp.ipynb\n",
    "    %run /Home/siv30/wad005/master/GRB/xspec/ASIM/ASIMFits/RSP/find_closest_DRM.ipynb\n",
    "else:\n",
    "    %run /Users/andreas/phys/master/GRB/src/harvest_matlab_data.ipynb\n",
    "    %run /Users/andreas/phys/master/GRB/src/background_rates.ipynb\n",
    "    %run /Users/andreas/phys/master/GRB/src/dau_det_distribution.ipynb\n",
    "    %run /Users/andreas/phys/master/GRB/src/ASIMXspec.ipynb\n",
    "    %run /Users/andreas/phys/master/GRB/xspec/ASIM/ASIMFits/BAK/ASIMbak.ipynb\n",
    "    %run /Users/andreas/phys/master/GRB/xspec/ASIM/ASIMFits/PHA/ASIMpha.ipynb\n",
    "    %run /Users/andreas/phys//master/GRB/xspec/ASIM/ASIMFits/RSP/ASIMrsp.ipynb\n",
    "    %run /Users/andreas/phys//master/GRB/xspec/ASIM/ASIMFits/RSP/find_closest_DRM.ipynb"
   ]
  },
  {
   "cell_type": "code",
   "execution_count": 3,
   "id": "405803b4-87c2-4078-b81c-c4fde2d0c593",
   "metadata": {},
   "outputs": [
    {
     "name": "stdout",
     "output_type": "stream",
     "text": [
      "dau/det starting from index 1\n",
      "tus array given in seconds\n",
      "safety time:  0.089 % removed\n",
      "tus given in seconds\n"
     ]
    }
   ],
   "source": [
    "df_harvest = harvest_data(fn='2020_5_21_12_16_39',T0='2020-05-21T12:16:39.818')\n",
    "T0=datetime.fromisoformat('2020-05-21T12:16:39.818')"
   ]
  },
  {
   "cell_type": "code",
   "execution_count": null,
   "id": "7a4a0b66-8499-42a5-a636-b2f4c9d8b601",
   "metadata": {},
   "outputs": [],
   "source": [
    "plot_HED(tus_arr=df_harvest['tus'].to_numpy()*1e6,binsize=64,T0=T0)"
   ]
  },
  {
   "cell_type": "code",
   "execution_count": 6,
   "id": "94246c82-a5e8-4fc2-9310-b22e2a1d9c96",
   "metadata": {},
   "outputs": [
    {
     "data": {
      "text/html": [
       "<div>\n",
       "<style scoped>\n",
       "    .dataframe tbody tr th:only-of-type {\n",
       "        vertical-align: middle;\n",
       "    }\n",
       "\n",
       "    .dataframe tbody tr th {\n",
       "        vertical-align: top;\n",
       "    }\n",
       "\n",
       "    .dataframe thead th {\n",
       "        text-align: right;\n",
       "    }\n",
       "</style>\n",
       "<table border=\"1\" class=\"dataframe\">\n",
       "  <thead>\n",
       "    <tr style=\"text-align: right;\">\n",
       "      <th></th>\n",
       "      <th>year</th>\n",
       "      <th>month</th>\n",
       "      <th>day</th>\n",
       "      <th>hour</th>\n",
       "      <th>minute</th>\n",
       "      <th>second</th>\n",
       "      <th>erg</th>\n",
       "      <th>dau</th>\n",
       "      <th>det</th>\n",
       "      <th>datetime</th>\n",
       "      <th>tus</th>\n",
       "      <th>adr</th>\n",
       "      <th>keV</th>\n",
       "      <th>st</th>\n",
       "      <th>dt</th>\n",
       "      <th>flag</th>\n",
       "    </tr>\n",
       "  </thead>\n",
       "  <tbody>\n",
       "    <tr>\n",
       "      <th>0</th>\n",
       "      <td>2020</td>\n",
       "      <td>5</td>\n",
       "      <td>21</td>\n",
       "      <td>12</td>\n",
       "      <td>14</td>\n",
       "      <td>56.142333</td>\n",
       "      <td>1883</td>\n",
       "      <td>1</td>\n",
       "      <td>2</td>\n",
       "      <td>2020-05-21 12:14:56.142332861</td>\n",
       "      <td>-103.675667</td>\n",
       "      <td>2</td>\n",
       "      <td>32016.492958</td>\n",
       "      <td>21.806597</td>\n",
       "      <td>0.000</td>\n",
       "      <td>False</td>\n",
       "    </tr>\n",
       "    <tr>\n",
       "      <th>1</th>\n",
       "      <td>2020</td>\n",
       "      <td>5</td>\n",
       "      <td>21</td>\n",
       "      <td>12</td>\n",
       "      <td>14</td>\n",
       "      <td>56.142333</td>\n",
       "      <td>280</td>\n",
       "      <td>1</td>\n",
       "      <td>1</td>\n",
       "      <td>2020-05-21 12:14:56.142333083</td>\n",
       "      <td>-103.675667</td>\n",
       "      <td>1</td>\n",
       "      <td>2604.696080</td>\n",
       "      <td>11.418784</td>\n",
       "      <td>0.000</td>\n",
       "      <td>False</td>\n",
       "    </tr>\n",
       "    <tr>\n",
       "      <th>2</th>\n",
       "      <td>2020</td>\n",
       "      <td>5</td>\n",
       "      <td>21</td>\n",
       "      <td>12</td>\n",
       "      <td>14</td>\n",
       "      <td>56.142333</td>\n",
       "      <td>225</td>\n",
       "      <td>1</td>\n",
       "      <td>3</td>\n",
       "      <td>2020-05-21 12:14:56.142333083</td>\n",
       "      <td>-103.675667</td>\n",
       "      <td>3</td>\n",
       "      <td>2482.499675</td>\n",
       "      <td>6.976666</td>\n",
       "      <td>0.000</td>\n",
       "      <td>False</td>\n",
       "    </tr>\n",
       "    <tr>\n",
       "      <th>3</th>\n",
       "      <td>2020</td>\n",
       "      <td>5</td>\n",
       "      <td>21</td>\n",
       "      <td>12</td>\n",
       "      <td>14</td>\n",
       "      <td>56.142333</td>\n",
       "      <td>86</td>\n",
       "      <td>3</td>\n",
       "      <td>3</td>\n",
       "      <td>2020-05-21 12:14:56.142333083</td>\n",
       "      <td>-103.675667</td>\n",
       "      <td>9</td>\n",
       "      <td>2094.582976</td>\n",
       "      <td>1.729722</td>\n",
       "      <td>0.000</td>\n",
       "      <td>False</td>\n",
       "    </tr>\n",
       "    <tr>\n",
       "      <th>4</th>\n",
       "      <td>2020</td>\n",
       "      <td>5</td>\n",
       "      <td>21</td>\n",
       "      <td>12</td>\n",
       "      <td>14</td>\n",
       "      <td>56.142333</td>\n",
       "      <td>44</td>\n",
       "      <td>2</td>\n",
       "      <td>3</td>\n",
       "      <td>2020-05-21 12:14:56.142333111</td>\n",
       "      <td>-103.675667</td>\n",
       "      <td>6</td>\n",
       "      <td>482.082498</td>\n",
       "      <td>0.820825</td>\n",
       "      <td>0.000</td>\n",
       "      <td>False</td>\n",
       "    </tr>\n",
       "    <tr>\n",
       "      <th>...</th>\n",
       "      <td>...</td>\n",
       "      <td>...</td>\n",
       "      <td>...</td>\n",
       "      <td>...</td>\n",
       "      <td>...</td>\n",
       "      <td>...</td>\n",
       "      <td>...</td>\n",
       "      <td>...</td>\n",
       "      <td>...</td>\n",
       "      <td>...</td>\n",
       "      <td>...</td>\n",
       "      <td>...</td>\n",
       "      <td>...</td>\n",
       "      <td>...</td>\n",
       "      <td>...</td>\n",
       "      <td>...</td>\n",
       "    </tr>\n",
       "    <tr>\n",
       "      <th>6030</th>\n",
       "      <td>2020</td>\n",
       "      <td>5</td>\n",
       "      <td>21</td>\n",
       "      <td>12</td>\n",
       "      <td>14</td>\n",
       "      <td>58.149917</td>\n",
       "      <td>65</td>\n",
       "      <td>2</td>\n",
       "      <td>3</td>\n",
       "      <td>2020-05-21 12:14:58.149916861</td>\n",
       "      <td>-101.668083</td>\n",
       "      <td>6</td>\n",
       "      <td>701.164200</td>\n",
       "      <td>3.011642</td>\n",
       "      <td>4481.917</td>\n",
       "      <td>False</td>\n",
       "    </tr>\n",
       "    <tr>\n",
       "      <th>6031</th>\n",
       "      <td>2020</td>\n",
       "      <td>5</td>\n",
       "      <td>21</td>\n",
       "      <td>12</td>\n",
       "      <td>14</td>\n",
       "      <td>58.150045</td>\n",
       "      <td>75</td>\n",
       "      <td>1</td>\n",
       "      <td>1</td>\n",
       "      <td>2020-05-21 12:14:58.150044806</td>\n",
       "      <td>-101.667955</td>\n",
       "      <td>1</td>\n",
       "      <td>666.898730</td>\n",
       "      <td>1.667595</td>\n",
       "      <td>3350.750</td>\n",
       "      <td>False</td>\n",
       "    </tr>\n",
       "    <tr>\n",
       "      <th>6032</th>\n",
       "      <td>2020</td>\n",
       "      <td>5</td>\n",
       "      <td>21</td>\n",
       "      <td>12</td>\n",
       "      <td>14</td>\n",
       "      <td>58.150048</td>\n",
       "      <td>35</td>\n",
       "      <td>2</td>\n",
       "      <td>1</td>\n",
       "      <td>2020-05-21 12:14:58.150047917</td>\n",
       "      <td>-101.667952</td>\n",
       "      <td>4</td>\n",
       "      <td>330.459200</td>\n",
       "      <td>0.000000</td>\n",
       "      <td>411.306</td>\n",
       "      <td>False</td>\n",
       "    </tr>\n",
       "    <tr>\n",
       "      <th>6033</th>\n",
       "      <td>2020</td>\n",
       "      <td>5</td>\n",
       "      <td>21</td>\n",
       "      <td>12</td>\n",
       "      <td>14</td>\n",
       "      <td>58.150537</td>\n",
       "      <td>54</td>\n",
       "      <td>3</td>\n",
       "      <td>3</td>\n",
       "      <td>2020-05-21 12:14:58.150537139</td>\n",
       "      <td>-101.667463</td>\n",
       "      <td>9</td>\n",
       "      <td>1320.453696</td>\n",
       "      <td>1.213636</td>\n",
       "      <td>2657.945</td>\n",
       "      <td>False</td>\n",
       "    </tr>\n",
       "    <tr>\n",
       "      <th>6034</th>\n",
       "      <td>2020</td>\n",
       "      <td>5</td>\n",
       "      <td>21</td>\n",
       "      <td>12</td>\n",
       "      <td>14</td>\n",
       "      <td>58.150537</td>\n",
       "      <td>306</td>\n",
       "      <td>3</td>\n",
       "      <td>1</td>\n",
       "      <td>2020-05-21 12:14:58.150537194</td>\n",
       "      <td>-101.667463</td>\n",
       "      <td>7</td>\n",
       "      <td>6999.028800</td>\n",
       "      <td>9.000000</td>\n",
       "      <td>6621.638</td>\n",
       "      <td>False</td>\n",
       "    </tr>\n",
       "  </tbody>\n",
       "</table>\n",
       "<p>6035 rows × 16 columns</p>\n",
       "</div>"
      ],
      "text/plain": [
       "      year  month  day  hour  minute     second   erg dau det  \\\n",
       "0     2020      5   21    12      14  56.142333  1883   1   2   \n",
       "1     2020      5   21    12      14  56.142333   280   1   1   \n",
       "2     2020      5   21    12      14  56.142333   225   1   3   \n",
       "3     2020      5   21    12      14  56.142333    86   3   3   \n",
       "4     2020      5   21    12      14  56.142333    44   2   3   \n",
       "...    ...    ...  ...   ...     ...        ...   ...  ..  ..   \n",
       "6030  2020      5   21    12      14  58.149917    65   2   3   \n",
       "6031  2020      5   21    12      14  58.150045    75   1   1   \n",
       "6032  2020      5   21    12      14  58.150048    35   2   1   \n",
       "6033  2020      5   21    12      14  58.150537    54   3   3   \n",
       "6034  2020      5   21    12      14  58.150537   306   3   1   \n",
       "\n",
       "                          datetime         tus  adr           keV         st  \\\n",
       "0    2020-05-21 12:14:56.142332861 -103.675667    2  32016.492958  21.806597   \n",
       "1    2020-05-21 12:14:56.142333083 -103.675667    1   2604.696080  11.418784   \n",
       "2    2020-05-21 12:14:56.142333083 -103.675667    3   2482.499675   6.976666   \n",
       "3    2020-05-21 12:14:56.142333083 -103.675667    9   2094.582976   1.729722   \n",
       "4    2020-05-21 12:14:56.142333111 -103.675667    6    482.082498   0.820825   \n",
       "...                            ...         ...  ...           ...        ...   \n",
       "6030 2020-05-21 12:14:58.149916861 -101.668083    6    701.164200   3.011642   \n",
       "6031 2020-05-21 12:14:58.150044806 -101.667955    1    666.898730   1.667595   \n",
       "6032 2020-05-21 12:14:58.150047917 -101.667952    4    330.459200   0.000000   \n",
       "6033 2020-05-21 12:14:58.150537139 -101.667463    9   1320.453696   1.213636   \n",
       "6034 2020-05-21 12:14:58.150537194 -101.667463    7   6999.028800   9.000000   \n",
       "\n",
       "            dt   flag  \n",
       "0        0.000  False  \n",
       "1        0.000  False  \n",
       "2        0.000  False  \n",
       "3        0.000  False  \n",
       "4        0.000  False  \n",
       "...        ...    ...  \n",
       "6030  4481.917  False  \n",
       "6031  3350.750  False  \n",
       "6032   411.306  False  \n",
       "6033  2657.945  False  \n",
       "6034  6621.638  False  \n",
       "\n",
       "[6035 rows x 16 columns]"
      ]
     },
     "execution_count": 6,
     "metadata": {},
     "output_type": "execute_result"
    }
   ],
   "source": [
    "i_bkg_end = find_nearest(df_harvest['tus'].to_numpy(),-100)\n",
    "df_bkg = df_harvest.truncate(after=i_bkg_end)\n",
    "df_bkg"
   ]
  },
  {
   "cell_type": "code",
   "execution_count": null,
   "id": "4e39e820-9519-4204-88a4-499624319fe9",
   "metadata": {},
   "outputs": [],
   "source": [
    "plot_HED(tus_arr=df_bkg['tus'].to_numpy()*1e6,binsize=16,T0=T0)"
   ]
  },
  {
   "cell_type": "code",
   "execution_count": 10,
   "id": "1e5e1801-404a-40ae-b03e-13c9a7154433",
   "metadata": {},
   "outputs": [
    {
     "data": {
      "text/plain": [
       "3005.172282934205"
      ]
     },
     "execution_count": 10,
     "metadata": {},
     "output_type": "execute_result"
    }
   ],
   "source": [
    "len(df_bkg['tus'].to_numpy())/(df_bkg['tus'].to_numpy()[-1]-df_bkg['tus'].to_numpy()[0])"
   ]
  },
  {
   "cell_type": "code",
   "execution_count": 28,
   "id": "6db9b866-a95a-49b9-9022-373423b97788",
   "metadata": {},
   "outputs": [
    {
     "name": "stdout",
     "output_type": "stream",
     "text": [
      "2020-05-21 12:16:39.818000\n",
      "bkg starts and ends at:  start -100 s\n",
      "dau/det starting from index 1\n",
      "tus array given in seconds\n",
      "safety time:  0.089 % removed\n",
      "tus given in seconds\n",
      "background count rate:  3005.172  counts/s\n",
      "exposure:  2.008  s\n",
      "returning count_rate and background df (sorted by tus (s) and st removed)\n"
     ]
    }
   ],
   "source": [
    "cr, df_cr = get_count_rate(fn='2020_5_21_12_16_39',T0='2020-05-21T12:16:39.818',bkg_start='start',bkg_end=-100)"
   ]
  },
  {
   "cell_type": "code",
   "execution_count": 29,
   "id": "868d08eb-495c-4e2f-b87a-412180138e22",
   "metadata": {},
   "outputs": [
    {
     "data": {
      "text/plain": [
       "3005.172282934205"
      ]
     },
     "execution_count": 29,
     "metadata": {},
     "output_type": "execute_result"
    }
   ],
   "source": [
    "len(df_cr['tus'].to_numpy())/(df_cr['tus'].to_numpy()[-1]-df_cr['tus'].to_numpy()[0])"
   ]
  },
  {
   "cell_type": "code",
   "execution_count": null,
   "id": "b34d5466-59ca-4b7e-b6e5-cfd7c884cf36",
   "metadata": {},
   "outputs": [],
   "source": [
    "plot_HED(tus_arr=df_cr['tus'].to_numpy()*1e6,binsize=16,T0=datetime.fromisoformat('2020-05-21T12:16:39.818')+timedelta(seconds=-103.675667))"
   ]
  },
  {
   "cell_type": "markdown",
   "id": "af2adad7-1c35-48c4-9e01-86f281dc90c1",
   "metadata": {},
   "source": [
    "# BURST"
   ]
  },
  {
   "cell_type": "code",
   "execution_count": 34,
   "id": "d705979f-4025-45eb-abc5-cf2207b029b2",
   "metadata": {},
   "outputs": [
    {
     "data": {
      "text/html": [
       "<div>\n",
       "<style scoped>\n",
       "    .dataframe tbody tr th:only-of-type {\n",
       "        vertical-align: middle;\n",
       "    }\n",
       "\n",
       "    .dataframe tbody tr th {\n",
       "        vertical-align: top;\n",
       "    }\n",
       "\n",
       "    .dataframe thead th {\n",
       "        text-align: right;\n",
       "    }\n",
       "</style>\n",
       "<table border=\"1\" class=\"dataframe\">\n",
       "  <thead>\n",
       "    <tr style=\"text-align: right;\">\n",
       "      <th></th>\n",
       "      <th>year</th>\n",
       "      <th>month</th>\n",
       "      <th>day</th>\n",
       "      <th>hour</th>\n",
       "      <th>minute</th>\n",
       "      <th>second</th>\n",
       "      <th>erg</th>\n",
       "      <th>dau</th>\n",
       "      <th>det</th>\n",
       "      <th>datetime</th>\n",
       "      <th>tus</th>\n",
       "      <th>adr</th>\n",
       "      <th>keV</th>\n",
       "      <th>st</th>\n",
       "      <th>dt</th>\n",
       "      <th>flag</th>\n",
       "    </tr>\n",
       "  </thead>\n",
       "  <tbody>\n",
       "    <tr>\n",
       "      <th>6036</th>\n",
       "      <td>2020</td>\n",
       "      <td>5</td>\n",
       "      <td>21</td>\n",
       "      <td>12</td>\n",
       "      <td>16</td>\n",
       "      <td>39.650519</td>\n",
       "      <td>368</td>\n",
       "      <td>2</td>\n",
       "      <td>3</td>\n",
       "      <td>2020-05-21 12:16:39.650518750</td>\n",
       "      <td>-0.167481</td>\n",
       "      <td>6</td>\n",
       "      <td>4321.448802</td>\n",
       "      <td>16.285795</td>\n",
       "      <td>1.015006e+08</td>\n",
       "      <td>False</td>\n",
       "    </tr>\n",
       "    <tr>\n",
       "      <th>6037</th>\n",
       "      <td>2020</td>\n",
       "      <td>5</td>\n",
       "      <td>21</td>\n",
       "      <td>12</td>\n",
       "      <td>16</td>\n",
       "      <td>39.651248</td>\n",
       "      <td>75</td>\n",
       "      <td>2</td>\n",
       "      <td>3</td>\n",
       "      <td>2020-05-21 12:16:39.651248472</td>\n",
       "      <td>-0.166752</td>\n",
       "      <td>6</td>\n",
       "      <td>806.939000</td>\n",
       "      <td>4.069390</td>\n",
       "      <td>7.297220e+02</td>\n",
       "      <td>False</td>\n",
       "    </tr>\n",
       "    <tr>\n",
       "      <th>6038</th>\n",
       "      <td>2020</td>\n",
       "      <td>5</td>\n",
       "      <td>21</td>\n",
       "      <td>12</td>\n",
       "      <td>16</td>\n",
       "      <td>39.651485</td>\n",
       "      <td>917</td>\n",
       "      <td>2</td>\n",
       "      <td>2</td>\n",
       "      <td>2020-05-21 12:16:39.651485306</td>\n",
       "      <td>-0.166515</td>\n",
       "      <td>5</td>\n",
       "      <td>14479.406870</td>\n",
       "      <td>20.583525</td>\n",
       "      <td>1.015018e+08</td>\n",
       "      <td>False</td>\n",
       "    </tr>\n",
       "    <tr>\n",
       "      <th>6039</th>\n",
       "      <td>2020</td>\n",
       "      <td>5</td>\n",
       "      <td>21</td>\n",
       "      <td>12</td>\n",
       "      <td>16</td>\n",
       "      <td>39.65175</td>\n",
       "      <td>89</td>\n",
       "      <td>4</td>\n",
       "      <td>1</td>\n",
       "      <td>2020-05-21 12:16:39.651749889</td>\n",
       "      <td>-0.166250</td>\n",
       "      <td>10</td>\n",
       "      <td>1164.252973</td>\n",
       "      <td>3.438008</td>\n",
       "      <td>1.015063e+08</td>\n",
       "      <td>False</td>\n",
       "    </tr>\n",
       "    <tr>\n",
       "      <th>6040</th>\n",
       "      <td>2020</td>\n",
       "      <td>5</td>\n",
       "      <td>21</td>\n",
       "      <td>12</td>\n",
       "      <td>16</td>\n",
       "      <td>39.652123</td>\n",
       "      <td>812</td>\n",
       "      <td>4</td>\n",
       "      <td>3</td>\n",
       "      <td>2020-05-21 12:16:39.652123417</td>\n",
       "      <td>-0.165877</td>\n",
       "      <td>12</td>\n",
       "      <td>12165.648536</td>\n",
       "      <td>20.732519</td>\n",
       "      <td>1.015016e+08</td>\n",
       "      <td>False</td>\n",
       "    </tr>\n",
       "    <tr>\n",
       "      <th>...</th>\n",
       "      <td>...</td>\n",
       "      <td>...</td>\n",
       "      <td>...</td>\n",
       "      <td>...</td>\n",
       "      <td>...</td>\n",
       "      <td>...</td>\n",
       "      <td>...</td>\n",
       "      <td>...</td>\n",
       "      <td>...</td>\n",
       "      <td>...</td>\n",
       "      <td>...</td>\n",
       "      <td>...</td>\n",
       "      <td>...</td>\n",
       "      <td>...</td>\n",
       "      <td>...</td>\n",
       "      <td>...</td>\n",
       "    </tr>\n",
       "    <tr>\n",
       "      <th>13519</th>\n",
       "      <td>2020</td>\n",
       "      <td>5</td>\n",
       "      <td>21</td>\n",
       "      <td>12</td>\n",
       "      <td>16</td>\n",
       "      <td>41.658874</td>\n",
       "      <td>81</td>\n",
       "      <td>2</td>\n",
       "      <td>3</td>\n",
       "      <td>2020-05-21 12:16:41.658874417</td>\n",
       "      <td>1.840874</td>\n",
       "      <td>6</td>\n",
       "      <td>870.852968</td>\n",
       "      <td>4.708530</td>\n",
       "      <td>7.687167e+03</td>\n",
       "      <td>False</td>\n",
       "    </tr>\n",
       "    <tr>\n",
       "      <th>13520</th>\n",
       "      <td>2020</td>\n",
       "      <td>5</td>\n",
       "      <td>21</td>\n",
       "      <td>12</td>\n",
       "      <td>16</td>\n",
       "      <td>41.658938</td>\n",
       "      <td>38</td>\n",
       "      <td>2</td>\n",
       "      <td>2</td>\n",
       "      <td>2020-05-21 12:16:41.658938444</td>\n",
       "      <td>1.840938</td>\n",
       "      <td>5</td>\n",
       "      <td>493.066520</td>\n",
       "      <td>0.930665</td>\n",
       "      <td>1.234339e+04</td>\n",
       "      <td>False</td>\n",
       "    </tr>\n",
       "    <tr>\n",
       "      <th>13521</th>\n",
       "      <td>2020</td>\n",
       "      <td>5</td>\n",
       "      <td>21</td>\n",
       "      <td>12</td>\n",
       "      <td>16</td>\n",
       "      <td>41.659131</td>\n",
       "      <td>1640</td>\n",
       "      <td>3</td>\n",
       "      <td>1</td>\n",
       "      <td>2020-05-21 12:16:41.659131306</td>\n",
       "      <td>1.841131</td>\n",
       "      <td>7</td>\n",
       "      <td>30666.456600</td>\n",
       "      <td>19.533165</td>\n",
       "      <td>5.136950e+02</td>\n",
       "      <td>False</td>\n",
       "    </tr>\n",
       "    <tr>\n",
       "      <th>13522</th>\n",
       "      <td>2020</td>\n",
       "      <td>5</td>\n",
       "      <td>21</td>\n",
       "      <td>12</td>\n",
       "      <td>16</td>\n",
       "      <td>41.659131</td>\n",
       "      <td>1731</td>\n",
       "      <td>4</td>\n",
       "      <td>3</td>\n",
       "      <td>2020-05-21 12:16:41.659131333</td>\n",
       "      <td>1.841131</td>\n",
       "      <td>12</td>\n",
       "      <td>29133.423074</td>\n",
       "      <td>24.306738</td>\n",
       "      <td>6.949166e+03</td>\n",
       "      <td>False</td>\n",
       "    </tr>\n",
       "    <tr>\n",
       "      <th>13523</th>\n",
       "      <td>2020</td>\n",
       "      <td>5</td>\n",
       "      <td>21</td>\n",
       "      <td>12</td>\n",
       "      <td>16</td>\n",
       "      <td>41.659131</td>\n",
       "      <td>381</td>\n",
       "      <td>4</td>\n",
       "      <td>2</td>\n",
       "      <td>2020-05-21 12:16:41.659131472</td>\n",
       "      <td>1.841131</td>\n",
       "      <td>11</td>\n",
       "      <td>5754.247815</td>\n",
       "      <td>14.508496</td>\n",
       "      <td>1.473092e+04</td>\n",
       "      <td>False</td>\n",
       "    </tr>\n",
       "  </tbody>\n",
       "</table>\n",
       "<p>7488 rows × 16 columns</p>\n",
       "</div>"
      ],
      "text/plain": [
       "       year  month  day  hour  minute     second   erg dau det  \\\n",
       "6036   2020      5   21    12      16  39.650519   368   2   3   \n",
       "6037   2020      5   21    12      16  39.651248    75   2   3   \n",
       "6038   2020      5   21    12      16  39.651485   917   2   2   \n",
       "6039   2020      5   21    12      16   39.65175    89   4   1   \n",
       "6040   2020      5   21    12      16  39.652123   812   4   3   \n",
       "...     ...    ...  ...   ...     ...        ...   ...  ..  ..   \n",
       "13519  2020      5   21    12      16  41.658874    81   2   3   \n",
       "13520  2020      5   21    12      16  41.658938    38   2   2   \n",
       "13521  2020      5   21    12      16  41.659131  1640   3   1   \n",
       "13522  2020      5   21    12      16  41.659131  1731   4   3   \n",
       "13523  2020      5   21    12      16  41.659131   381   4   2   \n",
       "\n",
       "                           datetime       tus  adr           keV         st  \\\n",
       "6036  2020-05-21 12:16:39.650518750 -0.167481    6   4321.448802  16.285795   \n",
       "6037  2020-05-21 12:16:39.651248472 -0.166752    6    806.939000   4.069390   \n",
       "6038  2020-05-21 12:16:39.651485306 -0.166515    5  14479.406870  20.583525   \n",
       "6039  2020-05-21 12:16:39.651749889 -0.166250   10   1164.252973   3.438008   \n",
       "6040  2020-05-21 12:16:39.652123417 -0.165877   12  12165.648536  20.732519   \n",
       "...                             ...       ...  ...           ...        ...   \n",
       "13519 2020-05-21 12:16:41.658874417  1.840874    6    870.852968   4.708530   \n",
       "13520 2020-05-21 12:16:41.658938444  1.840938    5    493.066520   0.930665   \n",
       "13521 2020-05-21 12:16:41.659131306  1.841131    7  30666.456600  19.533165   \n",
       "13522 2020-05-21 12:16:41.659131333  1.841131   12  29133.423074  24.306738   \n",
       "13523 2020-05-21 12:16:41.659131472  1.841131   11   5754.247815  14.508496   \n",
       "\n",
       "                 dt   flag  \n",
       "6036   1.015006e+08  False  \n",
       "6037   7.297220e+02  False  \n",
       "6038   1.015018e+08  False  \n",
       "6039   1.015063e+08  False  \n",
       "6040   1.015016e+08  False  \n",
       "...             ...    ...  \n",
       "13519  7.687167e+03  False  \n",
       "13520  1.234339e+04  False  \n",
       "13521  5.136950e+02  False  \n",
       "13522  6.949166e+03  False  \n",
       "13523  1.473092e+04  False  \n",
       "\n",
       "[7488 rows x 16 columns]"
      ]
     },
     "execution_count": 34,
     "metadata": {},
     "output_type": "execute_result"
    }
   ],
   "source": [
    "df_burst = df_harvest.truncate(before=6036)\n",
    "df_burst"
   ]
  },
  {
   "cell_type": "code",
   "execution_count": 35,
   "id": "d1b44a11-1257-44e4-960a-f93c0dc00424",
   "metadata": {},
   "outputs": [
    {
     "name": "stdout",
     "output_type": "stream",
     "text": [
      "2020-05-21 12:16:39.818000\n",
      "bkg starts and ends at:  -0.167481 1.841131 s\n",
      "dau/det starting from index 1\n",
      "tus array given in seconds\n",
      "safety time:  0.089 % removed\n",
      "tus given in seconds\n",
      "background count rate:  3726.951  counts/s\n",
      "exposure:  2.009  s\n",
      "returning count_rate and background df (sorted by tus (s) and st removed)\n"
     ]
    }
   ],
   "source": [
    "cr_burst,df_cr_burst = get_count_rate(fn='2020_5_21_12_16_39',T0='2020-05-21T12:16:39.818',bkg_start=-0.167481,bkg_end=1.841131)"
   ]
  },
  {
   "cell_type": "code",
   "execution_count": 41,
   "id": "275d7529-da4b-4552-9149-94e2d9dad2eb",
   "metadata": {},
   "outputs": [
    {
     "name": "stdout",
     "output_type": "stream",
     "text": [
      "tus array OK ...\n"
     ]
    },
    {
     "data": {
      "image/png": "[encoded data removed]",
      "text/plain": [
       "<Figure size 1600x900 with 1 Axes>"
      ]
     },
     "metadata": {},
     "output_type": "display_data"
    }
   ],
   "source": [
    "plot_HED(tus_arr=df_burst['tus'].to_numpy()*1e6,binsize=16,T0=datetime.fromisoformat('2020-05-21T12:16:39.818'))"
   ]
  },
  {
   "cell_type": "code",
   "execution_count": 53,
   "id": "6945451c-1ab9-4825-94f0-c35c9a6acbf4",
   "metadata": {},
   "outputs": [
    {
     "name": "stdout",
     "output_type": "stream",
     "text": [
      "<class 'numpy.ndarray'>\n",
      "11841.409669072194\n",
      "exposure:  0.17497916700000016\n"
     ]
    }
   ],
   "source": [
    "tus_burst = df_burst['tus'].to_numpy()\n",
    "print(type(tus_burst))\n",
    "i,j = find_nearest(tus_burst,0.8),find_nearest(tus_burst,0.975)\n",
    "\n",
    "print(len(tus_burst[i:j])/(tus_burst[i:j][-1]-tus_burst[i:j][0]))\n",
    "print('exposure: ',tus_burst[i:j][-1]-tus_burst[i:j][0])"
   ]
  },
  {
   "cell_type": "code",
   "execution_count": null,
   "id": "d980e841-7485-4ebc-9f59-b0b5cbcbf6cc",
   "metadata": {},
   "outputs": [],
   "source": [
    "plot_HED(tus_arr=tus_burst[i:j]*1e6,binsize=16,T0=T0)"
   ]
  },
  {
   "cell_type": "markdown",
   "id": "84cf3392-5e19-4065-b8a6-a859ef2a85d9",
   "metadata": {},
   "source": [
    "# CC"
   ]
  },
  {
   "cell_type": "code",
   "execution_count": 56,
   "id": "e120739d-e72a-464f-84f3-4661e8fbb2e4",
   "metadata": {},
   "outputs": [
    {
     "name": "stdout",
     "output_type": "stream",
     "text": [
      "-0.256\n",
      "1.744\n"
     ]
    },
    {
     "data": {
      "image/png": "[encoded data removed]",
      "text/plain": [
       "<Figure size 800x500 with 1 Axes>"
      ]
     },
     "metadata": {},
     "output_type": "display_data"
    },
    {
     "data": {
      "image/png": "[encoded data removed]",
      "text/plain": [
       "<Figure size 800x500 with 1 Axes>"
      ]
     },
     "metadata": {},
     "output_type": "display_data"
    },
    {
     "data": {
      "image/png": "[encoded data removed]",
      "text/plain": [
       "<Figure size 800x500 with 1 Axes>"
      ]
     },
     "metadata": {},
     "output_type": "display_data"
    }
   ],
   "source": [
    "tlagg_approx = -0.75\n",
    "\n",
    "kw_filename = \"GRB200521A_16ms.txt\"\n",
    "kw_file = kw_lc_path + kw_filename\n",
    "binsize=0.016\n",
    "\n",
    "kw_df = pd.read_csv(kw_file,sep='\\s+')\n",
    "kw_bin_lo,kw_bin_hi,G1,G2,G3= kw_df[\"Ti\"].to_numpy(dtype=np.float16), kw_df[\"Tf\"].to_numpy(dtype=np.float16),kw_df[\"G1\"].to_numpy(dtype=np.float16), kw_df[\"G2\"].to_numpy(dtype=np.float16), kw_df[\"G3\"].to_numpy(dtype=np.float16)\n",
    "\n",
    "#kw_dt = np.round(np.diff(kw_bin_lo),3)\n",
    "#i_stop_kw = np.where(kw_dt>2*binsize)[0][0]\n",
    "\n",
    "#cutting LC at T0+1.5 s, so that both LC's have 2s of data\n",
    "i_start_kw = find_nearest(kw_bin_lo,-0.25)\n",
    "print(kw_bin_lo[i_start_kw])\n",
    "i_stop_kw = find_nearest(kw_bin_lo,1.75)\n",
    "print(kw_bin_lo[i_stop_kw])\n",
    "\n",
    "\n",
    "kw_bin_lo, kw_bin_hi, G1, G2, G3 = kw_bin_lo[i_start_kw:i_stop_kw], kw_bin_hi[i_start_kw:i_stop_kw], G1[i_start_kw:i_stop_kw],G2[i_start_kw:i_stop_kw], G3[i_start_kw:i_stop_kw]\n",
    "kwCounts = G3\n",
    "kw_lc = LC(time=np.round(kw_bin_lo + binsize/2,3), counts=kwCounts, skip_checks=True,dt=binsize)\n",
    "\n",
    "tus_burst += tlagg_approx\n",
    "hist = np.histogram(tus_burst,bins=np.append(kw_bin_lo,kw_bin_hi[-1])) #using KW bins\n",
    "asimCounts,asimEdges = hist[0],hist[1]\n",
    "\n",
    "plt.step(x=asimEdges[:-1],y=asimCounts,where=\"post\")\n",
    "plt.title(\"ASIM\")\n",
    "plt.show()\n",
    "\n",
    "asim_lc = LC(time=np.round(kw_bin_lo + binsize/2,3), counts=asimCounts, skip_checks=True,dt=binsize)\n",
    "asim_lc.plot(title='asim_lc')\n",
    "kw_lc.plot(title='kw_lc')"
   ]
  },
  {
   "cell_type": "code",
   "execution_count": 57,
   "id": "dd72ccc4-16ef-4779-840d-031988a4a0dc",
   "metadata": {},
   "outputs": [
    {
     "name": "stdout",
     "output_type": "stream",
     "text": [
      "Total lagg (s):  -0.8140000000000001 | CC lagg:  -0.064   tlagg_approx:  -0.75\n"
     ]
    },
    {
     "data": {
      "image/png": "[encoded data removed]",
      "text/plain": [
       "<Figure size 600x400 with 1 Axes>"
      ]
     },
     "metadata": {},
     "output_type": "display_data"
    },
    {
     "data": {
      "text/plain": [
       "<AxesSubplot:>"
      ]
     },
     "execution_count": 57,
     "metadata": {},
     "output_type": "execute_result"
    }
   ],
   "source": [
    "CC = CrossCorrelation(kw_lc,asim_lc,mode=\"full\")\n",
    "CClagg=CC.time_shift\n",
    "tlagg = tlagg_approx + CClagg\n",
    "print(\"Total lagg (s): \", tlagg, \"| CC lagg: \", CClagg, '  tlagg_approx: ', tlagg_approx)\n",
    "CC.plot()"
   ]
  },
  {
   "cell_type": "code",
   "execution_count": 102,
   "id": "e75696d7-aae8-4fba-9064-bd066b6451fb",
   "metadata": {},
   "outputs": [
    {
     "name": "stdout",
     "output_type": "stream",
     "text": [
      "dau/det starting from index 1\n",
      "tus array given in seconds\n",
      "safety time:  0.089 % removed\n",
      "tus given in seconds\n",
      "tus array OK ...\n"
     ]
    },
    {
     "data": {
      "image/png": "[encoded data removed]",
      "text/plain": [
       "<Figure size 1600x900 with 1 Axes>"
      ]
     },
     "metadata": {},
     "output_type": "display_data"
    }
   ],
   "source": [
    "tlagg=-0.814\n",
    "df_harvest = harvest_data(fn='2020_5_21_12_16_39',T0='2020-05-21T12:16:39.818')\n",
    "df_harvest.sort_values(by='tus',inplace=True,ignore_index=True)\n",
    "df_burst = df_harvest.truncate(before=6036)\n",
    "\n",
    "df_burst['tus'] = df_burst['tus'].to_numpy() + tlagg\n",
    "plot_HED(tus_arr=df_burst['tus'].to_numpy()*1e6,binsize=16,T0=T0+timedelta(seconds=tlagg))"
   ]
  },
  {
   "cell_type": "markdown",
   "id": "d78d1a70-356f-4143-bcf2-002c409be9b5",
   "metadata": {},
   "source": [
    "# FITS"
   ]
  },
  {
   "cell_type": "markdown",
   "id": "e88f0a5f-45f3-441c-a694-5927f2f86f8e",
   "metadata": {},
   "source": [
    "### BAK"
   ]
  },
  {
   "cell_type": "code",
   "execution_count": 77,
   "id": "756682e9-3825-420f-b282-338b91fa9222",
   "metadata": {},
   "outputs": [],
   "source": [
    "tus = df_burst['tus'].to_numpy(dtype=np.float64)"
   ]
  },
  {
   "cell_type": "code",
   "execution_count": null,
   "id": "da88661f-a9d8-460c-b92b-8c24cc71b347",
   "metadata": {},
   "outputs": [],
   "source": [
    "i_bkg_end = find_nearest(tus,-0.1)\n",
    "df_bkg = df_burst.truncate(after=i_bkg_end+6036) #first index for dataframe\n",
    "plot_HED(tus_arr=tus[:i_bkg_end]*1e6,binsize=16,T0=T0)"
   ]
  },
  {
   "cell_type": "code",
   "execution_count": 89,
   "id": "474ecc3a-0c31-4227-87c6-365b987aaf3c",
   "metadata": {},
   "outputs": [
    {
     "name": "stdout",
     "output_type": "stream",
     "text": [
      "Computing whole spectrum (10-1e5 keV)\n",
      "n triggers in time interval  2562\n",
      "n triggers are within bounds  2562\n",
      "keV bins are set for HED\n",
      "Energies binned!\n"
     ]
    }
   ],
   "source": [
    "df_kev_bkg = keV_hist(df=df_bkg,time_interval='max',keV_interval='max')"
   ]
  },
  {
   "cell_type": "code",
   "execution_count": 94,
   "id": "48a9e780-9619-40a0-b3cd-2487ccd43605",
   "metadata": {},
   "outputs": [
    {
     "name": "stdout",
     "output_type": "stream",
     "text": [
      "2020-05-21 12:16:39.004000\n",
      "-0.98148125 -0.10082566699999995\n",
      "0.880655583\n"
     ]
    }
   ],
   "source": [
    "print(T0+timedelta(seconds=tlagg))\n",
    "print(tus[:i_bkg_end][0],tus[:i_bkg_end][-1])\n",
    "print(tus[:i_bkg_end][-1]-tus[:i_bkg_end][0])"
   ]
  },
  {
   "cell_type": "code",
   "execution_count": 96,
   "id": "b6ed3468-d823-4690-82a3-fa21ab55f9cc",
   "metadata": {},
   "outputs": [],
   "source": [
    "ra,dec = 169.531, 7.222"
   ]
  },
  {
   "cell_type": "code",
   "execution_count": 97,
   "id": "77e2ea10-839f-47f3-810c-6c43f6db8493",
   "metadata": {},
   "outputs": [],
   "source": [
    "BAK_dict = {\n",
    "'USER': ['Andreas Ramsli','Username of creator of this fits file'], #<str>\n",
    "'T0TIME':['2020-05-21T12:16:39.004','Trigger time UT format=YYYY-MM-DDThh:mm:ss.fff'], #<str> \n",
    "'TSTART': [-0.981481,'[s] Start time of background spectrum accumulation'], #<float> [s] Start time of spectrum accumulation relative to T0TIME\n",
    "'TSTOP': [-0.100826,'End time of background spectrum accumulation'], #<float> [s]\n",
    "'EXPOSURE': [0.880656,'[s] Integration time in seconds for the BAK data'], #<float> \n",
    "'OBJECT': ['GRB200521A','Name of the observed object'], #<str> \n",
    "'RA_OBJ': [169.531,'[deg] RA of source'], #<float> \n",
    "'DEC_OBJ':  [7.222,'[deg] Dec of source'], #<float>\n",
    "'FILENAME': ['GRB200521A.bak','Backgorund filename for fits file'] #<str>  ('example.bak')\n",
    "}\n",
    "#More keys can be declated. Set generatePHA(see_template=True) to view avalible keys,values & comments from the template HDR's"
   ]
  },
  {
   "cell_type": "code",
   "execution_count": 98,
   "id": "9aea85a0-91f7-4a91-8132-5af8a338e652",
   "metadata": {},
   "outputs": [
    {
     "data": {
      "text/html": [
       "<div>\n",
       "<style scoped>\n",
       "    .dataframe tbody tr th:only-of-type {\n",
       "        vertical-align: middle;\n",
       "    }\n",
       "\n",
       "    .dataframe tbody tr th {\n",
       "        vertical-align: top;\n",
       "    }\n",
       "\n",
       "    .dataframe thead th {\n",
       "        text-align: right;\n",
       "    }\n",
       "</style>\n",
       "<table border=\"1\" class=\"dataframe\">\n",
       "  <thead>\n",
       "    <tr style=\"text-align: right;\">\n",
       "      <th></th>\n",
       "      <th>bins_keV</th>\n",
       "      <th>counts</th>\n",
       "      <th>poisson_error_counts</th>\n",
       "    </tr>\n",
       "  </thead>\n",
       "  <tbody>\n",
       "    <tr>\n",
       "      <th>0</th>\n",
       "      <td>10.00000</td>\n",
       "      <td>0</td>\n",
       "      <td>0.0</td>\n",
       "    </tr>\n",
       "    <tr>\n",
       "      <th>1</th>\n",
       "      <td>12.58925</td>\n",
       "      <td>0</td>\n",
       "      <td>0.0</td>\n",
       "    </tr>\n",
       "    <tr>\n",
       "      <th>2</th>\n",
       "      <td>15.84893</td>\n",
       "      <td>0</td>\n",
       "      <td>0.0</td>\n",
       "    </tr>\n",
       "    <tr>\n",
       "      <th>3</th>\n",
       "      <td>19.95262</td>\n",
       "      <td>0</td>\n",
       "      <td>0.0</td>\n",
       "    </tr>\n",
       "    <tr>\n",
       "      <th>4</th>\n",
       "      <td>25.11886</td>\n",
       "      <td>0</td>\n",
       "      <td>0.0</td>\n",
       "    </tr>\n",
       "  </tbody>\n",
       "</table>\n",
       "</div>"
      ],
      "text/plain": [
       "   bins_keV  counts  poisson_error_counts\n",
       "0  10.00000       0                   0.0\n",
       "1  12.58925       0                   0.0\n",
       "2  15.84893       0                   0.0\n",
       "3  19.95262       0                   0.0\n",
       "4  25.11886       0                   0.0"
      ]
     },
     "execution_count": 98,
     "metadata": {},
     "output_type": "execute_result"
    }
   ],
   "source": [
    "df_kev_bkg.head()"
   ]
  },
  {
   "cell_type": "code",
   "execution_count": 99,
   "id": "acbef085-b943-4aa0-8abc-b3cb6066f44d",
   "metadata": {},
   "outputs": [],
   "source": [
    "bak_counts = df_kev_bkg['counts'].to_numpy()[1:]\n",
    "stat_error = df_kev_bkg['poisson_error_counts'].to_numpy()[1:]\n",
    "bin_lo = df_kev_bkg['bins_keV'].to_numpy()[:-1]\n",
    "bin_hi = df_kev_bkg['bins_keV'].to_numpy()[1:]"
   ]
  },
  {
   "cell_type": "code",
   "execution_count": 100,
   "id": "661dd7ed-bd9c-4035-886f-637f2ca12ce6",
   "metadata": {},
   "outputs": [
    {
     "name": "stderr",
     "output_type": "stream",
     "text": [
      "WARNING: VerifyWarning: Card is too long, comment will be truncated. [astropy.io.fits.card]\n"
     ]
    }
   ],
   "source": [
    "generateBAK(BAK_dict=BAK_dict, bakCounts=bak_counts, stat_err=stat_error, bin_lo=bin_lo, bin_hi=bin_hi, see_headers=False)"
   ]
  },
  {
   "cell_type": "markdown",
   "id": "94f28de4-1469-46da-831a-53a2d897c743",
   "metadata": {},
   "source": [
    "## PHA"
   ]
  },
  {
   "cell_type": "code",
   "execution_count": 103,
   "id": "c6496f4e-65d1-4ec4-8821-005f5e3abeb8",
   "metadata": {},
   "outputs": [
    {
     "name": "stdout",
     "output_type": "stream",
     "text": [
      "Computing whole spectrum (10-1e5 keV)\n",
      "n triggers in time interval  4525\n",
      "n triggers are within bounds  4525\n",
      "keV bins are set for HED\n",
      "Energies binned!\n"
     ]
    }
   ],
   "source": [
    "df_kev_burst = keV_hist(df=df_burst,time_interval=(0.00,0.256),keV_interval='max')"
   ]
  },
  {
   "cell_type": "code",
   "execution_count": 108,
   "id": "7703760b-cad3-4a88-b6df-4ce57c630b33",
   "metadata": {},
   "outputs": [],
   "source": [
    "burst_counts = df_kev_burst['counts'].to_numpy()[1:]\n",
    "stat_error_burst = df_kev_burst['poisson_error_counts'].to_numpy()[1:]\n",
    "bin_lo = df_kev_burst['bins_keV'].to_numpy()[:-1]\n",
    "bin_hi = df_kev_burst['bins_keV'].to_numpy()[1:]"
   ]
  },
  {
   "cell_type": "code",
   "execution_count": 109,
   "id": "564a8d66-bce7-4356-b90a-052041cbbe27",
   "metadata": {},
   "outputs": [],
   "source": [
    "PHA_dict = {\n",
    "'USER': ['Andreas Ramsli','Username of creator of this fits file'], #<str>\n",
    "'T0TIME':['2020-05-21T12:16:39.004','Trigger time UT format=YYYY-MM-DDThh:mm:ss.fff'], #<str> \n",
    "'TSTART': [0.0,'[s] Start time of spectrum accumulation'], #<float> [s] Start time of spectrum accumulation relative to T0TIME\n",
    "'TSTOP': [0.256,'End time of spectrum accumulation'], #<float> [s]\n",
    "'EXPOSURE': [0.256,'[s] Integration time in seconds for the PHA data'], #<float> \n",
    "'OBJECT': ['GRB200521A','Name of the observed object'], #<str> \n",
    "'RA_OBJ': [169.531,'[deg] RA of source'], #<float> \n",
    "'DEC_OBJ':  [7.222,'[deg] Dec of source'], #<float>\n",
    "'BACKFILE': ['GRB200521A.bak','Background FITS file'], #<str> ('example.bak')\n",
    "'RESPFILE': ['GRB200521A.rsp','Response FITS file'], #<str> ('example.rsp')\n",
    "'FILENAME': ['GRB200521A.pha','PHA filename'] #<str>  ('example.pha')\n",
    "}\n",
    "#More keys can be declated. Set generatePHA(see_template=True) to view avalible keys,values & comments from the template HDR's\n"
   ]
  },
  {
   "cell_type": "code",
   "execution_count": 110,
   "id": "716502ee-e920-41fb-b22d-98ebdbd0c03b",
   "metadata": {},
   "outputs": [
    {
     "name": "stderr",
     "output_type": "stream",
     "text": [
      "WARNING: VerifyWarning: Card is too long, comment will be truncated. [astropy.io.fits.card]\n"
     ]
    }
   ],
   "source": [
    "generatePHA(PHA_dict=PHA_dict, counts=burst_counts, stat_err=stat_error_burst, bin_lo=bin_lo, bin_hi=bin_hi, see_headers=False)"
   ]
  },
  {
   "cell_type": "markdown",
   "id": "f474cf41-9858-4e25-97ac-e3f00deadf08",
   "metadata": {},
   "source": [
    "## RSP"
   ]
  },
  {
   "cell_type": "code",
   "execution_count": 111,
   "id": "7823a129-dd18-4f43-adc1-7822258e6f0b",
   "metadata": {},
   "outputs": [
    {
     "data": {
      "text/plain": [
       "'HED_drm_mats_135.00_-45.00.txt'"
      ]
     },
     "execution_count": 111,
     "metadata": {},
     "output_type": "execute_result"
    }
   ],
   "source": [
    "theta,phi = 130.707,-45.646\n",
    "find_DRM_file(dir_path='/Home/siv30/wad005/master/HED_DRM/data/',\n",
    "             theta=theta,phi=phi)"
   ]
  },
  {
   "cell_type": "code",
   "execution_count": 112,
   "id": "62462b17-2209-4bf9-a2b8-0e872cf8173c",
   "metadata": {},
   "outputs": [],
   "source": [
    "RSP_dict = {\n",
    "'USER': ['Andreas Ramsli','Username of creator of this fits file'], #<str>\n",
    "'T0TIME':['2020-05-21T12:16:39.004','Trigger time UT format=YYYY-MM-DDThh:mm:ss.fff'], #<str> \n",
    "'TSTART': [0.0,'[s] Start time of spectrum accumulation'], #<float> [s] Start time of spectrum accumulation relative to T0TIME\n",
    "'TSTOP': [0.256,'End time of spectrum accumulation'], #<float> [s]\n",
    "'EXPOSURE': [0.256,'[s] Integration time in seconds for the PHA data'], #<float> \n",
    "'OBJECT': ['GRB200521A','Name of the observed object'], #<str> \n",
    "'RA_OBJ': [169.531,'[deg] RA of source'], #<float> \n",
    "'DEC_OBJ':  [7.222,'[deg] Dec of source'], #<float>\n",
    "'FILENAME': ['GRB200521A.rsp','RSP filename'], #<str>  ('example.pha')\n",
    "'COMMENT': ['Theta = 130.707', '[deg] angle used for DRM'],\n",
    "'COMMENT': ['Phi = -45.646', '[deg] angle used for DRM']\n",
    "}\n",
    "#Add a comment for the theta,phi angles used for the DRM\n",
    "#More keys can be declated. Set generatePHA(see_template=True) to view avalible keys,values & comments from the template HDR's"
   ]
  },
  {
   "cell_type": "code",
   "execution_count": 114,
   "id": "55570912-1f08-4f87-a245-a64a0d8da300",
   "metadata": {},
   "outputs": [
    {
     "name": "stderr",
     "output_type": "stream",
     "text": [
      "WARNING: VerifyWarning: Card is too long, comment will be truncated. [astropy.io.fits.card]\n"
     ]
    }
   ],
   "source": [
    "generateRSP(RSP_dict=RSP_dict, DRM_fname='HED_drm_mats_135.00_-45.00.txt', bin_lo=bin_lo, bin_hi=bin_hi,theta=130.707,phi=7.222,see_headers=False)"
   ]
  },
  {
   "cell_type": "code",
   "execution_count": null,
   "id": "4b7cd296-2e63-45a5-8c66-a188834247a8",
   "metadata": {},
   "outputs": [],
   "source": []
  },
  {
   "cell_type": "code",
   "execution_count": null,
   "id": "c750e987-494c-4408-a427-007b39bca407",
   "metadata": {},
   "outputs": [],
   "source": []
  },
  {
   "cell_type": "markdown",
   "id": "fbc7876e-7cbd-4323-8a2e-ded32fd351c2",
   "metadata": {},
   "source": [
    "## comparing count rate for burst duration"
   ]
  },
  {
   "cell_type": "code",
   "execution_count": 116,
   "id": "c2d9b8a4-8ced-4cac-af7b-a46bf6532906",
   "metadata": {},
   "outputs": [
    {
     "name": "stdout",
     "output_type": "stream",
     "text": [
      "[0.    0.016 0.032 0.048 0.064 0.08  0.096 0.112 0.128 0.144 0.16  0.176\n",
      " 0.192 0.208 0.224 0.24 ]\n",
      "1716.1102294921875\n"
     ]
    }
   ],
   "source": [
    "i_kw,j_kw = find_nearest(kw_bin_lo,0.00),find_nearest(kw_bin_lo,0.256)\n",
    "print(kw_bin_lo[i_kw:j_kw])\n",
    "print(sum(kwCounts[i_kw:j_kw+1])/(len(kw_bin_lo[i_kw:j_kw])*0.016))"
   ]
  },
  {
   "cell_type": "code",
   "execution_count": 115,
   "id": "e4d08d0c-a00e-4af8-9369-667b812d2411",
   "metadata": {},
   "outputs": [
    {
     "data": {
      "text/plain": [
       "9304.401746189744"
      ]
     },
     "execution_count": 115,
     "metadata": {},
     "output_type": "execute_result"
    }
   ],
   "source": [
    "tus_burst = df_burst['tus'].to_numpy()\n",
    "i_hed, j_hed = find_nearest(tus_burst,0.00),find_nearest(tus_burst,0.256)\n",
    "len(tus_burst[i_hed:j_hed])/(tus_burst[i_hed:j_hed][-1]-tus_burst[i_hed:j_hed][0])"
   ]
  },
  {
   "cell_type": "code",
   "execution_count": 117,
   "id": "667ab584-797e-4afc-bd67-c4f42616d14d",
   "metadata": {},
   "outputs": [
    {
     "data": {
      "text/plain": [
       "2908.697114470999"
      ]
     },
     "execution_count": 117,
     "metadata": {},
     "output_type": "execute_result"
    }
   ],
   "source": [
    "tus_burst = df_burst['tus'].to_numpy()\n",
    "i_hed, j_hed = find_nearest(tus_burst,-0.981481),find_nearest(tus_burst,-0.100826)\n",
    "len(tus_burst[i_hed:j_hed])/(tus_burst[i_hed:j_hed][-1]-tus_burst[i_hed:j_hed][0])"
   ]
  },
  {
   "cell_type": "code",
   "execution_count": 118,
   "id": "af0bc18c-a6b7-440f-9267-ed72c88d9afd",
   "metadata": {},
   "outputs": [
    {
     "data": {
      "text/plain": [
       "6396"
      ]
     },
     "execution_count": 118,
     "metadata": {},
     "output_type": "execute_result"
    }
   ],
   "source": [
    "9304-2908 #bkg subtracted"
   ]
  },
  {
   "cell_type": "code",
   "execution_count": 121,
   "id": "bea495f6-fc64-4f85-a59b-c6d5fe9d95be",
   "metadata": {},
   "outputs": [
    {
     "data": {
      "text/plain": [
       "3.727272727272727"
      ]
     },
     "execution_count": 121,
     "metadata": {},
     "output_type": "execute_result"
    }
   ],
   "source": [
    "6396/1716"
   ]
  }
 ],
 "metadata": {
  "kernelspec": {
   "display_name": "base",
   "language": "python",
   "name": "base"
  },
  "language_info": {
   "codemirror_mode": {
    "name": "ipython",
    "version": 3
   },
   "file_extension": ".py",
   "mimetype": "text/x-python",
   "name": "python",
   "nbconvert_exporter": "python",
   "pygments_lexer": "ipython3",
   "version": "3.9.7"
  }
 },
 "nbformat": 4,
 "nbformat_minor": 5
}
