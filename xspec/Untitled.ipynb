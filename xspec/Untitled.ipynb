{
 "cells": [
  {
   "cell_type": "code",
   "execution_count": 1,
   "id": "cca075f9-3248-441a-8b5a-81ee6c0c5af6",
   "metadata": {},
   "outputs": [],
   "source": [
    "import re\n",
    "\n",
    "def clean_srt_file(input_file, output_file):\n",
    "    with open(input_file, 'r') as infile, open(output_file, 'w') as outfile:\n",
    "        cleaned_lines = []\n",
    "\n",
    "        for line in infile:\n",
    "            # Remove the index and time information\n",
    "            if re.match(r\"^\\d+$\", line.strip()) or re.match(r\"^\\d{2}:\\d{2}:\\d{2},\\d{3} --> \\d{2}:\\d{2}:\\d{2},\\d{3}$\", line.strip()):\n",
    "                continue\n",
    "            cleaned_lines.append(line)\n",
    "\n",
    "        outfile.writelines(cleaned_lines)\n",
    "\n",
    "input_file = \"/Users/andreas/Downloads/Death+From+Space++Gamma-Ray+Bursts+Explained_en.srt\"\n",
    "output_file = \"cleaned_GRB_transcript.srt\"\n",
    "clean_srt_file(input_file, output_file)"
   ]
  }
 ],
 "metadata": {
  "kernelspec": {
   "display_name": "GRBs",
   "language": "python",
   "name": "grbs"
  },
  "language_info": {
   "codemirror_mode": {
    "name": "ipython",
    "version": 3
   },
   "file_extension": ".py",
   "mimetype": "text/x-python",
   "name": "python",
   "nbconvert_exporter": "python",
   "pygments_lexer": "ipython3",
   "version": "3.10.8"
  }
 },
 "nbformat": 4,
 "nbformat_minor": 5
}
