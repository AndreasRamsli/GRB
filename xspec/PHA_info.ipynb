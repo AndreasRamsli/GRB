{
 "cells": [
  {
   "cell_type": "code",
   "execution_count": 19,
   "id": "8a11cfa1-b0d9-44e8-9f35-a5829a7e9032",
   "metadata": {},
   "outputs": [
    {
     "name": "stdout",
     "output_type": "stream",
     "text": [
      "FERMI_GRB211211A_b0.pha - TSTART: 660921010.55094, TSTOP: 660921011.150882, EXPOSURE: 0.5649\n",
      "FERMI_GRB211211A_b0_gr20.pha - TSTART: 660921010.55094, TSTOP: 660921011.150882, EXPOSURE: 0.5649\n",
      "FERMI_GRB211211A_n2.pha - TSTART: 660921010.550926, TSTOP: 660921011.1509, EXPOSURE: 0.5478\n",
      "FERMI_GRB211211A_n2_gr20.pha - TSTART: 660921010.550926, TSTOP: 660921011.1509, EXPOSURE: 0.5478\n",
      "HED_GRB211211A.pha - TSTART: 5.9, TSTOP: 6.5, EXPOSURE: 0.6\n",
      "HED_GRB211211A_gr20.pha - TSTART: 5.9, TSTOP: 6.5, EXPOSURE: 0.6\n"
     ]
    }
   ],
   "source": [
    "import os\n",
    "from astropy.io import fits\n",
    "\n",
    "# Path to directory containing PHA files\n",
    "folder_path = \"/Users/andreas/phys/master/GRB/xspec/GRB211211A/single_interval/\"\n",
    "file_list = os.listdir(folder_path)\n",
    "\n",
    "data = []\n",
    "\n",
    "for file_name in file_list:\n",
    "    if file_name.endswith('.pha') or file_name.endswith('.fits'):\n",
    "        with fits.open(os.path.join(folder_path, file_name)) as hdulist:\n",
    "            if file_name in ['HED_RMF_1.fits','HED_Bak_1.fits'] :\n",
    "                continue\n",
    "            else:\n",
    "                tstart = hdulist['SPECTRUM'].header['TSTART']\n",
    "                tstop = hdulist['SPECTRUM'].header['TSTOP']\n",
    "                exposure = hdulist['SPECTRUM'].header['EXPOSURE']\n",
    "                data.append((file_name, tstart, tstop, exposure))\n",
    "\n",
    "data.sort()\n",
    "\n",
    "for file_name, tstart, tstop, exposure in data:\n",
    "    print(f\"{file_name} - TSTART: {tstart}, TSTOP: {tstop}, EXPOSURE: {round(exposure,4)}\")"
   ]
  },
  {
   "cell_type": "markdown",
   "id": "47283290-d2e2-44c2-a862-3ed81cc87d0f",
   "metadata": {},
   "source": [
    "# NOTES\n",
    "    -change exposure for HED_GRB181222B_sp1_5_gr20.pha"
   ]
  }
 ],
 "metadata": {
  "kernelspec": {
   "display_name": "GRBs",
   "language": "python",
   "name": "grbs"
  },
  "language_info": {
   "codemirror_mode": {
    "name": "ipython",
    "version": 3
   },
   "file_extension": ".py",
   "mimetype": "text/x-python",
   "name": "python",
   "nbconvert_exporter": "python",
   "pygments_lexer": "ipython3",
   "version": "3.10.8"
  }
 },
 "nbformat": 4,
 "nbformat_minor": 5
}
