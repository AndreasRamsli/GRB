{
 "cells": [
  {
   "cell_type": "markdown",
   "id": "da866138-09bd-4821-bfa6-b849918c45c4",
   "metadata": {},
   "source": [
    "# imports"
   ]
  },
  {
   "cell_type": "code",
   "execution_count": null,
   "id": "78388d21-5831-4cbb-bf3d-0c8415af1bbd",
   "metadata": {
    "scrolled": true
   },
   "outputs": [],
   "source": [
    "import os\n",
    "path = os.getcwd()\n",
    "%matplotlib inline\n",
    "\n",
    "if path[1:5] == 'Home':\n",
    "    %run /Home/siv30/wad005/master/GRB/src/harvest_matlab_data.ipynb\n",
    "    %run /Home/siv30/wad005/master/GRB/src/background_rates.ipynb\n",
    "    %run /Home/siv30/wad005/master/GRB/src/dau_det_distribution.ipynb\n",
    "    %run /Home/siv30/wad005/master/GRB/src/ASIMXspec.ipynb\n",
    "    %run /Home/siv30/wad005/master/GRB/xspec/ASIM/ASIMFits/BAK/ASIMbak.ipynb\n",
    "    %run /Home/siv30/wad005/master/GRB/xspec/ASIM/ASIMFits/PHA/ASIMpha.ipynb\n",
    "    %run /Home/siv30/wad005/master/GRB/xspec/ASIM/ASIMFits/RSP/ASIMrsp.ipynb\n",
    "    %run /Home/siv30/wad005/master/GRB/xspec/ASIM/ASIMFits/RSP/find_closest_DRM.ipynb\n",
    "else:\n",
    "    %run /Users/andreas/phys/master/GRB/src/harvest_matlab_data.ipynb\n",
    "    %run /Users/andreas/phys/master/GRB/src/background_rates.ipynb\n",
    "    %run /Users/andreas/phys/master/GRB/src/dau_det_distribution.ipynb\n",
    "    %run /Users/andreas/phys/master/GRB/src/ASIMXspec.ipynb\n",
    "    %run /Users/andreas/phys/master/GRB/xspec/ASIM/ASIMFits/BAK/ASIMbak.ipynb\n",
    "    %run /Users/andreas/phys/master/GRB/xspec/ASIM/ASIMFits/PHA/ASIMpha.ipynb\n",
    "    %run /Users/andreas/phys//master/GRB/xspec/ASIM/ASIMFits/RSP/ASIMrsp.ipynb\n",
    "    %run /Users/andreas/phys//master/GRB/xspec/ASIM/ASIMFits/RSP/find_closest_DRM.ipynb"
   ]
  },
  {
   "cell_type": "code",
   "execution_count": 2,
   "id": "1b3c3a25-ef68-4e3a-b862-fc12849fd342",
   "metadata": {
    "scrolled": true
   },
   "outputs": [
    {
     "name": "stdout",
     "output_type": "stream",
     "text": [
      "dau/det starting from index 1\n",
      "tus array given in seconds\n",
      "safety time:  0.365 % removed\n",
      "tus given in seconds\n"
     ]
    },
    {
     "data": {
      "text/html": [
       "<div>\n",
       "<style scoped>\n",
       "    .dataframe tbody tr th:only-of-type {\n",
       "        vertical-align: middle;\n",
       "    }\n",
       "\n",
       "    .dataframe tbody tr th {\n",
       "        vertical-align: top;\n",
       "    }\n",
       "\n",
       "    .dataframe thead th {\n",
       "        text-align: right;\n",
       "    }\n",
       "</style>\n",
       "<table border=\"1\" class=\"dataframe\">\n",
       "  <thead>\n",
       "    <tr style=\"text-align: right;\">\n",
       "      <th></th>\n",
       "      <th>year</th>\n",
       "      <th>month</th>\n",
       "      <th>day</th>\n",
       "      <th>hour</th>\n",
       "      <th>minute</th>\n",
       "      <th>second</th>\n",
       "      <th>erg</th>\n",
       "      <th>dau</th>\n",
       "      <th>det</th>\n",
       "      <th>datetime</th>\n",
       "      <th>tus</th>\n",
       "      <th>adr</th>\n",
       "      <th>keV</th>\n",
       "      <th>st</th>\n",
       "      <th>dt</th>\n",
       "      <th>flag</th>\n",
       "    </tr>\n",
       "  </thead>\n",
       "  <tbody>\n",
       "    <tr>\n",
       "      <th>0</th>\n",
       "      <td>2018</td>\n",
       "      <td>7</td>\n",
       "      <td>20</td>\n",
       "      <td>14</td>\n",
       "      <td>21</td>\n",
       "      <td>47.57954</td>\n",
       "      <td>71</td>\n",
       "      <td>1</td>\n",
       "      <td>1</td>\n",
       "      <td>2018-07-20 14:21:47.579539806</td>\n",
       "      <td>0.190540</td>\n",
       "      <td>1</td>\n",
       "      <td>696.121038</td>\n",
       "      <td>1.784484</td>\n",
       "      <td>0.000</td>\n",
       "      <td>False</td>\n",
       "    </tr>\n",
       "    <tr>\n",
       "      <th>1</th>\n",
       "      <td>2018</td>\n",
       "      <td>7</td>\n",
       "      <td>20</td>\n",
       "      <td>14</td>\n",
       "      <td>21</td>\n",
       "      <td>47.580773</td>\n",
       "      <td>1680</td>\n",
       "      <td>1</td>\n",
       "      <td>2</td>\n",
       "      <td>2018-07-20 14:21:47.580773000</td>\n",
       "      <td>0.191773</td>\n",
       "      <td>2</td>\n",
       "      <td>29047.800530</td>\n",
       "      <td>20.238240</td>\n",
       "      <td>650.083</td>\n",
       "      <td>False</td>\n",
       "    </tr>\n",
       "    <tr>\n",
       "      <th>2</th>\n",
       "      <td>2018</td>\n",
       "      <td>7</td>\n",
       "      <td>20</td>\n",
       "      <td>14</td>\n",
       "      <td>21</td>\n",
       "      <td>47.580773</td>\n",
       "      <td>21</td>\n",
       "      <td>1</td>\n",
       "      <td>1</td>\n",
       "      <td>2018-07-20 14:21:47.580773194</td>\n",
       "      <td>0.191773</td>\n",
       "      <td>1</td>\n",
       "      <td>257.908238</td>\n",
       "      <td>0.000000</td>\n",
       "      <td>1233.388</td>\n",
       "      <td>False</td>\n",
       "    </tr>\n",
       "    <tr>\n",
       "      <th>3</th>\n",
       "      <td>2018</td>\n",
       "      <td>7</td>\n",
       "      <td>20</td>\n",
       "      <td>14</td>\n",
       "      <td>21</td>\n",
       "      <td>47.580792</td>\n",
       "      <td>231</td>\n",
       "      <td>4</td>\n",
       "      <td>3</td>\n",
       "      <td>2018-07-20 14:21:47.580791556</td>\n",
       "      <td>0.191792</td>\n",
       "      <td>12</td>\n",
       "      <td>2768.350677</td>\n",
       "      <td>7.000000</td>\n",
       "      <td>980.417</td>\n",
       "      <td>False</td>\n",
       "    </tr>\n",
       "    <tr>\n",
       "      <th>4</th>\n",
       "      <td>2018</td>\n",
       "      <td>7</td>\n",
       "      <td>20</td>\n",
       "      <td>14</td>\n",
       "      <td>21</td>\n",
       "      <td>47.580936</td>\n",
       "      <td>277</td>\n",
       "      <td>1</td>\n",
       "      <td>1</td>\n",
       "      <td>2018-07-20 14:21:47.580935528</td>\n",
       "      <td>0.191936</td>\n",
       "      <td>1</td>\n",
       "      <td>2760.913422</td>\n",
       "      <td>12.043654</td>\n",
       "      <td>162.334</td>\n",
       "      <td>False</td>\n",
       "    </tr>\n",
       "    <tr>\n",
       "      <th>...</th>\n",
       "      <td>...</td>\n",
       "      <td>...</td>\n",
       "      <td>...</td>\n",
       "      <td>...</td>\n",
       "      <td>...</td>\n",
       "      <td>...</td>\n",
       "      <td>...</td>\n",
       "      <td>...</td>\n",
       "      <td>...</td>\n",
       "      <td>...</td>\n",
       "      <td>...</td>\n",
       "      <td>...</td>\n",
       "      <td>...</td>\n",
       "      <td>...</td>\n",
       "      <td>...</td>\n",
       "      <td>...</td>\n",
       "    </tr>\n",
       "    <tr>\n",
       "      <th>92781</th>\n",
       "      <td>2018</td>\n",
       "      <td>7</td>\n",
       "      <td>20</td>\n",
       "      <td>14</td>\n",
       "      <td>22</td>\n",
       "      <td>10.879863</td>\n",
       "      <td>25</td>\n",
       "      <td>1</td>\n",
       "      <td>2</td>\n",
       "      <td>2018-07-20 14:22:10.879862611</td>\n",
       "      <td>23.490863</td>\n",
       "      <td>2</td>\n",
       "      <td>476.004655</td>\n",
       "      <td>0.760047</td>\n",
       "      <td>580.611</td>\n",
       "      <td>False</td>\n",
       "    </tr>\n",
       "    <tr>\n",
       "      <th>92782</th>\n",
       "      <td>2018</td>\n",
       "      <td>7</td>\n",
       "      <td>20</td>\n",
       "      <td>14</td>\n",
       "      <td>22</td>\n",
       "      <td>10.879915</td>\n",
       "      <td>147</td>\n",
       "      <td>3</td>\n",
       "      <td>2</td>\n",
       "      <td>2018-07-20 14:22:10.879914694</td>\n",
       "      <td>23.490915</td>\n",
       "      <td>8</td>\n",
       "      <td>3493.554125</td>\n",
       "      <td>2.987108</td>\n",
       "      <td>3243.555</td>\n",
       "      <td>False</td>\n",
       "    </tr>\n",
       "    <tr>\n",
       "      <th>92783</th>\n",
       "      <td>2018</td>\n",
       "      <td>7</td>\n",
       "      <td>20</td>\n",
       "      <td>14</td>\n",
       "      <td>22</td>\n",
       "      <td>10.880119</td>\n",
       "      <td>108</td>\n",
       "      <td>3</td>\n",
       "      <td>3</td>\n",
       "      <td>2018-07-20 14:22:10.880118694</td>\n",
       "      <td>23.491119</td>\n",
       "      <td>9</td>\n",
       "      <td>2245.017010</td>\n",
       "      <td>1.830011</td>\n",
       "      <td>1866.583</td>\n",
       "      <td>False</td>\n",
       "    </tr>\n",
       "    <tr>\n",
       "      <th>92784</th>\n",
       "      <td>2018</td>\n",
       "      <td>7</td>\n",
       "      <td>20</td>\n",
       "      <td>14</td>\n",
       "      <td>22</td>\n",
       "      <td>10.880229</td>\n",
       "      <td>1566</td>\n",
       "      <td>4</td>\n",
       "      <td>2</td>\n",
       "      <td>2018-07-20 14:22:10.880228861</td>\n",
       "      <td>23.491229</td>\n",
       "      <td>11</td>\n",
       "      <td>27759.987834</td>\n",
       "      <td>23.000000</td>\n",
       "      <td>1677.722</td>\n",
       "      <td>False</td>\n",
       "    </tr>\n",
       "    <tr>\n",
       "      <th>92785</th>\n",
       "      <td>2018</td>\n",
       "      <td>7</td>\n",
       "      <td>20</td>\n",
       "      <td>14</td>\n",
       "      <td>22</td>\n",
       "      <td>10.880229</td>\n",
       "      <td>1140</td>\n",
       "      <td>4</td>\n",
       "      <td>3</td>\n",
       "      <td>2018-07-20 14:22:10.880229000</td>\n",
       "      <td>23.491229</td>\n",
       "      <td>12</td>\n",
       "      <td>16755.812700</td>\n",
       "      <td>21.702325</td>\n",
       "      <td>946.833</td>\n",
       "      <td>False</td>\n",
       "    </tr>\n",
       "  </tbody>\n",
       "</table>\n",
       "<p>92786 rows × 16 columns</p>\n",
       "</div>"
      ],
      "text/plain": [
       "       year  month  day  hour  minute     second   erg dau det  \\\n",
       "0      2018      7   20    14      21   47.57954    71   1   1   \n",
       "1      2018      7   20    14      21  47.580773  1680   1   2   \n",
       "2      2018      7   20    14      21  47.580773    21   1   1   \n",
       "3      2018      7   20    14      21  47.580792   231   4   3   \n",
       "4      2018      7   20    14      21  47.580936   277   1   1   \n",
       "...     ...    ...  ...   ...     ...        ...   ...  ..  ..   \n",
       "92781  2018      7   20    14      22  10.879863    25   1   2   \n",
       "92782  2018      7   20    14      22  10.879915   147   3   2   \n",
       "92783  2018      7   20    14      22  10.880119   108   3   3   \n",
       "92784  2018      7   20    14      22  10.880229  1566   4   2   \n",
       "92785  2018      7   20    14      22  10.880229  1140   4   3   \n",
       "\n",
       "                           datetime        tus  adr           keV         st  \\\n",
       "0     2018-07-20 14:21:47.579539806   0.190540    1    696.121038   1.784484   \n",
       "1     2018-07-20 14:21:47.580773000   0.191773    2  29047.800530  20.238240   \n",
       "2     2018-07-20 14:21:47.580773194   0.191773    1    257.908238   0.000000   \n",
       "3     2018-07-20 14:21:47.580791556   0.191792   12   2768.350677   7.000000   \n",
       "4     2018-07-20 14:21:47.580935528   0.191936    1   2760.913422  12.043654   \n",
       "...                             ...        ...  ...           ...        ...   \n",
       "92781 2018-07-20 14:22:10.879862611  23.490863    2    476.004655   0.760047   \n",
       "92782 2018-07-20 14:22:10.879914694  23.490915    8   3493.554125   2.987108   \n",
       "92783 2018-07-20 14:22:10.880118694  23.491119    9   2245.017010   1.830011   \n",
       "92784 2018-07-20 14:22:10.880228861  23.491229   11  27759.987834  23.000000   \n",
       "92785 2018-07-20 14:22:10.880229000  23.491229   12  16755.812700  21.702325   \n",
       "\n",
       "             dt   flag  \n",
       "0         0.000  False  \n",
       "1       650.083  False  \n",
       "2      1233.388  False  \n",
       "3       980.417  False  \n",
       "4       162.334  False  \n",
       "...         ...    ...  \n",
       "92781   580.611  False  \n",
       "92782  3243.555  False  \n",
       "92783  1866.583  False  \n",
       "92784  1677.722  False  \n",
       "92785   946.833  False  \n",
       "\n",
       "[92786 rows x 16 columns]"
      ]
     },
     "execution_count": 2,
     "metadata": {},
     "output_type": "execute_result"
    }
   ],
   "source": [
    "df_h = harvest_data(fn='2018_7_20_14_21_47',T0='2018-07-20T14:21:47.389')\n",
    "df_h"
   ]
  },
  {
   "cell_type": "code",
   "execution_count": 3,
   "id": "1231bb59-681b-417b-88d8-0e00173d38f2",
   "metadata": {},
   "outputs": [],
   "source": [
    "T0 = datetime.fromisoformat('2018-07-20T14:21:47.389')"
   ]
  },
  {
   "cell_type": "code",
   "execution_count": 6,
   "id": "63a11a48-a13a-4e8b-81f8-bb51f97736d1",
   "metadata": {
    "tags": []
   },
   "outputs": [
    {
     "name": "stdout",
     "output_type": "stream",
     "text": [
      "tus array OK ...\n"
     ]
    },
    {
     "data": {
      "image/png": "[encoded data removed]",
      "text/plain": [
       "<Figure size 1600x900 with 1 Axes>"
      ]
     },
     "metadata": {},
     "output_type": "display_data"
    }
   ],
   "source": [
    "plot_HED(tus_arr=df_h['tus'].to_numpy()*1e6,binsize=64,T0=T0)"
   ]
  },
  {
   "cell_type": "code",
   "execution_count": null,
   "id": "d23cc87e-4f4c-438e-9f67-26c6c2f9f488",
   "metadata": {
    "scrolled": true,
    "tags": []
   },
   "outputs": [],
   "source": []
  },
  {
   "cell_type": "code",
   "execution_count": null,
   "id": "9a025d44-0b92-44e7-8471-50fd36a67fc8",
   "metadata": {
    "scrolled": true
   },
   "outputs": [],
   "source": []
  },
  {
   "cell_type": "code",
   "execution_count": null,
   "id": "b1dbc654-8667-4ac3-8aa2-0feac93ea1c6",
   "metadata": {
    "scrolled": true
   },
   "outputs": [],
   "source": []
  },
  {
   "cell_type": "code",
   "execution_count": null,
   "id": "0d9f08bc-cdfe-4b4c-a437-4b88102aa530",
   "metadata": {
    "scrolled": true
   },
   "outputs": [],
   "source": []
  },
  {
   "cell_type": "code",
   "execution_count": null,
   "id": "b914353a-0948-4b12-b52f-3677cc5795ef",
   "metadata": {
    "scrolled": true
   },
   "outputs": [],
   "source": []
  },
  {
   "cell_type": "code",
   "execution_count": null,
   "id": "30668d6e-0b87-4e92-8025-3f95ef777581",
   "metadata": {
    "scrolled": true
   },
   "outputs": [],
   "source": []
  },
  {
   "cell_type": "code",
   "execution_count": null,
   "id": "02cfd41c-6a04-42a3-ad93-c9d4fd350e69",
   "metadata": {
    "scrolled": true
   },
   "outputs": [],
   "source": []
  },
  {
   "cell_type": "code",
   "execution_count": null,
   "id": "22882ec3-5201-49d5-a53e-ee11746be8a7",
   "metadata": {
    "scrolled": true
   },
   "outputs": [],
   "source": []
  },
  {
   "cell_type": "code",
   "execution_count": null,
   "id": "150a7d3b-a05a-4077-9802-4da4ff92e831",
   "metadata": {
    "scrolled": true
   },
   "outputs": [],
   "source": []
  },
  {
   "cell_type": "code",
   "execution_count": null,
   "id": "6d07079f-71bc-4667-863b-a4582ed57b30",
   "metadata": {
    "scrolled": true
   },
   "outputs": [],
   "source": []
  },
  {
   "cell_type": "code",
   "execution_count": null,
   "id": "3b62a333-c5c4-4213-94ac-77a771b8812e",
   "metadata": {
    "scrolled": true
   },
   "outputs": [],
   "source": []
  },
  {
   "cell_type": "code",
   "execution_count": null,
   "id": "774c07ea-e58f-4241-9cf2-4520312dbc57",
   "metadata": {
    "scrolled": true
   },
   "outputs": [],
   "source": []
  },
  {
   "cell_type": "code",
   "execution_count": null,
   "id": "bba85b3b-3963-49c4-83ce-ff1d5a83c9a1",
   "metadata": {
    "scrolled": true
   },
   "outputs": [],
   "source": []
  },
  {
   "cell_type": "code",
   "execution_count": null,
   "id": "b0a25b0b-cc80-4ce9-949e-4f79d90b47fb",
   "metadata": {
    "scrolled": true
   },
   "outputs": [],
   "source": []
  },
  {
   "cell_type": "code",
   "execution_count": null,
   "id": "ce658a01-b589-4e2c-a4c6-b4f6765f98a6",
   "metadata": {
    "scrolled": true
   },
   "outputs": [],
   "source": []
  },
  {
   "cell_type": "code",
   "execution_count": null,
   "id": "068958b1-85ea-44b6-94f6-7a5d9697d97b",
   "metadata": {
    "scrolled": true
   },
   "outputs": [],
   "source": []
  }
 ],
 "metadata": {
  "kernelspec": {
   "display_name": "base",
   "language": "python",
   "name": "base"
  },
  "language_info": {
   "codemirror_mode": {
    "name": "ipython",
    "version": 3
   },
   "file_extension": ".py",
   "mimetype": "text/x-python",
   "name": "python",
   "nbconvert_exporter": "python",
   "pygments_lexer": "ipython3",
   "version": "3.9.7"
  }
 },
 "nbformat": 4,
 "nbformat_minor": 5
}
