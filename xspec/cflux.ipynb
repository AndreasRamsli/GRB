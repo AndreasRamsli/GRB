{
 "cells": [
  {
   "cell_type": "code",
   "execution_count": 89,
   "id": "aa7a6058-e3dd-4075-9523-d2cc9266fc60",
   "metadata": {},
   "outputs": [
    {
     "name": "stdout",
     "output_type": "stream",
     "text": [
      "$6.52e-05^{+2.13e-06}_{-2.07e-06}$\n",
      "$1.77e-04^{+7.05e-06}_{-6.78e-06}$\n",
      "$2.06e-04^{+8.44e-06}_{-8.42e-06}$\n",
      "$1.65e-04^{+4.82e-06}_{-4.77e-06}$\n",
      "$8.43e-05^{+6.11e-06}_{-5.26e-06}$\n",
      "$5.50e-05^{+2.01e-06}_{-1.73e-06}$\n",
      "$2.30e-05^{+2.86e-06}_{-2.60e-06}$\n",
      "$6.65e-05^{+7.88e-06}_{-7.28e-06}$\n",
      "$1.25e-04^{+5.30e-06}_{-5.19e-06}$\n",
      "$8.68e-05^{+1.55e-06}_{-1.54e-06}$\n"
     ]
    }
   ],
   "source": [
    "#GRB ids: 181222B int 1, int2, 190206A, 190305A, 190606A, 200521A, 200716C, 201227A, 210619B int 1, int 2\n",
    "\n",
    "# Exposure\n",
    "exposure = [0.512, 0.128, 0.064, 0.512, 0.064, 0.256, 0.256, 0.064, 0.256, 2.048]\n",
    "\n",
    "# Flux values and their errors\n",
    "flux_values = [-4.186, -3.753, -3.68697, -3.78301, -4.07415, -4.25961, -4.63847, -4.17695, -3.90168, -4.06147]\n",
    "flux_upper_errors = [0.014, 0.017, 0.0174788, 0.0125199, 0.0304014, 0.0155572, 0.0508932, 0.0486297, 0.0179757, 0.00766743]\n",
    "flux_lower_errors = [0.014, 0.017, 0.0181673, 0.0127421, 0.0279632, 0.0138992, 0.0521796, 0.0503089, 0.0183427, 0.00775885]\n",
    "\n",
    "# Calculate the flux and its errors in linear scale\n",
    "flux_values_linear = [10**value for value in flux_values]\n",
    "flux_upper_errors_linear = [10**(value + error) for value, error in zip(flux_values, flux_upper_errors)]\n",
    "flux_lower_errors_linear = [10**(value - error) for value, error in zip(flux_values, flux_lower_errors)]\n",
    "\n",
    "# Calculate the errors as the deviation from the flux value\n",
    "flux_upper_errors_deviation = [upper - value for upper, value in zip(flux_upper_errors_linear, flux_values_linear)]\n",
    "flux_lower_errors_deviation = [value - lower for value, lower in zip(flux_values_linear, flux_lower_errors_linear)]\n",
    "\n",
    "# Format the values with 3 significant figures and scientific notation\n",
    "flux_values_formatted = [f\"{value:.2e}\" for value in flux_values_linear] #formatted as string\n",
    "flux_upper_errors_formatted = [f\"{value:.2e}\" for value in flux_upper_errors_deviation]\n",
    "flux_lower_errors_formatted = [f\"{value:.2e}\" for value in flux_lower_errors_deviation]\n",
    "\n",
    "# Create the formatted flux values with errors\n",
    "flux_with_errors_formatted = [f\"${value}^{{+{upper}}}_{{-{lower}}}$\" for value, upper, lower in zip(flux_values_formatted, flux_upper_errors_formatted, flux_lower_errors_formatted)]\n",
    "for v in flux_with_errors_formatted:\n",
    "    print(v)"
   ]
  },
  {
   "cell_type": "code",
   "execution_count": 90,
   "id": "1dfaaaf0-e85e-4086-b3b5-5ecc1260dae7",
   "metadata": {},
   "outputs": [
    {
     "name": "stdout",
     "output_type": "stream",
     "text": [
      "['3.34e-05', '2.26e-05', '1.32e-05', '8.44e-05', '5.40e-06', '1.41e-05', '5.89e-06', '4.26e-06', '3.21e-05', '1.78e-04']\n"
     ]
    }
   ],
   "source": [
    "fluence_linear = np.array([t*F for t, F in zip(exposure, flux_values_linear)])\n",
    "fluence_upper_errors_linear = np.array([t*F for t, F in zip(exposure, flux_upper_errors_linear)])\n",
    "fluence_lower_errors_linear = np.array([t*F for t, F in zip(exposure, flux_lower_errors_linear)])\n",
    "\n",
    "# Calculate the errors as the deviation from the flux value\n",
    "fluence_upper_errors_deviation = [upper - value for upper, value in zip(fluence_upper_erros_linear, fluence_linear)]\n",
    "fluence_lower_errors_deviation = [value - lower for value, lower in zip(fluence_lower_errors_linear, fluence_linear)]\n",
    "\n",
    "fluence_linear_formatted = [f\"{value:.2e}\" for value in fluence_linear]\n",
    "print(fluence_linear_formatted)"
   ]
  },
  {
   "cell_type": "code",
   "execution_count": 91,
   "id": "df0ffc26-839e-4c35-a8fd-f6b80572033a",
   "metadata": {},
   "outputs": [
    {
     "name": "stdout",
     "output_type": "stream",
     "text": [
      "1 1.09e-06\n",
      "2 9.02e-07\n",
      "3 8.75e-07\n",
      "4 2.77e-06\n",
      "5 3.88e-07\n",
      "6 5.15e-07\n",
      "7 7.25e-07\n",
      "8 5.08e-07\n",
      "9 1.41e-06\n",
      "10 3.50e-06\n"
     ]
    }
   ],
   "source": [
    "fluence_upper_errors_formatted = [f\"{value:.2e}\" for value in fluence_upper_errors_deviation]\n",
    "fluence_lower_errors_formatted = [f\"{value:.2e}\" for value in fluence_lower_errors_deviation]\n",
    "\n",
    "for i,v in enumerate(fluence_upper_errors_formatted):\n",
    "    print(i+1,v)"
   ]
  },
  {
   "cell_type": "code",
   "execution_count": 92,
   "id": "b404ec33-ae42-4c74-bd95-43d7d24ac1f3",
   "metadata": {},
   "outputs": [
    {
     "name": "stdout",
     "output_type": "stream",
     "text": [
      "1 -1.06e-06\n",
      "2 -8.68e-07\n",
      "3 -5.39e-07\n",
      "4 -2.44e-06\n",
      "5 -3.36e-07\n",
      "6 -4.44e-07\n",
      "7 -6.66e-07\n",
      "8 -4.66e-07\n",
      "9 -1.33e-06\n",
      "10 -3.15e-06\n"
     ]
    }
   ],
   "source": [
    "for i,v in enumerate(fluence_lower_errors_formatted):\n",
    "    print(i+1,v)"
   ]
  },
  {
   "cell_type": "code",
   "execution_count": null,
   "id": "ea866d06-c373-4cba-b87e-85f2af3b823c",
   "metadata": {},
   "outputs": [],
   "source": []
  },
  {
   "cell_type": "code",
   "execution_count": null,
   "id": "770526f5-1f61-4d9d-9e3d-f294f4c6dad0",
   "metadata": {},
   "outputs": [],
   "source": []
  }
 ],
 "metadata": {
  "kernelspec": {
   "display_name": "GRBs",
   "language": "python",
   "name": "grbs"
  },
  "language_info": {
   "codemirror_mode": {
    "name": "ipython",
    "version": 3
   },
   "file_extension": ".py",
   "mimetype": "text/x-python",
   "name": "python",
   "nbconvert_exporter": "python",
   "pygments_lexer": "ipython3",
   "version": "3.10.8"
  }
 },
 "nbformat": 4,
 "nbformat_minor": 5
}
