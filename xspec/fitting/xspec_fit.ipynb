{
 "cells": [
  {
   "cell_type": "markdown",
   "id": "f308afbc-c7cc-4804-abde-02b3314b2ecc",
   "metadata": {},
   "source": [
    "# imports"
   ]
  },
  {
   "cell_type": "code",
   "execution_count": 24,
   "id": "fca2128c-aa03-4e0a-900d-92f906646460",
   "metadata": {},
   "outputs": [],
   "source": [
    "import numpy as np\n",
    "import pandas as pd"
   ]
  },
  {
   "cell_type": "markdown",
   "id": "fe679837-d8d4-4884-b973-efb7505fe2b2",
   "metadata": {},
   "source": [
    "# Generate new fitting script from template"
   ]
  },
  {
   "cell_type": "code",
   "execution_count": 22,
   "id": "33ad6d30-a6aa-4837-980b-7ee5e07e1790",
   "metadata": {},
   "outputs": [],
   "source": [
    "#There are three burst where not all detectors are on\n",
    "#modify the fitting script by hand, since the data grouping will be different\n",
    "\n",
    "def fit_script(HEDfname=None,KW1fname=None,KW2fname=None,GBMn1fname=None,GBMn2fname=None,GBMb1fname=None,outfname=None):\n",
    "    \n",
    "    fnames = [HEDfname,KW1fname,KW2fname,GBMn1fname,GBMn2fname,GBMb1fname,outfname]\n",
    "    if all(isinstance(fname, str) for fname in fnames) == False:\n",
    "        return(print(\"input must be string\"))\n",
    "    \n",
    "    with open('fitting.xcm',\"r\") as f:\n",
    "        lines = f.readlines() #198 lines of code\n",
    "        for i in np.arange(0,len(lines)):\n",
    "            lines[i] = lines[i].replace(\"HED_PHA_1.fits\",HEDfname)\n",
    "            lines[i] = lines[i].replace(\"KW201227_1_gr20.pha\",KW1fname)\n",
    "            lines[i] = lines[i].replace(\"KW201227_2_gr20.pha\",KW2fname)\n",
    "            lines[i] = lines[i].replace(\"GRB201227A_n4_gr20.pha\",GBMn1fname)\n",
    "            lines[i] = lines[i].replace(\"GRB201227A_n8_gr20.pha\",GBMn2fname)\n",
    "            lines[i] = lines[i].replace(\"GRB201227A_b0_gr20.pha\",GBMb1fname)\n",
    "            \n",
    "    with open(outfname+\".xcm\",\"w\") as out:\n",
    "        for line in lines:\n",
    "            out.write(line)"
   ]
  },
  {
   "cell_type": "code",
   "execution_count": 59,
   "id": "5824c40e-21bb-4c3a-9328-ff3a3fe86245",
   "metadata": {},
   "outputs": [],
   "source": [
    "fit_script(HEDfname=\"bla\",KW1fname=\"blaa\",KW2fname=\"blaaa\",GBMn1fname=\"la\",GBMn2fname=\"laa\",GBMb1fname=\"laaa\",outfname=\"fooo\")"
   ]
  },
  {
   "cell_type": "code",
   "execution_count": 23,
   "id": "ef15400b-6768-4c32-a7b6-54cce4bb9192",
   "metadata": {},
   "outputs": [],
   "source": [
    "#GRB 190206A don't have GBM data, so i can't use the fit_script above\n",
    "#I can go in an replace HED and KW files, but then i need to remove the GBM grouping and modeling that includes GBM"
   ]
  },
  {
   "cell_type": "markdown",
   "id": "6c095214-4406-401d-a1fd-a15073747b50",
   "metadata": {},
   "source": [
    "# Get spectral parameters from log file"
   ]
  },
  {
   "cell_type": "code",
   "execution_count": null,
   "id": "06e268d5-ac2a-4943-be57-f8377dd6d37a",
   "metadata": {},
   "outputs": [],
   "source": []
  },
  {
   "cell_type": "code",
   "execution_count": null,
   "id": "f53c824c-e360-4ce9-b62a-0cefa3756797",
   "metadata": {},
   "outputs": [],
   "source": []
  },
  {
   "cell_type": "code",
   "execution_count": null,
   "id": "d1e9a1de-1fae-4fe2-bc75-604a3cee186d",
   "metadata": {},
   "outputs": [],
   "source": []
  },
  {
   "cell_type": "code",
   "execution_count": null,
   "id": "b6fdc301-fd9b-4d9f-b11f-03446439837c",
   "metadata": {},
   "outputs": [],
   "source": []
  },
  {
   "cell_type": "code",
   "execution_count": null,
   "id": "9edadf83-7f3d-46fc-8294-6bbbe5b3c825",
   "metadata": {},
   "outputs": [],
   "source": []
  },
  {
   "cell_type": "code",
   "execution_count": null,
   "id": "28311981-aac1-4346-b518-8a064bcbd79c",
   "metadata": {},
   "outputs": [],
   "source": []
  }
 ],
 "metadata": {
  "kernelspec": {
   "display_name": "base",
   "language": "python",
   "name": "base"
  },
  "language_info": {
   "codemirror_mode": {
    "name": "ipython",
    "version": 3
   },
   "file_extension": ".py",
   "mimetype": "text/x-python",
   "name": "python",
   "nbconvert_exporter": "python",
   "pygments_lexer": "ipython3",
   "version": "3.9.13"
  }
 },
 "nbformat": 4,
 "nbformat_minor": 5
}
