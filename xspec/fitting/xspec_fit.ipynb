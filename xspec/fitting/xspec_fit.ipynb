{
 "cells": [
  {
   "cell_type": "markdown",
   "id": "f308afbc-c7cc-4804-abde-02b3314b2ecc",
   "metadata": {},
   "source": [
    "# imports"
   ]
  },
  {
   "cell_type": "code",
   "execution_count": 1,
   "id": "fca2128c-aa03-4e0a-900d-92f906646460",
   "metadata": {},
   "outputs": [],
   "source": [
    "import numpy as np\n",
    "import pandas as pd"
   ]
  },
  {
   "cell_type": "markdown",
   "id": "fe679837-d8d4-4884-b973-efb7505fe2b2",
   "metadata": {},
   "source": [
    "# Generate new fitting script from template"
   ]
  },
  {
   "cell_type": "code",
   "execution_count": 2,
   "id": "33ad6d30-a6aa-4837-980b-7ee5e07e1790",
   "metadata": {},
   "outputs": [],
   "source": [
    "#There are three burst where not all detectors are on\n",
    "#modify the fitting script by hand, since the data grouping will be different\n",
    "\n",
    "def fit_script(HEDfname=None,KW1fname=None,KW2fname=None,GBMn1fname=None,GBMn2fname=None,GBMb1fname=None,outfname=None):\n",
    "    \n",
    "    fnames = [HEDfname,KW1fname,KW2fname,GBMn1fname,GBMn2fname,GBMb1fname,outfname]\n",
    "    if all(isinstance(fname, str) for fname in fnames) == False:\n",
    "        return(print(\"input must be string\"))\n",
    "    \n",
    "    with open('fitting.xcm',\"r\") as f:\n",
    "        lines = f.readlines() #198 lines of code\n",
    "        for i in np.arange(0,len(lines)):\n",
    "            lines[i] = lines[i].replace(\"HED_PHA_1.fits\",HEDfname)\n",
    "            lines[i] = lines[i].replace(\"KW201227_1_gr20.pha\",KW1fname)\n",
    "            lines[i] = lines[i].replace(\"KW201227_2_gr20.pha\",KW2fname)\n",
    "            lines[i] = lines[i].replace(\"GRB201227A_n4_gr20.pha\",GBMn1fname)\n",
    "            lines[i] = lines[i].replace(\"GRB201227A_n8_gr20.pha\",GBMn2fname)\n",
    "            lines[i] = lines[i].replace(\"GRB201227A_b0_gr20.pha\",GBMb1fname)\n",
    "            \n",
    "    with open(outfname+\".xcm\",\"w\") as out:\n",
    "        for line in lines:\n",
    "            out.write(line)"
   ]
  },
  {
   "cell_type": "code",
   "execution_count": 3,
   "id": "5824c40e-21bb-4c3a-9328-ff3a3fe86245",
   "metadata": {},
   "outputs": [],
   "source": [
    "fit_script(HEDfname=\"bla\",KW1fname=\"blaa\",KW2fname=\"blaaa\",GBMn1fname=\"la\",GBMn2fname=\"laa\",GBMb1fname=\"laaa\",outfname=\"fooo\")"
   ]
  },
  {
   "cell_type": "code",
   "execution_count": 4,
   "id": "ef15400b-6768-4c32-a7b6-54cce4bb9192",
   "metadata": {},
   "outputs": [],
   "source": [
    "#GRB 190206A don't have GBM data, so i can't use the fit_script above\n",
    "#I can go in an replace HED and KW files, but then i need to remove the GBM grouping and modeling that includes GBM"
   ]
  },
  {
   "cell_type": "markdown",
   "id": "6c095214-4406-401d-a1fd-a15073747b50",
   "metadata": {},
   "source": [
    "# Get spectral parameters from log file\n",
    "    -'Current model list' starts from index 144\n",
    "    -'\\n' contained in every line"
   ]
  },
  {
   "cell_type": "code",
   "execution_count": 508,
   "id": "06e268d5-ac2a-4943-be57-f8377dd6d37a",
   "metadata": {},
   "outputs": [],
   "source": [
    "with open('template.log','r') as f:\n",
    "    logLines = f.readlines()\n",
    "    #looking for this line: #Model constant<1>*cflux<2>*ngrbep<3> Source No.: 1   Active/On\n",
    "    for l in logLines:\n",
    "        if l == '#Model constant<1>*cflux<2>*ngrbep<3> Source No.: 1   Active/On':\n",
    "            print(l)"
   ]
  },
  {
   "cell_type": "code",
   "execution_count": 509,
   "id": "f53c824c-e360-4ce9-b62a-0cefa3756797",
   "metadata": {},
   "outputs": [
    {
     "name": "stdout",
     "output_type": "stream",
     "text": [
      "model list start at index:  144\n"
     ]
    }
   ],
   "source": [
    "for i,l in enumerate(logLines):\n",
    "    if l == '#Current model list:\\n':\n",
    "        print('model list start at index: ', i)\n",
    "        modList = logLines[i:]\n",
    "        break"
   ]
  },
  {
   "cell_type": "code",
   "execution_count": 7,
   "id": "d1e9a1de-1fae-4fe2-bc75-604a3cee186d",
   "metadata": {},
   "outputs": [],
   "source": [
    "#TODO: load the spec parameters for all the datagroups\n",
    "#remove '\\n' from line"
   ]
  },
  {
   "cell_type": "code",
   "execution_count": null,
   "id": "f159dc88-4682-4509-b061-7f81fa10665e",
   "metadata": {},
   "outputs": [],
   "source": []
  },
  {
   "cell_type": "code",
   "execution_count": 8,
   "id": "77de622e-4eaf-43f7-8d31-2a4e5027f4b6",
   "metadata": {},
   "outputs": [],
   "source": [
    "clean_modList = []\n",
    "for l in modList:\n",
    "    l = l.replace('\\n','')\n",
    "    l = l.replace('#','')\n",
    "    clean_modList.append(l)"
   ]
  },
  {
   "cell_type": "code",
   "execution_count": 9,
   "id": "7ebde883-4865-4bbe-ad4a-3201c7012da6",
   "metadata": {},
   "outputs": [],
   "source": [
    "keys = {}\n",
    "for i,l in enumerate(clean_modList):\n",
    "    if 'Data group:' in l:\n",
    "        key = l.strip()\n",
    "        keys[key] = i\n",
    "startingIndecies = np.fromiter(keys.values(), dtype=int)\n",
    "n_dataGroups = len(startingIndecies)\n",
    "\n",
    "if np.all(np.diff(startingIndecies)) == True:\n",
    "    size_dataGroup = np.diff(np.fromiter(keys.values(), dtype=int))[0]\n",
    "else:\n",
    "    print('varying length of datagroups')"
   ]
  },
  {
   "cell_type": "code",
   "execution_count": 10,
   "id": "a8c36a3d-6160-401a-91a6-f64d26f7a6b8",
   "metadata": {},
   "outputs": [
    {
     "data": {
      "text/plain": [
       "(array([ 6, 16, 26, 36]), 4)"
      ]
     },
     "execution_count": 10,
     "metadata": {},
     "output_type": "execute_result"
    }
   ],
   "source": [
    "startingIndecies,n_dataGroups"
   ]
  },
  {
   "cell_type": "code",
   "execution_count": 42,
   "id": "271deacf-9d41-409b-9b2d-f772d1601aa1",
   "metadata": {},
   "outputs": [],
   "source": [
    "spec_data = {}\n",
    "for key,value in keys.items():\n",
    "    newTargetModel = []\n",
    "    targetModel = clean_modList[value+1:value+size_dataGroup]\n",
    "    for par in targetModel:\n",
    "        newpar = par.strip()\n",
    "        newpar = newpar.split()\n",
    "        del newpar[1]\n",
    "        newTargetModel.append(newpar)\n",
    "    spec_data[key] = newTargetModel"
   ]
  },
  {
   "cell_type": "code",
   "execution_count": 18,
   "id": "6ed762b1-f8d5-42a8-ad61-32970c976cfd",
   "metadata": {},
   "outputs": [
    {
     "name": "stdout",
     "output_type": "stream",
     "text": [
      "constant\n",
      "constant\n",
      "constant\n",
      "constant\n"
     ]
    }
   ],
   "source": [
    "for l in spec_data.values():\n",
    "    del l[0][0]\n",
    "    print(l[0][0])"
   ]
  },
  {
   "cell_type": "markdown",
   "id": "5746c897-43bf-4e1d-98be-dbcbf2af8c26",
   "metadata": {},
   "source": [
    "### Spec values from dict"
   ]
  },
  {
   "cell_type": "code",
   "execution_count": 43,
   "id": "f8281ab5-82b7-4917-be35-77f8d0b741d4",
   "metadata": {},
   "outputs": [
    {
     "data": {
      "text/plain": [
       "[[['1', 'constant', 'factor', '1.27737', '+/-', '0.127300'],\n",
       "  ['2', 'cflux', 'Emin', 'keV', '10.0000', 'frozen'],\n",
       "  ['3', 'cflux', 'Emax', 'keV', '1.00000E+04', 'frozen'],\n",
       "  ['4', 'cflux', 'lg10Flux', 'cgs', '-4.18518', '+/-', '3.00161E-02'],\n",
       "  ['5', 'ngrbep', 'alpha', '-0.185890', '+/-', '7.28931E-02'],\n",
       "  ['6', 'ngrbep', 'beta', '-3.44617', '+/-', '0.512888'],\n",
       "  ['7', 'ngrbep', 'epeak', 'keV', '922.399', '+/-', '58.2440'],\n",
       "  ['8', 'ngrbep', 'enorm', 'keV', '100.000', 'frozen'],\n",
       "  ['9', 'ngrbep', 'norm', '1.00000', 'frozen']],\n",
       " [['10', 'constant', 'factor', '1.00000', 'frozen'],\n",
       "  ['11', 'cflux', 'Emin', 'keV', '10.0000', '=', 'p2'],\n",
       "  ['12', 'cflux', 'Emax', 'keV', '1.00000E+04', '=', 'p3'],\n",
       "  ['13', 'cflux', 'lg10Flux', 'cgs', '-4.18518', '=', 'p4'],\n",
       "  ['14', 'ngrbep', 'alpha', '-0.185890', '=', 'p5'],\n",
       "  ['15', 'ngrbep', 'beta', '-3.44617', '=', 'p6'],\n",
       "  ['16', 'ngrbep', 'epeak', 'keV', '922.399', '=', 'p7'],\n",
       "  ['17', 'ngrbep', 'enorm', 'keV', '100.000', '=', 'p8'],\n",
       "  ['18', 'ngrbep', 'norm', '1.00000', '=', 'p9']],\n",
       " [['19', 'constant', 'factor', '1.31508', '+/-', '8.29398E-02'],\n",
       "  ['20', 'cflux', 'Emin', 'keV', '10.0000', '=', 'p2'],\n",
       "  ['21', 'cflux', 'Emax', 'keV', '1.00000E+04', '=', 'p3'],\n",
       "  ['22', 'cflux', 'lg10Flux', 'cgs', '-4.18518', '=', 'p4'],\n",
       "  ['23', 'ngrbep', 'alpha', '-0.185890', '=', 'p5'],\n",
       "  ['24', 'ngrbep', 'beta', '-3.44617', '=', 'p6'],\n",
       "  ['25', 'ngrbep', 'epeak', 'keV', '922.399', '=', 'p7'],\n",
       "  ['26', 'ngrbep', 'enorm', 'keV', '100.000', '=', 'p8'],\n",
       "  ['27', 'ngrbep', 'norm', '1.00000', '=', 'p9']],\n",
       " [['28', 'constant', 'factor', '1.39527', '+/-', '9.27995E-02'],\n",
       "  ['29', 'cflux', 'Emin', 'keV', '10.0000', '=', 'p2'],\n",
       "  ['30', 'cflux', 'Emax', 'keV', '1.00000E+04', '=', 'p3'],\n",
       "  ['31', 'cflux', 'lg10Flux', 'cgs', '-4.18518', '=', 'p4'],\n",
       "  ['32', 'ngrbep', 'alpha', '-0.185890', '=', 'p5'],\n",
       "  ['33', 'ngrbep', 'beta', '-3.44617', '=', 'p6'],\n",
       "  ['34', 'ngrbep', 'epeak', 'keV', '922.399', '=', 'p7'],\n",
       "  ['35', 'ngrbep', 'enorm', 'keV', '100.000', '=', 'p8'],\n",
       "  ['36', 'ngrbep', 'norm', '1.00000', '=', 'p9']]]"
      ]
     },
     "execution_count": 43,
     "metadata": {},
     "output_type": "execute_result"
    }
   ],
   "source": [
    "list(spec_data.values())"
   ]
  },
  {
   "cell_type": "code",
   "execution_count": 44,
   "id": "f34dc002-ecf1-4fab-a431-f38d4dd8eeed",
   "metadata": {},
   "outputs": [
    {
     "data": {
      "text/plain": [
       "[[['constant', 'factor', '1.27737', '+/-', '0.127300'],\n",
       "  ['cflux', 'Emin', 'keV', '10.0000', 'frozen'],\n",
       "  ['cflux', 'Emax', 'keV', '1.00000E+04', 'frozen'],\n",
       "  ['cflux', 'lg10Flux', 'cgs', '-4.18518', '+/-', '3.00161E-02'],\n",
       "  ['ngrbep', 'alpha', '-0.185890', '+/-', '7.28931E-02'],\n",
       "  ['ngrbep', 'beta', '-3.44617', '+/-', '0.512888'],\n",
       "  ['ngrbep', 'epeak', 'keV', '922.399', '+/-', '58.2440'],\n",
       "  ['ngrbep', 'enorm', 'keV', '100.000', 'frozen'],\n",
       "  ['ngrbep', 'norm', '1.00000', 'frozen']],\n",
       " [['constant', 'factor', '1.00000', 'frozen'],\n",
       "  ['cflux', 'Emin', 'keV', '10.0000', '=', 'p2'],\n",
       "  ['cflux', 'Emax', 'keV', '1.00000E+04', '=', 'p3'],\n",
       "  ['cflux', 'lg10Flux', 'cgs', '-4.18518', '=', 'p4'],\n",
       "  ['ngrbep', 'alpha', '-0.185890', '=', 'p5'],\n",
       "  ['ngrbep', 'beta', '-3.44617', '=', 'p6'],\n",
       "  ['ngrbep', 'epeak', 'keV', '922.399', '=', 'p7'],\n",
       "  ['ngrbep', 'enorm', 'keV', '100.000', '=', 'p8'],\n",
       "  ['ngrbep', 'norm', '1.00000', '=', 'p9']],\n",
       " [['constant', 'factor', '1.31508', '+/-', '8.29398E-02'],\n",
       "  ['cflux', 'Emin', 'keV', '10.0000', '=', 'p2'],\n",
       "  ['cflux', 'Emax', 'keV', '1.00000E+04', '=', 'p3'],\n",
       "  ['cflux', 'lg10Flux', 'cgs', '-4.18518', '=', 'p4'],\n",
       "  ['ngrbep', 'alpha', '-0.185890', '=', 'p5'],\n",
       "  ['ngrbep', 'beta', '-3.44617', '=', 'p6'],\n",
       "  ['ngrbep', 'epeak', 'keV', '922.399', '=', 'p7'],\n",
       "  ['ngrbep', 'enorm', 'keV', '100.000', '=', 'p8'],\n",
       "  ['ngrbep', 'norm', '1.00000', '=', 'p9']],\n",
       " [['constant', 'factor', '1.39527', '+/-', '9.27995E-02'],\n",
       "  ['cflux', 'Emin', 'keV', '10.0000', '=', 'p2'],\n",
       "  ['cflux', 'Emax', 'keV', '1.00000E+04', '=', 'p3'],\n",
       "  ['cflux', 'lg10Flux', 'cgs', '-4.18518', '=', 'p4'],\n",
       "  ['ngrbep', 'alpha', '-0.185890', '=', 'p5'],\n",
       "  ['ngrbep', 'beta', '-3.44617', '=', 'p6'],\n",
       "  ['ngrbep', 'epeak', 'keV', '922.399', '=', 'p7'],\n",
       "  ['ngrbep', 'enorm', 'keV', '100.000', '=', 'p8'],\n",
       "  ['ngrbep', 'norm', '1.00000', '=', 'p9']]]"
      ]
     },
     "execution_count": 44,
     "metadata": {},
     "output_type": "execute_result"
    }
   ],
   "source": [
    "v = list(spec_data.values())\n",
    "for i in range(0,4):\n",
    "    for j in range(0,9):\n",
    "        del v[i][j][0]\n",
    "v"
   ]
  },
  {
   "cell_type": "markdown",
   "id": "16730579-6e4a-4619-a4db-cd16b2783f98",
   "metadata": {},
   "source": [
    "### clean_dict"
   ]
  },
  {
   "cell_type": "code",
   "execution_count": 52,
   "id": "67db94da-e5f2-41dd-b98d-449023b700db",
   "metadata": {},
   "outputs": [],
   "source": [
    "for i in range(0,4):\n",
    "    key = list(spec_data.keys())[i]\n",
    "    clean_dict[key] = v[i]"
   ]
  },
  {
   "cell_type": "code",
   "execution_count": 80,
   "id": "4be0ab55-7637-4f72-af06-261fbef35dad",
   "metadata": {},
   "outputs": [],
   "source": [
    "#Need to get the parameter names and put them where the numbers are in the df\n",
    "headerName_list = []\n",
    "for j in range(0,9):\n",
    "    par = list(clean_dict.values())[0][j][0]\n",
    "    typ = list(clean_dict.values())[0][j][1]\n",
    "    header_name = par + ' ' + '[' + typ + ']'\n",
    "    headerName_list.append(header_name)"
   ]
  },
  {
   "cell_type": "code",
   "execution_count": 98,
   "id": "1266a6f6-3a22-4457-a838-48c614685730",
   "metadata": {},
   "outputs": [],
   "source": [
    "#problem that the lists are different lengths"
   ]
  },
  {
   "cell_type": "code",
   "execution_count": null,
   "id": "434b28f7-481e-4e7a-adf4-4a47fcd7d223",
   "metadata": {},
   "outputs": [
    {
     "data": {
      "text/plain": [
       "[['constant', 'factor', '1.27737', '+/-', '0.127300'],\n",
       " ['cflux', 'Emin', 'keV', '10.0000', 'frozen'],\n",
       " ['cflux', 'Emax', 'keV', '1.00000E+04', 'frozen'],\n",
       " ['cflux', 'lg10Flux', 'cgs', '-4.18518', '+/-', '3.00161E-02'],\n",
       " ['ngrbep', 'alpha', '-0.185890', '+/-', '7.28931E-02'],\n",
       " ['ngrbep', 'beta', '-3.44617', '+/-', '0.512888'],\n",
       " ['ngrbep', 'epeak', 'keV', '922.399', '+/-', '58.2440'],\n",
       " ['ngrbep', 'enorm', 'keV', '100.000', 'frozen'],\n",
       " ['ngrbep', 'norm', '1.00000', 'frozen']]"
      ]
     },
     "execution_count": 146,
     "metadata": {},
     "output_type": "execute_result"
    }
   ],
   "source": [
    "list(clean_dict.values())[0]"
   ]
  },
  {
   "cell_type": "code",
   "execution_count": 290,
   "id": "f64e355d-d815-471a-adcf-b7cc7150747c",
   "metadata": {},
   "outputs": [
    {
     "data": {
      "text/plain": [
       "['constant', 'factor', '1.27737', '+/-', '0.127300']"
      ]
     },
     "execution_count": 290,
     "metadata": {},
     "output_type": "execute_result"
    }
   ],
   "source": [
    "list(clean_dict.values())[0][0]"
   ]
  },
  {
   "cell_type": "code",
   "execution_count": 291,
   "id": "e3306509-44fa-438a-9828-bb73ea0772dd",
   "metadata": {},
   "outputs": [
    {
     "name": "stdout",
     "output_type": "stream",
     "text": [
      "1.277 +/- 0.127\n",
      "10.0\n",
      "10000.0\n",
      "-4.185 +/- 0.03\n",
      "-0.186 +/- 0.073\n",
      "-3.446 +/- 0.513\n",
      "922.399 +/- 58.244\n",
      "100.0\n",
      "1.0\n"
     ]
    }
   ],
   "source": [
    "for i in range(0,9): print(get_cellInput(list(clean_dict.values())[0][i]))"
   ]
  },
  {
   "cell_type": "code",
   "execution_count": 297,
   "id": "8d8a6ab8-acd0-4549-9d9b-a35f1df3e945",
   "metadata": {},
   "outputs": [],
   "source": [
    "df.values[0][0] = '1.277 +/- 0.127'"
   ]
  },
  {
   "cell_type": "code",
   "execution_count": 298,
   "id": "82712ce3-2f39-45fc-8544-c7cdb0125eaa",
   "metadata": {},
   "outputs": [
    {
     "data": {
      "text/plain": [
       "'1.277 +/- 0.127'"
      ]
     },
     "execution_count": 298,
     "metadata": {},
     "output_type": "execute_result"
    }
   ],
   "source": [
    "df.values[0][0]"
   ]
  },
  {
   "cell_type": "code",
   "execution_count": 285,
   "id": "2ef6c5a8-6ddf-4bf7-abee-b63a457fcadf",
   "metadata": {},
   "outputs": [],
   "source": [
    "def get_cellInput(l):\n",
    "    cell_input = ''\n",
    "    for x in l:\n",
    "        if x == '+/-':\n",
    "            cell_input += ' ' + x + ' '\n",
    "        else:\n",
    "            try:\n",
    "                float(x)\n",
    "                cell_input += str(np.round(float(x),3))\n",
    "            except ValueError:\n",
    "                continue\n",
    "    return(cell_input)"
   ]
  },
  {
   "cell_type": "code",
   "execution_count": 300,
   "id": "6184a84c-e827-4c8c-96b6-4453f90a6ff3",
   "metadata": {},
   "outputs": [
    {
     "name": "stdout",
     "output_type": "stream",
     "text": [
      "[['1.395 +/- 0.093', '10.0', '10000.0', '-4.185', '-0.186', '-3.446', '922.399', '100.0', '1.0'], ['1.395 +/- 0.093', '10.0', '10000.0', '-4.185', '-0.186', '-3.446', '922.399', '100.0', '1.0'], ['1.395 +/- 0.093', '10.0', '10000.0', '-4.185', '-0.186', '-3.446', '922.399', '100.0', '1.0'], ['1.395 +/- 0.093', '10.0', '10000.0', '-4.185', '-0.186', '-3.446', '922.399', '100.0', '1.0']]\n",
      "[['1.395 +/- 0.093', '10.0', '10000.0', '-4.185', '-0.186', '-3.446', '922.399', '100.0', '1.0'], ['1.395 +/- 0.093', '10.0', '10000.0', '-4.185', '-0.186', '-3.446', '922.399', '100.0', '1.0'], ['1.395 +/- 0.093', '10.0', '10000.0', '-4.185', '-0.186', '-3.446', '922.399', '100.0', '1.0'], ['1.395 +/- 0.093', '10.0', '10000.0', '-4.185', '-0.186', '-3.446', '922.399', '100.0', '1.0']]\n",
      "[['1.395 +/- 0.093', '10.0', '10000.0', '-4.185', '-0.186', '-3.446', '922.399', '100.0', '1.0'], ['1.395 +/- 0.093', '10.0', '10000.0', '-4.185', '-0.186', '-3.446', '922.399', '100.0', '1.0'], ['1.395 +/- 0.093', '10.0', '10000.0', '-4.185', '-0.186', '-3.446', '922.399', '100.0', '1.0'], ['1.395 +/- 0.093', '10.0', '10000.0', '-4.185', '-0.186', '-3.446', '922.399', '100.0', '1.0']]\n",
      "[['1.395 +/- 0.093', '10.0', '10000.0', '-4.185', '-0.186', '-3.446', '922.399', '100.0', '1.0'], ['1.395 +/- 0.093', '10.0', '10000.0', '-4.185', '-0.186', '-3.446', '922.399', '100.0', '1.0'], ['1.395 +/- 0.093', '10.0', '10000.0', '-4.185', '-0.186', '-3.446', '922.399', '100.0', '1.0'], ['1.395 +/- 0.093', '10.0', '10000.0', '-4.185', '-0.186', '-3.446', '922.399', '100.0', '1.0']]\n"
     ]
    }
   ],
   "source": [
    "for i in range(0,4):\n",
    "    for j in range(0,9):\n",
    "        #print(list(clean_dict.values())[i][j])\n",
    "        df.values[i][j] = (get_cellInput(list(clean_dict.values())[0][i]))"
   ]
  },
  {
   "cell_type": "code",
   "execution_count": 301,
   "id": "f843db2b-5693-4442-821b-ed2aec7fe574",
   "metadata": {},
   "outputs": [
    {
     "data": {
      "text/html": [
       "<div>\n",
       "<style scoped>\n",
       "    .dataframe tbody tr th:only-of-type {\n",
       "        vertical-align: middle;\n",
       "    }\n",
       "\n",
       "    .dataframe tbody tr th {\n",
       "        vertical-align: top;\n",
       "    }\n",
       "\n",
       "    .dataframe thead th {\n",
       "        text-align: right;\n",
       "    }\n",
       "</style>\n",
       "<table border=\"1\" class=\"dataframe\">\n",
       "  <thead>\n",
       "    <tr style=\"text-align: right;\">\n",
       "      <th></th>\n",
       "      <th>constant [factor]</th>\n",
       "      <th>cflux [Emin]</th>\n",
       "      <th>cflux [Emax]</th>\n",
       "      <th>cflux [lg10Flux]</th>\n",
       "      <th>ngrbep [alpha]</th>\n",
       "      <th>ngrbep [beta]</th>\n",
       "      <th>ngrbep [epeak]</th>\n",
       "      <th>ngrbep [enorm]</th>\n",
       "      <th>ngrbep [norm]</th>\n",
       "    </tr>\n",
       "  </thead>\n",
       "  <tbody>\n",
       "    <tr>\n",
       "      <th>Data group: 1</th>\n",
       "      <td>1.277 +/- 0.127</td>\n",
       "      <td>1.277 +/- 0.127</td>\n",
       "      <td>1.277 +/- 0.127</td>\n",
       "      <td>1.277 +/- 0.127</td>\n",
       "      <td>1.277 +/- 0.127</td>\n",
       "      <td>1.277 +/- 0.127</td>\n",
       "      <td>1.277 +/- 0.127</td>\n",
       "      <td>1.277 +/- 0.127</td>\n",
       "      <td>1.277 +/- 0.127</td>\n",
       "    </tr>\n",
       "    <tr>\n",
       "      <th>Data group: 2</th>\n",
       "      <td>10.0</td>\n",
       "      <td>10.0</td>\n",
       "      <td>10.0</td>\n",
       "      <td>10.0</td>\n",
       "      <td>10.0</td>\n",
       "      <td>10.0</td>\n",
       "      <td>10.0</td>\n",
       "      <td>10.0</td>\n",
       "      <td>10.0</td>\n",
       "    </tr>\n",
       "    <tr>\n",
       "      <th>Data group: 3</th>\n",
       "      <td>10000.0</td>\n",
       "      <td>10000.0</td>\n",
       "      <td>10000.0</td>\n",
       "      <td>10000.0</td>\n",
       "      <td>10000.0</td>\n",
       "      <td>10000.0</td>\n",
       "      <td>10000.0</td>\n",
       "      <td>10000.0</td>\n",
       "      <td>10000.0</td>\n",
       "    </tr>\n",
       "    <tr>\n",
       "      <th>Data group: 4</th>\n",
       "      <td>-4.185 +/- 0.03</td>\n",
       "      <td>-4.185 +/- 0.03</td>\n",
       "      <td>-4.185 +/- 0.03</td>\n",
       "      <td>-4.185 +/- 0.03</td>\n",
       "      <td>-4.185 +/- 0.03</td>\n",
       "      <td>-4.185 +/- 0.03</td>\n",
       "      <td>-4.185 +/- 0.03</td>\n",
       "      <td>-4.185 +/- 0.03</td>\n",
       "      <td>-4.185 +/- 0.03</td>\n",
       "    </tr>\n",
       "  </tbody>\n",
       "</table>\n",
       "</div>"
      ],
      "text/plain": [
       "              constant [factor]     cflux [Emin]     cflux [Emax]  \\\n",
       "Data group: 1   1.277 +/- 0.127  1.277 +/- 0.127  1.277 +/- 0.127   \n",
       "Data group: 2              10.0             10.0             10.0   \n",
       "Data group: 3           10000.0          10000.0          10000.0   \n",
       "Data group: 4   -4.185 +/- 0.03  -4.185 +/- 0.03  -4.185 +/- 0.03   \n",
       "\n",
       "              cflux [lg10Flux]   ngrbep [alpha]    ngrbep [beta]  \\\n",
       "Data group: 1  1.277 +/- 0.127  1.277 +/- 0.127  1.277 +/- 0.127   \n",
       "Data group: 2             10.0             10.0             10.0   \n",
       "Data group: 3          10000.0          10000.0          10000.0   \n",
       "Data group: 4  -4.185 +/- 0.03  -4.185 +/- 0.03  -4.185 +/- 0.03   \n",
       "\n",
       "                ngrbep [epeak]   ngrbep [enorm]    ngrbep [norm]  \n",
       "Data group: 1  1.277 +/- 0.127  1.277 +/- 0.127  1.277 +/- 0.127  \n",
       "Data group: 2             10.0             10.0             10.0  \n",
       "Data group: 3          10000.0          10000.0          10000.0  \n",
       "Data group: 4  -4.185 +/- 0.03  -4.185 +/- 0.03  -4.185 +/- 0.03  "
      ]
     },
     "execution_count": 301,
     "metadata": {},
     "output_type": "execute_result"
    }
   ],
   "source": [
    "df"
   ]
  },
  {
   "cell_type": "code",
   "execution_count": 277,
   "id": "675c7523-9d33-484e-baf7-b9db1a03014d",
   "metadata": {},
   "outputs": [],
   "source": [
    "#Problem assigning cell input into the cell_input list"
   ]
  },
  {
   "cell_type": "code",
   "execution_count": 347,
   "id": "09c3775f-b92a-4f6d-8110-9e8adcd9416d",
   "metadata": {},
   "outputs": [
    {
     "data": {
      "text/html": [
       "<div>\n",
       "<style scoped>\n",
       "    .dataframe tbody tr th:only-of-type {\n",
       "        vertical-align: middle;\n",
       "    }\n",
       "\n",
       "    .dataframe tbody tr th {\n",
       "        vertical-align: top;\n",
       "    }\n",
       "\n",
       "    .dataframe thead th {\n",
       "        text-align: right;\n",
       "    }\n",
       "</style>\n",
       "<table border=\"1\" class=\"dataframe\">\n",
       "  <thead>\n",
       "    <tr style=\"text-align: right;\">\n",
       "      <th></th>\n",
       "      <th>0</th>\n",
       "      <th>1</th>\n",
       "      <th>2</th>\n",
       "      <th>3</th>\n",
       "      <th>4</th>\n",
       "      <th>5</th>\n",
       "      <th>6</th>\n",
       "      <th>7</th>\n",
       "      <th>8</th>\n",
       "    </tr>\n",
       "  </thead>\n",
       "  <tbody>\n",
       "    <tr>\n",
       "      <th>Data group: 1</th>\n",
       "      <td>[factor, 1.27737, +/-, 0.127300]</td>\n",
       "      <td>[cflux, Emin, keV, 10.0000, frozen]</td>\n",
       "      <td>[cflux, Emax, keV, 1.00000E+04, frozen]</td>\n",
       "      <td>[cflux, lg10Flux, cgs, -4.18518, +/-, 3.00161E...</td>\n",
       "      <td>[ngrbep, alpha, -0.185890, +/-, 7.28931E-02]</td>\n",
       "      <td>[ngrbep, beta, -3.44617, +/-, 0.512888]</td>\n",
       "      <td>[ngrbep, epeak, keV, 922.399, +/-, 58.2440]</td>\n",
       "      <td>[ngrbep, enorm, keV, 100.000, frozen]</td>\n",
       "      <td>[ngrbep, norm, 1.00000, frozen]</td>\n",
       "    </tr>\n",
       "    <tr>\n",
       "      <th>Data group: 2</th>\n",
       "      <td>[factor, 1.00000, frozen]</td>\n",
       "      <td>[cflux, Emin, keV, 10.0000, =, p2]</td>\n",
       "      <td>[cflux, Emax, keV, 1.00000E+04, =, p3]</td>\n",
       "      <td>[cflux, lg10Flux, cgs, -4.18518, =, p4]</td>\n",
       "      <td>[ngrbep, alpha, -0.185890, =, p5]</td>\n",
       "      <td>[ngrbep, beta, -3.44617, =, p6]</td>\n",
       "      <td>[ngrbep, epeak, keV, 922.399, =, p7]</td>\n",
       "      <td>[ngrbep, enorm, keV, 100.000, =, p8]</td>\n",
       "      <td>[ngrbep, norm, 1.00000, =, p9]</td>\n",
       "    </tr>\n",
       "    <tr>\n",
       "      <th>Data group: 3</th>\n",
       "      <td>[factor, 1.31508, +/-, 8.29398E-02]</td>\n",
       "      <td>[cflux, Emin, keV, 10.0000, =, p2]</td>\n",
       "      <td>[cflux, Emax, keV, 1.00000E+04, =, p3]</td>\n",
       "      <td>[cflux, lg10Flux, cgs, -4.18518, =, p4]</td>\n",
       "      <td>[ngrbep, alpha, -0.185890, =, p5]</td>\n",
       "      <td>[ngrbep, beta, -3.44617, =, p6]</td>\n",
       "      <td>[ngrbep, epeak, keV, 922.399, =, p7]</td>\n",
       "      <td>[ngrbep, enorm, keV, 100.000, =, p8]</td>\n",
       "      <td>[ngrbep, norm, 1.00000, =, p9]</td>\n",
       "    </tr>\n",
       "    <tr>\n",
       "      <th>Data group: 4</th>\n",
       "      <td>[factor, 1.39527, +/-, 9.27995E-02]</td>\n",
       "      <td>[cflux, Emin, keV, 10.0000, =, p2]</td>\n",
       "      <td>[cflux, Emax, keV, 1.00000E+04, =, p3]</td>\n",
       "      <td>[cflux, lg10Flux, cgs, -4.18518, =, p4]</td>\n",
       "      <td>[ngrbep, alpha, -0.185890, =, p5]</td>\n",
       "      <td>[ngrbep, beta, -3.44617, =, p6]</td>\n",
       "      <td>[ngrbep, epeak, keV, 922.399, =, p7]</td>\n",
       "      <td>[ngrbep, enorm, keV, 100.000, =, p8]</td>\n",
       "      <td>[ngrbep, norm, 1.00000, =, p9]</td>\n",
       "    </tr>\n",
       "  </tbody>\n",
       "</table>\n",
       "</div>"
      ],
      "text/plain": [
       "                                                 0  \\\n",
       "Data group: 1     [factor, 1.27737, +/-, 0.127300]   \n",
       "Data group: 2            [factor, 1.00000, frozen]   \n",
       "Data group: 3  [factor, 1.31508, +/-, 8.29398E-02]   \n",
       "Data group: 4  [factor, 1.39527, +/-, 9.27995E-02]   \n",
       "\n",
       "                                                 1  \\\n",
       "Data group: 1  [cflux, Emin, keV, 10.0000, frozen]   \n",
       "Data group: 2   [cflux, Emin, keV, 10.0000, =, p2]   \n",
       "Data group: 3   [cflux, Emin, keV, 10.0000, =, p2]   \n",
       "Data group: 4   [cflux, Emin, keV, 10.0000, =, p2]   \n",
       "\n",
       "                                                     2  \\\n",
       "Data group: 1  [cflux, Emax, keV, 1.00000E+04, frozen]   \n",
       "Data group: 2   [cflux, Emax, keV, 1.00000E+04, =, p3]   \n",
       "Data group: 3   [cflux, Emax, keV, 1.00000E+04, =, p3]   \n",
       "Data group: 4   [cflux, Emax, keV, 1.00000E+04, =, p3]   \n",
       "\n",
       "                                                               3  \\\n",
       "Data group: 1  [cflux, lg10Flux, cgs, -4.18518, +/-, 3.00161E...   \n",
       "Data group: 2            [cflux, lg10Flux, cgs, -4.18518, =, p4]   \n",
       "Data group: 3            [cflux, lg10Flux, cgs, -4.18518, =, p4]   \n",
       "Data group: 4            [cflux, lg10Flux, cgs, -4.18518, =, p4]   \n",
       "\n",
       "                                                          4  \\\n",
       "Data group: 1  [ngrbep, alpha, -0.185890, +/-, 7.28931E-02]   \n",
       "Data group: 2             [ngrbep, alpha, -0.185890, =, p5]   \n",
       "Data group: 3             [ngrbep, alpha, -0.185890, =, p5]   \n",
       "Data group: 4             [ngrbep, alpha, -0.185890, =, p5]   \n",
       "\n",
       "                                                     5  \\\n",
       "Data group: 1  [ngrbep, beta, -3.44617, +/-, 0.512888]   \n",
       "Data group: 2          [ngrbep, beta, -3.44617, =, p6]   \n",
       "Data group: 3          [ngrbep, beta, -3.44617, =, p6]   \n",
       "Data group: 4          [ngrbep, beta, -3.44617, =, p6]   \n",
       "\n",
       "                                                         6  \\\n",
       "Data group: 1  [ngrbep, epeak, keV, 922.399, +/-, 58.2440]   \n",
       "Data group: 2         [ngrbep, epeak, keV, 922.399, =, p7]   \n",
       "Data group: 3         [ngrbep, epeak, keV, 922.399, =, p7]   \n",
       "Data group: 4         [ngrbep, epeak, keV, 922.399, =, p7]   \n",
       "\n",
       "                                                   7  \\\n",
       "Data group: 1  [ngrbep, enorm, keV, 100.000, frozen]   \n",
       "Data group: 2   [ngrbep, enorm, keV, 100.000, =, p8]   \n",
       "Data group: 3   [ngrbep, enorm, keV, 100.000, =, p8]   \n",
       "Data group: 4   [ngrbep, enorm, keV, 100.000, =, p8]   \n",
       "\n",
       "                                             8  \n",
       "Data group: 1  [ngrbep, norm, 1.00000, frozen]  \n",
       "Data group: 2   [ngrbep, norm, 1.00000, =, p9]  \n",
       "Data group: 3   [ngrbep, norm, 1.00000, =, p9]  \n",
       "Data group: 4   [ngrbep, norm, 1.00000, =, p9]  "
      ]
     },
     "execution_count": 347,
     "metadata": {},
     "output_type": "execute_result"
    }
   ],
   "source": [
    "df = pd.DataFrame(data = clean_dict).T\n",
    "df"
   ]
  },
  {
   "cell_type": "code",
   "execution_count": 258,
   "id": "bb839fc6-86da-4dd1-a6a9-a3a5f9941109",
   "metadata": {},
   "outputs": [],
   "source": [
    "for i,key in enumerate(list(df.columns)):\n",
    "    df.rename({key: headerName_list[i]}, axis=1,inplace=True)"
   ]
  },
  {
   "cell_type": "code",
   "execution_count": 260,
   "id": "20a44a6e-9168-4883-ae98-0201833101df",
   "metadata": {},
   "outputs": [
    {
     "data": {
      "text/plain": [
       "['Data group: 1', 'Data group: 2', 'Data group: 3', 'Data group: 4']"
      ]
     },
     "execution_count": 260,
     "metadata": {},
     "output_type": "execute_result"
    }
   ],
   "source": [
    "list(keys.keys())"
   ]
  },
  {
   "cell_type": "code",
   "execution_count": 303,
   "id": "00aaf7d4-156d-4103-889a-e26050f88453",
   "metadata": {},
   "outputs": [
    {
     "name": "stdout",
     "output_type": "stream",
     "text": [
      "\\begin{table}[h!]\n",
      "\\centering\n",
      "\\begin{tabular}{lllll}\n",
      "\\toprule\n",
      " & Data group: 1 & Data group: 2 & Data group: 3 & Data group: 4 \\\\\n",
      "\\midrule\n",
      "constant [factor] & 1.277 +/- 0.127 & 10.0 & 10000.0 & -4.185 +/- 0.03 \\\\\n",
      "cflux [Emin] & 1.277 +/- 0.127 & 10.0 & 10000.0 & -4.185 +/- 0.03 \\\\\n",
      "cflux [Emax] & 1.277 +/- 0.127 & 10.0 & 10000.0 & -4.185 +/- 0.03 \\\\\n",
      "cflux [lg10Flux] & 1.277 +/- 0.127 & 10.0 & 10000.0 & -4.185 +/- 0.03 \\\\\n",
      "ngrbep [alpha] & 1.277 +/- 0.127 & 10.0 & 10000.0 & -4.185 +/- 0.03 \\\\\n",
      "ngrbep [beta] & 1.277 +/- 0.127 & 10.0 & 10000.0 & -4.185 +/- 0.03 \\\\\n",
      "ngrbep [epeak] & 1.277 +/- 0.127 & 10.0 & 10000.0 & -4.185 +/- 0.03 \\\\\n",
      "ngrbep [enorm] & 1.277 +/- 0.127 & 10.0 & 10000.0 & -4.185 +/- 0.03 \\\\\n",
      "ngrbep [norm] & 1.277 +/- 0.127 & 10.0 & 10000.0 & -4.185 +/- 0.03 \\\\\n",
      "\\bottomrule\n",
      "\\end{tabular}\n",
      "\\end{table}\n",
      "\n"
     ]
    }
   ],
   "source": [
    "print(df.T.style.to_latex(position_float='centering',position='h!',hrules=True,multirow_align='c'))"
   ]
  },
  {
   "cell_type": "markdown",
   "id": "7f0fd393-3f78-475f-8b22-718e53531bbf",
   "metadata": {},
   "source": [
    "# final function"
   ]
  },
  {
   "cell_type": "code",
   "execution_count": 475,
   "id": "919353a5-c617-4b07-883d-356594d54179",
   "metadata": {},
   "outputs": [],
   "source": [
    "def get_datagroups(log_fname=None):\n",
    "    if type(log_fname) != str:\n",
    "        return print('log_fname must be str')\n",
    "    else:\n",
    "        with open(log_fname,'r') as f:\n",
    "            \n",
    "            logLines = f.readlines()\n",
    "            #looking for this line: #Model constant<1>*cflux<2>*ngrbep<3> Source No.: 1   Active/On\n",
    "            for l in logLines:\n",
    "                if l == '#Model constant<1>*cflux<2>*ngrbep<3> Source No.: 1   Active/On':\n",
    "                    print(l)\n",
    "\n",
    "            for i,l in enumerate(logLines):\n",
    "                if l == '#Current model list:\\n':\n",
    "                    print('model list start at index: ', i)\n",
    "                    modList = logLines[i:]\n",
    "                    break\n",
    "                    \n",
    "    clean_modList = []\n",
    "    for l in modList:\n",
    "        l = l.replace('\\n','')\n",
    "        l = l.replace('#','')\n",
    "        clean_modList.append(l)\n",
    "\n",
    "    keys = {}\n",
    "    for i,l in enumerate(clean_modList):\n",
    "        if 'Data group:' in l:\n",
    "            key = l.strip()\n",
    "            keys[key] = i\n",
    "    startingIndecies = np.fromiter(keys.values(), dtype=int)\n",
    "    n_dataGroups = len(startingIndecies)\n",
    "\n",
    "    if np.all(np.diff(startingIndecies)) == True:\n",
    "        size_dataGroup = np.diff(np.fromiter(keys.values(), dtype=int))[0]\n",
    "    else:\n",
    "        print('varying length of datagroups')\n",
    "        \n",
    "    print('startingIndecies,n_dataGroups: ',startingIndecies,n_dataGroups)\n",
    "    spec_data = {}\n",
    "    for key,value in keys.items():\n",
    "        newTargetModel = []\n",
    "        targetModel = clean_modList[value+1:value+size_dataGroup]\n",
    "        for par in targetModel:\n",
    "            newpar = par.strip()\n",
    "            newpar = newpar.split()\n",
    "            del newpar[1]\n",
    "            newTargetModel.append(newpar)\n",
    "        spec_data[key] = newTargetModel\n",
    "        \n",
    "    for l in spec_data.values(): #deleting 'constant' keyword\n",
    "        del l[0][0]\n",
    "        \n",
    "    v = list(spec_data.values())\n",
    "    #TODO: replace  4 with 'n datagroups' & 9 with \n",
    "    for i in range(0,4): #replace n-1 -diff(n_datagroups)\n",
    "        for j in range(0,9):\n",
    "            del v[i][j][0]\n",
    "\n",
    "    for i in range(0,4):#replace 4\n",
    "        key = list(spec_data.keys())[i]\n",
    "        clean_dict[key] = v[i] \n",
    "        \n",
    "    df = pd.DataFrame(data = clean_dict).T #this works\n",
    "    \n",
    "    #TODO: set the column names\n",
    "    headerName_list = []\n",
    "    for j in range(0,9):\n",
    "        par = list(clean_dict.values())[0][j][0]\n",
    "        typ = list(clean_dict.values())[0][j][1]\n",
    "        header_name = par + ' ' + '[' + typ + ']'\n",
    "        headerName_list.append(header_name)\n",
    "           \n",
    "    for i,l in enumerate(headerName_list): #could also change Emin to have keV...\n",
    "        if 'factor' in l.split():\n",
    "            headerName_list[i] = 'factor [constant]'\n",
    "     \n",
    "    for i,key in enumerate(list(df.columns)):\n",
    "        df.rename({key: headerName_list[i]}, axis=1,inplace=True)\n",
    "        \n",
    "    for i in range(0,4):\n",
    "        for j in range(0,9):\n",
    "            df.values[i][j] = (get_cellInput(list(clean_dict.values())[i][j]))\n",
    "    return df\n"
   ]
  },
  {
   "cell_type": "code",
   "execution_count": 452,
   "id": "a28f6a59-d741-4d15-a0a8-268fbf469f87",
   "metadata": {},
   "outputs": [],
   "source": [
    "from timeit import default_timer as timer"
   ]
  },
  {
   "cell_type": "code",
   "execution_count": 503,
   "id": "6ddf1ff2-9741-4430-a28e-7bf5713739ea",
   "metadata": {},
   "outputs": [
    {
     "name": "stdout",
     "output_type": "stream",
     "text": [
      "model list start at index:  144\n",
      "startingIndecies,n_dataGroups:  [ 6 16 26 36] 4\n",
      "0.009199459000228671\n"
     ]
    }
   ],
   "source": [
    "start = timer()\n",
    "df = (get_datagroups('template.log'))\n",
    "end = timer()\n",
    "print(end - start)"
   ]
  },
  {
   "cell_type": "code",
   "execution_count": 477,
   "id": "e469ee0a-379e-448a-a435-07a907289645",
   "metadata": {},
   "outputs": [
    {
     "data": {
      "text/html": [
       "<div>\n",
       "<style scoped>\n",
       "    .dataframe tbody tr th:only-of-type {\n",
       "        vertical-align: middle;\n",
       "    }\n",
       "\n",
       "    .dataframe tbody tr th {\n",
       "        vertical-align: top;\n",
       "    }\n",
       "\n",
       "    .dataframe thead th {\n",
       "        text-align: right;\n",
       "    }\n",
       "</style>\n",
       "<table border=\"1\" class=\"dataframe\">\n",
       "  <thead>\n",
       "    <tr style=\"text-align: right;\">\n",
       "      <th></th>\n",
       "      <th>factor [constant]</th>\n",
       "      <th>cflux [Emin]</th>\n",
       "      <th>cflux [Emax]</th>\n",
       "      <th>cflux [lg10Flux]</th>\n",
       "      <th>ngrbep [alpha]</th>\n",
       "      <th>ngrbep [beta]</th>\n",
       "      <th>ngrbep [epeak]</th>\n",
       "      <th>ngrbep [enorm]</th>\n",
       "      <th>ngrbep [norm]</th>\n",
       "    </tr>\n",
       "  </thead>\n",
       "  <tbody>\n",
       "    <tr>\n",
       "      <th>Data group: 1</th>\n",
       "      <td>1.277 +/- 0.127</td>\n",
       "      <td>10.0</td>\n",
       "      <td>10000.0</td>\n",
       "      <td>-4.185 +/- 0.03</td>\n",
       "      <td>-0.186 +/- 0.073</td>\n",
       "      <td>-3.446 +/- 0.513</td>\n",
       "      <td>922.399 +/- 58.244</td>\n",
       "      <td>100.0</td>\n",
       "      <td>1.0</td>\n",
       "    </tr>\n",
       "    <tr>\n",
       "      <th>Data group: 2</th>\n",
       "      <td>1.0</td>\n",
       "      <td>10.0</td>\n",
       "      <td>10000.0</td>\n",
       "      <td>-4.185</td>\n",
       "      <td>-0.186</td>\n",
       "      <td>-3.446</td>\n",
       "      <td>922.399</td>\n",
       "      <td>100.0</td>\n",
       "      <td>1.0</td>\n",
       "    </tr>\n",
       "    <tr>\n",
       "      <th>Data group: 3</th>\n",
       "      <td>1.315 +/- 0.083</td>\n",
       "      <td>10.0</td>\n",
       "      <td>10000.0</td>\n",
       "      <td>-4.185</td>\n",
       "      <td>-0.186</td>\n",
       "      <td>-3.446</td>\n",
       "      <td>922.399</td>\n",
       "      <td>100.0</td>\n",
       "      <td>1.0</td>\n",
       "    </tr>\n",
       "    <tr>\n",
       "      <th>Data group: 4</th>\n",
       "      <td>1.395 +/- 0.093</td>\n",
       "      <td>10.0</td>\n",
       "      <td>10000.0</td>\n",
       "      <td>-4.185</td>\n",
       "      <td>-0.186</td>\n",
       "      <td>-3.446</td>\n",
       "      <td>922.399</td>\n",
       "      <td>100.0</td>\n",
       "      <td>1.0</td>\n",
       "    </tr>\n",
       "  </tbody>\n",
       "</table>\n",
       "</div>"
      ],
      "text/plain": [
       "              factor [constant] cflux [Emin] cflux [Emax] cflux [lg10Flux]  \\\n",
       "Data group: 1   1.277 +/- 0.127         10.0      10000.0  -4.185 +/- 0.03   \n",
       "Data group: 2               1.0         10.0      10000.0           -4.185   \n",
       "Data group: 3   1.315 +/- 0.083         10.0      10000.0           -4.185   \n",
       "Data group: 4   1.395 +/- 0.093         10.0      10000.0           -4.185   \n",
       "\n",
       "                 ngrbep [alpha]     ngrbep [beta]      ngrbep [epeak]  \\\n",
       "Data group: 1  -0.186 +/- 0.073  -3.446 +/- 0.513  922.399 +/- 58.244   \n",
       "Data group: 2            -0.186            -3.446             922.399   \n",
       "Data group: 3            -0.186            -3.446             922.399   \n",
       "Data group: 4            -0.186            -3.446             922.399   \n",
       "\n",
       "              ngrbep [enorm] ngrbep [norm]  \n",
       "Data group: 1          100.0           1.0  \n",
       "Data group: 2          100.0           1.0  \n",
       "Data group: 3          100.0           1.0  \n",
       "Data group: 4          100.0           1.0  "
      ]
     },
     "execution_count": 477,
     "metadata": {},
     "output_type": "execute_result"
    }
   ],
   "source": [
    "df"
   ]
  },
  {
   "cell_type": "code",
   "execution_count": 342,
   "id": "6d3797bd-939c-4ddb-a882-7f4a0734aa76",
   "metadata": {},
   "outputs": [],
   "source": [
    "def df_toLatex(df=None):\n",
    "    import pandas as pd\n",
    "    \n",
    "    if type(df) != pd.core.frame.DataFrame:\n",
    "        return print('input df not correct format')\n",
    "    else:\n",
    "        print(df.T.style.to_latex(position_float='centering',position='h!',hrules=True,multirow_align='c'))"
   ]
  },
  {
   "cell_type": "code",
   "execution_count": 504,
   "id": "94b3e137-7466-460b-b72c-3419c5c3faab",
   "metadata": {},
   "outputs": [
    {
     "data": {
      "text/html": [
       "<div>\n",
       "<style scoped>\n",
       "    .dataframe tbody tr th:only-of-type {\n",
       "        vertical-align: middle;\n",
       "    }\n",
       "\n",
       "    .dataframe tbody tr th {\n",
       "        vertical-align: top;\n",
       "    }\n",
       "\n",
       "    .dataframe thead th {\n",
       "        text-align: right;\n",
       "    }\n",
       "</style>\n",
       "<table border=\"1\" class=\"dataframe\">\n",
       "  <thead>\n",
       "    <tr style=\"text-align: right;\">\n",
       "      <th></th>\n",
       "      <th>Data group: 1</th>\n",
       "      <th>Data group: 2</th>\n",
       "      <th>Data group: 3</th>\n",
       "      <th>Data group: 4</th>\n",
       "    </tr>\n",
       "  </thead>\n",
       "  <tbody>\n",
       "    <tr>\n",
       "      <th>factor [constant]</th>\n",
       "      <td>1.277 +/- 0.127</td>\n",
       "      <td>1.0</td>\n",
       "      <td>1.315 +/- 0.083</td>\n",
       "      <td>1.395 +/- 0.093</td>\n",
       "    </tr>\n",
       "    <tr>\n",
       "      <th>cflux [Emin]</th>\n",
       "      <td>10.0</td>\n",
       "      <td>10.0</td>\n",
       "      <td>10.0</td>\n",
       "      <td>10.0</td>\n",
       "    </tr>\n",
       "    <tr>\n",
       "      <th>cflux [Emax]</th>\n",
       "      <td>10000.0</td>\n",
       "      <td>10000.0</td>\n",
       "      <td>10000.0</td>\n",
       "      <td>10000.0</td>\n",
       "    </tr>\n",
       "    <tr>\n",
       "      <th>cflux [lg10Flux]</th>\n",
       "      <td>-4.185 +/- 0.03</td>\n",
       "      <td>-4.185</td>\n",
       "      <td>-4.185</td>\n",
       "      <td>-4.185</td>\n",
       "    </tr>\n",
       "    <tr>\n",
       "      <th>ngrbep [alpha]</th>\n",
       "      <td>-0.186 +/- 0.073</td>\n",
       "      <td>-0.186</td>\n",
       "      <td>-0.186</td>\n",
       "      <td>-0.186</td>\n",
       "    </tr>\n",
       "    <tr>\n",
       "      <th>ngrbep [beta]</th>\n",
       "      <td>-3.446 +/- 0.513</td>\n",
       "      <td>-3.446</td>\n",
       "      <td>-3.446</td>\n",
       "      <td>-3.446</td>\n",
       "    </tr>\n",
       "    <tr>\n",
       "      <th>ngrbep [epeak]</th>\n",
       "      <td>922.399 +/- 58.244</td>\n",
       "      <td>922.399</td>\n",
       "      <td>922.399</td>\n",
       "      <td>922.399</td>\n",
       "    </tr>\n",
       "    <tr>\n",
       "      <th>ngrbep [enorm]</th>\n",
       "      <td>100.0</td>\n",
       "      <td>100.0</td>\n",
       "      <td>100.0</td>\n",
       "      <td>100.0</td>\n",
       "    </tr>\n",
       "    <tr>\n",
       "      <th>ngrbep [norm]</th>\n",
       "      <td>1.0</td>\n",
       "      <td>1.0</td>\n",
       "      <td>1.0</td>\n",
       "      <td>1.0</td>\n",
       "    </tr>\n",
       "  </tbody>\n",
       "</table>\n",
       "</div>"
      ],
      "text/plain": [
       "                        Data group: 1 Data group: 2    Data group: 3  \\\n",
       "factor [constant]     1.277 +/- 0.127           1.0  1.315 +/- 0.083   \n",
       "cflux [Emin]                     10.0          10.0             10.0   \n",
       "cflux [Emax]                  10000.0       10000.0          10000.0   \n",
       "cflux [lg10Flux]      -4.185 +/- 0.03        -4.185           -4.185   \n",
       "ngrbep [alpha]       -0.186 +/- 0.073        -0.186           -0.186   \n",
       "ngrbep [beta]        -3.446 +/- 0.513        -3.446           -3.446   \n",
       "ngrbep [epeak]     922.399 +/- 58.244       922.399          922.399   \n",
       "ngrbep [enorm]                  100.0         100.0            100.0   \n",
       "ngrbep [norm]                     1.0           1.0              1.0   \n",
       "\n",
       "                     Data group: 4  \n",
       "factor [constant]  1.395 +/- 0.093  \n",
       "cflux [Emin]                  10.0  \n",
       "cflux [Emax]               10000.0  \n",
       "cflux [lg10Flux]            -4.185  \n",
       "ngrbep [alpha]              -0.186  \n",
       "ngrbep [beta]               -3.446  \n",
       "ngrbep [epeak]             922.399  \n",
       "ngrbep [enorm]               100.0  \n",
       "ngrbep [norm]                  1.0  "
      ]
     },
     "execution_count": 504,
     "metadata": {},
     "output_type": "execute_result"
    }
   ],
   "source": [
    "df.T"
   ]
  },
  {
   "cell_type": "code",
   "execution_count": 506,
   "id": "3eb0d62d-662f-4ef9-b1e4-65f01f459bd3",
   "metadata": {},
   "outputs": [
    {
     "name": "stdout",
     "output_type": "stream",
     "text": [
      "\\begin{table}[h!]\n",
      "\\centering\n",
      "\\begin{tabular}{lllll}\n",
      "\\toprule\n",
      " & Data group: 1 & Data group: 2 & Data group: 3 & Data group: 4 \\\\\n",
      "\\midrule\n",
      "factor [constant] & 1.277 +/- 0.127 & 1.0 & 1.315 +/- 0.083 & 1.395 +/- 0.093 \\\\\n",
      "cflux [Emin] & 10.0 & 10.0 & 10.0 & 10.0 \\\\\n",
      "cflux [Emax] & 10000.0 & 10000.0 & 10000.0 & 10000.0 \\\\\n",
      "cflux [lg10Flux] & -4.185 +/- 0.03 & -4.185 & -4.185 & -4.185 \\\\\n",
      "ngrbep [alpha] & -0.186 +/- 0.073 & -0.186 & -0.186 & -0.186 \\\\\n",
      "ngrbep [beta] & -3.446 +/- 0.513 & -3.446 & -3.446 & -3.446 \\\\\n",
      "ngrbep [epeak] & 922.399 +/- 58.244 & 922.399 & 922.399 & 922.399 \\\\\n",
      "ngrbep [enorm] & 100.0 & 100.0 & 100.0 & 100.0 \\\\\n",
      "ngrbep [norm] & 1.0 & 1.0 & 1.0 & 1.0 \\\\\n",
      "\\bottomrule\n",
      "\\end{tabular}\n",
      "\\end{table}\n",
      "\n"
     ]
    }
   ],
   "source": [
    "df_toLatex(df=df) #still the same problem of having the same row for all columns"
   ]
  },
  {
   "cell_type": "markdown",
   "id": "2ca9b08b-b242-47c3-a497-5b00e76c1bc8",
   "metadata": {},
   "source": [
    "# Statistics"
   ]
  },
  {
   "cell_type": "code",
   "execution_count": 704,
   "id": "98755513-b11e-468b-8a54-f50d5b8615e7",
   "metadata": {},
   "outputs": [
    {
     "name": "stdout",
     "output_type": "stream",
     "text": [
      "All parameters calculated for error 1.\n",
      "Reached end of error 2.706\n",
      "Not all parameters calculated for error 2.706\n"
     ]
    }
   ],
   "source": [
    "def get_statistics(log_lines=None):\n",
    "    #TODO: Read the lines and find where the statistics is given\n",
    "    #Want Total fit statistics, null hypothesis\n",
    "    for i,l in enumerate(log_lines):\n",
    "        line = l.strip()\n",
    "        if 'Total fit statistic' in line:\n",
    "            temp_totStatistic = line.replace('#','').split()\n",
    "            totStatistic = ' '.join(temp_totStatistic)\n",
    "            \n",
    "        #TODO: get the errors in the same loop, so i don't have to run it twice    \n",
    "        elif '!XSPEC12>error 1.' in line:\n",
    "            err_command = line[17:].split() \n",
    "            N_parameters = get_Nerr_parameters(err_command)\n",
    "            err1_lines = log_lines[i+2:i+2+N_parameters]\n",
    "            #Now read the following N_parameter lines \n",
    "            dict_err1 = {'Parameter':[], 'Confidence Range (1)':[]}\n",
    "\n",
    "            for l in err1_lines:\n",
    "                #TODO: check if the line is valid\n",
    "                l = clean_line(l)\n",
    "                if '***Warning' in l or len(l)==0:\n",
    "                    print('Reached end of error 1.')\n",
    "                    break\n",
    "                else:\n",
    "                    dict_err1['Parameter'].append(clean_line(l).split()[0])\n",
    "                    dict_err1['Confidence Range (1)'].append('    '.join(clean_line(l).split()[1:]))\n",
    "            df_err1 = pd.DataFrame(dict_err1)\n",
    "            if len(dict_err1['Parameter']) != N_parameters:\n",
    "                print('Not all parameters calculated for error 1.')\n",
    "            else:\n",
    "                print('All parameters calculated for error 1.')\n",
    "                \n",
    "        elif '!XSPEC12>error 2.706' in line:\n",
    "            err_command = line[21:].split() \n",
    "            N_parameters = get_Nerr_parameters(err_command)\n",
    "            err2_lines = log_lines[i+2:i+2+N_parameters]\n",
    "            #Now read the following N_parameter lines \n",
    "            dict_err2 = {'Parameter':[], 'Confidence Range (2.706)':[]}\n",
    "\n",
    "            for l in err2_lines:\n",
    "                #TODO: check if the line is valid\n",
    "                l = clean_line(l)\n",
    "                if '***Warning' in l or len(l)==0:\n",
    "                    print('Reached end of error 2.706')\n",
    "                    break\n",
    "                else:\n",
    "                    dict_err2['Parameter'].append(clean_line(l).split()[0])\n",
    "                    dict_err2['Confidence Range (2.706)'].append('    '.join(clean_line(l).split()[1:]))\n",
    "                    \n",
    "            df_err2 = pd.DataFrame(dict_err2)\n",
    "            if len(dict_err2['Parameter']) != N_parameters:\n",
    "                print('Not all parameters calculated for error 2.706')\n",
    "            else:\n",
    "                print('All parameters calculated for error 2.706')\n",
    "    \n",
    "    return totStatistic,df_err1,df_err2\n",
    "totStatistic,df_err1,df_err2 = get_statistics(log_lines=logLines)\n"
   ]
  },
  {
   "cell_type": "code",
   "execution_count": 705,
   "id": "00e5105c-adb2-4cbe-8177-11bfe4d553ce",
   "metadata": {},
   "outputs": [
    {
     "data": {
      "text/plain": [
       "'Total fit statistic 88.54 with 87 d.o.f.'"
      ]
     },
     "execution_count": 705,
     "metadata": {},
     "output_type": "execute_result"
    }
   ],
   "source": [
    "totStatistic"
   ]
  },
  {
   "cell_type": "code",
   "execution_count": 706,
   "id": "edf326f4-1f4a-47aa-9b1b-e32800cba6ac",
   "metadata": {},
   "outputs": [
    {
     "data": {
      "text/html": [
       "<div>\n",
       "<style scoped>\n",
       "    .dataframe tbody tr th:only-of-type {\n",
       "        vertical-align: middle;\n",
       "    }\n",
       "\n",
       "    .dataframe tbody tr th {\n",
       "        vertical-align: top;\n",
       "    }\n",
       "\n",
       "    .dataframe thead th {\n",
       "        text-align: right;\n",
       "    }\n",
       "</style>\n",
       "<table border=\"1\" class=\"dataframe\">\n",
       "  <thead>\n",
       "    <tr style=\"text-align: right;\">\n",
       "      <th></th>\n",
       "      <th>Parameter</th>\n",
       "      <th>Confidence Range (1)</th>\n",
       "    </tr>\n",
       "  </thead>\n",
       "  <tbody>\n",
       "    <tr>\n",
       "      <th>0</th>\n",
       "      <td>1</td>\n",
       "      <td>1.15486    1.41086    (-0.122507,0.133494)</td>\n",
       "    </tr>\n",
       "    <tr>\n",
       "      <th>1</th>\n",
       "      <td>19</td>\n",
       "      <td>1.23494    1.40194    (-0.0801467,0.0868618)</td>\n",
       "    </tr>\n",
       "    <tr>\n",
       "      <th>2</th>\n",
       "      <td>28</td>\n",
       "      <td>1.30668    1.49112    (-0.0885832,0.0958577)</td>\n",
       "    </tr>\n",
       "    <tr>\n",
       "      <th>3</th>\n",
       "      <td>4</td>\n",
       "      <td>-4.21571    -4.1526    (-0.0305203,0.0325901)</td>\n",
       "    </tr>\n",
       "    <tr>\n",
       "      <th>4</th>\n",
       "      <td>5</td>\n",
       "      <td>-0.255639    -0.106621    (-0.0697578,0.07926)</td>\n",
       "    </tr>\n",
       "    <tr>\n",
       "      <th>5</th>\n",
       "      <td>6</td>\n",
       "      <td>-4.22559    -3.03039    (-0.779171,0.416028)</td>\n",
       "    </tr>\n",
       "    <tr>\n",
       "      <th>6</th>\n",
       "      <td>7</td>\n",
       "      <td>860.555    984.489    (-61.8521,62.0822)</td>\n",
       "    </tr>\n",
       "  </tbody>\n",
       "</table>\n",
       "</div>"
      ],
      "text/plain": [
       "  Parameter                            Confidence Range (1)\n",
       "0         1      1.15486    1.41086    (-0.122507,0.133494)\n",
       "1        19    1.23494    1.40194    (-0.0801467,0.0868618)\n",
       "2        28    1.30668    1.49112    (-0.0885832,0.0958577)\n",
       "3         4   -4.21571    -4.1526    (-0.0305203,0.0325901)\n",
       "4         5  -0.255639    -0.106621    (-0.0697578,0.07926)\n",
       "5         6    -4.22559    -3.03039    (-0.779171,0.416028)\n",
       "6         7        860.555    984.489    (-61.8521,62.0822)"
      ]
     },
     "execution_count": 706,
     "metadata": {},
     "output_type": "execute_result"
    }
   ],
   "source": [
    "df_err1"
   ]
  },
  {
   "cell_type": "code",
   "execution_count": 707,
   "id": "a76f83bc-3c6f-4ab4-acdb-c6bc3fd652f4",
   "metadata": {},
   "outputs": [
    {
     "data": {
      "text/html": [
       "<div>\n",
       "<style scoped>\n",
       "    .dataframe tbody tr th:only-of-type {\n",
       "        vertical-align: middle;\n",
       "    }\n",
       "\n",
       "    .dataframe tbody tr th {\n",
       "        vertical-align: top;\n",
       "    }\n",
       "\n",
       "    .dataframe thead th {\n",
       "        text-align: right;\n",
       "    }\n",
       "</style>\n",
       "<table border=\"1\" class=\"dataframe\">\n",
       "  <thead>\n",
       "    <tr style=\"text-align: right;\">\n",
       "      <th></th>\n",
       "      <th>Parameter</th>\n",
       "      <th>Confidence Range (2.706)</th>\n",
       "    </tr>\n",
       "  </thead>\n",
       "  <tbody>\n",
       "    <tr>\n",
       "      <th>0</th>\n",
       "      <td>1</td>\n",
       "      <td>1.08093    1.50359    (-0.196433,0.226221)</td>\n",
       "    </tr>\n",
       "    <tr>\n",
       "      <th>1</th>\n",
       "      <td>19</td>\n",
       "      <td>1.18599    1.46183    (-0.129095,0.146752)</td>\n",
       "    </tr>\n",
       "    <tr>\n",
       "      <th>2</th>\n",
       "      <td>28</td>\n",
       "      <td>1.25263    1.5575    (-0.142635,0.162233)</td>\n",
       "    </tr>\n",
       "    <tr>\n",
       "      <th>3</th>\n",
       "      <td>4</td>\n",
       "      <td>-4.23552    -4.1351    (-0.0503282,0.0500879)</td>\n",
       "    </tr>\n",
       "    <tr>\n",
       "      <th>4</th>\n",
       "      <td>5</td>\n",
       "      <td>-0.296555    -0.058995    (-0.110671,0.126889)</td>\n",
       "    </tr>\n",
       "  </tbody>\n",
       "</table>\n",
       "</div>"
      ],
      "text/plain": [
       "  Parameter                        Confidence Range (2.706)\n",
       "0         1      1.08093    1.50359    (-0.196433,0.226221)\n",
       "1        19      1.18599    1.46183    (-0.129095,0.146752)\n",
       "2        28       1.25263    1.5575    (-0.142635,0.162233)\n",
       "3         4   -4.23552    -4.1351    (-0.0503282,0.0500879)\n",
       "4         5  -0.296555    -0.058995    (-0.110671,0.126889)"
      ]
     },
     "execution_count": 707,
     "metadata": {},
     "output_type": "execute_result"
    }
   ],
   "source": [
    "df_err2"
   ]
  },
  {
   "cell_type": "code",
   "execution_count": 709,
   "id": "b952f807-103b-4ed7-a2f8-235aa3db0635",
   "metadata": {},
   "outputs": [
    {
     "data": {
      "text/html": [
       "<div>\n",
       "<style scoped>\n",
       "    .dataframe tbody tr th:only-of-type {\n",
       "        vertical-align: middle;\n",
       "    }\n",
       "\n",
       "    .dataframe tbody tr th {\n",
       "        vertical-align: top;\n",
       "    }\n",
       "\n",
       "    .dataframe thead th {\n",
       "        text-align: right;\n",
       "    }\n",
       "</style>\n",
       "<table border=\"1\" class=\"dataframe\">\n",
       "  <thead>\n",
       "    <tr style=\"text-align: right;\">\n",
       "      <th></th>\n",
       "      <th>Data group: 1</th>\n",
       "      <th>Data group: 2</th>\n",
       "      <th>Data group: 3</th>\n",
       "      <th>Data group: 4</th>\n",
       "    </tr>\n",
       "  </thead>\n",
       "  <tbody>\n",
       "    <tr>\n",
       "      <th>factor [constant]</th>\n",
       "      <td>1.277 +/- 0.127</td>\n",
       "      <td>1.0</td>\n",
       "      <td>1.315 +/- 0.083</td>\n",
       "      <td>1.395 +/- 0.093</td>\n",
       "    </tr>\n",
       "    <tr>\n",
       "      <th>cflux [Emin]</th>\n",
       "      <td>10.0</td>\n",
       "      <td>10.0</td>\n",
       "      <td>10.0</td>\n",
       "      <td>10.0</td>\n",
       "    </tr>\n",
       "    <tr>\n",
       "      <th>cflux [Emax]</th>\n",
       "      <td>10000.0</td>\n",
       "      <td>10000.0</td>\n",
       "      <td>10000.0</td>\n",
       "      <td>10000.0</td>\n",
       "    </tr>\n",
       "    <tr>\n",
       "      <th>cflux [lg10Flux]</th>\n",
       "      <td>-4.185 +/- 0.03</td>\n",
       "      <td>-4.185</td>\n",
       "      <td>-4.185</td>\n",
       "      <td>-4.185</td>\n",
       "    </tr>\n",
       "    <tr>\n",
       "      <th>ngrbep [alpha]</th>\n",
       "      <td>-0.186 +/- 0.073</td>\n",
       "      <td>-0.186</td>\n",
       "      <td>-0.186</td>\n",
       "      <td>-0.186</td>\n",
       "    </tr>\n",
       "    <tr>\n",
       "      <th>ngrbep [beta]</th>\n",
       "      <td>-3.446 +/- 0.513</td>\n",
       "      <td>-3.446</td>\n",
       "      <td>-3.446</td>\n",
       "      <td>-3.446</td>\n",
       "    </tr>\n",
       "    <tr>\n",
       "      <th>ngrbep [epeak]</th>\n",
       "      <td>922.399 +/- 58.244</td>\n",
       "      <td>922.399</td>\n",
       "      <td>922.399</td>\n",
       "      <td>922.399</td>\n",
       "    </tr>\n",
       "    <tr>\n",
       "      <th>ngrbep [enorm]</th>\n",
       "      <td>100.0</td>\n",
       "      <td>100.0</td>\n",
       "      <td>100.0</td>\n",
       "      <td>100.0</td>\n",
       "    </tr>\n",
       "    <tr>\n",
       "      <th>ngrbep [norm]</th>\n",
       "      <td>1.0</td>\n",
       "      <td>1.0</td>\n",
       "      <td>1.0</td>\n",
       "      <td>1.0</td>\n",
       "    </tr>\n",
       "  </tbody>\n",
       "</table>\n",
       "</div>"
      ],
      "text/plain": [
       "                        Data group: 1 Data group: 2    Data group: 3  \\\n",
       "factor [constant]     1.277 +/- 0.127           1.0  1.315 +/- 0.083   \n",
       "cflux [Emin]                     10.0          10.0             10.0   \n",
       "cflux [Emax]                  10000.0       10000.0          10000.0   \n",
       "cflux [lg10Flux]      -4.185 +/- 0.03        -4.185           -4.185   \n",
       "ngrbep [alpha]       -0.186 +/- 0.073        -0.186           -0.186   \n",
       "ngrbep [beta]        -3.446 +/- 0.513        -3.446           -3.446   \n",
       "ngrbep [epeak]     922.399 +/- 58.244       922.399          922.399   \n",
       "ngrbep [enorm]                  100.0         100.0            100.0   \n",
       "ngrbep [norm]                     1.0           1.0              1.0   \n",
       "\n",
       "                     Data group: 4  \n",
       "factor [constant]  1.395 +/- 0.093  \n",
       "cflux [Emin]                  10.0  \n",
       "cflux [Emax]               10000.0  \n",
       "cflux [lg10Flux]            -4.185  \n",
       "ngrbep [alpha]              -0.186  \n",
       "ngrbep [beta]               -3.446  \n",
       "ngrbep [epeak]             922.399  \n",
       "ngrbep [enorm]               100.0  \n",
       "ngrbep [norm]                  1.0  "
      ]
     },
     "execution_count": 709,
     "metadata": {},
     "output_type": "execute_result"
    }
   ],
   "source": [
    "df.T "
   ]
  },
  {
   "cell_type": "code",
   "execution_count": null,
   "id": "38abcec2-4594-452e-98b4-57367e42796b",
   "metadata": {},
   "outputs": [],
   "source": [
    "#TODO: Excract the par number and insert new column "
   ]
  },
  {
   "cell_type": "markdown",
   "id": "c7fe562c-378f-4b18-aa9e-3bba33106dd0",
   "metadata": {},
   "source": [
    "### error 1. example"
   ]
  },
  {
   "cell_type": "code",
   "execution_count": 693,
   "id": "78b8e995-eeba-4af6-a5e9-06ea25d12685",
   "metadata": {},
   "outputs": [
    {
     "name": "stdout",
     "output_type": "stream",
     "text": [
      "Reached end of error lines\n"
     ]
    },
    {
     "data": {
      "text/html": [
       "<div>\n",
       "<style scoped>\n",
       "    .dataframe tbody tr th:only-of-type {\n",
       "        vertical-align: middle;\n",
       "    }\n",
       "\n",
       "    .dataframe tbody tr th {\n",
       "        vertical-align: top;\n",
       "    }\n",
       "\n",
       "    .dataframe thead th {\n",
       "        text-align: right;\n",
       "    }\n",
       "</style>\n",
       "<table border=\"1\" class=\"dataframe\">\n",
       "  <thead>\n",
       "    <tr style=\"text-align: right;\">\n",
       "      <th></th>\n",
       "      <th>Parameter</th>\n",
       "      <th>Confidence Range (1)</th>\n",
       "    </tr>\n",
       "  </thead>\n",
       "  <tbody>\n",
       "    <tr>\n",
       "      <th>0</th>\n",
       "      <td>!XSPEC12&gt;error</td>\n",
       "      <td>2.706    1,    19,    28,    4-7</td>\n",
       "    </tr>\n",
       "    <tr>\n",
       "      <th>1</th>\n",
       "      <td>Parameter</td>\n",
       "      <td>Confidence    Range    (2.706)</td>\n",
       "    </tr>\n",
       "    <tr>\n",
       "      <th>2</th>\n",
       "      <td>1</td>\n",
       "      <td>1.08093    1.50359    (-0.196433,0.226221)</td>\n",
       "    </tr>\n",
       "    <tr>\n",
       "      <th>3</th>\n",
       "      <td>19</td>\n",
       "      <td>1.18599    1.46183    (-0.129095,0.146752)</td>\n",
       "    </tr>\n",
       "    <tr>\n",
       "      <th>4</th>\n",
       "      <td>28</td>\n",
       "      <td>1.25263    1.5575    (-0.142635,0.162233)</td>\n",
       "    </tr>\n",
       "    <tr>\n",
       "      <th>5</th>\n",
       "      <td>4</td>\n",
       "      <td>-4.23552    -4.1351    (-0.0503282,0.0500879)</td>\n",
       "    </tr>\n",
       "    <tr>\n",
       "      <th>6</th>\n",
       "      <td>5</td>\n",
       "      <td>-0.296555    -0.058995    (-0.110671,0.126889)</td>\n",
       "    </tr>\n",
       "  </tbody>\n",
       "</table>\n",
       "</div>"
      ],
      "text/plain": [
       "        Parameter                            Confidence Range (1)\n",
       "0  !XSPEC12>error                2.706    1,    19,    28,    4-7\n",
       "1       Parameter                  Confidence    Range    (2.706)\n",
       "2               1      1.08093    1.50359    (-0.196433,0.226221)\n",
       "3              19      1.18599    1.46183    (-0.129095,0.146752)\n",
       "4              28       1.25263    1.5575    (-0.142635,0.162233)\n",
       "5               4   -4.23552    -4.1351    (-0.0503282,0.0500879)\n",
       "6               5  -0.296555    -0.058995    (-0.110671,0.126889)"
      ]
     },
     "execution_count": 693,
     "metadata": {},
     "output_type": "execute_result"
    }
   ],
   "source": [
    "err1_lines = [ '!XSPEC12>error 2.706 1, 19, 28, 4-7\\n',\n",
    " '# Parameter   Confidence Range (2.706)\\n',\n",
    " '#     1      1.08093      1.50359    (-0.196433,0.226221)\\n',\n",
    " '#    19      1.18599      1.46183    (-0.129095,0.146752)\\n',\n",
    " '#    28      1.25263       1.5575    (-0.142635,0.162233)\\n',\n",
    " '#     4     -4.23552      -4.1351    (-0.0503282,0.0500879)\\n',\n",
    " '#     5    -0.296555    -0.058995    (-0.110671,0.126889)\\n',\n",
    " '#\\n',\n",
    " '#***Warning: Number of trials exceeded before bracketing of delta fit-stat.\\n']\n",
    "#Now read the following N_parameter lines \n",
    "dict_err1 = {'Parameter':[],\n",
    "            'Confidence Range (1)':[]}\n",
    "\n",
    "for l in err1_lines:\n",
    "    #TODO: check if the line is valid\n",
    "    l = clean_line(l)\n",
    "    if '***Warning' in l or len(l)==0:\n",
    "        print('Reached end of error lines')\n",
    "        break\n",
    "    else:\n",
    "        dict_err1['Parameter'].append(clean_line(l).split()[0])\n",
    "        dict_err1['Confidence Range (1)'].append('    '.join(clean_line(l).split()[1:]))\n",
    "df_err1 = pd.DataFrame(dict_err1)\n",
    "df_err1"
   ]
  },
  {
   "cell_type": "code",
   "execution_count": 680,
   "id": "4297eebf-32e2-47ed-9bd2-cdc9621ae96a",
   "metadata": {},
   "outputs": [],
   "source": [
    "def clean_line(line=None):\n",
    "    l = line.replace('#','').strip()\n",
    "    return l.replace('\\n','')"
   ]
  },
  {
   "cell_type": "code",
   "execution_count": 585,
   "id": "ab145d30-8a19-4390-be33-34a4e1d3a8d5",
   "metadata": {},
   "outputs": [],
   "source": [
    "def get_Nerr_parameters(err_command):\n",
    "    '''function for calculating how many parameters the err_command asks to calculate'''\n",
    "    \n",
    "    i=0\n",
    "    for x in err_command:\n",
    "        if '-' not in x:\n",
    "            try:\n",
    "                int(x.replace(',',''))\n",
    "                i += 1\n",
    "            except ValueError:\n",
    "                print('parameter not defined correctly in error command', x)\n",
    "        else:\n",
    "            try:\n",
    "                err_series = x.split('-')\n",
    "                n_par_series = int(err_series[-1])-int(err_series[0])+1 #+1 because last index is included\n",
    "                i += n_par_series\n",
    "            except ValueError:\n",
    "                print('parameter not defined correctly in error command', x)\n",
    "    return i"
   ]
  },
  {
   "cell_type": "code",
   "execution_count": null,
   "id": "aa858d4b-2273-4cef-82a8-864351474d0e",
   "metadata": {},
   "outputs": [],
   "source": []
  },
  {
   "cell_type": "code",
   "execution_count": null,
   "id": "c82a6d93-b9c2-4974-9a42-9b0fa825ede3",
   "metadata": {},
   "outputs": [],
   "source": []
  },
  {
   "cell_type": "code",
   "execution_count": null,
   "id": "e344063e-bccc-4b84-95f6-3bc425335cb3",
   "metadata": {},
   "outputs": [],
   "source": []
  },
  {
   "cell_type": "code",
   "execution_count": null,
   "id": "f2a4d477-500a-49e1-a0bd-171719295e94",
   "metadata": {},
   "outputs": [],
   "source": []
  },
  {
   "cell_type": "code",
   "execution_count": 550,
   "id": "b2ea3f2f-caf3-4c0d-825a-a4922f868925",
   "metadata": {},
   "outputs": [],
   "source": [
    "#TOREAD: Find Satoshi paper for how to format table containing parameters"
   ]
  },
  {
   "cell_type": "code",
   "execution_count": 302,
   "id": "5fff7a63-3100-482e-b9b5-d9e1c72ccc1c",
   "metadata": {},
   "outputs": [],
   "source": [
    "#see this doc for formatting the table further\n",
    "# https://pandas.pydata.org/docs/reference/api/pandas.io.formats.style.Styler.format.html#pandas.io.formats.style.Styler.format \n"
   ]
  }
 ],
 "metadata": {
  "kernelspec": {
   "display_name": "base",
   "language": "python",
   "name": "base"
  },
  "language_info": {
   "codemirror_mode": {
    "name": "ipython",
    "version": 3
   },
   "file_extension": ".py",
   "mimetype": "text/x-python",
   "name": "python",
   "nbconvert_exporter": "python",
   "pygments_lexer": "ipython3",
   "version": "3.9.7"
  }
 },
 "nbformat": 4,
 "nbformat_minor": 5
}
