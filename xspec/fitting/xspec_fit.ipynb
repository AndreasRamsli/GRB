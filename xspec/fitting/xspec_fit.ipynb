{
 "cells": [
  {
   "cell_type": "code",
   "execution_count": 22,
   "id": "33ad6d30-a6aa-4837-980b-7ee5e07e1790",
   "metadata": {},
   "outputs": [],
   "source": [
    "#There are three burst where not all detectors are on\n",
    "#modify the fitting script by hand, since the data grouping will be different\n",
    "\n",
    "def fit_script(HEDfname=None,KW1fname=None,KW2fname=None,GBMn1fname=None,GBMn2fname=None,GBMb1fname=None,outfname=None):\n",
    "    \n",
    "    fnames = [HEDfname,KW1fname,KW2fname,GBMn1fname,GBMn2fname,GBMb1fname,outfname]\n",
    "    if all(isinstance(fname, str) for fname in fnames) == False:\n",
    "        return(print(\"input must be string\"))\n",
    "    \n",
    "    with open('fitting.xcm',\"r\") as f:\n",
    "        lines = f.readlines() #198 lines of code\n",
    "        for i in np.arange(0,len(lines)):\n",
    "            lines[i] = lines[i].replace(\"HED_PHA_1.fits\",HEDfname)\n",
    "            lines[i] = lines[i].replace(\"KW201227_1_gr20.pha\",KW1fname)\n",
    "            lines[i] = lines[i].replace(\"KW201227_2_gr20.pha\",KW2fname)\n",
    "            lines[i] = lines[i].replace(\"GRB201227A_n4_gr20.pha\",GBMn1fname)\n",
    "            lines[i] = lines[i].replace(\"GRB201227A_n8_gr20.pha\",GBMn2fname)\n",
    "            lines[i] = lines[i].replace(\"GRB201227A_b0_gr20.pha\",GBMb1fname)\n",
    "            \n",
    "    with open(outfname+\".xcm\",\"w\") as out:\n",
    "        for line in lines:\n",
    "            out.write(line)"
   ]
  },
  {
   "cell_type": "code",
   "execution_count": 59,
   "id": "5824c40e-21bb-4c3a-9328-ff3a3fe86245",
   "metadata": {},
   "outputs": [],
   "source": [
    "fit_script(HEDfname=\"bla\",KW1fname=\"blaa\",KW2fname=\"blaaa\",GBMn1fname=\"la\",GBMn2fname=\"laa\",GBMb1fname=\"laaa\",outfname=\"fooo\")"
   ]
  },
  {
   "cell_type": "code",
   "execution_count": null,
   "id": "ef15400b-6768-4c32-a7b6-54cce4bb9192",
   "metadata": {},
   "outputs": [],
   "source": []
  }
 ],
 "metadata": {
  "kernelspec": {
   "display_name": "base",
   "language": "python",
   "name": "base"
  },
  "language_info": {
   "codemirror_mode": {
    "name": "ipython",
    "version": 3
   },
   "file_extension": ".py",
   "mimetype": "text/x-python",
   "name": "python",
   "nbconvert_exporter": "python",
   "pygments_lexer": "ipython3",
   "version": "3.9.13"
  }
 },
 "nbformat": 4,
 "nbformat_minor": 5
}
