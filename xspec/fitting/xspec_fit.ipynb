{
 "cells": [
  {
   "cell_type": "markdown",
   "id": "f308afbc-c7cc-4804-abde-02b3314b2ecc",
   "metadata": {},
   "source": [
    "# imports"
   ]
  },
  {
   "cell_type": "code",
   "execution_count": 24,
   "id": "fca2128c-aa03-4e0a-900d-92f906646460",
   "metadata": {},
   "outputs": [],
   "source": [
    "import numpy as np\n",
    "import pandas as pd"
   ]
  },
  {
   "cell_type": "markdown",
   "id": "fe679837-d8d4-4884-b973-efb7505fe2b2",
   "metadata": {},
   "source": [
    "# Generate new fitting script from template"
   ]
  },
  {
   "cell_type": "code",
   "execution_count": 22,
   "id": "33ad6d30-a6aa-4837-980b-7ee5e07e1790",
   "metadata": {},
   "outputs": [],
   "source": [
    "#There are three burst where not all detectors are on\n",
    "#modify the fitting script by hand, since the data grouping will be different\n",
    "\n",
    "def fit_script(HEDfname=None,KW1fname=None,KW2fname=None,GBMn1fname=None,GBMn2fname=None,GBMb1fname=None,outfname=None):\n",
    "    \n",
    "    fnames = [HEDfname,KW1fname,KW2fname,GBMn1fname,GBMn2fname,GBMb1fname,outfname]\n",
    "    if all(isinstance(fname, str) for fname in fnames) == False:\n",
    "        return(print(\"input must be string\"))\n",
    "    \n",
    "    with open('fitting.xcm',\"r\") as f:\n",
    "        lines = f.readlines() #198 lines of code\n",
    "        for i in np.arange(0,len(lines)):\n",
    "            lines[i] = lines[i].replace(\"HED_PHA_1.fits\",HEDfname)\n",
    "            lines[i] = lines[i].replace(\"KW201227_1_gr20.pha\",KW1fname)\n",
    "            lines[i] = lines[i].replace(\"KW201227_2_gr20.pha\",KW2fname)\n",
    "            lines[i] = lines[i].replace(\"GRB201227A_n4_gr20.pha\",GBMn1fname)\n",
    "            lines[i] = lines[i].replace(\"GRB201227A_n8_gr20.pha\",GBMn2fname)\n",
    "            lines[i] = lines[i].replace(\"GRB201227A_b0_gr20.pha\",GBMb1fname)\n",
    "            \n",
    "    with open(outfname+\".xcm\",\"w\") as out:\n",
    "        for line in lines:\n",
    "            out.write(line)"
   ]
  },
  {
   "cell_type": "code",
   "execution_count": 59,
   "id": "5824c40e-21bb-4c3a-9328-ff3a3fe86245",
   "metadata": {},
   "outputs": [],
   "source": [
    "fit_script(HEDfname=\"bla\",KW1fname=\"blaa\",KW2fname=\"blaaa\",GBMn1fname=\"la\",GBMn2fname=\"laa\",GBMb1fname=\"laaa\",outfname=\"fooo\")"
   ]
  },
  {
   "cell_type": "code",
   "execution_count": 23,
   "id": "ef15400b-6768-4c32-a7b6-54cce4bb9192",
   "metadata": {},
   "outputs": [],
   "source": [
    "#GRB 190206A don't have GBM data, so i can't use the fit_script above\n",
    "#I can go in an replace HED and KW files, but then i need to remove the GBM grouping and modeling that includes GBM"
   ]
  },
  {
   "cell_type": "markdown",
   "id": "6c095214-4406-401d-a1fd-a15073747b50",
   "metadata": {},
   "source": [
    "# Get spectral parameters from log file\n",
    "    -'Current model list' starts from index 144\n",
    "    -'\\n' contained in every line"
   ]
  },
  {
   "cell_type": "code",
   "execution_count": 2,
   "id": "06e268d5-ac2a-4943-be57-f8377dd6d37a",
   "metadata": {},
   "outputs": [],
   "source": [
    "with open('template.log','r') as f:\n",
    "    logLines = f.readlines()\n",
    "    #looking for this line: #Model constant<1>*cflux<2>*ngrbep<3> Source No.: 1   Active/On\n",
    "    for l in logLines:\n",
    "        if l == '#Model constant<1>*cflux<2>*ngrbep<3> Source No.: 1   Active/On':\n",
    "            print(l)"
   ]
  },
  {
   "cell_type": "code",
   "execution_count": 15,
   "id": "f53c824c-e360-4ce9-b62a-0cefa3756797",
   "metadata": {},
   "outputs": [
    {
     "name": "stdout",
     "output_type": "stream",
     "text": [
      "model list start at index:  144\n"
     ]
    }
   ],
   "source": [
    "for i,l in enumerate(logLines):\n",
    "    if l == '#Current model list:\\n':\n",
    "        print('model list start at index: ', i)\n",
    "        modList = logLines[i:]\n",
    "        break"
   ]
  },
  {
   "cell_type": "code",
   "execution_count": null,
   "id": "d1e9a1de-1fae-4fe2-bc75-604a3cee186d",
   "metadata": {},
   "outputs": [],
   "source": [
    "#TODO: load the spec parameters for all the datagroups\n",
    "#remove '\\n' from line"
   ]
  },
  {
   "cell_type": "code",
   "execution_count": 18,
   "id": "f159dc88-4682-4509-b061-7f81fa10665e",
   "metadata": {},
   "outputs": [
    {
     "data": {
      "text/plain": [
       "list"
      ]
     },
     "execution_count": 18,
     "metadata": {},
     "output_type": "execute_result"
    }
   ],
   "source": []
  },
  {
   "cell_type": "code",
   "execution_count": 57,
   "id": "77de622e-4eaf-43f7-8d31-2a4e5027f4b6",
   "metadata": {},
   "outputs": [],
   "source": [
    "clean_modList = []\n",
    "for l in modList:\n",
    "    l = l.replace('\\n','')\n",
    "    l = l.replace('#','')\n",
    "    clean_modList.append(l)"
   ]
  },
  {
   "cell_type": "code",
   "execution_count": 115,
   "id": "7ebde883-4865-4bbe-ad4a-3201c7012da6",
   "metadata": {},
   "outputs": [],
   "source": [
    "keys = {}\n",
    "for i,l in enumerate(clean_modList):\n",
    "    if 'Data group:' in l:\n",
    "        key = l.strip()\n",
    "        keys[key] = i\n",
    "startingIndecies = np.fromiter(keys.values(), dtype=int)\n",
    "n_dataGroups = len(startingIndecies)\n",
    "\n",
    "if np.all(np.diff(startingIndecies)) == True:\n",
    "    size_dataGroup = np.diff(np.fromiter(keys.values(), dtype=int))[0]\n",
    "else:\n",
    "    print('varying length of datagroups')"
   ]
  },
  {
   "cell_type": "code",
   "execution_count": 108,
   "id": "a8c36a3d-6160-401a-91a6-f64d26f7a6b8",
   "metadata": {},
   "outputs": [
    {
     "data": {
      "text/plain": [
       "(array([ 6, 16, 26, 36]), 4)"
      ]
     },
     "execution_count": 108,
     "metadata": {},
     "output_type": "execute_result"
    }
   ],
   "source": [
    "startingIndecies,n_dataGroups"
   ]
  },
  {
   "cell_type": "code",
   "execution_count": 159,
   "id": "271deacf-9d41-409b-9b2d-f772d1601aa1",
   "metadata": {},
   "outputs": [],
   "source": [
    "spec_data = {}\n",
    "for key,value in keys.items():\n",
    "    newTargetModel = []\n",
    "    targetModel = clean_modList[value+1:value+size_dataGroup]\n",
    "    for par in targetModel:\n",
    "        newpar = par.strip()\n",
    "        newpar = newpar.split()\n",
    "        del newpar[1]\n",
    "        newTargetModel.append(newpar)\n",
    "    spec_data[key] = newTargetModel"
   ]
  },
  {
   "cell_type": "code",
   "execution_count": 160,
   "id": "09c3775f-b92a-4f6d-8110-9e8adcd9416d",
   "metadata": {},
   "outputs": [
    {
     "data": {
      "text/plain": [
       "{'Data group: 1': [['1', 'constant', 'factor', '1.27737', '+/-', '0.127300'],\n",
       "  ['2', 'cflux', 'Emin', 'keV', '10.0000', 'frozen'],\n",
       "  ['3', 'cflux', 'Emax', 'keV', '1.00000E+04', 'frozen'],\n",
       "  ['4', 'cflux', 'lg10Flux', 'cgs', '-4.18518', '+/-', '3.00161E-02'],\n",
       "  ['5', 'ngrbep', 'alpha', '-0.185890', '+/-', '7.28931E-02'],\n",
       "  ['6', 'ngrbep', 'beta', '-3.44617', '+/-', '0.512888'],\n",
       "  ['7', 'ngrbep', 'epeak', 'keV', '922.399', '+/-', '58.2440'],\n",
       "  ['8', 'ngrbep', 'enorm', 'keV', '100.000', 'frozen'],\n",
       "  ['9', 'ngrbep', 'norm', '1.00000', 'frozen']],\n",
       " 'Data group: 2': [['10', 'constant', 'factor', '1.00000', 'frozen'],\n",
       "  ['11', 'cflux', 'Emin', 'keV', '10.0000', '=', 'p2'],\n",
       "  ['12', 'cflux', 'Emax', 'keV', '1.00000E+04', '=', 'p3'],\n",
       "  ['13', 'cflux', 'lg10Flux', 'cgs', '-4.18518', '=', 'p4'],\n",
       "  ['14', 'ngrbep', 'alpha', '-0.185890', '=', 'p5'],\n",
       "  ['15', 'ngrbep', 'beta', '-3.44617', '=', 'p6'],\n",
       "  ['16', 'ngrbep', 'epeak', 'keV', '922.399', '=', 'p7'],\n",
       "  ['17', 'ngrbep', 'enorm', 'keV', '100.000', '=', 'p8'],\n",
       "  ['18', 'ngrbep', 'norm', '1.00000', '=', 'p9']],\n",
       " 'Data group: 3': [['19',\n",
       "   'constant',\n",
       "   'factor',\n",
       "   '1.31508',\n",
       "   '+/-',\n",
       "   '8.29398E-02'],\n",
       "  ['20', 'cflux', 'Emin', 'keV', '10.0000', '=', 'p2'],\n",
       "  ['21', 'cflux', 'Emax', 'keV', '1.00000E+04', '=', 'p3'],\n",
       "  ['22', 'cflux', 'lg10Flux', 'cgs', '-4.18518', '=', 'p4'],\n",
       "  ['23', 'ngrbep', 'alpha', '-0.185890', '=', 'p5'],\n",
       "  ['24', 'ngrbep', 'beta', '-3.44617', '=', 'p6'],\n",
       "  ['25', 'ngrbep', 'epeak', 'keV', '922.399', '=', 'p7'],\n",
       "  ['26', 'ngrbep', 'enorm', 'keV', '100.000', '=', 'p8'],\n",
       "  ['27', 'ngrbep', 'norm', '1.00000', '=', 'p9']],\n",
       " 'Data group: 4': [['28',\n",
       "   'constant',\n",
       "   'factor',\n",
       "   '1.39527',\n",
       "   '+/-',\n",
       "   '9.27995E-02'],\n",
       "  ['29', 'cflux', 'Emin', 'keV', '10.0000', '=', 'p2'],\n",
       "  ['30', 'cflux', 'Emax', 'keV', '1.00000E+04', '=', 'p3'],\n",
       "  ['31', 'cflux', 'lg10Flux', 'cgs', '-4.18518', '=', 'p4'],\n",
       "  ['32', 'ngrbep', 'alpha', '-0.185890', '=', 'p5'],\n",
       "  ['33', 'ngrbep', 'beta', '-3.44617', '=', 'p6'],\n",
       "  ['34', 'ngrbep', 'epeak', 'keV', '922.399', '=', 'p7'],\n",
       "  ['35', 'ngrbep', 'enorm', 'keV', '100.000', '=', 'p8'],\n",
       "  ['36', 'ngrbep', 'norm', '1.00000', '=', 'p9']]}"
      ]
     },
     "execution_count": 160,
     "metadata": {},
     "output_type": "execute_result"
    }
   ],
   "source": [
    "spec_data"
   ]
  },
  {
   "cell_type": "code",
   "execution_count": null,
   "id": "bb839fc6-86da-4dd1-a6a9-a3a5f9941109",
   "metadata": {},
   "outputs": [],
   "source": []
  },
  {
   "cell_type": "code",
   "execution_count": null,
   "id": "28311981-aac1-4346-b518-8a064bcbd79c",
   "metadata": {},
   "outputs": [],
   "source": []
  }
 ],
 "metadata": {
  "kernelspec": {
   "display_name": "base",
   "language": "python",
   "name": "base"
  },
  "language_info": {
   "codemirror_mode": {
    "name": "ipython",
    "version": 3
   },
   "file_extension": ".py",
   "mimetype": "text/x-python",
   "name": "python",
   "nbconvert_exporter": "python",
   "pygments_lexer": "ipython3",
   "version": "3.9.13"
  }
 },
 "nbformat": 4,
 "nbformat_minor": 5
}
