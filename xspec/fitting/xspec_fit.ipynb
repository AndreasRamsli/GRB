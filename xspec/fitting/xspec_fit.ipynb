{
 "cells": [
  {
   "cell_type": "markdown",
   "id": "f308afbc-c7cc-4804-abde-02b3314b2ecc",
   "metadata": {},
   "source": [
    "# imports"
   ]
  },
  {
   "cell_type": "code",
   "execution_count": 1,
   "id": "fca2128c-aa03-4e0a-900d-92f906646460",
   "metadata": {},
   "outputs": [],
   "source": [
    "import numpy as np\n",
    "import pandas as pd"
   ]
  },
  {
   "cell_type": "markdown",
   "id": "fe679837-d8d4-4884-b973-efb7505fe2b2",
   "metadata": {},
   "source": [
    "# Generate new fitting script from template"
   ]
  },
  {
   "cell_type": "code",
   "execution_count": 2,
   "id": "33ad6d30-a6aa-4837-980b-7ee5e07e1790",
   "metadata": {},
   "outputs": [],
   "source": [
    "#There are three burst where not all detectors are on\n",
    "#modify the fitting script by hand, since the data grouping will be different\n",
    "\n",
    "def fit_script(HEDfname=None,KW1fname=None,KW2fname=None,GBMn1fname=None,GBMn2fname=None,GBMb1fname=None,outfname=None):\n",
    "    \n",
    "    fnames = [HEDfname,KW1fname,KW2fname,GBMn1fname,GBMn2fname,GBMb1fname,outfname]\n",
    "    if all(isinstance(fname, str) for fname in fnames) == False:\n",
    "        return(print(\"input must be string\"))\n",
    "    \n",
    "    with open('fitting.xcm',\"r\") as f:\n",
    "        lines = f.readlines() #198 lines of code\n",
    "        for i in np.arange(0,len(lines)):\n",
    "            lines[i] = lines[i].replace(\"HED_PHA_1.fits\",HEDfname)\n",
    "            lines[i] = lines[i].replace(\"KW201227_1_gr20.pha\",KW1fname)\n",
    "            lines[i] = lines[i].replace(\"KW201227_2_gr20.pha\",KW2fname)\n",
    "            lines[i] = lines[i].replace(\"GRB201227A_n4_gr20.pha\",GBMn1fname)\n",
    "            lines[i] = lines[i].replace(\"GRB201227A_n8_gr20.pha\",GBMn2fname)\n",
    "            lines[i] = lines[i].replace(\"GRB201227A_b0_gr20.pha\",GBMb1fname)\n",
    "            \n",
    "    with open(outfname+\".xcm\",\"w\") as out:\n",
    "        for line in lines:\n",
    "            out.write(line)"
   ]
  },
  {
   "cell_type": "code",
   "execution_count": 3,
   "id": "5824c40e-21bb-4c3a-9328-ff3a3fe86245",
   "metadata": {},
   "outputs": [],
   "source": [
    "fit_script(HEDfname=\"bla\",KW1fname=\"blaa\",KW2fname=\"blaaa\",GBMn1fname=\"la\",GBMn2fname=\"laa\",GBMb1fname=\"laaa\",outfname=\"fooo\")"
   ]
  },
  {
   "cell_type": "code",
   "execution_count": 4,
   "id": "ef15400b-6768-4c32-a7b6-54cce4bb9192",
   "metadata": {},
   "outputs": [],
   "source": [
    "#GRB 190206A don't have GBM data, so i can't use the fit_script above\n",
    "#I can go in an replace HED and KW files, but then i need to remove the GBM grouping and modeling that includes GBM"
   ]
  },
  {
   "cell_type": "markdown",
   "id": "6c095214-4406-401d-a1fd-a15073747b50",
   "metadata": {},
   "source": [
    "# Get spectral parameters from log file\n",
    "    -'Current model list' starts from index 144\n",
    "    -'\\n' contained in every line"
   ]
  },
  {
   "cell_type": "code",
   "execution_count": 5,
   "id": "06e268d5-ac2a-4943-be57-f8377dd6d37a",
   "metadata": {},
   "outputs": [],
   "source": [
    "with open('template.log','r') as f:\n",
    "    logLines = f.readlines()\n",
    "    #looking for this line: #Model constant<1>*cflux<2>*ngrbep<3> Source No.: 1   Active/On\n",
    "    for l in logLines:\n",
    "        if l == '#Model constant<1>*cflux<2>*ngrbep<3> Source No.: 1   Active/On':\n",
    "            print(l)"
   ]
  },
  {
   "cell_type": "code",
   "execution_count": 6,
   "id": "f53c824c-e360-4ce9-b62a-0cefa3756797",
   "metadata": {},
   "outputs": [
    {
     "name": "stdout",
     "output_type": "stream",
     "text": [
      "model list start at index:  144\n"
     ]
    }
   ],
   "source": [
    "for i,l in enumerate(logLines):\n",
    "    if l == '#Current model list:\\n':\n",
    "        print('model list start at index: ', i)\n",
    "        modList = logLines[i:]\n",
    "        break"
   ]
  },
  {
   "cell_type": "code",
   "execution_count": 7,
   "id": "d1e9a1de-1fae-4fe2-bc75-604a3cee186d",
   "metadata": {},
   "outputs": [],
   "source": [
    "#TODO: load the spec parameters for all the datagroups\n",
    "#remove '\\n' from line"
   ]
  },
  {
   "cell_type": "code",
   "execution_count": null,
   "id": "f159dc88-4682-4509-b061-7f81fa10665e",
   "metadata": {},
   "outputs": [],
   "source": []
  },
  {
   "cell_type": "code",
   "execution_count": 8,
   "id": "77de622e-4eaf-43f7-8d31-2a4e5027f4b6",
   "metadata": {},
   "outputs": [],
   "source": [
    "clean_modList = []\n",
    "for l in modList:\n",
    "    l = l.replace('\\n','')\n",
    "    l = l.replace('#','')\n",
    "    clean_modList.append(l)"
   ]
  },
  {
   "cell_type": "code",
   "execution_count": 9,
   "id": "7ebde883-4865-4bbe-ad4a-3201c7012da6",
   "metadata": {},
   "outputs": [],
   "source": [
    "keys = {}\n",
    "for i,l in enumerate(clean_modList):\n",
    "    if 'Data group:' in l:\n",
    "        key = l.strip()\n",
    "        keys[key] = i\n",
    "startingIndecies = np.fromiter(keys.values(), dtype=int)\n",
    "n_dataGroups = len(startingIndecies)\n",
    "\n",
    "if np.all(np.diff(startingIndecies)) == True:\n",
    "    size_dataGroup = np.diff(np.fromiter(keys.values(), dtype=int))[0]\n",
    "else:\n",
    "    print('varying length of datagroups')"
   ]
  },
  {
   "cell_type": "code",
   "execution_count": 10,
   "id": "a8c36a3d-6160-401a-91a6-f64d26f7a6b8",
   "metadata": {},
   "outputs": [
    {
     "data": {
      "text/plain": [
       "(array([ 6, 16, 26, 36]), 4)"
      ]
     },
     "execution_count": 10,
     "metadata": {},
     "output_type": "execute_result"
    }
   ],
   "source": [
    "startingIndecies,n_dataGroups"
   ]
  },
  {
   "cell_type": "code",
   "execution_count": 42,
   "id": "271deacf-9d41-409b-9b2d-f772d1601aa1",
   "metadata": {},
   "outputs": [],
   "source": [
    "spec_data = {}\n",
    "for key,value in keys.items():\n",
    "    newTargetModel = []\n",
    "    targetModel = clean_modList[value+1:value+size_dataGroup]\n",
    "    for par in targetModel:\n",
    "        newpar = par.strip()\n",
    "        newpar = newpar.split()\n",
    "        del newpar[1]\n",
    "        newTargetModel.append(newpar)\n",
    "    spec_data[key] = newTargetModel"
   ]
  },
  {
   "cell_type": "code",
   "execution_count": 18,
   "id": "6ed762b1-f8d5-42a8-ad61-32970c976cfd",
   "metadata": {},
   "outputs": [
    {
     "name": "stdout",
     "output_type": "stream",
     "text": [
      "constant\n",
      "constant\n",
      "constant\n",
      "constant\n"
     ]
    }
   ],
   "source": [
    "for l in spec_data.values():\n",
    "    del l[0][0]\n",
    "    print(l[0][0])"
   ]
  },
  {
   "cell_type": "code",
   "execution_count": 43,
   "id": "f8281ab5-82b7-4917-be35-77f8d0b741d4",
   "metadata": {},
   "outputs": [
    {
     "data": {
      "text/plain": [
       "[[['1', 'constant', 'factor', '1.27737', '+/-', '0.127300'],\n",
       "  ['2', 'cflux', 'Emin', 'keV', '10.0000', 'frozen'],\n",
       "  ['3', 'cflux', 'Emax', 'keV', '1.00000E+04', 'frozen'],\n",
       "  ['4', 'cflux', 'lg10Flux', 'cgs', '-4.18518', '+/-', '3.00161E-02'],\n",
       "  ['5', 'ngrbep', 'alpha', '-0.185890', '+/-', '7.28931E-02'],\n",
       "  ['6', 'ngrbep', 'beta', '-3.44617', '+/-', '0.512888'],\n",
       "  ['7', 'ngrbep', 'epeak', 'keV', '922.399', '+/-', '58.2440'],\n",
       "  ['8', 'ngrbep', 'enorm', 'keV', '100.000', 'frozen'],\n",
       "  ['9', 'ngrbep', 'norm', '1.00000', 'frozen']],\n",
       " [['10', 'constant', 'factor', '1.00000', 'frozen'],\n",
       "  ['11', 'cflux', 'Emin', 'keV', '10.0000', '=', 'p2'],\n",
       "  ['12', 'cflux', 'Emax', 'keV', '1.00000E+04', '=', 'p3'],\n",
       "  ['13', 'cflux', 'lg10Flux', 'cgs', '-4.18518', '=', 'p4'],\n",
       "  ['14', 'ngrbep', 'alpha', '-0.185890', '=', 'p5'],\n",
       "  ['15', 'ngrbep', 'beta', '-3.44617', '=', 'p6'],\n",
       "  ['16', 'ngrbep', 'epeak', 'keV', '922.399', '=', 'p7'],\n",
       "  ['17', 'ngrbep', 'enorm', 'keV', '100.000', '=', 'p8'],\n",
       "  ['18', 'ngrbep', 'norm', '1.00000', '=', 'p9']],\n",
       " [['19', 'constant', 'factor', '1.31508', '+/-', '8.29398E-02'],\n",
       "  ['20', 'cflux', 'Emin', 'keV', '10.0000', '=', 'p2'],\n",
       "  ['21', 'cflux', 'Emax', 'keV', '1.00000E+04', '=', 'p3'],\n",
       "  ['22', 'cflux', 'lg10Flux', 'cgs', '-4.18518', '=', 'p4'],\n",
       "  ['23', 'ngrbep', 'alpha', '-0.185890', '=', 'p5'],\n",
       "  ['24', 'ngrbep', 'beta', '-3.44617', '=', 'p6'],\n",
       "  ['25', 'ngrbep', 'epeak', 'keV', '922.399', '=', 'p7'],\n",
       "  ['26', 'ngrbep', 'enorm', 'keV', '100.000', '=', 'p8'],\n",
       "  ['27', 'ngrbep', 'norm', '1.00000', '=', 'p9']],\n",
       " [['28', 'constant', 'factor', '1.39527', '+/-', '9.27995E-02'],\n",
       "  ['29', 'cflux', 'Emin', 'keV', '10.0000', '=', 'p2'],\n",
       "  ['30', 'cflux', 'Emax', 'keV', '1.00000E+04', '=', 'p3'],\n",
       "  ['31', 'cflux', 'lg10Flux', 'cgs', '-4.18518', '=', 'p4'],\n",
       "  ['32', 'ngrbep', 'alpha', '-0.185890', '=', 'p5'],\n",
       "  ['33', 'ngrbep', 'beta', '-3.44617', '=', 'p6'],\n",
       "  ['34', 'ngrbep', 'epeak', 'keV', '922.399', '=', 'p7'],\n",
       "  ['35', 'ngrbep', 'enorm', 'keV', '100.000', '=', 'p8'],\n",
       "  ['36', 'ngrbep', 'norm', '1.00000', '=', 'p9']]]"
      ]
     },
     "execution_count": 43,
     "metadata": {},
     "output_type": "execute_result"
    }
   ],
   "source": [
    "list(spec_data.values())"
   ]
  },
  {
   "cell_type": "code",
   "execution_count": 44,
   "id": "f34dc002-ecf1-4fab-a431-f38d4dd8eeed",
   "metadata": {},
   "outputs": [
    {
     "data": {
      "text/plain": [
       "[[['constant', 'factor', '1.27737', '+/-', '0.127300'],\n",
       "  ['cflux', 'Emin', 'keV', '10.0000', 'frozen'],\n",
       "  ['cflux', 'Emax', 'keV', '1.00000E+04', 'frozen'],\n",
       "  ['cflux', 'lg10Flux', 'cgs', '-4.18518', '+/-', '3.00161E-02'],\n",
       "  ['ngrbep', 'alpha', '-0.185890', '+/-', '7.28931E-02'],\n",
       "  ['ngrbep', 'beta', '-3.44617', '+/-', '0.512888'],\n",
       "  ['ngrbep', 'epeak', 'keV', '922.399', '+/-', '58.2440'],\n",
       "  ['ngrbep', 'enorm', 'keV', '100.000', 'frozen'],\n",
       "  ['ngrbep', 'norm', '1.00000', 'frozen']],\n",
       " [['constant', 'factor', '1.00000', 'frozen'],\n",
       "  ['cflux', 'Emin', 'keV', '10.0000', '=', 'p2'],\n",
       "  ['cflux', 'Emax', 'keV', '1.00000E+04', '=', 'p3'],\n",
       "  ['cflux', 'lg10Flux', 'cgs', '-4.18518', '=', 'p4'],\n",
       "  ['ngrbep', 'alpha', '-0.185890', '=', 'p5'],\n",
       "  ['ngrbep', 'beta', '-3.44617', '=', 'p6'],\n",
       "  ['ngrbep', 'epeak', 'keV', '922.399', '=', 'p7'],\n",
       "  ['ngrbep', 'enorm', 'keV', '100.000', '=', 'p8'],\n",
       "  ['ngrbep', 'norm', '1.00000', '=', 'p9']],\n",
       " [['constant', 'factor', '1.31508', '+/-', '8.29398E-02'],\n",
       "  ['cflux', 'Emin', 'keV', '10.0000', '=', 'p2'],\n",
       "  ['cflux', 'Emax', 'keV', '1.00000E+04', '=', 'p3'],\n",
       "  ['cflux', 'lg10Flux', 'cgs', '-4.18518', '=', 'p4'],\n",
       "  ['ngrbep', 'alpha', '-0.185890', '=', 'p5'],\n",
       "  ['ngrbep', 'beta', '-3.44617', '=', 'p6'],\n",
       "  ['ngrbep', 'epeak', 'keV', '922.399', '=', 'p7'],\n",
       "  ['ngrbep', 'enorm', 'keV', '100.000', '=', 'p8'],\n",
       "  ['ngrbep', 'norm', '1.00000', '=', 'p9']],\n",
       " [['constant', 'factor', '1.39527', '+/-', '9.27995E-02'],\n",
       "  ['cflux', 'Emin', 'keV', '10.0000', '=', 'p2'],\n",
       "  ['cflux', 'Emax', 'keV', '1.00000E+04', '=', 'p3'],\n",
       "  ['cflux', 'lg10Flux', 'cgs', '-4.18518', '=', 'p4'],\n",
       "  ['ngrbep', 'alpha', '-0.185890', '=', 'p5'],\n",
       "  ['ngrbep', 'beta', '-3.44617', '=', 'p6'],\n",
       "  ['ngrbep', 'epeak', 'keV', '922.399', '=', 'p7'],\n",
       "  ['ngrbep', 'enorm', 'keV', '100.000', '=', 'p8'],\n",
       "  ['ngrbep', 'norm', '1.00000', '=', 'p9']]]"
      ]
     },
     "execution_count": 44,
     "metadata": {},
     "output_type": "execute_result"
    }
   ],
   "source": [
    "v = list(spec_data.values())\n",
    "for i in range(0,4):\n",
    "    for j in range(0,9):\n",
    "        del v[i][j][0]\n",
    "v"
   ]
  },
  {
   "cell_type": "code",
   "execution_count": 52,
   "id": "67db94da-e5f2-41dd-b98d-449023b700db",
   "metadata": {},
   "outputs": [],
   "source": [
    "for i in range(0,4):\n",
    "    key = list(spec_data.keys())[i]\n",
    "    clean_dict[key] = v[i]"
   ]
  },
  {
   "cell_type": "code",
   "execution_count": 80,
   "id": "4be0ab55-7637-4f72-af06-261fbef35dad",
   "metadata": {},
   "outputs": [],
   "source": [
    "#Need to get the parameter names and put them where the numbers are in the df\n",
    "headerName_list = []\n",
    "for j in range(0,9):\n",
    "    par = list(clean_dict.values())[0][j][0]\n",
    "    typ = list(clean_dict.values())[0][j][1]\n",
    "    header_name = par + ' ' + '[' + typ + ']'\n",
    "    headerName_list.append(header_name)"
   ]
  },
  {
   "cell_type": "code",
   "execution_count": 98,
   "id": "1266a6f6-3a22-4457-a838-48c614685730",
   "metadata": {},
   "outputs": [],
   "source": [
    "#problem that the lists are different lengths"
   ]
  },
  {
   "cell_type": "code",
   "execution_count": 133,
   "id": "560e2741-f6cb-4240-9db1-cc2da3a0bc0c",
   "metadata": {},
   "outputs": [],
   "source": [
    "if (float('1.27737') == float) == True:\n",
    "    print('true')\n",
    "    "
   ]
  },
  {
   "cell_type": "code",
   "execution_count": 135,
   "id": "62e06dcb-e097-4a96-8775-4be8900c52d8",
   "metadata": {},
   "outputs": [
    {
     "data": {
      "text/plain": [
       "True"
      ]
     },
     "execution_count": 135,
     "metadata": {},
     "output_type": "execute_result"
    }
   ],
   "source": [
    "(type(float('1.27737')) == float)"
   ]
  },
  {
   "cell_type": "code",
   "execution_count": 149,
   "id": "f6917e2d-eea9-4923-86a9-9aa177828cef",
   "metadata": {},
   "outputs": [
    {
     "data": {
      "text/plain": [
       "[['', '', '', '', '', '', '', '', ''],\n",
       " ['', '', '', '', '', '', '', '', ''],\n",
       " ['', '', '', '', '', '', '', '', ''],\n",
       " ['', '', '', '', '', '', '', '', '']]"
      ]
     },
     "execution_count": 149,
     "metadata": {},
     "output_type": "execute_result"
    }
   ],
   "source": [
    "cell_input = [['']*9]*4\n",
    "cell_input"
   ]
  },
  {
   "cell_type": "code",
   "execution_count": 146,
   "id": "434b28f7-481e-4e7a-adf4-4a47fcd7d223",
   "metadata": {},
   "outputs": [
    {
     "data": {
      "text/plain": [
       "[['constant', 'factor', '1.27737', '+/-', '0.127300'],\n",
       " ['cflux', 'Emin', 'keV', '10.0000', 'frozen'],\n",
       " ['cflux', 'Emax', 'keV', '1.00000E+04', 'frozen'],\n",
       " ['cflux', 'lg10Flux', 'cgs', '-4.18518', '+/-', '3.00161E-02'],\n",
       " ['ngrbep', 'alpha', '-0.185890', '+/-', '7.28931E-02'],\n",
       " ['ngrbep', 'beta', '-3.44617', '+/-', '0.512888'],\n",
       " ['ngrbep', 'epeak', 'keV', '922.399', '+/-', '58.2440'],\n",
       " ['ngrbep', 'enorm', 'keV', '100.000', 'frozen'],\n",
       " ['ngrbep', 'norm', '1.00000', 'frozen']]"
      ]
     },
     "execution_count": 146,
     "metadata": {},
     "output_type": "execute_result"
    }
   ],
   "source": [
    "list(clean_dict.values())[0]"
   ]
  },
  {
   "cell_type": "code",
   "execution_count": 198,
   "id": "e3306509-44fa-438a-9828-bb73ea0772dd",
   "metadata": {},
   "outputs": [
    {
     "data": {
      "text/plain": [
       "0.0300161"
      ]
     },
     "execution_count": 198,
     "metadata": {},
     "output_type": "execute_result"
    }
   ],
   "source": [
    "float('3.00161E-02')"
   ]
  },
  {
   "cell_type": "code",
   "execution_count": 255,
   "id": "2ef6c5a8-6ddf-4bf7-abee-b63a457fcadf",
   "metadata": {},
   "outputs": [],
   "source": [
    "def get_cellInput(l):\n",
    "    cell_input = ''\n",
    "    for x in l:\n",
    "        if x == '+/-':\n",
    "            cell_input += ' ' + x + ' '\n",
    "        else:\n",
    "            try:\n",
    "                float(x)\n",
    "                cell_input += str(np.round(float(x),3))\n",
    "            except ValueError:\n",
    "                continue\n",
    "    return(cell_input)"
   ]
  },
  {
   "cell_type": "code",
   "execution_count": 273,
   "id": "6184a84c-e827-4c8c-96b6-4453f90a6ff3",
   "metadata": {},
   "outputs": [],
   "source": [
    "#cell_input = [['']*9]*4\n",
    "\n",
    "for i in range(0,4):\n",
    "    for j in range(0,9):\n",
    "        #print(list(clean_dict.values())[i][j])\n",
    "        l = list(clean_dict.values())[i][j]\n",
    "        cell_input[i][j] = get_cellInput(l)"
   ]
  },
  {
   "cell_type": "code",
   "execution_count": null,
   "id": "1f932e05-d39b-4532-8908-dc34dcfa3fb4",
   "metadata": {},
   "outputs": [],
   "source": [
    "list(clean_dict.values())[i][j]"
   ]
  },
  {
   "cell_type": "code",
   "execution_count": 274,
   "id": "25bc81d1-b18f-40a2-83a6-07764c7e3c30",
   "metadata": {},
   "outputs": [
    {
     "name": "stdout",
     "output_type": "stream",
     "text": [
      "1.395 +/- 0.093\n",
      "1.395 +/- 0.093\n",
      "1.395 +/- 0.093\n",
      "1.395 +/- 0.093\n"
     ]
    }
   ],
   "source": [
    "for i in range(0,4):\n",
    "    print(cell_input[i][0])"
   ]
  },
  {
   "cell_type": "code",
   "execution_count": 257,
   "id": "09c3775f-b92a-4f6d-8110-9e8adcd9416d",
   "metadata": {},
   "outputs": [
    {
     "data": {
      "text/html": [
       "<div>\n",
       "<style scoped>\n",
       "    .dataframe tbody tr th:only-of-type {\n",
       "        vertical-align: middle;\n",
       "    }\n",
       "\n",
       "    .dataframe tbody tr th {\n",
       "        vertical-align: top;\n",
       "    }\n",
       "\n",
       "    .dataframe thead th {\n",
       "        text-align: right;\n",
       "    }\n",
       "</style>\n",
       "<table border=\"1\" class=\"dataframe\">\n",
       "  <thead>\n",
       "    <tr style=\"text-align: right;\">\n",
       "      <th></th>\n",
       "      <th>0</th>\n",
       "      <th>1</th>\n",
       "      <th>2</th>\n",
       "      <th>3</th>\n",
       "      <th>4</th>\n",
       "      <th>5</th>\n",
       "      <th>6</th>\n",
       "      <th>7</th>\n",
       "      <th>8</th>\n",
       "    </tr>\n",
       "  </thead>\n",
       "  <tbody>\n",
       "    <tr>\n",
       "      <th>Data group: 1</th>\n",
       "      <td>[constant, factor, 1.27737, +/-, 0.127300]</td>\n",
       "      <td>[cflux, Emin, keV, 10.0000, frozen]</td>\n",
       "      <td>[cflux, Emax, keV, 1.00000E+04, frozen]</td>\n",
       "      <td>[cflux, lg10Flux, cgs, -4.18518, +/-, 3.00161E...</td>\n",
       "      <td>[ngrbep, alpha, -0.185890, +/-, 7.28931E-02]</td>\n",
       "      <td>[ngrbep, beta, -3.44617, +/-, 0.512888]</td>\n",
       "      <td>[ngrbep, epeak, keV, 922.399, +/-, 58.2440]</td>\n",
       "      <td>[ngrbep, enorm, keV, 100.000, frozen]</td>\n",
       "      <td>[ngrbep, norm, 1.00000, frozen]</td>\n",
       "    </tr>\n",
       "    <tr>\n",
       "      <th>Data group: 2</th>\n",
       "      <td>[constant, factor, 1.00000, frozen]</td>\n",
       "      <td>[cflux, Emin, keV, 10.0000, =, p2]</td>\n",
       "      <td>[cflux, Emax, keV, 1.00000E+04, =, p3]</td>\n",
       "      <td>[cflux, lg10Flux, cgs, -4.18518, =, p4]</td>\n",
       "      <td>[ngrbep, alpha, -0.185890, =, p5]</td>\n",
       "      <td>[ngrbep, beta, -3.44617, =, p6]</td>\n",
       "      <td>[ngrbep, epeak, keV, 922.399, =, p7]</td>\n",
       "      <td>[ngrbep, enorm, keV, 100.000, =, p8]</td>\n",
       "      <td>[ngrbep, norm, 1.00000, =, p9]</td>\n",
       "    </tr>\n",
       "    <tr>\n",
       "      <th>Data group: 3</th>\n",
       "      <td>[constant, factor, 1.31508, +/-, 8.29398E-02]</td>\n",
       "      <td>[cflux, Emin, keV, 10.0000, =, p2]</td>\n",
       "      <td>[cflux, Emax, keV, 1.00000E+04, =, p3]</td>\n",
       "      <td>[cflux, lg10Flux, cgs, -4.18518, =, p4]</td>\n",
       "      <td>[ngrbep, alpha, -0.185890, =, p5]</td>\n",
       "      <td>[ngrbep, beta, -3.44617, =, p6]</td>\n",
       "      <td>[ngrbep, epeak, keV, 922.399, =, p7]</td>\n",
       "      <td>[ngrbep, enorm, keV, 100.000, =, p8]</td>\n",
       "      <td>[ngrbep, norm, 1.00000, =, p9]</td>\n",
       "    </tr>\n",
       "    <tr>\n",
       "      <th>Data group: 4</th>\n",
       "      <td>[constant, factor, 1.39527, +/-, 9.27995E-02]</td>\n",
       "      <td>[cflux, Emin, keV, 10.0000, =, p2]</td>\n",
       "      <td>[cflux, Emax, keV, 1.00000E+04, =, p3]</td>\n",
       "      <td>[cflux, lg10Flux, cgs, -4.18518, =, p4]</td>\n",
       "      <td>[ngrbep, alpha, -0.185890, =, p5]</td>\n",
       "      <td>[ngrbep, beta, -3.44617, =, p6]</td>\n",
       "      <td>[ngrbep, epeak, keV, 922.399, =, p7]</td>\n",
       "      <td>[ngrbep, enorm, keV, 100.000, =, p8]</td>\n",
       "      <td>[ngrbep, norm, 1.00000, =, p9]</td>\n",
       "    </tr>\n",
       "  </tbody>\n",
       "</table>\n",
       "</div>"
      ],
      "text/plain": [
       "                                                           0  \\\n",
       "Data group: 1     [constant, factor, 1.27737, +/-, 0.127300]   \n",
       "Data group: 2            [constant, factor, 1.00000, frozen]   \n",
       "Data group: 3  [constant, factor, 1.31508, +/-, 8.29398E-02]   \n",
       "Data group: 4  [constant, factor, 1.39527, +/-, 9.27995E-02]   \n",
       "\n",
       "                                                 1  \\\n",
       "Data group: 1  [cflux, Emin, keV, 10.0000, frozen]   \n",
       "Data group: 2   [cflux, Emin, keV, 10.0000, =, p2]   \n",
       "Data group: 3   [cflux, Emin, keV, 10.0000, =, p2]   \n",
       "Data group: 4   [cflux, Emin, keV, 10.0000, =, p2]   \n",
       "\n",
       "                                                     2  \\\n",
       "Data group: 1  [cflux, Emax, keV, 1.00000E+04, frozen]   \n",
       "Data group: 2   [cflux, Emax, keV, 1.00000E+04, =, p3]   \n",
       "Data group: 3   [cflux, Emax, keV, 1.00000E+04, =, p3]   \n",
       "Data group: 4   [cflux, Emax, keV, 1.00000E+04, =, p3]   \n",
       "\n",
       "                                                               3  \\\n",
       "Data group: 1  [cflux, lg10Flux, cgs, -4.18518, +/-, 3.00161E...   \n",
       "Data group: 2            [cflux, lg10Flux, cgs, -4.18518, =, p4]   \n",
       "Data group: 3            [cflux, lg10Flux, cgs, -4.18518, =, p4]   \n",
       "Data group: 4            [cflux, lg10Flux, cgs, -4.18518, =, p4]   \n",
       "\n",
       "                                                          4  \\\n",
       "Data group: 1  [ngrbep, alpha, -0.185890, +/-, 7.28931E-02]   \n",
       "Data group: 2             [ngrbep, alpha, -0.185890, =, p5]   \n",
       "Data group: 3             [ngrbep, alpha, -0.185890, =, p5]   \n",
       "Data group: 4             [ngrbep, alpha, -0.185890, =, p5]   \n",
       "\n",
       "                                                     5  \\\n",
       "Data group: 1  [ngrbep, beta, -3.44617, +/-, 0.512888]   \n",
       "Data group: 2          [ngrbep, beta, -3.44617, =, p6]   \n",
       "Data group: 3          [ngrbep, beta, -3.44617, =, p6]   \n",
       "Data group: 4          [ngrbep, beta, -3.44617, =, p6]   \n",
       "\n",
       "                                                         6  \\\n",
       "Data group: 1  [ngrbep, epeak, keV, 922.399, +/-, 58.2440]   \n",
       "Data group: 2         [ngrbep, epeak, keV, 922.399, =, p7]   \n",
       "Data group: 3         [ngrbep, epeak, keV, 922.399, =, p7]   \n",
       "Data group: 4         [ngrbep, epeak, keV, 922.399, =, p7]   \n",
       "\n",
       "                                                   7  \\\n",
       "Data group: 1  [ngrbep, enorm, keV, 100.000, frozen]   \n",
       "Data group: 2   [ngrbep, enorm, keV, 100.000, =, p8]   \n",
       "Data group: 3   [ngrbep, enorm, keV, 100.000, =, p8]   \n",
       "Data group: 4   [ngrbep, enorm, keV, 100.000, =, p8]   \n",
       "\n",
       "                                             8  \n",
       "Data group: 1  [ngrbep, norm, 1.00000, frozen]  \n",
       "Data group: 2   [ngrbep, norm, 1.00000, =, p9]  \n",
       "Data group: 3   [ngrbep, norm, 1.00000, =, p9]  \n",
       "Data group: 4   [ngrbep, norm, 1.00000, =, p9]  "
      ]
     },
     "execution_count": 257,
     "metadata": {},
     "output_type": "execute_result"
    }
   ],
   "source": [
    "df = pd.DataFrame(data = clean_dict).T\n",
    "df"
   ]
  },
  {
   "cell_type": "code",
   "execution_count": 258,
   "id": "bb839fc6-86da-4dd1-a6a9-a3a5f9941109",
   "metadata": {},
   "outputs": [],
   "source": [
    "for i,key in enumerate(list(df.columns)):\n",
    "    df.rename({key: headerName_list[i]}, axis=1,inplace=True)"
   ]
  },
  {
   "cell_type": "code",
   "execution_count": 260,
   "id": "20a44a6e-9168-4883-ae98-0201833101df",
   "metadata": {},
   "outputs": [
    {
     "data": {
      "text/plain": [
       "['Data group: 1', 'Data group: 2', 'Data group: 3', 'Data group: 4']"
      ]
     },
     "execution_count": 260,
     "metadata": {},
     "output_type": "execute_result"
    }
   ],
   "source": [
    "list(keys.keys())"
   ]
  },
  {
   "cell_type": "code",
   "execution_count": 261,
   "id": "28311981-aac1-4346-b518-8a064bcbd79c",
   "metadata": {},
   "outputs": [],
   "source": [
    "final_dict={}\n",
    "for i in range(0,4):\n",
    "    final_dict[list(keys.keys())[i]] = cell_input[i]"
   ]
  },
  {
   "cell_type": "code",
   "execution_count": 262,
   "id": "67a1c5a8-a007-407c-9da0-c6f316ce6872",
   "metadata": {},
   "outputs": [],
   "source": [
    "DF = pd.DataFrame(final_dict).T\n",
    "for i,key in enumerate(list(DF.columns)):\n",
    "    DF.rename({key: headerName_list[i]}, axis=1,inplace=True)"
   ]
  },
  {
   "cell_type": "code",
   "execution_count": 267,
   "id": "b7739864-8d66-4f11-bf80-6c78e61965b4",
   "metadata": {},
   "outputs": [
    {
     "data": {
      "text/plain": [
       "['1.395 +/- 0.093',\n",
       " '10.0',\n",
       " '10000.0',\n",
       " '-4.185',\n",
       " '-0.186',\n",
       " '-3.446',\n",
       " '922.399',\n",
       " '100.0',\n",
       " '1.0']"
      ]
     },
     "execution_count": 267,
     "metadata": {},
     "output_type": "execute_result"
    }
   ],
   "source": [
    "cell_input[2]"
   ]
  },
  {
   "cell_type": "code",
   "execution_count": 264,
   "id": "93d123ab-cd38-4209-81fe-f4126478c9af",
   "metadata": {},
   "outputs": [
    {
     "data": {
      "text/html": [
       "<div>\n",
       "<style scoped>\n",
       "    .dataframe tbody tr th:only-of-type {\n",
       "        vertical-align: middle;\n",
       "    }\n",
       "\n",
       "    .dataframe tbody tr th {\n",
       "        vertical-align: top;\n",
       "    }\n",
       "\n",
       "    .dataframe thead th {\n",
       "        text-align: right;\n",
       "    }\n",
       "</style>\n",
       "<table border=\"1\" class=\"dataframe\">\n",
       "  <thead>\n",
       "    <tr style=\"text-align: right;\">\n",
       "      <th></th>\n",
       "      <th>constant [factor]</th>\n",
       "      <th>cflux [Emin]</th>\n",
       "      <th>cflux [Emax]</th>\n",
       "      <th>cflux [lg10Flux]</th>\n",
       "      <th>ngrbep [alpha]</th>\n",
       "      <th>ngrbep [beta]</th>\n",
       "      <th>ngrbep [epeak]</th>\n",
       "      <th>ngrbep [enorm]</th>\n",
       "      <th>ngrbep [norm]</th>\n",
       "    </tr>\n",
       "  </thead>\n",
       "  <tbody>\n",
       "    <tr>\n",
       "      <th>Data group: 1</th>\n",
       "      <td>1.395 +/- 0.093</td>\n",
       "      <td>10.0</td>\n",
       "      <td>10000.0</td>\n",
       "      <td>-4.185</td>\n",
       "      <td>-0.186</td>\n",
       "      <td>-3.446</td>\n",
       "      <td>922.399</td>\n",
       "      <td>100.0</td>\n",
       "      <td>1.0</td>\n",
       "    </tr>\n",
       "    <tr>\n",
       "      <th>Data group: 2</th>\n",
       "      <td>1.395 +/- 0.093</td>\n",
       "      <td>10.0</td>\n",
       "      <td>10000.0</td>\n",
       "      <td>-4.185</td>\n",
       "      <td>-0.186</td>\n",
       "      <td>-3.446</td>\n",
       "      <td>922.399</td>\n",
       "      <td>100.0</td>\n",
       "      <td>1.0</td>\n",
       "    </tr>\n",
       "    <tr>\n",
       "      <th>Data group: 3</th>\n",
       "      <td>1.395 +/- 0.093</td>\n",
       "      <td>10.0</td>\n",
       "      <td>10000.0</td>\n",
       "      <td>-4.185</td>\n",
       "      <td>-0.186</td>\n",
       "      <td>-3.446</td>\n",
       "      <td>922.399</td>\n",
       "      <td>100.0</td>\n",
       "      <td>1.0</td>\n",
       "    </tr>\n",
       "    <tr>\n",
       "      <th>Data group: 4</th>\n",
       "      <td>1.395 +/- 0.093</td>\n",
       "      <td>10.0</td>\n",
       "      <td>10000.0</td>\n",
       "      <td>-4.185</td>\n",
       "      <td>-0.186</td>\n",
       "      <td>-3.446</td>\n",
       "      <td>922.399</td>\n",
       "      <td>100.0</td>\n",
       "      <td>1.0</td>\n",
       "    </tr>\n",
       "  </tbody>\n",
       "</table>\n",
       "</div>"
      ],
      "text/plain": [
       "              constant [factor] cflux [Emin] cflux [Emax] cflux [lg10Flux]  \\\n",
       "Data group: 1   1.395 +/- 0.093         10.0      10000.0           -4.185   \n",
       "Data group: 2   1.395 +/- 0.093         10.0      10000.0           -4.185   \n",
       "Data group: 3   1.395 +/- 0.093         10.0      10000.0           -4.185   \n",
       "Data group: 4   1.395 +/- 0.093         10.0      10000.0           -4.185   \n",
       "\n",
       "              ngrbep [alpha] ngrbep [beta] ngrbep [epeak] ngrbep [enorm]  \\\n",
       "Data group: 1         -0.186        -3.446        922.399          100.0   \n",
       "Data group: 2         -0.186        -3.446        922.399          100.0   \n",
       "Data group: 3         -0.186        -3.446        922.399          100.0   \n",
       "Data group: 4         -0.186        -3.446        922.399          100.0   \n",
       "\n",
       "              ngrbep [norm]  \n",
       "Data group: 1           1.0  \n",
       "Data group: 2           1.0  \n",
       "Data group: 3           1.0  \n",
       "Data group: 4           1.0  "
      ]
     },
     "execution_count": 264,
     "metadata": {},
     "output_type": "execute_result"
    }
   ],
   "source": [
    "DF"
   ]
  },
  {
   "cell_type": "code",
   "execution_count": 263,
   "id": "00aaf7d4-156d-4103-889a-e26050f88453",
   "metadata": {},
   "outputs": [
    {
     "name": "stdout",
     "output_type": "stream",
     "text": [
      "\\begin{table}[h!]\n",
      "\\centering\n",
      "\\begin{tabular}{lllll}\n",
      "\\toprule\n",
      " & Data group: 1 & Data group: 2 & Data group: 3 & Data group: 4 \\\\\n",
      "\\midrule\n",
      "constant [factor] & 1.395 +/- 0.093 & 1.395 +/- 0.093 & 1.395 +/- 0.093 & 1.395 +/- 0.093 \\\\\n",
      "cflux [Emin] & 10.0 & 10.0 & 10.0 & 10.0 \\\\\n",
      "cflux [Emax] & 10000.0 & 10000.0 & 10000.0 & 10000.0 \\\\\n",
      "cflux [lg10Flux] & -4.185 & -4.185 & -4.185 & -4.185 \\\\\n",
      "ngrbep [alpha] & -0.186 & -0.186 & -0.186 & -0.186 \\\\\n",
      "ngrbep [beta] & -3.446 & -3.446 & -3.446 & -3.446 \\\\\n",
      "ngrbep [epeak] & 922.399 & 922.399 & 922.399 & 922.399 \\\\\n",
      "ngrbep [enorm] & 100.0 & 100.0 & 100.0 & 100.0 \\\\\n",
      "ngrbep [norm] & 1.0 & 1.0 & 1.0 & 1.0 \\\\\n",
      "\\bottomrule\n",
      "\\end{tabular}\n",
      "\\end{table}\n",
      "\n"
     ]
    }
   ],
   "source": [
    "print(DF.T.style.to_latex(position_float='centering',position='h!',hrules=True,multirow_align='c'))"
   ]
  },
  {
   "cell_type": "code",
   "execution_count": null,
   "id": "5fff7a63-3100-482e-b9b5-d9e1c72ccc1c",
   "metadata": {},
   "outputs": [],
   "source": []
  }
 ],
 "metadata": {
  "kernelspec": {
   "display_name": "base",
   "language": "python",
   "name": "base"
  },
  "language_info": {
   "codemirror_mode": {
    "name": "ipython",
    "version": 3
   },
   "file_extension": ".py",
   "mimetype": "text/x-python",
   "name": "python",
   "nbconvert_exporter": "python",
   "pygments_lexer": "ipython3",
   "version": "3.9.13"
  }
 },
 "nbformat": 4,
 "nbformat_minor": 5
}
