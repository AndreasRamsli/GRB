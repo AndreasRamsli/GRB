{
 "cells": [
  {
   "cell_type": "code",
   "execution_count": null,
   "id": "bd3b045e-9727-486c-9399-363296043444",
   "metadata": {},
   "outputs": [],
   "source": [
    "import os\n",
    "path = os.getcwd()\n",
    "\n",
    "if path[1:5] == 'Home':\n",
    "    %run /Home/siv30/wad005/useful_py_functions/matplotlib_custom_style_and_macros.py\n",
    "    %run /Home/siv30/wad005/master/GRB/src/harvest_matlab_data.ipynb\n",
    "    #%run /Home/siv30/wad005/master/GRB/src/dau_det_distribution.ipynb\n",
    "    %run /Home/siv30/wad005/master/GRB/src/ASIMXspec.ipynb\n",
    "    %run /Home/siv30/wad005/master/GRB/xspec/ASIM/ASIMFits/BAK/ASIMbak.ipynb\n",
    "    %run /Home/siv30/wad005/master/GRB/xspec/ASIM/ASIMFits/PHA/ASIMpha.ipynb\n",
    "    %run /Home/siv30/wad005/master/GRB/xspec/ASIM/ASIMFits/RSP/ASIMrsp.ipynb\n",
    "    %run /Home/siv30/wad005/master/GRB/xspec/ASIM/ASIMFits/RSP/find_closest_DRM.ipynb\n",
    "\n",
    "else:\n",
    "    %run /Users/andreas/phys/master/GRB/src/harvest_matlab_data.ipynb\n",
    "    #%run /Users/andreas/phys/master/GRB/src/dau_det_distribution.ipynb\n",
    "    %run /Users/andreas/phys/master/GRB/src/ASIMXspec.ipynb\n",
    "    %run /Users/andreas/phys/master/GRB/xspec/ASIM/ASIMFits/BAK/ASIMbak.ipynb\n",
    "    %run /Users/andreas/phys/master/GRB/xspec/ASIM/ASIMFits/PHA/ASIMpha.ipynb\n",
    "    %run /Users/andreas/phys/master/GRB//xspec/ASIM/ASIMFits/RSP/ASIMrsp.ipynb\n",
    "    %run /Users/andreas/phys/master/GRB//xspec/ASIM/ASIMFits/RSP/find_closest_DRM.ipynb\n",
    "    \n",
    "from stingray import Lightcurve as LC\n",
    "from stingray import CrossCorrelation as CC\n",
    "import numpy as np\n",
    "import matplotlib.pyplot as plt\n",
    "import os, re, sys\n",
    "\n",
    "from gbm.data import TTE,RSP,Trigdat\n",
    "from gbm.binning.unbinned import bin_by_time\n",
    "from gbm.plot import Lightcurve, Spectrum\n",
    "from gbm.background import BackgroundFitter\n",
    "from gbm.background.binned import Polynomial #working in ctime for example\n",
    "%matplotlib inline"
   ]
  },
  {
   "cell_type": "code",
   "execution_count": 41,
   "id": "6bf8eee3-ffc3-41f9-9e70-8f1f6132f924",
   "metadata": {},
   "outputs": [
    {
     "data": {
      "image/png": "[encoded data removed]",
      "text/plain": [
       "<Figure size 720x360 with 4 Axes>"
      ]
     },
     "metadata": {
      "needs_background": "light"
     },
     "output_type": "display_data"
    }
   ],
   "source": [
    "fig = plt.figure(figsize=(10, 5))\n",
    "\n",
    "ax_height = 1/4\n",
    "\n",
    "ax1 = fig.add_axes([0.1, 1-ax_height, 0.27, ax_height], xticklabels=[], ylim=(0, 1e3))\n",
    "ax2 = fig.add_axes([0.1, 1-2*ax_height, 0.27, ax_height], xticklabels=[], ylim=(0, 1e3))\n",
    "ax3 = fig.add_axes([0.1, 1-3*ax_height, 0.27, ax_height], xticklabels=[], ylim=(0, 1e3))\n",
    "ax4 = fig.add_axes([0.1, 1-4*ax_height, 0.27, ax_height], xticklabels=[], ylim=(0, 1e3))\n",
    "\n",
    "\n",
    "# set the yticks for each subplot\n",
    "ax1.set_yticks([500])\n",
    "ax2.set_yticks([500])\n",
    "ax3.set_yticks([500])\n",
    "ax4.set_yticks([500])\n",
    "\n",
    "plt.show()"
   ]
  },
  {
   "cell_type": "code",
   "execution_count": 42,
   "id": "748eb048-bab1-48bf-8fcd-15a77b3defe4",
   "metadata": {},
   "outputs": [
    {
     "data": {
      "image/png": "[encoded data removed]",
      "text/plain": [
       "<Figure size 720x360 with 2 Axes>"
      ]
     },
     "metadata": {
      "needs_background": "light"
     },
     "output_type": "display_data"
    }
   ],
   "source": [
    "fig = plt.figure(figsize=(10, 5))\n",
    "\n",
    "ax_height = 1/4\n",
    "\n",
    "ax1 = fig.add_axes([0.1, 1-ax_height, 0.27, ax_height], xticklabels=[], ylim=(0, 1e3))\n",
    "ax2 = fig.add_axes([0.1, 1-2*ax_height, 0.27, ax_height], xticklabels=[], ylim=(0, 1e3))\n",
    "\n",
    "\n",
    "\n",
    "# set the yticks for each subplot\n",
    "ax1.set_yticks([500])\n",
    "ax2.set_yticks([500])\n",
    "\n",
    "\n",
    "plt.show()"
   ]
  },
  {
   "cell_type": "markdown",
   "id": "f91ff0c4-c885-4293-af3f-1373fc213c5d",
   "metadata": {},
   "source": [
    "# GRB181222B"
   ]
  },
  {
   "cell_type": "code",
   "execution_count": 111,
   "id": "eb4b5123-21cf-4099-abb1-e1d41e64b40c",
   "metadata": {},
   "outputs": [
    {
     "name": "stdout",
     "output_type": "stream",
     "text": [
      "dau/det starting from index 1\n",
      "tus array given in seconds\n",
      "safety time:  0.507 % removed\n",
      "sorted by tus (s)\n"
     ]
    },
    {
     "data": {
      "text/html": [
       "<div>\n",
       "<style scoped>\n",
       "    .dataframe tbody tr th:only-of-type {\n",
       "        vertical-align: middle;\n",
       "    }\n",
       "\n",
       "    .dataframe tbody tr th {\n",
       "        vertical-align: top;\n",
       "    }\n",
       "\n",
       "    .dataframe thead th {\n",
       "        text-align: right;\n",
       "    }\n",
       "</style>\n",
       "<table border=\"1\" class=\"dataframe\">\n",
       "  <thead>\n",
       "    <tr style=\"text-align: right;\">\n",
       "      <th></th>\n",
       "      <th>datetime</th>\n",
       "      <th>tus</th>\n",
       "      <th>adr</th>\n",
       "      <th>dau</th>\n",
       "      <th>det</th>\n",
       "      <th>erg</th>\n",
       "      <th>keV</th>\n",
       "      <th>st</th>\n",
       "      <th>dt</th>\n",
       "      <th>flag</th>\n",
       "    </tr>\n",
       "  </thead>\n",
       "  <tbody>\n",
       "    <tr>\n",
       "      <th>0</th>\n",
       "      <td>2018-12-22 20:08:40.938758722</td>\n",
       "      <td>-176.077241</td>\n",
       "      <td>1</td>\n",
       "      <td>1</td>\n",
       "      <td>1</td>\n",
       "      <td>85</td>\n",
       "      <td>830.2813</td>\n",
       "      <td>2.321125</td>\n",
       "      <td>0.000</td>\n",
       "      <td>False</td>\n",
       "    </tr>\n",
       "    <tr>\n",
       "      <th>1</th>\n",
       "      <td>2018-12-22 20:08:40.938839972</td>\n",
       "      <td>-176.077160</td>\n",
       "      <td>1</td>\n",
       "      <td>1</td>\n",
       "      <td>1</td>\n",
       "      <td>78</td>\n",
       "      <td>763.0874</td>\n",
       "      <td>2.052350</td>\n",
       "      <td>81.250</td>\n",
       "      <td>False</td>\n",
       "    </tr>\n",
       "    <tr>\n",
       "      <th>2</th>\n",
       "      <td>2018-12-22 20:08:40.938840639</td>\n",
       "      <td>-176.077159</td>\n",
       "      <td>9</td>\n",
       "      <td>3</td>\n",
       "      <td>3</td>\n",
       "      <td>57</td>\n",
       "      <td>1254.9009</td>\n",
       "      <td>1.169934</td>\n",
       "      <td>552.445</td>\n",
       "      <td>False</td>\n",
       "    </tr>\n",
       "    <tr>\n",
       "      <th>3</th>\n",
       "      <td>2018-12-22 20:08:40.939426472</td>\n",
       "      <td>-176.076574</td>\n",
       "      <td>12</td>\n",
       "      <td>4</td>\n",
       "      <td>3</td>\n",
       "      <td>91</td>\n",
       "      <td>1097.8659</td>\n",
       "      <td>2.326220</td>\n",
       "      <td>0.000</td>\n",
       "      <td>False</td>\n",
       "    </tr>\n",
       "    <tr>\n",
       "      <th>4</th>\n",
       "      <td>2018-12-22 20:08:40.939426528</td>\n",
       "      <td>-176.076573</td>\n",
       "      <td>2</td>\n",
       "      <td>1</td>\n",
       "      <td>2</td>\n",
       "      <td>28</td>\n",
       "      <td>518.0864</td>\n",
       "      <td>1.036173</td>\n",
       "      <td>586.528</td>\n",
       "      <td>False</td>\n",
       "    </tr>\n",
       "  </tbody>\n",
       "</table>\n",
       "</div>"
      ],
      "text/plain": [
       "                       datetime         tus  adr  dau  det  erg        keV  \\\n",
       "0 2018-12-22 20:08:40.938758722 -176.077241    1    1    1   85   830.2813   \n",
       "1 2018-12-22 20:08:40.938839972 -176.077160    1    1    1   78   763.0874   \n",
       "2 2018-12-22 20:08:40.938840639 -176.077159    9    3    3   57  1254.9009   \n",
       "3 2018-12-22 20:08:40.939426472 -176.076574   12    4    3   91  1097.8659   \n",
       "4 2018-12-22 20:08:40.939426528 -176.076573    2    1    2   28   518.0864   \n",
       "\n",
       "         st       dt   flag  \n",
       "0  2.321125    0.000  False  \n",
       "1  2.052350   81.250  False  \n",
       "2  1.169934  552.445  False  \n",
       "3  2.326220    0.000  False  \n",
       "4  1.036173  586.528  False  "
      ]
     },
     "execution_count": 111,
     "metadata": {},
     "output_type": "execute_result"
    }
   ],
   "source": [
    "tlagg_asim = -0.44\n",
    "\n",
    "df_asim = harvest_data(fn='2018_12_22_20_11_36',T0='2018-12-22T20:11:36.576')\n",
    "df_asim['tus']+=tlagg_asim\n",
    "tus_asim = df_asim['tus'].to_numpy()\n",
    "#bin tus_asim by the bins specified by KW"
   ]
  },
  {
   "cell_type": "code",
   "execution_count": 43,
   "id": "c82bf3e5-a884-49d0-95a6-653483d69187",
   "metadata": {},
   "outputs": [
    {
     "data": {
      "text/html": [
       "<div>\n",
       "<style scoped>\n",
       "    .dataframe tbody tr th:only-of-type {\n",
       "        vertical-align: middle;\n",
       "    }\n",
       "\n",
       "    .dataframe tbody tr th {\n",
       "        vertical-align: top;\n",
       "    }\n",
       "\n",
       "    .dataframe thead th {\n",
       "        text-align: right;\n",
       "    }\n",
       "</style>\n",
       "<table border=\"1\" class=\"dataframe\">\n",
       "  <thead>\n",
       "    <tr style=\"text-align: right;\">\n",
       "      <th></th>\n",
       "      <th>Ti</th>\n",
       "      <th>Tf</th>\n",
       "      <th>G1</th>\n",
       "      <th>G2</th>\n",
       "      <th>G3</th>\n",
       "    </tr>\n",
       "  </thead>\n",
       "  <tbody>\n",
       "    <tr>\n",
       "      <th>0</th>\n",
       "      <td>-0.512</td>\n",
       "      <td>-0.510</td>\n",
       "      <td>0.00</td>\n",
       "      <td>1.00</td>\n",
       "      <td>0.0</td>\n",
       "    </tr>\n",
       "    <tr>\n",
       "      <th>1</th>\n",
       "      <td>-0.510</td>\n",
       "      <td>-0.508</td>\n",
       "      <td>5.04</td>\n",
       "      <td>1.00</td>\n",
       "      <td>0.0</td>\n",
       "    </tr>\n",
       "    <tr>\n",
       "      <th>2</th>\n",
       "      <td>-0.508</td>\n",
       "      <td>-0.506</td>\n",
       "      <td>1.00</td>\n",
       "      <td>0.00</td>\n",
       "      <td>0.0</td>\n",
       "    </tr>\n",
       "    <tr>\n",
       "      <th>3</th>\n",
       "      <td>-0.506</td>\n",
       "      <td>-0.504</td>\n",
       "      <td>0.00</td>\n",
       "      <td>0.00</td>\n",
       "      <td>1.0</td>\n",
       "    </tr>\n",
       "    <tr>\n",
       "      <th>4</th>\n",
       "      <td>-0.504</td>\n",
       "      <td>-0.502</td>\n",
       "      <td>1.00</td>\n",
       "      <td>2.01</td>\n",
       "      <td>0.0</td>\n",
       "    </tr>\n",
       "  </tbody>\n",
       "</table>\n",
       "</div>"
      ],
      "text/plain": [
       "      Ti     Tf    G1    G2   G3\n",
       "0 -0.512 -0.510  0.00  1.00  0.0\n",
       "1 -0.510 -0.508  5.04  1.00  0.0\n",
       "2 -0.508 -0.506  1.00  0.00  0.0\n",
       "3 -0.506 -0.504  0.00  0.00  1.0\n",
       "4 -0.504 -0.502  1.00  2.01  0.0"
      ]
     },
     "execution_count": 43,
     "metadata": {},
     "output_type": "execute_result"
    }
   ],
   "source": [
    "#importing KW LC\n",
    "\n",
    "kw_fn = 'GRB181222B_2ms.txt'\n",
    "kw_df = pd.read_csv(kw_lc_path+kw_fn,sep='\\s+')\n",
    "kw_bin_lo,kw_bin_hi,G1,G2,G3= kw_df[\"Ti\"].to_numpy(dtype=np.float32), kw_df[\"Tf\"].to_numpy(dtype=np.float32),kw_df[\"G1\"].to_numpy(dtype=np.float32), kw_df[\"G2\"].to_numpy(dtype=np.float32), kw_df[\"G3\"].to_numpy(dtype=np.float32)\n",
    "kw_df.head()"
   ]
  },
  {
   "cell_type": "code",
   "execution_count": 112,
   "id": "a326a870-13c6-4d34-bcd6-549374d01f2e",
   "metadata": {},
   "outputs": [
    {
     "data": {
      "image/png": "[encoded data removed]",
      "text/plain": [
       "<Figure size 1152x576 with 4 Axes>"
      ]
     },
     "metadata": {
      "needs_background": "light"
     },
     "output_type": "display_data"
    }
   ],
   "source": [
    "fig = plt.figure(figsize=(16, 8))\n",
    "\n",
    "binsize=0.002\n",
    "intervals = [[0.0,0.512],[0.128,0.256]]\n",
    "\n",
    "ax_height = 1/4\n",
    "\n",
    "ax1 = fig.add_axes([0.1, 1-ax_height, 0.27, ax_height], xticklabels=[], ylim=(0, 400))\n",
    "ax2 = fig.add_axes([0.1, 1-2*ax_height, 0.27, ax_height], xticklabels=[], ylim=(0, 200))\n",
    "ax3 = fig.add_axes([0.1, 1-3*ax_height, 0.27, ax_height], xticklabels=[], ylim=(0, 500))\n",
    "ax4 = fig.add_axes([0.1, 1-4*ax_height, 0.27, ax_height], xticklabels=[], ylim=(0, 500))\n",
    "\n",
    "\n",
    "# set the yticks for each subplot\n",
    "\n",
    "ax2.set_yticks([])\n",
    "ax3.set_yticks([])\n",
    "ax4.set_yticks([])\n",
    "\n",
    "kw_dt = np.round(np.diff(kw_bin_lo),3)\n",
    "jx_kw = np.where(kw_dt>binsize)[0][0]+35 #finding first entry where the binsize increases\n",
    "kw_counts_1 = G1[:jx_kw]+G2[:jx_kw]+G3[:jx_kw]\n",
    "#kw_counts_2 = G1[jx_kw:jx_kw+100]+G1[jx_kw:jx_kw+100]+G1[jx_kw:jx_kw+100]/8\n",
    "ax1.step(x=kw_bin_lo[:jx_kw],y=kw_counts_1,where='pre',label='KW\\nG1,G2,G3',color='black')\n",
    "#ax1.step(x=kw_bin_lo[jx_kw:jx_kw+100],y=kw_counts,where='pre',label='KW',color='black')\n",
    "ax1.set_yticks([0,100,200,300,400])\n",
    "ax1.set_ylabel(f'cnts  /  {round(binsize*1e3)} / 16 ms')\n",
    "ax1.vlines(x=intervals[0][0],ymin=0,ymax=400,color='black',linestyle='--')\n",
    "ax1.vlines(x=intervals[0][1],ymin=0,ymax=400,color='black',linestyle='--')\n",
    "ax1.vlines(x=intervals[1][0],ymin=0,ymax=400,color='red',linestyle='--')\n",
    "ax1.vlines(x=intervals[1][1],ymin=0,ymax=400,color='red',linestyle='--')\n",
    "ax1.legend()\n",
    "plt.xlabel('Time since KW trigger time [T-T0]')\n",
    "plt.show()"
   ]
  }
 ],
 "metadata": {
  "kernelspec": {
   "display_name": "base",
   "language": "python",
   "name": "base"
  },
  "language_info": {
   "codemirror_mode": {
    "name": "ipython",
    "version": 3
   },
   "file_extension": ".py",
   "mimetype": "text/x-python",
   "name": "python",
   "nbconvert_exporter": "python",
   "pygments_lexer": "ipython3",
   "version": "3.9.13"
  }
 },
 "nbformat": 4,
 "nbformat_minor": 5
}
