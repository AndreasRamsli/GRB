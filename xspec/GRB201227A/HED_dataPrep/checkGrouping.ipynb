{
 "cells": [
  {
   "cell_type": "code",
   "execution_count": 3,
   "id": "3bd3f0d6-9073-42c4-bfa1-84b8887288f7",
   "metadata": {},
   "outputs": [],
   "source": [
    "from astropy.io import fits\n",
    "import astropy.table as Table"
   ]
  },
  {
   "cell_type": "code",
   "execution_count": 26,
   "id": "888a1238-942e-4dd4-b9ac-cf445be13a22",
   "metadata": {},
   "outputs": [
    {
     "data": {
      "text/plain": [
       "FITS_rec([( 1,      0,  0.      ,  1), ( 2,      0,  0.      , -1),\n",
       "          ( 3,      0,  0.      , -1), ( 4,      0,  0.      , -1),\n",
       "          ( 5,      0,  0.      , -1), ( 6,      0,  0.      , -1),\n",
       "          ( 7,      0,  0.      , -1), ( 8,      0,  0.      , -1),\n",
       "          ( 9,      0,  0.      , -1), (10,      0,  0.      , -1),\n",
       "          (11,      0,  0.      , -1), (12,      0,  0.      , -1),\n",
       "          (13,      0,  0.      , -1), (14,      1,  1.      , -1),\n",
       "          (15,     24,  4.898979, -1), (16,     35,  5.91608 ,  1),\n",
       "          (17,    107, 10.34408 ,  1), (18,     87,  9.327379,  1),\n",
       "          (19,     74,  8.602325,  1), (20,     56,  7.483315,  1),\n",
       "          (21,     51,  7.141428,  1), (22,     32,  5.656854,  1),\n",
       "          (23,     17,  4.123106,  1), (24,     14,  3.741657, -1),\n",
       "          (25,      9,  3.      ,  1), (26,      9,  3.      , -1),\n",
       "          (27,      3,  1.732051, -1), (28,      6,  2.44949 ,  1),\n",
       "          (29,      3,  1.732051, -1), (30,      0,  0.      , -1),\n",
       "          (31,      4,  2.      , -1), (32,      4,  2.      , -1),\n",
       "          (33,      2,  1.414214, -1), (34,      1,  1.      , -1),\n",
       "          (35,      9,  3.      ,  1), (36,      3,  1.732051,  1),\n",
       "          (37,      0,  0.      ,  1), (38,      0,  0.      ,  1),\n",
       "          (39,      0,  0.      ,  1), (40,      0,  0.      ,  1)],\n",
       "         dtype=(numpy.record, [('CHANNEL', '>i2'), ('COUNTS', '>i2'), ('STAT_ERR', '>f4'), ('GROUPING', '>i2')]))"
      ]
     },
     "execution_count": 26,
     "metadata": {},
     "output_type": "execute_result"
    }
   ],
   "source": [
    "hdul = fits.open(\"HED_PHA_1.fits\")\n",
    "hdul[1].data"
   ]
  },
  {
   "cell_type": "code",
   "execution_count": 27,
   "id": "edb930e7-d17e-4e57-8c22-89f2ffcfcca1",
   "metadata": {},
   "outputs": [
    {
     "data": {
      "text/plain": [
       "FITS_rec([( 1, 32768,  0.      , 0,  1), ( 2, 32768,  0.      , 0, -1),\n",
       "          ( 3, 32768,  0.      , 0, -1), ( 4, 32768,  0.      , 0, -1),\n",
       "          ( 5, 32768,  0.      , 0, -1), ( 6, 32768,  0.      , 0, -1),\n",
       "          ( 7, 32768,  0.      , 0, -1), ( 8, 32768,  0.      , 0, -1),\n",
       "          ( 9, 32768,  0.      , 0, -1), (10, 32768,  0.      , 0, -1),\n",
       "          (11, 32768,  0.      , 0, -1), (12, 32768,  0.      , 0, -1),\n",
       "          (13, 32768,  0.      , 0, -1), (14, 32769,  1.      , 0, -1),\n",
       "          (15, 32792,  4.898979, 0, -1), (16, 32803,  5.91608 , 0,  1),\n",
       "          (17, 32875, 10.34408 , 0,  1), (18, 32855,  9.327379, 0,  1),\n",
       "          (19, 32842,  8.602325, 0,  1), (20, 32824,  7.483315, 0,  1),\n",
       "          (21, 32819,  7.141428, 0,  1), (22, 32800,  5.656854, 0,  1),\n",
       "          (23, 32785,  4.123106, 0,  1), (24, 32782,  3.741657, 0, -1),\n",
       "          (25, 32777,  3.      , 0,  1), (26, 32777,  3.      , 0, -1),\n",
       "          (27, 32771,  1.732051, 0, -1), (28, 32774,  2.44949 , 0,  1),\n",
       "          (29, 32771,  1.732051, 0, -1), (30, 32768,  0.      , 0, -1),\n",
       "          (31, 32772,  2.      , 0, -1), (32, 32772,  2.      , 0, -1),\n",
       "          (33, 32770,  1.414214, 0, -1), (34, 32769,  1.      , 0, -1),\n",
       "          (35, 32777,  3.      , 2,  1), (36, 32771,  1.732051, 2,  1),\n",
       "          (37, 32768,  0.      , 2,  1), (38, 32768,  0.      , 2,  1),\n",
       "          (39, 32768,  0.      , 2,  1), (40, 32768,  0.      , 2,  1)],\n",
       "         dtype=(numpy.record, [('CHANNEL', '>i4'), ('COUNTS', '>i4'), ('STAT_ERR', '>f4'), ('QUALITY', '>i2'), ('GROUPING', '>i2')]))"
      ]
     },
     "execution_count": 27,
     "metadata": {},
     "output_type": "execute_result"
    }
   ],
   "source": [
    "hdul_gr = fits.open(\"HED_PHA_gr20.fits\")\n",
    "hdul_gr[1].data"
   ]
  },
  {
   "cell_type": "code",
   "execution_count": 29,
   "id": "16b953a3-bdb1-4de3-b64b-d42e0032c0fc",
   "metadata": {},
   "outputs": [
    {
     "data": {
      "text/plain": [
       "True"
      ]
     },
     "execution_count": 29,
     "metadata": {},
     "output_type": "execute_result"
    }
   ],
   "source": [
    "np.all(hdul_gr[1].data[\"GROUPING\"] == hdul[1].data[\"GROUPING\"])"
   ]
  },
  {
   "cell_type": "code",
   "execution_count": 22,
   "id": "4a1037b1-bdff-4dc5-8c6d-574c0cf2fece",
   "metadata": {},
   "outputs": [],
   "source": [
    "import numpy as np"
   ]
  },
  {
   "cell_type": "code",
   "execution_count": null,
   "id": "dd50961e-41db-4340-9a74-be486822f2ce",
   "metadata": {},
   "outputs": [],
   "source": []
  }
 ],
 "metadata": {
  "kernelspec": {
   "display_name": "base",
   "language": "python",
   "name": "base"
  },
  "language_info": {
   "codemirror_mode": {
    "name": "ipython",
    "version": 3
   },
   "file_extension": ".py",
   "mimetype": "text/x-python",
   "name": "python",
   "nbconvert_exporter": "python",
   "pygments_lexer": "ipython3",
   "version": "3.9.7"
  }
 },
 "nbformat": 4,
 "nbformat_minor": 5
}
