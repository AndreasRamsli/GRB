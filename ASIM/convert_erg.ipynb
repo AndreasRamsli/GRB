{
 "cells": [
  {
   "cell_type": "code",
   "execution_count": 5,
   "id": "95a3ee66-4e2d-4704-a4dc-69173f387c6a",
   "metadata": {},
   "outputs": [],
   "source": [
    "import pandas as pd\n",
    "import numpy as np\n",
    "import matplotlib.pyplot as plt\n",
    "import os \n",
    "import glob\n",
    "import sys\n",
    "from datetime import datetime, timedelta"
   ]
  },
  {
   "cell_type": "code",
   "execution_count": 2,
   "id": "a9f64fbf-f6c3-47ef-97d9-d1867b1002e8",
   "metadata": {},
   "outputs": [],
   "source": [
    "path = \"/Users/andreas/phys/master/GRB/ASIM/COEFS/BGO/\""
   ]
  },
  {
   "cell_type": "code",
   "execution_count": 7,
   "id": "9da3b735-a818-4dee-84fa-ee7b75c3e98c",
   "metadata": {},
   "outputs": [],
   "source": [
    "coef_filenames = glob.glob(path + \"*.txt\")"
   ]
  },
  {
   "cell_type": "code",
   "execution_count": 9,
   "id": "bcfdcef5-4057-48ca-8a17-b268e747e186",
   "metadata": {},
   "outputs": [
    {
     "data": {
      "text/html": [
       "<div>\n",
       "<style scoped>\n",
       "    .dataframe tbody tr th:only-of-type {\n",
       "        vertical-align: middle;\n",
       "    }\n",
       "\n",
       "    .dataframe tbody tr th {\n",
       "        vertical-align: top;\n",
       "    }\n",
       "\n",
       "    .dataframe thead th {\n",
       "        text-align: right;\n",
       "    }\n",
       "</style>\n",
       "<table border=\"1\" class=\"dataframe\">\n",
       "  <thead>\n",
       "    <tr style=\"text-align: right;\">\n",
       "      <th></th>\n",
       "      <th>DAU 3 CH 1</th>\n",
       "    </tr>\n",
       "  </thead>\n",
       "  <tbody>\n",
       "    <tr>\n",
       "      <th>0</th>\n",
       "      <td>DATE        TIME      a         b         c   ...</td>\n",
       "    </tr>\n",
       "    <tr>\n",
       "      <th>1</th>\n",
       "      <td>04-Jun-2018 00:01:21  -0.000637 19.6818    -10...</td>\n",
       "    </tr>\n",
       "    <tr>\n",
       "      <th>2</th>\n",
       "      <td>04-Jun-2018 12:01:34  -0.000638 19.6832    -10...</td>\n",
       "    </tr>\n",
       "    <tr>\n",
       "      <th>3</th>\n",
       "      <td>05-Jun-2018 00:01:48  -0.000641 19.6731    -10...</td>\n",
       "    </tr>\n",
       "    <tr>\n",
       "      <th>4</th>\n",
       "      <td>05-Jun-2018 12:02:01  -0.000599 19.5929    -9....</td>\n",
       "    </tr>\n",
       "    <tr>\n",
       "      <th>...</th>\n",
       "      <td>...</td>\n",
       "    </tr>\n",
       "    <tr>\n",
       "      <th>2175</th>\n",
       "      <td>18-Jun-2021 20:22:13  -0.003733 24.8771     6....</td>\n",
       "    </tr>\n",
       "    <tr>\n",
       "      <th>2176</th>\n",
       "      <td>19-Jun-2021 08:22:27  -0.003729 24.8611     3....</td>\n",
       "    </tr>\n",
       "    <tr>\n",
       "      <th>2177</th>\n",
       "      <td>19-Jun-2021 20:22:40  -0.003648 24.7282     4....</td>\n",
       "    </tr>\n",
       "    <tr>\n",
       "      <th>2178</th>\n",
       "      <td>20-Jun-2021 08:22:54  -0.003626 24.6898     1....</td>\n",
       "    </tr>\n",
       "    <tr>\n",
       "      <th>2179</th>\n",
       "      <td>20-Jun-2021 20:23:07  -0.003581  24.613     3....</td>\n",
       "    </tr>\n",
       "  </tbody>\n",
       "</table>\n",
       "<p>2180 rows × 1 columns</p>\n",
       "</div>"
      ],
      "text/plain": [
       "     DAU 3 CH 1                                          \n",
       "0     DATE        TIME      a         b         c   ...  \n",
       "1     04-Jun-2018 00:01:21  -0.000637 19.6818    -10...  \n",
       "2     04-Jun-2018 12:01:34  -0.000638 19.6832    -10...  \n",
       "3     05-Jun-2018 00:01:48  -0.000641 19.6731    -10...  \n",
       "4     05-Jun-2018 12:02:01  -0.000599 19.5929    -9....  \n",
       "...                                                 ...  \n",
       "2175  18-Jun-2021 20:22:13  -0.003733 24.8771     6....  \n",
       "2176  19-Jun-2021 08:22:27  -0.003729 24.8611     3....  \n",
       "2177  19-Jun-2021 20:22:40  -0.003648 24.7282     4....  \n",
       "2178  20-Jun-2021 08:22:54  -0.003626 24.6898     1....  \n",
       "2179  20-Jun-2021 20:23:07  -0.003581  24.613     3....  \n",
       "\n",
       "[2180 rows x 1 columns]"
      ]
     },
     "execution_count": 9,
     "metadata": {},
     "output_type": "execute_result"
    }
   ],
   "source": [
    "pd.read_csv(coef_filenames[0],)"
   ]
  },
  {
   "cell_type": "code",
   "execution_count": null,
   "id": "9101fcb5-7ef6-480c-99d8-6e06985924c3",
   "metadata": {},
   "outputs": [],
   "source": []
  },
  {
   "cell_type": "code",
   "execution_count": null,
   "id": "5611506c-cea5-4897-bd00-4da5c9fff302",
   "metadata": {},
   "outputs": [],
   "source": []
  },
  {
   "cell_type": "code",
   "execution_count": null,
   "id": "b42cf032-7f19-4afe-95f6-145806a8a341",
   "metadata": {},
   "outputs": [],
   "source": []
  }
 ],
 "metadata": {
  "kernelspec": {
   "display_name": "sklearn",
   "language": "python",
   "name": "sklearn"
  },
  "language_info": {
   "codemirror_mode": {
    "name": "ipython",
    "version": 3
   },
   "file_extension": ".py",
   "mimetype": "text/x-python",
   "name": "python",
   "nbconvert_exporter": "python",
   "pygments_lexer": "ipython3",
   "version": "3.10.4"
  }
 },
 "nbformat": 4,
 "nbformat_minor": 5
}
