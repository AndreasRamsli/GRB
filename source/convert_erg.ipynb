{
 "cells": [
  {
   "cell_type": "code",
   "execution_count": 9,
   "id": "95a3ee66-4e2d-4704-a4dc-69173f387c6a",
   "metadata": {},
   "outputs": [],
   "source": [
    "import pandas as pd\n",
    "import numpy as np\n",
    "import matplotlib.pyplot as plt\n",
    "import os \n",
    "import glob\n",
    "import sys\n",
    "from datetime import datetime, timedelta\n",
    "%run read_matlab_file.ipynb"
   ]
  },
  {
   "cell_type": "code",
   "execution_count": 112,
   "id": "a9f64fbf-f6c3-47ef-97d9-d1867b1002e8",
   "metadata": {},
   "outputs": [],
   "source": [
    "#path = \"/Users/andreas/phys/master/GRB/ASIM/COEFS/BGO/\" #MAC\n",
    "path = \"/Home/siv30/wad005/master/GRB/ASIM/COEFS/BGO/\" #UiB"
   ]
  },
  {
   "cell_type": "code",
   "execution_count": 3,
   "id": "9da3b735-a818-4dee-84fa-ee7b75c3e98c",
   "metadata": {},
   "outputs": [],
   "source": [
    "coef_filenames = glob.glob(path + \"*.txt\")"
   ]
  },
  {
   "cell_type": "code",
   "execution_count": 67,
   "id": "bcfdcef5-4057-48ca-8a17-b268e747e186",
   "metadata": {},
   "outputs": [],
   "source": [
    "dfs_list = []\n",
    "for i in np.arange(0,len(coef_filenames)):\n",
    "    df = pd.read_csv(coef_filenames[i],delim_whitespace=True)\n",
    "    #joining date and time \n",
    "    dt_list = []\n",
    "    date_arr = df[\"DATE\"].values\n",
    "    time_arr = df[\"TIME\"].values\n",
    "    for i in np.arange(0,len(date_arr)):\n",
    "        dt_str = date_arr[i]+ \" \" + time_arr[i]\n",
    "        dt = datetime.strptime(dt_str, \"%d-%b-%Y %H:%M:%S\")\n",
    "        dt_list.append(dt)\n",
    "    df[\"datetime\"] = dt_list\n",
    "    df = df.drop(columns=[\"DATE\",\"TIME\"])\n",
    "    dfs_list.append(df)"
   ]
  },
  {
   "cell_type": "code",
   "execution_count": 71,
   "id": "50c62f4a-59b2-4950-a143-b2aab1e7948a",
   "metadata": {},
   "outputs": [],
   "source": [
    "dfs = {\"dau_1_det_1\":dfs_list[0],\"dau_1_det_2\":dfs_list[1],\"dau_1_det_3\":dfs_list[2],\"dau_2_det_1\":dfs_list[3],\n",
    "      \"dau_2_det_2\":dfs_list[4],\"dau_2_det_3\":dfs_list[5],\"dau_3_det_1\":dfs_list[6],\"dau_3_det_2\":dfs_list[7],\n",
    "      \"dau_3_det_3\":dfs_list[8],\"dau_4_det_1\":dfs_list[9],\"dau_4_det_2\":dfs_list[10],\"dau_4_det_3\":dfs_list[11]}"
   ]
  },
  {
   "cell_type": "code",
   "execution_count": 72,
   "id": "4a925235-8c62-49ab-8211-72265c837227",
   "metadata": {},
   "outputs": [],
   "source": [
    "dau_det_list = []\n",
    "for i in np.arange(1,5):\n",
    "        for j in np.arange(1,4):\n",
    "            dau_det_list.append(\"dau_{}_det_{}\".format(i,j))"
   ]
  },
  {
   "cell_type": "code",
   "execution_count": 73,
   "id": "3ae67e6d-31ba-4aba-8be0-cee0718bce33",
   "metadata": {},
   "outputs": [],
   "source": [
    "tus, erg, typ, adr, dau, det, date = read_matlab_file_with_BGO_data(trig_dict_HED[\"GRB200415\"][0])\n",
    "T0 = datetime.strptime(date, \"%Y-%b-%d %H:%M:%S.%f\")"
   ]
  },
  {
   "cell_type": "code",
   "execution_count": 77,
   "id": "f86026cb-8c84-436a-9adb-11bdd6c0238d",
   "metadata": {},
   "outputs": [],
   "source": [
    "def get_coefs(T0):\n",
    "    \"\"\"Input only T0 for the GRB event.\n",
    "    Function will return a, b, c for all 12 detectors\"\"\"\n",
    "    dau_det_coefs = {}\n",
    "    \n",
    "    for i in np.arange(1,5): #generating the output dict containing the coefs\n",
    "        for j in np.arange(1,4):\n",
    "            dau_det_coefs[\"dau_{}_det_{}\".format(i,j)] = None\n",
    "            \n",
    "    for dau_det in dau_det_list:\n",
    "        row = dfs[dau_det].iloc[dfs[dau_det].set_index('datetime').index.get_indexer([T0], method='nearest')]\n",
    "        dau_det_coefs[dau_det] = {\"a\":row[\"a\"].values[0], \"b\": row[\"b\"].values[0], \"c\":row[\"c\"].values[0]}\n",
    "    return dau_det_coefs"
   ]
  },
  {
   "cell_type": "code",
   "execution_count": 113,
   "id": "86fff68a-6977-41b3-940f-031f22790512",
   "metadata": {},
   "outputs": [
    {
     "data": {
      "text/plain": [
       "{'dau_1_det_1': {'a': 0.005245, 'b': 8.4154, 'c': 64.54628},\n",
       " 'dau_1_det_2': {'a': -0.002817, 'b': 22.3117, 'c': -7.48475},\n",
       " 'dau_1_det_3': {'a': 0.002895, 'b': 10.5845, 'c': 33.544},\n",
       " 'dau_2_det_1': {'a': 0.006566, 'b': 6.6033, 'c': 84.98722},\n",
       " 'dau_2_det_2': {'a': 0.004184, 'b': 11.7314, 'c': 29.3111},\n",
       " 'dau_2_det_3': {'a': 0.004798, 'b': 9.72422, 'c': 47.9505},\n",
       " 'dau_3_det_1': {'a': -0.002714, 'b': 23.1905, 'c': 0.891068},\n",
       " 'dau_3_det_2': {'a': -0.005435, 'b': 28.0135, 'c': -20.6767},\n",
       " 'dau_3_det_3': {'a': -0.003606, 'b': 24.6944, 'c': -0.866357},\n",
       " 'dau_4_det_1': {'a': 0.00306, 'b': 12.1257, 'c': 37.1393},\n",
       " 'dau_4_det_2': {'a': 0.001654, 'b': 16.4206, 'c': -43.19642},\n",
       " 'dau_4_det_3': {'a': 0.002252, 'b': 12.9039, 'c': 14.2497}}"
      ]
     },
     "execution_count": 113,
     "metadata": {},
     "output_type": "execute_result"
    }
   ],
   "source": [
    "dau_det_coefs = get_coefs(T0)\n",
    "dau_det_coefs"
   ]
  },
  {
   "cell_type": "code",
   "execution_count": 99,
   "id": "23f4f783-08c7-4e8c-b7d1-ec67cffd0e71",
   "metadata": {},
   "outputs": [],
   "source": [
    "def erg_convert(erg):\n",
    "    \"\"\"keV = (A*CHANNEL^2) + (B*CHANNEL) + C\"\"\"\n",
    "    keV_list = []\n",
    "    a_list = []\n",
    "    b_list = []\n",
    "    c_list = []\n",
    "    for i in np.arange(0,len(erg)):\n",
    "        dau_val = dau[i]\n",
    "        det_val = det[i]\n",
    "        erg_val = erg[i]\n",
    "        \n",
    "\n",
    "        a = dau_det_coefs[\"dau_{}_det_{}\".format(dau_val,det_val)][\"a\"]\n",
    "        a_list.append(a)\n",
    "        \n",
    "        b = dau_det_coefs[\"dau_{}_det_{}\".format(dau_val,det_val)][\"b\"]\n",
    "        b_list.append(b)\n",
    "        \n",
    "        c = dau_det_coefs[\"dau_{}_det_{}\".format(dau_val,det_val)][\"c\"]\n",
    "        c_list.append(c)\n",
    "        \n",
    "        keV = a*erg_val**2 + b*erg_val + c\n",
    "        \n",
    "        keV_list.append(keV)\n",
    "    return np.array(keV_list), np.array(a_list), np.array(b_list), np.array(c_list)"
   ]
  },
  {
   "cell_type": "code",
   "execution_count": 100,
   "id": "fe34160d-6d62-4730-8001-b00993fed4b6",
   "metadata": {},
   "outputs": [],
   "source": [
    "keV_arr,a_arr, b_arr, c_arr = erg_convert(erg)"
   ]
  },
  {
   "cell_type": "code",
   "execution_count": 101,
   "id": "cb02c158-c817-4fae-93a6-0fc7dbeb7a43",
   "metadata": {},
   "outputs": [
    {
     "name": "stdout",
     "output_type": "stream",
     "text": [
      "Max energy in MeV:  42.567\n"
     ]
    }
   ],
   "source": [
    "print(\"Max energy in MeV: \", round(max(keV_arr))/1e3)"
   ]
  },
  {
   "cell_type": "code",
   "execution_count": 103,
   "id": "b234c5ff-4394-41b3-9a96-fb9d81043f7f",
   "metadata": {},
   "outputs": [],
   "source": [
    "def create_df(tus,erg,dau,det,a,b,c,keV):\n",
    "\n",
    "    for arr in [tus,erg,dau,det,a,b,c,keV]:\n",
    "        if len(arr) != len(tus):\n",
    "            return print(\"length of arrays is not equal\")\n",
    "        else:\n",
    "            continue\n",
    "    df = pd.DataFrame({\"tus\":tus,\"erg\":erg,\"dau\":dau,\"det\":det,\"a\":a,\"b\":b,\"c\":c,\"keV\":keV})\n",
    "    return df"
   ]
  },
  {
   "cell_type": "code",
   "execution_count": 111,
   "id": "22867a64-5bf1-4554-99f7-22bc1f9e087f",
   "metadata": {},
   "outputs": [
    {
     "data": {
      "text/html": [
       "<div>\n",
       "<style scoped>\n",
       "    .dataframe tbody tr th:only-of-type {\n",
       "        vertical-align: middle;\n",
       "    }\n",
       "\n",
       "    .dataframe tbody tr th {\n",
       "        vertical-align: top;\n",
       "    }\n",
       "\n",
       "    .dataframe thead th {\n",
       "        text-align: right;\n",
       "    }\n",
       "</style>\n",
       "<table border=\"1\" class=\"dataframe\">\n",
       "  <thead>\n",
       "    <tr style=\"text-align: right;\">\n",
       "      <th></th>\n",
       "      <th>tus</th>\n",
       "      <th>erg</th>\n",
       "      <th>dau</th>\n",
       "      <th>det</th>\n",
       "      <th>a</th>\n",
       "      <th>b</th>\n",
       "      <th>c</th>\n",
       "      <th>keV</th>\n",
       "    </tr>\n",
       "  </thead>\n",
       "  <tbody>\n",
       "    <tr>\n",
       "      <th>0</th>\n",
       "      <td>-971248.527778</td>\n",
       "      <td>30</td>\n",
       "      <td>3</td>\n",
       "      <td>2</td>\n",
       "      <td>-0.005435</td>\n",
       "      <td>28.0135</td>\n",
       "      <td>-20.67670</td>\n",
       "      <td>814.836800</td>\n",
       "    </tr>\n",
       "    <tr>\n",
       "      <th>1</th>\n",
       "      <td>-970898.583333</td>\n",
       "      <td>41</td>\n",
       "      <td>4</td>\n",
       "      <td>2</td>\n",
       "      <td>0.001654</td>\n",
       "      <td>16.4206</td>\n",
       "      <td>-43.19642</td>\n",
       "      <td>632.828554</td>\n",
       "    </tr>\n",
       "    <tr>\n",
       "      <th>2</th>\n",
       "      <td>-970399.888889</td>\n",
       "      <td>54</td>\n",
       "      <td>1</td>\n",
       "      <td>1</td>\n",
       "      <td>0.005245</td>\n",
       "      <td>8.4154</td>\n",
       "      <td>64.54628</td>\n",
       "      <td>534.272300</td>\n",
       "    </tr>\n",
       "    <tr>\n",
       "      <th>3</th>\n",
       "      <td>-969958.055556</td>\n",
       "      <td>216</td>\n",
       "      <td>1</td>\n",
       "      <td>1</td>\n",
       "      <td>0.005245</td>\n",
       "      <td>8.4154</td>\n",
       "      <td>64.54628</td>\n",
       "      <td>2126.983400</td>\n",
       "    </tr>\n",
       "    <tr>\n",
       "      <th>4</th>\n",
       "      <td>-969650.083333</td>\n",
       "      <td>197</td>\n",
       "      <td>1</td>\n",
       "      <td>1</td>\n",
       "      <td>0.005245</td>\n",
       "      <td>8.4154</td>\n",
       "      <td>64.54628</td>\n",
       "      <td>1925.933285</td>\n",
       "    </tr>\n",
       "  </tbody>\n",
       "</table>\n",
       "</div>"
      ],
      "text/plain": [
       "             tus  erg  dau  det         a        b         c          keV\n",
       "0 -971248.527778   30    3    2 -0.005435  28.0135 -20.67670   814.836800\n",
       "1 -970898.583333   41    4    2  0.001654  16.4206 -43.19642   632.828554\n",
       "2 -970399.888889   54    1    1  0.005245   8.4154  64.54628   534.272300\n",
       "3 -969958.055556  216    1    1  0.005245   8.4154  64.54628  2126.983400\n",
       "4 -969650.083333  197    1    1  0.005245   8.4154  64.54628  1925.933285"
      ]
     },
     "execution_count": 111,
     "metadata": {},
     "output_type": "execute_result"
    }
   ],
   "source": [
    "df = create_df(tus,erg,dau,det,a_arr,b_arr,c_arr,keV_arr)\n",
    "df.head()"
   ]
  },
  {
   "cell_type": "code",
   "execution_count": 110,
   "id": "acb331cf-8f94-4aac-9037-6fea3dd1230e",
   "metadata": {},
   "outputs": [],
   "source": [
    "#df.to_csv(path_or_buf=\"/Home/siv30/wad005/master/GRB/source/GRB_200415_calibration.csv\",index=False)"
   ]
  },
  {
   "cell_type": "code",
   "execution_count": null,
   "id": "8ebc2a7d-4151-4e02-a080-bdcc9f0e6050",
   "metadata": {},
   "outputs": [],
   "source": []
  },
  {
   "cell_type": "code",
   "execution_count": null,
   "id": "68e234fa-08fe-4efa-ba19-444f5aa6b43e",
   "metadata": {},
   "outputs": [],
   "source": []
  }
 ],
 "metadata": {
  "kernelspec": {
   "display_name": "base",
   "language": "python",
   "name": "base"
  },
  "language_info": {
   "codemirror_mode": {
    "name": "ipython",
    "version": 3
   },
   "file_extension": ".py",
   "mimetype": "text/x-python",
   "name": "python",
   "nbconvert_exporter": "python",
   "pygments_lexer": "ipython3",
   "version": "3.9.7"
  }
 },
 "nbformat": 4,
 "nbformat_minor": 5
}
