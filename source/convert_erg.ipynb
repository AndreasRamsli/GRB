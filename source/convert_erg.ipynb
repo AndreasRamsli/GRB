{
 "cells": [
  {
   "cell_type": "markdown",
   "id": "ca219d8c-f5b9-4b45-8166-ff94732a63f6",
   "metadata": {},
   "source": [
    "# Imports"
   ]
  },
  {
   "cell_type": "code",
   "execution_count": 102,
   "id": "95a3ee66-4e2d-4704-a4dc-69173f387c6a",
   "metadata": {},
   "outputs": [
    {
     "name": "stdout",
     "output_type": "stream",
     "text": [
      "read_matlab_file.ipynb loaded\n"
     ]
    }
   ],
   "source": [
    "import pandas as pd\n",
    "import numpy as np\n",
    "import matplotlib.pyplot as plt\n",
    "import os \n",
    "import glob\n",
    "import sys\n",
    "from datetime import datetime, timedelta\n",
    "%run read_matlab_file.ipynb"
   ]
  },
  {
   "cell_type": "markdown",
   "id": "badfb998-3e89-48f2-bbee-2a9b7125754f",
   "metadata": {},
   "source": [
    "# TODO\n",
    "-Make sure the right coefs are used. NOT CORRECT. Solution: sorted the list\n",
    "\n",
    "-Make sure erg is calibrated properly\n",
    "\n",
    "-Make a dataframe containing the same information as AL have produced"
   ]
  },
  {
   "cell_type": "code",
   "execution_count": 7,
   "id": "a9f64fbf-f6c3-47ef-97d9-d1867b1002e8",
   "metadata": {},
   "outputs": [],
   "source": [
    "path_coef = \"/Users/andreas/phys/master/GRB/ASIM/COEFS/BGO/\" #MAC\n",
    "#path_coef = \"/Home/siv30/wad005/master/GRB/ASIM/COEFS/BGO/\" #UiB"
   ]
  },
  {
   "cell_type": "code",
   "execution_count": 78,
   "id": "9da3b735-a818-4dee-84fa-ee7b75c3e98c",
   "metadata": {},
   "outputs": [],
   "source": [
    "coef_filenames = glob.glob(path_coef + \"*.txt\")\n",
    "coef_filenames.sort()"
   ]
  },
  {
   "cell_type": "code",
   "execution_count": 79,
   "id": "bcfdcef5-4057-48ca-8a17-b268e747e186",
   "metadata": {},
   "outputs": [],
   "source": [
    "dfs_list = []\n",
    "for i in np.arange(0,len(coef_filenames)):\n",
    "    df = pd.read_csv(coef_filenames[i],delim_whitespace=True)\n",
    "    #joining date and time \n",
    "    dt_list = []\n",
    "    date_arr = df[\"DATE\"].values\n",
    "    time_arr = df[\"TIME\"].values\n",
    "    for i in np.arange(0,len(date_arr)):\n",
    "        dt_str = date_arr[i]+ \" \" + time_arr[i]\n",
    "        dt = datetime.strptime(dt_str, \"%d-%b-%Y %H:%M:%S\")\n",
    "        dt_list.append(dt)\n",
    "    df[\"datetime\"] = dt_list\n",
    "    df = df.drop(columns=[\"DATE\",\"TIME\"])\n",
    "    dfs_list.append(df)"
   ]
  },
  {
   "cell_type": "code",
   "execution_count": 80,
   "id": "50c62f4a-59b2-4950-a143-b2aab1e7948a",
   "metadata": {},
   "outputs": [],
   "source": [
    "dfs_coefs = {\"dau_1_det_1\":dfs_list[0],\"dau_1_det_2\":dfs_list[1],\"dau_1_det_3\":dfs_list[2],\"dau_2_det_1\":dfs_list[3],\n",
    "      \"dau_2_det_2\":dfs_list[4],\"dau_2_det_3\":dfs_list[5],\"dau_3_det_1\":dfs_list[6],\"dau_3_det_2\":dfs_list[7],\n",
    "      \"dau_3_det_3\":dfs_list[8],\"dau_4_det_1\":dfs_list[9],\"dau_4_det_2\":dfs_list[10],\"dau_4_det_3\":dfs_list[11]}"
   ]
  },
  {
   "cell_type": "code",
   "execution_count": 81,
   "id": "4a925235-8c62-49ab-8211-72265c837227",
   "metadata": {},
   "outputs": [],
   "source": [
    "dau_det_list = []\n",
    "for i in np.arange(1,5):\n",
    "        for j in np.arange(1,4):\n",
    "            dau_det_list.append(\"dau_{}_det_{}\".format(i,j))"
   ]
  },
  {
   "cell_type": "code",
   "execution_count": 107,
   "id": "f86026cb-8c84-436a-9adb-11bdd6c0238d",
   "metadata": {},
   "outputs": [],
   "source": [
    "def get_coefs(T0):\n",
    "    \"\"\"Input only T0 for the GRB event.\n",
    "    Function will return a, b, c for all 12 detectors\"\"\"\n",
    "    dau_det_coefs = {}\n",
    "    \n",
    "    for i in np.arange(1,5): #generating the output dict containing the coefs\n",
    "        for j in np.arange(1,4):\n",
    "            dau_det_coefs[\"dau_{}_det_{}\".format(i,j)] = None\n",
    "            \n",
    "    #Need to check that is choosing a time that is lower. \n",
    "    #Example: finding time that is closest. That time is greater than the provided (wrong). \n",
    "    #--> should therefore choose the previous index\n",
    "    \n",
    "    #>> Solution: use method=\"pad\" to use the previous index if no excact max\n",
    "    for dau_det in dau_det_list:\n",
    "        row = dfs_coefs[dau_det].iloc[dfs_coefs[dau_det].set_index('datetime').index.get_indexer([T0], method='pad')]\n",
    "        dau_det_coefs[dau_det] = {\"a\":row[\"a\"].values[0], \"b\": row[\"b\"].values[0], \"c\":row[\"c\"].values[0]}\n",
    "    return dau_det_coefs"
   ]
  },
  {
   "cell_type": "code",
   "execution_count": 165,
   "id": "23f4f783-08c7-4e8c-b7d1-ec67cffd0e71",
   "metadata": {},
   "outputs": [],
   "source": [
    "def convert_erg(erg,T0):\n",
    "    \"\"\"should specify the T0 for the event\"\"\"\n",
    "    \n",
    "    \"\"\"keV = (A*CHANNEL^2) + (B*CHANNEL) + C\"\"\"\n",
    "    keV_list = []\n",
    "    cal_abc = []\n",
    "    dau_det_coefs = get_coefs(T0)\n",
    "    \n",
    "    for i in np.arange(0,len(erg)):\n",
    "        dau_val = dau[i]\n",
    "        det_val = det[i]\n",
    "        erg_val = erg[i]\n",
    "        \n",
    "\n",
    "        a = dau_det_coefs[\"dau_{}_det_{}\".format(dau_val,det_val)][\"a\"]\n",
    "        b = dau_det_coefs[\"dau_{}_det_{}\".format(dau_val,det_val)][\"b\"]\n",
    "        c = dau_det_coefs[\"dau_{}_det_{}\".format(dau_val,det_val)][\"c\"]\n",
    "        cal_abc.append([a,b,c])\n",
    "        \n",
    "        keV = a*erg_val**2 + b*erg_val + c\n",
    "        keV_list.append(keV)\n",
    "        \n",
    "    return np.array(keV_list), np.array(cal_abc)"
   ]
  },
  {
   "cell_type": "code",
   "execution_count": 186,
   "id": "cb02c158-c817-4fae-93a6-0fc7dbeb7a43",
   "metadata": {},
   "outputs": [],
   "source": [
    "#tus, erg, typ, adr, dau, det, date, T0 = read_matlab_file_with_BGO_data(trig_dict_HED[\"GRB200415\"][0])"
   ]
  },
  {
   "cell_type": "code",
   "execution_count": 185,
   "id": "7ab0b27e-5912-47d3-95bf-62dcc1271a67",
   "metadata": {},
   "outputs": [],
   "source": [
    "#keV,cal_abc = convert_erg(erg,T0)"
   ]
  },
  {
   "cell_type": "code",
   "execution_count": null,
   "id": "85184db0-e480-48ca-815d-4c5064dde68b",
   "metadata": {},
   "outputs": [],
   "source": []
  },
  {
   "cell_type": "code",
   "execution_count": 174,
   "id": "b234c5ff-4394-41b3-9a96-fb9d81043f7f",
   "metadata": {},
   "outputs": [],
   "source": [
    "def create_df(tus,erg,typ,adr,dau,det,keV,cal_abc):\n",
    "\n",
    "    for arr in [tus,erg,dau,det,a,b,c,keV]:\n",
    "        if len(arr) != len(tus):\n",
    "            return print(\"length of arrays is not equal\")\n",
    "        else:\n",
    "            continue\n",
    "    df = pd.DataFrame({\"tus\":tus,\"erg\":erg,\"typ\":typ,\"adr\":adr,\"dau\":dau,\"det\":det,\"keV\":keV, \"a\":cal_abc[:,0], \"b\":cal_abc[:,1],\"c\":cal_abc[:,2]})\n",
    "    cols = ['a', 'b','c']\n",
    "    df['cal_abc'] = df[cols].apply(lambda row: ', '.join(row.values.astype(str)), axis=1)\n",
    "    df = df.drop(columns=cols)\n",
    "    return df"
   ]
  },
  {
   "cell_type": "code",
   "execution_count": 183,
   "id": "22867a64-5bf1-4554-99f7-22bc1f9e087f",
   "metadata": {},
   "outputs": [],
   "source": [
    "#df = create_df(tus,erg,typ,adr,dau,det,keV,cal_abc)\n",
    "#df.head()"
   ]
  },
  {
   "cell_type": "code",
   "execution_count": 184,
   "id": "8267004b-ff79-4add-adfd-1f4563c5b4d0",
   "metadata": {},
   "outputs": [],
   "source": [
    "#df = df.sort_values(by=['adr','tus'])\n",
    "#df.head()"
   ]
  },
  {
   "cell_type": "code",
   "execution_count": 179,
   "id": "3276b8d4-74ae-4158-b0c9-907c564b0a3f",
   "metadata": {},
   "outputs": [],
   "source": [
    "def export_df(df,path=None):\n",
    "    df = df.sort_values(by=['adr','tus'])\n",
    "    df.to_csv(path_or_buf=path,index=False)\n",
    "    return None"
   ]
  },
  {
   "cell_type": "code",
   "execution_count": 182,
   "id": "acb331cf-8f94-4aac-9037-6fea3dd1230e",
   "metadata": {},
   "outputs": [],
   "source": [
    "#export_df(df,path=\"/Users/andreas/phys/master/GRB/calibration/GRB_150420_better.csv\")"
   ]
  },
  {
   "cell_type": "code",
   "execution_count": 16,
   "id": "8ebc2a7d-4151-4e02-a080-bdcc9f0e6050",
   "metadata": {},
   "outputs": [
    {
     "name": "stdout",
     "output_type": "stream",
     "text": [
      "convert_erg.ipynb loaded\n"
     ]
    }
   ],
   "source": [
    "print(\"convert_erg.ipynb loaded\")"
   ]
  },
  {
   "cell_type": "code",
   "execution_count": 180,
   "id": "68e234fa-08fe-4efa-ba19-444f5aa6b43e",
   "metadata": {},
   "outputs": [
    {
     "data": {
      "text/html": [
       "<div>\n",
       "<style scoped>\n",
       "    .dataframe tbody tr th:only-of-type {\n",
       "        vertical-align: middle;\n",
       "    }\n",
       "\n",
       "    .dataframe tbody tr th {\n",
       "        vertical-align: top;\n",
       "    }\n",
       "\n",
       "    .dataframe thead th {\n",
       "        text-align: right;\n",
       "    }\n",
       "</style>\n",
       "<table border=\"1\" class=\"dataframe\">\n",
       "  <thead>\n",
       "    <tr style=\"text-align: right;\">\n",
       "      <th></th>\n",
       "      <th>tus</th>\n",
       "      <th>erg</th>\n",
       "      <th>typ</th>\n",
       "      <th>adr</th>\n",
       "      <th>dau</th>\n",
       "      <th>det</th>\n",
       "      <th>keV</th>\n",
       "      <th>cal_abc</th>\n",
       "    </tr>\n",
       "  </thead>\n",
       "  <tbody>\n",
       "    <tr>\n",
       "      <th>2</th>\n",
       "      <td>-9.703999e+05</td>\n",
       "      <td>54</td>\n",
       "      <td>0</td>\n",
       "      <td>1</td>\n",
       "      <td>1</td>\n",
       "      <td>1</td>\n",
       "      <td>534.272300</td>\n",
       "      <td>0.005245, 8.4154, 64.54628</td>\n",
       "    </tr>\n",
       "    <tr>\n",
       "      <th>3</th>\n",
       "      <td>-9.699581e+05</td>\n",
       "      <td>216</td>\n",
       "      <td>0</td>\n",
       "      <td>1</td>\n",
       "      <td>1</td>\n",
       "      <td>1</td>\n",
       "      <td>2126.983400</td>\n",
       "      <td>0.005245, 8.4154, 64.54628</td>\n",
       "    </tr>\n",
       "    <tr>\n",
       "      <th>4</th>\n",
       "      <td>-9.696501e+05</td>\n",
       "      <td>197</td>\n",
       "      <td>0</td>\n",
       "      <td>1</td>\n",
       "      <td>1</td>\n",
       "      <td>1</td>\n",
       "      <td>1925.933285</td>\n",
       "      <td>0.005245, 8.4154, 64.54628</td>\n",
       "    </tr>\n",
       "    <tr>\n",
       "      <th>5</th>\n",
       "      <td>-9.694163e+05</td>\n",
       "      <td>32</td>\n",
       "      <td>0</td>\n",
       "      <td>1</td>\n",
       "      <td>1</td>\n",
       "      <td>1</td>\n",
       "      <td>339.209960</td>\n",
       "      <td>0.005245, 8.4154, 64.54628</td>\n",
       "    </tr>\n",
       "    <tr>\n",
       "      <th>14</th>\n",
       "      <td>-9.679059e+05</td>\n",
       "      <td>1727</td>\n",
       "      <td>0</td>\n",
       "      <td>1</td>\n",
       "      <td>1</td>\n",
       "      <td>1</td>\n",
       "      <td>30241.306685</td>\n",
       "      <td>0.005245, 8.4154, 64.54628</td>\n",
       "    </tr>\n",
       "    <tr>\n",
       "      <th>...</th>\n",
       "      <td>...</td>\n",
       "      <td>...</td>\n",
       "      <td>...</td>\n",
       "      <td>...</td>\n",
       "      <td>...</td>\n",
       "      <td>...</td>\n",
       "      <td>...</td>\n",
       "      <td>...</td>\n",
       "    </tr>\n",
       "    <tr>\n",
       "      <th>14389</th>\n",
       "      <td>1.019510e+06</td>\n",
       "      <td>40</td>\n",
       "      <td>0</td>\n",
       "      <td>12</td>\n",
       "      <td>4</td>\n",
       "      <td>3</td>\n",
       "      <td>534.008900</td>\n",
       "      <td>0.002252, 12.9039, 14.2497</td>\n",
       "    </tr>\n",
       "    <tr>\n",
       "      <th>14391</th>\n",
       "      <td>1.020160e+06</td>\n",
       "      <td>127</td>\n",
       "      <td>0</td>\n",
       "      <td>12</td>\n",
       "      <td>4</td>\n",
       "      <td>3</td>\n",
       "      <td>1689.367508</td>\n",
       "      <td>0.002252, 12.9039, 14.2497</td>\n",
       "    </tr>\n",
       "    <tr>\n",
       "      <th>14429</th>\n",
       "      <td>1.025592e+06</td>\n",
       "      <td>49</td>\n",
       "      <td>0</td>\n",
       "      <td>12</td>\n",
       "      <td>4</td>\n",
       "      <td>3</td>\n",
       "      <td>651.947852</td>\n",
       "      <td>0.002252, 12.9039, 14.2497</td>\n",
       "    </tr>\n",
       "    <tr>\n",
       "      <th>14435</th>\n",
       "      <td>1.026366e+06</td>\n",
       "      <td>1833</td>\n",
       "      <td>0</td>\n",
       "      <td>12</td>\n",
       "      <td>4</td>\n",
       "      <td>3</td>\n",
       "      <td>31233.568428</td>\n",
       "      <td>0.002252, 12.9039, 14.2497</td>\n",
       "    </tr>\n",
       "    <tr>\n",
       "      <th>14454</th>\n",
       "      <td>1.029436e+06</td>\n",
       "      <td>43</td>\n",
       "      <td>0</td>\n",
       "      <td>12</td>\n",
       "      <td>4</td>\n",
       "      <td>3</td>\n",
       "      <td>573.281348</td>\n",
       "      <td>0.002252, 12.9039, 14.2497</td>\n",
       "    </tr>\n",
       "  </tbody>\n",
       "</table>\n",
       "<p>14494 rows × 8 columns</p>\n",
       "</div>"
      ],
      "text/plain": [
       "                tus   erg  typ  adr  dau  det           keV  \\\n",
       "2     -9.703999e+05    54    0    1    1    1    534.272300   \n",
       "3     -9.699581e+05   216    0    1    1    1   2126.983400   \n",
       "4     -9.696501e+05   197    0    1    1    1   1925.933285   \n",
       "5     -9.694163e+05    32    0    1    1    1    339.209960   \n",
       "14    -9.679059e+05  1727    0    1    1    1  30241.306685   \n",
       "...             ...   ...  ...  ...  ...  ...           ...   \n",
       "14389  1.019510e+06    40    0   12    4    3    534.008900   \n",
       "14391  1.020160e+06   127    0   12    4    3   1689.367508   \n",
       "14429  1.025592e+06    49    0   12    4    3    651.947852   \n",
       "14435  1.026366e+06  1833    0   12    4    3  31233.568428   \n",
       "14454  1.029436e+06    43    0   12    4    3    573.281348   \n",
       "\n",
       "                          cal_abc  \n",
       "2      0.005245, 8.4154, 64.54628  \n",
       "3      0.005245, 8.4154, 64.54628  \n",
       "4      0.005245, 8.4154, 64.54628  \n",
       "5      0.005245, 8.4154, 64.54628  \n",
       "14     0.005245, 8.4154, 64.54628  \n",
       "...                           ...  \n",
       "14389  0.002252, 12.9039, 14.2497  \n",
       "14391  0.002252, 12.9039, 14.2497  \n",
       "14429  0.002252, 12.9039, 14.2497  \n",
       "14435  0.002252, 12.9039, 14.2497  \n",
       "14454  0.002252, 12.9039, 14.2497  \n",
       "\n",
       "[14494 rows x 8 columns]"
      ]
     },
     "execution_count": 180,
     "metadata": {},
     "output_type": "execute_result"
    }
   ],
   "source": [
    "df"
   ]
  }
 ],
 "metadata": {
  "kernelspec": {
   "display_name": "sklearn",
   "language": "python",
   "name": "sklearn"
  },
  "language_info": {
   "codemirror_mode": {
    "name": "ipython",
    "version": 3
   },
   "file_extension": ".py",
   "mimetype": "text/x-python",
   "name": "python",
   "nbconvert_exporter": "python",
   "pygments_lexer": "ipython3",
   "version": "3.10.4"
  }
 },
 "nbformat": 4,
 "nbformat_minor": 5
}
