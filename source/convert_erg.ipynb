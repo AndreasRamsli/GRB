{
 "cells": [
  {
   "cell_type": "code",
   "execution_count": 1,
   "id": "95a3ee66-4e2d-4704-a4dc-69173f387c6a",
   "metadata": {},
   "outputs": [
    {
     "name": "stdout",
     "output_type": "stream",
     "text": [
      "read_matlab_file.ipynb loaded\n"
     ]
    }
   ],
   "source": [
    "import pandas as pd\n",
    "import numpy as np\n",
    "import matplotlib.pyplot as plt\n",
    "import os \n",
    "import glob\n",
    "import sys\n",
    "from datetime import datetime, timedelta\n",
    "%run read_matlab_file.ipynb"
   ]
  },
  {
   "cell_type": "code",
   "execution_count": 2,
   "id": "e2b8dbc0-7e84-4b1a-aa23-28eadf72d048",
   "metadata": {},
   "outputs": [],
   "source": [
    "#TODO: make the main function: convert_erg take in T0 so that the correct coefs are automatically retrived"
   ]
  },
  {
   "cell_type": "code",
   "execution_count": 3,
   "id": "a9f64fbf-f6c3-47ef-97d9-d1867b1002e8",
   "metadata": {},
   "outputs": [],
   "source": [
    "#path = \"/Users/andreas/phys/master/GRB/ASIM/COEFS/BGO/\" #MAC\n",
    "path = \"/Home/siv30/wad005/master/GRB/ASIM/COEFS/BGO/\" #UiB"
   ]
  },
  {
   "cell_type": "code",
   "execution_count": 4,
   "id": "9da3b735-a818-4dee-84fa-ee7b75c3e98c",
   "metadata": {},
   "outputs": [],
   "source": [
    "coef_filenames = glob.glob(path + \"*.txt\")"
   ]
  },
  {
   "cell_type": "code",
   "execution_count": 5,
   "id": "bcfdcef5-4057-48ca-8a17-b268e747e186",
   "metadata": {},
   "outputs": [],
   "source": [
    "dfs_list = []\n",
    "for i in np.arange(0,len(coef_filenames)):\n",
    "    df = pd.read_csv(coef_filenames[i],delim_whitespace=True)\n",
    "    #joining date and time \n",
    "    dt_list = []\n",
    "    date_arr = df[\"DATE\"].values\n",
    "    time_arr = df[\"TIME\"].values\n",
    "    for i in np.arange(0,len(date_arr)):\n",
    "        dt_str = date_arr[i]+ \" \" + time_arr[i]\n",
    "        dt = datetime.strptime(dt_str, \"%d-%b-%Y %H:%M:%S\")\n",
    "        dt_list.append(dt)\n",
    "    df[\"datetime\"] = dt_list\n",
    "    df = df.drop(columns=[\"DATE\",\"TIME\"])\n",
    "    dfs_list.append(df)"
   ]
  },
  {
   "cell_type": "code",
   "execution_count": 6,
   "id": "50c62f4a-59b2-4950-a143-b2aab1e7948a",
   "metadata": {},
   "outputs": [],
   "source": [
    "dfs = {\"dau_1_det_1\":dfs_list[0],\"dau_1_det_2\":dfs_list[1],\"dau_1_det_3\":dfs_list[2],\"dau_2_det_1\":dfs_list[3],\n",
    "      \"dau_2_det_2\":dfs_list[4],\"dau_2_det_3\":dfs_list[5],\"dau_3_det_1\":dfs_list[6],\"dau_3_det_2\":dfs_list[7],\n",
    "      \"dau_3_det_3\":dfs_list[8],\"dau_4_det_1\":dfs_list[9],\"dau_4_det_2\":dfs_list[10],\"dau_4_det_3\":dfs_list[11]}"
   ]
  },
  {
   "cell_type": "code",
   "execution_count": 7,
   "id": "4a925235-8c62-49ab-8211-72265c837227",
   "metadata": {},
   "outputs": [],
   "source": [
    "dau_det_list = []\n",
    "for i in np.arange(1,5):\n",
    "        for j in np.arange(1,4):\n",
    "            dau_det_list.append(\"dau_{}_det_{}\".format(i,j))"
   ]
  },
  {
   "cell_type": "code",
   "execution_count": 8,
   "id": "3ae67e6d-31ba-4aba-8be0-cee0718bce33",
   "metadata": {},
   "outputs": [],
   "source": [
    "tus, erg, typ, adr, dau, det, date = read_matlab_file_with_BGO_data(trig_dict_HED[\"GRB200415\"][0])\n",
    "T0 = datetime.strptime(date, \"%Y-%b-%d %H:%M:%S.%f\")"
   ]
  },
  {
   "cell_type": "code",
   "execution_count": 9,
   "id": "f86026cb-8c84-436a-9adb-11bdd6c0238d",
   "metadata": {},
   "outputs": [],
   "source": [
    "def get_coefs(T0):\n",
    "    \"\"\"Input only T0 for the GRB event.\n",
    "    Function will return a, b, c for all 12 detectors\"\"\"\n",
    "    dau_det_coefs = {}\n",
    "    \n",
    "    for i in np.arange(1,5): #generating the output dict containing the coefs\n",
    "        for j in np.arange(1,4):\n",
    "            dau_det_coefs[\"dau_{}_det_{}\".format(i,j)] = None\n",
    "            \n",
    "    for dau_det in dau_det_list:\n",
    "        row = dfs[dau_det].iloc[dfs[dau_det].set_index('datetime').index.get_indexer([T0], method='nearest')]\n",
    "        dau_det_coefs[dau_det] = {\"a\":row[\"a\"].values[0], \"b\": row[\"b\"].values[0], \"c\":row[\"c\"].values[0]}\n",
    "    return dau_det_coefs"
   ]
  },
  {
   "cell_type": "code",
   "execution_count": 10,
   "id": "86fff68a-6977-41b3-940f-031f22790512",
   "metadata": {},
   "outputs": [
    {
     "data": {
      "text/plain": [
       "{'dau_1_det_1': {'a': 0.005245, 'b': 8.4154, 'c': 64.54628},\n",
       " 'dau_1_det_2': {'a': -0.002817, 'b': 22.3117, 'c': -7.48475},\n",
       " 'dau_1_det_3': {'a': 0.002895, 'b': 10.5845, 'c': 33.544},\n",
       " 'dau_2_det_1': {'a': 0.006566, 'b': 6.6033, 'c': 84.98722},\n",
       " 'dau_2_det_2': {'a': 0.004184, 'b': 11.7314, 'c': 29.3111},\n",
       " 'dau_2_det_3': {'a': 0.004798, 'b': 9.72422, 'c': 47.9505},\n",
       " 'dau_3_det_1': {'a': -0.002714, 'b': 23.1905, 'c': 0.891068},\n",
       " 'dau_3_det_2': {'a': -0.005435, 'b': 28.0135, 'c': -20.6767},\n",
       " 'dau_3_det_3': {'a': -0.003606, 'b': 24.6944, 'c': -0.866357},\n",
       " 'dau_4_det_1': {'a': 0.00306, 'b': 12.1257, 'c': 37.1393},\n",
       " 'dau_4_det_2': {'a': 0.001654, 'b': 16.4206, 'c': -43.19642},\n",
       " 'dau_4_det_3': {'a': 0.002252, 'b': 12.9039, 'c': 14.2497}}"
      ]
     },
     "execution_count": 10,
     "metadata": {},
     "output_type": "execute_result"
    }
   ],
   "source": [
    "dau_det_coefs = get_coefs(T0)\n",
    "dau_det_coefs"
   ]
  },
  {
   "cell_type": "code",
   "execution_count": 11,
   "id": "23f4f783-08c7-4e8c-b7d1-ec67cffd0e71",
   "metadata": {},
   "outputs": [],
   "source": [
    "def convert_erg(erg,T0):\n",
    "    \"\"\"should specify the T0 for the event\"\"\"\n",
    "    \n",
    "    \"\"\"keV = (A*CHANNEL^2) + (B*CHANNEL) + C\"\"\"\n",
    "    keV_list = []\n",
    "    a_list = []\n",
    "    b_list = []\n",
    "    c_list = []\n",
    "    dau_det_coefs = get_coefs(T0)\n",
    "    \n",
    "    for i in np.arange(0,len(erg)):\n",
    "        dau_val = dau[i]\n",
    "        det_val = det[i]\n",
    "        erg_val = erg[i]\n",
    "        \n",
    "\n",
    "        a = dau_det_coefs[\"dau_{}_det_{}\".format(dau_val,det_val)][\"a\"]\n",
    "        a_list.append(a)\n",
    "        \n",
    "        b = dau_det_coefs[\"dau_{}_det_{}\".format(dau_val,det_val)][\"b\"]\n",
    "        b_list.append(b)\n",
    "        \n",
    "        c = dau_det_coefs[\"dau_{}_det_{}\".format(dau_val,det_val)][\"c\"]\n",
    "        c_list.append(c)\n",
    "        \n",
    "        keV = a*erg_val**2 + b*erg_val + c\n",
    "        \n",
    "        keV_list.append(keV)\n",
    "        #return  np.array(a_list), np.array(b_list), np.array(c_list)\n",
    "    return np.array(keV_list)"
   ]
  },
  {
   "cell_type": "code",
   "execution_count": 12,
   "id": "cb02c158-c817-4fae-93a6-0fc7dbeb7a43",
   "metadata": {},
   "outputs": [],
   "source": [
    "#print(\"Max energy in MeV: \", round(max(keV_arr))/1e3)"
   ]
  },
  {
   "cell_type": "code",
   "execution_count": 13,
   "id": "b234c5ff-4394-41b3-9a96-fb9d81043f7f",
   "metadata": {},
   "outputs": [],
   "source": [
    "def create_df(tus,erg,typ,dau,det,a,b,c,keV):\n",
    "\n",
    "    for arr in [tus,erg,dau,det,a,b,c,keV]:\n",
    "        if len(arr) != len(tus):\n",
    "            return print(\"length of arrays is not equal\")\n",
    "        else:\n",
    "            continue\n",
    "    df = pd.DataFrame({\"tus\":tus,\"erg\":erg,\"typ\":typ,\"dau\":dau,\"det\":det,\"a\":a,\"b\":b,\"c\":c,\"keV\":keV})\n",
    "    return df"
   ]
  },
  {
   "cell_type": "code",
   "execution_count": 14,
   "id": "22867a64-5bf1-4554-99f7-22bc1f9e087f",
   "metadata": {},
   "outputs": [],
   "source": [
    "#df = create_df(tus,erg,typ,dau,det,a_arr,b_arr,c_arr,keV_arr)\n",
    "#df.head()"
   ]
  },
  {
   "cell_type": "code",
   "execution_count": 15,
   "id": "acb331cf-8f94-4aac-9037-6fea3dd1230e",
   "metadata": {},
   "outputs": [],
   "source": [
    "#df.to_csv(path_or_buf=\"/Home/siv30/wad005/master/GRB/calibration/GRB_200415_calibration.csv\",index=False)"
   ]
  },
  {
   "cell_type": "code",
   "execution_count": 16,
   "id": "8ebc2a7d-4151-4e02-a080-bdcc9f0e6050",
   "metadata": {},
   "outputs": [
    {
     "name": "stdout",
     "output_type": "stream",
     "text": [
      "convert_erg.ipynb loaded\n"
     ]
    }
   ],
   "source": [
    "print(\"convert_erg.ipynb loaded\")"
   ]
  },
  {
   "cell_type": "code",
   "execution_count": null,
   "id": "68e234fa-08fe-4efa-ba19-444f5aa6b43e",
   "metadata": {},
   "outputs": [],
   "source": []
  }
 ],
 "metadata": {
  "kernelspec": {
   "display_name": "base",
   "language": "python",
   "name": "base"
  },
  "language_info": {
   "codemirror_mode": {
    "name": "ipython",
    "version": 3
   },
   "file_extension": ".py",
   "mimetype": "text/x-python",
   "name": "python",
   "nbconvert_exporter": "python",
   "pygments_lexer": "ipython3",
   "version": "3.9.7"
  }
 },
 "nbformat": 4,
 "nbformat_minor": 5
}
