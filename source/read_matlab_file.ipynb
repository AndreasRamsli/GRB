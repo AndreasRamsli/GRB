{
 "cells": [
  {
   "cell_type": "markdown",
   "id": "empirical-carolina",
   "metadata": {},
   "source": [
    "# Imports"
   ]
  },
  {
   "cell_type": "code",
   "execution_count": 1,
   "id": "finite-outdoors",
   "metadata": {},
   "outputs": [],
   "source": [
    "import numpy as np\n",
    "import matplotlib.pyplot as plt\n",
    "import scipy.io\n",
    "import scipy as sp\n",
    "import os\n",
    "import glob\n",
    "import pandas as pd\n",
    "from datetime import datetime, timedelta\n",
    "import collections\n",
    "import matplotlib.cm as cm\n",
    "plt.rcdefaults() #Setting default color of output plots. No need in jupyter lab. Only for notebook with dark theme\n",
    "# For interactive plots\n",
    "\n",
    "plt.rcParams.update({'figure.max_open_warning': 0})\n",
    "#%matplotlib widget"
   ]
  },
  {
   "cell_type": "markdown",
   "id": "cc60308d-b2bc-440b-b125-b8a463fedcfe",
   "metadata": {},
   "source": [
    "# TODO:\n",
    "   1) Redo all the plots ... export\n",
    "   2) There might be some triggers in HED, where i havent extracted the LED file"
   ]
  },
  {
   "cell_type": "markdown",
   "id": "807afc27",
   "metadata": {},
   "source": [
    "# Paths"
   ]
  },
  {
   "cell_type": "code",
   "execution_count": 2,
   "id": "expected-classroom",
   "metadata": {},
   "outputs": [],
   "source": [
    "#path_HED = \"/Home/siv30/wad005/master/GRB/MATLAB/output/file_mat_TGF/\"              #UiB\n",
    "#path_LED = \"/Home/siv30/wad005/master/GRB/MATLAB/CZT_calibration/file_mat_CZT_TGF/\" #UiB\n",
    "path_HED = \"/Users/andreas/phys/master/GRB/MATLAB/output/file_mat_TGF/\"               #MAC\n",
    "path_LED = \"/Users/andreas/phys/master/GRB/MATLAB/CZT_calibration/file_mat_CZT_TGF/\"  #MAC"
   ]
  },
  {
   "cell_type": "markdown",
   "id": "82cdb8bf",
   "metadata": {},
   "source": [
    "# Dict creation"
   ]
  },
  {
   "cell_type": "code",
   "execution_count": 3,
   "id": "f2d83176-02f1-40fa-9dad-c92bfd92b1ca",
   "metadata": {},
   "outputs": [],
   "source": [
    "trig_dict_HED = {\"GRB180720\":[\"2018_07_20_14_21_48\",\"2018_07_20_14_21_51\",\"2018_07_20_14_21_56\",\"2018_07_20_14_21_57\",\"2018_07_20_14_22_09\"],\n",
    "                 \"GRB180807\":[\"2018_08_07_02_19_37\"],\n",
    "                 \"GRB181103\":[\"2018_11_03_04_22_33\"],\n",
    "                 \"GRB181222\":[\"2018_12_22_20_11_36\"],\n",
    "                 \"GRB190117\":[\"2019_01_17_08_50_43\"],\n",
    "                 \"GRB190206\":[\"2019_02_06_03_49_28\"],\n",
    "                 \"GRB190305\":[\"2019_03_05_13_05_19\"],\n",
    "                 \"GRB190320\":[\"2019_03_20_01_14_06\"],\n",
    "                 \"GRB190404\":[\"2019_04_04_07_01_05\"],\n",
    "                 \"GRB190420\":[\"2019_04_20_23_32_23\"],\n",
    "                 \"GRB190501\":[\"2019_05_01_05_23_22\"],\n",
    "                 \"GRB190606\":[\"2019_06_06_01_55_07\"],\n",
    "                 \"GRB190615\":[\"2019_06_15_14_42_21\"],\n",
    "                 \"GRB190706\":[\"2019_07_06_12_40_43\"],\n",
    "                 \"GRB190813\":[\"2019_08_13_12_00_49\"],\n",
    "                 \"GRB190825\":[\"2019_08_25_21_04_55\",\"2019_08_25_21_04_53\"], \n",
    "                 \"GRB190829\":[\"2019_08_29_19_56_40\"],\n",
    "                 \"GRB190906\":[\"2019_09_06_01_04_51\"],\n",
    "                 \"GRB191001\":[\"2019_10_01_06_41_52\"],\n",
    "                 \"GRB191004\":[\"2019_10_04_18_07_03\"],\n",
    "                 \"GRB191119\":[\"2019_11_19_10_41_06\"],\n",
    "                 \"GRB191221\":[\"2019_12_21_20_39_10\",\"2019_12_21_20_39_11\",\"2019_12_21_20_39_12\",\"2019_12_21_20_39_13\",\"2019_12_21_20_39_15\"],\n",
    "                 \"GRB191227\":[\"2019_12_27_17_21_45\"], #Also triggered 5 seconds after. filname: \"2019_12_27_17_21_49\"\n",
    "                 \"GRB200111\":[\"2020_01_11_15_11_12\"],\n",
    "                 \"GRB200224\":[\"2020_02_24_09_58_44\"],\n",
    "                 \"GRB200415\":[\"2020_04_15_08_48_05\"],\n",
    "                 \"GRB200412\":[\"2020_04_12_06_57_13\", \"2020_04_12_06_57_15\", \"2020_04_12_06_57_16\", \"2020_04_12_06_57_17\", \"2020_04_12_06_57_18\", \"2020_04_12_06_57_20\",\n",
    "                             \"2020_04_12_06_57_21\", \"2020_04_12_06_57_22\", \"2020_04_12_06_57_23\", \"2020_04_12_06_57_24\", \"2020_04_12_06_57_25\"] ,# long grb\n",
    "                 \"GRB200423\":[\"2020_04_23_13_54_06\"],\n",
    "                 \"GRB200521\":[\"2020_05_21_12_16_39\"],\n",
    "                 \"GRB200525\":[\"2020_05_25_14_40_22\"],\n",
    "                 \"GRB200605\":[\"2020_06_05_18_17_42\"],\n",
    "                 \"GRB200716\":[\"2020_07_16_22_57_40\"],\n",
    "                 \"GRB200812\":[\"2020_08_12_11_55_23\",\"2020_08_12_11_55_25\"],\n",
    "                 \"GRB200925\":[\"2020_09_25_21_50_31\"],\n",
    "                 \"GRB200907\":[\"2020_09_07_18_51_20\"],\n",
    "                 \"GRB200915\":[\"2020_09_15_03_27_06\"],\n",
    "                 \"GRB200923\":[\"2020_09_23_17_57_41\"],\n",
    "                 \"GRB200925\":[\"2020_09_25_21_50_31\"],\n",
    "                 \"GRB201223\":[\"2020_12_23_17_58_10\"],\n",
    "                 \"GRB210102\":[\"2021_01_02_20_38_02\",\"2021_01_02_20_38_07\"],\n",
    "                 \"GRB210411\":[\"2021_04_11_13_32_30\"],\n",
    "                 \"GRB210424\":[\"2021_04_24_08_01_55\"],\n",
    "                 \"GRB210607\":[\"2021_06_07_21_39_20\",\"2021_06_07_21_39_21\",\"2021_06_07_21_39_22\"],\n",
    "                 \"GRB210619\":[\"2021_06_19_23_59_24\",\"2021_06_19_23_59_25\", \"2021_06_19_23_59_26\",\"2021_06_19_23_59_27\", \"2021_06_19_23_59_33\", \"2021_06_19_23_59_34\",\n",
    "                             \"2021_06_19_23_59_35\", \"2021_06_19_23_59_36\", \"2021_06_19_23_59_37\",\"2021_06_19_23_59_38\"],\n",
    "                 \"GRB210701\":['2021_07_01_20_01_00'],\n",
    "                 \"GRB210702\":['2021_07_02_19_07_09','2021_07_02_19_07_10','2021_07_02_19_07_12'],\n",
    "                 \"GRB210724\":[\"2021_07_24_20_14_03\"],\n",
    "                 \"GRB201109\":[\"2020_11_09_02_31_08\"],\n",
    "                 \"GRB210903\":[\"2021_09_03_17_26_58\"],\n",
    "                 \"GRB211118\":[\"2021_11_18_23_38_04\"],\n",
    "                 \"GRB211211\":[\"2021_12_11_13_10_01\",\"2021_12_11_13_10_02\",\"2021_12_11_13_10_05\",\"2021_12_11_13_10_06\",\"2021_12_11_13_10_15\",\"2021_12_11_13_10_17\",\n",
    "                              \"2021_12_11_13_10_18\",\"2021_12_11_13_10_19\"],\n",
    "                 \"GRB201227\":['2020_12_27_15_14_06']\n",
    "                 }\n",
    "trig_dict_HED = collections.OrderedDict(sorted(trig_dict_HED.items())) #Sorting the keys in decending order. Now trig_dict_HED is an OderedDict type\n",
    "\n",
    "for key in trig_dict_HED.keys():\n",
    "    trig_dict_HED[key].sort() #sorting files in increasing order"
   ]
  },
  {
   "cell_type": "code",
   "execution_count": 4,
   "id": "204e9aa8-605d-4b72-837e-1261928ff7e5",
   "metadata": {},
   "outputs": [],
   "source": [
    "trig_dict_LED = {\"GRB181227\":[\"2018.12.27_06.17.04.210500_Fulltrigger\",\"2018_12_27_06_17_09.775992_Fulltrigger\",\"2018_12_27_06_17_10.800851_Fulltrigger\"],\n",
    "                 \"GRB181103\":[\"2018.11.03_04.22.34.566125_Fulltrigger\"],\n",
    "                 \"GRB190117\":[\"2019.01.17_08.50.42.939689_Fulltrigger\"],\n",
    "                 \"GRB190404\":['2019.04.04_07.01.06.584820_Fulltrigger'],\n",
    "                 \"GRB190420\":[\"2019.04.20_23.32.24.931211_Fulltrigger\"],\n",
    "                 \"GRB190501\":[\"2019.05.01_05.23.21.736797_Fulltrigger\"],\n",
    "                 \"GRB190615\":[\"2019.06.15_14.42.22.741579_Fulltrigger\"],\n",
    "                 \"GRB190628\":[\"2019.06.28_04.23.32.512290_Fulltrigger\"],\n",
    "                 \"GRB190813\":[\"2019.08.13_12.00.48.801260_Fulltrigger\"],\n",
    "                 \"GRB190825\":[\"2019.08.25_21.04.54.439617_Fulltrigger\",\"2019.08.25_21.04.56.395859_Fulltrigger\"],\n",
    "                 \"GRB190906\":[\"2019.09.06_01.04.52.014004_Fulltrigger\"],\n",
    "                 \"GRB191001\":[\"2019.10.01_06.41.51.631214_Fulltrigger\"],\n",
    "                 \"GRB191004\":[\"2019.10.04_18.07.03.402478_Fulltrigger\"],\n",
    "                 \"GRB191119\":[\"2019.11.19_10.41.05.239944_Fulltrigger\"],\n",
    "                 \"GRB191221\":[\"2019.12.21_20.39.11.939846_Fulltrigger\",\"2019.12.21_20.39.12.939997_Fulltrigger\",\"2019.12.21_20.39.13.940233_Fulltrigger\",\n",
    "                              \"2019.12.21_20.39.15.106045_Fulltrigger\",\"2019.12.21_20.39.17.252498_Fulltrigger\"],\n",
    "                 \"GRB191227\":[\"2019.12.27_17.21.45.549390_Fulltrigger\"], # Also triggered 5 sec after. filename: \"2019.12.27_17.21.50.236046_Fulltrigger\"\n",
    "                 \"GRB200111\":[\"2020.01.11_15.11.13.187473_Fulltrigger\"],\n",
    "                 \"GRB200122\":[\"2020.01.22_05.18.10.228382_Fulltrigger\"],\n",
    "                 \"GRB200224\":[\"2020.02.24_09.58.44.448334_Fulltrigger\"],\n",
    "                 \"GRB200412\":[\"2020.04.12_06.57.15.879304_Fulltrigger\", \"2020.04.12_06.57.16.879531_Fulltrigger\", \"2020.04.12_06.57.17.879742_Fulltrigger\",\n",
    "                             \"2020.04.12_06.57.18.880468_Fulltrigger\"],\n",
    "                 \"GRB200415\":[\"2020.04.15_08.48.05.470385_Fulltrigger\"], #Giant magetar flare\n",
    "                 \"GRB200423\":[\"2020.04.23_13.54.06.572991_Fulltrigger\"],\n",
    "                 \"GRB200525\":[\"2020.05.25_14.40.22.951437_Fulltrigger\"],\n",
    "                 \"GRB200605\":[\"2020.06.05_18.17.42.165859_Fulltrigger\"],\n",
    "                 \"GRB200812\":[\"2020.08.12_11.55.24.308429_Fulltrigger\",\"2020.08.12_11.55.26.144703_Fulltrigger\"],\n",
    "                 \"GRB200903\":[\"2020.09.03_21.38.50.495317_Fulltrigger\"],\n",
    "                 \"GRB200907\":[\"2020.09.07_18.51.20.724118_Fulltrigger\"],\n",
    "                 \"GRB200915\":[\"2020.09.15_03.27.06.777086_Fulltrigger\"],\n",
    "                 \"GRB200923\":[\"2020.09.23_17.57.42.645020_Fulltrigger\"],\n",
    "                 \"GRB201109\":[\"2020.11.09_02.31.09.400868_Fulltrigger\"],\n",
    "                 \"GRB210102\":[\"2021.01.02_20.38.02.245585_Fulltrigger\",\"2021.01.02_20.38.07.079069_Fulltrigger\"],\n",
    "                 \"GRB210424\":[\"2021.04.24_08.01.55.875520_Fulltrigger\"],\n",
    "                 \"GRB210607\":[\"2021.06.07_21.39.21.187641_Fulltrigger\",\"2021.06.07_21.39.22.204550_Fulltrigger\",\"2021.06.07_21.39.23.317169_Fulltrigger\"],\n",
    "                 \n",
    "                }\n",
    "trig_dict_LED = collections.OrderedDict(sorted(trig_dict_LED.items())) #Sorting the keys in decending order. Now trig_dict_HED is an OderedDict type\n",
    "\n",
    "for key in trig_dict_LED.keys():\n",
    "    trig_dict_LED[key].sort() #sorting files in increasing order"
   ]
  },
  {
   "cell_type": "markdown",
   "id": "aa41034e",
   "metadata": {},
   "source": [
    "# Functions for handling matlab files"
   ]
  },
  {
   "cell_type": "markdown",
   "id": "2c851e4b-d4a2-4e53-b83f-7a0bd4c475ea",
   "metadata": {},
   "source": [
    "## CZT function"
   ]
  },
  {
   "cell_type": "code",
   "execution_count": 5,
   "id": "improved-architect",
   "metadata": {},
   "outputs": [],
   "source": [
    "def read_matlab_file_with_CZT_data(filename):\n",
    "    '''Read matlab file with ASIM CZT data from the low energy detector (LED)\n",
    "\n",
    "    tus: relative time in microseconds (excluded multihits)\n",
    "    erg: energy channel (excluded multihits)\n",
    "    energy_keV: energy in keV (excluded multihits)\n",
    "    tus_keep_multihit: relative time in microseconds (included multihits)\n",
    "    erg_keep_multihit: energy channel (included multihits)\n",
    "    multihit_indx: multihit index 0-4. 0->1 1->2// 0: tus=105, 1: tus=110,110 (two counts)\n",
    "    '''\n",
    "    mat = scipy.io.loadmat(path_LED + \"%s.mat\" % (filename))\n",
    "\n",
    "    #keV_spectra = mat['keV_spectra_total_fulltrigger']\n",
    "\n",
    "    # Included multihits. Important for light curves\n",
    "    tus_keep_multihit = np.array(mat['tus_keep_multihit_fulltrigger'])[:,0] # relative time in microseconds\n",
    "    erg_keep_multihit = np.array(mat['erg_keep_multihit_fulltrigger'])[0,:] # energy channel (unreliable for multi hits)\n",
    "    multihit_indx = np.array(mat['multihit_fulltrigger'])[0,:] # multihit index. How many multihits in count. (0=1 count, 1=2 counts, 2=3 counts...)\n",
    "    \n",
    "    # The multihits are removed as they don't have a reliable energy estimate\n",
    "    erg = np.array(mat['erg_fulltrigger'])[0,:] # energy channel of CZT pixel\n",
    "    tus = np.array(mat['tus_fulltrigger'])[:,0] # relative time in microseconds\n",
    "    energy_keV = np.array(mat['pixel_energy_fulltrigger']).flatten() # energy in keV of CZT pixel\n",
    "    date = mat['T_ref_char'][0] #raw datetime as string\n",
    "    \n",
    "    #Logic that checks for array lengths\n",
    "    try:\n",
    "        length = len(tus_keep_multihit)\n",
    "        if any(len(lst) != length for lst in [erg_keep_multihit, multihit_indx]):\n",
    "        # at least one list has a different length\n",
    "            raise ValueError(\"Arrays have different lengths\")\n",
    "            \n",
    "        t_temp = []\n",
    "        erg_temp = []\n",
    "        energy_keV_temp = []\n",
    "        \n",
    "        for index, i in enumerate(multihit_indx):\n",
    "            for j in np.arange(0,i+1): #adding i+1 times the tus_count\n",
    "                t_temp.append(tus_keep_multihit[index])\n",
    "                erg_temp.append(erg_keep_multihit[index])\n",
    "\n",
    "         \n",
    "        tus_keep_multihit_ntimes =  np.array(t_temp) #array of tus. Multihit index decides how many times the tus is appended\n",
    "        erg_keep_multihit_ntimes = np.array(erg_temp) #array of erg. Multihit index decides how many times the erg is appended\n",
    "        \n",
    "        \n",
    "        return tus, erg, energy_keV, tus_keep_multihit_ntimes, erg_keep_multihit_ntimes, multihit_indx, date \n",
    "    \n",
    "    except ValueError as ve:\n",
    "        print(\"Function aborted because of: \" + str(ve))\n",
    "        print(\"Length of arrays: \")\n",
    "        for lst in [tus_keep_multihit, erg_keep_multihit, multihit_indx]:\n",
    "            print(len(lst))"
   ]
  },
  {
   "cell_type": "markdown",
   "id": "bd369c6b-2da5-4d03-a62e-be0e13a46992",
   "metadata": {},
   "source": [
    "## BGO function"
   ]
  },
  {
   "cell_type": "code",
   "execution_count": 6,
   "id": "dd36c8e8-be36-40fb-99b7-c3e86bd07d7c",
   "metadata": {},
   "outputs": [],
   "source": [
    "#tus, erg, typ, adr, dau, det, DetCol, date = read_matlab_file_with_BGO_data(trig_dict_HED[\"GRB210619\"][0])\n",
    "#print(date)"
   ]
  },
  {
   "cell_type": "code",
   "execution_count": 7,
   "id": "3f86f021-aa1e-471d-9932-b6ac46d4c904",
   "metadata": {},
   "outputs": [],
   "source": [
    "#tus, erg, energy_keV, tus_keep_multihit_ntimes, erg_keep_multihit_ntimes, multihit_indx, date  = read_matlab_file_with_CZT_data(trig_dict_LED[\"GRB200903\"][0])\n",
    "#print(date)"
   ]
  },
  {
   "cell_type": "code",
   "execution_count": 8,
   "id": "fb08e8d7-010a-4584-a4d4-be3b3cb38e2a",
   "metadata": {},
   "outputs": [],
   "source": [
    "def read_matlab_file_with_BGO_data(matlabfilename):\n",
    "    '''\n",
    "    TODO: Keep original version\n",
    "    \n",
    "    Read matlab file with ASIM BGO data from the high energy detector (HED)\n",
    "\n",
    "    tus: relative times in microseconds.\n",
    "    erg: energy channel (needs to be calibrated to keV using calibration coeff from https://git.app.uib.no/ASIM-MXGS/IN-FLIGHT_CALIBRATION_BGO/-/tree/master/CALIBRATION_COEFS )\n",
    "    typ: normal (0), fast(1), valley (3), or overflow event (2 or 4 not )\n",
    "    adr: BGO address 1-12\n",
    "    dau: dau address 1-4\n",
    "    det: detector address 1-3\n",
    "    DetCol: RGB color\n",
    "    \n",
    "    - Kepping only normal (0) and fast (1) events\n",
    "    '''\n",
    "    matlabfile_TGF = path_HED + '%s.mat' % matlabfilename\n",
    "    \n",
    "    mat = scipy.io.loadmat(matlabfile_TGF)\n",
    "    \n",
    "    tus = mat['tus'].flatten()\n",
    "    erg = mat['erg'].flatten()\n",
    "    adr = mat['adr'].flatten()\n",
    "    dau = mat['dau'].flatten()\n",
    "    det = mat['det'].flatten()\n",
    "    typ = mat['typ'].flatten()\n",
    "    \n",
    "    date = mat['date'][0] #raw datetime\n",
    "    \n",
    "    \n",
    "    try:\n",
    "        length = len(tus)\n",
    "        if any(len(lst) != length for lst in [erg, typ, adr, dau, det]):\n",
    "        # at least one list has a different length\n",
    "            raise ValueError(\"Arrays have different lengths\")\n",
    "            \n",
    "        mask = np.where((typ != 0) & (typ != 1)) #finding indecies of vallays and overflow events\n",
    "        \n",
    "        # removing those indecies\n",
    "        tus = np.delete(tus,mask)\n",
    "        erg = np.delete(erg,mask)\n",
    "        adr = np.delete(adr,mask)\n",
    "        dau = np.delete(dau,mask)\n",
    "        det = np.delete(det,mask)\n",
    "        typ = np.delete(typ,mask)\n",
    "        \n",
    "        \n",
    "        return tus, erg, typ, adr, dau, det, date\n",
    "    \n",
    "    except ValueError as ve:\n",
    "        print(\"Function aborted because of: \" + str(ve))\n",
    "        print(\"Length of arrays: \")\n",
    "        for lst in [tus,erg, typ, adr, dau, det]:\n",
    "            print(len(lst))"
   ]
  },
  {
   "cell_type": "markdown",
   "id": "9cca534c",
   "metadata": {},
   "source": [
    "# Plotting functions"
   ]
  },
  {
   "cell_type": "markdown",
   "id": "d59076a5-5400-402b-a613-cbfabd52478d",
   "metadata": {},
   "source": [
    "## LED"
   ]
  },
  {
   "cell_type": "code",
   "execution_count": 9,
   "id": "2e962c5f",
   "metadata": {},
   "outputs": [],
   "source": [
    "def plot_LED(grb_id=None, tus_arr = None, LED_filename=None, binsize=10,start_range =0, end_range=0, T0 =None,\n",
    "            output_path=None):\n",
    "    \"\"\" Can switch between plotting by grb_id, tus_arr and LED_filename. Only one of the options at the time.\n",
    "    plot_LED function can also find the background when start_range and end_range is specified\"\"\"\n",
    "    \n",
    "    binsize = binsize*1e3 #converting to microseconds\n",
    "    start_range = start_range*1e3 #converting to microseconds\n",
    "    end_range = end_range*1e3\n",
    "    \n",
    "    \n",
    "    #switch for input\n",
    "    try:\n",
    "        if LED_filename != None and grb_id == None and tus_arr == None:\n",
    "            tus_LED, erg_LED, energy_keV_LED, tus_keep_multihit_LED, erg_keep_multihit_LED, multihit_indx_LED, date = read_matlab_file_with_CZT_data(\n",
    "                LED_filename)\n",
    "            T0 = datetime.strptime(date, \"%Y-%b-%d %H:%M:%S.%f\")\n",
    "            date_id = datetime.strftime(T0,format='%y%m%d') #Correct format for title of plot: YYMMDD\n",
    "            grb_id_title = \"GRB\" + date_id\n",
    "            \n",
    "        elif grb_id != None and tus_arr == None and LED_filename == None:\n",
    "            if grb_id not in trig_dict_LED.keys():\n",
    "                raise KeyError(\"GRB ID not in dict\")\n",
    "            else:\n",
    "                LED_filename = trig_dict_LED[grb_id][0]\n",
    "                tus_LED, erg_LED, energy_keV_LED, tus_keep_multihit_LED, erg_keep_multihit_LED, multihit_indx_LED, date = read_matlab_file_with_CZT_data(\n",
    "                    LED_filename)\n",
    "                T0 = datetime.strptime(date, \"%Y-%b-%d %H:%M:%S.%f\")\n",
    "                date_id = datetime.strftime(T0,format='%y%m%d') #Correct format for title of plot: YYMMDD\n",
    "                grb_id_title = \"GRB\" + date_id\n",
    "\n",
    "        elif type(tus_arr) == np.ndarray and grb_id == None and type(T0) == datetime and LED_filename==None:\n",
    "            tus_keep_multihit_LED = tus_arr\n",
    "            date_id = datetime.strftime(T0,format='%y%m%d') #Correct format for title of plot: YYMMDD\n",
    "            grb_id_title = \"GRB\" + date_id\n",
    "        else:\n",
    "            return \"T0 <datetime> must be specified when initiating tus_arr\"\n",
    "        \n",
    "    except KeyError as e:\n",
    "        return print(e)\n",
    "    \n",
    "    #Plotting routine\n",
    "    fig0, ax1 = plt.subplots(\n",
    "        1, 1, figsize=(12, 8), sharex=True, sharey=False)\n",
    "    \n",
    "    ax1.hist(tus_keep_multihit_LED, bins=np.arange(\n",
    "        min(tus_keep_multihit_LED), max(tus_keep_multihit_LED) + binsize, binsize),edgecolor= \"black\", histtype=\"step\")\n",
    "    ax1.set_xlabel(\"time [us], binsize {} ms\".format((binsize / 1e3)))\n",
    "    ax1.set_ylabel(\"Counts per bin\")\n",
    "    ax1.set_title(grb_id_title)\n",
    "    \n",
    "    if output_path != None:\n",
    "        dir_save = output_path + \"{}_LED\".format(grb_id_title)\n",
    "        try:\n",
    "            os.mkdir(dir_save)\n",
    "            plt.savefig(dir_save + \"/{}_{}_ms_LED\".format(grb_id_title,binsize/1e3))\n",
    "        except FileExistError:\n",
    "            plt.savefig(dir_save + \"/{}_{}_ms_LED\".format(grb_id_title,binsize/1e3))\n",
    "    else:\n",
    "        pass\n",
    "    \n",
    "    \n",
    "    if start_range and end_range != 0:\n",
    "        mean = get_mean(LED_filename,binsize,tus_LED, start_range, end_range)\n",
    "        ax1.axhline(y=mean, color=\"red\", label=\"Mean of bg: {} counts/bin \\n First range [{} - {}] s \\n 2nd: [{} - {}] s\".format(\n",
    "            np.round(mean,2), np.round(min(tus_LED)/1e6,3),start_range/1e6, end_range/1e6, np.round(max(tus_LED)/1e6,3)),linestyle='--')\n",
    "                                                                                                                              \n",
    "                                                                                                                          \n",
    "        ax1.legend()\n",
    "        plt.show()\n",
    "    else:\n",
    "        plt.show()    "
   ]
  },
  {
   "cell_type": "markdown",
   "id": "9289b557-a7da-4688-964f-c160ac71e748",
   "metadata": {},
   "source": [
    "## HED"
   ]
  },
  {
   "cell_type": "code",
   "execution_count": 10,
   "id": "75e4b71d-7c2a-44d0-acc8-b1c3cfc713c9",
   "metadata": {},
   "outputs": [],
   "source": [
    "#plot_HED(grb_id=\"GRB211211\")"
   ]
  },
  {
   "cell_type": "code",
   "execution_count": 11,
   "id": "077a70d2-f53e-4e33-b1e1-5cb91d8b75a6",
   "metadata": {},
   "outputs": [],
   "source": [
    "def plot_HED(grb_id=None, tus_arr = None, HED_filename = None, binsize=10, start_GRB=0, \n",
    "             end_GRB=0, fig=(12,8), T0=None, cut_idx=None, output_path=None):\n",
    "    \n",
    "    \"\"\"Plotting data from HED. If HED_filename is not specified, but tus_arr is: plotting the tus array without reading matlab file\n",
    "        If start and end value for the GRB is not given, the data is plotted normally,\n",
    "        - BINSIZE IS INITIALIZED AS MILLISECONDS\n",
    "        - start_GRB & end_GRB IS INITIALIZED AS MILLISECONDS 0.5 s = 500 ms\n",
    "        - tus_HED is given in microseconds\n",
    "        -T0 is given as a string\n",
    "        -cut_idx: array of indecies that was used to cut the tus_arr\n",
    "    \"\"\"\n",
    "\n",
    "    binsize = binsize*1e3 #converting to microseconds\",\n",
    "    \n",
    "    start_GRB = start_GRB*1e3 #converting to microseconds\",\n",
    "    end_GRB = end_GRB*1e3,\n",
    "    \n",
    "    # //TODO:\n",
    "    #Create switch for plotting histograms with different color for showing the tus range plotted\n",
    "    #Create switch if concat in needed\n",
    "    \n",
    "    #switch for input\n",
    "    try:\n",
    "        if HED_filename != None and grb_id == None and tus_arr == None:\n",
    "            tus_HED, erg_HED, typ_HED, adr_HED, dau_HED, det_HED, DetCol_HED, date = read_matlab_file_with_BGO_data(HED_filename)\n",
    "            T0 = datetime.strptime(date, \"%Y-%b-%d %H:%M:%S.%f\")\n",
    "            date_id = datetime.strftime(T0,format='%y%m%d') #Correct format for title of plot: GRBYYMMDD\n",
    "            grb_id_title = \"GRB\" + date_id\n",
    "            \n",
    "        elif grb_id != None and tus_arr == None and HED_filename == None:\n",
    "            if grb_id not in trig_dict_HED.keys():\n",
    "                raise KeyError(\"GRB ID not in dict\")\n",
    "            else:\n",
    "                HED_filename = trig_dict_HED[grb_id][0]\n",
    "                tus_HED, erg_HED, typ_HED, adr_HED, dau_HED, det_HED, DetCol_HED, date = read_matlab_file_with_BGO_data(HED_filename)\n",
    "                T0 = datetime.strptime(date, \"%Y-%b-%d %H:%M:%S.%f\")\n",
    "                date_id = datetime.strftime(T0,format='%y%m%d') #Correct format for title of plot: GRBYYMMDD\n",
    "                grb_id_title = \"GRB\" + date_id\n",
    "\n",
    "        elif type(tus_arr) == np.ndarray and grb_id == None and type(T0) == datetime and HED_filename==None:\n",
    "            tus_HED = tus_arr\n",
    "            date_id = datetime.strftime(T0,format='%y%m%d') #Correct format for title of plot: YYMMDD\n",
    "            grb_id_title = \"GRB\" + date_id\n",
    "            \n",
    "        else:\n",
    "            return \"T0 <datetime> must be specified when initiating tus_arr\"\n",
    "        \n",
    "    except KeyError as e:\n",
    "        return print(e)\n",
    "    \n",
    "    \n",
    "    #Plotting routine for normal histograms. Adding output path\n",
    "    if cut_idx == None:\n",
    "        fig0, ax1 = plt.subplots(\n",
    "            1, 1, figsize=fig, sharex=True, sharey=False)\n",
    "        ax1.hist(tus_HED, bins=np.arange(\n",
    "            min(tus_HED), max(tus_HED) + binsize, binsize),edgecolor= \"black\", histtype=\"step\")\n",
    "\n",
    "        ax1.set_xlabel(\"time [us], binsize {} ms\".format((binsize / 1e3)))\n",
    "        ax1.set_ylabel(\"Counts per bin\"),\n",
    "        ax1.set_title(grb_id_title)\n",
    "        if output_path != None:\n",
    "            dir_save = output_path + \"{}_HED\".format(grb_id_title)\n",
    "            try:\n",
    "                os.mkdir(dir_save)\n",
    "                plt.savefig(dir_save + \"/{}_HED\".format(grb_id_title))\n",
    "            except FileExistsError:\n",
    "                plt.savefig(dir_save + \"/{}_{}_ms_HED\".format(grb_id_title,binsize/1e3))\n",
    "                \n",
    "        else:\n",
    "            pass\n",
    "            \n",
    "    if cut_idx != None: #plotting a specified range of the histogram in a color\n",
    "        colors = cm.rainbow(np.linspace(0, 1, len(cut_idx)))\n",
    "        \n",
    "        fig0, ax1 = plt.subplots(\n",
    "        1, 1, figsize=fig, sharex=True, sharey=False)\n",
    "        \n",
    "        for idx, c in zip(cut_idx, colors):\n",
    "            ax1.hist(tus_HED, bins=np.arange(min(tus_HED), \n",
    "                                             max(tus_HED) + binsize, binsize),edgecolor= \"black\", histtype=\"step\")\n",
    "        \n",
    "        \n",
    "        \n",
    "\n",
    "    if start_GRB and end_GRB != 0:\n",
    "        mean = get_mean(HED_filename,binsize,tus_HED, start_GRB, end_GRB)\n",
    "        ax1.axhline(y=mean, color=\"red\", label= \"Mean of bg: {} counts/bin \\n First range [{} - {}] s \\n 2nd: [{} - {}] s\".format(\n",
    "            np.round(mean,2), np.round(min(tus_HED)/1e6,3),start_GRB/1e6, end_GRB/1e6, np.round(max(tus_HED)/1e6,3)),linestyle='--'),\n",
    "        ax1.legend()\n",
    "        plt.show(),\n",
    "    else:\n",
    "        plt.show()"
   ]
  },
  {
   "cell_type": "markdown",
   "id": "2e92a07e-f1bd-41c2-8af2-928524543b15",
   "metadata": {},
   "source": [
    "## mean"
   ]
  },
  {
   "cell_type": "code",
   "execution_count": 12,
   "id": "e7e11e87-56c1-45b4-a914-868cade107c3",
   "metadata": {},
   "outputs": [],
   "source": [
    "# Rename start_GRB to start_range. Same for end_GRB\n",
    "def get_mean(matlab_filename, binsize, tus, start_GRB, end_GRB):\n",
    "    \n",
    "    \"\"\"Function for getting the mean from the background.\n",
    "    matlab_filename: <str> filename\n",
    "    binsize: <int> given in us // 5ms = 5000 us \n",
    "    start & end_GRB given in us.\n",
    "    -Finding ranges to compute the mean in each bin. \"\"\"\n",
    "    \n",
    "    tus = np.sort(tus)\n",
    "    range_1 =  find_closest(tus,start_GRB)\n",
    "    range_2 = find_closest(tus,end_GRB)\n",
    "    \n",
    "    range_1_counts = np.histogram(tus[:range_1], bins=np.arange(\n",
    "        min(tus[:range_1]), max(tus[:range_1]) + binsize, binsize))[0]\n",
    "    \n",
    "    range_2_counts = np.histogram(tus[range_2:], bins=np.arange(\n",
    "        min(tus[range_2:]), max(tus[range_2:]) + binsize, binsize))[0]\n",
    "    \n",
    "    background_data = np.append(range_1_counts,range_2_counts)\n",
    "    mean = np.mean(background_data)\n",
    "    return mean"
   ]
  },
  {
   "cell_type": "code",
   "execution_count": 13,
   "id": "38400522-f307-4604-8411-5ba2f5dabc66",
   "metadata": {},
   "outputs": [],
   "source": [
    "def find_nearest(array, value):\n",
    "    \"\"\"Returns nearest index for value in array.\n",
    "    \"\"\"\n",
    "    array = np.asarray(array)\n",
    "    return (np.abs(array - value)).argmin()"
   ]
  },
  {
   "cell_type": "markdown",
   "id": "ce2e81b0-e327-4fc4-bda6-4d741cbc23c3",
   "metadata": {},
   "source": [
    "# Concatination of multiple files"
   ]
  },
  {
   "cell_type": "markdown",
   "id": "aff6e21b-50db-4e60-b5e0-42c545588e23",
   "metadata": {},
   "source": [
    "## Cutting index"
   ]
  },
  {
   "cell_type": "code",
   "execution_count": 14,
   "id": "a40bb4ee-efb9-4f39-92f4-d5bd60a9b112",
   "metadata": {},
   "outputs": [],
   "source": [
    "def find_cut_idx(tus1=None, tus2=None, erg1=None, erg2=None, index_file=None):\n",
    "    \"\"\"TODO:\n",
    "    - Search a region. Kind of like Newton iteration. If the cutoff index lies behind, the routine has a problem.\n",
    "    \"\"\"\n",
    "\n",
    "    idx = find_nearest(tus1,tus2[0])\n",
    "    if np.all(erg1[idx:] == erg2[0:len(erg1[idx:])]) == False:\n",
    "        idx_nearest_erg = find_nearest(erg1[idx:], erg2[0]) #assuming the correct cutoff lies ahead. Might cause problems. Could search a region\n",
    "        cut_idx = idx_nearest_erg + idx\n",
    "        if np.all(erg1[cut_idx:] == erg2[0:len(erg1[cut_idx:])]) == True: #Checking if the energies lines up\n",
    "            print(\"found overlapping erg array. Concatenating two files ...\")\n",
    "            return cut_idx\n",
    "        else:\n",
    "            print(\"No overlapping data. Reason: ergs dont line up.....\" + \"file num: \",index_file, \" cutting at idx: :\", idx )\n",
    "            if tus1[idx] < tus2[0]: #must be an increase in time for stitching\n",
    "                return idx \n",
    "    #should check if the previous ergs line up\n",
    "    else:\n",
    "        print(\"found index on firts try. ergs line up\")\n",
    "        return idx #found correct stich index on first try"
   ]
  },
  {
   "cell_type": "markdown",
   "id": "8afe09f7-3053-4a7b-9aa5-b78022941b4a",
   "metadata": {},
   "source": [
    "## concat_GRB"
   ]
  },
  {
   "cell_type": "code",
   "execution_count": 15,
   "id": "4af8d217-9d5d-436c-828b-f0205dfbb254",
   "metadata": {},
   "outputs": [],
   "source": [
    "# the function is not concating correctly. "
   ]
  },
  {
   "cell_type": "code",
   "execution_count": 16,
   "id": "8ef1cc58-5ade-4e64-bcd9-914655ef1bcc",
   "metadata": {},
   "outputs": [],
   "source": [
    "def concat_GRB(grb_id, flag):\n",
    "    \"\"\" function concat_files concatenates multiple matlab files. Can only concat HED or LED files at the time\n",
    "    \n",
    "    Flag determines whether the input list is of HED or LED files\n",
    "    \n",
    "    --> If there is \"missing counts\" between the files. 0 counts is added for the respective missing time interval. Automatically when time-shifted (?)\n",
    "    \n",
    "    Routine description: \n",
    "    1) The different tus arrays have their own T0. Calculating the delta T between T0 and Tn (time for concatination)  \n",
    "    \n",
    "    \n",
    "    Parameters:\n",
    "    %---------------------------------------------------------------\n",
    "    \n",
    "    grb_id <string>  : key for dictionary containing list of matlab filenames\n",
    "    flag <string>    : \"HED\" or \"LED\". They have different arrays after calling read_matlab_file function. This flag handles that.\n",
    "    \n",
    "    \n",
    "    returns:\n",
    "    %---------------------------------------------------------------\n",
    "    \n",
    "    \n",
    "    output for HED:\n",
    "    %---------------------------------------------------------------\n",
    "    concat_tus_HED <array> : concat tus (relative times in microseconds) for all arrays\n",
    "    concat_erg_HED <array> : concat erg (energy channel (needs to be calibrated to keV using calibration coeff)) for all arrays\n",
    "    concat_typ_HED <array> : concat typ for all counts  (normal (0), fast(1), valley (3), or overflow event (2 or 4 not )) read function keeps only 0 & 1.\n",
    "    concat_adr_HED <array> : concat BGO address 1-12 for all arrays\n",
    "    concat_dau_HED <array> : concat dau address 1-4\n",
    "    concat_det_HED <array> : concat detector address 1-3\n",
    "    concat_DetCol_HED <array> : concat RGB color for all arrays\n",
    "    T0 <datetime> : datetime object of T0\n",
    "    \n",
    "    output for LED:\n",
    "    %----------------------------------------------------------------\n",
    "    \n",
    "    \n",
    "    \"\"\"\n",
    "    #Handling input is in the right format\n",
    "    \n",
    "    try:\n",
    "        if type(flag) and type(grb_id) != str:\n",
    "            raise TypeError(\"grb_id and/or flag input is not string\")\n",
    "        elif flag != \"HED\" and flag != \"LED\":\n",
    "            raise NameError(\"flag-string is neither HED or LED\")\n",
    "        elif flag == \"HED\":\n",
    "            if grb_id not in trig_dict_HED.keys():\n",
    "                raise KeyError(\"GRB ID not in trig_dict_HED\")\n",
    "            else:\n",
    "                HED_files = trig_dict_HED[grb_id]       \n",
    "        elif flag == \"LED\":\n",
    "            if grb_id not in trig_dict_LED.keys():\n",
    "                raise KeyError(\"GRB ID not in trig_dict_LED\")\n",
    "            else:\n",
    "                LED_files = trig_dict_LED[grb_id]\n",
    "                \n",
    "        else:\n",
    "            if flag == \"HED\":\n",
    "                if all(HED_files[i] <= HED_files[i+1] for i in range(len(HED_files) - 1)) == False: #logic for checking that the files are in increasing order\n",
    "                    raise IndexError(\"List is not sorted in increasing order\")\n",
    "            elif flag == \"LED\":\n",
    "                print(len(LED_files))\n",
    "                if all(LED_files[i] <= LED_files[i+1] for i in range(len(LED_files) - 1)) == False: #logic for checking that the files are in increasing order\n",
    "                    raise IndexError(\"List is not sorted in increasing order\")\n",
    "            else:\n",
    "                print(\"No flag\")\n",
    "                    \n",
    "    except (TypeError, NameError, KeyError) as e:\n",
    "        return print(e) #routine quits if error is found\n",
    "    \n",
    "    except IndexError:\n",
    "        if flag == \"HED\":\n",
    "            HED_files.sort() #sorting filenames in increasing order. Should already be done in dict creation, but good to check\n",
    "        else:\n",
    "            LED_files.sort() #sorting filenames in increasing order. Should already be done in dict creation, but good to check      \n",
    "    try: \n",
    "        \n",
    "        if flag == \"HED\":\n",
    "            data = [] #list that stores dictionary for each file\n",
    "            num_files = len(HED_files)\n",
    "            \n",
    "            for filename in HED_files:\n",
    "                \n",
    "                tus, erg, typ, adr, dau, det, DetCol, date = read_matlab_file_with_BGO_data(filename)\n",
    "                if len(date) != 27:\n",
    "                    raise ValueError(\"length of datetime string is not in correct format\")\n",
    "                \n",
    "                index_sort = np.argsort(tus, kind=\"mergesort\") # sorting tus in increasing order. Mergesort will not be affected by floating point error\n",
    "                \n",
    "                tus_sort, erg_sort, typ_sort, adr_sort, dau_sort, det_sort = tus[index_sort], erg[index_sort], typ[index_sort], adr[index_sort],dau[index_sort], det[index_sort] #Making sure that the are coherent\n",
    "                \n",
    "                file_dict = {\"tus\":tus_sort, \"erg\":erg_sort, \"typ\":typ_sort, \"adr\":adr_sort, \"dau\":dau_sort, \"det\": det_sort, \"DetCol\":DetCol, \"date\":date}\n",
    "                \n",
    "                data.append(file_dict)\n",
    "            \n",
    "            T0 = datetime.strptime(data[0][\"date\"], \"%Y-%b-%d %H:%M:%S.%f\") #T0 of first file. Will be T0 for concat tus array\n",
    "\n",
    "            # Adding the timeshift to all tus arrays from T0\n",
    "            for i in np.arange(1,num_files):\n",
    "                deltaT = datetime.strptime(data[i][\"date\"], \"%Y-%b-%d %H:%M:%S.%f\") - T0\n",
    "                data[i][\"tus\"] = data[i][\"tus\"] + float(deltaT.total_seconds())*1e6 #deltaT to all entries from T0\n",
    "\n",
    "            # Cutting arrays at respective index; idx\n",
    "            i = 0\n",
    "            while i < num_files-1: #Need num_files-1 cutting indecies\n",
    "\n",
    "                idx = find_cut_idx(tus1=data[i][\"tus\"], tus2=data[i+1][\"tus\"], erg1= data[i][\"erg\"] , erg2 = data[i+1][\"erg\"], index_file= i) #index for cutting     \n",
    "                data[i][\"tus\"] = data[i][\"tus\"][:idx] #cutting arrays at idx\n",
    "                data[i][\"erg\"] = data[i][\"erg\"][:idx] \n",
    "                data[i][\"typ\"] = data[i][\"typ\"][:idx]\n",
    "                data[i][\"dau\"] = data[i][\"dau\"][:idx]\n",
    "                i += 1\n",
    "\n",
    "            #Concatenating respective arrays\n",
    "            concat_tus_HED = np.concatenate([data[i][\"tus\"] for i in range(0,num_files)]) #Just concatinating tus arrays \n",
    "            concat_erg_HED = np.concatenate([data[i][\"erg\"] for i in range(0,num_files)])\n",
    "            concat_typ_HED = np.concatenate([data[i][\"typ\"] for i in range(0,num_files)])\n",
    "            concat_dau_HED = np.concatenate([data[i][\"dau\"] for i in range(0,num_files)])\n",
    "            \n",
    "            return concat_tus_HED, concat_erg_HED, T0 #, concat_typ_HED, concat_dau_HED, DetCol,\n",
    "        \n",
    "        #LED concatination\n",
    "        elif flag == \"LED\":\n",
    "            data = []\n",
    "            num_files = len(LED_files)\n",
    "                \n",
    "            for filename in LED_files:\n",
    "                \n",
    "                #Working only with \n",
    "                tus, erg, energy_keV, tus_keep_multihit_ntimes, erg_keep_multihit_ntimes, multihit_indx, date = read_matlab_file_with_CZT_data(filename)\n",
    "                if len(date) != 27:\n",
    "                    raise ValueError(\"length of datetime string is not in correct format\")\n",
    "                \n",
    "                index_sort = np.argsort(tus_keep_multihit_ntimes, kind=\"mergesort\") # sorting tus in increasing order. Mergesort will not be affected by floating point error\n",
    "                \n",
    "                tus_sort, erg_sort = tus_keep_multihit_ntimes[index_sort], erg_keep_multihit_ntimes[index_sort] #Making sure that the are coherent\n",
    "                \n",
    "                file_dict = {\"tus\":tus_sort, \"erg\":erg_sort, \"date\":date}\n",
    "                \n",
    "                data.append(file_dict)\n",
    "            \n",
    "            T0 = datetime.strptime(data[0][\"date\"], \"%Y-%b-%d %H:%M:%S.%f\") #T0 of first file. Will be T0 for concat tus array\n",
    "\n",
    "            # Adding the timeshift to all tus arrays from T0\n",
    "            for i in np.arange(1,num_files):\n",
    "                deltaT = datetime.strptime(data[i][\"date\"], \"%Y-%b-%d %H:%M:%S.%f\") - T0\n",
    "                data[i][\"tus\"] = data[i][\"tus\"] + float(deltaT.total_seconds())*1e6 #deltaT to all entries from T0\n",
    "\n",
    "            # Cutting arrays at respective index; idx\n",
    "            i = 0\n",
    "            while i < num_files-1: #Need num_files-1 cutting indecies\n",
    "\n",
    "                idx = find_cut_idx(tus1=data[i][\"tus\"], tus2=data[i+1][\"tus\"], erg1= data[i][\"erg\"] , erg2 = data[i+1][\"erg\"], index_file= i) #index for cutting     \n",
    "                data[i][\"tus\"] = data[i][\"tus\"][:idx] #cutting arrays at idx\n",
    "                data[i][\"erg\"] = data[i][\"erg\"][:idx]  #cutting arrays at idx\n",
    "                \n",
    "                i += 1\n",
    "\n",
    "            #Concatenating respective arrays\n",
    "            concat_tus_LED = np.concatenate([data[i][\"tus\"] for i in range(0,num_files)]) #concatinating tus arrays \n",
    "            concat_erg_LED = np.concatenate([data[i][\"erg\"] for i in range(0,num_files)])\n",
    "\n",
    "            \n",
    "            \n",
    "            # //TODO: return the cutting indecies\n",
    "            return concat_tus_LED, concat_erg_LED, T0\n",
    "        \n",
    "        else:\n",
    "            print(\"No flag of type of GRB provided\")\n",
    "            \n",
    "    except (ValueError) as e:\n",
    "        return print(e)"
   ]
  },
  {
   "cell_type": "markdown",
   "id": "cdc0a5e5-ef3f-4963-a05d-338b5fca1c91",
   "metadata": {},
   "source": [
    "## Testing concat"
   ]
  },
  {
   "cell_type": "code",
   "execution_count": 17,
   "id": "ca00bd8d-15e9-45c3-af23-7225628e593e",
   "metadata": {},
   "outputs": [],
   "source": [
    "#tus, erg, energy_keV, tus_keep_multihit_ntimes, erg_keep_multihit_ntimes, multihit_indx, date = read_matlab_file_with_CZT_data(\"2018.12.27_06.17.04.210500_Fulltrigger\")"
   ]
  },
  {
   "cell_type": "code",
   "execution_count": 32,
   "id": "8dee8417-7e68-4027-b432-72569af83a37",
   "metadata": {},
   "outputs": [
    {
     "name": "stdout",
     "output_type": "stream",
     "text": [
      "No overlapping data. Reason: ergs dont line up.....file num:  0  cutting at idx: : 6203\n",
      "No overlapping data. Reason: ergs dont line up.....file num:  1  cutting at idx: : 2534\n",
      "No overlapping data. Reason: ergs dont line up.....file num:  2  cutting at idx: : 2864\n",
      "No overlapping data. Reason: ergs dont line up.....file num:  3  cutting at idx: : 3059\n",
      "No overlapping data. Reason: ergs dont line up.....file num:  4  cutting at idx: : 4996\n",
      "found index on firts try. ergs line up\n",
      "found index on firts try. ergs line up\n",
      "found index on firts try. ergs line up\n",
      "found index on firts try. ergs line up\n",
      "found overlapping erg array. Concatenating two files ...\n"
     ]
    },
    {
     "name": "stderr",
     "output_type": "stream",
     "text": [
      "/var/folders/q_/b8y8kqjd57q3wqvw3vyz1mrw0000gn/T/ipykernel_25499/3899758076.py:7: DeprecationWarning: elementwise comparison failed; this will raise an error in the future.\n",
      "  if np.all(erg1[idx:] == erg2[0:len(erg1[idx:])]) == False:\n"
     ]
    }
   ],
   "source": [
    "concat_tus_HED, concat_erg_HED, T0 = concat_GRB(\"GRB200412\",\"HED\")"
   ]
  },
  {
   "cell_type": "markdown",
   "id": "7c213c1c-8a73-4fc1-9853-764c0b599fe2",
   "metadata": {},
   "source": [
    "# Plotting lightcurves"
   ]
  },
  {
   "cell_type": "code",
   "execution_count": 33,
   "id": "328912c3-a67b-4d27-82b1-2847c1ffe2ec",
   "metadata": {},
   "outputs": [
    {
     "data": {
      "image/png": "[encoded data removed]",
      "text/plain": [
       "<Figure size 1200x800 with 1 Axes>"
      ]
     },
     "metadata": {},
     "output_type": "display_data"
    }
   ],
   "source": [
    "plot_HED(tus_arr=concat_tus_HED,T0=T0, binsize=64)"
   ]
  },
  {
   "cell_type": "code",
   "execution_count": null,
   "id": "310377ae-d208-4b8c-a6c9-5c884035c5ad",
   "metadata": {},
   "outputs": [],
   "source": []
  },
  {
   "cell_type": "code",
   "execution_count": null,
   "id": "f0a2bb81-62b4-47ba-a65a-6147ec494f74",
   "metadata": {},
   "outputs": [],
   "source": []
  },
  {
   "cell_type": "code",
   "execution_count": null,
   "id": "ef5540fd-ff84-41ef-8dcc-3a38d69fc5d6",
   "metadata": {},
   "outputs": [],
   "source": []
  },
  {
   "cell_type": "code",
   "execution_count": null,
   "id": "e73bf6d0-0ef9-4bed-a514-315d1e88359e",
   "metadata": {},
   "outputs": [],
   "source": []
  },
  {
   "cell_type": "code",
   "execution_count": null,
   "id": "593fb595-6048-46ca-ad3f-8cfe99ea703d",
   "metadata": {},
   "outputs": [],
   "source": []
  },
  {
   "cell_type": "code",
   "execution_count": 19,
   "id": "0ff6d714-8ce5-43de-a0f0-b1c83a079956",
   "metadata": {},
   "outputs": [
    {
     "data": {
      "image/png": "[encoded data removed]",
      "text/plain": [
       "<Figure size 1200x800 with 1 Axes>"
      ]
     },
     "metadata": {},
     "output_type": "display_data"
    }
   ],
   "source": [
    "plot_HED(tus_arr=concat_tus_HED,T0=T0,binsize=64)"
   ]
  },
  {
   "cell_type": "code",
   "execution_count": 20,
   "id": "6d4de382-3c83-4b3a-a8af-6444576c2397",
   "metadata": {},
   "outputs": [
    {
     "name": "stdout",
     "output_type": "stream",
     "text": [
      "2019-Mar-05 13:05:19.779000\n"
     ]
    }
   ],
   "source": [
    "tus, erg, typ, adr, dau, det, DetCol, date = read_matlab_file_with_BGO_data(trig_dict_HED[\"GRB190305\"][0])\n",
    "print(date)"
   ]
  },
  {
   "cell_type": "code",
   "execution_count": null,
   "id": "99577dca-817d-43d9-af10-8a439a3567ac",
   "metadata": {},
   "outputs": [],
   "source": []
  },
  {
   "cell_type": "markdown",
   "id": "5b4d2a9f-06cf-4c28-bd68-7d55f03ef9a0",
   "metadata": {},
   "source": [
    "## Function for exporting all light curves"
   ]
  },
  {
   "cell_type": "code",
   "execution_count": 21,
   "id": "d25ed17d-7f1d-4e6a-8e32-80d0eba35756",
   "metadata": {},
   "outputs": [],
   "source": [
    "# export path to folder:\n",
    "path_out_HED = '/Users/andreas/phys/master/GRB/pyplots/HED/'\n",
    "path_out_LED = '/Users/andreas/phys/master/GRB/pyplots/LED/'"
   ]
  },
  {
   "cell_type": "code",
   "execution_count": 22,
   "id": "00641ac6-c83b-4f7d-aedd-e3113d1c5ff3",
   "metadata": {},
   "outputs": [],
   "source": [
    "def export_plots():\n",
    "    dict_HED = trig_dict_HED\n",
    "    dict_LED = trig_dict_LED\n",
    "    \n",
    "    for grb_id in dict_HED.keys():\n",
    "        if len(dict_HED[grb_id]) <= 1:\n",
    "               plot_HED(grb_id=grb_id ,binsize = 32, output_path=path_out_HED)\n",
    "        else:\n",
    "               concat_tus_HED, concat_erg_HED, T0 = concat_GRB(grb_id=grb_id,flag=\"HED\")\n",
    "               plot_HED(tus_arr = concat_tus_HED, binsize= 32, T0 = T0, output_path=path_out_HED)\n",
    "               \n",
    "    for grb_id in dict_LED.keys():\n",
    "        if len(dict_LED[grb_id]) <= 1:\n",
    "               plot_LED(grb_id=grb_id ,binsize = 32, output_path=path_out_LED)\n",
    "        else:\n",
    "               concat_tus_LED, concat_erg_LED, T0 = concat_GRB(grb_id=grb_id,flag=\"LED\")\n",
    "               plot_LED(tus_arr = concat_tus_LED, binsize= 32, T0 = T0, output_path=path_out_LED)"
   ]
  },
  {
   "cell_type": "code",
   "execution_count": null,
   "id": "fba5f27b-9849-45f2-8848-a4cd55e0db98",
   "metadata": {},
   "outputs": [],
   "source": []
  },
  {
   "cell_type": "code",
   "execution_count": null,
   "id": "812838ba-460e-4ef6-a12b-4a611a09c118",
   "metadata": {},
   "outputs": [],
   "source": []
  },
  {
   "cell_type": "code",
   "execution_count": null,
   "id": "6a582341-78d1-4edc-a2d6-3a65398bf600",
   "metadata": {},
   "outputs": [],
   "source": []
  },
  {
   "cell_type": "markdown",
   "id": "56edf6eb",
   "metadata": {},
   "source": [
    "# main function"
   ]
  },
  {
   "cell_type": "code",
   "execution_count": 23,
   "id": "framed-privilege",
   "metadata": {},
   "outputs": [
    {
     "data": {
      "text/plain": [
       "'def main(grb_id,binsize=10000, start_GRB, end_GRB):  # filename GRB ID\\n    # output array for tus_keep_multihit_LED, erg_keep_multihit_LED, multihit_indx_LED må modifiseres\\n    # Automake by making filename a list of filenames. Then the all the outout plots will be created\\n\\n    # TODO:\\n    # Add the extra parameters to make the get_mean work\\n#os.mkdir(\"/Users/andreas/phys/master/MATLAB/pyplots\")\\n    trig_dict = create_triggers_dict()\\n    try:\\n        output_dir = os.mkdir(\"/Home/siv30/wad005/master/GRB/MATLAB/pyplots/{}\".format(grb_id)) #Creating owd folder for grb_id\\n    except FileExistsError:\\n        output_dir = \"/Home/siv30/wad005//master/GRB/MATLAB/pyplots/{}\".format(grb_id) #selecting path if it already exists\\n\\n\\n    if type(grb_id) != str:\\n        raise TypeError(\"Input is not string\")\\n    elif grb_id not in trig_dict:\\n        raise LookupError(\"grb_id not in dictionary\")\\n    else:\\n        try:\\n            LED_filename = trig_dict[grb_id][0]\\n            HED_filename = trig_dict[grb_id][1]\\n            if type(LED_filename) == float and math.isnan(LED_filename):\\n                print(\"LED file not found. Plotting only HED\")\\n                plot_HED(HED_filename,output_dir,grb_id) #output path is not required\\n                \\n            elif type(HED_filename) == float and math.isnan(HED_filename):\\n                print(\"HED file not found. Plotting only LED\")\\n                plot_LED(LED_filename,output_dir,grb_id)\\n            else:\\n                plot_LED(LED_filename,output_dir,grb_id)\\n                plot_HED(HED_filename,output_dir,grb_id)\\n        except:\\n            print(\"Something went wrong\")\\n    '"
      ]
     },
     "execution_count": 23,
     "metadata": {},
     "output_type": "execute_result"
    }
   ],
   "source": [
    "# On hold for now. \n",
    "\"\"\"def main(grb_id,binsize=10000, start_GRB, end_GRB):  # filename GRB ID\n",
    "    # output array for tus_keep_multihit_LED, erg_keep_multihit_LED, multihit_indx_LED må modifiseres\n",
    "    # Automake by making filename a list of filenames. Then the all the outout plots will be created\n",
    "\n",
    "    # TODO:\n",
    "    # Add the extra parameters to make the get_mean work\n",
    "#os.mkdir(\"/Users/andreas/phys/master/MATLAB/pyplots\")\n",
    "    trig_dict = create_triggers_dict()\n",
    "    try:\n",
    "        output_dir = os.mkdir(\"/Home/siv30/wad005/master/GRB/MATLAB/pyplots/{}\".format(grb_id)) #Creating owd folder for grb_id\n",
    "    except FileExistsError:\n",
    "        output_dir = \"/Home/siv30/wad005//master/GRB/MATLAB/pyplots/{}\".format(grb_id) #selecting path if it already exists\n",
    "\n",
    "\n",
    "    if type(grb_id) != str:\n",
    "        raise TypeError(\"Input is not string\")\n",
    "    elif grb_id not in trig_dict:\n",
    "        raise LookupError(\"grb_id not in dictionary\")\n",
    "    else:\n",
    "        try:\n",
    "            LED_filename = trig_dict[grb_id][0]\n",
    "            HED_filename = trig_dict[grb_id][1]\n",
    "            if type(LED_filename) == float and math.isnan(LED_filename):\n",
    "                print(\"LED file not found. Plotting only HED\")\n",
    "                plot_HED(HED_filename,output_dir,grb_id) #output path is not required\n",
    "                \n",
    "            elif type(HED_filename) == float and math.isnan(HED_filename):\n",
    "                print(\"HED file not found. Plotting only LED\")\n",
    "                plot_LED(LED_filename,output_dir,grb_id)\n",
    "            else:\n",
    "                plot_LED(LED_filename,output_dir,grb_id)\n",
    "                plot_HED(HED_filename,output_dir,grb_id)\n",
    "        except:\n",
    "            print(\"Something went wrong\")\n",
    "    \"\"\"\n",
    "    "
   ]
  },
  {
   "cell_type": "code",
   "execution_count": null,
   "id": "d8c7680b-9f75-4bea-a996-3c695d103edb",
   "metadata": {},
   "outputs": [],
   "source": []
  },
  {
   "cell_type": "code",
   "execution_count": null,
   "id": "4eb9e345-3bdb-46b6-929b-ec5b9e8265c6",
   "metadata": {},
   "outputs": [],
   "source": []
  },
  {
   "cell_type": "code",
   "execution_count": null,
   "id": "b6347aca-03ef-40c8-936b-bfcb0eab7673",
   "metadata": {},
   "outputs": [],
   "source": []
  },
  {
   "cell_type": "markdown",
   "id": "5b3a1ad6-2ffd-44b5-9933-8e57e05fb32b",
   "metadata": {},
   "source": [
    "# Purgatory"
   ]
  },
  {
   "cell_type": "markdown",
   "id": "f6ed66be-028b-486f-b698-c471c47ed403",
   "metadata": {},
   "source": [
    "Setup for debugging the find_cut_idx:\n",
    "\n",
    "\n",
    "\n",
    "tus1, erg1, typ1, adr1, dau1, det1, DetCol1, date1 = read_matlab_file_with_BGO_data(trig_dict_HED[\"GRB200412\"][1])\n",
    "tus2, erg2, typ2, adr2, dau2, det2, DetCol2, date2 = read_matlab_file_with_BGO_data(trig_dict_HED[\"GRB200412\"][2])\n",
    "\n",
    "T0 = datetime.strptime(date1, \"%Y-%b-%d %H:%M:%S.%f\") #T0 of first file. Will be T0 for concat tus array\n",
    "\n",
    "Adding the timeshift to all tus arrays from T0\n",
    "\n",
    "deltaT = datetime.strptime(date2, \"%Y-%b-%d %H:%M:%S.%f\") - T0\n",
    "tus2_shift = tus2 + float(deltaT.total_seconds())*1e6 #deltaT to all entries from T0\n",
    "\n",
    "index_sort1 = np.argsort(tus1, kind=\"mergesort\")\n",
    "tus1_sort = tus1[index_sort1]\n",
    "erg1_sort = erg1[index_sort1]\n",
    "\n",
    "index_sort2 = np.argsort(tus2_shift, kind=\"mergesort\")\n",
    "tus2_sort = tus2_shift[index_sort2]\n",
    "erg2_sort = erg2[index_sort2]\n"
   ]
  },
  {
   "cell_type": "code",
   "execution_count": null,
   "id": "177465eb-4264-454a-9f81-005d87204a1c",
   "metadata": {},
   "outputs": [],
   "source": []
  }
 ],
 "metadata": {
  "kernelspec": {
   "display_name": "Python 3.9 (tensorflow)",
   "language": "python",
   "name": "tensorflow"
  },
  "language_info": {
   "codemirror_mode": {
    "name": "ipython",
    "version": 3
   },
   "file_extension": ".py",
   "mimetype": "text/x-python",
   "name": "python",
   "nbconvert_exporter": "python",
   "pygments_lexer": "ipython3",
   "version": "3.9.12"
  },
  "toc": {
   "base_numbering": 1,
   "nav_menu": {},
   "number_sections": true,
   "sideBar": true,
   "skip_h1_title": false,
   "title_cell": "Table of Contents",
   "title_sidebar": "Contents",
   "toc_cell": false,
   "toc_position": {},
   "toc_section_display": true,
   "toc_window_display": false
  },
  "varInspector": {
   "cols": {
    "lenName": 16,
    "lenType": 16,
    "lenVar": 40
   },
   "kernels_config": {
    "python": {
     "delete_cmd_postfix": "",
     "delete_cmd_prefix": "del ",
     "library": "var_list.py",
     "varRefreshCmd": "print(var_dic_list())"
    },
    "r": {
     "delete_cmd_postfix": ") ",
     "delete_cmd_prefix": "rm(",
     "library": "var_list.r",
     "varRefreshCmd": "cat(var_dic_list()) "
    }
   },
   "types_to_exclude": [
    "module",
    "function",
    "builtin_function_or_method",
    "instance",
    "_Feature"
   ],
   "window_display": false
  }
 },
 "nbformat": 4,
 "nbformat_minor": 5
}
