{
 "cells": [
  {
   "cell_type": "markdown",
   "id": "empirical-carolina",
   "metadata": {},
   "source": [
    "# Imports"
   ]
  },
  {
   "cell_type": "code",
   "execution_count": 1,
   "id": "finite-outdoors",
   "metadata": {},
   "outputs": [],
   "source": [
    "import numpy as np\n",
    "import matplotlib.pyplot as plt\n",
    "import scipy.io\n",
    "import scipy\n",
    "import os\n",
    "import glob\n",
    "import pandas as pd\n",
    "import math\n",
    "from datetime import datetime, timedelta\n",
    "import collections\n",
    "plt.rcdefaults() #Setting default color of output plots\n",
    "# For interactive plots\n",
    "\n",
    "plt.rcParams.update({'figure.max_open_warning': 0})\n",
    "%matplotlib widget"
   ]
  },
  {
   "cell_type": "markdown",
   "id": "cc60308d-b2bc-440b-b125-b8a463fedcfe",
   "metadata": {},
   "source": [
    "# TODO:\n",
    "    \n",
    "   1) GRB ID SHOULD BE USED AS INPUT IN MOST FUNCTIONS!! IMPLEMENT THIS \n",
    "   2) Correct concatination of multiple files. GRB_ID is used to locate list of files\n",
    "   2) Use GRBID as input in plotting function, not filename. Don't need this right now tho. FOR LED AND HED\n",
    "   3) Redo all the plots ..."
   ]
  },
  {
   "cell_type": "markdown",
   "id": "807afc27",
   "metadata": {},
   "source": [
    "# Paths"
   ]
  },
  {
   "cell_type": "code",
   "execution_count": 2,
   "id": "expected-classroom",
   "metadata": {},
   "outputs": [],
   "source": [
    "path_HED = \"/Home/siv30/wad005/master/GRB/MATLAB/output/file_mat_TGF/\"              #UiB\n",
    "path_LED = \"/Home/siv30/wad005/master/GRB/MATLAB/CZT_calibration/file_mat_CZT_TGF/\" #UiB\n",
    "#path_HED = \"/Users/andreas/phys/master/GRB/MATLAB/output/file_mat_TGF/\"               #MAC\n",
    "#path_LED = \"/Users/andreas/phys/master/GRB/MATLAB/CZT_calibration/file_mat_CZT_TGF/\"  #MAC"
   ]
  },
  {
   "cell_type": "markdown",
   "id": "82cdb8bf",
   "metadata": {},
   "source": [
    "# Dict creation"
   ]
  },
  {
   "cell_type": "code",
   "execution_count": 3,
   "id": "f2d83176-02f1-40fa-9dad-c92bfd92b1ca",
   "metadata": {},
   "outputs": [],
   "source": [
    "trig_dict_HED = {\"GRB180720\":[\"2018_07_20_14_21_48\",\"2018_07_20_14_21_51\",\"2018_07_20_14_21_56\",\"2018_07_20_14_21_57\",\"2018_07_20_14_22_09\"],\n",
    "                 \"GRB181222\":[\"2018_12_22_20_11_36\"],\n",
    "                 \"GRB190206\":[\"2019_02_06_03_49_28\"],\n",
    "                 \"GRB190305\":[\"2019_03_05_13_05_19\"],\n",
    "                 \"GRB190501\":[\"2019_05_01_05_23_22\"],\n",
    "                 \"GRB190606\":[\"2019_06_06_01_55_07\"],\n",
    "                 \"GRB190615\":[\"2019_06_15_14_42_21\"],\n",
    "                 \"GRB190813\":[\"2019_08_13_12_00_49\"],\n",
    "                 \"GRB190825\":[\"2019_08_25_21_04_55\",\"2019_08_25_21_04_53\"], \n",
    "                 \"GRB190829\":[\"2019_08_29_19_56_40\"],\n",
    "                 \"GRB190906\":[\"2019_09_06_01_04_51\"],\n",
    "                 \"GRB191001\":[\"2019_10_01_06_41_52\"],\n",
    "                 \"GRB191004\":[\"2019_10_04_18_07_03\"],\n",
    "                 \"GRB191119\":[\"2019_11_19_10_41_06\"],\n",
    "                 \"GRB191221\":[\"2019_12_21_20_39_10\",\"2019_12_21_20_39_11\",\"2019_12_21_20_39_12\",\"2019_12_21_20_39_13\",\"2019_12_21_20_39_15\"],\n",
    "                 \"GRB200412\":[],# long list\n",
    "                 \"GRB200521\":[\"2020_05_21_12_16_39\"],\n",
    "                 \"GRB200716\":[\"2020_07_16_22_57_40\"],\n",
    "                 \"GRB200925\":[\"2020_09_25_21_50_31\"],\n",
    "                 \"GRB201227\":[\"2020_12_27_15_14_06\"]\n",
    "            }\n",
    "trig_dict_HED = collections.OrderedDict(sorted(trig_dict_HED.items())) #Sorting the keys in decending order. Now trig_dict_HED is an OderedDict type\n",
    "\n",
    "for key in trig_dict_HED.keys():\n",
    "    trig_dict_HED[key].sort() #sorting files in increasing order\n"
   ]
  },
  {
   "cell_type": "code",
   "execution_count": 4,
   "id": "204e9aa8-605d-4b72-837e-1261928ff7e5",
   "metadata": {},
   "outputs": [],
   "source": [
    "trig_dict_LED = {\"GRB181227\":[\"2018_12_27_06_17_04.210500_Fulltrigger\",\"2018_12_27_06_17_09.775992_Fulltrigger\",\"2018_12_27_06_17_10.800851_Fulltrigger\"],\n",
    "                \"GRB190117\":[\"2019.01.17_08.50.42.939689_Fulltrigger\"],\n",
    "                 \"GRB190420\":[\"2019.04.20_23.32.24.931211_Fulltrigger\"],\n",
    "                 \"GRB190501\":[\"2019.05.01_05.23.21.736797_Fulltrigger\"],\n",
    "                 \"GRB190615\":[\"2019.06.15_14.42.22.741579_Fulltrigger\"],\n",
    "                 \"GRB190628\":[\"2019.06.28_04.23.32.512290_Fulltrigger\"],\n",
    "                 \"GRB190813\":[\"2019.08.13_12.00.48.801260_Fulltrigger\"],\n",
    "                 \"GRB190825\":[\"2019.08.25_21.04.54.439617_Fulltrigger\",\"2019.08.25_21.04.56.395859_Fulltrigger\"],\n",
    "                 \"GRB190906\":[\"2019.09.06_01.04.52.014004_Fulltrigger\"],\n",
    "                 \"GRB191001\":[\"2019.10.01_06.41.51.631214_Fulltrigger\"],\n",
    "                 \"GRB191004\":[\"2019.10.04_18.07.03.402478_Fulltrigger\"],\n",
    "                 \"GRB191119\":[\"2019.11.19_10.41.05.239944_Fulltrigger\"],\n",
    "                 \"GRB191221\":[\"2019.12.21_20.39.11.939846_Fulltrigger\",\"2019.12.21_20.39.12.939997_Fulltrigger\",\"2019.12.21_20.39.13.940233_Fulltrigger\",\n",
    "                              \"2019.12.21_20.39.15.106045_Fulltrigger\",\"2019.12.21_20.39.17.252498_Fulltrigger\"]\n",
    "                 \n",
    "                }\n",
    "trig_dict_LED = collections.OrderedDict(sorted(trig_dict_LED.items())) #Sorting the keys in decending order. Now trig_dict_HED is an OderedDict type\n",
    "\n",
    "for key in trig_dict_LED.keys():\n",
    "    trig_dict_LED[key].sort() #sorting files in increasing order\n"
   ]
  },
  {
   "cell_type": "markdown",
   "id": "aa41034e",
   "metadata": {},
   "source": [
    "# Functions for handling matlab files"
   ]
  },
  {
   "cell_type": "markdown",
   "id": "2c851e4b-d4a2-4e53-b83f-7a0bd4c475ea",
   "metadata": {},
   "source": [
    "## CZT function"
   ]
  },
  {
   "cell_type": "code",
   "execution_count": 5,
   "id": "improved-architect",
   "metadata": {},
   "outputs": [],
   "source": [
    "def read_matlab_file_with_CZT_data(filename):\n",
    "    '''Read matlab file with ASIM CZT data from the low energy detector (LED)\n",
    "\n",
    "    tus: relative time in microseconds (excluded multihits)\n",
    "    erg: energy channel (excluded multihits)\n",
    "    energy_keV: energy in keV (excluded multihits)\n",
    "    tus_keep_multihit: relative time in microseconds (included multihits)\n",
    "    erg_keep_multihit: energy channel (included multihits)\n",
    "    multihit_indx: multihit index 0-4. 0->1 1->2// 0: tus=105, 1: tus=110,110 (two counts)\n",
    "    '''\n",
    "    mat = scipy.io.loadmat(path_LED + \"%s.mat\" % (filename))\n",
    "\n",
    "    #keV_spectra = mat['keV_spectra_total_fulltrigger']\n",
    "\n",
    "    # Included multihits. Important for light curves\n",
    "    tus_keep_multihit = np.array(mat['tus_keep_multihit_fulltrigger'])[:,0] # relative time in microseconds\n",
    "    erg_keep_multihit = np.array(mat['erg_keep_multihit_fulltrigger'])[0,:] # energy channel (unreliable for multi hits)\n",
    "    multihit_indx = np.array(mat['multihit_fulltrigger'])[0,:] # multihit index. How many multihits in count. (0=1 count, 1=2 counts, 2=3 counts...)\n",
    "    \n",
    "    # The multihits are removed as they don't have a reliable energy estimate\n",
    "    erg = np.array(mat['erg_fulltrigger'])[0,:] # energy channel of CZT pixel\n",
    "    tus = np.array(mat['tus_fulltrigger'])[:,0] # relative time in microseconds\n",
    "    energy_keV = np.array(mat['pixel_energy_fulltrigger']).flatten() # energy in keV of CZT pixel\n",
    "    date = mat['T_ref_char'][0] #raw datetime\n",
    "    \n",
    "    #Logic that checks for array lengths\n",
    "    try:\n",
    "        length = len(tus_keep_multihit)\n",
    "        if any(len(lst) != length for lst in [erg_keep_multihit, multihit_indx]):\n",
    "        # at least one list has a different length\n",
    "            raise ValueError(\"Arrays have different lengths\")\n",
    "            \n",
    "        t_temp = []\n",
    "        erg_temp = []\n",
    "        \n",
    "        for index, i in enumerate(multihit_indx):\n",
    "            for j in np.arange(0,i+1): #adding i+1 times the tus_count\n",
    "                t_temp.append(tus_keep_multihit[index])\n",
    "                erg_temp.append(erg_keep_multihit[index])\n",
    "         \n",
    "        tus_keep_multihit_ntimes =  np.array(t_temp) #array of tus. Multihit index decides how many times the tus is appended\n",
    "        erg_keep_multihit_ntimes = np.array(erg_temp) #array of erg. Multihit index decides how many times the erg is appended\n",
    "        \n",
    "        return tus, erg, energy_keV, tus_keep_multihit_ntimes, erg_keep_multihit_ntimes, multihit_indx, date \n",
    "    \n",
    "    except ValueError as ve:\n",
    "        print(\"Function aborted because of: \" + str(ve))\n",
    "        print(\"Length of arrays: \")\n",
    "        for lst in [tus_keep_multihit, erg_keep_multihit, multihit_indx]:\n",
    "            print(len(lst))"
   ]
  },
  {
   "cell_type": "markdown",
   "id": "bd369c6b-2da5-4d03-a62e-be0e13a46992",
   "metadata": {},
   "source": [
    "## BGO function"
   ]
  },
  {
   "cell_type": "code",
   "execution_count": 6,
   "id": "fb08e8d7-010a-4584-a4d4-be3b3cb38e2a",
   "metadata": {},
   "outputs": [],
   "source": [
    "def read_matlab_file_with_BGO_data(matlabfilename):\n",
    "    '''Read matlab file with ASIM BGO data from the high energy detector (HED)\n",
    "\n",
    "    tus: relative times in microseconds.\n",
    "    erg: energy channel (needs to be calibrated to keV using calibration coeff from https://git.app.uib.no/ASIM-MXGS/IN-FLIGHT_CALIBRATION_BGO/-/tree/master/CALIBRATION_COEFS )\n",
    "    typ: normal (0), fast(1), valley (3), or overflow event (2 or 4 not )\n",
    "    adr: BGO address 1-12\n",
    "    dau: dau address 1-4\n",
    "    det: detector address 1-3\n",
    "    DetCol: RGB color\n",
    "    \n",
    "    - Kepping only normal (0) and fast (1) events\n",
    "    '''\n",
    "    matlabfile_TGF = path_HED + '%s.mat' % matlabfilename\n",
    "    \n",
    "    mat = scipy.io.loadmat(matlabfile_TGF)\n",
    "    \n",
    "    tus = mat['tus'].flatten()\n",
    "    erg = mat['erg'].flatten()\n",
    "    DetCol = mat['DetCol'] # Investigate this matrix\n",
    "    adr = mat['adr'].flatten()\n",
    "    dau = mat['dau'].flatten()\n",
    "    det = mat['det'].flatten()\n",
    "    typ = mat['typ'].flatten()\n",
    "    \n",
    "    date = mat['date'][0] #raw datetime\n",
    "    \n",
    "    \n",
    "    try:\n",
    "        length = len(tus)\n",
    "        if any(len(lst) != length for lst in [erg, typ, adr, dau, det]):\n",
    "        # at least one list has a different length\n",
    "            raise ValueError(\"Arrays have different lengths\")\n",
    "            \n",
    "        mask = np.where((typ != 0) & (typ != 1)) #finding indecies of vallays and overflow events\n",
    "        \n",
    "        # removing those indecies\n",
    "        tus = np.delete(tus,mask)\n",
    "        erg = np.delete(erg,mask)\n",
    "        adr = np.delete(adr,mask)\n",
    "        dau = np.delete(dau,mask)\n",
    "        det = np.delete(det,mask)\n",
    "        typ = np.delete(typ,mask)\n",
    "        \n",
    "        \n",
    "        return tus, erg, typ, adr, dau, det, DetCol, date\n",
    "    \n",
    "    except ValueError as ve:\n",
    "        print(\"Function aborted because of: \" + str(ve))\n",
    "        print(\"Length of arrays: \")\n",
    "        for lst in [tus,erg, typ, adr, dau, det]:\n",
    "            print(len(lst))"
   ]
  },
  {
   "cell_type": "markdown",
   "id": "9cca534c",
   "metadata": {},
   "source": [
    "# Plotting functions"
   ]
  },
  {
   "cell_type": "markdown",
   "id": "d59076a5-5400-402b-a613-cbfabd52478d",
   "metadata": {},
   "source": [
    "## LED"
   ]
  },
  {
   "cell_type": "code",
   "execution_count": 7,
   "id": "2e962c5f",
   "metadata": {},
   "outputs": [],
   "source": [
    "def plot_LED(grb_id=None, LED_filename=None, binsize=10,start_range =0, end_range=0):\n",
    "    \n",
    "    try:\n",
    "        if grb_id != None and LED_filename == None:\n",
    "            if grb_id not in trig_dict_LED.keys():\n",
    "                raise KeyError(\"GRB ID not in dict\")\n",
    "            else:\n",
    "                LED_filename = trig_dict_LED[grb_id][0]\n",
    "        else:\n",
    "            LED_filename = LED_filename\n",
    "    except KeyError as e:\n",
    "        return print(e)\n",
    "\n",
    "    tus_LED, erg_LED, energy_keV_LED, tus_keep_multihit_LED, erg_keep_multihit_LED, multihit_indx_LED, date = read_matlab_file_with_CZT_data(\n",
    "    LED_filename)\n",
    "\n",
    "    binsize = binsize*1e3 #converting to microseconds\n",
    "    start_range = start_range*1e3 #converting to microseconds\n",
    "    end_range = end_range*1e3\n",
    "    \n",
    "    fig0, ax1 = plt.subplots(\n",
    "        1, 1, figsize=(12, 8), sharex=True, sharey=False)\n",
    "    \n",
    "    ax1.hist(tus_keep_multihit_LED, bins=np.arange(\n",
    "        min(tus_keep_multihit_LED), max(tus_keep_multihit_LED) + binsize, binsize),edgecolor= \"black\", histtype=\"step\")\n",
    "    ax1.set_xlabel(\"time [us], binsize {} ms\".format((binsize / 1e3)))\n",
    "    ax1.set_ylabel(\"Counts per bin\")\n",
    "    ax1.set_title(\"GRB \" + date)\n",
    "    \n",
    "    if start_range and end_range != 0:\n",
    "        mean = get_mean(LED_filename,binsize,tus_LED, start_range, end_range)\n",
    "        ax1.axhline(y=mean, color=\"red\", label=\"Mean of bg: {} counts/bin \\n First range [{} - {}] s \\n 2nd: [{} - {}] s\".format(\n",
    "            np.round(mean,2), np.round(min(tus_LED)/1e6,3),start_range/1e6, end_range/1e6, np.round(max(tus_LED)/1e6,3)),linestyle='--')\n",
    "                                                                                                                              \n",
    "                                                                                                                          \n",
    "        ax1.legend()\n",
    "        plt.show()\n",
    "    else:\n",
    "        plt.show()\n",
    "        \n",
    "    #plt.savefig(output_dir + \"/{}_LED\".format(grb_id))\n",
    "\n",
    "    "
   ]
  },
  {
   "cell_type": "markdown",
   "id": "9289b557-a7da-4688-964f-c160ac71e748",
   "metadata": {},
   "source": [
    "## HED"
   ]
  },
  {
   "cell_type": "code",
   "execution_count": 94,
   "id": "077a70d2-f53e-4e33-b1e1-5cb91d8b75a6",
   "metadata": {},
   "outputs": [],
   "source": [
    "def plot_HED(grb_id=None, tus_arr = None, HED_filename = None, binsize=10, start_GRB=0, end_GRB=0, fig=(12,8), T0=None):\n",
    "    \n",
    "    \"\"\"Plotting data from HED. If HED_filename is not specified, but tus_arr is: plotting the tus array without reading matlab file\n",
    "        If start and end value for the GRB is not given, the data is plotted normally,\n",
    "        - BINSIZE IS INITIALIZED AS MILLISECONDS\n",
    "        - start_GRB & end_GRB IS INITIALIZED AS MILLISECONDS 0.5 s = 500 ms\n",
    "        - tus_HED is given in microseconds\n",
    "    \"\"\"\n",
    "\n",
    "    binsize = binsize*1e3 #converting to microseconds\\n\",\n",
    "    \n",
    "    start_GRB = start_GRB*1e3 #converting to microseconds\\n\",\n",
    "    end_GRB = end_GRB*1e3,\n",
    "    \n",
    "    #Creating switch for input\n",
    "    try:\n",
    "        if HED_filename != None:\n",
    "            tus_HED, erg_HED, typ_HED, adr_HED, dau_HED, det_HED, DetCol_HED, date = read_matlab_file_with_BGO_data(HED_filename)\n",
    "            \n",
    "        elif grb_id != None and tus_arr == None and HED_filename == None:\n",
    "            \n",
    "            if grb_id not in trig_dict_HED.keys():\n",
    "                raise KeyError(\"GRB ID not in dict\")\n",
    "            else:\n",
    "                HED_filename = trig_dict_HED[grb_id][0]\n",
    "                \n",
    "            tus_HED, erg_HED, typ_HED, adr_HED, dau_HED, det_HED, DetCol_HED, date = read_matlab_file_with_BGO_data(HED_filename)\n",
    "            T0 = datetime.strptime(date, \"%Y-%b-%d %H:%M:%S.%f\")\n",
    "            date = datetime.strftime(T0,format='%y%m%d') #Correct format for title of plot: GRBYYMMDD\n",
    "            grb_id = \"GRB\" + date\n",
    "\n",
    "        elif grb_id == None and type(tus_arr) == np.ndarray and type(T0) == datetime and HED_filename==None:\n",
    "            tus_HED = tus_arr\n",
    "            date = datetime.strftime(T0,format='%y%m%d') #Correct format for title of plot: YYMMDD\n",
    "            grb_id = \"GRB\" + date\n",
    "\n",
    "        else:\n",
    "            return \"T0 <datetime> must be specified when initiating tus_arr\"\n",
    "        \n",
    "    except KeyError as e:\n",
    "        return print(e)\n",
    "    \n",
    "    fig0, ax1 = plt.subplots(\n",
    "        1, 1, figsize=fig, sharex=True, sharey=False)\n",
    "    ax1.hist(tus_HED, bins=np.arange(\n",
    "        min(tus_HED), max(tus_HED) + binsize, binsize),edgecolor= \"black\", histtype=\"step\")\n",
    "    \n",
    "    ax1.set_xlabel(\"time [us], binsize {} ms\".format((binsize / 1e3)))\n",
    "    ax1.set_ylabel(\"Counts per bin\"),\n",
    "    ax1.set_title(grb_id) \n",
    "\n",
    "\n",
    "    if start_GRB and end_GRB != 0:\n",
    "        mean = get_mean(HED_filename,binsize,tus_HED, start_GRB, end_GRB)\n",
    "        ax1.axhline(y=mean, color=\"red\", label= \"Mean of bg: {} counts/bin \\n First range [{} - {}] s \\n 2nd: [{} - {}] s\".format(\n",
    "            np.round(mean,2), np.round(min(tus_HED)/1e6,3),start_GRB/1e6, end_GRB/1e6, np.round(max(tus_HED)/1e6,3)),linestyle='--'),\n",
    "        ax1.legend()\n",
    "        plt.show(),\n",
    "    else:\n",
    "        plt.show()"
   ]
  },
  {
   "cell_type": "markdown",
   "id": "2e92a07e-f1bd-41c2-8af2-928524543b15",
   "metadata": {},
   "source": [
    "## mean"
   ]
  },
  {
   "cell_type": "code",
   "execution_count": 9,
   "id": "e7e11e87-56c1-45b4-a914-868cade107c3",
   "metadata": {},
   "outputs": [],
   "source": [
    "# Rename start_GRB to start_range. Same for end_GRB\n",
    "def get_mean(matlab_filename, binsize, tus, start_GRB, end_GRB):\n",
    "    \n",
    "    \"\"\"Function for getting the mean from the background.\n",
    "    matlab_filename: <str> filename\n",
    "    binsize: <int> given in us // 5ms = 5000 us \n",
    "    start & end_GRB given in us.\n",
    "    -Finding ranges to compute the mean in each bin. \"\"\"\n",
    "    \n",
    "    tus = np.sort(tus)\n",
    "    range_1 =  find_closest(tus,start_GRB)\n",
    "    range_2 = find_closest(tus,end_GRB)\n",
    "    \n",
    "    range_1_counts = np.histogram(tus[:range_1], bins=np.arange(\n",
    "        min(tus[:range_1]), max(tus[:range_1]) + binsize, binsize))[0]\n",
    "    \n",
    "    range_2_counts = np.histogram(tus[range_2:], bins=np.arange(\n",
    "        min(tus[range_2:]), max(tus[range_2:]) + binsize, binsize))[0]\n",
    "    \n",
    "    background_data = np.append(range_1_counts,range_2_counts)\n",
    "    mean = np.mean(background_data)\n",
    "    return mean"
   ]
  },
  {
   "cell_type": "code",
   "execution_count": 10,
   "id": "38400522-f307-4604-8411-5ba2f5dabc66",
   "metadata": {},
   "outputs": [],
   "source": [
    "def find_nearest(array, value):\n",
    "    \"\"\"Returns nearest index for value in array.\n",
    "    \"\"\"\n",
    "    array = np.asarray(array)\n",
    "    return (np.abs(array - value)).argmin()"
   ]
  },
  {
   "cell_type": "markdown",
   "id": "ce2e81b0-e327-4fc4-bda6-4d741cbc23c3",
   "metadata": {},
   "source": [
    "# Concatination of multiple files"
   ]
  },
  {
   "cell_type": "markdown",
   "id": "aff6e21b-50db-4e60-b5e0-42c545588e23",
   "metadata": {},
   "source": [
    "## Needed functions for concat_GRB"
   ]
  },
  {
   "cell_type": "code",
   "execution_count": 209,
   "id": "a40bb4ee-efb9-4f39-92f4-d5bd60a9b112",
   "metadata": {},
   "outputs": [],
   "source": [
    "def find_stitch_idx(tus1=None, tus2=None, erg1=None, erg2=None, index_file=None):\n",
    "    \"\"\"TODO:\n",
    "    - Search a region. Kind of like Newton iteration. If the cutoff index lies behind, the routine has a problem.\n",
    "    \"\"\"\n",
    "\n",
    "    idx = find_nearest(tus1,tus2[0])\n",
    "    if erg1[idx] != erg2[0]:\n",
    "        idx_nearest_erg = find_nearest(erg1[idx:], erg2[0]) #assuming the correct cutoff lies ahead. Might cause problems. Could search a region\n",
    "        stitch_idx = idx_nearest_erg + idx\n",
    "        if np.all(erg1[stitch_idx:] == erg2[0:len(erg1[stitch_idx:])]) == True: #Checking if the energies lines up\n",
    "            return stitch_idx\n",
    "        else:\n",
    "            print(\"Could not find a suitible index for cutting. Reason: ergs dont line up.....\" + \"file num: \",index_file, \"idx: :\", idx)\n",
    "            if tus1[idx] < tus2[0]: #must be an increase in time for stitching\n",
    "                return idx\n",
    "    else:\n",
    "        return idx #found correct stich index on first try"
   ]
  },
  {
   "cell_type": "markdown",
   "id": "8afe09f7-3053-4a7b-9aa5-b78022941b4a",
   "metadata": {},
   "source": [
    "## concat_GRB"
   ]
  },
  {
   "cell_type": "code",
   "execution_count": 212,
   "id": "8ef1cc58-5ade-4e64-bcd9-914655ef1bcc",
   "metadata": {},
   "outputs": [],
   "source": [
    "def concat_GRB(grb_id, flag):\n",
    "    \"\"\" function concat_files concatenates multiple matlab files. Can only concat HED or LED files at the time\n",
    "    \n",
    "    Flag determines whether the input list is of HED or LED files\n",
    "    \n",
    "    --> If there is \"missing counts\" between the files. 0 counts is added for the respective missing time interval. Automatically when time-shifted (?)\n",
    "    \n",
    "    Routine description: \n",
    "    1) The different tus arrays have their own T0. Calculating the delta T between T0 and Tn (time for concatination)  \n",
    "    \n",
    "    \n",
    "    Parameters:\n",
    "    %---------------------------------------------------------------\n",
    "    \n",
    "    grb_id <string>  : key for dictionary containing list of matlab filenames\n",
    "    flag <string>    : \"HED\" or \"LED\". They have different arrays after calling read_matlab_file function. This flag handles that.\n",
    "    \n",
    "    \n",
    "    returns:\n",
    "    %---------------------------------------------------------------\n",
    "    \n",
    "    \n",
    "    output for HED:\n",
    "    %---------------------------------------------------------------\n",
    "    concat_tus_HED <array> : concat tus (relative times in microseconds) for all arrays\n",
    "    concat_erg_HED <array> : concat erg (energy channel (needs to be calibrated to keV using calibration coeff)) for all arrays\n",
    "    concat_typ_HED <array> : concat typ for all counts  (normal (0), fast(1), valley (3), or overflow event (2 or 4 not )) read function keeps only 0 & 1.\n",
    "    concat_adr_HED <array> : concat BGO address 1-12 for all arrays\n",
    "    concat_dau_HED <array> : concat dau address 1-4\n",
    "    concat_det_HED <array> : concat detector address 1-3\n",
    "    concat_DetCol_HED <array> : concat RGB color for all arrays\n",
    "    T0 <datetime> : datetime object of T0\n",
    "    \n",
    "    output for LED:\n",
    "    %----------------------------------------------------------------\n",
    "    \n",
    "    \n",
    "    \"\"\"\n",
    "    #Handling input is in the right format\n",
    "    try:\n",
    "        if type(flag) and type(grb_id) != str:\n",
    "            raise TypeError(\"grb_id and/or flag input is not string\")\n",
    "        if flag != \"HED\" and flag != \"LED\":\n",
    "            raise NameError(\"flag-string is neither HED or LED\")\n",
    "        if flag == \"HED\":\n",
    "            if grb_id not in trig_dict_HED.keys():\n",
    "                raise KeyError(\"GRB ID not in trig_dict_HED\")\n",
    "        if flag == \"LED\":\n",
    "            if grb_id not in trig_dict_LED.keys():\n",
    "                raise KeyError(\"GRB ID not in trig_dict_LED\")\n",
    "        else:\n",
    "            if flag == \"HED\":\n",
    "                HED_files = trig_dict_HED[grb_id] #list of HED filenames\n",
    "                if all(HED_files[i] <= HED_files[i+1] for i in range(len(HED_files) - 1)) == False: #logic for checking that the files are in increasing order\n",
    "                    raise IndexError(\"List is not sorted in increasing order\")\n",
    "            if flag == \"LED\":\n",
    "                LED_files = trig_dict_LED[grb_id] #list of LED filenames in list\n",
    "                if all(LED_files[i] <= LED_files[i+1] for i in range(len(LED_files) - 1)) == False: #logic for checking that the files are in increasing order\n",
    "                    raise IndexError(\"List is not sorted in increasing order\")\n",
    "                    \n",
    "                    \n",
    "    except (TypeError, NameError, KeyError) as e:\n",
    "        return print(e) #routine quits if error is found\n",
    "    \n",
    "    except IndexError:\n",
    "        if flag == \"HED\":\n",
    "            HED_files.sort() #sorting filenames in increasing order. Should already be done in dict creation, but good to check\n",
    "        else:\n",
    "            LED_files.sort() #sorting filenames in increasing order. Should already be done in dict creation, but good to check\n",
    "            \n",
    "            \n",
    "    try: \n",
    "        \n",
    "        if flag == \"HED\":\n",
    "            data = [] #list that stores dictionary for each file\n",
    "            num_files = len(HED_files)\n",
    "            \n",
    "            for filename in HED_files:\n",
    "                \n",
    "                tus, erg, typ, adr, dau, det, DetCol, date = read_matlab_file_with_BGO_data(filename)\n",
    "                if len(date) != 27:\n",
    "                    raise ValueError(\"length of datetime string is not in correct format\")\n",
    "                \n",
    "                index_sort = np.argsort(tus, kind=\"mergesort\") # sorting tus in increasing order. Mergesort will not be affected by floating point error\n",
    "                \n",
    "                tus_sort, erg_sort, typ_sort, adr_sort, dau_sort, det_sort = tus[index_sort], erg[index_sort], typ[index_sort], adr[index_sort],dau[index_sort], det[index_sort] #Making sure that the are coherent\n",
    "                \n",
    "                file_dict = {\"tus\":tus_sort, \"erg\":erg_sort, \"typ\":typ_sort, \"adr\":adr_sort, \"dau\":dau_sort, \"det\": det_sort, \"DetCol\":DetCol, \"date\":date}\n",
    "                \n",
    "                data.append(file_dict)\n",
    "            \n",
    "            T0 = datetime.strptime(data[0][\"date\"], \"%Y-%b-%d %H:%M:%S.%f\") #T0 of first file. Will be T0 for concat tus array\n",
    "\n",
    "            # Adding the timeshift to all tus arrays from T0\n",
    "            for i in np.arange(1,num_files):\n",
    "                deltaT = datetime.strptime(data[i][\"date\"], \"%Y-%b-%d %H:%M:%S.%f\") - T0\n",
    "                data[i][\"tus\"] = data[i][\"tus\"] + float(deltaT.total_seconds())*1e6 #deltaT to all entries from T0\n",
    "\n",
    "            # Cutting arrays at respective index; idx\n",
    "            i = 0\n",
    "            while i < num_files-1: #Need num_files-1 cutting indecies\n",
    "\n",
    "                idx = find_stitch_idx(tus1=data[i][\"tus\"], tus2=data[i+1][\"tus\"], erg1= data[i][\"erg\"] , erg2 = data[i+1][\"erg\"], index_file= i) #index for cutting     \n",
    "                data[i][\"tus\"] = data[i][\"tus\"][:idx] #cutting arrays at idx\n",
    "                data[i][\"erg\"] = data[i][\"erg\"][:idx] \n",
    "                data[i][\"typ\"] = data[i][\"typ\"][:idx]\n",
    "                data[i][\"dau\"] = data[i][\"dau\"][:idx]\n",
    "                i += 1\n",
    "\n",
    "            #Concatenating respective arrays\n",
    "            concat_tus_HED = np.concatenate([data[i][\"tus\"] for i in range(0,num_files)]) #Just concatinating tus arrays \n",
    "            concat_erg_HED = np.concatenate([data[i][\"erg\"] for i in range(0,num_files)])\n",
    "            concat_typ_HED = np.concatenate([data[i][\"typ\"] for i in range(0,num_files)])\n",
    "            concat_dau_HED = np.concatenate([data[i][\"dau\"] for i in range(0,num_files)])\n",
    "            \n",
    "            return concat_tus_HED, concat_erg_HED, concat_typ_HED, concat_dau_HED, DetCol, T0\n",
    "        \n",
    "        #LED concatination\n",
    "        else:\n",
    "            data = []\n",
    "            num_files = len(LED_files)\n",
    "            \n",
    "            for filename in LED_files:\n",
    "                \n",
    "                tus, erg, energy_keV, tus_keep_multihit_ntimes, erg_keep_multihit_ntimes, multihit_indx, date = read_matlab_file_with_CZT_data(filename)\n",
    "                if len(date) != 27:\n",
    "                    raise ValueError(\"length of datetime string is not in correct format\")\n",
    "                \n",
    "                index_sort = np.argsort(tus, kind=\"mergesort\") # sorting tus in increasing order. Mergesort will not be affected by floating point error\n",
    "                \n",
    "                tus_sort, erg_sort, energy_keV_sort, multihit_indx_sort = tus[index_sort], erg[index_sort], energy_keV[index_sort] #Making sure that the are coherent\n",
    "                \n",
    "                file_dict = {\"tus\":tus_sort, \"erg\":erg_sort, \"energy_keV\":energy_keV_sort, \"date\":date}\n",
    "                \n",
    "                data.append(file_dict)\n",
    "            \n",
    "            T0 = datetime.strptime(data[0][\"date\"], \"%Y-%b-%d %H:%M:%S.%f\") #T0 of first file. Will be T0 for concat tus array\n",
    "\n",
    "            # Adding the timeshift to all tus arrays from T0\n",
    "            for i in np.arange(1,num_files):\n",
    "                deltaT = datetime.strptime(data[i][\"date\"], \"%Y-%b-%d %H:%M:%S.%f\") - T0\n",
    "                data[i][\"tus\"] = data[i][\"tus\"] + float(deltaT.total_seconds())*1e6 #deltaT to all entries from T0\n",
    "\n",
    "            # Cutting arrays at respective index; idx\n",
    "            i = 0\n",
    "            while i < num_files-1: #Need num_files-1 cutting indecies\n",
    "\n",
    "                idx = find_stitch_idx(tus1=data[i][\"tus\"], tus2=data[i+1][\"tus\"], erg1= data[i][\"erg\"] , erg2 = data[i+1][\"erg\"], index_file= i) #index for cutting     \n",
    "                data[i][\"tus\"] = data[i][\"tus\"][:idx] #cutting arrays at idx\n",
    "                data[i][\"erg\"] = data[i][\"erg\"][:idx]  #cutting arrays at idx\n",
    "                data[i][\"energy_keV\"] = data[i][\"energy_keV\"][:idx] #cutting arrays at idx\n",
    "                i += 1\n",
    "\n",
    "            #Concatenating respective arrays\n",
    "            concat_tus_LED = np.concatenate([data[i][\"tus\"] for i in range(0,num_files)]) #concatinating tus arrays \n",
    "            concat_erg_LED = np.concatenate([data[i][\"erg\"] for i in range(0,num_files)])\n",
    "            concat_typ_LED = np.concatenate([data[i][\"energy_keV\"] for i in range(0,num_files)])\n",
    "            \n",
    "            return concat_tus_LED, concat_erg_LED, concat_energy_keV_LED, T0\n",
    "            \n",
    "            \n",
    "    except (ValueError) as e:\n",
    "        return print(e)"
   ]
  },
  {
   "cell_type": "markdown",
   "id": "cdc0a5e5-ef3f-4963-a05d-338b5fca1c91",
   "metadata": {},
   "source": [
    "## Testing concat"
   ]
  },
  {
   "cell_type": "code",
   "execution_count": 210,
   "id": "8dee8417-7e68-4027-b432-72569af83a37",
   "metadata": {},
   "outputs": [
    {
     "name": "stdout",
     "output_type": "stream",
     "text": [
      "Could not find a suitible index for cutting. Reason: ergs dont line up.....file num:  3 idx: : 9104\n"
     ]
    }
   ],
   "source": [
    "concat_tus_LED, concat_erg_LED, concat_energy_keV_LED, T0 = concat_GRB(\"GRB181227\",\"LED\")"
   ]
  },
  {
   "cell_type": "code",
   "execution_count": 211,
   "id": "e0133302-78c4-4404-b2e8-4e3576c0ca40",
   "metadata": {},
   "outputs": [
    {
     "data": {
      "application/vnd.jupyter.widget-view+json": {
       "model_id": "3acd888e91274b5389ce94eaf2a2568f",
       "version_major": 2,
       "version_minor": 0
      },
      "image/png": "[encoded data removed]",
      "text/html": [
       "\n",
       "            <div style=\"display: inline-block;\">\n",
       "                <div class=\"jupyter-widgets widget-label\" style=\"text-align: center;\">\n",
       "                    Figure\n",
       "                </div>\n",
       "                <img src='data:image/png;base64,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' width=1200.0/>\n",
       "            </div>\n",
       "        "
      ],
      "text/plain": [
       "Canvas(toolbar=Toolbar(toolitems=[('Home', 'Reset original view', 'home', 'home'), ('Back', 'Back to previous …"
      ]
     },
     "metadata": {},
     "output_type": "display_data"
    }
   ],
   "source": [
    "plot_HED(tus_arr = concat_tus_HED,T0=T0, binsize=32)"
   ]
  },
  {
   "cell_type": "markdown",
   "id": "b5b21f98-1b42-47b2-b4e2-607736c93f81",
   "metadata": {},
   "source": [
    "# Debugging"
   ]
  },
  {
   "cell_type": "code",
   "execution_count": null,
   "id": "d3bd6b67-7b41-4a52-82f5-7090888e3651",
   "metadata": {},
   "outputs": [],
   "source": []
  },
  {
   "cell_type": "markdown",
   "id": "56edf6eb",
   "metadata": {},
   "source": [
    "# main function"
   ]
  },
  {
   "cell_type": "code",
   "execution_count": null,
   "id": "framed-privilege",
   "metadata": {},
   "outputs": [],
   "source": [
    "# On hold for now. \n",
    "\"\"\"def main(grb_id,binsize=10000, start_GRB, end_GRB):  # filename GRB ID\n",
    "    # output array for tus_keep_multihit_LED, erg_keep_multihit_LED, multihit_indx_LED må modifiseres\n",
    "    # Automake by making filename a list of filenames. Then the all the outout plots will be created\n",
    "\n",
    "    # TODO:\n",
    "    # Add the extra parameters to make the get_mean work\n",
    "#os.mkdir(\"/Users/andreas/phys/master/MATLAB/pyplots\")\n",
    "    trig_dict = create_triggers_dict()\n",
    "    try:\n",
    "        output_dir = os.mkdir(\"/Home/siv30/wad005/master/GRB/MATLAB/pyplots/{}\".format(grb_id)) #Creating owd folder for grb_id\n",
    "    except FileExistsError:\n",
    "        output_dir = \"/Home/siv30/wad005//master/GRB/MATLAB/pyplots/{}\".format(grb_id) #selecting path if it already exists\n",
    "\n",
    "\n",
    "    if type(grb_id) != str:\n",
    "        raise TypeError(\"Input is not string\")\n",
    "    elif grb_id not in trig_dict:\n",
    "        raise LookupError(\"grb_id not in dictionary\")\n",
    "    else:\n",
    "        try:\n",
    "            LED_filename = trig_dict[grb_id][0]\n",
    "            HED_filename = trig_dict[grb_id][1]\n",
    "            if type(LED_filename) == float and math.isnan(LED_filename):\n",
    "                print(\"LED file not found. Plotting only HED\")\n",
    "                plot_HED(HED_filename,output_dir,grb_id) #output path is not required\n",
    "                \n",
    "            elif type(HED_filename) == float and math.isnan(HED_filename):\n",
    "                print(\"HED file not found. Plotting only LED\")\n",
    "                plot_LED(LED_filename,output_dir,grb_id)\n",
    "            else:\n",
    "                plot_LED(LED_filename,output_dir,grb_id)\n",
    "                plot_HED(HED_filename,output_dir,grb_id)\n",
    "        except:\n",
    "            print(\"Something went wrong\")\n",
    "    \"\"\"\n",
    "    "
   ]
  },
  {
   "cell_type": "code",
   "execution_count": null,
   "id": "d8c7680b-9f75-4bea-a996-3c695d103edb",
   "metadata": {},
   "outputs": [],
   "source": []
  },
  {
   "cell_type": "code",
   "execution_count": null,
   "id": "4eb9e345-3bdb-46b6-929b-ec5b9e8265c6",
   "metadata": {},
   "outputs": [],
   "source": []
  },
  {
   "cell_type": "code",
   "execution_count": null,
   "id": "b6347aca-03ef-40c8-936b-bfcb0eab7673",
   "metadata": {},
   "outputs": [],
   "source": []
  },
  {
   "cell_type": "markdown",
   "id": "5b3a1ad6-2ffd-44b5-9933-8e57e05fb32b",
   "metadata": {},
   "source": [
    "# Purgatory"
   ]
  },
  {
   "cell_type": "code",
   "execution_count": null,
   "id": "579e6a7c-1ff3-486e-a455-6a20a905e30b",
   "metadata": {},
   "outputs": [],
   "source": [
    "\"\"\"# Not in use\n",
    "def get_filenames(path):\n",
    "    return sorted((f for f in os.listdir(path) if not f.startswith(\".\")), key=str.lower)\"\"\""
   ]
  },
  {
   "cell_type": "code",
   "execution_count": null,
   "id": "31e55517-b7c0-464a-89b5-b9666d375cca",
   "metadata": {},
   "outputs": [],
   "source": [
    "#Old plot_HED function\n",
    "\"\"\"\n",
    "def plot_HED(HED_filename, output_dir,grb_id):\n",
    "    tus_HED, erg_HED, typ_HED, adr_HED, dau_HED, det_HED, DetCol_HED = read_matlab_file_with_BGO_data(HED_filename)\n",
    "\n",
    "    fig0, (ax0, ax1) = plt.subplots(\n",
    "        2, 1, figsize=(8, 8), sharex=True, sharey=False)\n",
    "    ax0.set_title(\"HED\")\n",
    "\n",
    "    ax0.scatter(tus_HED, erg_HED)\n",
    "    ax0.set_xlabel(\"time [us]\")\n",
    "    ax0.set_ylabel(\"Energy channel\")\n",
    "\n",
    "    binsize = 10000  # us --> 10 ms bin\n",
    "    ax1.hist(tus_HED, bins=np.arange(\n",
    "        min(tus_HED), max(tus_HED)+binsize, binsize))\n",
    "    ax1.set_xlabel(\"time [us]\")\n",
    "    ax1.set_ylabel(\"Counts per bin\")\n",
    "    \n",
    "    output_dir_hed = output_dir + \"/{}_HED\".format(grb_id)\n",
    "    print(output_dir_hed)\n",
    "    plt.savefig(output_dir + \"/{}_HED\".format(grb_id)) #path where plot is saved\n",
    "\"\"\""
   ]
  },
  {
   "cell_type": "code",
   "execution_count": null,
   "id": "8df85296-cc1e-4b00-ba10-db069f6b18c1",
   "metadata": {},
   "outputs": [],
   "source": [
    "\"\"\"def sorting(l1, l2):\n",
    "    # l1 and l2 has to be numpy arrays\n",
    "    idx = np.argsort(l1)\n",
    "    return l1[idx], l2[idx]\"\"\""
   ]
  },
  {
   "cell_type": "code",
   "execution_count": null,
   "id": "6e88378a-5ec0-44e4-9495-0e12b5ec77e8",
   "metadata": {},
   "outputs": [],
   "source": [
    "\"\"\"tus1_zip, erg1_zip = zip(*sorted(zip(tus1_ex, erg1_ex))) #Sorted and coherent arrays\n",
    "\n",
    "tus1_zip = np.asarray(tus1_zip)\n",
    "erg1_zip = np.asarray(erg1_zip)\n",
    "\n",
    "############# tus2\n",
    "\n",
    "tus2_zip, erg2_zip = zip(*sorted(zip(tus2_ex, erg2_ex))) #Sorted and coherent arrays\n",
    "\n",
    "tus2_zip = np.asarray(tus2_zip)\n",
    "erg2_shift_zip = np.asarray(erg2_zip)\n",
    "\n",
    "tus2_shift_zip = tus2_zip + deltaT.total_seconds()*1e6 #applying deltaT\"\"\""
   ]
  },
  {
   "cell_type": "code",
   "execution_count": 195,
   "id": "f32b92f4-cf3a-43e3-a91f-b9c9d79fdafd",
   "metadata": {},
   "outputs": [
    {
     "ename": "SyntaxError",
     "evalue": "EOF while scanning triple-quoted string literal (2616191854.py, line 28)",
     "output_type": "error",
     "traceback": [
      "\u001b[0;36m  Input \u001b[0;32mIn [195]\u001b[0;36m\u001b[0m\n\u001b[0;31m    return print(e)\"\"\u001b[0m\n\u001b[0m                     \n^\u001b[0m\n\u001b[0;31mSyntaxError\u001b[0m\u001b[0;31m:\u001b[0m EOF while scanning triple-quoted string literal\n"
     ]
    }
   ],
   "source": [
    "\"\"\"def coherence_sort(tus1=None,tus2=None,erg1=None,erg2=None):\n",
    "    Sorting two arrays that are coherent. \n",
    "    returning: \n",
    "    \n",
    "    flag <bool> \n",
    "    flag == True: tus1_sorted,tus2_sorted,erg1_sorted,erg2_sorted\n",
    "    flag == False: IndexError \n",
    "    \n",
    "    ############# tus1 & erg1\n",
    "    index_sort1 = np.argsort(tus1, kind=\"mergesort\") # sorting tus in increasing order\n",
    "\n",
    "    tus1_sorted = tus1_ex[index_sort1]\n",
    "    erg1_sorted = erg1_ex[index_sort1] #Making sure that the are coherent\n",
    "\n",
    "    ############# tus2 & erg2\n",
    "    index_sort2 = np.argsort(tus2, kind=\"mergesort\") # sorting tus in increasing order\n",
    "\n",
    "    tus2_sorted = tus2[index_sort2] #Making sure that the are coherent\n",
    "    erg2_sorted = erg2[index_sort2]\n",
    "    \n",
    "    try:\n",
    "        flag = np.all(index_sort1 == np.arange(0,len(tus1))) and np.all(index_sort2 == np.arange(0,len(tus2))) and np.all(erg1_sorted == erg1) and np.all(erg2_sorted == erg2)\n",
    "        if flag == False:\n",
    "            raise IndexError(\"If there is no change to tus1 and tus2, there shall not be any changes to erg1 and erg2\")\n",
    "        else:\n",
    "            return tus1_sorted,tus2_sorted,erg1_sorted,erg2_sorted\n",
    "    except IndexError as e:\n",
    "        return print(e)\"\""
   ]
  }
 ],
 "metadata": {
  "kernelspec": {
   "display_name": "Python 3 (ipykernel)",
   "language": "python",
   "name": "python3"
  },
  "language_info": {
   "codemirror_mode": {
    "name": "ipython",
    "version": 3
   },
   "file_extension": ".py",
   "mimetype": "text/x-python",
   "name": "python",
   "nbconvert_exporter": "python",
   "pygments_lexer": "ipython3",
   "version": "3.8.10"
  },
  "toc": {
   "base_numbering": 1,
   "nav_menu": {},
   "number_sections": true,
   "sideBar": true,
   "skip_h1_title": false,
   "title_cell": "Table of Contents",
   "title_sidebar": "Contents",
   "toc_cell": false,
   "toc_position": {},
   "toc_section_display": true,
   "toc_window_display": false
  },
  "varInspector": {
   "cols": {
    "lenName": 16,
    "lenType": 16,
    "lenVar": 40
   },
   "kernels_config": {
    "python": {
     "delete_cmd_postfix": "",
     "delete_cmd_prefix": "del ",
     "library": "var_list.py",
     "varRefreshCmd": "print(var_dic_list())"
    },
    "r": {
     "delete_cmd_postfix": ") ",
     "delete_cmd_prefix": "rm(",
     "library": "var_list.r",
     "varRefreshCmd": "cat(var_dic_list()) "
    }
   },
   "types_to_exclude": [
    "module",
    "function",
    "builtin_function_or_method",
    "instance",
    "_Feature"
   ],
   "window_display": false
  }
 },
 "nbformat": 4,
 "nbformat_minor": 5
}
