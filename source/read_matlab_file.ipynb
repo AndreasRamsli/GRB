{
 "cells": [
  {
   "cell_type": "markdown",
   "id": "empirical-carolina",
   "metadata": {},
   "source": [
    "# Imports"
   ]
  },
  {
   "cell_type": "code",
   "execution_count": 21,
   "id": "finite-outdoors",
   "metadata": {},
   "outputs": [],
   "source": [
    "import numpy as np\n",
    "import matplotlib.pyplot as plt\n",
    "import scipy.io\n",
    "import scipy as sp\n",
    "import os\n",
    "import glob\n",
    "import pandas as pd\n",
    "from datetime import datetime, timedelta\n",
    "import collections\n",
    "import matplotlib.cm as cm\n",
    "#plt.rcdefaults() #Setting default color of output plots. No need in jupyter lab. Only for notebook with dark theme\n",
    "# For interactive plots\n",
    "\n",
    "plt.rcParams.update({'figure.max_open_warning': 0})\n",
    "#%matplotlib widget"
   ]
  },
  {
   "cell_type": "markdown",
   "id": "cc60308d-b2bc-440b-b125-b8a463fedcfe",
   "metadata": {},
   "source": [
    "# TODO:\n",
    "    \n",
    "   1) GRB ID SHOULD BE USED AS INPUT IN MOST FUNCTIONS!! IMPLEMENT THIS \n",
    "   2) Correct concatination of multiple files. GRB_ID is used to locate list of files\n",
    "   2) Use GRBID as input in plotting function, not filename. Don't need this right now tho. FOR LED AND HED\n",
    "   3) Redo all the plots ..."
   ]
  },
  {
   "cell_type": "markdown",
   "id": "807afc27",
   "metadata": {},
   "source": [
    "# Paths"
   ]
  },
  {
   "cell_type": "code",
   "execution_count": 1,
   "id": "expected-classroom",
   "metadata": {},
   "outputs": [],
   "source": [
    "#path_HED = \"/Home/siv30/wad005/master/GRB/MATLAB/output/file_mat_TGF/\"              #UiB\n",
    "#path_LED = \"/Home/siv30/wad005/master/GRB/MATLAB/CZT_calibration/file_mat_CZT_TGF/\" #UiB\n",
    "path_HED = \"/Users/andreas/phys/master/GRB/MATLAB/output/file_mat_TGF/\"               #MAC\n",
    "path_LED = \"/Users/andreas/phys/master/GRB/MATLAB/CZT_calibration/file_mat_CZT_TGF/\"  #MAC"
   ]
  },
  {
   "cell_type": "markdown",
   "id": "82cdb8bf",
   "metadata": {},
   "source": [
    "# Dict creation"
   ]
  },
  {
   "cell_type": "code",
   "execution_count": 6,
   "id": "f2d83176-02f1-40fa-9dad-c92bfd92b1ca",
   "metadata": {},
   "outputs": [],
   "source": [
    "trig_dict_HED = {\"GRB180720\":[\"2018_07_20_14_21_48\",\"2018_07_20_14_21_51\",\"2018_07_20_14_21_56\",\"2018_07_20_14_21_57\",\"2018_07_20_14_22_09\"],\n",
    "                 \"GRB181222\":[\"2018_12_22_20_11_36\"],\n",
    "                 \"GRB190206\":[\"2019_02_06_03_49_28\"],\n",
    "                 \"GRB190305\":[\"2019_03_05_13_05_19\"],\n",
    "                 \"GRB190501\":[\"2019_05_01_05_23_22\"],\n",
    "                 \"GRB190606\":[\"2019_06_06_01_55_07\"],\n",
    "                 \"GRB190615\":[\"2019_06_15_14_42_21\"],\n",
    "                 \"GRB190813\":[\"2019_08_13_12_00_49\"],\n",
    "                 \"GRB190825\":[\"2019_08_25_21_04_55\",\"2019_08_25_21_04_53\"], \n",
    "                 \"GRB190829\":[\"2019_08_29_19_56_40\"],\n",
    "                 \"GRB190906\":[\"2019_09_06_01_04_51\"],\n",
    "                 \"GRB191001\":[\"2019_10_01_06_41_52\"],\n",
    "                 \"GRB191004\":[\"2019_10_04_18_07_03\"],\n",
    "                 \"GRB191119\":[\"2019_11_19_10_41_06\"],\n",
    "                 \"GRB191221\":[\"2019_12_21_20_39_10\",\"2019_12_21_20_39_11\",\"2019_12_21_20_39_12\",\"2019_12_21_20_39_13\",\"2019_12_21_20_39_15\"],\n",
    "                 \"GRB200412\":[],# long list\n",
    "                 \"GRB200521\":[\"2020_05_21_12_16_39\"],\n",
    "                 \"GRB200716\":[\"2020_07_16_22_57_40\"],\n",
    "                 \"GRB200925\":[\"2020_09_25_21_50_31\"],\n",
    "                 \"GRB201227\":[\"2020_12_27_15_14_06\"]\n",
    "            }\n",
    "trig_dict_HED = collections.OrderedDict(sorted(trig_dict_HED.items())) #Sorting the keys in decending order. Now trig_dict_HED is an OderedDict type\n",
    "\n",
    "for key in trig_dict_HED.keys():\n",
    "    trig_dict_HED[key].sort() #sorting files in increasing order\n"
   ]
  },
  {
   "cell_type": "code",
   "execution_count": 7,
   "id": "204e9aa8-605d-4b72-837e-1261928ff7e5",
   "metadata": {},
   "outputs": [],
   "source": [
    "trig_dict_LED = {\"GRB181227\":[\"2018.12.27_06.17.04.210500_Fulltrigger\",\"2018_12_27_06_17_09.775992_Fulltrigger\",\"2018_12_27_06_17_10.800851_Fulltrigger\"],\n",
    "                \"GRB190117\":[\"2019.01.17_08.50.42.939689_Fulltrigger\"],\n",
    "                 \"GRB190420\":[\"2019.04.20_23.32.24.931211_Fulltrigger\"],\n",
    "                 \"GRB190501\":[\"2019.05.01_05.23.21.736797_Fulltrigger\"],\n",
    "                 \"GRB190615\":[\"2019.06.15_14.42.22.741579_Fulltrigger\"],\n",
    "                 \"GRB190628\":[\"2019.06.28_04.23.32.512290_Fulltrigger\"],\n",
    "                 \"GRB190813\":[\"2019.08.13_12.00.48.801260_Fulltrigger\"],\n",
    "                 \"GRB190825\":[\"2019.08.25_21.04.54.439617_Fulltrigger\",\"2019.08.25_21.04.56.395859_Fulltrigger\"],\n",
    "                 \"GRB190906\":[\"2019.09.06_01.04.52.014004_Fulltrigger\"],\n",
    "                 \"GRB191001\":[\"2019.10.01_06.41.51.631214_Fulltrigger\"],\n",
    "                 \"GRB191004\":[\"2019.10.04_18.07.03.402478_Fulltrigger\"],\n",
    "                 \"GRB191119\":[\"2019.11.19_10.41.05.239944_Fulltrigger\"],\n",
    "                 \"GRB191221\":[\"2019.12.21_20.39.11.939846_Fulltrigger\",\"2019.12.21_20.39.12.939997_Fulltrigger\",\"2019.12.21_20.39.13.940233_Fulltrigger\",\n",
    "                              \"2019.12.21_20.39.15.106045_Fulltrigger\",\"2019.12.21_20.39.17.252498_Fulltrigger\"]\n",
    "                 \n",
    "                }\n",
    "trig_dict_LED = collections.OrderedDict(sorted(trig_dict_LED.items())) #Sorting the keys in decending order. Now trig_dict_HED is an OderedDict type\n",
    "\n",
    "for key in trig_dict_LED.keys():\n",
    "    trig_dict_LED[key].sort() #sorting files in increasing order\n"
   ]
  },
  {
   "cell_type": "markdown",
   "id": "aa41034e",
   "metadata": {},
   "source": [
    "# Functions for handling matlab files"
   ]
  },
  {
   "cell_type": "markdown",
   "id": "2c851e4b-d4a2-4e53-b83f-7a0bd4c475ea",
   "metadata": {},
   "source": [
    "## CZT function"
   ]
  },
  {
   "cell_type": "code",
   "execution_count": 8,
   "id": "improved-architect",
   "metadata": {},
   "outputs": [],
   "source": [
    "def read_matlab_file_with_CZT_data(filename):\n",
    "    '''Read matlab file with ASIM CZT data from the low energy detector (LED)\n",
    "\n",
    "    tus: relative time in microseconds (excluded multihits)\n",
    "    erg: energy channel (excluded multihits)\n",
    "    energy_keV: energy in keV (excluded multihits)\n",
    "    tus_keep_multihit: relative time in microseconds (included multihits)\n",
    "    erg_keep_multihit: energy channel (included multihits)\n",
    "    multihit_indx: multihit index 0-4. 0->1 1->2// 0: tus=105, 1: tus=110,110 (two counts)\n",
    "    '''\n",
    "    mat = scipy.io.loadmat(path_LED + \"%s.mat\" % (filename))\n",
    "\n",
    "    #keV_spectra = mat['keV_spectra_total_fulltrigger']\n",
    "\n",
    "    # Included multihits. Important for light curves\n",
    "    tus_keep_multihit = np.array(mat['tus_keep_multihit_fulltrigger'])[:,0] # relative time in microseconds\n",
    "    erg_keep_multihit = np.array(mat['erg_keep_multihit_fulltrigger'])[0,:] # energy channel (unreliable for multi hits)\n",
    "    multihit_indx = np.array(mat['multihit_fulltrigger'])[0,:] # multihit index. How many multihits in count. (0=1 count, 1=2 counts, 2=3 counts...)\n",
    "    \n",
    "    # The multihits are removed as they don't have a reliable energy estimate\n",
    "    erg = np.array(mat['erg_fulltrigger'])[0,:] # energy channel of CZT pixel\n",
    "    tus = np.array(mat['tus_fulltrigger'])[:,0] # relative time in microseconds\n",
    "    energy_keV = np.array(mat['pixel_energy_fulltrigger']).flatten() # energy in keV of CZT pixel\n",
    "    date = mat['T_ref_char'][0] #raw datetime\n",
    "    \n",
    "    #Logic that checks for array lengths\n",
    "    try:\n",
    "        length = len(tus_keep_multihit)\n",
    "        if any(len(lst) != length for lst in [erg_keep_multihit, multihit_indx]):\n",
    "        # at least one list has a different length\n",
    "            raise ValueError(\"Arrays have different lengths\")\n",
    "            \n",
    "        t_temp = []\n",
    "        erg_temp = []\n",
    "        energy_keV_temp = []\n",
    "        \n",
    "        for index, i in enumerate(multihit_indx):\n",
    "            for j in np.arange(0,i+1): #adding i+1 times the tus_count\n",
    "                t_temp.append(tus_keep_multihit[index])\n",
    "                erg_temp.append(erg_keep_multihit[index])\n",
    "\n",
    "         \n",
    "        tus_keep_multihit_ntimes =  np.array(t_temp) #array of tus. Multihit index decides how many times the tus is appended\n",
    "        erg_keep_multihit_ntimes = np.array(erg_temp) #array of erg. Multihit index decides how many times the erg is appended\n",
    "        \n",
    "        \n",
    "        return tus, erg, energy_keV, tus_keep_multihit_ntimes, erg_keep_multihit_ntimes, multihit_indx, date \n",
    "    \n",
    "    except ValueError as ve:\n",
    "        print(\"Function aborted because of: \" + str(ve))\n",
    "        print(\"Length of arrays: \")\n",
    "        for lst in [tus_keep_multihit, erg_keep_multihit, multihit_indx]:\n",
    "            print(len(lst))"
   ]
  },
  {
   "cell_type": "markdown",
   "id": "bd369c6b-2da5-4d03-a62e-be0e13a46992",
   "metadata": {},
   "source": [
    "## BGO function"
   ]
  },
  {
   "cell_type": "code",
   "execution_count": 9,
   "id": "fb08e8d7-010a-4584-a4d4-be3b3cb38e2a",
   "metadata": {},
   "outputs": [],
   "source": [
    "def read_matlab_file_with_BGO_data(matlabfilename):\n",
    "    '''Read matlab file with ASIM BGO data from the high energy detector (HED)\n",
    "\n",
    "    tus: relative times in microseconds.\n",
    "    erg: energy channel (needs to be calibrated to keV using calibration coeff from https://git.app.uib.no/ASIM-MXGS/IN-FLIGHT_CALIBRATION_BGO/-/tree/master/CALIBRATION_COEFS )\n",
    "    typ: normal (0), fast(1), valley (3), or overflow event (2 or 4 not )\n",
    "    adr: BGO address 1-12\n",
    "    dau: dau address 1-4\n",
    "    det: detector address 1-3\n",
    "    DetCol: RGB color\n",
    "    \n",
    "    - Kepping only normal (0) and fast (1) events\n",
    "    '''\n",
    "    matlabfile_TGF = path_HED + '%s.mat' % matlabfilename\n",
    "    \n",
    "    mat = scipy.io.loadmat(matlabfile_TGF)\n",
    "    \n",
    "    tus = mat['tus'].flatten()\n",
    "    erg = mat['erg'].flatten()\n",
    "    DetCol = mat['DetCol'] # Investigate this matrix\n",
    "    adr = mat['adr'].flatten()\n",
    "    dau = mat['dau'].flatten()\n",
    "    det = mat['det'].flatten()\n",
    "    typ = mat['typ'].flatten()\n",
    "    \n",
    "    date = mat['date'][0] #raw datetime\n",
    "    \n",
    "    \n",
    "    try:\n",
    "        length = len(tus)\n",
    "        if any(len(lst) != length for lst in [erg, typ, adr, dau, det]):\n",
    "        # at least one list has a different length\n",
    "            raise ValueError(\"Arrays have different lengths\")\n",
    "            \n",
    "        mask = np.where((typ != 0) & (typ != 1)) #finding indecies of vallays and overflow events\n",
    "        \n",
    "        # removing those indecies\n",
    "        tus = np.delete(tus,mask)\n",
    "        erg = np.delete(erg,mask)\n",
    "        adr = np.delete(adr,mask)\n",
    "        dau = np.delete(dau,mask)\n",
    "        det = np.delete(det,mask)\n",
    "        typ = np.delete(typ,mask)\n",
    "        \n",
    "        \n",
    "        return tus, erg, typ, adr, dau, det, DetCol, date\n",
    "    \n",
    "    except ValueError as ve:\n",
    "        print(\"Function aborted because of: \" + str(ve))\n",
    "        print(\"Length of arrays: \")\n",
    "        for lst in [tus,erg, typ, adr, dau, det]:\n",
    "            print(len(lst))"
   ]
  },
  {
   "cell_type": "markdown",
   "id": "9cca534c",
   "metadata": {},
   "source": [
    "# Plotting functions"
   ]
  },
  {
   "cell_type": "markdown",
   "id": "d59076a5-5400-402b-a613-cbfabd52478d",
   "metadata": {},
   "source": [
    "## LED"
   ]
  },
  {
   "cell_type": "code",
   "execution_count": 17,
   "id": "2e962c5f",
   "metadata": {},
   "outputs": [],
   "source": [
    "def plot_LED(grb_id=None, tus_arr = None, LED_filename=None, binsize=10,start_range =0, end_range=0, T0 =None):\n",
    "    \"\"\" Can switch between plotting by grb_id, tus_arr and LED_filename. Only one of the options at the time.\n",
    "    plot_LED function can also find the background when start_range and end_range is specified\"\"\"\n",
    "    \n",
    "    binsize = binsize*1e3 #converting to microseconds\n",
    "    start_range = start_range*1e3 #converting to microseconds\n",
    "    end_range = end_range*1e3\n",
    "    \n",
    "    \n",
    "    #switch for input\n",
    "    try:\n",
    "        if LED_filename != None and grb_id == None and tus_arr == None:\n",
    "            tus_LED, erg_LED, energy_keV_LED, tus_keep_multihit_LED, erg_keep_multihit_LED, multihit_indx_LED, date = read_matlab_file_with_CZT_data(\n",
    "                LED_filename)\n",
    "            T0 = datetime.strptime(date, \"%Y-%b-%d %H:%M:%S.%f\")\n",
    "            date_id = datetime.strftime(T0,format='%y%m%d') #Correct format for title of plot: YYMMDD\n",
    "            grb_id_title = \"GRB\" + date_id\n",
    "            \n",
    "        elif grb_id != None and tus_arr == None and LED_filename == None:\n",
    "            if grb_id not in trig_dict_LED.keys():\n",
    "                raise KeyError(\"GRB ID not in dict\")\n",
    "            else:\n",
    "                LED_filename = trig_dict_LED[grb_id][0]\n",
    "                tus_LED, erg_LED, energy_keV_LED, tus_keep_multihit_LED, erg_keep_multihit_LED, multihit_indx_LED, date = read_matlab_file_with_CZT_data(\n",
    "                    LED_filename)\n",
    "                T0 = datetime.strptime(date, \"%Y-%b-%d %H:%M:%S.%f\")\n",
    "                date_id = datetime.strftime(T0,format='%y%m%d') #Correct format for title of plot: YYMMDD\n",
    "                grb_id_title = \"GRB\" + date_id\n",
    "\n",
    "        elif grb_id == None and type(tus_arr) == np.ndarray and type(T0) == datetime and LED_filename==None:\n",
    "            tus_keep_multihit_LED = tus_arr\n",
    "            date_id = datetime.strftime(T0,format='%y%m%d') #Correct format for title of plot: YYMMDD\n",
    "            grb_id_title = \"GRB\" + date_id\n",
    "        else:\n",
    "            return \"T0 <datetime> must be specified when initiating tus_arr\"\n",
    "        \n",
    "    except KeyError as e:\n",
    "        return print(e)\n",
    "    \n",
    "    #Plotting routine\n",
    "    fig0, ax1 = plt.subplots(\n",
    "        1, 1, figsize=(12, 8), sharex=True, sharey=False)\n",
    "    \n",
    "    ax1.hist(tus_keep_multihit_LED, bins=np.arange(\n",
    "        min(tus_keep_multihit_LED), max(tus_keep_multihit_LED) + binsize, binsize),edgecolor= \"black\", histtype=\"step\")\n",
    "    ax1.set_xlabel(\"time [us], binsize {} ms\".format((binsize / 1e3)))\n",
    "    ax1.set_ylabel(\"Counts per bin\")\n",
    "    ax1.set_title(grb_id_title)\n",
    "    \n",
    "    if start_range and end_range != 0:\n",
    "        mean = get_mean(LED_filename,binsize,tus_LED, start_range, end_range)\n",
    "        ax1.axhline(y=mean, color=\"red\", label=\"Mean of bg: {} counts/bin \\n First range [{} - {}] s \\n 2nd: [{} - {}] s\".format(\n",
    "            np.round(mean,2), np.round(min(tus_LED)/1e6,3),start_range/1e6, end_range/1e6, np.round(max(tus_LED)/1e6,3)),linestyle='--')\n",
    "                                                                                                                              \n",
    "                                                                                                                          \n",
    "        ax1.legend()\n",
    "        plt.show()\n",
    "    else:\n",
    "        plt.show()\n",
    "        \n",
    "    #plt.savefig(output_dir + \"/{}_LED\".format(grb_id))\n",
    "\n",
    "    "
   ]
  },
  {
   "cell_type": "markdown",
   "id": "9289b557-a7da-4688-964f-c160ac71e748",
   "metadata": {},
   "source": [
    "## HED"
   ]
  },
  {
   "cell_type": "code",
   "execution_count": 19,
   "id": "077a70d2-f53e-4e33-b1e1-5cb91d8b75a6",
   "metadata": {},
   "outputs": [],
   "source": [
    "def plot_HED(grb_id=None, tus_arr = None, HED_filename = None, binsize=10, start_GRB=0, \n",
    "             end_GRB=0, fig=(12,8), T0=None, cut_idx=None):\n",
    "    \n",
    "    \"\"\"Plotting data from HED. If HED_filename is not specified, but tus_arr is: plotting the tus array without reading matlab file\n",
    "        If start and end value for the GRB is not given, the data is plotted normally,\n",
    "        - BINSIZE IS INITIALIZED AS MILLISECONDS\n",
    "        - start_GRB & end_GRB IS INITIALIZED AS MILLISECONDS 0.5 s = 500 ms\n",
    "        - tus_HED is given in microseconds\n",
    "        -T0 is given as a string\n",
    "        -cut_idx: array of indecies that was used to cut the tus_arr\n",
    "    \"\"\"\n",
    "\n",
    "    binsize = binsize*1e3 #converting to microseconds\",\n",
    "    \n",
    "    start_GRB = start_GRB*1e3 #converting to microseconds\",\n",
    "    end_GRB = end_GRB*1e3,\n",
    "    \n",
    "    # //TODO:\n",
    "    #Create switch for plotting histograms with different color\n",
    "    \n",
    "    #switch for input\n",
    "    try:\n",
    "        if HED_filename != None and grb_id == None and tus_arr == None:\n",
    "            tus_HED, erg_HED, typ_HED, adr_HED, dau_HED, det_HED, DetCol_HED, date = read_matlab_file_with_BGO_data(HED_filename)\n",
    "            T0 = datetime.strptime(date, \"%Y-%b-%d %H:%M:%S.%f\")\n",
    "            date_id = datetime.strftime(T0,format='%y%m%d') #Correct format for title of plot: GRBYYMMDD\n",
    "            grb_id_title = \"GRB\" + date_id\n",
    "            \n",
    "        elif grb_id != None and tus_arr == None and HED_filename == None:\n",
    "            if grb_id not in trig_dict_HED.keys():\n",
    "                raise KeyError(\"GRB ID not in dict\")\n",
    "            else:\n",
    "                HED_filename = trig_dict_HED[grb_id][0]\n",
    "                tus_HED, erg_HED, typ_HED, adr_HED, dau_HED, det_HED, DetCol_HED, date = read_matlab_file_with_BGO_data(HED_filename)\n",
    "                T0 = datetime.strptime(date, \"%Y-%b-%d %H:%M:%S.%f\")\n",
    "                date_id = datetime.strftime(T0,format='%y%m%d') #Correct format for title of plot: GRBYYMMDD\n",
    "                grb_id_title = \"GRB\" + date_id\n",
    "\n",
    "        elif type(tus_arr) == np.ndarray and grb_id == None and type(T0) == datetime and HED_filename==None:\n",
    "            tus_HED = tus_arr\n",
    "            date_id = datetime.strftime(T0,format='%y%m%d') #Correct format for title of plot: YYMMDD\n",
    "            grb_id_title = \"GRB\" + date_id\n",
    "            \n",
    "        else:\n",
    "            return \"T0 <datetime> must be specified when initiating tus_arr\"\n",
    "        \n",
    "    except KeyError as e:\n",
    "        return print(e)\n",
    "    \n",
    "    \n",
    "    #Plotting routine for normal histograms\n",
    "    if cut_idx == None:\n",
    "        fig0, ax1 = plt.subplots(\n",
    "            1, 1, figsize=fig, sharex=True, sharey=False)\n",
    "        ax1.hist(tus_HED, bins=np.arange(\n",
    "            min(tus_HED), max(tus_HED) + binsize, binsize),edgecolor= \"black\", histtype=\"step\")\n",
    "\n",
    "        ax1.set_xlabel(\"time [us], binsize {} ms\".format((binsize / 1e3)))\n",
    "        ax1.set_ylabel(\"Counts per bin\"),\n",
    "        ax1.set_title(grb_id_title)\n",
    "    \n",
    "    if cut_idx != None:\n",
    "        colors = cm.rainbow(np.linspace(0, 1, len(cut_idx)))\n",
    "        \n",
    "        fig0, ax1 = plt.subplots(\n",
    "        1, 1, figsize=fig, sharex=True, sharey=False)\n",
    "        \n",
    "        for idx, c in zip(cut_idx, colors):\n",
    "            ax1.hist(tus_HED, bins=np.arange(min(tus_HED), \n",
    "                                             max(tus_HED) + binsize, binsize),edgecolor= \"black\", histtype=\"step\")\n",
    "        \n",
    "        \n",
    "        \n",
    "\n",
    "    if start_GRB and end_GRB != 0:\n",
    "        mean = get_mean(HED_filename,binsize,tus_HED, start_GRB, end_GRB)\n",
    "        ax1.axhline(y=mean, color=\"red\", label= \"Mean of bg: {} counts/bin \\n First range [{} - {}] s \\n 2nd: [{} - {}] s\".format(\n",
    "            np.round(mean,2), np.round(min(tus_HED)/1e6,3),start_GRB/1e6, end_GRB/1e6, np.round(max(tus_HED)/1e6,3)),linestyle='--'),\n",
    "        ax1.legend()\n",
    "        plt.show(),\n",
    "    else:\n",
    "        plt.show()"
   ]
  },
  {
   "cell_type": "code",
   "execution_count": 20,
   "id": "27ca4139-e7a3-4a9a-b43a-d3423ebace20",
   "metadata": {},
   "outputs": [
    {
     "data": {
      "image/png": "[encoded data removed]",
      "text/plain": [
       "<Figure size 640x480 with 1 Axes>"
      ]
     },
     "metadata": {},
     "output_type": "display_data"
    }
   ],
   "source": [
    "import numpy as np\n",
    "import matplotlib.pyplot as plt\n",
    "import matplotlib.cm as cm\n",
    "\n",
    "x = np.arange(10)\n",
    "ys = [i+x+(i*x)**2 for i in range(10)]\n",
    "\n",
    "colors = cm.rainbow(np.linspace(0, 1, len(ys)))\n",
    "for y, c in zip(ys, colors):\n",
    "    plt.scatter(x, y, color=c)"
   ]
  },
  {
   "cell_type": "markdown",
   "id": "2e92a07e-f1bd-41c2-8af2-928524543b15",
   "metadata": {},
   "source": [
    "## mean"
   ]
  },
  {
   "cell_type": "code",
   "execution_count": 9,
   "id": "e7e11e87-56c1-45b4-a914-868cade107c3",
   "metadata": {},
   "outputs": [],
   "source": [
    "# Rename start_GRB to start_range. Same for end_GRB\n",
    "def get_mean(matlab_filename, binsize, tus, start_GRB, end_GRB):\n",
    "    \n",
    "    \"\"\"Function for getting the mean from the background.\n",
    "    matlab_filename: <str> filename\n",
    "    binsize: <int> given in us // 5ms = 5000 us \n",
    "    start & end_GRB given in us.\n",
    "    -Finding ranges to compute the mean in each bin. \"\"\"\n",
    "    \n",
    "    tus = np.sort(tus)\n",
    "    range_1 =  find_closest(tus,start_GRB)\n",
    "    range_2 = find_closest(tus,end_GRB)\n",
    "    \n",
    "    range_1_counts = np.histogram(tus[:range_1], bins=np.arange(\n",
    "        min(tus[:range_1]), max(tus[:range_1]) + binsize, binsize))[0]\n",
    "    \n",
    "    range_2_counts = np.histogram(tus[range_2:], bins=np.arange(\n",
    "        min(tus[range_2:]), max(tus[range_2:]) + binsize, binsize))[0]\n",
    "    \n",
    "    background_data = np.append(range_1_counts,range_2_counts)\n",
    "    mean = np.mean(background_data)\n",
    "    return mean"
   ]
  },
  {
   "cell_type": "code",
   "execution_count": 10,
   "id": "38400522-f307-4604-8411-5ba2f5dabc66",
   "metadata": {},
   "outputs": [],
   "source": [
    "def find_nearest(array, value):\n",
    "    \"\"\"Returns nearest index for value in array.\n",
    "    \"\"\"\n",
    "    array = np.asarray(array)\n",
    "    return (np.abs(array - value)).argmin()"
   ]
  },
  {
   "cell_type": "markdown",
   "id": "ce2e81b0-e327-4fc4-bda6-4d741cbc23c3",
   "metadata": {},
   "source": [
    "# Concatination of multiple files"
   ]
  },
  {
   "cell_type": "markdown",
   "id": "aff6e21b-50db-4e60-b5e0-42c545588e23",
   "metadata": {},
   "source": [
    "## Needed functions for concat_GRB"
   ]
  },
  {
   "cell_type": "code",
   "execution_count": 11,
   "id": "a40bb4ee-efb9-4f39-92f4-d5bd60a9b112",
   "metadata": {},
   "outputs": [],
   "source": [
    "def find_stitch_idx(tus1=None, tus2=None, erg1=None, erg2=None, index_file=None):\n",
    "    \"\"\"TODO:\n",
    "    - Search a region. Kind of like Newton iteration. If the cutoff index lies behind, the routine has a problem.\n",
    "    \"\"\"\n",
    "\n",
    "    idx = find_nearest(tus1,tus2[0])\n",
    "    if erg1[idx] != erg2[0]:\n",
    "        idx_nearest_erg = find_nearest(erg1[idx:], erg2[0]) #assuming the correct cutoff lies ahead. Might cause problems. Could search a region\n",
    "        stitch_idx = idx_nearest_erg + idx\n",
    "        if np.all(erg1[stitch_idx:] == erg2[0:len(erg1[stitch_idx:])]) == True: #Checking if the energies lines up\n",
    "            return stitch_idx\n",
    "        else:\n",
    "            print(\"Could not find a suitible index for cutting. Reason: ergs dont line up.....\" + \"file num: \",index_file, \"idx: :\", idx)\n",
    "            if tus1[idx] < tus2[0]: #must be an increase in time for stitching\n",
    "                return idx\n",
    "    else:\n",
    "        return idx #found correct stich index on first try"
   ]
  },
  {
   "cell_type": "markdown",
   "id": "8afe09f7-3053-4a7b-9aa5-b78022941b4a",
   "metadata": {},
   "source": [
    "## concat_GRB"
   ]
  },
  {
   "cell_type": "code",
   "execution_count": 67,
   "id": "8ef1cc58-5ade-4e64-bcd9-914655ef1bcc",
   "metadata": {},
   "outputs": [],
   "source": [
    "def concat_GRB(grb_id, flag):\n",
    "    \"\"\" function concat_files concatenates multiple matlab files. Can only concat HED or LED files at the time\n",
    "    \n",
    "    Flag determines whether the input list is of HED or LED files\n",
    "    \n",
    "    --> If there is \"missing counts\" between the files. 0 counts is added for the respective missing time interval. Automatically when time-shifted (?)\n",
    "    \n",
    "    Routine description: \n",
    "    1) The different tus arrays have their own T0. Calculating the delta T between T0 and Tn (time for concatination)  \n",
    "    \n",
    "    \n",
    "    Parameters:\n",
    "    %---------------------------------------------------------------\n",
    "    \n",
    "    grb_id <string>  : key for dictionary containing list of matlab filenames\n",
    "    flag <string>    : \"HED\" or \"LED\". They have different arrays after calling read_matlab_file function. This flag handles that.\n",
    "    \n",
    "    \n",
    "    returns:\n",
    "    %---------------------------------------------------------------\n",
    "    \n",
    "    \n",
    "    output for HED:\n",
    "    %---------------------------------------------------------------\n",
    "    concat_tus_HED <array> : concat tus (relative times in microseconds) for all arrays\n",
    "    concat_erg_HED <array> : concat erg (energy channel (needs to be calibrated to keV using calibration coeff)) for all arrays\n",
    "    concat_typ_HED <array> : concat typ for all counts  (normal (0), fast(1), valley (3), or overflow event (2 or 4 not )) read function keeps only 0 & 1.\n",
    "    concat_adr_HED <array> : concat BGO address 1-12 for all arrays\n",
    "    concat_dau_HED <array> : concat dau address 1-4\n",
    "    concat_det_HED <array> : concat detector address 1-3\n",
    "    concat_DetCol_HED <array> : concat RGB color for all arrays\n",
    "    T0 <datetime> : datetime object of T0\n",
    "    \n",
    "    output for LED:\n",
    "    %----------------------------------------------------------------\n",
    "    \n",
    "    \n",
    "    \"\"\"\n",
    "    #Handling input is in the right format\n",
    "    \n",
    "    try:\n",
    "        if type(flag) and type(grb_id) != str:\n",
    "            raise TypeError(\"grb_id and/or flag input is not string\")\n",
    "        elif flag != \"HED\" and flag != \"LED\":\n",
    "            raise NameError(\"flag-string is neither HED or LED\")\n",
    "        elif flag == \"HED\":\n",
    "            if grb_id not in trig_dict_HED.keys():\n",
    "                raise KeyError(\"GRB ID not in trig_dict_HED\")\n",
    "            else:\n",
    "                HED_files = trig_dict_HED[grb_id]       \n",
    "        elif flag == \"LED\":\n",
    "            if grb_id not in trig_dict_LED.keys():\n",
    "                raise KeyError(\"GRB ID not in trig_dict_LED\")\n",
    "            else:\n",
    "                LED_files = trig_dict_LED[grb_id]\n",
    "                \n",
    "        else:\n",
    "            if flag == \"HED\":\n",
    "                if all(HED_files[i] <= HED_files[i+1] for i in range(len(HED_files) - 1)) == False: #logic for checking that the files are in increasing order\n",
    "                    raise IndexError(\"List is not sorted in increasing order\")\n",
    "            elif flag == \"LED\":\n",
    "                print(len(LED_files))\n",
    "                if all(LED_files[i] <= LED_files[i+1] for i in range(len(LED_files) - 1)) == False: #logic for checking that the files are in increasing order\n",
    "                    raise IndexError(\"List is not sorted in increasing order\")\n",
    "            else:\n",
    "                print(\"No flag\")\n",
    "                    \n",
    "    except (TypeError, NameError, KeyError) as e:\n",
    "        return print(e) #routine quits if error is found\n",
    "    \n",
    "    except IndexError:\n",
    "        if flag == \"HED\":\n",
    "            HED_files.sort() #sorting filenames in increasing order. Should already be done in dict creation, but good to check\n",
    "        else:\n",
    "            LED_files.sort() #sorting filenames in increasing order. Should already be done in dict creation, but good to check      \n",
    "    try: \n",
    "        \n",
    "        if flag == \"HED\":\n",
    "            data = [] #list that stores dictionary for each file\n",
    "            num_files = len(HED_files)\n",
    "            \n",
    "            for filename in HED_files:\n",
    "                \n",
    "                tus, erg, typ, adr, dau, det, DetCol, date = read_matlab_file_with_BGO_data(filename)\n",
    "                if len(date) != 27:\n",
    "                    raise ValueError(\"length of datetime string is not in correct format\")\n",
    "                \n",
    "                index_sort = np.argsort(tus, kind=\"mergesort\") # sorting tus in increasing order. Mergesort will not be affected by floating point error\n",
    "                \n",
    "                tus_sort, erg_sort, typ_sort, adr_sort, dau_sort, det_sort = tus[index_sort], erg[index_sort], typ[index_sort], adr[index_sort],dau[index_sort], det[index_sort] #Making sure that the are coherent\n",
    "                \n",
    "                file_dict = {\"tus\":tus_sort, \"erg\":erg_sort, \"typ\":typ_sort, \"adr\":adr_sort, \"dau\":dau_sort, \"det\": det_sort, \"DetCol\":DetCol, \"date\":date}\n",
    "                \n",
    "                data.append(file_dict)\n",
    "            \n",
    "            T0 = datetime.strptime(data[0][\"date\"], \"%Y-%b-%d %H:%M:%S.%f\") #T0 of first file. Will be T0 for concat tus array\n",
    "\n",
    "            # Adding the timeshift to all tus arrays from T0\n",
    "            for i in np.arange(1,num_files):\n",
    "                deltaT = datetime.strptime(data[i][\"date\"], \"%Y-%b-%d %H:%M:%S.%f\") - T0\n",
    "                data[i][\"tus\"] = data[i][\"tus\"] + float(deltaT.total_seconds())*1e6 #deltaT to all entries from T0\n",
    "\n",
    "            # Cutting arrays at respective index; idx\n",
    "            i = 0\n",
    "            while i < num_files-1: #Need num_files-1 cutting indecies\n",
    "\n",
    "                idx = find_stitch_idx(tus1=data[i][\"tus\"], tus2=data[i+1][\"tus\"], erg1= data[i][\"erg\"] , erg2 = data[i+1][\"erg\"], index_file= i) #index for cutting     \n",
    "                data[i][\"tus\"] = data[i][\"tus\"][:idx] #cutting arrays at idx\n",
    "                data[i][\"erg\"] = data[i][\"erg\"][:idx] \n",
    "                data[i][\"typ\"] = data[i][\"typ\"][:idx]\n",
    "                data[i][\"dau\"] = data[i][\"dau\"][:idx]\n",
    "                i += 1\n",
    "\n",
    "            #Concatenating respective arrays\n",
    "            concat_tus_HED = np.concatenate([data[i][\"tus\"] for i in range(0,num_files)]) #Just concatinating tus arrays \n",
    "            concat_erg_HED = np.concatenate([data[i][\"erg\"] for i in range(0,num_files)])\n",
    "            concat_typ_HED = np.concatenate([data[i][\"typ\"] for i in range(0,num_files)])\n",
    "            concat_dau_HED = np.concatenate([data[i][\"dau\"] for i in range(0,num_files)])\n",
    "            \n",
    "            return concat_tus_HED, concat_erg_HED, concat_typ_HED, concat_dau_HED, DetCol, T0\n",
    "        \n",
    "        #LED concatination\n",
    "        elif flag == \"LED\":\n",
    "            data = []\n",
    "            num_files = len(LED_files)\n",
    "                \n",
    "            for filename in LED_files:\n",
    "                \n",
    "                #Working only with \n",
    "                tus, erg, energy_keV, tus_keep_multihit_ntimes, erg_keep_multihit_ntimes, multihit_indx, date = read_matlab_file_with_CZT_data(filename)\n",
    "                if len(date) != 27:\n",
    "                    raise ValueError(\"length of datetime string is not in correct format\")\n",
    "                \n",
    "                index_sort = np.argsort(tus_keep_multihit_ntimes, kind=\"mergesort\") # sorting tus in increasing order. Mergesort will not be affected by floating point error\n",
    "                \n",
    "                tus_sort, erg_sort = tus_keep_multihit_ntimes[index_sort], erg_keep_multihit_ntimes[index_sort] #Making sure that the are coherent\n",
    "                \n",
    "                file_dict = {\"tus\":tus_sort, \"erg\":erg_sort, \"date\":date}\n",
    "                \n",
    "                data.append(file_dict)\n",
    "            \n",
    "            T0 = datetime.strptime(data[0][\"date\"], \"%Y-%b-%d %H:%M:%S.%f\") #T0 of first file. Will be T0 for concat tus array\n",
    "\n",
    "            # Adding the timeshift to all tus arrays from T0\n",
    "            for i in np.arange(1,num_files):\n",
    "                deltaT = datetime.strptime(data[i][\"date\"], \"%Y-%b-%d %H:%M:%S.%f\") - T0\n",
    "                data[i][\"tus\"] = data[i][\"tus\"] + float(deltaT.total_seconds())*1e6 #deltaT to all entries from T0\n",
    "\n",
    "            # Cutting arrays at respective index; idx\n",
    "            i = 0\n",
    "            while i < num_files-1: #Need num_files-1 cutting indecies\n",
    "\n",
    "                idx = find_stitch_idx(tus1=data[i][\"tus\"], tus2=data[i+1][\"tus\"], erg1= data[i][\"erg\"] , erg2 = data[i+1][\"erg\"], index_file= i) #index for cutting     \n",
    "                data[i][\"tus\"] = data[i][\"tus\"][:idx] #cutting arrays at idx\n",
    "                data[i][\"erg\"] = data[i][\"erg\"][:idx]  #cutting arrays at idx\n",
    "                \n",
    "                i += 1\n",
    "\n",
    "            #Concatenating respective arrays\n",
    "            concat_tus_LED = np.concatenate([data[i][\"tus\"] for i in range(0,num_files)]) #concatinating tus arrays \n",
    "            concat_erg_LED = np.concatenate([data[i][\"erg\"] for i in range(0,num_files)])\n",
    "\n",
    "            \n",
    "            \n",
    "            # //TODO: return the cutting indecies\n",
    "            return concat_tus_LED, concat_erg_LED, T0\n",
    "        \n",
    "        else:\n",
    "            print(\"No flag of type of GRB provided\")\n",
    "            \n",
    "    except (ValueError) as e:\n",
    "        return print(e)"
   ]
  },
  {
   "cell_type": "markdown",
   "id": "cdc0a5e5-ef3f-4963-a05d-338b5fca1c91",
   "metadata": {},
   "source": [
    "## Testing concat"
   ]
  },
  {
   "cell_type": "code",
   "execution_count": 54,
   "id": "ca00bd8d-15e9-45c3-af23-7225628e593e",
   "metadata": {},
   "outputs": [],
   "source": [
    "tus, erg, energy_keV, tus_keep_multihit_ntimes, erg_keep_multihit_ntimes, multihit_indx, date = read_matlab_file_with_CZT_data(\"2018.12.27_06.17.04.210500_Fulltrigger\")"
   ]
  },
  {
   "cell_type": "code",
   "execution_count": 74,
   "id": "8dee8417-7e68-4027-b432-72569af83a37",
   "metadata": {},
   "outputs": [
    {
     "name": "stdout",
     "output_type": "stream",
     "text": [
      "Could not find a suitible index for cutting. Reason: ergs dont line up.....file num:  3 idx: : 10824\n"
     ]
    }
   ],
   "source": [
    "concat_tus_LED, concat_erg_LED, T0 = concat_GRB(\"GRB191221\",\"LED\")"
   ]
  },
  {
   "cell_type": "code",
   "execution_count": 75,
   "id": "143c3271-43a9-4a03-b3bb-7ce9774ca71a",
   "metadata": {},
   "outputs": [
    {
     "data": {
      "application/vnd.jupyter.widget-view+json": {
       "model_id": "9c36ad65901d4f2995af9a9240abf466",
       "version_major": 2,
       "version_minor": 0
      },
      "image/png": "[encoded data removed]",
      "text/html": [
       "\n",
       "            <div style=\"display: inline-block;\">\n",
       "                <div class=\"jupyter-widgets widget-label\" style=\"text-align: center;\">\n",
       "                    Figure\n",
       "                </div>\n",
       "                <img src='data:image/png;base64,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' width=1200.0/>\n",
       "            </div>\n",
       "        "
      ],
      "text/plain": [
       "Canvas(toolbar=Toolbar(toolitems=[('Home', 'Reset original view', 'home', 'home'), ('Back', 'Back to previous …"
      ]
     },
     "metadata": {},
     "output_type": "display_data"
    }
   ],
   "source": [
    "plot_LED(tus_arr=concat_tus_LED,T0=T0,binsize=20)\n",
    "#\"GRB181227\":[\"2018.12.27_06.17.04.210500_Fulltrigger\",\"2018_12_27_06_17_09.775992_Fulltrigger\",\"2018_12_27_06_17_10.800851_Fulltrigger\""
   ]
  },
  {
   "cell_type": "code",
   "execution_count": 76,
   "id": "aa57d21c-c322-4ea0-8478-a410a9289b0e",
   "metadata": {},
   "outputs": [
    {
     "data": {
      "application/vnd.jupyter.widget-view+json": {
       "model_id": "f2caaddecf8b4904a22951d1a609ed2f",
       "version_major": 2,
       "version_minor": 0
      },
      "image/png": "[encoded data removed]",
      "text/html": [
       "\n",
       "            <div style=\"display: inline-block;\">\n",
       "                <div class=\"jupyter-widgets widget-label\" style=\"text-align: center;\">\n",
       "                    Figure\n",
       "                </div>\n",
       "                <img src='data:image/png;base64,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' width=1200.0/>\n",
       "            </div>\n",
       "        "
      ],
      "text/plain": [
       "Canvas(toolbar=Toolbar(toolitems=[('Home', 'Reset original view', 'home', 'home'), ('Back', 'Back to previous …"
      ]
     },
     "metadata": {},
     "output_type": "display_data"
    }
   ],
   "source": [
    "plot_LED(grb_id=\"GRB191221\",bin)"
   ]
  },
  {
   "cell_type": "code",
   "execution_count": null,
   "id": "9c20e6ca-50a6-42be-89e8-7c42dc0fd97a",
   "metadata": {},
   "outputs": [],
   "source": []
  },
  {
   "cell_type": "code",
   "execution_count": null,
   "id": "e0133302-78c4-4404-b2e8-4e3576c0ca40",
   "metadata": {},
   "outputs": [],
   "source": [
    "plot_HED(tus_arr = concat_tus_HED,T0=T0, binsize=32)"
   ]
  },
  {
   "cell_type": "markdown",
   "id": "b5b21f98-1b42-47b2-b4e2-607736c93f81",
   "metadata": {},
   "source": [
    "# Debugging"
   ]
  },
  {
   "cell_type": "code",
   "execution_count": null,
   "id": "d3bd6b67-7b41-4a52-82f5-7090888e3651",
   "metadata": {},
   "outputs": [],
   "source": []
  },
  {
   "cell_type": "markdown",
   "id": "56edf6eb",
   "metadata": {},
   "source": [
    "# main function"
   ]
  },
  {
   "cell_type": "code",
   "execution_count": null,
   "id": "framed-privilege",
   "metadata": {},
   "outputs": [],
   "source": [
    "# On hold for now. \n",
    "\"\"\"def main(grb_id,binsize=10000, start_GRB, end_GRB):  # filename GRB ID\n",
    "    # output array for tus_keep_multihit_LED, erg_keep_multihit_LED, multihit_indx_LED må modifiseres\n",
    "    # Automake by making filename a list of filenames. Then the all the outout plots will be created\n",
    "\n",
    "    # TODO:\n",
    "    # Add the extra parameters to make the get_mean work\n",
    "#os.mkdir(\"/Users/andreas/phys/master/MATLAB/pyplots\")\n",
    "    trig_dict = create_triggers_dict()\n",
    "    try:\n",
    "        output_dir = os.mkdir(\"/Home/siv30/wad005/master/GRB/MATLAB/pyplots/{}\".format(grb_id)) #Creating owd folder for grb_id\n",
    "    except FileExistsError:\n",
    "        output_dir = \"/Home/siv30/wad005//master/GRB/MATLAB/pyplots/{}\".format(grb_id) #selecting path if it already exists\n",
    "\n",
    "\n",
    "    if type(grb_id) != str:\n",
    "        raise TypeError(\"Input is not string\")\n",
    "    elif grb_id not in trig_dict:\n",
    "        raise LookupError(\"grb_id not in dictionary\")\n",
    "    else:\n",
    "        try:\n",
    "            LED_filename = trig_dict[grb_id][0]\n",
    "            HED_filename = trig_dict[grb_id][1]\n",
    "            if type(LED_filename) == float and math.isnan(LED_filename):\n",
    "                print(\"LED file not found. Plotting only HED\")\n",
    "                plot_HED(HED_filename,output_dir,grb_id) #output path is not required\n",
    "                \n",
    "            elif type(HED_filename) == float and math.isnan(HED_filename):\n",
    "                print(\"HED file not found. Plotting only LED\")\n",
    "                plot_LED(LED_filename,output_dir,grb_id)\n",
    "            else:\n",
    "                plot_LED(LED_filename,output_dir,grb_id)\n",
    "                plot_HED(HED_filename,output_dir,grb_id)\n",
    "        except:\n",
    "            print(\"Something went wrong\")\n",
    "    \"\"\"\n",
    "    "
   ]
  },
  {
   "cell_type": "code",
   "execution_count": null,
   "id": "d8c7680b-9f75-4bea-a996-3c695d103edb",
   "metadata": {},
   "outputs": [],
   "source": []
  },
  {
   "cell_type": "code",
   "execution_count": null,
   "id": "4eb9e345-3bdb-46b6-929b-ec5b9e8265c6",
   "metadata": {},
   "outputs": [],
   "source": []
  },
  {
   "cell_type": "code",
   "execution_count": null,
   "id": "b6347aca-03ef-40c8-936b-bfcb0eab7673",
   "metadata": {},
   "outputs": [],
   "source": []
  },
  {
   "cell_type": "markdown",
   "id": "5b3a1ad6-2ffd-44b5-9933-8e57e05fb32b",
   "metadata": {},
   "source": [
    "# Purgatory"
   ]
  },
  {
   "cell_type": "code",
   "execution_count": null,
   "id": "579e6a7c-1ff3-486e-a455-6a20a905e30b",
   "metadata": {},
   "outputs": [],
   "source": [
    "\"\"\"# Not in use\n",
    "def get_filenames(path):\n",
    "    return sorted((f for f in os.listdir(path) if not f.startswith(\".\")), key=str.lower)\"\"\""
   ]
  },
  {
   "cell_type": "code",
   "execution_count": null,
   "id": "31e55517-b7c0-464a-89b5-b9666d375cca",
   "metadata": {},
   "outputs": [],
   "source": [
    "#Old plot_HED function\n",
    "\"\"\"\n",
    "def plot_HED(HED_filename, output_dir,grb_id):\n",
    "    tus_HED, erg_HED, typ_HED, adr_HED, dau_HED, det_HED, DetCol_HED = read_matlab_file_with_BGO_data(HED_filename)\n",
    "\n",
    "    fig0, (ax0, ax1) = plt.subplots(\n",
    "        2, 1, figsize=(8, 8), sharex=True, sharey=False)\n",
    "    ax0.set_title(\"HED\")\n",
    "\n",
    "    ax0.scatter(tus_HED, erg_HED)\n",
    "    ax0.set_xlabel(\"time [us]\")\n",
    "    ax0.set_ylabel(\"Energy channel\")\n",
    "\n",
    "    binsize = 10000  # us --> 10 ms bin\n",
    "    ax1.hist(tus_HED, bins=np.arange(\n",
    "        min(tus_HED), max(tus_HED)+binsize, binsize))\n",
    "    ax1.set_xlabel(\"time [us]\")\n",
    "    ax1.set_ylabel(\"Counts per bin\")\n",
    "    \n",
    "    output_dir_hed = output_dir + \"/{}_HED\".format(grb_id)\n",
    "    print(output_dir_hed)\n",
    "    plt.savefig(output_dir + \"/{}_HED\".format(grb_id)) #path where plot is saved\n",
    "\"\"\""
   ]
  },
  {
   "cell_type": "code",
   "execution_count": null,
   "id": "8df85296-cc1e-4b00-ba10-db069f6b18c1",
   "metadata": {},
   "outputs": [],
   "source": [
    "\"\"\"def sorting(l1, l2):\n",
    "    # l1 and l2 has to be numpy arrays\n",
    "    idx = np.argsort(l1)\n",
    "    return l1[idx], l2[idx]\"\"\""
   ]
  },
  {
   "cell_type": "code",
   "execution_count": null,
   "id": "6e88378a-5ec0-44e4-9495-0e12b5ec77e8",
   "metadata": {},
   "outputs": [],
   "source": [
    "\"\"\"tus1_zip, erg1_zip = zip(*sorted(zip(tus1_ex, erg1_ex))) #Sorted and coherent arrays\n",
    "\n",
    "tus1_zip = np.asarray(tus1_zip)\n",
    "erg1_zip = np.asarray(erg1_zip)\n",
    "\n",
    "############# tus2\n",
    "\n",
    "tus2_zip, erg2_zip = zip(*sorted(zip(tus2_ex, erg2_ex))) #Sorted and coherent arrays\n",
    "\n",
    "tus2_zip = np.asarray(tus2_zip)\n",
    "erg2_shift_zip = np.asarray(erg2_zip)\n",
    "\n",
    "tus2_shift_zip = tus2_zip + deltaT.total_seconds()*1e6 #applying deltaT\"\"\""
   ]
  },
  {
   "cell_type": "code",
   "execution_count": null,
   "id": "f32b92f4-cf3a-43e3-a91f-b9c9d79fdafd",
   "metadata": {},
   "outputs": [],
   "source": [
    "\"\"\"def coherence_sort(tus1=None,tus2=None,erg1=None,erg2=None):\n",
    "    Sorting two arrays that are coherent. \n",
    "    returning: \n",
    "    \n",
    "    flag <bool> \n",
    "    flag == True: tus1_sorted,tus2_sorted,erg1_sorted,erg2_sorted\n",
    "    flag == False: IndexError \n",
    "    \n",
    "    ############# tus1 & erg1\n",
    "    index_sort1 = np.argsort(tus1, kind=\"mergesort\") # sorting tus in increasing order\n",
    "\n",
    "    tus1_sorted = tus1_ex[index_sort1]\n",
    "    erg1_sorted = erg1_ex[index_sort1] #Making sure that the are coherent\n",
    "\n",
    "    ############# tus2 & erg2\n",
    "    index_sort2 = np.argsort(tus2, kind=\"mergesort\") # sorting tus in increasing order\n",
    "\n",
    "    tus2_sorted = tus2[index_sort2] #Making sure that the are coherent\n",
    "    erg2_sorted = erg2[index_sort2]\n",
    "    \n",
    "    try:\n",
    "        flag = np.all(index_sort1 == np.arange(0,len(tus1))) and np.all(index_sort2 == np.arange(0,len(tus2))) and np.all(erg1_sorted == erg1) and np.all(erg2_sorted == erg2)\n",
    "        if flag == False:\n",
    "            raise IndexError(\"If there is no change to tus1 and tus2, there shall not be any changes to erg1 and erg2\")\n",
    "        else:\n",
    "            return tus1_sorted,tus2_sorted,erg1_sorted,erg2_sorted\n",
    "    except IndexError as e:\n",
    "        return print(e)\"\""
   ]
  }
 ],
 "metadata": {
  "kernelspec": {
   "display_name": "Python 3 (ipykernel)",
   "language": "python",
   "name": "python3"
  },
  "language_info": {
   "codemirror_mode": {
    "name": "ipython",
    "version": 3
   },
   "file_extension": ".py",
   "mimetype": "text/x-python",
   "name": "python",
   "nbconvert_exporter": "python",
   "pygments_lexer": "ipython3",
   "version": "3.9.10"
  },
  "toc": {
   "base_numbering": 1,
   "nav_menu": {},
   "number_sections": true,
   "sideBar": true,
   "skip_h1_title": false,
   "title_cell": "Table of Contents",
   "title_sidebar": "Contents",
   "toc_cell": false,
   "toc_position": {},
   "toc_section_display": true,
   "toc_window_display": false
  },
  "varInspector": {
   "cols": {
    "lenName": 16,
    "lenType": 16,
    "lenVar": 40
   },
   "kernels_config": {
    "python": {
     "delete_cmd_postfix": "",
     "delete_cmd_prefix": "del ",
     "library": "var_list.py",
     "varRefreshCmd": "print(var_dic_list())"
    },
    "r": {
     "delete_cmd_postfix": ") ",
     "delete_cmd_prefix": "rm(",
     "library": "var_list.r",
     "varRefreshCmd": "cat(var_dic_list()) "
    }
   },
   "types_to_exclude": [
    "module",
    "function",
    "builtin_function_or_method",
    "instance",
    "_Feature"
   ],
   "window_display": false
  }
 },
 "nbformat": 4,
 "nbformat_minor": 5
}
