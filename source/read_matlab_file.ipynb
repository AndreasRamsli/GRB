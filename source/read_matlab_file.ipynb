{
 "cells": [
  {
   "cell_type": "markdown",
   "id": "empirical-carolina",
   "metadata": {},
   "source": [
    "# Imports"
   ]
  },
  {
   "cell_type": "code",
   "execution_count": 1,
   "id": "finite-outdoors",
   "metadata": {},
   "outputs": [],
   "source": [
    "import numpy as np\n",
    "import matplotlib.pyplot as plt\n",
    "import scipy.io\n",
    "import scipy\n",
    "import os\n",
    "import glob\n",
    "import pandas as pd\n",
    "import math\n",
    "from datetime import datetime, timedelta\n",
    "import collections\n",
    "plt.rcdefaults() #Setting default color of output plots\n",
    "# For interactive plots\n",
    "\n",
    "plt.rcParams.update({'figure.max_open_warning': 0})\n",
    "%matplotlib widget"
   ]
  },
  {
   "cell_type": "markdown",
   "id": "cc60308d-b2bc-440b-b125-b8a463fedcfe",
   "metadata": {},
   "source": [
    "# TODO:\n",
    "    \n",
    "   1) GRB ID SHOULD BE USED AS INPUT IN MOST FUNCTIONS!! IMPLEMENT THIS \n",
    "   2) Correct concatination of multiple files. GRB_ID is used to locate list of files\n",
    "   2) Use GRBID as input in plotting function, not filename. Don't need this right now tho. FOR LED AND HED\n",
    "   3) Redo all the plots ..."
   ]
  },
  {
   "cell_type": "markdown",
   "id": "807afc27",
   "metadata": {},
   "source": [
    "# Paths"
   ]
  },
  {
   "cell_type": "code",
   "execution_count": 2,
   "id": "expected-classroom",
   "metadata": {},
   "outputs": [],
   "source": [
    "path_HED = \"/Home/siv30/wad005/master/GRB/MATLAB/output/file_mat_TGF/\"\n",
    "path_LED = \"/Home/siv30/wad005/master/GRB/MATLAB/CZT_calibration/file_mat_CZT_TGF/\"\n",
    "#path_HED = \"/Users/andreas/phys/master/GRB/MATLAB/output/file_mat_TGF\"\n",
    "#path_LED = \"/Users/andreas/phys/master/GRB/MATLAB/CZT_calibration/file_mat_CZT_TGF\""
   ]
  },
  {
   "cell_type": "markdown",
   "id": "82cdb8bf",
   "metadata": {},
   "source": [
    "# Dict creation"
   ]
  },
  {
   "cell_type": "code",
   "execution_count": 3,
   "id": "f2d83176-02f1-40fa-9dad-c92bfd92b1ca",
   "metadata": {},
   "outputs": [],
   "source": [
    "trig_dict_HED = {\"GRB180720\":[\"2018_07_20_14_21_48\",\"2018_07_20_14_21_51\",\"2018_07_20_14_21_56\",\"2018_07_20_14_21_57\",\"2018_07_20_14_22_09\"],\n",
    "                 \"GRB181222\":[\"2018_12_22_20_11_36\"],\n",
    "                 \"GRB190206\":[\"2019_02_06_03_49_28\"],\n",
    "                 \"GRB190305\":[\"2019_03_05_13_05_19\"],\n",
    "                 \"GRB190501\":[\"2019_05_01_05_23_22\"],\n",
    "                 \"GRB190606\":[\"2019_06_06_01_55_07\"],\n",
    "                 \"GRB190615\":[\"2019_06_15_14_42_21\"],\n",
    "                 \"GRB190813\":[\"2019_08_13_12_00_49\"],\n",
    "                 \"GRB190825\":[\"2019_08_25_21_04_55\",\"2019_08_25_21_04_53\"], \n",
    "                 \"GRB190829\":[\"2019_08_29_19_56_40\"],\n",
    "                 \"GRB190906\":[\"2019_09_06_01_04_51\"],\n",
    "                 \"GRB191001\":[\"2019_10_01_06_41_52\"],\n",
    "                 \"GRB200412\":[],# long list\n",
    "                 \"GRB200521\":[\"2020_05_21_12_16_39\"],\n",
    "                 \"GRB200716\":[\"2020_07_16_22_57_40\"],\n",
    "                 \"GRB200925\":[\"2020_09_25_21_50_31\"],\n",
    "                 \"GRB201227\":[\"2020_12_27_15_14_06\"]\n",
    "            }\n",
    "trig_dict_HED = collections.OrderedDict(sorted(trig_dict_HED.items())) #Sorting the keys in decending order. Now trig_dict_HED is an OderedDict type\n",
    "\n",
    "for key in trig_dict_HED.keys():\n",
    "    trig_dict_HED[key].sort() #sorting files in increasing order\n"
   ]
  },
  {
   "cell_type": "code",
   "execution_count": 4,
   "id": "204e9aa8-605d-4b72-837e-1261928ff7e5",
   "metadata": {},
   "outputs": [],
   "source": [
    "trig_dict_LED = {\"GRB181227\":[\"2018_12_27_06_17_04.210500_Fulltrigger\",\"2018_12_27_06_17_09.775992_Fulltrigger\",\"2018_12_27_06_17_10.800851_Fulltrigger\"],\n",
    "                \"GRB190117\":[\"2019.01.17_08.50.42.939689_Fulltrigger\"],\n",
    "                 \"GRB190420\":[\"2019.04.20_23.32.24.931211_Fulltrigger\"],\n",
    "                 \"GRB190501\":[\"2019.05.01_05.23.21.736797_Fulltrigger\"],\n",
    "                 \"GRB190615\":[\"2019.06.15_14.42.22.741579_Fulltrigger\"],\n",
    "                 \"GRB190628\":[\"2019.06.28_04.23.32.512290_Fulltrigger\"],\n",
    "                 \"GRB190813\":[\"2019.08.13_12.00.48.801260_Fulltrigger\"],\n",
    "                 \"GRB190825\":[\"2019.08.25_21.04.54.439617_Fulltrigger\",\"2019.08.25_21.04.56.395859_Fulltrigger\"],\n",
    "                 \"GRB190906\":[\"2019.09.06_01.04.52.014004_Fulltrigger\"],\n",
    "                 \"GRB191001\":[\"2019.10.01_06.41.51.631214_Fulltrigger\"],\n",
    "                }\n",
    "trig_dict_LED = collections.OrderedDict(sorted(trig_dict_LED.items())) #Sorting the keys in decending order. Now trig_dict_HED is an OderedDict type\n",
    "\n",
    "for key in trig_dict_LED.keys():\n",
    "    trig_dict_LED[key].sort() #sorting files in increasing order\n"
   ]
  },
  {
   "cell_type": "markdown",
   "id": "aa41034e",
   "metadata": {},
   "source": [
    "# Functions for handling matlab files"
   ]
  },
  {
   "cell_type": "markdown",
   "id": "2c851e4b-d4a2-4e53-b83f-7a0bd4c475ea",
   "metadata": {},
   "source": [
    "## CZT function"
   ]
  },
  {
   "cell_type": "code",
   "execution_count": 5,
   "id": "improved-architect",
   "metadata": {},
   "outputs": [],
   "source": [
    "def read_matlab_file_with_CZT_data(filename):\n",
    "    '''Read matlab file with ASIM CZT data from the low energy detector (LED)\n",
    "\n",
    "    tus: relative time in microseconds (excluded multihits)\n",
    "    erg: energy channel (excluded multihits)\n",
    "    energy_keV: energy in keV (excluded multihits)\n",
    "    tus_keep_multihit: relative time in microseconds (included multihits)\n",
    "    erg_keep_multihit: energy channel (included multihits)\n",
    "    multihit_indx: multihit index 0-4. 0->1 1->2// 0: tus=105, 1: tus=110,110 (two counts)\n",
    "    '''\n",
    "    mat = scipy.io.loadmat(path_LED + \"%s.mat\" % (filename))\n",
    "\n",
    "    #keV_spectra = mat['keV_spectra_total_fulltrigger']\n",
    "\n",
    "    # Included multihits. Important for light curves\n",
    "    tus_keep_multihit = np.array(mat['tus_keep_multihit_fulltrigger'])[:,0] # relative time in microseconds\n",
    "    erg_keep_multihit = np.array(mat['erg_keep_multihit_fulltrigger'])[0,:] # energy channel (unreliable for multi hits)\n",
    "    multihit_indx = np.array(mat['multihit_fulltrigger'])[0,:] # multihit index. How many multihits in count. (0=1 count, 1=2 counts, 2=3 counts...)\n",
    "    \n",
    "    # The multihits are removed as they don't have a reliable energy estimate\n",
    "    erg = np.array(mat['erg_fulltrigger'])[0,:] # energy channel of CZT pixel\n",
    "    tus = np.array(mat['tus_fulltrigger'])[:,0] # relative time in microseconds\n",
    "    energy_keV = np.array(mat['pixel_energy_fulltrigger']).flatten() # energy in keV of CZT pixel\n",
    "    date = mat['T_ref_char'][0] #raw datetime\n",
    "    \n",
    "    #Logic that checks for array lengths\n",
    "    try:\n",
    "        length = len(tus_keep_multihit)\n",
    "        if any(len(lst) != length for lst in [erg_keep_multihit, multihit_indx]):\n",
    "        # at least one list has a different length\n",
    "            raise ValueError(\"Arrays have different lengths\")\n",
    "            \n",
    "        t_temp = []\n",
    "        erg_temp = []\n",
    "        \n",
    "        for index, i in enumerate(multihit_indx):\n",
    "            for j in np.arange(0,i+1): #adding i+1 times the tus_count\n",
    "                t_temp.append(tus_keep_multihit[index])\n",
    "                erg_temp.append(erg_keep_multihit[index])\n",
    "         \n",
    "        tus_keep_multihit_ntimes =  np.array(t_temp) #array of tus. Multihit index decides how many times the tus is appended\n",
    "        erg_keep_multihit_ntimes = np.array(erg_temp) #array of erg. Multihit index decides how many times the erg is appended\n",
    "        \n",
    "        return tus, erg, energy_keV, tus_keep_multihit_ntimes, erg_keep_multihit_ntimes, multihit_indx, date \n",
    "    \n",
    "    except ValueError as ve:\n",
    "        print(\"Function aborted because of: \" + str(ve))\n",
    "        print(\"Length of arrays: \")\n",
    "        for lst in [tus_keep_multihit, erg_keep_multihit, multihit_indx]:\n",
    "            print(len(lst))"
   ]
  },
  {
   "cell_type": "markdown",
   "id": "bd369c6b-2da5-4d03-a62e-be0e13a46992",
   "metadata": {},
   "source": [
    "## BGO function"
   ]
  },
  {
   "cell_type": "code",
   "execution_count": 6,
   "id": "fb08e8d7-010a-4584-a4d4-be3b3cb38e2a",
   "metadata": {},
   "outputs": [],
   "source": [
    "def read_matlab_file_with_BGO_data(matlabfilename):\n",
    "    '''Read matlab file with ASIM BGO data from the high energy detector (HED)\n",
    "\n",
    "    tus: relative times in microseconds.\n",
    "    erg: energy channel (needs to be calibrated to keV using calibration coeff from https://git.app.uib.no/ASIM-MXGS/IN-FLIGHT_CALIBRATION_BGO/-/tree/master/CALIBRATION_COEFS )\n",
    "    typ: normal (0), fast(1), valley (3), or overflow event (2 or 4 not )\n",
    "    adr: BGO address 1-12\n",
    "    dau: dau address 1-4\n",
    "    det: detector address 1-3\n",
    "    DetCol: RGB color\n",
    "    \n",
    "    - Kepping only normal (0) and fast (1) events\n",
    "    '''\n",
    "    matlabfile_TGF = path_HED + '%s.mat' % matlabfilename\n",
    "    \n",
    "    mat = scipy.io.loadmat(matlabfile_TGF)\n",
    "    \n",
    "    tus = mat['tus'].flatten()\n",
    "    erg = mat['erg'].flatten()\n",
    "    DetCol = mat['DetCol'] # Investigate this matrix\n",
    "    adr = mat['adr'].flatten()\n",
    "    dau = mat['dau'].flatten()\n",
    "    det = mat['det'].flatten()\n",
    "    typ = mat['typ'].flatten()\n",
    "    \n",
    "    date = mat['date'][0] #raw datetime\n",
    "    \n",
    "    \n",
    "    try:\n",
    "        length = len(tus)\n",
    "        if any(len(lst) != length for lst in [erg, typ, adr, dau, det]):\n",
    "        # at least one list has a different length\n",
    "            raise ValueError(\"Arrays have different lengths\")\n",
    "            \n",
    "        mask = np.where((typ != 0) & (typ != 1)) #finding indecies of vallays and overflow events\n",
    "        \n",
    "        # removing those indecies\n",
    "        tus = np.delete(tus,mask)\n",
    "        erg = np.delete(erg,mask)\n",
    "        adr = np.delete(adr,mask)\n",
    "        dau = np.delete(dau,mask)\n",
    "        det = np.delete(det,mask)\n",
    "        typ = np.delete(typ,mask)\n",
    "        \n",
    "        \n",
    "        return tus, erg, typ, adr, dau, det, DetCol, date\n",
    "    \n",
    "    except ValueError as ve:\n",
    "        print(\"Function aborted because of: \" + str(ve))\n",
    "        print(\"Length of arrays: \")\n",
    "        for lst in [tus,erg, typ, adr, dau, det]:\n",
    "            print(len(lst))"
   ]
  },
  {
   "cell_type": "markdown",
   "id": "9cca534c",
   "metadata": {},
   "source": [
    "# Plotting functions"
   ]
  },
  {
   "cell_type": "markdown",
   "id": "d59076a5-5400-402b-a613-cbfabd52478d",
   "metadata": {},
   "source": [
    "## LED"
   ]
  },
  {
   "cell_type": "code",
   "execution_count": 7,
   "id": "2e962c5f",
   "metadata": {},
   "outputs": [],
   "source": [
    "def plot_LED(LED_filename, binsize=10,start_range =0, end_range=0):\n",
    "    tus_LED, erg_LED, energy_keV_LED, tus_keep_multihit_LED, erg_keep_multihit_LED, multihit_indx_LED, date = read_matlab_file_with_CZT_data(\n",
    "    LED_filename)\n",
    "\n",
    "    binsize = binsize*1e3 #converting to microseconds\n",
    "    start_range = start_range*1e3 #converting to microseconds\n",
    "    end_range = end_range*1e3\n",
    "    \n",
    "    fig0, ax1 = plt.subplots(\n",
    "        1, 1, figsize=(12, 8), sharex=True, sharey=False)\n",
    "    \n",
    "    ax1.hist(tus_keep_multihit_LED, bins=np.arange(\n",
    "        min(tus_keep_multihit_LED), max(tus_keep_multihit_LED) + binsize, binsize),edgecolor= \"black\", histtype=\"step\")\n",
    "    ax1.set_xlabel(\"time [us], binsize {} ms\".format((binsize / 1e3)))\n",
    "    ax1.set_ylabel(\"Counts per bin\")\n",
    "    ax1.set_title(\"GRB \" + date)\n",
    "    \n",
    "    if start_range and end_range != 0:\n",
    "        mean = get_mean(LED_filename,binsize,tus_LED, start_range, end_range)\n",
    "        ax1.axhline(y=mean, color=\"red\", label=\"Mean of bg: {} counts/bin \\n First range [{} - {}] s \\n 2nd: [{} - {}] s\".format(\n",
    "            np.round(mean,2), np.round(min(tus_LED)/1e6,3),start_range/1e6, end_range/1e6, np.round(max(tus_LED)/1e6,3)),linestyle='--')\n",
    "                                                                                                                              \n",
    "                                                                                                                          \n",
    "        ax1.legend()\n",
    "        plt.show()\n",
    "    else:\n",
    "        plt.show()\n",
    "        \n",
    "    #plt.savefig(output_dir + \"/{}_LED\".format(grb_id))\n",
    "\n",
    "    "
   ]
  },
  {
   "cell_type": "markdown",
   "id": "9289b557-a7da-4688-964f-c160ac71e748",
   "metadata": {},
   "source": [
    "## HED"
   ]
  },
  {
   "cell_type": "code",
   "execution_count": 54,
   "id": "077a70d2-f53e-4e33-b1e1-5cb91d8b75a6",
   "metadata": {},
   "outputs": [],
   "source": [
    "def plot_HED(HED_filename=None, binsize=10, start_GRB=0, end_GRB=0, fig=(12,8),tus_arr = None, T0=None):\n",
    "    \n",
    "    \"\"\"Plotting data from HED. If HED_filename is not specified, but tus_arr is: plotting the tus array without reading matlab file\n",
    "        If start and end value for the GRB is not given, the data is plotted normally,\n",
    "        - BINSIZE IS INITIALIZED AS MILLISECONDS\n",
    "        - start_GRB & end_GRB IS INITIALIZED AS MILLISECONDS 0.5 s = 500 ms\n",
    "        - tus_HED is given in microseconds\n",
    "    \"\"\"\n",
    "    \n",
    "    binsize = binsize*1e3 #converting to microseconds\\n\",\n",
    "    \n",
    "    start_GRB = start_GRB*1e3 #converting to microseconds\\n\",\n",
    "    end_GRB = end_GRB*1e3,\n",
    "    \n",
    "    #Creating switch for input\n",
    "    \n",
    "    if HED_filename != None and tus_arr == None:\n",
    "        tus_HED, erg_HED, typ_HED, adr_HED, dau_HED, det_HED, DetCol_HED, date = read_matlab_file_with_BGO_data(HED_filename)\n",
    "        T0 = datetime.strptime(date, \"%Y-%b-%d %H:%M:%S.%f\")\n",
    "        date = datetime.strftime(T0,format='%y%m%d') #Correct format for title of plot: GRBYYMMDD\n",
    "        grb_id = \"GRB\" + date\n",
    "        \n",
    "    elif HED_filename == None and type(tus_arr) == np.ndarray and type(T0) == datetime:\n",
    "        tus_HED = tus_arr\n",
    "        date = datetime.strftime(T0,format='%y%m%d') #Correct format for title of plot: YYMMDD\n",
    "        grb_id = \"GRB\" + date\n",
    "        \n",
    "    else:\n",
    "        return \"HED_filename or tus_arr must be specified\"\n",
    "    \n",
    "    fig0, ax1 = plt.subplots(\n",
    "        1, 1, figsize=fig, sharex=True, sharey=False)\n",
    "    ax1.hist(tus_HED, bins=np.arange(\n",
    "        min(tus_HED), max(tus_HED) + binsize, binsize),edgecolor= \"black\", histtype=\"step\")\n",
    "    \n",
    "    ax1.set_xlabel(\"time [us], binsize {} ms\".format((binsize / 1e3)))\n",
    "    ax1.set_ylabel(\"Counts per bin\"),\n",
    "    ax1.set_title(grb_id) \n",
    "\n",
    "\n",
    "    if start_GRB and end_GRB != 0:\n",
    "        mean = get_mean(HED_filename,binsize,tus_HED, start_GRB, end_GRB)\n",
    "        ax1.axhline(y=mean, color=\"red\", label= \"Mean of bg: {} counts/bin \\n First range [{} - {}] s \\n 2nd: [{} - {}] s\".format(\n",
    "            np.round(mean,2), np.round(min(tus_HED)/1e6,3),start_GRB/1e6, end_GRB/1e6, np.round(max(tus_HED)/1e6,3)),linestyle='--'),\n",
    "        ax1.legend()\n",
    "        plt.show(),\n",
    "    else:\n",
    "        plt.show()"
   ]
  },
  {
   "cell_type": "markdown",
   "id": "2e92a07e-f1bd-41c2-8af2-928524543b15",
   "metadata": {},
   "source": [
    "## mean"
   ]
  },
  {
   "cell_type": "code",
   "execution_count": 9,
   "id": "e7e11e87-56c1-45b4-a914-868cade107c3",
   "metadata": {},
   "outputs": [],
   "source": [
    "# Rename start_GRB to start_range. Same for end_GRB\n",
    "def get_mean(matlab_filename, binsize, tus, start_GRB, end_GRB):\n",
    "    \n",
    "    \"\"\"Function for getting the mean from the background.\n",
    "    matlab_filename: <str> filename\n",
    "    binsize: <int> given in us // 5ms = 5000 us \n",
    "    start & end_GRB given in us.\n",
    "    -Finding ranges to compute the mean in each bin. \"\"\"\n",
    "    \n",
    "    tus = np.sort(tus)\n",
    "    range_1 =  find_closest(tus,start_GRB)\n",
    "    range_2 = find_closest(tus,end_GRB)\n",
    "    \n",
    "    range_1_counts = np.histogram(tus[:range_1], bins=np.arange(\n",
    "        min(tus[:range_1]), max(tus[:range_1]) + binsize, binsize))[0]\n",
    "    \n",
    "    range_2_counts = np.histogram(tus[range_2:], bins=np.arange(\n",
    "        min(tus[range_2:]), max(tus[range_2:]) + binsize, binsize))[0]\n",
    "    \n",
    "    background_data = np.append(range_1_counts,range_2_counts)\n",
    "    mean = np.mean(background_data)\n",
    "    return mean"
   ]
  },
  {
   "cell_type": "code",
   "execution_count": 10,
   "id": "38400522-f307-4604-8411-5ba2f5dabc66",
   "metadata": {},
   "outputs": [],
   "source": [
    "def find_closest(A, target):\n",
    "    #A must be sorted\n",
    "    idx = A.searchsorted(target)\n",
    "    idx = np.clip(idx, 1, len(A)-1)\n",
    "    left = A[idx-1]\n",
    "    right = A[idx]\n",
    "    idx -= target - left < right - target\n",
    "    return idx"
   ]
  },
  {
   "cell_type": "markdown",
   "id": "ce2e81b0-e327-4fc4-bda6-4d741cbc23c3",
   "metadata": {},
   "source": [
    "# Concatination of multiple files\n",
    "    -defining function concat_files"
   ]
  },
  {
   "cell_type": "code",
   "execution_count": 28,
   "id": "8ef1cc58-5ade-4e64-bcd9-914655ef1bcc",
   "metadata": {},
   "outputs": [],
   "source": [
    "def concat_files(grb_id, flag):\n",
    "    \"\"\" function concat_files concatenates multiple matlab files. Can only concat HED or LED files at the time\n",
    "    \n",
    "    Flag determines whether the input list is of HED or LED files\n",
    "    \n",
    "    --> If there is \"missing counts\" between the files. 0 counts is added for the respective missing time interval. Automatically when time-shifted (?)\n",
    "    \n",
    "    Routine description: \n",
    "    1) The different tus arrays have their own T0. Calculating the delta T between T0 and Tn (time for concatination)  \n",
    "    \n",
    "    \n",
    "    Parameters:\n",
    "    %---------------------------------------------------------------\n",
    "    \n",
    "    grb_id <string>  : key for dictionary containing list of matlab filenames\n",
    "    flag <string>    : \"HED\" or \"LED\". They have different arrays after calling read_matlab_file function. This flag handles that.\n",
    "    \n",
    "    \n",
    "    returns:\n",
    "    %---------------------------------------------------------------\n",
    "    \n",
    "    \n",
    "    output for HED:\n",
    "    %---------------------------------------------------------------\n",
    "    concat_tus_HED <array> : concat tus (relative times in microseconds) for all arrays\n",
    "    concat_erg_HED <array> : concat erg (energy channel (needs to be calibrated to keV using calibration coeff)) for all arrays\n",
    "    concat_typ_HED <array> : concat typ for all counts  (normal (0), fast(1), valley (3), or overflow event (2 or 4 not )) read function keeps only 0 & 1.\n",
    "    concat_adr_HED <array> : concat BGO address 1-12 for all arrays\n",
    "    concat_dau_HED <array> : concat dau address 1-4\n",
    "    concat_det_HED <array> : concat detector address 1-3\n",
    "    concat_DetCol_HED <array> : concat RGB color for all arrays\n",
    "    concat_date_HED <array> : datetime of T0 for concat array\n",
    "    \n",
    "    output for LED:\n",
    "    %----------------------------------------------------------------\n",
    "    \n",
    "    \n",
    "    \"\"\"\n",
    "    #Handling input is in the right format\n",
    "    try:\n",
    "        if type(flag) and type(grb_id) != str:\n",
    "            raise TypeError(\"grb_id and/or flag input is not string\")\n",
    "        if flag != \"HED\" and flag != \"LED\":\n",
    "            raise NameError(\"flag-string is neither HED or LED\")\n",
    "        if flag == \"HED\":\n",
    "            if grb_id not in trig_dict_HED.keys():\n",
    "                raise KeyError(\"GRB ID not in trig_dict_HED\")\n",
    "        if flag == \"LED\":\n",
    "            if grb_id not in trig_dict_LED.keys():\n",
    "                raise KeyError(\"GRB ID not in trig_dict_LED\")\n",
    "        else:\n",
    "            if flag == \"HED\":\n",
    "                HED_files = trig_dict_HED[grb_id] #list of HED filenames\n",
    "                if all(HED_files[i] <= HED_files[i+1] for i in range(len(HED_files) - 1)) == False: #logic for checking that the files are in increasing order\n",
    "                    raise IndexError(\"List is not sorted in increasing order\")\n",
    "            if flag == \"LED\":\n",
    "                LED_files = trig_dict_LED[grb_id] #list of LED filenames in list\n",
    "                if all(LED_files[i] <= LED_files[i+1] for i in range(len(LED_files) - 1)) == False: #logic for checking that the files are in increasing order\n",
    "                    raise IndexError(\"List is not sorted in increasing order\")\n",
    "                    \n",
    "                    \n",
    "    except (TypeError, NameError, KeyError) as e:\n",
    "        return print(e) #routine quits if error is found\n",
    "    \n",
    "    except IndexError:\n",
    "        if flag == \"HED\":\n",
    "            HED_files.sort() #sorting filenames in increasing order. Should already be done in dict creation, but good to check\n",
    "        else:\n",
    "            LED_files.sort() #sorting filenames in increasing order. Should already be done in dict creation, but good to check\n",
    "            \n",
    "            \n",
    "    try: \n",
    "        data = [] #list that stores dictionary for each file\n",
    "        if flag == \"HED\":\n",
    "            \n",
    "            num_files = len(HED_files)\n",
    "            \n",
    "            for filename in HED_files:\n",
    "                \n",
    "                tus, erg, typ, adr, dau, det, DetCol, date = read_matlab_file_with_BGO_data(filename)\n",
    "                if len(date) != 27:\n",
    "                    raise IndexError(\"length of datetime string is not in correct format\")\n",
    "                \n",
    "                file_dict = {\"tus\":tus, \"erg\":erg, \"typ\":typ, \"adr\":adr, \"dau\":dau, \"DetCol\":DetCol, \"date\":date}\n",
    "                data.append(file_dict)\n",
    "            \n",
    "            T0 = datetime.strptime(data[0][\"date\"], \"%Y-%b-%d %H:%M:%S.%f\") #T0 of first file. Will be T0 for concat tus array\n",
    "\n",
    "            for i in np.arange(1,num_files):\n",
    "                deltaT = datetime.strptime(data[i][\"date\"], \"%Y-%b-%d %H:%M:%S.%f\") - T0\n",
    "                data[i][\"tus\"] = data[i][\"tus\"] + float(deltaT.total_seconds())*1e6 #adding total microseconds to all entries\n",
    "                \n",
    "            concat_tus_HED = np.concatenate([data[i][\"tus\"] for i in range(0,num_files)])\n",
    "            return concat_tus_HED, T0\n",
    "        else: \n",
    "            \n",
    "            for filename in LED_files:\n",
    "                \n",
    "                tus, erg, energy_keV, tus_keep_multihit, erg_keep_multihit, multihit_indx, date = read_matlab_file_with_CZT_data(filename)\n",
    "                if len(date) != 27:\n",
    "                    raise IndexError(\"length of datetime string is not in correct format of length 27\")\n",
    "                \n",
    "                file_dict = {\"tus\":tus, \"tus_keep_multihit\": tus_keep_multihit, \"erg\":erg, \"erg_keep_multihit\": erg_keep_multihit, \n",
    "                             \"energy_keV\": energy_keV, \"multihit_indx\": multihit_indx, \"date\":date} #orginizing variables in dictionary\n",
    "                \n",
    "                data.append(file_dict) #dict containing variables stored in list. The index of the list determines which file. Allways in increasing order\n",
    "            \n",
    "            \n",
    "    except (IndexError) as e:\n",
    "        return print(e)\n",
    "    \n",
    "    print(\"no errors found\")\n"
   ]
  },
  {
   "cell_type": "markdown",
   "id": "cdc0a5e5-ef3f-4963-a05d-338b5fca1c91",
   "metadata": {},
   "source": [
    "## Testing concat"
   ]
  },
  {
   "cell_type": "code",
   "execution_count": 42,
   "id": "cb4b7d59-9c0b-4ab8-bf90-37fc0bdb5615",
   "metadata": {},
   "outputs": [],
   "source": [
    "tus_concat,T0 = concat_files(\"GRB190825\",\"HED\")"
   ]
  },
  {
   "cell_type": "code",
   "execution_count": 55,
   "id": "1e2196cd-e3d7-447f-9593-ed8846b89241",
   "metadata": {},
   "outputs": [
    {
     "data": {
      "application/vnd.jupyter.widget-view+json": {
       "model_id": "4017863decb34176b05e0fb5f7fdcc91",
       "version_major": 2,
       "version_minor": 0
      },
      "image/png": "[encoded data removed]",
      "text/html": [
       "\n",
       "            <div style=\"display: inline-block;\">\n",
       "                <div class=\"jupyter-widgets widget-label\" style=\"text-align: center;\">\n",
       "                    Figure\n",
       "                </div>\n",
       "                <img src='data:image/png;base64,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' width=1200.0/>\n",
       "            </div>\n",
       "        "
      ],
      "text/plain": [
       "Canvas(toolbar=Toolbar(toolitems=[('Home', 'Reset original view', 'home', 'home'), ('Back', 'Back to previous …"
      ]
     },
     "metadata": {},
     "output_type": "display_data"
    }
   ],
   "source": [
    "plot_HED(tus_arr = tus_concat, T0=T0)"
   ]
  },
  {
   "cell_type": "code",
   "execution_count": 18,
   "id": "d453a3f2-7824-483c-9b1c-245ab9980293",
   "metadata": {},
   "outputs": [],
   "source": [
    "tus1, erg, typ, adr, dau, det, DetCol, date2 = read_matlab_file_with_BGO_data(\"2019_08_25_21_04_55\")\n",
    "tus2, erg, typ, adr, dau, det, DetCol, date1 = read_matlab_file_with_BGO_data(\"2019_08_25_21_04_53\")\n",
    "T0 = datetime.strptime(date1, \"%Y-%b-%d %H:%M:%S.%f\")\n",
    "T1 = datetime.strptime(date2, \"%Y-%b-%d %H:%M:%S.%f\")"
   ]
  },
  {
   "cell_type": "code",
   "execution_count": 20,
   "id": "bfc824c6-b18b-4d3e-aaf1-e9f1a959ae17",
   "metadata": {},
   "outputs": [
    {
     "data": {
      "text/plain": [
       "27037"
      ]
     },
     "execution_count": 20,
     "metadata": {},
     "output_type": "execute_result"
    }
   ],
   "source": [
    "len(tus1)+len(tus2)"
   ]
  },
  {
   "cell_type": "code",
   "execution_count": 15,
   "id": "e4283cf4-208c-44bc-b8b9-1ed01ffbb087",
   "metadata": {},
   "outputs": [
    {
     "data": {
      "text/plain": [
       "1999000.0"
      ]
     },
     "execution_count": 15,
     "metadata": {},
     "output_type": "execute_result"
    }
   ],
   "source": [
    "deltaT = T1-T0\n",
    "float(deltaT.total_seconds())*1e6"
   ]
  },
  {
   "cell_type": "code",
   "execution_count": 39,
   "id": "f2396f46-5529-4c16-a999-b90ff44bb606",
   "metadata": {},
   "outputs": [
    {
     "data": {
      "text/plain": [
       "datetime.datetime"
      ]
     },
     "execution_count": 39,
     "metadata": {},
     "output_type": "execute_result"
    }
   ],
   "source": [
    "type(T0)"
   ]
  },
  {
   "cell_type": "code",
   "execution_count": null,
   "id": "a5bda82c-33dc-4bb0-a0eb-72222440ce12",
   "metadata": {},
   "outputs": [],
   "source": []
  },
  {
   "cell_type": "code",
   "execution_count": null,
   "id": "9b5fede1-b4d6-40cf-b93f-fe9f19a3394c",
   "metadata": {},
   "outputs": [],
   "source": []
  },
  {
   "cell_type": "code",
   "execution_count": null,
   "id": "a5b3305f-db60-4965-8f2e-fc048f49c9ec",
   "metadata": {},
   "outputs": [],
   "source": []
  },
  {
   "cell_type": "markdown",
   "id": "56edf6eb",
   "metadata": {},
   "source": [
    "# main function"
   ]
  },
  {
   "cell_type": "code",
   "execution_count": 16,
   "id": "framed-privilege",
   "metadata": {},
   "outputs": [
    {
     "ename": "SyntaxError",
     "evalue": "non-default argument follows default argument (2792431290.py, line 1)",
     "output_type": "error",
     "traceback": [
      "\u001b[0;36m  Input \u001b[0;32mIn [16]\u001b[0;36m\u001b[0m\n\u001b[0;31m    def main(grb_id,binsize=10000, start_GRB, end_GRB):  # filename GRB ID\u001b[0m\n\u001b[0m             ^\u001b[0m\n\u001b[0;31mSyntaxError\u001b[0m\u001b[0;31m:\u001b[0m non-default argument follows default argument\n"
     ]
    }
   ],
   "source": [
    "def main(grb_id,binsize=10000, start_GRB, end_GRB):  # filename GRB ID\n",
    "    # output array for tus_keep_multihit_LED, erg_keep_multihit_LED, multihit_indx_LED må modifiseres\n",
    "    # Automake by making filename a list of filenames. Then the all the outout plots will be created\n",
    "\n",
    "    # TODO:\n",
    "    # Add the extra parameters to make the get_mean work\n",
    "#os.mkdir(\"/Users/andreas/phys/master/MATLAB/pyplots\")\n",
    "    trig_dict = create_triggers_dict()\n",
    "    try:\n",
    "        output_dir = os.mkdir(\"/Home/siv30/wad005/master/GRB/MATLAB/pyplots/{}\".format(grb_id)) #Creating owd folder for grb_id\n",
    "    except FileExistsError:\n",
    "        output_dir = \"/Home/siv30/wad005//master/GRB/MATLAB/pyplots/{}\".format(grb_id) #selecting path if it already exists\n",
    "\n",
    "\n",
    "    if type(grb_id) != str:\n",
    "        raise TypeError(\"Input is not string\")\n",
    "    elif grb_id not in trig_dict:\n",
    "        raise LookupError(\"grb_id not in dictionary\")\n",
    "    else:\n",
    "        try:\n",
    "            LED_filename = trig_dict[grb_id][0]\n",
    "            HED_filename = trig_dict[grb_id][1]\n",
    "            if type(LED_filename) == float and math.isnan(LED_filename):\n",
    "                print(\"LED file not found. Plotting only HED\")\n",
    "                plot_HED(HED_filename,output_dir,grb_id) #output path is not required\n",
    "                \n",
    "            elif type(HED_filename) == float and math.isnan(HED_filename):\n",
    "                print(\"HED file not found. Plotting only LED\")\n",
    "                plot_LED(LED_filename,output_dir,grb_id)\n",
    "            else:\n",
    "                plot_LED(LED_filename,output_dir,grb_id)\n",
    "                plot_HED(HED_filename,output_dir,grb_id)\n",
    "        except:\n",
    "            print(\"Something went wrong\")\n",
    "    \n",
    "    "
   ]
  },
  {
   "cell_type": "code",
   "execution_count": null,
   "id": "ec421626-8a35-4787-a041-986632c5a670",
   "metadata": {},
   "outputs": [],
   "source": []
  },
  {
   "cell_type": "markdown",
   "id": "5b3a1ad6-2ffd-44b5-9933-8e57e05fb32b",
   "metadata": {},
   "source": [
    "# Graveyards"
   ]
  },
  {
   "cell_type": "code",
   "execution_count": null,
   "id": "579e6a7c-1ff3-486e-a455-6a20a905e30b",
   "metadata": {},
   "outputs": [],
   "source": [
    "# Not in use\n",
    "def get_filenames(path):\n",
    "    return sorted((f for f in os.listdir(path) if not f.startswith(\".\")), key=str.lower)"
   ]
  },
  {
   "cell_type": "code",
   "execution_count": null,
   "id": "31e55517-b7c0-464a-89b5-b9666d375cca",
   "metadata": {},
   "outputs": [],
   "source": [
    "#Old plot_HED function\n",
    "\"\"\"\n",
    "def plot_HED(HED_filename, output_dir,grb_id):\n",
    "    tus_HED, erg_HED, typ_HED, adr_HED, dau_HED, det_HED, DetCol_HED = read_matlab_file_with_BGO_data(HED_filename)\n",
    "\n",
    "    fig0, (ax0, ax1) = plt.subplots(\n",
    "        2, 1, figsize=(8, 8), sharex=True, sharey=False)\n",
    "    ax0.set_title(\"HED\")\n",
    "\n",
    "    ax0.scatter(tus_HED, erg_HED)\n",
    "    ax0.set_xlabel(\"time [us]\")\n",
    "    ax0.set_ylabel(\"Energy channel\")\n",
    "\n",
    "    binsize = 10000  # us --> 10 ms bin\n",
    "    ax1.hist(tus_HED, bins=np.arange(\n",
    "        min(tus_HED), max(tus_HED)+binsize, binsize))\n",
    "    ax1.set_xlabel(\"time [us]\")\n",
    "    ax1.set_ylabel(\"Counts per bin\")\n",
    "    \n",
    "    output_dir_hed = output_dir + \"/{}_HED\".format(grb_id)\n",
    "    print(output_dir_hed)\n",
    "    plt.savefig(output_dir + \"/{}_HED\".format(grb_id)) #path where plot is saved\n",
    "\"\"\""
   ]
  }
 ],
 "metadata": {
  "kernelspec": {
   "display_name": "Python 3 (ipykernel)",
   "language": "python",
   "name": "python3"
  },
  "language_info": {
   "codemirror_mode": {
    "name": "ipython",
    "version": 3
   },
   "file_extension": ".py",
   "mimetype": "text/x-python",
   "name": "python",
   "nbconvert_exporter": "python",
   "pygments_lexer": "ipython3",
   "version": "3.8.10"
  },
  "toc": {
   "base_numbering": 1,
   "nav_menu": {},
   "number_sections": true,
   "sideBar": true,
   "skip_h1_title": false,
   "title_cell": "Table of Contents",
   "title_sidebar": "Contents",
   "toc_cell": false,
   "toc_position": {},
   "toc_section_display": true,
   "toc_window_display": false
  },
  "varInspector": {
   "cols": {
    "lenName": 16,
    "lenType": 16,
    "lenVar": 40
   },
   "kernels_config": {
    "python": {
     "delete_cmd_postfix": "",
     "delete_cmd_prefix": "del ",
     "library": "var_list.py",
     "varRefreshCmd": "print(var_dic_list())"
    },
    "r": {
     "delete_cmd_postfix": ") ",
     "delete_cmd_prefix": "rm(",
     "library": "var_list.r",
     "varRefreshCmd": "cat(var_dic_list()) "
    }
   },
   "types_to_exclude": [
    "module",
    "function",
    "builtin_function_or_method",
    "instance",
    "_Feature"
   ],
   "window_display": false
  }
 },
 "nbformat": 4,
 "nbformat_minor": 5
}
