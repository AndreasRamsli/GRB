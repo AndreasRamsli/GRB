{
 "cells": [
  {
   "cell_type": "code",
   "execution_count": 4,
   "id": "finite-outdoors",
   "metadata": {},
   "outputs": [],
   "source": [
    "import numpy as np\n",
    "import matplotlib.pyplot as plt\n",
    "import scipy.io\n",
    "import os"
   ]
  },
  {
   "cell_type": "code",
   "execution_count": 12,
   "id": "improved-architect",
   "metadata": {},
   "outputs": [],
   "source": [
    "def read_matlab_file_with_BGO_data(matlabfilename):\n",
    "    '''Read matlab file with ASIM BGO data from the high energy detector (HED)\n",
    "\n",
    "    tus: relative time in microseconds\n",
    "    erg: energy channel (needs to be calibrated to keV using calibration coeff from https://git.app.uib.no/ASIM-MXGS/IN-FLIGHT_CALIBRATION_BGO/-/tree/master/CALIBRATION_COEFS )\n",
    "    typ: normal, fast, valley, or overflow event\n",
    "    adr: BGO address 1-12\n",
    "    dau: dau address 1-4\n",
    "    det: detector address 1-3\n",
    "    DetCol: RGB color\n",
    "    '''\n",
    "    matlabfile_TGF = '/Users/andreas/phys/master/MATLAB/output/file_mat_TGF/%s' % matlabfilename\n",
    "\n",
    "    mat = scipy.io.loadmat(matlabfile_TGF)\n",
    "    tus = mat['tus'].flatten()\n",
    "    erg = mat['erg'].flatten()\n",
    "    DetCol = mat['DetCol']\n",
    "    adr = mat['adr'].flatten()\n",
    "    dau = mat['dau'].flatten()\n",
    "    det = mat['det'].flatten()\n",
    "    typ = mat['typ'].flatten()\n",
    "    return tus, erg, typ, adr, dau, det, DetCol\n",
    "\n",
    "\n",
    "def read_matlab_file_with_CZT_data(filename):\n",
    "    '''Read matlab file with ASIM CZT data from the low energy detector (LED)\n",
    "\n",
    "    tus: relative time in microseconds (excluded multihits)\n",
    "    erg: energy channel (excluded multihits)\n",
    "    energy_keV: energy in keV (excluded multihits)\n",
    "    tus_keep_multihit: relative time in microseconds (included multihits)\n",
    "    erg_keep_multihit: energy channel (included multihits)\n",
    "    multihit_indx: multihit index 0-4.o\n",
    "    '''\n",
    "    mat = scipy.io.loadmat(\"/Users/andreas/phys/master/MATLAB/CZT_calibration/file_mat_CZT_TGF/%s.mat\" % (filename))\n",
    "\n",
    "    #keV_spectra = mat['keV_spectra_total_fulltrigger']\n",
    "\n",
    "    # Included multihits. Important for light curves\n",
    "    tus_keep_multihit = np.array(mat['tus_keep_multihit_fulltrigger'])[:,0] # relative time in microseconds\n",
    "    erg_keep_multihit = np.array(mat['erg_keep_multihit_fulltrigger'])[0,:] # energy channel (unreliable for multi hits)\n",
    "    multihit_indx = np.array(mat['multihit_fulltrigger'])[0,:] # multihit index. How many multihits in count. (0=1 count, 1=2 counts, 2=3 counts...)\n",
    "\n",
    "\n",
    "    # The multihits are removed as they don't have a reliable energy estimate\n",
    "    erg = np.array(mat['erg_fulltrigger'])[0,:] # energy channel of CZT pixel\n",
    "    tus = np.array(mat['tus_fulltrigger'])[:,0] # relative time in microseconds\n",
    "    energy_keV = np.array(mat['pixel_energy_fulltrigger']).flatten() # energy in keV of CZT pixel\n",
    "\n",
    "    return tus, erg, energy_keV, tus_keep_multihit, erg_keep_multihit, multihit_indx"
   ]
  },
  {
   "cell_type": "code",
   "execution_count": 49,
   "id": "framed-privilege",
   "metadata": {},
   "outputs": [
    {
     "ename": "FileExistsError",
     "evalue": "[Errno 17] File exists: '/Users/andreas/phys/master/MATLAB/output/output_plots/2018_08_09_13_11_58'",
     "output_type": "error",
     "traceback": [
      "\u001b[0;31m---------------------------------------------------------------------------\u001b[0m",
      "\u001b[0;31mFileExistsError\u001b[0m                           Traceback (most recent call last)",
      "\u001b[0;32m<ipython-input-49-a4cf16957e27>\u001b[0m in \u001b[0;36m<module>\u001b[0;34m\u001b[0m\n\u001b[1;32m     39\u001b[0m \u001b[0;34m\u001b[0m\u001b[0m\n\u001b[1;32m     40\u001b[0m \u001b[0;34m\u001b[0m\u001b[0m\n\u001b[0;32m---> 41\u001b[0;31m \u001b[0mmain\u001b[0m\u001b[0;34m(\u001b[0m\u001b[0;34m\"2018_08_09_13_11_58\"\u001b[0m\u001b[0;34m)\u001b[0m\u001b[0;34m\u001b[0m\u001b[0m\n\u001b[0m",
      "\u001b[0;32m<ipython-input-49-a4cf16957e27>\u001b[0m in \u001b[0;36mmain\u001b[0;34m(filename)\u001b[0m\n\u001b[1;32m      2\u001b[0m     \u001b[0;31m# output array for tus_keep_multihit_LED, erg_keep_multihit_LED, multihit_indx_LED må modifiseres\u001b[0m\u001b[0;34m\u001b[0m\u001b[0;34m\u001b[0m\u001b[0m\n\u001b[1;32m      3\u001b[0m \u001b[0;34m\u001b[0m\u001b[0m\n\u001b[0;32m----> 4\u001b[0;31m     \u001b[0mos\u001b[0m\u001b[0;34m.\u001b[0m\u001b[0mmkdir\u001b[0m\u001b[0;34m(\u001b[0m\u001b[0;34m\"/Users/andreas/phys/master/MATLAB/output/output_plots/{}\"\u001b[0m\u001b[0;34m.\u001b[0m\u001b[0mformat\u001b[0m\u001b[0;34m(\u001b[0m\u001b[0mfilename\u001b[0m\u001b[0;34m)\u001b[0m\u001b[0;34m)\u001b[0m\u001b[0;34m\u001b[0m\u001b[0m\n\u001b[0m\u001b[1;32m      5\u001b[0m \u001b[0;34m\u001b[0m\u001b[0m\n\u001b[1;32m      6\u001b[0m     \u001b[0mtus_LED\u001b[0m\u001b[0;34m,\u001b[0m \u001b[0merg_LED\u001b[0m\u001b[0;34m,\u001b[0m \u001b[0menergy_keV_LED\u001b[0m\u001b[0;34m,\u001b[0m \u001b[0mtus_keep_multihit_LED\u001b[0m\u001b[0;34m,\u001b[0m \u001b[0merg_keep_multihit_LED\u001b[0m\u001b[0;34m,\u001b[0m \u001b[0mmultihit_indx_LED\u001b[0m \u001b[0;34m=\u001b[0m \u001b[0mread_matlab_file_with_CZT_data\u001b[0m\u001b[0;34m(\u001b[0m\u001b[0;34m\"2019.Sep.03_18.51.57.085569_Fulltrigger\"\u001b[0m\u001b[0;34m)\u001b[0m\u001b[0;34m\u001b[0m\u001b[0m\n",
      "\u001b[0;31mFileExistsError\u001b[0m: [Errno 17] File exists: '/Users/andreas/phys/master/MATLAB/output/output_plots/2018_08_09_13_11_58'"
     ]
    }
   ],
   "source": [
    "def main(filename):\n",
    "    # output array for tus_keep_multihit_LED, erg_keep_multihit_LED, multihit_indx_LED må modifiseres\n",
    "\n",
    "    os.mkdir(\"/Users/andreas/phys/master/MATLAB/output/output_plots/{}\".format(filename))\n",
    "    \n",
    "    tus_LED, erg_LED, energy_keV_LED, tus_keep_multihit_LED, erg_keep_multihit_LED, multihit_indx_LED = read_matlab_file_with_CZT_data(\"2019.Sep.03_18.51.57.085569_Fulltrigger\")\n",
    "\n",
    "    tus_HED, erg_HED, typ_HED, adr_HED, dau_HED, det_HED, DetCol_HED = read_matlab_file_with_BGO_data(filename)\n",
    "\n",
    "\n",
    "    fig0,(ax0, ax1) =  plt.subplots(2,1, figsize=(8,8), sharex=True, sharey=False)\n",
    "    ax0.set_title(\"HED\")\n",
    "\n",
    "    ax0.scatter(tus_HED, erg_HED)\n",
    "    ax0.set_xlabel(\"time [us]\")\n",
    "    ax0.set_ylabel(\"Energy channel\")\n",
    "\n",
    "    binsize = 10000 # us --> 10 ms bin\n",
    "    ax1.hist(tus_HED, bins=np.arange(min(tus_HED), max(tus_HED)+binsize, binsize))\n",
    "    ax1.set_xlabel(\"time [us]\")\n",
    "    ax1.set_ylabel(\"Counts per bin\")\n",
    "    \n",
    "    plt.savefig(\"/Users/andreas/phys/master/MATLAB/output/output_plots/{}/{}_HED\".format(filename,filename))\n",
    "\n",
    "\n",
    "    fig0,(ax0, ax1) =  plt.subplots(2,1, figsize=(8,8), sharex=True, sharey=False)\n",
    "    ax0.set_title(\"LED\")\n",
    "    ax0.scatter(tus_LED, energy_keV_LED)\n",
    "    ax0.set_xlabel(\"time [us]\")\n",
    "    ax0.set_ylabel(\"Energy [keV]\")\n",
    "\n",
    "    binsize = 10000 # us --> 10 ms bin\n",
    "    ax1.hist(tus_LED, bins=np.arange(min(tus_LED), max(tus_LED)+binsize, binsize))\n",
    "    ax1.set_xlabel(\"time [us]\")\n",
    "    ax1.set_ylabel(\"Counts per bin\")\n",
    "\n",
    "    plt.savefig(\"/Users/andreas/phys/master/MATLAB/output/output_plots/{}/{}_LED\".format(filename,filename))\n",
    "    plt.show()\n",
    "    \n",
    "\n",
    "main(\"2018_08_09_13_11_58\")"
   ]
  }
 ],
 "metadata": {
  "kernelspec": {
   "display_name": "Python 3",
   "language": "python",
   "name": "python3"
  },
  "language_info": {
   "codemirror_mode": {
    "name": "ipython",
    "version": 3
   },
   "file_extension": ".py",
   "mimetype": "text/x-python",
   "name": "python",
   "nbconvert_exporter": "python",
   "pygments_lexer": "ipython3",
   "version": "3.7.0"
  },
  "toc": {
   "base_numbering": 1,
   "nav_menu": {},
   "number_sections": true,
   "sideBar": true,
   "skip_h1_title": false,
   "title_cell": "Table of Contents",
   "title_sidebar": "Contents",
   "toc_cell": false,
   "toc_position": {},
   "toc_section_display": true,
   "toc_window_display": false
  },
  "varInspector": {
   "cols": {
    "lenName": 16,
    "lenType": 16,
    "lenVar": 40
   },
   "kernels_config": {
    "python": {
     "delete_cmd_postfix": "",
     "delete_cmd_prefix": "del ",
     "library": "var_list.py",
     "varRefreshCmd": "print(var_dic_list())"
    },
    "r": {
     "delete_cmd_postfix": ") ",
     "delete_cmd_prefix": "rm(",
     "library": "var_list.r",
     "varRefreshCmd": "cat(var_dic_list()) "
    }
   },
   "types_to_exclude": [
    "module",
    "function",
    "builtin_function_or_method",
    "instance",
    "_Feature"
   ],
   "window_display": false
  }
 },
 "nbformat": 4,
 "nbformat_minor": 5
}
