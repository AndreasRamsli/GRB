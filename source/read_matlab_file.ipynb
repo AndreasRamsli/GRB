{
 "cells": [
  {
   "cell_type": "markdown",
   "id": "empirical-carolina",
   "metadata": {},
   "source": [
    "# Imports"
   ]
  },
  {
   "cell_type": "code",
   "execution_count": 89,
   "id": "finite-outdoors",
   "metadata": {},
   "outputs": [],
   "source": [
    "import numpy as np\n",
    "import matplotlib.pyplot as plt\n",
    "import scipy.io\n",
    "import scipy\n",
    "import os\n",
    "import glob\n",
    "import pandas as pd\n",
    "import math\n",
    "import sys\n",
    "plt.rcdefaults() #Setting default color of output plots\n",
    "# For interactive plots\n",
    "\n",
    "plt.rcParams.update({'figure.max_open_warning': 0})"
   ]
  },
  {
   "cell_type": "markdown",
   "id": "cc60308d-b2bc-440b-b125-b8a463fedcfe",
   "metadata": {},
   "source": [
    "# TODO:\n",
    "   1) Correct concatination of multiple files \n",
    "   2) Use GRBID as input in plotting function, not filename. Don't need this right now tho. FOR LED AND HED\n",
    "   3) Redo all the plots ..."
   ]
  },
  {
   "cell_type": "markdown",
   "id": "807afc27",
   "metadata": {},
   "source": [
    "# Paths"
   ]
  },
  {
   "cell_type": "code",
   "execution_count": 10,
   "id": "expected-classroom",
   "metadata": {},
   "outputs": [],
   "source": [
    "path_HED = \"/Home/siv30/wad005/master/GRB/MATLAB/output/file_mat_TGF/\"\n",
    "path_LED = \"/Home/siv30/wad005/master/GRB/MATLAB/CZT_calibration/file_mat_CZT_TGF/\"\n",
    "#path_HED = \"/Users/andreas/phys/master/GRB/MATLAB/output/file_mat_TGF\"\n",
    "#path_LED = \"/Users/andreas/phys/master/GRB/MATLAB/CZT_calibration/file_mat_CZT_TGF\""
   ]
  },
  {
   "cell_type": "markdown",
   "id": "82cdb8bf",
   "metadata": {},
   "source": [
    "# Dict creation"
   ]
  },
  {
   "cell_type": "code",
   "execution_count": 3,
   "id": "mathematical-alexandria",
   "metadata": {},
   "outputs": [],
   "source": [
    "#make a dictionary out of the manual trigger_ID list\n",
    "triggers_data = pd.read_csv(\"trigger_ID.csv\") #Manually created csv file that contains the GRB IDs, LED and HED filenames\n",
    "GRB = triggers_data[\"GRB\"].values\n",
    "LED = triggers_data[\"LED\"].values\n",
    "HED = triggers_data[\"HED\"].values\n",
    "#Should be an easier way to sort the DF into an dict. Maybe transposing the DF\n",
    "def create_triggers_dict():\n",
    "    \"\"\"\n",
    "    trig_dict stores the GRB ID and LED/HED filenames.\n",
    "    Key in dictionary is GRB id. Filenames are stored as tuple <LED,HED>\n",
    "    return: trig_dict\n",
    "    \"\"\"\n",
    "    trig_dict ={}\n",
    "    \n",
    "    try:\n",
    "        if len(LED) & len(HED) != len(GRB):\n",
    "            raise IndexError(\"Arrays not the same length. Check GRB,LED and HED\")\n",
    "        else:\n",
    "            for i in np.arange(0,len(GRB)):\n",
    "                GRB_name = GRB[i]\n",
    "                LED_id = LED[i]\n",
    "                HED_id = HED[i]\n",
    "                trig_dict[GRB_name] = LED_id,HED_id\n",
    "            return trig_dict\n",
    "    except:\n",
    "        raise"
   ]
  },
  {
   "cell_type": "code",
   "execution_count": 200,
   "id": "28fb3ae6",
   "metadata": {},
   "outputs": [],
   "source": [
    "trig_dict_HED = {\"GRB180720\":[\"2018_07_20_14_21_48\",\"2018_07_20_14_21_51\",\"2018_07_20_14_21_56\",\"2018_07_20_14_21_57\",\"2018_07_20_14_22_09\"],\n",
    "                 \"GRB181222\":[\"2018_12_22_20_11_36\"],\n",
    "                 \"GRB190206\":[\"2019_02_06_03_49_28\"],\n",
    "                 \"GRB190305\":[\"2019_03_05_13_05_19\"],\n",
    "                 \"GRB190501\":[\"2019_05_01_05_23_22\"],\n",
    "                 \"GRB190606\":[\"2019_06_06_01_55_07\"],\n",
    "                 \"GRB190615\":[\"2019_06_15_14_42_21\"],\n",
    "                 \"GRB190813\":[\"2019_08_13_12_00_49\"],\n",
    "                 \"GRB190825\":[\"2019_08_25_21_04_53\",\"2019_08_25_21_04_55\"],\n",
    "                 \"GRB190829\":[\"2019_08_29_19_56_40\"],\n",
    "                 \"GRB190906\":[\"2019_09_06_01_04_51\"],\n",
    "                 \"GRB191001\":[\"2019_10_01_06_41_52\"],\n",
    "                 \"GRB200412\":[],# long list\n",
    "                 \"GRB200521\":[\"2020_05_21_12_16_39\"],\n",
    "                 \"GRB200716\":[\"2020_07_16_22_57_40\"],\n",
    "                 \"GRB200925\":[\"2020_09_25_21_50_31\"],\n",
    "                 \"GRB201227\":[\"2020_12_27_15_14_06\"]\n",
    "                \n",
    "                \n",
    "                \n",
    "                }"
   ]
  },
  {
   "cell_type": "code",
   "execution_count": 203,
   "id": "204e9aa8-605d-4b72-837e-1261928ff7e5",
   "metadata": {},
   "outputs": [],
   "source": [
    "trig_dict_LED = {\"GRB181227\":[\"2018_12_27_06_17_04.210500_Fulltrigger\",\"2018_12_27_06_17_09.775992_Fulltrigger\",\"2018_12_27_06_17_10.800851_Fulltrigger\"],\n",
    "                \"GRB190117\":[\"2019.01.17_08.50.42.939689_Fulltrigger\"],\n",
    "                 \"GRB190420\":[\"2019.04.20_23.32.24.931211_Fulltrigger\"],\n",
    "                 \"GRB190501\":[\"2019.05.01_05.23.21.736797_Fulltrigger\"],\n",
    "                 \"GRB190615\":[\"2019.06.15_14.42.22.741579_Fulltrigger\"],\n",
    "                 \"GRB190628\":[\"2019.06.28_04.23.32.512290_Fulltrigger\"],\n",
    "                 \"GRB190813\":[\"2019.08.13_12.00.48.801260_Fulltrigger\"],\n",
    "                 \"GRB190825\":[\"2019.08.25_21.04.54.439617_Fulltrigger\",\"2019.08.25_21.04.56.395859_Fulltrigger\"],\n",
    "                 \"GRB190906\":[\"2019.09.06_01.04.52.014004_Fulltrigger\"],\n",
    "                 \"GRB191001\":[\"2019.10.01_06.41.51.631214_Fulltrigger\"],\n",
    "                 \n",
    "                 \n",
    "                 \n",
    "                }"
   ]
  },
  {
   "cell_type": "markdown",
   "id": "aa41034e",
   "metadata": {},
   "source": [
    "# Functions for handling matlab files"
   ]
  },
  {
   "cell_type": "code",
   "execution_count": 132,
   "id": "improved-architect",
   "metadata": {},
   "outputs": [],
   "source": [
    "def read_matlab_file_with_CZT_data(filename):\n",
    "    '''Read matlab file with ASIM CZT data from the low energy detector (LED)\n",
    "\n",
    "    tus: relative time in microseconds (excluded multihits)\n",
    "    erg: energy channel (excluded multihits)\n",
    "    energy_keV: energy in keV (excluded multihits)\n",
    "    tus_keep_multihit: relative time in microseconds (included multihits)\n",
    "    erg_keep_multihit: energy channel (included multihits)\n",
    "    multihit_indx: multihit index 0-4. 0->1 1->2// 0: tus=105, 1: tus=110,110 (two counts)\n",
    "    '''\n",
    "    mat = scipy.io.loadmat(path_LED + \"%s.mat\" % (filename))\n",
    "\n",
    "    #keV_spectra = mat['keV_spectra_total_fulltrigger']\n",
    "\n",
    "    # Included multihits. Important for light curves\n",
    "    tus_keep_multihit = np.array(mat['tus_keep_multihit_fulltrigger'])[:,0] # relative time in microseconds\n",
    "    erg_keep_multihit = np.array(mat['erg_keep_multihit_fulltrigger'])[0,:] # energy channel (unreliable for multi hits)\n",
    "    multihit_indx = np.array(mat['multihit_fulltrigger'])[0,:] # multihit index. How many multihits in count. (0=1 count, 1=2 counts, 2=3 counts...)\n",
    "    \n",
    "    # The multihits are removed as they don't have a reliable energy estimate\n",
    "    erg = np.array(mat['erg_fulltrigger'])[0,:] # energy channel of CZT pixel\n",
    "    tus = np.array(mat['tus_fulltrigger'])[:,0] # relative time in microseconds\n",
    "    energy_keV = np.array(mat['pixel_energy_fulltrigger']).flatten() # energy in keV of CZT pixel\n",
    "    \n",
    "    \n",
    "    #Logic that checks for array lengths\n",
    "    try:\n",
    "        length = len(tus_keep_multihit)\n",
    "        if any(len(lst) != length for lst in [erg_keep_multihit, multihit_indx]):\n",
    "        # at least one list has a different length\n",
    "            raise ValueError(\"Arrays have different lengths\")\n",
    "            \n",
    "        t_temp = []\n",
    "        erg_temp = []\n",
    "        \n",
    "        for index, i in enumerate(multihit_indx):\n",
    "            for j in np.arange(0,i+1): #adding i+1 times the tus_count\n",
    "                t_temp.append(tus_keep_multihit[index])\n",
    "                erg_temp.append(erg_keep_multihit[index])\n",
    "         \n",
    "        tus_keep_multihit_ntimes =  np.array(t_temp) #array of tus. Multihit index decides how many times the tus is appended\n",
    "        erg_keep_multihit_ntimes = np.array(erg_temp) #array of erg. Multihit index decides how many times the erg is appended\n",
    "        \n",
    "        return tus, erg, energy_keV, tus_keep_multihit_ntimes, erg_keep_multihit_ntimes, multihit_indx \n",
    "    \n",
    "    except ValueError as ve:\n",
    "        print(\"Function aborted because of: \" + str(ve))\n",
    "        print(\"Length of arrays: \")\n",
    "        for lst in [tus_keep_multihit, erg_keep_multihit, multihit_indx]:\n",
    "            print(len(lst))"
   ]
  },
  {
   "cell_type": "code",
   "execution_count": 109,
   "id": "fb08e8d7-010a-4584-a4d4-be3b3cb38e2a",
   "metadata": {},
   "outputs": [],
   "source": [
    "def read_matlab_file_with_BGO_data(matlabfilename):\n",
    "    '''Read matlab file with ASIM BGO data from the high energy detector (HED)\n",
    "\n",
    "    tus: relative times in microseconds.\n",
    "    erg: energy channel (needs to be calibrated to keV using calibration coeff from https://git.app.uib.no/ASIM-MXGS/IN-FLIGHT_CALIBRATION_BGO/-/tree/master/CALIBRATION_COEFS )\n",
    "    typ: normal (0), fast(1), valley (3), or overflow event (2 or 4 not )\n",
    "    adr: BGO address 1-12\n",
    "    dau: dau address 1-4\n",
    "    det: detector address 1-3\n",
    "    DetCol: RGB color\n",
    "    \n",
    "    - Kepping only normal (0) and fast (1) events\n",
    "    '''\n",
    "    matlabfile_TGF = path_HED + '%s.mat' % matlabfilename\n",
    "    \n",
    "    mat = scipy.io.loadmat(matlabfile_TGF)\n",
    "    \n",
    "    tus = mat['tus'].flatten()\n",
    "    erg = mat['erg'].flatten()\n",
    "    DetCol = mat['DetCol'] # Investigate this matrix\n",
    "    adr = mat['adr'].flatten()\n",
    "    dau = mat['dau'].flatten()\n",
    "    det = mat['det'].flatten()\n",
    "    typ = mat['typ'].flatten()\n",
    "    \n",
    "    date = mat['date'].flatten() #raw datetime\n",
    "    \n",
    "    \n",
    "    try:\n",
    "        length = len(tus)\n",
    "        if any(len(lst) != length for lst in [erg, typ, adr, dau, det]):\n",
    "        # at least one list has a different length\n",
    "            raise ValueError(\"Arrays have different lengths\")\n",
    "            \n",
    "        mask = np.where((typ != 0) & (typ != 1)) #finding indecies of vallays and overflow events\n",
    "        \n",
    "        # removing those indecies\n",
    "        tus = np.delete(tus,mask)\n",
    "        erg = np.delete(erg,mask)\n",
    "        adr = np.delete(adr,mask)\n",
    "        dau = np.delete(dau,mask)\n",
    "        det = np.delete(det,mask)\n",
    "        typ = np.delete(typ,mask)\n",
    "        \n",
    "        \n",
    "        return tus, erg, typ, adr, dau, det, DetCol, date\n",
    "    \n",
    "    except ValueError as ve:\n",
    "        print(\"Function aborted because of: \" + str(ve))\n",
    "        print(\"Length of arrays: \")\n",
    "        for lst in [tus,erg, typ, adr, dau, det]:\n",
    "            print(len(lst))"
   ]
  },
  {
   "cell_type": "markdown",
   "id": "9cca534c",
   "metadata": {},
   "source": [
    "# Plotting functions"
   ]
  },
  {
   "cell_type": "code",
   "execution_count": 209,
   "id": "3739a6c0-53f7-495a-88a4-efa6a7cb225d",
   "metadata": {},
   "outputs": [
    {
     "data": {
      "image/png": "[encoded data removed]",
      "text/plain": [
       "<Figure size 1200x800 with 1 Axes>"
      ]
     },
     "metadata": {},
     "output_type": "display_data"
    }
   ],
   "source": [
    "plot_HED(\"2019_10_01_06_41_52\", binsize = 16)"
   ]
  },
  {
   "cell_type": "code",
   "execution_count": 211,
   "id": "9a705961-3b08-4dcd-89d7-33ff050369b7",
   "metadata": {},
   "outputs": [
    {
     "data": {
      "image/png": "[encoded data removed]",
      "text/plain": [
       "<Figure size 1200x800 with 1 Axes>"
      ]
     },
     "metadata": {},
     "output_type": "display_data"
    }
   ],
   "source": [
    "plot_LED(\"2019.10.01_06.41.51.631214_Fulltrigger\",binsize=16)"
   ]
  },
  {
   "cell_type": "code",
   "execution_count": 187,
   "id": "2e962c5f",
   "metadata": {},
   "outputs": [],
   "source": [
    "def plot_LED(LED_filename, binsize=10,start_range =0, end_range=0):\n",
    "    tus_LED, erg_LED, energy_keV_LED, tus_keep_multihit_LED, erg_keep_multihit_LED, multihit_indx_LED = read_matlab_file_with_CZT_data(\n",
    "    LED_filename)\n",
    "\n",
    "    binsize = binsize*1e3 #converting to microseconds\n",
    "    start_range = start_range*1e3 #converting to microseconds\n",
    "    end_range = end_range*1e3\n",
    "    \n",
    "    fig0, ax1 = plt.subplots(\n",
    "        1, 1, figsize=(12, 8), sharex=True, sharey=False)\n",
    "    \n",
    "    ax1.hist(tus_keep_multihit_LED, bins=np.arange(\n",
    "        min(tus_keep_multihit_LED), max(tus_keep_multihit_LED) + binsize, binsize),edgecolor= \"black\", histtype=\"step\")\n",
    "    ax1.set_xlabel(\"time [us], binsize {} ms\".format((binsize / 1e3)))\n",
    "    ax1.set_ylabel(\"Counts per bin\")\n",
    "    ax1.set_title(\"GRB \" + LED_filename)\n",
    "    \n",
    "    if start_range and end_range != 0:\n",
    "        mean = get_mean(LED_filename,binsize,tus_LED, start_range, end_range)\n",
    "        ax1.axhline(y=mean, color=\"red\", label=\"Mean of bg: {} counts/bin \\n First range [{} - {}] s \\n 2nd: [{} - {}] s\".format(\n",
    "            np.round(mean,2), np.round(min(tus_LED)/1e6,3),start_range/1e6, end_range/1e6, np.round(max(tus_LED)/1e6,3)),linestyle='--')\n",
    "                                                                                                                              \n",
    "                                                                                                                          \n",
    "        ax1.legend()\n",
    "        plt.show()\n",
    "    else:\n",
    "        plt.show()\n",
    "        \n",
    "    #plt.savefig(output_dir + \"/{}_LED\".format(grb_id))\n",
    "\n",
    "    \n",
    "def plot_HED(HED_filename,binsize=10, start_GRB=0, end_GRB=0):\n",
    "    \n",
    "    \"\"\"Plotting data from HED.\n",
    "        If start and end value for the GRB is not given, the data is plotted normally,\n",
    "        - BINSIZE IS INITIALIZED AS MILLISECONDS\n",
    "        - start_GRB & end_GRB IS INITIALIZED AS MILLISECONDS 0.5 s = 500 ms\n",
    "        - tus_HED is given in microseconds\n",
    "    \"\"\"\n",
    "    \n",
    "    binsize = binsize*1e3 #converting to microseconds\\n\",\n",
    "    \n",
    "    start_GRB = start_GRB*1e3 #converting to microseconds\\n\",\n",
    "    end_GRB = end_GRB*1e3,\n",
    "\n",
    "    tus_HED, erg_HED, typ_HED, adr_HED, dau_HED, det_HED, DetCol_HED, date = read_matlab_file_with_BGO_data(HED_filename)\n",
    "    \n",
    "    fig0, ax1 = plt.subplots(\n",
    "        1, 1, figsize=(12, 8), sharex=True, sharey=False)\n",
    "    ax1.hist(tus_HED, bins=np.arange(\n",
    "        min(tus_HED), max(tus_HED) + binsize, binsize),edgecolor= \"black\", histtype=\"step\")\n",
    "    \n",
    "    ax1.set_xlabel(\"time [us], binsize {} ms\".format((binsize / 1e3)))\n",
    "    ax1.set_ylabel(\"Counts per bin\"),\n",
    "    ax1.set_title(\"GRB\" + HED_filename) #use dict to get id\n",
    "\n",
    "\n",
    "    if start_GRB and end_GRB != 0:\n",
    "        mean = get_mean(HED_filename,binsize,tus_HED, start_GRB, end_GRB)\n",
    "        ax1.axhline(y=mean, color=\"red\", label= \"Mean of bg: {} counts/bin \\n First range [{} - {}] s \\n 2nd: [{} - {}] s\".format(\n",
    "            np.round(mean,2), np.round(min(tus_HED)/1e6,3),start_GRB/1e6, end_GRB/1e6, np.round(max(tus_HED)/1e6,3)),linestyle='--'),\n",
    "        ax1.legend()\n",
    "        plt.show(),\n",
    "    else:\n",
    "        plt.show()"
   ]
  },
  {
   "cell_type": "code",
   "execution_count": null,
   "id": "e7e11e87-56c1-45b4-a914-868cade107c3",
   "metadata": {},
   "outputs": [],
   "source": []
  },
  {
   "cell_type": "markdown",
   "id": "56edf6eb",
   "metadata": {},
   "source": [
    "# main function"
   ]
  },
  {
   "cell_type": "code",
   "execution_count": 8,
   "id": "framed-privilege",
   "metadata": {},
   "outputs": [
    {
     "ename": "SyntaxError",
     "evalue": "non-default argument follows default argument (2792431290.py, line 1)",
     "output_type": "error",
     "traceback": [
      "\u001b[0;36m  Input \u001b[0;32mIn [8]\u001b[0;36m\u001b[0m\n\u001b[0;31m    def main(grb_id,binsize=10000, start_GRB, end_GRB):  # filename GRB ID\u001b[0m\n\u001b[0m             ^\u001b[0m\n\u001b[0;31mSyntaxError\u001b[0m\u001b[0;31m:\u001b[0m non-default argument follows default argument\n"
     ]
    }
   ],
   "source": [
    "def main(grb_id,binsize=10000, start_GRB, end_GRB):  # filename GRB ID\n",
    "    # output array for tus_keep_multihit_LED, erg_keep_multihit_LED, multihit_indx_LED må modifiseres\n",
    "    # Automake by making filename a list of filenames. Then the all the outout plots will be created\n",
    "\n",
    "    # TODO:\n",
    "    # Add the extra parameters to make the get_mean work\n",
    "#os.mkdir(\"/Users/andreas/phys/master/MATLAB/pyplots\")\n",
    "    trig_dict = create_triggers_dict()\n",
    "    try:\n",
    "        output_dir = os.mkdir(\"/Home/siv30/wad005/master/GRB/MATLAB/pyplots/{}\".format(grb_id)) #Creating owd folder for grb_id\n",
    "    except FileExistsError:\n",
    "        output_dir = \"/Home/siv30/wad005//master/GRB/MATLAB/pyplots/{}\".format(grb_id) #selecting path if it already exists\n",
    "\n",
    "\n",
    "    if type(grb_id) != str:\n",
    "        raise TypeError(\"Input is not string\")\n",
    "    elif grb_id not in trig_dict:\n",
    "        raise LookupError(\"grb_id not in dictionary\")\n",
    "    else:\n",
    "        try:\n",
    "            LED_filename = trig_dict[grb_id][0]\n",
    "            HED_filename = trig_dict[grb_id][1]\n",
    "            if type(LED_filename) == float and math.isnan(LED_filename):\n",
    "                print(\"LED file not found. Plotting only HED\")\n",
    "                plot_HED(HED_filename,output_dir,grb_id) #output path is not required\n",
    "                \n",
    "            elif type(HED_filename) == float and math.isnan(HED_filename):\n",
    "                print(\"HED file not found. Plotting only LED\")\n",
    "                plot_LED(LED_filename,output_dir,grb_id)\n",
    "            else:\n",
    "                plot_LED(LED_filename,output_dir,grb_id)\n",
    "                plot_HED(HED_filename,output_dir,grb_id)\n",
    "        except:\n",
    "            print(\"Something went wrong\")\n",
    "    \n",
    "    "
   ]
  },
  {
   "cell_type": "markdown",
   "id": "8c6ce83e-44c6-40a1-91fe-19351b250d71",
   "metadata": {},
   "source": [
    "# Plotting cont'd"
   ]
  },
  {
   "cell_type": "markdown",
   "id": "b8e7c6ed-d03c-42ba-8d92-07c5efdeda13",
   "metadata": {},
   "source": [
    "# Finding the background"
   ]
  },
  {
   "cell_type": "markdown",
   "id": "b13d22de-86fd-4b31-a1b3-617fe97d5cbf",
   "metadata": {},
   "source": [
    "- Background should be estimated for a \"smart\" region before the GRB --> a couple of samples in & a couple of samples before the GRB"
   ]
  },
  {
   "cell_type": "code",
   "execution_count": 126,
   "id": "d5b752da-d82c-4f38-ac27-b2bf3c3ae90e",
   "metadata": {},
   "outputs": [],
   "source": [
    "tus_HED, erg_HED, typ_HED, adr_HED, dau_HED, det_HED, DetCol_HED = read_matlab_file_with_BGO_data('2020_05_21_12_16_39')"
   ]
  },
  {
   "cell_type": "code",
   "execution_count": 5,
   "id": "b37e4681-9092-457f-b115-c0ac64e64bba",
   "metadata": {},
   "outputs": [],
   "source": [
    "# Rename start_GRB to start_range. Same for end_GRB\n",
    "\n",
    "def get_mean(matlab_filename, binsize, tus, start_GRB, end_GRB):\n",
    "    \n",
    "    \"\"\"Function for getting the mean from the background.\n",
    "    matlab_filename: <str> filename\n",
    "    binsize: <int> given in us // 5ms = 5000 us \n",
    "    start & end_GRB given in us.\n",
    "    -Finding ranges to compute the mean in each bin. \"\"\"\n",
    "    \n",
    "    tus = np.sort(tus)\n",
    "    range_1 =  find_closest(tus,start_GRB)\n",
    "    range_2 = find_closest(tus,end_GRB)\n",
    "    \n",
    "    range_1_counts = np.histogram(tus[:range_1], bins=np.arange(\n",
    "        min(tus[:range_1]), max(tus[:range_1]) + binsize, binsize))[0]\n",
    "    \n",
    "    range_2_counts = np.histogram(tus[range_2:], bins=np.arange(\n",
    "        min(tus[range_2:]), max(tus[range_2:]) + binsize, binsize))[0]\n",
    "    \n",
    "    background_data = np.append(range_1_counts,range_2_counts)\n",
    "    mean = np.mean(background_data)\n",
    "    return mean"
   ]
  },
  {
   "cell_type": "code",
   "execution_count": 146,
   "id": "6aa5d795-3aa8-4e4b-a07d-685006f3b6bd",
   "metadata": {},
   "outputs": [],
   "source": [
    "def find_closest(A, target):\n",
    "    #A must be sorted\n",
    "    idx = A.searchsorted(target)\n",
    "    idx = np.clip(idx, 1, len(A)-1)\n",
    "    left = A[idx-1]\n",
    "    right = A[idx]\n",
    "    idx -= target - left < right - target\n",
    "    return idx"
   ]
  },
  {
   "cell_type": "code",
   "execution_count": null,
   "id": "abb7705d-76ff-4d5f-bee5-3cad95ba9600",
   "metadata": {},
   "outputs": [],
   "source": []
  },
  {
   "cell_type": "code",
   "execution_count": null,
   "id": "83f1563c-905a-4ddb-88e2-4422ca18b21a",
   "metadata": {},
   "outputs": [],
   "source": []
  },
  {
   "cell_type": "code",
   "execution_count": null,
   "id": "b5360c3a-98d1-4bde-b077-b457adcd23a6",
   "metadata": {},
   "outputs": [],
   "source": []
  },
  {
   "cell_type": "code",
   "execution_count": null,
   "id": "8d6c1be6-4827-4657-881e-f7fa599cc682",
   "metadata": {},
   "outputs": [],
   "source": []
  },
  {
   "cell_type": "code",
   "execution_count": null,
   "id": "ec421626-8a35-4787-a041-986632c5a670",
   "metadata": {},
   "outputs": [],
   "source": []
  },
  {
   "cell_type": "markdown",
   "id": "5b3a1ad6-2ffd-44b5-9933-8e57e05fb32b",
   "metadata": {},
   "source": [
    "# Graveyards"
   ]
  },
  {
   "cell_type": "code",
   "execution_count": null,
   "id": "579e6a7c-1ff3-486e-a455-6a20a905e30b",
   "metadata": {},
   "outputs": [],
   "source": [
    "# Not in use\n",
    "def get_filenames(path):\n",
    "    return sorted((f for f in os.listdir(path) if not f.startswith(\".\")), key=str.lower)"
   ]
  },
  {
   "cell_type": "code",
   "execution_count": 181,
   "id": "31e55517-b7c0-464a-89b5-b9666d375cca",
   "metadata": {},
   "outputs": [
    {
     "data": {
      "text/plain": [
       "'\\ndef plot_HED(HED_filename, output_dir,grb_id):\\n    tus_HED, erg_HED, typ_HED, adr_HED, dau_HED, det_HED, DetCol_HED = read_matlab_file_with_BGO_data(HED_filename)\\n\\n    fig0, (ax0, ax1) = plt.subplots(\\n        2, 1, figsize=(8, 8), sharex=True, sharey=False)\\n    ax0.set_title(\"HED\")\\n\\n    ax0.scatter(tus_HED, erg_HED)\\n    ax0.set_xlabel(\"time [us]\")\\n    ax0.set_ylabel(\"Energy channel\")\\n\\n    binsize = 10000  # us --> 10 ms bin\\n    ax1.hist(tus_HED, bins=np.arange(\\n        min(tus_HED), max(tus_HED)+binsize, binsize))\\n    ax1.set_xlabel(\"time [us]\")\\n    ax1.set_ylabel(\"Counts per bin\")\\n    \\n    output_dir_hed = output_dir + \"/{}_HED\".format(grb_id)\\n    print(output_dir_hed)\\n    plt.savefig(output_dir + \"/{}_HED\".format(grb_id)) #path where plot is saved\\n'"
      ]
     },
     "execution_count": 181,
     "metadata": {},
     "output_type": "execute_result"
    }
   ],
   "source": [
    "#Old plot_HED function\n",
    "\"\"\"\n",
    "def plot_HED(HED_filename, output_dir,grb_id):\n",
    "    tus_HED, erg_HED, typ_HED, adr_HED, dau_HED, det_HED, DetCol_HED = read_matlab_file_with_BGO_data(HED_filename)\n",
    "\n",
    "    fig0, (ax0, ax1) = plt.subplots(\n",
    "        2, 1, figsize=(8, 8), sharex=True, sharey=False)\n",
    "    ax0.set_title(\"HED\")\n",
    "\n",
    "    ax0.scatter(tus_HED, erg_HED)\n",
    "    ax0.set_xlabel(\"time [us]\")\n",
    "    ax0.set_ylabel(\"Energy channel\")\n",
    "\n",
    "    binsize = 10000  # us --> 10 ms bin\n",
    "    ax1.hist(tus_HED, bins=np.arange(\n",
    "        min(tus_HED), max(tus_HED)+binsize, binsize))\n",
    "    ax1.set_xlabel(\"time [us]\")\n",
    "    ax1.set_ylabel(\"Counts per bin\")\n",
    "    \n",
    "    output_dir_hed = output_dir + \"/{}_HED\".format(grb_id)\n",
    "    print(output_dir_hed)\n",
    "    plt.savefig(output_dir + \"/{}_HED\".format(grb_id)) #path where plot is saved\n",
    "\"\"\""
   ]
  }
 ],
 "metadata": {
  "kernelspec": {
   "display_name": "Python 3 (ipykernel)",
   "language": "python",
   "name": "python3"
  },
  "language_info": {
   "codemirror_mode": {
    "name": "ipython",
    "version": 3
   },
   "file_extension": ".py",
   "mimetype": "text/x-python",
   "name": "python",
   "nbconvert_exporter": "python",
   "pygments_lexer": "ipython3",
   "version": "3.8.10"
  },
  "toc": {
   "base_numbering": 1,
   "nav_menu": {},
   "number_sections": true,
   "sideBar": true,
   "skip_h1_title": false,
   "title_cell": "Table of Contents",
   "title_sidebar": "Contents",
   "toc_cell": false,
   "toc_position": {},
   "toc_section_display": true,
   "toc_window_display": false
  },
  "varInspector": {
   "cols": {
    "lenName": 16,
    "lenType": 16,
    "lenVar": 40
   },
   "kernels_config": {
    "python": {
     "delete_cmd_postfix": "",
     "delete_cmd_prefix": "del ",
     "library": "var_list.py",
     "varRefreshCmd": "print(var_dic_list())"
    },
    "r": {
     "delete_cmd_postfix": ") ",
     "delete_cmd_prefix": "rm(",
     "library": "var_list.r",
     "varRefreshCmd": "cat(var_dic_list()) "
    }
   },
   "types_to_exclude": [
    "module",
    "function",
    "builtin_function_or_method",
    "instance",
    "_Feature"
   ],
   "window_display": false
  }
 },
 "nbformat": 4,
 "nbformat_minor": 5
}
