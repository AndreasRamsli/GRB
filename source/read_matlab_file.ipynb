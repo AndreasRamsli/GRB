{
 "cells": [
  {
   "cell_type": "markdown",
   "id": "empirical-carolina",
   "metadata": {},
   "source": [
    "# Imports"
   ]
  },
  {
   "cell_type": "code",
   "execution_count": 1,
   "id": "finite-outdoors",
   "metadata": {},
   "outputs": [],
   "source": [
    "import numpy as np\n",
    "import matplotlib.pyplot as plt\n",
    "import scipy.io\n",
    "import scipy as sp\n",
    "import os\n",
    "import glob\n",
    "import pandas as pd\n",
    "from datetime import datetime, timedelta\n",
    "import collections\n",
    "import matplotlib.cm as cm\n",
    "#plt.rcdefaults() #Setting default color of output plots. No need in jupyter lab. Only for notebook with dark theme\n",
    "# For interactive plots\n",
    "\n",
    "plt.rcParams.update({'figure.max_open_warning': 0})\n",
    "%matplotlib widget"
   ]
  },
  {
   "cell_type": "markdown",
   "id": "cc60308d-b2bc-440b-b125-b8a463fedcfe",
   "metadata": {},
   "source": [
    "# TODO:\n",
    "   1) Redo all the plots ... export\n",
    "   2) There might be some triggers in HED, where i havent extracted the LED file"
   ]
  },
  {
   "cell_type": "markdown",
   "id": "807afc27",
   "metadata": {},
   "source": [
    "# Paths"
   ]
  },
  {
   "cell_type": "code",
   "execution_count": 2,
   "id": "expected-classroom",
   "metadata": {},
   "outputs": [],
   "source": [
    "path_HED = \"/Home/siv30/wad005/master/GRB/MATLAB/output/file_mat_TGF/\"              #UiB\n",
    "path_LED = \"/Home/siv30/wad005/master/GRB/MATLAB/CZT_calibration/file_mat_CZT_TGF/\" #UiB\n",
    "#path_HED = \"/Users/andreas/phys/master/GRB/MATLAB/output/file_mat_TGF/\"               #MAC\n",
    "#path_LED = \"/Users/andreas/phys/master/GRB/MATLAB/CZT_calibration/file_mat_CZT_TGF/\"  #MAC"
   ]
  },
  {
   "cell_type": "markdown",
   "id": "82cdb8bf",
   "metadata": {},
   "source": [
    "# Dict creation"
   ]
  },
  {
   "cell_type": "code",
   "execution_count": 86,
   "id": "c03328c3-88fe-4a57-a912-9856e8085304",
   "metadata": {},
   "outputs": [],
   "source": [
    "#indecies that have not been checked in icecube list: 20, 22, 24, 25, onwards"
   ]
  },
  {
   "cell_type": "code",
   "execution_count": 130,
   "id": "f2d83176-02f1-40fa-9dad-c92bfd92b1ca",
   "metadata": {},
   "outputs": [],
   "source": [
    "trig_dict_HED = {\"GRB180720\":[\"2018_07_20_14_21_48\",\"2018_07_20_14_21_51\",\"2018_07_20_14_21_56\",\"2018_07_20_14_21_57\",\"2018_07_20_14_22_09\"],\n",
    "                 \"GRB180807\":[\"2018_08_07_02_19_37\"],\n",
    "                 \"GRB181103\":[\"2018_11_03_04_22_33\"],\n",
    "                 \"GRB181222\":[\"2018_12_22_20_11_36\"],\n",
    "                 \"GRB190206\":[\"2019_02_06_03_49_28\"],\n",
    "                 \"GRB190305\":[\"2019_03_05_13_05_19\"],\n",
    "                 \"GRB190320\":[\"2019_03_20_01_14_06\"],\n",
    "                 \"GRB190404\":[\"2019_04_04_07_01_05\"],\n",
    "                 \"GRB190501\":[\"2019_05_01_05_23_22\"],\n",
    "                 \"GRB190606\":[\"2019_06_06_01_55_07\"],\n",
    "                 \"GRB190615\":[\"2019_06_15_14_42_21\"],\n",
    "                 \"GRB190706\":[\"2019_07_06_12_40_43\"],\n",
    "                 \"GRB190813\":[\"2019_08_13_12_00_49\"],\n",
    "                 \"GRB190825\":[\"2019_08_25_21_04_55\",\"2019_08_25_21_04_53\"], \n",
    "                 \"GRB190829\":[\"2019_08_29_19_56_40\"],\n",
    "                 \"GRB190906\":[\"2019_09_06_01_04_51\"],\n",
    "                 \"GRB191001\":[\"2019_10_01_06_41_52\"],\n",
    "                 \"GRB191004\":[\"2019_10_04_18_07_03\"],\n",
    "                 \"GRB191119\":[\"2019_11_19_10_41_06\"],\n",
    "                 \"GRB191221\":[\"2019_12_21_20_39_10\",\"2019_12_21_20_39_11\",\"2019_12_21_20_39_12\",\"2019_12_21_20_39_13\",\"2019_12_21_20_39_15\"],\n",
    "                 \"GRB191227\":[\"2019_12_27_17_21_45\"], #Also triggered 5 seconds after. filname: \"2019_12_27_17_21_49\"\n",
    "                 \"GRB200111\":[\"2020_01_11_15_11_12\"],\n",
    "                 \"GRB200224\":[\"2020_02_24_09_58_44\"],\n",
    "                 \"GRB200415\":[\"2020_04_15_08_48_05\"],\n",
    "                 \"GRB200412\":[\"2020_04_12_06_57_13\", \"2020_04_12_06_57_15\", \"2020_04_12_06_57_16\", \"2020_04_12_06_57_17\", \"2020_04_12_06_57_18\", \"2020_04_12_06_57_20\",\n",
    "                             \"2020_04_12_06_57_21\", \"2020_04_12_06_57_22\", \"2020_04_12_06_57_23\", \"2020_04_12_06_57_24\", \"2020_04_12_06_57_25\"] ,# long grb\n",
    "                 \"GRB200423\":[\"2020_04_23_13_54_06\"],\n",
    "                 \"GRB200521\":[\"2020_05_21_12_16_39\"],\n",
    "                 \"GRB200525\":[\"2020_05_25_14_40_22\"],\n",
    "                 \"GRB200605\":[\"2020_06_05_18_17_42\"],\n",
    "                 \"GRB200716\":[\"2020_07_16_22_57_40\"],\n",
    "                 \"GRB200812\":[\"2020_08_12_11_55_23\",\"2020_08_12_11_55_25\"],\n",
    "                 \"GRB200925\":[\"2020_09_25_21_50_31\"],\n",
    "                 \"GRB200907\":[\"2020_09_07_18_51_20\"],\n",
    "                 \"GRB200915\":[\"2020_09_15_03_27_06\"],\n",
    "                 \"GRB200923\":[\"2020_09_25_21_50_31\"],\n",
    "                 \"GRB201223\":[\"2020_12_23_17_58_10\"],\n",
    "                 \"GRB210102\":[\"2021_01_02_20_38_02\",\"2021_01_02_20_38_07\"],\n",
    "                 \"GRB210411\":[\"2021_04_11_13_32_30\"],\n",
    "                 \"GRB210424\":[\"2021_04_24_08_01_55\"],\n",
    "                 \"GRB210607\":[\"2021_06_07_21_39_20\",\"2021_06_07_21_39_21\",\"2021_06_07_21_39_22\"],\n",
    "                 \"GRB210701\":['2021_07_01_20_01_00'],\n",
    "                 \"GRB210702\":['2021_07_02_19_07_09','2021_07_02_19_07_10','2021_07_02_19_07_12'],\n",
    "                 \"GRB210724\":[\"2021_07_24_20_14_03\"],\n",
    "                 \"GRB201109\":[\"2020_11_09_02_31_08\"],\n",
    "                 \"GRB210903\":[\"2021_09_03_17_26_58\"],\n",
    "                 \"GRB211118\":[\"2021_11_18_23_38_04\"],\n",
    "                 \"GRB211211\":[\"2021_12_11_13_10_01\",\"2021_12_11_13_10_02\",\"2021_12_11_13_10_05\",\"2021_12_11_13_10_06\",\"2021_12_11_13_10_15\",\"2021_12_11_13_10_17\",\n",
    "                              \"2021_12_11_13_10_18\",\"2021_12_11_13_10_19\"],\n",
    "                 \"GRB201227\":['2020_12_27_15_14_06']\n",
    "                 }\n",
    "trig_dict_HED = collections.OrderedDict(sorted(trig_dict_HED.items())) #Sorting the keys in decending order. Now trig_dict_HED is an OderedDict type\n",
    "\n",
    "for key in trig_dict_HED.keys():\n",
    "    trig_dict_HED[key].sort() #sorting files in increasing order"
   ]
  },
  {
   "cell_type": "code",
   "execution_count": 131,
   "id": "204e9aa8-605d-4b72-837e-1261928ff7e5",
   "metadata": {},
   "outputs": [],
   "source": [
    "trig_dict_LED = {\"GRB181227\":[\"2018.12.27_06.17.04.210500_Fulltrigger\",\"2018_12_27_06_17_09.775992_Fulltrigger\",\"2018_12_27_06_17_10.800851_Fulltrigger\"],\n",
    "                 \"GRB181103\":[\"2018.11.03_04.22.34.566125_Fulltrigger\"],\n",
    "                 \"GRB190117\":[\"2019.01.17_08.50.42.939689_Fulltrigger\"],\n",
    "                 \"GRB190404\":['2019.04.04_07.01.06.584820_Fulltrigger'],\n",
    "                 \"GRB190420\":[\"2019.04.20_23.32.24.931211_Fulltrigger\"],\n",
    "                 \"GRB190501\":[\"2019.05.01_05.23.21.736797_Fulltrigger\"],\n",
    "                 \"GRB190615\":[\"2019.06.15_14.42.22.741579_Fulltrigger\"],\n",
    "                 \"GRB190628\":[\"2019.06.28_04.23.32.512290_Fulltrigger\"],\n",
    "                 \"GRB190813\":[\"2019.08.13_12.00.48.801260_Fulltrigger\"],\n",
    "                 \"GRB190825\":[\"2019.08.25_21.04.54.439617_Fulltrigger\",\"2019.08.25_21.04.56.395859_Fulltrigger\"],\n",
    "                 \"GRB190906\":[\"2019.09.06_01.04.52.014004_Fulltrigger\"],\n",
    "                 \"GRB191001\":[\"2019.10.01_06.41.51.631214_Fulltrigger\"],\n",
    "                 \"GRB191004\":[\"2019.10.04_18.07.03.402478_Fulltrigger\"],\n",
    "                 \"GRB191119\":[\"2019.11.19_10.41.05.239944_Fulltrigger\"],\n",
    "                 \"GRB191221\":[\"2019.12.21_20.39.11.939846_Fulltrigger\",\"2019.12.21_20.39.12.939997_Fulltrigger\",\"2019.12.21_20.39.13.940233_Fulltrigger\",\n",
    "                              \"2019.12.21_20.39.15.106045_Fulltrigger\",\"2019.12.21_20.39.17.252498_Fulltrigger\"],\n",
    "                 \"GRB191227\":[\"2019.12.27_17.21.45.549390_Fulltrigger\"], # Also triggered 5 sec after. filename: \"2019.12.27_17.21.50.236046_Fulltrigger\"\n",
    "                 \"GRB200111\":[\"2020.01.11_15.11.13.187473_Fulltrigger\"],\n",
    "                 \"GRB200122\":[\"2020.01.22_05.18.10.228382_Fulltrigger\"],\n",
    "                 \"GRB200224\":[\"2020.02.24_09.58.44.448334_Fulltrigger\"],\n",
    "                 \"GRB200412\":[\"2020.04.12_06.57.15.879304_Fulltrigger\", \"2020.04.12_06.57.16.879531_Fulltrigger\", \"2020.04.12_06.57.17.879742_Fulltrigger\",\n",
    "                             \"2020.04.12_06.57.18.880468_Fulltrigger\"],\n",
    "                 \"GRB200415\":[\"2020.04.15_08.48.05.470385_Fulltrigger\"], #Giant magetar flare\n",
    "                 \"GRB200423\":[\"2020.04.23_13.54.06.572991_Fulltrigger\"],\n",
    "                 \"GRB200525\":[\"2020.05.25_14.40.22.951437_Fulltrigger\"],\n",
    "                 \"GRB200605\":[\"2020.06.05_18.17.42.165859_Fulltrigger\"],\n",
    "                 \"GRB200812\":[\"2020.08.12_11.55.24.308429_Fulltrigger\",\"2020.08.12_11.55.26.144703_Fulltrigger\"],\n",
    "                 \"GRB200903\":[\"2020.09.03_21.38.50.495317_Fulltrigger\"],\n",
    "                 \"GRB200907\":[\"2020.09.07_18.51.20.724118_Fulltrigger\"],\n",
    "                 \"GRB200915\":[\"2020.09.15_03.27.06.777086_Fulltrigger\"],\n",
    "                 \"GRB200923\":[\"2020.09.23_17.57.42.645020_Fulltrigger\"],\n",
    "                 \"GRB201109\":[\"2020.11.09_02.31.09.400868_Fulltrigger\"],\n",
    "                 \"GRB210102\":[\"2021.01.02_20.38.02.245585_Fulltrigger\",\"2021.01.02_20.38.07.079069_Fulltrigger\"],\n",
    "                 \"GRB210424\":[\"2021.04.24_08.01.55.875520_Fulltrigger\"],\n",
    "                 \"GRB210607\":[\"2021.06.07_21.39.21.187641_Fulltrigger\",\"2021.06.07_21.39.22.204550_Fulltrigger\",\"2021.06.07_21.39.23.317169_Fulltrigger\"],\n",
    "                 \n",
    "                }\n",
    "trig_dict_LED = collections.OrderedDict(sorted(trig_dict_LED.items())) #Sorting the keys in decending order. Now trig_dict_HED is an OderedDict type\n",
    "\n",
    "for key in trig_dict_LED.keys():\n",
    "    trig_dict_LED[key].sort() #sorting files in increasing order"
   ]
  },
  {
   "cell_type": "markdown",
   "id": "aa41034e",
   "metadata": {},
   "source": [
    "# Functions for handling matlab files"
   ]
  },
  {
   "cell_type": "markdown",
   "id": "2c851e4b-d4a2-4e53-b83f-7a0bd4c475ea",
   "metadata": {},
   "source": [
    "## CZT function"
   ]
  },
  {
   "cell_type": "code",
   "execution_count": 5,
   "id": "improved-architect",
   "metadata": {},
   "outputs": [],
   "source": [
    "def read_matlab_file_with_CZT_data(filename):\n",
    "    '''Read matlab file with ASIM CZT data from the low energy detector (LED)\n",
    "\n",
    "    tus: relative time in microseconds (excluded multihits)\n",
    "    erg: energy channel (excluded multihits)\n",
    "    energy_keV: energy in keV (excluded multihits)\n",
    "    tus_keep_multihit: relative time in microseconds (included multihits)\n",
    "    erg_keep_multihit: energy channel (included multihits)\n",
    "    multihit_indx: multihit index 0-4. 0->1 1->2// 0: tus=105, 1: tus=110,110 (two counts)\n",
    "    '''\n",
    "    mat = scipy.io.loadmat(path_LED + \"%s.mat\" % (filename))\n",
    "\n",
    "    #keV_spectra = mat['keV_spectra_total_fulltrigger']\n",
    "\n",
    "    # Included multihits. Important for light curves\n",
    "    tus_keep_multihit = np.array(mat['tus_keep_multihit_fulltrigger'])[:,0] # relative time in microseconds\n",
    "    erg_keep_multihit = np.array(mat['erg_keep_multihit_fulltrigger'])[0,:] # energy channel (unreliable for multi hits)\n",
    "    multihit_indx = np.array(mat['multihit_fulltrigger'])[0,:] # multihit index. How many multihits in count. (0=1 count, 1=2 counts, 2=3 counts...)\n",
    "    \n",
    "    # The multihits are removed as they don't have a reliable energy estimate\n",
    "    erg = np.array(mat['erg_fulltrigger'])[0,:] # energy channel of CZT pixel\n",
    "    tus = np.array(mat['tus_fulltrigger'])[:,0] # relative time in microseconds\n",
    "    energy_keV = np.array(mat['pixel_energy_fulltrigger']).flatten() # energy in keV of CZT pixel\n",
    "    date = mat['T_ref_char'][0] #raw datetime as string\n",
    "    \n",
    "    #Logic that checks for array lengths\n",
    "    try:\n",
    "        length = len(tus_keep_multihit)\n",
    "        if any(len(lst) != length for lst in [erg_keep_multihit, multihit_indx]):\n",
    "        # at least one list has a different length\n",
    "            raise ValueError(\"Arrays have different lengths\")\n",
    "            \n",
    "        t_temp = []\n",
    "        erg_temp = []\n",
    "        energy_keV_temp = []\n",
    "        \n",
    "        for index, i in enumerate(multihit_indx):\n",
    "            for j in np.arange(0,i+1): #adding i+1 times the tus_count\n",
    "                t_temp.append(tus_keep_multihit[index])\n",
    "                erg_temp.append(erg_keep_multihit[index])\n",
    "\n",
    "         \n",
    "        tus_keep_multihit_ntimes =  np.array(t_temp) #array of tus. Multihit index decides how many times the tus is appended\n",
    "        erg_keep_multihit_ntimes = np.array(erg_temp) #array of erg. Multihit index decides how many times the erg is appended\n",
    "        \n",
    "        \n",
    "        return tus, erg, energy_keV, tus_keep_multihit_ntimes, erg_keep_multihit_ntimes, multihit_indx, date \n",
    "    \n",
    "    except ValueError as ve:\n",
    "        print(\"Function aborted because of: \" + str(ve))\n",
    "        print(\"Length of arrays: \")\n",
    "        for lst in [tus_keep_multihit, erg_keep_multihit, multihit_indx]:\n",
    "            print(len(lst))"
   ]
  },
  {
   "cell_type": "markdown",
   "id": "bd369c6b-2da5-4d03-a62e-be0e13a46992",
   "metadata": {},
   "source": [
    "## BGO function"
   ]
  },
  {
   "cell_type": "code",
   "execution_count": 6,
   "id": "fb08e8d7-010a-4584-a4d4-be3b3cb38e2a",
   "metadata": {},
   "outputs": [],
   "source": [
    "def read_matlab_file_with_BGO_data(matlabfilename):\n",
    "    '''Read matlab file with ASIM BGO data from the high energy detector (HED)\n",
    "\n",
    "    tus: relative times in microseconds.\n",
    "    erg: energy channel (needs to be calibrated to keV using calibration coeff from https://git.app.uib.no/ASIM-MXGS/IN-FLIGHT_CALIBRATION_BGO/-/tree/master/CALIBRATION_COEFS )\n",
    "    typ: normal (0), fast(1), valley (3), or overflow event (2 or 4 not )\n",
    "    adr: BGO address 1-12\n",
    "    dau: dau address 1-4\n",
    "    det: detector address 1-3\n",
    "    DetCol: RGB color\n",
    "    \n",
    "    - Kepping only normal (0) and fast (1) events\n",
    "    '''\n",
    "    matlabfile_TGF = path_HED + '%s.mat' % matlabfilename\n",
    "    \n",
    "    mat = scipy.io.loadmat(matlabfile_TGF)\n",
    "    \n",
    "    tus = mat['tus'].flatten()\n",
    "    erg = mat['erg'].flatten()\n",
    "    DetCol = mat['DetCol'] # Investigate this matrix\n",
    "    adr = mat['adr'].flatten()\n",
    "    dau = mat['dau'].flatten()\n",
    "    det = mat['det'].flatten()\n",
    "    typ = mat['typ'].flatten()\n",
    "    \n",
    "    date = mat['date'][0] #raw datetime\n",
    "    \n",
    "    \n",
    "    try:\n",
    "        length = len(tus)\n",
    "        if any(len(lst) != length for lst in [erg, typ, adr, dau, det]):\n",
    "        # at least one list has a different length\n",
    "            raise ValueError(\"Arrays have different lengths\")\n",
    "            \n",
    "        mask = np.where((typ != 0) & (typ != 1)) #finding indecies of vallays and overflow events\n",
    "        \n",
    "        # removing those indecies\n",
    "        tus = np.delete(tus,mask)\n",
    "        erg = np.delete(erg,mask)\n",
    "        adr = np.delete(adr,mask)\n",
    "        dau = np.delete(dau,mask)\n",
    "        det = np.delete(det,mask)\n",
    "        typ = np.delete(typ,mask)\n",
    "        \n",
    "        \n",
    "        return tus, erg, typ, adr, dau, det, DetCol, date\n",
    "    \n",
    "    except ValueError as ve:\n",
    "        print(\"Function aborted because of: \" + str(ve))\n",
    "        print(\"Length of arrays: \")\n",
    "        for lst in [tus,erg, typ, adr, dau, det]:\n",
    "            print(len(lst))"
   ]
  },
  {
   "cell_type": "markdown",
   "id": "9cca534c",
   "metadata": {},
   "source": [
    "# Plotting functions"
   ]
  },
  {
   "cell_type": "markdown",
   "id": "d59076a5-5400-402b-a613-cbfabd52478d",
   "metadata": {},
   "source": [
    "## LED"
   ]
  },
  {
   "cell_type": "code",
   "execution_count": 7,
   "id": "2e962c5f",
   "metadata": {},
   "outputs": [],
   "source": [
    "def plot_LED(grb_id=None, tus_arr = None, LED_filename=None, binsize=10,start_range =0, end_range=0, T0 =None):\n",
    "    \"\"\" Can switch between plotting by grb_id, tus_arr and LED_filename. Only one of the options at the time.\n",
    "    plot_LED function can also find the background when start_range and end_range is specified\"\"\"\n",
    "    \n",
    "    binsize = binsize*1e3 #converting to microseconds\n",
    "    start_range = start_range*1e3 #converting to microseconds\n",
    "    end_range = end_range*1e3\n",
    "    \n",
    "    \n",
    "    #switch for input\n",
    "    try:\n",
    "        if LED_filename != None and grb_id == None and tus_arr == None:\n",
    "            tus_LED, erg_LED, energy_keV_LED, tus_keep_multihit_LED, erg_keep_multihit_LED, multihit_indx_LED, date = read_matlab_file_with_CZT_data(\n",
    "                LED_filename)\n",
    "            T0 = datetime.strptime(date, \"%Y-%b-%d %H:%M:%S.%f\")\n",
    "            date_id = datetime.strftime(T0,format='%y%m%d') #Correct format for title of plot: YYMMDD\n",
    "            grb_id_title = \"GRB\" + date_id\n",
    "            \n",
    "        elif grb_id != None and tus_arr == None and LED_filename == None:\n",
    "            if grb_id not in trig_dict_LED.keys():\n",
    "                raise KeyError(\"GRB ID not in dict\")\n",
    "            else:\n",
    "                LED_filename = trig_dict_LED[grb_id][0]\n",
    "                tus_LED, erg_LED, energy_keV_LED, tus_keep_multihit_LED, erg_keep_multihit_LED, multihit_indx_LED, date = read_matlab_file_with_CZT_data(\n",
    "                    LED_filename)\n",
    "                T0 = datetime.strptime(date, \"%Y-%b-%d %H:%M:%S.%f\")\n",
    "                date_id = datetime.strftime(T0,format='%y%m%d') #Correct format for title of plot: YYMMDD\n",
    "                grb_id_title = \"GRB\" + date_id\n",
    "\n",
    "        elif grb_id == None and type(tus_arr) == np.ndarray and type(T0) == datetime and LED_filename==None:\n",
    "            tus_keep_multihit_LED = tus_arr\n",
    "            date_id = datetime.strftime(T0,format='%y%m%d') #Correct format for title of plot: YYMMDD\n",
    "            grb_id_title = \"GRB\" + date_id\n",
    "        else:\n",
    "            return \"T0 <datetime> must be specified when initiating tus_arr\"\n",
    "        \n",
    "    except KeyError as e:\n",
    "        return print(e)\n",
    "    \n",
    "    #Plotting routine\n",
    "    fig0, ax1 = plt.subplots(\n",
    "        1, 1, figsize=(12, 8), sharex=True, sharey=False)\n",
    "    \n",
    "    ax1.hist(tus_keep_multihit_LED, bins=np.arange(\n",
    "        min(tus_keep_multihit_LED), max(tus_keep_multihit_LED) + binsize, binsize),edgecolor= \"black\", histtype=\"step\")\n",
    "    ax1.set_xlabel(\"time [us], binsize {} ms\".format((binsize / 1e3)))\n",
    "    ax1.set_ylabel(\"Counts per bin\")\n",
    "    ax1.set_title(grb_id_title)\n",
    "    \n",
    "    if start_range and end_range != 0:\n",
    "        mean = get_mean(LED_filename,binsize,tus_LED, start_range, end_range)\n",
    "        ax1.axhline(y=mean, color=\"red\", label=\"Mean of bg: {} counts/bin \\n First range [{} - {}] s \\n 2nd: [{} - {}] s\".format(\n",
    "            np.round(mean,2), np.round(min(tus_LED)/1e6,3),start_range/1e6, end_range/1e6, np.round(max(tus_LED)/1e6,3)),linestyle='--')\n",
    "                                                                                                                              \n",
    "                                                                                                                          \n",
    "        ax1.legend()\n",
    "        plt.show()\n",
    "    else:\n",
    "        plt.show()\n",
    "        \n",
    "    #plt.savefig(output_dir + \"/{}_LED\".format(grb_id))\n",
    "\n",
    "    "
   ]
  },
  {
   "cell_type": "markdown",
   "id": "9289b557-a7da-4688-964f-c160ac71e748",
   "metadata": {},
   "source": [
    "## HED"
   ]
  },
  {
   "cell_type": "code",
   "execution_count": 8,
   "id": "077a70d2-f53e-4e33-b1e1-5cb91d8b75a6",
   "metadata": {},
   "outputs": [],
   "source": [
    "def plot_HED(grb_id=None, tus_arr = None, HED_filename = None, binsize=10, start_GRB=0, \n",
    "             end_GRB=0, fig=(12,8), T0=None, cut_idx=None):\n",
    "    \n",
    "    \"\"\"Plotting data from HED. If HED_filename is not specified, but tus_arr is: plotting the tus array without reading matlab file\n",
    "        If start and end value for the GRB is not given, the data is plotted normally,\n",
    "        - BINSIZE IS INITIALIZED AS MILLISECONDS\n",
    "        - start_GRB & end_GRB IS INITIALIZED AS MILLISECONDS 0.5 s = 500 ms\n",
    "        - tus_HED is given in microseconds\n",
    "        -T0 is given as a string\n",
    "        -cut_idx: array of indecies that was used to cut the tus_arr\n",
    "    \"\"\"\n",
    "\n",
    "    binsize = binsize*1e3 #converting to microseconds\",\n",
    "    \n",
    "    start_GRB = start_GRB*1e3 #converting to microseconds\",\n",
    "    end_GRB = end_GRB*1e3,\n",
    "    \n",
    "    # //TODO:\n",
    "    #Create switch for plotting histograms with different color\n",
    "    \n",
    "    #switch for input\n",
    "    try:\n",
    "        if HED_filename != None and grb_id == None and tus_arr == None:\n",
    "            tus_HED, erg_HED, typ_HED, adr_HED, dau_HED, det_HED, DetCol_HED, date = read_matlab_file_with_BGO_data(HED_filename)\n",
    "            T0 = datetime.strptime(date, \"%Y-%b-%d %H:%M:%S.%f\")\n",
    "            date_id = datetime.strftime(T0,format='%y%m%d') #Correct format for title of plot: GRBYYMMDD\n",
    "            grb_id_title = \"GRB\" + date_id\n",
    "            \n",
    "        elif grb_id != None and tus_arr == None and HED_filename == None:\n",
    "            if grb_id not in trig_dict_HED.keys():\n",
    "                raise KeyError(\"GRB ID not in dict\")\n",
    "            else:\n",
    "                HED_filename = trig_dict_HED[grb_id][0]\n",
    "                tus_HED, erg_HED, typ_HED, adr_HED, dau_HED, det_HED, DetCol_HED, date = read_matlab_file_with_BGO_data(HED_filename)\n",
    "                T0 = datetime.strptime(date, \"%Y-%b-%d %H:%M:%S.%f\")\n",
    "                date_id = datetime.strftime(T0,format='%y%m%d') #Correct format for title of plot: GRBYYMMDD\n",
    "                grb_id_title = \"GRB\" + date_id\n",
    "\n",
    "        elif type(tus_arr) == np.ndarray and grb_id == None and type(T0) == datetime and HED_filename==None:\n",
    "            tus_HED = tus_arr\n",
    "            date_id = datetime.strftime(T0,format='%y%m%d') #Correct format for title of plot: YYMMDD\n",
    "            grb_id_title = \"GRB\" + date_id\n",
    "            \n",
    "        else:\n",
    "            return \"T0 <datetime> must be specified when initiating tus_arr\"\n",
    "        \n",
    "    except KeyError as e:\n",
    "        return print(e)\n",
    "    \n",
    "    \n",
    "    #Plotting routine for normal histograms\n",
    "    if cut_idx == None:\n",
    "        fig0, ax1 = plt.subplots(\n",
    "            1, 1, figsize=fig, sharex=True, sharey=False)\n",
    "        ax1.hist(tus_HED, bins=np.arange(\n",
    "            min(tus_HED), max(tus_HED) + binsize, binsize),edgecolor= \"black\", histtype=\"step\")\n",
    "\n",
    "        ax1.set_xlabel(\"time [us], binsize {} ms\".format((binsize / 1e3)))\n",
    "        ax1.set_ylabel(\"Counts per bin\"),\n",
    "        ax1.set_title(grb_id_title)\n",
    "    \n",
    "    if cut_idx != None: #plotting a specified range of the histogram in a color\n",
    "        colors = cm.rainbow(np.linspace(0, 1, len(cut_idx)))\n",
    "        \n",
    "        fig0, ax1 = plt.subplots(\n",
    "        1, 1, figsize=fig, sharex=True, sharey=False)\n",
    "        \n",
    "        for idx, c in zip(cut_idx, colors):\n",
    "            ax1.hist(tus_HED, bins=np.arange(min(tus_HED), \n",
    "                                             max(tus_HED) + binsize, binsize),edgecolor= \"black\", histtype=\"step\")\n",
    "        \n",
    "        \n",
    "        \n",
    "\n",
    "    if start_GRB and end_GRB != 0:\n",
    "        mean = get_mean(HED_filename,binsize,tus_HED, start_GRB, end_GRB)\n",
    "        ax1.axhline(y=mean, color=\"red\", label= \"Mean of bg: {} counts/bin \\n First range [{} - {}] s \\n 2nd: [{} - {}] s\".format(\n",
    "            np.round(mean,2), np.round(min(tus_HED)/1e6,3),start_GRB/1e6, end_GRB/1e6, np.round(max(tus_HED)/1e6,3)),linestyle='--'),\n",
    "        ax1.legend()\n",
    "        plt.show(),\n",
    "    else:\n",
    "        plt.show()"
   ]
  },
  {
   "cell_type": "markdown",
   "id": "2e92a07e-f1bd-41c2-8af2-928524543b15",
   "metadata": {},
   "source": [
    "## mean"
   ]
  },
  {
   "cell_type": "code",
   "execution_count": 9,
   "id": "e7e11e87-56c1-45b4-a914-868cade107c3",
   "metadata": {},
   "outputs": [],
   "source": [
    "# Rename start_GRB to start_range. Same for end_GRB\n",
    "def get_mean(matlab_filename, binsize, tus, start_GRB, end_GRB):\n",
    "    \n",
    "    \"\"\"Function for getting the mean from the background.\n",
    "    matlab_filename: <str> filename\n",
    "    binsize: <int> given in us // 5ms = 5000 us \n",
    "    start & end_GRB given in us.\n",
    "    -Finding ranges to compute the mean in each bin. \"\"\"\n",
    "    \n",
    "    tus = np.sort(tus)\n",
    "    range_1 =  find_closest(tus,start_GRB)\n",
    "    range_2 = find_closest(tus,end_GRB)\n",
    "    \n",
    "    range_1_counts = np.histogram(tus[:range_1], bins=np.arange(\n",
    "        min(tus[:range_1]), max(tus[:range_1]) + binsize, binsize))[0]\n",
    "    \n",
    "    range_2_counts = np.histogram(tus[range_2:], bins=np.arange(\n",
    "        min(tus[range_2:]), max(tus[range_2:]) + binsize, binsize))[0]\n",
    "    \n",
    "    background_data = np.append(range_1_counts,range_2_counts)\n",
    "    mean = np.mean(background_data)\n",
    "    return mean"
   ]
  },
  {
   "cell_type": "code",
   "execution_count": 10,
   "id": "38400522-f307-4604-8411-5ba2f5dabc66",
   "metadata": {},
   "outputs": [],
   "source": [
    "def find_nearest(array, value):\n",
    "    \"\"\"Returns nearest index for value in array.\n",
    "    \"\"\"\n",
    "    array = np.asarray(array)\n",
    "    return (np.abs(array - value)).argmin()"
   ]
  },
  {
   "cell_type": "markdown",
   "id": "ce2e81b0-e327-4fc4-bda6-4d741cbc23c3",
   "metadata": {},
   "source": [
    "# Concatination of multiple files"
   ]
  },
  {
   "cell_type": "markdown",
   "id": "aff6e21b-50db-4e60-b5e0-42c545588e23",
   "metadata": {},
   "source": [
    "## Cutting index"
   ]
  },
  {
   "cell_type": "code",
   "execution_count": 118,
   "id": "a40bb4ee-efb9-4f39-92f4-d5bd60a9b112",
   "metadata": {},
   "outputs": [],
   "source": [
    "def find_cut_idx(tus1=None, tus2=None, erg1=None, erg2=None, index_file=None):\n",
    "    \"\"\"TODO:\n",
    "    - Search a region. Kind of like Newton iteration. If the cutoff index lies behind, the routine has a problem.\n",
    "    \"\"\"\n",
    "\n",
    "    idx = find_nearest(tus1,tus2[0])\n",
    "    if np.all(erg1[idx:] == erg2[0:len(erg1[idx:])]) == False:\n",
    "        idx_nearest_erg = find_nearest(erg1[idx:], erg2[0]) #assuming the correct cutoff lies ahead. Might cause problems. Could search a region\n",
    "        cut_idx = idx_nearest_erg + idx\n",
    "        if np.all(erg1[cut_idx:] == erg2[0:len(erg1[cut_idx:])]) == True: #Checking if the energies lines up\n",
    "            print(\"found overlapping erg array. Concatenating two files ...\")\n",
    "            return cut_idx\n",
    "        else:\n",
    "            print(\"No overlapping data. Reason: ergs dont line up.....\" + \"file num: \",index_file, \" cutting at idx: :\", idx )\n",
    "            if tus1[idx] < tus2[0]: #must be an increase in time for stitching\n",
    "                return idx \n",
    "    #should check if the previous ergs line up\n",
    "    else:\n",
    "        print(\"found index on firts try. ergs line up\")\n",
    "        return idx #found correct stich index on first try"
   ]
  },
  {
   "cell_type": "markdown",
   "id": "8afe09f7-3053-4a7b-9aa5-b78022941b4a",
   "metadata": {},
   "source": [
    "## concat_GRB"
   ]
  },
  {
   "cell_type": "code",
   "execution_count": 12,
   "id": "4af8d217-9d5d-436c-828b-f0205dfbb254",
   "metadata": {},
   "outputs": [],
   "source": [
    "# the function is not concating correctly. "
   ]
  },
  {
   "cell_type": "code",
   "execution_count": 13,
   "id": "8ef1cc58-5ade-4e64-bcd9-914655ef1bcc",
   "metadata": {},
   "outputs": [],
   "source": [
    "def concat_GRB(grb_id, flag):\n",
    "    \"\"\" function concat_files concatenates multiple matlab files. Can only concat HED or LED files at the time\n",
    "    \n",
    "    Flag determines whether the input list is of HED or LED files\n",
    "    \n",
    "    --> If there is \"missing counts\" between the files. 0 counts is added for the respective missing time interval. Automatically when time-shifted (?)\n",
    "    \n",
    "    Routine description: \n",
    "    1) The different tus arrays have their own T0. Calculating the delta T between T0 and Tn (time for concatination)  \n",
    "    \n",
    "    \n",
    "    Parameters:\n",
    "    %---------------------------------------------------------------\n",
    "    \n",
    "    grb_id <string>  : key for dictionary containing list of matlab filenames\n",
    "    flag <string>    : \"HED\" or \"LED\". They have different arrays after calling read_matlab_file function. This flag handles that.\n",
    "    \n",
    "    \n",
    "    returns:\n",
    "    %---------------------------------------------------------------\n",
    "    \n",
    "    \n",
    "    output for HED:\n",
    "    %---------------------------------------------------------------\n",
    "    concat_tus_HED <array> : concat tus (relative times in microseconds) for all arrays\n",
    "    concat_erg_HED <array> : concat erg (energy channel (needs to be calibrated to keV using calibration coeff)) for all arrays\n",
    "    concat_typ_HED <array> : concat typ for all counts  (normal (0), fast(1), valley (3), or overflow event (2 or 4 not )) read function keeps only 0 & 1.\n",
    "    concat_adr_HED <array> : concat BGO address 1-12 for all arrays\n",
    "    concat_dau_HED <array> : concat dau address 1-4\n",
    "    concat_det_HED <array> : concat detector address 1-3\n",
    "    concat_DetCol_HED <array> : concat RGB color for all arrays\n",
    "    T0 <datetime> : datetime object of T0\n",
    "    \n",
    "    output for LED:\n",
    "    %----------------------------------------------------------------\n",
    "    \n",
    "    \n",
    "    \"\"\"\n",
    "    #Handling input is in the right format\n",
    "    \n",
    "    try:\n",
    "        if type(flag) and type(grb_id) != str:\n",
    "            raise TypeError(\"grb_id and/or flag input is not string\")\n",
    "        elif flag != \"HED\" and flag != \"LED\":\n",
    "            raise NameError(\"flag-string is neither HED or LED\")\n",
    "        elif flag == \"HED\":\n",
    "            if grb_id not in trig_dict_HED.keys():\n",
    "                raise KeyError(\"GRB ID not in trig_dict_HED\")\n",
    "            else:\n",
    "                HED_files = trig_dict_HED[grb_id]       \n",
    "        elif flag == \"LED\":\n",
    "            if grb_id not in trig_dict_LED.keys():\n",
    "                raise KeyError(\"GRB ID not in trig_dict_LED\")\n",
    "            else:\n",
    "                LED_files = trig_dict_LED[grb_id]\n",
    "                \n",
    "        else:\n",
    "            if flag == \"HED\":\n",
    "                if all(HED_files[i] <= HED_files[i+1] for i in range(len(HED_files) - 1)) == False: #logic for checking that the files are in increasing order\n",
    "                    raise IndexError(\"List is not sorted in increasing order\")\n",
    "            elif flag == \"LED\":\n",
    "                print(len(LED_files))\n",
    "                if all(LED_files[i] <= LED_files[i+1] for i in range(len(LED_files) - 1)) == False: #logic for checking that the files are in increasing order\n",
    "                    raise IndexError(\"List is not sorted in increasing order\")\n",
    "            else:\n",
    "                print(\"No flag\")\n",
    "                    \n",
    "    except (TypeError, NameError, KeyError) as e:\n",
    "        return print(e) #routine quits if error is found\n",
    "    \n",
    "    except IndexError:\n",
    "        if flag == \"HED\":\n",
    "            HED_files.sort() #sorting filenames in increasing order. Should already be done in dict creation, but good to check\n",
    "        else:\n",
    "            LED_files.sort() #sorting filenames in increasing order. Should already be done in dict creation, but good to check      \n",
    "    try: \n",
    "        \n",
    "        if flag == \"HED\":\n",
    "            data = [] #list that stores dictionary for each file\n",
    "            num_files = len(HED_files)\n",
    "            \n",
    "            for filename in HED_files:\n",
    "                \n",
    "                tus, erg, typ, adr, dau, det, DetCol, date = read_matlab_file_with_BGO_data(filename)\n",
    "                if len(date) != 27:\n",
    "                    raise ValueError(\"length of datetime string is not in correct format\")\n",
    "                \n",
    "                index_sort = np.argsort(tus, kind=\"mergesort\") # sorting tus in increasing order. Mergesort will not be affected by floating point error\n",
    "                \n",
    "                tus_sort, erg_sort, typ_sort, adr_sort, dau_sort, det_sort = tus[index_sort], erg[index_sort], typ[index_sort], adr[index_sort],dau[index_sort], det[index_sort] #Making sure that the are coherent\n",
    "                \n",
    "                file_dict = {\"tus\":tus_sort, \"erg\":erg_sort, \"typ\":typ_sort, \"adr\":adr_sort, \"dau\":dau_sort, \"det\": det_sort, \"DetCol\":DetCol, \"date\":date}\n",
    "                \n",
    "                data.append(file_dict)\n",
    "            \n",
    "            T0 = datetime.strptime(data[0][\"date\"], \"%Y-%b-%d %H:%M:%S.%f\") #T0 of first file. Will be T0 for concat tus array\n",
    "\n",
    "            # Adding the timeshift to all tus arrays from T0\n",
    "            for i in np.arange(1,num_files):\n",
    "                deltaT = datetime.strptime(data[i][\"date\"], \"%Y-%b-%d %H:%M:%S.%f\") - T0\n",
    "                data[i][\"tus\"] = data[i][\"tus\"] + float(deltaT.total_seconds())*1e6 #deltaT to all entries from T0\n",
    "\n",
    "            # Cutting arrays at respective index; idx\n",
    "            i = 0\n",
    "            while i < num_files-1: #Need num_files-1 cutting indecies\n",
    "\n",
    "                idx = find_cut_idx(tus1=data[i][\"tus\"], tus2=data[i+1][\"tus\"], erg1= data[i][\"erg\"] , erg2 = data[i+1][\"erg\"], index_file= i) #index for cutting     \n",
    "                data[i][\"tus\"] = data[i][\"tus\"][:idx] #cutting arrays at idx\n",
    "                data[i][\"erg\"] = data[i][\"erg\"][:idx] \n",
    "                data[i][\"typ\"] = data[i][\"typ\"][:idx]\n",
    "                data[i][\"dau\"] = data[i][\"dau\"][:idx]\n",
    "                i += 1\n",
    "\n",
    "            #Concatenating respective arrays\n",
    "            concat_tus_HED = np.concatenate([data[i][\"tus\"] for i in range(0,num_files)]) #Just concatinating tus arrays \n",
    "            concat_erg_HED = np.concatenate([data[i][\"erg\"] for i in range(0,num_files)])\n",
    "            concat_typ_HED = np.concatenate([data[i][\"typ\"] for i in range(0,num_files)])\n",
    "            concat_dau_HED = np.concatenate([data[i][\"dau\"] for i in range(0,num_files)])\n",
    "            \n",
    "            return concat_tus_HED, concat_erg_HED, T0 #, concat_typ_HED, concat_dau_HED, DetCol,\n",
    "        \n",
    "        #LED concatination\n",
    "        elif flag == \"LED\":\n",
    "            data = []\n",
    "            num_files = len(LED_files)\n",
    "                \n",
    "            for filename in LED_files:\n",
    "                \n",
    "                #Working only with \n",
    "                tus, erg, energy_keV, tus_keep_multihit_ntimes, erg_keep_multihit_ntimes, multihit_indx, date = read_matlab_file_with_CZT_data(filename)\n",
    "                if len(date) != 27:\n",
    "                    raise ValueError(\"length of datetime string is not in correct format\")\n",
    "                \n",
    "                index_sort = np.argsort(tus_keep_multihit_ntimes, kind=\"mergesort\") # sorting tus in increasing order. Mergesort will not be affected by floating point error\n",
    "                \n",
    "                tus_sort, erg_sort = tus_keep_multihit_ntimes[index_sort], erg_keep_multihit_ntimes[index_sort] #Making sure that the are coherent\n",
    "                \n",
    "                file_dict = {\"tus\":tus_sort, \"erg\":erg_sort, \"date\":date}\n",
    "                \n",
    "                data.append(file_dict)\n",
    "            \n",
    "            T0 = datetime.strptime(data[0][\"date\"], \"%Y-%b-%d %H:%M:%S.%f\") #T0 of first file. Will be T0 for concat tus array\n",
    "\n",
    "            # Adding the timeshift to all tus arrays from T0\n",
    "            for i in np.arange(1,num_files):\n",
    "                deltaT = datetime.strptime(data[i][\"date\"], \"%Y-%b-%d %H:%M:%S.%f\") - T0\n",
    "                data[i][\"tus\"] = data[i][\"tus\"] + float(deltaT.total_seconds())*1e6 #deltaT to all entries from T0\n",
    "\n",
    "            # Cutting arrays at respective index; idx\n",
    "            i = 0\n",
    "            while i < num_files-1: #Need num_files-1 cutting indecies\n",
    "\n",
    "                idx = find_cut_idx(tus1=data[i][\"tus\"], tus2=data[i+1][\"tus\"], erg1= data[i][\"erg\"] , erg2 = data[i+1][\"erg\"], index_file= i) #index for cutting     \n",
    "                data[i][\"tus\"] = data[i][\"tus\"][:idx] #cutting arrays at idx\n",
    "                data[i][\"erg\"] = data[i][\"erg\"][:idx]  #cutting arrays at idx\n",
    "                \n",
    "                i += 1\n",
    "\n",
    "            #Concatenating respective arrays\n",
    "            concat_tus_LED = np.concatenate([data[i][\"tus\"] for i in range(0,num_files)]) #concatinating tus arrays \n",
    "            concat_erg_LED = np.concatenate([data[i][\"erg\"] for i in range(0,num_files)])\n",
    "\n",
    "            \n",
    "            \n",
    "            # //TODO: return the cutting indecies\n",
    "            return concat_tus_LED, concat_erg_LED, T0\n",
    "        \n",
    "        else:\n",
    "            print(\"No flag of type of GRB provided\")\n",
    "            \n",
    "    except (ValueError) as e:\n",
    "        return print(e)"
   ]
  },
  {
   "cell_type": "markdown",
   "id": "cdc0a5e5-ef3f-4963-a05d-338b5fca1c91",
   "metadata": {},
   "source": [
    "## Testing concat"
   ]
  },
  {
   "cell_type": "code",
   "execution_count": 14,
   "id": "ca00bd8d-15e9-45c3-af23-7225628e593e",
   "metadata": {},
   "outputs": [],
   "source": [
    "#tus, erg, energy_keV, tus_keep_multihit_ntimes, erg_keep_multihit_ntimes, multihit_indx, date = read_matlab_file_with_CZT_data(\"2018.12.27_06.17.04.210500_Fulltrigger\")"
   ]
  },
  {
   "cell_type": "code",
   "execution_count": 15,
   "id": "8dee8417-7e68-4027-b432-72569af83a37",
   "metadata": {},
   "outputs": [],
   "source": [
    "#concat_tus_HED, concat_erg_HED, concat_typ_HED, concat_dau_HED, DetCol, T0 = concat_GRB(\"GRB200412\",\"LED\")"
   ]
  },
  {
   "cell_type": "markdown",
   "id": "b5b21f98-1b42-47b2-b4e2-607736c93f81",
   "metadata": {},
   "source": [
    "# Debugging"
   ]
  },
  {
   "cell_type": "code",
   "execution_count": 16,
   "id": "3461abae-6c03-44e3-95ab-94f3b2cfdfd1",
   "metadata": {},
   "outputs": [],
   "source": [
    "#file indecies 1-3 adding 1 second of data each"
   ]
  },
  {
   "cell_type": "code",
   "execution_count": 17,
   "id": "69a28df9-3300-4f03-b2c0-e5ce24b2f0ed",
   "metadata": {},
   "outputs": [
    {
     "data": {
      "text/plain": [
       "'\\n\\n\\ntus1, erg1, typ1, adr1, dau1, det1, DetCol1, date1 = read_matlab_file_with_BGO_data(trig_dict_HED[\"GRB200412\"][1])\\ntus2, erg2, typ2, adr2, dau2, det2, DetCol2, date2 = read_matlab_file_with_BGO_data(trig_dict_HED[\"GRB200412\"][2])\\n\\nT0 = datetime.strptime(date1, \"%Y-%b-%d %H:%M:%S.%f\") #T0 of first file. Will be T0 for concat tus array\\n\\n# Adding the timeshift to all tus arrays from T0\\n\\ndeltaT = datetime.strptime(date2, \"%Y-%b-%d %H:%M:%S.%f\") - T0\\ntus2_shift = tus2 + float(deltaT.total_seconds())*1e6 #deltaT to all entries from T0\\n\\nindex_sort1 = np.argsort(tus1, kind=\"mergesort\")\\ntus1_sort = tus1[index_sort1]\\nerg1_sort = erg1[index_sort1]\\n\\nindex_sort2 = np.argsort(tus2_shift, kind=\"mergesort\")\\ntus2_sort = tus2_shift[index_sort2]\\nerg2_sort = erg2[index_sort2]\\n\\n'"
      ]
     },
     "execution_count": 17,
     "metadata": {},
     "output_type": "execute_result"
    }
   ],
   "source": [
    "# Setup for debugging the find_cut_idx\n",
    "\"\"\"\n",
    "\n",
    "\n",
    "tus1, erg1, typ1, adr1, dau1, det1, DetCol1, date1 = read_matlab_file_with_BGO_data(trig_dict_HED[\"GRB200412\"][1])\n",
    "tus2, erg2, typ2, adr2, dau2, det2, DetCol2, date2 = read_matlab_file_with_BGO_data(trig_dict_HED[\"GRB200412\"][2])\n",
    "\n",
    "T0 = datetime.strptime(date1, \"%Y-%b-%d %H:%M:%S.%f\") #T0 of first file. Will be T0 for concat tus array\n",
    "\n",
    "# Adding the timeshift to all tus arrays from T0\n",
    "\n",
    "deltaT = datetime.strptime(date2, \"%Y-%b-%d %H:%M:%S.%f\") - T0\n",
    "tus2_shift = tus2 + float(deltaT.total_seconds())*1e6 #deltaT to all entries from T0\n",
    "\n",
    "index_sort1 = np.argsort(tus1, kind=\"mergesort\")\n",
    "tus1_sort = tus1[index_sort1]\n",
    "erg1_sort = erg1[index_sort1]\n",
    "\n",
    "index_sort2 = np.argsort(tus2_shift, kind=\"mergesort\")\n",
    "tus2_sort = tus2_shift[index_sort2]\n",
    "erg2_sort = erg2[index_sort2]\n",
    "\n",
    "\"\"\""
   ]
  },
  {
   "cell_type": "code",
   "execution_count": 18,
   "id": "ce13a7ee-c1a0-4bb4-ad4b-456e0c9fd52b",
   "metadata": {},
   "outputs": [],
   "source": [
    "#idx = find_cut_idx(tus1=tus1_sort, tus2=tus2_sort, erg1=erg1_sort, erg2=erg2_sort, index_file=None)"
   ]
  },
  {
   "cell_type": "markdown",
   "id": "7c213c1c-8a73-4fc1-9853-764c0b599fe2",
   "metadata": {},
   "source": [
    "# Plotting lightcurves"
   ]
  },
  {
   "cell_type": "code",
   "execution_count": 62,
   "id": "5bbfe57a-b2cd-4334-ae6e-71b19cc89ff8",
   "metadata": {},
   "outputs": [
    {
     "name": "stdout",
     "output_type": "stream",
     "text": [
      "found index on firts try. ergs line up\n",
      "found index on firts try. ergs line up\n"
     ]
    }
   ],
   "source": [
    "concat_tus_LED, concat_erg_LED, T0 = concat_GRB(grb_id=\"GRB210607\",flag=\"LED\")"
   ]
  },
  {
   "cell_type": "code",
   "execution_count": 119,
   "id": "c9af77ec-b853-4818-ae30-ba939f05d9dc",
   "metadata": {},
   "outputs": [
    {
     "name": "stdout",
     "output_type": "stream",
     "text": [
      "found index on firts try. ergs line up\n",
      "No overlapping data. Reason: ergs dont line up.....file num:  1  cutting at idx: : 17602\n",
      "found overlapping erg array. Concatenating two files ...\n",
      "No overlapping data. Reason: ergs dont line up.....file num:  3  cutting at idx: : 24835\n",
      "found index on firts try. ergs line up\n",
      "found index on firts try. ergs line up\n",
      "found index on firts try. ergs line up\n"
     ]
    }
   ],
   "source": [
    "concat_tus_HED, concat_erg_HED, T0 = concat_GRB(grb_id=\"GRB211211\",flag=\"HED\")"
   ]
  },
  {
   "cell_type": "code",
   "execution_count": 123,
   "id": "95e5f4d2-f7c0-4d6d-bd8f-556b017b563a",
   "metadata": {},
   "outputs": [
    {
     "data": {
      "application/vnd.jupyter.widget-view+json": {
       "model_id": "077cf365710243c99d8e5bc6eb21caae",
       "version_major": 2,
       "version_minor": 0
      },
      "image/png": "[encoded data removed]",
      "text/html": [
       "\n",
       "            <div style=\"display: inline-block;\">\n",
       "                <div class=\"jupyter-widgets widget-label\" style=\"text-align: center;\">\n",
       "                    Figure\n",
       "                </div>\n",
       "                <img src='data:image/png;base64,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' width=1200.0/>\n",
       "            </div>\n",
       "        "
      ],
      "text/plain": [
       "Canvas(toolbar=Toolbar(toolitems=[('Home', 'Reset original view', 'home', 'home'), ('Back', 'Back to previous …"
      ]
     },
     "metadata": {},
     "output_type": "display_data"
    }
   ],
   "source": [
    "plot_HED(tus_arr=concat_tus_HED, T0=T0,binsize=10)"
   ]
  },
  {
   "cell_type": "code",
   "execution_count": 22,
   "id": "c3554b3d-1ef7-47b0-bf0a-b361944cdf35",
   "metadata": {},
   "outputs": [
    {
     "name": "stdout",
     "output_type": "stream",
     "text": [
      "found index on firts try. ergs line up\n"
     ]
    }
   ],
   "source": [
    "concat_tus_HED, concat_erg_HED, T0 = concat_GRB(grb_id=\"GRB200812\",flag=\"HED\")"
   ]
  },
  {
   "cell_type": "markdown",
   "id": "5b4d2a9f-06cf-4c28-bd68-7d55f03ef9a0",
   "metadata": {},
   "source": [
    "## Function for exporting all light curves"
   ]
  },
  {
   "cell_type": "code",
   "execution_count": 132,
   "id": "d25ed17d-7f1d-4e6a-8e32-80d0eba35756",
   "metadata": {},
   "outputs": [],
   "source": [
    "# export path to folder:\n",
    "path_out = '/Home/siv30/wad005/master/GRB/pyplots'\n"
   ]
  },
  {
   "cell_type": "code",
   "execution_count": 133,
   "id": "4f0debc1-0a83-4a92-ac2a-b61c238e0c39",
   "metadata": {},
   "outputs": [
    {
     "data": {
      "text/plain": [
       "collections.OrderedDict"
      ]
     },
     "execution_count": 133,
     "metadata": {},
     "output_type": "execute_result"
    }
   ],
   "source": [
    "type(trig_dict_HED)"
   ]
  },
  {
   "cell_type": "code",
   "execution_count": null,
   "id": "00641ac6-c83b-4f7d-aedd-e3113d1c5ff3",
   "metadata": {},
   "outputs": [],
   "source": []
  },
  {
   "cell_type": "code",
   "execution_count": null,
   "id": "c9760f93-0d4f-4f25-b442-da422271456f",
   "metadata": {},
   "outputs": [],
   "source": []
  },
  {
   "cell_type": "code",
   "execution_count": null,
   "id": "e9375789-cd6f-48f3-97a1-bdd5a7d60a7d",
   "metadata": {},
   "outputs": [],
   "source": []
  },
  {
   "cell_type": "code",
   "execution_count": null,
   "id": "a3350221-036d-4e6c-80bd-588d12a54e3c",
   "metadata": {},
   "outputs": [],
   "source": []
  },
  {
   "cell_type": "code",
   "execution_count": null,
   "id": "4c05f3ec-3946-49cd-a070-df7602047135",
   "metadata": {},
   "outputs": [],
   "source": []
  },
  {
   "cell_type": "code",
   "execution_count": null,
   "id": "fba5f27b-9849-45f2-8848-a4cd55e0db98",
   "metadata": {},
   "outputs": [],
   "source": []
  },
  {
   "cell_type": "code",
   "execution_count": null,
   "id": "812838ba-460e-4ef6-a12b-4a611a09c118",
   "metadata": {},
   "outputs": [],
   "source": []
  },
  {
   "cell_type": "code",
   "execution_count": null,
   "id": "6a582341-78d1-4edc-a2d6-3a65398bf600",
   "metadata": {},
   "outputs": [],
   "source": []
  },
  {
   "cell_type": "markdown",
   "id": "56edf6eb",
   "metadata": {},
   "source": [
    "# main function"
   ]
  },
  {
   "cell_type": "code",
   "execution_count": 24,
   "id": "framed-privilege",
   "metadata": {},
   "outputs": [
    {
     "data": {
      "text/plain": [
       "'def main(grb_id,binsize=10000, start_GRB, end_GRB):  # filename GRB ID\\n    # output array for tus_keep_multihit_LED, erg_keep_multihit_LED, multihit_indx_LED må modifiseres\\n    # Automake by making filename a list of filenames. Then the all the outout plots will be created\\n\\n    # TODO:\\n    # Add the extra parameters to make the get_mean work\\n#os.mkdir(\"/Users/andreas/phys/master/MATLAB/pyplots\")\\n    trig_dict = create_triggers_dict()\\n    try:\\n        output_dir = os.mkdir(\"/Home/siv30/wad005/master/GRB/MATLAB/pyplots/{}\".format(grb_id)) #Creating owd folder for grb_id\\n    except FileExistsError:\\n        output_dir = \"/Home/siv30/wad005//master/GRB/MATLAB/pyplots/{}\".format(grb_id) #selecting path if it already exists\\n\\n\\n    if type(grb_id) != str:\\n        raise TypeError(\"Input is not string\")\\n    elif grb_id not in trig_dict:\\n        raise LookupError(\"grb_id not in dictionary\")\\n    else:\\n        try:\\n            LED_filename = trig_dict[grb_id][0]\\n            HED_filename = trig_dict[grb_id][1]\\n            if type(LED_filename) == float and math.isnan(LED_filename):\\n                print(\"LED file not found. Plotting only HED\")\\n                plot_HED(HED_filename,output_dir,grb_id) #output path is not required\\n                \\n            elif type(HED_filename) == float and math.isnan(HED_filename):\\n                print(\"HED file not found. Plotting only LED\")\\n                plot_LED(LED_filename,output_dir,grb_id)\\n            else:\\n                plot_LED(LED_filename,output_dir,grb_id)\\n                plot_HED(HED_filename,output_dir,grb_id)\\n        except:\\n            print(\"Something went wrong\")\\n    '"
      ]
     },
     "execution_count": 24,
     "metadata": {},
     "output_type": "execute_result"
    }
   ],
   "source": [
    "# On hold for now. \n",
    "\"\"\"def main(grb_id,binsize=10000, start_GRB, end_GRB):  # filename GRB ID\n",
    "    # output array for tus_keep_multihit_LED, erg_keep_multihit_LED, multihit_indx_LED må modifiseres\n",
    "    # Automake by making filename a list of filenames. Then the all the outout plots will be created\n",
    "\n",
    "    # TODO:\n",
    "    # Add the extra parameters to make the get_mean work\n",
    "#os.mkdir(\"/Users/andreas/phys/master/MATLAB/pyplots\")\n",
    "    trig_dict = create_triggers_dict()\n",
    "    try:\n",
    "        output_dir = os.mkdir(\"/Home/siv30/wad005/master/GRB/MATLAB/pyplots/{}\".format(grb_id)) #Creating owd folder for grb_id\n",
    "    except FileExistsError:\n",
    "        output_dir = \"/Home/siv30/wad005//master/GRB/MATLAB/pyplots/{}\".format(grb_id) #selecting path if it already exists\n",
    "\n",
    "\n",
    "    if type(grb_id) != str:\n",
    "        raise TypeError(\"Input is not string\")\n",
    "    elif grb_id not in trig_dict:\n",
    "        raise LookupError(\"grb_id not in dictionary\")\n",
    "    else:\n",
    "        try:\n",
    "            LED_filename = trig_dict[grb_id][0]\n",
    "            HED_filename = trig_dict[grb_id][1]\n",
    "            if type(LED_filename) == float and math.isnan(LED_filename):\n",
    "                print(\"LED file not found. Plotting only HED\")\n",
    "                plot_HED(HED_filename,output_dir,grb_id) #output path is not required\n",
    "                \n",
    "            elif type(HED_filename) == float and math.isnan(HED_filename):\n",
    "                print(\"HED file not found. Plotting only LED\")\n",
    "                plot_LED(LED_filename,output_dir,grb_id)\n",
    "            else:\n",
    "                plot_LED(LED_filename,output_dir,grb_id)\n",
    "                plot_HED(HED_filename,output_dir,grb_id)\n",
    "        except:\n",
    "            print(\"Something went wrong\")\n",
    "    \"\"\"\n",
    "    "
   ]
  },
  {
   "cell_type": "code",
   "execution_count": null,
   "id": "d8c7680b-9f75-4bea-a996-3c695d103edb",
   "metadata": {},
   "outputs": [],
   "source": []
  },
  {
   "cell_type": "code",
   "execution_count": null,
   "id": "4eb9e345-3bdb-46b6-929b-ec5b9e8265c6",
   "metadata": {},
   "outputs": [],
   "source": []
  },
  {
   "cell_type": "code",
   "execution_count": null,
   "id": "b6347aca-03ef-40c8-936b-bfcb0eab7673",
   "metadata": {},
   "outputs": [],
   "source": []
  },
  {
   "cell_type": "markdown",
   "id": "5b3a1ad6-2ffd-44b5-9933-8e57e05fb32b",
   "metadata": {},
   "source": [
    "# Purgatory"
   ]
  },
  {
   "cell_type": "code",
   "execution_count": 25,
   "id": "579e6a7c-1ff3-486e-a455-6a20a905e30b",
   "metadata": {},
   "outputs": [
    {
     "data": {
      "text/plain": [
       "'# Not in use\\ndef get_filenames(path):\\n    return sorted((f for f in os.listdir(path) if not f.startswith(\".\")), key=str.lower)'"
      ]
     },
     "execution_count": 25,
     "metadata": {},
     "output_type": "execute_result"
    }
   ],
   "source": [
    "\"\"\"# Not in use\n",
    "def get_filenames(path):\n",
    "    return sorted((f for f in os.listdir(path) if not f.startswith(\".\")), key=str.lower)\"\"\""
   ]
  },
  {
   "cell_type": "code",
   "execution_count": 26,
   "id": "31e55517-b7c0-464a-89b5-b9666d375cca",
   "metadata": {},
   "outputs": [
    {
     "data": {
      "text/plain": [
       "'\\ndef plot_HED(HED_filename, output_dir,grb_id):\\n    tus_HED, erg_HED, typ_HED, adr_HED, dau_HED, det_HED, DetCol_HED = read_matlab_file_with_BGO_data(HED_filename)\\n\\n    fig0, (ax0, ax1) = plt.subplots(\\n        2, 1, figsize=(8, 8), sharex=True, sharey=False)\\n    ax0.set_title(\"HED\")\\n\\n    ax0.scatter(tus_HED, erg_HED)\\n    ax0.set_xlabel(\"time [us]\")\\n    ax0.set_ylabel(\"Energy channel\")\\n\\n    binsize = 10000  # us --> 10 ms bin\\n    ax1.hist(tus_HED, bins=np.arange(\\n        min(tus_HED), max(tus_HED)+binsize, binsize))\\n    ax1.set_xlabel(\"time [us]\")\\n    ax1.set_ylabel(\"Counts per bin\")\\n    \\n    output_dir_hed = output_dir + \"/{}_HED\".format(grb_id)\\n    print(output_dir_hed)\\n    plt.savefig(output_dir + \"/{}_HED\".format(grb_id)) #path where plot is saved\\n'"
      ]
     },
     "execution_count": 26,
     "metadata": {},
     "output_type": "execute_result"
    }
   ],
   "source": [
    "#Old plot_HED function\n",
    "\"\"\"\n",
    "def plot_HED(HED_filename, output_dir,grb_id):\n",
    "    tus_HED, erg_HED, typ_HED, adr_HED, dau_HED, det_HED, DetCol_HED = read_matlab_file_with_BGO_data(HED_filename)\n",
    "\n",
    "    fig0, (ax0, ax1) = plt.subplots(\n",
    "        2, 1, figsize=(8, 8), sharex=True, sharey=False)\n",
    "    ax0.set_title(\"HED\")\n",
    "\n",
    "    ax0.scatter(tus_HED, erg_HED)\n",
    "    ax0.set_xlabel(\"time [us]\")\n",
    "    ax0.set_ylabel(\"Energy channel\")\n",
    "\n",
    "    binsize = 10000  # us --> 10 ms bin\n",
    "    ax1.hist(tus_HED, bins=np.arange(\n",
    "        min(tus_HED), max(tus_HED)+binsize, binsize))\n",
    "    ax1.set_xlabel(\"time [us]\")\n",
    "    ax1.set_ylabel(\"Counts per bin\")\n",
    "    \n",
    "    output_dir_hed = output_dir + \"/{}_HED\".format(grb_id)\n",
    "    print(output_dir_hed)\n",
    "    plt.savefig(output_dir + \"/{}_HED\".format(grb_id)) #path where plot is saved\n",
    "\"\"\""
   ]
  },
  {
   "cell_type": "code",
   "execution_count": 27,
   "id": "8df85296-cc1e-4b00-ba10-db069f6b18c1",
   "metadata": {},
   "outputs": [
    {
     "data": {
      "text/plain": [
       "'def sorting(l1, l2):\\n    # l1 and l2 has to be numpy arrays\\n    idx = np.argsort(l1)\\n    return l1[idx], l2[idx]'"
      ]
     },
     "execution_count": 27,
     "metadata": {},
     "output_type": "execute_result"
    }
   ],
   "source": [
    "\"\"\"def sorting(l1, l2):\n",
    "    # l1 and l2 has to be numpy arrays\n",
    "    idx = np.argsort(l1)\n",
    "    return l1[idx], l2[idx]\"\"\""
   ]
  },
  {
   "cell_type": "code",
   "execution_count": 28,
   "id": "6e88378a-5ec0-44e4-9495-0e12b5ec77e8",
   "metadata": {},
   "outputs": [
    {
     "data": {
      "text/plain": [
       "'tus1_zip, erg1_zip = zip(*sorted(zip(tus1_ex, erg1_ex))) #Sorted and coherent arrays\\n\\ntus1_zip = np.asarray(tus1_zip)\\nerg1_zip = np.asarray(erg1_zip)\\n\\n############# tus2\\n\\ntus2_zip, erg2_zip = zip(*sorted(zip(tus2_ex, erg2_ex))) #Sorted and coherent arrays\\n\\ntus2_zip = np.asarray(tus2_zip)\\nerg2_shift_zip = np.asarray(erg2_zip)\\n\\ntus2_shift_zip = tus2_zip + deltaT.total_seconds()*1e6 #applying deltaT'"
      ]
     },
     "execution_count": 28,
     "metadata": {},
     "output_type": "execute_result"
    }
   ],
   "source": [
    "\"\"\"tus1_zip, erg1_zip = zip(*sorted(zip(tus1_ex, erg1_ex))) #Sorted and coherent arrays\n",
    "\n",
    "tus1_zip = np.asarray(tus1_zip)\n",
    "erg1_zip = np.asarray(erg1_zip)\n",
    "\n",
    "############# tus2\n",
    "\n",
    "tus2_zip, erg2_zip = zip(*sorted(zip(tus2_ex, erg2_ex))) #Sorted and coherent arrays\n",
    "\n",
    "tus2_zip = np.asarray(tus2_zip)\n",
    "erg2_shift_zip = np.asarray(erg2_zip)\n",
    "\n",
    "tus2_shift_zip = tus2_zip + deltaT.total_seconds()*1e6 #applying deltaT\"\"\""
   ]
  },
  {
   "cell_type": "code",
   "execution_count": 29,
   "id": "f32b92f4-cf3a-43e3-a91f-b9c9d79fdafd",
   "metadata": {},
   "outputs": [
    {
     "ename": "SyntaxError",
     "evalue": "EOF while scanning triple-quoted string literal (2616191854.py, line 28)",
     "output_type": "error",
     "traceback": [
      "\u001b[0;36m  Input \u001b[0;32mIn [29]\u001b[0;36m\u001b[0m\n\u001b[0;31m    return print(e)\"\"\u001b[0m\n\u001b[0m                     \n^\u001b[0m\n\u001b[0;31mSyntaxError\u001b[0m\u001b[0;31m:\u001b[0m EOF while scanning triple-quoted string literal\n"
     ]
    }
   ],
   "source": [
    "\"\"\"def coherence_sort(tus1=None,tus2=None,erg1=None,erg2=None):\n",
    "    Sorting two arrays that are coherent. \n",
    "    returning: \n",
    "    \n",
    "    flag <bool> \n",
    "    flag == True: tus1_sorted,tus2_sorted,erg1_sorted,erg2_sorted\n",
    "    flag == False: IndexError \n",
    "    \n",
    "    ############# tus1 & erg1\n",
    "    index_sort1 = np.argsort(tus1, kind=\"mergesort\") # sorting tus in increasing order\n",
    "\n",
    "    tus1_sorted = tus1_ex[index_sort1]\n",
    "    erg1_sorted = erg1_ex[index_sort1] #Making sure that the are coherent\n",
    "\n",
    "    ############# tus2 & erg2\n",
    "    index_sort2 = np.argsort(tus2, kind=\"mergesort\") # sorting tus in increasing order\n",
    "\n",
    "    tus2_sorted = tus2[index_sort2] #Making sure that the are coherent\n",
    "    erg2_sorted = erg2[index_sort2]\n",
    "    \n",
    "    try:\n",
    "        flag = np.all(index_sort1 == np.arange(0,len(tus1))) and np.all(index_sort2 == np.arange(0,len(tus2))) and np.all(erg1_sorted == erg1) and np.all(erg2_sorted == erg2)\n",
    "        if flag == False:\n",
    "            raise IndexError(\"If there is no change to tus1 and tus2, there shall not be any changes to erg1 and erg2\")\n",
    "        else:\n",
    "            return tus1_sorted,tus2_sorted,erg1_sorted,erg2_sorted\n",
    "    except IndexError as e:\n",
    "        return print(e)\"\""
   ]
  }
 ],
 "metadata": {
  "kernelspec": {
   "display_name": "Python 3 (ipykernel)",
   "language": "python",
   "name": "python3"
  },
  "language_info": {
   "codemirror_mode": {
    "name": "ipython",
    "version": 3
   },
   "file_extension": ".py",
   "mimetype": "text/x-python",
   "name": "python",
   "nbconvert_exporter": "python",
   "pygments_lexer": "ipython3",
   "version": "3.8.10"
  },
  "toc": {
   "base_numbering": 1,
   "nav_menu": {},
   "number_sections": true,
   "sideBar": true,
   "skip_h1_title": false,
   "title_cell": "Table of Contents",
   "title_sidebar": "Contents",
   "toc_cell": false,
   "toc_position": {},
   "toc_section_display": true,
   "toc_window_display": false
  },
  "varInspector": {
   "cols": {
    "lenName": 16,
    "lenType": 16,
    "lenVar": 40
   },
   "kernels_config": {
    "python": {
     "delete_cmd_postfix": "",
     "delete_cmd_prefix": "del ",
     "library": "var_list.py",
     "varRefreshCmd": "print(var_dic_list())"
    },
    "r": {
     "delete_cmd_postfix": ") ",
     "delete_cmd_prefix": "rm(",
     "library": "var_list.r",
     "varRefreshCmd": "cat(var_dic_list()) "
    }
   },
   "types_to_exclude": [
    "module",
    "function",
    "builtin_function_or_method",
    "instance",
    "_Feature"
   ],
   "window_display": false
  }
 },
 "nbformat": 4,
 "nbformat_minor": 5
}
