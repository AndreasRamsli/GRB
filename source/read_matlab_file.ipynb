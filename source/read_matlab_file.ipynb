{
 "cells": [
  {
   "cell_type": "markdown",
   "id": "empirical-carolina",
   "metadata": {},
   "source": [
    "# Imports"
   ]
  },
  {
   "cell_type": "code",
   "execution_count": 1,
   "id": "finite-outdoors",
   "metadata": {},
   "outputs": [],
   "source": [
    "import numpy as np\n",
    "import matplotlib.pyplot as plt\n",
    "import scipy.io\n",
    "import scipy\n",
    "import os\n",
    "import glob\n",
    "import pandas as pd\n",
    "import math\n",
    "from datetime import datetime, timedelta\n",
    "import collections\n",
    "plt.rcdefaults() #Setting default color of output plots\n",
    "# For interactive plots\n",
    "\n",
    "plt.rcParams.update({'figure.max_open_warning': 0})\n",
    "#%matplotlib widget"
   ]
  },
  {
   "cell_type": "markdown",
   "id": "cc60308d-b2bc-440b-b125-b8a463fedcfe",
   "metadata": {},
   "source": [
    "# TODO:\n",
    "    \n",
    "   1) GRB ID SHOULD BE USED AS INPUT IN MOST FUNCTIONS!! IMPLEMENT THIS \n",
    "   2) Correct concatination of multiple files. GRB_ID is used to locate list of files\n",
    "   2) Use GRBID as input in plotting function, not filename. Don't need this right now tho. FOR LED AND HED\n",
    "   3) Redo all the plots ..."
   ]
  },
  {
   "cell_type": "markdown",
   "id": "807afc27",
   "metadata": {},
   "source": [
    "# Paths"
   ]
  },
  {
   "cell_type": "code",
   "execution_count": 2,
   "id": "expected-classroom",
   "metadata": {},
   "outputs": [],
   "source": [
    "#path_HED = \"/Home/siv30/wad005/master/GRB/MATLAB/output/file_mat_TGF/\"              #UiB\n",
    "#path_LED = \"/Home/siv30/wad005/master/GRB/MATLAB/CZT_calibration/file_mat_CZT_TGF/\" #UiB\n",
    "path_HED = \"/Users/andreas/phys/master/GRB/MATLAB/output/file_mat_TGF/\"               #MAC\n",
    "path_LED = \"/Users/andreas/phys/master/GRB/MATLAB/CZT_calibration/file_mat_CZT_TGF/\"  #MAC"
   ]
  },
  {
   "cell_type": "markdown",
   "id": "82cdb8bf",
   "metadata": {},
   "source": [
    "# Dict creation"
   ]
  },
  {
   "cell_type": "code",
   "execution_count": 3,
   "id": "f2d83176-02f1-40fa-9dad-c92bfd92b1ca",
   "metadata": {},
   "outputs": [],
   "source": [
    "trig_dict_HED = {\"GRB180720\":[\"2018_07_20_14_21_48\",\"2018_07_20_14_21_51\",\"2018_07_20_14_21_56\",\"2018_07_20_14_21_57\",\"2018_07_20_14_22_09\"],\n",
    "                 \"GRB181222\":[\"2018_12_22_20_11_36\"],\n",
    "                 \"GRB190206\":[\"2019_02_06_03_49_28\"],\n",
    "                 \"GRB190305\":[\"2019_03_05_13_05_19\"],\n",
    "                 \"GRB190501\":[\"2019_05_01_05_23_22\"],\n",
    "                 \"GRB190606\":[\"2019_06_06_01_55_07\"],\n",
    "                 \"GRB190615\":[\"2019_06_15_14_42_21\"],\n",
    "                 \"GRB190813\":[\"2019_08_13_12_00_49\"],\n",
    "                 \"GRB190825\":[\"2019_08_25_21_04_55\",\"2019_08_25_21_04_53\"], \n",
    "                 \"GRB190829\":[\"2019_08_29_19_56_40\"],\n",
    "                 \"GRB190906\":[\"2019_09_06_01_04_51\"],\n",
    "                 \"GRB191001\":[\"2019_10_01_06_41_52\"],\n",
    "                 \"GRB191004\":[\"2019_10_04_18_07_03\"],\n",
    "                 \"GRB191119\":[\"2019_11_19_10_41_06\"],\n",
    "                 \"GRB191221\":[\"2019_12_21_20_39_10\",\"2019_12_21_20_39_11\",\"2019_12_21_20_39_12\",\"2019_12_21_20_39_13\",\"2019_12_21_20_39_15\"],\n",
    "                 \"GRB200412\":[],# long list\n",
    "                 \"GRB200521\":[\"2020_05_21_12_16_39\"],\n",
    "                 \"GRB200716\":[\"2020_07_16_22_57_40\"],\n",
    "                 \"GRB200925\":[\"2020_09_25_21_50_31\"],\n",
    "                 \"GRB201227\":[\"2020_12_27_15_14_06\"]\n",
    "            }\n",
    "trig_dict_HED = collections.OrderedDict(sorted(trig_dict_HED.items())) #Sorting the keys in decending order. Now trig_dict_HED is an OderedDict type\n",
    "\n",
    "for key in trig_dict_HED.keys():\n",
    "    trig_dict_HED[key].sort() #sorting files in increasing order\n"
   ]
  },
  {
   "cell_type": "code",
   "execution_count": 4,
   "id": "204e9aa8-605d-4b72-837e-1261928ff7e5",
   "metadata": {},
   "outputs": [],
   "source": [
    "trig_dict_LED = {\"GRB181227\":[\"2018_12_27_06_17_04.210500_Fulltrigger\",\"2018_12_27_06_17_09.775992_Fulltrigger\",\"2018_12_27_06_17_10.800851_Fulltrigger\"],\n",
    "                \"GRB190117\":[\"2019.01.17_08.50.42.939689_Fulltrigger\"],\n",
    "                 \"GRB190420\":[\"2019.04.20_23.32.24.931211_Fulltrigger\"],\n",
    "                 \"GRB190501\":[\"2019.05.01_05.23.21.736797_Fulltrigger\"],\n",
    "                 \"GRB190615\":[\"2019.06.15_14.42.22.741579_Fulltrigger\"],\n",
    "                 \"GRB190628\":[\"2019.06.28_04.23.32.512290_Fulltrigger\"],\n",
    "                 \"GRB190813\":[\"2019.08.13_12.00.48.801260_Fulltrigger\"],\n",
    "                 \"GRB190825\":[\"2019.08.25_21.04.54.439617_Fulltrigger\",\"2019.08.25_21.04.56.395859_Fulltrigger\"],\n",
    "                 \"GRB190906\":[\"2019.09.06_01.04.52.014004_Fulltrigger\"],\n",
    "                 \"GRB191001\":[\"2019.10.01_06.41.51.631214_Fulltrigger\"],\n",
    "                 \"GRB191004\":[\"2019.10.04_18.07.03.402478_Fulltrigger\"],\n",
    "                 \"GRB191119\":[\"2019.11.19_10.41.05.239944_Fulltrigger\"],\n",
    "                 \"GRB191221\":[\"2019.12.21_20.39.11.939846_Fulltrigger\",\"2019.12.21_20.39.12.939997_Fulltrigger\",\"2019.12.21_20.39.13.940233_Fulltrigger\",\n",
    "                              \"2019.12.21_20.39.15.106045_Fulltrigger\",\"2019.12.21_20.39.17.252498_Fulltrigger\"]\n",
    "                 \n",
    "                }\n",
    "trig_dict_LED = collections.OrderedDict(sorted(trig_dict_LED.items())) #Sorting the keys in decending order. Now trig_dict_HED is an OderedDict type\n",
    "\n",
    "for key in trig_dict_LED.keys():\n",
    "    trig_dict_LED[key].sort() #sorting files in increasing order\n"
   ]
  },
  {
   "cell_type": "markdown",
   "id": "aa41034e",
   "metadata": {},
   "source": [
    "# Functions for handling matlab files"
   ]
  },
  {
   "cell_type": "markdown",
   "id": "2c851e4b-d4a2-4e53-b83f-7a0bd4c475ea",
   "metadata": {},
   "source": [
    "## CZT function"
   ]
  },
  {
   "cell_type": "code",
   "execution_count": 7,
   "id": "improved-architect",
   "metadata": {},
   "outputs": [],
   "source": [
    "def read_matlab_file_with_CZT_data(filename):\n",
    "    '''Read matlab file with ASIM CZT data from the low energy detector (LED)\n",
    "\n",
    "    tus: relative time in microseconds (excluded multihits)\n",
    "    erg: energy channel (excluded multihits)\n",
    "    energy_keV: energy in keV (excluded multihits)\n",
    "    tus_keep_multihit: relative time in microseconds (included multihits)\n",
    "    erg_keep_multihit: energy channel (included multihits)\n",
    "    multihit_indx: multihit index 0-4. 0->1 1->2// 0: tus=105, 1: tus=110,110 (two counts)\n",
    "    '''\n",
    "    mat = scipy.io.loadmat(path_LED + \"%s.mat\" % (filename))\n",
    "\n",
    "    #keV_spectra = mat['keV_spectra_total_fulltrigger']\n",
    "\n",
    "    # Included multihits. Important for light curves\n",
    "    tus_keep_multihit = np.array(mat['tus_keep_multihit_fulltrigger'])[:,0] # relative time in microseconds\n",
    "    erg_keep_multihit = np.array(mat['erg_keep_multihit_fulltrigger'])[0,:] # energy channel (unreliable for multi hits)\n",
    "    multihit_indx = np.array(mat['multihit_fulltrigger'])[0,:] # multihit index. How many multihits in count. (0=1 count, 1=2 counts, 2=3 counts...)\n",
    "    \n",
    "    # The multihits are removed as they don't have a reliable energy estimate\n",
    "    erg = np.array(mat['erg_fulltrigger'])[0,:] # energy channel of CZT pixel\n",
    "    tus = np.array(mat['tus_fulltrigger'])[:,0] # relative time in microseconds\n",
    "    energy_keV = np.array(mat['pixel_energy_fulltrigger']).flatten() # energy in keV of CZT pixel\n",
    "    date = mat['T_ref_char'][0] #raw datetime\n",
    "    \n",
    "    #Logic that checks for array lengths\n",
    "    try:\n",
    "        length = len(tus_keep_multihit)\n",
    "        if any(len(lst) != length for lst in [erg_keep_multihit, multihit_indx]):\n",
    "        # at least one list has a different length\n",
    "            raise ValueError(\"Arrays have different lengths\")\n",
    "            \n",
    "        t_temp = []\n",
    "        erg_temp = []\n",
    "        \n",
    "        for index, i in enumerate(multihit_indx):\n",
    "            for j in np.arange(0,i+1): #adding i+1 times the tus_count\n",
    "                t_temp.append(tus_keep_multihit[index])\n",
    "                erg_temp.append(erg_keep_multihit[index])\n",
    "         \n",
    "        tus_keep_multihit_ntimes =  np.array(t_temp) #array of tus. Multihit index decides how many times the tus is appended\n",
    "        erg_keep_multihit_ntimes = np.array(erg_temp) #array of erg. Multihit index decides how many times the erg is appended\n",
    "        \n",
    "        return tus, erg, energy_keV, tus_keep_multihit_ntimes, erg_keep_multihit_ntimes, multihit_indx, date \n",
    "    \n",
    "    except ValueError as ve:\n",
    "        print(\"Function aborted because of: \" + str(ve))\n",
    "        print(\"Length of arrays: \")\n",
    "        for lst in [tus_keep_multihit, erg_keep_multihit, multihit_indx]:\n",
    "            print(len(lst))"
   ]
  },
  {
   "cell_type": "markdown",
   "id": "bd369c6b-2da5-4d03-a62e-be0e13a46992",
   "metadata": {},
   "source": [
    "## BGO function"
   ]
  },
  {
   "cell_type": "code",
   "execution_count": 8,
   "id": "fb08e8d7-010a-4584-a4d4-be3b3cb38e2a",
   "metadata": {},
   "outputs": [],
   "source": [
    "def read_matlab_file_with_BGO_data(matlabfilename):\n",
    "    '''Read matlab file with ASIM BGO data from the high energy detector (HED)\n",
    "\n",
    "    tus: relative times in microseconds.\n",
    "    erg: energy channel (needs to be calibrated to keV using calibration coeff from https://git.app.uib.no/ASIM-MXGS/IN-FLIGHT_CALIBRATION_BGO/-/tree/master/CALIBRATION_COEFS )\n",
    "    typ: normal (0), fast(1), valley (3), or overflow event (2 or 4 not )\n",
    "    adr: BGO address 1-12\n",
    "    dau: dau address 1-4\n",
    "    det: detector address 1-3\n",
    "    DetCol: RGB color\n",
    "    \n",
    "    - Kepping only normal (0) and fast (1) events\n",
    "    '''\n",
    "    matlabfile_TGF = path_HED + '%s.mat' % matlabfilename\n",
    "    \n",
    "    mat = scipy.io.loadmat(matlabfile_TGF)\n",
    "    \n",
    "    tus = mat['tus'].flatten()\n",
    "    erg = mat['erg'].flatten()\n",
    "    DetCol = mat['DetCol'] # Investigate this matrix\n",
    "    adr = mat['adr'].flatten()\n",
    "    dau = mat['dau'].flatten()\n",
    "    det = mat['det'].flatten()\n",
    "    typ = mat['typ'].flatten()\n",
    "    \n",
    "    date = mat['date'][0] #raw datetime\n",
    "    \n",
    "    \n",
    "    try:\n",
    "        length = len(tus)\n",
    "        if any(len(lst) != length for lst in [erg, typ, adr, dau, det]):\n",
    "        # at least one list has a different length\n",
    "            raise ValueError(\"Arrays have different lengths\")\n",
    "            \n",
    "        mask = np.where((typ != 0) & (typ != 1)) #finding indecies of vallays and overflow events\n",
    "        \n",
    "        # removing those indecies\n",
    "        tus = np.delete(tus,mask)\n",
    "        erg = np.delete(erg,mask)\n",
    "        adr = np.delete(adr,mask)\n",
    "        dau = np.delete(dau,mask)\n",
    "        det = np.delete(det,mask)\n",
    "        typ = np.delete(typ,mask)\n",
    "        \n",
    "        \n",
    "        return tus, erg, typ, adr, dau, det, DetCol, date\n",
    "    \n",
    "    except ValueError as ve:\n",
    "        print(\"Function aborted because of: \" + str(ve))\n",
    "        print(\"Length of arrays: \")\n",
    "        for lst in [tus,erg, typ, adr, dau, det]:\n",
    "            print(len(lst))"
   ]
  },
  {
   "cell_type": "markdown",
   "id": "9cca534c",
   "metadata": {},
   "source": [
    "# Plotting functions"
   ]
  },
  {
   "cell_type": "markdown",
   "id": "d59076a5-5400-402b-a613-cbfabd52478d",
   "metadata": {},
   "source": [
    "## LED"
   ]
  },
  {
   "cell_type": "code",
   "execution_count": 9,
   "id": "2e962c5f",
   "metadata": {},
   "outputs": [],
   "source": [
    "def plot_LED(grb_id=None, LED_filename=None, binsize=10,start_range =0, end_range=0):\n",
    "    \n",
    "    try:\n",
    "        if grb_id != None and LED_filename == None:\n",
    "            if grb_id not in trig_dict_LED.keys():\n",
    "                raise KeyError(\"GRB ID not in dict\")\n",
    "            else:\n",
    "                LED_filename = trig_dict_LED[grb_id][0]\n",
    "        else:\n",
    "            LED_filename = LED_filename\n",
    "    except KeyError as e:\n",
    "        return print(e)\n",
    "\n",
    "    tus_LED, erg_LED, energy_keV_LED, tus_keep_multihit_LED, erg_keep_multihit_LED, multihit_indx_LED, date = read_matlab_file_with_CZT_data(\n",
    "    LED_filename)\n",
    "\n",
    "    binsize = binsize*1e3 #converting to microseconds\n",
    "    start_range = start_range*1e3 #converting to microseconds\n",
    "    end_range = end_range*1e3\n",
    "    \n",
    "    fig0, ax1 = plt.subplots(\n",
    "        1, 1, figsize=(12, 8), sharex=True, sharey=False)\n",
    "    \n",
    "    ax1.hist(tus_keep_multihit_LED, bins=np.arange(\n",
    "        min(tus_keep_multihit_LED), max(tus_keep_multihit_LED) + binsize, binsize),edgecolor= \"black\", histtype=\"step\")\n",
    "    ax1.set_xlabel(\"time [us], binsize {} ms\".format((binsize / 1e3)))\n",
    "    ax1.set_ylabel(\"Counts per bin\")\n",
    "    ax1.set_title(\"GRB \" + date)\n",
    "    \n",
    "    if start_range and end_range != 0:\n",
    "        mean = get_mean(LED_filename,binsize,tus_LED, start_range, end_range)\n",
    "        ax1.axhline(y=mean, color=\"red\", label=\"Mean of bg: {} counts/bin \\n First range [{} - {}] s \\n 2nd: [{} - {}] s\".format(\n",
    "            np.round(mean,2), np.round(min(tus_LED)/1e6,3),start_range/1e6, end_range/1e6, np.round(max(tus_LED)/1e6,3)),linestyle='--')\n",
    "                                                                                                                              \n",
    "                                                                                                                          \n",
    "        ax1.legend()\n",
    "        plt.show()\n",
    "    else:\n",
    "        plt.show()\n",
    "        \n",
    "    #plt.savefig(output_dir + \"/{}_LED\".format(grb_id))\n",
    "\n",
    "    "
   ]
  },
  {
   "cell_type": "markdown",
   "id": "9289b557-a7da-4688-964f-c160ac71e748",
   "metadata": {},
   "source": [
    "## HED"
   ]
  },
  {
   "cell_type": "code",
   "execution_count": 10,
   "id": "077a70d2-f53e-4e33-b1e1-5cb91d8b75a6",
   "metadata": {},
   "outputs": [],
   "source": [
    "def plot_HED(grb_id=None, binsize=10, start_GRB=0, end_GRB=0, fig=(12,8),tus_arr = None, T0=None):\n",
    "    \n",
    "    \"\"\"Plotting data from HED. If HED_filename is not specified, but tus_arr is: plotting the tus array without reading matlab file\n",
    "        If start and end value for the GRB is not given, the data is plotted normally,\n",
    "        - BINSIZE IS INITIALIZED AS MILLISECONDS\n",
    "        - start_GRB & end_GRB IS INITIALIZED AS MILLISECONDS 0.5 s = 500 ms\n",
    "        - tus_HED is given in microseconds\n",
    "    \"\"\"\n",
    "    try:\n",
    "        if grb_id not in trig_dict_HED.keys():\n",
    "            raise KeyError(\"GRB ID not in dict\")\n",
    "        else:\n",
    "            HED_filename = trig_dict_HED[grb_id][0]\n",
    "    except KeyError as e:\n",
    "        return print(e)\n",
    "    \n",
    "    binsize = binsize*1e3 #converting to microseconds\\n\",\n",
    "    \n",
    "    start_GRB = start_GRB*1e3 #converting to microseconds\\n\",\n",
    "    end_GRB = end_GRB*1e3,\n",
    "    \n",
    "    #Creating switch for input\n",
    "    \n",
    "    if HED_filename != None and tus_arr == None:\n",
    "        tus_HED, erg_HED, typ_HED, adr_HED, dau_HED, det_HED, DetCol_HED, date = read_matlab_file_with_BGO_data(HED_filename)\n",
    "        T0 = datetime.strptime(date, \"%Y-%b-%d %H:%M:%S.%f\")\n",
    "        date = datetime.strftime(T0,format='%y%m%d') #Correct format for title of plot: GRBYYMMDD\n",
    "        grb_id = \"GRB\" + date\n",
    "        \n",
    "    elif HED_filename == None and type(tus_arr) == np.ndarray and type(T0) == datetime:\n",
    "        tus_HED = tus_arr\n",
    "        date = datetime.strftime(T0,format='%y%m%d') #Correct format for title of plot: YYMMDD\n",
    "        grb_id = \"GRB\" + date\n",
    "        \n",
    "    else:\n",
    "        return \"T0 must be specified when initiating tus_arr\"\n",
    "    \n",
    "    fig0, ax1 = plt.subplots(\n",
    "        1, 1, figsize=fig, sharex=True, sharey=False)\n",
    "    ax1.hist(tus_HED, bins=np.arange(\n",
    "        min(tus_HED), max(tus_HED) + binsize, binsize),edgecolor= \"black\", histtype=\"step\")\n",
    "    \n",
    "    ax1.set_xlabel(\"time [us], binsize {} ms\".format((binsize / 1e3)))\n",
    "    ax1.set_ylabel(\"Counts per bin\"),\n",
    "    ax1.set_title(grb_id) \n",
    "\n",
    "\n",
    "    if start_GRB and end_GRB != 0:\n",
    "        mean = get_mean(HED_filename,binsize,tus_HED, start_GRB, end_GRB)\n",
    "        ax1.axhline(y=mean, color=\"red\", label= \"Mean of bg: {} counts/bin \\n First range [{} - {}] s \\n 2nd: [{} - {}] s\".format(\n",
    "            np.round(mean,2), np.round(min(tus_HED)/1e6,3),start_GRB/1e6, end_GRB/1e6, np.round(max(tus_HED)/1e6,3)),linestyle='--'),\n",
    "        ax1.legend()\n",
    "        plt.show(),\n",
    "    else:\n",
    "        plt.show()"
   ]
  },
  {
   "cell_type": "markdown",
   "id": "2e92a07e-f1bd-41c2-8af2-928524543b15",
   "metadata": {},
   "source": [
    "## mean"
   ]
  },
  {
   "cell_type": "code",
   "execution_count": 11,
   "id": "e7e11e87-56c1-45b4-a914-868cade107c3",
   "metadata": {},
   "outputs": [],
   "source": [
    "# Rename start_GRB to start_range. Same for end_GRB\n",
    "def get_mean(matlab_filename, binsize, tus, start_GRB, end_GRB):\n",
    "    \n",
    "    \"\"\"Function for getting the mean from the background.\n",
    "    matlab_filename: <str> filename\n",
    "    binsize: <int> given in us // 5ms = 5000 us \n",
    "    start & end_GRB given in us.\n",
    "    -Finding ranges to compute the mean in each bin. \"\"\"\n",
    "    \n",
    "    tus = np.sort(tus)\n",
    "    range_1 =  find_closest(tus,start_GRB)\n",
    "    range_2 = find_closest(tus,end_GRB)\n",
    "    \n",
    "    range_1_counts = np.histogram(tus[:range_1], bins=np.arange(\n",
    "        min(tus[:range_1]), max(tus[:range_1]) + binsize, binsize))[0]\n",
    "    \n",
    "    range_2_counts = np.histogram(tus[range_2:], bins=np.arange(\n",
    "        min(tus[range_2:]), max(tus[range_2:]) + binsize, binsize))[0]\n",
    "    \n",
    "    background_data = np.append(range_1_counts,range_2_counts)\n",
    "    mean = np.mean(background_data)\n",
    "    return mean"
   ]
  },
  {
   "cell_type": "code",
   "execution_count": 12,
   "id": "38400522-f307-4604-8411-5ba2f5dabc66",
   "metadata": {},
   "outputs": [],
   "source": [
    "def find_nearest(array, value):\n",
    "    \"\"\"Returns nearest index for value in array.\n",
    "    \"\"\"\n",
    "    array = np.asarray(array)\n",
    "    return (np.abs(array - value)).argmin()"
   ]
  },
  {
   "cell_type": "markdown",
   "id": "ce2e81b0-e327-4fc4-bda6-4d741cbc23c3",
   "metadata": {},
   "source": [
    "# Concatination of multiple files\n",
    "    -defining function concat_files"
   ]
  },
  {
   "cell_type": "code",
   "execution_count": 13,
   "id": "a40bb4ee-efb9-4f39-92f4-d5bd60a9b112",
   "metadata": {},
   "outputs": [],
   "source": [
    "def find_stitch_idx(tus1=None, tus2=None, erg1=None, erg2=None):\n",
    "    \n",
    "    idx = find_nearest(tus1,tus2[0])\n",
    "    if erg1[idx] != erg2[0]:\n",
    "        \n",
    "        idx_nearest_erg = find_nearest(erg1[idx:], erg2[0])\n",
    "        stitch_idx = idx_nearest_erg + idx\n",
    "        \n",
    "        print(\"stitch_idx: \", stitch_idx)\n",
    "        print(\"erg1[stitch_idx]\", erg1[stitch_idx])\n",
    "        print(\"erg2[0]\", erg2[0])\n",
    "        print(erg1[stitch_idx:] == erg2[0:len(erg1[stitch_idx:])])\n",
    "        print(\"all ergs line up: \", np.all(erg1[stitch_idx:] == erg2[0:len(erg1[stitch_idx:])])) #Checking if the energies lines up\n",
    "        \n",
    "        print(\"erg1: \", erg1[stitch_idx:])\n",
    "        print(\"erg2: \", erg2[0:len(erg1[13148:])])\n",
    "        \n",
    "        \"\"\"    return stitch_idx\n",
    "        else:\n",
    "            print(\"Could not find a suitible index for stitching files\")\"\"\"\n",
    "    else:\n",
    "        #found correct stich index\n",
    "        return idx"
   ]
  },
  {
   "cell_type": "code",
   "execution_count": 14,
   "id": "8ef1cc58-5ade-4e64-bcd9-914655ef1bcc",
   "metadata": {},
   "outputs": [],
   "source": [
    "def concat_GRB(grb_id, flag):\n",
    "    \"\"\" function concat_files concatenates multiple matlab files. Can only concat HED or LED files at the time\n",
    "    \n",
    "    Flag determines whether the input list is of HED or LED files\n",
    "    \n",
    "    --> If there is \"missing counts\" between the files. 0 counts is added for the respective missing time interval. Automatically when time-shifted (?)\n",
    "    \n",
    "    Routine description: \n",
    "    1) The different tus arrays have their own T0. Calculating the delta T between T0 and Tn (time for concatination)  \n",
    "    \n",
    "    \n",
    "    Parameters:\n",
    "    %---------------------------------------------------------------\n",
    "    \n",
    "    grb_id <string>  : key for dictionary containing list of matlab filenames\n",
    "    flag <string>    : \"HED\" or \"LED\". They have different arrays after calling read_matlab_file function. This flag handles that.\n",
    "    \n",
    "    \n",
    "    returns:\n",
    "    %---------------------------------------------------------------\n",
    "    \n",
    "    \n",
    "    output for HED:\n",
    "    %---------------------------------------------------------------\n",
    "    concat_tus_HED <array> : concat tus (relative times in microseconds) for all arrays\n",
    "    concat_erg_HED <array> : concat erg (energy channel (needs to be calibrated to keV using calibration coeff)) for all arrays\n",
    "    concat_typ_HED <array> : concat typ for all counts  (normal (0), fast(1), valley (3), or overflow event (2 or 4 not )) read function keeps only 0 & 1.\n",
    "    concat_adr_HED <array> : concat BGO address 1-12 for all arrays\n",
    "    concat_dau_HED <array> : concat dau address 1-4\n",
    "    concat_det_HED <array> : concat detector address 1-3\n",
    "    concat_DetCol_HED <array> : concat RGB color for all arrays\n",
    "    T0 <datetime> : datetime object of T0\n",
    "    \n",
    "    output for LED:\n",
    "    %----------------------------------------------------------------\n",
    "    \n",
    "    \n",
    "    \"\"\"\n",
    "    #Handling input is in the right format\n",
    "    try:\n",
    "        if type(flag) and type(grb_id) != str:\n",
    "            raise TypeError(\"grb_id and/or flag input is not string\")\n",
    "        if flag != \"HED\" and flag != \"LED\":\n",
    "            raise NameError(\"flag-string is neither HED or LED\")\n",
    "        if flag == \"HED\":\n",
    "            if grb_id not in trig_dict_HED.keys():\n",
    "                raise KeyError(\"GRB ID not in trig_dict_HED\")\n",
    "        if flag == \"LED\":\n",
    "            if grb_id not in trig_dict_LED.keys():\n",
    "                raise KeyError(\"GRB ID not in trig_dict_LED\")\n",
    "        else:\n",
    "            if flag == \"HED\":\n",
    "                HED_files = trig_dict_HED[grb_id] #list of HED filenames\n",
    "                if all(HED_files[i] <= HED_files[i+1] for i in range(len(HED_files) - 1)) == False: #logic for checking that the files are in increasing order\n",
    "                    raise IndexError(\"List is not sorted in increasing order\")\n",
    "            if flag == \"LED\":\n",
    "                LED_files = trig_dict_LED[grb_id] #list of LED filenames in list\n",
    "                if all(LED_files[i] <= LED_files[i+1] for i in range(len(LED_files) - 1)) == False: #logic for checking that the files are in increasing order\n",
    "                    raise IndexError(\"List is not sorted in increasing order\")\n",
    "                    \n",
    "                    \n",
    "    except (TypeError, NameError, KeyError) as e:\n",
    "        return print(e) #routine quits if error is found\n",
    "    \n",
    "    except IndexError:\n",
    "        if flag == \"HED\":\n",
    "            HED_files.sort() #sorting filenames in increasing order. Should already be done in dict creation, but good to check\n",
    "        else:\n",
    "            LED_files.sort() #sorting filenames in increasing order. Should already be done in dict creation, but good to check\n",
    "            \n",
    "            \n",
    "    try: \n",
    "        data = [] #list that stores dictionary for each file\n",
    "        if flag == \"HED\":\n",
    "            \n",
    "            num_files = len(HED_files)\n",
    "            \n",
    "            for filename in HED_files:\n",
    "                \n",
    "                tus, erg, typ, adr, dau, det, DetCol, date = read_matlab_file_with_BGO_data(filename)\n",
    "                if len(date) != 27:\n",
    "                    raise ValueError(\"length of datetime string is not in correct format\")\n",
    "                \n",
    "                index_sort = np.argsort(tus) # sorting tus in increasing order\n",
    "                print(\"length of index_sort: \", len(index_sort))\n",
    "                tus_sort, erg_sort, typ_sort, adr_sort, dau_sort, det_sort = tus[index_sort], erg[index_sort], typ[index_sort], adr[index_sort],dau[index_sort], det[index_sort] #Making sure that the are coherent\n",
    "                \n",
    "                file_dict = {\"tus\":tus_sort, \"erg\":erg_sort, \"typ\":typ_sort, \"adr\":adr_sort, \"dau\":dau_sort, \"det\": det_sort, \"DetCol\":DetCol, \"date\":date}\n",
    "                \n",
    "                data.append(file_dict)\n",
    "            \n",
    "            T0 = datetime.strptime(data[0][\"date\"], \"%Y-%b-%d %H:%M:%S.%f\") #T0 of first file. Will be T0 for concat tus array\n",
    "\n",
    "            # Adding the timeshift to all tus from T0\n",
    "            for i in np.arange(1,num_files):\n",
    "                deltaT = datetime.strptime(data[i][\"date\"], \"%Y-%b-%d %H:%M:%S.%f\") - T0\n",
    "                print(\"deltaT: \",deltaT)\n",
    "                data[i][\"tus\"] = data[i][\"tus\"] + float(deltaT.total_seconds())*1e6 #adding total microseconds to all entries\n",
    "            \n",
    "            return data\n",
    "            \n",
    "            \"\"\"\n",
    "            # Cutting arrays at respective index; idx\n",
    "            i = 0\n",
    "            while i < num_files-1: #Need num_files-1 cutting indecies\n",
    "                print(\"filenum: \",i)\n",
    "                idx = find_stitch_idx(tus1=data[i][\"tus\"], tus2=data[i+1][\"tus\"], erg1= data[i][\"erg\"] , erg2 = data[i+1][\"erg\"]) #index for cutting\n",
    "\n",
    "            \n",
    "            \n",
    "\n",
    "                print(\"idx: \", idx)\n",
    "                data[i][\"tus\"] = data[i][\"tus\"][:idx] #cutting arrays at idx\n",
    "                data[i][\"erg\"] = data[i][\"erg\"][:idx] \n",
    "                data[i][\"typ\"] = data[i][\"typ\"][:idx]\n",
    "                data[i][\"dau\"] = data[i][\"dau\"][:idx]\n",
    "                \n",
    "                i += 1 \n",
    "            #DEBUG RETURN\n",
    "            return data[0][\"tus\"],data[1][\"tus\"], data[0][\"erg\"], data[1][\"erg\"]\n",
    "            #Concatenating respective arrays\n",
    "            concat_tus_HED = np.concatenate([data[i][\"tus\"] for i in range(0,num_files)]) #Just concatinating tus arrays \n",
    "            concat_erg_HED = np.concatenate([data[i][\"erg\"] for i in range(0,num_files)])\n",
    "            concat_typ_HED = np.concatenate([data[i][\"typ\"] for i in range(0,num_files)])\n",
    "            concat_dau_HED = np.concatenate([data[i][\"dau\"] for i in range(0,num_files)])\n",
    "            \n",
    "            return concat_tus_HED, concat_erg_HED, concat_typ_HED, concat_dau_HED, DetCol, T0\n",
    "        \n",
    "        #LED concatination\n",
    "        else: \n",
    "            \n",
    "            for filename in LED_files:\n",
    "                \n",
    "                tus, erg, energy_keV, tus_keep_multihit, erg_keep_multihit, multihit_indx, date = read_matlab_file_with_CZT_data(filename)\n",
    "                if len(date) != 27:\n",
    "                    raise IndexError(\"length of datetime string is not in correct format of length 27\")\n",
    "                \n",
    "                file_dict = {\"tus\":tus, \"tus_keep_multihit\": tus_keep_multihit, \"erg\":erg, \"erg_keep_multihit\": erg_keep_multihit, \n",
    "                             \"energy_keV\": energy_keV, \"multihit_indx\": multihit_indx, \"date\":date} #orginizing variables in dictionary\n",
    "                \n",
    "                data.append(file_dict) #dict containing variables stored in list. The index of the list determines which file. Allways in increasing order \"\"\"\n",
    "            \n",
    "            \n",
    "    except (ValueError) as e:\n",
    "        return print(e)\n",
    "    \n",
    "    except (IndexError):\n",
    "        idx = find_stitch_idx(tus1=data[i][\"tus\"], tus2=data[i][\"tus\"], erg1=data[0][\"erg\"] , erg2=ata[1][\"erg\"]) \n",
    "    \n",
    "    print(\"no errors found\")\n"
   ]
  },
  {
   "cell_type": "markdown",
   "id": "cdc0a5e5-ef3f-4963-a05d-338b5fca1c91",
   "metadata": {},
   "source": [
    "## Testing concat"
   ]
  },
  {
   "cell_type": "code",
   "execution_count": 14,
   "id": "cb4b7d59-9c0b-4ab8-bf90-37fc0bdb5615",
   "metadata": {},
   "outputs": [],
   "source": [
    "#concat_tus_HED, concat_erg_HED, concat_typ_HED, concat_dau_HED, DetCol, T0 = concat_GRB(\"GRB191221\",\"HED\")\n",
    "#Deb"
   ]
  },
  {
   "cell_type": "code",
   "execution_count": 15,
   "id": "fc721227-5c05-4613-93c6-9b06cb75cbad",
   "metadata": {},
   "outputs": [
    {
     "ename": "NameError",
     "evalue": "name 'tus1' is not defined",
     "output_type": "error",
     "traceback": [
      "\u001b[0;31m---------------------------------------------------------------------------\u001b[0m",
      "\u001b[0;31mNameError\u001b[0m                                 Traceback (most recent call last)",
      "Input \u001b[0;32mIn [15]\u001b[0m, in \u001b[0;36m<module>\u001b[0;34m\u001b[0m\n\u001b[0;32m----> 1\u001b[0m \u001b[38;5;28mprint\u001b[39m(np\u001b[38;5;241m.\u001b[39mall(\u001b[43mtus1\u001b[49m \u001b[38;5;241m==\u001b[39m tus1_ex))\n\u001b[1;32m      2\u001b[0m \u001b[38;5;28mprint\u001b[39m(np\u001b[38;5;241m.\u001b[39mall(tus2 \u001b[38;5;241m==\u001b[39m tus2_ex))\n\u001b[1;32m      3\u001b[0m \u001b[38;5;28mprint\u001b[39m(np\u001b[38;5;241m.\u001b[39mall(erg1 \u001b[38;5;241m==\u001b[39m erg1_ex)) \u001b[38;5;66;03m#wrong\u001b[39;00m\n",
      "\u001b[0;31mNameError\u001b[0m: name 'tus1' is not defined"
     ]
    }
   ],
   "source": [
    "print(np.all(tus1 == tus1_ex))\n",
    "print(np.all(tus2 == tus2_ex))\n",
    "print(np.all(erg1 == erg1_ex)) #wrong\n",
    "print(np.all(erg2 == erg2_ex))"
   ]
  },
  {
   "cell_type": "code",
   "execution_count": 95,
   "id": "726f0f88-5c1a-4861-9cb4-1546d593434b",
   "metadata": {},
   "outputs": [
    {
     "data": {
      "text/plain": [
       "1179"
      ]
     },
     "execution_count": 95,
     "metadata": {},
     "output_type": "execute_result"
    }
   ],
   "source": [
    "mask = np.where(erg1!= erg1_ex)\n",
    "len(mask[0])"
   ]
  },
  {
   "cell_type": "code",
   "execution_count": 108,
   "id": "8dee8417-7e68-4027-b432-72569af83a37",
   "metadata": {},
   "outputs": [
    {
     "name": "stdout",
     "output_type": "stream",
     "text": [
      "length of index_sort:  13481\n",
      "length of index_sort:  13556\n",
      "deltaT:  0:00:01.999000\n"
     ]
    }
   ],
   "source": [
    "data=concat_GRB(\"GRB190825\",\"HED\")"
   ]
  },
  {
   "cell_type": "code",
   "execution_count": 123,
   "id": "649128bd-5433-4ee8-8357-f4fe68655ab8",
   "metadata": {},
   "outputs": [
    {
     "name": "stderr",
     "output_type": "stream",
     "text": [
      "/tmp/ipykernel_134062/813002758.py:1: DeprecationWarning: elementwise comparison failed; this will raise an error in the future.\n",
      "  np.all(data[0][\"erg\"] == erg1_sort)\n"
     ]
    },
    {
     "data": {
      "text/plain": [
       "False"
      ]
     },
     "execution_count": 123,
     "metadata": {},
     "output_type": "execute_result"
    }
   ],
   "source": [
    "np.all(data[0][\"erg\"] == erg1_sort)"
   ]
  },
  {
   "cell_type": "code",
   "execution_count": 60,
   "id": "baebbe25-063a-46de-ab20-d8832b19e56e",
   "metadata": {},
   "outputs": [
    {
     "name": "stdout",
     "output_type": "stream",
     "text": [
      "[ True  True  True  True  True  True  True  True  True  True  True  True\n",
      "  True  True  True  True  True  True  True  True  True  True  True  True\n",
      "  True  True  True  True  True  True  True  True  True  True  True  True\n",
      "  True  True  True  True  True  True  True  True  True  True  True  True\n",
      "  True  True  True  True  True  True  True  True  True  True  True  True\n",
      "  True  True  True  True  True  True  True  True  True  True  True  True\n",
      "  True  True  True  True  True  True  True  True  True  True  True  True\n",
      "  True  True  True  True  True  True  True  True  True  True  True  True\n",
      "  True  True  True  True  True  True  True  True  True  True  True  True\n",
      "  True  True  True  True  True  True  True  True  True  True  True  True\n",
      "  True  True  True  True  True  True  True  True  True  True  True  True\n",
      "  True  True  True  True  True  True  True  True  True  True  True  True\n",
      "  True  True  True  True  True  True  True  True  True  True  True  True\n",
      "  True  True  True  True  True  True  True  True  True  True  True  True\n",
      "  True  True  True  True  True  True  True  True  True  True  True  True\n",
      "  True  True  True  True  True  True  True  True  True  True  True  True\n",
      "  True  True  True  True  True  True  True  True  True  True  True  True\n",
      "  True  True  True  True  True  True  True  True  True  True  True  True\n",
      "  True  True  True  True  True  True  True  True  True  True  True  True\n",
      "  True  True  True  True  True  True  True  True  True  True  True  True\n",
      "  True  True  True  True  True  True  True  True  True  True  True  True\n",
      "  True  True  True  True  True  True  True  True  True  True  True  True\n",
      "  True  True  True  True  True  True  True  True  True  True  True  True\n",
      "  True  True  True  True  True  True  True  True  True  True  True  True\n",
      "  True  True  True  True  True  True  True  True  True  True  True  True\n",
      "  True  True  True  True  True  True  True  True  True  True  True  True\n",
      "  True  True  True  True  True  True  True  True  True  True  True  True\n",
      "  True  True  True  True  True  True  True  True  True]\n"
     ]
    }
   ],
   "source": [
    "print(erg1[13148:] == erg2[0:len(erg1[13148:])])"
   ]
  },
  {
   "cell_type": "code",
   "execution_count": 84,
   "id": "c1c87560-92fd-4f30-88af-4e96bfbba47c",
   "metadata": {},
   "outputs": [],
   "source": [
    "tus1_ex, erg1_ex, typ1_ex, adr1, dau1, det1, DetCol1, date1 = read_matlab_file_with_BGO_data(\"2019_08_25_21_04_53\")\n",
    "tus2_ex, erg2_ex, typ2, adr2, dau2, det2, DetCol2, date2  = read_matlab_file_with_BGO_data(\"2019_08_25_21_04_55\")"
   ]
  },
  {
   "cell_type": "code",
   "execution_count": 85,
   "id": "d453a3f2-7824-483c-9b1c-245ab9980293",
   "metadata": {},
   "outputs": [],
   "source": [
    "tus1_zip, erg1_zip = zip(*sorted(zip(tus1_ex, erg1_ex))) #Sorted and coherent arrays\n",
    "\n",
    "tus1_ex = np.asarray(tus1_zip)\n",
    "erg1_ex = np.asarray(erg1_zip)\n",
    "\n",
    "############# tus2\n",
    "\n",
    "T0_zip = datetime.strptime(date1, \"%Y-%b-%d %H:%M:%S.%f\")\n",
    "T1_zip = datetime.strptime(date2, \"%Y-%b-%d %H:%M:%S.%f\")\n",
    "\n",
    "deltaT_zip = T1_zip - T0_zip\n",
    "\n",
    "tus2_zip = tus2_ex + deltaT_zip.total_seconds()*1e6\n",
    "\n",
    "tus2_zip, erg2_zip = zip(*sorted(zip(tus2_ex, erg2_ex))) #Sorted and coherent arrays\n",
    "\n",
    "tus2_zip = np.asarray(tus2_zip)\n",
    "erg2_zip = np.asarray(erg2_zip)\n",
    "\n"
   ]
  },
  {
   "cell_type": "code",
   "execution_count": 125,
   "id": "34e3b0e7-b236-4809-989e-d94e638a7fba",
   "metadata": {},
   "outputs": [],
   "source": [
    "index_sort1 = np.argsort(tus1_ex, kind=\"mergesort\") # sorting tus in increasing order\n",
    "\n",
    "tus1_np = tus1_ex[index_sort1]\n",
    "erg1_np = erg1_ex[index_sort1] #Making sure that the are coherent\n",
    "\n",
    "############# tus2\n",
    "\n",
    "T0_np = datetime.strptime(date1, \"%Y-%b-%d %H:%M:%S.%f\")\n",
    "T1_np = datetime.strptime(date2, \"%Y-%b-%d %H:%M:%S.%f\")\n",
    "\n",
    "deltaT_np = T1_np - T0_np\n",
    "\n",
    "tus2_np = tus2_np + deltaT_np.total_seconds()*1e6\n",
    "\n",
    "index_sort2 = np.argsort(tus2_np, kind=\"mergesort\") # sorting tus in increasing order\n",
    "              \n",
    "tus2_np = tus2_ex[index_sort2] #Making sure that the are coherent\n",
    "erg2_np = erg2_ex[index_sort2]\n"
   ]
  },
  {
   "cell_type": "code",
   "execution_count": 123,
   "id": "ba5de69b-29f0-488b-8384-9f983bc09265",
   "metadata": {},
   "outputs": [
    {
     "data": {
      "text/plain": [
       "True"
      ]
     },
     "execution_count": 123,
     "metadata": {},
     "output_type": "execute_result"
    }
   ],
   "source": [
    "np.all(index_sort1 == np.arange(0,len(tus1_ex)))"
   ]
  },
  {
   "cell_type": "code",
   "execution_count": 121,
   "id": "5921ed79-df5d-4802-baf4-ef5c774148cf",
   "metadata": {},
   "outputs": [
    {
     "data": {
      "text/plain": [
       "True"
      ]
     },
     "execution_count": 121,
     "metadata": {},
     "output_type": "execute_result"
    }
   ],
   "source": [
    "tus1_ex[102] == tus1_np[104]"
   ]
  },
  {
   "cell_type": "code",
   "execution_count": 131,
   "id": "7cb688f6-7208-4a97-9b04-69e5cc1820ca",
   "metadata": {},
   "outputs": [
    {
     "data": {
      "text/plain": [
       "(array([], dtype=int64),)"
      ]
     },
     "execution_count": 131,
     "metadata": {},
     "output_type": "execute_result"
    }
   ],
   "source": [
    "np.where(index_sort1 != np.arange(0,len(tus1_ex)))"
   ]
  },
  {
   "cell_type": "code",
   "execution_count": 102,
   "id": "17132019-dfa0-4811-bae6-6710a7d71a3f",
   "metadata": {},
   "outputs": [],
   "source": [
    "def sorting(l1, l2):\n",
    "    # l1 and l2 has to be numpy arrays\n",
    "    idx = np.argsort(l1)\n",
    "    return l1[idx], l2[idx]"
   ]
  },
  {
   "cell_type": "code",
   "execution_count": 132,
   "id": "2dacf289-16af-4582-ab07-bcbc27d67af3",
   "metadata": {},
   "outputs": [
    {
     "name": "stdout",
     "output_type": "stream",
     "text": [
      "True\n",
      "True\n",
      "True\n",
      "False\n"
     ]
    }
   ],
   "source": [
    "print(np.all(tus1_np == tus1_zip))\n",
    "print(np.all(tus2_np == tus2_zip))\n",
    "print(np.all(erg1_np == erg1_zip))\n",
    "print(np.all(erg2_np == erg2_zip))"
   ]
  },
  {
   "cell_type": "code",
   "execution_count": 136,
   "id": "59e7157a-bcab-4d3b-8709-52630c059a36",
   "metadata": {},
   "outputs": [
    {
     "name": "stdout",
     "output_type": "stream",
     "text": [
      "True\n",
      "True\n",
      "True\n",
      "False\n"
     ]
    }
   ],
   "source": [
    "print(np.all(erg1_np ==erg1_ex))\n",
    "print(np.all(erg1_zip ==erg1_ex))\n",
    "print(np.all(erg2_np ==erg2_ex))\n",
    "print(np.all(erg2_zip ==erg2_ex))"
   ]
  },
  {
   "cell_type": "code",
   "execution_count": 138,
   "id": "27cf497a-497a-4969-b7a7-5b6cbab8826a",
   "metadata": {},
   "outputs": [
    {
     "name": "stdout",
     "output_type": "stream",
     "text": [
      "True\n"
     ]
    }
   ],
   "source": [
    "print(np.all(tus2_zip == tus2_ex))"
   ]
  },
  {
   "cell_type": "code",
   "execution_count": 108,
   "id": "210f1e66-459a-464f-a019-6c6372a58792",
   "metadata": {},
   "outputs": [
    {
     "data": {
      "text/plain": [
       "(array([], dtype=int64),)"
      ]
     },
     "execution_count": 108,
     "metadata": {},
     "output_type": "execute_result"
    }
   ],
   "source": [
    "mask_tus_np = np.where(tus1_ex != tus1_np)\n",
    "mask_tus_np"
   ]
  },
  {
   "cell_type": "code",
   "execution_count": 127,
   "id": "225119c8-8574-462a-9aed-c5ec9ae4ece6",
   "metadata": {},
   "outputs": [
    {
     "data": {
      "text/plain": [
       "(array([], dtype=int64),)"
      ]
     },
     "execution_count": 127,
     "metadata": {},
     "output_type": "execute_result"
    }
   ],
   "source": [
    "mask_tus_zip = np.where(tus1_ex[13148:] != tus1_zip[13148:])\n",
    "mask_tus_zip"
   ]
  },
  {
   "cell_type": "code",
   "execution_count": 128,
   "id": "2d71ba48-a6f5-407a-a020-8955ab48fb1c",
   "metadata": {},
   "outputs": [
    {
     "data": {
      "text/plain": [
       "(array([], dtype=int64),)"
      ]
     },
     "execution_count": 128,
     "metadata": {},
     "output_type": "execute_result"
    }
   ],
   "source": [
    "mask_erg_zip = np.where(erg1_ex[13148:] != erg1_zip[13148:])\n",
    "mask_erg_zip"
   ]
  },
  {
   "cell_type": "code",
   "execution_count": 129,
   "id": "5b36bf11-56b5-41e8-b321-4ee3d75bc7fd",
   "metadata": {},
   "outputs": [
    {
     "data": {
      "text/plain": [
       "(array([], dtype=int64),)"
      ]
     },
     "execution_count": 129,
     "metadata": {},
     "output_type": "execute_result"
    }
   ],
   "source": [
    "mask_erg1_np = np.where(erg1_ex[13148:]!= erg1_np[13148:])\n",
    "mask_erg1_np"
   ]
  },
  {
   "cell_type": "code",
   "execution_count": 133,
   "id": "e21ee969-8a9a-42ed-8012-14b26293852e",
   "metadata": {},
   "outputs": [
    {
     "data": {
      "text/plain": [
       "(array([ 30,  31,  60,  62,  63,  64,  65,  66,  68,  79,  80,  97,  98,\n",
       "         99, 112, 114, 138, 139, 219, 220, 231, 232, 249, 250, 288, 289,\n",
       "        329, 330, 331, 364, 365, 367, 368, 369]),)"
      ]
     },
     "execution_count": 133,
     "metadata": {},
     "output_type": "execute_result"
    }
   ],
   "source": [
    "mask_erg2_np = np.where(erg2_zip[13148:]!= erg2_np[13148:])\n",
    "mask_erg2_np"
   ]
  },
  {
   "cell_type": "code",
   "execution_count": 148,
   "id": "d5622dc2-7fd0-42c6-a9a0-159e20289c65",
   "metadata": {},
   "outputs": [
    {
     "name": "stdout",
     "output_type": "stream",
     "text": [
      "[-45087.86111111 -45055.08333333 -44799.16666667 -44645.25\n",
      " -42786.88888889 -42539.25       -41130.33333333 -40869.63888889\n",
      " -40594.66666667 -33733.94444444 -32986.91666667 -28822.13888889\n",
      " -28822.13888889 -27731.47222222 -27731.47222222 -27143.97222222\n",
      " -26882.19444444 -25766.72222222 -24623.44444444 -23808.75\n",
      " -23757.72222222 -19774.22222222 -19541.75       -19305.\n",
      " -18768.11111111 -18768.05555556 -13427.5        -13427.41666667\n",
      "  -9875.05555556  -9448.11111111  -5639.30555556  -5560.22222222\n",
      "  -5245.27777778  -5157.22222222  -4957.88888889]\n",
      "[-45087.86111111 -45055.08333333 -44799.16666667 -44645.25\n",
      " -42786.88888889 -42539.25       -41130.33333333 -40869.63888889\n",
      " -40594.66666667 -33733.94444444 -32986.91666667 -28822.13888889\n",
      " -28822.13888889 -27731.47222222 -27731.47222222 -27143.97222222\n",
      " -26882.19444444 -25766.72222222 -24623.44444444 -23808.75\n",
      " -23757.72222222 -19774.22222222 -19541.75       -19305.\n",
      " -18768.11111111 -18768.05555556 -13427.5        -13427.41666667\n",
      "  -9875.05555556  -9448.11111111  -5639.30555556  -5560.22222222\n",
      "  -5245.27777778  -5157.22222222  -4957.88888889]\n"
     ]
    }
   ],
   "source": [
    "for i in mask:\n",
    "    print(tus1_sort[i])\n",
    "    print(tus1_ex[i])"
   ]
  },
  {
   "cell_type": "code",
   "execution_count": 149,
   "id": "bbcff65b-c084-4c1a-8b8b-b4038a6d7d29",
   "metadata": {},
   "outputs": [
    {
     "name": "stdout",
     "output_type": "stream",
     "text": [
      "[  19   41   66 1365   36   30  994  470   54 1671   36  255   31 1681\n",
      " 1747  107  109   82   45   31   60  127  136  147   36  191   74   23\n",
      "   54   16   29  159   48  440   38]\n",
      "[  19   41   66 1365   36   30  994  470   54 1671   36   28   31 1866\n",
      " 1906  107  109   82   45   31   60  127  136  147   36  191   74   23\n",
      "   54   16   29  159   48  440   38]\n"
     ]
    }
   ],
   "source": [
    "for i in mask:\n",
    "    print(erg1_sort[i])\n",
    "    print(erg1_ex[i])"
   ]
  },
  {
   "cell_type": "code",
   "execution_count": 141,
   "id": "15b9b869-cc4c-4b35-a3aa-6527c2a37c62",
   "metadata": {},
   "outputs": [
    {
     "name": "stdout",
     "output_type": "stream",
     "text": [
      "stitch_idx:  13148\n",
      "erg1[stitch_idx] 1584\n",
      "erg2[0] 1584\n",
      "[ True  True  True  True  True  True  True  True  True  True  True  True\n",
      "  True  True  True  True  True  True  True  True  True  True  True  True\n",
      "  True  True  True  True  True  True  True  True  True  True  True  True\n",
      "  True  True  True  True  True  True  True  True  True  True  True  True\n",
      "  True  True  True  True  True  True  True  True  True  True  True  True\n",
      "  True  True  True  True  True  True  True  True  True  True  True  True\n",
      "  True  True  True  True  True  True  True  True  True  True  True  True\n",
      "  True  True  True  True  True  True  True  True  True  True  True  True\n",
      "  True  True  True  True  True  True  True  True  True  True  True  True\n",
      "  True  True  True  True  True  True  True  True  True  True  True  True\n",
      "  True  True  True  True  True  True  True  True  True  True  True  True\n",
      "  True  True  True  True  True  True  True  True  True  True  True  True\n",
      "  True  True  True  True  True  True  True  True  True  True  True  True\n",
      "  True  True  True  True  True  True  True  True  True  True  True  True\n",
      "  True  True  True  True  True  True  True  True  True  True  True  True\n",
      "  True  True  True  True  True  True  True  True  True  True  True  True\n",
      "  True  True  True  True  True  True  True  True  True  True  True  True\n",
      "  True  True  True  True  True  True  True  True  True  True  True  True\n",
      "  True  True  True  True  True  True  True  True  True  True  True  True\n",
      "  True  True  True  True  True  True  True  True  True  True  True  True\n",
      "  True  True  True  True  True  True  True  True  True  True  True  True\n",
      "  True  True  True  True  True  True  True  True  True  True  True  True\n",
      "  True  True  True  True  True  True  True  True  True  True  True  True\n",
      "  True  True  True  True  True  True  True  True  True  True  True  True\n",
      "  True  True  True  True  True  True  True  True  True  True  True  True\n",
      "  True  True  True  True  True  True  True  True  True  True  True  True\n",
      "  True  True  True  True  True  True  True  True  True  True  True  True\n",
      "  True  True  True  True  True  True  True  True  True]\n",
      "all ergs line up:  True\n",
      "erg1:  [1584   70   62   42  168   73  102 1716   26  151   75 1694  121 1538\n",
      "   53   61   34   66   32 1233 1675   86  332  221   21   67 1973   33\n",
      "   41 1828   36   65   31   43   31   74   40   26 1626  407  285  171\n",
      "   49  196 2055 1735   81   56  143  295   36  218   76  175  192  101\n",
      "   50  983   46   41   41   62  150   27   66  257   61  168   34  156\n",
      "   35  487  102   17   33  179  152  152  265  273  628 1071   55   54\n",
      "   40 1666 1781  102  178  347 1655  629   97   26   48   18  122   34\n",
      "   43 1428 1721   41   51  125   39   76   41   88   80   34   26  166\n",
      "   55  406   45  123   22 1601   36 1361   21  696   43  492   22   37\n",
      "   34   70  265   27  475   29 1568 1515 1655 1754   16   57 1310  142\n",
      "  195   32  183  838   40   29   86   46   22  252  193 2015 1507  230\n",
      "   19  154 1664  164   50  653 1857   51   28   77   38   49   33   93\n",
      "   39 1412   22   76   36 1452   44   27  108 1821   64 1630 1515 1543\n",
      "   96   36  253  367  497   36   24  139   61  355   99  384   28 1766\n",
      " 1923 1591   31   67  187   77 1148   21   96   25   84   48 1347  553\n",
      "  108  167   31  242 1892   32   47   54   42   41   44 1842  705   19\n",
      "  123   67 1935 1582  193   43  108  336   32 1749  473 1126   34   39\n",
      "  173   37 1511   46   66 1727 1721   82   54 1389   58   36 1887 1178\n",
      " 1917  140   37  230 1346 1720 1826   38  125   33   34   44 1727   49\n",
      "   26 1689   16  232  509  678  125   35   36  203 1700   30  268   85\n",
      "   32  188  491 1240  283  119   39   49   35  119   50 1886 1595  100\n",
      "  163 1144   35  438   68   45  925   64   39 1805 1935  121   32   22\n",
      "   67   28   31   40  204 1973   69   88  201  751 1690   33  251  222\n",
      " 1789  549  268   49   48  671  242   24 1821   60   88]\n",
      "erg2:  [1584   70   62   42  168   73  102 1716   26  151   75 1694  121 1538\n",
      "   53   61   34   66   32 1233 1675   86  332  221   21   67 1973   33\n",
      "   41 1828   36   65   31   43   31   74   40   26 1626  407  285  171\n",
      "   49  196 2055 1735   81   56  143  295   36  218   76  175  192  101\n",
      "   50  983   46   41   41   62  150   27   66  257   61  168   34  156\n",
      "   35  487  102   17   33  179  152  152  265  273  628 1071   55   54\n",
      "   40 1666 1781  102  178  347 1655  629   97   26   48   18  122   34\n",
      "   43 1428 1721   41   51  125   39   76   41   88   80   34   26  166\n",
      "   55  406   45  123   22 1601   36 1361   21  696   43  492   22   37\n",
      "   34   70  265   27  475   29 1568 1515 1655 1754   16   57 1310  142\n",
      "  195   32  183  838   40   29   86   46   22  252  193 2015 1507  230\n",
      "   19  154 1664  164   50  653 1857   51   28   77   38   49   33   93\n",
      "   39 1412   22   76   36 1452   44   27  108 1821   64 1630 1515 1543\n",
      "   96   36  253  367  497   36   24  139   61  355   99  384   28 1766\n",
      " 1923 1591   31   67  187   77 1148   21   96   25   84   48 1347  553\n",
      "  108  167   31  242 1892   32   47   54   42   41   44 1842  705   19\n",
      "  123   67 1935 1582  193   43  108  336   32 1749  473 1126   34   39\n",
      "  173   37 1511   46   66 1727 1721   82   54 1389   58   36 1887 1178\n",
      " 1917  140   37  230 1346 1720 1826   38  125   33   34   44 1727   49\n",
      "   26 1689   16  232  509  678  125   35   36  203 1700   30  268   85\n",
      "   32  188  491 1240  283  119   39   49   35  119   50 1886 1595  100\n",
      "  163 1144   35  438   68   45  925   64   39 1805 1935  121   32   22\n",
      "   67   28   31   40  204 1973   69   88  201  751 1690   33  251  222\n",
      " 1789  549  268   49   48  671  242   24 1821   60   88]\n"
     ]
    }
   ],
   "source": [
    "idx = find_stitch_idx(tus1=tus1_ex, tus2=tus2_ex, erg1=erg1_ex, erg2=erg2_ex)"
   ]
  },
  {
   "cell_type": "code",
   "execution_count": 138,
   "id": "532247ad-45a7-4e80-8c27-8144f6818a83",
   "metadata": {},
   "outputs": [
    {
     "data": {
      "text/plain": [
       "13556"
      ]
     },
     "execution_count": 138,
     "metadata": {},
     "output_type": "execute_result"
    }
   ],
   "source": [
    "len(tus2_sort)"
   ]
  },
  {
   "cell_type": "code",
   "execution_count": null,
   "id": "4cb18f0b-c374-434a-8612-5e6c5a04c643",
   "metadata": {},
   "outputs": [],
   "source": []
  },
  {
   "cell_type": "code",
   "execution_count": 103,
   "id": "8474a613-09c9-4f68-b87e-c0304042b816",
   "metadata": {},
   "outputs": [
    {
     "data": {
      "text/plain": [
       "array([1584,   70,   62,   42,  168,   73,  102, 1716,   26,  151,   75,\n",
       "       1694,  121, 1538,   53,   61,   34,   66,   32, 1233, 1675,   86,\n",
       "        332,  221,   21,   67, 1973,   33,   41, 1828,   36,   65,   31,\n",
       "         43,   31,   74,   40,   26, 1626,  407,  285,  171,   49,  196,\n",
       "       2055, 1735,   81,   56,  143,  295,   36,  218,   76,  175,  192,\n",
       "        101,   50,  983,   46,   41,   41,   62,  150,   27,  257,   66,\n",
       "         61,  168,   34,  156,   35,  487,  102,   17,   33,  179,  265,\n",
       "        152,  152,  273,  628, 1071,   55,   54,   40, 1666, 1781,  347,\n",
       "        102,  178, 1655,  629,   97,   26,   48,   18,  122,   34,   43,\n",
       "       1428, 1721,   41,   51,  125,   39,   76,   41,   88,   80,   34,\n",
       "         26,  166,   55,  406,   45,  123,   22, 1601,   36, 1361,   21,\n",
       "        696,   43,  492,   22,   37,   34,   70,  265,   27,  475,   29,\n",
       "       1568, 1655, 1515, 1754,   16,   57, 1310,  142,  195,   32,  183,\n",
       "        838,   40,   29,   86,   46,  252,   22,  193, 2015, 1507,  230,\n",
       "         19,  154, 1664,  164,   50,  653, 1857,   51,   28,   77,   38,\n",
       "         49,   33,   93,   39, 1412,   76,   22,   36, 1452,   44,   27,\n",
       "        108, 1821,   64, 1630, 1543, 1515,   96,   36,  253,  367,  497,\n",
       "         36,  139,   24,   61,  355,   99,  384,   28, 1766, 1923, 1591,\n",
       "         31,  187,   67,   77, 1148,   96,   21,   25,   84,   48, 1347,\n",
       "        553,  108,  167,   31,  242, 1892,   32,   47,   54,   42,   41,\n",
       "         44, 1842,  705,   19,  123,   67, 1935, 1582,  193,  108,  336,\n",
       "         43,   32, 1749, 1126,  473,   34,   39,  173,   37, 1511,   46,\n",
       "         66, 1727, 1721,   82,   54, 1389,   58,   36, 1887, 1178, 1917,\n",
       "        140,   37,  230, 1346, 1720, 1826,   38,  125,   33,   34,   44,\n",
       "       1727,   49,   26, 1689,   16,  678,  509,  232,  125,   35,   36,\n",
       "        203, 1700,   30,  268,   85,   32,  188,  491, 1240,  283,  119,\n",
       "         39,   49,   35,  119,   50, 1886, 1595,  163, 1144,  100,  438,\n",
       "         35,   68,   45,  925,   64,   39, 1805, 1935,  121,   32,   22,\n",
       "         67,   28,   31,  204,   40, 1973,   88,  201,   69,  751, 1690,\n",
       "         33,  251,  222, 1789,  549,  268,   49,   48,  671,  242,   24,\n",
       "       1821,   60,   88], dtype=uint16)"
      ]
     },
     "execution_count": 103,
     "metadata": {},
     "output_type": "execute_result"
    }
   ],
   "source": [
    "erg2_ex[0:len(tus1_ex[13148:])]"
   ]
  },
  {
   "cell_type": "code",
   "execution_count": 66,
   "id": "2bab8149-0ff9-4ff5-a7c7-07b63b12adf5",
   "metadata": {},
   "outputs": [
    {
     "name": "stdout",
     "output_type": "stream",
     "text": [
      "[1584   70   62   42  168   73  102 1716   26  151   75 1694  121 1538\n",
      "   53   61   34   66   32 1233 1675   86  332  221   21   67 1973   33\n",
      "   41 1828   36   65   31   43   31   74   40   26 1626  407  285  171\n",
      "   49  196 2055 1735   81   56  143  295   36  218   76  175  192  101\n",
      "   50  983   46   41   41   62  150   27   66  257   61  168   34  156\n",
      "   35  487  102   17   33  179  152  152  265  273  628 1071   55   54\n",
      "   40 1666 1781  102  178  347 1655  629   97   26   48   18  122   34\n",
      "   43 1428 1721   41   51  125   39   76   41   88   80   34   26  166\n",
      "   55  406   45  123   22 1601   36 1361   21  696   43  492   22   37\n",
      "   34   70  265   27  475   29 1568 1515 1655 1754   16   57 1310  142\n",
      "  195   32  183  838   40   29   86   46   22  252  193 2015 1507  230\n",
      "   19  154 1664  164   50  653 1857   51   28   77   38   49   33   93\n",
      "   39 1412   22   76   36 1452   44   27  108 1821   64 1630 1515 1543\n",
      "   96   36  253  367  497   36   24  139   61  355   99  384   28 1766\n",
      " 1923 1591   31   67  187   77 1148   21   96   25   84   48 1347  553\n",
      "  108  167   31  242 1892   32   47   54   42   41   44 1842  705   19\n",
      "  123   67 1935 1582  193   43  108  336   32 1749  473 1126   34   39\n",
      "  173   37 1511   46   66 1727 1721   82   54 1389   58   36 1887 1178\n",
      " 1917  140   37  230 1346 1720 1826   38  125   33   34   44 1727   49\n",
      "   26 1689   16  232  509  678  125   35   36  203 1700   30  268   85\n",
      "   32  188  491 1240  283  119   39   49   35  119   50 1886 1595  100\n",
      "  163 1144   35  438   68   45  925   64   39 1805 1935  121   32   22\n",
      "   67   28   31   40  204 1973   69   88  201  751 1690   33  251  222\n",
      " 1789  549  268   49   48  671  242   24 1821   60   88]\n"
     ]
    }
   ],
   "source": [
    "print(erg2[0:len(erg1[13148:])])"
   ]
  },
  {
   "cell_type": "code",
   "execution_count": 16,
   "id": "d2ae19b0-2fff-4b45-8321-a73e69115b30",
   "metadata": {},
   "outputs": [],
   "source": [
    "np.argsort()\n",
    "a = np.array([\"a\",\"c\",\"b\"])\n",
    "b = np.array([1,3,2])\n"
   ]
  },
  {
   "cell_type": "code",
   "execution_count": 17,
   "id": "0df5f9b2-bed9-43d3-8723-68fb9a23ce92",
   "metadata": {},
   "outputs": [
    {
     "data": {
      "text/plain": [
       "(array(['a', 'c', 'b'], dtype='<U1'), array([1, 3, 2]))"
      ]
     },
     "execution_count": 17,
     "metadata": {},
     "output_type": "execute_result"
    }
   ],
   "source": [
    "a, b"
   ]
  },
  {
   "cell_type": "code",
   "execution_count": 18,
   "id": "82f848bf-b31e-4e8f-8aeb-0eb02ccd3eb2",
   "metadata": {},
   "outputs": [],
   "source": [
    "index_sort = np.argsort(b)\n",
    "a = a[index_sort]\n",
    "b = b[index_sort]"
   ]
  },
  {
   "cell_type": "code",
   "execution_count": 19,
   "id": "aeb7a7d6-41ed-4149-86d7-b40f4435d256",
   "metadata": {},
   "outputs": [
    {
     "data": {
      "text/plain": [
       "(array(['a', 'b', 'c'], dtype='<U1'), array([1, 2, 3]))"
      ]
     },
     "execution_count": 19,
     "metadata": {},
     "output_type": "execute_result"
    }
   ],
   "source": [
    "a, b"
   ]
  },
  {
   "cell_type": "code",
   "execution_count": null,
   "id": "dca678c9-d7fb-4c90-9ae5-5922c1816406",
   "metadata": {},
   "outputs": [],
   "source": [
    "tus1[13139] - tus2_shift[0]"
   ]
  },
  {
   "cell_type": "code",
   "execution_count": null,
   "id": "d9c0aec1-efac-449c-9bc3-b7f2f15c6d4a",
   "metadata": {},
   "outputs": [],
   "source": []
  },
  {
   "cell_type": "code",
   "execution_count": null,
   "id": "b3e61d7f-6349-4411-a295-9952ef734e4e",
   "metadata": {},
   "outputs": [],
   "source": [
    "tus2_shift[0]"
   ]
  },
  {
   "cell_type": "markdown",
   "id": "56edf6eb",
   "metadata": {},
   "source": [
    "# main function"
   ]
  },
  {
   "cell_type": "code",
   "execution_count": null,
   "id": "framed-privilege",
   "metadata": {},
   "outputs": [],
   "source": [
    "def main(grb_id,binsize=10000, start_GRB, end_GRB):  # filename GRB ID\n",
    "    # output array for tus_keep_multihit_LED, erg_keep_multihit_LED, multihit_indx_LED må modifiseres\n",
    "    # Automake by making filename a list of filenames. Then the all the outout plots will be created\n",
    "\n",
    "    # TODO:\n",
    "    # Add the extra parameters to make the get_mean work\n",
    "#os.mkdir(\"/Users/andreas/phys/master/MATLAB/pyplots\")\n",
    "    trig_dict = create_triggers_dict()\n",
    "    try:\n",
    "        output_dir = os.mkdir(\"/Home/siv30/wad005/master/GRB/MATLAB/pyplots/{}\".format(grb_id)) #Creating owd folder for grb_id\n",
    "    except FileExistsError:\n",
    "        output_dir = \"/Home/siv30/wad005//master/GRB/MATLAB/pyplots/{}\".format(grb_id) #selecting path if it already exists\n",
    "\n",
    "\n",
    "    if type(grb_id) != str:\n",
    "        raise TypeError(\"Input is not string\")\n",
    "    elif grb_id not in trig_dict:\n",
    "        raise LookupError(\"grb_id not in dictionary\")\n",
    "    else:\n",
    "        try:\n",
    "            LED_filename = trig_dict[grb_id][0]\n",
    "            HED_filename = trig_dict[grb_id][1]\n",
    "            if type(LED_filename) == float and math.isnan(LED_filename):\n",
    "                print(\"LED file not found. Plotting only HED\")\n",
    "                plot_HED(HED_filename,output_dir,grb_id) #output path is not required\n",
    "                \n",
    "            elif type(HED_filename) == float and math.isnan(HED_filename):\n",
    "                print(\"HED file not found. Plotting only LED\")\n",
    "                plot_LED(LED_filename,output_dir,grb_id)\n",
    "            else:\n",
    "                plot_LED(LED_filename,output_dir,grb_id)\n",
    "                plot_HED(HED_filename,output_dir,grb_id)\n",
    "        except:\n",
    "            print(\"Something went wrong\")\n",
    "    \n",
    "    "
   ]
  },
  {
   "cell_type": "code",
   "execution_count": null,
   "id": "ec421626-8a35-4787-a041-986632c5a670",
   "metadata": {},
   "outputs": [],
   "source": []
  },
  {
   "cell_type": "markdown",
   "id": "5b3a1ad6-2ffd-44b5-9933-8e57e05fb32b",
   "metadata": {},
   "source": [
    "# Graveyards"
   ]
  },
  {
   "cell_type": "code",
   "execution_count": null,
   "id": "579e6a7c-1ff3-486e-a455-6a20a905e30b",
   "metadata": {},
   "outputs": [],
   "source": [
    "# Not in use\n",
    "def get_filenames(path):\n",
    "    return sorted((f for f in os.listdir(path) if not f.startswith(\".\")), key=str.lower)"
   ]
  },
  {
   "cell_type": "code",
   "execution_count": null,
   "id": "31e55517-b7c0-464a-89b5-b9666d375cca",
   "metadata": {},
   "outputs": [],
   "source": [
    "#Old plot_HED function\n",
    "\"\"\"\n",
    "def plot_HED(HED_filename, output_dir,grb_id):\n",
    "    tus_HED, erg_HED, typ_HED, adr_HED, dau_HED, det_HED, DetCol_HED = read_matlab_file_with_BGO_data(HED_filename)\n",
    "\n",
    "    fig0, (ax0, ax1) = plt.subplots(\n",
    "        2, 1, figsize=(8, 8), sharex=True, sharey=False)\n",
    "    ax0.set_title(\"HED\")\n",
    "\n",
    "    ax0.scatter(tus_HED, erg_HED)\n",
    "    ax0.set_xlabel(\"time [us]\")\n",
    "    ax0.set_ylabel(\"Energy channel\")\n",
    "\n",
    "    binsize = 10000  # us --> 10 ms bin\n",
    "    ax1.hist(tus_HED, bins=np.arange(\n",
    "        min(tus_HED), max(tus_HED)+binsize, binsize))\n",
    "    ax1.set_xlabel(\"time [us]\")\n",
    "    ax1.set_ylabel(\"Counts per bin\")\n",
    "    \n",
    "    output_dir_hed = output_dir + \"/{}_HED\".format(grb_id)\n",
    "    print(output_dir_hed)\n",
    "    plt.savefig(output_dir + \"/{}_HED\".format(grb_id)) #path where plot is saved\n",
    "\"\"\""
   ]
  }
 ],
 "metadata": {
  "kernelspec": {
   "display_name": "Python 3 (ipykernel)",
   "language": "python",
   "name": "python3"
  },
  "language_info": {
   "codemirror_mode": {
    "name": "ipython",
    "version": 3
   },
   "file_extension": ".py",
   "mimetype": "text/x-python",
   "name": "python",
   "nbconvert_exporter": "python",
   "pygments_lexer": "ipython3",
   "version": "3.9.10"
  },
  "toc": {
   "base_numbering": 1,
   "nav_menu": {},
   "number_sections": true,
   "sideBar": true,
   "skip_h1_title": false,
   "title_cell": "Table of Contents",
   "title_sidebar": "Contents",
   "toc_cell": false,
   "toc_position": {},
   "toc_section_display": true,
   "toc_window_display": false
  },
  "varInspector": {
   "cols": {
    "lenName": 16,
    "lenType": 16,
    "lenVar": 40
   },
   "kernels_config": {
    "python": {
     "delete_cmd_postfix": "",
     "delete_cmd_prefix": "del ",
     "library": "var_list.py",
     "varRefreshCmd": "print(var_dic_list())"
    },
    "r": {
     "delete_cmd_postfix": ") ",
     "delete_cmd_prefix": "rm(",
     "library": "var_list.r",
     "varRefreshCmd": "cat(var_dic_list()) "
    }
   },
   "types_to_exclude": [
    "module",
    "function",
    "builtin_function_or_method",
    "instance",
    "_Feature"
   ],
   "window_display": false
  }
 },
 "nbformat": 4,
 "nbformat_minor": 5
}
