{
 "cells": [
  {
   "cell_type": "markdown",
   "id": "empirical-carolina",
   "metadata": {},
   "source": [
    "# Imports"
   ]
  },
  {
   "cell_type": "code",
   "execution_count": 1,
   "id": "finite-outdoors",
   "metadata": {},
   "outputs": [],
   "source": [
    "import numpy as np\n",
    "import matplotlib.pyplot as plt\n",
    "import scipy.io\n",
    "import scipy\n",
    "import os\n",
    "import glob\n",
    "import pandas as pd\n",
    "import math\n",
    "plt.rcdefaults() #Setting default color of output plots\n",
    "# For interactive plots\n",
    "%matplotlib widget \n",
    "plt.rcParams.update({'figure.max_open_warning': 0})"
   ]
  },
  {
   "cell_type": "markdown",
   "id": "807afc27",
   "metadata": {},
   "source": [
    "# Paths"
   ]
  },
  {
   "cell_type": "code",
   "execution_count": 2,
   "id": "expected-classroom",
   "metadata": {},
   "outputs": [],
   "source": [
    "path_HED = \"/Home/siv30/wad005/master/GRB/MATLAB/output/file_mat_TGF\"\n",
    "path_LED = \"/Home/siv30/wad005/master/GRB/MATLAB/CZT_calibration/file_mat_CZT_TGF\""
   ]
  },
  {
   "cell_type": "markdown",
   "id": "82cdb8bf",
   "metadata": {},
   "source": [
    "# Dict creation"
   ]
  },
  {
   "cell_type": "code",
   "execution_count": 3,
   "id": "mathematical-alexandria",
   "metadata": {},
   "outputs": [],
   "source": [
    "#make a dictionary out of the manual trigger_ID list\n",
    "triggers_data = pd.read_csv(\"trigger_ID.csv\") #Manually created csv file that contains the GRB IDs, LED and HED filenames\n",
    "GRB = triggers_data[\"GRB\"].values\n",
    "LED = triggers_data[\"LED\"].values\n",
    "HED = triggers_data[\"HED\"].values\n",
    "#Should be an easier way to sort the DF into an dict. Maybe transposing the DF\n",
    "def create_triggers_dict():\n",
    "    \"\"\"\n",
    "    trig_dict stores the GRB ID and LED/HED filenames.\n",
    "    Key in dictionary is GRB id. Filenames are stored as tuple <LED,HED>\n",
    "    return: trig_dict\n",
    "    \"\"\"\n",
    "    trig_dict ={}\n",
    "    \n",
    "    try:\n",
    "        if len(LED) & len(HED) != len(GRB):\n",
    "            raise IndexError(\"Arrays not the same length. Check GRB,LED and HED\")\n",
    "        else:\n",
    "            for i in np.arange(0,len(GRB)):\n",
    "                GRB_name = GRB[i]\n",
    "                LED_id = LED[i]\n",
    "                HED_id = HED[i]\n",
    "                trig_dict[GRB_name] = LED_id,HED_id\n",
    "            return trig_dict\n",
    "    except:\n",
    "        raise"
   ]
  },
  {
   "cell_type": "code",
   "execution_count": 4,
   "id": "28fb3ae6",
   "metadata": {},
   "outputs": [
    {
     "data": {
      "text/plain": [
       "{'GRB 181222': (nan, '2018_12_22_20_11_36'),\n",
       " 'GRB 190206': (nan, '2019_02_06_03_49_28'),\n",
       " 'GRB 190305': (nan, '2019_03_05_13_05_19'),\n",
       " 'GRB 190606': (nan, '2019_06_06_01_55_07'),\n",
       " 'GRB 190807': (nan, '2018_08_07_02_19_37'),\n",
       " 'GRB 200521': (nan, '2020_05_21_12_16_39'),\n",
       " 'GRB 200716': (nan, '2020_07_16_22_57_40'),\n",
       " 'GRB 201227': (nan, '2020_12_27_15_14_06')}"
      ]
     },
     "execution_count": 4,
     "metadata": {},
     "output_type": "execute_result"
    }
   ],
   "source": [
    "trig_dict= create_triggers_dict()\n",
    "trig_dict"
   ]
  },
  {
   "cell_type": "markdown",
   "id": "aa41034e",
   "metadata": {},
   "source": [
    "# Functions for handling matlab files"
   ]
  },
  {
   "cell_type": "code",
   "execution_count": 5,
   "id": "improved-architect",
   "metadata": {},
   "outputs": [],
   "source": [
    "def read_matlab_file_with_BGO_data(matlabfilename):\n",
    "    '''Read matlab file with ASIM BGO data from the high energy detector (HED)\n",
    "\n",
    "    tus: relative times in microseconds.\n",
    "    erg: energy channel (needs to be calibrated to keV using calibration coeff from https://git.app.uib.no/ASIM-MXGS/IN-FLIGHT_CALIBRATION_BGO/-/tree/master/CALIBRATION_COEFS )\n",
    "    typ: normal, fast, valley, or overflow event\n",
    "    adr: BGO address 1-12\n",
    "    dau: dau address 1-4\n",
    "    det: detector address 1-3\n",
    "    DetCol: RGB color\n",
    "    '''\n",
    "    matlabfile_TGF = '/Home/siv30/wad005/master/GRB/MATLAB/output/file_mat_TGF/%s' % matlabfilename\n",
    "\n",
    "    mat = scipy.io.loadmat(matlabfile_TGF)\n",
    "    tus = mat['tus'].flatten()\n",
    "    erg = mat['erg'].flatten()\n",
    "    DetCol = mat['DetCol']\n",
    "    adr = mat['adr'].flatten()\n",
    "    dau = mat['dau'].flatten()\n",
    "    det = mat['det'].flatten()\n",
    "    typ = mat['typ'].flatten()\n",
    "    return tus, erg, typ, adr, dau, det, DetCol\n",
    "\n",
    "\n",
    "def read_matlab_file_with_CZT_data(filename):\n",
    "    '''Read matlab file with ASIM CZT data from the low energy detector (LED)\n",
    "\n",
    "    tus: relative time in microseconds (excluded multihits)\n",
    "    erg: energy channel (excluded multihits)\n",
    "    energy_keV: energy in keV (excluded multihits)\n",
    "    tus_keep_multihit: relative time in microseconds (included multihits)\n",
    "    erg_keep_multihit: energy channel (included multihits)\n",
    "    multihit_indx: multihit index 0-4.o\n",
    "    '''\n",
    "    mat = scipy.io.loadmat(\"/Home/siv30/wad005/master/GRB/MATLAB/CZT_calibration/file_mat_CZT_TGF/%s.mat\" % (filename))\n",
    "\n",
    "    #keV_spectra = mat['keV_spectra_total_fulltrigger']\n",
    "\n",
    "    # Included multihits. Important for light curves\n",
    "    tus_keep_multihit = np.array(mat['tus_keep_multihit_fulltrigger'])[:,0] # relative time in microseconds\n",
    "    erg_keep_multihit = np.array(mat['erg_keep_multihit_fulltrigger'])[0,:] # energy channel (unreliable for multi hits)\n",
    "    multihit_indx = np.array(mat['multihit_fulltrigger'])[0,:] # multihit index. How many multihits in count. (0=1 count, 1=2 counts, 2=3 counts...)\n",
    "\n",
    "\n",
    "    # The multihits are removed as they don't have a reliable energy estimate\n",
    "    erg = np.array(mat['erg_fulltrigger'])[0,:] # energy channel of CZT pixel\n",
    "    tus = np.array(mat['tus_fulltrigger'])[:,0] # relative time in microseconds\n",
    "    energy_keV = np.array(mat['pixel_energy_fulltrigger']).flatten() # energy in keV of CZT pixel\n",
    "\n",
    "    return tus, erg, energy_keV, tus_keep_multihit, erg_keep_multihit, multihit_indx"
   ]
  },
  {
   "cell_type": "markdown",
   "id": "9cca534c",
   "metadata": {},
   "source": [
    "# Plotting functions"
   ]
  },
  {
   "cell_type": "code",
   "execution_count": 6,
   "id": "2e962c5f",
   "metadata": {},
   "outputs": [],
   "source": [
    "def plot_LED(LED_filename, output_dir,grb_id):\n",
    "    plt.rcdefaults()\n",
    "    tus_LED, erg_LED, energy_keV_LED, tus_keep_multihit_LED, erg_keep_multihit_LED, multihit_indx_LED = read_matlab_file_with_CZT_data(\n",
    "    LED_filename)\n",
    "\n",
    "    fig0, (ax0, ax1) = plt.subplots(\n",
    "        2, 1, figsize=(8, 8), sharex=True, sharey=False)\n",
    "    ax0.set_title(\"LED\")\n",
    "    ax0.scatter(tus_LED, energy_keV_LED)\n",
    "    ax0.set_xlabel(\"time [us]\")\n",
    "    ax0.set_ylabel(\"Energy [keV]\")\n",
    "\n",
    "    binsize = 10000  # us --> 10 ms bin\n",
    "    ax1.hist(tus_LED, bins=np.arange(\n",
    "        min(tus_LED), max(tus_LED)+binsize, binsize))\n",
    "    ax1.set_xlabel(\"time [us]\")\n",
    "    ax1.set_ylabel(\"Counts per bin\")\n",
    "\n",
    "    plt.savefig(output_dir + \"/{}_LED\".format(grb_id))\n",
    "    \n",
    "def plot_HED(HED_filename, output_dir,grb_id):\n",
    "    plt.rcdefaults()\n",
    "    tus_HED, erg_HED, typ_HED, adr_HED, dau_HED, det_HED, DetCol_HED = read_matlab_file_with_BGO_data(HED_filename)\n",
    "\n",
    "    fig0, (ax0, ax1) = plt.subplots(\n",
    "        2, 1, figsize=(8, 8), sharex=True, sharey=False)\n",
    "    ax0.set_title(\"HED\")\n",
    "\n",
    "    ax0.scatter(tus_HED, erg_HED)\n",
    "    ax0.set_xlabel(\"time [us]\")\n",
    "    ax0.set_ylabel(\"Energy channel\")\n",
    "\n",
    "    binsize = 10000  # us --> 10 ms bin\n",
    "    ax1.hist(tus_HED, bins=np.arange(\n",
    "        min(tus_HED), max(tus_HED)+binsize, binsize))\n",
    "    ax1.set_xlabel(\"time [us]\")\n",
    "    ax1.set_ylabel(\"Counts per bin\")\n",
    "    \n",
    "    output_dir_hed = output_dir + \"/{}_HED\".format(grb_id)\n",
    "    print(output_dir_hed)\n",
    "    plt.savefig(output_dir + \"/{}_HED\".format(grb_id)) #path where plot is saved\n",
    "\n"
   ]
  },
  {
   "cell_type": "markdown",
   "id": "56edf6eb",
   "metadata": {},
   "source": [
    "# main function"
   ]
  },
  {
   "cell_type": "code",
   "execution_count": 7,
   "id": "framed-privilege",
   "metadata": {},
   "outputs": [],
   "source": [
    "def main(grb_id):  # filename GRB ID\n",
    "    # output array for tus_keep_multihit_LED, erg_keep_multihit_LED, multihit_indx_LED må modifiseres\n",
    "    # Automake by making filename a list of filenames. Then the all the outout plots will be created\n",
    "\n",
    "    # TODO:\n",
    "    # write the find_filename_X function\n",
    "    # filenames_LED_list = get_filenames(path_LED) #path is a global variable defined earlier\n",
    "    # filenames_HED_list = get_filenames(path_HED) #path is a global variable defined earlier\n",
    "#os.mkdir(\"/Users/andreas/phys/master/MATLAB/pyplots\")\n",
    "    trig_dict = create_triggers_dict()\n",
    "    try:\n",
    "        output_dir = os.mkdir(\"/Home/siv30/wad005/master/GRB/MATLAB/pyplots/{}\".format(grb_id)) #Creating owd folder for grb_id\n",
    "    except FileExistsError:\n",
    "        output_dir = \"/Home/siv30/wad005//master/GRB/MATLAB/pyplots/{}\".format(grb_id) #selecting path if it already exists\n",
    "\n",
    "\n",
    "    if type(grb_id) != str:\n",
    "        raise TypeError(\"Input is not string\")\n",
    "    elif grb_id not in trig_dict:\n",
    "        raise LookupError(\"grb_id not in dictionary\")\n",
    "    else:\n",
    "        try:\n",
    "            LED_filename = trig_dict[grb_id][0]\n",
    "            HED_filename = trig_dict[grb_id][1]\n",
    "            if type(LED_filename) == float and math.isnan(LED_filename):\n",
    "                print(\"LED file not found. Plotting only HED\")\n",
    "                plot_HED(HED_filename,output_dir,grb_id)\n",
    "                \n",
    "            elif type(HED_filename) == float and math.isnan(HED_filename):\n",
    "                print(\"HED file not found. Plotting only LED\")\n",
    "                plot_LED(LED_filename,output_dir,grb_id)\n",
    "            else:\n",
    "                plot_LED(LED_filename,output_dir,grb_id)\n",
    "                plot_HED(HED_filename,output_dir,grb_id)\n",
    "        except:\n",
    "            print(\"Something went wrong\")\n",
    "    \n",
    "    "
   ]
  },
  {
   "cell_type": "code",
   "execution_count": 8,
   "id": "found-above",
   "metadata": {},
   "outputs": [
    {
     "name": "stdout",
     "output_type": "stream",
     "text": [
      "Something went wrong\n"
     ]
    }
   ],
   "source": [
    "main(\"GRB 190206\")\n",
    "#Still not saving the output plots"
   ]
  },
  {
   "cell_type": "markdown",
   "id": "8c6ce83e-44c6-40a1-91fe-19351b250d71",
   "metadata": {},
   "source": [
    "# Plotting"
   ]
  },
  {
   "cell_type": "code",
   "execution_count": 17,
   "id": "56f3be30-7feb-4abf-95cd-aa023fc3f157",
   "metadata": {},
   "outputs": [],
   "source": [
    "def plot_HED(HED_filename,binsize=10000):\n",
    "    tus_HED, erg_HED, typ_HED, adr_HED, dau_HED, det_HED, DetCol_HED = read_matlab_file_with_BGO_data(HED_filename)\n",
    "\n",
    "    fig0, ax1 = plt.subplots(\n",
    "        1, 1, figsize=(12, 8), sharex=True, sharey=False)\n",
    "\n",
    "    binsize = binsize  # us --> 10 ms bin\n",
    "    ax1.hist(tus_HED, bins=np.arange(\n",
    "        min(tus_HED), max(tus_HED) + binsize, binsize),edgecolor= \"black\", histtype=\"step\")\n",
    "    ax1.axhline(y=mean,color=\"red\",label=\"mean of background\")\n",
    "    ax1.set_xlabel(\"time [us], binsize {} ms\".format((binsize / 1000)))\n",
    "    ax1.set_ylabel(\"Counts per bin\")\n",
    "    ax1.set_title(\"GRB \" + HED_filename)\n",
    "    ax1.legend()\n"
   ]
  },
  {
   "cell_type": "code",
   "execution_count": 18,
   "id": "19911512-0ad4-456a-ae17-7554c4e49ab1",
   "metadata": {},
   "outputs": [
    {
     "data": {
      "application/vnd.jupyter.widget-view+json": {
       "model_id": "0ee76fd6e116422896c85289dbb92e3e",
       "version_major": 2,
       "version_minor": 0
      },
      "image/png": "[encoded data removed]",
      "text/html": [
       "\n",
       "            <div style=\"display: inline-block;\">\n",
       "                <div class=\"jupyter-widgets widget-label\" style=\"text-align: center;\">\n",
       "                    Figure\n",
       "                </div>\n",
       "                <img src='data:image/png;base64,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' width=1200.0/>\n",
       "            </div>\n",
       "        "
      ],
      "text/plain": [
       "Canvas(toolbar=Toolbar(toolitems=[('Home', 'Reset original view', 'home', 'home'), ('Back', 'Back to previous …"
      ]
     },
     "metadata": {},
     "output_type": "display_data"
    }
   ],
   "source": [
    "\n",
    "plot_HED(trig_dict['GRB 201227'][1],binsize=5000)"
   ]
  },
  {
   "cell_type": "code",
   "execution_count": null,
   "id": "1cda21e9-7d32-457f-929e-fd8cd90c7dd6",
   "metadata": {},
   "outputs": [],
   "source": []
  },
  {
   "cell_type": "markdown",
   "id": "b8e7c6ed-d03c-42ba-8d92-07c5efdeda13",
   "metadata": {},
   "source": [
    "# Finding the background"
   ]
  },
  {
   "cell_type": "markdown",
   "id": "b13d22de-86fd-4b31-a1b3-617fe97d5cbf",
   "metadata": {},
   "source": [
    "Make a function of of the code below. "
   ]
  },
  {
   "cell_type": "code",
   "execution_count": 12,
   "id": "d5b752da-d82c-4f38-ac27-b2bf3c3ae90e",
   "metadata": {},
   "outputs": [],
   "source": [
    "tus_HED, erg_HED, typ_HED, adr_HED, dau_HED, det_HED, DetCol_HED = read_matlab_file_with_BGO_data('2020_12_27_15_14_06')"
   ]
  },
  {
   "cell_type": "code",
   "execution_count": 13,
   "id": "b37e4681-9092-457f-b115-c0ac64e64bba",
   "metadata": {},
   "outputs": [],
   "source": [
    "binsize=5000\n",
    "counts_in_bin = plt.hist(tus_HED, bins=np.arange(\n",
    "        min(tus_HED), max(tus_HED) + binsize, binsize))[0]"
   ]
  },
  {
   "cell_type": "code",
   "execution_count": 14,
   "id": "1d783f94-73fb-4410-9e99-104725aea1fd",
   "metadata": {},
   "outputs": [
    {
     "data": {
      "text/plain": [
       "array([ 11.,  11.,   7.,  16.,  10.,  14.,   8.,  17.,  19.,  14.,  13.,\n",
       "         9.,   7.,  18.,   6.,  14.,  16.,  12.,  16.,  23.,  17.,  17.,\n",
       "        16.,   6.,   6.,   9.,   6.,  11.,  19.,   9.,  10.,  14.,  10.,\n",
       "        14.,   8.,  11.,   7.,  23.,   7.,   6.,  11.,  15.,   8.,  18.,\n",
       "        12.,  10.,   8.,   4.,  10.,   8.,  17.,  10.,   9.,  16.,  16.,\n",
       "        12.,   9.,  12.,  10.,   6.,   8.,  10.,   9.,  14.,   9.,  14.,\n",
       "        12.,  12.,  13.,  11.,  13.,   6.,   6.,  11.,  13.,  15.,   9.,\n",
       "        14.,  18.,  19.,  18.,  10.,   8.,  12.,  11.,   8.,  20.,   6.,\n",
       "        13.,  21.,  13.,   6.,  11.,  14.,  14.,  11.,  12.,  10.,  19.,\n",
       "        10.,  10.,  15.,  17.,  11.,   9.,  14.,  12.,  19.,  15.,  10.,\n",
       "        18.,  19.,  13.,  11.,  17.,  18.,  14.,  22.,  37.,  15.,  12.,\n",
       "        12.,   7.,  20.,  11.,  27.,   4.,  11.,  11.,  13.,   7.,  11.,\n",
       "        14.,  14.,   8.,  11.,   9.,  10.,  14.,  25.,  29.,   6.,   5.,\n",
       "        13.,  17.,  11.,  16.,  35.,   6.,  10.,   9.,  12.,  11.,   6.,\n",
       "        13.,  28.,  11.,  13.,   7.,  15.,  14.,  12.,   6.,  11.,  18.,\n",
       "        18.,  14.,  15.,  12.,  11.,  15.,   8.,   5.,  13.,  19.,  12.,\n",
       "        16.,  13.,  12.,  20.,  16.,  25.,   5.,  26.,  16.,  30.,  12.,\n",
       "        15.,  12.,  12.,   6.,  11.,  19.,  13.,  19.,  19.,  11.,  14.,\n",
       "        31.,  53., 103.,  57.,  61.,  79.,  52.,  61.,  48.,  41.,  20.,\n",
       "        27.,  15.,   8.,   9.,  15.,  16.,  15.,  11.,   9.,  14.,  10.,\n",
       "        14.,   7.,  16.,   7.,  13.,  20.,   5.,   9.,   8.,  16.,  10.,\n",
       "         6.,  15.,  14.,  13.,  10.,  10.,   7.,  16.,  21.,  13.,  11.,\n",
       "        10.,  15.,  16.,  15.,  11.,   7.,  24.,   7.,  14.,  15.,  14.,\n",
       "        17.,  14.,   5.,  11.,  11.,   7.,  14.,  10.,  14.,   8.,   9.,\n",
       "        17.,   9.,  14.,   9.,   9.,  10.,  16.,   4.,   8.,  10.,   8.,\n",
       "        23.,  15.,  10.,  25.,   6.,  42.,  16.,   7.,   5.,   9.,   8.,\n",
       "        11.,  10.,  10.,  13.,   4.,  10.,  16.,  16.,   8.,   9.,   7.,\n",
       "        10.,  20.,   9.,  10.,  15.,   8.,  14.,   9.,  19.,   5.,   4.,\n",
       "        22.,   9.,  10.,  27.,  22.,  21.,   5.,   9.,  11.,   6.,  14.,\n",
       "        12.,  13.,  10.,   8.,  11.,   8.,  18.,  13.,  12.,  32.,  13.,\n",
       "        15.,  11.,  16.,  17.,   9.,   8.,  15.,  10.,   7.,  29.,  11.,\n",
       "         8.,  19.,  15.,   9.,  16.,  22.,  22.,  12.,  12.,  12.,   9.,\n",
       "        22.,   7.,  28.,  11.,  10.,  10.,   8.,   9.,  19.,  21.,  12.,\n",
       "        11.,  19.,  10.,  18.,  11.,  15.,  11.,  18.,  12.,   5.,  11.,\n",
       "        10.,   5.,  10.,  20.,  18.,  14.,  38.,  20.,  15.,  14.,  13.,\n",
       "         6.,  24.,   5.,  10.,   5.,  20.,  16.,  19.,  20.,   9.,  24.,\n",
       "         6.,   9.,  21.,   4.,  18.,  10.])"
      ]
     },
     "execution_count": 14,
     "metadata": {},
     "output_type": "execute_result"
    }
   ],
   "source": [
    "counts_in_bin"
   ]
  },
  {
   "cell_type": "code",
   "execution_count": 15,
   "id": "70ecb5d1-0562-4cee-8276-c3d4373a2e0e",
   "metadata": {},
   "outputs": [],
   "source": [
    "background = np.append(counts_in_bin[:191],counts_in_bin[211:])"
   ]
  },
  {
   "cell_type": "code",
   "execution_count": 16,
   "id": "a3795e7e-12af-48ad-8744-592b466bdaf7",
   "metadata": {},
   "outputs": [],
   "source": [
    "mean = np.mean(background)"
   ]
  },
  {
   "cell_type": "code",
   "execution_count": null,
   "id": "a2c7744e-9388-41db-a93c-b84186510017",
   "metadata": {},
   "outputs": [],
   "source": [
    "binsize=5000\n",
    "bins=np.arange(min(tus_HED), max(tus_HED) + binsize, binsize)\n",
    "digitized = np.digitize(tus_HED, bins)\n",
    "bin_means = np.array([tus_HED[digitized == i].mean() for i in range(1, len(bins))])\n"
   ]
  },
  {
   "cell_type": "code",
   "execution_count": null,
   "id": "6c56fc04-f396-4c69-9182-ad4e83251bc7",
   "metadata": {},
   "outputs": [],
   "source": [
    "%matplotlib inline\n",
    "from scipy.stats import binned_statistic\n",
    "\n",
    "data = np.random.rand(100)\n",
    "bin_means = binned_statistic(data, data, bins=10, range=(0, 1))[0]\n",
    "bin_means\n",
    "plt.plot(data)\n",
    "plt.show()"
   ]
  },
  {
   "cell_type": "markdown",
   "id": "5b3a1ad6-2ffd-44b5-9933-8e57e05fb32b",
   "metadata": {},
   "source": [
    "# Graveyards"
   ]
  },
  {
   "cell_type": "code",
   "execution_count": null,
   "id": "579e6a7c-1ff3-486e-a455-6a20a905e30b",
   "metadata": {},
   "outputs": [],
   "source": [
    "# Not in use\n",
    "def get_filenames(path):\n",
    "    return sorted((f for f in os.listdir(path) if not f.startswith(\".\")), key=str.lower)"
   ]
  }
 ],
 "metadata": {
  "kernelspec": {
   "display_name": "Python 3 (ipykernel)",
   "language": "python",
   "name": "python3"
  },
  "language_info": {
   "codemirror_mode": {
    "name": "ipython",
    "version": 3
   },
   "file_extension": ".py",
   "mimetype": "text/x-python",
   "name": "python",
   "nbconvert_exporter": "python",
   "pygments_lexer": "ipython3",
   "version": "3.8.10"
  },
  "toc": {
   "base_numbering": 1,
   "nav_menu": {},
   "number_sections": true,
   "sideBar": true,
   "skip_h1_title": false,
   "title_cell": "Table of Contents",
   "title_sidebar": "Contents",
   "toc_cell": false,
   "toc_position": {},
   "toc_section_display": true,
   "toc_window_display": false
  },
  "varInspector": {
   "cols": {
    "lenName": 16,
    "lenType": 16,
    "lenVar": 40
   },
   "kernels_config": {
    "python": {
     "delete_cmd_postfix": "",
     "delete_cmd_prefix": "del ",
     "library": "var_list.py",
     "varRefreshCmd": "print(var_dic_list())"
    },
    "r": {
     "delete_cmd_postfix": ") ",
     "delete_cmd_prefix": "rm(",
     "library": "var_list.r",
     "varRefreshCmd": "cat(var_dic_list()) "
    }
   },
   "types_to_exclude": [
    "module",
    "function",
    "builtin_function_or_method",
    "instance",
    "_Feature"
   ],
   "window_display": false
  }
 },
 "nbformat": 4,
 "nbformat_minor": 5
}
