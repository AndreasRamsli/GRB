{
 "cells": [
  {
   "cell_type": "markdown",
   "id": "empirical-carolina",
   "metadata": {},
   "source": [
    "# Imports"
   ]
  },
  {
   "cell_type": "code",
   "execution_count": 258,
   "id": "finite-outdoors",
   "metadata": {},
   "outputs": [],
   "source": [
    "import numpy as np\n",
    "import matplotlib.pyplot as plt\n",
    "import scipy.io\n",
    "import scipy\n",
    "import os\n",
    "import glob\n",
    "import pandas as pd\n",
    "import math\n",
    "import sys\n",
    "plt.rcdefaults() #Setting default color of output plots\n",
    "# For interactive plots\n",
    "\n",
    "plt.rcParams.update({'figure.max_open_warning': 0})\n",
    "%matplotlib widget"
   ]
  },
  {
   "cell_type": "markdown",
   "id": "cc60308d-b2bc-440b-b125-b8a463fedcfe",
   "metadata": {},
   "source": [
    "# TODO:\n",
    "    \n",
    "   1) GRB ID SHOULD BE USED AS INPUT IN MOST FUNCTIONS!! IMPLEMENT THIS \n",
    "   2) Correct concatination of multiple files. GRB_ID is used to locate list of files\n",
    "   2) Use GRBID as input in plotting function, not filename. Don't need this right now tho. FOR LED AND HED\n",
    "   3) Redo all the plots ..."
   ]
  },
  {
   "cell_type": "markdown",
   "id": "807afc27",
   "metadata": {},
   "source": [
    "# Paths"
   ]
  },
  {
   "cell_type": "code",
   "execution_count": 10,
   "id": "expected-classroom",
   "metadata": {},
   "outputs": [],
   "source": [
    "path_HED = \"/Home/siv30/wad005/master/GRB/MATLAB/output/file_mat_TGF/\"\n",
    "path_LED = \"/Home/siv30/wad005/master/GRB/MATLAB/CZT_calibration/file_mat_CZT_TGF/\"\n",
    "#path_HED = \"/Users/andreas/phys/master/GRB/MATLAB/output/file_mat_TGF\"\n",
    "#path_LED = \"/Users/andreas/phys/master/GRB/MATLAB/CZT_calibration/file_mat_CZT_TGF\""
   ]
  },
  {
   "cell_type": "markdown",
   "id": "82cdb8bf",
   "metadata": {},
   "source": [
    "# Dict creation"
   ]
  },
  {
   "cell_type": "code",
   "execution_count": 3,
   "id": "mathematical-alexandria",
   "metadata": {},
   "outputs": [],
   "source": [
    "#make a dictionary out of the manual trigger_ID list\n",
    "triggers_data = pd.read_csv(\"trigger_ID.csv\") #Manually created csv file that contains the GRB IDs, LED and HED filenames\n",
    "GRB = triggers_data[\"GRB\"].values\n",
    "LED = triggers_data[\"LED\"].values\n",
    "HED = triggers_data[\"HED\"].values\n",
    "#Should be an easier way to sort the DF into an dict. Maybe transposing the DF\n",
    "def create_triggers_dict():\n",
    "    \"\"\"\n",
    "    trig_dict stores the GRB ID and LED/HED filenames.\n",
    "    Key in dictionary is GRB id. Filenames are stored as tuple <LED,HED>\n",
    "    return: trig_dict\n",
    "    \"\"\"\n",
    "    trig_dict ={}\n",
    "    \n",
    "    try:\n",
    "        if len(LED) & len(HED) != len(GRB):\n",
    "            raise IndexError(\"Arrays not the same length. Check GRB,LED and HED\")\n",
    "        else:\n",
    "            for i in np.arange(0,len(GRB)):\n",
    "                GRB_name = GRB[i]\n",
    "                LED_id = LED[i]\n",
    "                HED_id = HED[i]\n",
    "                trig_dict[GRB_name] = LED_id,HED_id\n",
    "            return trig_dict\n",
    "    except:\n",
    "        raise"
   ]
  },
  {
   "cell_type": "code",
   "execution_count": 200,
   "id": "28fb3ae6",
   "metadata": {},
   "outputs": [],
   "source": [
    "trig_dict_HED = {\"GRB180720\":[\"2018_07_20_14_21_48\",\"2018_07_20_14_21_51\",\"2018_07_20_14_21_56\",\"2018_07_20_14_21_57\",\"2018_07_20_14_22_09\"],\n",
    "                 \"GRB181222\":[\"2018_12_22_20_11_36\"],\n",
    "                 \"GRB190206\":[\"2019_02_06_03_49_28\"],\n",
    "                 \"GRB190305\":[\"2019_03_05_13_05_19\"],\n",
    "                 \"GRB190501\":[\"2019_05_01_05_23_22\"],\n",
    "                 \"GRB190606\":[\"2019_06_06_01_55_07\"],\n",
    "                 \"GRB190615\":[\"2019_06_15_14_42_21\"],\n",
    "                 \"GRB190813\":[\"2019_08_13_12_00_49\"],\n",
    "                 \"GRB190825\":[\"2019_08_25_21_04_53\",\"2019_08_25_21_04_55\"],\n",
    "                 \"GRB190829\":[\"2019_08_29_19_56_40\"],\n",
    "                 \"GRB190906\":[\"2019_09_06_01_04_51\"],\n",
    "                 \"GRB191001\":[\"2019_10_01_06_41_52\"],\n",
    "                 \"GRB200412\":[],# long list\n",
    "                 \"GRB200521\":[\"2020_05_21_12_16_39\"],\n",
    "                 \"GRB200716\":[\"2020_07_16_22_57_40\"],\n",
    "                 \"GRB200925\":[\"2020_09_25_21_50_31\"],\n",
    "                 \"GRB201227\":[\"2020_12_27_15_14_06\"]\n",
    "                \n",
    "                \n",
    "                \n",
    "                }"
   ]
  },
  {
   "cell_type": "code",
   "execution_count": 203,
   "id": "204e9aa8-605d-4b72-837e-1261928ff7e5",
   "metadata": {},
   "outputs": [],
   "source": [
    "trig_dict_LED = {\"GRB181227\":[\"2018_12_27_06_17_04.210500_Fulltrigger\",\"2018_12_27_06_17_09.775992_Fulltrigger\",\"2018_12_27_06_17_10.800851_Fulltrigger\"],\n",
    "                \"GRB190117\":[\"2019.01.17_08.50.42.939689_Fulltrigger\"],\n",
    "                 \"GRB190420\":[\"2019.04.20_23.32.24.931211_Fulltrigger\"],\n",
    "                 \"GRB190501\":[\"2019.05.01_05.23.21.736797_Fulltrigger\"],\n",
    "                 \"GRB190615\":[\"2019.06.15_14.42.22.741579_Fulltrigger\"],\n",
    "                 \"GRB190628\":[\"2019.06.28_04.23.32.512290_Fulltrigger\"],\n",
    "                 \"GRB190813\":[\"2019.08.13_12.00.48.801260_Fulltrigger\"],\n",
    "                 \"GRB190825\":[\"2019.08.25_21.04.54.439617_Fulltrigger\",\"2019.08.25_21.04.56.395859_Fulltrigger\"],\n",
    "                 \"GRB190906\":[\"2019.09.06_01.04.52.014004_Fulltrigger\"],\n",
    "                 \"GRB191001\":[\"2019.10.01_06.41.51.631214_Fulltrigger\"],\n",
    "                 \n",
    "                 \n",
    "                 \n",
    "                }"
   ]
  },
  {
   "cell_type": "markdown",
   "id": "aa41034e",
   "metadata": {},
   "source": [
    "# Functions for handling matlab files"
   ]
  },
  {
   "cell_type": "markdown",
   "id": "2c851e4b-d4a2-4e53-b83f-7a0bd4c475ea",
   "metadata": {},
   "source": [
    "## CZT function"
   ]
  },
  {
   "cell_type": "code",
   "execution_count": 132,
   "id": "improved-architect",
   "metadata": {},
   "outputs": [],
   "source": [
    "def read_matlab_file_with_CZT_data(filename):\n",
    "    '''Read matlab file with ASIM CZT data from the low energy detector (LED)\n",
    "\n",
    "    tus: relative time in microseconds (excluded multihits)\n",
    "    erg: energy channel (excluded multihits)\n",
    "    energy_keV: energy in keV (excluded multihits)\n",
    "    tus_keep_multihit: relative time in microseconds (included multihits)\n",
    "    erg_keep_multihit: energy channel (included multihits)\n",
    "    multihit_indx: multihit index 0-4. 0->1 1->2// 0: tus=105, 1: tus=110,110 (two counts)\n",
    "    '''\n",
    "    mat = scipy.io.loadmat(path_LED + \"%s.mat\" % (filename))\n",
    "\n",
    "    #keV_spectra = mat['keV_spectra_total_fulltrigger']\n",
    "\n",
    "    # Included multihits. Important for light curves\n",
    "    tus_keep_multihit = np.array(mat['tus_keep_multihit_fulltrigger'])[:,0] # relative time in microseconds\n",
    "    erg_keep_multihit = np.array(mat['erg_keep_multihit_fulltrigger'])[0,:] # energy channel (unreliable for multi hits)\n",
    "    multihit_indx = np.array(mat['multihit_fulltrigger'])[0,:] # multihit index. How many multihits in count. (0=1 count, 1=2 counts, 2=3 counts...)\n",
    "    \n",
    "    # The multihits are removed as they don't have a reliable energy estimate\n",
    "    erg = np.array(mat['erg_fulltrigger'])[0,:] # energy channel of CZT pixel\n",
    "    tus = np.array(mat['tus_fulltrigger'])[:,0] # relative time in microseconds\n",
    "    energy_keV = np.array(mat['pixel_energy_fulltrigger']).flatten() # energy in keV of CZT pixel\n",
    "    \n",
    "    \n",
    "    #Logic that checks for array lengths\n",
    "    try:\n",
    "        length = len(tus_keep_multihit)\n",
    "        if any(len(lst) != length for lst in [erg_keep_multihit, multihit_indx]):\n",
    "        # at least one list has a different length\n",
    "            raise ValueError(\"Arrays have different lengths\")\n",
    "            \n",
    "        t_temp = []\n",
    "        erg_temp = []\n",
    "        \n",
    "        for index, i in enumerate(multihit_indx):\n",
    "            for j in np.arange(0,i+1): #adding i+1 times the tus_count\n",
    "                t_temp.append(tus_keep_multihit[index])\n",
    "                erg_temp.append(erg_keep_multihit[index])\n",
    "         \n",
    "        tus_keep_multihit_ntimes =  np.array(t_temp) #array of tus. Multihit index decides how many times the tus is appended\n",
    "        erg_keep_multihit_ntimes = np.array(erg_temp) #array of erg. Multihit index decides how many times the erg is appended\n",
    "        \n",
    "        return tus, erg, energy_keV, tus_keep_multihit_ntimes, erg_keep_multihit_ntimes, multihit_indx \n",
    "    \n",
    "    except ValueError as ve:\n",
    "        print(\"Function aborted because of: \" + str(ve))\n",
    "        print(\"Length of arrays: \")\n",
    "        for lst in [tus_keep_multihit, erg_keep_multihit, multihit_indx]:\n",
    "            print(len(lst))"
   ]
  },
  {
   "cell_type": "markdown",
   "id": "bd369c6b-2da5-4d03-a62e-be0e13a46992",
   "metadata": {},
   "source": [
    "## BGO function"
   ]
  },
  {
   "cell_type": "code",
   "execution_count": 109,
   "id": "fb08e8d7-010a-4584-a4d4-be3b3cb38e2a",
   "metadata": {},
   "outputs": [],
   "source": [
    "def read_matlab_file_with_BGO_data(matlabfilename):\n",
    "    '''Read matlab file with ASIM BGO data from the high energy detector (HED)\n",
    "\n",
    "    tus: relative times in microseconds.\n",
    "    erg: energy channel (needs to be calibrated to keV using calibration coeff from https://git.app.uib.no/ASIM-MXGS/IN-FLIGHT_CALIBRATION_BGO/-/tree/master/CALIBRATION_COEFS )\n",
    "    typ: normal (0), fast(1), valley (3), or overflow event (2 or 4 not )\n",
    "    adr: BGO address 1-12\n",
    "    dau: dau address 1-4\n",
    "    det: detector address 1-3\n",
    "    DetCol: RGB color\n",
    "    \n",
    "    - Kepping only normal (0) and fast (1) events\n",
    "    '''\n",
    "    matlabfile_TGF = path_HED + '%s.mat' % matlabfilename\n",
    "    \n",
    "    mat = scipy.io.loadmat(matlabfile_TGF)\n",
    "    \n",
    "    tus = mat['tus'].flatten()\n",
    "    erg = mat['erg'].flatten()\n",
    "    DetCol = mat['DetCol'] # Investigate this matrix\n",
    "    adr = mat['adr'].flatten()\n",
    "    dau = mat['dau'].flatten()\n",
    "    det = mat['det'].flatten()\n",
    "    typ = mat['typ'].flatten()\n",
    "    \n",
    "    date = mat['date'].flatten() #raw datetime\n",
    "    \n",
    "    \n",
    "    try:\n",
    "        length = len(tus)\n",
    "        if any(len(lst) != length for lst in [erg, typ, adr, dau, det]):\n",
    "        # at least one list has a different length\n",
    "            raise ValueError(\"Arrays have different lengths\")\n",
    "            \n",
    "        mask = np.where((typ != 0) & (typ != 1)) #finding indecies of vallays and overflow events\n",
    "        \n",
    "        # removing those indecies\n",
    "        tus = np.delete(tus,mask)\n",
    "        erg = np.delete(erg,mask)\n",
    "        adr = np.delete(adr,mask)\n",
    "        dau = np.delete(dau,mask)\n",
    "        det = np.delete(det,mask)\n",
    "        typ = np.delete(typ,mask)\n",
    "        \n",
    "        \n",
    "        return tus, erg, typ, adr, dau, det, DetCol, date\n",
    "    \n",
    "    except ValueError as ve:\n",
    "        print(\"Function aborted because of: \" + str(ve))\n",
    "        print(\"Length of arrays: \")\n",
    "        for lst in [tus,erg, typ, adr, dau, det]:\n",
    "            print(len(lst))"
   ]
  },
  {
   "cell_type": "markdown",
   "id": "9cca534c",
   "metadata": {},
   "source": [
    "# Plotting functions"
   ]
  },
  {
   "cell_type": "markdown",
   "id": "d59076a5-5400-402b-a613-cbfabd52478d",
   "metadata": {},
   "source": [
    "## LED"
   ]
  },
  {
   "cell_type": "code",
   "execution_count": 187,
   "id": "2e962c5f",
   "metadata": {},
   "outputs": [],
   "source": [
    "def plot_LED(LED_filename, binsize=10,start_range =0, end_range=0):\n",
    "    tus_LED, erg_LED, energy_keV_LED, tus_keep_multihit_LED, erg_keep_multihit_LED, multihit_indx_LED = read_matlab_file_with_CZT_data(\n",
    "    LED_filename)\n",
    "\n",
    "    binsize = binsize*1e3 #converting to microseconds\n",
    "    start_range = start_range*1e3 #converting to microseconds\n",
    "    end_range = end_range*1e3\n",
    "    \n",
    "    fig0, ax1 = plt.subplots(\n",
    "        1, 1, figsize=(12, 8), sharex=True, sharey=False)\n",
    "    \n",
    "    ax1.hist(tus_keep_multihit_LED, bins=np.arange(\n",
    "        min(tus_keep_multihit_LED), max(tus_keep_multihit_LED) + binsize, binsize),edgecolor= \"black\", histtype=\"step\")\n",
    "    ax1.set_xlabel(\"time [us], binsize {} ms\".format((binsize / 1e3)))\n",
    "    ax1.set_ylabel(\"Counts per bin\")\n",
    "    ax1.set_title(\"GRB \" + LED_filename)\n",
    "    \n",
    "    if start_range and end_range != 0:\n",
    "        mean = get_mean(LED_filename,binsize,tus_LED, start_range, end_range)\n",
    "        ax1.axhline(y=mean, color=\"red\", label=\"Mean of bg: {} counts/bin \\n First range [{} - {}] s \\n 2nd: [{} - {}] s\".format(\n",
    "            np.round(mean,2), np.round(min(tus_LED)/1e6,3),start_range/1e6, end_range/1e6, np.round(max(tus_LED)/1e6,3)),linestyle='--')\n",
    "                                                                                                                              \n",
    "                                                                                                                          \n",
    "        ax1.legend()\n",
    "        plt.show()\n",
    "    else:\n",
    "        plt.show()\n",
    "        \n",
    "    #plt.savefig(output_dir + \"/{}_LED\".format(grb_id))\n",
    "\n",
    "    "
   ]
  },
  {
   "cell_type": "markdown",
   "id": "9289b557-a7da-4688-964f-c160ac71e748",
   "metadata": {},
   "source": [
    "## HED"
   ]
  },
  {
   "cell_type": "code",
   "execution_count": 265,
   "id": "077a70d2-f53e-4e33-b1e1-5cb91d8b75a6",
   "metadata": {},
   "outputs": [],
   "source": [
    "def plot_HED(HED_filename, binsize=10, start_GRB=0, end_GRB=0, fig=(12,8) ):\n",
    "    \n",
    "    \"\"\"Plotting data from HED.\n",
    "        If start and end value for the GRB is not given, the data is plotted normally,\n",
    "        - BINSIZE IS INITIALIZED AS MILLISECONDS\n",
    "        - start_GRB & end_GRB IS INITIALIZED AS MILLISECONDS 0.5 s = 500 ms\n",
    "        - tus_HED is given in microseconds\n",
    "    \"\"\"\n",
    "    \n",
    "    binsize = binsize*1e3 #converting to microseconds\\n\",\n",
    "    \n",
    "    start_GRB = start_GRB*1e3 #converting to microseconds\\n\",\n",
    "    end_GRB = end_GRB*1e3,\n",
    "\n",
    "    tus_HED, erg_HED, typ_HED, adr_HED, dau_HED, det_HED, DetCol_HED, date = read_matlab_file_with_BGO_data(HED_filename)\n",
    "    \n",
    "    fig0, ax1 = plt.subplots(\n",
    "        1, 1, figsize=fig, sharex=True, sharey=False)\n",
    "    ax1.hist(tus_HED, bins=np.arange(\n",
    "        min(tus_HED), max(tus_HED) + binsize, binsize),edgecolor= \"black\", histtype=\"step\")\n",
    "    \n",
    "    ax1.set_xlabel(\"time [us], binsize {} ms\".format((binsize / 1e3)))\n",
    "    ax1.set_ylabel(\"Counts per bin\"),\n",
    "    ax1.set_title(\"GRB\" + HED_filename) #use dict to get id\n",
    "\n",
    "\n",
    "    if start_GRB and end_GRB != 0:\n",
    "        mean = get_mean(HED_filename,binsize,tus_HED, start_GRB, end_GRB)\n",
    "        ax1.axhline(y=mean, color=\"red\", label= \"Mean of bg: {} counts/bin \\n First range [{} - {}] s \\n 2nd: [{} - {}] s\".format(\n",
    "            np.round(mean,2), np.round(min(tus_HED)/1e6,3),start_GRB/1e6, end_GRB/1e6, np.round(max(tus_HED)/1e6,3)),linestyle='--'),\n",
    "        ax1.legend()\n",
    "        plt.show(),\n",
    "    else:\n",
    "        plt.show()"
   ]
  },
  {
   "cell_type": "markdown",
   "id": "2e92a07e-f1bd-41c2-8af2-928524543b15",
   "metadata": {},
   "source": [
    "## mean"
   ]
  },
  {
   "cell_type": "code",
   "execution_count": 213,
   "id": "e7e11e87-56c1-45b4-a914-868cade107c3",
   "metadata": {},
   "outputs": [],
   "source": [
    "# Rename start_GRB to start_range. Same for end_GRB\n",
    "def get_mean(matlab_filename, binsize, tus, start_GRB, end_GRB):\n",
    "    \n",
    "    \"\"\"Function for getting the mean from the background.\n",
    "    matlab_filename: <str> filename\n",
    "    binsize: <int> given in us // 5ms = 5000 us \n",
    "    start & end_GRB given in us.\n",
    "    -Finding ranges to compute the mean in each bin. \"\"\"\n",
    "    \n",
    "    tus = np.sort(tus)\n",
    "    range_1 =  find_closest(tus,start_GRB)\n",
    "    range_2 = find_closest(tus,end_GRB)\n",
    "    \n",
    "    range_1_counts = np.histogram(tus[:range_1], bins=np.arange(\n",
    "        min(tus[:range_1]), max(tus[:range_1]) + binsize, binsize))[0]\n",
    "    \n",
    "    range_2_counts = np.histogram(tus[range_2:], bins=np.arange(\n",
    "        min(tus[range_2:]), max(tus[range_2:]) + binsize, binsize))[0]\n",
    "    \n",
    "    background_data = np.append(range_1_counts,range_2_counts)\n",
    "    mean = np.mean(background_data)\n",
    "    return mean"
   ]
  },
  {
   "cell_type": "code",
   "execution_count": 214,
   "id": "38400522-f307-4604-8411-5ba2f5dabc66",
   "metadata": {},
   "outputs": [],
   "source": [
    "def find_closest(A, target):\n",
    "    #A must be sorted\n",
    "    idx = A.searchsorted(target)\n",
    "    idx = np.clip(idx, 1, len(A)-1)\n",
    "    left = A[idx-1]\n",
    "    right = A[idx]\n",
    "    idx -= target - left < right - target\n",
    "    return idx"
   ]
  },
  {
   "cell_type": "markdown",
   "id": "ce2e81b0-e327-4fc4-bda6-4d741cbc23c3",
   "metadata": {},
   "source": [
    "# Concatination of multiple files\n",
    "    -defining function concat_files"
   ]
  },
  {
   "cell_type": "code",
   "execution_count": 255,
   "id": "8ef1cc58-5ade-4e64-bcd9-914655ef1bcc",
   "metadata": {},
   "outputs": [],
   "source": [
    "def concat_files(grb_id, flag):\n",
    "    \"\"\" function concat_files concatenates multiple matlab files. Can only concat HED or LED files at the time\n",
    "    \n",
    "    Flag determines whether the input list is of HED or LED files\n",
    "    \n",
    "    Routine description: \n",
    "    1) The different tus arrays have their own T0. Calculating the delta T between T0 and Tn (time for concatination)  \n",
    "    \n",
    "    \n",
    "    Parameters:\n",
    "    %---------------------------------------------------------------\n",
    "    \n",
    "    grb_id <string>  : key for dictionary containing list of matlab filenames\n",
    "    flag <string>    : \"HED\" or \"LED\". They have different arrays after calling read_matlab_file function. This flag handles that.\n",
    "    \n",
    "    \n",
    "    returns:\n",
    "    %---------------------------------------------------------------\n",
    "    \n",
    "    \n",
    "    output for HED:\n",
    "    %---------------------------------------------------------------\n",
    "    concat_tus_HED <array> : concat tus (relative times in microseconds) for all arrays\n",
    "    concat_erg_HED <array> : concat erg (energy channel (needs to be calibrated to keV using calibration coeff)) for all arrays\n",
    "    concat_typ_HED <array> : concat typ for all counts  (normal (0), fast(1), valley (3), or overflow event (2 or 4 not )) read function keeps only 0 & 1.\n",
    "    concat_adr_HED <array> : concat BGO address 1-12 for all arrays\n",
    "    concat_dau_HED <array> : concat dau address 1-4\n",
    "    concat_det_HED <array> : concat detector address 1-3\n",
    "    concat_DetCol_HED <array> : concat RGB color for all arrays\n",
    "    concat_date_HED <array> : datetime of T0 for concat array\n",
    "    \n",
    "    output for LED:\n",
    "    %----------------------------------------------------------------\n",
    "    \n",
    "    \n",
    "    \"\"\"\n",
    "    #Handling input is in the right format\n",
    "    try:\n",
    "        if type(flag) and type(grb_id) != str:\n",
    "            raise TypeError(\"grb_id and/or flag input is not string\")\n",
    "        if flag != \"HED\" and flag != \"LED\":\n",
    "            raise NameError(\"flag-string is neither HED or LED\")\n",
    "        if flag == \"HED\":\n",
    "            if grb_id not in trig_dict_HED.keys():\n",
    "                raise KeyError(\"GRB ID not in trig_dict_HED\")\n",
    "        if flag == \"LED\":\n",
    "            if grb_id not in trig_dict_LED.keys():\n",
    "                raise KeyError(\"GRB ID not in trig_dict_LED\")\n",
    "        else:\n",
    "            if flag == \"HED\":\n",
    "                HED_files = trig_dict_HED[grb_id] #list of HED filenames in list. \n",
    "            if flag == \"LED\":\n",
    "                LED_files = trig_dict_LED[grb_id] #list of LED filenames in list\n",
    "                \n",
    "    except (TypeError, NameError, KeyError) as e:\n",
    "        return print(e) #routine quits if error is found\n",
    "    \n",
    "    \n",
    "    #reading the matlab files --> storing in matrix?\n",
    "    \n",
    "    \n",
    "    print(\"no errors found\")\n"
   ]
  },
  {
   "cell_type": "markdown",
   "id": "cdc0a5e5-ef3f-4963-a05d-338b5fca1c91",
   "metadata": {},
   "source": [
    "## Testing concat"
   ]
  },
  {
   "cell_type": "code",
   "execution_count": 254,
   "id": "fe557761-c0a0-481f-b2a1-7bfb3d47b075",
   "metadata": {},
   "outputs": [
    {
     "name": "stdout",
     "output_type": "stream",
     "text": [
      "no errors found\n"
     ]
    }
   ],
   "source": [
    "concat_files(\"GRB190206\",\"HED\")\n"
   ]
  },
  {
   "cell_type": "code",
   "execution_count": null,
   "id": "ba1084b6-ae8f-41c9-b4c9-a917a2c3e842",
   "metadata": {},
   "outputs": [],
   "source": [
    "tus_HED, erg_HED, typ_HED, adr_HED, dau_HED, det_HED, DetCol_HED, date = read_matlab_file_with_BGO_data(HED_filename)"
   ]
  },
  {
   "cell_type": "code",
   "execution_count": 268,
   "id": "ab6ce378-3a0d-48ed-9a40-355653f8a3e3",
   "metadata": {},
   "outputs": [
    {
     "data": {
      "application/vnd.jupyter.widget-view+json": {
       "model_id": "1d2f6d17a3404672b9cf1ada1e2ec3e6",
       "version_major": 2,
       "version_minor": 0
      },
      "image/png": "[encoded data removed]",
      "text/html": [
       "\n",
       "            <div style=\"display: inline-block;\">\n",
       "                <div class=\"jupyter-widgets widget-label\" style=\"text-align: center;\">\n",
       "                    Figure\n",
       "                </div>\n",
       "                <img src='data:image/png;base64,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' width=1000.0/>\n",
       "            </div>\n",
       "        "
      ],
      "text/plain": [
       "Canvas(toolbar=Toolbar(toolitems=[('Home', 'Reset original view', 'home', 'home'), ('Back', 'Back to previous …"
      ]
     },
     "metadata": {},
     "output_type": "display_data"
    }
   ],
   "source": [
    "plot_HED(\"2019_08_25_21_04_53\",binsize=32, fig=(10,4))"
   ]
  },
  {
   "cell_type": "code",
   "execution_count": 269,
   "id": "fbe2faf8-29ef-4396-b5ca-690e023ba225",
   "metadata": {},
   "outputs": [
    {
     "data": {
      "application/vnd.jupyter.widget-view+json": {
       "model_id": "d6154f23835d4eaf81e5299cdeeb1a9e",
       "version_major": 2,
       "version_minor": 0
      },
      "image/png": "[encoded data removed]",
      "text/html": [
       "\n",
       "            <div style=\"display: inline-block;\">\n",
       "                <div class=\"jupyter-widgets widget-label\" style=\"text-align: center;\">\n",
       "                    Figure\n",
       "                </div>\n",
       "                <img src='data:image/png;base64,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' width=1000.0/>\n",
       "            </div>\n",
       "        "
      ],
      "text/plain": [
       "Canvas(toolbar=Toolbar(toolitems=[('Home', 'Reset original view', 'home', 'home'), ('Back', 'Back to previous …"
      ]
     },
     "metadata": {},
     "output_type": "display_data"
    }
   ],
   "source": [
    "plot_HED(\"2019_08_25_21_04_55\",binsize=32, fig=(10,4))"
   ]
  },
  {
   "cell_type": "code",
   "execution_count": null,
   "id": "2defa9a9-49c8-463c-affd-e76e611c63cb",
   "metadata": {},
   "outputs": [],
   "source": []
  },
  {
   "cell_type": "code",
   "execution_count": null,
   "id": "c524d752-57df-43ac-8b47-edc26ccfa402",
   "metadata": {},
   "outputs": [],
   "source": []
  },
  {
   "cell_type": "code",
   "execution_count": null,
   "id": "d950dd69-4a5d-45e2-8bd6-7115a84a0e17",
   "metadata": {},
   "outputs": [],
   "source": []
  },
  {
   "cell_type": "code",
   "execution_count": null,
   "id": "d453a3f2-7824-483c-9b1c-245ab9980293",
   "metadata": {},
   "outputs": [],
   "source": []
  },
  {
   "cell_type": "code",
   "execution_count": null,
   "id": "bfc824c6-b18b-4d3e-aaf1-e9f1a959ae17",
   "metadata": {},
   "outputs": [],
   "source": []
  },
  {
   "cell_type": "markdown",
   "id": "56edf6eb",
   "metadata": {},
   "source": [
    "# main function"
   ]
  },
  {
   "cell_type": "code",
   "execution_count": 8,
   "id": "framed-privilege",
   "metadata": {},
   "outputs": [
    {
     "ename": "SyntaxError",
     "evalue": "non-default argument follows default argument (2792431290.py, line 1)",
     "output_type": "error",
     "traceback": [
      "\u001b[0;36m  Input \u001b[0;32mIn [8]\u001b[0;36m\u001b[0m\n\u001b[0;31m    def main(grb_id,binsize=10000, start_GRB, end_GRB):  # filename GRB ID\u001b[0m\n\u001b[0m             ^\u001b[0m\n\u001b[0;31mSyntaxError\u001b[0m\u001b[0;31m:\u001b[0m non-default argument follows default argument\n"
     ]
    }
   ],
   "source": [
    "def main(grb_id,binsize=10000, start_GRB, end_GRB):  # filename GRB ID\n",
    "    # output array for tus_keep_multihit_LED, erg_keep_multihit_LED, multihit_indx_LED må modifiseres\n",
    "    # Automake by making filename a list of filenames. Then the all the outout plots will be created\n",
    "\n",
    "    # TODO:\n",
    "    # Add the extra parameters to make the get_mean work\n",
    "#os.mkdir(\"/Users/andreas/phys/master/MATLAB/pyplots\")\n",
    "    trig_dict = create_triggers_dict()\n",
    "    try:\n",
    "        output_dir = os.mkdir(\"/Home/siv30/wad005/master/GRB/MATLAB/pyplots/{}\".format(grb_id)) #Creating owd folder for grb_id\n",
    "    except FileExistsError:\n",
    "        output_dir = \"/Home/siv30/wad005//master/GRB/MATLAB/pyplots/{}\".format(grb_id) #selecting path if it already exists\n",
    "\n",
    "\n",
    "    if type(grb_id) != str:\n",
    "        raise TypeError(\"Input is not string\")\n",
    "    elif grb_id not in trig_dict:\n",
    "        raise LookupError(\"grb_id not in dictionary\")\n",
    "    else:\n",
    "        try:\n",
    "            LED_filename = trig_dict[grb_id][0]\n",
    "            HED_filename = trig_dict[grb_id][1]\n",
    "            if type(LED_filename) == float and math.isnan(LED_filename):\n",
    "                print(\"LED file not found. Plotting only HED\")\n",
    "                plot_HED(HED_filename,output_dir,grb_id) #output path is not required\n",
    "                \n",
    "            elif type(HED_filename) == float and math.isnan(HED_filename):\n",
    "                print(\"HED file not found. Plotting only LED\")\n",
    "                plot_LED(LED_filename,output_dir,grb_id)\n",
    "            else:\n",
    "                plot_LED(LED_filename,output_dir,grb_id)\n",
    "                plot_HED(HED_filename,output_dir,grb_id)\n",
    "        except:\n",
    "            print(\"Something went wrong\")\n",
    "    \n",
    "    "
   ]
  },
  {
   "cell_type": "code",
   "execution_count": null,
   "id": "ec421626-8a35-4787-a041-986632c5a670",
   "metadata": {},
   "outputs": [],
   "source": []
  },
  {
   "cell_type": "markdown",
   "id": "5b3a1ad6-2ffd-44b5-9933-8e57e05fb32b",
   "metadata": {},
   "source": [
    "# Graveyards"
   ]
  },
  {
   "cell_type": "code",
   "execution_count": null,
   "id": "579e6a7c-1ff3-486e-a455-6a20a905e30b",
   "metadata": {},
   "outputs": [],
   "source": [
    "# Not in use\n",
    "def get_filenames(path):\n",
    "    return sorted((f for f in os.listdir(path) if not f.startswith(\".\")), key=str.lower)"
   ]
  },
  {
   "cell_type": "code",
   "execution_count": 181,
   "id": "31e55517-b7c0-464a-89b5-b9666d375cca",
   "metadata": {},
   "outputs": [
    {
     "data": {
      "text/plain": [
       "'\\ndef plot_HED(HED_filename, output_dir,grb_id):\\n    tus_HED, erg_HED, typ_HED, adr_HED, dau_HED, det_HED, DetCol_HED = read_matlab_file_with_BGO_data(HED_filename)\\n\\n    fig0, (ax0, ax1) = plt.subplots(\\n        2, 1, figsize=(8, 8), sharex=True, sharey=False)\\n    ax0.set_title(\"HED\")\\n\\n    ax0.scatter(tus_HED, erg_HED)\\n    ax0.set_xlabel(\"time [us]\")\\n    ax0.set_ylabel(\"Energy channel\")\\n\\n    binsize = 10000  # us --> 10 ms bin\\n    ax1.hist(tus_HED, bins=np.arange(\\n        min(tus_HED), max(tus_HED)+binsize, binsize))\\n    ax1.set_xlabel(\"time [us]\")\\n    ax1.set_ylabel(\"Counts per bin\")\\n    \\n    output_dir_hed = output_dir + \"/{}_HED\".format(grb_id)\\n    print(output_dir_hed)\\n    plt.savefig(output_dir + \"/{}_HED\".format(grb_id)) #path where plot is saved\\n'"
      ]
     },
     "execution_count": 181,
     "metadata": {},
     "output_type": "execute_result"
    }
   ],
   "source": [
    "#Old plot_HED function\n",
    "\"\"\"\n",
    "def plot_HED(HED_filename, output_dir,grb_id):\n",
    "    tus_HED, erg_HED, typ_HED, adr_HED, dau_HED, det_HED, DetCol_HED = read_matlab_file_with_BGO_data(HED_filename)\n",
    "\n",
    "    fig0, (ax0, ax1) = plt.subplots(\n",
    "        2, 1, figsize=(8, 8), sharex=True, sharey=False)\n",
    "    ax0.set_title(\"HED\")\n",
    "\n",
    "    ax0.scatter(tus_HED, erg_HED)\n",
    "    ax0.set_xlabel(\"time [us]\")\n",
    "    ax0.set_ylabel(\"Energy channel\")\n",
    "\n",
    "    binsize = 10000  # us --> 10 ms bin\n",
    "    ax1.hist(tus_HED, bins=np.arange(\n",
    "        min(tus_HED), max(tus_HED)+binsize, binsize))\n",
    "    ax1.set_xlabel(\"time [us]\")\n",
    "    ax1.set_ylabel(\"Counts per bin\")\n",
    "    \n",
    "    output_dir_hed = output_dir + \"/{}_HED\".format(grb_id)\n",
    "    print(output_dir_hed)\n",
    "    plt.savefig(output_dir + \"/{}_HED\".format(grb_id)) #path where plot is saved\n",
    "\"\"\""
   ]
  }
 ],
 "metadata": {
  "kernelspec": {
   "display_name": "Python 3 (ipykernel)",
   "language": "python",
   "name": "python3"
  },
  "language_info": {
   "codemirror_mode": {
    "name": "ipython",
    "version": 3
   },
   "file_extension": ".py",
   "mimetype": "text/x-python",
   "name": "python",
   "nbconvert_exporter": "python",
   "pygments_lexer": "ipython3",
   "version": "3.8.10"
  },
  "toc": {
   "base_numbering": 1,
   "nav_menu": {},
   "number_sections": true,
   "sideBar": true,
   "skip_h1_title": false,
   "title_cell": "Table of Contents",
   "title_sidebar": "Contents",
   "toc_cell": false,
   "toc_position": {},
   "toc_section_display": true,
   "toc_window_display": false
  },
  "varInspector": {
   "cols": {
    "lenName": 16,
    "lenType": 16,
    "lenVar": 40
   },
   "kernels_config": {
    "python": {
     "delete_cmd_postfix": "",
     "delete_cmd_prefix": "del ",
     "library": "var_list.py",
     "varRefreshCmd": "print(var_dic_list())"
    },
    "r": {
     "delete_cmd_postfix": ") ",
     "delete_cmd_prefix": "rm(",
     "library": "var_list.r",
     "varRefreshCmd": "cat(var_dic_list()) "
    }
   },
   "types_to_exclude": [
    "module",
    "function",
    "builtin_function_or_method",
    "instance",
    "_Feature"
   ],
   "window_display": false
  }
 },
 "nbformat": 4,
 "nbformat_minor": 5
}
