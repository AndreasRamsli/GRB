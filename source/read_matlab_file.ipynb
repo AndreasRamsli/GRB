{
 "cells": [
  {
   "cell_type": "markdown",
   "id": "empirical-carolina",
   "metadata": {},
   "source": [
    "# Imports"
   ]
  },
  {
   "cell_type": "code",
   "execution_count": 1,
   "id": "finite-outdoors",
   "metadata": {},
   "outputs": [],
   "source": [
    "import numpy as np\n",
    "import matplotlib.pyplot as plt\n",
    "import scipy.io\n",
    "import scipy\n",
    "import os\n",
    "import glob\n",
    "import pandas as pd\n",
    "import math\n",
    "plt.rcdefaults() #Setting default color of output plots\n",
    "# For interactive plots\n",
    "%matplotlib widget \n",
    "plt.rcParams.update({'figure.max_open_warning': 0})"
   ]
  },
  {
   "cell_type": "markdown",
   "id": "807afc27",
   "metadata": {},
   "source": [
    "# Paths"
   ]
  },
  {
   "cell_type": "code",
   "execution_count": 2,
   "id": "expected-classroom",
   "metadata": {},
   "outputs": [],
   "source": [
    "path_HED = \"/Home/siv30/wad005/master/GRB/MATLAB/output/file_mat_TGF\"\n",
    "path_LED = \"/Home/siv30/wad005/master/GRB/MATLAB/CZT_calibration/file_mat_CZT_TGF\""
   ]
  },
  {
   "cell_type": "markdown",
   "id": "82cdb8bf",
   "metadata": {},
   "source": [
    "# Dict creation"
   ]
  },
  {
   "cell_type": "code",
   "execution_count": 43,
   "id": "mathematical-alexandria",
   "metadata": {},
   "outputs": [],
   "source": [
    "#make a dictionary out of the manual trigger_ID list\n",
    "triggers_data = pd.read_csv(\"trigger_ID.csv\") #Manually created csv file that contains the GRB IDs, LED and HED filenames\n",
    "GRB = triggers_data[\"GRB\"].values\n",
    "LED = triggers_data[\"LED\"].values\n",
    "HED = triggers_data[\"HED\"].values\n",
    "#Should be an easier way to sort the DF into an dict. Maybe transposing the DF\n",
    "def create_triggers_dict():\n",
    "    \"\"\"\n",
    "    trig_dict stores the GRB ID and LED/HED filenames.\n",
    "    Key in dictionary is GRB id. Filenames are stored as tuple <LED,HED>\n",
    "    return: trig_dict\n",
    "    \"\"\"\n",
    "    trig_dict ={}\n",
    "    \n",
    "    try:\n",
    "        if len(LED) & len(HED) != len(GRB):\n",
    "            raise IndexError(\"Arrays not the same length. Check GRB,LED and HED\")\n",
    "        else:\n",
    "            for i in np.arange(0,len(GRB)):\n",
    "                GRB_name = GRB[i]\n",
    "                LED_id = LED[i]\n",
    "                HED_id = HED[i]\n",
    "                trig_dict[GRB_name] = LED_id,HED_id\n",
    "            return trig_dict\n",
    "    except:\n",
    "        raise"
   ]
  },
  {
   "cell_type": "code",
   "execution_count": 44,
   "id": "28fb3ae6",
   "metadata": {},
   "outputs": [
    {
     "data": {
      "text/plain": [
       "{'GRB 181222': (nan, '2018_12_22_20_11_36'),\n",
       " 'GRB 190206': (nan, '2019_02_06_03_49_28'),\n",
       " 'GRB 190305': (nan, '2019_03_05_13_05_19'),\n",
       " 'GRB 190807': (nan, '2018_08_07_02_19_37')}"
      ]
     },
     "execution_count": 44,
     "metadata": {},
     "output_type": "execute_result"
    }
   ],
   "source": [
    "trig_dict= create_triggers_dict()\n",
    "trig_dict"
   ]
  },
  {
   "cell_type": "markdown",
   "id": "aa41034e",
   "metadata": {},
   "source": [
    "# Functions for handling matlab files"
   ]
  },
  {
   "cell_type": "code",
   "execution_count": 7,
   "id": "improved-architect",
   "metadata": {},
   "outputs": [],
   "source": [
    "def read_matlab_file_with_BGO_data(matlabfilename):\n",
    "    '''Read matlab file with ASIM BGO data from the high energy detector (HED)\n",
    "\n",
    "    tus: relative time in microseconds\n",
    "    erg: energy channel (needs to be calibrated to keV using calibration coeff from https://git.app.uib.no/ASIM-MXGS/IN-FLIGHT_CALIBRATION_BGO/-/tree/master/CALIBRATION_COEFS )\n",
    "    typ: normal, fast, valley, or overflow event\n",
    "    adr: BGO address 1-12\n",
    "    dau: dau address 1-4\n",
    "    det: detector address 1-3\n",
    "    DetCol: RGB color\n",
    "    '''\n",
    "    matlabfile_TGF = '/Home/siv30/wad005/master/GRB/MATLAB/output/file_mat_TGF/%s' % matlabfilename\n",
    "\n",
    "    mat = scipy.io.loadmat(matlabfile_TGF)\n",
    "    tus = mat['tus'].flatten()\n",
    "    erg = mat['erg'].flatten()\n",
    "    DetCol = mat['DetCol']\n",
    "    adr = mat['adr'].flatten()\n",
    "    dau = mat['dau'].flatten()\n",
    "    det = mat['det'].flatten()\n",
    "    typ = mat['typ'].flatten()\n",
    "    return tus, erg, typ, adr, dau, det, DetCol\n",
    "\n",
    "\n",
    "def read_matlab_file_with_CZT_data(filename):\n",
    "    '''Read matlab file with ASIM CZT data from the low energy detector (LED)\n",
    "\n",
    "    tus: relative time in microseconds (excluded multihits)\n",
    "    erg: energy channel (excluded multihits)\n",
    "    energy_keV: energy in keV (excluded multihits)\n",
    "    tus_keep_multihit: relative time in microseconds (included multihits)\n",
    "    erg_keep_multihit: energy channel (included multihits)\n",
    "    multihit_indx: multihit index 0-4.o\n",
    "    '''\n",
    "    mat = scipy.io.loadmat(\"/Home/siv30/wad005/master/GRB/MATLAB/CZT_calibration/file_mat_CZT_TGF/%s.mat\" % (filename))\n",
    "\n",
    "    #keV_spectra = mat['keV_spectra_total_fulltrigger']\n",
    "\n",
    "    # Included multihits. Important for light curves\n",
    "    tus_keep_multihit = np.array(mat['tus_keep_multihit_fulltrigger'])[:,0] # relative time in microseconds\n",
    "    erg_keep_multihit = np.array(mat['erg_keep_multihit_fulltrigger'])[0,:] # energy channel (unreliable for multi hits)\n",
    "    multihit_indx = np.array(mat['multihit_fulltrigger'])[0,:] # multihit index. How many multihits in count. (0=1 count, 1=2 counts, 2=3 counts...)\n",
    "\n",
    "\n",
    "    # The multihits are removed as they don't have a reliable energy estimate\n",
    "    erg = np.array(mat['erg_fulltrigger'])[0,:] # energy channel of CZT pixel\n",
    "    tus = np.array(mat['tus_fulltrigger'])[:,0] # relative time in microseconds\n",
    "    energy_keV = np.array(mat['pixel_energy_fulltrigger']).flatten() # energy in keV of CZT pixel\n",
    "\n",
    "    return tus, erg, energy_keV, tus_keep_multihit, erg_keep_multihit, multihit_indx"
   ]
  },
  {
   "cell_type": "markdown",
   "id": "9cca534c",
   "metadata": {},
   "source": [
    "# Plotting functions"
   ]
  },
  {
   "cell_type": "code",
   "execution_count": 14,
   "id": "2e962c5f",
   "metadata": {},
   "outputs": [],
   "source": [
    "def plot_LED(LED_filename, output_dir,grb_id):\n",
    "    plt.rcdefaults()\n",
    "    tus_LED, erg_LED, energy_keV_LED, tus_keep_multihit_LED, erg_keep_multihit_LED, multihit_indx_LED = read_matlab_file_with_CZT_data(\n",
    "    LED_filename)\n",
    "\n",
    "    fig0, (ax0, ax1) = plt.subplots(\n",
    "        2, 1, figsize=(8, 8), sharex=True, sharey=False)\n",
    "    ax0.set_title(\"LED\")\n",
    "    ax0.scatter(tus_LED, energy_keV_LED)\n",
    "    ax0.set_xlabel(\"time [us]\")\n",
    "    ax0.set_ylabel(\"Energy [keV]\")\n",
    "\n",
    "    binsize = 10000  # us --> 10 ms bin\n",
    "    ax1.hist(tus_LED, bins=np.arange(\n",
    "        min(tus_LED), max(tus_LED)+binsize, binsize))\n",
    "    ax1.set_xlabel(\"time [us]\")\n",
    "    ax1.set_ylabel(\"Counts per bin\")\n",
    "\n",
    "    plt.savefig(output_dir + \"/{}_LED\".format(grb_id))\n",
    "    \n",
    "def plot_HED(HED_filename, output_dir,grb_id):\n",
    "    plt.rcdefaults()\n",
    "    tus_HED, erg_HED, typ_HED, adr_HED, dau_HED, det_HED, DetCol_HED = read_matlab_file_with_BGO_data(HED_filename)\n",
    "\n",
    "    fig0, (ax0, ax1) = plt.subplots(\n",
    "        2, 1, figsize=(8, 8), sharex=True, sharey=False)\n",
    "    ax0.set_title(\"HED\")\n",
    "\n",
    "    ax0.scatter(tus_HED, erg_HED)\n",
    "    ax0.set_xlabel(\"time [us]\")\n",
    "    ax0.set_ylabel(\"Energy channel\")\n",
    "\n",
    "    binsize = 10000  # us --> 10 ms bin\n",
    "    ax1.hist(tus_HED, bins=np.arange(\n",
    "        min(tus_HED), max(tus_HED)+binsize, binsize))\n",
    "    ax1.set_xlabel(\"time [us]\")\n",
    "    ax1.set_ylabel(\"Counts per bin\")\n",
    "    \n",
    "    output_dir_hed = output_dir + \"/{}_HED\".format(grb_id)\n",
    "    print(output_dir_hed)\n",
    "    plt.savefig(output_dir + \"/{}_HED\".format(grb_id)) #path where plot is saved\n",
    "\n"
   ]
  },
  {
   "cell_type": "markdown",
   "id": "56edf6eb",
   "metadata": {},
   "source": [
    "# main function"
   ]
  },
  {
   "cell_type": "code",
   "execution_count": 9,
   "id": "framed-privilege",
   "metadata": {},
   "outputs": [],
   "source": [
    "def main(grb_id):  # filename GRB ID\n",
    "    # output array for tus_keep_multihit_LED, erg_keep_multihit_LED, multihit_indx_LED må modifiseres\n",
    "    # Automake by making filename a list of filenames. Then the all the outout plots will be created\n",
    "\n",
    "    # TODO:\n",
    "    # write the find_filename_X function\n",
    "    # filenames_LED_list = get_filenames(path_LED) #path is a global variable defined earlier\n",
    "    # filenames_HED_list = get_filenames(path_HED) #path is a global variable defined earlier\n",
    "#os.mkdir(\"/Users/andreas/phys/master/MATLAB/pyplots\")\n",
    "    trig_dict = create_triggers_dict()\n",
    "    try:\n",
    "        output_dir = os.mkdir(\"/Home/siv30/wad005/master/GRB/MATLAB/pyplots/{}\".format(grb_id)) #Creating owd folder for grb_id\n",
    "    except FileExistsError:\n",
    "        output_dir = \"/Home/siv30/wad005//master/GRB/MATLAB/pyplots/{}\".format(grb_id) #selecting path if it already exists\n",
    "\n",
    "\n",
    "    if type(grb_id) != str:\n",
    "        raise TypeError(\"Input is not string\")\n",
    "    elif grb_id not in trig_dict:\n",
    "        raise LookupError(\"grb_id not in dictionary\")\n",
    "    else:\n",
    "        try:\n",
    "            LED_filename = trig_dict[grb_id][0]\n",
    "            HED_filename = trig_dict[grb_id][1]\n",
    "            if type(LED_filename) == float and math.isnan(LED_filename):\n",
    "                print(\"LED file not found. Plotting only HED\")\n",
    "                plot_HED(HED_filename,output_dir,grb_id)\n",
    "                \n",
    "            elif type(HED_filename) == float and math.isnan(HED_filename):\n",
    "                print(\"HED file not found. Plotting only LED\")\n",
    "                plot_LED(LED_filename,output_dir,grb_id)\n",
    "            else:\n",
    "                plot_LED(LED_filename,output_dir,grb_id)\n",
    "                plot_HED(HED_filename,output_dir,grb_id)\n",
    "        except:\n",
    "            print(\"Something went wrong\")\n",
    "    \n",
    "    "
   ]
  },
  {
   "cell_type": "code",
   "execution_count": 10,
   "id": "found-above",
   "metadata": {},
   "outputs": [
    {
     "name": "stdout",
     "output_type": "stream",
     "text": [
      "LED file not found. Plotting only HED\n",
      "Something went wrong\n"
     ]
    }
   ],
   "source": [
    "main(\"GRB 190206\")\n",
    "#Still not saving the output plots"
   ]
  },
  {
   "cell_type": "code",
   "execution_count": 45,
   "id": "cf435b1f-3219-4396-a397-f0234d4c656a",
   "metadata": {},
   "outputs": [
    {
     "data": {
      "text/plain": [
       "'2019_03_05_13_05_19'"
      ]
     },
     "execution_count": 45,
     "metadata": {},
     "output_type": "execute_result"
    }
   ],
   "source": [
    "grb_190305_HED_file = trig_dict['GRB 190305'][1]\n",
    "grb_190305_HED_file"
   ]
  },
  {
   "cell_type": "code",
   "execution_count": 28,
   "id": "56f3be30-7feb-4abf-95cd-aa023fc3f157",
   "metadata": {},
   "outputs": [],
   "source": [
    "def plot_HED(HED_filename,binsize=10000):\n",
    "    tus_HED, erg_HED, typ_HED, adr_HED, dau_HED, det_HED, DetCol_HED = read_matlab_file_with_BGO_data(HED_filename)\n",
    "\n",
    "    fig0, ax1 = plt.subplots(\n",
    "        1, 1, figsize=(12, 8), sharex=True, sharey=False)\n",
    "\n",
    "    binsize = binsize  # us --> 10 ms bin\n",
    "    ax1.hist(tus_HED, bins=np.arange(\n",
    "        min(tus_HED), max(tus_HED) + binsize, binsize),edgecolor= \"black\", histtype=\"step\")\n",
    "    ax1.set_xlabel(\"time [us], binsize {} ms\".format((binsize / 1000)))\n",
    "    ax1.set_ylabel(\"Counts per bin\")\n",
    "    ax1.set_title(\"GRB \" + HED_filename)\n"
   ]
  },
  {
   "cell_type": "code",
   "execution_count": 49,
   "id": "19911512-0ad4-456a-ae17-7554c4e49ab1",
   "metadata": {},
   "outputs": [
    {
     "data": {
      "application/vnd.jupyter.widget-view+json": {
       "model_id": "23d0b0125651460fa3438edfb30b3beb",
       "version_major": 2,
       "version_minor": 0
      },
      "image/png": "[encoded data removed]",
      "text/html": [
       "\n",
       "            <div style=\"display: inline-block;\">\n",
       "                <div class=\"jupyter-widgets widget-label\" style=\"text-align: center;\">\n",
       "                    Figure\n",
       "                </div>\n",
       "                <img src='data:image/png;base64,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' width=1200.0/>\n",
       "            </div>\n",
       "        "
      ],
      "text/plain": [
       "Canvas(toolbar=Toolbar(toolitems=[('Home', 'Reset original view', 'home', 'home'), ('Back', 'Back to previous …"
      ]
     },
     "metadata": {},
     "output_type": "display_data"
    }
   ],
   "source": [
    "plot_HED(grb_190305_HED_file,binsize=16000)"
   ]
  },
  {
   "cell_type": "code",
   "execution_count": null,
   "id": "d5b752da-d82c-4f38-ac27-b2bf3c3ae90e",
   "metadata": {},
   "outputs": [],
   "source": []
  },
  {
   "cell_type": "code",
   "execution_count": null,
   "id": "a2c7744e-9388-41db-a93c-b84186510017",
   "metadata": {},
   "outputs": [],
   "source": []
  },
  {
   "cell_type": "code",
   "execution_count": null,
   "id": "1518cd4a-7930-40f9-ba05-5aa7c75fedf6",
   "metadata": {},
   "outputs": [],
   "source": []
  },
  {
   "cell_type": "markdown",
   "id": "5b3a1ad6-2ffd-44b5-9933-8e57e05fb32b",
   "metadata": {},
   "source": [
    "# Graveyards"
   ]
  },
  {
   "cell_type": "code",
   "execution_count": null,
   "id": "579e6a7c-1ff3-486e-a455-6a20a905e30b",
   "metadata": {},
   "outputs": [],
   "source": [
    "# Not in use\n",
    "def get_filenames(path):\n",
    "    return sorted((f for f in os.listdir(path) if not f.startswith(\".\")), key=str.lower)"
   ]
  }
 ],
 "metadata": {
  "kernelspec": {
   "display_name": "Python 3 (ipykernel)",
   "language": "python",
   "name": "python3"
  },
  "language_info": {
   "codemirror_mode": {
    "name": "ipython",
    "version": 3
   },
   "file_extension": ".py",
   "mimetype": "text/x-python",
   "name": "python",
   "nbconvert_exporter": "python",
   "pygments_lexer": "ipython3",
   "version": "3.8.10"
  },
  "toc": {
   "base_numbering": 1,
   "nav_menu": {},
   "number_sections": true,
   "sideBar": true,
   "skip_h1_title": false,
   "title_cell": "Table of Contents",
   "title_sidebar": "Contents",
   "toc_cell": false,
   "toc_position": {},
   "toc_section_display": true,
   "toc_window_display": false
  },
  "varInspector": {
   "cols": {
    "lenName": 16,
    "lenType": 16,
    "lenVar": 40
   },
   "kernels_config": {
    "python": {
     "delete_cmd_postfix": "",
     "delete_cmd_prefix": "del ",
     "library": "var_list.py",
     "varRefreshCmd": "print(var_dic_list())"
    },
    "r": {
     "delete_cmd_postfix": ") ",
     "delete_cmd_prefix": "rm(",
     "library": "var_list.r",
     "varRefreshCmd": "cat(var_dic_list()) "
    }
   },
   "types_to_exclude": [
    "module",
    "function",
    "builtin_function_or_method",
    "instance",
    "_Feature"
   ],
   "window_display": false
  }
 },
 "nbformat": 4,
 "nbformat_minor": 5
}
