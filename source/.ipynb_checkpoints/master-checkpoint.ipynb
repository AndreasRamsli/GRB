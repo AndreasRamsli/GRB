{
 "cells": [
  {
   "cell_type": "code",
   "execution_count": 1,
   "id": "honey-intention",
   "metadata": {},
   "outputs": [],
   "source": [
    "import pandas as pd\n",
    "import matplotlib.pyplot as plt\n",
    "import numpy as np\n",
    "import os\n",
    "from datetime import datetime, timedelta\n",
    "import csv"
   ]
  },
  {
   "cell_type": "markdown",
   "id": "rough-plastic",
   "metadata": {},
   "source": [
    "## Objective:\n",
    "-Import the datasets. Still need the extra dataset. Includes triggers up to dec. 21\n",
    "\n",
    "-datetime helpful docs: https://www.w3schools.com/python/python_datetime.asp\n",
    "\n",
    "-Create algorithm that searches for matches that are +/- 10 second apart and remove the rest (maybe two seconds)\n",
    "\n",
    "-First match found at 2018, 7, 11, 17, 2, 4\n",
    "\n",
    "-Complete match list found for trigB --> trigB_match\n",
    "\n",
    "//TODO: \n",
    "\n",
    "- Update list up until 2022\n",
    "- Wrap functions around the algorithms so that the same can be done for trigC etc.\n",
    "- Create dataframe with the result\n",
    "-Access the relevant files found in trigB_match list\n",
    "-Do spectral analysis on the data (counts/bin)\n",
    "\n",
    "\n",
    "### Notes from stackoverflow:\n",
    "np.where() implementation:https://numpy.org/doc/stable/reference/generated/numpy.where.html , https://stackoverflow.com/questions/35714902/find-location-of-pair-of-elements-in-two-arrays-in-numpy"
   ]
  },
  {
   "cell_type": "markdown",
   "id": "verified-steal",
   "metadata": {},
   "source": [
    "## Importing data"
   ]
  },
  {
   "cell_type": "code",
   "execution_count": 2,
   "id": "lucky-cooler",
   "metadata": {},
   "outputs": [
    {
     "ename": "FileNotFoundError",
     "evalue": "[Errno 2] No such file or directory: './IPN/trigIPN.csv'",
     "output_type": "error",
     "traceback": [
      "\u001b[0;31m---------------------------------------------------------------------------\u001b[0m",
      "\u001b[0;31mFileNotFoundError\u001b[0m                         Traceback (most recent call last)",
      "\u001b[0;32m<ipython-input-2-27b75d6c511a>\u001b[0m in \u001b[0;36m<module>\u001b[0;34m\u001b[0m\n\u001b[1;32m      3\u001b[0m \u001b[0;34m\u001b[0m\u001b[0m\n\u001b[1;32m      4\u001b[0m \u001b[0;31m#Old IPN dataset\u001b[0m\u001b[0;34m\u001b[0m\u001b[0;34m\u001b[0m\u001b[0m\n\u001b[0;32m----> 5\u001b[0;31m \u001b[0mipn_old_data\u001b[0m \u001b[0;34m=\u001b[0m \u001b[0mpd\u001b[0m\u001b[0;34m.\u001b[0m\u001b[0mread_csv\u001b[0m\u001b[0;34m(\u001b[0m\u001b[0;34m\"./IPN/trigIPN.csv\"\u001b[0m\u001b[0;34m,\u001b[0m \u001b[0msep\u001b[0m\u001b[0;34m=\u001b[0m\u001b[0;34m\"|\"\u001b[0m\u001b[0;34m)\u001b[0m\u001b[0;34m\u001b[0m\u001b[0m\n\u001b[0m\u001b[1;32m      6\u001b[0m \u001b[0mipn_old_df\u001b[0m \u001b[0;34m=\u001b[0m \u001b[0mpd\u001b[0m\u001b[0;34m.\u001b[0m\u001b[0mDataFrame\u001b[0m\u001b[0;34m(\u001b[0m\u001b[0mipn_old_data\u001b[0m\u001b[0;34m)\u001b[0m\u001b[0;34m\u001b[0m\u001b[0m\n\u001b[1;32m      7\u001b[0m \u001b[0mipn_old_df\u001b[0m\u001b[0;34m.\u001b[0m\u001b[0mdrop\u001b[0m\u001b[0;34m(\u001b[0m\u001b[0mcolumns\u001b[0m\u001b[0;34m=\u001b[0m \u001b[0;34m[\u001b[0m\u001b[0;34m'Unnamed: 0'\u001b[0m\u001b[0;34m,\u001b[0m \u001b[0;34m'Unnamed: 2'\u001b[0m\u001b[0;34m]\u001b[0m\u001b[0;34m,\u001b[0m \u001b[0maxis\u001b[0m\u001b[0;34m=\u001b[0m\u001b[0;36m1\u001b[0m\u001b[0;34m,\u001b[0m \u001b[0minplace\u001b[0m\u001b[0;34m=\u001b[0m\u001b[0;32mTrue\u001b[0m\u001b[0;34m)\u001b[0m \u001b[0;31m#dropping unwanted columns\u001b[0m\u001b[0;34m\u001b[0m\u001b[0m\n",
      "\u001b[0;32m/Library/Frameworks/Python.framework/Versions/3.7/lib/python3.7/site-packages/pandas/io/parsers.py\u001b[0m in \u001b[0;36mread_csv\u001b[0;34m(filepath_or_buffer, sep, delimiter, header, names, index_col, usecols, squeeze, prefix, mangle_dupe_cols, dtype, engine, converters, true_values, false_values, skipinitialspace, skiprows, skipfooter, nrows, na_values, keep_default_na, na_filter, verbose, skip_blank_lines, parse_dates, infer_datetime_format, keep_date_col, date_parser, dayfirst, cache_dates, iterator, chunksize, compression, thousands, decimal, lineterminator, quotechar, quoting, doublequote, escapechar, comment, encoding, dialect, error_bad_lines, warn_bad_lines, delim_whitespace, low_memory, memory_map, float_precision)\u001b[0m\n\u001b[1;32m    686\u001b[0m     )\n\u001b[1;32m    687\u001b[0m \u001b[0;34m\u001b[0m\u001b[0m\n\u001b[0;32m--> 688\u001b[0;31m     \u001b[0;32mreturn\u001b[0m \u001b[0m_read\u001b[0m\u001b[0;34m(\u001b[0m\u001b[0mfilepath_or_buffer\u001b[0m\u001b[0;34m,\u001b[0m \u001b[0mkwds\u001b[0m\u001b[0;34m)\u001b[0m\u001b[0;34m\u001b[0m\u001b[0m\n\u001b[0m\u001b[1;32m    689\u001b[0m \u001b[0;34m\u001b[0m\u001b[0m\n\u001b[1;32m    690\u001b[0m \u001b[0;34m\u001b[0m\u001b[0m\n",
      "\u001b[0;32m/Library/Frameworks/Python.framework/Versions/3.7/lib/python3.7/site-packages/pandas/io/parsers.py\u001b[0m in \u001b[0;36m_read\u001b[0;34m(filepath_or_buffer, kwds)\u001b[0m\n\u001b[1;32m    452\u001b[0m \u001b[0;34m\u001b[0m\u001b[0m\n\u001b[1;32m    453\u001b[0m     \u001b[0;31m# Create the parser.\u001b[0m\u001b[0;34m\u001b[0m\u001b[0;34m\u001b[0m\u001b[0m\n\u001b[0;32m--> 454\u001b[0;31m     \u001b[0mparser\u001b[0m \u001b[0;34m=\u001b[0m \u001b[0mTextFileReader\u001b[0m\u001b[0;34m(\u001b[0m\u001b[0mfp_or_buf\u001b[0m\u001b[0;34m,\u001b[0m \u001b[0;34m**\u001b[0m\u001b[0mkwds\u001b[0m\u001b[0;34m)\u001b[0m\u001b[0;34m\u001b[0m\u001b[0m\n\u001b[0m\u001b[1;32m    455\u001b[0m \u001b[0;34m\u001b[0m\u001b[0m\n\u001b[1;32m    456\u001b[0m     \u001b[0;32mif\u001b[0m \u001b[0mchunksize\u001b[0m \u001b[0;32mor\u001b[0m \u001b[0miterator\u001b[0m\u001b[0;34m:\u001b[0m\u001b[0;34m\u001b[0m\u001b[0m\n",
      "\u001b[0;32m/Library/Frameworks/Python.framework/Versions/3.7/lib/python3.7/site-packages/pandas/io/parsers.py\u001b[0m in \u001b[0;36m__init__\u001b[0;34m(self, f, engine, **kwds)\u001b[0m\n\u001b[1;32m    946\u001b[0m             \u001b[0mself\u001b[0m\u001b[0;34m.\u001b[0m\u001b[0moptions\u001b[0m\u001b[0;34m[\u001b[0m\u001b[0;34m\"has_index_names\"\u001b[0m\u001b[0;34m]\u001b[0m \u001b[0;34m=\u001b[0m \u001b[0mkwds\u001b[0m\u001b[0;34m[\u001b[0m\u001b[0;34m\"has_index_names\"\u001b[0m\u001b[0;34m]\u001b[0m\u001b[0;34m\u001b[0m\u001b[0m\n\u001b[1;32m    947\u001b[0m \u001b[0;34m\u001b[0m\u001b[0m\n\u001b[0;32m--> 948\u001b[0;31m         \u001b[0mself\u001b[0m\u001b[0;34m.\u001b[0m\u001b[0m_make_engine\u001b[0m\u001b[0;34m(\u001b[0m\u001b[0mself\u001b[0m\u001b[0;34m.\u001b[0m\u001b[0mengine\u001b[0m\u001b[0;34m)\u001b[0m\u001b[0;34m\u001b[0m\u001b[0m\n\u001b[0m\u001b[1;32m    949\u001b[0m \u001b[0;34m\u001b[0m\u001b[0m\n\u001b[1;32m    950\u001b[0m     \u001b[0;32mdef\u001b[0m \u001b[0mclose\u001b[0m\u001b[0;34m(\u001b[0m\u001b[0mself\u001b[0m\u001b[0;34m)\u001b[0m\u001b[0;34m:\u001b[0m\u001b[0;34m\u001b[0m\u001b[0m\n",
      "\u001b[0;32m/Library/Frameworks/Python.framework/Versions/3.7/lib/python3.7/site-packages/pandas/io/parsers.py\u001b[0m in \u001b[0;36m_make_engine\u001b[0;34m(self, engine)\u001b[0m\n\u001b[1;32m   1178\u001b[0m     \u001b[0;32mdef\u001b[0m \u001b[0m_make_engine\u001b[0m\u001b[0;34m(\u001b[0m\u001b[0mself\u001b[0m\u001b[0;34m,\u001b[0m \u001b[0mengine\u001b[0m\u001b[0;34m=\u001b[0m\u001b[0;34m\"c\"\u001b[0m\u001b[0;34m)\u001b[0m\u001b[0;34m:\u001b[0m\u001b[0;34m\u001b[0m\u001b[0m\n\u001b[1;32m   1179\u001b[0m         \u001b[0;32mif\u001b[0m \u001b[0mengine\u001b[0m \u001b[0;34m==\u001b[0m \u001b[0;34m\"c\"\u001b[0m\u001b[0;34m:\u001b[0m\u001b[0;34m\u001b[0m\u001b[0m\n\u001b[0;32m-> 1180\u001b[0;31m             \u001b[0mself\u001b[0m\u001b[0;34m.\u001b[0m\u001b[0m_engine\u001b[0m \u001b[0;34m=\u001b[0m \u001b[0mCParserWrapper\u001b[0m\u001b[0;34m(\u001b[0m\u001b[0mself\u001b[0m\u001b[0;34m.\u001b[0m\u001b[0mf\u001b[0m\u001b[0;34m,\u001b[0m \u001b[0;34m**\u001b[0m\u001b[0mself\u001b[0m\u001b[0;34m.\u001b[0m\u001b[0moptions\u001b[0m\u001b[0;34m)\u001b[0m\u001b[0;34m\u001b[0m\u001b[0m\n\u001b[0m\u001b[1;32m   1181\u001b[0m         \u001b[0;32melse\u001b[0m\u001b[0;34m:\u001b[0m\u001b[0;34m\u001b[0m\u001b[0m\n\u001b[1;32m   1182\u001b[0m             \u001b[0;32mif\u001b[0m \u001b[0mengine\u001b[0m \u001b[0;34m==\u001b[0m \u001b[0;34m\"python\"\u001b[0m\u001b[0;34m:\u001b[0m\u001b[0;34m\u001b[0m\u001b[0m\n",
      "\u001b[0;32m/Library/Frameworks/Python.framework/Versions/3.7/lib/python3.7/site-packages/pandas/io/parsers.py\u001b[0m in \u001b[0;36m__init__\u001b[0;34m(self, src, **kwds)\u001b[0m\n\u001b[1;32m   2008\u001b[0m         \u001b[0mkwds\u001b[0m\u001b[0;34m[\u001b[0m\u001b[0;34m\"usecols\"\u001b[0m\u001b[0;34m]\u001b[0m \u001b[0;34m=\u001b[0m \u001b[0mself\u001b[0m\u001b[0;34m.\u001b[0m\u001b[0musecols\u001b[0m\u001b[0;34m\u001b[0m\u001b[0m\n\u001b[1;32m   2009\u001b[0m \u001b[0;34m\u001b[0m\u001b[0m\n\u001b[0;32m-> 2010\u001b[0;31m         \u001b[0mself\u001b[0m\u001b[0;34m.\u001b[0m\u001b[0m_reader\u001b[0m \u001b[0;34m=\u001b[0m \u001b[0mparsers\u001b[0m\u001b[0;34m.\u001b[0m\u001b[0mTextReader\u001b[0m\u001b[0;34m(\u001b[0m\u001b[0msrc\u001b[0m\u001b[0;34m,\u001b[0m \u001b[0;34m**\u001b[0m\u001b[0mkwds\u001b[0m\u001b[0;34m)\u001b[0m\u001b[0;34m\u001b[0m\u001b[0m\n\u001b[0m\u001b[1;32m   2011\u001b[0m         \u001b[0mself\u001b[0m\u001b[0;34m.\u001b[0m\u001b[0munnamed_cols\u001b[0m \u001b[0;34m=\u001b[0m \u001b[0mself\u001b[0m\u001b[0;34m.\u001b[0m\u001b[0m_reader\u001b[0m\u001b[0;34m.\u001b[0m\u001b[0munnamed_cols\u001b[0m\u001b[0;34m\u001b[0m\u001b[0m\n\u001b[1;32m   2012\u001b[0m \u001b[0;34m\u001b[0m\u001b[0m\n",
      "\u001b[0;32mpandas/_libs/parsers.pyx\u001b[0m in \u001b[0;36mpandas._libs.parsers.TextReader.__cinit__\u001b[0;34m()\u001b[0m\n",
      "\u001b[0;32mpandas/_libs/parsers.pyx\u001b[0m in \u001b[0;36mpandas._libs.parsers.TextReader._setup_parser_source\u001b[0;34m()\u001b[0m\n",
      "\u001b[0;31mFileNotFoundError\u001b[0m: [Errno 2] No such file or directory: './IPN/trigIPN.csv'"
     ]
    }
   ],
   "source": [
    "#Importing and redefining the dataframes\n",
    "#Not loading the trigger list for 2021 just yet\n",
    "\n",
    "#Old IPN dataset\n",
    "ipn_old_data = pd.read_csv(\"./IPN/trigIPN.csv\", sep=\"|\")\n",
    "ipn_old_df = pd.DataFrame(ipn_old_data)\n",
    "ipn_old_df.drop(columns= ['Unnamed: 0', 'Unnamed: 2'], axis=1, inplace=True) #dropping unwanted columns\n",
    "ipn_old_df.rename(columns={ipn_old_df.columns[0]:\"datetime\"}, inplace = True)\n",
    "\n",
    "#New IPN dataset\n",
    "ipn_new_data = pd.read_csv(\"./ICECUBE/icecube.txt\",sep = \"\\s+|\\t+|\\s+\\t+|\\t+\\s+\", engine=\"python\")\n",
    "ipn_new_df = pd.DataFrame(ipn_new_data)\n",
    "#Dropping unwanted columns\n",
    "ipn_new_df = ipn_new_df.drop([\"GRB_name_Fermi\",'ra(°J2000)', 'decl(°J2000)',\n",
    "       'pos_error(°1-sigma)', 'T90(s)', 'T90_error(s)', 'T90_start(UTC)',\n",
    "       'fluence(erg/cm^2)', 'fluence_error(erg/cm^2)', 'redshift', 'T100(s)',\n",
    "       'GBM_located', 'mjd(T0day)'], 1)\n",
    "\n",
    "#HED \n",
    "trigB_data = pd.read_csv(\"./ASIM/trigB.txt\", sep = \"\\s+|\\t+|\\s+\\t+|\\t+\\s+\", engine=\"python\")\n",
    "trigB = pd.DataFrame(trigB_data)\n",
    "trigB.drop(columns=[\"######\"], inplace=True) #dropping unwanted columns\n",
    "trigB.rename(columns={\"yyyy-MMM-dd\":\"date\",\"HH:mm:ss.SSSSSS\": \"time\", \"Corr\":\"corr\"}, inplace=True) #renaming columns\n",
    "\n",
    "trigB_21_data = pd.read_csv(\"./ASIM/trigB_2021.txt\", sep = \"\\s+|\\t+|\\s+\\t+|\\t+\\s+\", engine=\"python\")\n",
    "trigB_21 = pd.DataFrame(trigB_21_data)\n",
    "trigB_21.drop(columns=[\"######\"], inplace=True)\n",
    "trigB_21.rename(columns={\"yyyy-MMM-dd\":\"date\",\"HH:mm:ss.SSSSSS\": \"time\" ,\"Corr\":\"corr\"}, inplace=True)\n",
    "\n",
    "#LED\n",
    "trigC_data = pd.read_csv(\"./ASIM/trigC.txt\", sep = \"\\s+|\\t+|\\s+\\t+|\\t+\\s+\", engine=\"python\")\n",
    "trigC = pd.DataFrame(trigC_data)\n",
    "trigC.drop(columns=[\"######\"], inplace=True)\n",
    "trigC.rename(columns={\"yyyy-MMM-dd\":\"date\",\"HH:mm:ss.SSSSSS\": \"time\" ,\"Corr\":\"corr\"}, inplace=True)\n",
    "\n",
    "trigC_21_data = pd.read_csv(\"./ASIM/trigC_2021.txt\", sep = \"\\s+|\\t+|\\s+\\t+|\\t+\\s+\", engine=\"python\")\n",
    "trigC_21 = pd.DataFrame(trigC_21_data)\n",
    "trigC_21.drop(columns=[\"######\"], inplace=True)\n",
    "trigC_21.rename(columns={\"yyyy-MMM-dd\":\"date\",\"HH:mm:ss.SSSSSS\": \"time\", 'Corr':\"corr\" }, inplace=True)\n",
    "\n",
    "#MMIA (visible)\n",
    "trigM_data = pd.read_csv(\"./ASIM/trigM.txt\", sep = \"\\s+|\\t+|\\s+\\t+|\\t+\\s+\", engine=\"python\")\n",
    "trigM = pd.DataFrame(trigM_data)\n",
    "trigM.drop(columns=[\"######\"], inplace=True)\n",
    "trigM.rename(columns={\"yyyy-MMM-dd\":\"date\",\"HH:mm:ss.SSSSSS\": \"time\", \"Corr\":\"corr\" }, inplace=True)\n",
    "\n",
    "trigM_21_data = pd.read_csv(\"./ASIM/trigM_2021.txt\", sep = \"\\s+|\\t+|\\s+\\t+|\\t+\\s+\", engine=\"python\")\n",
    "trigM_21 = pd.DataFrame(trigM_21_data)\n",
    "trigM_21.drop(columns=[\"######\"], inplace=True)\n",
    "trigM_21.rename(columns={\"yyyy-MMM-dd\":\"date\",\"HH:mm:ss.SSSSSS\": \"time\", \"Corr\":\"corr\" }, inplace=True)"
   ]
  },
  {
   "cell_type": "markdown",
   "id": "private-perception",
   "metadata": {},
   "source": [
    "## Concatenating ASIM dataframes"
   ]
  },
  {
   "cell_type": "code",
   "execution_count": null,
   "id": "engaged-equation",
   "metadata": {},
   "outputs": [],
   "source": [
    "def find_index_21(l):\n",
    "    \"\"\"\n",
    "    Function for finding the indecies to slice. Assuming l is sorted by date from first to last.\n",
    "    Finding index of first entry of '2021-Jan-01'.\n",
    "    \n",
    "    Parameters:\n",
    "    -----\n",
    "    l <array>\n",
    "    \n",
    "    Returns:\n",
    "    -----\n",
    "    Returning index for the first entry of '2021-Jan-01' \"\"\"\n",
    "    \n",
    "    \n",
    "    i = l.tolist().index('2021-Jan-01')\n",
    "    return i"
   ]
  },
  {
   "cell_type": "code",
   "execution_count": null,
   "id": "chubby-pierre",
   "metadata": {},
   "outputs": [],
   "source": [
    "slice_index = []\n",
    "for df in [trigB,trigC,trigM]:\n",
    "    temp_date_list = df[\"date\"].values\n",
    "    slice_index.append(find_index_21(temp_date_list))\n",
    "slice_index"
   ]
  },
  {
   "cell_type": "code",
   "execution_count": null,
   "id": "imported-patch",
   "metadata": {},
   "outputs": [],
   "source": [
    "#trig*_20 contains rows to the end of 2020\n",
    "#trig*_master contains rows to the end of 2021\n",
    "trigB_20 = trigB.drop(np.arange(slice_index[0],len(trigB))) \n",
    "trigB_long = pd.concat([trigB_20,trigB_21])\n",
    "\n",
    "trigC_20 = trigC.drop(np.arange(slice_index[1],len(trigC)))\n",
    "trigC_long = pd.concat([trigC_20,trigC_21])\n",
    "\n",
    "trigM_20 = trigM.drop(np.arange(slice_index[2],len(trigM)))\n",
    "trigM_long = pd.concat([trigM_20,trigM_21])"
   ]
  },
  {
   "cell_type": "code",
   "execution_count": null,
   "id": "expected-climb",
   "metadata": {},
   "outputs": [],
   "source": [
    "trigB_long,trigC_long,trigM_long #Should rename to long"
   ]
  },
  {
   "cell_type": "markdown",
   "id": "imperial-howard",
   "metadata": {},
   "source": [
    "## IPN Handling"
   ]
  },
  {
   "cell_type": "markdown",
   "id": "supported-costa",
   "metadata": {},
   "source": [
    "### IPN_old"
   ]
  },
  {
   "cell_type": "code",
   "execution_count": null,
   "id": "racial-nirvana",
   "metadata": {},
   "outputs": [],
   "source": [
    "#Old IPN datetime list\n",
    "ipn_dt_temp = []\n",
    "ipn_dict = ipn_old_df.to_dict(\"records\")\n",
    "for row in ipn_dict:\n",
    "    datetime_str = row[\"datetime\"]\n",
    "    datetime_obj = datetime.strptime(datetime_str, \"%Y-%m-%d %H:%M:%S\")\n",
    "    ipn_dt_temp.append(datetime_obj)\n",
    "    \n",
    "ipn_old_dt = np.asarray(ipn_dt_temp)\n",
    "ipn_old_dt.shape"
   ]
  },
  {
   "cell_type": "markdown",
   "id": "representative-warning",
   "metadata": {},
   "source": [
    "### IPN new"
   ]
  },
  {
   "cell_type": "code",
   "execution_count": null,
   "id": "statutory-exchange",
   "metadata": {},
   "outputs": [],
   "source": [
    "# Zero-padding hour in times\n",
    "\n",
    "def zero_padding(l):\n",
    "    \"\"\"Function for zero padding times in IPN new\n",
    "    Parameters:\n",
    "    -----\n",
    "    l <array> containing string of times\n",
    "\n",
    "    Returns:\n",
    "    -----\n",
    "    new_times <array> containing string of zero-padded times\n",
    "    \"\"\"\n",
    "    new_times = []\n",
    "\n",
    "    for time in l:\n",
    "        if time.index(\":\") < 2:\n",
    "            time = \"0\" + time\n",
    "            new_times.append(time)\n",
    "        else:\n",
    "            new_times.append(time)\n",
    "    return np.array(new_times)"
   ]
  },
  {
   "cell_type": "code",
   "execution_count": null,
   "id": "authentic-motorcycle",
   "metadata": {},
   "outputs": [],
   "source": [
    "#Vectorization of names and times from dataframe.\n",
    "names = ipn_new_df[\"GRB_name\"].values\n",
    "times = ipn_new_df[\"T0(UTC)\"].values  # Hour is not zero padded.\n",
    "new_times = zero_padding(times)"
   ]
  },
  {
   "cell_type": "code",
   "execution_count": null,
   "id": "least-annex",
   "metadata": {},
   "outputs": [],
   "source": [
    "# Defining datetime objects in ipn_new_list.\n",
    "# Problem: some of the times have microsecond resolution while other dont\n",
    "ipn_new_list = []\n",
    "if len(names) == len(new_times):\n",
    "    for i in np.arange(0, len(names)):\n",
    "        date = names[i][3:9]\n",
    "        time = new_times[i]\n",
    "\n",
    "        # Managing the microsecond resolution\n",
    "        if len(time) > 8:\n",
    "            dt_obj = datetime.strptime(date + \" \" + time, \"%y%m%d %H:%M:%S.%f\")\n",
    "        else:\n",
    "            dt_obj = datetime.strptime(date + \" \" + time, \"%y%m%d %H:%M:%S\")\n",
    "            \n",
    "        ipn_new_list.append(dt_obj)\n",
    "else:\n",
    "    print(\"Unequal length of arrays\")\n",
    "    \n",
    "#Earliest entry in the ASIM data 2018,6,1,12,46,8\n",
    "# Including only entries up to 1142. That means entries in IPN starts from 2018, 5, 29, 8, 29, 14\n",
    "\n",
    "ipn_new_dt = np.asarray(ipn_new_list[:1142][::-1]) #Slicing the list. Returning in reverse order (decending)\n"
   ]
  },
  {
   "cell_type": "code",
   "execution_count": null,
   "id": "dressed-protein",
   "metadata": {
    "code_folding": [
     1,
     8,
     17
    ]
   },
   "outputs": [],
   "source": [
    "#Function for stripping the microseconds from an datetime object. Not necessary\n",
    "def strip_microseconds(l):\n",
    "    \"\"\"\n",
    "    Strip microseconds from datetime objects in list containing a tuple of dt objects and int. Returning string\n",
    "    objects. Seperating them in two arrays\n",
    "    \n",
    "    Parameters\n",
    "    ----------\n",
    "    l : list of datetime objects\n",
    "        The list containing the objects.\n",
    "    \n",
    "    Returns\n",
    "    -------\n",
    "    updated_list : array of stripped datetime objects as string and array of trig_id\n",
    "    \n",
    "    Raises\n",
    "    ------\n",
    "    TypeError\n",
    "        If the input is not a type list or array\n",
    "    \"\"\"\n",
    "    time = []\n",
    "    trig_id = []\n",
    "    try:\n",
    "        for tup in l:\n",
    "            dt = tup[0].strftime(\"%Y-%m-%d %H:%M:%S\")\n",
    "            time.append(dt)\n",
    "            trig_id.append(tup[1])\n",
    "            \n",
    "        return np.array((time,trig_id))\n",
    "    \n",
    "    except TypeError:\n",
    "        print(\"Input is not the correct type <List> or <nd array> or entries is not tuple\")"
   ]
  },
  {
   "cell_type": "code",
   "execution_count": null,
   "id": "wrong-training",
   "metadata": {},
   "outputs": [],
   "source": [
    "#Important to keep the microseconds? Check the search algo\n",
    "ipn_old_updated = strip_microseconds(matches_old)\n",
    "ipn_new_updated = strip_microseconds(matches_new)"
   ]
  },
  {
   "cell_type": "markdown",
   "id": "invalid-bracelet",
   "metadata": {},
   "source": [
    "## ASIM datetime correction, vectorization"
   ]
  },
  {
   "cell_type": "code",
   "execution_count": null,
   "id": "turkish-radical",
   "metadata": {
    "code_folding": [
     14,
     27
    ]
   },
   "outputs": [],
   "source": [
    "# Function for correcting date and time in ASIM data. Returning ndarray that contains datetime objects\n",
    "\n",
    "def corr_dt(dfs):  # Correcting times from ASIM data and returning nested array of datetime objects\n",
    "    \n",
    "    \"\"\"   This function corrects the time from ASIM data and returns datetimeobjects\n",
    "    The correction is done by subtracting the correction from the original time.\n",
    "    The correction is given as a string.\n",
    "    The function takes a list of dataframes as input.\n",
    "    The function returns a list of arrays containing the corrected datetime objects.\n",
    "    \n",
    "    Parameters\n",
    "    ----------\n",
    "    MAYBE LISTS CONTAINING STRING OF tuple(DATE,TIME)?\n",
    "    \n",
    "    dfs : list of dataframes\n",
    "        The dataframes containing the data.\n",
    "    \n",
    "    Returns\n",
    "    -------\n",
    "    trig_dt : list of arrays\n",
    "        The corrected datetime objects.\n",
    "        trig_dt[0] --> trigB\n",
    "        trig_dt[1] --> trigC\n",
    "        trig_dt[2] --> trigM\n",
    "    \n",
    "    Raises\n",
    "    ------\n",
    "    ValueError\n",
    "        If the lists are not the same length.\n",
    "    \"\"\"\n",
    "    trig_dt = []\n",
    "    \n",
    "    for df in dfs:\n",
    "        temp_dt = []\n",
    "        # Vectorization of columns\n",
    "        date = df[\"date\"].values  # date given as string.\n",
    "        time = df[\"time\"].values  # time given as string\n",
    "        corr = df[\"corr\"].values  # correction given as string\n",
    "        try:\n",
    "            if len(date) and len(time) != len(corr):\n",
    "                raise ValueError\n",
    "        except:\n",
    "            raise ValueError(\"Lists are not the same length\")\n",
    "        else:\n",
    "            for i in np.arange(0, len(corr)):  # Iterating over the vectors\n",
    "                if corr[i] == \"--------\":  # No correction needed. Appending the datetime object\n",
    "                    date_str = date[i]\n",
    "                    time_str = time[i]\n",
    "                    org_dt = datetime.strptime(\n",
    "                        date_str + \" \" + time_str, \"%Y-%b-%d %H:%M:%S.%f\")\n",
    "                    temp_dt.append(org_dt)\n",
    "                    \n",
    "                elif corr[i][0] == \"-\":  # If it's a \"-\" in front; correction is added\n",
    "                    # formatting the datetime object\n",
    "                    date_str = date[i]\n",
    "                    time_str = time[i]\n",
    "                    org_dt = datetime.strptime(\n",
    "                        date_str + \" \" + time_str, \"%Y-%b-%d %H:%M:%S.%f\")  # Original datetime\n",
    "\n",
    "                    micro_corr = int(corr[0][1:])\n",
    "\n",
    "                    # new corrected datetime. Timedelta ccounts for changes in seconds also\n",
    "                    new_dt = org_dt + timedelta(microseconds=micro_corr)\n",
    "                    temp_dt.append(new_dt)\n",
    "                else:\n",
    "                    date_str = date[i]\n",
    "                    time_str = time[i]\n",
    "                    org_dt = datetime.strptime(\n",
    "                        date_str + \" \" + time_str, \"%Y-%b-%d %H:%M:%S.%f\")  # Original datetime\n",
    "\n",
    "                    micro_corr = int(corr[0][1:])\n",
    "\n",
    "                    # new corrected datetime. Timedelta ccounts for changes in seconds also\n",
    "                    new_dt = org_dt - timedelta(microseconds=micro_corr)\n",
    "                    temp_dt.append(new_dt)\n",
    "                    \n",
    "            trig_dt.append(temp_dt)\n",
    "\n",
    "    trig_dt = np.array(trig_dt, dtype=object)\n",
    "    return trig_dt"
   ]
  },
  {
   "cell_type": "code",
   "execution_count": null,
   "id": "cardiac-straight",
   "metadata": {
    "code_folding": []
   },
   "outputs": [],
   "source": [
    "#Callig corr_dt with a list containing the dataframes from ASIM\n",
    "trig_dt = corr_dt([trigB_long,trigC_long,trigM_long])\n",
    "\n",
    "#Creating array instances in trig_dt\n",
    "for i in np.arange(0,len(trig_dt)):\n",
    "    trig_dt[i] = np.asarray(trig_dt[i])"
   ]
  },
  {
   "cell_type": "markdown",
   "id": "egyptian-contents",
   "metadata": {},
   "source": [
    "## ASIM and IPN search"
   ]
  },
  {
   "cell_type": "code",
   "execution_count": null,
   "id": "prime-harrison",
   "metadata": {},
   "outputs": [],
   "source": [
    "#Most compact algorithm for searching: np.where()\n",
    "#Storing matches in the match list. Stored as a tuple containing (datetime IPN, index trig_B)\n",
    "\n",
    "# TODO: wrap a function around it so it can take in several triggers (trigB,trigC etc..)\n",
    "def find_match(trig_arr):\n",
    "    \"\"\"\n",
    "    Parameters:\n",
    "    ------\n",
    "    trig_arr <array> <datetime>\n",
    "    np.where returns: An array with elements from x where condition is True, and elements from y elsewhere.\n",
    "    \n",
    "    elements in matches_* contains tuples for indecies in IPN list and trig_arr. \"\"\"\n",
    "    matches_old = [] \n",
    "\n",
    "    for i in ipn_old_dt:\n",
    "        #Searching for matches that are +/- 10 seconds from the IPN trigger\n",
    "        mask = np.where((i-timedelta(seconds=10) <= trig_arr) & (trig_arr <= i + timedelta(seconds=10)))\n",
    "        if len(mask[0]) == 0:\n",
    "            continue\n",
    "        else:\n",
    "            matches_old.append((i,mask[0]))\n",
    "\n",
    "    matches_new = []\n",
    "    for i in ipn_new_dt:\n",
    "        #Searching for matches that are +/- 10 seconds from the IPN trigger\n",
    "        mask = np.where((i-timedelta(seconds=10) <= trig_arr) & (trig_arr <= i + timedelta(seconds=10)))\n",
    "        #print(mask)\n",
    "        if len(mask[0]) == 0:\n",
    "            continue\n",
    "        else:\n",
    "            matches_new.append((i,mask[0]))\n",
    "        \n",
    "    return (matches_old, matches_new)"
   ]
  },
  {
   "cell_type": "code",
   "execution_count": null,
   "id": "confused-stability",
   "metadata": {},
   "outputs": [],
   "source": [
    "master_match = []\n",
    "for i in trig_dt:\n",
    "    tup_match = find_match(i)\n",
    "    master_match.append(tup_match)"
   ]
  },
  {
   "cell_type": "code",
   "execution_count": null,
   "id": "broken-translator",
   "metadata": {},
   "outputs": [],
   "source": [
    "len(master_match[0][0])"
   ]
  },
  {
   "cell_type": "markdown",
   "id": "monthly-deposit",
   "metadata": {},
   "source": [
    "## Branching\n",
    "Branching into matches in old ipn dataset and matches in new ipn dataset.\n",
    "\n",
    "Export into a dataframe containing IPN dt trigger | trig* dt trigger\n",
    "\n",
    "\n",
    "\n",
    "How to access data from master_match:\n",
    "\n",
    "\n",
    "- master_match[n] - refers to type of trigger (trigB, trigC, trigM)\n",
    "\n",
    "- master_match[n][n] - refers to old or new ipn trigger list [0]: old , [1]: new\n",
    "\n",
    "- master_match[n][n][n] - refers to tuple containing (ipn dt, array[index]) where index is the dt in trig_dt[n][index]\n",
    "\n",
    "- master_match[n][n][n][n] - selecting desired element in tuple"
   ]
  },
  {
   "cell_type": "markdown",
   "id": "senior-concern",
   "metadata": {},
   "source": [
    "### Branching into seperate arrays"
   ]
  },
  {
   "cell_type": "code",
   "execution_count": null,
   "id": "sensitive-beaver",
   "metadata": {},
   "outputs": [],
   "source": [
    "match_trigB_old = np.array(master_match[0][0],dtype=object)\n",
    "match_trigB_new = np.array(master_match[0][1],dtype=object)\n",
    "\n",
    "match_trigC_old = np.array(master_match[1][0],dtype=object)\n",
    "match_trigC_new = np.array(master_match[1][1],dtype=object)\n",
    "\n",
    "match_trigM_old = np.array(master_match[2][0],dtype=object)\n",
    "match_trigM_new = np.array(master_match[2][1],dtype=object)"
   ]
  },
  {
   "cell_type": "markdown",
   "id": "renewable-generator",
   "metadata": {},
   "source": [
    "### Finding datetime object from index"
   ]
  },
  {
   "cell_type": "code",
   "execution_count": null,
   "id": "spectacular-smoke",
   "metadata": {},
   "outputs": [],
   "source": [
    "def index_to_dt(i,arr_index):\n",
    "    \"\"\"Retrives the datetime object specified.\n",
    "    Parameters:\n",
    "    -------\n",
    "    i <int> index in the trig_dt array. Specifying which trigger to access\n",
    "    arr_index <array><int> index of the datetime object in the array\n",
    "    \n",
    "    Returns:\n",
    "    ------\n",
    "    <datetime> the specified datetimeobject\"\"\"\n",
    "    dts = []\n",
    "    for index in arr_index:\n",
    "        dt = trig_dt[i][index]\n",
    "        dts.append(dt)\n",
    "    return dts"
   ]
  },
  {
   "cell_type": "markdown",
   "id": "oriented-drink",
   "metadata": {},
   "source": [
    "## Creating new dataframes with matches"
   ]
  },
  {
   "cell_type": "code",
   "execution_count": null,
   "id": "elder-maker",
   "metadata": {},
   "outputs": [],
   "source": [
    "# Creating dataframe for ipn old and ipn new. Columns should be ipn dt trigger, trigB, trigC,trigM\n",
    "# if there isnt a trigger in the respected trigger, the entry should be None\n",
    "# But first. Produce df of ipn --> trigB, trigC, trigM [indecies]. Just indecies because there are several in some triggers\n",
    "\n",
    "trigB_old_dict = {\"ipn old dt\":[], \"trigB index\": []}\n",
    "for i in match_trigB_old:\n",
    "    trigB_old_dict[\"ipn old dt\"].append(i[0])\n",
    "    trigB_old_dict[\"trigB index\"].append(i[1])\n",
    "trigB_old_df = pd.DataFrame(trigB_old_dict)\n",
    "\n",
    "trigB_new_dict = {\"ipn new dt\":[], \"trigB index\": []}\n",
    "for i in match_trigB_new:\n",
    "    trigB_new_dict[\"ipn new dt\"].append(i[0])\n",
    "    trigB_new_dict[\"trigB index\"].append(i[1])\n",
    "trigB_new_df = pd.DataFrame(trigB_new_dict)\n",
    "\n",
    "trigC_old_dict = {\"ipn old dt\":[], \"trigC index\": []}\n",
    "for i in match_trigC_old:\n",
    "    trigC_old_dict[\"ipn old dt\"].append(i[0])\n",
    "    trigC_old_dict[\"trigC index\"].append(i[1])\n",
    "trigC_old_df = pd.DataFrame(trigC_old_dict)\n",
    "\n",
    "trigC_new_dict = {\"ipn new dt\":[], \"trigC index\": []}\n",
    "for i in match_trigC_new:\n",
    "    trigC_new_dict[\"ipn new dt\"].append(i[0])\n",
    "    trigC_new_dict[\"trigC index\"].append(i[1])\n",
    "trigC_new_df = pd.DataFrame(trigC_old_dict)\n",
    "\n",
    "trigM_old_dict = {\"ipn old dt\":[], \"trigM index\": []}\n",
    "for i in match_trigM_old:\n",
    "    trigM_old_dict[\"ipn old dt\"].append(i[0])\n",
    "    trigM_old_dict[\"trigM index\"].append(i[1])\n",
    "trigM_old_df = pd.DataFrame(trigM_old_dict)\n",
    "\n",
    "trigM_new_dict = {\"ipn new dt\":[], \"trigM index\": []}\n",
    "for i in match_trigM_new:\n",
    "    trigM_new_dict[\"ipn new dt\"].append(i[0])\n",
    "    trigM_new_dict[\"trigM index\"].append(i[1])\n",
    "trigM_new_df = pd.DataFrame(trigM_new_dict)"
   ]
  },
  {
   "cell_type": "markdown",
   "id": "loaded-nepal",
   "metadata": {},
   "source": [
    "### Appending datetime objects as string"
   ]
  },
  {
   "cell_type": "markdown",
   "id": "alike-trouble",
   "metadata": {},
   "source": [
    "#### IPN df"
   ]
  },
  {
   "cell_type": "code",
   "execution_count": null,
   "id": "integral-narrative",
   "metadata": {},
   "outputs": [],
   "source": [
    "trigB_old_indecies = trigB_old_df[\"trigB index\"].values\n",
    "trigB_old_dts = index_to_dt(0,trigB_old_indecies)\n",
    "\n",
    "trigC_old_indecies = trigC_old_df[\"trigC index\"].values\n",
    "trigC_old_dts = index_to_dt(1,trigC_old_indecies)\n",
    "\n",
    "trigM_old_indecies = trigM_old_df[\"trigM index\"].values\n",
    "trigM_old_dts = index_to_dt(2,trigM_old_indecies)\n"
   ]
  },
  {
   "cell_type": "code",
   "execution_count": null,
   "id": "institutional-assets",
   "metadata": {},
   "outputs": [],
   "source": [
    "trigB_old_df[\"trigB dt\"] = trigB_old_dts\n",
    "trigC_old_df[\"trigC dt\"] = trigC_old_dts\n",
    "trigM_old_df[\"trigM dt\"] = trigM_old_dts"
   ]
  },
  {
   "cell_type": "markdown",
   "id": "deadly-demonstration",
   "metadata": {},
   "source": [
    "####  ICECUBE df\n"
   ]
  },
  {
   "cell_type": "code",
   "execution_count": null,
   "id": "numerous-triangle",
   "metadata": {},
   "outputs": [],
   "source": [
    "trigB_new_indecies = trigB_new_df[\"trigB index\"].values\n",
    "trigB_new_dts = index_to_dt(0,trigB_new_indecies)\n",
    "\n",
    "trigC_new_indecies = trigC_new_df[\"trigC index\"].values\n",
    "trigC_new_dts = index_to_dt(1,trigC_new_indecies)\n",
    "\n",
    "trigM_new_indecies = trigM_new_df[\"trigM index\"].values\n",
    "trigM_new_dts = index_to_dt(2,trigM_new_indecies)\n"
   ]
  },
  {
   "cell_type": "code",
   "execution_count": null,
   "id": "composite-burner",
   "metadata": {},
   "outputs": [],
   "source": [
    "trigB_new_df[\"trigB dt\"] = trigB_new_dts\n",
    "trigC_new_df[\"trigC dt\"] = trigC_new_dts\n",
    "trigM_new_df[\"trigM dt\"] = trigM_new_dts"
   ]
  },
  {
   "cell_type": "markdown",
   "id": "sunset-cuisine",
   "metadata": {},
   "source": [
    "## Exporting matches from IPN"
   ]
  },
  {
   "cell_type": "markdown",
   "id": "specialized-revolution",
   "metadata": {},
   "source": [
    "### trigB export"
   ]
  },
  {
   "cell_type": "code",
   "execution_count": null,
   "id": "organic-sustainability",
   "metadata": {},
   "outputs": [],
   "source": [
    "for index, row in trigB_old_df.iterrows():\n",
    "    trigB_old_df[\"trigB dt\"].iloc[index] = []\n",
    "    for i in row[2]:\n",
    "        trigB_old_df[\"trigB dt\"].iloc[index].append(datetime.strftime(i,\"%Y-%m-%d %H:%M:%S.%f\"))"
   ]
  },
  {
   "cell_type": "code",
   "execution_count": null,
   "id": "brazilian-drill",
   "metadata": {},
   "outputs": [],
   "source": [
    "trigB_old_df"
   ]
  },
  {
   "cell_type": "code",
   "execution_count": null,
   "id": "heated-slope",
   "metadata": {},
   "outputs": [],
   "source": [
    "trigB_old_df.to_csv(\"trigB_old_match.csv\")"
   ]
  },
  {
   "cell_type": "markdown",
   "id": "tribal-runner",
   "metadata": {},
   "source": [
    "### trigC export"
   ]
  },
  {
   "cell_type": "code",
   "execution_count": null,
   "id": "economic-punch",
   "metadata": {},
   "outputs": [],
   "source": [
    "\"\"\"for index, row in trigC_old_df.iterrows():\n",
    "    trigC_old_df[\"trigC dt\"].iloc[index] = []\n",
    "    for i in row[2]:\n",
    "        trigC_old_df[\"trigC dt\"].iloc[index].append(datetime.strftime(i,\"%Y-%m-%d %H:%M:%S.%f\"))\"\"\""
   ]
  },
  {
   "cell_type": "code",
   "execution_count": null,
   "id": "italic-williams",
   "metadata": {},
   "outputs": [],
   "source": [
    "trigC_old_df.to_csv(\"trigC_old_match.csv\")"
   ]
  },
  {
   "cell_type": "markdown",
   "id": "promotional-material",
   "metadata": {},
   "source": [
    "### trigM export"
   ]
  },
  {
   "cell_type": "code",
   "execution_count": null,
   "id": "addressed-nitrogen",
   "metadata": {},
   "outputs": [],
   "source": [
    "\"\"\"for index, row in trigM_old_df.iterrows():\n",
    "    trigM_old_df[\"trigM dt\"].iloc[index] = []\n",
    "    for i in row[2]:\n",
    "        trigM_old_df[\"trigM dt\"].iloc[index].append(datetime.strftime(i,\"%Y-%m-%d %H:%M:%S.%f\"))\"\"\""
   ]
  },
  {
   "cell_type": "code",
   "execution_count": null,
   "id": "divine-conducting",
   "metadata": {},
   "outputs": [],
   "source": [
    "trigM_old_df.to_csv(\"trigM_old_match.csv\")"
   ]
  },
  {
   "cell_type": "markdown",
   "id": "first-funds",
   "metadata": {},
   "source": [
    "### trigger lists"
   ]
  },
  {
   "cell_type": "code",
   "execution_count": null,
   "id": "veterinary-colon",
   "metadata": {},
   "outputs": [],
   "source": [
    "\"\"\"trigB_strf = []\n",
    "for dt in trig_dt[0]:\n",
    "    strf = dt.strftime(\"%Y-%m-%d %H:%M:%S.%f\")\n",
    "    trigB_strf.append(strf)\n",
    "    \n",
    "    \n",
    "trigB_df_exp = pd.DataFrame({\"datetime\": trigB_strf})\n",
    "trigB_df_exp.to_csv(\"HED triggers.csv\")\"\"\""
   ]
  },
  {
   "cell_type": "code",
   "execution_count": null,
   "id": "optional-flash",
   "metadata": {},
   "outputs": [],
   "source": [
    "trigC_strf = []\n",
    "for dt in trig_dt[1]:\n",
    "    strf = dt.strftime(\"%Y-%m-%d %H:%M:%S.%f\")\n",
    "    trigC_strf.append(strf)\n",
    "    \n",
    "    \n",
    "trigC_df_exp = pd.DataFrame({\"datetime\": trigC_strf})\n",
    "trigC_df_exp.to_csv(\"LED triggers.csv\")"
   ]
  },
  {
   "cell_type": "code",
   "execution_count": null,
   "id": "institutional-receipt",
   "metadata": {},
   "outputs": [],
   "source": [
    "\"\"\"trigM_strf = []\n",
    "for dt in trig_dt[2]:\n",
    "    strf = dt.strftime(\"%Y-%m-%d %H:%M:%S.%f\")\n",
    "    trigM_strf.append(strf)\n",
    "    \n",
    "    \n",
    "trigM_df_exp = pd.DataFrame({\"datetime\": trigM_strf})\n",
    "trigM_df_exp.to_csv(\"MMIA triggers.csv\")\"\"\""
   ]
  },
  {
   "cell_type": "markdown",
   "id": "caroline-acrobat",
   "metadata": {},
   "source": [
    "## ICECUBE export"
   ]
  },
  {
   "cell_type": "code",
   "execution_count": null,
   "id": "european-reservation",
   "metadata": {},
   "outputs": [],
   "source": [
    "\"\"\"trigB_new_df.to_csv(\"HED_new_match.csv\")\n",
    "trigC_new_df.to_csv(\"LED_new_match.csv\")\n",
    "trigM_new_df.to_csv(\"MMIA_new_match.csv\")\n",
    "\"\"\""
   ]
  },
  {
   "cell_type": "code",
   "execution_count": null,
   "id": "immune-luxury",
   "metadata": {},
   "outputs": [],
   "source": []
  },
  {
   "cell_type": "code",
   "execution_count": null,
   "id": "original-spread",
   "metadata": {},
   "outputs": [],
   "source": []
  },
  {
   "cell_type": "code",
   "execution_count": null,
   "id": "moved-transfer",
   "metadata": {},
   "outputs": [],
   "source": []
  },
  {
   "cell_type": "code",
   "execution_count": null,
   "id": "incoming-cookie",
   "metadata": {},
   "outputs": [],
   "source": []
  },
  {
   "cell_type": "code",
   "execution_count": null,
   "id": "willing-snake",
   "metadata": {},
   "outputs": [],
   "source": []
  },
  {
   "cell_type": "code",
   "execution_count": null,
   "id": "reduced-coalition",
   "metadata": {},
   "outputs": [],
   "source": []
  },
  {
   "cell_type": "code",
   "execution_count": null,
   "id": "atmospheric-terminal",
   "metadata": {},
   "outputs": [],
   "source": []
  },
  {
   "cell_type": "markdown",
   "id": "thousand-addiction",
   "metadata": {},
   "source": [
    "### Graveyard"
   ]
  },
  {
   "cell_type": "code",
   "execution_count": null,
   "id": "internal-catholic",
   "metadata": {},
   "outputs": [],
   "source": [
    "\"\"\"Function to filter duplicates\n",
    "def filter_duplicates(l1,l2):\n",
    "    \n",
    "    l1 --> ipn_old match\n",
    "    l2 --> ipn_new match\n",
    "    \n",
    "    Converting l1,l2 to np.arrays to handle the filtering. (might not be neccecery)\n",
    "    Checking if dt object in l2 is not present in l1. If so, then add the tuple to l1\n",
    "    Parameters: l1,l2 <list> containing tuples\n",
    "    ----\n",
    "    Returns: l3 <array> of dt objects that are not in \n",
    "    \n",
    "    found_time = []\n",
    "    indecies = []\n",
    "    for index, i in enumerate(ipn_new_updated[0]):\n",
    "        if i not in ipn_old_updated:\n",
    "            found_time.append(i)\n",
    "            indecies.append(index)\n",
    "        \n",
    "    found_time = np.asarray(found_time)\n",
    "    indecies = np.asarray(indecies) \"\"\""
   ]
  },
  {
   "cell_type": "code",
   "execution_count": null,
   "id": "integral-loading",
   "metadata": {},
   "outputs": [],
   "source": []
  }
 ],
 "metadata": {
  "kernelspec": {
   "display_name": "Python 3",
   "language": "python",
   "name": "python3"
  },
  "language_info": {
   "codemirror_mode": {
    "name": "ipython",
    "version": 3
   },
   "file_extension": ".py",
   "mimetype": "text/x-python",
   "name": "python",
   "nbconvert_exporter": "python",
   "pygments_lexer": "ipython3",
   "version": "3.7.0"
  },
  "toc": {
   "base_numbering": 1,
   "nav_menu": {},
   "number_sections": true,
   "sideBar": true,
   "skip_h1_title": false,
   "title_cell": "Table of Contents",
   "title_sidebar": "Contents",
   "toc_cell": false,
   "toc_position": {},
   "toc_section_display": true,
   "toc_window_display": false
  },
  "varInspector": {
   "cols": {
    "lenName": 16,
    "lenType": 16,
    "lenVar": 40
   },
   "kernels_config": {
    "python": {
     "delete_cmd_postfix": "",
     "delete_cmd_prefix": "del ",
     "library": "var_list.py",
     "varRefreshCmd": "print(var_dic_list())"
    },
    "r": {
     "delete_cmd_postfix": ") ",
     "delete_cmd_prefix": "rm(",
     "library": "var_list.r",
     "varRefreshCmd": "cat(var_dic_list()) "
    }
   },
   "types_to_exclude": [
    "module",
    "function",
    "builtin_function_or_method",
    "instance",
    "_Feature"
   ],
   "window_display": false
  }
 },
 "nbformat": 4,
 "nbformat_minor": 5
}
