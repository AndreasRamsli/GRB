{
 "cells": [
  {
   "cell_type": "markdown",
   "id": "empirical-carolina",
   "metadata": {},
   "source": [
    "# Imports"
   ]
  },
  {
   "cell_type": "code",
   "execution_count": 40,
   "id": "827b5e5e-8fb2-4195-9c1f-73cdf1f22d1d",
   "metadata": {},
   "outputs": [],
   "source": [
    "import numpy as np\n",
    "import matplotlib.pyplot as plt\n",
    "import scipy.io\n",
    "import scipy as sp\n",
    "import os\n",
    "import glob\n",
    "import sys\n",
    "import pandas as pd\n",
    "from datetime import datetime, timedelta\n",
    "import collections\n",
    "#%matplotlib widget\n",
    "sys.path.insert(0, '/Home/siv30/wad005/useful_py_functions') #UiB\n",
    "#sys.path.insert(0, \"/Users/andreas/proggis/useful_py_func/\") #Mac\n",
    "import matplotlib_custom_style_and_macros as pltmacro #Importing the py file from dir           "
   ]
  },
  {
   "cell_type": "markdown",
   "id": "cc60308d-b2bc-440b-b125-b8a463fedcfe",
   "metadata": {},
   "source": [
    "### Meeting 9.6\n",
    "\n",
    "TODO: \n",
    "\n",
    "    -Provide the ts array where the background have been subtracted.\n",
    "    -Constant background estimation.\n",
    "    -Double check GRB 200716, where is the second peak\n",
    "    -GRB 210424, provide LED lightcurve (benchmark for spectral analysis, lower estimation).\n",
    "    -Use all counts\n",
    "    -2 ms binning (best suitible), same time bin as konus\n",
    "\n",
    "Step 1: DONE\n",
    "\n",
    "    Absolute time correction on ASIM data. Subtract it from original datetime from ASIM. Do this manually for each of the twelve candidates.\n",
    "    Path for time correction: /Volumes/ift-romfys1/ASIM/TGF_List/2019/Correction_Data_2019.mat\n",
    "    ROMOVE GRB210424 LED plot from PDF (not significant)\n",
    "\n",
    "step 2: \n",
    "\n",
    "    Prepare background estimation for GRB 190206 first >> Wrap functions around it so it can easily be done for all candidates.\n",
    "    How to do it:  \n",
    "        1) Calculate constant fit. Sample bins before the burst (or after >> depending on data)\n",
    "        2)subtract the constant from the histograms bins\n",
    "\n",
    "step 3: \n",
    "       \n",
    "      Spectral analysis: prepare energy array (truncated) and number for counts in that energy bin (provided)\n",
    "\n",
    "\n",
    "\n",
    "INSTALL XPEC in python"
   ]
  },
  {
   "cell_type": "markdown",
   "id": "807afc27",
   "metadata": {},
   "source": [
    "# Paths"
   ]
  },
  {
   "cell_type": "code",
   "execution_count": 37,
   "id": "expected-classroom",
   "metadata": {},
   "outputs": [],
   "source": [
    "path_HED = \"/Home/siv30/wad005/master/GRB/MATLAB/output/file_mat_TGF/\"              #UiB\n",
    "path_LED = \"/Home/siv30/wad005/master/GRB/MATLAB/CZT_calibration/file_mat_CZT_TGF/\" #UiB\n",
    "\n",
    "#path_HED = \"/Users/andreas/phys/master/GRB/MATLAB/output/file_mat_TGF/\"               #MAC\n",
    "#path_LED = \"/Users/andreas/phys/master/GRB/MATLAB/CZT_calibration/file_mat_CZT_TGF/\"  #MAC"
   ]
  },
  {
   "cell_type": "markdown",
   "id": "82cdb8bf",
   "metadata": {},
   "source": [
    "# Dict creation"
   ]
  },
  {
   "cell_type": "code",
   "execution_count": 38,
   "id": "f2d83176-02f1-40fa-9dad-c92bfd92b1ca",
   "metadata": {},
   "outputs": [],
   "source": [
    "trig_dict_HED = {\"GRB180720\":[\"2018_07_20_14_21_48\",\"2018_07_20_14_21_51\",\"2018_07_20_14_21_56\",\"2018_07_20_14_21_57\",\"2018_07_20_14_22_09\"],\n",
    "                 \"GRB180807\":[\"2018_08_07_02_19_37\"],\n",
    "                 \"GRB181103\":[\"2018_11_03_04_22_33\"],\n",
    "                 \"GRB181222\":[\"2018_12_22_20_11_36\"],\n",
    "                 \"GRB190117\":[\"2019_01_17_08_50_43\"],\n",
    "                 \"GRB190206\":[\"2019_02_06_03_49_28\"],\n",
    "                 \"GRB190305\":[\"2019_03_05_13_05_19\"],\n",
    "                 \"GRB190320\":[\"2019_03_20_01_14_06\"],\n",
    "                 \"GRB190404\":[\"2019_04_04_07_01_05\"],\n",
    "                 \"GRB190420\":[\"2019_04_20_23_32_23\"],\n",
    "                 \"GRB190501\":[\"2019_05_01_05_23_22\"],\n",
    "                 \"GRB190606\":[\"2019_06_06_01_55_07\"],\n",
    "                 \"GRB190615\":[\"2019_06_15_14_42_21\"],\n",
    "                 \"GRB190706\":[\"2019_07_06_12_40_43\"],\n",
    "                 \"GRB190813\":[\"2019_08_13_12_00_49\"],\n",
    "                 \"GRB190825\":[\"2019_08_25_21_04_55\",\"2019_08_25_21_04_53\"], \n",
    "                 \"GRB190829\":[\"2019_08_29_19_56_40\"],\n",
    "                 \"GRB190906\":[\"2019_09_06_01_04_51\"],\n",
    "                 \"GRB191001\":[\"2019_10_01_06_41_52\"],\n",
    "                 \"GRB191004\":[\"2019_10_04_18_07_03\"],\n",
    "                 \"GRB191119\":[\"2019_11_19_10_41_06\"],\n",
    "                 \"GRB191221\":[\"2019_12_21_20_39_10\",\"2019_12_21_20_39_11\",\"2019_12_21_20_39_12\",\"2019_12_21_20_39_13\",\"2019_12_21_20_39_15\"],\n",
    "                 \"GRB191227\":[\"2019_12_27_17_21_45\"], #Also triggered 5 seconds after. filname: \"2019_12_27_17_21_49\"\n",
    "                 \"GRB200111\":[\"2020_01_11_15_11_12\"],\n",
    "                 \"GRB200224\":[\"2020_02_24_09_58_44\"],\n",
    "                 \"GRB200415\":[\"2020_04_15_08_48_05\"],\n",
    "                 \"GRB200412\":[\"2020_04_12_06_57_13\", \"2020_04_12_06_57_15\", \"2020_04_12_06_57_16\", \"2020_04_12_06_57_17\", \"2020_04_12_06_57_18\", \"2020_04_12_06_57_20\",\n",
    "                             \"2020_04_12_06_57_21\", \"2020_04_12_06_57_22\", \"2020_04_12_06_57_23\", \"2020_04_12_06_57_24\", \"2020_04_12_06_57_25\"] ,# long grb\n",
    "                 \"GRB200423\":[\"2020_04_23_13_54_06\"],\n",
    "                 \"GRB200521\":[\"2020_05_21_12_16_39\"],\n",
    "                 \"GRB200525\":[\"2020_05_25_14_40_22\"],\n",
    "                 \"GRB200605\":[\"2020_06_05_18_17_42\"],\n",
    "                 \"GRB200716\":[\"2020_07_16_22_57_40\"],\n",
    "                 \"GRB200812\":[\"2020_08_12_11_55_23\",\"2020_08_12_11_55_25\"],\n",
    "                 \"GRB200925\":[\"2020_09_25_21_50_31\"],\n",
    "                 \"GRB200907\":[\"2020_09_07_18_51_20\"],\n",
    "                 \"GRB200915\":[\"2020_09_15_03_27_06\"],\n",
    "                 \"GRB200923\":[\"2020_09_23_17_57_41\"],\n",
    "                 \"GRB200925\":[\"2020_09_25_21_50_31\"],\n",
    "                 \"GRB201223\":[\"2020_12_23_17_58_10\"],\n",
    "                 \"GRB210102\":[\"2021_01_02_20_38_02\",\"2021_01_02_20_38_07\"],\n",
    "                 \"GRB210411\":[\"2021_04_11_13_32_30\"],\n",
    "                 \"GRB210424\":[\"2021_04_24_08_01_55\"],\n",
    "                 \"GRB210607\":[\"2021_06_07_21_39_20\",\"2021_06_07_21_39_21\",\"2021_06_07_21_39_22\"],\n",
    "                 \"GRB210619\":[\"2021_06_19_23_59_24\",\"2021_06_19_23_59_25\", \"2021_06_19_23_59_26\",\"2021_06_19_23_59_27\", \"2021_06_19_23_59_33\", \"2021_06_19_23_59_34\",\n",
    "                             \"2021_06_19_23_59_35\", \"2021_06_19_23_59_36\", \"2021_06_19_23_59_37\",\"2021_06_19_23_59_38\"],\n",
    "                 \"GRB210701\":['2021_07_01_20_01_00'],\n",
    "                 \"GRB210702\":['2021_07_02_19_07_09','2021_07_02_19_07_10','2021_07_02_19_07_12'],\n",
    "                 \"GRB210724\":[\"2021_07_24_20_14_03\"],\n",
    "                 \"GRB201109\":[\"2020_11_09_02_31_08\"],\n",
    "                 \"GRB210903\":[\"2021_09_03_17_26_58\"],\n",
    "                 \"GRB211118\":[\"2021_11_18_23_38_04\"],\n",
    "                 \"GRB211211\":[\"2021_12_11_13_10_01\",\"2021_12_11_13_10_02\",\"2021_12_11_13_10_05\",\"2021_12_11_13_10_06\",\"2021_12_11_13_10_15\",\"2021_12_11_13_10_17\",\n",
    "                              \"2021_12_11_13_10_18\",\"2021_12_11_13_10_19\"],\n",
    "                 \"GRB201227\":['2020_12_27_15_14_06']\n",
    "                 }\n",
    "trig_dict_HED = collections.OrderedDict(sorted(trig_dict_HED.items())) #Sorting the keys in decending order. Now trig_dict_HED is an OderedDict type\n",
    "\n",
    "for key in trig_dict_HED.keys():\n",
    "    trig_dict_HED[key].sort() #sorting files in increasing order"
   ]
  },
  {
   "cell_type": "code",
   "execution_count": 41,
   "id": "204e9aa8-605d-4b72-837e-1261928ff7e5",
   "metadata": {},
   "outputs": [],
   "source": [
    "trig_dict_LED = {\"GRB181227\":[\"2018.12.27_06.17.04.210500_Fulltrigger\",\"2018_12_27_06_17_09.775992_Fulltrigger\",\"2018_12_27_06_17_10.800851_Fulltrigger\"],\n",
    "                 \"GRB181103\":[\"2018.11.03_04.22.34.566125_Fulltrigger\"],\n",
    "                 \"GRB190117\":[\"2019.01.17_08.50.42.939689_Fulltrigger\"],\n",
    "                 \"GRB190404\":['2019.04.04_07.01.06.584820_Fulltrigger'],\n",
    "                 \"GRB190420\":[\"2019.04.20_23.32.24.931211_Fulltrigger\"],\n",
    "                 \"GRB190501\":[\"2019.05.01_05.23.21.736797_Fulltrigger\"],\n",
    "                 \"GRB190615\":[\"2019.06.15_14.42.22.741579_Fulltrigger\"],\n",
    "                 \"GRB190628\":[\"2019.06.28_04.23.32.512290_Fulltrigger\"],\n",
    "                 \"GRB190813\":[\"2019.08.13_12.00.48.801260_Fulltrigger\"],\n",
    "                 \"GRB190825\":[\"2019.08.25_21.04.54.439617_Fulltrigger\",\"2019.08.25_21.04.56.395859_Fulltrigger\"],\n",
    "                 \"GRB190906\":[\"2019.09.06_01.04.52.014004_Fulltrigger\"],\n",
    "                 \"GRB191001\":[\"2019.10.01_06.41.51.631214_Fulltrigger\"],\n",
    "                 \"GRB191004\":[\"2019.10.04_18.07.03.402478_Fulltrigger\"],\n",
    "                 \"GRB191119\":[\"2019.11.19_10.41.05.239944_Fulltrigger\"],\n",
    "                 \"GRB191221\":[\"2019.12.21_20.39.11.939846_Fulltrigger\",\"2019.12.21_20.39.12.939997_Fulltrigger\",\"2019.12.21_20.39.13.940233_Fulltrigger\",\n",
    "                              \"2019.12.21_20.39.15.106045_Fulltrigger\",\"2019.12.21_20.39.17.252498_Fulltrigger\"],\n",
    "                 \"GRB191227\":[\"2019.12.27_17.21.45.549390_Fulltrigger\"], # Also triggered 5 sec after. filename: \"2019.12.27_17.21.50.236046_Fulltrigger\"\n",
    "                 \"GRB200111\":[\"2020.01.11_15.11.13.187473_Fulltrigger\"],\n",
    "                 \"GRB200122\":[\"2020.01.22_05.18.10.228382_Fulltrigger\"],\n",
    "                 \"GRB200224\":[\"2020.02.24_09.58.44.448334_Fulltrigger\"],\n",
    "                 \"GRB200412\":[\"2020.04.12_06.57.15.879304_Fulltrigger\", \"2020.04.12_06.57.16.879531_Fulltrigger\", \"2020.04.12_06.57.17.879742_Fulltrigger\",\n",
    "                             \"2020.04.12_06.57.18.880468_Fulltrigger\"],\n",
    "                 \"GRB200415\":[\"2020.04.15_08.48.05.470385_Fulltrigger\"], #Giant magetar flare\n",
    "                 \"GRB200423\":[\"2020.04.23_13.54.06.572991_Fulltrigger\"],\n",
    "                 \"GRB200525\":[\"2020.05.25_14.40.22.951437_Fulltrigger\"],\n",
    "                 \"GRB200605\":[\"2020.06.05_18.17.42.165859_Fulltrigger\"],\n",
    "                 \"GRB200812\":[\"2020.08.12_11.55.24.308429_Fulltrigger\",\"2020.08.12_11.55.26.144703_Fulltrigger\"],\n",
    "                 \"GRB200903\":[\"2020.09.03_21.38.50.495317_Fulltrigger\"],\n",
    "                 \"GRB200907\":[\"2020.09.07_18.51.20.724118_Fulltrigger\"],\n",
    "                 \"GRB200915\":[\"2020.09.15_03.27.06.777086_Fulltrigger\"],\n",
    "                 \"GRB200923\":[\"2020.09.23_17.57.42.645020_Fulltrigger\"],\n",
    "                 \"GRB201109\":[\"2020.11.09_02.31.09.400868_Fulltrigger\"],\n",
    "                 \"GRB210102\":[\"2021.01.02_20.38.02.245585_Fulltrigger\",\"2021.01.02_20.38.07.079069_Fulltrigger\"],\n",
    "                 \"GRB210424\":[\"2021.04.24_08.01.55.875520_Fulltrigger\"],\n",
    "                 \"GRB210607\":[\"2021.06.07_21.39.21.187641_Fulltrigger\",\"2021.06.07_21.39.22.204550_Fulltrigger\",\"2021.06.07_21.39.23.317169_Fulltrigger\"],\n",
    "                 \n",
    "                }\n",
    "trig_dict_LED = collections.OrderedDict(sorted(trig_dict_LED.items())) #Sorting the keys in decending order. Now trig_dict_HED is an OderedDict type\n",
    "\n",
    "for key in trig_dict_LED.keys():\n",
    "    trig_dict_LED[key].sort() #sorting files in increasing order"
   ]
  },
  {
   "cell_type": "markdown",
   "id": "49c628c3-44f0-4330-95bd-6c62eb7e74b5",
   "metadata": {},
   "source": [
    "# Time Correction of ASIM absolute time"
   ]
  },
  {
   "cell_type": "code",
   "execution_count": 42,
   "id": "05cc46ac-ee13-4b1b-9fbf-23ba1739a069",
   "metadata": {},
   "outputs": [],
   "source": [
    "#GRBs that are in HED & LED: GRB200415 (magnetar) & GRB210424\n",
    "#Assuming the absolute time correction is the same for HED and LED\n",
    "#time is given in microseconds (us)\n",
    "#time must be subtracted from referance time T0 \n",
    "selected_GRB_time_correction = {\"GRB180720\":8.370578e5,\"GRB181222\":-4.15228e5,\"GRB190206\":-2.1326169e5,\"GRB190305\":-3.7318e4,\"GRB190606\":-1.54605e5,\"GRB200415\":3.25731e4,\"GRB200521\":-2.092505e4,\"GRB200716\":9465.5,\"GRB201227\":-7.667e4,\"GRB210424\":9.734555e4,\"GRB210619\":12450,\"GRB211211\":-7.9743e4}"
   ]
  },
  {
   "cell_type": "code",
   "execution_count": 43,
   "id": "2e259f0c-076b-4bff-820a-fb3bb92edaf5",
   "metadata": {},
   "outputs": [
    {
     "name": "stdout",
     "output_type": "stream",
     "text": [
      "in led & selected GRB200415\n",
      "in led & selected GRB210424\n"
     ]
    }
   ],
   "source": [
    "#checking for GRBs that are in both HED and LED\n",
    "for grb in trig_dict_HED.keys():\n",
    "    if grb in trig_dict_LED.keys():\n",
    "        if grb in selected_GRB_time_correction:\n",
    "            print(\"in led & selected\", grb)\n",
    "    else:\n",
    "        continue"
   ]
  },
  {
   "cell_type": "code",
   "execution_count": 51,
   "id": "39986f03-89b1-4a46-87ff-05b63cebb844",
   "metadata": {},
   "outputs": [
    {
     "data": {
      "text/plain": [
       "datetime.timedelta(microseconds=32573)"
      ]
     },
     "execution_count": 51,
     "metadata": {},
     "output_type": "execute_result"
    }
   ],
   "source": [
    "us = timedelta(microseconds=selected_GRB_time_correction[\"GRB200415\"])\n",
    "us"
   ]
  },
  {
   "cell_type": "markdown",
   "id": "aa41034e",
   "metadata": {},
   "source": [
    "# Functions for handling matlab files"
   ]
  },
  {
   "cell_type": "markdown",
   "id": "2c851e4b-d4a2-4e53-b83f-7a0bd4c475ea",
   "metadata": {},
   "source": [
    "## CZT function"
   ]
  },
  {
   "cell_type": "code",
   "execution_count": 35,
   "id": "improved-architect",
   "metadata": {},
   "outputs": [],
   "source": [
    "def read_matlab_file_with_CZT_data(filename):\n",
    "    '''Read matlab file with ASIM CZT data from the low energy detector (LED)\n",
    "\n",
    "    tus: relative time in microseconds (excluded multihits)\n",
    "    erg: energy channel (excluded multihits)\n",
    "    energy_keV: energy in keV (excluded multihits)\n",
    "    tus_keep_multihit: relative time in microseconds (included multihits)\n",
    "    erg_keep_multihit: energy channel (included multihits)\n",
    "    multihit_indx: multihit index 0-4. 0->1 1->2// 0: tus=105, 1: tus=110,110 (two counts)\n",
    "    '''\n",
    "    mat = scipy.io.loadmat(path_LED + \"%s.mat\" % (filename))\n",
    "    \n",
    "    grb_id = \"GRB\" + matlabfilename[2:10].replace(\".\",\"\") #creating grb id from input string. String differ from CZT filename\n",
    "    if grb_id not in trig_dict_LED:\n",
    "        return print(\"grb_id not generated correctly. Check input\")\n",
    "\n",
    "\n",
    "    #keV_spectra = mat['keV_spectra_total_fulltrigger']\n",
    "\n",
    "    # Included multihits. Important for light curves\n",
    "    tus_keep_multihit = np.array(mat['tus_keep_multihit_fulltrigger'])[:,0] # relative time in microseconds\n",
    "    erg_keep_multihit = np.array(mat['erg_keep_multihit_fulltrigger'])[0,:] # energy channel (unreliable for multi hits)\n",
    "    multihit_indx = np.array(mat['multihit_fulltrigger'])[0,:] # multihit index. How many multihits in count. (0=1 count, 1=2 counts, 2=3 counts...)\n",
    "    \n",
    "    # The multihits are removed as they don't have a reliable energy estimate\n",
    "    erg = np.array(mat['erg_fulltrigger'])[0,:] # energy channel of CZT pixel\n",
    "    tus = np.array(mat['tus_fulltrigger'])[:,0] # relative time in microseconds\n",
    "    energy_keV = np.array(mat['pixel_energy_fulltrigger']).flatten() # energy in keV of CZT pixel\n",
    "    date = mat['T_ref_char'][0] #raw datetime as string\n",
    "    \n",
    "    #Logic that checks for array lengths\n",
    "    try:\n",
    "        length = len(tus_keep_multihit)\n",
    "        if any(len(lst) != length for lst in [erg_keep_multihit, multihit_indx]):\n",
    "        # at least one list has a different length\n",
    "            raise ValueError(\"Arrays have different lengths\")\n",
    "            \n",
    "        t_temp = []\n",
    "        erg_temp = []\n",
    "        energy_keV_temp = []\n",
    "        \n",
    "        for index, i in enumerate(multihit_indx):\n",
    "            for j in np.arange(0,i+1): #adding i+1 times the tus_count\n",
    "                t_temp.append(tus_keep_multihit[index])\n",
    "                erg_temp.append(erg_keep_multihit[index])\n",
    "\n",
    "         \n",
    "        tus_keep_multihit_ntimes =  np.array(t_temp) #array of tus. Multihit index decides how many times the tus is appended\n",
    "        erg_keep_multihit_ntimes = np.array(erg_temp) #array of erg. Multihit index decides how many times the erg is appended\n",
    "        T0 = datetime.strptime(date, \"%Y-%b-%d %H:%M:%S.%f\")\n",
    "        \n",
    "        if grb_id in selected_GRB_time_correction:\n",
    "            T0 -= selected_GRB_time_correction[grb_id]\n",
    "            tus -= selected_GRB_time_correction[grb_id]\n",
    "            tus_keep_multihit_ntimes -= selected_GRB_time_correction[grb_id]\n",
    "            \n",
    "        return tus, erg, energy_keV, tus_keep_multihit_ntimes, erg_keep_multihit_ntimes, multihit_indx, T0\n",
    "    \n",
    "    except ValueError as ve:\n",
    "        print(\"Function aborted because of: \" + str(ve))\n",
    "        print(\"Length of arrays: \")\n",
    "        for lst in [tus_keep_multihit, erg_keep_multihit, multihit_indx]:\n",
    "            print(len(lst))"
   ]
  },
  {
   "cell_type": "markdown",
   "id": "bd369c6b-2da5-4d03-a62e-be0e13a46992",
   "metadata": {},
   "source": [
    "## BGO function"
   ]
  },
  {
   "cell_type": "code",
   "execution_count": 65,
   "id": "fb08e8d7-010a-4584-a4d4-be3b3cb38e2a",
   "metadata": {},
   "outputs": [],
   "source": [
    "def read_matlab_file_with_BGO_data(matlabfilename):\n",
    "    '''\n",
    "    TODO: Keep original version\n",
    "    \n",
    "    Read matlab file with ASIM BGO data from the high energy detector (HED)\n",
    "\n",
    "    tus: relative times in microseconds.\n",
    "    erg: energy channel (needs to be calibrated to keV using calibration coeff from https://git.app.uib.no/ASIM-MXGS/IN-FLIGHT_CALIBRATION_BGO/-/tree/master/CALIBRATION_COEFS )\n",
    "    typ: normal (0), fast(1), valley (3), or overflow event (2 or 4 not )\n",
    "    adr: BGO address 1-12\n",
    "    dau: dau address 1-4\n",
    "    det: detector address 1-3\n",
    "    DetCol: RGB color\n",
    "    \n",
    "    - Kepping only normal (0) and fast (1) events\n",
    "    '''\n",
    "    matlabfile_TGF = path_HED + '%s.mat' % matlabfilename\n",
    "    grb_id = \"GRB\" + matlabfilename[2:10].replace(\"_\",\"\") #creating grb id from input string. String differ from CZT filename\n",
    "    if grb_id not in trig_dict_HED:\n",
    "        return print(\"grb_id not generated correctly. Check input\")\n",
    "    \n",
    "    mat = scipy.io.loadmat(matlabfile_TGF)\n",
    "    \n",
    "    tus = mat['tus'].flatten()\n",
    "    erg = mat['erg'].flatten()\n",
    "    adr = mat['adr'].flatten()\n",
    "    dau = mat['dau'].flatten()\n",
    "    det = mat['det'].flatten()\n",
    "    typ = mat['typ'].flatten()\n",
    "    \n",
    "    \n",
    "    \n",
    "    date = mat['date'][0] #raw datetime\n",
    "    T0 = datetime.strptime(date, \"%Y-%b-%d %H:%M:%S.%f\")\n",
    "    \n",
    "    if grb_id in selected_GRB_time_correction:\n",
    "        T0 -= timedelta(microseconds=selected_GRB_time_correction[grb_id])\n",
    "        tus -= selected_GRB_time_correction[grb_id]\n",
    "    \n",
    "    try:\n",
    "        length = len(tus)\n",
    "        if any(len(lst) != length for lst in [erg, typ, adr, dau, det]):\n",
    "        # at least one list has a different length\n",
    "            raise ValueError(\"Arrays have different lengths\")\n",
    "            \n",
    "        mask = np.where((typ != 0) & (typ != 1)) #finding indecies of vallays and overflow events\n",
    "        \n",
    "        # removing those indecies\n",
    "        tus = np.delete(tus,mask)\n",
    "        erg = np.delete(erg,mask)\n",
    "        adr = np.delete(adr,mask)\n",
    "        dau = np.delete(dau,mask)\n",
    "        det = np.delete(det,mask)\n",
    "        typ = np.delete(typ,mask)\n",
    "        \n",
    "        \n",
    "        return tus, erg, typ, adr, dau, det, T0\n",
    "    \n",
    "    except ValueError as ve:\n",
    "        print(\"Function aborted because of: \" + str(ve))\n",
    "        print(\"Length of arrays: \")\n",
    "        for lst in [tus,erg, typ, adr, dau, det]:\n",
    "            print(len(lst))"
   ]
  },
  {
   "cell_type": "code",
   "execution_count": 66,
   "id": "f43d625c-c9fc-4842-ba5f-5d20ac6508ae",
   "metadata": {},
   "outputs": [
    {
     "name": "stdout",
     "output_type": "stream",
     "text": [
      "2020-04-15 08:48:05.528427\n"
     ]
    }
   ],
   "source": [
    "tus, erg, typ, adr, dau, det,T0= read_matlab_file_with_BGO_data(trig_dict_HED[\"GRB200415\"][0])\n",
    "print(T0)\n",
    "date_id = datetime.strftime(T0,format='%y%m%d')\n"
   ]
  },
  {
   "cell_type": "markdown",
   "id": "9cca534c",
   "metadata": {},
   "source": [
    "# Plotting functions"
   ]
  },
  {
   "cell_type": "markdown",
   "id": "d59076a5-5400-402b-a613-cbfabd52478d",
   "metadata": {},
   "source": [
    "## LED"
   ]
  },
  {
   "cell_type": "code",
   "execution_count": 8,
   "id": "2e962c5f",
   "metadata": {},
   "outputs": [],
   "source": [
    "def plot_LED(grb_id=None, tus_arr = None, LED_filename=None, binsize=10, T0=None, export=False):\n",
    "    \"\"\" Can switch between plotting by grb_id, tus_arr and LED_filename. Only one of the options at the time.\n",
    "    plot_LED function can also find the background when start_range and end_range is specified\"\"\"\n",
    "    \n",
    "    binsize = binsize #ms\n",
    "    \n",
    "    \n",
    "    #switch for input\n",
    "    try:\n",
    "        if LED_filename != None and grb_id == None and tus_arr == None:\n",
    "            tus_LED, erg_LED, energy_keV_LED, tus_keep_multihit_LED, erg_keep_multihit_LED, multihit_indx_LED, T0 = read_matlab_file_with_CZT_data(\n",
    "                LED_filename)\n",
    "            T0 = datetime.strptime(date, \"%Y-%b-%d %H:%M:%S.%f\")\n",
    "            date_id = datetime.strftime(T0,format='%y%m%d') #Correct format for title of plot: YYMMDD\n",
    "            time_id = datetime.strftime(T0,format='%H:%M:%S.%f')[0:12] # T0 HHMMSS.f\n",
    "            grb_id_title = \"GRB \" + date_id\n",
    "            \n",
    "        elif grb_id != None and tus_arr == None and LED_filename == None:\n",
    "            if grb_id not in trig_dict_LED.keys():\n",
    "                raise KeyError(\"GRB ID not in dict\")\n",
    "            else:\n",
    "                LED_filename = trig_dict_LED[grb_id][0]\n",
    "                tus_LED, erg_LED, energy_keV_LED, tus_keep_multihit_LED, erg_keep_multihit_LED, multihit_indx_LED, T0 = read_matlab_file_with_CZT_data(\n",
    "                    LED_filename)\n",
    "                T0 = datetime.strptime(T0, \"%Y-%b-%d %H:%M:%S.%f\")\n",
    "                date_id = datetime.strftime(T0,format='%y%m%d') #Correct format for title of plot: YYMMDD\n",
    "                time_id = datetime.strftime(T0,format='%H:%M:%S.%f')[0:12] # T0 HHMMSS.f\n",
    "                grb_id_title = \"GRB \" + date_id\n",
    "\n",
    "        elif type(tus_arr) == np.ndarray and type(T0) == datetime and grb_id == None and LED_filename==None:\n",
    "            tus_LED = tus_arr\n",
    "            date_id = datetime.strftime(T0,format='%y%m%d') #Correct format for title of plot: YYMMDD\n",
    "            time_id = datetime.strftime(T0,format='%H:%M:%S.%f')[0:12] # T0 HHMMSS.f\n",
    "            grb_id_title = \"GRB \" + date_id\n",
    "        else:\n",
    "            return \"T0 <datetime> must be specified when initiating tus_arr\"\n",
    "        \n",
    "    except KeyError as e:\n",
    "        return print(e)\n",
    "    \n",
    "    #Plotting routine for normal histograms. Adding output path\n",
    "    plt.hist(tus_LED/1e3, bins=np.arange(\n",
    "        min(tus_LED/1e3), max(tus_LED/1e3) + binsize, binsize), edgecolor= \"black\", histtype=\"step\")\n",
    "    plt.xlabel(\"time [ms], binsize {} ms\".format((binsize)))\n",
    "    plt.ylabel(\"Counts per bin\"),\n",
    "    plt.title(grb_id_title + \" , \" + \"T0 = \" + time_id)\n",
    "     \n",
    "    if export == True:\n",
    "        path = \"/Home/siv30/wad005/master/GRB/pyplots/LED/\" #EXPORT PATH\n",
    "        filename = path + grb_id_title\n",
    "        plt.savefig(filename)\n",
    "        plt.clf()\n",
    "    else:\n",
    "        plt.show()"
   ]
  },
  {
   "cell_type": "markdown",
   "id": "9289b557-a7da-4688-964f-c160ac71e748",
   "metadata": {},
   "source": [
    "## HED"
   ]
  },
  {
   "cell_type": "code",
   "execution_count": 68,
   "id": "077a70d2-f53e-4e33-b1e1-5cb91d8b75a6",
   "metadata": {},
   "outputs": [],
   "source": [
    "def plot_HED(grb_id=None, tus_arr = None, HED_filename = None, binsize=10, T0=None, export=False):\n",
    "    \n",
    "    \"\"\"Plotting data from HED. If HED_filename is not specified, but tus_arr is: plotting the tus array without reading matlab file\n",
    "        If start and end value for the GRB is not given, the data is plotted normally,\n",
    "        - BINSIZE IS INITIALIZED AS MILLISECONDS\n",
    "        - start_GRB & end_GRB IS INITIALIZED AS MILLISECONDS 0.5 s = 500 ms\n",
    "        - tus_HED is given in microseconds\n",
    "        -T0 is given as a string\n",
    "        -cut_idx: array of indecies that was used to cut the tus_arr\n",
    "        -export: boolean. Exported to local dir.\n",
    "    \"\"\"\n",
    "\n",
    "    binsize = binsize #ms\n",
    "    \n",
    "\n",
    "    # //TODO:\n",
    "    #Create switch for plotting histograms with different color for showing the tus range plotted\n",
    "    #Create switch if concat in needed\n",
    "    \n",
    "    #switch for input\n",
    "    try:\n",
    "        if HED_filename != None and grb_id == None and tus_arr == None:\n",
    "\n",
    "            tus_HED, erg_HED, typ_HED, adr_HED, dau_HED, det_HED, T0 = read_matlab_file_with_BGO_data(HED_filename)\n",
    "            date_id = datetime.strftime(T0,format='%y%m%d') #Correct format for title of plot: GRBYYMMDD\n",
    "            time_id = datetime.strftime(T0,format='%H:%M:%S.%f')[0:12]\n",
    "            grb_id_title = \"GRB \" + date_id\n",
    "            \n",
    "        elif grb_id != None and tus_arr == None and HED_filename == None:\n",
    "            \n",
    "            if grb_id not in trig_dict_HED.keys():\n",
    "                raise KeyError(\"GRB ID not in dict\")\n",
    "            else:\n",
    "                HED_filename = trig_dict_HED[grb_id][0]\n",
    "                print(\"Plotting first HED file ...\")\n",
    "                \n",
    "                tus_HED, erg_HED, typ_HED, adr_HED, dau_HED, det_HED, T0 = read_matlab_file_with_BGO_data(HED_filename)\n",
    "                date_id = datetime.strftime(T0,format='%y%m%d') #Correct format for title of plot: GRBYYMMDD\n",
    "                time_id = datetime.strftime(T0,format='%H:%M:%S.%f')[0:12] # T0 HHMMSS.f\n",
    "                grb_id_title = \"GRB \" + date_id\n",
    "\n",
    "        elif type(tus_arr) == np.ndarray and type(T0) == datetime and grb_id == None and HED_filename==None:\n",
    "            \n",
    "            print(\"tus array OK ...\")\n",
    "            tus_HED = tus_arr\n",
    "            date_id = datetime.strftime(T0,format='%y%m%d') #Correct format for title of plot: YYMMDD\n",
    "            time_id = datetime.strftime(T0,format='%H:%M:%S.%f')[0:12] # T0 HHMMSS.f\n",
    "            grb_id_title = \"GRB \" + date_id\n",
    "            \n",
    "        else:\n",
    "            return \"Input not in right format\"\n",
    "        \n",
    "    except KeyError as e:\n",
    "        return print(e)\n",
    "    \n",
    "    \n",
    "    #Plotting routine for normal histograms. Adding output path\n",
    "    plt.hist(tus_HED/1e3, bins=np.arange(\n",
    "            min(tus_HED/1e3), max(tus_HED/1e3) + binsize, binsize),edgecolor= \"black\", histtype=\"step\")\n",
    "\n",
    "    plt.xlabel(\"time [ms], binsize = {} ms\".format((binsize)))\n",
    "    plt.ylabel(\"Counts per bin\"),\n",
    "    plt.title(grb_id_title + \" , \" + \"T0 = \" + time_id)\n",
    "\n",
    "    if export == True:\n",
    "        print(\"Exporting plot ...\")\n",
    "        path = \"/Home/siv30/wad005/master/GRB/pyplots/HED/\" #EXPORT PATH\n",
    "        filename = path + grb_id_title\n",
    "        plt.savefig(filename)\n",
    "        plt.clf()\n",
    "    else:\n",
    "        plt.show()"
   ]
  },
  {
   "cell_type": "code",
   "execution_count": 69,
   "id": "3953d3e0-9aac-4ffe-9f36-614709adf947",
   "metadata": {},
   "outputs": [
    {
     "name": "stdout",
     "output_type": "stream",
     "text": [
      "Plotting first HED file ...\n"
     ]
    },
    {
     "data": {
      "image/png": "[encoded data removed]",
      "text/plain": [
       "<Figure size 800x500 with 1 Axes>"
      ]
     },
     "metadata": {},
     "output_type": "display_data"
    }
   ],
   "source": [
    "plot_HED(grb_id=\"GRB200415\")"
   ]
  },
  {
   "cell_type": "markdown",
   "id": "ce2e81b0-e327-4fc4-bda6-4d741cbc23c3",
   "metadata": {},
   "source": [
    "# Concatination of multiple files"
   ]
  },
  {
   "cell_type": "markdown",
   "id": "aff6e21b-50db-4e60-b5e0-42c545588e23",
   "metadata": {},
   "source": [
    "## Cutting index functions"
   ]
  },
  {
   "cell_type": "code",
   "execution_count": 10,
   "id": "f1d3d371-44df-4f94-9148-06dcaf87c55b",
   "metadata": {},
   "outputs": [],
   "source": [
    "# A better algo for finding the cut idx \n",
    "def find_subsequence(seq, subseq):\n",
    "    \n",
    "    \"\"\"This function find the indecies where the subseq begins\n",
    "    Will return an array of starting positions\"\"\"\n",
    "    \n",
    "    target = np.dot(subseq, subseq)\n",
    "    candidates = np.where(np.correlate(seq,subseq, mode='valid') == target)[0]\n",
    "    # some of the candidates entries may be false positives, double check\n",
    "    check = candidates[:, np.newaxis] + np.arange(len(subseq))\n",
    "    mask = np.all((np.take(seq, check) == subseq), axis=-1)\n",
    "    \n",
    "    if len(candidates[mask]) > 1:\n",
    "        print(\"found two candidates for cutting ... selecting the first\")\n",
    "        return candidates[mask][0]\n",
    "    elif len(candidates[mask]) == 0:\n",
    "        print(\"subseq not found in next array ... keeping whole array\")\n",
    "        return None\n",
    "    else:\n",
    "        print(\"found one cutting index ... \")\n",
    "        return candidates[mask][0]"
   ]
  },
  {
   "cell_type": "code",
   "execution_count": 11,
   "id": "98b594e9-c1a4-48bc-ab50-427875afbd63",
   "metadata": {},
   "outputs": [],
   "source": [
    "def find_nearest(array, value):\n",
    "    \"\"\"Returns nearest index for value in array.\n",
    "    \"\"\"\n",
    "    array = np.asarray(array)\n",
    "    return (np.abs(array - value)).argmin()"
   ]
  },
  {
   "cell_type": "code",
   "execution_count": 12,
   "id": "519f1739-2f76-4740-a830-ab64aea665ec",
   "metadata": {},
   "outputs": [],
   "source": [
    "def find_cut(erg_arr=None):\n",
    "    \"\"\"function for finding cut indecies based on overlap in erg array.\n",
    "    Returns cat arrays of input\"\"\"\n",
    "    \n",
    "    cut_dict = {} #Making a dictionary to handle the different cut cases, because the previous affect the next\n",
    "    \n",
    "    for i in np.arange(0,len(erg_arr)): #Generating a list for each entry\n",
    "        cut_dict[str(i)] = []\n",
    "    \n",
    "    # Finding cut indecies first!\n",
    "    for i in np.arange(0,len(erg_arr)):\n",
    "        if i == 0:\n",
    "            idx = find_subsequence(erg_arr[i+1],erg_arr[i][-50:])\n",
    "            if idx == None:\n",
    "                cut_dict[str(i)] = None,None\n",
    "                cut_dict[str(i+1)].append(None)\n",
    "            else:\n",
    "                cut_dict[str(i)] = [None,-50]\n",
    "                cut_dict[str(i+1)] = [idx]\n",
    "                \n",
    "        elif i == len(erg_arr) - 1:\n",
    "            cut_dict[str(i)].append(None)\n",
    "            return cut_dict\n",
    "            \n",
    "        else:\n",
    "            idx = find_subsequence(erg_arr[i+1],erg_arr[i][-50:])\n",
    "            if idx == None:\n",
    "                cut_dict[str(i)].append(None)\n",
    "                cut_dict[str(i+1)].append(None)\n",
    "            else:\n",
    "                cut_dict[str(i)].append(-50)\n",
    "                cut_dict[str(i+1)].append(idx)\n",
    "    return cut_dict"
   ]
  },
  {
   "cell_type": "code",
   "execution_count": 13,
   "id": "dd9621d9-a445-4511-b733-4763e41d67f7",
   "metadata": {},
   "outputs": [],
   "source": [
    "def cut_arr(tus_arr=None,erg_arr=None,cut_dict=None):\n",
    "    tus_cut = []\n",
    "    erg_cut = []\n",
    "    for i_arr, cut_idx in cut_dict.items():\n",
    "        if cut_idx[0] == None and cut_idx[1] == None:\n",
    "            tus_cut.append(tus_arr[int(i_arr)])\n",
    "            erg_cut.append(erg_arr[int(i_arr)])\n",
    "            \n",
    "        elif cut_idx[0] != None and cut_idx[1] == None:\n",
    "            tus_cut.append(tus_arr[int(i_arr)][cut_idx[0]:])\n",
    "            erg_cut.append(erg_arr[int(i_arr)][cut_idx[0]:])\n",
    "            \n",
    "        elif cut_idx[0] == None and cut_idx[1] != None:\n",
    "            tus_cut.append(tus_arr[int(i_arr)][:cut_idx[1]])\n",
    "            erg_cut.append(erg_arr[int(i_arr)][:cut_idx[1]])\n",
    "            \n",
    "        elif cut_idx[0] != None and cut_idx[1] != None:\n",
    "            tus_cut.append(tus_arr[int(i_arr)][cut_idx[0]:cut_idx[1]])\n",
    "            erg_cut.append(erg_arr[int(i_arr)][cut_idx[0]:cut_idx[1]])\n",
    "        else:\n",
    "            print(\"Something wrong with cutting idecies\")\n",
    "            break\n",
    "            \n",
    "    return np.concatenate(tus_cut), np.concatenate(erg_cut)"
   ]
  },
  {
   "cell_type": "code",
   "execution_count": 14,
   "id": "c2c10a33-bc8f-4fad-b2c3-f4e2e17ce931",
   "metadata": {},
   "outputs": [],
   "source": [
    "def lower_upper_bound(l):\n",
    "    for tus in l:\n",
    "        print(\"min: \", round(min(tus/1e3)),\"max: \",round(max(tus)/1e3))"
   ]
  },
  {
   "cell_type": "markdown",
   "id": "f8fd92cd-d5a8-4276-8128-9bbfab90ab30",
   "metadata": {},
   "source": [
    "## Debugging concat function"
   ]
  },
  {
   "cell_type": "code",
   "execution_count": 64,
   "id": "0012f808-e0a3-4739-9dad-371314a53cc4",
   "metadata": {},
   "outputs": [],
   "source": [
    "def cut_cat(grb_id,flag):\n",
    "    tus_list = []\n",
    "    erg_list = []\n",
    "    T = []\n",
    "    tus_master = []\n",
    "    erg_master = []\n",
    "    \n",
    "    \n",
    "    if flag == \"HED\":\n",
    "        HED_files = trig_dict_HED[grb_id]\n",
    "        for filename in HED_files:\n",
    "            tus, erg, typ, adr, dau, det, T0 = read_matlab_file_with_BGO_data(filename)\n",
    "            tus_list.append(tus)\n",
    "            erg_list.append(erg)\n",
    "            T.append(datetime.strftime(T0, \"%Y-%b-%d %H:%M:%S.%f\"))\n",
    "    else:\n",
    "        LED_files = trig_dict_LED[grb_id]\n",
    "        for filename in LED_files:\n",
    "            tus, erg, energy_keV, tus_keep_multihit_ntimes, erg_keep_multihit_ntimes, multihit_indx, T0 = read_matlab_file_with_CZT_data(filename)\n",
    "            tus_list.append(tus)\n",
    "            erg_list.append(erg)\n",
    "            T.append(datetime.strftime(T0, \"%Y-%b-%d %H:%M:%S.%f\"))\n",
    "        \n",
    "    T0 = T[0]\n",
    "    for i,TT in enumerate(T):\n",
    "        if i == 0:\n",
    "            index_sort = np.argsort(tus_list[i], kind=\"mergesort\")\n",
    "            tus_sort = tus_list[i][index_sort]\n",
    "            erg_sort = erg_list[i][index_sort]\n",
    "            tus_master.append(tus_sort)\n",
    "            erg_master.append(erg_sort)\n",
    "            \n",
    "        else:\n",
    "            delta = TT-T0\n",
    "            tus_shift = tus_list[i] + float(delta.total_seconds())*1e6\n",
    "            index_sort = np.argsort(tus_shift, kind=\"mergesort\")\n",
    "            tus_sort = tus_shift[index_sort]\n",
    "            erg_sort = erg_list[i][index_sort]\n",
    "            \n",
    "            tus_master.append(tus_sort)\n",
    "            erg_master.append(erg_sort)\n",
    "            \n",
    "    idxs = find_cut(erg_arr=erg_master)\n",
    "    tus_cut, erg_cut = cut_arr(tus_arr=tus_master,erg_arr=erg_master,cut_dict=idxs)\n",
    "\n",
    "    return tus_cut, erg_cut, T0"
   ]
  },
  {
   "cell_type": "code",
   "execution_count": 16,
   "id": "3b14f154-04a3-490d-8ef5-414f7423f14c",
   "metadata": {},
   "outputs": [],
   "source": [
    "#tus_cut, erg_cut,T0 = cut_cat(grb_id=\"GRB200412\",flag=\"HED\")"
   ]
  },
  {
   "cell_type": "code",
   "execution_count": 17,
   "id": "64cbd33a-7e33-44c5-b87b-14ab7a2c0096",
   "metadata": {},
   "outputs": [],
   "source": [
    "#plot_HED(tus_arr=tus_cut,T0=T0,binsize=10)"
   ]
  },
  {
   "cell_type": "code",
   "execution_count": 18,
   "id": "64fddc01-d2a9-4eb9-807f-834c211b49a6",
   "metadata": {},
   "outputs": [],
   "source": [
    "#plot_HED(tus_arr=tus_cut,T0=T0,binsize=64,export=True)"
   ]
  },
  {
   "cell_type": "markdown",
   "id": "fce64942-7bbe-4f69-b554-59f2ef10c132",
   "metadata": {},
   "source": [
    "### Manual cut GRB 210102C"
   ]
  },
  {
   "cell_type": "markdown",
   "id": "5b4b20fa-7958-46d1-b215-2d2d2e4b0c61",
   "metadata": {},
   "source": [
    "tus1, erg1, typ1, adr1, dau1, det1, date1 = read_matlab_file_with_BGO_data(trig_dict_HED[\"GRB210702\"][0])\n",
    "tus2, erg2, typ2, adr2, dau2, det2, date2 = read_matlab_file_with_BGO_data(trig_dict_HED[\"GRB210702\"][1])\n",
    "tus3, erg3, typ3, adr3, dau3, det3, date3 = read_matlab_file_with_BGO_data(trig_dict_HED[\"GRB210702\"][2])\n",
    "\n",
    "#T\n",
    "T1 = datetime.strptime(date1, \"%Y-%b-%d %H:%M:%S.%f\") #T0 of first file. Will be T0 for concat tus array\n",
    "T2 = datetime.strptime(date2, \"%Y-%b-%d %H:%M:%S.%f\")\n",
    "T3 = datetime.strptime(date3, \"%Y-%b-%d %H:%M:%S.%f\")\n",
    "\n",
    "\n",
    "#Adding the timeshift to all tus arrays from T0\n",
    "deltaT2 = T2 - T1\n",
    "deltaT3 = T3- T1\n",
    "\n",
    "\n",
    "tus2_shift = tus2 + float(deltaT2.total_seconds())*1e6 #deltaT to all entries from T1\n",
    "tus3_shift = tus3 + float(deltaT3.total_seconds())*1e6\n",
    "\n",
    "index_sort1 = np.argsort(tus1, kind=\"mergesort\")\n",
    "tus1_sort = tus1[index_sort1]\n",
    "erg1_sort = erg1[index_sort1]\n",
    "\n",
    "index_sort2 = np.argsort(tus2_shift, kind=\"mergesort\")\n",
    "tus2_sort = tus2_shift[index_sort2]\n",
    "erg2_sort = erg2[index_sort2]\n",
    "\n",
    "index_sort3 = np.argsort(tus3_shift, kind=\"mergesort\")\n",
    "tus3_sort = tus3_shift[index_sort3]\n",
    "erg3_sort = erg3[index_sort3]\n",
    "\n",
    "tus_arr = [tus1_sort,tus2_sort,tus3_sort]\n",
    "erg_arr = [erg1_sort,erg2_sort,erg3_sort]"
   ]
  },
  {
   "cell_type": "markdown",
   "id": "5b4d2a9f-06cf-4c28-bd68-7d55f03ef9a0",
   "metadata": {},
   "source": [
    "## Function for exporting all light curves"
   ]
  },
  {
   "cell_type": "markdown",
   "id": "e7a13ada-278d-4b62-8cd3-f4852d984961",
   "metadata": {},
   "source": [
    "# export path to folder:\n",
    "path_out_HED = '/Users/andreas/phys/master/GRB/pyplots/HED/'\n",
    "path_out_LED = '/Users/andreas/phys/master/GRB/pyplots/LED/'"
   ]
  },
  {
   "cell_type": "code",
   "execution_count": 19,
   "id": "722e27fc-ef49-4f6a-88b5-0637e2a6ee58",
   "metadata": {},
   "outputs": [],
   "source": [
    "def export_plots(path_LED=None,path_HED=None):\n",
    "    \"\"\"Function for exporting and cropping pdfs\"\"\"\n",
    "    \n",
    "    \n",
    "    for grb_id in trig_dict_HED.keys():\n",
    "        if len(trig_dict_HED[grb_id]) <= 1:\n",
    "               plot_HED(grb_id=grb_id ,binsize = 16, export=True)\n",
    "        else:\n",
    "            concat_tus_HED, concat_erg_HED, T0 = concat_GRB(grb_id= grb_id, flag=\"HED\")\n",
    "            plot_HED(tus_arr= concat_tus_HED,T0= T0, binsize=32, export=True)\n",
    "               \n",
    "    for grb_id in trig_dict_LED.keys():\n",
    "        if len(trig_dict_LED[grb_id]) <= 1:\n",
    "               plot_LED(grb_id=grb_id ,binsize = 16, export=True)\n",
    "        else:\n",
    "            concat_tus_LED, concat_erg_LED, T0 = concat_GRB(grb_id=grb_id,flag=\"LED\")\n",
    "            plot_LED(tus_arr = concat_tus_LED, binsize=32, T0 = T0, export=True)\n",
    "            \n",
    "    print(\"Cropping LED plots from path ...\")\n",
    "    crop_pdfs(path_LED)\n",
    "    \n",
    "    print(\"Cropping HED plots from path ...\")\n",
    "    crop_pdfs(path_HED)\n",
    "    \n",
    "    print(\"Done\")\n",
    "    return None"
   ]
  },
  {
   "cell_type": "code",
   "execution_count": 20,
   "id": "812838ba-460e-4ef6-a12b-4a611a09c118",
   "metadata": {},
   "outputs": [],
   "source": [
    "def crop_pdfs(path):\n",
    "    for f in os.listdir(path):\n",
    "        command = \"pdfcrop --margins \" + '\"1 1 1 1\"' + \" \" + '\"%s%s\"' % (path,f) + \" \" + '\"%s%s\"' % (path,f)\n",
    "        os.system(command)\n",
    "    return None"
   ]
  },
  {
   "cell_type": "code",
   "execution_count": 21,
   "id": "6a582341-78d1-4edc-a2d6-3a65398bf600",
   "metadata": {},
   "outputs": [
    {
     "name": "stdout",
     "output_type": "stream",
     "text": [
      "read_matlab_file.ipynb loaded\n"
     ]
    }
   ],
   "source": [
    "print(\"read_matlab_file.ipynb loaded\")"
   ]
  },
  {
   "cell_type": "markdown",
   "id": "56edf6eb",
   "metadata": {},
   "source": [
    "# main function"
   ]
  },
  {
   "cell_type": "markdown",
   "id": "5b3a1ad6-2ffd-44b5-9933-8e57e05fb32b",
   "metadata": {},
   "source": [
    "# Purgatory"
   ]
  },
  {
   "cell_type": "code",
   "execution_count": null,
   "id": "2194f451-f29f-4479-a53c-6ca077dd2020",
   "metadata": {},
   "outputs": [],
   "source": []
  },
  {
   "cell_type": "code",
   "execution_count": null,
   "id": "b566f899-10fc-497f-9235-9322c2092f99",
   "metadata": {},
   "outputs": [],
   "source": []
  },
  {
   "cell_type": "code",
   "execution_count": null,
   "id": "22ce72e9-e752-414c-8076-67228e2272d1",
   "metadata": {},
   "outputs": [],
   "source": []
  },
  {
   "cell_type": "code",
   "execution_count": null,
   "id": "d54675eb-88d1-469a-8c70-dfaa994db769",
   "metadata": {},
   "outputs": [],
   "source": []
  },
  {
   "cell_type": "code",
   "execution_count": null,
   "id": "89797d49-1753-4390-ac37-68f86ea79bbf",
   "metadata": {},
   "outputs": [],
   "source": []
  },
  {
   "cell_type": "code",
   "execution_count": null,
   "id": "1089dc24-3742-4d03-81bb-52bd909cbebb",
   "metadata": {},
   "outputs": [],
   "source": []
  }
 ],
 "metadata": {
  "kernelspec": {
   "display_name": "base",
   "language": "python",
   "name": "base"
  },
  "language_info": {
   "codemirror_mode": {
    "name": "ipython",
    "version": 3
   },
   "file_extension": ".py",
   "mimetype": "text/x-python",
   "name": "python",
   "nbconvert_exporter": "python",
   "pygments_lexer": "ipython3",
   "version": "3.9.7"
  },
  "toc": {
   "base_numbering": 1,
   "nav_menu": {},
   "number_sections": true,
   "sideBar": true,
   "skip_h1_title": false,
   "title_cell": "Table of Contents",
   "title_sidebar": "Contents",
   "toc_cell": false,
   "toc_position": {},
   "toc_section_display": true,
   "toc_window_display": false
  },
  "varInspector": {
   "cols": {
    "lenName": 16,
    "lenType": 16,
    "lenVar": 40
   },
   "kernels_config": {
    "python": {
     "delete_cmd_postfix": "",
     "delete_cmd_prefix": "del ",
     "library": "var_list.py",
     "varRefreshCmd": "print(var_dic_list())"
    },
    "r": {
     "delete_cmd_postfix": ") ",
     "delete_cmd_prefix": "rm(",
     "library": "var_list.r",
     "varRefreshCmd": "cat(var_dic_list()) "
    }
   },
   "types_to_exclude": [
    "module",
    "function",
    "builtin_function_or_method",
    "instance",
    "_Feature"
   ],
   "window_display": false
  }
 },
 "nbformat": 4,
 "nbformat_minor": 5
}
