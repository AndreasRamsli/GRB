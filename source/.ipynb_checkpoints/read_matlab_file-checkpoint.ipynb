{
 "cells": [
  {
   "cell_type": "markdown",
   "id": "empirical-carolina",
   "metadata": {},
   "source": [
    "# Imports"
   ]
  },
  {
   "cell_type": "code",
   "execution_count": 1,
   "id": "finite-outdoors",
   "metadata": {},
   "outputs": [],
   "source": [
    "import numpy as np\n",
    "import matplotlib.pyplot as plt\n",
    "import scipy.io\n",
    "import scipy\n",
    "import os\n",
    "import glob\n",
    "import pandas as pd\n",
    "import math\n",
    "plt.rcdefaults() #Setting default color of output plots\n",
    "# For interactive plots\n",
    "%matplotlib widget \n",
    "plt.rcParams.update({'figure.max_open_warning': 0})"
   ]
  },
  {
   "cell_type": "markdown",
   "id": "ead3f61e-71cf-481d-89ae-5e98e279da07",
   "metadata": {},
   "source": [
    "# TODO: \n",
    "    -Mekanism for navigating the dictionary of triggers.\n",
    "    -Seperate dictionary for HED and LED"
   ]
  },
  {
   "cell_type": "markdown",
   "id": "807afc27",
   "metadata": {},
   "source": [
    "# Paths"
   ]
  },
  {
   "cell_type": "code",
   "execution_count": 2,
   "id": "expected-classroom",
   "metadata": {},
   "outputs": [],
   "source": [
    "path_HED = \"/Home/siv30/wad005/master/GRB/MATLAB/output/file_mat_TGF\"\n",
    "path_LED = \"/Home/siv30/wad005/master/GRB/MATLAB/CZT_calibration/file_mat_CZT_TGF\""
   ]
  },
  {
   "cell_type": "markdown",
   "id": "82cdb8bf",
   "metadata": {},
   "source": [
    "# Dict creation"
   ]
  },
  {
   "cell_type": "code",
   "execution_count": 3,
   "id": "mathematical-alexandria",
   "metadata": {},
   "outputs": [],
   "source": [
    "#make a dictionary out of the manual trigger_ID list\n",
    "triggers_data = pd.read_csv(\"trigger_ID.csv\") #Manually created csv file that contains the GRB IDs, LED and HED filenames\n",
    "GRB = triggers_data[\"GRB\"].values\n",
    "LED = triggers_data[\"LED\"].values\n",
    "HED = triggers_data[\"HED\"].values\n",
    "#Should be an easier way to sort the DF into an dict. Maybe transposing the DF\n",
    "def create_triggers_dict():\n",
    "    \"\"\"\n",
    "    trig_dict stores the GRB ID and LED/HED filenames.\n",
    "    Key in dictionary is GRB id. Filenames are stored as tuple <LED,HED>\n",
    "    return: trig_dict\n",
    "    \"\"\"\n",
    "    trig_dict ={}\n",
    "    \n",
    "    try:\n",
    "        if len(LED) & len(HED) != len(GRB):\n",
    "            raise IndexError(\"Arrays not the same length. Check GRB,LED and HED\")\n",
    "        else:\n",
    "            for i in np.arange(0,len(GRB)):\n",
    "                GRB_name = GRB[i]\n",
    "                LED_id = LED[i]\n",
    "                HED_id = HED[i]\n",
    "                trig_dict[GRB_name] = LED_id,HED_id\n",
    "            return trig_dict\n",
    "    except:\n",
    "        raise"
   ]
  },
  {
   "cell_type": "code",
   "execution_count": 174,
   "id": "844e24d2-686e-4fec-9089-4cdc8fa00e96",
   "metadata": {},
   "outputs": [],
   "source": [
    "trig_dict_HED = {\"GRB180720\":[\"2018_07_20_14_21_48\",\"2018_07_20_14_21_51\",\"2018_07_20_14_21_56\",\"2018_07_20_14_21_57\",\"2018_07_20_14_22_09\"],\n",
    "                \"GRB181222\":[\"2018_12_22_20_11_36\"],\n",
    "                \"GRB190206\":[\"2019_02_06_03_49_28\"],\n",
    "                \"GRB190305\":[\"2019_03_05_13_05_19\"],\n",
    "                \"GRB190606\":[\"2019_06_06_01_55_07\"],\n",
    "                \"GRB190829\":[\"2019_08_29_19_56_40\"],\n",
    "                \"GRB200412\":[]# long list\n",
    "                \"GRB200521\":[\"2020_05_21_12_16_39\"],\n",
    "                \"GRB200716\":[\"2020_07_16_22_57_40\"],\n",
    "                \"GRB200925\":[\"2020_09_25_21_50_31\"],\n",
    "                \"GRB201227\":[\"2020_12_27_15_14_06\"]}\n",
    "\n",
    "#Missing: [2018_08_07_02_19_37]"
   ]
  },
  {
   "cell_type": "code",
   "execution_count": 175,
   "id": "28fb3ae6",
   "metadata": {},
   "outputs": [
    {
     "data": {
      "text/plain": [
       "{'GRB180720': ['2018_07_20_14_21_48',\n",
       "  '2018_07_20_14_21_51',\n",
       "  '2018_07_20_14_21_56',\n",
       "  '2018_07_20_14_21_57',\n",
       "  '2018_07_20_14_22_09'],\n",
       " 'GRB181222': ['2018_12_22_20_11_36'],\n",
       " 'GRB190206': ['2019_02_06_03_49_28'],\n",
       " 'GRB190305': ['2019_03_05_13_05_19'],\n",
       " 'GRB190606': ['2019_06_06_01_55_07'],\n",
       " 'GRB190829': ['2019_08_29_19_56_40'],\n",
       " 'GRB190903': ['2019_09_03_18_51_55'],\n",
       " 'GRB200521': ['2020_05_21_12_16_39'],\n",
       " 'GRB200716': ['2020_07_16_22_57_40'],\n",
       " 'GRB201227': ['2020_12_27_15_14_06']}"
      ]
     },
     "execution_count": 175,
     "metadata": {},
     "output_type": "execute_result"
    }
   ],
   "source": [
    "trig_dict_HED"
   ]
  },
  {
   "cell_type": "markdown",
   "id": "aa41034e",
   "metadata": {},
   "source": [
    "# Functions for handling matlab files"
   ]
  },
  {
   "cell_type": "code",
   "execution_count": 171,
   "id": "improved-architect",
   "metadata": {},
   "outputs": [],
   "source": [
    "def read_matlab_file_with_BGO_data(matlabfilename):\n",
    "    '''Read matlab file with ASIM BGO data from the high energy detector (HED)\n",
    "\n",
    "    tus: relative times in microseconds.\n",
    "    erg: energy channel (needs to be calibrated to keV using calibration coeff from https://git.app.uib.no/ASIM-MXGS/IN-FLIGHT_CALIBRATION_BGO/-/tree/master/CALIBRATION_COEFS )\n",
    "    typ: normal (0), fast(1), valley (3), or overflow event (2 or 4 not )\n",
    "    adr: BGO address 1-12\n",
    "    dau: dau address 1-4\n",
    "    det: detector address 1-3\n",
    "    DetCol: RGB color\n",
    "    '''\n",
    "    matlabfile_TGF = '/Home/siv30/wad005/master/GRB/MATLAB/output/file_mat_TGF/%s' % matlabfilename\n",
    "\n",
    "    mat = scipy.io.loadmat(matlabfile_TGF)\n",
    "    tus = mat['tus'].flatten()\n",
    "    erg = mat['erg'].flatten()\n",
    "    DetCol = mat['DetCol']\n",
    "    adr = mat['adr'].flatten()\n",
    "    dau = mat['dau'].flatten()\n",
    "    det = mat['det'].flatten()\n",
    "    typ = mat['typ'].flatten()\n",
    "    date = mat['date'].flatten() #raw datetime\n",
    "    return tus, erg, typ, adr, dau, det, DetCol, date #make the date work\n",
    "\n",
    "\n",
    "def read_matlab_file_with_CZT_data(filename):\n",
    "    '''Read matlab file with ASIM CZT data from the low energy detector (LED)\n",
    "\n",
    "    tus: relative time in microseconds (excluded multihits)\n",
    "    erg: energy channel (excluded multihits)\n",
    "    energy_keV: energy in keV (excluded multihits)\n",
    "    tus_keep_multihit: relative time in microseconds (included multihits)\n",
    "    erg_keep_multihit: energy channel (included multihits)\n",
    "    multihit_indx: multihit index 0-4. 0->1 1->2// 0: tus=105, 1: tus=110,110 (two counts)\n",
    "    '''\n",
    "    mat = scipy.io.loadmat(\"/Home/siv30/wad005/master/GRB/MATLAB/CZT_calibration/file_mat_CZT_TGF/%s.mat\" % (filename))\n",
    "\n",
    "    #keV_spectra = mat['keV_spectra_total_fulltrigger']\n",
    "\n",
    "    # Included multihits. Important for light curves\n",
    "    tus_keep_multihit = np.array(mat['tus_keep_multihit_fulltrigger'])[:,0] # relative time in microseconds\n",
    "    erg_keep_multihit = np.array(mat['erg_keep_multihit_fulltrigger'])[0,:] # energy channel (unreliable for multi hits)\n",
    "    multihit_indx = np.array(mat['multihit_fulltrigger'])[0,:] # multihit index. How many multihits in count. (0=1 count, 1=2 counts, 2=3 counts...)\n",
    "\n",
    "\n",
    "    # The multihits are removed as they don't have a reliable energy estimate\n",
    "    erg = np.array(mat['erg_fulltrigger'])[0,:] # energy channel of CZT pixel\n",
    "    tus = np.array(mat['tus_fulltrigger'])[:,0] # relative time in microseconds\n",
    "    energy_keV = np.array(mat['pixel_energy_fulltrigger']).flatten() # energy in keV of CZT pixel\n",
    "    #Implement the tus_keep_multihit. \n",
    "    #def tus_keep_multihit. duplicate +1 the index \n",
    "    return tus, erg, energy_keV, tus_keep_multihit, erg_keep_multihit, multihit_indx"
   ]
  },
  {
   "cell_type": "markdown",
   "id": "9cca534c",
   "metadata": {},
   "source": [
    "# Plotting functions"
   ]
  },
  {
   "cell_type": "code",
   "execution_count": 6,
   "id": "2e962c5f",
   "metadata": {},
   "outputs": [],
   "source": [
    "def plot_LED(LED_filename, output_dir,grb_id):\n",
    "    plt.rcdefaults()\n",
    "    tus_LED, erg_LED, energy_keV_LED, tus_keep_multihit_LED, erg_keep_multihit_LED, multihit_indx_LED = read_matlab_file_with_CZT_data(\n",
    "    LED_filename)\n",
    "\n",
    "    fig0, (ax0, ax1) = plt.subplots(\n",
    "        2, 1, figsize=(8, 8), sharex=True, sharey=False)\n",
    "    ax0.set_title(\"LED\")\n",
    "    ax0.scatter(tus_LED, energy_keV_LED)\n",
    "    ax0.set_xlabel(\"time [us]\")\n",
    "    ax0.set_ylabel(\"Energy [keV]\")\n",
    "\n",
    "    binsize = 10000  # us --> 10 ms bin\n",
    "    ax1.hist(tus_LED, bins=np.arange(\n",
    "        min(tus_LED), max(tus_LED)+binsize, binsize))\n",
    "    ax1.set_xlabel(\"time [us]\")\n",
    "    ax1.set_ylabel(\"Counts per bin\")\n",
    "\n",
    "    plt.savefig(output_dir + \"/{}_LED\".format(grb_id))\n",
    "    \n",
    "def plot_HED(HED_filename, output_dir,grb_id):\n",
    "    plt.rcdefaults()\n",
    "    tus_HED, erg_HED, typ_HED, adr_HED, dau_HED, det_HED, DetCol_HED = read_matlab_file_with_BGO_data(HED_filename)\n",
    "\n",
    "    fig0, (ax0, ax1) = plt.subplots(\n",
    "        2, 1, figsize=(8, 8), sharex=True, sharey=False)\n",
    "    ax0.set_title(\"HED\")\n",
    "\n",
    "    ax0.scatter(tus_HED, erg_HED)\n",
    "    ax0.set_xlabel(\"time [us]\")\n",
    "    ax0.set_ylabel(\"Energy channel\")\n",
    "\n",
    "    binsize = 10000  # us --> 10 ms bin\n",
    "    ax1.hist(tus_HED, bins=np.arange(\n",
    "        min(tus_HED), max(tus_HED)+binsize, binsize))\n",
    "    ax1.set_xlabel(\"time [us]\")\n",
    "    ax1.set_ylabel(\"Counts per bin\")\n",
    "    \n",
    "    output_dir_hed = output_dir + \"/{}_HED\".format(grb_id)\n",
    "    print(output_dir_hed)\n",
    "    plt.savefig(output_dir + \"/{}_HED\".format(grb_id)) #path where plot is saved\n",
    "\n"
   ]
  },
  {
   "cell_type": "markdown",
   "id": "56edf6eb",
   "metadata": {},
   "source": [
    "# main function"
   ]
  },
  {
   "cell_type": "code",
   "execution_count": 8,
   "id": "framed-privilege",
   "metadata": {},
   "outputs": [
    {
     "ename": "SyntaxError",
     "evalue": "non-default argument follows default argument (2792431290.py, line 1)",
     "output_type": "error",
     "traceback": [
      "\u001b[0;36m  Input \u001b[0;32mIn [8]\u001b[0;36m\u001b[0m\n\u001b[0;31m    def main(grb_id,binsize=10000, start_GRB, end_GRB):  # filename GRB ID\u001b[0m\n\u001b[0m             ^\u001b[0m\n\u001b[0;31mSyntaxError\u001b[0m\u001b[0;31m:\u001b[0m non-default argument follows default argument\n"
     ]
    }
   ],
   "source": [
    "def main(grb_id,binsize=10000, start_GRB, end_GRB):  # filename GRB ID\n",
    "    # output array for tus_keep_multihit_LED, erg_keep_multihit_LED, multihit_indx_LED må modifiseres\n",
    "    # Automake by making filename a list of filenames. Then the all the outout plots will be created\n",
    "\n",
    "    # TODO:\n",
    "    # Add the extra parameters to make the get_mean work\n",
    "#os.mkdir(\"/Users/andreas/phys/master/MATLAB/pyplots\")\n",
    "    trig_dict = create_triggers_dict()\n",
    "    try:\n",
    "        output_dir = os.mkdir(\"/Home/siv30/wad005/master/GRB/MATLAB/pyplots/{}\".format(grb_id)) #Creating owd folder for grb_id\n",
    "    except FileExistsError:\n",
    "        output_dir = \"/Home/siv30/wad005//master/GRB/MATLAB/pyplots/{}\".format(grb_id) #selecting path if it already exists\n",
    "\n",
    "\n",
    "    if type(grb_id) != str:\n",
    "        raise TypeError(\"Input is not string\")\n",
    "    elif grb_id not in trig_dict:\n",
    "        raise LookupError(\"grb_id not in dictionary\")\n",
    "    else:\n",
    "        try:\n",
    "            LED_filename = trig_dict[grb_id][0]\n",
    "            HED_filename = trig_dict[grb_id][1]\n",
    "            if type(LED_filename) == float and math.isnan(LED_filename):\n",
    "                print(\"LED file not found. Plotting only HED\")\n",
    "                plot_HED(HED_filename,output_dir,grb_id) #output path is not required\n",
    "                \n",
    "            elif type(HED_filename) == float and math.isnan(HED_filename):\n",
    "                print(\"HED file not found. Plotting only LED\")\n",
    "                plot_LED(LED_filename,output_dir,grb_id)\n",
    "            else:\n",
    "                plot_LED(LED_filename,output_dir,grb_id)\n",
    "                plot_HED(HED_filename,output_dir,grb_id)\n",
    "        except:\n",
    "            print(\"Something went wrong\")\n",
    "    \n",
    "    "
   ]
  },
  {
   "cell_type": "markdown",
   "id": "8c6ce83e-44c6-40a1-91fe-19351b250d71",
   "metadata": {},
   "source": [
    "# Plotting"
   ]
  },
  {
   "cell_type": "code",
   "execution_count": 169,
   "id": "56f3be30-7feb-4abf-95cd-aa023fc3f157",
   "metadata": {},
   "outputs": [],
   "source": [
    "def plot_HED(HED_filename,binsize=10, start_GRB=0, end_GRB=0):\n",
    "    \"\"\"Plotting data from HED.\n",
    "    If start and end value for the GRB is not given, the data is plotted normally.\n",
    "    - BINSIZE IS INITIALIZED AS MILLISECONDS.\n",
    "    - start_GRB & end_GRB IS INITIALIZED AS MILLISECONDS 0.5 s = 500 ms\n",
    "    - tus_HED is given in microseconds\"\"\"\n",
    "    \n",
    "    binsize = binsize*1e3 #converting to microseconds\n",
    "    start_GRB = start_GRB*1e3 #converting to microseconds\n",
    "    end_GRB = end_GRB*1e3\n",
    "    \n",
    "    tus_HED, erg_HED, typ_HED, adr_HED, dau_HED, det_HED, DetCol_HED, date = read_matlab_file_with_BGO_data(HED_filename)\n",
    "\n",
    "    fig0, ax1 = plt.subplots(\n",
    "        1, 1, figsize=(12, 8), sharex=True, sharey=False)\n",
    "\n",
    "    ax1.hist(tus_HED, bins=np.arange(\n",
    "        min(tus_HED), max(tus_HED) + binsize, binsize),edgecolor= \"black\", histtype=\"step\")\n",
    "    ax1.set_xlabel(\"time [us], binsize {} ms\".format((binsize / 1e3)))\n",
    "    ax1.set_ylabel(\"Counts per bin\")\n",
    "    ax1.set_title(\"GRB \" + HED_filename)\n",
    "    \n",
    "    \n",
    "    \n",
    "    if start_GRB and end_GRB != 0:\n",
    "        mean = get_mean(HED_filename,binsize,tus_HED, start_GRB, end_GRB)\n",
    "        ax1.axhline(y=mean, color=\"red\", label=\"Mean of bg: {} counts/bin \\n First range [{} - {}] s \\n 2nd: [{} - {}] s\".format(\n",
    "            np.round(mean,2), np.round(min(tus_HED)/1e6,3),start_GRB/1e6, end_GRB/1e6, np.round(max(tus_HED)/1e6,3)),linestyle='--')\n",
    "                                                                                                                              \n",
    "                                                                                                                          \n",
    "        ax1.legend()\n",
    "        plt.show()\n",
    "    else:\n",
    "        plt.show()\n",
    "    "
   ]
  },
  {
   "cell_type": "code",
   "execution_count": 180,
   "id": "1cda21e9-7d32-457f-929e-fd8cd90c7dd6",
   "metadata": {},
   "outputs": [
    {
     "data": {
      "application/vnd.jupyter.widget-view+json": {
       "model_id": "d4f22724681844ff8762159fdf87bc6c",
       "version_major": 2,
       "version_minor": 0
      },
      "image/png": "[encoded data removed]",
      "text/html": [
       "\n",
       "            <div style=\"display: inline-block;\">\n",
       "                <div class=\"jupyter-widgets widget-label\" style=\"text-align: center;\">\n",
       "                    Figure\n",
       "                </div>\n",
       "                <img src='data:image/png;base64,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' width=1200.0/>\n",
       "            </div>\n",
       "        "
      ],
      "text/plain": [
       "Canvas(toolbar=Toolbar(toolitems=[('Home', 'Reset original view', 'home', 'home'), ('Back', 'Back to previous …"
      ]
     },
     "metadata": {},
     "output_type": "display_data"
    }
   ],
   "source": [
    "plot_HED('2020_09_25_21_50_31', binsize = 16, start_GRB=0, end_GRB=0)"
   ]
  },
  {
   "cell_type": "markdown",
   "id": "b8e7c6ed-d03c-42ba-8d92-07c5efdeda13",
   "metadata": {},
   "source": [
    "# Finding the background"
   ]
  },
  {
   "cell_type": "markdown",
   "id": "b13d22de-86fd-4b31-a1b3-617fe97d5cbf",
   "metadata": {},
   "source": [
    "Make a function of of the code below. "
   ]
  },
  {
   "cell_type": "code",
   "execution_count": 126,
   "id": "d5b752da-d82c-4f38-ac27-b2bf3c3ae90e",
   "metadata": {},
   "outputs": [],
   "source": [
    "tus_HED, erg_HED, typ_HED, adr_HED, dau_HED, det_HED, DetCol_HED = read_matlab_file_with_BGO_data('2020_05_21_12_16_39')"
   ]
  },
  {
   "cell_type": "code",
   "execution_count": 145,
   "id": "b37e4681-9092-457f-b115-c0ac64e64bba",
   "metadata": {},
   "outputs": [],
   "source": [
    "def get_mean(matlab_filename, binsize, tus, start_GRB, end_GRB):\n",
    "    \n",
    "    \"\"\"Function for getting the mean from the background.\n",
    "    matlab_filename: <str> filename\n",
    "    binsize: <int> given in us // 5ms = 5000 us \n",
    "    start & end_GRB given in us.\n",
    "    -Finding ranges to compute the mean in each bin. \"\"\"\n",
    "    \n",
    "    tus = np.sort(tus)\n",
    "    range_1 =  find_closest(tus,start_GRB)\n",
    "    range_2 = find_closest(tus,end_GRB)\n",
    "    \n",
    "    range_1_counts = np.histogram(tus[:range_1], bins=np.arange(\n",
    "        min(tus[:range_1]), max(tus[:range_1]) + binsize, binsize))[0]\n",
    "    \n",
    "    range_2_counts = np.histogram(tus[range_2:], bins=np.arange(\n",
    "        min(tus[range_2:]), max(tus[range_2:]) + binsize, binsize))[0]\n",
    "    \n",
    "    background_data = np.append(range_1_counts,range_2_counts)\n",
    "    mean = np.mean(background_data)\n",
    "    return mean"
   ]
  },
  {
   "cell_type": "code",
   "execution_count": 146,
   "id": "6aa5d795-3aa8-4e4b-a07d-685006f3b6bd",
   "metadata": {},
   "outputs": [],
   "source": [
    "def find_closest(A, target):\n",
    "    #A must be sorted\n",
    "    idx = A.searchsorted(target)\n",
    "    idx = np.clip(idx, 1, len(A)-1)\n",
    "    left = A[idx-1]\n",
    "    right = A[idx]\n",
    "    idx -= target - left < right - target\n",
    "    return idx"
   ]
  },
  {
   "cell_type": "code",
   "execution_count": null,
   "id": "abb7705d-76ff-4d5f-bee5-3cad95ba9600",
   "metadata": {},
   "outputs": [],
   "source": []
  },
  {
   "cell_type": "code",
   "execution_count": null,
   "id": "83f1563c-905a-4ddb-88e2-4422ca18b21a",
   "metadata": {},
   "outputs": [],
   "source": []
  },
  {
   "cell_type": "code",
   "execution_count": null,
   "id": "b5360c3a-98d1-4bde-b077-b457adcd23a6",
   "metadata": {},
   "outputs": [],
   "source": []
  },
  {
   "cell_type": "code",
   "execution_count": null,
   "id": "8d6c1be6-4827-4657-881e-f7fa599cc682",
   "metadata": {},
   "outputs": [],
   "source": []
  },
  {
   "cell_type": "code",
   "execution_count": null,
   "id": "ec421626-8a35-4787-a041-986632c5a670",
   "metadata": {},
   "outputs": [],
   "source": []
  },
  {
   "cell_type": "markdown",
   "id": "5b3a1ad6-2ffd-44b5-9933-8e57e05fb32b",
   "metadata": {},
   "source": [
    "# Graveyards"
   ]
  },
  {
   "cell_type": "code",
   "execution_count": null,
   "id": "579e6a7c-1ff3-486e-a455-6a20a905e30b",
   "metadata": {},
   "outputs": [],
   "source": [
    "# Not in use\n",
    "def get_filenames(path):\n",
    "    return sorted((f for f in os.listdir(path) if not f.startswith(\".\")), key=str.lower)"
   ]
  }
 ],
 "metadata": {
  "kernelspec": {
   "display_name": "Python 3 (ipykernel)",
   "language": "python",
   "name": "python3"
  },
  "language_info": {
   "codemirror_mode": {
    "name": "ipython",
    "version": 3
   },
   "file_extension": ".py",
   "mimetype": "text/x-python",
   "name": "python",
   "nbconvert_exporter": "python",
   "pygments_lexer": "ipython3",
   "version": "3.8.10"
  },
  "toc": {
   "base_numbering": 1,
   "nav_menu": {},
   "number_sections": true,
   "sideBar": true,
   "skip_h1_title": false,
   "title_cell": "Table of Contents",
   "title_sidebar": "Contents",
   "toc_cell": false,
   "toc_position": {},
   "toc_section_display": true,
   "toc_window_display": false
  },
  "varInspector": {
   "cols": {
    "lenName": 16,
    "lenType": 16,
    "lenVar": 40
   },
   "kernels_config": {
    "python": {
     "delete_cmd_postfix": "",
     "delete_cmd_prefix": "del ",
     "library": "var_list.py",
     "varRefreshCmd": "print(var_dic_list())"
    },
    "r": {
     "delete_cmd_postfix": ") ",
     "delete_cmd_prefix": "rm(",
     "library": "var_list.r",
     "varRefreshCmd": "cat(var_dic_list()) "
    }
   },
   "types_to_exclude": [
    "module",
    "function",
    "builtin_function_or_method",
    "instance",
    "_Feature"
   ],
   "window_display": false
  }
 },
 "nbformat": 4,
 "nbformat_minor": 5
}
