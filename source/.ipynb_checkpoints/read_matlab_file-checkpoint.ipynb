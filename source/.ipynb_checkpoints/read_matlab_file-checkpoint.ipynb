{
 "cells": [
  {
   "cell_type": "markdown",
   "id": "empirical-carolina",
   "metadata": {},
   "source": [
    "# Imports"
   ]
  },
  {
   "cell_type": "code",
   "execution_count": 33,
   "id": "finite-outdoors",
   "metadata": {},
   "outputs": [],
   "source": [
    "import numpy as np\n",
    "import matplotlib.pyplot as plt\n",
    "import scipy.io\n",
    "import scipy\n",
    "import os\n",
    "import glob\n",
    "import pandas as pd\n",
    "import math"
   ]
  },
  {
   "cell_type": "code",
   "execution_count": 1,
   "id": "expected-classroom",
   "metadata": {},
   "outputs": [],
   "source": [
    "path_HED = \"/Users/andreas/phys/master/MATLAB/output/file_mat_TGF\"\n",
    "path_LED = \"/Users/andreas/phys/master/MATLAB/CZT_calibration/file_mat_CZT_TGF\""
   ]
  },
  {
   "cell_type": "code",
   "execution_count": 25,
   "id": "mathematical-alexandria",
   "metadata": {},
   "outputs": [],
   "source": [
    "#make a dictionary out of the manual trigger_ID list\n",
    "triggers_data = pd.read_csv(\"trigger_ID.csv\") #Manually created csv file that contains the GRB IDs, LED and HED filenames\n",
    "GRB = triggers_data[\"GRB\"].values\n",
    "LED = triggers_data[\"LED\"].values\n",
    "HED = triggers_data[\"HED\"].values\n",
    "#Should be an easier way to sort the DF into an dict. Maybe transposing the DF\n",
    "def create_triggers_dict():\n",
    "    \"\"\"\n",
    "    trig_dict stores the GRB ID and LED/HED filenames.\n",
    "    Key in dictionary is GRB id. Filenames are stored as tuple <LED,HED>\n",
    "    return: trig_dict\n",
    "    \"\"\"\n",
    "    trig_dict ={}\n",
    "    \n",
    "    try:\n",
    "        if len(LED) & len(HED) != len(GRB):\n",
    "            raise IndexError(\"Arrays not the same length. Check GRB,LED and HED\")\n",
    "        else:\n",
    "            for i in np.arange(0,len(GRB)):\n",
    "                GRB_name = GRB[i]\n",
    "                LED_id = LED[i]\n",
    "                HED_id = HED[i]\n",
    "                trig_dict[GRB_name] = LED_id,HED_id\n",
    "            return trig_dict\n",
    "    except:\n",
    "        raise"
   ]
  },
  {
   "cell_type": "code",
   "execution_count": 34,
   "id": "28fb3ae6",
   "metadata": {},
   "outputs": [
    {
     "name": "stdout",
     "output_type": "stream",
     "text": [
      "nan\n"
     ]
    }
   ],
   "source": [
    "triggers_dict= create_triggers_dict()\n",
    "if math.isnan(triggers_dict[\"GRB 190807\"][0]):\n",
    "    print(\"nan\")\n",
    "#trig_dict[grb_id][0]"
   ]
  },
  {
   "cell_type": "code",
   "execution_count": 91,
   "id": "acceptable-suicide",
   "metadata": {},
   "outputs": [],
   "source": [
    "def get_filenames(path):\n",
    "    return sorted((f for f in os.listdir(path) if not f.startswith(\".\")), key=str.lower)"
   ]
  },
  {
   "cell_type": "code",
   "execution_count": 10,
   "id": "improved-architect",
   "metadata": {},
   "outputs": [],
   "source": [
    "def read_matlab_file_with_BGO_data(matlabfilename):\n",
    "    '''Read matlab file with ASIM BGO data from the high energy detector (HED)\n",
    "\n",
    "    tus: relative time in microseconds\n",
    "    erg: energy channel (needs to be calibrated to keV using calibration coeff from https://git.app.uib.no/ASIM-MXGS/IN-FLIGHT_CALIBRATION_BGO/-/tree/master/CALIBRATION_COEFS )\n",
    "    typ: normal, fast, valley, or overflow event\n",
    "    adr: BGO address 1-12\n",
    "    dau: dau address 1-4\n",
    "    det: detector address 1-3\n",
    "    DetCol: RGB color\n",
    "    '''\n",
    "    matlabfile_TGF = '/Users/andreas/phys/master/MATLAB/output/file_mat_TGF/%s' % matlabfilename\n",
    "\n",
    "    mat = scipy.io.loadmat(matlabfile_TGF)\n",
    "    tus = mat['tus'].flatten()\n",
    "    erg = mat['erg'].flatten()\n",
    "    DetCol = mat['DetCol']\n",
    "    adr = mat['adr'].flatten()\n",
    "    dau = mat['dau'].flatten()\n",
    "    det = mat['det'].flatten()\n",
    "    typ = mat['typ'].flatten()\n",
    "    return tus, erg, typ, adr, dau, det, DetCol\n",
    "\n",
    "\n",
    "def read_matlab_file_with_CZT_data(filename):\n",
    "    '''Read matlab file with ASIM CZT data from the low energy detector (LED)\n",
    "\n",
    "    tus: relative time in microseconds (excluded multihits)\n",
    "    erg: energy channel (excluded multihits)\n",
    "    energy_keV: energy in keV (excluded multihits)\n",
    "    tus_keep_multihit: relative time in microseconds (included multihits)\n",
    "    erg_keep_multihit: energy channel (included multihits)\n",
    "    multihit_indx: multihit index 0-4.o\n",
    "    '''\n",
    "    mat = scipy.io.loadmat(\"/Users/andreas/phys/master/MATLAB/CZT_calibration/file_mat_CZT_TGF/%s.mat\" % (filename))\n",
    "\n",
    "    #keV_spectra = mat['keV_spectra_total_fulltrigger']\n",
    "\n",
    "    # Included multihits. Important for light curves\n",
    "    tus_keep_multihit = np.array(mat['tus_keep_multihit_fulltrigger'])[:,0] # relative time in microseconds\n",
    "    erg_keep_multihit = np.array(mat['erg_keep_multihit_fulltrigger'])[0,:] # energy channel (unreliable for multi hits)\n",
    "    multihit_indx = np.array(mat['multihit_fulltrigger'])[0,:] # multihit index. How many multihits in count. (0=1 count, 1=2 counts, 2=3 counts...)\n",
    "\n",
    "\n",
    "    # The multihits are removed as they don't have a reliable energy estimate\n",
    "    erg = np.array(mat['erg_fulltrigger'])[0,:] # energy channel of CZT pixel\n",
    "    tus = np.array(mat['tus_fulltrigger'])[:,0] # relative time in microseconds\n",
    "    energy_keV = np.array(mat['pixel_energy_fulltrigger']).flatten() # energy in keV of CZT pixel\n",
    "\n",
    "    return tus, erg, energy_keV, tus_keep_multihit, erg_keep_multihit, multihit_indx"
   ]
  },
  {
   "cell_type": "code",
   "execution_count": 40,
   "id": "2e962c5f",
   "metadata": {},
   "outputs": [],
   "source": [
    "\n",
    "            \n",
    "            \n",
    "            \n",
    "def plot_HED(HED_filename):\n",
    "    tus_HED, erg_HED, typ_HED, adr_HED, dau_HED, det_HED, DetCol_HED = read_matlab_file_with_BGO_data(HED_filename)\n",
    "\n",
    "    fig0, (ax0, ax1) = plt.subplots(\n",
    "        2, 1, figsize=(8, 8), sharex=True, sharey=False)\n",
    "    ax0.set_title(\"HED\")\n",
    "\n",
    "    ax0.scatter(tus_HED, erg_HED)\n",
    "    ax0.set_xlabel(\"time [us]\")\n",
    "    ax0.set_ylabel(\"Energy channel\")\n",
    "\n",
    "    binsize = 10000  # us --> 10 ms bin\n",
    "    ax1.hist(tus_HED, bins=np.arange(\n",
    "        min(tus_HED), max(tus_HED)+binsize, binsize))\n",
    "    ax1.set_xlabel(\"time [us]\")\n",
    "    ax1.set_ylabel(\"Counts per bin\")\n",
    "\n",
    "    plt.savefig(\"{}\".format(output_dir) + \"/{}_HED\".format(grb_id))\n",
    "\n",
    "def plot_LED(LED_filename):\n",
    "    tus_LED, erg_LED, energy_keV_LED, tus_keep_multihit_LED, erg_keep_multihit_LED, multihit_indx_LED = read_matlab_file_with_CZT_data(\n",
    "    LED_filename)\n",
    "\n",
    "    fig0, (ax0, ax1) = plt.subplots(\n",
    "        2, 1, figsize=(8, 8), sharex=True, sharey=False)\n",
    "    ax0.set_title(\"LED\")\n",
    "    ax0.scatter(tus_LED, energy_keV_LED)\n",
    "    ax0.set_xlabel(\"time [us]\")\n",
    "    ax0.set_ylabel(\"Energy [keV]\")\n",
    "\n",
    "    binsize = 10000  # us --> 10 ms bin\n",
    "    ax1.hist(tus_LED, bins=np.arange(\n",
    "        min(tus_LED), max(tus_LED)+binsize, binsize))\n",
    "    ax1.set_xlabel(\"time [us]\")\n",
    "    ax1.set_ylabel(\"Counts per bin\")\n",
    "\n",
    "    plt.savefig(\"{}\".format(output_dir) + \"/{}_LED\".format(grb_id))"
   ]
  },
  {
   "cell_type": "code",
   "execution_count": 38,
   "id": "framed-privilege",
   "metadata": {},
   "outputs": [],
   "source": [
    "def main(grb_id):  # filename GRB ID\n",
    "    # output array for tus_keep_multihit_LED, erg_keep_multihit_LED, multihit_indx_LED må modifiseres\n",
    "    # Automake by making filename a list of filenames. Then the all the outout plots will be created\n",
    "\n",
    "    # TODO:\n",
    "    # write the find_filename_X function\n",
    "    # filenames_LED_list = get_filenames(path_LED) #path is a global variable defined earlier\n",
    "    # filenames_HED_list = get_filenames(path_HED) #path is a global variable defined earlier\n",
    "#os.mkdir(\"/Users/andreas/phys/master/MATLAB/pyplots\")\n",
    "            os.mkdir(\"/Users/andreas/phys/master/MATLAB/pyplots/{}\".format(grb_id))\n",
    "            output_dir = \"/Users/andreas/phys/master/MATLAB/pyplots/{}\".format(grb_id)    \n",
    "    trig_dict = create_triggers_dict()\n",
    "    try:\n",
    "        if type(grb_id) != str:\n",
    "            raise TypeError(\"Input is not string\")\n",
    "        elif grb_id not in trig_dict:\n",
    "            raise LookupError(\"GRB ID not in trig_dict\")\n",
    "        else:\n",
    "            LED_filename = trig_dict[grb_id][0]\n",
    "            if type(LED_filename) == float and math.isnan(LED_filename):\n",
    "                       print(\"No LED file in dict\")\n",
    "            else:\n",
    "                       plot_LED(LED_filename)\n",
    "            \n",
    "            HED_filename = trig_dict[grb_id][1]\n",
    "            if type(HED_filename) ==float and math.isnan(HED_filename):\n",
    "                       print(\"No HED file in dict\")\n",
    "            else:\n",
    "                plot_HED(HED_filename)\n",
    "            \n",
    "    except:\n",
    "        raise"
   ]
  },
  {
   "cell_type": "code",
   "execution_count": 39,
   "id": "found-above",
   "metadata": {},
   "outputs": [
    {
     "name": "stdout",
     "output_type": "stream",
     "text": [
      "No LED file in dict\n"
     ]
    },
    {
     "ename": "UnboundLocalError",
     "evalue": "local variable 'plot_HED' referenced before assignment",
     "output_type": "error",
     "traceback": [
      "\u001b[0;31m---------------------------------------------------------------------------\u001b[0m",
      "\u001b[0;31mUnboundLocalError\u001b[0m                         Traceback (most recent call last)",
      "Input \u001b[0;32mIn [39]\u001b[0m, in \u001b[0;36m<module>\u001b[0;34m\u001b[0m\n\u001b[0;32m----> 1\u001b[0m \u001b[43mmain\u001b[49m\u001b[43m(\u001b[49m\u001b[38;5;124;43m\"\u001b[39;49m\u001b[38;5;124;43mGRB 190807\u001b[39;49m\u001b[38;5;124;43m\"\u001b[39;49m\u001b[43m)\u001b[49m\n",
      "Input \u001b[0;32mIn [38]\u001b[0m, in \u001b[0;36mmain\u001b[0;34m(grb_id)\u001b[0m\n\u001b[1;32m     25\u001b[0m            \u001b[38;5;28mprint\u001b[39m(\u001b[38;5;124m\"\u001b[39m\u001b[38;5;124mNo HED file in dict\u001b[39m\u001b[38;5;124m\"\u001b[39m)\n\u001b[1;32m     26\u001b[0m \u001b[38;5;28;01melse\u001b[39;00m:\n\u001b[0;32m---> 27\u001b[0m     \u001b[43mplot_HED\u001b[49m(HED_filename)\n\u001b[1;32m     29\u001b[0m \u001b[38;5;66;03m#os.mkdir(\"/Users/andreas/phys/master/MATLAB/pyplots\")\u001b[39;00m\n\u001b[1;32m     30\u001b[0m os\u001b[38;5;241m.\u001b[39mmkdir(\u001b[38;5;124m\"\u001b[39m\u001b[38;5;124m/Users/andreas/phys/master/MATLAB/pyplots/\u001b[39m\u001b[38;5;132;01m{}\u001b[39;00m\u001b[38;5;124m\"\u001b[39m\u001b[38;5;241m.\u001b[39mformat(grb_id))\n",
      "\u001b[0;31mUnboundLocalError\u001b[0m: local variable 'plot_HED' referenced before assignment"
     ]
    }
   ],
   "source": [
    "main(\"GRB 190807\")"
   ]
  },
  {
   "cell_type": "code",
   "execution_count": null,
   "id": "1cbf1ff1",
   "metadata": {},
   "outputs": [],
   "source": [
    "\"Fix plotting and saving of the plots. \""
   ]
  }
 ],
 "metadata": {
  "kernelspec": {
   "display_name": "Python 3 (ipykernel)",
   "language": "python",
   "name": "python3"
  },
  "language_info": {
   "codemirror_mode": {
    "name": "ipython",
    "version": 3
   },
   "file_extension": ".py",
   "mimetype": "text/x-python",
   "name": "python",
   "nbconvert_exporter": "python",
   "pygments_lexer": "ipython3",
   "version": "3.9.6"
  },
  "toc": {
   "base_numbering": 1,
   "nav_menu": {},
   "number_sections": true,
   "sideBar": true,
   "skip_h1_title": false,
   "title_cell": "Table of Contents",
   "title_sidebar": "Contents",
   "toc_cell": false,
   "toc_position": {},
   "toc_section_display": true,
   "toc_window_display": false
  },
  "varInspector": {
   "cols": {
    "lenName": 16,
    "lenType": 16,
    "lenVar": 40
   },
   "kernels_config": {
    "python": {
     "delete_cmd_postfix": "",
     "delete_cmd_prefix": "del ",
     "library": "var_list.py",
     "varRefreshCmd": "print(var_dic_list())"
    },
    "r": {
     "delete_cmd_postfix": ") ",
     "delete_cmd_prefix": "rm(",
     "library": "var_list.r",
     "varRefreshCmd": "cat(var_dic_list()) "
    }
   },
   "types_to_exclude": [
    "module",
    "function",
    "builtin_function_or_method",
    "instance",
    "_Feature"
   ],
   "window_display": false
  }
 },
 "nbformat": 4,
 "nbformat_minor": 5
}
