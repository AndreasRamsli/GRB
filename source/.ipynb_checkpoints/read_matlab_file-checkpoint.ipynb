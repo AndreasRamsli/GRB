{
 "cells": [
  {
   "cell_type": "markdown",
   "id": "empirical-carolina",
   "metadata": {},
   "source": [
    "# Imports"
   ]
  },
  {
   "cell_type": "code",
   "execution_count": 1,
   "id": "finite-outdoors",
   "metadata": {},
   "outputs": [],
   "source": [
    "import numpy as np\n",
    "import matplotlib.pyplot as plt\n",
    "import scipy.io\n",
    "import scipy\n",
    "import os\n",
    "import glob\n",
    "import pandas as pd\n",
    "import math\n",
    "from datetime import datetime, timedelta\n",
    "import collections\n",
    "plt.rcdefaults() #Setting default color of output plots\n",
    "# For interactive plots\n",
    "\n",
    "plt.rcParams.update({'figure.max_open_warning': 0})\n",
    "%matplotlib widget"
   ]
  },
  {
   "cell_type": "markdown",
   "id": "cc60308d-b2bc-440b-b125-b8a463fedcfe",
   "metadata": {},
   "source": [
    "# TODO:\n",
    "    \n",
    "   1) GRB ID SHOULD BE USED AS INPUT IN MOST FUNCTIONS!! IMPLEMENT THIS \n",
    "   2) Correct concatination of multiple files. GRB_ID is used to locate list of files\n",
    "   2) Use GRBID as input in plotting function, not filename. Don't need this right now tho. FOR LED AND HED\n",
    "   3) Redo all the plots ..."
   ]
  },
  {
   "cell_type": "markdown",
   "id": "807afc27",
   "metadata": {},
   "source": [
    "# Paths"
   ]
  },
  {
   "cell_type": "code",
   "execution_count": 14,
   "id": "expected-classroom",
   "metadata": {},
   "outputs": [],
   "source": [
    "#path_HED = \"/Home/siv30/wad005/master/GRB/MATLAB/output/file_mat_TGF/\"              #UiB\n",
    "#path_LED = \"/Home/siv30/wad005/master/GRB/MATLAB/CZT_calibration/file_mat_CZT_TGF/\" #UiB\n",
    "path_HED = \"/Users/andreas/phys/master/GRB/MATLAB/output/file_mat_TGF/\"               #MAC\n",
    "path_LED = \"/Users/andreas/phys/master/GRB/MATLAB/CZT_calibration/file_mat_CZT_TGF/\"  #MAC"
   ]
  },
  {
   "cell_type": "markdown",
   "id": "82cdb8bf",
   "metadata": {},
   "source": [
    "# Dict creation"
   ]
  },
  {
   "cell_type": "code",
   "execution_count": 3,
   "id": "f2d83176-02f1-40fa-9dad-c92bfd92b1ca",
   "metadata": {},
   "outputs": [],
   "source": [
    "trig_dict_HED = {\"GRB180720\":[\"2018_07_20_14_21_48\",\"2018_07_20_14_21_51\",\"2018_07_20_14_21_56\",\"2018_07_20_14_21_57\",\"2018_07_20_14_22_09\"],\n",
    "                 \"GRB181222\":[\"2018_12_22_20_11_36\"],\n",
    "                 \"GRB190206\":[\"2019_02_06_03_49_28\"],\n",
    "                 \"GRB190305\":[\"2019_03_05_13_05_19\"],\n",
    "                 \"GRB190501\":[\"2019_05_01_05_23_22\"],\n",
    "                 \"GRB190606\":[\"2019_06_06_01_55_07\"],\n",
    "                 \"GRB190615\":[\"2019_06_15_14_42_21\"],\n",
    "                 \"GRB190813\":[\"2019_08_13_12_00_49\"],\n",
    "                 \"GRB190825\":[\"2019_08_25_21_04_55\",\"2019_08_25_21_04_53\"], \n",
    "                 \"GRB190829\":[\"2019_08_29_19_56_40\"],\n",
    "                 \"GRB190906\":[\"2019_09_06_01_04_51\"],\n",
    "                 \"GRB191001\":[\"2019_10_01_06_41_52\"],\n",
    "                 \"GRB200412\":[],# long list\n",
    "                 \"GRB200521\":[\"2020_05_21_12_16_39\"],\n",
    "                 \"GRB200716\":[\"2020_07_16_22_57_40\"],\n",
    "                 \"GRB200925\":[\"2020_09_25_21_50_31\"],\n",
    "                 \"GRB201227\":[\"2020_12_27_15_14_06\"]\n",
    "            }\n",
    "trig_dict_HED = collections.OrderedDict(sorted(trig_dict_HED.items())) #Sorting the keys in decending order. Now trig_dict_HED is an OderedDict type\n",
    "\n",
    "for key in trig_dict_HED.keys():\n",
    "    trig_dict_HED[key].sort() #sorting files in increasing order\n"
   ]
  },
  {
   "cell_type": "code",
   "execution_count": 4,
   "id": "204e9aa8-605d-4b72-837e-1261928ff7e5",
   "metadata": {},
   "outputs": [],
   "source": [
    "trig_dict_LED = {\"GRB181227\":[\"2018_12_27_06_17_04.210500_Fulltrigger\",\"2018_12_27_06_17_09.775992_Fulltrigger\",\"2018_12_27_06_17_10.800851_Fulltrigger\"],\n",
    "                \"GRB190117\":[\"2019.01.17_08.50.42.939689_Fulltrigger\"],\n",
    "                 \"GRB190420\":[\"2019.04.20_23.32.24.931211_Fulltrigger\"],\n",
    "                 \"GRB190501\":[\"2019.05.01_05.23.21.736797_Fulltrigger\"],\n",
    "                 \"GRB190615\":[\"2019.06.15_14.42.22.741579_Fulltrigger\"],\n",
    "                 \"GRB190628\":[\"2019.06.28_04.23.32.512290_Fulltrigger\"],\n",
    "                 \"GRB190813\":[\"2019.08.13_12.00.48.801260_Fulltrigger\"],\n",
    "                 \"GRB190825\":[\"2019.08.25_21.04.54.439617_Fulltrigger\",\"2019.08.25_21.04.56.395859_Fulltrigger\"],\n",
    "                 \"GRB190906\":[\"2019.09.06_01.04.52.014004_Fulltrigger\"],\n",
    "                 \"GRB191001\":[\"2019.10.01_06.41.51.631214_Fulltrigger\"],\n",
    "                }\n",
    "trig_dict_LED = collections.OrderedDict(sorted(trig_dict_LED.items())) #Sorting the keys in decending order. Now trig_dict_HED is an OderedDict type\n",
    "\n",
    "for key in trig_dict_LED.keys():\n",
    "    trig_dict_LED[key].sort() #sorting files in increasing order\n"
   ]
  },
  {
   "cell_type": "markdown",
   "id": "aa41034e",
   "metadata": {},
   "source": [
    "# Functions for handling matlab files"
   ]
  },
  {
   "cell_type": "markdown",
   "id": "2c851e4b-d4a2-4e53-b83f-7a0bd4c475ea",
   "metadata": {},
   "source": [
    "## CZT function"
   ]
  },
  {
   "cell_type": "code",
   "execution_count": 5,
   "id": "improved-architect",
   "metadata": {},
   "outputs": [],
   "source": [
    "def read_matlab_file_with_CZT_data(filename):\n",
    "    '''Read matlab file with ASIM CZT data from the low energy detector (LED)\n",
    "\n",
    "    tus: relative time in microseconds (excluded multihits)\n",
    "    erg: energy channel (excluded multihits)\n",
    "    energy_keV: energy in keV (excluded multihits)\n",
    "    tus_keep_multihit: relative time in microseconds (included multihits)\n",
    "    erg_keep_multihit: energy channel (included multihits)\n",
    "    multihit_indx: multihit index 0-4. 0->1 1->2// 0: tus=105, 1: tus=110,110 (two counts)\n",
    "    '''\n",
    "    mat = scipy.io.loadmat(path_LED + \"%s.mat\" % (filename))\n",
    "\n",
    "    #keV_spectra = mat['keV_spectra_total_fulltrigger']\n",
    "\n",
    "    # Included multihits. Important for light curves\n",
    "    tus_keep_multihit = np.array(mat['tus_keep_multihit_fulltrigger'])[:,0] # relative time in microseconds\n",
    "    erg_keep_multihit = np.array(mat['erg_keep_multihit_fulltrigger'])[0,:] # energy channel (unreliable for multi hits)\n",
    "    multihit_indx = np.array(mat['multihit_fulltrigger'])[0,:] # multihit index. How many multihits in count. (0=1 count, 1=2 counts, 2=3 counts...)\n",
    "    \n",
    "    # The multihits are removed as they don't have a reliable energy estimate\n",
    "    erg = np.array(mat['erg_fulltrigger'])[0,:] # energy channel of CZT pixel\n",
    "    tus = np.array(mat['tus_fulltrigger'])[:,0] # relative time in microseconds\n",
    "    energy_keV = np.array(mat['pixel_energy_fulltrigger']).flatten() # energy in keV of CZT pixel\n",
    "    date = mat['T_ref_char'][0] #raw datetime\n",
    "    \n",
    "    #Logic that checks for array lengths\n",
    "    try:\n",
    "        length = len(tus_keep_multihit)\n",
    "        if any(len(lst) != length for lst in [erg_keep_multihit, multihit_indx]):\n",
    "        # at least one list has a different length\n",
    "            raise ValueError(\"Arrays have different lengths\")\n",
    "            \n",
    "        t_temp = []\n",
    "        erg_temp = []\n",
    "        \n",
    "        for index, i in enumerate(multihit_indx):\n",
    "            for j in np.arange(0,i+1): #adding i+1 times the tus_count\n",
    "                t_temp.append(tus_keep_multihit[index])\n",
    "                erg_temp.append(erg_keep_multihit[index])\n",
    "         \n",
    "        tus_keep_multihit_ntimes =  np.array(t_temp) #array of tus. Multihit index decides how many times the tus is appended\n",
    "        erg_keep_multihit_ntimes = np.array(erg_temp) #array of erg. Multihit index decides how many times the erg is appended\n",
    "        \n",
    "        return tus, erg, energy_keV, tus_keep_multihit_ntimes, erg_keep_multihit_ntimes, multihit_indx, date \n",
    "    \n",
    "    except ValueError as ve:\n",
    "        print(\"Function aborted because of: \" + str(ve))\n",
    "        print(\"Length of arrays: \")\n",
    "        for lst in [tus_keep_multihit, erg_keep_multihit, multihit_indx]:\n",
    "            print(len(lst))"
   ]
  },
  {
   "cell_type": "markdown",
   "id": "bd369c6b-2da5-4d03-a62e-be0e13a46992",
   "metadata": {},
   "source": [
    "## BGO function"
   ]
  },
  {
   "cell_type": "code",
   "execution_count": 6,
   "id": "fb08e8d7-010a-4584-a4d4-be3b3cb38e2a",
   "metadata": {},
   "outputs": [],
   "source": [
    "def read_matlab_file_with_BGO_data(matlabfilename):\n",
    "    '''Read matlab file with ASIM BGO data from the high energy detector (HED)\n",
    "\n",
    "    tus: relative times in microseconds.\n",
    "    erg: energy channel (needs to be calibrated to keV using calibration coeff from https://git.app.uib.no/ASIM-MXGS/IN-FLIGHT_CALIBRATION_BGO/-/tree/master/CALIBRATION_COEFS )\n",
    "    typ: normal (0), fast(1), valley (3), or overflow event (2 or 4 not )\n",
    "    adr: BGO address 1-12\n",
    "    dau: dau address 1-4\n",
    "    det: detector address 1-3\n",
    "    DetCol: RGB color\n",
    "    \n",
    "    - Kepping only normal (0) and fast (1) events\n",
    "    '''\n",
    "    matlabfile_TGF = path_HED + '%s.mat' % matlabfilename\n",
    "    \n",
    "    mat = scipy.io.loadmat(matlabfile_TGF)\n",
    "    \n",
    "    tus = mat['tus'].flatten()\n",
    "    erg = mat['erg'].flatten()\n",
    "    DetCol = mat['DetCol'] # Investigate this matrix\n",
    "    adr = mat['adr'].flatten()\n",
    "    dau = mat['dau'].flatten()\n",
    "    det = mat['det'].flatten()\n",
    "    typ = mat['typ'].flatten()\n",
    "    \n",
    "    date = mat['date'][0] #raw datetime\n",
    "    \n",
    "    \n",
    "    try:\n",
    "        length = len(tus)\n",
    "        if any(len(lst) != length for lst in [erg, typ, adr, dau, det]):\n",
    "        # at least one list has a different length\n",
    "            raise ValueError(\"Arrays have different lengths\")\n",
    "            \n",
    "        mask = np.where((typ != 0) & (typ != 1)) #finding indecies of vallays and overflow events\n",
    "        \n",
    "        # removing those indecies\n",
    "        tus = np.delete(tus,mask)\n",
    "        erg = np.delete(erg,mask)\n",
    "        adr = np.delete(adr,mask)\n",
    "        dau = np.delete(dau,mask)\n",
    "        det = np.delete(det,mask)\n",
    "        typ = np.delete(typ,mask)\n",
    "        \n",
    "        \n",
    "        return tus, erg, typ, adr, dau, det, DetCol, date\n",
    "    \n",
    "    except ValueError as ve:\n",
    "        print(\"Function aborted because of: \" + str(ve))\n",
    "        print(\"Length of arrays: \")\n",
    "        for lst in [tus,erg, typ, adr, dau, det]:\n",
    "            print(len(lst))"
   ]
  },
  {
   "cell_type": "markdown",
   "id": "9cca534c",
   "metadata": {},
   "source": [
    "# Plotting functions"
   ]
  },
  {
   "cell_type": "markdown",
   "id": "d59076a5-5400-402b-a613-cbfabd52478d",
   "metadata": {},
   "source": [
    "## LED"
   ]
  },
  {
   "cell_type": "code",
   "execution_count": 7,
   "id": "2e962c5f",
   "metadata": {},
   "outputs": [],
   "source": [
    "def plot_LED(LED_filename, binsize=10,start_range =0, end_range=0):\n",
    "    tus_LED, erg_LED, energy_keV_LED, tus_keep_multihit_LED, erg_keep_multihit_LED, multihit_indx_LED, date = read_matlab_file_with_CZT_data(\n",
    "    LED_filename)\n",
    "\n",
    "    binsize = binsize*1e3 #converting to microseconds\n",
    "    start_range = start_range*1e3 #converting to microseconds\n",
    "    end_range = end_range*1e3\n",
    "    \n",
    "    fig0, ax1 = plt.subplots(\n",
    "        1, 1, figsize=(12, 8), sharex=True, sharey=False)\n",
    "    \n",
    "    ax1.hist(tus_keep_multihit_LED, bins=np.arange(\n",
    "        min(tus_keep_multihit_LED), max(tus_keep_multihit_LED) + binsize, binsize),edgecolor= \"black\", histtype=\"step\")\n",
    "    ax1.set_xlabel(\"time [us], binsize {} ms\".format((binsize / 1e3)))\n",
    "    ax1.set_ylabel(\"Counts per bin\")\n",
    "    ax1.set_title(\"GRB \" + date)\n",
    "    \n",
    "    if start_range and end_range != 0:\n",
    "        mean = get_mean(LED_filename,binsize,tus_LED, start_range, end_range)\n",
    "        ax1.axhline(y=mean, color=\"red\", label=\"Mean of bg: {} counts/bin \\n First range [{} - {}] s \\n 2nd: [{} - {}] s\".format(\n",
    "            np.round(mean,2), np.round(min(tus_LED)/1e6,3),start_range/1e6, end_range/1e6, np.round(max(tus_LED)/1e6,3)),linestyle='--')\n",
    "                                                                                                                              \n",
    "                                                                                                                          \n",
    "        ax1.legend()\n",
    "        plt.show()\n",
    "    else:\n",
    "        plt.show()\n",
    "        \n",
    "    #plt.savefig(output_dir + \"/{}_LED\".format(grb_id))\n",
    "\n",
    "    "
   ]
  },
  {
   "cell_type": "markdown",
   "id": "9289b557-a7da-4688-964f-c160ac71e748",
   "metadata": {},
   "source": [
    "## HED"
   ]
  },
  {
   "cell_type": "code",
   "execution_count": 154,
   "id": "077a70d2-f53e-4e33-b1e1-5cb91d8b75a6",
   "metadata": {},
   "outputs": [],
   "source": [
    "def plot_HED(HED_filename=None, binsize=10, start_GRB=0, end_GRB=0, fig=(12,8),tus_arr = None, T0=None):\n",
    "    \n",
    "    \"\"\"Plotting data from HED. If HED_filename is not specified, but tus_arr is: plotting the tus array without reading matlab file\n",
    "        If start and end value for the GRB is not given, the data is plotted normally,\n",
    "        - BINSIZE IS INITIALIZED AS MILLISECONDS\n",
    "        - start_GRB & end_GRB IS INITIALIZED AS MILLISECONDS 0.5 s = 500 ms\n",
    "        - tus_HED is given in microseconds\n",
    "    \"\"\"\n",
    "    \n",
    "    binsize = binsize*1e3 #converting to microseconds\\n\",\n",
    "    \n",
    "    start_GRB = start_GRB*1e3 #converting to microseconds\\n\",\n",
    "    end_GRB = end_GRB*1e3,\n",
    "    \n",
    "    #Creating switch for input\n",
    "    \n",
    "    if HED_filename != None and tus_arr == None:\n",
    "        tus_HED, erg_HED, typ_HED, adr_HED, dau_HED, det_HED, DetCol_HED, date = read_matlab_file_with_BGO_data(HED_filename)\n",
    "        T0 = datetime.strptime(date, \"%Y-%b-%d %H:%M:%S.%f\")\n",
    "        date = datetime.strftime(T0,format='%y%m%d') #Correct format for title of plot: GRBYYMMDD\n",
    "        grb_id = \"GRB\" + date\n",
    "        \n",
    "    elif HED_filename == None and type(tus_arr) == np.ndarray and type(T0) == datetime:\n",
    "        tus_HED = tus_arr\n",
    "        date = datetime.strftime(T0,format='%y%m%d') #Correct format for title of plot: YYMMDD\n",
    "        grb_id = \"GRB\" + date\n",
    "        \n",
    "    else:\n",
    "        return \"T0 must be specified when initiating tus_arr\"\n",
    "    \n",
    "    fig0, ax1 = plt.subplots(\n",
    "        1, 1, figsize=fig, sharex=True, sharey=False)\n",
    "    ax1.hist(tus_HED, bins=np.arange(\n",
    "        min(tus_HED), max(tus_HED) + binsize, binsize),edgecolor= \"black\", histtype=\"step\")\n",
    "    \n",
    "    ax1.set_xlabel(\"time [us], binsize {} ms\".format((binsize / 1e3)))\n",
    "    ax1.set_ylabel(\"Counts per bin\"),\n",
    "    ax1.set_title(grb_id) \n",
    "\n",
    "\n",
    "    if start_GRB and end_GRB != 0:\n",
    "        mean = get_mean(HED_filename,binsize,tus_HED, start_GRB, end_GRB)\n",
    "        ax1.axhline(y=mean, color=\"red\", label= \"Mean of bg: {} counts/bin \\n First range [{} - {}] s \\n 2nd: [{} - {}] s\".format(\n",
    "            np.round(mean,2), np.round(min(tus_HED)/1e6,3),start_GRB/1e6, end_GRB/1e6, np.round(max(tus_HED)/1e6,3)),linestyle='--'),\n",
    "        ax1.legend()\n",
    "        plt.show(),\n",
    "    else:\n",
    "        plt.show()"
   ]
  },
  {
   "cell_type": "markdown",
   "id": "2e92a07e-f1bd-41c2-8af2-928524543b15",
   "metadata": {},
   "source": [
    "## mean"
   ]
  },
  {
   "cell_type": "code",
   "execution_count": 9,
   "id": "e7e11e87-56c1-45b4-a914-868cade107c3",
   "metadata": {},
   "outputs": [],
   "source": [
    "# Rename start_GRB to start_range. Same for end_GRB\n",
    "def get_mean(matlab_filename, binsize, tus, start_GRB, end_GRB):\n",
    "    \n",
    "    \"\"\"Function for getting the mean from the background.\n",
    "    matlab_filename: <str> filename\n",
    "    binsize: <int> given in us // 5ms = 5000 us \n",
    "    start & end_GRB given in us.\n",
    "    -Finding ranges to compute the mean in each bin. \"\"\"\n",
    "    \n",
    "    tus = np.sort(tus)\n",
    "    range_1 =  find_closest(tus,start_GRB)\n",
    "    range_2 = find_closest(tus,end_GRB)\n",
    "    \n",
    "    range_1_counts = np.histogram(tus[:range_1], bins=np.arange(\n",
    "        min(tus[:range_1]), max(tus[:range_1]) + binsize, binsize))[0]\n",
    "    \n",
    "    range_2_counts = np.histogram(tus[range_2:], bins=np.arange(\n",
    "        min(tus[range_2:]), max(tus[range_2:]) + binsize, binsize))[0]\n",
    "    \n",
    "    background_data = np.append(range_1_counts,range_2_counts)\n",
    "    mean = np.mean(background_data)\n",
    "    return mean"
   ]
  },
  {
   "cell_type": "code",
   "execution_count": 10,
   "id": "38400522-f307-4604-8411-5ba2f5dabc66",
   "metadata": {},
   "outputs": [],
   "source": [
    "def find_nearest(array, value):\n",
    "    \"\"\"Returns nearest index for value in array.\n",
    "    \"\"\"\n",
    "    array = np.asarray(array)\n",
    "    return (np.abs(array - value)).argmin()"
   ]
  },
  {
   "cell_type": "markdown",
   "id": "ce2e81b0-e327-4fc4-bda6-4d741cbc23c3",
   "metadata": {},
   "source": [
    "# Concatination of multiple files\n",
    "    -defining function concat_files"
   ]
  },
  {
   "cell_type": "code",
   "execution_count": 162,
   "id": "8ef1cc58-5ade-4e64-bcd9-914655ef1bcc",
   "metadata": {},
   "outputs": [],
   "source": [
    "def concat_GRB(grb_id, flag):\n",
    "    \"\"\" function concat_files concatenates multiple matlab files. Can only concat HED or LED files at the time\n",
    "    \n",
    "    Flag determines whether the input list is of HED or LED files\n",
    "    \n",
    "    --> If there is \"missing counts\" between the files. 0 counts is added for the respective missing time interval. Automatically when time-shifted (?)\n",
    "    \n",
    "    Routine description: \n",
    "    1) The different tus arrays have their own T0. Calculating the delta T between T0 and Tn (time for concatination)  \n",
    "    \n",
    "    \n",
    "    Parameters:\n",
    "    %---------------------------------------------------------------\n",
    "    \n",
    "    grb_id <string>  : key for dictionary containing list of matlab filenames\n",
    "    flag <string>    : \"HED\" or \"LED\". They have different arrays after calling read_matlab_file function. This flag handles that.\n",
    "    \n",
    "    \n",
    "    returns:\n",
    "    %---------------------------------------------------------------\n",
    "    \n",
    "    \n",
    "    output for HED:\n",
    "    %---------------------------------------------------------------\n",
    "    concat_tus_HED <array> : concat tus (relative times in microseconds) for all arrays\n",
    "    concat_erg_HED <array> : concat erg (energy channel (needs to be calibrated to keV using calibration coeff)) for all arrays\n",
    "    concat_typ_HED <array> : concat typ for all counts  (normal (0), fast(1), valley (3), or overflow event (2 or 4 not )) read function keeps only 0 & 1.\n",
    "    concat_adr_HED <array> : concat BGO address 1-12 for all arrays\n",
    "    concat_dau_HED <array> : concat dau address 1-4\n",
    "    concat_det_HED <array> : concat detector address 1-3\n",
    "    concat_DetCol_HED <array> : concat RGB color for all arrays\n",
    "    T0 <datetime> : datetime object of T0\n",
    "    \n",
    "    output for LED:\n",
    "    %----------------------------------------------------------------\n",
    "    \n",
    "    \n",
    "    \"\"\"\n",
    "    #Handling input is in the right format\n",
    "    try:\n",
    "        if type(flag) and type(grb_id) != str:\n",
    "            raise TypeError(\"grb_id and/or flag input is not string\")\n",
    "        if flag != \"HED\" and flag != \"LED\":\n",
    "            raise NameError(\"flag-string is neither HED or LED\")\n",
    "        if flag == \"HED\":\n",
    "            if grb_id not in trig_dict_HED.keys():\n",
    "                raise KeyError(\"GRB ID not in trig_dict_HED\")\n",
    "        if flag == \"LED\":\n",
    "            if grb_id not in trig_dict_LED.keys():\n",
    "                raise KeyError(\"GRB ID not in trig_dict_LED\")\n",
    "        else:\n",
    "            if flag == \"HED\":\n",
    "                HED_files = trig_dict_HED[grb_id] #list of HED filenames\n",
    "                if all(HED_files[i] <= HED_files[i+1] for i in range(len(HED_files) - 1)) == False: #logic for checking that the files are in increasing order\n",
    "                    raise IndexError(\"List is not sorted in increasing order\")\n",
    "            if flag == \"LED\":\n",
    "                LED_files = trig_dict_LED[grb_id] #list of LED filenames in list\n",
    "                if all(LED_files[i] <= LED_files[i+1] for i in range(len(LED_files) - 1)) == False: #logic for checking that the files are in increasing order\n",
    "                    raise IndexError(\"List is not sorted in increasing order\")\n",
    "                    \n",
    "                    \n",
    "    except (TypeError, NameError, KeyError) as e:\n",
    "        return print(e) #routine quits if error is found\n",
    "    \n",
    "    except IndexError:\n",
    "        if flag == \"HED\":\n",
    "            HED_files.sort() #sorting filenames in increasing order. Should already be done in dict creation, but good to check\n",
    "        else:\n",
    "            LED_files.sort() #sorting filenames in increasing order. Should already be done in dict creation, but good to check\n",
    "            \n",
    "            \n",
    "    try: \n",
    "        data = [] #list that stores dictionary for each file\n",
    "        if flag == \"HED\":\n",
    "            \n",
    "            num_files = len(HED_files)\n",
    "            \n",
    "            for filename in HED_files:\n",
    "                \n",
    "                tus, erg, typ, adr, dau, det, DetCol, date = read_matlab_file_with_BGO_data(filename)\n",
    "                if len(date) != 27:\n",
    "                    raise ValueError(\"length of datetime string is not in correct format\")\n",
    "                \n",
    "                tus, erg, typ, adr, dau = zip(*sorted(zip(tus, erg, typ, adr, dau))) # sorting arrays in increasing order. Making sure that the are coherent\n",
    "                \n",
    "                tus, erg, typ, adr, dau = np.asarray(tus), np.asarray(erg), np.asarray(typ), np.asarray(adr), np.asarray(dau) #Converting back to np.array\n",
    "                \n",
    "                file_dict = {\"tus\":tus, \"erg\":erg, \"typ\":typ, \"adr\":adr, \"dau\":dau, \"DetCol\":DetCol, \"date\":date}\n",
    "                data.append(file_dict)\n",
    "            \n",
    "            T0 = datetime.strptime(data[0][\"date\"], \"%Y-%b-%d %H:%M:%S.%f\") #T0 of first file. Will be T0 for concat tus array\n",
    "\n",
    "            \n",
    "            # Adding the timeshift to all tus from T0\n",
    "            for i in np.arange(1,num_files):\n",
    "                deltaT = datetime.strptime(data[i][\"date\"], \"%Y-%b-%d %H:%M:%S.%f\") - T0\n",
    "                data[i][\"tus\"] = data[i][\"tus\"] + float(deltaT.total_seconds())*1e6 #adding total microseconds to all entries\n",
    "            \n",
    "            \n",
    "            #tus, erg, typ, adr, dau, det\n",
    "            i = 0\n",
    "            while i < num_files -1: #Need num_files-1 stitching indecies\n",
    "                idx = find_stitch_idx(tus1=data[i][\"tus\"], tus2=data[i+1][\"tus\"], erg1=data[i][\"erg\"] , erg2=data[i+1][\"erg\"]) #index for stitching\n",
    "                \n",
    "                data[i][\"tus\"] = data[i][\"tus\"][:idx] #cutting arrays at idx\n",
    "                data[i][\"erg\"] = data[i][\"erg\"][:idx] \n",
    "                data[i][\"typ\"] = data[i][\"typ\"][:idx]\n",
    "                data[i][\"dau\"] = data[i][\"dau\"][:idx]\n",
    "                \n",
    "                i += 1\n",
    "                  \n",
    "            \n",
    "            concat_tus_HED = np.concatenate([data[i][\"tus\"] for i in range(0,num_files)]) #Just concatinating tus arrays \n",
    "            concat_erg_HED = np.concatenate([data[i][\"erg\"] for i in range(0,num_files)])\n",
    "            concat_typ_HED = np.concatenate([data[i][\"typ\"] for i in range(0,num_files)])\n",
    "            concat_dau_HED = np.concatenate([data[i][\"dau\"] for i in range(0,num_files)])\n",
    "            \n",
    "            return concat_tus_HED, concat_erg_HED,concat_typ_HED, concat_dau_HED, DetCol, T0\n",
    "        \n",
    "        #LED concatination\n",
    "        else: \n",
    "            \n",
    "            for filename in LED_files:\n",
    "                \n",
    "                tus, erg, energy_keV, tus_keep_multihit, erg_keep_multihit, multihit_indx, date = read_matlab_file_with_CZT_data(filename)\n",
    "                if len(date) != 27:\n",
    "                    raise IndexError(\"length of datetime string is not in correct format of length 27\")\n",
    "                \n",
    "                file_dict = {\"tus\":tus, \"tus_keep_multihit\": tus_keep_multihit, \"erg\":erg, \"erg_keep_multihit\": erg_keep_multihit, \n",
    "                             \"energy_keV\": energy_keV, \"multihit_indx\": multihit_indx, \"date\":date} #orginizing variables in dictionary\n",
    "                \n",
    "                data.append(file_dict) #dict containing variables stored in list. The index of the list determines which file. Allways in increasing order\n",
    "            \n",
    "            \n",
    "    except (ValueError) as e:\n",
    "        return print(e)\n",
    "    \n",
    "    except (IndexError):\n",
    "        idx = find_stitch_idx(tus1=data[i][\"tus\"], tus2=data[i][\"tus\"], erg1=data[0][\"erg\"] , erg2=ata[1][\"erg\"])\n",
    "    \n",
    "    print(\"no errors found\")\n"
   ]
  },
  {
   "cell_type": "markdown",
   "id": "cdc0a5e5-ef3f-4963-a05d-338b5fca1c91",
   "metadata": {},
   "source": [
    "## Testing concat"
   ]
  },
  {
   "cell_type": "code",
   "execution_count": 148,
   "id": "cb4b7d59-9c0b-4ab8-bf90-37fc0bdb5615",
   "metadata": {},
   "outputs": [],
   "source": [
    "concat_tus_HED, concat_erg_HED,concat_typ_HED, concat_dau_HED, DetCol, T0 = concat_GRB(\"GRB190825\",\"HED\")\n",
    "#Frist step is to find the nearest index for tus1\n",
    "#Next step is to check if the erg1 and erg2 match\n",
    "#If not check a region around erg1 matches the first 100 erg2 values. Store the first 100 erg values in list. use np.all() for checking that all equal."
   ]
  },
  {
   "cell_type": "code",
   "execution_count": 160,
   "id": "dac31083-adac-44f0-b642-589e1d343185",
   "metadata": {},
   "outputs": [],
   "source": []
  },
  {
   "cell_type": "code",
   "execution_count": 161,
   "id": "baebbe25-063a-46de-ab20-d8832b19e56e",
   "metadata": {},
   "outputs": [
    {
     "data": {
      "application/vnd.jupyter.widget-view+json": {
       "model_id": "b810c054e12c4d19aa61c15a021e0f44",
       "version_major": 2,
       "version_minor": 0
      },
      "image/png": "[encoded data removed]",
      "text/html": [
       "\n",
       "            <div style=\"display: inline-block;\">\n",
       "                <div class=\"jupyter-widgets widget-label\" style=\"text-align: center;\">\n",
       "                    Figure\n",
       "                </div>\n",
       "                <img src='data:image/png;base64,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' width=1200.0/>\n",
       "            </div>\n",
       "        "
      ],
      "text/plain": [
       "Canvas(toolbar=Toolbar(toolitems=[('Home', 'Reset original view', 'home', 'home'), ('Back', 'Back to previous …"
      ]
     },
     "metadata": {},
     "output_type": "display_data"
    }
   ],
   "source": [
    "plot_HED(tus_arr=concat_tus_HED,T0=T0,binsize=32)\n"
   ]
  },
  {
   "cell_type": "code",
   "execution_count": 87,
   "id": "d453a3f2-7824-483c-9b1c-245ab9980293",
   "metadata": {},
   "outputs": [],
   "source": [
    "tus1, erg1, typ1, adr1, dau1, det1, DetCol1, date1 = read_matlab_file_with_BGO_data(\"2019_08_25_21_04_53\")\n",
    "tus1, erg1, typ1, adr1, dau1, det1 = zip(*sorted(zip(tus1, erg1, typ1, adr1, dau1, det1))) #Sorted and coherent arrays\n",
    "\n",
    "tus1 = np.asarray(tus1)\n",
    "erg1 = np.asarray(erg1)\n",
    "adr1 = np.asarray(adr1)\n",
    "dau1 = np.asarray(dau1)\n",
    "det1 = np.asarray(det1)\n",
    "\n",
    "tus2, erg2, typ2, adr2, dau2, det2, DetCol2, date2  = read_matlab_file_with_BGO_data(\"2019_08_25_21_04_55\")\n",
    "tus2, erg2, typ2, adr2, dau2, det2  = zip(*sorted(zip(tus2, erg2, typ2, adr2, dau2, det2))) #Sorted and coherent arrays\n",
    "\n",
    "tus2 = np.asarray(tus2)\n",
    "erg2 = np.asarray(erg2)\n",
    "adr2 = np.asarray(adr2)\n",
    "dau2 = np.asarray(dau2)\n",
    "det = np.asarray(det2)\n",
    "\n",
    "T0 = datetime.strptime(date1, \"%Y-%b-%d %H:%M:%S.%f\")\n",
    "T1 = datetime.strptime(date2, \"%Y-%b-%d %H:%M:%S.%f\")\n",
    "deltaT = T1 - T0\n",
    "\n",
    "tus2_shift = tus2 + deltaT.total_seconds()*1e6\n"
   ]
  },
  {
   "cell_type": "code",
   "execution_count": 140,
   "id": "8474a613-09c9-4f68-b87e-c0304042b816",
   "metadata": {},
   "outputs": [
    {
     "data": {
      "text/plain": [
       "13148"
      ]
     },
     "execution_count": 140,
     "metadata": {},
     "output_type": "execute_result"
    }
   ],
   "source": [
    "idx = find_stitch_idx(tus1=data[0][\"tus\"],tus2=data[1][\"tus\"],erg1=data[0][\"erg\"],erg2=data[1][\"erg\"])\n",
    "idx"
   ]
  },
  {
   "cell_type": "code",
   "execution_count": 126,
   "id": "dca678c9-d7fb-4c90-9ae5-5922c1816406",
   "metadata": {},
   "outputs": [
    {
     "data": {
      "text/plain": [
       "12"
      ]
     },
     "execution_count": 126,
     "metadata": {},
     "output_type": "execute_result"
    }
   ],
   "source": [
    "len(data[1][\"tus\"])"
   ]
  },
  {
   "cell_type": "code",
   "execution_count": 85,
   "id": "a5b3305f-db60-4965-8f2e-fc048f49c9ec",
   "metadata": {},
   "outputs": [],
   "source": [
    "def find_stitch_idx(tus1=None,tus2=None,erg1=None,erg2=None):\n",
    "    idx = find_nearest(tus1,tus2_shift[0])\n",
    "    if erg1[idx] != erg2[0]:\n",
    "        \n",
    "        idx_nearest_erg = find_nearest(erg1[idx:],erg2[0])\n",
    "        stitch_idx = idx_nearest_erg+idx\n",
    "        \n",
    "        if np.all(erg1[stitch_idx:] == erg2[0:len(erg1[stitch_idx:])]): #Checking if the energies lines up\n",
    "            return stitch_idx\n",
    "        else:\n",
    "            print(\"Could not find a suitible index for stitching files\")\n",
    "    else:\n",
    "        #found correct stich index\n",
    "        return idx"
   ]
  },
  {
   "cell_type": "markdown",
   "id": "56edf6eb",
   "metadata": {},
   "source": [
    "# main function"
   ]
  },
  {
   "cell_type": "code",
   "execution_count": null,
   "id": "framed-privilege",
   "metadata": {},
   "outputs": [],
   "source": [
    "def main(grb_id,binsize=10000, start_GRB, end_GRB):  # filename GRB ID\n",
    "    # output array for tus_keep_multihit_LED, erg_keep_multihit_LED, multihit_indx_LED må modifiseres\n",
    "    # Automake by making filename a list of filenames. Then the all the outout plots will be created\n",
    "\n",
    "    # TODO:\n",
    "    # Add the extra parameters to make the get_mean work\n",
    "#os.mkdir(\"/Users/andreas/phys/master/MATLAB/pyplots\")\n",
    "    trig_dict = create_triggers_dict()\n",
    "    try:\n",
    "        output_dir = os.mkdir(\"/Home/siv30/wad005/master/GRB/MATLAB/pyplots/{}\".format(grb_id)) #Creating owd folder for grb_id\n",
    "    except FileExistsError:\n",
    "        output_dir = \"/Home/siv30/wad005//master/GRB/MATLAB/pyplots/{}\".format(grb_id) #selecting path if it already exists\n",
    "\n",
    "\n",
    "    if type(grb_id) != str:\n",
    "        raise TypeError(\"Input is not string\")\n",
    "    elif grb_id not in trig_dict:\n",
    "        raise LookupError(\"grb_id not in dictionary\")\n",
    "    else:\n",
    "        try:\n",
    "            LED_filename = trig_dict[grb_id][0]\n",
    "            HED_filename = trig_dict[grb_id][1]\n",
    "            if type(LED_filename) == float and math.isnan(LED_filename):\n",
    "                print(\"LED file not found. Plotting only HED\")\n",
    "                plot_HED(HED_filename,output_dir,grb_id) #output path is not required\n",
    "                \n",
    "            elif type(HED_filename) == float and math.isnan(HED_filename):\n",
    "                print(\"HED file not found. Plotting only LED\")\n",
    "                plot_LED(LED_filename,output_dir,grb_id)\n",
    "            else:\n",
    "                plot_LED(LED_filename,output_dir,grb_id)\n",
    "                plot_HED(HED_filename,output_dir,grb_id)\n",
    "        except:\n",
    "            print(\"Something went wrong\")\n",
    "    \n",
    "    "
   ]
  },
  {
   "cell_type": "code",
   "execution_count": null,
   "id": "ec421626-8a35-4787-a041-986632c5a670",
   "metadata": {},
   "outputs": [],
   "source": []
  },
  {
   "cell_type": "markdown",
   "id": "5b3a1ad6-2ffd-44b5-9933-8e57e05fb32b",
   "metadata": {},
   "source": [
    "# Graveyards"
   ]
  },
  {
   "cell_type": "code",
   "execution_count": null,
   "id": "579e6a7c-1ff3-486e-a455-6a20a905e30b",
   "metadata": {},
   "outputs": [],
   "source": [
    "# Not in use\n",
    "def get_filenames(path):\n",
    "    return sorted((f for f in os.listdir(path) if not f.startswith(\".\")), key=str.lower)"
   ]
  },
  {
   "cell_type": "code",
   "execution_count": null,
   "id": "31e55517-b7c0-464a-89b5-b9666d375cca",
   "metadata": {},
   "outputs": [],
   "source": [
    "#Old plot_HED function\n",
    "\"\"\"\n",
    "def plot_HED(HED_filename, output_dir,grb_id):\n",
    "    tus_HED, erg_HED, typ_HED, adr_HED, dau_HED, det_HED, DetCol_HED = read_matlab_file_with_BGO_data(HED_filename)\n",
    "\n",
    "    fig0, (ax0, ax1) = plt.subplots(\n",
    "        2, 1, figsize=(8, 8), sharex=True, sharey=False)\n",
    "    ax0.set_title(\"HED\")\n",
    "\n",
    "    ax0.scatter(tus_HED, erg_HED)\n",
    "    ax0.set_xlabel(\"time [us]\")\n",
    "    ax0.set_ylabel(\"Energy channel\")\n",
    "\n",
    "    binsize = 10000  # us --> 10 ms bin\n",
    "    ax1.hist(tus_HED, bins=np.arange(\n",
    "        min(tus_HED), max(tus_HED)+binsize, binsize))\n",
    "    ax1.set_xlabel(\"time [us]\")\n",
    "    ax1.set_ylabel(\"Counts per bin\")\n",
    "    \n",
    "    output_dir_hed = output_dir + \"/{}_HED\".format(grb_id)\n",
    "    print(output_dir_hed)\n",
    "    plt.savefig(output_dir + \"/{}_HED\".format(grb_id)) #path where plot is saved\n",
    "\"\"\""
   ]
  }
 ],
 "metadata": {
  "kernelspec": {
   "display_name": "Python 3 (ipykernel)",
   "language": "python",
   "name": "python3"
  },
  "language_info": {
   "codemirror_mode": {
    "name": "ipython",
    "version": 3
   },
   "file_extension": ".py",
   "mimetype": "text/x-python",
   "name": "python",
   "nbconvert_exporter": "python",
   "pygments_lexer": "ipython3",
   "version": "3.9.10"
  },
  "toc": {
   "base_numbering": 1,
   "nav_menu": {},
   "number_sections": true,
   "sideBar": true,
   "skip_h1_title": false,
   "title_cell": "Table of Contents",
   "title_sidebar": "Contents",
   "toc_cell": false,
   "toc_position": {},
   "toc_section_display": true,
   "toc_window_display": false
  },
  "varInspector": {
   "cols": {
    "lenName": 16,
    "lenType": 16,
    "lenVar": 40
   },
   "kernels_config": {
    "python": {
     "delete_cmd_postfix": "",
     "delete_cmd_prefix": "del ",
     "library": "var_list.py",
     "varRefreshCmd": "print(var_dic_list())"
    },
    "r": {
     "delete_cmd_postfix": ") ",
     "delete_cmd_prefix": "rm(",
     "library": "var_list.r",
     "varRefreshCmd": "cat(var_dic_list()) "
    }
   },
   "types_to_exclude": [
    "module",
    "function",
    "builtin_function_or_method",
    "instance",
    "_Feature"
   ],
   "window_display": false
  }
 },
 "nbformat": 4,
 "nbformat_minor": 5
}
