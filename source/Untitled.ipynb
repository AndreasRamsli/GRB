{
 "cells": [
  {
   "cell_type": "code",
   "execution_count": 1,
   "id": "0482278f-af89-4d04-8307-4aa06160b09a",
   "metadata": {},
   "outputs": [],
   "source": [
    "import os\n",
    "import numpy as np"
   ]
  },
  {
   "cell_type": "code",
   "execution_count": 60,
   "id": "f4b96838-c5ea-4f74-b47b-4d08bfc17dd5",
   "metadata": {},
   "outputs": [],
   "source": [
    "pdfs = []\n",
    "path = \"/Home/siv30/wad005/master/GRB/pyplots/test/\"\n",
    "for file in os.listdir(path):\n",
    "    pdfs.append(file)"
   ]
  },
  {
   "cell_type": "code",
   "execution_count": 61,
   "id": "318c38a5-74fc-433f-a772-14e8854414e4",
   "metadata": {},
   "outputs": [
    {
     "data": {
      "text/plain": [
       "['GRB 180720.pdf', 'GRB 180807.pdf', 'GRB 181103.pdf']"
      ]
     },
     "execution_count": 61,
     "metadata": {},
     "output_type": "execute_result"
    }
   ],
   "source": [
    "pdfs"
   ]
  },
  {
   "cell_type": "code",
   "execution_count": 62,
   "id": "c0d9b5c1-1f38-47db-bf8d-442c14dc0f3a",
   "metadata": {},
   "outputs": [],
   "source": [
    "path = \"/Home/siv30/wad005/master/GRB/pyplots/test/\"\n",
    "def crop_pdfs(path):\n",
    "    for f in pdfs:\n",
    "        print(f)\n",
    "        command = \"pdfcrop --margins \" + '\"1 1 1 1\"' + \" \" + '\"%s%s\"' % (path,f) + \" \" + '\"%s%s\"' % (path,f)\n",
    "        print(command)\n",
    "        os.system(command)\n",
    "        "
   ]
  },
  {
   "cell_type": "code",
   "execution_count": 63,
   "id": "f30a1296-e37a-48f3-a694-bccdf2f57116",
   "metadata": {},
   "outputs": [
    {
     "name": "stdout",
     "output_type": "stream",
     "text": [
      "GRB 180720.pdf\n",
      "pdfcrop --margins \"1 1 1 1\" \"/Home/siv30/wad005/master/GRB/pyplots/test/GRB 180720.pdf\" \"/Home/siv30/wad005/master/GRB/pyplots/test/GRB 180720.pdf\"\n",
      "PDFCROP 1.38, 2012/11/02 - Copyright (c) 2002-2012 by Heiko Oberdiek.\n",
      "==> 1 page written on `/Home/siv30/wad005/master/GRB/pyplots/test/GRB 180720.pdf'.\n",
      "GRB 180807.pdf\n",
      "pdfcrop --margins \"1 1 1 1\" \"/Home/siv30/wad005/master/GRB/pyplots/test/GRB 180807.pdf\" \"/Home/siv30/wad005/master/GRB/pyplots/test/GRB 180807.pdf\"\n",
      "PDFCROP 1.38, 2012/11/02 - Copyright (c) 2002-2012 by Heiko Oberdiek.\n",
      "==> 1 page written on `/Home/siv30/wad005/master/GRB/pyplots/test/GRB 180807.pdf'.\n",
      "GRB 181103.pdf\n",
      "pdfcrop --margins \"1 1 1 1\" \"/Home/siv30/wad005/master/GRB/pyplots/test/GRB 181103.pdf\" \"/Home/siv30/wad005/master/GRB/pyplots/test/GRB 181103.pdf\"\n",
      "PDFCROP 1.38, 2012/11/02 - Copyright (c) 2002-2012 by Heiko Oberdiek.\n",
      "==> 1 page written on `/Home/siv30/wad005/master/GRB/pyplots/test/GRB 181103.pdf'.\n"
     ]
    }
   ],
   "source": [
    "crop_pdfs(path)"
   ]
  },
  {
   "cell_type": "code",
   "execution_count": 51,
   "id": "11c7d194-3699-4cae-bbd3-ccb7b0b94bcb",
   "metadata": {},
   "outputs": [],
   "source": [
    "f = 'GRB 181103.pdf'\n",
    "command = \"pdfcrop --margins \" + '\"1 1 1 1\"' + ' \"%s%s\"' % (path,f) + \" \" + '\"%s%s\"' % (path,f)"
   ]
  },
  {
   "cell_type": "code",
   "execution_count": 52,
   "id": "17f26ecb-4fdc-45d9-bed4-5a710b9ddbbd",
   "metadata": {},
   "outputs": [
    {
     "name": "stdout",
     "output_type": "stream",
     "text": [
      "pdfcrop --margins \"1 1 1 1\" \"/Home/siv30/wad005/master/GRB/pyplots/testGRB 181103.pdf\" \"/Home/siv30/wad005/master/GRB/pyplots/testGRB 181103.pdf\"\n"
     ]
    }
   ],
   "source": [
    "print(command)"
   ]
  },
  {
   "cell_type": "code",
   "execution_count": null,
   "id": "6b6fec27-eafb-43c4-b3df-8d536f5645fd",
   "metadata": {},
   "outputs": [],
   "source": []
  },
  {
   "cell_type": "code",
   "execution_count": null,
   "id": "d8482d33-67ae-401b-ab33-55787d83e919",
   "metadata": {},
   "outputs": [],
   "source": []
  },
  {
   "cell_type": "code",
   "execution_count": null,
   "id": "b7fae05b-64ff-48f0-9854-49171cfa2b0c",
   "metadata": {},
   "outputs": [],
   "source": []
  }
 ],
 "metadata": {
  "kernelspec": {
   "display_name": "TF",
   "language": "python",
   "name": "tf"
  },
  "language_info": {
   "codemirror_mode": {
    "name": "ipython",
    "version": 3
   },
   "file_extension": ".py",
   "mimetype": "text/x-python",
   "name": "python",
   "nbconvert_exporter": "python",
   "pygments_lexer": "ipython3",
   "version": "3.8.10"
  }
 },
 "nbformat": 4,
 "nbformat_minor": 5
}
