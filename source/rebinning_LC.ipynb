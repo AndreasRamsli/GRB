{
 "cells": [
  {
   "cell_type": "code",
   "execution_count": 1,
   "id": "8b99d9bf-0bf5-4aa3-99d4-28ba8524e374",
   "metadata": {},
   "outputs": [
    {
     "name": "stdout",
     "output_type": "stream",
     "text": [
      "read_matlab_file.ipynb loaded\n",
      "read_matlab_file.ipynb loaded\n",
      "convert_erg.ipynb loaded\n",
      "read_matlab_file.ipynb loaded\n",
      "read_matlab_file.ipynb loaded\n",
      "convert_erg.ipynb loaded\n",
      "(14610, 9)\n",
      "(14610, 9)\n"
     ]
    },
    {
     "name": "stderr",
     "output_type": "stream",
     "text": [
      "/var/folders/q_/b8y8kqjd57q3wqvw3vyz1mrw0000gn/T/ipykernel_8666/1874462837.py:1: DeprecationWarning: elementwise comparison failed; this will raise an error in the future.\n",
      "  np.all(VD==f)\n"
     ]
    }
   ],
   "source": [
    "import numpy as np\n",
    "import matplotlib.pyplot as plt\n",
    "from datetime import datetime, timedelta\n",
    "import sys\n",
    "%run read_matlab_file.ipynb\n",
    "%run convert_erg.ipynb\n",
    "%run safety_time.ipynb\n",
    "#matplotlib.use('TkAgg')\n",
    "#sys.path.insert(0, '/Home/siv30/wad005/useful_py_functions') #UiB\n",
    "sys.path.insert(0, \"/Users/andreas/proggis/useful_py_func/\") #Mac\n",
    "import matplotlib_custom_style_and_macros as pltmacro #Importing the py file from dir \n",
    "#%run \"/Users/andreas/proggis/useful_py_func/matplotlib_custom_style_and_macros.py\" #excplicitly running the py file that sets the rcParams"
   ]
  },
  {
   "cell_type": "markdown",
   "id": "72562ed0-57c1-476f-8199-317134ac4190",
   "metadata": {},
   "source": [
    "# TODO\n",
    "\n",
    "    -Problem: importing the plot_HED function. Tried to return fig, ax objects, but they are not showing\n",
    "\n",
    "    -Problem: Fucked up the pltmacro. Might be caused by the \"TkAgg\" backend.\n",
    "    Solution: The pltmacro file is imported correctly but when one is generating plots from another notebook the rcParams in TkAgg backend kicks in.\n",
    "    \n",
    "    -When one is creating final plots, it should be done in the current notebook\n",
    "\n",
    "    -Rebin the data based on given energy interval, subtract background in the given energy interval.\n",
    "\n",
    "    -Implement in this script the previous functions that implement: absolute time correction, energy calibration, flagging of events\n",
    "\n",
    "    -Should have the dataset that have implemented the functions above\n",
    "    \n",
    "    \n",
    "    \n",
    "    \n",
    "    - Make a df that describes the data and how it have been processed GRB190206,HED, NOT LED, ENERGY intervall present, bg on interval\n",
    "    \n",
    "    -hist count, "
   ]
  },
  {
   "cell_type": "markdown",
   "id": "5125a7b0-72e6-4b61-8967-71ff031d7376",
   "metadata": {},
   "source": [
    "# Notes\n",
    "\n",
    "    - be careful of using is True or is not True. There are two types of booleans: np.bool_ or native python bool\n",
    "    USE: == or !=\n",
    "    \n",
    "    - a lot of energies are converted to keV = 351.4519739\n",
    "    \n",
    "    - Flagging all type 3 events or using the algorithm to find it? 116 vs 114\n",
    "    \n",
    "    -flagg all type 3 events manually?"
   ]
  },
  {
   "cell_type": "markdown",
   "id": "2ccd7f92-5b60-4e38-be60-d6b3dd8ab239",
   "metadata": {},
   "source": [
    "# complete df"
   ]
  },
  {
   "cell_type": "code",
   "execution_count": 2,
   "id": "df270f0b-73eb-4f49-9c53-defe21d5e507",
   "metadata": {},
   "outputs": [],
   "source": [
    "def complete_df(grb_id):\n",
    "    if len(trig_dict_HED[grb_id])>1:\n",
    "        return print(\"long grb, handle later\")\n",
    "    else:\n",
    "        tus, erg, typ, adr, dau, det, T0 = read_matlab_file_with_BGO_data(trig_dict_HED[grb_id][0])\n",
    "        keV,cal_abc = convert_erg(erg, dau, det, T0)\n",
    "        print(\"erg converted to keV\")\n",
    "        df = create_df(tus,erg,typ,adr,dau,det,keV,cal_abc)\n",
    "        df = df.sort_values(by=['adr','tus']) #important to sort first by the adr then tus --> Handling the triggers in each detector seperate\n",
    "        print(\"df sorted by adr and tus\")\n",
    "        #Creating columns for st, dt and flag\n",
    "        st_list = get_st(df)\n",
    "        df[\"st\"] = st_list\n",
    "        \n",
    "        dt_list = get_dt(df)\n",
    "        df[\"dt\"] = dt_list\n",
    "        \n",
    "        flag = get_flag(df) #should also flag fast events!\n",
    "        df[\"flag\"] = flag\n",
    "        \n",
    "        print(\"safety time events flagged. \" + \"Found \" + str(sum(df[\"flag\"].to_numpy())) + \" flags\")\n",
    "        return df,T0"
   ]
  },
  {
   "cell_type": "code",
   "execution_count": 3,
   "id": "16994c1b-baaf-4921-a5e6-3ecfda70a791",
   "metadata": {},
   "outputs": [
    {
     "name": "stdout",
     "output_type": "stream",
     "text": [
      "Absolute time correction subtracted from tus array and T0\n",
      "erg converted to keV\n",
      "df sorted by adr and tus\n",
      "safety time events flagged. Found 474 flags\n",
      "(24774, 11)\n"
     ]
    },
    {
     "data": {
      "text/html": [
       "<div>\n",
       "<style scoped>\n",
       "    .dataframe tbody tr th:only-of-type {\n",
       "        vertical-align: middle;\n",
       "    }\n",
       "\n",
       "    .dataframe tbody tr th {\n",
       "        vertical-align: top;\n",
       "    }\n",
       "\n",
       "    .dataframe thead th {\n",
       "        text-align: right;\n",
       "    }\n",
       "</style>\n",
       "<table border=\"1\" class=\"dataframe\">\n",
       "  <thead>\n",
       "    <tr style=\"text-align: right;\">\n",
       "      <th></th>\n",
       "      <th>tus</th>\n",
       "      <th>erg</th>\n",
       "      <th>typ</th>\n",
       "      <th>adr</th>\n",
       "      <th>dau</th>\n",
       "      <th>det</th>\n",
       "      <th>keV</th>\n",
       "      <th>cal_abc</th>\n",
       "      <th>st</th>\n",
       "      <th>dt</th>\n",
       "      <th>flag</th>\n",
       "    </tr>\n",
       "  </thead>\n",
       "  <tbody>\n",
       "    <tr>\n",
       "      <th>16</th>\n",
       "      <td>-491943.976667</td>\n",
       "      <td>299</td>\n",
       "      <td>0</td>\n",
       "      <td>1</td>\n",
       "      <td>1</td>\n",
       "      <td>1</td>\n",
       "      <td>2998.481096</td>\n",
       "      <td>0.004946, 8.3696, 53.79335</td>\n",
       "      <td>12.993924</td>\n",
       "      <td>NaN</td>\n",
       "      <td>False</td>\n",
       "    </tr>\n",
       "    <tr>\n",
       "      <th>17</th>\n",
       "      <td>-491803.948889</td>\n",
       "      <td>1815</td>\n",
       "      <td>0</td>\n",
       "      <td>1</td>\n",
       "      <td>1</td>\n",
       "      <td>1</td>\n",
       "      <td>31537.854200</td>\n",
       "      <td>0.004946, 8.3696, 53.79335</td>\n",
       "      <td>25.615142</td>\n",
       "      <td>140.027778</td>\n",
       "      <td>False</td>\n",
       "    </tr>\n",
       "    <tr>\n",
       "      <th>19</th>\n",
       "      <td>-491737.948889</td>\n",
       "      <td>260</td>\n",
       "      <td>0</td>\n",
       "      <td>1</td>\n",
       "      <td>1</td>\n",
       "      <td>1</td>\n",
       "      <td>2564.238950</td>\n",
       "      <td>0.004946, 8.3696, 53.79335</td>\n",
       "      <td>11.256956</td>\n",
       "      <td>66.000000</td>\n",
       "      <td>False</td>\n",
       "    </tr>\n",
       "    <tr>\n",
       "      <th>54</th>\n",
       "      <td>-488456.782222</td>\n",
       "      <td>1057</td>\n",
       "      <td>0</td>\n",
       "      <td>1</td>\n",
       "      <td>1</td>\n",
       "      <td>1</td>\n",
       "      <td>14426.374104</td>\n",
       "      <td>0.004946, 8.3696, 53.79335</td>\n",
       "      <td>21.000000</td>\n",
       "      <td>3281.166667</td>\n",
       "      <td>False</td>\n",
       "    </tr>\n",
       "    <tr>\n",
       "      <th>85</th>\n",
       "      <td>-485219.698889</td>\n",
       "      <td>37</td>\n",
       "      <td>0</td>\n",
       "      <td>1</td>\n",
       "      <td>1</td>\n",
       "      <td>1</td>\n",
       "      <td>370.239624</td>\n",
       "      <td>0.004946, 8.3696, 53.79335</td>\n",
       "      <td>0.000000</td>\n",
       "      <td>3237.083333</td>\n",
       "      <td>False</td>\n",
       "    </tr>\n",
       "  </tbody>\n",
       "</table>\n",
       "</div>"
      ],
      "text/plain": [
       "              tus   erg  typ  adr  dau  det           keV  \\\n",
       "16 -491943.976667   299    0    1    1    1   2998.481096   \n",
       "17 -491803.948889  1815    0    1    1    1  31537.854200   \n",
       "19 -491737.948889   260    0    1    1    1   2564.238950   \n",
       "54 -488456.782222  1057    0    1    1    1  14426.374104   \n",
       "85 -485219.698889    37    0    1    1    1    370.239624   \n",
       "\n",
       "                       cal_abc         st           dt   flag  \n",
       "16  0.004946, 8.3696, 53.79335  12.993924          NaN  False  \n",
       "17  0.004946, 8.3696, 53.79335  25.615142   140.027778  False  \n",
       "19  0.004946, 8.3696, 53.79335  11.256956    66.000000  False  \n",
       "54  0.004946, 8.3696, 53.79335  21.000000  3281.166667  False  \n",
       "85  0.004946, 8.3696, 53.79335   0.000000  3237.083333  False  "
      ]
     },
     "execution_count": 3,
     "metadata": {},
     "output_type": "execute_result"
    }
   ],
   "source": [
    "df,T0 = complete_df(\"GRB190206\")\n",
    "print(df.shape)\n",
    "df.head()"
   ]
  },
  {
   "cell_type": "markdown",
   "id": "b8dd0d7b-1de7-4f3b-98c8-3a7f0959e649",
   "metadata": {},
   "source": [
    "# filtering energy interval"
   ]
  },
  {
   "cell_type": "code",
   "execution_count": 4,
   "id": "2b973400-3888-4a09-862e-04206d8f457c",
   "metadata": {},
   "outputs": [],
   "source": [
    "# df is soreted by adr and then tus\n",
    "\n",
    "def filter_by_energy_interval(df,lower_bound,upper_bound):\n",
    "    \"\"\"lower and upper bound given in keV\"\"\"\n",
    "    \n",
    "    tus_arr = df[\"tus\"].to_numpy()\n",
    "    kev_arr = df[\"keV\"].to_numpy()\n",
    "    flag_arr = df[\"flag\"].to_numpy()\n",
    "    \n",
    "    \n",
    "    tus_temp, kev_temp = [],[]\n",
    "    print(\"selecting kev interval. Not including flagged events\")\n",
    "    for i,kev in enumerate(kev_arr):\n",
    "        if lower_bound <= kev <= upper_bound and flag_arr[i] != True:\n",
    "            kev_temp.append(kev)\n",
    "            tus_temp.append(tus_arr[i])\n",
    "        else:\n",
    "            continue\n",
    "\n",
    "    return np.array(tus_temp), np.array(kev_temp)\n",
    "    "
   ]
  },
  {
   "cell_type": "markdown",
   "id": "62b377d4-2156-4597-92b7-fb6a05063038",
   "metadata": {},
   "source": [
    "# background estimation"
   ]
  },
  {
   "cell_type": "code",
   "execution_count": 5,
   "id": "086f9479-a975-4899-a7c9-0e4663233578",
   "metadata": {},
   "outputs": [],
   "source": [
    "def estimate_background(tus,start=None,end=None,binsize=None):\n",
    "    \"\"\"Estimates background on a given interval.\n",
    "    Using histograms for estimation. \n",
    "    -Constant fit: sum(bin counts)/length(bins)\n",
    "    -Binsize given in ms\n",
    "    -indexing of the bins hist[start_idx, end_idx) >> up to but not including the end_idx bin\n",
    "    \"\"\"\n",
    " \n",
    "   \n",
    "    ####### histogram binning\n",
    "    \n",
    "    #Problem: how many bins should be included when one specifies an end time of the interval?\n",
    "    #Solution: find_nearest(edgde_bg,\n",
    "    \n",
    "    if binsize == None:\n",
    "        return print(\"binsize need to be specified\")\n",
    "    \n",
    "    hist = np.histogram(tus/1e3,bins=np.arange(\n",
    "            min(tus/1e3), max(tus/1e3) + binsize, binsize)) #binning in ms not us\n",
    "    \n",
    "    hist_bg = hist[0]\n",
    "    edges = hist[1] #array of position the hist bin start\n",
    "    \n",
    "    if start==\"start\" or start==None:\n",
    "        start_idx = 0\n",
    "    else:\n",
    "        start_idx = find_nearest(edges,start)\n",
    "        \n",
    "    if end == None:\n",
    "        return print(\"end index need to be specified\")\n",
    "    else:\n",
    "        end_idx = find_nearest(edges,end)\n",
    "        bg = round(sum(hist_bg[start_idx:end_idx])/len(hist_bg[start_idx:end_idx]))\n",
    "        print(\"bg avg:\", bg)\n",
    "        #bg = 220\n",
    "        hist_bg -= bg #subtracting background all bins.\n",
    "        \n",
    "    return hist[0], hist_bg, edges, bg"
   ]
  },
  {
   "cell_type": "code",
   "execution_count": null,
   "id": "00436413-2c3c-47d6-9f71-0375682cd0c8",
   "metadata": {},
   "outputs": [],
   "source": []
  },
  {
   "cell_type": "markdown",
   "id": "91411ee7-1c68-4688-9e76-d18aab3b4eb7",
   "metadata": {},
   "source": [
    "# generate plots"
   ]
  },
  {
   "cell_type": "code",
   "execution_count": 6,
   "id": "c03d93dc-9c39-407a-a41c-c7e0f0a3cedf",
   "metadata": {},
   "outputs": [],
   "source": [
    "def plots(grb_id=None, lower_bound=None, upper_bound=None, start=None, end=None, binsize=10):\n",
    "    '''Need plots for original image, filtered energy range with background marked, filtered with background removed\n",
    "    \n",
    "    Improvement: plot with and without the flagged events.\n",
    "\n",
    "    '''\n",
    "    \n",
    "    df,T0 = complete_df(grb_id)\n",
    "    tus = df[\"tus\"].to_numpy()\n",
    "    tus_filt, kev_filt = filter_by_energy_interval(df,lower_bound,upper_bound)\n",
    "    hist,hist_bg,edges,bg = estimate_background(tus_filt,start=start,end=end,binsize=binsize)\n",
    "    \n",
    "    \n",
    "    fig,(ax1,ax2,ax3) = plt.subplots(1,3,sharey=True,figsize=(16,6))\n",
    "    \n",
    "    ax1.hist(tus/1e3, bins=np.arange(\n",
    "            min(tus/1e3), max(tus/1e3) + binsize, binsize),edgecolor=\"black\",histtype=\"step\",label=\"photon list LC\")\n",
    "    \n",
    "    ax2.hist(tus_filt/1e3,bins=np.arange(\n",
    "        min(tus_filt/1e3), max(tus_filt/1e3) + binsize, binsize),edgecolor= \"black\", histtype=\"step\",label=\"Energy range {}-{} keV\".format(round(min(kev_filt)),\n",
    "                                                                                                                             round(max(kev_filt))))\n",
    "    ax2.axhline(bg,c=\"r\",label=\"Background: {} counts/bin \\n Background interval [{},{}] ms\".format(bg,start,end))\n",
    "    \n",
    "    ax3.bar(edges[:-1], hist_bg ,width=np.diff(edges), edgecolor=\"black\", align=\"edge\",color=\"black\",label=\"Background subtracted. \\n Energy range {}-{} keV\".format(round(min(kev_filt)),\n",
    "                                                                                                                             round(max(kev_filt)))) #np.diff gives the diff pr bin (constant=binsize)\n",
    "\n",
    "    ax1.legend(), ax2.legend(), ax3.legend()\n",
    "    ax1.set_xlabel(\"T-T0 [ms], binsize = {} ms\".format((binsize))),ax2.set_xlabel(\"T-T0 [ms], binsize = {} ms\".format((binsize)))\n",
    "    ax3.set_xlabel(\"T-T0 [ms], binsize = {} ms\".format((binsize)))\n",
    "    \n",
    "    \n",
    "    date_id = datetime.strftime(T0,format='%y%m%d') #Correct format for title of plot: GRBYYMMDD\n",
    "    time_id = datetime.strftime(T0,format='%H:%M:%S.%f')[0:12]\n",
    "    grb_id_title = \"GRB \" + date_id\n",
    "    plt.suptitle(grb_id_title + \" , \" + \"T0 = \" + time_id)\n",
    "    fig.tight_layout()\n",
    "    plt.show()\n",
    "    "
   ]
  },
  {
   "cell_type": "code",
   "execution_count": 7,
   "id": "e7a78f54-37d9-44ff-a0e7-2dc321e5d754",
   "metadata": {},
   "outputs": [
    {
     "name": "stdout",
     "output_type": "stream",
     "text": [
      "Absolute time correction subtracted from tus array and T0\n",
      "erg converted to keV\n",
      "df sorted by adr and tus\n",
      "safety time events flagged. Found 303 flags\n",
      "selecting kev interval. Not including flagged events\n",
      "bg avg: 6\n"
     ]
    },
    {
     "data": {
      "image/png": "[encoded data removed]",
      "text/plain": [
       "<Figure size 1152x432 with 3 Axes>"
      ]
     },
     "metadata": {},
     "output_type": "display_data"
    }
   ],
   "source": [
    "plots(grb_id=\"GRB200415\",lower_bound=350,upper_bound=1500,start=-750,end=-20,binsize=2)"
   ]
  },
  {
   "cell_type": "code",
   "execution_count": 8,
   "id": "0462c93b-7a0f-45e6-982a-216daea9d830",
   "metadata": {},
   "outputs": [],
   "source": [
    "def plot_flagged(grb_id,binsize):\n",
    "    '''Must be improved'''\n",
    "    df,T0 = complete_df(grb_id)\n",
    "    \n",
    "    tus_flagged = get_flagged()\n",
    "    \n",
    "    "
   ]
  },
  {
   "cell_type": "code",
   "execution_count": 9,
   "id": "232dcb67-3405-4f97-9b98-a0be6ef6e689",
   "metadata": {},
   "outputs": [
    {
     "name": "stdout",
     "output_type": "stream",
     "text": [
      "Absolute time correction subtracted from tus array and T0\n",
      "erg converted to keV\n",
      "df sorted by adr and tus\n",
      "safety time events flagged. Found 303 flags\n"
     ]
    },
    {
     "data": {
      "text/plain": [
       "303"
      ]
     },
     "execution_count": 9,
     "metadata": {},
     "output_type": "execute_result"
    }
   ],
   "source": [
    "df,T0 = complete_df(\"GRB200415\")\n",
    "sum(df[\"flag\"].to_numpy())"
   ]
  },
  {
   "cell_type": "code",
   "execution_count": 10,
   "id": "94231e39-9ebf-4093-ba35-aab5e28d6062",
   "metadata": {},
   "outputs": [
    {
     "data": {
      "text/plain": [
       "(14610, 11)"
      ]
     },
     "execution_count": 10,
     "metadata": {},
     "output_type": "execute_result"
    }
   ],
   "source": [
    "df.shape"
   ]
  }
 ],
 "metadata": {
  "kernelspec": {
   "display_name": "Python 3 (ipykernel)",
   "language": "python",
   "name": "python3"
  },
  "language_info": {
   "codemirror_mode": {
    "name": "ipython",
    "version": 3
   },
   "file_extension": ".py",
   "mimetype": "text/x-python",
   "name": "python",
   "nbconvert_exporter": "python",
   "pygments_lexer": "ipython3",
   "version": "3.9.13"
  }
 },
 "nbformat": 4,
 "nbformat_minor": 5
}
