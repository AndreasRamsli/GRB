{
 "cells": [
  {
   "cell_type": "code",
   "execution_count": 42,
   "id": "8b99d9bf-0bf5-4aa3-99d4-28ba8524e374",
   "metadata": {},
   "outputs": [
    {
     "name": "stdout",
     "output_type": "stream",
     "text": [
      "read_matlab_file.ipynb loaded\n",
      "read_matlab_file.ipynb loaded\n",
      "convert_erg.ipynb loaded\n",
      "read_matlab_file.ipynb loaded\n",
      "read_matlab_file.ipynb loaded\n",
      "convert_erg.ipynb loaded\n"
     ]
    }
   ],
   "source": [
    "import numpy as np\n",
    "import matplotlib.pyplot as plt\n",
    "from datetime import datetime, timedelta\n",
    "%run read_matlab_file.ipynb\n",
    "%run convert_erg.ipynb\n",
    "%run safety_time.ipynb"
   ]
  },
  {
   "cell_type": "markdown",
   "id": "72562ed0-57c1-476f-8199-317134ac4190",
   "metadata": {},
   "source": [
    "# TODO\n",
    "\n",
    "-Problem: with convert_erg(): It uses the dau array from GRB200415 (?). Should be assigned to the specific GRB! \n",
    "SOLUTION: pass in dau and det as arguments!\n",
    "\n",
    "\n",
    "Rebin the data based on given energy interval, subtract background in the given energy interval.\n",
    "\n",
    "Implement in this script the previous functions that implement: absolute time correction, energy calibration, flagging of events\n",
    "\n",
    "Should have the dataset that have implemented the functions above"
   ]
  },
  {
   "cell_type": "code",
   "execution_count": 43,
   "id": "16994c1b-baaf-4921-a5e6-3ecfda70a791",
   "metadata": {},
   "outputs": [
    {
     "name": "stdout",
     "output_type": "stream",
     "text": [
      "Absolute time correction subtracted from tus array and T0\n",
      "24587\n",
      "24587\n",
      "24587\n",
      "erg converted to keV\n",
      "df sorted by adr and tus\n",
      "safety time events flagged\n",
      "found 287 flags\n",
      "(24587, 11)\n"
     ]
    },
    {
     "data": {
      "text/html": [
       "<div>\n",
       "<style scoped>\n",
       "    .dataframe tbody tr th:only-of-type {\n",
       "        vertical-align: middle;\n",
       "    }\n",
       "\n",
       "    .dataframe tbody tr th {\n",
       "        vertical-align: top;\n",
       "    }\n",
       "\n",
       "    .dataframe thead th {\n",
       "        text-align: right;\n",
       "    }\n",
       "</style>\n",
       "<table border=\"1\" class=\"dataframe\">\n",
       "  <thead>\n",
       "    <tr style=\"text-align: right;\">\n",
       "      <th></th>\n",
       "      <th>tus</th>\n",
       "      <th>erg</th>\n",
       "      <th>typ</th>\n",
       "      <th>adr</th>\n",
       "      <th>dau</th>\n",
       "      <th>det</th>\n",
       "      <th>keV</th>\n",
       "      <th>cal_abc</th>\n",
       "      <th>st</th>\n",
       "      <th>dt</th>\n",
       "      <th>flag</th>\n",
       "    </tr>\n",
       "  </thead>\n",
       "  <tbody>\n",
       "    <tr>\n",
       "      <th>16</th>\n",
       "      <td>-491943.976667</td>\n",
       "      <td>299</td>\n",
       "      <td>0</td>\n",
       "      <td>1</td>\n",
       "      <td>1</td>\n",
       "      <td>1</td>\n",
       "      <td>2998.481096</td>\n",
       "      <td>0.004946, 8.3696, 53.79335</td>\n",
       "      <td>12.993924</td>\n",
       "      <td>NaN</td>\n",
       "      <td>False</td>\n",
       "    </tr>\n",
       "    <tr>\n",
       "      <th>17</th>\n",
       "      <td>-491803.948889</td>\n",
       "      <td>1815</td>\n",
       "      <td>0</td>\n",
       "      <td>1</td>\n",
       "      <td>1</td>\n",
       "      <td>1</td>\n",
       "      <td>31537.854200</td>\n",
       "      <td>0.004946, 8.3696, 53.79335</td>\n",
       "      <td>25.615142</td>\n",
       "      <td>140.027778</td>\n",
       "      <td>False</td>\n",
       "    </tr>\n",
       "    <tr>\n",
       "      <th>19</th>\n",
       "      <td>-491737.948889</td>\n",
       "      <td>260</td>\n",
       "      <td>0</td>\n",
       "      <td>1</td>\n",
       "      <td>1</td>\n",
       "      <td>1</td>\n",
       "      <td>2564.238950</td>\n",
       "      <td>0.004946, 8.3696, 53.79335</td>\n",
       "      <td>11.256956</td>\n",
       "      <td>66.000000</td>\n",
       "      <td>False</td>\n",
       "    </tr>\n",
       "    <tr>\n",
       "      <th>54</th>\n",
       "      <td>-488456.782222</td>\n",
       "      <td>1057</td>\n",
       "      <td>0</td>\n",
       "      <td>1</td>\n",
       "      <td>1</td>\n",
       "      <td>1</td>\n",
       "      <td>14426.374104</td>\n",
       "      <td>0.004946, 8.3696, 53.79335</td>\n",
       "      <td>21.000000</td>\n",
       "      <td>3281.166667</td>\n",
       "      <td>False</td>\n",
       "    </tr>\n",
       "    <tr>\n",
       "      <th>84</th>\n",
       "      <td>-485219.698889</td>\n",
       "      <td>37</td>\n",
       "      <td>0</td>\n",
       "      <td>1</td>\n",
       "      <td>1</td>\n",
       "      <td>1</td>\n",
       "      <td>370.239624</td>\n",
       "      <td>0.004946, 8.3696, 53.79335</td>\n",
       "      <td>0.000000</td>\n",
       "      <td>3237.083333</td>\n",
       "      <td>False</td>\n",
       "    </tr>\n",
       "  </tbody>\n",
       "</table>\n",
       "</div>"
      ],
      "text/plain": [
       "              tus   erg  typ  adr  dau  det           keV  \\\n",
       "16 -491943.976667   299    0    1    1    1   2998.481096   \n",
       "17 -491803.948889  1815    0    1    1    1  31537.854200   \n",
       "19 -491737.948889   260    0    1    1    1   2564.238950   \n",
       "54 -488456.782222  1057    0    1    1    1  14426.374104   \n",
       "84 -485219.698889    37    0    1    1    1    370.239624   \n",
       "\n",
       "                       cal_abc         st           dt   flag  \n",
       "16  0.004946, 8.3696, 53.79335  12.993924          NaN  False  \n",
       "17  0.004946, 8.3696, 53.79335  25.615142   140.027778  False  \n",
       "19  0.004946, 8.3696, 53.79335  11.256956    66.000000  False  \n",
       "54  0.004946, 8.3696, 53.79335  21.000000  3281.166667  False  \n",
       "84  0.004946, 8.3696, 53.79335   0.000000  3237.083333  False  "
      ]
     },
     "execution_count": 43,
     "metadata": {},
     "output_type": "execute_result"
    }
   ],
   "source": [
    "df = complete_df(\"GRB190206\")\n",
    "print(df.shape)\n",
    "df.head()"
   ]
  },
  {
   "cell_type": "code",
   "execution_count": null,
   "id": "eb00f228-9d81-4ba4-911e-8f6acfdce1b3",
   "metadata": {},
   "outputs": [],
   "source": [
    "keV,cal_abc = convert_erg(erg,T0)"
   ]
  },
  {
   "cell_type": "code",
   "execution_count": 40,
   "id": "90af2322-0cb6-42fb-98c5-fc63bcb037e7",
   "metadata": {},
   "outputs": [],
   "source": [
    "def complete_df(grb_id):\n",
    "    if len(trig_dict_HED[grb_id])>1:\n",
    "        return print(\"long grb, handle later\")\n",
    "    else:\n",
    "        tus, erg, typ, adr, dau, det, T0 = read_matlab_file_with_BGO_data(trig_dict_HED[grb_id][0])\n",
    "        keV,cal_abc = convert_erg(erg, dau, det, T0)\n",
    "        print(\"erg converted to keV\")\n",
    "        df = create_df(tus,erg,typ,adr,dau,det,keV,cal_abc)\n",
    "        df = df.sort_values(by=['adr','tus']) #important to sort first by the adr then tus --> Handling the triggers in each detector seperate\n",
    "        print(\"df sorted by adr and tus\")\n",
    "        #Creating columns for st, dt and flag\n",
    "        st_list = get_st(df)\n",
    "        df[\"st\"] = st_list\n",
    "        \n",
    "        dt_list = get_dt(df)\n",
    "        df[\"dt\"] = dt_list\n",
    "        \n",
    "        flag = get_flag(df) #should also flag fast events!\n",
    "        df[\"flag\"] = flag\n",
    "        \n",
    "        print(\"safety time events flagged.\" + \"found \" + str(sum(df[\"flag\"].to_numpy())) + \" flags\")\n",
    "        print( )\n",
    "        return df"
   ]
  },
  {
   "cell_type": "code",
   "execution_count": 27,
   "id": "7e1085a2-2aa4-4232-a14d-eddae8a21bc2",
   "metadata": {},
   "outputs": [
    {
     "name": "stdout",
     "output_type": "stream",
     "text": [
      "14494\n"
     ]
    }
   ],
   "source": [
    "print(len(dau))"
   ]
  },
  {
   "cell_type": "code",
   "execution_count": 39,
   "id": "9db67110-d2b2-4f24-8a4c-7fb608698704",
   "metadata": {},
   "outputs": [
    {
     "data": {
      "text/plain": [
       "287"
      ]
     },
     "execution_count": 39,
     "metadata": {},
     "output_type": "execute_result"
    }
   ],
   "source": [
    "sum(df[\"flag\"].to_numpy())"
   ]
  },
  {
   "cell_type": "code",
   "execution_count": null,
   "id": "955292f8-dc9e-4e4c-a218-194ed9481ce9",
   "metadata": {},
   "outputs": [],
   "source": []
  }
 ],
 "metadata": {
  "kernelspec": {
   "display_name": "Python 3 (ipykernel)",
   "language": "python",
   "name": "python3"
  },
  "language_info": {
   "codemirror_mode": {
    "name": "ipython",
    "version": 3
   },
   "file_extension": ".py",
   "mimetype": "text/x-python",
   "name": "python",
   "nbconvert_exporter": "python",
   "pygments_lexer": "ipython3",
   "version": "3.9.13"
  }
 },
 "nbformat": 4,
 "nbformat_minor": 5
}
